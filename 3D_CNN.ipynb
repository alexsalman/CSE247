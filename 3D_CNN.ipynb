{
  "cells": [
    {
      "cell_type": "markdown",
      "metadata": {
        "id": "view-in-github",
        "colab_type": "text"
      },
      "source": [
        "<a href=\"https://colab.research.google.com/github/alexsalman/CSE247/blob/main/3D_CNN.ipynb\" target=\"_parent\"><img src=\"https://colab.research.google.com/assets/colab-badge.svg\" alt=\"Open In Colab\"/></a>"
      ]
    },
    {
      "cell_type": "markdown",
      "metadata": {
        "id": "Kk7I8NauauE3"
      },
      "source": [
        "####**3D Convolutional Neural Network**\n",
        "######*I am using 3D Convolutional Neural Network to extract the temporal and spatial information which are merged slowly throughout the whole network.*"
      ]
    },
    {
      "cell_type": "code",
      "execution_count": 1,
      "metadata": {
        "colab": {
          "base_uri": "https://localhost:8080/"
        },
        "id": "M8ibtd5HKtZk",
        "outputId": "25174912-a710-4ed2-b5a8-15069ee6464e"
      },
      "outputs": [
        {
          "output_type": "stream",
          "name": "stdout",
          "text": [
            "2.8.0\n"
          ]
        }
      ],
      "source": [
        "# required libraries\n",
        "import os\n",
        "import cv2\n",
        "import random\n",
        "import numpy as np\n",
        "import datetime as dt\n",
        "import matplotlib.pyplot as plt\n",
        "from google.colab import drive\n",
        "from sklearn.model_selection import train_test_split\n",
        "import tensorflow as tf\n",
        "from tensorflow import keras\n",
        "from keras.models import Sequential\n",
        "from keras.layers import Dense, Flatten, Conv3D, MaxPooling3D, Dropout\n",
        "from keras.layers import BatchNormalization, GlobalAveragePooling3D\n",
        "from keras import regularizers\n",
        "%matplotlib inline\n",
        "print(tf.version.VERSION)"
      ]
    },
    {
      "cell_type": "code",
      "execution_count": 2,
      "metadata": {
        "id": "iffdFOf1CEAN"
      },
      "outputs": [],
      "source": [
        "# set Numpy, Python, and Tensorflow seeds to get consistent results on every execution\n",
        "seed_constant = 27\n",
        "np.random.seed(seed_constant)\n",
        "random.seed(seed_constant)\n",
        "tf.random.set_seed(seed_constant)"
      ]
    },
    {
      "cell_type": "code",
      "execution_count": 3,
      "metadata": {
        "colab": {
          "base_uri": "https://localhost:8080/",
          "height": 53
        },
        "id": "mcLh22LiOHyn",
        "outputId": "0659b853-9118-4d4f-9eb8-93e47842a424"
      },
      "outputs": [
        {
          "output_type": "stream",
          "name": "stdout",
          "text": [
            "Mounted at /content/gdrive/\n"
          ]
        },
        {
          "output_type": "execute_result",
          "data": {
            "text/plain": [
              "'/content/gdrive/My Drive/247'"
            ],
            "application/vnd.google.colaboratory.intrinsic+json": {
              "type": "string"
            }
          },
          "metadata": {},
          "execution_count": 3
        }
      ],
      "source": [
        "# mount dataset from google drive\n",
        "drive.mount('/content/gdrive/', force_remount=True)\n",
        "gdrive_path = '/content/gdrive' + '/My Drive/247/'\n",
        "os.chdir(gdrive_path)\n",
        "os.getcwd()"
      ]
    },
    {
      "cell_type": "code",
      "execution_count": 4,
      "metadata": {
        "id": "oeDK8SzumZ1Q"
      },
      "outputs": [],
      "source": [
        "# frame dimention\n",
        "IMAGE_HEIGHT, IMAGE_WIDTH = 128, 128\n",
        "# frame number for each video (depth)\n",
        "SEQUENCE_LENGTH = 16\n",
        "# video dir path\n",
        "DATASET_DIR = gdrive_path + 'Cropped_videos'\n",
        "# labels of classes\n",
        "CLASSES_LIST = ['hemostasis', 'inflammatory', 'proliferative', 'maturation']"
      ]
    },
    {
      "cell_type": "code",
      "execution_count": 5,
      "metadata": {
        "id": "HUTeIqzpZc9J"
      },
      "outputs": [],
      "source": [
        "# image cropping\n",
        "def crop_center_square(frame):\n",
        "    y, x = frame.shape[0:2]\n",
        "    min_dim = min(y, x)\n",
        "    start_x = (x // 2) - (min_dim // 2)\n",
        "    start_y = (y // 2) - (min_dim // 2)\n",
        "    return frame[start_y:start_y+min_dim,start_x:start_x+min_dim]"
      ]
    },
    {
      "cell_type": "code",
      "execution_count": 6,
      "metadata": {
        "id": "QRDbHG0TZkYJ"
      },
      "outputs": [],
      "source": [
        "def load_video(path, resize=(128, 128)):\n",
        "    video_reader = cv2.VideoCapture(path)\n",
        "    frames = []\n",
        "    try:\n",
        "        while True:\n",
        "            ret, frame = video_reader.read()\n",
        "            if not ret:\n",
        "                  break\n",
        "            # frame = crop_center_square(frame)\n",
        "            frame = cv2.resize(frame, resize)\n",
        "            frame = frame[:, :, [2, 1, 0]]\n",
        "            black_frame = frame\n",
        "            frames.append(frame)\n",
        "    finally:\n",
        "        video_reader.release()\n",
        "    return np.array(frames) / 255.0"
      ]
    },
    {
      "cell_type": "code",
      "execution_count": 7,
      "metadata": {
        "id": "ljUWHW6Jqzu-"
      },
      "outputs": [],
      "source": [
        "def create_dataset(state):\n",
        "    # Declared Empty Lists to store the features, labels and video file path values.\n",
        "    features = []\n",
        "    labels = []\n",
        "    video_files_paths = []\n",
        "    # Iterating through all the classes mentioned in the classes list\n",
        "    for class_index, class_name in enumerate(CLASSES_LIST):\n",
        "        # Display the name of the class whose data is being extracted.\n",
        "        print(f'Extracting Data of Class: {class_name} {state}')\n",
        "        # Get the list of video files present in the specific class name directory.\n",
        "        files_list = os.listdir(os.path.join(DATASET_DIR, class_name))\n",
        "        # Iterate through all the files present in the files list.\n",
        "        for file_name in files_list:\n",
        "            # Get the complete video path.\n",
        "            video_file_path = os.path.join(DATASET_DIR, class_name, file_name)\n",
        "            # create testing data\n",
        "            if state == 'test':\n",
        "                # get the mouse number\n",
        "                mouse_number = int(video_file_path.split(' ')[2].split('_')[1].split('-')[1])\n",
        "                # get the mouse side (L or R)\n",
        "                mouse_side = video_file_path.split(' ')[2].split('_')[1].split('-')[2]\n",
        "                if mouse_number == 4 and mouse_side == 'L':\n",
        "                    frames = load_video(video_file_path)\n",
        "                    features.append(frames)\n",
        "                    labels.append(class_index)\n",
        "                    video_files_paths.append(video_file_path)\n",
        "            # create validation data\n",
        "            elif state == 'valid':\n",
        "                # get the mouse number\n",
        "                mouse_number = int(video_file_path.split(' ')[2].split('_')[1].split('-')[1])\n",
        "                # get the mouse side (L or R)\n",
        "                mouse_side = video_file_path.split(' ')[2].split('_')[1].split('-')[2]\n",
        "                if mouse_number == 4 and mouse_side == 'R':\n",
        "                    frames = load_video(video_file_path)\n",
        "                    features.append(frames)\n",
        "                    labels.append(class_index)\n",
        "                    video_files_paths.append(video_file_path)\n",
        "            # create training data\n",
        "            else:\n",
        "                # get the mouse number\n",
        "                mouse_number = int(video_file_path.split(' ')[2].split('_')[1].split('-')[1])\n",
        "                if mouse_number != 4:\n",
        "                    frames = load_video(video_file_path)\n",
        "                    features.append(frames)\n",
        "                    labels.append(class_index)\n",
        "                    video_files_paths.append(video_file_path)\n",
        "    # Converting the list to numpy arrays\n",
        "    features = np.asarray(features)\n",
        "    # print(features)\n",
        "    labels = np.array(labels)\n",
        "    # Return the frames, class index, and video file path.\n",
        "    return features, labels, video_files_paths"
      ]
    },
    {
      "cell_type": "code",
      "execution_count": 8,
      "metadata": {
        "colab": {
          "base_uri": "https://localhost:8080/"
        },
        "id": "a8rpanz9rASe",
        "outputId": "aec154cc-2217-4c85-f4ce-218b8062db6f"
      },
      "outputs": [
        {
          "output_type": "stream",
          "name": "stdout",
          "text": [
            "Extracting Data of Class: hemostasis train\n",
            "Extracting Data of Class: inflammatory train\n",
            "Extracting Data of Class: proliferative train\n",
            "Extracting Data of Class: maturation train\n",
            "Extracting Data of Class: hemostasis test\n",
            "Extracting Data of Class: inflammatory test\n",
            "Extracting Data of Class: proliferative test\n",
            "Extracting Data of Class: maturation test\n",
            "Extracting Data of Class: hemostasis valid\n",
            "Extracting Data of Class: inflammatory valid\n",
            "Extracting Data of Class: proliferative valid\n",
            "Extracting Data of Class: maturation valid\n"
          ]
        }
      ],
      "source": [
        "# 6 mice for training, 2 mice for test and validation (one wound on each mice for test one for validation)\n",
        "features_train, labels_train, video_files_paths_train = create_dataset('train')\n",
        "features_test, labels_test, video_files_paths_test = create_dataset('test')\n",
        "features_valid, labels_valid, video_files_paths_valid = create_dataset('valid')"
      ]
    },
    {
      "cell_type": "code",
      "execution_count": 9,
      "metadata": {
        "id": "dtJkK4qTAulC"
      },
      "outputs": [],
      "source": [
        "# labels to catogorical\n",
        "labels_train = keras.utils.to_categorical(labels_train)\n",
        "labels_test = keras.utils.to_categorical(labels_test)\n",
        "labels_valid = keras.utils.to_categorical(labels_valid)"
      ]
    },
    {
      "cell_type": "code",
      "execution_count": 10,
      "metadata": {
        "id": "N-9ykP4ig7IW"
      },
      "outputs": [],
      "source": [
        "def create_3D_CNN_model():\n",
        "    sample_shape = (16, 128, 128, 3)\n",
        "    model = Sequential()\n",
        "\n",
        "    model.add(Conv3D(16, (3,3,3), activation='relu', kernel_initializer='he_uniform',\n",
        "                     kernel_regularizer=regularizers.L2(l2=1e-4),\n",
        "                     input_shape=sample_shape))\n",
        "    model.add(MaxPooling3D(2))\n",
        "    model.add(Dropout(0.3))\n",
        "\n",
        "    model.add(Conv3D(32, (3,3,3), activation='relu', kernel_initializer='he_uniform',\n",
        "                     kernel_regularizer=regularizers.L2(l2=1e-4)))\n",
        "    model.add(MaxPooling3D(2))\n",
        "    model.add(Dropout(0.3))\n",
        "\n",
        "    model.add(GlobalAveragePooling3D())\n",
        "    model.add(Dropout(0.3))\n",
        "\n",
        "    model.add(Dense(16, activation='relu', kernel_initializer='he_uniform',\n",
        "                    kernel_regularizer=regularizers.L2(l2=1e-4)))\n",
        "    model.add(Dropout(0.4))\n",
        "\n",
        "    model.add(Dense(8, activation='relu', kernel_initializer='he_uniform',\n",
        "                    kernel_regularizer=regularizers.L2(l2=1e-4)))\n",
        "\n",
        "    model.add(Dense(len(CLASSES_LIST), activation='softmax'))\n",
        "\n",
        "    model.summary(line_length = 125)\n",
        "\n",
        "    return model"
      ]
    },
    {
      "cell_type": "code",
      "execution_count": 11,
      "metadata": {
        "colab": {
          "base_uri": "https://localhost:8080/"
        },
        "id": "Z4_GxXZBcHlB",
        "outputId": "4ce0b74e-b540-49f9-dd63-a5c3a3f5d51c"
      },
      "outputs": [
        {
          "output_type": "stream",
          "name": "stdout",
          "text": [
            "Model: \"sequential\"\n",
            "_____________________________________________________________________________________________________________________________\n",
            " Layer (type)                                           Output Shape                                      Param #            \n",
            "=============================================================================================================================\n",
            " conv3d (Conv3D)                                        (None, 14, 126, 126, 16)                          1312               \n",
            "                                                                                                                             \n",
            " max_pooling3d (MaxPooling3D)                           (None, 7, 63, 63, 16)                             0                  \n",
            "                                                                                                                             \n",
            " dropout (Dropout)                                      (None, 7, 63, 63, 16)                             0                  \n",
            "                                                                                                                             \n",
            " conv3d_1 (Conv3D)                                      (None, 5, 61, 61, 32)                             13856              \n",
            "                                                                                                                             \n",
            " max_pooling3d_1 (MaxPooling3D)                         (None, 2, 30, 30, 32)                             0                  \n",
            "                                                                                                                             \n",
            " dropout_1 (Dropout)                                    (None, 2, 30, 30, 32)                             0                  \n",
            "                                                                                                                             \n",
            " global_average_pooling3d (GlobalAveragePooling3D)      (None, 32)                                        0                  \n",
            "                                                                                                                             \n",
            " dropout_2 (Dropout)                                    (None, 32)                                        0                  \n",
            "                                                                                                                             \n",
            " dense (Dense)                                          (None, 16)                                        528                \n",
            "                                                                                                                             \n",
            " dropout_3 (Dropout)                                    (None, 16)                                        0                  \n",
            "                                                                                                                             \n",
            " dense_1 (Dense)                                        (None, 8)                                         136                \n",
            "                                                                                                                             \n",
            " dense_2 (Dense)                                        (None, 4)                                         36                 \n",
            "                                                                                                                             \n",
            "=============================================================================================================================\n",
            "Total params: 15,868\n",
            "Trainable params: 15,868\n",
            "Non-trainable params: 0\n",
            "_____________________________________________________________________________________________________________________________\n",
            "Model Created Successfully!\n"
          ]
        }
      ],
      "source": [
        "# Construct the required convlstm model.\n",
        "model = create_3D_CNN_model()\n",
        " \n",
        "# Display the success message. \n",
        "print(\"Model Created Successfully!\")"
      ]
    },
    {
      "cell_type": "code",
      "execution_count": 12,
      "metadata": {
        "colab": {
          "base_uri": "https://localhost:8080/"
        },
        "id": "MwYEkaYLoyb_",
        "outputId": "6a990a19-b400-4be3-fbe8-5de75beca91f"
      },
      "outputs": [
        {
          "output_type": "stream",
          "name": "stdout",
          "text": [
            "Epoch 1/100\n",
            "30/30 [==============================] - 8s 188ms/step - loss: 1.5540 - accuracy: 0.2488 - val_loss: 1.3281 - val_accuracy: 0.4743\n",
            "Epoch 2/100\n",
            "30/30 [==============================] - 4s 145ms/step - loss: 1.3152 - accuracy: 0.3985 - val_loss: 1.2665 - val_accuracy: 0.4816\n",
            "Epoch 3/100\n",
            "30/30 [==============================] - 4s 146ms/step - loss: 1.2527 - accuracy: 0.4295 - val_loss: 1.1837 - val_accuracy: 0.4853\n",
            "Epoch 4/100\n",
            "30/30 [==============================] - 4s 146ms/step - loss: 1.2017 - accuracy: 0.4443 - val_loss: 1.1472 - val_accuracy: 0.4743\n",
            "Epoch 5/100\n",
            "30/30 [==============================] - 4s 145ms/step - loss: 1.1783 - accuracy: 0.4579 - val_loss: 1.1063 - val_accuracy: 0.4559\n",
            "Epoch 6/100\n",
            "30/30 [==============================] - 4s 145ms/step - loss: 1.1057 - accuracy: 0.5111 - val_loss: 1.0467 - val_accuracy: 0.4706\n",
            "Epoch 7/100\n",
            "30/30 [==============================] - 4s 147ms/step - loss: 1.0462 - accuracy: 0.5464 - val_loss: 0.9794 - val_accuracy: 0.5993\n",
            "Epoch 8/100\n",
            "30/30 [==============================] - 4s 146ms/step - loss: 1.0057 - accuracy: 0.5483 - val_loss: 0.9423 - val_accuracy: 0.5588\n",
            "Epoch 9/100\n",
            "30/30 [==============================] - 4s 148ms/step - loss: 0.9537 - accuracy: 0.5693 - val_loss: 0.9145 - val_accuracy: 0.5919\n",
            "Epoch 10/100\n",
            "30/30 [==============================] - 4s 146ms/step - loss: 0.9341 - accuracy: 0.5774 - val_loss: 0.8651 - val_accuracy: 0.5956\n",
            "Epoch 11/100\n",
            "30/30 [==============================] - 4s 146ms/step - loss: 0.9165 - accuracy: 0.5656 - val_loss: 0.8800 - val_accuracy: 0.6140\n",
            "Epoch 12/100\n",
            "30/30 [==============================] - 4s 145ms/step - loss: 0.9103 - accuracy: 0.5823 - val_loss: 0.8663 - val_accuracy: 0.6324\n",
            "Epoch 13/100\n",
            "30/30 [==============================] - 4s 146ms/step - loss: 0.8959 - accuracy: 0.5712 - val_loss: 0.8228 - val_accuracy: 0.6029\n",
            "Epoch 14/100\n",
            "30/30 [==============================] - 4s 147ms/step - loss: 0.8435 - accuracy: 0.6163 - val_loss: 0.8107 - val_accuracy: 0.6360\n",
            "Epoch 15/100\n",
            "30/30 [==============================] - 4s 146ms/step - loss: 0.8292 - accuracy: 0.6040 - val_loss: 0.7911 - val_accuracy: 0.5993\n",
            "Epoch 16/100\n",
            "30/30 [==============================] - 4s 146ms/step - loss: 0.8286 - accuracy: 0.6188 - val_loss: 0.8082 - val_accuracy: 0.5993\n",
            "Epoch 17/100\n",
            "30/30 [==============================] - 4s 146ms/step - loss: 0.8268 - accuracy: 0.6139 - val_loss: 0.8014 - val_accuracy: 0.6287\n",
            "Epoch 18/100\n",
            "30/30 [==============================] - 4s 145ms/step - loss: 0.8078 - accuracy: 0.6250 - val_loss: 0.7641 - val_accuracy: 0.6544\n",
            "Epoch 19/100\n",
            "30/30 [==============================] - 4s 146ms/step - loss: 0.7814 - accuracy: 0.6330 - val_loss: 0.7730 - val_accuracy: 0.5993\n",
            "Epoch 20/100\n",
            "30/30 [==============================] - 4s 149ms/step - loss: 0.7939 - accuracy: 0.6312 - val_loss: 0.7742 - val_accuracy: 0.6765\n",
            "Epoch 21/100\n",
            "30/30 [==============================] - 4s 147ms/step - loss: 0.7778 - accuracy: 0.6244 - val_loss: 0.7731 - val_accuracy: 0.6029\n",
            "Epoch 22/100\n",
            "30/30 [==============================] - 4s 146ms/step - loss: 0.7657 - accuracy: 0.6609 - val_loss: 0.7587 - val_accuracy: 0.6103\n",
            "Epoch 23/100\n",
            "30/30 [==============================] - 4s 146ms/step - loss: 0.7587 - accuracy: 0.6491 - val_loss: 0.7491 - val_accuracy: 0.6691\n",
            "Epoch 24/100\n",
            "30/30 [==============================] - 4s 145ms/step - loss: 0.7569 - accuracy: 0.6572 - val_loss: 0.7653 - val_accuracy: 0.6360\n",
            "Epoch 25/100\n",
            "30/30 [==============================] - 4s 146ms/step - loss: 0.7765 - accuracy: 0.6460 - val_loss: 0.7516 - val_accuracy: 0.6213\n",
            "Epoch 26/100\n",
            "30/30 [==============================] - 4s 147ms/step - loss: 0.7495 - accuracy: 0.6609 - val_loss: 0.7408 - val_accuracy: 0.6654\n",
            "Epoch 27/100\n",
            "30/30 [==============================] - 4s 146ms/step - loss: 0.7282 - accuracy: 0.6603 - val_loss: 0.7323 - val_accuracy: 0.6581\n",
            "Epoch 28/100\n",
            "30/30 [==============================] - 4s 146ms/step - loss: 0.7220 - accuracy: 0.6553 - val_loss: 0.7290 - val_accuracy: 0.6801\n",
            "Epoch 29/100\n",
            "30/30 [==============================] - 4s 146ms/step - loss: 0.7153 - accuracy: 0.6745 - val_loss: 0.7319 - val_accuracy: 0.6875\n",
            "Epoch 30/100\n",
            "30/30 [==============================] - 4s 146ms/step - loss: 0.7191 - accuracy: 0.6652 - val_loss: 0.7153 - val_accuracy: 0.7243\n",
            "Epoch 31/100\n",
            "30/30 [==============================] - 4s 146ms/step - loss: 0.7228 - accuracy: 0.6788 - val_loss: 0.7232 - val_accuracy: 0.7206\n",
            "Epoch 32/100\n",
            "30/30 [==============================] - 4s 147ms/step - loss: 0.7037 - accuracy: 0.6825 - val_loss: 0.7075 - val_accuracy: 0.7169\n",
            "Epoch 33/100\n",
            "30/30 [==============================] - 4s 146ms/step - loss: 0.6948 - accuracy: 0.6751 - val_loss: 0.7017 - val_accuracy: 0.7243\n",
            "Epoch 34/100\n",
            "30/30 [==============================] - 4s 148ms/step - loss: 0.6817 - accuracy: 0.6850 - val_loss: 0.6901 - val_accuracy: 0.7169\n",
            "Epoch 35/100\n",
            "30/30 [==============================] - 4s 146ms/step - loss: 0.6880 - accuracy: 0.6832 - val_loss: 0.7088 - val_accuracy: 0.6912\n",
            "Epoch 36/100\n",
            "30/30 [==============================] - 4s 146ms/step - loss: 0.6726 - accuracy: 0.7085 - val_loss: 0.6782 - val_accuracy: 0.7169\n",
            "Epoch 37/100\n",
            "30/30 [==============================] - 4s 145ms/step - loss: 0.6864 - accuracy: 0.6838 - val_loss: 0.6703 - val_accuracy: 0.7390\n",
            "Epoch 38/100\n",
            "30/30 [==============================] - 4s 149ms/step - loss: 0.6555 - accuracy: 0.7079 - val_loss: 0.6763 - val_accuracy: 0.7059\n",
            "Epoch 39/100\n",
            "30/30 [==============================] - 4s 148ms/step - loss: 0.6662 - accuracy: 0.6887 - val_loss: 0.6512 - val_accuracy: 0.7132\n",
            "Epoch 40/100\n",
            "30/30 [==============================] - 4s 145ms/step - loss: 0.6591 - accuracy: 0.7098 - val_loss: 0.6713 - val_accuracy: 0.7132\n",
            "Epoch 41/100\n",
            "30/30 [==============================] - 4s 148ms/step - loss: 0.6383 - accuracy: 0.7085 - val_loss: 0.6543 - val_accuracy: 0.6985\n",
            "Epoch 42/100\n",
            "30/30 [==============================] - 4s 146ms/step - loss: 0.6296 - accuracy: 0.7067 - val_loss: 0.6553 - val_accuracy: 0.7059\n",
            "Epoch 43/100\n",
            "30/30 [==============================] - 4s 147ms/step - loss: 0.6423 - accuracy: 0.7110 - val_loss: 0.6391 - val_accuracy: 0.7206\n",
            "Epoch 44/100\n",
            "30/30 [==============================] - 4s 146ms/step - loss: 0.6146 - accuracy: 0.7290 - val_loss: 0.6291 - val_accuracy: 0.7169\n",
            "Epoch 45/100\n",
            "30/30 [==============================] - 4s 146ms/step - loss: 0.6181 - accuracy: 0.7426 - val_loss: 0.6479 - val_accuracy: 0.7022\n",
            "Epoch 46/100\n",
            "30/30 [==============================] - 4s 146ms/step - loss: 0.6339 - accuracy: 0.7166 - val_loss: 0.6227 - val_accuracy: 0.7463\n",
            "Epoch 47/100\n",
            "30/30 [==============================] - 4s 147ms/step - loss: 0.6123 - accuracy: 0.7246 - val_loss: 0.6269 - val_accuracy: 0.7279\n",
            "Epoch 48/100\n",
            "30/30 [==============================] - 4s 146ms/step - loss: 0.6057 - accuracy: 0.7308 - val_loss: 0.6347 - val_accuracy: 0.7132\n",
            "Epoch 49/100\n",
            "30/30 [==============================] - 4s 146ms/step - loss: 0.5963 - accuracy: 0.7351 - val_loss: 0.6294 - val_accuracy: 0.7500\n",
            "Epoch 50/100\n",
            "30/30 [==============================] - 4s 145ms/step - loss: 0.6303 - accuracy: 0.7061 - val_loss: 0.6629 - val_accuracy: 0.6912\n",
            "Epoch 51/100\n",
            "30/30 [==============================] - 4s 147ms/step - loss: 0.6133 - accuracy: 0.7339 - val_loss: 0.6209 - val_accuracy: 0.7132\n",
            "Epoch 52/100\n",
            "30/30 [==============================] - 4s 147ms/step - loss: 0.5919 - accuracy: 0.7531 - val_loss: 0.6211 - val_accuracy: 0.7059\n",
            "Epoch 53/100\n",
            "30/30 [==============================] - 4s 146ms/step - loss: 0.5773 - accuracy: 0.7500 - val_loss: 0.6096 - val_accuracy: 0.7279\n",
            "Epoch 54/100\n",
            "30/30 [==============================] - 4s 147ms/step - loss: 0.5893 - accuracy: 0.7469 - val_loss: 0.6110 - val_accuracy: 0.7059\n",
            "Epoch 55/100\n",
            "30/30 [==============================] - 4s 146ms/step - loss: 0.6022 - accuracy: 0.7463 - val_loss: 0.6122 - val_accuracy: 0.7610\n",
            "Epoch 56/100\n",
            "30/30 [==============================] - 4s 147ms/step - loss: 0.5845 - accuracy: 0.7420 - val_loss: 0.5959 - val_accuracy: 0.7500\n",
            "Epoch 57/100\n",
            "30/30 [==============================] - 4s 148ms/step - loss: 0.5708 - accuracy: 0.7401 - val_loss: 0.6256 - val_accuracy: 0.7096\n",
            "Epoch 58/100\n",
            "30/30 [==============================] - 4s 147ms/step - loss: 0.5598 - accuracy: 0.7574 - val_loss: 0.5895 - val_accuracy: 0.7500\n",
            "Epoch 59/100\n",
            "30/30 [==============================] - 4s 148ms/step - loss: 0.5743 - accuracy: 0.7587 - val_loss: 0.6130 - val_accuracy: 0.7353\n",
            "Epoch 60/100\n",
            "30/30 [==============================] - 4s 146ms/step - loss: 0.5480 - accuracy: 0.7735 - val_loss: 0.6095 - val_accuracy: 0.7537\n",
            "Epoch 61/100\n",
            "30/30 [==============================] - 4s 146ms/step - loss: 0.5476 - accuracy: 0.7723 - val_loss: 0.5984 - val_accuracy: 0.7463\n",
            "Epoch 62/100\n",
            "30/30 [==============================] - 4s 147ms/step - loss: 0.5782 - accuracy: 0.7506 - val_loss: 0.6006 - val_accuracy: 0.7463\n",
            "Epoch 63/100\n",
            "30/30 [==============================] - 4s 148ms/step - loss: 0.5675 - accuracy: 0.7506 - val_loss: 0.6251 - val_accuracy: 0.7353\n",
            "Epoch 64/100\n",
            "30/30 [==============================] - 4s 147ms/step - loss: 0.5558 - accuracy: 0.7605 - val_loss: 0.5939 - val_accuracy: 0.7463\n",
            "Epoch 65/100\n",
            "30/30 [==============================] - 4s 149ms/step - loss: 0.5505 - accuracy: 0.7661 - val_loss: 0.6369 - val_accuracy: 0.7059\n",
            "Epoch 66/100\n",
            "30/30 [==============================] - 4s 147ms/step - loss: 0.5414 - accuracy: 0.7704 - val_loss: 0.6858 - val_accuracy: 0.6875\n",
            "Epoch 67/100\n",
            "30/30 [==============================] - 4s 147ms/step - loss: 0.5351 - accuracy: 0.7704 - val_loss: 0.6127 - val_accuracy: 0.7206\n",
            "Epoch 68/100\n",
            "30/30 [==============================] - 4s 146ms/step - loss: 0.5392 - accuracy: 0.7655 - val_loss: 0.6036 - val_accuracy: 0.7463\n",
            "Epoch 69/100\n",
            "30/30 [==============================] - 4s 145ms/step - loss: 0.5487 - accuracy: 0.7605 - val_loss: 0.6931 - val_accuracy: 0.6691\n",
            "Epoch 70/100\n",
            "30/30 [==============================] - 4s 145ms/step - loss: 0.5448 - accuracy: 0.7735 - val_loss: 0.6143 - val_accuracy: 0.7390\n",
            "Epoch 71/100\n",
            "30/30 [==============================] - 4s 147ms/step - loss: 0.5545 - accuracy: 0.7686 - val_loss: 0.5973 - val_accuracy: 0.7463\n",
            "Epoch 72/100\n",
            "30/30 [==============================] - 4s 146ms/step - loss: 0.5391 - accuracy: 0.7754 - val_loss: 0.6002 - val_accuracy: 0.7096\n",
            "Epoch 73/100\n",
            "30/30 [==============================] - 4s 147ms/step - loss: 0.5358 - accuracy: 0.7766 - val_loss: 0.5965 - val_accuracy: 0.7279\n",
            "Epoch 74/100\n",
            "30/30 [==============================] - 4s 147ms/step - loss: 0.5368 - accuracy: 0.7791 - val_loss: 0.6195 - val_accuracy: 0.7390\n",
            "Epoch 75/100\n",
            "30/30 [==============================] - 4s 146ms/step - loss: 0.5169 - accuracy: 0.7803 - val_loss: 0.6038 - val_accuracy: 0.7243\n",
            "Epoch 76/100\n",
            "30/30 [==============================] - 4s 147ms/step - loss: 0.5025 - accuracy: 0.7908 - val_loss: 0.6385 - val_accuracy: 0.7279\n",
            "Epoch 77/100\n",
            "30/30 [==============================] - 4s 145ms/step - loss: 0.5272 - accuracy: 0.7704 - val_loss: 0.6082 - val_accuracy: 0.7537\n",
            "Epoch 78/100\n",
            "30/30 [==============================] - 4s 146ms/step - loss: 0.5253 - accuracy: 0.7704 - val_loss: 0.6059 - val_accuracy: 0.7353\n",
            "Epoch 79/100\n",
            "30/30 [==============================] - 4s 147ms/step - loss: 0.5164 - accuracy: 0.7859 - val_loss: 0.5877 - val_accuracy: 0.7463\n",
            "Epoch 80/100\n",
            "30/30 [==============================] - 4s 145ms/step - loss: 0.5164 - accuracy: 0.7766 - val_loss: 0.6096 - val_accuracy: 0.7463\n",
            "Epoch 81/100\n",
            "30/30 [==============================] - 4s 146ms/step - loss: 0.5003 - accuracy: 0.7902 - val_loss: 0.5976 - val_accuracy: 0.7500\n",
            "Epoch 82/100\n",
            "30/30 [==============================] - 4s 146ms/step - loss: 0.5122 - accuracy: 0.7939 - val_loss: 0.5976 - val_accuracy: 0.7574\n",
            "Epoch 83/100\n",
            "30/30 [==============================] - 4s 145ms/step - loss: 0.5039 - accuracy: 0.7797 - val_loss: 0.6449 - val_accuracy: 0.7096\n",
            "Epoch 84/100\n",
            "30/30 [==============================] - 4s 145ms/step - loss: 0.5083 - accuracy: 0.7939 - val_loss: 0.5787 - val_accuracy: 0.7500\n",
            "Epoch 85/100\n",
            "30/30 [==============================] - 4s 147ms/step - loss: 0.5265 - accuracy: 0.7624 - val_loss: 0.5980 - val_accuracy: 0.7684\n",
            "Epoch 86/100\n",
            "30/30 [==============================] - 4s 147ms/step - loss: 0.5191 - accuracy: 0.7822 - val_loss: 0.5984 - val_accuracy: 0.7353\n",
            "Epoch 87/100\n",
            "30/30 [==============================] - 4s 147ms/step - loss: 0.4972 - accuracy: 0.7853 - val_loss: 0.6070 - val_accuracy: 0.7426\n",
            "Epoch 88/100\n",
            "30/30 [==============================] - 4s 147ms/step - loss: 0.4883 - accuracy: 0.7933 - val_loss: 0.5925 - val_accuracy: 0.7500\n",
            "Epoch 89/100\n",
            "30/30 [==============================] - 4s 147ms/step - loss: 0.5056 - accuracy: 0.7921 - val_loss: 0.5967 - val_accuracy: 0.7684\n",
            "Epoch 90/100\n",
            "30/30 [==============================] - 4s 147ms/step - loss: 0.5119 - accuracy: 0.7890 - val_loss: 0.5979 - val_accuracy: 0.7316\n",
            "Epoch 91/100\n",
            "30/30 [==============================] - 4s 145ms/step - loss: 0.5195 - accuracy: 0.7717 - val_loss: 0.6276 - val_accuracy: 0.7169\n",
            "Epoch 92/100\n",
            "30/30 [==============================] - 4s 146ms/step - loss: 0.4936 - accuracy: 0.7921 - val_loss: 0.5912 - val_accuracy: 0.7500\n",
            "Epoch 93/100\n",
            "30/30 [==============================] - 4s 146ms/step - loss: 0.4820 - accuracy: 0.7964 - val_loss: 0.6006 - val_accuracy: 0.7353\n",
            "Epoch 94/100\n",
            "30/30 [==============================] - 4s 147ms/step - loss: 0.4951 - accuracy: 0.7964 - val_loss: 0.6041 - val_accuracy: 0.7353\n",
            "Epoch 95/100\n",
            "30/30 [==============================] - 4s 149ms/step - loss: 0.4847 - accuracy: 0.7958 - val_loss: 0.6279 - val_accuracy: 0.7426\n",
            "Epoch 96/100\n",
            "30/30 [==============================] - 4s 146ms/step - loss: 0.4933 - accuracy: 0.7921 - val_loss: 0.6450 - val_accuracy: 0.7500\n",
            "Epoch 97/100\n",
            "30/30 [==============================] - 4s 146ms/step - loss: 0.4951 - accuracy: 0.7884 - val_loss: 0.6594 - val_accuracy: 0.7353\n",
            "Epoch 98/100\n",
            "30/30 [==============================] - 4s 146ms/step - loss: 0.5029 - accuracy: 0.7797 - val_loss: 0.5881 - val_accuracy: 0.7647\n",
            "Epoch 99/100\n",
            "30/30 [==============================] - 4s 147ms/step - loss: 0.4800 - accuracy: 0.7865 - val_loss: 0.5673 - val_accuracy: 0.7574\n",
            "Epoch 100/100\n",
            "30/30 [==============================] - 4s 146ms/step - loss: 0.4812 - accuracy: 0.7908 - val_loss: 0.6269 - val_accuracy: 0.7169\n"
          ]
        }
      ],
      "source": [
        "# Compile the model and specify loss function, optimizer and metrics values to the model\n",
        "model.compile(loss = 'categorical_crossentropy',\n",
        "              optimizer= keras.optimizers.Adam(0.0008, decay=1e-4),\n",
        "              metrics=['accuracy'])\n",
        "# Start training the model.\n",
        "cnn_3d_model_training_history = model.fit(x = features_train,\n",
        "                                          y = labels_train,\n",
        "                                          epochs=100,\n",
        "                                          batch_size=54,\n",
        "                                          shuffle = True,\n",
        "                                          validation_data = (features_valid, labels_valid))"
      ]
    },
    {
      "cell_type": "code",
      "execution_count": 13,
      "metadata": {
        "id": "3vimsgjjbXvL",
        "colab": {
          "base_uri": "https://localhost:8080/"
        },
        "outputId": "5e334312-744c-42d4-f3f6-44c0b2729a85"
      },
      "outputs": [
        {
          "output_type": "stream",
          "name": "stdout",
          "text": [
            "9/9 [==============================] - 1s 43ms/step - loss: 0.7961 - accuracy: 0.7122\n",
            "\n",
            "\n",
            "Train accuracy: 81.250 % || Test accuracy: 71.218 % || Val accuracy: 71.691 %\n",
            "Train loss: 0.416 || Test loss: 0.796 || Val loss: 0.627\n"
          ]
        }
      ],
      "source": [
        "model_evaluation_history = model.evaluate(features_test, labels_test)\n",
        "print('\\n')\n",
        "train_loss, train_acc = model.evaluate(features_train, labels_train, verbose=0)\n",
        "test_loss, test_acc = model.evaluate(features_test, labels_test, verbose=0)\n",
        "val_loss, val_acc = model.evaluate(features_valid, labels_valid, verbose=0)\n",
        "print(f'Train accuracy: {train_acc*100:.3f} % || Test accuracy: {test_acc*100:.3f} % || Val accuracy: {val_acc*100:.3f} %')\n",
        "print(f'Train loss: {train_loss:.3f} || Test loss: {test_loss:.3f} || Val loss: {val_loss:.3f}')"
      ]
    },
    {
      "cell_type": "code",
      "execution_count": 14,
      "metadata": {
        "id": "ivmaK9BlbnRQ"
      },
      "outputs": [],
      "source": [
        "# Get the loss and accuracy from model_evaluation_history.\n",
        "model_evaluation_loss, model_evaluation_accuracy = model_evaluation_history\n",
        " \n",
        "# Define the string date format.\n",
        "# Get the current Date and Time in a DateTime Object.\n",
        "# Convert the DateTime object to string according to the style mentioned in date_time_format string.\n",
        "date_time_format = '%Y_%m_%d__%H_%M_%S'\n",
        "current_date_time_dt = dt.datetime.now()\n",
        "current_date_time_string = dt.datetime.strftime(current_date_time_dt, date_time_format)\n",
        " \n",
        "# Define a useful name for our model to make it easy for us while navigating through multiple saved models.\n",
        "model_file_name = f'3D_CNN_model___Date_Time_{current_date_time_string}___Loss_{model_evaluation_loss}___Accuracy_{model_evaluation_accuracy}.h5'\n",
        "# Change dir\n",
        "gdrive_path = '/content/gdrive' + '/My Drive/247/Saved_models/'\n",
        "os.chdir(gdrive_path)\n",
        "# Create a floder for the model files\n",
        "!mkdir -p cnn_3d_{current_date_time_string}\n",
        "# Save your Model.\n",
        "model.save('convlstm_' + str(current_date_time_string) + '/' + model_file_name)\n",
        "# Save model weights\n",
        "model.save_weights('convlstm_' + str(current_date_time_string) + '/' + 'weights')"
      ]
    },
    {
      "cell_type": "code",
      "execution_count": 15,
      "metadata": {
        "id": "OwU8TwPrbsKB"
      },
      "outputs": [],
      "source": [
        "def plot_metric(model_training_history, metric_name_1, metric_name_2, plot_name):\n",
        "    '''\n",
        "    This function will plot the metrics passed to it in a graph.\n",
        "    Args:\n",
        "        model_training_history: A history object containing a record of training and validation \n",
        "                                loss values and metrics values at successive epochs\n",
        "        metric_name_1:          The name of the first metric that needs to be plotted in the graph.\n",
        "        metric_name_2:          The name of the second metric that needs to be plotted in the graph.\n",
        "        plot_name:              The title of the graph.\n",
        "    '''\n",
        "    \n",
        "    # Get metric values using metric names as identifiers.\n",
        "    metric_value_1 = model_training_history.history[metric_name_1]\n",
        "    metric_value_2 = model_training_history.history[metric_name_2]\n",
        "    \n",
        "    # Construct a range object which will be used as x-axis (horizontal plane) of the graph.\n",
        "    epochs = range(len(metric_value_1))\n",
        "\n",
        "    # Plot the Graph.\n",
        "    plt.plot(epochs, metric_value_1, 'blue', label = metric_name_1)\n",
        "    plt.plot(epochs, metric_value_2, 'red', label = metric_name_2)\n",
        "\n",
        "    # Add title to the plot.\n",
        "    plt.title(str(plot_name))\n",
        "\n",
        "    # Add legend to the plot.\n",
        "    plt.legend()"
      ]
    },
    {
      "cell_type": "code",
      "execution_count": 16,
      "metadata": {
        "id": "cvKY05ncbwof",
        "colab": {
          "base_uri": "https://localhost:8080/",
          "height": 281
        },
        "outputId": "082fcff3-9aff-4544-93c9-83a4bec2b77e"
      },
      "outputs": [
        {
          "output_type": "display_data",
          "data": {
            "text/plain": [
              "<Figure size 432x288 with 1 Axes>"
            ],
            "image/png": "[encoded data removed]"
          },
          "metadata": {
            "needs_background": "light"
          }
        }
      ],
      "source": [
        "plot_metric(cnn_3d_model_training_history, 'loss', 'val_loss', 'Total Loss vs Total Validation Loss')"
      ]
    },
    {
      "cell_type": "code",
      "execution_count": 17,
      "metadata": {
        "id": "o1iaaDHBb5i0",
        "colab": {
          "base_uri": "https://localhost:8080/",
          "height": 281
        },
        "outputId": "8068dcd2-15a8-439f-9b33-02ed55687389"
      },
      "outputs": [
        {
          "output_type": "display_data",
          "data": {
            "text/plain": [
              "<Figure size 432x288 with 1 Axes>"
            ],
            "image/png": "[encoded data removed]"
          },
          "metadata": {
            "needs_background": "light"
          }
        }
      ],
      "source": [
        "plot_metric(cnn_3d_model_training_history, 'accuracy', 'val_accuracy', 'Total Accuracy vs Total Validation Accuracy') "
      ]
    }
  ],
  "metadata": {
    "accelerator": "GPU",
    "colab": {
      "background_execution": "on",
      "collapsed_sections": [],
      "machine_shape": "hm",
      "name": "3D_CNN.ipynb",
      "provenance": [],
      "authorship_tag": "ABX9TyNjrLJexEhvUIp9gNZSClre",
      "include_colab_link": true
    },
    "kernelspec": {
      "display_name": "Python 3",
      "name": "python3"
    },
    "language_info": {
      "name": "python"
    }
  },
  "nbformat": 4,
  "nbformat_minor": 0
}