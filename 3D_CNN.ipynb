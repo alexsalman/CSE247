{
  "nbformat": 4,
  "nbformat_minor": 0,
  "metadata": {
    "colab": {
      "name": "3D-CNN.ipynb",
      "provenance": [],
      "collapsed_sections": [],
      "machine_shape": "hm",
      "authorship_tag": "ABX9TyNMRzQGcsCJPKXS0CqdLqax",
      "include_colab_link": true
    },
    "kernelspec": {
      "name": "python3",
      "display_name": "Python 3"
    },
    "language_info": {
      "name": "python"
    },
    "accelerator": "GPU"
  },
  "cells": [
    {
      "cell_type": "markdown",
      "metadata": {
        "id": "view-in-github",
        "colab_type": "text"
      },
      "source": [
        "<a href=\"https://colab.research.google.com/github/alexsalman/CSE247/blob/main/3D_CNN.ipynb\" target=\"_parent\"><img src=\"https://colab.research.google.com/assets/colab-badge.svg\" alt=\"Open In Colab\"/></a>"
      ]
    },
    {
      "cell_type": "code",
      "execution_count": null,
      "metadata": {
        "id": "M8ibtd5HKtZk"
      },
      "outputs": [],
      "source": [
        "import os\n",
        "import cv2\n",
        "import math\n",
        "import random\n",
        "import numpy as np\n",
        "import datetime as dt\n",
        "import tensorflow as tf\n",
        "from collections import deque\n",
        "import matplotlib.pyplot as plt\n",
        "from google.colab import drive\n",
        "from tensorflow import keras\n",
        "\n",
        "from PIL import Image\n",
        "\n",
        "%matplotlib inline\n",
        " \n",
        "from sklearn.model_selection import train_test_split\n",
        "from tensorflow.keras.layers import *\n",
        "from tensorflow.keras.models import Sequential\n",
        "from tensorflow.keras.utils import to_categorical\n",
        "from tensorflow.keras.callbacks import EarlyStopping\n",
        "from tensorflow.keras.utils import plot_model"
      ]
    },
    {
      "cell_type": "code",
      "source": [
        "seed_constant = 27\n",
        "np.random.seed(seed_constant)\n",
        "random.seed(seed_constant)\n",
        "tf.random.set_seed(seed_constant)"
      ],
      "metadata": {
        "id": "iffdFOf1CEAN"
      },
      "execution_count": null,
      "outputs": []
    },
    {
      "cell_type": "code",
      "source": [
        "drive.mount('/content/gdrive/', force_remount=True)\n",
        "gdrive_path = '/content/gdrive' + '/My Drive/247/'\n",
        "os.chdir(gdrive_path)\n",
        "print(os.getcwd())"
      ],
      "metadata": {
        "colab": {
          "base_uri": "https://localhost:8080/"
        },
        "id": "mcLh22LiOHyn",
        "outputId": "c1ba39e6-1af6-46dd-d947-755e144f77ed"
      },
      "execution_count": null,
      "outputs": [
        {
          "output_type": "stream",
          "name": "stdout",
          "text": [
            "Mounted at /content/gdrive/\n",
            "/content/gdrive/My Drive/247\n"
          ]
        }
      ]
    },
    {
      "cell_type": "code",
      "source": [
        "IMAGE_HEIGHT, IMAGE_WIDTH = 16, 16\n",
        "SEQUENCE_LENGTH = 16\n",
        "DATASET_DIR = gdrive_path + 'Cropped_videos'\n",
        "print(DATASET_DIR)\n",
        "CLASSES_LIST = ['hemostasis', 'inflammatory', 'proliferative', 'maturation']"
      ],
      "metadata": {
        "colab": {
          "base_uri": "https://localhost:8080/"
        },
        "id": "oeDK8SzumZ1Q",
        "outputId": "b184c423-3661-43d9-b73b-8eba9a8ed5ed"
      },
      "execution_count": null,
      "outputs": [
        {
          "output_type": "stream",
          "name": "stdout",
          "text": [
            "/content/gdrive/My Drive/247/Cropped_videos\n"
          ]
        }
      ]
    },
    {
      "cell_type": "code",
      "source": [
        "def crop_center_square(frame):\n",
        "    y, x = frame.shape[0:2]\n",
        "    min_dim = min(y, x)\n",
        "    start_x = (x // 2) - (min_dim // 2)\n",
        "    start_y = (y // 2) - (min_dim // 2)\n",
        "    return frame[start_y:start_y+min_dim,start_x:start_x+min_dim]"
      ],
      "metadata": {
        "id": "HUTeIqzpZc9J"
      },
      "execution_count": null,
      "outputs": []
    },
    {
      "cell_type": "code",
      "source": [
        "def load_video(path, max_frames = 16, resize=(16, 16)):\n",
        "    video_reader = cv2.VideoCapture(path)\n",
        "    video_frames_count = int(video_reader.get(cv2.CAP_PROP_FRAME_COUNT))\n",
        "    # print('video_frames_count before padding', video_frames_count)\n",
        "    frames = []\n",
        "    try:\n",
        "        while True:\n",
        "            ret, frame = video_reader.read()\n",
        "            if not ret:\n",
        "                  break\n",
        "            frame = crop_center_square(frame)\n",
        "            frame = cv2.resize(frame, resize)\n",
        "            frame = frame[:, :, [2, 1, 0]]\n",
        "            black_frame = frame\n",
        "            frames.append(frame)\n",
        "    finally:\n",
        "        video_reader.release()\n",
        "    return np.array(frames) / 255.0\n"
      ],
      "metadata": {
        "id": "QRDbHG0TZkYJ"
      },
      "execution_count": null,
      "outputs": []
    },
    {
      "cell_type": "code",
      "source": [
        "def create_dataset(state):\n",
        "    '''\n",
        "    This function will extract the data of the selected classes and create the required dataset.\n",
        "    Returns:\n",
        "        features:          A list containing the extracted frames of the videos.\n",
        "        labels:            A list containing the indexes of the classes associated with the videos.\n",
        "        video_files_paths: A list containing the paths of the videos in the disk.\n",
        "    '''\n",
        " \n",
        "    # Declared Empty Lists to store the features, labels and video file path values.\n",
        "    features = []\n",
        "    labels = []\n",
        "    video_files_paths = []\n",
        "    \n",
        "    # Iterating through all the classes mentioned in the classes list\n",
        "    for class_index, class_name in enumerate(CLASSES_LIST):\n",
        "        \n",
        "        # Display the name of the class whose data is being extracted.\n",
        "        print(f'Extracting Data of Class: {class_name}')\n",
        "        \n",
        "        # Get the list of video files present in the specific class name directory.\n",
        "        files_list = os.listdir(os.path.join(DATASET_DIR, class_name))\n",
        "        \n",
        "        # Iterate through all the files present in the files list.\n",
        "        for file_name in files_list:\n",
        "            # Get the complete video path.\n",
        "            video_file_path = os.path.join(DATASET_DIR, class_name, file_name)\n",
        "            # print(video_file_path)\n",
        "            if state == 2:\n",
        "                mouse_number = int(video_file_path.split(' ')[2].split('_')[1].split('-')[1])\n",
        "                if mouse_number == 4:\n",
        "\n",
        "                    frames = load_video(video_file_path)\n",
        "\n",
        "                    if len(frames) == SEQUENCE_LENGTH:\n",
        "                        features.append(frames)\n",
        "                        labels.append(class_index)\n",
        "                        video_files_paths.append(video_file_path)\n",
        "\n",
        "            else:\n",
        "                mouse_number = int(video_file_path.split(' ')[2].split('_')[1].split('-')[1])\n",
        "                # print(video_file_path)\n",
        "                # print(mouse_number)\n",
        "                if mouse_number != 4:\n",
        "\n",
        "                    frames = load_video(video_file_path)\n",
        "\n",
        "                    if len(frames) == SEQUENCE_LENGTH:\n",
        "                        features.append(frames)\n",
        "                        labels.append(class_index)\n",
        "                        video_files_paths.append(video_file_path)\n",
        "\n",
        "    # Converting the list to numpy arrays\n",
        "    features = np.asarray(features)\n",
        "    # print(features)\n",
        "    labels = np.array(labels)\n",
        "\n",
        "    # targets_train = to_categorical(targets_train).astype(np.integer)\n",
        "    # targets_test = to_categorical(targets_test).astype(np.integer)\n",
        "    \n",
        "    # Return the frames, class index, and video file path.\n",
        "    return features, labels, video_files_paths"
      ],
      "metadata": {
        "id": "ljUWHW6Jqzu-"
      },
      "execution_count": null,
      "outputs": []
    },
    {
      "cell_type": "code",
      "source": [
        "# whole random\n",
        "# features, labels, video_files_paths = create_dataset()\n",
        "\n",
        "# 6 mice / 2 mice (aged and young) 75/25\n",
        "features_train, labels_train, video_files_paths_train = create_dataset(1)\n",
        "features_test, labels_test, video_files_paths_test = create_dataset(2)"
      ],
      "metadata": {
        "colab": {
          "base_uri": "https://localhost:8080/"
        },
        "id": "a8rpanz9rASe",
        "outputId": "5d9883be-349f-46fb-aa1c-c9fc1bb04aae"
      },
      "execution_count": null,
      "outputs": [
        {
          "output_type": "stream",
          "name": "stdout",
          "text": [
            "Extracting Data of Class: hemostasis\n",
            "Extracting Data of Class: inflammatory\n",
            "Extracting Data of Class: proliferative\n",
            "Extracting Data of Class: maturation\n",
            "Extracting Data of Class: hemostasis\n",
            "Extracting Data of Class: inflammatory\n",
            "Extracting Data of Class: proliferative\n",
            "Extracting Data of Class: maturation\n"
          ]
        }
      ]
    },
    {
      "cell_type": "code",
      "source": [
        "# whole random\n",
        "# one_hot_encoded_labels = to_categorical(labels)\n",
        "\n",
        "# 6 mice / 2 mice (aged and young) 75/25\n",
        "one_hot_encoded_labels_train = to_categorical(labels_train)\n",
        "one_hot_encoded_labels_test = to_categorical(labels_test)"
      ],
      "metadata": {
        "id": "dtJkK4qTAulC"
      },
      "execution_count": null,
      "outputs": []
    },
    {
      "cell_type": "code",
      "source": [
        "print(len(one_hot_encoded_labels_train))\n",
        "print(len(one_hot_encoded_labels_test))"
      ],
      "metadata": {
        "colab": {
          "base_uri": "https://localhost:8080/"
        },
        "id": "2YrQlQ7WfW1L",
        "outputId": "6bdde1a7-cdc8-4a0d-d2a4-3124aede066d"
      },
      "execution_count": null,
      "outputs": [
        {
          "output_type": "stream",
          "name": "stdout",
          "text": [
            "1616\n",
            "544\n"
          ]
        }
      ]
    },
    {
      "cell_type": "code",
      "source": [
        "# whole random\n",
        "# features_train, features_test, labels_train, labels_test = train_test_split(features, one_hot_encoded_labels, test_size = 0.25, shuffle = True, random_state = seed_constant)\n",
        "\n",
        "# 6 mice / 2 mice (aged and young) 75/25\n",
        "features_train = features_train\n",
        "features_test = features_test\n",
        "labels_train = one_hot_encoded_labels_train\n",
        "labels_test = one_hot_encoded_labels_test"
      ],
      "metadata": {
        "id": "K6FohTl9Bd_T"
      },
      "execution_count": null,
      "outputs": []
    },
    {
      "cell_type": "markdown",
      "source": [
        "####3DCNN"
      ],
      "metadata": {
        "id": "pB41eXrCtNYU"
      }
    },
    {
      "cell_type": "code",
      "source": [
        "## input layer\n",
        "input_layer = keras.layers.Input((16, 16, 16, 3))\n",
        "\n",
        "## convolutional layers\n",
        "conv_layer1 = keras.layers.Conv3D(filters=8, kernel_size=(3, 3, 3), activation='relu')(input_layer)\n",
        "conv_layer2 = keras.layers.Conv3D(filters=16, kernel_size=(3, 3, 3), activation='relu')(conv_layer1)\n",
        "\n",
        "## add max pooling to obtain the most imformatic features\n",
        "pooling_layer1 = keras.layers.MaxPool3D(pool_size=(2, 2, 2))(conv_layer2)\n",
        "\n",
        "conv_layer3 = keras.layers.Conv3D(filters=32, kernel_size=(3, 3, 3), activation='relu')(pooling_layer1)\n",
        "conv_layer4 = keras.layers.Conv3D(filters=64, kernel_size=(3, 3, 3), activation='relu')(conv_layer3)\n",
        "pooling_layer2 = keras.layers.MaxPool3D(pool_size=(2, 2, 2))(conv_layer4)\n",
        "\n",
        "## perform batch normalization on the convolution outputs before feeding it to MLP architecture\n",
        "pooling_layer2 = keras.layers.BatchNormalization()(pooling_layer2)\n",
        "flatten_layer = keras.layers.Flatten()(pooling_layer2)\n",
        "\n",
        "## create an MLP architecture with dense layers : 4096 -> 512 -> 10\n",
        "## add dropouts to avoid overfitting / perform regularization\n",
        "dense_layer1 = keras.layers.Dense(units=2048, activation='relu')(flatten_layer)\n",
        "dense_layer1 = keras.layers.Dropout(0.4)(dense_layer1)\n",
        "dense_layer2 = keras.layers.Dense(units=512, activation='relu')(dense_layer1)\n",
        "dense_layer2 = keras.layers.Dropout(0.4)(dense_layer2)\n",
        "output_layer = keras.layers.Dense(units=4, activation='softmax')(dense_layer2)\n",
        "\n",
        "## define the model with input layer and output layer\n",
        "model = keras.models.Model(inputs=input_layer, outputs=output_layer)\n",
        "model.summary()"
      ],
      "metadata": {
        "id": "N-9ykP4ig7IW",
        "colab": {
          "base_uri": "https://localhost:8080/"
        },
        "outputId": "0c7a1780-af57-413d-a9f3-9b4e5d714148"
      },
      "execution_count": null,
      "outputs": [
        {
          "output_type": "stream",
          "name": "stdout",
          "text": [
            "Model: \"model\"\n",
            "_________________________________________________________________\n",
            " Layer (type)                Output Shape              Param #   \n",
            "=================================================================\n",
            " input_1 (InputLayer)        [(None, 16, 16, 16, 3)]   0         \n",
            "                                                                 \n",
            " conv3d (Conv3D)             (None, 14, 14, 14, 8)     656       \n",
            "                                                                 \n",
            " conv3d_1 (Conv3D)           (None, 12, 12, 12, 16)    3472      \n",
            "                                                                 \n",
            " max_pooling3d (MaxPooling3D  (None, 6, 6, 6, 16)      0         \n",
            " )                                                               \n",
            "                                                                 \n",
            " conv3d_2 (Conv3D)           (None, 4, 4, 4, 32)       13856     \n",
            "                                                                 \n",
            " conv3d_3 (Conv3D)           (None, 2, 2, 2, 64)       55360     \n",
            "                                                                 \n",
            " max_pooling3d_1 (MaxPooling  (None, 1, 1, 1, 64)      0         \n",
            " 3D)                                                             \n",
            "                                                                 \n",
            " batch_normalization (BatchN  (None, 1, 1, 1, 64)      256       \n",
            " ormalization)                                                   \n",
            "                                                                 \n",
            " flatten (Flatten)           (None, 64)                0         \n",
            "                                                                 \n",
            " dense (Dense)               (None, 2048)              133120    \n",
            "                                                                 \n",
            " dropout (Dropout)           (None, 2048)              0         \n",
            "                                                                 \n",
            " dense_1 (Dense)             (None, 512)               1049088   \n",
            "                                                                 \n",
            " dropout_1 (Dropout)         (None, 512)               0         \n",
            "                                                                 \n",
            " dense_2 (Dense)             (None, 4)                 2052      \n",
            "                                                                 \n",
            "=================================================================\n",
            "Total params: 1,257,860\n",
            "Trainable params: 1,257,732\n",
            "Non-trainable params: 128\n",
            "_________________________________________________________________\n"
          ]
        }
      ]
    },
    {
      "cell_type": "code",
      "source": [
        "model.compile(loss=keras.losses.categorical_crossentropy, optimizer=keras.optimizers.Adadelta(learning_rate=0.1), metrics=['accuracy'])\n",
        "cnn_3d_model_training_history = model.fit(x=features_train, y=labels_train, batch_size=4, epochs=50, validation_split=0.2)"
      ],
      "metadata": {
        "colab": {
          "base_uri": "https://localhost:8080/"
        },
        "id": "MwYEkaYLoyb_",
        "outputId": "cd67436a-1fd0-4e00-a337-a335641345c1"
      },
      "execution_count": null,
      "outputs": [
        {
          "output_type": "stream",
          "name": "stdout",
          "text": [
            "Epoch 1/50\n",
            "323/323 [==============================] - 4s 7ms/step - loss: 0.9216 - accuracy: 0.5743 - val_loss: 1.0631 - val_accuracy: 0.1667\n",
            "Epoch 2/50\n",
            "323/323 [==============================] - 2s 6ms/step - loss: 0.7540 - accuracy: 0.6618 - val_loss: 1.2391 - val_accuracy: 0.2407\n",
            "Epoch 3/50\n",
            "323/323 [==============================] - 2s 6ms/step - loss: 0.6745 - accuracy: 0.6997 - val_loss: 0.5326 - val_accuracy: 0.7716\n",
            "Epoch 4/50\n",
            "323/323 [==============================] - 2s 6ms/step - loss: 0.6014 - accuracy: 0.7438 - val_loss: 0.8403 - val_accuracy: 0.6358\n",
            "Epoch 5/50\n",
            "323/323 [==============================] - 2s 6ms/step - loss: 0.5539 - accuracy: 0.7655 - val_loss: 0.6770 - val_accuracy: 0.7407\n",
            "Epoch 6/50\n",
            "323/323 [==============================] - 2s 6ms/step - loss: 0.5129 - accuracy: 0.7763 - val_loss: 1.6235 - val_accuracy: 0.5247\n",
            "Epoch 7/50\n",
            "323/323 [==============================] - 2s 5ms/step - loss: 0.4852 - accuracy: 0.7949 - val_loss: 1.0630 - val_accuracy: 0.6698\n",
            "Epoch 8/50\n",
            "323/323 [==============================] - 2s 6ms/step - loss: 0.4399 - accuracy: 0.8204 - val_loss: 1.5501 - val_accuracy: 0.5926\n",
            "Epoch 9/50\n",
            "323/323 [==============================] - 2s 6ms/step - loss: 0.4044 - accuracy: 0.8320 - val_loss: 0.5602 - val_accuracy: 0.7778\n",
            "Epoch 10/50\n",
            "323/323 [==============================] - 2s 5ms/step - loss: 0.3853 - accuracy: 0.8498 - val_loss: 0.3915 - val_accuracy: 0.8519\n",
            "Epoch 11/50\n",
            "323/323 [==============================] - 2s 6ms/step - loss: 0.3517 - accuracy: 0.8491 - val_loss: 2.5545 - val_accuracy: 0.4506\n",
            "Epoch 12/50\n",
            "323/323 [==============================] - 2s 5ms/step - loss: 0.3599 - accuracy: 0.8491 - val_loss: 1.3591 - val_accuracy: 0.6049\n",
            "Epoch 13/50\n",
            "323/323 [==============================] - 2s 6ms/step - loss: 0.3132 - accuracy: 0.8653 - val_loss: 1.8237 - val_accuracy: 0.5309\n",
            "Epoch 14/50\n",
            "323/323 [==============================] - 2s 6ms/step - loss: 0.2873 - accuracy: 0.8793 - val_loss: 1.5724 - val_accuracy: 0.6265\n",
            "Epoch 15/50\n",
            "323/323 [==============================] - 2s 6ms/step - loss: 0.2793 - accuracy: 0.8816 - val_loss: 1.1393 - val_accuracy: 0.6327\n",
            "Epoch 16/50\n",
            "323/323 [==============================] - 2s 6ms/step - loss: 0.2734 - accuracy: 0.8854 - val_loss: 1.3214 - val_accuracy: 0.6111\n",
            "Epoch 17/50\n",
            "323/323 [==============================] - 2s 6ms/step - loss: 0.2529 - accuracy: 0.8986 - val_loss: 2.3500 - val_accuracy: 0.5000\n",
            "Epoch 18/50\n",
            "323/323 [==============================] - 2s 6ms/step - loss: 0.2092 - accuracy: 0.9211 - val_loss: 1.3872 - val_accuracy: 0.6389\n",
            "Epoch 19/50\n",
            "323/323 [==============================] - 2s 6ms/step - loss: 0.2188 - accuracy: 0.9156 - val_loss: 1.3047 - val_accuracy: 0.6636\n",
            "Epoch 20/50\n",
            "323/323 [==============================] - 2s 6ms/step - loss: 0.2235 - accuracy: 0.9149 - val_loss: 1.3701 - val_accuracy: 0.5864\n",
            "Epoch 21/50\n",
            "323/323 [==============================] - 2s 6ms/step - loss: 0.1801 - accuracy: 0.9234 - val_loss: 1.5303 - val_accuracy: 0.5679\n",
            "Epoch 22/50\n",
            "323/323 [==============================] - 2s 5ms/step - loss: 0.1910 - accuracy: 0.9241 - val_loss: 2.1414 - val_accuracy: 0.4938\n",
            "Epoch 23/50\n",
            "323/323 [==============================] - 2s 6ms/step - loss: 0.1906 - accuracy: 0.9303 - val_loss: 1.3770 - val_accuracy: 0.5895\n",
            "Epoch 24/50\n",
            "323/323 [==============================] - 2s 6ms/step - loss: 0.1635 - accuracy: 0.9334 - val_loss: 1.2329 - val_accuracy: 0.6173\n",
            "Epoch 25/50\n",
            "323/323 [==============================] - 2s 6ms/step - loss: 0.1510 - accuracy: 0.9443 - val_loss: 1.8615 - val_accuracy: 0.5154\n",
            "Epoch 26/50\n",
            "323/323 [==============================] - 2s 6ms/step - loss: 0.1702 - accuracy: 0.9381 - val_loss: 2.0776 - val_accuracy: 0.5340\n",
            "Epoch 27/50\n",
            "323/323 [==============================] - 2s 6ms/step - loss: 0.1376 - accuracy: 0.9435 - val_loss: 3.6282 - val_accuracy: 0.4228\n",
            "Epoch 28/50\n",
            "323/323 [==============================] - 2s 6ms/step - loss: 0.1295 - accuracy: 0.9536 - val_loss: 1.6620 - val_accuracy: 0.5895\n",
            "Epoch 29/50\n",
            "323/323 [==============================] - 2s 6ms/step - loss: 0.1280 - accuracy: 0.9528 - val_loss: 2.8027 - val_accuracy: 0.4938\n",
            "Epoch 30/50\n",
            "323/323 [==============================] - 2s 6ms/step - loss: 0.1175 - accuracy: 0.9536 - val_loss: 1.9172 - val_accuracy: 0.5802\n",
            "Epoch 31/50\n",
            "323/323 [==============================] - 2s 6ms/step - loss: 0.1237 - accuracy: 0.9497 - val_loss: 1.9111 - val_accuracy: 0.5463\n",
            "Epoch 32/50\n",
            "323/323 [==============================] - 2s 6ms/step - loss: 0.0986 - accuracy: 0.9574 - val_loss: 1.5215 - val_accuracy: 0.6296\n",
            "Epoch 33/50\n",
            "323/323 [==============================] - 2s 6ms/step - loss: 0.1103 - accuracy: 0.9582 - val_loss: 1.6119 - val_accuracy: 0.6111\n",
            "Epoch 34/50\n",
            "323/323 [==============================] - 2s 6ms/step - loss: 0.1171 - accuracy: 0.9598 - val_loss: 2.2935 - val_accuracy: 0.5525\n",
            "Epoch 35/50\n",
            "323/323 [==============================] - 2s 6ms/step - loss: 0.1065 - accuracy: 0.9598 - val_loss: 1.5882 - val_accuracy: 0.6358\n",
            "Epoch 36/50\n",
            "323/323 [==============================] - 2s 6ms/step - loss: 0.0847 - accuracy: 0.9714 - val_loss: 2.9227 - val_accuracy: 0.5340\n",
            "Epoch 37/50\n",
            "323/323 [==============================] - 2s 6ms/step - loss: 0.0964 - accuracy: 0.9559 - val_loss: 4.3775 - val_accuracy: 0.3951\n",
            "Epoch 38/50\n",
            "323/323 [==============================] - 2s 6ms/step - loss: 0.0808 - accuracy: 0.9745 - val_loss: 2.0851 - val_accuracy: 0.6142\n",
            "Epoch 39/50\n",
            "323/323 [==============================] - 2s 6ms/step - loss: 0.0678 - accuracy: 0.9776 - val_loss: 1.7502 - val_accuracy: 0.6111\n",
            "Epoch 40/50\n",
            "323/323 [==============================] - 2s 6ms/step - loss: 0.0966 - accuracy: 0.9598 - val_loss: 2.4008 - val_accuracy: 0.5772\n",
            "Epoch 41/50\n",
            "323/323 [==============================] - 2s 6ms/step - loss: 0.0773 - accuracy: 0.9737 - val_loss: 1.4737 - val_accuracy: 0.6420\n",
            "Epoch 42/50\n",
            "323/323 [==============================] - 2s 6ms/step - loss: 0.0736 - accuracy: 0.9706 - val_loss: 3.4240 - val_accuracy: 0.4877\n",
            "Epoch 43/50\n",
            "323/323 [==============================] - 2s 6ms/step - loss: 0.0707 - accuracy: 0.9721 - val_loss: 2.9044 - val_accuracy: 0.5432\n",
            "Epoch 44/50\n",
            "323/323 [==============================] - 2s 6ms/step - loss: 0.0563 - accuracy: 0.9830 - val_loss: 1.9373 - val_accuracy: 0.6235\n",
            "Epoch 45/50\n",
            "323/323 [==============================] - 2s 6ms/step - loss: 0.0730 - accuracy: 0.9737 - val_loss: 3.1847 - val_accuracy: 0.4877\n",
            "Epoch 46/50\n",
            "323/323 [==============================] - 2s 6ms/step - loss: 0.0714 - accuracy: 0.9706 - val_loss: 3.3200 - val_accuracy: 0.4722\n",
            "Epoch 47/50\n",
            "323/323 [==============================] - 2s 6ms/step - loss: 0.0606 - accuracy: 0.9729 - val_loss: 2.2684 - val_accuracy: 0.6080\n",
            "Epoch 48/50\n",
            "323/323 [==============================] - 2s 6ms/step - loss: 0.0582 - accuracy: 0.9752 - val_loss: 1.9850 - val_accuracy: 0.6204\n",
            "Epoch 49/50\n",
            "323/323 [==============================] - 2s 6ms/step - loss: 0.0664 - accuracy: 0.9760 - val_loss: 1.6712 - val_accuracy: 0.6358\n",
            "Epoch 50/50\n",
            "323/323 [==============================] - 2s 6ms/step - loss: 0.0546 - accuracy: 0.9845 - val_loss: 2.3943 - val_accuracy: 0.5802\n"
          ]
        }
      ]
    },
    {
      "cell_type": "code",
      "source": [
        "model_evaluation_history = model.evaluate(features_test, labels_test)"
      ],
      "metadata": {
        "colab": {
          "base_uri": "https://localhost:8080/"
        },
        "id": "3vimsgjjbXvL",
        "outputId": "573b513f-9db7-41ec-c531-2841faad7a32"
      },
      "execution_count": null,
      "outputs": [
        {
          "output_type": "stream",
          "name": "stdout",
          "text": [
            "17/17 [==============================] - 0s 4ms/step - loss: 2.7742 - accuracy: 0.6195\n"
          ]
        }
      ]
    },
    {
      "cell_type": "code",
      "source": [
        "# Get the loss and accuracy from model_evaluation_history.\n",
        "model_evaluation_loss, model_evaluation_accuracy = model_evaluation_history\n",
        " \n",
        "# Define the string date format.\n",
        "# Get the current Date and Time in a DateTime Object.\n",
        "# Convert the DateTime object to string according to the style mentioned in date_time_format string.\n",
        "date_time_format = '%Y_%m_%d__%H_%M_%S'\n",
        "current_date_time_dt = dt.datetime.now()\n",
        "current_date_time_string = dt.datetime.strftime(current_date_time_dt, date_time_format)\n",
        " \n",
        "# Define a useful name for our model to make it easy for us while navigating through multiple saved models.\n",
        "model_file_name = f'model___Date_Time_{current_date_time_string}___Loss_{model_evaluation_loss}___Accuracy_{model_evaluation_accuracy}.h5'\n",
        " \n",
        "# Save your Model.\n",
        "model.save(model_file_name)"
      ],
      "metadata": {
        "id": "ivmaK9BlbnRQ"
      },
      "execution_count": null,
      "outputs": []
    },
    {
      "cell_type": "code",
      "source": [
        "def plot_metric(model_training_history, metric_name_1, metric_name_2, plot_name):\n",
        "    '''\n",
        "    This function will plot the metrics passed to it in a graph.\n",
        "    Args:\n",
        "        model_training_history: A history object containing a record of training and validation \n",
        "                                loss values and metrics values at successive epochs\n",
        "        metric_name_1:          The name of the first metric that needs to be plotted in the graph.\n",
        "        metric_name_2:          The name of the second metric that needs to be plotted in the graph.\n",
        "        plot_name:              The title of the graph.\n",
        "    '''\n",
        "    \n",
        "    # Get metric values using metric names as identifiers.\n",
        "    metric_value_1 = model_training_history.history[metric_name_1]\n",
        "    metric_value_2 = model_training_history.history[metric_name_2]\n",
        "    \n",
        "    # Construct a range object which will be used as x-axis (horizontal plane) of the graph.\n",
        "    epochs = range(len(metric_value_1))\n",
        "\n",
        "    # Plot the Graph.\n",
        "    plt.plot(epochs, metric_value_1, 'blue', label = metric_name_1)\n",
        "    plt.plot(epochs, metric_value_2, 'red', label = metric_name_2)\n",
        "\n",
        "    # Add title to the plot.\n",
        "    plt.title(str(plot_name))\n",
        "\n",
        "    # Add legend to the plot.\n",
        "    plt.legend()"
      ],
      "metadata": {
        "id": "OwU8TwPrbsKB"
      },
      "execution_count": null,
      "outputs": []
    },
    {
      "cell_type": "code",
      "source": [
        "plot_metric(cnn_3d_model_training_history, 'loss', 'val_loss', 'Total Loss vs Total Validation Loss')"
      ],
      "metadata": {
        "colab": {
          "base_uri": "https://localhost:8080/",
          "height": 281
        },
        "id": "cvKY05ncbwof",
        "outputId": "23b1ca78-30bc-4f14-d592-2a57e59b767f"
      },
      "execution_count": null,
      "outputs": [
        {
          "output_type": "display_data",
          "data": {
            "text/plain": [
              "<Figure size 432x288 with 1 Axes>"
            ],
            "image/png": "[encoded data removed]"
          },
          "metadata": {
            "needs_background": "light"
          }
        }
      ]
    },
    {
      "cell_type": "code",
      "source": [
        "plot_metric(cnn_3d_model_training_history, 'accuracy', 'val_accuracy', 'Total Accuracy vs Total Validation Accuracy') "
      ],
      "metadata": {
        "colab": {
          "base_uri": "https://localhost:8080/",
          "height": 281
        },
        "id": "o1iaaDHBb5i0",
        "outputId": "f32d11db-1a3f-46bd-dcb0-3232e9a795d2"
      },
      "execution_count": null,
      "outputs": [
        {
          "output_type": "display_data",
          "data": {
            "text/plain": [
              "<Figure size 432x288 with 1 Axes>"
            ],
            "image/png": "[encoded data removed]"
          },
          "metadata": {
            "needs_background": "light"
          }
        }
      ]
    }
  ]
}