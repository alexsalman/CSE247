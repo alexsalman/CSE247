{
  "cells": [
    {
      "cell_type": "markdown",
      "metadata": {
        "id": "view-in-github",
        "colab_type": "text"
      },
      "source": [
        "<a href=\"https://colab.research.google.com/github/alexsalman/CSE247/blob/main/3D_CNN.ipynb\" target=\"_parent\"><img src=\"https://colab.research.google.com/assets/colab-badge.svg\" alt=\"Open In Colab\"/></a>"
      ]
    },
    {
      "cell_type": "markdown",
      "metadata": {
        "id": "Kk7I8NauauE3"
      },
      "source": [
        "####**3D Convolutional Neural Network**\n",
        "######*I am using 3D Convolutional Neural Network to extract the temporal and spatial information which are merged slowly throughout the whole network.*"
      ]
    },
    {
      "cell_type": "code",
      "execution_count": 1,
      "metadata": {
        "colab": {
          "base_uri": "https://localhost:8080/"
        },
        "id": "M8ibtd5HKtZk",
        "outputId": "3f20d494-3fc5-4773-d099-34c71cd7a15a"
      },
      "outputs": [
        {
          "output_type": "stream",
          "name": "stdout",
          "text": [
            "2.8.0\n"
          ]
        }
      ],
      "source": [
        "# required libraries\n",
        "import os\n",
        "import cv2\n",
        "import random\n",
        "import numpy as np\n",
        "import datetime as dt\n",
        "import matplotlib.pyplot as plt\n",
        "from google.colab import drive\n",
        "from sklearn.model_selection import train_test_split\n",
        "import tensorflow as tf\n",
        "from tensorflow import keras\n",
        "from keras.models import Sequential\n",
        "from keras.layers import Dense, Flatten, Conv3D, MaxPooling3D, Dropout\n",
        "from keras.layers import BatchNormalization, GlobalAveragePooling3D\n",
        "from keras import regularizers\n",
        "%matplotlib inline\n",
        "print(tf.version.VERSION)"
      ]
    },
    {
      "cell_type": "code",
      "execution_count": 2,
      "metadata": {
        "id": "iffdFOf1CEAN"
      },
      "outputs": [],
      "source": [
        "# set Numpy, Python, and Tensorflow seeds to get consistent results on every execution\n",
        "seed_constant = 27\n",
        "np.random.seed(seed_constant)\n",
        "random.seed(seed_constant)\n",
        "tf.random.set_seed(seed_constant)"
      ]
    },
    {
      "cell_type": "code",
      "execution_count": 3,
      "metadata": {
        "colab": {
          "base_uri": "https://localhost:8080/",
          "height": 53
        },
        "id": "mcLh22LiOHyn",
        "outputId": "d1798c42-957e-47fb-fd78-e0861da82b18"
      },
      "outputs": [
        {
          "output_type": "stream",
          "name": "stdout",
          "text": [
            "Mounted at /content/gdrive/\n"
          ]
        },
        {
          "output_type": "execute_result",
          "data": {
            "text/plain": [
              "'/content/gdrive/My Drive/247'"
            ],
            "application/vnd.google.colaboratory.intrinsic+json": {
              "type": "string"
            }
          },
          "metadata": {},
          "execution_count": 3
        }
      ],
      "source": [
        "# mount dataset from google drive\n",
        "drive.mount('/content/gdrive/', force_remount=True)\n",
        "gdrive_path = '/content/gdrive' + '/My Drive/247/'\n",
        "os.chdir(gdrive_path)\n",
        "os.getcwd()"
      ]
    },
    {
      "cell_type": "code",
      "execution_count": 4,
      "metadata": {
        "id": "oeDK8SzumZ1Q"
      },
      "outputs": [],
      "source": [
        "# frame dimention\n",
        "IMAGE_HEIGHT, IMAGE_WIDTH = 128, 128\n",
        "# frame number for each video (depth)\n",
        "SEQUENCE_LENGTH = 16\n",
        "# video dir path\n",
        "DATASET_DIR = gdrive_path + 'Circle_Cropped_videos_labeled'\n",
        "# DATASET_DIR = gdrive_path + 'Cropped_videos'\n",
        "# labels of classes\n",
        "CLASSES_LIST = ['hemostasis', 'inflammatory', 'proliferative', 'maturation']"
      ]
    },
    {
      "cell_type": "code",
      "execution_count": 5,
      "metadata": {
        "id": "HUTeIqzpZc9J"
      },
      "outputs": [],
      "source": [
        "# image cropping\n",
        "def crop_center_square(frame):\n",
        "    y, x = frame.shape[0:2]\n",
        "    min_dim = min(y, x)\n",
        "    start_x = (x // 2) - (min_dim // 2)\n",
        "    start_y = (y // 2) - (min_dim // 2)\n",
        "    return frame[start_y:start_y+min_dim,start_x:start_x+min_dim]"
      ]
    },
    {
      "cell_type": "code",
      "execution_count": 6,
      "metadata": {
        "id": "QRDbHG0TZkYJ"
      },
      "outputs": [],
      "source": [
        "def load_video(path, resize=(128, 128)):\n",
        "    video_reader = cv2.VideoCapture(path)\n",
        "    frames = []\n",
        "    try:\n",
        "        while True:\n",
        "            ret, frame = video_reader.read()\n",
        "            if not ret:\n",
        "                  break\n",
        "            # frame = crop_center_square(frame)\n",
        "            frame = cv2.resize(frame, resize)\n",
        "            frame = frame[:, :, [2, 1, 0]]\n",
        "            black_frame = frame\n",
        "            frames.append(frame)\n",
        "    finally:\n",
        "        video_reader.release()\n",
        "    return np.array(frames) / 255.0"
      ]
    },
    {
      "cell_type": "code",
      "execution_count": 7,
      "metadata": {
        "id": "ljUWHW6Jqzu-"
      },
      "outputs": [],
      "source": [
        "def create_dataset(state):\n",
        "    # Declared Empty Lists to store the features, labels and video file path values.\n",
        "    features = []\n",
        "    labels = []\n",
        "    video_files_paths = []\n",
        "    # Iterating through all the classes mentioned in the classes list\n",
        "    for class_index, class_name in enumerate(CLASSES_LIST):\n",
        "        # Display the name of the class whose data is being extracted.\n",
        "        print(f'Extracting Data of Class: {class_name} {state}')\n",
        "        # Get the list of video files present in the specific class name directory.\n",
        "        files_list = os.listdir(os.path.join(DATASET_DIR, class_name))\n",
        "        # Iterate through all the files present in the files list.\n",
        "        for file_name in files_list:\n",
        "            # Get the complete video path.\n",
        "            video_file_path = os.path.join(DATASET_DIR, class_name, file_name)\n",
        "            # create testing data\n",
        "            if state == 'test':\n",
        "                # get the mouse number\n",
        "                mouse_number = int(video_file_path.split(' ')[2].split('_')[1].split('-')[1])\n",
        "                # get the mouse side (L or R)\n",
        "                mouse_side = video_file_path.split(' ')[2].split('_')[1].split('-')[2]\n",
        "                if mouse_number == 4 and mouse_side == 'L':\n",
        "                    frames = load_video(video_file_path)\n",
        "                    features.append(frames)\n",
        "                    labels.append(class_index)\n",
        "                    video_files_paths.append(video_file_path)\n",
        "            # create validation data\n",
        "            elif state == 'valid':\n",
        "                # get the mouse number\n",
        "                mouse_number = int(video_file_path.split(' ')[2].split('_')[1].split('-')[1])\n",
        "                # get the mouse side (L or R)\n",
        "                mouse_side = video_file_path.split(' ')[2].split('_')[1].split('-')[2]\n",
        "                if mouse_number == 4 and mouse_side == 'R':\n",
        "                    frames = load_video(video_file_path)\n",
        "                    features.append(frames)\n",
        "                    labels.append(class_index)\n",
        "                    video_files_paths.append(video_file_path)\n",
        "            # create training data\n",
        "            else:\n",
        "                # get the mouse number\n",
        "                mouse_number = int(video_file_path.split(' ')[2].split('_')[1].split('-')[1])\n",
        "                if mouse_number != 4:\n",
        "                    frames = load_video(video_file_path)\n",
        "                    features.append(frames)\n",
        "                    labels.append(class_index)\n",
        "                    video_files_paths.append(video_file_path)\n",
        "    # Converting the list to numpy arrays\n",
        "    features = np.asarray(features)\n",
        "    # print(features)\n",
        "    labels = np.array(labels)\n",
        "    # Return the frames, class index, and video file path.\n",
        "    return features, labels, video_files_paths"
      ]
    },
    {
      "cell_type": "code",
      "execution_count": 8,
      "metadata": {
        "colab": {
          "base_uri": "https://localhost:8080/"
        },
        "id": "a8rpanz9rASe",
        "outputId": "010affed-afdc-4beb-b04b-d58e45842a09"
      },
      "outputs": [
        {
          "output_type": "stream",
          "name": "stdout",
          "text": [
            "Extracting Data of Class: hemostasis train\n",
            "Extracting Data of Class: inflammatory train\n",
            "Extracting Data of Class: proliferative train\n",
            "Extracting Data of Class: maturation train\n",
            "Extracting Data of Class: hemostasis test\n",
            "Extracting Data of Class: inflammatory test\n",
            "Extracting Data of Class: proliferative test\n",
            "Extracting Data of Class: maturation test\n",
            "Extracting Data of Class: hemostasis valid\n",
            "Extracting Data of Class: inflammatory valid\n",
            "Extracting Data of Class: proliferative valid\n",
            "Extracting Data of Class: maturation valid\n"
          ]
        }
      ],
      "source": [
        "# 6 mice for training, 2 mice for test and validation (one wound on each mice for test one for validation)\n",
        "features_train, labels_train, video_files_paths_train = create_dataset('train')\n",
        "features_test, labels_test, video_files_paths_test = create_dataset('test')\n",
        "features_valid, labels_valid, video_files_paths_valid = create_dataset('valid')"
      ]
    },
    {
      "cell_type": "code",
      "execution_count": 9,
      "metadata": {
        "id": "dtJkK4qTAulC"
      },
      "outputs": [],
      "source": [
        "# labels to catogorical\n",
        "labels_train = keras.utils.to_categorical(labels_train)\n",
        "labels_test = keras.utils.to_categorical(labels_test)\n",
        "labels_valid = keras.utils.to_categorical(labels_valid)"
      ]
    },
    {
      "cell_type": "code",
      "execution_count": 10,
      "metadata": {
        "id": "N-9ykP4ig7IW"
      },
      "outputs": [],
      "source": [
        "def create_3D_CNN_model():\n",
        "    sample_shape = (16, 128, 128, 3)\n",
        "    model = Sequential()\n",
        "\n",
        "    model.add(Conv3D(16, (3,3,3), activation='relu', kernel_initializer='he_uniform',\n",
        "                     kernel_regularizer=regularizers.L2(l2=1e-4),\n",
        "                     input_shape=sample_shape))\n",
        "    model.add(MaxPooling3D(2))\n",
        "    model.add(Dropout(0.3))\n",
        "\n",
        "    model.add(Conv3D(32, (3,3,3), activation='relu', kernel_initializer='he_uniform',\n",
        "                     kernel_regularizer=regularizers.L2(l2=1e-4)))\n",
        "    model.add(MaxPooling3D(2))\n",
        "    model.add(Dropout(0.3))\n",
        "\n",
        "    model.add(GlobalAveragePooling3D())\n",
        "    model.add(Dropout(0.3))\n",
        "\n",
        "    model.add(Dense(16, activation='relu', kernel_initializer='he_uniform',\n",
        "                    kernel_regularizer=regularizers.L2(l2=1e-4)))\n",
        "    model.add(Dropout(0.4))\n",
        "\n",
        "    model.add(Dense(8, activation='relu', kernel_initializer='he_uniform',\n",
        "                    kernel_regularizer=regularizers.L2(l2=1e-4)))\n",
        "\n",
        "    model.add(Dense(len(CLASSES_LIST), activation='softmax'))\n",
        "\n",
        "    model.summary(line_length = 125)\n",
        "\n",
        "    return model"
      ]
    },
    {
      "cell_type": "code",
      "execution_count": 11,
      "metadata": {
        "colab": {
          "base_uri": "https://localhost:8080/"
        },
        "id": "Z4_GxXZBcHlB",
        "outputId": "507eeeaf-9cb3-4e00-c20f-0e47c4e93f5a"
      },
      "outputs": [
        {
          "output_type": "stream",
          "name": "stdout",
          "text": [
            "Model: \"sequential\"\n",
            "_____________________________________________________________________________________________________________________________\n",
            " Layer (type)                                           Output Shape                                      Param #            \n",
            "=============================================================================================================================\n",
            " conv3d (Conv3D)                                        (None, 14, 126, 126, 16)                          1312               \n",
            "                                                                                                                             \n",
            " max_pooling3d (MaxPooling3D)                           (None, 7, 63, 63, 16)                             0                  \n",
            "                                                                                                                             \n",
            " dropout (Dropout)                                      (None, 7, 63, 63, 16)                             0                  \n",
            "                                                                                                                             \n",
            " conv3d_1 (Conv3D)                                      (None, 5, 61, 61, 32)                             13856              \n",
            "                                                                                                                             \n",
            " max_pooling3d_1 (MaxPooling3D)                         (None, 2, 30, 30, 32)                             0                  \n",
            "                                                                                                                             \n",
            " dropout_1 (Dropout)                                    (None, 2, 30, 30, 32)                             0                  \n",
            "                                                                                                                             \n",
            " global_average_pooling3d (GlobalAveragePooling3D)      (None, 32)                                        0                  \n",
            "                                                                                                                             \n",
            " dropout_2 (Dropout)                                    (None, 32)                                        0                  \n",
            "                                                                                                                             \n",
            " dense (Dense)                                          (None, 16)                                        528                \n",
            "                                                                                                                             \n",
            " dropout_3 (Dropout)                                    (None, 16)                                        0                  \n",
            "                                                                                                                             \n",
            " dense_1 (Dense)                                        (None, 8)                                         136                \n",
            "                                                                                                                             \n",
            " dense_2 (Dense)                                        (None, 4)                                         36                 \n",
            "                                                                                                                             \n",
            "=============================================================================================================================\n",
            "Total params: 15,868\n",
            "Trainable params: 15,868\n",
            "Non-trainable params: 0\n",
            "_____________________________________________________________________________________________________________________________\n",
            "Model Created Successfully!\n"
          ]
        }
      ],
      "source": [
        "# Construct the required convlstm model.\n",
        "model = create_3D_CNN_model()\n",
        " \n",
        "# Display the success message. \n",
        "print(\"Model Created Successfully!\")"
      ]
    },
    {
      "cell_type": "code",
      "execution_count": 12,
      "metadata": {
        "colab": {
          "base_uri": "https://localhost:8080/"
        },
        "id": "MwYEkaYLoyb_",
        "outputId": "611cb4ac-936f-481f-d879-3963640f3ca9"
      },
      "outputs": [
        {
          "output_type": "stream",
          "name": "stdout",
          "text": [
            "Epoch 1/100\n",
            "31/31 [==============================] - 8s 172ms/step - loss: 1.5209 - accuracy: 0.2811 - val_loss: 1.3318 - val_accuracy: 0.3897\n",
            "Epoch 2/100\n",
            "31/31 [==============================] - 4s 141ms/step - loss: 1.2885 - accuracy: 0.4102 - val_loss: 1.2833 - val_accuracy: 0.3971\n",
            "Epoch 3/100\n",
            "31/31 [==============================] - 4s 141ms/step - loss: 1.2217 - accuracy: 0.4477 - val_loss: 1.2153 - val_accuracy: 0.3971\n",
            "Epoch 4/100\n",
            "31/31 [==============================] - 4s 140ms/step - loss: 1.1914 - accuracy: 0.4514 - val_loss: 1.1585 - val_accuracy: 0.3971\n",
            "Epoch 5/100\n",
            "31/31 [==============================] - 4s 143ms/step - loss: 1.1414 - accuracy: 0.4643 - val_loss: 1.0918 - val_accuracy: 0.3971\n",
            "Epoch 6/100\n",
            "31/31 [==============================] - 4s 141ms/step - loss: 1.1005 - accuracy: 0.5043 - val_loss: 1.0224 - val_accuracy: 0.5331\n",
            "Epoch 7/100\n",
            "31/31 [==============================] - 4s 140ms/step - loss: 1.0413 - accuracy: 0.5172 - val_loss: 0.9112 - val_accuracy: 0.5846\n",
            "Epoch 8/100\n",
            "31/31 [==============================] - 4s 142ms/step - loss: 0.9862 - accuracy: 0.5590 - val_loss: 0.8933 - val_accuracy: 0.6103\n",
            "Epoch 9/100\n",
            "31/31 [==============================] - 4s 142ms/step - loss: 0.9351 - accuracy: 0.5560 - val_loss: 0.8377 - val_accuracy: 0.6103\n",
            "Epoch 10/100\n",
            "31/31 [==============================] - 4s 142ms/step - loss: 0.9260 - accuracy: 0.5627 - val_loss: 0.8248 - val_accuracy: 0.6287\n",
            "Epoch 11/100\n",
            "31/31 [==============================] - 4s 140ms/step - loss: 0.8734 - accuracy: 0.5923 - val_loss: 0.7828 - val_accuracy: 0.6176\n",
            "Epoch 12/100\n",
            "31/31 [==============================] - 4s 141ms/step - loss: 0.8720 - accuracy: 0.5812 - val_loss: 0.7738 - val_accuracy: 0.6360\n",
            "Epoch 13/100\n",
            "31/31 [==============================] - 4s 140ms/step - loss: 0.8681 - accuracy: 0.5683 - val_loss: 0.7760 - val_accuracy: 0.6140\n",
            "Epoch 14/100\n",
            "31/31 [==============================] - 4s 141ms/step - loss: 0.8674 - accuracy: 0.5664 - val_loss: 0.7864 - val_accuracy: 0.6029\n",
            "Epoch 15/100\n",
            "31/31 [==============================] - 4s 141ms/step - loss: 0.8455 - accuracy: 0.5959 - val_loss: 0.7639 - val_accuracy: 0.6434\n",
            "Epoch 16/100\n",
            "31/31 [==============================] - 4s 140ms/step - loss: 0.8508 - accuracy: 0.5849 - val_loss: 0.7544 - val_accuracy: 0.6287\n",
            "Epoch 17/100\n",
            "31/31 [==============================] - 4s 140ms/step - loss: 0.8261 - accuracy: 0.5892 - val_loss: 0.7461 - val_accuracy: 0.6287\n",
            "Epoch 18/100\n",
            "31/31 [==============================] - 4s 141ms/step - loss: 0.8221 - accuracy: 0.6015 - val_loss: 0.7289 - val_accuracy: 0.6140\n",
            "Epoch 19/100\n",
            "31/31 [==============================] - 4s 141ms/step - loss: 0.8149 - accuracy: 0.6224 - val_loss: 0.7411 - val_accuracy: 0.6324\n",
            "Epoch 20/100\n",
            "31/31 [==============================] - 4s 141ms/step - loss: 0.8066 - accuracy: 0.6039 - val_loss: 0.7319 - val_accuracy: 0.6213\n",
            "Epoch 21/100\n",
            "31/31 [==============================] - 4s 140ms/step - loss: 0.8025 - accuracy: 0.6150 - val_loss: 0.7297 - val_accuracy: 0.6360\n",
            "Epoch 22/100\n",
            "31/31 [==============================] - 4s 142ms/step - loss: 0.7838 - accuracy: 0.6341 - val_loss: 0.7126 - val_accuracy: 0.6324\n",
            "Epoch 23/100\n",
            "31/31 [==============================] - 4s 140ms/step - loss: 0.7756 - accuracy: 0.6371 - val_loss: 0.7005 - val_accuracy: 0.6324\n",
            "Epoch 24/100\n",
            "31/31 [==============================] - 4s 142ms/step - loss: 0.7972 - accuracy: 0.6328 - val_loss: 0.7040 - val_accuracy: 0.6176\n",
            "Epoch 25/100\n",
            "31/31 [==============================] - 4s 142ms/step - loss: 0.7589 - accuracy: 0.6574 - val_loss: 0.6924 - val_accuracy: 0.6213\n",
            "Epoch 26/100\n",
            "31/31 [==============================] - 4s 141ms/step - loss: 0.7576 - accuracy: 0.6617 - val_loss: 0.6751 - val_accuracy: 0.6471\n",
            "Epoch 27/100\n",
            "31/31 [==============================] - 4s 140ms/step - loss: 0.7374 - accuracy: 0.6482 - val_loss: 0.6636 - val_accuracy: 0.6618\n",
            "Epoch 28/100\n",
            "31/31 [==============================] - 4s 141ms/step - loss: 0.7501 - accuracy: 0.6371 - val_loss: 0.6736 - val_accuracy: 0.6434\n",
            "Epoch 29/100\n",
            "31/31 [==============================] - 4s 140ms/step - loss: 0.7234 - accuracy: 0.6648 - val_loss: 0.6632 - val_accuracy: 0.6544\n",
            "Epoch 30/100\n",
            "31/31 [==============================] - 4s 140ms/step - loss: 0.6880 - accuracy: 0.6765 - val_loss: 0.6416 - val_accuracy: 0.6838\n",
            "Epoch 31/100\n",
            "31/31 [==============================] - 4s 141ms/step - loss: 0.7204 - accuracy: 0.6654 - val_loss: 0.6451 - val_accuracy: 0.6691\n",
            "Epoch 32/100\n",
            "31/31 [==============================] - 4s 142ms/step - loss: 0.6956 - accuracy: 0.6851 - val_loss: 0.6432 - val_accuracy: 0.6838\n",
            "Epoch 33/100\n",
            "31/31 [==============================] - 4s 140ms/step - loss: 0.6982 - accuracy: 0.6753 - val_loss: 0.6532 - val_accuracy: 0.6434\n",
            "Epoch 34/100\n",
            "31/31 [==============================] - 4s 141ms/step - loss: 0.7145 - accuracy: 0.6661 - val_loss: 0.6442 - val_accuracy: 0.6875\n",
            "Epoch 35/100\n",
            "31/31 [==============================] - 4s 142ms/step - loss: 0.7027 - accuracy: 0.6833 - val_loss: 0.6288 - val_accuracy: 0.6949\n",
            "Epoch 36/100\n",
            "31/31 [==============================] - 4s 142ms/step - loss: 0.6903 - accuracy: 0.6863 - val_loss: 0.6272 - val_accuracy: 0.6912\n",
            "Epoch 37/100\n",
            "31/31 [==============================] - 4s 142ms/step - loss: 0.6586 - accuracy: 0.7017 - val_loss: 0.6195 - val_accuracy: 0.6838\n",
            "Epoch 38/100\n",
            "31/31 [==============================] - 4s 142ms/step - loss: 0.6640 - accuracy: 0.6950 - val_loss: 0.6140 - val_accuracy: 0.6838\n",
            "Epoch 39/100\n",
            "31/31 [==============================] - 4s 142ms/step - loss: 0.6850 - accuracy: 0.6931 - val_loss: 0.6207 - val_accuracy: 0.6985\n",
            "Epoch 40/100\n",
            "31/31 [==============================] - 4s 140ms/step - loss: 0.6835 - accuracy: 0.6937 - val_loss: 0.6344 - val_accuracy: 0.6875\n",
            "Epoch 41/100\n",
            "31/31 [==============================] - 4s 143ms/step - loss: 0.6666 - accuracy: 0.7036 - val_loss: 0.6090 - val_accuracy: 0.6875\n",
            "Epoch 42/100\n",
            "31/31 [==============================] - 4s 140ms/step - loss: 0.6545 - accuracy: 0.7048 - val_loss: 0.6152 - val_accuracy: 0.6654\n",
            "Epoch 43/100\n",
            "31/31 [==============================] - 4s 141ms/step - loss: 0.6662 - accuracy: 0.6956 - val_loss: 0.6318 - val_accuracy: 0.6838\n",
            "Epoch 44/100\n",
            "31/31 [==============================] - 4s 141ms/step - loss: 0.6515 - accuracy: 0.7073 - val_loss: 0.6029 - val_accuracy: 0.6949\n",
            "Epoch 45/100\n",
            "31/31 [==============================] - 4s 141ms/step - loss: 0.6477 - accuracy: 0.7116 - val_loss: 0.6030 - val_accuracy: 0.6728\n",
            "Epoch 46/100\n",
            "31/31 [==============================] - 4s 142ms/step - loss: 0.6438 - accuracy: 0.7134 - val_loss: 0.6819 - val_accuracy: 0.6875\n",
            "Epoch 47/100\n",
            "31/31 [==============================] - 4s 142ms/step - loss: 0.6362 - accuracy: 0.7232 - val_loss: 0.6033 - val_accuracy: 0.6801\n",
            "Epoch 48/100\n",
            "31/31 [==============================] - 4s 141ms/step - loss: 0.6385 - accuracy: 0.7171 - val_loss: 0.5864 - val_accuracy: 0.6875\n",
            "Epoch 49/100\n",
            "31/31 [==============================] - 4s 141ms/step - loss: 0.6196 - accuracy: 0.7294 - val_loss: 0.5860 - val_accuracy: 0.7022\n",
            "Epoch 50/100\n",
            "31/31 [==============================] - 4s 142ms/step - loss: 0.6375 - accuracy: 0.7066 - val_loss: 0.5948 - val_accuracy: 0.6801\n",
            "Epoch 51/100\n",
            "31/31 [==============================] - 4s 142ms/step - loss: 0.6097 - accuracy: 0.7208 - val_loss: 0.5858 - val_accuracy: 0.7059\n",
            "Epoch 52/100\n",
            "31/31 [==============================] - 4s 142ms/step - loss: 0.6284 - accuracy: 0.7220 - val_loss: 0.5859 - val_accuracy: 0.6949\n",
            "Epoch 53/100\n",
            "31/31 [==============================] - 4s 141ms/step - loss: 0.6312 - accuracy: 0.7177 - val_loss: 0.6115 - val_accuracy: 0.6949\n",
            "Epoch 54/100\n",
            "31/31 [==============================] - 4s 141ms/step - loss: 0.6178 - accuracy: 0.7282 - val_loss: 0.5884 - val_accuracy: 0.6985\n",
            "Epoch 55/100\n",
            "31/31 [==============================] - 4s 141ms/step - loss: 0.5933 - accuracy: 0.7386 - val_loss: 0.5985 - val_accuracy: 0.6801\n",
            "Epoch 56/100\n",
            "31/31 [==============================] - 4s 140ms/step - loss: 0.6056 - accuracy: 0.7368 - val_loss: 0.5920 - val_accuracy: 0.6765\n",
            "Epoch 57/100\n",
            "31/31 [==============================] - 4s 140ms/step - loss: 0.6035 - accuracy: 0.7325 - val_loss: 0.5727 - val_accuracy: 0.7096\n",
            "Epoch 58/100\n",
            "31/31 [==============================] - 4s 142ms/step - loss: 0.6109 - accuracy: 0.7294 - val_loss: 0.5840 - val_accuracy: 0.7096\n",
            "Epoch 59/100\n",
            "31/31 [==============================] - 4s 141ms/step - loss: 0.5895 - accuracy: 0.7497 - val_loss: 0.5908 - val_accuracy: 0.6912\n",
            "Epoch 60/100\n",
            "31/31 [==============================] - 4s 142ms/step - loss: 0.5994 - accuracy: 0.7374 - val_loss: 0.6224 - val_accuracy: 0.6912\n",
            "Epoch 61/100\n",
            "31/31 [==============================] - 4s 141ms/step - loss: 0.5822 - accuracy: 0.7442 - val_loss: 0.5791 - val_accuracy: 0.6912\n",
            "Epoch 62/100\n",
            "31/31 [==============================] - 4s 144ms/step - loss: 0.5822 - accuracy: 0.7509 - val_loss: 0.6028 - val_accuracy: 0.6691\n",
            "Epoch 63/100\n",
            "31/31 [==============================] - 4s 143ms/step - loss: 0.5829 - accuracy: 0.7374 - val_loss: 0.5939 - val_accuracy: 0.6654\n",
            "Epoch 64/100\n",
            "31/31 [==============================] - 4s 141ms/step - loss: 0.5900 - accuracy: 0.7478 - val_loss: 0.6055 - val_accuracy: 0.6618\n",
            "Epoch 65/100\n",
            "31/31 [==============================] - 4s 141ms/step - loss: 0.5797 - accuracy: 0.7399 - val_loss: 0.6589 - val_accuracy: 0.6728\n",
            "Epoch 66/100\n",
            "31/31 [==============================] - 4s 141ms/step - loss: 0.5771 - accuracy: 0.7485 - val_loss: 0.5736 - val_accuracy: 0.7022\n",
            "Epoch 67/100\n",
            "31/31 [==============================] - 4s 141ms/step - loss: 0.5733 - accuracy: 0.7460 - val_loss: 0.6733 - val_accuracy: 0.6875\n",
            "Epoch 68/100\n",
            "31/31 [==============================] - 4s 140ms/step - loss: 0.5928 - accuracy: 0.7386 - val_loss: 0.6470 - val_accuracy: 0.6581\n",
            "Epoch 69/100\n",
            "31/31 [==============================] - 4s 141ms/step - loss: 0.5792 - accuracy: 0.7276 - val_loss: 0.6174 - val_accuracy: 0.6728\n",
            "Epoch 70/100\n",
            "31/31 [==============================] - 4s 142ms/step - loss: 0.5762 - accuracy: 0.7540 - val_loss: 0.5780 - val_accuracy: 0.6985\n",
            "Epoch 71/100\n",
            "31/31 [==============================] - 4s 141ms/step - loss: 0.5812 - accuracy: 0.7417 - val_loss: 0.6157 - val_accuracy: 0.6618\n",
            "Epoch 72/100\n",
            "31/31 [==============================] - 4s 140ms/step - loss: 0.5644 - accuracy: 0.7478 - val_loss: 0.6039 - val_accuracy: 0.6838\n",
            "Epoch 73/100\n",
            "31/31 [==============================] - 4s 141ms/step - loss: 0.5731 - accuracy: 0.7423 - val_loss: 0.6085 - val_accuracy: 0.6654\n",
            "Epoch 74/100\n",
            "31/31 [==============================] - 4s 142ms/step - loss: 0.5640 - accuracy: 0.7429 - val_loss: 0.5766 - val_accuracy: 0.7059\n",
            "Epoch 75/100\n",
            "31/31 [==============================] - 4s 141ms/step - loss: 0.5503 - accuracy: 0.7601 - val_loss: 0.6212 - val_accuracy: 0.6765\n",
            "Epoch 76/100\n",
            "31/31 [==============================] - 4s 141ms/step - loss: 0.5557 - accuracy: 0.7688 - val_loss: 0.6418 - val_accuracy: 0.6912\n",
            "Epoch 77/100\n",
            "31/31 [==============================] - 4s 140ms/step - loss: 0.5666 - accuracy: 0.7565 - val_loss: 0.5851 - val_accuracy: 0.6875\n",
            "Epoch 78/100\n",
            "31/31 [==============================] - 4s 140ms/step - loss: 0.5651 - accuracy: 0.7460 - val_loss: 0.5673 - val_accuracy: 0.7096\n",
            "Epoch 79/100\n",
            "31/31 [==============================] - 4s 140ms/step - loss: 0.6102 - accuracy: 0.7269 - val_loss: 0.5878 - val_accuracy: 0.6801\n",
            "Epoch 80/100\n",
            "31/31 [==============================] - 4s 140ms/step - loss: 0.5614 - accuracy: 0.7411 - val_loss: 0.5856 - val_accuracy: 0.6912\n",
            "Epoch 81/100\n",
            "31/31 [==============================] - 4s 140ms/step - loss: 0.5472 - accuracy: 0.7601 - val_loss: 0.5757 - val_accuracy: 0.6912\n",
            "Epoch 82/100\n",
            "31/31 [==============================] - 4s 141ms/step - loss: 0.5608 - accuracy: 0.7540 - val_loss: 0.7126 - val_accuracy: 0.7059\n",
            "Epoch 83/100\n",
            "31/31 [==============================] - 4s 141ms/step - loss: 0.5739 - accuracy: 0.7534 - val_loss: 0.6260 - val_accuracy: 0.6618\n",
            "Epoch 84/100\n",
            "31/31 [==============================] - 4s 144ms/step - loss: 0.5642 - accuracy: 0.7565 - val_loss: 0.6668 - val_accuracy: 0.6912\n",
            "Epoch 85/100\n",
            "31/31 [==============================] - 4s 140ms/step - loss: 0.5419 - accuracy: 0.7657 - val_loss: 0.5810 - val_accuracy: 0.6985\n",
            "Epoch 86/100\n",
            "31/31 [==============================] - 4s 142ms/step - loss: 0.6236 - accuracy: 0.7288 - val_loss: 0.6342 - val_accuracy: 0.6654\n",
            "Epoch 87/100\n",
            "31/31 [==============================] - 4s 141ms/step - loss: 0.5436 - accuracy: 0.7565 - val_loss: 0.6290 - val_accuracy: 0.6838\n",
            "Epoch 88/100\n",
            "31/31 [==============================] - 4s 142ms/step - loss: 0.5710 - accuracy: 0.7466 - val_loss: 0.5955 - val_accuracy: 0.6838\n",
            "Epoch 89/100\n",
            "31/31 [==============================] - 4s 143ms/step - loss: 0.6068 - accuracy: 0.7306 - val_loss: 0.5790 - val_accuracy: 0.7059\n",
            "Epoch 90/100\n",
            "31/31 [==============================] - 4s 141ms/step - loss: 0.5481 - accuracy: 0.7706 - val_loss: 0.6294 - val_accuracy: 0.6765\n",
            "Epoch 91/100\n",
            "31/31 [==============================] - 4s 142ms/step - loss: 0.5302 - accuracy: 0.7577 - val_loss: 0.5952 - val_accuracy: 0.6912\n",
            "Epoch 92/100\n",
            "31/31 [==============================] - 4s 141ms/step - loss: 0.5474 - accuracy: 0.7614 - val_loss: 0.5908 - val_accuracy: 0.6912\n",
            "Epoch 93/100\n",
            "31/31 [==============================] - 4s 141ms/step - loss: 0.5381 - accuracy: 0.7681 - val_loss: 0.5822 - val_accuracy: 0.7169\n",
            "Epoch 94/100\n",
            "31/31 [==============================] - 4s 141ms/step - loss: 0.5448 - accuracy: 0.7712 - val_loss: 0.6240 - val_accuracy: 0.6801\n",
            "Epoch 95/100\n",
            "31/31 [==============================] - 4s 142ms/step - loss: 0.5309 - accuracy: 0.7620 - val_loss: 0.5637 - val_accuracy: 0.7132\n",
            "Epoch 96/100\n",
            "31/31 [==============================] - 4s 140ms/step - loss: 0.5366 - accuracy: 0.7638 - val_loss: 0.5755 - val_accuracy: 0.6912\n",
            "Epoch 97/100\n",
            "31/31 [==============================] - 4s 142ms/step - loss: 0.5202 - accuracy: 0.7829 - val_loss: 0.6281 - val_accuracy: 0.6838\n",
            "Epoch 98/100\n",
            "31/31 [==============================] - 4s 142ms/step - loss: 0.5347 - accuracy: 0.7712 - val_loss: 0.5725 - val_accuracy: 0.7022\n",
            "Epoch 99/100\n",
            "31/31 [==============================] - 4s 142ms/step - loss: 0.5457 - accuracy: 0.7540 - val_loss: 0.6747 - val_accuracy: 0.6765\n",
            "Epoch 100/100\n",
            "31/31 [==============================] - 4s 141ms/step - loss: 0.5337 - accuracy: 0.7657 - val_loss: 0.6430 - val_accuracy: 0.6801\n"
          ]
        }
      ],
      "source": [
        "# Compile the model and specify loss function, optimizer and metrics values to the model\n",
        "model.compile(loss = 'categorical_crossentropy',\n",
        "              optimizer= keras.optimizers.Adam(0.0008, decay=1e-4),\n",
        "              metrics=['accuracy'])\n",
        "# Start training the model.\n",
        "cnn_3d_model_training_history = model.fit(x = features_train,\n",
        "                                          y = labels_train,\n",
        "                                          epochs=100,\n",
        "                                          batch_size=54,\n",
        "                                          shuffle = True,\n",
        "                                          validation_data = (features_valid, labels_valid))"
      ]
    },
    {
      "cell_type": "code",
      "execution_count": 13,
      "metadata": {
        "id": "3vimsgjjbXvL",
        "colab": {
          "base_uri": "https://localhost:8080/"
        },
        "outputId": "88884428-9fa0-4b41-90c8-50827247eb87"
      },
      "outputs": [
        {
          "output_type": "stream",
          "name": "stdout",
          "text": [
            "9/9 [==============================] - 1s 44ms/step - loss: 0.8168 - accuracy: 0.6581\n",
            "\n",
            "\n",
            "Train accuracy: 79.951 % || Test accuracy: 65.809 % || Val accuracy: 68.015 %\n",
            "Train loss: 0.478 || Test loss: 0.817 || Val loss: 0.643\n"
          ]
        }
      ],
      "source": [
        "model_evaluation_history = model.evaluate(features_test, labels_test)\n",
        "print('\\n')\n",
        "train_loss, train_acc = model.evaluate(features_train, labels_train, verbose=0)\n",
        "test_loss, test_acc = model.evaluate(features_test, labels_test, verbose=0)\n",
        "val_loss, val_acc = model.evaluate(features_valid, labels_valid, verbose=0)\n",
        "print(f'Train accuracy: {train_acc*100:.3f} % || Test accuracy: {test_acc*100:.3f} % || Val accuracy: {val_acc*100:.3f} %')\n",
        "print(f'Train loss: {train_loss:.3f} || Test loss: {test_loss:.3f} || Val loss: {val_loss:.3f}')"
      ]
    },
    {
      "cell_type": "code",
      "execution_count": 14,
      "metadata": {
        "id": "ivmaK9BlbnRQ"
      },
      "outputs": [],
      "source": [
        "# Get the loss and accuracy from model_evaluation_history.\n",
        "model_evaluation_loss, model_evaluation_accuracy = model_evaluation_history\n",
        " \n",
        "# Define the string date format.\n",
        "# Get the current Date and Time in a DateTime Object.\n",
        "# Convert the DateTime object to string according to the style mentioned in date_time_format string.\n",
        "date_time_format = '%Y_%m_%d__%H_%M_%S'\n",
        "current_date_time_dt = dt.datetime.now()\n",
        "current_date_time_string = dt.datetime.strftime(current_date_time_dt, date_time_format)\n",
        " \n",
        "# Define a useful name for our model to make it easy for us while navigating through multiple saved models.\n",
        "model_file_name = f'3D_CNN_model___Date_Time_{current_date_time_string}___Loss_{model_evaluation_loss}___Accuracy_{model_evaluation_accuracy}.h5'\n",
        "# Change dir\n",
        "gdrive_path = '/content/gdrive' + '/My Drive/247/Saved_models/'\n",
        "os.chdir(gdrive_path)\n",
        "# Create a floder for the model files\n",
        "!mkdir -p cnn_3d_{current_date_time_string}\n",
        "# Save your Model.\n",
        "model.save('convlstm_' + str(current_date_time_string) + '/' + model_file_name)\n",
        "# Save model weights\n",
        "model.save_weights('convlstm_' + str(current_date_time_string) + '/' + 'weights')"
      ]
    },
    {
      "cell_type": "code",
      "execution_count": 15,
      "metadata": {
        "id": "OwU8TwPrbsKB"
      },
      "outputs": [],
      "source": [
        "def plot_metric(model_training_history, metric_name_1, metric_name_2, plot_name):\n",
        "    '''\n",
        "    This function will plot the metrics passed to it in a graph.\n",
        "    Args:\n",
        "        model_training_history: A history object containing a record of training and validation \n",
        "                                loss values and metrics values at successive epochs\n",
        "        metric_name_1:          The name of the first metric that needs to be plotted in the graph.\n",
        "        metric_name_2:          The name of the second metric that needs to be plotted in the graph.\n",
        "        plot_name:              The title of the graph.\n",
        "    '''\n",
        "    \n",
        "    # Get metric values using metric names as identifiers.\n",
        "    metric_value_1 = model_training_history.history[metric_name_1]\n",
        "    metric_value_2 = model_training_history.history[metric_name_2]\n",
        "    \n",
        "    # Construct a range object which will be used as x-axis (horizontal plane) of the graph.\n",
        "    epochs = range(len(metric_value_1))\n",
        "\n",
        "    # Plot the Graph.\n",
        "    plt.plot(epochs, metric_value_1, 'blue', label = metric_name_1)\n",
        "    plt.plot(epochs, metric_value_2, 'red', label = metric_name_2)\n",
        "\n",
        "    # Add title to the plot.\n",
        "    plt.title(str(plot_name))\n",
        "\n",
        "    # Add legend to the plot.\n",
        "    plt.legend()"
      ]
    },
    {
      "cell_type": "code",
      "execution_count": 16,
      "metadata": {
        "id": "cvKY05ncbwof",
        "colab": {
          "base_uri": "https://localhost:8080/",
          "height": 281
        },
        "outputId": "27e4a055-8f70-480c-f25e-8c6f9381cf14"
      },
      "outputs": [
        {
          "output_type": "display_data",
          "data": {
            "text/plain": [
              "<Figure size 432x288 with 1 Axes>"
            ],
            "image/png": "[encoded data removed]"
          },
          "metadata": {
            "needs_background": "light"
          }
        }
      ],
      "source": [
        "plot_metric(cnn_3d_model_training_history, 'loss', 'val_loss', 'Total Loss vs Total Validation Loss')"
      ]
    },
    {
      "cell_type": "code",
      "execution_count": 17,
      "metadata": {
        "id": "o1iaaDHBb5i0",
        "colab": {
          "base_uri": "https://localhost:8080/",
          "height": 281
        },
        "outputId": "3d4dc07e-351a-451b-a00c-c2cc200cfed4"
      },
      "outputs": [
        {
          "output_type": "display_data",
          "data": {
            "text/plain": [
              "<Figure size 432x288 with 1 Axes>"
            ],
            "image/png": "[encoded data removed]"
          },
          "metadata": {
            "needs_background": "light"
          }
        }
      ],
      "source": [
        "plot_metric(cnn_3d_model_training_history, 'accuracy', 'val_accuracy', 'Total Accuracy vs Total Validation Accuracy') "
      ]
    }
  ],
  "metadata": {
    "accelerator": "GPU",
    "colab": {
      "background_execution": "on",
      "collapsed_sections": [],
      "machine_shape": "hm",
      "name": "3D_CNN.ipynb",
      "provenance": [],
      "authorship_tag": "ABX9TyMqx6JCNKQL60Hp4gFYTugu",
      "include_colab_link": true
    },
    "kernelspec": {
      "display_name": "Python 3",
      "name": "python3"
    },
    "language_info": {
      "name": "python"
    }
  },
  "nbformat": 4,
  "nbformat_minor": 0
}