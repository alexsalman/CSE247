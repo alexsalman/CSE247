{
  "cells": [
    {
      "cell_type": "markdown",
      "metadata": {
        "id": "view-in-github",
        "colab_type": "text"
      },
      "source": [
        "<a href=\"https://colab.research.google.com/github/alexsalman/CSE247/blob/main/3D_CNN.ipynb\" target=\"_parent\"><img src=\"https://colab.research.google.com/assets/colab-badge.svg\" alt=\"Open In Colab\"/></a>"
      ]
    },
    {
      "cell_type": "markdown",
      "metadata": {
        "id": "Kk7I8NauauE3"
      },
      "source": [
        "####**3D Convolutional Neural Network**\n",
        "######*I am using 3D Convolutional Neural Network to extract the temporal and spatial information which are merged slowly throughout the whole network.*"
      ]
    },
    {
      "cell_type": "code",
      "execution_count": 1,
      "metadata": {
        "colab": {
          "base_uri": "https://localhost:8080/"
        },
        "id": "M8ibtd5HKtZk",
        "outputId": "249cb29c-44ae-4805-f989-76caee9bad2c"
      },
      "outputs": [
        {
          "output_type": "stream",
          "name": "stdout",
          "text": [
            "2.8.0\n"
          ]
        }
      ],
      "source": [
        "# required libraries\n",
        "import os\n",
        "import cv2\n",
        "import math\n",
        "import random\n",
        "import numpy as np\n",
        "import datetime as dt\n",
        "from collections import deque\n",
        "import matplotlib.pyplot as plt\n",
        "from google.colab import drive\n",
        "from sklearn.model_selection import train_test_split\n",
        "import tensorflow as tf\n",
        "from tensorflow import keras\n",
        "from keras.models import Sequential\n",
        "from keras.layers import Dense, Flatten, Conv3D, MaxPooling3D, Dropout, BatchNormalization, GlobalAveragePooling3D\n",
        "from PIL import Image\n",
        "%matplotlib inline\n",
        "print(tf.version.VERSION)\n",
        "# https://bleedai.com/human-activity-recognition-using-tensorflow-cnn-lstm/"
      ]
    },
    {
      "cell_type": "code",
      "execution_count": 2,
      "metadata": {
        "id": "iffdFOf1CEAN"
      },
      "outputs": [],
      "source": [
        "# set Numpy, Python, and Tensorflow seeds to get consistent results on every execution\n",
        "seed_constant = 27\n",
        "np.random.seed(seed_constant)\n",
        "random.seed(seed_constant)\n",
        "tf.random.set_seed(seed_constant)"
      ]
    },
    {
      "cell_type": "code",
      "execution_count": 3,
      "metadata": {
        "colab": {
          "base_uri": "https://localhost:8080/",
          "height": 53
        },
        "id": "mcLh22LiOHyn",
        "outputId": "155ca883-f85a-43b9-c0dc-0c2e09138552"
      },
      "outputs": [
        {
          "output_type": "stream",
          "name": "stdout",
          "text": [
            "Mounted at /content/gdrive/\n"
          ]
        },
        {
          "output_type": "execute_result",
          "data": {
            "text/plain": [
              "'/content/gdrive/My Drive/247'"
            ],
            "application/vnd.google.colaboratory.intrinsic+json": {
              "type": "string"
            }
          },
          "metadata": {},
          "execution_count": 3
        }
      ],
      "source": [
        "# mount dataset from google drive\n",
        "drive.mount('/content/gdrive/', force_remount=True)\n",
        "gdrive_path = '/content/gdrive' + '/My Drive/247/'\n",
        "os.chdir(gdrive_path)\n",
        "os.getcwd()"
      ]
    },
    {
      "cell_type": "code",
      "execution_count": 4,
      "metadata": {
        "id": "oeDK8SzumZ1Q"
      },
      "outputs": [],
      "source": [
        "# frame dimention\n",
        "IMAGE_HEIGHT, IMAGE_WIDTH = 128, 128\n",
        "# frame number for each video (depth)\n",
        "SEQUENCE_LENGTH = 16\n",
        "# video dir path\n",
        "DATASET_DIR = gdrive_path + 'Cropped_videos'\n",
        "# labels of classes\n",
        "CLASSES_LIST = ['hemostasis', 'inflammatory', 'proliferative', 'maturation']"
      ]
    },
    {
      "cell_type": "code",
      "execution_count": 5,
      "metadata": {
        "id": "HUTeIqzpZc9J"
      },
      "outputs": [],
      "source": [
        "# image cropping\n",
        "def crop_center_square(frame):\n",
        "    y, x = frame.shape[0:2]\n",
        "    min_dim = min(y, x)\n",
        "    start_x = (x // 2) - (min_dim // 2)\n",
        "    start_y = (y // 2) - (min_dim // 2)\n",
        "    return frame[start_y:start_y+min_dim,start_x:start_x+min_dim]"
      ]
    },
    {
      "cell_type": "code",
      "execution_count": 6,
      "metadata": {
        "id": "QRDbHG0TZkYJ"
      },
      "outputs": [],
      "source": [
        "# https://medium.com/analytics-vidhya/video-preprocessor-and-augmentation-for-deep-learning-tasks-12dd3fcce868\n",
        "def load_video(path, resize=(128, 128)):\n",
        "    video_reader = cv2.VideoCapture(path)\n",
        "    frames = []\n",
        "    try:\n",
        "        while True:\n",
        "            ret, frame = video_reader.read()\n",
        "            if not ret:\n",
        "                  break\n",
        "            # frame = crop_center_square(frame)\n",
        "            frame = cv2.resize(frame, resize)\n",
        "            frame = frame[:, :, [2, 1, 0]]\n",
        "            black_frame = frame\n",
        "            frames.append(frame)\n",
        "    finally:\n",
        "        video_reader.release()\n",
        "    return np.array(frames) / 255.0"
      ]
    },
    {
      "cell_type": "code",
      "execution_count": 7,
      "metadata": {
        "id": "ljUWHW6Jqzu-"
      },
      "outputs": [],
      "source": [
        "def create_dataset(state):\n",
        "    # Declared Empty Lists to store the features, labels and video file path values.\n",
        "    features = []\n",
        "    labels = []\n",
        "    video_files_paths = []\n",
        "    # Iterating through all the classes mentioned in the classes list\n",
        "    for class_index, class_name in enumerate(CLASSES_LIST):\n",
        "        # Display the name of the class whose data is being extracted.\n",
        "        print(f'Extracting Data of Class: {class_name} {state}')\n",
        "        # Get the list of video files present in the specific class name directory.\n",
        "        files_list = os.listdir(os.path.join(DATASET_DIR, class_name))\n",
        "        # Iterate through all the files present in the files list.\n",
        "        for file_name in files_list:\n",
        "            # Get the complete video path.\n",
        "            video_file_path = os.path.join(DATASET_DIR, class_name, file_name)\n",
        "            # create testing data\n",
        "            if state == 'test':\n",
        "                # get the mouse number\n",
        "                mouse_number = int(video_file_path.split(' ')[2].split('_')[1].split('-')[1])\n",
        "                # get the mouse side (L or R)\n",
        "                mouse_side = video_file_path.split(' ')[2].split('_')[1].split('-')[2]\n",
        "                if mouse_number == 4 and mouse_side == 'L':\n",
        "                    frames = load_video(video_file_path)\n",
        "                    features.append(frames)\n",
        "                    labels.append(class_index)\n",
        "                    video_files_paths.append(video_file_path)\n",
        "            # create validation data\n",
        "            elif state == 'valid':\n",
        "                # get the mouse number\n",
        "                mouse_number = int(video_file_path.split(' ')[2].split('_')[1].split('-')[1])\n",
        "                # get the mouse side (L or R)\n",
        "                mouse_side = video_file_path.split(' ')[2].split('_')[1].split('-')[2]\n",
        "                if mouse_number == 4 and mouse_side == 'R':\n",
        "                    frames = load_video(video_file_path)\n",
        "                    features.append(frames)\n",
        "                    labels.append(class_index)\n",
        "                    video_files_paths.append(video_file_path)\n",
        "            # create training data\n",
        "            else:\n",
        "                # get the mouse number\n",
        "                mouse_number = int(video_file_path.split(' ')[2].split('_')[1].split('-')[1])\n",
        "                if mouse_number != 4:\n",
        "                    frames = load_video(video_file_path)\n",
        "                    features.append(frames)\n",
        "                    labels.append(class_index)\n",
        "                    video_files_paths.append(video_file_path)\n",
        "    # Converting the list to numpy arrays\n",
        "    features = np.asarray(features)\n",
        "    # print(features)\n",
        "    labels = np.array(labels)\n",
        "    # Return the frames, class index, and video file path.\n",
        "    return features, labels, video_files_paths"
      ]
    },
    {
      "cell_type": "code",
      "execution_count": 8,
      "metadata": {
        "colab": {
          "base_uri": "https://localhost:8080/"
        },
        "id": "a8rpanz9rASe",
        "outputId": "14242bbf-2e25-4a42-b182-f5bd2311a8bb"
      },
      "outputs": [
        {
          "output_type": "stream",
          "name": "stdout",
          "text": [
            "Extracting Data of Class: hemostasis train\n",
            "Extracting Data of Class: inflammatory train\n",
            "Extracting Data of Class: proliferative train\n",
            "Extracting Data of Class: maturation train\n",
            "Extracting Data of Class: hemostasis test\n",
            "Extracting Data of Class: inflammatory test\n",
            "Extracting Data of Class: proliferative test\n",
            "Extracting Data of Class: maturation test\n",
            "Extracting Data of Class: hemostasis valid\n",
            "Extracting Data of Class: inflammatory valid\n",
            "Extracting Data of Class: proliferative valid\n",
            "Extracting Data of Class: maturation valid\n"
          ]
        }
      ],
      "source": [
        "# 6 mice for training, 2 mice for test and validation (one wound on each mice for test one for validation)\n",
        "features_train, labels_train, video_files_paths_train = create_dataset('train')\n",
        "features_test, labels_test, video_files_paths_test = create_dataset('test')\n",
        "features_valid, labels_valid, video_files_paths_valid = create_dataset('valid')"
      ]
    },
    {
      "cell_type": "code",
      "execution_count": 9,
      "metadata": {
        "id": "dtJkK4qTAulC"
      },
      "outputs": [],
      "source": [
        "# one_hot_encoded_labels\n",
        "labels_train = keras.utils.to_categorical(labels_train)\n",
        "labels_test = keras.utils.to_categorical(labels_test)\n",
        "labels_valid = keras.utils.to_categorical(labels_valid)"
      ]
    },
    {
      "cell_type": "code",
      "execution_count": 10,
      "metadata": {
        "id": "N-9ykP4ig7IW"
      },
      "outputs": [],
      "source": [
        "def create_3D_CNN_model():\n",
        "    sample_shape = (16, 128, 128, 3)\n",
        "    model = Sequential()\n",
        "\n",
        "    model.add(Conv3D(32, 3, activation='relu', kernel_initializer='he_uniform', input_shape=sample_shape))\n",
        "    model.add(BatchNormalization())\n",
        "    model.add(MaxPooling3D(2))\n",
        "    model.add(Dropout(0.35))\n",
        "\n",
        "    model.add(Conv3D(32, 3, activation='relu', kernel_initializer='he_uniform'))\n",
        "    model.add(BatchNormalization())\n",
        "    model.add(MaxPooling3D(2))\n",
        "    model.add(Dropout(0.35))\n",
        "\n",
        "    model.add(GlobalAveragePooling3D())\n",
        "\n",
        "    model.add(Dense(32, activation='relu', kernel_initializer='he_uniform'))\n",
        "    model.add(Dropout(0.35))\n",
        "    model.add(Dense(16, activation='relu', kernel_initializer='he_uniform'))\n",
        "    model.add(Dropout(0.6))\n",
        "    # model.add(Dense(8, activation='relu', kernel_initializer='he_uniform'))\n",
        "    # model.add(Dropout(0.3))\n",
        "    # model.add(Dense(8, activation='relu', kernel_initializer='he_uniform'))\n",
        "    # model.add(Dropout(0.3))\n",
        "    model.add(Dense(len(CLASSES_LIST), activation='softmax'))\n",
        "\n",
        "    # Display the models summary.\n",
        "    model.summary(line_length = 125)\n",
        "    # Return the constructed 3D_CNN model.\n",
        "    return model"
      ]
    },
    {
      "cell_type": "code",
      "execution_count": 11,
      "metadata": {
        "colab": {
          "base_uri": "https://localhost:8080/"
        },
        "id": "Z4_GxXZBcHlB",
        "outputId": "2ba55331-1ba2-4c07-d233-7ad8e085c61f"
      },
      "outputs": [
        {
          "output_type": "stream",
          "name": "stdout",
          "text": [
            "Model: \"sequential\"\n",
            "_____________________________________________________________________________________________________________________________\n",
            " Layer (type)                                           Output Shape                                      Param #            \n",
            "=============================================================================================================================\n",
            " conv3d (Conv3D)                                        (None, 14, 126, 126, 32)                          2624               \n",
            "                                                                                                                             \n",
            " batch_normalization (BatchNormalization)               (None, 14, 126, 126, 32)                          128                \n",
            "                                                                                                                             \n",
            " max_pooling3d (MaxPooling3D)                           (None, 7, 63, 63, 32)                             0                  \n",
            "                                                                                                                             \n",
            " dropout (Dropout)                                      (None, 7, 63, 63, 32)                             0                  \n",
            "                                                                                                                             \n",
            " conv3d_1 (Conv3D)                                      (None, 5, 61, 61, 32)                             27680              \n",
            "                                                                                                                             \n",
            " batch_normalization_1 (BatchNormalization)             (None, 5, 61, 61, 32)                             128                \n",
            "                                                                                                                             \n",
            " max_pooling3d_1 (MaxPooling3D)                         (None, 2, 30, 30, 32)                             0                  \n",
            "                                                                                                                             \n",
            " dropout_1 (Dropout)                                    (None, 2, 30, 30, 32)                             0                  \n",
            "                                                                                                                             \n",
            " global_average_pooling3d (GlobalAveragePooling3D)      (None, 32)                                        0                  \n",
            "                                                                                                                             \n",
            " dense (Dense)                                          (None, 32)                                        1056               \n",
            "                                                                                                                             \n",
            " dropout_2 (Dropout)                                    (None, 32)                                        0                  \n",
            "                                                                                                                             \n",
            " dense_1 (Dense)                                        (None, 16)                                        528                \n",
            "                                                                                                                             \n",
            " dropout_3 (Dropout)                                    (None, 16)                                        0                  \n",
            "                                                                                                                             \n",
            " dense_2 (Dense)                                        (None, 4)                                         68                 \n",
            "                                                                                                                             \n",
            "=============================================================================================================================\n",
            "Total params: 32,212\n",
            "Trainable params: 32,084\n",
            "Non-trainable params: 128\n",
            "_____________________________________________________________________________________________________________________________\n",
            "Model Created Successfully!\n"
          ]
        }
      ],
      "source": [
        "# Construct the required convlstm model.\n",
        "model = create_3D_CNN_model()\n",
        " \n",
        "# Display the success message. \n",
        "print(\"Model Created Successfully!\")"
      ]
    },
    {
      "cell_type": "code",
      "execution_count": 12,
      "metadata": {
        "colab": {
          "base_uri": "https://localhost:8080/"
        },
        "id": "MwYEkaYLoyb_",
        "outputId": "2f2a7a73-0dd0-4f41-ac12-a222a65a17dd"
      },
      "outputs": [
        {
          "output_type": "stream",
          "name": "stdout",
          "text": [
            "Epoch 1/100\n",
            "34/34 [==============================] - 14s 331ms/step - loss: 1.9570 - accuracy: 0.3193 - val_loss: 1.5908 - val_accuracy: 0.1581\n",
            "Epoch 2/100\n",
            "34/34 [==============================] - 10s 296ms/step - loss: 1.3042 - accuracy: 0.4189 - val_loss: 1.3929 - val_accuracy: 0.3235\n",
            "Epoch 3/100\n",
            "34/34 [==============================] - 10s 300ms/step - loss: 1.1754 - accuracy: 0.4907 - val_loss: 1.3772 - val_accuracy: 0.3787\n",
            "Epoch 4/100\n",
            "34/34 [==============================] - 10s 297ms/step - loss: 1.0867 - accuracy: 0.5019 - val_loss: 1.3482 - val_accuracy: 0.4044\n",
            "Epoch 5/100\n",
            "34/34 [==============================] - 10s 296ms/step - loss: 1.0359 - accuracy: 0.5062 - val_loss: 1.2494 - val_accuracy: 0.4816\n",
            "Epoch 6/100\n",
            "34/34 [==============================] - 10s 296ms/step - loss: 1.0163 - accuracy: 0.5068 - val_loss: 1.1678 - val_accuracy: 0.4449\n",
            "Epoch 7/100\n",
            "34/34 [==============================] - 10s 297ms/step - loss: 0.9736 - accuracy: 0.5489 - val_loss: 1.1717 - val_accuracy: 0.4779\n",
            "Epoch 8/100\n",
            "34/34 [==============================] - 10s 297ms/step - loss: 0.9227 - accuracy: 0.5675 - val_loss: 1.1133 - val_accuracy: 0.4743\n",
            "Epoch 9/100\n",
            "34/34 [==============================] - 10s 300ms/step - loss: 0.8790 - accuracy: 0.5817 - val_loss: 1.0219 - val_accuracy: 0.5625\n",
            "Epoch 10/100\n",
            "34/34 [==============================] - 10s 298ms/step - loss: 0.8611 - accuracy: 0.5953 - val_loss: 0.9542 - val_accuracy: 0.5294\n",
            "Epoch 11/100\n",
            "34/34 [==============================] - 10s 296ms/step - loss: 0.8428 - accuracy: 0.5953 - val_loss: 0.9160 - val_accuracy: 0.6691\n",
            "Epoch 12/100\n",
            "34/34 [==============================] - 10s 298ms/step - loss: 0.8171 - accuracy: 0.6163 - val_loss: 0.8579 - val_accuracy: 0.6581\n",
            "Epoch 13/100\n",
            "34/34 [==============================] - 10s 297ms/step - loss: 0.7943 - accuracy: 0.6553 - val_loss: 0.9454 - val_accuracy: 0.5662\n",
            "Epoch 14/100\n",
            "34/34 [==============================] - 10s 299ms/step - loss: 0.7803 - accuracy: 0.6337 - val_loss: 0.8626 - val_accuracy: 0.6397\n",
            "Epoch 15/100\n",
            "34/34 [==============================] - 10s 299ms/step - loss: 0.7668 - accuracy: 0.6473 - val_loss: 0.8468 - val_accuracy: 0.6324\n",
            "Epoch 16/100\n",
            "34/34 [==============================] - 10s 296ms/step - loss: 0.7601 - accuracy: 0.6590 - val_loss: 0.8198 - val_accuracy: 0.6618\n",
            "Epoch 17/100\n",
            "34/34 [==============================] - 10s 296ms/step - loss: 0.7153 - accuracy: 0.6671 - val_loss: 0.7639 - val_accuracy: 0.6471\n",
            "Epoch 18/100\n",
            "34/34 [==============================] - 10s 297ms/step - loss: 0.7047 - accuracy: 0.6640 - val_loss: 0.7492 - val_accuracy: 0.6434\n",
            "Epoch 19/100\n",
            "34/34 [==============================] - 10s 295ms/step - loss: 0.7030 - accuracy: 0.6782 - val_loss: 0.7670 - val_accuracy: 0.6581\n",
            "Epoch 20/100\n",
            "34/34 [==============================] - 10s 297ms/step - loss: 0.6782 - accuracy: 0.6949 - val_loss: 0.7265 - val_accuracy: 0.6471\n",
            "Epoch 21/100\n",
            "34/34 [==============================] - 10s 297ms/step - loss: 0.6588 - accuracy: 0.6887 - val_loss: 0.7014 - val_accuracy: 0.6765\n",
            "Epoch 22/100\n",
            "34/34 [==============================] - 10s 298ms/step - loss: 0.6590 - accuracy: 0.7042 - val_loss: 0.6980 - val_accuracy: 0.6581\n",
            "Epoch 23/100\n",
            "34/34 [==============================] - 10s 299ms/step - loss: 0.6442 - accuracy: 0.7054 - val_loss: 0.6318 - val_accuracy: 0.7169\n",
            "Epoch 24/100\n",
            "34/34 [==============================] - 10s 296ms/step - loss: 0.6251 - accuracy: 0.7184 - val_loss: 0.8420 - val_accuracy: 0.5515\n",
            "Epoch 25/100\n",
            "34/34 [==============================] - 10s 296ms/step - loss: 0.6056 - accuracy: 0.7222 - val_loss: 0.7652 - val_accuracy: 0.6728\n",
            "Epoch 26/100\n",
            "34/34 [==============================] - 10s 297ms/step - loss: 0.6252 - accuracy: 0.7098 - val_loss: 0.8465 - val_accuracy: 0.5735\n",
            "Epoch 27/100\n",
            "34/34 [==============================] - 10s 296ms/step - loss: 0.6175 - accuracy: 0.7314 - val_loss: 0.6340 - val_accuracy: 0.7353\n",
            "Epoch 28/100\n",
            "34/34 [==============================] - 10s 299ms/step - loss: 0.5706 - accuracy: 0.7420 - val_loss: 0.6596 - val_accuracy: 0.7022\n",
            "Epoch 29/100\n",
            "34/34 [==============================] - 10s 297ms/step - loss: 0.5916 - accuracy: 0.7203 - val_loss: 0.7079 - val_accuracy: 0.6801\n",
            "Epoch 30/100\n",
            "34/34 [==============================] - 10s 297ms/step - loss: 0.5844 - accuracy: 0.7290 - val_loss: 0.8161 - val_accuracy: 0.6324\n",
            "Epoch 31/100\n",
            "34/34 [==============================] - 10s 297ms/step - loss: 0.5537 - accuracy: 0.7494 - val_loss: 0.7835 - val_accuracy: 0.5956\n",
            "Epoch 32/100\n",
            "34/34 [==============================] - 10s 296ms/step - loss: 0.5765 - accuracy: 0.7308 - val_loss: 0.6208 - val_accuracy: 0.7243\n",
            "Epoch 33/100\n",
            "34/34 [==============================] - 10s 300ms/step - loss: 0.5527 - accuracy: 0.7519 - val_loss: 0.6807 - val_accuracy: 0.6875\n",
            "Epoch 34/100\n",
            "34/34 [==============================] - 10s 295ms/step - loss: 0.5419 - accuracy: 0.7574 - val_loss: 0.6613 - val_accuracy: 0.6654\n",
            "Epoch 35/100\n",
            "34/34 [==============================] - 10s 297ms/step - loss: 0.5909 - accuracy: 0.7209 - val_loss: 0.8405 - val_accuracy: 0.6140\n",
            "Epoch 36/100\n",
            "34/34 [==============================] - 10s 296ms/step - loss: 0.5402 - accuracy: 0.7649 - val_loss: 0.6145 - val_accuracy: 0.7243\n",
            "Epoch 37/100\n",
            "34/34 [==============================] - 10s 297ms/step - loss: 0.5750 - accuracy: 0.7389 - val_loss: 0.5762 - val_accuracy: 0.7463\n",
            "Epoch 38/100\n",
            "34/34 [==============================] - 10s 296ms/step - loss: 0.5308 - accuracy: 0.7611 - val_loss: 0.6706 - val_accuracy: 0.6581\n",
            "Epoch 39/100\n",
            "34/34 [==============================] - 10s 298ms/step - loss: 0.5599 - accuracy: 0.7333 - val_loss: 0.9850 - val_accuracy: 0.5735\n",
            "Epoch 40/100\n",
            "34/34 [==============================] - 10s 296ms/step - loss: 0.5400 - accuracy: 0.7500 - val_loss: 0.6159 - val_accuracy: 0.7279\n",
            "Epoch 41/100\n",
            "34/34 [==============================] - 10s 297ms/step - loss: 0.5231 - accuracy: 0.7519 - val_loss: 0.5665 - val_accuracy: 0.7500\n",
            "Epoch 42/100\n",
            "34/34 [==============================] - 10s 296ms/step - loss: 0.5034 - accuracy: 0.7673 - val_loss: 0.6409 - val_accuracy: 0.7096\n",
            "Epoch 43/100\n",
            "34/34 [==============================] - 10s 297ms/step - loss: 0.5222 - accuracy: 0.7525 - val_loss: 0.5661 - val_accuracy: 0.7390\n",
            "Epoch 44/100\n",
            "34/34 [==============================] - 10s 297ms/step - loss: 0.4911 - accuracy: 0.7735 - val_loss: 0.6249 - val_accuracy: 0.7059\n",
            "Epoch 45/100\n",
            "34/34 [==============================] - 10s 298ms/step - loss: 0.5067 - accuracy: 0.7661 - val_loss: 0.8815 - val_accuracy: 0.6066\n",
            "Epoch 46/100\n",
            "34/34 [==============================] - 10s 298ms/step - loss: 0.4947 - accuracy: 0.7847 - val_loss: 0.6584 - val_accuracy: 0.7096\n",
            "Epoch 47/100\n",
            "34/34 [==============================] - 10s 298ms/step - loss: 0.4907 - accuracy: 0.7673 - val_loss: 0.6579 - val_accuracy: 0.7169\n",
            "Epoch 48/100\n",
            "34/34 [==============================] - 10s 295ms/step - loss: 0.4973 - accuracy: 0.7785 - val_loss: 0.6128 - val_accuracy: 0.7169\n",
            "Epoch 49/100\n",
            "34/34 [==============================] - 10s 297ms/step - loss: 0.5322 - accuracy: 0.7494 - val_loss: 0.6252 - val_accuracy: 0.7610\n",
            "Epoch 50/100\n",
            "34/34 [==============================] - 10s 297ms/step - loss: 0.5024 - accuracy: 0.7791 - val_loss: 0.5901 - val_accuracy: 0.7169\n",
            "Epoch 51/100\n",
            "34/34 [==============================] - 10s 296ms/step - loss: 0.4885 - accuracy: 0.7847 - val_loss: 0.6630 - val_accuracy: 0.6765\n",
            "Epoch 52/100\n",
            "34/34 [==============================] - 10s 296ms/step - loss: 0.4701 - accuracy: 0.7828 - val_loss: 0.6997 - val_accuracy: 0.6728\n",
            "Epoch 53/100\n",
            "34/34 [==============================] - 10s 297ms/step - loss: 0.4808 - accuracy: 0.7772 - val_loss: 0.8107 - val_accuracy: 0.6434\n",
            "Epoch 54/100\n",
            "34/34 [==============================] - 10s 296ms/step - loss: 0.4648 - accuracy: 0.7834 - val_loss: 0.8379 - val_accuracy: 0.6103\n",
            "Epoch 55/100\n",
            "34/34 [==============================] - 10s 297ms/step - loss: 0.4768 - accuracy: 0.7853 - val_loss: 0.6305 - val_accuracy: 0.7316\n",
            "Epoch 56/100\n",
            "34/34 [==============================] - 10s 296ms/step - loss: 0.4669 - accuracy: 0.7803 - val_loss: 0.8176 - val_accuracy: 0.6765\n",
            "Epoch 57/100\n",
            "34/34 [==============================] - 10s 296ms/step - loss: 0.4606 - accuracy: 0.7890 - val_loss: 0.6272 - val_accuracy: 0.7279\n",
            "Epoch 58/100\n",
            "34/34 [==============================] - 10s 296ms/step - loss: 0.4662 - accuracy: 0.7797 - val_loss: 0.7154 - val_accuracy: 0.7059\n",
            "Epoch 59/100\n",
            "34/34 [==============================] - 10s 296ms/step - loss: 0.4831 - accuracy: 0.7915 - val_loss: 0.7815 - val_accuracy: 0.7022\n",
            "Epoch 60/100\n",
            "34/34 [==============================] - 10s 296ms/step - loss: 0.4715 - accuracy: 0.7896 - val_loss: 0.7767 - val_accuracy: 0.7059\n",
            "Epoch 61/100\n",
            "34/34 [==============================] - 10s 297ms/step - loss: 0.4425 - accuracy: 0.7871 - val_loss: 0.6346 - val_accuracy: 0.7243\n",
            "Epoch 62/100\n",
            "34/34 [==============================] - 10s 297ms/step - loss: 0.4208 - accuracy: 0.8045 - val_loss: 0.5999 - val_accuracy: 0.7390\n",
            "Epoch 63/100\n",
            "34/34 [==============================] - 10s 298ms/step - loss: 0.4276 - accuracy: 0.8100 - val_loss: 0.5509 - val_accuracy: 0.7537\n",
            "Epoch 64/100\n",
            "34/34 [==============================] - 10s 299ms/step - loss: 0.4439 - accuracy: 0.7964 - val_loss: 0.9081 - val_accuracy: 0.6250\n",
            "Epoch 65/100\n",
            "34/34 [==============================] - 10s 299ms/step - loss: 0.4448 - accuracy: 0.7995 - val_loss: 0.7205 - val_accuracy: 0.7059\n",
            "Epoch 66/100\n",
            "34/34 [==============================] - 10s 298ms/step - loss: 0.4485 - accuracy: 0.8007 - val_loss: 0.8134 - val_accuracy: 0.6434\n",
            "Epoch 67/100\n",
            "34/34 [==============================] - 10s 300ms/step - loss: 0.4389 - accuracy: 0.8094 - val_loss: 1.0196 - val_accuracy: 0.5882\n",
            "Epoch 68/100\n",
            "34/34 [==============================] - 10s 297ms/step - loss: 0.4240 - accuracy: 0.8045 - val_loss: 0.6513 - val_accuracy: 0.7206\n",
            "Epoch 69/100\n",
            "34/34 [==============================] - 10s 296ms/step - loss: 0.4218 - accuracy: 0.7976 - val_loss: 0.5264 - val_accuracy: 0.7757\n",
            "Epoch 70/100\n",
            "34/34 [==============================] - 10s 296ms/step - loss: 0.4368 - accuracy: 0.8026 - val_loss: 0.7371 - val_accuracy: 0.7132\n",
            "Epoch 71/100\n",
            "34/34 [==============================] - 10s 296ms/step - loss: 0.4284 - accuracy: 0.7933 - val_loss: 0.6926 - val_accuracy: 0.7096\n",
            "Epoch 72/100\n",
            "34/34 [==============================] - 10s 296ms/step - loss: 0.4444 - accuracy: 0.7933 - val_loss: 0.6093 - val_accuracy: 0.7243\n",
            "Epoch 73/100\n",
            "34/34 [==============================] - 10s 297ms/step - loss: 0.4159 - accuracy: 0.8007 - val_loss: 0.5894 - val_accuracy: 0.7206\n",
            "Epoch 74/100\n",
            "34/34 [==============================] - 10s 297ms/step - loss: 0.4067 - accuracy: 0.8106 - val_loss: 0.5656 - val_accuracy: 0.7721\n",
            "Epoch 75/100\n",
            "34/34 [==============================] - 10s 299ms/step - loss: 0.4170 - accuracy: 0.8032 - val_loss: 0.7659 - val_accuracy: 0.7022\n",
            "Epoch 76/100\n",
            "34/34 [==============================] - 10s 297ms/step - loss: 0.4409 - accuracy: 0.8119 - val_loss: 0.5353 - val_accuracy: 0.7831\n",
            "Epoch 77/100\n",
            "34/34 [==============================] - 10s 296ms/step - loss: 0.4161 - accuracy: 0.7970 - val_loss: 0.6224 - val_accuracy: 0.7537\n",
            "Epoch 78/100\n",
            "34/34 [==============================] - 10s 298ms/step - loss: 0.4023 - accuracy: 0.8088 - val_loss: 0.8483 - val_accuracy: 0.6618\n",
            "Epoch 79/100\n",
            "34/34 [==============================] - 10s 298ms/step - loss: 0.4128 - accuracy: 0.8125 - val_loss: 0.5580 - val_accuracy: 0.7426\n",
            "Epoch 80/100\n",
            "34/34 [==============================] - 10s 297ms/step - loss: 0.4132 - accuracy: 0.8100 - val_loss: 0.5727 - val_accuracy: 0.7574\n",
            "Epoch 81/100\n",
            "34/34 [==============================] - 10s 298ms/step - loss: 0.3830 - accuracy: 0.8193 - val_loss: 0.5686 - val_accuracy: 0.7610\n",
            "Epoch 82/100\n",
            "34/34 [==============================] - 10s 296ms/step - loss: 0.4222 - accuracy: 0.8125 - val_loss: 0.5566 - val_accuracy: 0.7610\n",
            "Epoch 83/100\n",
            "34/34 [==============================] - 10s 296ms/step - loss: 0.4039 - accuracy: 0.8131 - val_loss: 0.6674 - val_accuracy: 0.7243\n",
            "Epoch 84/100\n",
            "34/34 [==============================] - 10s 299ms/step - loss: 0.4075 - accuracy: 0.8045 - val_loss: 0.7547 - val_accuracy: 0.7353\n",
            "Epoch 85/100\n",
            "34/34 [==============================] - 10s 298ms/step - loss: 0.3935 - accuracy: 0.8243 - val_loss: 0.6852 - val_accuracy: 0.7426\n",
            "Epoch 86/100\n",
            "34/34 [==============================] - 10s 297ms/step - loss: 0.3811 - accuracy: 0.8162 - val_loss: 0.8012 - val_accuracy: 0.7022\n",
            "Epoch 87/100\n",
            "34/34 [==============================] - 10s 297ms/step - loss: 0.4051 - accuracy: 0.8168 - val_loss: 0.5531 - val_accuracy: 0.7794\n",
            "Epoch 88/100\n",
            "34/34 [==============================] - 10s 296ms/step - loss: 0.3856 - accuracy: 0.8249 - val_loss: 0.6001 - val_accuracy: 0.7279\n",
            "Epoch 89/100\n",
            "34/34 [==============================] - 10s 296ms/step - loss: 0.3726 - accuracy: 0.8236 - val_loss: 0.5882 - val_accuracy: 0.7463\n",
            "Epoch 90/100\n",
            "34/34 [==============================] - 10s 298ms/step - loss: 0.4027 - accuracy: 0.8156 - val_loss: 0.6808 - val_accuracy: 0.6985\n",
            "Epoch 91/100\n",
            "34/34 [==============================] - 10s 296ms/step - loss: 0.3937 - accuracy: 0.8187 - val_loss: 0.9026 - val_accuracy: 0.6471\n",
            "Epoch 92/100\n",
            "34/34 [==============================] - 10s 297ms/step - loss: 0.3781 - accuracy: 0.8193 - val_loss: 0.6091 - val_accuracy: 0.7426\n",
            "Epoch 93/100\n",
            "34/34 [==============================] - 10s 297ms/step - loss: 0.3815 - accuracy: 0.8274 - val_loss: 1.2972 - val_accuracy: 0.6324\n",
            "Epoch 94/100\n",
            "34/34 [==============================] - 10s 298ms/step - loss: 0.3741 - accuracy: 0.8187 - val_loss: 0.8727 - val_accuracy: 0.7390\n",
            "Epoch 95/100\n",
            "34/34 [==============================] - 10s 299ms/step - loss: 0.3770 - accuracy: 0.8323 - val_loss: 0.7530 - val_accuracy: 0.7059\n",
            "Epoch 96/100\n",
            "34/34 [==============================] - 10s 298ms/step - loss: 0.3898 - accuracy: 0.8243 - val_loss: 0.7767 - val_accuracy: 0.6654\n",
            "Epoch 97/100\n",
            "34/34 [==============================] - 10s 296ms/step - loss: 0.3819 - accuracy: 0.8175 - val_loss: 0.8437 - val_accuracy: 0.6875\n",
            "Epoch 98/100\n",
            "34/34 [==============================] - 10s 298ms/step - loss: 0.3790 - accuracy: 0.8162 - val_loss: 0.6663 - val_accuracy: 0.7463\n",
            "Epoch 99/100\n",
            "34/34 [==============================] - 10s 296ms/step - loss: 0.4025 - accuracy: 0.8125 - val_loss: 0.8954 - val_accuracy: 0.6618\n",
            "Epoch 100/100\n",
            "34/34 [==============================] - 10s 296ms/step - loss: 0.3841 - accuracy: 0.8304 - val_loss: 1.1608 - val_accuracy: 0.6397\n"
          ]
        }
      ],
      "source": [
        "# Create an Instance of Early Stopping Callback\n",
        "early_stopping_callback = keras.callbacks.EarlyStopping(monitor = 'val_loss',\n",
        "                                                        patience = 20,\n",
        "                                                        mode = 'min',\n",
        "                                                        restore_best_weights = True)\n",
        "# Compile the model and specify loss function, optimizer and metrics values to the model\n",
        "model.compile(loss = 'categorical_crossentropy',\n",
        "              optimizer= keras.optimizers.Adam(0.001, decay=1e-4),\n",
        "              metrics=['accuracy'])\n",
        "# Start training the model.\n",
        "cnn_3d_model_training_history = model.fit(x = features_train,\n",
        "                                          y = labels_train,\n",
        "                                          epochs=100,\n",
        "                                          batch_size=48,\n",
        "                                          shuffle = True,\n",
        "                                          validation_data = (features_valid, labels_valid)),\n",
        "                                          # callbacks = [early_stopping_callback])"
      ]
    },
    {
      "cell_type": "code",
      "execution_count": 13,
      "metadata": {
        "colab": {
          "base_uri": "https://localhost:8080/"
        },
        "id": "3vimsgjjbXvL",
        "outputId": "1f7c7b21-de1f-49f5-cf7b-c4b24d2f4e9d"
      },
      "outputs": [
        {
          "output_type": "stream",
          "name": "stdout",
          "text": [
            "9/9 [==============================] - 1s 78ms/step - loss: 1.0410 - accuracy: 0.6985\n",
            "\n",
            "\n",
            "Train accuracy: 89.356 % || Test accuracy: 69.853 % || Val accuracy: 63.971 %\n",
            "Train loss: 0.246 || Test loss: 1.041 || Val loss: 1.161\n"
          ]
        }
      ],
      "source": [
        "model_evaluation_history = model.evaluate(features_test, labels_test)\n",
        "print('\\n')\n",
        "train_loss, train_acc = model.evaluate(features_train, labels_train, verbose=0)\n",
        "test_loss, test_acc = model.evaluate(features_test, labels_test, verbose=0)\n",
        "val_loss, val_acc = model.evaluate(features_valid, labels_valid, verbose=0)\n",
        "print(f'Train accuracy: {train_acc*100:.3f} % || Test accuracy: {test_acc*100:.3f} % || Val accuracy: {val_acc*100:.3f} %')\n",
        "print(f'Train loss: {train_loss:.3f} || Test loss: {test_loss:.3f} || Val loss: {val_loss:.3f}')"
      ]
    },
    {
      "cell_type": "code",
      "execution_count": 14,
      "metadata": {
        "id": "ivmaK9BlbnRQ"
      },
      "outputs": [],
      "source": [
        "# Get the loss and accuracy from model_evaluation_history.\n",
        "model_evaluation_loss, model_evaluation_accuracy = model_evaluation_history\n",
        " \n",
        "# Define the string date format.\n",
        "# Get the current Date and Time in a DateTime Object.\n",
        "# Convert the DateTime object to string according to the style mentioned in date_time_format string.\n",
        "date_time_format = '%Y_%m_%d__%H_%M_%S'\n",
        "current_date_time_dt = dt.datetime.now()\n",
        "current_date_time_string = dt.datetime.strftime(current_date_time_dt, date_time_format)\n",
        " \n",
        "# Define a useful name for our model to make it easy for us while navigating through multiple saved models.\n",
        "model_file_name = f'3D_CNN_model___Date_Time_{current_date_time_string}___Loss_{model_evaluation_loss}___Accuracy_{model_evaluation_accuracy}.h5'\n",
        " \n",
        "# Change dir\n",
        "gdrive_path = '/content/gdrive' + '/My Drive/247/Saved_models/'\n",
        "os.chdir(gdrive_path)\n",
        "# Create a floder for the model files\n",
        "!mkdir -p cnn_3d_{current_date_time_string}\n",
        "# Save your Model.\n",
        "model.save('3D_CNN' + str(current_date_time_string) + '/' + model_file_name)\n",
        "# Save model weights\n",
        "model.save_weights('3D_CNN' + str(current_date_time_string) + '/' + 'weights')"
      ]
    },
    {
      "cell_type": "code",
      "execution_count": 15,
      "metadata": {
        "id": "OwU8TwPrbsKB"
      },
      "outputs": [],
      "source": [
        "def plot_metric(model_training_history, metric_name_1, metric_name_2, plot_name):\n",
        "    '''\n",
        "    This function will plot the metrics passed to it in a graph.\n",
        "    Args:\n",
        "        model_training_history: A history object containing a record of training and validation \n",
        "                                loss values and metrics values at successive epochs\n",
        "        metric_name_1:          The name of the first metric that needs to be plotted in the graph.\n",
        "        metric_name_2:          The name of the second metric that needs to be plotted in the graph.\n",
        "        plot_name:              The title of the graph.\n",
        "    '''\n",
        "    \n",
        "    # Get metric values using metric names as identifiers.\n",
        "    metric_value_1 = model_training_history[0].history[metric_name_1]\n",
        "    metric_value_2 = model_training_history[0].history[metric_name_2]\n",
        "    \n",
        "    # Construct a range object which will be used as x-axis (horizontal plane) of the graph.\n",
        "    epochs = range(len(metric_value_1))\n",
        "\n",
        "    # Plot the Graph.\n",
        "    plt.plot(epochs, metric_value_1, 'blue', label = metric_name_1)\n",
        "    plt.plot(epochs, metric_value_2, 'red', label = metric_name_2)\n",
        "\n",
        "    # Add title to the plot.\n",
        "    plt.title(str(plot_name))\n",
        "\n",
        "    # Add legend to the plot.\n",
        "    plt.legend()"
      ]
    },
    {
      "cell_type": "code",
      "execution_count": 16,
      "metadata": {
        "colab": {
          "base_uri": "https://localhost:8080/",
          "height": 281
        },
        "id": "cvKY05ncbwof",
        "outputId": "9b996753-ccf6-46df-b405-dcb2e5ea9cef"
      },
      "outputs": [
        {
          "output_type": "display_data",
          "data": {
            "text/plain": [
              "<Figure size 432x288 with 1 Axes>"
            ],
            "image/png": "[encoded data removed]"
          },
          "metadata": {
            "needs_background": "light"
          }
        }
      ],
      "source": [
        "plot_metric(cnn_3d_model_training_history, 'loss', 'val_loss', 'Total Loss vs Total Validation Loss')"
      ]
    },
    {
      "cell_type": "code",
      "execution_count": 17,
      "metadata": {
        "colab": {
          "base_uri": "https://localhost:8080/",
          "height": 281
        },
        "id": "o1iaaDHBb5i0",
        "outputId": "f3ed1cd0-a636-4945-f277-f3625e144156"
      },
      "outputs": [
        {
          "output_type": "display_data",
          "data": {
            "text/plain": [
              "<Figure size 432x288 with 1 Axes>"
            ],
            "image/png": "[encoded data removed]"
          },
          "metadata": {
            "needs_background": "light"
          }
        }
      ],
      "source": [
        "plot_metric(cnn_3d_model_training_history, 'accuracy', 'val_accuracy', 'Total Accuracy vs Total Validation Accuracy') "
      ]
    }
  ],
  "metadata": {
    "accelerator": "GPU",
    "colab": {
      "collapsed_sections": [],
      "machine_shape": "hm",
      "name": "3D_CNN.ipynb",
      "provenance": [],
      "authorship_tag": "ABX9TyPuW9NwHELMz3Zmp41B7gHo",
      "include_colab_link": true
    },
    "kernelspec": {
      "display_name": "Python 3",
      "name": "python3"
    },
    "language_info": {
      "name": "python"
    }
  },
  "nbformat": 4,
  "nbformat_minor": 0
}