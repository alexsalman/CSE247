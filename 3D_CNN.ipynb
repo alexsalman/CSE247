{
  "cells": [
    {
      "cell_type": "markdown",
      "metadata": {
        "id": "view-in-github",
        "colab_type": "text"
      },
      "source": [
        "<a href=\"https://colab.research.google.com/github/alexsalman/CSE247/blob/main/3D_CNN.ipynb\" target=\"_parent\"><img src=\"https://colab.research.google.com/assets/colab-badge.svg\" alt=\"Open In Colab\"/></a>"
      ]
    },
    {
      "cell_type": "markdown",
      "metadata": {
        "id": "Kk7I8NauauE3"
      },
      "source": [
        "####**3D Convolutional Neural Network**\n",
        "######*I am using 3D Convolutional Neural Network to extract the temporal and spatial information which are merged slowly throughout the whole network.*"
      ]
    },
    {
      "cell_type": "code",
      "execution_count": 1,
      "metadata": {
        "colab": {
          "base_uri": "https://localhost:8080/"
        },
        "id": "M8ibtd5HKtZk",
        "outputId": "82bb568a-dd91-431f-c1e0-5cceb7c9a2fd"
      },
      "outputs": [
        {
          "output_type": "stream",
          "name": "stdout",
          "text": [
            "2.8.0\n"
          ]
        }
      ],
      "source": [
        "# required libraries\n",
        "import os\n",
        "import cv2\n",
        "import math\n",
        "import random\n",
        "import numpy as np\n",
        "import datetime as dt\n",
        "from collections import deque\n",
        "import matplotlib.pyplot as plt\n",
        "from google.colab import drive\n",
        "from sklearn.model_selection import train_test_split\n",
        "import tensorflow as tf\n",
        "from tensorflow import keras\n",
        "from keras.models import Sequential\n",
        "from keras.layers import Dense, Flatten, Conv3D, MaxPooling3D, Dropout, BatchNormalization, GlobalAveragePooling3D\n",
        "from keras import regularizers\n",
        "from PIL import Image\n",
        "%matplotlib inline\n",
        "print(tf.version.VERSION)\n",
        "# https://bleedai.com/human-activity-recognition-using-tensorflow-cnn-lstm/"
      ]
    },
    {
      "cell_type": "code",
      "execution_count": 2,
      "metadata": {
        "id": "iffdFOf1CEAN"
      },
      "outputs": [],
      "source": [
        "# set Numpy, Python, and Tensorflow seeds to get consistent results on every execution\n",
        "seed_constant = 27\n",
        "np.random.seed(seed_constant)\n",
        "random.seed(seed_constant)\n",
        "tf.random.set_seed(seed_constant)"
      ]
    },
    {
      "cell_type": "code",
      "execution_count": 3,
      "metadata": {
        "colab": {
          "base_uri": "https://localhost:8080/",
          "height": 53
        },
        "id": "mcLh22LiOHyn",
        "outputId": "9f983274-0594-450a-e80c-1f7df8055a81"
      },
      "outputs": [
        {
          "output_type": "stream",
          "name": "stdout",
          "text": [
            "Mounted at /content/gdrive/\n"
          ]
        },
        {
          "output_type": "execute_result",
          "data": {
            "text/plain": [
              "'/content/gdrive/My Drive/247'"
            ],
            "application/vnd.google.colaboratory.intrinsic+json": {
              "type": "string"
            }
          },
          "metadata": {},
          "execution_count": 3
        }
      ],
      "source": [
        "# mount dataset from google drive\n",
        "drive.mount('/content/gdrive/', force_remount=True)\n",
        "gdrive_path = '/content/gdrive' + '/My Drive/247/'\n",
        "os.chdir(gdrive_path)\n",
        "os.getcwd()"
      ]
    },
    {
      "cell_type": "code",
      "execution_count": 4,
      "metadata": {
        "id": "oeDK8SzumZ1Q"
      },
      "outputs": [],
      "source": [
        "# frame dimention\n",
        "IMAGE_HEIGHT, IMAGE_WIDTH = 128, 128\n",
        "# frame number for each video (depth)\n",
        "SEQUENCE_LENGTH = 16\n",
        "# video dir path\n",
        "DATASET_DIR = gdrive_path + 'Cropped_videos'\n",
        "# labels of classes\n",
        "CLASSES_LIST = ['hemostasis', 'inflammatory', 'proliferative', 'maturation']"
      ]
    },
    {
      "cell_type": "code",
      "execution_count": 5,
      "metadata": {
        "id": "HUTeIqzpZc9J"
      },
      "outputs": [],
      "source": [
        "# image cropping\n",
        "def crop_center_square(frame):\n",
        "    y, x = frame.shape[0:2]\n",
        "    min_dim = min(y, x)\n",
        "    start_x = (x // 2) - (min_dim // 2)\n",
        "    start_y = (y // 2) - (min_dim // 2)\n",
        "    return frame[start_y:start_y+min_dim,start_x:start_x+min_dim]"
      ]
    },
    {
      "cell_type": "code",
      "execution_count": 6,
      "metadata": {
        "id": "QRDbHG0TZkYJ"
      },
      "outputs": [],
      "source": [
        "# https://medium.com/analytics-vidhya/video-preprocessor-and-augmentation-for-deep-learning-tasks-12dd3fcce868\n",
        "def load_video(path, resize=(128, 128)):\n",
        "    video_reader = cv2.VideoCapture(path)\n",
        "    frames = []\n",
        "    try:\n",
        "        while True:\n",
        "            ret, frame = video_reader.read()\n",
        "            if not ret:\n",
        "                  break\n",
        "            # frame = crop_center_square(frame)\n",
        "            frame = cv2.resize(frame, resize)\n",
        "            frame = frame[:, :, [2, 1, 0]]\n",
        "            black_frame = frame\n",
        "            frames.append(frame)\n",
        "    finally:\n",
        "        video_reader.release()\n",
        "    return np.array(frames) / 255.0"
      ]
    },
    {
      "cell_type": "code",
      "execution_count": 7,
      "metadata": {
        "id": "ljUWHW6Jqzu-"
      },
      "outputs": [],
      "source": [
        "def create_dataset(state):\n",
        "    # Declared Empty Lists to store the features, labels and video file path values.\n",
        "    features = []\n",
        "    labels = []\n",
        "    video_files_paths = []\n",
        "    # Iterating through all the classes mentioned in the classes list\n",
        "    for class_index, class_name in enumerate(CLASSES_LIST):\n",
        "        # Display the name of the class whose data is being extracted.\n",
        "        print(f'Extracting Data of Class: {class_name} {state}')\n",
        "        # Get the list of video files present in the specific class name directory.\n",
        "        files_list = os.listdir(os.path.join(DATASET_DIR, class_name))\n",
        "        # Iterate through all the files present in the files list.\n",
        "        for file_name in files_list:\n",
        "            # Get the complete video path.\n",
        "            video_file_path = os.path.join(DATASET_DIR, class_name, file_name)\n",
        "            # create testing data\n",
        "            if state == 'test':\n",
        "                # get the mouse number\n",
        "                mouse_number = int(video_file_path.split(' ')[2].split('_')[1].split('-')[1])\n",
        "                # get the mouse side (L or R)\n",
        "                mouse_side = video_file_path.split(' ')[2].split('_')[1].split('-')[2]\n",
        "                if mouse_number == 4 and mouse_side == 'L':\n",
        "                    frames = load_video(video_file_path)\n",
        "                    features.append(frames)\n",
        "                    labels.append(class_index)\n",
        "                    video_files_paths.append(video_file_path)\n",
        "            # create validation data\n",
        "            elif state == 'valid':\n",
        "                # get the mouse number\n",
        "                mouse_number = int(video_file_path.split(' ')[2].split('_')[1].split('-')[1])\n",
        "                # get the mouse side (L or R)\n",
        "                mouse_side = video_file_path.split(' ')[2].split('_')[1].split('-')[2]\n",
        "                if mouse_number == 4 and mouse_side == 'R':\n",
        "                    frames = load_video(video_file_path)\n",
        "                    features.append(frames)\n",
        "                    labels.append(class_index)\n",
        "                    video_files_paths.append(video_file_path)\n",
        "            # create training data\n",
        "            else:\n",
        "                # get the mouse number\n",
        "                mouse_number = int(video_file_path.split(' ')[2].split('_')[1].split('-')[1])\n",
        "                if mouse_number != 4:\n",
        "                    frames = load_video(video_file_path)\n",
        "                    features.append(frames)\n",
        "                    labels.append(class_index)\n",
        "                    video_files_paths.append(video_file_path)\n",
        "    # Converting the list to numpy arrays\n",
        "    features = np.asarray(features)\n",
        "    # print(features)\n",
        "    labels = np.array(labels)\n",
        "    # Return the frames, class index, and video file path.\n",
        "    return features, labels, video_files_paths"
      ]
    },
    {
      "cell_type": "code",
      "execution_count": 8,
      "metadata": {
        "colab": {
          "base_uri": "https://localhost:8080/"
        },
        "id": "a8rpanz9rASe",
        "outputId": "fe1b7841-0903-4fc0-cda8-aff33c1adc72"
      },
      "outputs": [
        {
          "output_type": "stream",
          "name": "stdout",
          "text": [
            "Extracting Data of Class: hemostasis train\n",
            "Extracting Data of Class: inflammatory train\n",
            "Extracting Data of Class: proliferative train\n",
            "Extracting Data of Class: maturation train\n",
            "Extracting Data of Class: hemostasis test\n",
            "Extracting Data of Class: inflammatory test\n",
            "Extracting Data of Class: proliferative test\n",
            "Extracting Data of Class: maturation test\n",
            "Extracting Data of Class: hemostasis valid\n",
            "Extracting Data of Class: inflammatory valid\n",
            "Extracting Data of Class: proliferative valid\n",
            "Extracting Data of Class: maturation valid\n"
          ]
        }
      ],
      "source": [
        "# 6 mice for training, 2 mice for test and validation (one wound on each mice for test one for validation)\n",
        "features_train, labels_train, video_files_paths_train = create_dataset('train')\n",
        "features_test, labels_test, video_files_paths_test = create_dataset('test')\n",
        "features_valid, labels_valid, video_files_paths_valid = create_dataset('valid')"
      ]
    },
    {
      "cell_type": "code",
      "execution_count": 9,
      "metadata": {
        "id": "dtJkK4qTAulC"
      },
      "outputs": [],
      "source": [
        "# one_hot_encoded_labels\n",
        "labels_train = keras.utils.to_categorical(labels_train)\n",
        "labels_test = keras.utils.to_categorical(labels_test)\n",
        "labels_valid = keras.utils.to_categorical(labels_valid)"
      ]
    },
    {
      "cell_type": "code",
      "execution_count": 10,
      "metadata": {
        "id": "N-9ykP4ig7IW"
      },
      "outputs": [],
      "source": [
        "def create_3D_CNN_model():\n",
        "    sample_shape = (16, 128, 128, 3)\n",
        "    model = Sequential()\n",
        "\n",
        "    model.add(Conv3D(32, 3, activation='relu', kernel_initializer='he_uniform',\n",
        "                     kernel_regularizer=regularizers.L2(l2=1e-4),\n",
        "                     input_shape=sample_shape))\n",
        "    # model.add(BatchNormalization())\n",
        "    model.add(MaxPooling3D(2))\n",
        "    model.add(Dropout(0.5))\n",
        "\n",
        "    model.add(Conv3D(32, 3, activation='relu', kernel_initializer='he_uniform',\n",
        "                     kernel_regularizer=regularizers.L2(l2=1e-4)))\n",
        "    # model.add(BatchNormalization())\n",
        "    model.add(MaxPooling3D(2))\n",
        "    model.add(Dropout(0.5))\n",
        "\n",
        "    model.add(GlobalAveragePooling3D())\n",
        "    # model.add(Dropout(0.5))\n",
        "\n",
        "    model.add(Dense(32, activation='relu', kernel_initializer='he_uniform',\n",
        "                    kernel_regularizer=regularizers.L2(l2=1e-4)))\n",
        "    model.add(Dropout(0.5))\n",
        "\n",
        "    model.add(Dense(16, activation='relu', kernel_initializer='he_uniform',\n",
        "                    kernel_regularizer=regularizers.L2(l2=1e-4)))\n",
        "    model.add(Dropout(0.6))\n",
        "    model.add(Dense(8, activation='relu', kernel_initializer='he_uniform'))\n",
        "    # model.add(Dense(4, activation='relu', kernel_initializer='he_uniform'))\n",
        "    # model.add(Dropout(0.3))\n",
        "    # model.add(Dense(8, activation='relu', kernel_initializer='he_uniform'))\n",
        "    # model.add(Dropout(0.3))\n",
        "    model.add(Dense(len(CLASSES_LIST), activation='softmax'))\n",
        "\n",
        "    # Display the models summary.\n",
        "    model.summary(line_length = 125)\n",
        "    # Return the constructed 3D_CNN model.\n",
        "    return model"
      ]
    },
    {
      "cell_type": "code",
      "execution_count": 11,
      "metadata": {
        "colab": {
          "base_uri": "https://localhost:8080/"
        },
        "id": "Z4_GxXZBcHlB",
        "outputId": "ab5e8aed-843e-4f1e-8ada-a4cfb4368e4e"
      },
      "outputs": [
        {
          "output_type": "stream",
          "name": "stdout",
          "text": [
            "Model: \"sequential\"\n",
            "_____________________________________________________________________________________________________________________________\n",
            " Layer (type)                                           Output Shape                                      Param #            \n",
            "=============================================================================================================================\n",
            " conv3d (Conv3D)                                        (None, 14, 126, 126, 32)                          2624               \n",
            "                                                                                                                             \n",
            " max_pooling3d (MaxPooling3D)                           (None, 7, 63, 63, 32)                             0                  \n",
            "                                                                                                                             \n",
            " dropout (Dropout)                                      (None, 7, 63, 63, 32)                             0                  \n",
            "                                                                                                                             \n",
            " conv3d_1 (Conv3D)                                      (None, 5, 61, 61, 32)                             27680              \n",
            "                                                                                                                             \n",
            " max_pooling3d_1 (MaxPooling3D)                         (None, 2, 30, 30, 32)                             0                  \n",
            "                                                                                                                             \n",
            " dropout_1 (Dropout)                                    (None, 2, 30, 30, 32)                             0                  \n",
            "                                                                                                                             \n",
            " global_average_pooling3d (GlobalAveragePooling3D)      (None, 32)                                        0                  \n",
            "                                                                                                                             \n",
            " dense (Dense)                                          (None, 32)                                        1056               \n",
            "                                                                                                                             \n",
            " dropout_2 (Dropout)                                    (None, 32)                                        0                  \n",
            "                                                                                                                             \n",
            " dense_1 (Dense)                                        (None, 16)                                        528                \n",
            "                                                                                                                             \n",
            " dropout_3 (Dropout)                                    (None, 16)                                        0                  \n",
            "                                                                                                                             \n",
            " dense_2 (Dense)                                        (None, 8)                                         136                \n",
            "                                                                                                                             \n",
            " dense_3 (Dense)                                        (None, 4)                                         36                 \n",
            "                                                                                                                             \n",
            "=============================================================================================================================\n",
            "Total params: 32,060\n",
            "Trainable params: 32,060\n",
            "Non-trainable params: 0\n",
            "_____________________________________________________________________________________________________________________________\n",
            "Model Created Successfully!\n"
          ]
        }
      ],
      "source": [
        "# Construct the required convlstm model.\n",
        "model = create_3D_CNN_model()\n",
        " \n",
        "# Display the success message. \n",
        "print(\"Model Created Successfully!\")"
      ]
    },
    {
      "cell_type": "code",
      "execution_count": 12,
      "metadata": {
        "colab": {
          "base_uri": "https://localhost:8080/"
        },
        "id": "MwYEkaYLoyb_",
        "outputId": "7631eabe-0fe5-40cb-802d-139d192cf22d"
      },
      "outputs": [
        {
          "output_type": "stream",
          "name": "stdout",
          "text": [
            "Epoch 1/150\n",
            "101/101 [==============================] - 12s 103ms/step - loss: 1.3257 - accuracy: 0.4220 - val_loss: 1.2495 - val_accuracy: 0.3566\n",
            "Epoch 2/150\n",
            "101/101 [==============================] - 9s 94ms/step - loss: 1.1524 - accuracy: 0.4338 - val_loss: 1.0822 - val_accuracy: 0.3860\n",
            "Epoch 3/150\n",
            "101/101 [==============================] - 10s 95ms/step - loss: 1.0927 - accuracy: 0.4313 - val_loss: 0.9892 - val_accuracy: 0.4485\n",
            "Epoch 4/150\n",
            "101/101 [==============================] - 10s 95ms/step - loss: 1.0426 - accuracy: 0.4623 - val_loss: 0.9510 - val_accuracy: 0.4853\n",
            "Epoch 5/150\n",
            "101/101 [==============================] - 10s 94ms/step - loss: 0.9961 - accuracy: 0.4746 - val_loss: 0.8999 - val_accuracy: 0.5993\n",
            "Epoch 6/150\n",
            "101/101 [==============================] - 9s 94ms/step - loss: 0.9607 - accuracy: 0.4975 - val_loss: 0.8633 - val_accuracy: 0.6176\n",
            "Epoch 7/150\n",
            "101/101 [==============================] - 9s 94ms/step - loss: 0.9272 - accuracy: 0.5179 - val_loss: 0.8537 - val_accuracy: 0.6103\n",
            "Epoch 8/150\n",
            "101/101 [==============================] - 10s 95ms/step - loss: 0.9196 - accuracy: 0.5266 - val_loss: 0.8633 - val_accuracy: 0.5662\n",
            "Epoch 9/150\n",
            "101/101 [==============================] - 10s 94ms/step - loss: 0.9011 - accuracy: 0.5260 - val_loss: 0.8507 - val_accuracy: 0.5699\n",
            "Epoch 10/150\n",
            "101/101 [==============================] - 10s 95ms/step - loss: 0.9015 - accuracy: 0.5402 - val_loss: 0.8110 - val_accuracy: 0.6066\n",
            "Epoch 11/150\n",
            "101/101 [==============================] - 9s 94ms/step - loss: 0.8694 - accuracy: 0.5452 - val_loss: 0.8225 - val_accuracy: 0.6029\n",
            "Epoch 12/150\n",
            "101/101 [==============================] - 9s 94ms/step - loss: 0.8511 - accuracy: 0.5569 - val_loss: 0.8178 - val_accuracy: 0.6029\n",
            "Epoch 13/150\n",
            "101/101 [==============================] - 10s 94ms/step - loss: 0.8529 - accuracy: 0.5526 - val_loss: 0.8069 - val_accuracy: 0.6103\n",
            "Epoch 14/150\n",
            "101/101 [==============================] - 10s 94ms/step - loss: 0.8327 - accuracy: 0.5681 - val_loss: 0.8054 - val_accuracy: 0.6029\n",
            "Epoch 15/150\n",
            "101/101 [==============================] - 10s 95ms/step - loss: 0.8498 - accuracy: 0.5606 - val_loss: 0.7986 - val_accuracy: 0.5772\n",
            "Epoch 16/150\n",
            "101/101 [==============================] - 9s 94ms/step - loss: 0.8275 - accuracy: 0.5730 - val_loss: 0.7977 - val_accuracy: 0.6103\n",
            "Epoch 17/150\n",
            "101/101 [==============================] - 9s 94ms/step - loss: 0.8140 - accuracy: 0.5866 - val_loss: 0.7944 - val_accuracy: 0.6103\n",
            "Epoch 18/150\n",
            "101/101 [==============================] - 9s 94ms/step - loss: 0.8148 - accuracy: 0.5959 - val_loss: 0.7898 - val_accuracy: 0.5588\n",
            "Epoch 19/150\n",
            "101/101 [==============================] - 9s 94ms/step - loss: 0.8079 - accuracy: 0.5792 - val_loss: 0.8146 - val_accuracy: 0.5772\n",
            "Epoch 20/150\n",
            "101/101 [==============================] - 10s 95ms/step - loss: 0.7994 - accuracy: 0.5965 - val_loss: 0.8090 - val_accuracy: 0.5368\n",
            "Epoch 21/150\n",
            "101/101 [==============================] - 9s 94ms/step - loss: 0.8163 - accuracy: 0.5761 - val_loss: 0.7907 - val_accuracy: 0.6066\n",
            "Epoch 22/150\n",
            "101/101 [==============================] - 9s 94ms/step - loss: 0.7906 - accuracy: 0.6071 - val_loss: 0.7742 - val_accuracy: 0.6029\n",
            "Epoch 23/150\n",
            "101/101 [==============================] - 10s 95ms/step - loss: 0.7886 - accuracy: 0.6064 - val_loss: 0.7865 - val_accuracy: 0.6029\n",
            "Epoch 24/150\n",
            "101/101 [==============================] - 10s 95ms/step - loss: 0.7815 - accuracy: 0.6027 - val_loss: 0.7996 - val_accuracy: 0.5993\n",
            "Epoch 25/150\n",
            "101/101 [==============================] - 10s 94ms/step - loss: 0.7910 - accuracy: 0.5996 - val_loss: 0.8045 - val_accuracy: 0.5809\n",
            "Epoch 26/150\n",
            "101/101 [==============================] - 9s 94ms/step - loss: 0.7772 - accuracy: 0.6139 - val_loss: 0.7856 - val_accuracy: 0.6140\n",
            "Epoch 27/150\n",
            "101/101 [==============================] - 10s 95ms/step - loss: 0.7589 - accuracy: 0.6269 - val_loss: 0.7756 - val_accuracy: 0.6140\n",
            "Epoch 28/150\n",
            "101/101 [==============================] - 9s 94ms/step - loss: 0.7904 - accuracy: 0.6083 - val_loss: 0.7818 - val_accuracy: 0.6103\n",
            "Epoch 29/150\n",
            "101/101 [==============================] - 9s 94ms/step - loss: 0.7671 - accuracy: 0.6170 - val_loss: 0.7946 - val_accuracy: 0.5404\n",
            "Epoch 30/150\n",
            "101/101 [==============================] - 10s 95ms/step - loss: 0.7649 - accuracy: 0.6231 - val_loss: 0.7787 - val_accuracy: 0.5588\n",
            "Epoch 31/150\n",
            "101/101 [==============================] - 10s 94ms/step - loss: 0.7854 - accuracy: 0.6027 - val_loss: 0.7814 - val_accuracy: 0.6324\n",
            "Epoch 32/150\n",
            "101/101 [==============================] - 9s 94ms/step - loss: 0.7835 - accuracy: 0.6194 - val_loss: 0.7895 - val_accuracy: 0.5588\n",
            "Epoch 33/150\n",
            "101/101 [==============================] - 10s 94ms/step - loss: 0.7449 - accuracy: 0.6417 - val_loss: 0.7724 - val_accuracy: 0.6066\n",
            "Epoch 34/150\n",
            "101/101 [==============================] - 9s 94ms/step - loss: 0.7672 - accuracy: 0.6225 - val_loss: 0.7765 - val_accuracy: 0.6066\n",
            "Epoch 35/150\n",
            "101/101 [==============================] - 9s 94ms/step - loss: 0.7680 - accuracy: 0.6083 - val_loss: 0.7815 - val_accuracy: 0.6066\n",
            "Epoch 36/150\n",
            "101/101 [==============================] - 10s 94ms/step - loss: 0.7377 - accuracy: 0.6454 - val_loss: 0.7893 - val_accuracy: 0.5699\n",
            "Epoch 37/150\n",
            "101/101 [==============================] - 10s 94ms/step - loss: 0.7635 - accuracy: 0.6207 - val_loss: 0.7732 - val_accuracy: 0.5551\n",
            "Epoch 38/150\n",
            "101/101 [==============================] - 10s 94ms/step - loss: 0.7510 - accuracy: 0.6368 - val_loss: 0.7875 - val_accuracy: 0.5515\n",
            "Epoch 39/150\n",
            "101/101 [==============================] - 9s 94ms/step - loss: 0.7386 - accuracy: 0.6293 - val_loss: 0.7599 - val_accuracy: 0.6250\n",
            "Epoch 40/150\n",
            "101/101 [==============================] - 9s 94ms/step - loss: 0.7256 - accuracy: 0.6349 - val_loss: 0.7686 - val_accuracy: 0.6103\n",
            "Epoch 41/150\n",
            "101/101 [==============================] - 10s 95ms/step - loss: 0.7375 - accuracy: 0.6448 - val_loss: 0.7827 - val_accuracy: 0.5809\n",
            "Epoch 42/150\n",
            "101/101 [==============================] - 9s 94ms/step - loss: 0.7209 - accuracy: 0.6454 - val_loss: 0.7731 - val_accuracy: 0.5919\n",
            "Epoch 43/150\n",
            "101/101 [==============================] - 9s 94ms/step - loss: 0.7275 - accuracy: 0.6485 - val_loss: 0.7884 - val_accuracy: 0.5735\n",
            "Epoch 44/150\n",
            "101/101 [==============================] - 9s 94ms/step - loss: 0.7314 - accuracy: 0.6368 - val_loss: 0.7503 - val_accuracy: 0.6103\n",
            "Epoch 45/150\n",
            "101/101 [==============================] - 10s 95ms/step - loss: 0.7008 - accuracy: 0.6677 - val_loss: 0.7346 - val_accuracy: 0.6250\n",
            "Epoch 46/150\n",
            "101/101 [==============================] - 10s 95ms/step - loss: 0.7051 - accuracy: 0.6590 - val_loss: 0.7658 - val_accuracy: 0.5993\n",
            "Epoch 47/150\n",
            "101/101 [==============================] - 10s 95ms/step - loss: 0.7148 - accuracy: 0.6572 - val_loss: 0.7680 - val_accuracy: 0.6029\n",
            "Epoch 48/150\n",
            "101/101 [==============================] - 9s 94ms/step - loss: 0.6952 - accuracy: 0.6671 - val_loss: 0.7846 - val_accuracy: 0.5735\n",
            "Epoch 49/150\n",
            "101/101 [==============================] - 9s 94ms/step - loss: 0.6956 - accuracy: 0.6640 - val_loss: 0.7716 - val_accuracy: 0.5809\n",
            "Epoch 50/150\n",
            "101/101 [==============================] - 10s 95ms/step - loss: 0.6929 - accuracy: 0.6782 - val_loss: 0.8003 - val_accuracy: 0.5956\n",
            "Epoch 51/150\n",
            "101/101 [==============================] - 10s 94ms/step - loss: 0.7250 - accuracy: 0.6498 - val_loss: 0.7794 - val_accuracy: 0.5846\n",
            "Epoch 52/150\n",
            "101/101 [==============================] - 10s 95ms/step - loss: 0.6923 - accuracy: 0.6696 - val_loss: 0.7651 - val_accuracy: 0.6140\n",
            "Epoch 53/150\n",
            "101/101 [==============================] - 9s 94ms/step - loss: 0.6921 - accuracy: 0.6702 - val_loss: 0.7606 - val_accuracy: 0.6213\n",
            "Epoch 54/150\n",
            "101/101 [==============================] - 10s 94ms/step - loss: 0.6989 - accuracy: 0.6702 - val_loss: 0.7630 - val_accuracy: 0.5882\n",
            "Epoch 55/150\n",
            "101/101 [==============================] - 10s 94ms/step - loss: 0.6723 - accuracy: 0.6856 - val_loss: 0.7690 - val_accuracy: 0.5846\n",
            "Epoch 56/150\n",
            "101/101 [==============================] - 10s 94ms/step - loss: 0.6814 - accuracy: 0.6714 - val_loss: 0.7577 - val_accuracy: 0.6324\n",
            "Epoch 57/150\n",
            "101/101 [==============================] - 10s 94ms/step - loss: 0.6751 - accuracy: 0.6801 - val_loss: 0.7543 - val_accuracy: 0.6176\n",
            "Epoch 58/150\n",
            "101/101 [==============================] - 9s 94ms/step - loss: 0.6825 - accuracy: 0.6782 - val_loss: 0.7774 - val_accuracy: 0.5809\n",
            "Epoch 59/150\n",
            "101/101 [==============================] - 9s 94ms/step - loss: 0.6882 - accuracy: 0.6708 - val_loss: 0.7710 - val_accuracy: 0.5956\n",
            "Epoch 60/150\n",
            "101/101 [==============================] - 9s 94ms/step - loss: 0.6635 - accuracy: 0.6844 - val_loss: 0.7730 - val_accuracy: 0.5809\n",
            "Epoch 61/150\n",
            "101/101 [==============================] - 10s 94ms/step - loss: 0.6813 - accuracy: 0.6689 - val_loss: 0.7533 - val_accuracy: 0.6140\n",
            "Epoch 62/150\n",
            "101/101 [==============================] - 10s 94ms/step - loss: 0.6652 - accuracy: 0.6912 - val_loss: 0.7361 - val_accuracy: 0.6471\n",
            "Epoch 63/150\n",
            "101/101 [==============================] - 10s 94ms/step - loss: 0.6706 - accuracy: 0.7024 - val_loss: 0.7587 - val_accuracy: 0.6176\n",
            "Epoch 64/150\n",
            "101/101 [==============================] - 9s 94ms/step - loss: 0.6526 - accuracy: 0.6894 - val_loss: 0.7051 - val_accuracy: 0.6728\n",
            "Epoch 65/150\n",
            "101/101 [==============================] - 10s 95ms/step - loss: 0.6450 - accuracy: 0.6943 - val_loss: 0.7436 - val_accuracy: 0.6140\n",
            "Epoch 66/150\n",
            "101/101 [==============================] - 9s 94ms/step - loss: 0.6623 - accuracy: 0.6943 - val_loss: 0.7855 - val_accuracy: 0.5662\n",
            "Epoch 67/150\n",
            "101/101 [==============================] - 9s 94ms/step - loss: 0.6531 - accuracy: 0.6962 - val_loss: 0.7492 - val_accuracy: 0.6213\n",
            "Epoch 68/150\n",
            "101/101 [==============================] - 9s 94ms/step - loss: 0.6435 - accuracy: 0.6986 - val_loss: 0.6906 - val_accuracy: 0.6691\n",
            "Epoch 69/150\n",
            "101/101 [==============================] - 10s 95ms/step - loss: 0.6285 - accuracy: 0.7172 - val_loss: 0.7283 - val_accuracy: 0.6618\n",
            "Epoch 70/150\n",
            "101/101 [==============================] - 10s 94ms/step - loss: 0.6241 - accuracy: 0.7123 - val_loss: 0.7049 - val_accuracy: 0.6581\n",
            "Epoch 71/150\n",
            "101/101 [==============================] - 10s 94ms/step - loss: 0.6356 - accuracy: 0.7178 - val_loss: 0.6895 - val_accuracy: 0.6801\n",
            "Epoch 72/150\n",
            "101/101 [==============================] - 9s 94ms/step - loss: 0.6167 - accuracy: 0.7141 - val_loss: 0.7364 - val_accuracy: 0.6544\n",
            "Epoch 73/150\n",
            "101/101 [==============================] - 10s 94ms/step - loss: 0.6405 - accuracy: 0.7092 - val_loss: 0.7187 - val_accuracy: 0.6765\n",
            "Epoch 74/150\n",
            "101/101 [==============================] - 9s 94ms/step - loss: 0.6259 - accuracy: 0.7110 - val_loss: 0.7227 - val_accuracy: 0.6654\n",
            "Epoch 75/150\n",
            "101/101 [==============================] - 9s 94ms/step - loss: 0.6274 - accuracy: 0.7061 - val_loss: 0.7434 - val_accuracy: 0.6360\n",
            "Epoch 76/150\n",
            "101/101 [==============================] - 10s 95ms/step - loss: 0.5929 - accuracy: 0.7296 - val_loss: 0.7257 - val_accuracy: 0.6728\n",
            "Epoch 77/150\n",
            "101/101 [==============================] - 10s 95ms/step - loss: 0.6162 - accuracy: 0.7308 - val_loss: 0.6911 - val_accuracy: 0.6654\n",
            "Epoch 78/150\n",
            "101/101 [==============================] - 9s 94ms/step - loss: 0.5970 - accuracy: 0.7339 - val_loss: 0.7191 - val_accuracy: 0.6875\n",
            "Epoch 79/150\n",
            "101/101 [==============================] - 10s 95ms/step - loss: 0.5951 - accuracy: 0.7339 - val_loss: 0.6865 - val_accuracy: 0.6765\n",
            "Epoch 80/150\n",
            "101/101 [==============================] - 10s 94ms/step - loss: 0.6009 - accuracy: 0.7413 - val_loss: 0.7448 - val_accuracy: 0.6250\n",
            "Epoch 81/150\n",
            "101/101 [==============================] - 9s 94ms/step - loss: 0.5845 - accuracy: 0.7259 - val_loss: 0.7303 - val_accuracy: 0.6654\n",
            "Epoch 82/150\n",
            "101/101 [==============================] - 10s 94ms/step - loss: 0.5711 - accuracy: 0.7599 - val_loss: 0.7199 - val_accuracy: 0.6838\n",
            "Epoch 83/150\n",
            "101/101 [==============================] - 10s 94ms/step - loss: 0.5757 - accuracy: 0.7531 - val_loss: 0.6740 - val_accuracy: 0.6985\n",
            "Epoch 84/150\n",
            "101/101 [==============================] - 10s 94ms/step - loss: 0.5567 - accuracy: 0.7469 - val_loss: 0.7130 - val_accuracy: 0.6618\n",
            "Epoch 85/150\n",
            "101/101 [==============================] - 10s 94ms/step - loss: 0.5584 - accuracy: 0.7655 - val_loss: 0.6993 - val_accuracy: 0.6691\n",
            "Epoch 86/150\n",
            "101/101 [==============================] - 10s 94ms/step - loss: 0.5427 - accuracy: 0.7649 - val_loss: 0.7062 - val_accuracy: 0.6985\n",
            "Epoch 87/150\n",
            "101/101 [==============================] - 9s 94ms/step - loss: 0.5752 - accuracy: 0.7395 - val_loss: 0.7170 - val_accuracy: 0.6838\n",
            "Epoch 88/150\n",
            "101/101 [==============================] - 9s 94ms/step - loss: 0.5411 - accuracy: 0.7649 - val_loss: 0.7012 - val_accuracy: 0.6801\n",
            "Epoch 89/150\n",
            "101/101 [==============================] - 9s 94ms/step - loss: 0.5486 - accuracy: 0.7692 - val_loss: 0.7126 - val_accuracy: 0.6801\n",
            "Epoch 90/150\n",
            "101/101 [==============================] - 10s 94ms/step - loss: 0.5451 - accuracy: 0.7630 - val_loss: 0.7192 - val_accuracy: 0.6875\n",
            "Epoch 91/150\n",
            "101/101 [==============================] - 10s 94ms/step - loss: 0.5530 - accuracy: 0.7704 - val_loss: 0.7096 - val_accuracy: 0.6912\n",
            "Epoch 92/150\n",
            "101/101 [==============================] - 10s 94ms/step - loss: 0.5315 - accuracy: 0.7580 - val_loss: 0.7070 - val_accuracy: 0.6801\n",
            "Epoch 93/150\n",
            "101/101 [==============================] - 9s 94ms/step - loss: 0.5328 - accuracy: 0.7667 - val_loss: 0.7782 - val_accuracy: 0.5882\n",
            "Epoch 94/150\n",
            "101/101 [==============================] - 10s 94ms/step - loss: 0.5452 - accuracy: 0.7735 - val_loss: 0.7102 - val_accuracy: 0.6765\n",
            "Epoch 95/150\n",
            "101/101 [==============================] - 10s 95ms/step - loss: 0.5387 - accuracy: 0.7667 - val_loss: 0.6906 - val_accuracy: 0.6838\n",
            "Epoch 96/150\n",
            "101/101 [==============================] - 9s 94ms/step - loss: 0.5221 - accuracy: 0.7748 - val_loss: 0.7144 - val_accuracy: 0.7022\n",
            "Epoch 97/150\n",
            "101/101 [==============================] - 9s 94ms/step - loss: 0.5175 - accuracy: 0.7754 - val_loss: 0.7135 - val_accuracy: 0.6728\n",
            "Epoch 98/150\n",
            "101/101 [==============================] - 10s 95ms/step - loss: 0.5117 - accuracy: 0.7661 - val_loss: 0.6845 - val_accuracy: 0.6728\n",
            "Epoch 99/150\n",
            "101/101 [==============================] - 10s 94ms/step - loss: 0.5086 - accuracy: 0.7630 - val_loss: 0.7237 - val_accuracy: 0.7243\n",
            "Epoch 100/150\n",
            "101/101 [==============================] - 10s 95ms/step - loss: 0.5255 - accuracy: 0.7531 - val_loss: 0.6930 - val_accuracy: 0.6985\n",
            "Epoch 101/150\n",
            "101/101 [==============================] - 10s 94ms/step - loss: 0.5113 - accuracy: 0.7692 - val_loss: 0.7214 - val_accuracy: 0.6949\n",
            "Epoch 102/150\n",
            "101/101 [==============================] - 10s 95ms/step - loss: 0.5176 - accuracy: 0.7599 - val_loss: 0.6929 - val_accuracy: 0.6985\n",
            "Epoch 103/150\n",
            "101/101 [==============================] - 10s 94ms/step - loss: 0.5023 - accuracy: 0.7661 - val_loss: 0.6992 - val_accuracy: 0.7022\n",
            "Epoch 104/150\n",
            "101/101 [==============================] - 10s 94ms/step - loss: 0.4920 - accuracy: 0.7760 - val_loss: 0.7487 - val_accuracy: 0.7022\n",
            "Epoch 105/150\n",
            "101/101 [==============================] - 9s 94ms/step - loss: 0.5100 - accuracy: 0.7717 - val_loss: 0.7704 - val_accuracy: 0.6544\n",
            "Epoch 106/150\n",
            "101/101 [==============================] - 9s 94ms/step - loss: 0.4769 - accuracy: 0.7964 - val_loss: 0.7738 - val_accuracy: 0.6176\n",
            "Epoch 107/150\n",
            "101/101 [==============================] - 10s 95ms/step - loss: 0.5019 - accuracy: 0.7723 - val_loss: 0.6920 - val_accuracy: 0.7132\n",
            "Epoch 108/150\n",
            "101/101 [==============================] - 9s 94ms/step - loss: 0.4967 - accuracy: 0.7735 - val_loss: 0.7031 - val_accuracy: 0.6765\n",
            "Epoch 109/150\n",
            "101/101 [==============================] - 9s 94ms/step - loss: 0.5041 - accuracy: 0.7766 - val_loss: 0.6822 - val_accuracy: 0.7059\n",
            "Epoch 110/150\n",
            "101/101 [==============================] - 9s 93ms/step - loss: 0.4877 - accuracy: 0.7859 - val_loss: 0.7051 - val_accuracy: 0.7059\n",
            "Epoch 111/150\n",
            "101/101 [==============================] - 10s 94ms/step - loss: 0.4892 - accuracy: 0.7865 - val_loss: 0.6841 - val_accuracy: 0.7169\n",
            "Epoch 112/150\n",
            "101/101 [==============================] - 9s 94ms/step - loss: 0.4629 - accuracy: 0.7847 - val_loss: 0.6901 - val_accuracy: 0.7169\n",
            "Epoch 113/150\n",
            "101/101 [==============================] - 10s 94ms/step - loss: 0.4717 - accuracy: 0.7884 - val_loss: 0.6766 - val_accuracy: 0.7243\n",
            "Epoch 114/150\n",
            "101/101 [==============================] - 10s 94ms/step - loss: 0.4757 - accuracy: 0.7877 - val_loss: 0.6705 - val_accuracy: 0.7059\n",
            "Epoch 115/150\n",
            "101/101 [==============================] - 10s 94ms/step - loss: 0.4782 - accuracy: 0.7803 - val_loss: 0.6708 - val_accuracy: 0.6765\n",
            "Epoch 116/150\n",
            "101/101 [==============================] - 10s 95ms/step - loss: 0.4600 - accuracy: 0.8026 - val_loss: 0.6818 - val_accuracy: 0.7537\n",
            "Epoch 117/150\n",
            "101/101 [==============================] - 10s 95ms/step - loss: 0.4879 - accuracy: 0.7816 - val_loss: 0.6824 - val_accuracy: 0.7022\n",
            "Epoch 118/150\n",
            "101/101 [==============================] - 10s 94ms/step - loss: 0.4416 - accuracy: 0.8045 - val_loss: 0.6852 - val_accuracy: 0.7316\n",
            "Epoch 119/150\n",
            "101/101 [==============================] - 9s 94ms/step - loss: 0.4593 - accuracy: 0.8014 - val_loss: 0.7809 - val_accuracy: 0.6324\n",
            "Epoch 120/150\n",
            "101/101 [==============================] - 10s 94ms/step - loss: 0.4701 - accuracy: 0.7989 - val_loss: 0.7438 - val_accuracy: 0.6691\n",
            "Epoch 121/150\n",
            "101/101 [==============================] - 10s 95ms/step - loss: 0.4761 - accuracy: 0.7797 - val_loss: 0.7770 - val_accuracy: 0.6140\n",
            "Epoch 122/150\n",
            "101/101 [==============================] - 9s 94ms/step - loss: 0.4723 - accuracy: 0.7896 - val_loss: 0.6735 - val_accuracy: 0.7500\n",
            "Epoch 123/150\n",
            "101/101 [==============================] - 9s 94ms/step - loss: 0.4515 - accuracy: 0.7958 - val_loss: 0.7112 - val_accuracy: 0.7647\n",
            "Epoch 124/150\n",
            "101/101 [==============================] - 10s 95ms/step - loss: 0.4656 - accuracy: 0.7970 - val_loss: 0.6768 - val_accuracy: 0.7757\n",
            "Epoch 125/150\n",
            "101/101 [==============================] - 10s 94ms/step - loss: 0.4639 - accuracy: 0.7915 - val_loss: 0.7232 - val_accuracy: 0.6801\n",
            "Epoch 126/150\n",
            "101/101 [==============================] - 10s 95ms/step - loss: 0.4884 - accuracy: 0.7921 - val_loss: 0.6348 - val_accuracy: 0.7426\n",
            "Epoch 127/150\n",
            "101/101 [==============================] - 10s 94ms/step - loss: 0.4526 - accuracy: 0.7952 - val_loss: 0.6621 - val_accuracy: 0.7316\n",
            "Epoch 128/150\n",
            "101/101 [==============================] - 9s 93ms/step - loss: 0.4627 - accuracy: 0.7946 - val_loss: 0.7282 - val_accuracy: 0.6949\n",
            "Epoch 129/150\n",
            "101/101 [==============================] - 10s 94ms/step - loss: 0.4414 - accuracy: 0.8014 - val_loss: 0.6527 - val_accuracy: 0.7390\n",
            "Epoch 130/150\n",
            "101/101 [==============================] - 9s 94ms/step - loss: 0.4507 - accuracy: 0.8007 - val_loss: 0.6303 - val_accuracy: 0.7206\n",
            "Epoch 131/150\n",
            "101/101 [==============================] - 9s 94ms/step - loss: 0.4856 - accuracy: 0.7785 - val_loss: 0.7050 - val_accuracy: 0.7426\n",
            "Epoch 132/150\n",
            "101/101 [==============================] - 10s 95ms/step - loss: 0.4378 - accuracy: 0.8038 - val_loss: 0.7279 - val_accuracy: 0.7390\n",
            "Epoch 133/150\n",
            "101/101 [==============================] - 9s 94ms/step - loss: 0.4459 - accuracy: 0.7983 - val_loss: 0.6708 - val_accuracy: 0.7463\n",
            "Epoch 134/150\n",
            "101/101 [==============================] - 9s 94ms/step - loss: 0.4355 - accuracy: 0.8088 - val_loss: 0.7255 - val_accuracy: 0.7390\n",
            "Epoch 135/150\n",
            "101/101 [==============================] - 10s 94ms/step - loss: 0.4342 - accuracy: 0.8168 - val_loss: 0.7340 - val_accuracy: 0.6949\n",
            "Epoch 136/150\n",
            "101/101 [==============================] - 9s 94ms/step - loss: 0.4446 - accuracy: 0.8051 - val_loss: 0.7059 - val_accuracy: 0.7132\n",
            "Epoch 137/150\n",
            "101/101 [==============================] - 10s 94ms/step - loss: 0.4421 - accuracy: 0.8014 - val_loss: 0.7837 - val_accuracy: 0.7574\n",
            "Epoch 138/150\n",
            "101/101 [==============================] - 9s 94ms/step - loss: 0.4451 - accuracy: 0.8106 - val_loss: 0.7250 - val_accuracy: 0.7279\n",
            "Epoch 139/150\n",
            "101/101 [==============================] - 9s 94ms/step - loss: 0.4312 - accuracy: 0.8168 - val_loss: 0.6764 - val_accuracy: 0.7463\n",
            "Epoch 140/150\n",
            "101/101 [==============================] - 10s 94ms/step - loss: 0.4489 - accuracy: 0.7958 - val_loss: 0.6730 - val_accuracy: 0.7353\n",
            "Epoch 141/150\n",
            "101/101 [==============================] - 10s 95ms/step - loss: 0.4524 - accuracy: 0.8001 - val_loss: 0.7282 - val_accuracy: 0.7390\n",
            "Epoch 142/150\n",
            "101/101 [==============================] - 10s 94ms/step - loss: 0.4418 - accuracy: 0.8001 - val_loss: 0.6906 - val_accuracy: 0.7316\n",
            "Epoch 143/150\n",
            "101/101 [==============================] - 9s 94ms/step - loss: 0.4268 - accuracy: 0.8199 - val_loss: 0.7882 - val_accuracy: 0.6728\n",
            "Epoch 144/150\n",
            "101/101 [==============================] - 9s 94ms/step - loss: 0.4216 - accuracy: 0.8088 - val_loss: 0.7162 - val_accuracy: 0.7353\n",
            "Epoch 145/150\n",
            "101/101 [==============================] - 10s 94ms/step - loss: 0.4482 - accuracy: 0.8007 - val_loss: 0.7106 - val_accuracy: 0.7537\n",
            "Epoch 146/150\n",
            "101/101 [==============================] - 9s 93ms/step - loss: 0.4204 - accuracy: 0.8125 - val_loss: 0.7190 - val_accuracy: 0.7316\n",
            "Epoch 147/150\n",
            "101/101 [==============================] - 9s 94ms/step - loss: 0.4159 - accuracy: 0.8193 - val_loss: 0.7142 - val_accuracy: 0.7647\n",
            "Epoch 148/150\n",
            "101/101 [==============================] - 10s 94ms/step - loss: 0.4193 - accuracy: 0.8286 - val_loss: 0.6791 - val_accuracy: 0.7463\n",
            "Epoch 149/150\n",
            "101/101 [==============================] - 10s 94ms/step - loss: 0.4369 - accuracy: 0.8193 - val_loss: 0.7498 - val_accuracy: 0.7647\n",
            "Epoch 150/150\n",
            "101/101 [==============================] - 9s 94ms/step - loss: 0.4264 - accuracy: 0.8038 - val_loss: 0.7139 - val_accuracy: 0.7169\n"
          ]
        }
      ],
      "source": [
        "# Create an Instance of Early Stopping Callback\n",
        "early_stopping_callback = keras.callbacks.EarlyStopping(monitor = 'val_loss',\n",
        "                                                        patience = 20,\n",
        "                                                        mode = 'min',\n",
        "                                                        restore_best_weights = True)\n",
        "# Compile the model and specify loss function, optimizer and metrics values to the model\n",
        "model.compile(loss = 'categorical_crossentropy',\n",
        "              optimizer= keras.optimizers.Adam(0.001, decay=1e-4),\n",
        "              metrics=['accuracy'])\n",
        "# Start training the model.\n",
        "cnn_3d_model_training_history = model.fit(x = features_train,\n",
        "                                          y = labels_train,\n",
        "                                          epochs=150,\n",
        "                                          batch_size=16,\n",
        "                                          shuffle = True,\n",
        "                                          validation_data = (features_valid, labels_valid)),\n",
        "                                          # callbacks = [early_stopping_callback])"
      ]
    },
    {
      "cell_type": "code",
      "execution_count": 13,
      "metadata": {
        "colab": {
          "base_uri": "https://localhost:8080/"
        },
        "id": "3vimsgjjbXvL",
        "outputId": "287b6328-22fb-4084-bdaa-264ee5654237"
      },
      "outputs": [
        {
          "output_type": "stream",
          "name": "stdout",
          "text": [
            "9/9 [==============================] - 1s 66ms/step - loss: 1.1406 - accuracy: 0.6544\n",
            "\n",
            "\n",
            "Train accuracy: 85.458 % || Test accuracy: 65.441 % || Val accuracy: 71.691 %\n",
            "Train loss: 0.362 || Test loss: 1.141 || Val loss: 0.714\n"
          ]
        }
      ],
      "source": [
        "model_evaluation_history = model.evaluate(features_test, labels_test)\n",
        "print('\\n')\n",
        "train_loss, train_acc = model.evaluate(features_train, labels_train, verbose=0)\n",
        "test_loss, test_acc = model.evaluate(features_test, labels_test, verbose=0)\n",
        "val_loss, val_acc = model.evaluate(features_valid, labels_valid, verbose=0)\n",
        "print(f'Train accuracy: {train_acc*100:.3f} % || Test accuracy: {test_acc*100:.3f} % || Val accuracy: {val_acc*100:.3f} %')\n",
        "print(f'Train loss: {train_loss:.3f} || Test loss: {test_loss:.3f} || Val loss: {val_loss:.3f}')"
      ]
    },
    {
      "cell_type": "code",
      "execution_count": 14,
      "metadata": {
        "id": "ivmaK9BlbnRQ"
      },
      "outputs": [],
      "source": [
        "# Get the loss and accuracy from model_evaluation_history.\n",
        "model_evaluation_loss, model_evaluation_accuracy = model_evaluation_history\n",
        " \n",
        "# Define the string date format.\n",
        "# Get the current Date and Time in a DateTime Object.\n",
        "# Convert the DateTime object to string according to the style mentioned in date_time_format string.\n",
        "date_time_format = '%Y_%m_%d__%H_%M_%S'\n",
        "current_date_time_dt = dt.datetime.now()\n",
        "current_date_time_string = dt.datetime.strftime(current_date_time_dt, date_time_format)\n",
        " \n",
        "# Define a useful name for our model to make it easy for us while navigating through multiple saved models.\n",
        "model_file_name = f'3D_CNN_model___Date_Time_{current_date_time_string}___Loss_{model_evaluation_loss}___Accuracy_{model_evaluation_accuracy}.h5'\n",
        "# Change dir\n",
        "gdrive_path = '/content/gdrive' + '/My Drive/247/Saved_models/'\n",
        "os.chdir(gdrive_path)\n",
        "# Create a floder for the model files\n",
        "!mkdir -p cnn_3d_{current_date_time_string}\n",
        "# Save your Model.\n",
        "model.save('convlstm_' + str(current_date_time_string) + '/' + model_file_name)\n",
        "# Save model weights\n",
        "model.save_weights('convlstm_' + str(current_date_time_string) + '/' + 'weights')"
      ]
    },
    {
      "cell_type": "code",
      "execution_count": 15,
      "metadata": {
        "id": "OwU8TwPrbsKB"
      },
      "outputs": [],
      "source": [
        "def plot_metric(model_training_history, metric_name_1, metric_name_2, plot_name):\n",
        "    '''\n",
        "    This function will plot the metrics passed to it in a graph.\n",
        "    Args:\n",
        "        model_training_history: A history object containing a record of training and validation \n",
        "                                loss values and metrics values at successive epochs\n",
        "        metric_name_1:          The name of the first metric that needs to be plotted in the graph.\n",
        "        metric_name_2:          The name of the second metric that needs to be plotted in the graph.\n",
        "        plot_name:              The title of the graph.\n",
        "    '''\n",
        "    \n",
        "    # Get metric values using metric names as identifiers.\n",
        "    metric_value_1 = model_training_history[0].history[metric_name_1]\n",
        "    metric_value_2 = model_training_history[0].history[metric_name_2]\n",
        "    \n",
        "    # Construct a range object which will be used as x-axis (horizontal plane) of the graph.\n",
        "    epochs = range(len(metric_value_1))\n",
        "\n",
        "    # Plot the Graph.\n",
        "    plt.plot(epochs, metric_value_1, 'blue', label = metric_name_1)\n",
        "    plt.plot(epochs, metric_value_2, 'red', label = metric_name_2)\n",
        "\n",
        "    # Add title to the plot.\n",
        "    plt.title(str(plot_name))\n",
        "\n",
        "    # Add legend to the plot.\n",
        "    plt.legend()"
      ]
    },
    {
      "cell_type": "code",
      "execution_count": 16,
      "metadata": {
        "colab": {
          "base_uri": "https://localhost:8080/",
          "height": 281
        },
        "id": "cvKY05ncbwof",
        "outputId": "85304bb5-b55f-433e-ae1e-c6c65892ff24"
      },
      "outputs": [
        {
          "output_type": "display_data",
          "data": {
            "text/plain": [
              "<Figure size 432x288 with 1 Axes>"
            ],
            "image/png": "[encoded data removed]"
          },
          "metadata": {
            "needs_background": "light"
          }
        }
      ],
      "source": [
        "plot_metric(cnn_3d_model_training_history, 'loss', 'val_loss', 'Total Loss vs Total Validation Loss')"
      ]
    },
    {
      "cell_type": "code",
      "execution_count": 17,
      "metadata": {
        "colab": {
          "base_uri": "https://localhost:8080/",
          "height": 281
        },
        "id": "o1iaaDHBb5i0",
        "outputId": "bbbe8327-8d32-4faa-bf97-6ebf82520d29"
      },
      "outputs": [
        {
          "output_type": "display_data",
          "data": {
            "text/plain": [
              "<Figure size 432x288 with 1 Axes>"
            ],
            "image/png": "[encoded data removed]"
          },
          "metadata": {
            "needs_background": "light"
          }
        }
      ],
      "source": [
        "plot_metric(cnn_3d_model_training_history, 'accuracy', 'val_accuracy', 'Total Accuracy vs Total Validation Accuracy') "
      ]
    }
  ],
  "metadata": {
    "accelerator": "GPU",
    "colab": {
      "collapsed_sections": [],
      "machine_shape": "hm",
      "name": "3D_CNN.ipynb",
      "provenance": [],
      "authorship_tag": "ABX9TyOcvGmXkrSOzritfp9Z9utc",
      "include_colab_link": true
    },
    "kernelspec": {
      "display_name": "Python 3",
      "name": "python3"
    },
    "language_info": {
      "name": "python"
    }
  },
  "nbformat": 4,
  "nbformat_minor": 0
}