{
  "nbformat": 4,
  "nbformat_minor": 0,
  "metadata": {
    "colab": {
      "name": "3D-CNN.ipynb",
      "provenance": [],
      "collapsed_sections": [],
      "machine_shape": "hm",
      "authorship_tag": "ABX9TyMyAD/YwWTEtQYloumyMSl0",
      "include_colab_link": true
    },
    "kernelspec": {
      "name": "python3",
      "display_name": "Python 3"
    },
    "language_info": {
      "name": "python"
    },
    "accelerator": "GPU"
  },
  "cells": [
    {
      "cell_type": "markdown",
      "metadata": {
        "id": "view-in-github",
        "colab_type": "text"
      },
      "source": [
        "<a href=\"https://colab.research.google.com/github/alexsalman/CSE247/blob/main/3D_CNN.ipynb\" target=\"_parent\"><img src=\"https://colab.research.google.com/assets/colab-badge.svg\" alt=\"Open In Colab\"/></a>"
      ]
    },
    {
      "cell_type": "code",
      "execution_count": 1,
      "metadata": {
        "id": "M8ibtd5HKtZk"
      },
      "outputs": [],
      "source": [
        "import os\n",
        "import cv2\n",
        "import math\n",
        "import random\n",
        "import numpy as np\n",
        "import datetime as dt\n",
        "import tensorflow as tf\n",
        "from collections import deque\n",
        "import matplotlib.pyplot as plt\n",
        "from google.colab import drive\n",
        "from tensorflow import keras\n",
        "\n",
        "from PIL import Image\n",
        "\n",
        "%matplotlib inline\n",
        " \n",
        "from sklearn.model_selection import train_test_split\n",
        "from tensorflow.keras.layers import *\n",
        "from tensorflow.keras.models import Sequential\n",
        "from tensorflow.keras.utils import to_categorical\n",
        "from tensorflow.keras.callbacks import EarlyStopping\n",
        "from tensorflow.keras.utils import plot_model"
      ]
    },
    {
      "cell_type": "code",
      "source": [
        "seed_constant = 27\n",
        "np.random.seed(seed_constant)\n",
        "random.seed(seed_constant)\n",
        "tf.random.set_seed(seed_constant)"
      ],
      "metadata": {
        "id": "iffdFOf1CEAN"
      },
      "execution_count": 2,
      "outputs": []
    },
    {
      "cell_type": "code",
      "source": [
        "drive.mount('/content/gdrive/', force_remount=True)\n",
        "gdrive_path = '/content/gdrive' + '/My Drive/247/'\n",
        "os.chdir(gdrive_path)\n",
        "print(os.getcwd())"
      ],
      "metadata": {
        "colab": {
          "base_uri": "https://localhost:8080/"
        },
        "id": "mcLh22LiOHyn",
        "outputId": "5533af83-bd84-4d65-e30f-af2459113dcd"
      },
      "execution_count": 3,
      "outputs": [
        {
          "output_type": "stream",
          "name": "stdout",
          "text": [
            "Mounted at /content/gdrive/\n",
            "/content/gdrive/My Drive/247\n"
          ]
        }
      ]
    },
    {
      "cell_type": "code",
      "source": [
        "IMAGE_HEIGHT, IMAGE_WIDTH = 16, 16\n",
        "SEQUENCE_LENGTH = 16\n",
        "DATASET_DIR = gdrive_path + 'Cropped_videos'\n",
        "print(DATASET_DIR)\n",
        "CLASSES_LIST = ['hemostasis', 'inflammatory', 'proliferative', 'maturation']"
      ],
      "metadata": {
        "colab": {
          "base_uri": "https://localhost:8080/"
        },
        "id": "oeDK8SzumZ1Q",
        "outputId": "6143cf95-3f83-412e-a63f-d62720969be9"
      },
      "execution_count": 4,
      "outputs": [
        {
          "output_type": "stream",
          "name": "stdout",
          "text": [
            "/content/gdrive/My Drive/247/Cropped_videos\n"
          ]
        }
      ]
    },
    {
      "cell_type": "code",
      "source": [
        "# def frames_extraction(video_path):\n",
        "#     '''\n",
        "#     This function will extract the required frames from a video after resizing and normalizing them.\n",
        "#     Args:\n",
        "#         video_path: The path of the video in the disk, whose frames are to be extracted.\n",
        "#     Returns:\n",
        "#         frames_list: A list containing the resized and normalized frames of the video.\n",
        "#     '''\n",
        " \n",
        "#     # Declare a list to store video frames.\n",
        "#     frames_list = []\n",
        "    \n",
        "#     # Read the Video File using the VideoCapture object.\n",
        "#     video_reader = cv2.VideoCapture(video_path)\n",
        " \n",
        "#     # Get the total number of frames in the video.\n",
        "#     video_frames_count = int(video_reader.get(cv2.CAP_PROP_FRAME_COUNT))\n",
        " \n",
        "#     # Calculate the the interval after which frames will be added to the list.\n",
        "#     skip_frames_window = max(int(video_frames_count/SEQUENCE_LENGTH), 1)\n",
        " \n",
        "#     # Iterate through the Video Frames.\n",
        "#     for frame_counter in range(SEQUENCE_LENGTH):\n",
        " \n",
        "#         # Set the current frame position of the video.\n",
        "#         video_reader.set(cv2.CAP_PROP_POS_FRAMES, frame_counter * skip_frames_window)\n",
        " \n",
        "#         # Reading the frame from the video. \n",
        "#         success, frame = video_reader.read() \n",
        " \n",
        "#         # Check if Video frame is not successfully read then break the loop\n",
        "#         if not success:\n",
        "#             break\n",
        " \n",
        "#         # Resize the Frame to fixed height and width.\n",
        "#         resized_frame = cv2.resize(frame, (IMAGE_HEIGHT, IMAGE_WIDTH))\n",
        "        \n",
        "#         # Normalize the resized frame by dividing it with 255 so that each pixel value then lies between 0 and 1\n",
        "#         normalized_frame = resized_frame / 255\n",
        "        \n",
        "#         # Append the normalized frame into the frames list\n",
        "#         frames_list.append(normalized_frame)\n",
        "    \n",
        "#     # Release the VideoCapture object. \n",
        "#     video_reader.release()\n",
        " \n",
        "#     # Return the frames list.\n",
        "#     return frames_list"
      ],
      "metadata": {
        "id": "bQ0_ZjwEoveo"
      },
      "execution_count": 5,
      "outputs": []
    },
    {
      "cell_type": "code",
      "source": [
        "def crop_center_square(frame):\n",
        "    y, x = frame.shape[0:2]\n",
        "    min_dim = min(y, x)\n",
        "    start_x = (x // 2) - (min_dim // 2)\n",
        "    start_y = (y // 2) - (min_dim // 2)\n",
        "    return frame[start_y:start_y+min_dim,start_x:start_x+min_dim]"
      ],
      "metadata": {
        "id": "HUTeIqzpZc9J"
      },
      "execution_count": 6,
      "outputs": []
    },
    {
      "cell_type": "code",
      "source": [
        "def load_video(path, max_frames = 16, resize=(16, 16)):\n",
        "    video_reader = cv2.VideoCapture(path)\n",
        "    video_frames_count = int(video_reader.get(cv2.CAP_PROP_FRAME_COUNT))\n",
        "    # print('video_frames_count before padding', video_frames_count)\n",
        "    frames = []\n",
        "    try:\n",
        "        while True:\n",
        "            ret, frame = video_reader.read()\n",
        "            if not ret:\n",
        "                  break\n",
        "            frame = crop_center_square(frame)\n",
        "            frame = cv2.resize(frame, resize)\n",
        "            frame = frame[:, :, [2, 1, 0]]\n",
        "            black_frame = frame\n",
        "            frames.append(frame)\n",
        "        # if len(frames) < max_frames:\n",
        "        #     try:\n",
        "        #         what_day = int(path.split(' ')[2].split('_')[0])\n",
        "        #     except:\n",
        "        #         print('DS: ', path)\n",
        "        #     num_of_right_frames = max_frames - what_day - 1\n",
        "        #     num_of_left_frames = max_frames - num_of_right_frames - len(frames)\n",
        "\n",
        "        #     if num_of_left_frames > 0:\n",
        "        #         for _ in range(num_of_left_frames):\n",
        "        #             frames.insert(0, black_frame)\n",
        "        #         # print('video_frames_count after left padding', len(frames))\n",
        "        #     elif num_of_right_frames > 0:\n",
        "        #         for _ in range(num_of_right_frames):\n",
        "        #             frames.append(black_frame)\n",
        "        #         # print('video_frames_count after right padding', len(frames))\n",
        "        \n",
        "    finally:\n",
        "        video_reader.release()\n",
        "    return np.array(frames) / 255.0\n"
      ],
      "metadata": {
        "id": "QRDbHG0TZkYJ"
      },
      "execution_count": 7,
      "outputs": []
    },
    {
      "cell_type": "code",
      "source": [
        "def create_dataset():\n",
        "    '''\n",
        "    This function will extract the data of the selected classes and create the required dataset.\n",
        "    Returns:\n",
        "        features:          A list containing the extracted frames of the videos.\n",
        "        labels:            A list containing the indexes of the classes associated with the videos.\n",
        "        video_files_paths: A list containing the paths of the videos in the disk.\n",
        "    '''\n",
        " \n",
        "    # Declared Empty Lists to store the features, labels and video file path values.\n",
        "    features = []\n",
        "    labels = []\n",
        "    video_files_paths = []\n",
        "    \n",
        "    # Iterating through all the classes mentioned in the classes list\n",
        "    for class_index, class_name in enumerate(CLASSES_LIST):\n",
        "        \n",
        "        # Display the name of the class whose data is being extracted.\n",
        "        print(f'Extracting Data of Class: {class_name}')\n",
        "        \n",
        "        # Get the list of video files present in the specific class name directory.\n",
        "        files_list = os.listdir(os.path.join(DATASET_DIR, class_name))\n",
        "        \n",
        "        # Iterate through all the files present in the files list.\n",
        "        for file_name in files_list:\n",
        "            # Get the complete video path.\n",
        "            video_file_path = os.path.join(DATASET_DIR, class_name, file_name)\n",
        "            frames = load_video(video_file_path)\n",
        "\n",
        "            if len(frames) == SEQUENCE_LENGTH:\n",
        "                features.append(frames)\n",
        "                labels.append(class_index)\n",
        "                video_files_paths.append(video_file_path)\n",
        " \n",
        "\n",
        "\n",
        "            # Extract the frames of the video file.\n",
        "            # frames = frames_extraction(video_file_path)\n",
        " \n",
        "            # Check if the extracted frames are equal to the SEQUENCE_LENGTH specified above.\n",
        "            # So ignore the vides having frames less than the SEQUENCE_LENGTH.\n",
        "# to be removed\n",
        "            # if len(frames) == SEQUENCE_LENGTH:\n",
        " \n",
        "            #     # Append the data to their repective lists.\n",
        "            #     features.append(frames)\n",
        "            #     labels.append(class_index)\n",
        "            #     video_files_paths.append(video_file_path)\n",
        "            # # left and right padding\n",
        "            # ###################################################################\n",
        "            # elif len(frames) > 0:\n",
        "            #     black_frame = np.copy(frames[0])\n",
        "            #     # print(frames[0].shape)\n",
        "            #     # print(video_file_path)\n",
        "            #     #### color change ############################################\n",
        "            #     ############################################\n",
        "            #     r1, g1, b1 = 0, 0, 0 # Original value\n",
        "            #     r2, g2, b2 = 0, 0, 0 # Value that we want to replace it with\n",
        "\n",
        "            #     red, green, blue = black_frame[:,:,0], black_frame[:,:,1], black_frame[:,:,2]\n",
        "            #     mask = (red == r1) & (green == g1) & (blue == b1)\n",
        "            #     black_frame[:,:,:3][mask] = [r2, g2, b2]\n",
        "            #     ############################################\n",
        "            #     ############################################\n",
        "            #     # print(\"black frame: \", black_frame)\n",
        "            #     what_day = int(video_file_path.split(' ')[2].split('_')[0])\n",
        "            #     num_of_right_frames = SEQUENCE_LENGTH - what_day - 1\n",
        "            #     num_of_left_frames = SEQUENCE_LENGTH - num_of_right_frames - len(frames)\n",
        "            #     # print('right and left: ', num_of_right_frames, num_of_left_frames)\n",
        "            #     padded_frames = []\n",
        "            #     if num_of_left_frames > 0:\n",
        "            #         for _ in range(num_of_left_frames):\n",
        "            #             padded_frames.append(black_frame)\n",
        "            #         # print('frames added in left for loop: ', len(padded_frames))\n",
        "            #         padded_frames.append(frames)\n",
        "            #         # print('padded_frames after left: ', len(padded_frames))\n",
        "            #     else:\n",
        "            #         padded_frames = frames\n",
        "\n",
        "            #     if num_of_right_frames > 0:\n",
        "            #         # print('just in right',len(padded_frames))\n",
        "            #         for _ in range(num_of_right_frames):\n",
        "            #             padded_frames.append(black_frame)\n",
        "            #             # print('hello, append happend')\n",
        "            #             # print(len(padded_frames))\n",
        "            #     # print('Frames after padding: ', len(padded_frames))\n",
        "            #     # Append the data to their repective lists.\n",
        "            #     # if len(padded_frames) == SEQUENCE_LENGTH:\n",
        "            #     features.append(padded_frames)\n",
        "            #     labels.append(class_index)\n",
        "            # #     video_files_paths.append(video_file_path)\n",
        "            ##################################################################\n",
        "\n",
        "    # Converting the list to numpy arrays\n",
        "    features = np.asarray(features)\n",
        "    # print(features)\n",
        "    labels = np.array(labels)\n",
        "\n",
        "    # targets_train = to_categorical(targets_train).astype(np.integer)\n",
        "    # targets_test = to_categorical(targets_test).astype(np.integer)\n",
        "    \n",
        "    # Return the frames, class index, and video file path.\n",
        "    return features, labels, video_files_paths"
      ],
      "metadata": {
        "id": "ljUWHW6Jqzu-"
      },
      "execution_count": 8,
      "outputs": []
    },
    {
      "cell_type": "code",
      "source": [
        "features, labels, video_files_paths = create_dataset()"
      ],
      "metadata": {
        "colab": {
          "base_uri": "https://localhost:8080/"
        },
        "id": "a8rpanz9rASe",
        "outputId": "f4a7f0e8-af05-4946-d219-92eb65c4f6e9"
      },
      "execution_count": 9,
      "outputs": [
        {
          "output_type": "stream",
          "name": "stdout",
          "text": [
            "Extracting Data of Class: hemostasis\n",
            "Extracting Data of Class: inflammatory\n",
            "Extracting Data of Class: proliferative\n",
            "Extracting Data of Class: maturation\n"
          ]
        }
      ]
    },
    {
      "cell_type": "code",
      "source": [
        "one_hot_encoded_labels = to_categorical(labels)"
      ],
      "metadata": {
        "id": "dtJkK4qTAulC"
      },
      "execution_count": 10,
      "outputs": []
    },
    {
      "cell_type": "code",
      "source": [
        "features_train, features_test, labels_train, labels_test = train_test_split(features, one_hot_encoded_labels, test_size = 0.25, shuffle = True, random_state = seed_constant)"
      ],
      "metadata": {
        "id": "K6FohTl9Bd_T"
      },
      "execution_count": 11,
      "outputs": []
    },
    {
      "cell_type": "markdown",
      "source": [
        "####3DCNN"
      ],
      "metadata": {
        "id": "pB41eXrCtNYU"
      }
    },
    {
      "cell_type": "code",
      "source": [
        "## input layer\n",
        "input_layer = keras.layers.Input((16, 16, 16, 3))\n",
        "\n",
        "## convolutional layers\n",
        "conv_layer1 = keras.layers.Conv3D(filters=8, kernel_size=(3, 3, 3), activation='relu')(input_layer)\n",
        "conv_layer2 = keras.layers.Conv3D(filters=16, kernel_size=(3, 3, 3), activation='relu')(conv_layer1)\n",
        "\n",
        "## add max pooling to obtain the most imformatic features\n",
        "pooling_layer1 = keras.layers.MaxPool3D(pool_size=(2, 2, 2))(conv_layer2)\n",
        "\n",
        "conv_layer3 = keras.layers.Conv3D(filters=32, kernel_size=(3, 3, 3), activation='relu')(pooling_layer1)\n",
        "conv_layer4 = keras.layers.Conv3D(filters=64, kernel_size=(3, 3, 3), activation='relu')(conv_layer3)\n",
        "pooling_layer2 = keras.layers.MaxPool3D(pool_size=(2, 2, 2))(conv_layer4)\n",
        "\n",
        "## perform batch normalization on the convolution outputs before feeding it to MLP architecture\n",
        "pooling_layer2 = keras.layers.BatchNormalization()(pooling_layer2)\n",
        "flatten_layer = keras.layers.Flatten()(pooling_layer2)\n",
        "\n",
        "## create an MLP architecture with dense layers : 4096 -> 512 -> 10\n",
        "## add dropouts to avoid overfitting / perform regularization\n",
        "dense_layer1 = keras.layers.Dense(units=2048, activation='relu')(flatten_layer)\n",
        "dense_layer1 = keras.layers.Dropout(0.4)(dense_layer1)\n",
        "dense_layer2 = keras.layers.Dense(units=512, activation='relu')(dense_layer1)\n",
        "dense_layer2 = keras.layers.Dropout(0.4)(dense_layer2)\n",
        "output_layer = keras.layers.Dense(units=4, activation='softmax')(dense_layer2)\n",
        "\n",
        "## define the model with input layer and output layer\n",
        "model = keras.models.Model(inputs=input_layer, outputs=output_layer)\n",
        "model.summary()"
      ],
      "metadata": {
        "id": "N-9ykP4ig7IW",
        "colab": {
          "base_uri": "https://localhost:8080/"
        },
        "outputId": "59fb9e59-cf19-4b15-c0d3-a191cfbfe641"
      },
      "execution_count": 12,
      "outputs": [
        {
          "output_type": "stream",
          "name": "stdout",
          "text": [
            "Model: \"model\"\n",
            "_________________________________________________________________\n",
            " Layer (type)                Output Shape              Param #   \n",
            "=================================================================\n",
            " input_1 (InputLayer)        [(None, 16, 16, 16, 3)]   0         \n",
            "                                                                 \n",
            " conv3d (Conv3D)             (None, 14, 14, 14, 8)     656       \n",
            "                                                                 \n",
            " conv3d_1 (Conv3D)           (None, 12, 12, 12, 16)    3472      \n",
            "                                                                 \n",
            " max_pooling3d (MaxPooling3D  (None, 6, 6, 6, 16)      0         \n",
            " )                                                               \n",
            "                                                                 \n",
            " conv3d_2 (Conv3D)           (None, 4, 4, 4, 32)       13856     \n",
            "                                                                 \n",
            " conv3d_3 (Conv3D)           (None, 2, 2, 2, 64)       55360     \n",
            "                                                                 \n",
            " max_pooling3d_1 (MaxPooling  (None, 1, 1, 1, 64)      0         \n",
            " 3D)                                                             \n",
            "                                                                 \n",
            " batch_normalization (BatchN  (None, 1, 1, 1, 64)      256       \n",
            " ormalization)                                                   \n",
            "                                                                 \n",
            " flatten (Flatten)           (None, 64)                0         \n",
            "                                                                 \n",
            " dense (Dense)               (None, 2048)              133120    \n",
            "                                                                 \n",
            " dropout (Dropout)           (None, 2048)              0         \n",
            "                                                                 \n",
            " dense_1 (Dense)             (None, 512)               1049088   \n",
            "                                                                 \n",
            " dropout_1 (Dropout)         (None, 512)               0         \n",
            "                                                                 \n",
            " dense_2 (Dense)             (None, 4)                 2052      \n",
            "                                                                 \n",
            "=================================================================\n",
            "Total params: 1,257,860\n",
            "Trainable params: 1,257,732\n",
            "Non-trainable params: 128\n",
            "_________________________________________________________________\n"
          ]
        }
      ]
    },
    {
      "cell_type": "code",
      "source": [
        "model.compile(loss=keras.losses.categorical_crossentropy, optimizer=keras.optimizers.Adadelta(learning_rate=0.1), metrics=['accuracy'])\n",
        "cnn_3d_model_training_history = model.fit(x=features, y=one_hot_encoded_labels, batch_size=16, epochs=50, validation_split=0.2)"
      ],
      "metadata": {
        "colab": {
          "base_uri": "https://localhost:8080/"
        },
        "id": "MwYEkaYLoyb_",
        "outputId": "0e89e1ab-0073-40cc-c8d7-2641a5bfd8f0"
      },
      "execution_count": 13,
      "outputs": [
        {
          "output_type": "stream",
          "name": "stdout",
          "text": [
            "Epoch 1/50\n",
            "108/108 [==============================] - 3s 9ms/step - loss: 0.9054 - accuracy: 0.5862 - val_loss: 1.1538 - val_accuracy: 0.0718\n",
            "Epoch 2/50\n",
            "108/108 [==============================] - 1s 6ms/step - loss: 0.7066 - accuracy: 0.6811 - val_loss: 1.2631 - val_accuracy: 0.0394\n",
            "Epoch 3/50\n",
            "108/108 [==============================] - 1s 6ms/step - loss: 0.6157 - accuracy: 0.7350 - val_loss: 1.0078 - val_accuracy: 0.4931\n",
            "Epoch 4/50\n",
            "108/108 [==============================] - 1s 6ms/step - loss: 0.5487 - accuracy: 0.7691 - val_loss: 0.9305 - val_accuracy: 0.4468\n",
            "Epoch 5/50\n",
            "108/108 [==============================] - 1s 6ms/step - loss: 0.5096 - accuracy: 0.7760 - val_loss: 1.1501 - val_accuracy: 0.4583\n",
            "Epoch 6/50\n",
            "108/108 [==============================] - 1s 6ms/step - loss: 0.4746 - accuracy: 0.7917 - val_loss: 1.1312 - val_accuracy: 0.5417\n",
            "Epoch 7/50\n",
            "108/108 [==============================] - 1s 6ms/step - loss: 0.4380 - accuracy: 0.8119 - val_loss: 0.5246 - val_accuracy: 0.7662\n",
            "Epoch 8/50\n",
            "108/108 [==============================] - 1s 6ms/step - loss: 0.4148 - accuracy: 0.8183 - val_loss: 1.3129 - val_accuracy: 0.5833\n",
            "Epoch 9/50\n",
            "108/108 [==============================] - 1s 6ms/step - loss: 0.3741 - accuracy: 0.8466 - val_loss: 1.5252 - val_accuracy: 0.5741\n",
            "Epoch 10/50\n",
            "108/108 [==============================] - 1s 6ms/step - loss: 0.3284 - accuracy: 0.8628 - val_loss: 1.5567 - val_accuracy: 0.5625\n",
            "Epoch 11/50\n",
            "108/108 [==============================] - 1s 6ms/step - loss: 0.3115 - accuracy: 0.8704 - val_loss: 1.4337 - val_accuracy: 0.5787\n",
            "Epoch 12/50\n",
            "108/108 [==============================] - 1s 6ms/step - loss: 0.2829 - accuracy: 0.8883 - val_loss: 0.8939 - val_accuracy: 0.7083\n",
            "Epoch 13/50\n",
            "108/108 [==============================] - 1s 6ms/step - loss: 0.2775 - accuracy: 0.8825 - val_loss: 0.9793 - val_accuracy: 0.7083\n",
            "Epoch 14/50\n",
            "108/108 [==============================] - 1s 6ms/step - loss: 0.2420 - accuracy: 0.8987 - val_loss: 1.3894 - val_accuracy: 0.6366\n",
            "Epoch 15/50\n",
            "108/108 [==============================] - 1s 6ms/step - loss: 0.2121 - accuracy: 0.9149 - val_loss: 1.3799 - val_accuracy: 0.6319\n",
            "Epoch 16/50\n",
            "108/108 [==============================] - 1s 6ms/step - loss: 0.2034 - accuracy: 0.9167 - val_loss: 1.3379 - val_accuracy: 0.6481\n",
            "Epoch 17/50\n",
            "108/108 [==============================] - 1s 6ms/step - loss: 0.1928 - accuracy: 0.9230 - val_loss: 2.1361 - val_accuracy: 0.5509\n",
            "Epoch 18/50\n",
            "108/108 [==============================] - 1s 6ms/step - loss: 0.1807 - accuracy: 0.9306 - val_loss: 1.7696 - val_accuracy: 0.5856\n",
            "Epoch 19/50\n",
            "108/108 [==============================] - 1s 6ms/step - loss: 0.1733 - accuracy: 0.9288 - val_loss: 1.6270 - val_accuracy: 0.6019\n",
            "Epoch 20/50\n",
            "108/108 [==============================] - 1s 6ms/step - loss: 0.1512 - accuracy: 0.9398 - val_loss: 1.4655 - val_accuracy: 0.6366\n",
            "Epoch 21/50\n",
            "108/108 [==============================] - 1s 6ms/step - loss: 0.1378 - accuracy: 0.9531 - val_loss: 1.3099 - val_accuracy: 0.6644\n",
            "Epoch 22/50\n",
            "108/108 [==============================] - 1s 6ms/step - loss: 0.1247 - accuracy: 0.9549 - val_loss: 1.6904 - val_accuracy: 0.6366\n",
            "Epoch 23/50\n",
            "108/108 [==============================] - 1s 6ms/step - loss: 0.1094 - accuracy: 0.9566 - val_loss: 2.1156 - val_accuracy: 0.6088\n",
            "Epoch 24/50\n",
            "108/108 [==============================] - 1s 6ms/step - loss: 0.1221 - accuracy: 0.9537 - val_loss: 2.4138 - val_accuracy: 0.5509\n",
            "Epoch 25/50\n",
            "108/108 [==============================] - 1s 6ms/step - loss: 0.0942 - accuracy: 0.9722 - val_loss: 1.7534 - val_accuracy: 0.6319\n",
            "Epoch 26/50\n",
            "108/108 [==============================] - 1s 6ms/step - loss: 0.0965 - accuracy: 0.9676 - val_loss: 1.1195 - val_accuracy: 0.6898\n",
            "Epoch 27/50\n",
            "108/108 [==============================] - 1s 6ms/step - loss: 0.0943 - accuracy: 0.9618 - val_loss: 2.1818 - val_accuracy: 0.5972\n",
            "Epoch 28/50\n",
            "108/108 [==============================] - 1s 6ms/step - loss: 0.0857 - accuracy: 0.9699 - val_loss: 0.3575 - val_accuracy: 0.8704\n",
            "Epoch 29/50\n",
            "108/108 [==============================] - 1s 6ms/step - loss: 0.0760 - accuracy: 0.9740 - val_loss: 2.1143 - val_accuracy: 0.6250\n",
            "Epoch 30/50\n",
            "108/108 [==============================] - 1s 6ms/step - loss: 0.0734 - accuracy: 0.9745 - val_loss: 1.0276 - val_accuracy: 0.7014\n",
            "Epoch 31/50\n",
            "108/108 [==============================] - 1s 6ms/step - loss: 0.0802 - accuracy: 0.9740 - val_loss: 2.3985 - val_accuracy: 0.5949\n",
            "Epoch 32/50\n",
            "108/108 [==============================] - 1s 6ms/step - loss: 0.0690 - accuracy: 0.9751 - val_loss: 0.9490 - val_accuracy: 0.7361\n",
            "Epoch 33/50\n",
            "108/108 [==============================] - 1s 6ms/step - loss: 0.0654 - accuracy: 0.9757 - val_loss: 1.7730 - val_accuracy: 0.6644\n",
            "Epoch 34/50\n",
            "108/108 [==============================] - 1s 6ms/step - loss: 0.0615 - accuracy: 0.9763 - val_loss: 2.2540 - val_accuracy: 0.6319\n",
            "Epoch 35/50\n",
            "108/108 [==============================] - 1s 6ms/step - loss: 0.0577 - accuracy: 0.9780 - val_loss: 1.8198 - val_accuracy: 0.6412\n",
            "Epoch 36/50\n",
            "108/108 [==============================] - 1s 6ms/step - loss: 0.0562 - accuracy: 0.9780 - val_loss: 1.1947 - val_accuracy: 0.6968\n",
            "Epoch 37/50\n",
            "108/108 [==============================] - 1s 6ms/step - loss: 0.0443 - accuracy: 0.9821 - val_loss: 1.5988 - val_accuracy: 0.6597\n",
            "Epoch 38/50\n",
            "108/108 [==============================] - 1s 6ms/step - loss: 0.0591 - accuracy: 0.9780 - val_loss: 1.7923 - val_accuracy: 0.6551\n",
            "Epoch 39/50\n",
            "108/108 [==============================] - 1s 6ms/step - loss: 0.0524 - accuracy: 0.9815 - val_loss: 1.7651 - val_accuracy: 0.6667\n",
            "Epoch 40/50\n",
            "108/108 [==============================] - 1s 6ms/step - loss: 0.0358 - accuracy: 0.9884 - val_loss: 1.5087 - val_accuracy: 0.6597\n",
            "Epoch 41/50\n",
            "108/108 [==============================] - 1s 6ms/step - loss: 0.0399 - accuracy: 0.9867 - val_loss: 0.9254 - val_accuracy: 0.7593\n",
            "Epoch 42/50\n",
            "108/108 [==============================] - 1s 6ms/step - loss: 0.0384 - accuracy: 0.9890 - val_loss: 2.1372 - val_accuracy: 0.6389\n",
            "Epoch 43/50\n",
            "108/108 [==============================] - 1s 6ms/step - loss: 0.0321 - accuracy: 0.9896 - val_loss: 1.4138 - val_accuracy: 0.7083\n",
            "Epoch 44/50\n",
            "108/108 [==============================] - 1s 6ms/step - loss: 0.0377 - accuracy: 0.9861 - val_loss: 2.2952 - val_accuracy: 0.6505\n",
            "Epoch 45/50\n",
            "108/108 [==============================] - 1s 6ms/step - loss: 0.0360 - accuracy: 0.9873 - val_loss: 2.3265 - val_accuracy: 0.6343\n",
            "Epoch 46/50\n",
            "108/108 [==============================] - 1s 6ms/step - loss: 0.0332 - accuracy: 0.9896 - val_loss: 2.4319 - val_accuracy: 0.6227\n",
            "Epoch 47/50\n",
            "108/108 [==============================] - 1s 6ms/step - loss: 0.0272 - accuracy: 0.9919 - val_loss: 1.4431 - val_accuracy: 0.6852\n",
            "Epoch 48/50\n",
            "108/108 [==============================] - 1s 6ms/step - loss: 0.0277 - accuracy: 0.9884 - val_loss: 1.4812 - val_accuracy: 0.6968\n",
            "Epoch 49/50\n",
            "108/108 [==============================] - 1s 6ms/step - loss: 0.0280 - accuracy: 0.9931 - val_loss: 1.3683 - val_accuracy: 0.6921\n",
            "Epoch 50/50\n",
            "108/108 [==============================] - 1s 6ms/step - loss: 0.0284 - accuracy: 0.9902 - val_loss: 0.8544 - val_accuracy: 0.7685\n"
          ]
        }
      ]
    },
    {
      "cell_type": "code",
      "source": [
        "model_evaluation_history = model.evaluate(features_test, labels_test)"
      ],
      "metadata": {
        "colab": {
          "base_uri": "https://localhost:8080/"
        },
        "id": "3vimsgjjbXvL",
        "outputId": "eb9588c6-0a03-48f5-e3ea-7b8288e21538"
      },
      "execution_count": 14,
      "outputs": [
        {
          "output_type": "stream",
          "name": "stdout",
          "text": [
            "17/17 [==============================] - 0s 5ms/step - loss: 0.1921 - accuracy: 0.9519\n"
          ]
        }
      ]
    },
    {
      "cell_type": "code",
      "source": [
        "# Get the loss and accuracy from model_evaluation_history.\n",
        "model_evaluation_loss, model_evaluation_accuracy = model_evaluation_history\n",
        " \n",
        "# Define the string date format.\n",
        "# Get the current Date and Time in a DateTime Object.\n",
        "# Convert the DateTime object to string according to the style mentioned in date_time_format string.\n",
        "date_time_format = '%Y_%m_%d__%H_%M_%S'\n",
        "current_date_time_dt = dt.datetime.now()\n",
        "current_date_time_string = dt.datetime.strftime(current_date_time_dt, date_time_format)\n",
        " \n",
        "# Define a useful name for our model to make it easy for us while navigating through multiple saved models.\n",
        "model_file_name = f'convlstm_model___Date_Time_{current_date_time_string}___Loss_{model_evaluation_loss}___Accuracy_{model_evaluation_accuracy}.h5'\n",
        " \n",
        "# Save your Model.\n",
        "model.save(model_file_name)"
      ],
      "metadata": {
        "id": "ivmaK9BlbnRQ"
      },
      "execution_count": 15,
      "outputs": []
    },
    {
      "cell_type": "code",
      "source": [
        "def plot_metric(model_training_history, metric_name_1, metric_name_2, plot_name):\n",
        "    '''\n",
        "    This function will plot the metrics passed to it in a graph.\n",
        "    Args:\n",
        "        model_training_history: A history object containing a record of training and validation \n",
        "                                loss values and metrics values at successive epochs\n",
        "        metric_name_1:          The name of the first metric that needs to be plotted in the graph.\n",
        "        metric_name_2:          The name of the second metric that needs to be plotted in the graph.\n",
        "        plot_name:              The title of the graph.\n",
        "    '''\n",
        "    \n",
        "    # Get metric values using metric names as identifiers.\n",
        "    metric_value_1 = model_training_history.history[metric_name_1]\n",
        "    metric_value_2 = model_training_history.history[metric_name_2]\n",
        "    \n",
        "    # Construct a range object which will be used as x-axis (horizontal plane) of the graph.\n",
        "    epochs = range(len(metric_value_1))\n",
        "\n",
        "    # Plot the Graph.\n",
        "    plt.plot(epochs, metric_value_1, 'blue', label = metric_name_1)\n",
        "    plt.plot(epochs, metric_value_2, 'red', label = metric_name_2)\n",
        "\n",
        "    # Add title to the plot.\n",
        "    plt.title(str(plot_name))\n",
        "\n",
        "    # Add legend to the plot.\n",
        "    plt.legend()"
      ],
      "metadata": {
        "id": "OwU8TwPrbsKB"
      },
      "execution_count": 16,
      "outputs": []
    },
    {
      "cell_type": "code",
      "source": [
        "plot_metric(cnn_3d_model_training_history, 'loss', 'val_loss', 'Total Loss vs Total Validation Loss')"
      ],
      "metadata": {
        "colab": {
          "base_uri": "https://localhost:8080/",
          "height": 281
        },
        "id": "cvKY05ncbwof",
        "outputId": "b6e20e84-71df-49a5-d81f-cfc8e5b17fdf"
      },
      "execution_count": 17,
      "outputs": [
        {
          "output_type": "display_data",
          "data": {
            "text/plain": [
              "<Figure size 432x288 with 1 Axes>"
            ],
            "image/png": "[encoded data removed]"
          },
          "metadata": {
            "needs_background": "light"
          }
        }
      ]
    },
    {
      "cell_type": "code",
      "source": [
        "plot_metric(cnn_3d_model_training_history, 'accuracy', 'val_accuracy', 'Total Accuracy vs Total Validation Accuracy') "
      ],
      "metadata": {
        "colab": {
          "base_uri": "https://localhost:8080/",
          "height": 281
        },
        "id": "o1iaaDHBb5i0",
        "outputId": "c4b92db6-ee2f-4e1c-ef84-cf96ee97df0e"
      },
      "execution_count": 18,
      "outputs": [
        {
          "output_type": "display_data",
          "data": {
            "text/plain": [
              "<Figure size 432x288 with 1 Axes>"
            ],
            "image/png": "[encoded data removed]"
          },
          "metadata": {
            "needs_background": "light"
          }
        }
      ]
    }
  ]
}