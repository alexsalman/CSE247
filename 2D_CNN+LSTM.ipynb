{
  "cells": [
    {
      "cell_type": "markdown",
      "metadata": {
        "id": "view-in-github",
        "colab_type": "text"
      },
      "source": [
        "<a href=\"https://colab.research.google.com/github/alexsalman/CSE247/blob/main/2D_CNN%2BLSTM.ipynb\" target=\"_parent\"><img src=\"https://colab.research.google.com/assets/colab-badge.svg\" alt=\"Open In Colab\"/></a>"
      ]
    },
    {
      "cell_type": "markdown",
      "metadata": {
        "id": "Fk8TLrPiv-ab"
      },
      "source": [
        "####**Convolutional Neural Network + Long Short Term Memory**\n",
        "######*I am using a Convolution Neural Network (CNN) + Long Short Term Memory (LSTM) Network to extract general representation while utilizing the Spatial-temporal aspect of the videos.*"
      ]
    },
    {
      "cell_type": "code",
      "execution_count": 1,
      "metadata": {
        "id": "M8ibtd5HKtZk",
        "colab": {
          "base_uri": "https://localhost:8080/"
        },
        "outputId": "c32a8f4c-cc21-4e98-8f51-9444eff69447"
      },
      "outputs": [
        {
          "output_type": "stream",
          "name": "stdout",
          "text": [
            "2.8.0\n"
          ]
        }
      ],
      "source": [
        "# required libraries\n",
        "import os\n",
        "import cv2\n",
        "import random\n",
        "import numpy as np\n",
        "import datetime as dt\n",
        "import matplotlib.pyplot as plt\n",
        "from google.colab import drive\n",
        "from sklearn.model_selection import train_test_split\n",
        "import tensorflow as tf\n",
        "from tensorflow import keras\n",
        "from keras.models import Sequential\n",
        "from keras.layers import Conv2D, Flatten, Dense, Dropout, Activation, BatchNormalization\n",
        "from keras.layers import TimeDistributed, MaxPooling2D, GlobalAveragePooling2D\n",
        "from keras.layers.recurrent import LSTM\n",
        "from keras import regularizers\n",
        "%matplotlib inline\n",
        "print(tf.version.VERSION)"
      ]
    },
    {
      "cell_type": "code",
      "execution_count": 2,
      "metadata": {
        "id": "iffdFOf1CEAN"
      },
      "outputs": [],
      "source": [
        "# set Numpy, Python, and Tensorflow seeds to get consistent results on every execution\n",
        "seed_constant = 27\n",
        "np.random.seed(seed_constant)\n",
        "random.seed(seed_constant)\n",
        "tf.random.set_seed(seed_constant)"
      ]
    },
    {
      "cell_type": "code",
      "execution_count": 3,
      "metadata": {
        "colab": {
          "base_uri": "https://localhost:8080/",
          "height": 53
        },
        "id": "mcLh22LiOHyn",
        "outputId": "a03646b9-0c32-4210-e7fc-a1fbe44f132d"
      },
      "outputs": [
        {
          "output_type": "stream",
          "name": "stdout",
          "text": [
            "Mounted at /content/gdrive/\n"
          ]
        },
        {
          "output_type": "execute_result",
          "data": {
            "text/plain": [
              "'/content/gdrive/My Drive/247'"
            ],
            "application/vnd.google.colaboratory.intrinsic+json": {
              "type": "string"
            }
          },
          "metadata": {},
          "execution_count": 3
        }
      ],
      "source": [
        "# mount dataset from google drive\n",
        "drive.mount('/content/gdrive/', force_remount=True)\n",
        "gdrive_path = '/content/gdrive' + '/My Drive/247/'\n",
        "os.chdir(gdrive_path)\n",
        "os.getcwd()"
      ]
    },
    {
      "cell_type": "code",
      "execution_count": 4,
      "metadata": {
        "id": "oeDK8SzumZ1Q"
      },
      "outputs": [],
      "source": [
        "# frame dimention\n",
        "IMAGE_HEIGHT, IMAGE_WIDTH = 128, 128\n",
        "# frame number for each video (depth)\n",
        "SEQUENCE_LENGTH = 16\n",
        "# video dir path\n",
        "DATASET_DIR = gdrive_path + 'Cropped_videos'\n",
        "# labels of classes\n",
        "CLASSES_LIST = ['hemostasis', 'inflammatory', 'proliferative', 'maturation']"
      ]
    },
    {
      "cell_type": "code",
      "execution_count": 5,
      "metadata": {
        "id": "3mFB5qD6b3Kd"
      },
      "outputs": [],
      "source": [
        "# image cropping\n",
        "def crop_center_square(frame):\n",
        "    y, x = frame.shape[0:2]\n",
        "    min_dim = min(y, x)\n",
        "    start_x = (x // 2) - (min_dim // 2)\n",
        "    start_y = (y // 2) - (min_dim // 2)\n",
        "    return frame[start_y:start_y+min_dim,start_x:start_x+min_dim]"
      ]
    },
    {
      "cell_type": "code",
      "execution_count": 6,
      "metadata": {
        "id": "sqeexMUjaLzJ"
      },
      "outputs": [],
      "source": [
        "def load_video(path, resize=(128, 128)):\n",
        "    video_reader = cv2.VideoCapture(path)\n",
        "    frames = []\n",
        "    try:\n",
        "        while True:\n",
        "            ret, frame = video_reader.read()\n",
        "            if not ret:\n",
        "                  break\n",
        "            frame = crop_center_square(frame)\n",
        "            frame = cv2.resize(frame, resize)\n",
        "            frame = frame[:, :, [2, 1, 0]]\n",
        "            frames.append(frame)\n",
        "    finally:\n",
        "        video_reader.release()\n",
        "    return np.array(frames) / 255.0"
      ]
    },
    {
      "cell_type": "code",
      "execution_count": 7,
      "metadata": {
        "id": "ljUWHW6Jqzu-"
      },
      "outputs": [],
      "source": [
        "def create_dataset(state):\n",
        "    # Declared Empty Lists to store the features, labels and video file path values.\n",
        "    features = []\n",
        "    labels = []\n",
        "    video_files_paths = []\n",
        "    # Iterating through all the classes mentioned in the classes list\n",
        "    for class_index, class_name in enumerate(CLASSES_LIST):\n",
        "        # Display the name of the class whose data is being extracted.\n",
        "        print(f'Extracting Data of Class: {class_name} {state}')\n",
        "        # Get the list of video files present in the specific class name directory.\n",
        "        files_list = os.listdir(os.path.join(DATASET_DIR, class_name))\n",
        "        # Iterate through all the files present in the files list.\n",
        "        for file_name in files_list:\n",
        "            # Get the complete video path.\n",
        "            video_file_path = os.path.join(DATASET_DIR, class_name, file_name)\n",
        "            # create testing data\n",
        "            if state == 'test':\n",
        "                # get the mouse number\n",
        "                mouse_number = int(video_file_path.split(' ')[2].split('_')[1].split('-')[1])\n",
        "                # get the mouse side (L or R)\n",
        "                mouse_side = video_file_path.split(' ')[2].split('_')[1].split('-')[2]\n",
        "                if mouse_number == 4 and mouse_side == 'L':\n",
        "                    frames = load_video(video_file_path)\n",
        "                    features.append(frames)\n",
        "                    labels.append(class_index)\n",
        "                    video_files_paths.append(video_file_path)\n",
        "            # create validation data\n",
        "            elif state == 'valid':\n",
        "                # get the mouse number\n",
        "                mouse_number = int(video_file_path.split(' ')[2].split('_')[1].split('-')[1])\n",
        "                # get the mouse side (L or R)\n",
        "                mouse_side = video_file_path.split(' ')[2].split('_')[1].split('-')[2]\n",
        "                if mouse_number == 4 and mouse_side == 'R':\n",
        "                    frames = load_video(video_file_path)\n",
        "                    features.append(frames)\n",
        "                    labels.append(class_index)\n",
        "                    video_files_paths.append(video_file_path)\n",
        "            # create training data\n",
        "            else:\n",
        "                # get the mouse number\n",
        "                mouse_number = int(video_file_path.split(' ')[2].split('_')[1].split('-')[1])\n",
        "                if mouse_number != 4:\n",
        "                    frames = load_video(video_file_path)\n",
        "                    features.append(frames)\n",
        "                    labels.append(class_index)\n",
        "                    video_files_paths.append(video_file_path)\n",
        "    # Converting the list to numpy arrays\n",
        "    features = np.asarray(features)\n",
        "    # print(features)\n",
        "    labels = np.array(labels)\n",
        "    # Return the frames, class index, and video file path.\n",
        "    return features, labels, video_files_paths"
      ]
    },
    {
      "cell_type": "code",
      "execution_count": 8,
      "metadata": {
        "colab": {
          "base_uri": "https://localhost:8080/"
        },
        "id": "a8rpanz9rASe",
        "outputId": "5b8040bd-6bac-4810-e2b2-605e58d4a527"
      },
      "outputs": [
        {
          "output_type": "stream",
          "name": "stdout",
          "text": [
            "Extracting Data of Class: hemostasis train\n",
            "Extracting Data of Class: inflammatory train\n",
            "Extracting Data of Class: proliferative train\n",
            "Extracting Data of Class: maturation train\n",
            "Extracting Data of Class: hemostasis test\n",
            "Extracting Data of Class: inflammatory test\n",
            "Extracting Data of Class: proliferative test\n",
            "Extracting Data of Class: maturation test\n",
            "Extracting Data of Class: hemostasis valid\n",
            "Extracting Data of Class: inflammatory valid\n",
            "Extracting Data of Class: proliferative valid\n",
            "Extracting Data of Class: maturation valid\n"
          ]
        }
      ],
      "source": [
        "# 6 mice for training, 2 mice for test and validation (one wound on each mice for test one for validation)\n",
        "features_train, labels_train, video_files_paths_train = create_dataset('train')\n",
        "features_test, labels_test, video_files_paths_test = create_dataset('test')\n",
        "features_valid, labels_valid, video_files_paths_valid = create_dataset('valid')"
      ]
    },
    {
      "cell_type": "code",
      "execution_count": 9,
      "metadata": {
        "id": "dtJkK4qTAulC"
      },
      "outputs": [],
      "source": [
        "# labels to catogorical\n",
        "labels_train = keras.utils.to_categorical(labels_train)\n",
        "labels_test = keras.utils.to_categorical(labels_test)\n",
        "labels_valid = keras.utils.to_categorical(labels_valid)"
      ]
    },
    {
      "cell_type": "code",
      "execution_count": 10,
      "metadata": {
        "id": "Bi-NDol3DHRV"
      },
      "outputs": [],
      "source": [
        "def create_convlstm_model():\n",
        "    # TimeDistributed is a wrapper to handle input of size five to maintain frames number for LSTM\n",
        "    # A Conv2D layer requires four dimensions: (batch_size, height, width, channels)\n",
        "    # TimeDistributed will require an additional dimension: (batch_size, frames, height, width, channels)\n",
        "\n",
        "    model = Sequential()\n",
        "\n",
        "    model.add(TimeDistributed(Conv2D(8, (3,3), activation='relu'), input_shape=(16, 128, 128, 3)))\n",
        "    model.add(TimeDistributed(MaxPooling2D((2,2), strides=(2,2))))\n",
        "    model.add(Dropout(0.2))\n",
        "\n",
        "    model.add(TimeDistributed(Conv2D(16, (3,3), activation='relu')))\n",
        "    model.add(TimeDistributed(MaxPooling2D((2,2), strides=(2,2))))\n",
        "    model.add(Dropout(0.2))\n",
        "\n",
        "    model.add(TimeDistributed(Conv2D(16, (3,3), activation='relu')))\n",
        "    model.add(TimeDistributed(MaxPooling2D((2,2), strides=(2,2))))\n",
        "    model.add(Dropout(0.2))\n",
        "\n",
        "    model.add(TimeDistributed(Conv2D(32, (3,3), activation='relu')))\n",
        "    model.add(TimeDistributed(MaxPooling2D((2,2), strides=(2,2))))\n",
        "    model.add(Dropout(0.2))\n",
        "\n",
        "    model.add(TimeDistributed(Conv2D(32, (3,3), activation='relu')))\n",
        "    model.add(TimeDistributed(MaxPooling2D((2,2), strides=(2,2))))\n",
        "    model.add(Dropout(0.2))\n",
        "\n",
        "    model.add(TimeDistributed(Flatten()))\n",
        "    model.add(Dropout(0.2))\n",
        "\n",
        "    model.add(LSTM(4, activation='relu', return_sequences=False))\n",
        "    model.add(Dropout(0.3))\n",
        "\n",
        "    # model.add(Dense(32, activation='relu', kernel_initializer='he_uniform'))\n",
        "    # model.add(Dropout(0.35))\n",
        "\n",
        "    model.add(Dense(16, activation='relu', kernel_initializer='he_uniform'))\n",
        "    model.add(Dropout(0.4))\n",
        "\n",
        "    model.add(Dense(8, activation='relu', kernel_initializer='he_uniform'))\n",
        "    model.add(Dropout(0.2))\n",
        "\n",
        "    model.add(Dense(4, activation='relu', kernel_initializer='he_uniform'))\n",
        "\n",
        "    model.add(Dense(len(CLASSES_LIST), activation='softmax'))\n",
        "    model.summary(line_length = 100)\n",
        "    return model"
      ]
    },
    {
      "cell_type": "code",
      "execution_count": 11,
      "metadata": {
        "id": "FbjNYI-0DY_v",
        "colab": {
          "base_uri": "https://localhost:8080/"
        },
        "outputId": "dc5aee3c-ce40-4a16-a31c-150facd8669e"
      },
      "outputs": [
        {
          "output_type": "stream",
          "name": "stdout",
          "text": [
            "Model: \"sequential\"\n",
            "____________________________________________________________________________________________________\n",
            " Layer (type)                                Output Shape                            Param #        \n",
            "====================================================================================================\n",
            " time_distributed (TimeDistributed)          (None, 16, 126, 126, 8)                 224            \n",
            "                                                                                                    \n",
            " time_distributed_1 (TimeDistributed)        (None, 16, 63, 63, 8)                   0              \n",
            "                                                                                                    \n",
            " dropout (Dropout)                           (None, 16, 63, 63, 8)                   0              \n",
            "                                                                                                    \n",
            " time_distributed_2 (TimeDistributed)        (None, 16, 61, 61, 16)                  1168           \n",
            "                                                                                                    \n",
            " time_distributed_3 (TimeDistributed)        (None, 16, 30, 30, 16)                  0              \n",
            "                                                                                                    \n",
            " dropout_1 (Dropout)                         (None, 16, 30, 30, 16)                  0              \n",
            "                                                                                                    \n",
            " time_distributed_4 (TimeDistributed)        (None, 16, 28, 28, 16)                  2320           \n",
            "                                                                                                    \n",
            " time_distributed_5 (TimeDistributed)        (None, 16, 14, 14, 16)                  0              \n",
            "                                                                                                    \n",
            " dropout_2 (Dropout)                         (None, 16, 14, 14, 16)                  0              \n",
            "                                                                                                    \n",
            " time_distributed_6 (TimeDistributed)        (None, 16, 12, 12, 32)                  4640           \n",
            "                                                                                                    \n",
            " time_distributed_7 (TimeDistributed)        (None, 16, 6, 6, 32)                    0              \n",
            "                                                                                                    \n",
            " dropout_3 (Dropout)                         (None, 16, 6, 6, 32)                    0              \n",
            "                                                                                                    \n",
            " time_distributed_8 (TimeDistributed)        (None, 16, 4, 4, 32)                    9248           \n",
            "                                                                                                    \n",
            " time_distributed_9 (TimeDistributed)        (None, 16, 2, 2, 32)                    0              \n",
            "                                                                                                    \n",
            " dropout_4 (Dropout)                         (None, 16, 2, 2, 32)                    0              \n",
            "                                                                                                    \n",
            " time_distributed_10 (TimeDistributed)       (None, 16, 128)                         0              \n",
            "                                                                                                    \n",
            " dropout_5 (Dropout)                         (None, 16, 128)                         0              \n",
            "                                                                                                    \n",
            " lstm (LSTM)                                 (None, 4)                               2128           \n",
            "                                                                                                    \n",
            " dropout_6 (Dropout)                         (None, 4)                               0              \n",
            "                                                                                                    \n",
            " dense (Dense)                               (None, 16)                              80             \n",
            "                                                                                                    \n",
            " dropout_7 (Dropout)                         (None, 16)                              0              \n",
            "                                                                                                    \n",
            " dense_1 (Dense)                             (None, 8)                               136            \n",
            "                                                                                                    \n",
            " dropout_8 (Dropout)                         (None, 8)                               0              \n",
            "                                                                                                    \n",
            " dense_2 (Dense)                             (None, 4)                               36             \n",
            "                                                                                                    \n",
            " dense_3 (Dense)                             (None, 4)                               20             \n",
            "                                                                                                    \n",
            "====================================================================================================\n",
            "Total params: 20,000\n",
            "Trainable params: 20,000\n",
            "Non-trainable params: 0\n",
            "____________________________________________________________________________________________________\n",
            "Model Created Successfully!\n"
          ]
        }
      ],
      "source": [
        "# Construct the required convlstm model.\n",
        "convlstm_model = create_convlstm_model()\n",
        " \n",
        "# Display the success message. \n",
        "print(\"Model Created Successfully!\")"
      ]
    },
    {
      "cell_type": "code",
      "execution_count": 12,
      "metadata": {
        "id": "SCB3R7so-wHz"
      },
      "outputs": [],
      "source": [
        "# keras.utils.plot_model(convlstm_model, to_file = 'convlstm_model_structure_plot.png', show_shapes = True, show_layer_names = True)"
      ]
    },
    {
      "cell_type": "code",
      "execution_count": 13,
      "metadata": {
        "id": "nMYwQOwyF3bd"
      },
      "outputs": [],
      "source": [
        "# keras.utils.plot_model(convlstm_model,\n",
        "#                          to_file = 'convlstm_model_structure_plot.png',\n",
        "#                          show_shapes = True,\n",
        "#                          show_layer_names = True)"
      ]
    },
    {
      "cell_type": "code",
      "execution_count": 14,
      "metadata": {
        "colab": {
          "base_uri": "https://localhost:8080/"
        },
        "id": "vYC_6H0uGqW9",
        "outputId": "07f75914-2a80-4a16-96f5-5cf00f68e3b0"
      },
      "outputs": [
        {
          "output_type": "stream",
          "name": "stdout",
          "text": [
            "Epoch 1/150\n",
            "30/30 [==============================] - 11s 195ms/step - loss: 1.3844 - accuracy: 0.3824 - val_loss: 1.3716 - val_accuracy: 0.4816\n",
            "Epoch 2/150\n",
            "30/30 [==============================] - 4s 137ms/step - loss: 1.3640 - accuracy: 0.4196 - val_loss: 1.3573 - val_accuracy: 0.4816\n",
            "Epoch 3/150\n",
            "30/30 [==============================] - 4s 139ms/step - loss: 1.3406 - accuracy: 0.4158 - val_loss: 1.3459 - val_accuracy: 0.4816\n",
            "Epoch 4/150\n",
            "30/30 [==============================] - 4s 138ms/step - loss: 1.3215 - accuracy: 0.4158 - val_loss: 1.3236 - val_accuracy: 0.4816\n",
            "Epoch 5/150\n",
            "30/30 [==============================] - 4s 137ms/step - loss: 1.2957 - accuracy: 0.4257 - val_loss: 1.2901 - val_accuracy: 0.4816\n",
            "Epoch 6/150\n",
            "30/30 [==============================] - 4s 137ms/step - loss: 1.2845 - accuracy: 0.4301 - val_loss: 1.2617 - val_accuracy: 0.4816\n",
            "Epoch 7/150\n",
            "30/30 [==============================] - 4s 138ms/step - loss: 1.2513 - accuracy: 0.4202 - val_loss: 1.2248 - val_accuracy: 0.5110\n",
            "Epoch 8/150\n",
            "30/30 [==============================] - 4s 138ms/step - loss: 1.2247 - accuracy: 0.4276 - val_loss: 1.1983 - val_accuracy: 0.5331\n",
            "Epoch 9/150\n",
            "30/30 [==============================] - 4s 139ms/step - loss: 1.1863 - accuracy: 0.4282 - val_loss: 1.1639 - val_accuracy: 0.5588\n",
            "Epoch 10/150\n",
            "30/30 [==============================] - 4s 137ms/step - loss: 1.1731 - accuracy: 0.4356 - val_loss: 1.1394 - val_accuracy: 0.5735\n",
            "Epoch 11/150\n",
            "30/30 [==============================] - 5s 155ms/step - loss: 1.1468 - accuracy: 0.4363 - val_loss: 1.1253 - val_accuracy: 0.5846\n",
            "Epoch 12/150\n",
            "30/30 [==============================] - 4s 138ms/step - loss: 1.1214 - accuracy: 0.4090 - val_loss: 1.0840 - val_accuracy: 0.5956\n",
            "Epoch 13/150\n",
            "30/30 [==============================] - 4s 141ms/step - loss: 1.1012 - accuracy: 0.4406 - val_loss: 1.0811 - val_accuracy: 0.5919\n",
            "Epoch 14/150\n",
            "30/30 [==============================] - 4s 139ms/step - loss: 1.0774 - accuracy: 0.4344 - val_loss: 1.0532 - val_accuracy: 0.5993\n",
            "Epoch 15/150\n",
            "30/30 [==============================] - 4s 139ms/step - loss: 1.0541 - accuracy: 0.4567 - val_loss: 1.0110 - val_accuracy: 0.5956\n",
            "Epoch 16/150\n",
            "30/30 [==============================] - 4s 141ms/step - loss: 1.0414 - accuracy: 0.4783 - val_loss: 1.0175 - val_accuracy: 0.5919\n",
            "Epoch 17/150\n",
            "30/30 [==============================] - 4s 139ms/step - loss: 1.0240 - accuracy: 0.4691 - val_loss: 1.0752 - val_accuracy: 0.5735\n",
            "Epoch 18/150\n",
            "30/30 [==============================] - 4s 139ms/step - loss: 1.0271 - accuracy: 0.4542 - val_loss: 0.9942 - val_accuracy: 0.6066\n",
            "Epoch 19/150\n",
            "30/30 [==============================] - 4s 139ms/step - loss: 1.0176 - accuracy: 0.4616 - val_loss: 0.9970 - val_accuracy: 0.6029\n",
            "Epoch 20/150\n",
            "30/30 [==============================] - 4s 138ms/step - loss: 0.9803 - accuracy: 0.4913 - val_loss: 0.9209 - val_accuracy: 0.5846\n",
            "Epoch 21/150\n",
            "30/30 [==============================] - 4s 140ms/step - loss: 0.9597 - accuracy: 0.5198 - val_loss: 0.9389 - val_accuracy: 0.6287\n",
            "Epoch 22/150\n",
            "30/30 [==============================] - 4s 136ms/step - loss: 0.9512 - accuracy: 0.5278 - val_loss: 0.8957 - val_accuracy: 0.6029\n",
            "Epoch 23/150\n",
            "30/30 [==============================] - 4s 136ms/step - loss: 0.9529 - accuracy: 0.5377 - val_loss: 0.9339 - val_accuracy: 0.6471\n",
            "Epoch 24/150\n",
            "30/30 [==============================] - 4s 138ms/step - loss: 0.9468 - accuracy: 0.5161 - val_loss: 0.9118 - val_accuracy: 0.6507\n",
            "Epoch 25/150\n",
            "30/30 [==============================] - 4s 136ms/step - loss: 0.9202 - accuracy: 0.5582 - val_loss: 0.9299 - val_accuracy: 0.6544\n",
            "Epoch 26/150\n",
            "30/30 [==============================] - 4s 136ms/step - loss: 0.9112 - accuracy: 0.5625 - val_loss: 0.9091 - val_accuracy: 0.6912\n",
            "Epoch 27/150\n",
            "30/30 [==============================] - 4s 136ms/step - loss: 0.8705 - accuracy: 0.5774 - val_loss: 0.7907 - val_accuracy: 0.7096\n",
            "Epoch 28/150\n",
            "30/30 [==============================] - 4s 136ms/step - loss: 0.8836 - accuracy: 0.5823 - val_loss: 0.7796 - val_accuracy: 0.6618\n",
            "Epoch 29/150\n",
            "30/30 [==============================] - 4s 135ms/step - loss: 0.8573 - accuracy: 0.6046 - val_loss: 0.8708 - val_accuracy: 0.7794\n",
            "Epoch 30/150\n",
            "30/30 [==============================] - 4s 134ms/step - loss: 0.8403 - accuracy: 0.6145 - val_loss: 0.7735 - val_accuracy: 0.7279\n",
            "Epoch 31/150\n",
            "30/30 [==============================] - 4s 135ms/step - loss: 0.8354 - accuracy: 0.6176 - val_loss: 0.7820 - val_accuracy: 0.7022\n",
            "Epoch 32/150\n",
            "30/30 [==============================] - 4s 133ms/step - loss: 0.8291 - accuracy: 0.6262 - val_loss: 0.8258 - val_accuracy: 0.7426\n",
            "Epoch 33/150\n",
            "30/30 [==============================] - 4s 135ms/step - loss: 0.8396 - accuracy: 0.6182 - val_loss: 0.7878 - val_accuracy: 0.7647\n",
            "Epoch 34/150\n",
            "30/30 [==============================] - 4s 134ms/step - loss: 0.8163 - accuracy: 0.6349 - val_loss: 0.7950 - val_accuracy: 0.7390\n",
            "Epoch 35/150\n",
            "30/30 [==============================] - 4s 135ms/step - loss: 0.8038 - accuracy: 0.6343 - val_loss: 0.7654 - val_accuracy: 0.7574\n",
            "Epoch 36/150\n",
            "30/30 [==============================] - 4s 137ms/step - loss: 0.7851 - accuracy: 0.6411 - val_loss: 0.7146 - val_accuracy: 0.7868\n",
            "Epoch 37/150\n",
            "30/30 [==============================] - 4s 136ms/step - loss: 0.8009 - accuracy: 0.6386 - val_loss: 0.7382 - val_accuracy: 0.7831\n",
            "Epoch 38/150\n",
            "30/30 [==============================] - 4s 135ms/step - loss: 0.7929 - accuracy: 0.6467 - val_loss: 0.7611 - val_accuracy: 0.7831\n",
            "Epoch 39/150\n",
            "30/30 [==============================] - 4s 137ms/step - loss: 0.7839 - accuracy: 0.6553 - val_loss: 0.7411 - val_accuracy: 0.7831\n",
            "Epoch 40/150\n",
            "30/30 [==============================] - 4s 138ms/step - loss: 0.8520 - accuracy: 0.6355 - val_loss: 0.8553 - val_accuracy: 0.7243\n",
            "Epoch 41/150\n",
            "30/30 [==============================] - 4s 135ms/step - loss: 0.7794 - accuracy: 0.6621 - val_loss: 0.6754 - val_accuracy: 0.8199\n",
            "Epoch 42/150\n",
            "30/30 [==============================] - 4s 136ms/step - loss: 0.7841 - accuracy: 0.6603 - val_loss: 0.7749 - val_accuracy: 0.7463\n",
            "Epoch 43/150\n",
            "30/30 [==============================] - 4s 138ms/step - loss: 0.7617 - accuracy: 0.6634 - val_loss: 0.7486 - val_accuracy: 0.7794\n",
            "Epoch 44/150\n",
            "30/30 [==============================] - 4s 137ms/step - loss: 0.7434 - accuracy: 0.6720 - val_loss: 0.7263 - val_accuracy: 0.7831\n",
            "Epoch 45/150\n",
            "30/30 [==============================] - 4s 137ms/step - loss: 0.7487 - accuracy: 0.6739 - val_loss: 0.6837 - val_accuracy: 0.8162\n",
            "Epoch 46/150\n",
            "30/30 [==============================] - 4s 137ms/step - loss: 0.7627 - accuracy: 0.6640 - val_loss: 0.7302 - val_accuracy: 0.7794\n",
            "Epoch 47/150\n",
            "30/30 [==============================] - 4s 136ms/step - loss: 0.7526 - accuracy: 0.6615 - val_loss: 0.7147 - val_accuracy: 0.7794\n",
            "Epoch 48/150\n",
            "30/30 [==============================] - 4s 137ms/step - loss: 0.7366 - accuracy: 0.6739 - val_loss: 0.6375 - val_accuracy: 0.8199\n",
            "Epoch 49/150\n",
            "30/30 [==============================] - 4s 136ms/step - loss: 0.7176 - accuracy: 0.6757 - val_loss: 0.6518 - val_accuracy: 0.8162\n",
            "Epoch 50/150\n",
            "30/30 [==============================] - 4s 135ms/step - loss: 0.7302 - accuracy: 0.6850 - val_loss: 0.6445 - val_accuracy: 0.8162\n",
            "Epoch 51/150\n",
            "30/30 [==============================] - 4s 138ms/step - loss: 0.7203 - accuracy: 0.6856 - val_loss: 0.6518 - val_accuracy: 0.8162\n",
            "Epoch 52/150\n",
            "30/30 [==============================] - 4s 137ms/step - loss: 0.7422 - accuracy: 0.6819 - val_loss: 0.6096 - val_accuracy: 0.8088\n",
            "Epoch 53/150\n",
            "30/30 [==============================] - 4s 137ms/step - loss: 0.7350 - accuracy: 0.6931 - val_loss: 0.6551 - val_accuracy: 0.8125\n",
            "Epoch 54/150\n",
            "30/30 [==============================] - 4s 138ms/step - loss: 0.7213 - accuracy: 0.6968 - val_loss: 0.6493 - val_accuracy: 0.7978\n",
            "Epoch 55/150\n",
            "30/30 [==============================] - 4s 137ms/step - loss: 0.7231 - accuracy: 0.6863 - val_loss: 0.8691 - val_accuracy: 0.6801\n",
            "Epoch 56/150\n",
            "30/30 [==============================] - 4s 139ms/step - loss: 0.7513 - accuracy: 0.6788 - val_loss: 0.6040 - val_accuracy: 0.8199\n",
            "Epoch 57/150\n",
            "30/30 [==============================] - 4s 137ms/step - loss: 0.6994 - accuracy: 0.7017 - val_loss: 0.6482 - val_accuracy: 0.7831\n",
            "Epoch 58/150\n",
            "30/30 [==============================] - 4s 136ms/step - loss: 0.6964 - accuracy: 0.6962 - val_loss: 0.6294 - val_accuracy: 0.7868\n",
            "Epoch 59/150\n",
            "30/30 [==============================] - 4s 140ms/step - loss: 0.6802 - accuracy: 0.7011 - val_loss: 0.5901 - val_accuracy: 0.8199\n",
            "Epoch 60/150\n",
            "30/30 [==============================] - 4s 136ms/step - loss: 0.6951 - accuracy: 0.6887 - val_loss: 0.6397 - val_accuracy: 0.7831\n",
            "Epoch 61/150\n",
            "30/30 [==============================] - 4s 137ms/step - loss: 0.6859 - accuracy: 0.7036 - val_loss: 0.5850 - val_accuracy: 0.8199\n",
            "Epoch 62/150\n",
            "30/30 [==============================] - 4s 136ms/step - loss: 0.6837 - accuracy: 0.6955 - val_loss: 0.6104 - val_accuracy: 0.7868\n",
            "Epoch 63/150\n",
            "30/30 [==============================] - 4s 135ms/step - loss: 0.7404 - accuracy: 0.6764 - val_loss: 0.6359 - val_accuracy: 0.7831\n",
            "Epoch 64/150\n",
            "30/30 [==============================] - 4s 137ms/step - loss: 0.6792 - accuracy: 0.7098 - val_loss: 0.5762 - val_accuracy: 0.8162\n",
            "Epoch 65/150\n",
            "30/30 [==============================] - 4s 135ms/step - loss: 0.6858 - accuracy: 0.6974 - val_loss: 0.5624 - val_accuracy: 0.8235\n",
            "Epoch 66/150\n",
            "30/30 [==============================] - 4s 136ms/step - loss: 0.6646 - accuracy: 0.7048 - val_loss: 0.5623 - val_accuracy: 0.8199\n",
            "Epoch 67/150\n",
            "30/30 [==============================] - 4s 138ms/step - loss: 0.6577 - accuracy: 0.7024 - val_loss: 0.5491 - val_accuracy: 0.8051\n",
            "Epoch 68/150\n",
            "30/30 [==============================] - 4s 136ms/step - loss: 0.6932 - accuracy: 0.7005 - val_loss: 0.5720 - val_accuracy: 0.8162\n",
            "Epoch 69/150\n",
            "30/30 [==============================] - 4s 135ms/step - loss: 0.6803 - accuracy: 0.7011 - val_loss: 0.5492 - val_accuracy: 0.8199\n",
            "Epoch 70/150\n",
            "30/30 [==============================] - 4s 137ms/step - loss: 0.7070 - accuracy: 0.6813 - val_loss: 0.7448 - val_accuracy: 0.6949\n",
            "Epoch 71/150\n",
            "30/30 [==============================] - 4s 138ms/step - loss: 0.6556 - accuracy: 0.7116 - val_loss: 0.5621 - val_accuracy: 0.8199\n",
            "Epoch 72/150\n",
            "30/30 [==============================] - 4s 139ms/step - loss: 0.6725 - accuracy: 0.6986 - val_loss: 0.6312 - val_accuracy: 0.7757\n",
            "Epoch 73/150\n",
            "30/30 [==============================] - 4s 137ms/step - loss: 0.6582 - accuracy: 0.7005 - val_loss: 0.6559 - val_accuracy: 0.7353\n",
            "Epoch 74/150\n",
            "30/30 [==============================] - 4s 136ms/step - loss: 0.7293 - accuracy: 0.6559 - val_loss: 0.6096 - val_accuracy: 0.7868\n",
            "Epoch 75/150\n",
            "30/30 [==============================] - 4s 136ms/step - loss: 0.6695 - accuracy: 0.7092 - val_loss: 0.5443 - val_accuracy: 0.8162\n",
            "Epoch 76/150\n",
            "30/30 [==============================] - 4s 138ms/step - loss: 0.6597 - accuracy: 0.7048 - val_loss: 0.6110 - val_accuracy: 0.7684\n",
            "Epoch 77/150\n",
            "30/30 [==============================] - 4s 138ms/step - loss: 0.6861 - accuracy: 0.7011 - val_loss: 0.5567 - val_accuracy: 0.8088\n",
            "Epoch 78/150\n",
            "30/30 [==============================] - 4s 136ms/step - loss: 0.6387 - accuracy: 0.7197 - val_loss: 0.5387 - val_accuracy: 0.8235\n",
            "Epoch 79/150\n",
            "30/30 [==============================] - 4s 137ms/step - loss: 0.6562 - accuracy: 0.6968 - val_loss: 0.5371 - val_accuracy: 0.8199\n",
            "Epoch 80/150\n",
            "30/30 [==============================] - 4s 138ms/step - loss: 0.6194 - accuracy: 0.7222 - val_loss: 0.5283 - val_accuracy: 0.8235\n",
            "Epoch 81/150\n",
            "30/30 [==============================] - 4s 137ms/step - loss: 0.6366 - accuracy: 0.7079 - val_loss: 0.5419 - val_accuracy: 0.8088\n",
            "Epoch 82/150\n",
            "30/30 [==============================] - 4s 138ms/step - loss: 0.6750 - accuracy: 0.6844 - val_loss: 0.9914 - val_accuracy: 0.4816\n",
            "Epoch 83/150\n",
            "30/30 [==============================] - 4s 136ms/step - loss: 0.7168 - accuracy: 0.6696 - val_loss: 0.5360 - val_accuracy: 0.7941\n",
            "Epoch 84/150\n",
            "30/30 [==============================] - 4s 137ms/step - loss: 0.6986 - accuracy: 0.6788 - val_loss: 0.5806 - val_accuracy: 0.7721\n",
            "Epoch 85/150\n",
            "30/30 [==============================] - 4s 135ms/step - loss: 0.6534 - accuracy: 0.7042 - val_loss: 0.5220 - val_accuracy: 0.7904\n",
            "Epoch 86/150\n",
            "30/30 [==============================] - 4s 135ms/step - loss: 0.6629 - accuracy: 0.7048 - val_loss: 0.5259 - val_accuracy: 0.8199\n",
            "Epoch 87/150\n",
            "30/30 [==============================] - 4s 140ms/step - loss: 0.6264 - accuracy: 0.7209 - val_loss: 0.5226 - val_accuracy: 0.7941\n",
            "Epoch 88/150\n",
            "30/30 [==============================] - 4s 136ms/step - loss: 0.6340 - accuracy: 0.7061 - val_loss: 0.5204 - val_accuracy: 0.7941\n",
            "Epoch 89/150\n",
            "30/30 [==============================] - 4s 136ms/step - loss: 0.6161 - accuracy: 0.7178 - val_loss: 0.5143 - val_accuracy: 0.7904\n",
            "Epoch 90/150\n",
            "30/30 [==============================] - 4s 137ms/step - loss: 0.6144 - accuracy: 0.7191 - val_loss: 0.5085 - val_accuracy: 0.8199\n",
            "Epoch 91/150\n",
            "30/30 [==============================] - 4s 136ms/step - loss: 0.6156 - accuracy: 0.7184 - val_loss: 0.5160 - val_accuracy: 0.8051\n",
            "Epoch 92/150\n",
            "30/30 [==============================] - 4s 138ms/step - loss: 0.6281 - accuracy: 0.7129 - val_loss: 0.5482 - val_accuracy: 0.8051\n",
            "Epoch 93/150\n",
            "30/30 [==============================] - 4s 136ms/step - loss: 0.6019 - accuracy: 0.7147 - val_loss: 0.5827 - val_accuracy: 0.7574\n",
            "Epoch 94/150\n",
            "30/30 [==============================] - 4s 138ms/step - loss: 0.6135 - accuracy: 0.7197 - val_loss: 0.5258 - val_accuracy: 0.8088\n",
            "Epoch 95/150\n",
            "30/30 [==============================] - 4s 137ms/step - loss: 0.5998 - accuracy: 0.7308 - val_loss: 0.5079 - val_accuracy: 0.8125\n",
            "Epoch 96/150\n",
            "30/30 [==============================] - 4s 136ms/step - loss: 0.5991 - accuracy: 0.7314 - val_loss: 0.4971 - val_accuracy: 0.7941\n",
            "Epoch 97/150\n",
            "30/30 [==============================] - 4s 137ms/step - loss: 0.6027 - accuracy: 0.7166 - val_loss: 0.4924 - val_accuracy: 0.8015\n",
            "Epoch 98/150\n",
            "30/30 [==============================] - 4s 136ms/step - loss: 0.6106 - accuracy: 0.7296 - val_loss: 0.4908 - val_accuracy: 0.8162\n",
            "Epoch 99/150\n",
            "30/30 [==============================] - 4s 137ms/step - loss: 0.5932 - accuracy: 0.7191 - val_loss: 0.4905 - val_accuracy: 0.8199\n",
            "Epoch 100/150\n",
            "30/30 [==============================] - 4s 136ms/step - loss: 0.5989 - accuracy: 0.7209 - val_loss: 0.4912 - val_accuracy: 0.7941\n",
            "Epoch 101/150\n",
            "30/30 [==============================] - 4s 136ms/step - loss: 0.7592 - accuracy: 0.6231 - val_loss: 0.9577 - val_accuracy: 0.4816\n",
            "Epoch 102/150\n",
            "30/30 [==============================] - 4s 137ms/step - loss: 0.7565 - accuracy: 0.6330 - val_loss: 0.5726 - val_accuracy: 0.7794\n",
            "Epoch 103/150\n",
            "30/30 [==============================] - 4s 138ms/step - loss: 0.6511 - accuracy: 0.6999 - val_loss: 0.5390 - val_accuracy: 0.8051\n",
            "Epoch 104/150\n",
            "30/30 [==============================] - 4s 135ms/step - loss: 0.6536 - accuracy: 0.6949 - val_loss: 0.5637 - val_accuracy: 0.7941\n",
            "Epoch 105/150\n",
            "30/30 [==============================] - 4s 137ms/step - loss: 0.6365 - accuracy: 0.6962 - val_loss: 0.5658 - val_accuracy: 0.7941\n",
            "Epoch 106/150\n",
            "30/30 [==============================] - 4s 137ms/step - loss: 0.6186 - accuracy: 0.7104 - val_loss: 0.5190 - val_accuracy: 0.8051\n",
            "Epoch 107/150\n",
            "30/30 [==============================] - 4s 137ms/step - loss: 0.6051 - accuracy: 0.7172 - val_loss: 0.5353 - val_accuracy: 0.7978\n",
            "Epoch 108/150\n",
            "30/30 [==============================] - 4s 135ms/step - loss: 0.6180 - accuracy: 0.7135 - val_loss: 0.5024 - val_accuracy: 0.8125\n",
            "Epoch 109/150\n",
            "30/30 [==============================] - 4s 137ms/step - loss: 0.5993 - accuracy: 0.7092 - val_loss: 0.4994 - val_accuracy: 0.8125\n",
            "Epoch 110/150\n",
            "30/30 [==============================] - 4s 137ms/step - loss: 0.6025 - accuracy: 0.7209 - val_loss: 0.5055 - val_accuracy: 0.8125\n",
            "Epoch 111/150\n",
            "30/30 [==============================] - 4s 136ms/step - loss: 0.6003 - accuracy: 0.7166 - val_loss: 0.5225 - val_accuracy: 0.8051\n",
            "Epoch 112/150\n",
            "30/30 [==============================] - 4s 140ms/step - loss: 0.5916 - accuracy: 0.7259 - val_loss: 0.4937 - val_accuracy: 0.8125\n",
            "Epoch 113/150\n",
            "30/30 [==============================] - 4s 138ms/step - loss: 0.5771 - accuracy: 0.7321 - val_loss: 0.4912 - val_accuracy: 0.8125\n",
            "Epoch 114/150\n",
            "30/30 [==============================] - 4s 135ms/step - loss: 0.5834 - accuracy: 0.7327 - val_loss: 0.4862 - val_accuracy: 0.8125\n",
            "Epoch 115/150\n",
            "30/30 [==============================] - 4s 139ms/step - loss: 0.5664 - accuracy: 0.7407 - val_loss: 0.4867 - val_accuracy: 0.8125\n",
            "Epoch 116/150\n",
            "30/30 [==============================] - 4s 138ms/step - loss: 0.5742 - accuracy: 0.7321 - val_loss: 0.5502 - val_accuracy: 0.7831\n",
            "Epoch 117/150\n",
            "30/30 [==============================] - 4s 135ms/step - loss: 0.5698 - accuracy: 0.7345 - val_loss: 0.5359 - val_accuracy: 0.8015\n",
            "Epoch 118/150\n",
            "30/30 [==============================] - 4s 137ms/step - loss: 0.6026 - accuracy: 0.7246 - val_loss: 0.5985 - val_accuracy: 0.7463\n",
            "Epoch 119/150\n",
            "30/30 [==============================] - 4s 137ms/step - loss: 0.6001 - accuracy: 0.7166 - val_loss: 0.4838 - val_accuracy: 0.8088\n",
            "Epoch 120/150\n",
            "30/30 [==============================] - 4s 137ms/step - loss: 0.5775 - accuracy: 0.7296 - val_loss: 0.4714 - val_accuracy: 0.8199\n",
            "Epoch 121/150\n",
            "30/30 [==============================] - 4s 140ms/step - loss: 0.5769 - accuracy: 0.7407 - val_loss: 0.4774 - val_accuracy: 0.8125\n",
            "Epoch 122/150\n",
            "30/30 [==============================] - 4s 138ms/step - loss: 0.5579 - accuracy: 0.7438 - val_loss: 0.4755 - val_accuracy: 0.7647\n",
            "Epoch 123/150\n",
            "30/30 [==============================] - 4s 139ms/step - loss: 0.5465 - accuracy: 0.7550 - val_loss: 0.4722 - val_accuracy: 0.7757\n",
            "Epoch 124/150\n",
            "30/30 [==============================] - 4s 138ms/step - loss: 0.5598 - accuracy: 0.7488 - val_loss: 0.4716 - val_accuracy: 0.8162\n",
            "Epoch 125/150\n",
            "30/30 [==============================] - 4s 136ms/step - loss: 0.5542 - accuracy: 0.7481 - val_loss: 0.4877 - val_accuracy: 0.7831\n",
            "Epoch 126/150\n",
            "30/30 [==============================] - 4s 136ms/step - loss: 0.5558 - accuracy: 0.7605 - val_loss: 0.4962 - val_accuracy: 0.7868\n",
            "Epoch 127/150\n",
            "30/30 [==============================] - 4s 135ms/step - loss: 0.5422 - accuracy: 0.7568 - val_loss: 0.4790 - val_accuracy: 0.7721\n",
            "Epoch 128/150\n",
            "30/30 [==============================] - 4s 134ms/step - loss: 0.5568 - accuracy: 0.7481 - val_loss: 0.4658 - val_accuracy: 0.7721\n",
            "Epoch 129/150\n",
            "30/30 [==============================] - 4s 140ms/step - loss: 0.5664 - accuracy: 0.7488 - val_loss: 0.6129 - val_accuracy: 0.6875\n",
            "Epoch 130/150\n",
            "30/30 [==============================] - 4s 134ms/step - loss: 0.6110 - accuracy: 0.7184 - val_loss: 0.4777 - val_accuracy: 0.7684\n",
            "Epoch 131/150\n",
            "30/30 [==============================] - 4s 138ms/step - loss: 0.5284 - accuracy: 0.7636 - val_loss: 0.5353 - val_accuracy: 0.7610\n",
            "Epoch 132/150\n",
            "30/30 [==============================] - 4s 136ms/step - loss: 0.5558 - accuracy: 0.7457 - val_loss: 0.5157 - val_accuracy: 0.7757\n",
            "Epoch 133/150\n",
            "30/30 [==============================] - 4s 137ms/step - loss: 0.5625 - accuracy: 0.7494 - val_loss: 0.4672 - val_accuracy: 0.7684\n",
            "Epoch 134/150\n",
            "30/30 [==============================] - 4s 136ms/step - loss: 0.5574 - accuracy: 0.7618 - val_loss: 0.5292 - val_accuracy: 0.7647\n",
            "Epoch 135/150\n",
            "30/30 [==============================] - 4s 136ms/step - loss: 0.5550 - accuracy: 0.7444 - val_loss: 0.5000 - val_accuracy: 0.7574\n",
            "Epoch 136/150\n",
            "30/30 [==============================] - 4s 136ms/step - loss: 0.5511 - accuracy: 0.7506 - val_loss: 0.4482 - val_accuracy: 0.7757\n",
            "Epoch 137/150\n",
            "30/30 [==============================] - 4s 138ms/step - loss: 0.5249 - accuracy: 0.7642 - val_loss: 0.5421 - val_accuracy: 0.7684\n",
            "Epoch 138/150\n",
            "30/30 [==============================] - 4s 135ms/step - loss: 0.5438 - accuracy: 0.7661 - val_loss: 0.4700 - val_accuracy: 0.7500\n",
            "Epoch 139/150\n",
            "30/30 [==============================] - 4s 136ms/step - loss: 0.5403 - accuracy: 0.7611 - val_loss: 0.5096 - val_accuracy: 0.7868\n",
            "Epoch 140/150\n",
            "30/30 [==============================] - 4s 138ms/step - loss: 0.5348 - accuracy: 0.7655 - val_loss: 0.4423 - val_accuracy: 0.7757\n",
            "Epoch 141/150\n",
            "30/30 [==============================] - 4s 137ms/step - loss: 0.5401 - accuracy: 0.7605 - val_loss: 0.4657 - val_accuracy: 0.7904\n",
            "Epoch 142/150\n",
            "30/30 [==============================] - 4s 135ms/step - loss: 0.5549 - accuracy: 0.7587 - val_loss: 0.4796 - val_accuracy: 0.7390\n",
            "Epoch 143/150\n",
            "30/30 [==============================] - 4s 137ms/step - loss: 0.5156 - accuracy: 0.7717 - val_loss: 0.5559 - val_accuracy: 0.7904\n",
            "Epoch 144/150\n",
            "30/30 [==============================] - 4s 136ms/step - loss: 0.5400 - accuracy: 0.7717 - val_loss: 0.4499 - val_accuracy: 0.7904\n",
            "Epoch 145/150\n",
            "30/30 [==============================] - 4s 138ms/step - loss: 0.5317 - accuracy: 0.7723 - val_loss: 0.4602 - val_accuracy: 0.7647\n",
            "Epoch 146/150\n",
            "30/30 [==============================] - 4s 137ms/step - loss: 0.5715 - accuracy: 0.7506 - val_loss: 0.4625 - val_accuracy: 0.7647\n",
            "Epoch 147/150\n",
            "30/30 [==============================] - 4s 136ms/step - loss: 0.5316 - accuracy: 0.7624 - val_loss: 0.4652 - val_accuracy: 0.7757\n",
            "Epoch 148/150\n",
            "30/30 [==============================] - 4s 137ms/step - loss: 0.5239 - accuracy: 0.7587 - val_loss: 0.4461 - val_accuracy: 0.7941\n",
            "Epoch 149/150\n",
            "30/30 [==============================] - 4s 134ms/step - loss: 0.5210 - accuracy: 0.7710 - val_loss: 0.4548 - val_accuracy: 0.7868\n",
            "Epoch 150/150\n",
            "30/30 [==============================] - 4s 135ms/step - loss: 0.5013 - accuracy: 0.7847 - val_loss: 0.5197 - val_accuracy: 0.7610\n"
          ]
        }
      ],
      "source": [
        "# Create an Instance of Early Stopping Callback\n",
        "\n",
        "# https://stackoverflow.com/questions/53479007/how-to-setup-adaptive-learning-rate-in-keras\n",
        "# def adapt_learning_rate(epoch):\n",
        "#     print(0.0001 * epoch)\n",
        "#     return 0.0001 * epoch\n",
        "# my_lr_scheduler = keras.callbacks.LearningRateScheduler(adapt_learning_rate)\n",
        "\n",
        "early_stopping_callback = keras.callbacks.EarlyStopping(monitor = 'val_loss',\n",
        "                                                        patience = 10,\n",
        "                                                        mode = 'min',\n",
        "                                                        restore_best_weights = True)\n",
        "# Compile the model and specify loss function, optimizer and metrics values to the model\n",
        "convlstm_model.compile(loss = 'categorical_crossentropy',\n",
        "                       optimizer= keras.optimizers.Adam(0.0005, decay=1e-4),\n",
        "                       metrics = [\"accuracy\"])\n",
        "# Start training the model.\n",
        "convlstm_model_training_history = convlstm_model.fit(x = features_train,\n",
        "                                                     y = labels_train,\n",
        "                                                     epochs = 150,\n",
        "                                                     batch_size = 54,\n",
        "                                                     shuffle = True,\n",
        "                                                     validation_data = (features_valid, labels_valid)),\n",
        "                                                    #  callbacks = [early_stopping_callback])\n"
      ]
    },
    {
      "cell_type": "code",
      "execution_count": 15,
      "metadata": {
        "colab": {
          "base_uri": "https://localhost:8080/"
        },
        "id": "LcpKhGqvIenv",
        "outputId": "77742aa8-9e9d-4585-a96d-6e2cbf39da02"
      },
      "outputs": [
        {
          "output_type": "stream",
          "name": "stdout",
          "text": [
            "9/9 [==============================] - 1s 41ms/step - loss: 0.6800 - accuracy: 0.7601\n",
            "\n",
            "\n",
            "Train accuracy: 81.250 % || Test accuracy: 76.015 % || Val accuracy: 76.103 %\n",
            "\n",
            "\n",
            "Train loss: 0.476 || Test loss: 0.680 || Val loss: 0.520\n"
          ]
        }
      ],
      "source": [
        "model_evaluation_history = convlstm_model.evaluate(features_test, labels_test)\n",
        "print('\\n')\n",
        "train_loss, train_acc = convlstm_model.evaluate(features_train, labels_train, verbose=0)\n",
        "test_loss, test_acc = convlstm_model.evaluate(features_test, labels_test, verbose=0)\n",
        "val_loss, val_acc = convlstm_model.evaluate(features_valid, labels_valid, verbose=0)\n",
        "\n",
        "print(f'Train accuracy: {train_acc*100:.3f} % || Test accuracy: {test_acc*100:.3f} % || Val accuracy: {val_acc*100:.3f} %')\n",
        "print('\\n')\n",
        "print(f'Train loss: {train_loss:.3f} || Test loss: {test_loss:.3f} || Val loss: {val_loss:.3f}')"
      ]
    },
    {
      "cell_type": "code",
      "execution_count": 16,
      "metadata": {
        "id": "qsFw5KIzIum9"
      },
      "outputs": [],
      "source": [
        "# Get the loss and accuracy from model_evaluation_history.\n",
        "model_evaluation_loss, model_evaluation_accuracy = model_evaluation_history\n",
        " \n",
        "# Define the string date format.\n",
        "# Get the current Date and Time in a DateTime Object.\n",
        "# Convert the DateTime object to string according to the style mentioned in date_time_format string.\n",
        "date_time_format = '%Y_%m_%d__%H_%M_%S'\n",
        "current_date_time_dt = dt.datetime.now()\n",
        "current_date_time_string = dt.datetime.strftime(current_date_time_dt, date_time_format)\n",
        " \n",
        "# Define a useful name for our model to make it easy for us while navigating through multiple saved models.\n",
        "model_file_name = f'convlstm_model___Date_Time_{current_date_time_string}___Loss_{model_evaluation_loss}___Accuracy_{model_evaluation_accuracy}.h5'\n",
        " \n",
        "# Change dir\n",
        "gdrive_path = '/content/gdrive' + '/My Drive/247/Saved_models/'\n",
        "os.chdir(gdrive_path)\n",
        "# Create a floder for the model files\n",
        "!mkdir -p convlstm_{current_date_time_string}\n",
        "# Save your Model.\n",
        "convlstm_model.save('convlstm_' + str(current_date_time_string) + '/' + model_file_name)\n",
        "# Save model weights\n",
        "convlstm_model.save_weights('convlstm_' + str(current_date_time_string) + '/' + 'weights')"
      ]
    },
    {
      "cell_type": "code",
      "execution_count": 17,
      "metadata": {
        "id": "Z0eAobhSIz_P"
      },
      "outputs": [],
      "source": [
        "def plot_metric(model_training_history, metric_name_1, metric_name_2, plot_name):\n",
        "    '''\n",
        "    This function will plot the metrics passed to it in a graph.\n",
        "    Args:\n",
        "        model_training_history: A history object containing a record of training and validation \n",
        "                                loss values and metrics values at successive epochs\n",
        "        metric_name_1:          The name of the first metric that needs to be plotted in the graph.\n",
        "        metric_name_2:          The name of the second metric that needs to be plotted in the graph.\n",
        "        plot_name:              The title of the graph.\n",
        "    '''\n",
        "    \n",
        "    # Get metric values using metric names as identifiers.\n",
        "    metric_value_1 = model_training_history[0].history[metric_name_1]\n",
        "    metric_value_2 = model_training_history[0].history[metric_name_2]\n",
        "    \n",
        "    # Construct a range object which will be used as x-axis (horizontal plane) of the graph.\n",
        "    epochs = range(len(metric_value_1))\n",
        "\n",
        "    # Plot the Graph.\n",
        "    plt.plot(epochs, metric_value_1, 'blue', label = metric_name_1)\n",
        "    plt.plot(epochs, metric_value_2, 'red', label = metric_name_2)\n",
        "\n",
        "    # Add title to the plot.\n",
        "    plt.title(str(plot_name))\n",
        "\n",
        "    # Add legend to the plot.\n",
        "    plt.legend()"
      ]
    },
    {
      "cell_type": "code",
      "execution_count": 18,
      "metadata": {
        "colab": {
          "base_uri": "https://localhost:8080/",
          "height": 281
        },
        "id": "18RtBjI9I5lE",
        "outputId": "f6c58bc4-1035-4131-ca55-b99d2bcf33ad"
      },
      "outputs": [
        {
          "output_type": "display_data",
          "data": {
            "text/plain": [
              "<Figure size 432x288 with 1 Axes>"
            ],
            "image/png": "[encoded data removed]"
          },
          "metadata": {
            "needs_background": "light"
          }
        }
      ],
      "source": [
        "plot_metric(convlstm_model_training_history, 'loss', 'val_loss', 'Total Loss vs Total Validation Loss')"
      ]
    },
    {
      "cell_type": "code",
      "execution_count": 19,
      "metadata": {
        "colab": {
          "base_uri": "https://localhost:8080/",
          "height": 281
        },
        "id": "02amk7TXI_OS",
        "outputId": "35e5840f-9434-4b3d-9fa9-f7a159335ed3"
      },
      "outputs": [
        {
          "output_type": "display_data",
          "data": {
            "text/plain": [
              "<Figure size 432x288 with 1 Axes>"
            ],
            "image/png": "[encoded data removed]"
          },
          "metadata": {
            "needs_background": "light"
          }
        }
      ],
      "source": [
        "plot_metric(convlstm_model_training_history, 'accuracy', 'val_accuracy', 'Total Accuracy vs Total Validation Accuracy') "
      ]
    }
  ],
  "metadata": {
    "accelerator": "GPU",
    "colab": {
      "collapsed_sections": [],
      "machine_shape": "hm",
      "name": "2D_CNN+LSTM.ipynb",
      "provenance": [],
      "authorship_tag": "ABX9TyMw+YuMDUr3bqOmYzvy8C6s",
      "include_colab_link": true
    },
    "kernelspec": {
      "display_name": "Python 3",
      "name": "python3"
    },
    "language_info": {
      "name": "python"
    }
  },
  "nbformat": 4,
  "nbformat_minor": 0
}