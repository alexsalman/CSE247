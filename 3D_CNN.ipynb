{
  "cells": [
    {
      "cell_type": "markdown",
      "metadata": {
        "id": "view-in-github",
        "colab_type": "text"
      },
      "source": [
        "<a href=\"https://colab.research.google.com/github/alexsalman/CSE247/blob/main/3D_CNN.ipynb\" target=\"_parent\"><img src=\"https://colab.research.google.com/assets/colab-badge.svg\" alt=\"Open In Colab\"/></a>"
      ]
    },
    {
      "cell_type": "markdown",
      "metadata": {
        "id": "Kk7I8NauauE3"
      },
      "source": [
        "####**3D Convolutional Neural Network**\n",
        "######*I am using 3D Convolutional Neural Network to extract the temporal and spatial information which are merged slowly throughout the whole network.*"
      ]
    },
    {
      "cell_type": "code",
      "execution_count": 1,
      "metadata": {
        "colab": {
          "base_uri": "https://localhost:8080/"
        },
        "id": "M8ibtd5HKtZk",
        "outputId": "be02ca89-9c69-4328-9463-2c425024b139"
      },
      "outputs": [
        {
          "output_type": "stream",
          "name": "stdout",
          "text": [
            "2.8.0\n"
          ]
        }
      ],
      "source": [
        "# required libraries\n",
        "import os\n",
        "import cv2\n",
        "import math\n",
        "import random\n",
        "import numpy as np\n",
        "import datetime as dt\n",
        "from collections import deque\n",
        "import matplotlib.pyplot as plt\n",
        "from google.colab import drive\n",
        "from sklearn.model_selection import train_test_split\n",
        "import tensorflow as tf\n",
        "from tensorflow import keras\n",
        "from keras.models import Sequential\n",
        "from keras.layers import Dense, Flatten, Conv3D, MaxPooling3D, Dropout, BatchNormalization, GlobalAveragePooling3D\n",
        "from keras import regularizers\n",
        "from PIL import Image\n",
        "%matplotlib inline\n",
        "print(tf.version.VERSION)\n",
        "# https://bleedai.com/human-activity-recognition-using-tensorflow-cnn-lstm/"
      ]
    },
    {
      "cell_type": "code",
      "execution_count": 2,
      "metadata": {
        "id": "iffdFOf1CEAN"
      },
      "outputs": [],
      "source": [
        "# set Numpy, Python, and Tensorflow seeds to get consistent results on every execution\n",
        "seed_constant = 27\n",
        "np.random.seed(seed_constant)\n",
        "random.seed(seed_constant)\n",
        "tf.random.set_seed(seed_constant)"
      ]
    },
    {
      "cell_type": "code",
      "execution_count": 3,
      "metadata": {
        "colab": {
          "base_uri": "https://localhost:8080/",
          "height": 53
        },
        "id": "mcLh22LiOHyn",
        "outputId": "77959c2e-b5b1-4792-8ea5-13ea715af3c6"
      },
      "outputs": [
        {
          "output_type": "stream",
          "name": "stdout",
          "text": [
            "Mounted at /content/gdrive/\n"
          ]
        },
        {
          "output_type": "execute_result",
          "data": {
            "text/plain": [
              "'/content/gdrive/My Drive/247'"
            ],
            "application/vnd.google.colaboratory.intrinsic+json": {
              "type": "string"
            }
          },
          "metadata": {},
          "execution_count": 3
        }
      ],
      "source": [
        "# mount dataset from google drive\n",
        "drive.mount('/content/gdrive/', force_remount=True)\n",
        "gdrive_path = '/content/gdrive' + '/My Drive/247/'\n",
        "os.chdir(gdrive_path)\n",
        "os.getcwd()"
      ]
    },
    {
      "cell_type": "code",
      "execution_count": 4,
      "metadata": {
        "id": "oeDK8SzumZ1Q"
      },
      "outputs": [],
      "source": [
        "# frame dimention\n",
        "IMAGE_HEIGHT, IMAGE_WIDTH = 128, 128\n",
        "# frame number for each video (depth)\n",
        "SEQUENCE_LENGTH = 16\n",
        "# video dir path\n",
        "DATASET_DIR = gdrive_path + 'Cropped_videos'\n",
        "# labels of classes\n",
        "CLASSES_LIST = ['hemostasis', 'inflammatory', 'proliferative', 'maturation']"
      ]
    },
    {
      "cell_type": "code",
      "execution_count": 5,
      "metadata": {
        "id": "HUTeIqzpZc9J"
      },
      "outputs": [],
      "source": [
        "# image cropping\n",
        "def crop_center_square(frame):\n",
        "    y, x = frame.shape[0:2]\n",
        "    min_dim = min(y, x)\n",
        "    start_x = (x // 2) - (min_dim // 2)\n",
        "    start_y = (y // 2) - (min_dim // 2)\n",
        "    return frame[start_y:start_y+min_dim,start_x:start_x+min_dim]"
      ]
    },
    {
      "cell_type": "code",
      "execution_count": 6,
      "metadata": {
        "id": "QRDbHG0TZkYJ"
      },
      "outputs": [],
      "source": [
        "# https://medium.com/analytics-vidhya/video-preprocessor-and-augmentation-for-deep-learning-tasks-12dd3fcce868\n",
        "def load_video(path, resize=(128, 128)):\n",
        "    video_reader = cv2.VideoCapture(path)\n",
        "    frames = []\n",
        "    try:\n",
        "        while True:\n",
        "            ret, frame = video_reader.read()\n",
        "            if not ret:\n",
        "                  break\n",
        "            # frame = crop_center_square(frame)\n",
        "            frame = cv2.resize(frame, resize)\n",
        "            frame = frame[:, :, [2, 1, 0]]\n",
        "            black_frame = frame\n",
        "            frames.append(frame)\n",
        "    finally:\n",
        "        video_reader.release()\n",
        "    return np.array(frames) / 255.0"
      ]
    },
    {
      "cell_type": "code",
      "execution_count": 7,
      "metadata": {
        "id": "ljUWHW6Jqzu-"
      },
      "outputs": [],
      "source": [
        "def create_dataset(state):\n",
        "    # Declared Empty Lists to store the features, labels and video file path values.\n",
        "    features = []\n",
        "    labels = []\n",
        "    video_files_paths = []\n",
        "    # Iterating through all the classes mentioned in the classes list\n",
        "    for class_index, class_name in enumerate(CLASSES_LIST):\n",
        "        # Display the name of the class whose data is being extracted.\n",
        "        print(f'Extracting Data of Class: {class_name} {state}')\n",
        "        # Get the list of video files present in the specific class name directory.\n",
        "        files_list = os.listdir(os.path.join(DATASET_DIR, class_name))\n",
        "        # Iterate through all the files present in the files list.\n",
        "        for file_name in files_list:\n",
        "            # Get the complete video path.\n",
        "            video_file_path = os.path.join(DATASET_DIR, class_name, file_name)\n",
        "            # create testing data\n",
        "            if state == 'test':\n",
        "                # get the mouse number\n",
        "                mouse_number = int(video_file_path.split(' ')[2].split('_')[1].split('-')[1])\n",
        "                # get the mouse side (L or R)\n",
        "                mouse_side = video_file_path.split(' ')[2].split('_')[1].split('-')[2]\n",
        "                if mouse_number == 4 and mouse_side == 'L':\n",
        "                    frames = load_video(video_file_path)\n",
        "                    features.append(frames)\n",
        "                    labels.append(class_index)\n",
        "                    video_files_paths.append(video_file_path)\n",
        "            # create validation data\n",
        "            elif state == 'valid':\n",
        "                # get the mouse number\n",
        "                mouse_number = int(video_file_path.split(' ')[2].split('_')[1].split('-')[1])\n",
        "                # get the mouse side (L or R)\n",
        "                mouse_side = video_file_path.split(' ')[2].split('_')[1].split('-')[2]\n",
        "                if mouse_number == 4 and mouse_side == 'R':\n",
        "                    frames = load_video(video_file_path)\n",
        "                    features.append(frames)\n",
        "                    labels.append(class_index)\n",
        "                    video_files_paths.append(video_file_path)\n",
        "            # create training data\n",
        "            else:\n",
        "                # get the mouse number\n",
        "                mouse_number = int(video_file_path.split(' ')[2].split('_')[1].split('-')[1])\n",
        "                if mouse_number != 4:\n",
        "                    frames = load_video(video_file_path)\n",
        "                    features.append(frames)\n",
        "                    labels.append(class_index)\n",
        "                    video_files_paths.append(video_file_path)\n",
        "    # Converting the list to numpy arrays\n",
        "    features = np.asarray(features)\n",
        "    # print(features)\n",
        "    labels = np.array(labels)\n",
        "    # Return the frames, class index, and video file path.\n",
        "    return features, labels, video_files_paths"
      ]
    },
    {
      "cell_type": "code",
      "execution_count": 8,
      "metadata": {
        "colab": {
          "base_uri": "https://localhost:8080/"
        },
        "id": "a8rpanz9rASe",
        "outputId": "4986c934-344d-4308-adf6-f0726f0a1d71"
      },
      "outputs": [
        {
          "output_type": "stream",
          "name": "stdout",
          "text": [
            "Extracting Data of Class: hemostasis train\n",
            "Extracting Data of Class: inflammatory train\n",
            "Extracting Data of Class: proliferative train\n",
            "Extracting Data of Class: maturation train\n",
            "Extracting Data of Class: hemostasis test\n",
            "Extracting Data of Class: inflammatory test\n",
            "Extracting Data of Class: proliferative test\n",
            "Extracting Data of Class: maturation test\n",
            "Extracting Data of Class: hemostasis valid\n",
            "Extracting Data of Class: inflammatory valid\n",
            "Extracting Data of Class: proliferative valid\n",
            "Extracting Data of Class: maturation valid\n"
          ]
        }
      ],
      "source": [
        "# 6 mice for training, 2 mice for test and validation (one wound on each mice for test one for validation)\n",
        "features_train, labels_train, video_files_paths_train = create_dataset('train')\n",
        "features_test, labels_test, video_files_paths_test = create_dataset('test')\n",
        "features_valid, labels_valid, video_files_paths_valid = create_dataset('valid')"
      ]
    },
    {
      "cell_type": "code",
      "execution_count": 9,
      "metadata": {
        "id": "dtJkK4qTAulC"
      },
      "outputs": [],
      "source": [
        "# one_hot_encoded_labels\n",
        "labels_train = keras.utils.to_categorical(labels_train)\n",
        "labels_test = keras.utils.to_categorical(labels_test)\n",
        "labels_valid = keras.utils.to_categorical(labels_valid)"
      ]
    },
    {
      "cell_type": "code",
      "execution_count": 10,
      "metadata": {
        "id": "N-9ykP4ig7IW"
      },
      "outputs": [],
      "source": [
        "def create_3D_CNN_model():\n",
        "    sample_shape = (16, 128, 128, 3)\n",
        "    model = Sequential()\n",
        "\n",
        "    model.add(Conv3D(32, 3, activation='relu', kernel_initializer='he_uniform',\n",
        "                     kernel_regularizer=regularizers.L1L2(l1=1e-5, l2=1e-4),\n",
        "                     input_shape=sample_shape))\n",
        "    model.add(BatchNormalization())\n",
        "    model.add(MaxPooling3D(2))\n",
        "    model.add(Dropout(0.4))\n",
        "\n",
        "    model.add(Conv3D(32, 3, activation='relu', kernel_initializer='he_uniform',\n",
        "                     kernel_regularizer=regularizers.L1L2(l1=1e-5, l2=1e-4)))\n",
        "    model.add(BatchNormalization())\n",
        "    model.add(MaxPooling3D(2))\n",
        "    model.add(Dropout(0.4))\n",
        "\n",
        "    model.add(GlobalAveragePooling3D())\n",
        "\n",
        "    model.add(Dense(32, activation='relu', kernel_initializer='he_uniform',\n",
        "                    kernel_regularizer=regularizers.L1L2(l1=1e-5, l2=1e-4)))\n",
        "    model.add(Dropout(0.4))\n",
        "    model.add(Dense(16, activation='relu', kernel_initializer='he_uniform',\n",
        "                    kernel_regularizer=regularizers.L1L2(l1=1e-5, l2=1e-4)))\n",
        "    model.add(Dropout(0.6))\n",
        "    # model.add(Dense(8, activation='relu', kernel_initializer='he_uniform'))\n",
        "    # model.add(Dropout(0.3))\n",
        "    # model.add(Dense(8, activation='relu', kernel_initializer='he_uniform'))\n",
        "    # model.add(Dropout(0.3))\n",
        "    model.add(Dense(len(CLASSES_LIST), activation='softmax'))\n",
        "\n",
        "    # Display the models summary.\n",
        "    model.summary(line_length = 125)\n",
        "    # Return the constructed 3D_CNN model.\n",
        "    return model"
      ]
    },
    {
      "cell_type": "code",
      "execution_count": 11,
      "metadata": {
        "colab": {
          "base_uri": "https://localhost:8080/"
        },
        "id": "Z4_GxXZBcHlB",
        "outputId": "268816cd-50da-4ab1-d928-8941422a013e"
      },
      "outputs": [
        {
          "output_type": "stream",
          "name": "stdout",
          "text": [
            "Model: \"sequential\"\n",
            "_____________________________________________________________________________________________________________________________\n",
            " Layer (type)                                           Output Shape                                      Param #            \n",
            "=============================================================================================================================\n",
            " conv3d (Conv3D)                                        (None, 14, 126, 126, 32)                          2624               \n",
            "                                                                                                                             \n",
            " batch_normalization (BatchNormalization)               (None, 14, 126, 126, 32)                          128                \n",
            "                                                                                                                             \n",
            " max_pooling3d (MaxPooling3D)                           (None, 7, 63, 63, 32)                             0                  \n",
            "                                                                                                                             \n",
            " dropout (Dropout)                                      (None, 7, 63, 63, 32)                             0                  \n",
            "                                                                                                                             \n",
            " conv3d_1 (Conv3D)                                      (None, 5, 61, 61, 32)                             27680              \n",
            "                                                                                                                             \n",
            " batch_normalization_1 (BatchNormalization)             (None, 5, 61, 61, 32)                             128                \n",
            "                                                                                                                             \n",
            " max_pooling3d_1 (MaxPooling3D)                         (None, 2, 30, 30, 32)                             0                  \n",
            "                                                                                                                             \n",
            " dropout_1 (Dropout)                                    (None, 2, 30, 30, 32)                             0                  \n",
            "                                                                                                                             \n",
            " global_average_pooling3d (GlobalAveragePooling3D)      (None, 32)                                        0                  \n",
            "                                                                                                                             \n",
            " dense (Dense)                                          (None, 32)                                        1056               \n",
            "                                                                                                                             \n",
            " dropout_2 (Dropout)                                    (None, 32)                                        0                  \n",
            "                                                                                                                             \n",
            " dense_1 (Dense)                                        (None, 16)                                        528                \n",
            "                                                                                                                             \n",
            " dropout_3 (Dropout)                                    (None, 16)                                        0                  \n",
            "                                                                                                                             \n",
            " dense_2 (Dense)                                        (None, 4)                                         68                 \n",
            "                                                                                                                             \n",
            "=============================================================================================================================\n",
            "Total params: 32,212\n",
            "Trainable params: 32,084\n",
            "Non-trainable params: 128\n",
            "_____________________________________________________________________________________________________________________________\n",
            "Model Created Successfully!\n"
          ]
        }
      ],
      "source": [
        "# Construct the required convlstm model.\n",
        "model = create_3D_CNN_model()\n",
        " \n",
        "# Display the success message. \n",
        "print(\"Model Created Successfully!\")"
      ]
    },
    {
      "cell_type": "code",
      "execution_count": 12,
      "metadata": {
        "colab": {
          "base_uri": "https://localhost:8080/"
        },
        "id": "MwYEkaYLoyb_",
        "outputId": "57760189-720d-49d3-f951-962c0df99b5d"
      },
      "outputs": [
        {
          "output_type": "stream",
          "name": "stdout",
          "text": [
            "Epoch 1/150\n",
            "34/34 [==============================] - 14s 337ms/step - loss: 2.0082 - accuracy: 0.3137 - val_loss: 1.6085 - val_accuracy: 0.1250\n",
            "Epoch 2/150\n",
            "34/34 [==============================] - 10s 299ms/step - loss: 1.3394 - accuracy: 0.4202 - val_loss: 1.4028 - val_accuracy: 0.4044\n",
            "Epoch 3/150\n",
            "34/34 [==============================] - 10s 298ms/step - loss: 1.2313 - accuracy: 0.4740 - val_loss: 1.3885 - val_accuracy: 0.4485\n",
            "Epoch 4/150\n",
            "34/34 [==============================] - 10s 299ms/step - loss: 1.1523 - accuracy: 0.4858 - val_loss: 1.3527 - val_accuracy: 0.5368\n",
            "Epoch 5/150\n",
            "34/34 [==============================] - 10s 299ms/step - loss: 1.1053 - accuracy: 0.4963 - val_loss: 1.2445 - val_accuracy: 0.5147\n",
            "Epoch 6/150\n",
            "34/34 [==============================] - 10s 299ms/step - loss: 1.0728 - accuracy: 0.5056 - val_loss: 1.2181 - val_accuracy: 0.5147\n",
            "Epoch 7/150\n",
            "34/34 [==============================] - 10s 299ms/step - loss: 1.0335 - accuracy: 0.5328 - val_loss: 1.1881 - val_accuracy: 0.5000\n",
            "Epoch 8/150\n",
            "34/34 [==============================] - 10s 299ms/step - loss: 0.9906 - accuracy: 0.5668 - val_loss: 1.1111 - val_accuracy: 0.5074\n",
            "Epoch 9/150\n",
            "34/34 [==============================] - 10s 298ms/step - loss: 0.9374 - accuracy: 0.5885 - val_loss: 1.0469 - val_accuracy: 0.5221\n",
            "Epoch 10/150\n",
            "34/34 [==============================] - 10s 298ms/step - loss: 0.9110 - accuracy: 0.6046 - val_loss: 0.9914 - val_accuracy: 0.5515\n",
            "Epoch 11/150\n",
            "34/34 [==============================] - 10s 297ms/step - loss: 0.8982 - accuracy: 0.5984 - val_loss: 1.0314 - val_accuracy: 0.5551\n",
            "Epoch 12/150\n",
            "34/34 [==============================] - 10s 299ms/step - loss: 0.8832 - accuracy: 0.6064 - val_loss: 0.9018 - val_accuracy: 0.6103\n",
            "Epoch 13/150\n",
            "34/34 [==============================] - 10s 298ms/step - loss: 0.8310 - accuracy: 0.6454 - val_loss: 0.9055 - val_accuracy: 0.5625\n",
            "Epoch 14/150\n",
            "34/34 [==============================] - 10s 299ms/step - loss: 0.8722 - accuracy: 0.6176 - val_loss: 0.8977 - val_accuracy: 0.5846\n",
            "Epoch 15/150\n",
            "34/34 [==============================] - 10s 298ms/step - loss: 0.8275 - accuracy: 0.6392 - val_loss: 0.8368 - val_accuracy: 0.6397\n",
            "Epoch 16/150\n",
            "34/34 [==============================] - 10s 300ms/step - loss: 0.8207 - accuracy: 0.6343 - val_loss: 0.7951 - val_accuracy: 0.6801\n",
            "Epoch 17/150\n",
            "34/34 [==============================] - 10s 297ms/step - loss: 0.7793 - accuracy: 0.6597 - val_loss: 0.8127 - val_accuracy: 0.5919\n",
            "Epoch 18/150\n",
            "34/34 [==============================] - 10s 298ms/step - loss: 0.7678 - accuracy: 0.6671 - val_loss: 0.7742 - val_accuracy: 0.6654\n",
            "Epoch 19/150\n",
            "34/34 [==============================] - 10s 299ms/step - loss: 0.7604 - accuracy: 0.6726 - val_loss: 0.8098 - val_accuracy: 0.6103\n",
            "Epoch 20/150\n",
            "34/34 [==============================] - 10s 299ms/step - loss: 0.7579 - accuracy: 0.6844 - val_loss: 0.7117 - val_accuracy: 0.6875\n",
            "Epoch 21/150\n",
            "34/34 [==============================] - 10s 299ms/step - loss: 0.7223 - accuracy: 0.6844 - val_loss: 0.8577 - val_accuracy: 0.5147\n",
            "Epoch 22/150\n",
            "34/34 [==============================] - 10s 300ms/step - loss: 0.7204 - accuracy: 0.6844 - val_loss: 0.7825 - val_accuracy: 0.6140\n",
            "Epoch 23/150\n",
            "34/34 [==============================] - 10s 298ms/step - loss: 0.7107 - accuracy: 0.6918 - val_loss: 0.7158 - val_accuracy: 0.6324\n",
            "Epoch 24/150\n",
            "34/34 [==============================] - 10s 300ms/step - loss: 0.6632 - accuracy: 0.7203 - val_loss: 0.8601 - val_accuracy: 0.5404\n",
            "Epoch 25/150\n",
            "34/34 [==============================] - 10s 297ms/step - loss: 0.6539 - accuracy: 0.7191 - val_loss: 0.7273 - val_accuracy: 0.6654\n",
            "Epoch 26/150\n",
            "34/34 [==============================] - 10s 298ms/step - loss: 0.6781 - accuracy: 0.7067 - val_loss: 0.8202 - val_accuracy: 0.5221\n",
            "Epoch 27/150\n",
            "34/34 [==============================] - 10s 297ms/step - loss: 0.6584 - accuracy: 0.7321 - val_loss: 0.8306 - val_accuracy: 0.5699\n",
            "Epoch 28/150\n",
            "34/34 [==============================] - 10s 298ms/step - loss: 0.6226 - accuracy: 0.7370 - val_loss: 0.8413 - val_accuracy: 0.6103\n",
            "Epoch 29/150\n",
            "34/34 [==============================] - 10s 299ms/step - loss: 0.6396 - accuracy: 0.7271 - val_loss: 0.7027 - val_accuracy: 0.6544\n",
            "Epoch 30/150\n",
            "34/34 [==============================] - 10s 297ms/step - loss: 0.6511 - accuracy: 0.7228 - val_loss: 0.9138 - val_accuracy: 0.5809\n",
            "Epoch 31/150\n",
            "34/34 [==============================] - 10s 297ms/step - loss: 0.6162 - accuracy: 0.7450 - val_loss: 0.8243 - val_accuracy: 0.6029\n",
            "Epoch 32/150\n",
            "34/34 [==============================] - 10s 297ms/step - loss: 0.6115 - accuracy: 0.7389 - val_loss: 0.7305 - val_accuracy: 0.6397\n",
            "Epoch 33/150\n",
            "34/34 [==============================] - 10s 299ms/step - loss: 0.5945 - accuracy: 0.7506 - val_loss: 0.6651 - val_accuracy: 0.6618\n",
            "Epoch 34/150\n",
            "34/34 [==============================] - 10s 297ms/step - loss: 0.5866 - accuracy: 0.7543 - val_loss: 0.6075 - val_accuracy: 0.7316\n",
            "Epoch 35/150\n",
            "34/34 [==============================] - 10s 298ms/step - loss: 0.6184 - accuracy: 0.7308 - val_loss: 0.5975 - val_accuracy: 0.7574\n",
            "Epoch 36/150\n",
            "34/34 [==============================] - 10s 298ms/step - loss: 0.5684 - accuracy: 0.7667 - val_loss: 0.6957 - val_accuracy: 0.6213\n",
            "Epoch 37/150\n",
            "34/34 [==============================] - 10s 298ms/step - loss: 0.5784 - accuracy: 0.7450 - val_loss: 0.6295 - val_accuracy: 0.7132\n",
            "Epoch 38/150\n",
            "34/34 [==============================] - 10s 296ms/step - loss: 0.5777 - accuracy: 0.7469 - val_loss: 0.6661 - val_accuracy: 0.7059\n",
            "Epoch 39/150\n",
            "34/34 [==============================] - 10s 300ms/step - loss: 0.5784 - accuracy: 0.7426 - val_loss: 0.9526 - val_accuracy: 0.5331\n",
            "Epoch 40/150\n",
            "34/34 [==============================] - 10s 301ms/step - loss: 0.5871 - accuracy: 0.7506 - val_loss: 0.6018 - val_accuracy: 0.7537\n",
            "Epoch 41/150\n",
            "34/34 [==============================] - 10s 298ms/step - loss: 0.5685 - accuracy: 0.7481 - val_loss: 0.7233 - val_accuracy: 0.6618\n",
            "Epoch 42/150\n",
            "34/34 [==============================] - 10s 296ms/step - loss: 0.5396 - accuracy: 0.7803 - val_loss: 0.6246 - val_accuracy: 0.7169\n",
            "Epoch 43/150\n",
            "34/34 [==============================] - 10s 298ms/step - loss: 0.5613 - accuracy: 0.7593 - val_loss: 0.6624 - val_accuracy: 0.7463\n",
            "Epoch 44/150\n",
            "34/34 [==============================] - 10s 299ms/step - loss: 0.5518 - accuracy: 0.7673 - val_loss: 0.5985 - val_accuracy: 0.7537\n",
            "Epoch 45/150\n",
            "34/34 [==============================] - 10s 299ms/step - loss: 0.5495 - accuracy: 0.7661 - val_loss: 0.5896 - val_accuracy: 0.6949\n",
            "Epoch 46/150\n",
            "34/34 [==============================] - 10s 298ms/step - loss: 0.5421 - accuracy: 0.7772 - val_loss: 0.5684 - val_accuracy: 0.7574\n",
            "Epoch 47/150\n",
            "34/34 [==============================] - 10s 299ms/step - loss: 0.5557 - accuracy: 0.7704 - val_loss: 0.6244 - val_accuracy: 0.7537\n",
            "Epoch 48/150\n",
            "34/34 [==============================] - 10s 300ms/step - loss: 0.5267 - accuracy: 0.7834 - val_loss: 0.5914 - val_accuracy: 0.7463\n",
            "Epoch 49/150\n",
            "34/34 [==============================] - 10s 297ms/step - loss: 0.5368 - accuracy: 0.7754 - val_loss: 0.8102 - val_accuracy: 0.6066\n",
            "Epoch 50/150\n",
            "34/34 [==============================] - 10s 299ms/step - loss: 0.5224 - accuracy: 0.7834 - val_loss: 1.0719 - val_accuracy: 0.5588\n",
            "Epoch 51/150\n",
            "34/34 [==============================] - 10s 297ms/step - loss: 0.5228 - accuracy: 0.7933 - val_loss: 1.0411 - val_accuracy: 0.6029\n",
            "Epoch 52/150\n",
            "34/34 [==============================] - 10s 298ms/step - loss: 0.5300 - accuracy: 0.7828 - val_loss: 0.7348 - val_accuracy: 0.6728\n",
            "Epoch 53/150\n",
            "34/34 [==============================] - 10s 299ms/step - loss: 0.5015 - accuracy: 0.8032 - val_loss: 1.0116 - val_accuracy: 0.5882\n",
            "Epoch 54/150\n",
            "34/34 [==============================] - 10s 298ms/step - loss: 0.5374 - accuracy: 0.7816 - val_loss: 0.6229 - val_accuracy: 0.7426\n",
            "Epoch 55/150\n",
            "34/34 [==============================] - 10s 297ms/step - loss: 0.5104 - accuracy: 0.7908 - val_loss: 0.5968 - val_accuracy: 0.7610\n",
            "Epoch 56/150\n",
            "34/34 [==============================] - 10s 299ms/step - loss: 0.5094 - accuracy: 0.7927 - val_loss: 0.8252 - val_accuracy: 0.6654\n",
            "Epoch 57/150\n",
            "34/34 [==============================] - 10s 299ms/step - loss: 0.5213 - accuracy: 0.7853 - val_loss: 0.7450 - val_accuracy: 0.6949\n",
            "Epoch 58/150\n",
            "34/34 [==============================] - 10s 297ms/step - loss: 0.5125 - accuracy: 0.7785 - val_loss: 0.5727 - val_accuracy: 0.7426\n",
            "Epoch 59/150\n",
            "34/34 [==============================] - 10s 297ms/step - loss: 0.4970 - accuracy: 0.8020 - val_loss: 0.5533 - val_accuracy: 0.7941\n",
            "Epoch 60/150\n",
            "34/34 [==============================] - 10s 298ms/step - loss: 0.5141 - accuracy: 0.7958 - val_loss: 0.9375 - val_accuracy: 0.6287\n",
            "Epoch 61/150\n",
            "34/34 [==============================] - 10s 298ms/step - loss: 0.4916 - accuracy: 0.7847 - val_loss: 0.6366 - val_accuracy: 0.7537\n",
            "Epoch 62/150\n",
            "34/34 [==============================] - 10s 299ms/step - loss: 0.4645 - accuracy: 0.8205 - val_loss: 0.5384 - val_accuracy: 0.7904\n",
            "Epoch 63/150\n",
            "34/34 [==============================] - 10s 298ms/step - loss: 0.4680 - accuracy: 0.8088 - val_loss: 0.6461 - val_accuracy: 0.7426\n",
            "Epoch 64/150\n",
            "34/34 [==============================] - 10s 296ms/step - loss: 0.4623 - accuracy: 0.8125 - val_loss: 0.9733 - val_accuracy: 0.6066\n",
            "Epoch 65/150\n",
            "34/34 [==============================] - 10s 297ms/step - loss: 0.4685 - accuracy: 0.8020 - val_loss: 0.8833 - val_accuracy: 0.6287\n",
            "Epoch 66/150\n",
            "34/34 [==============================] - 10s 297ms/step - loss: 0.4815 - accuracy: 0.7989 - val_loss: 0.6020 - val_accuracy: 0.7537\n",
            "Epoch 67/150\n",
            "34/34 [==============================] - 10s 297ms/step - loss: 0.4870 - accuracy: 0.7908 - val_loss: 0.9795 - val_accuracy: 0.6250\n",
            "Epoch 68/150\n",
            "34/34 [==============================] - 10s 298ms/step - loss: 0.4726 - accuracy: 0.8007 - val_loss: 1.2351 - val_accuracy: 0.5882\n",
            "Epoch 69/150\n",
            "34/34 [==============================] - 10s 299ms/step - loss: 0.4715 - accuracy: 0.8094 - val_loss: 0.5772 - val_accuracy: 0.7647\n",
            "Epoch 70/150\n",
            "34/34 [==============================] - 10s 298ms/step - loss: 0.4797 - accuracy: 0.8119 - val_loss: 0.5321 - val_accuracy: 0.7978\n",
            "Epoch 71/150\n",
            "34/34 [==============================] - 10s 298ms/step - loss: 0.4779 - accuracy: 0.8007 - val_loss: 1.1321 - val_accuracy: 0.5882\n",
            "Epoch 72/150\n",
            "34/34 [==============================] - 10s 298ms/step - loss: 0.4924 - accuracy: 0.7964 - val_loss: 0.6339 - val_accuracy: 0.7132\n",
            "Epoch 73/150\n",
            "34/34 [==============================] - 10s 297ms/step - loss: 0.4604 - accuracy: 0.8020 - val_loss: 0.4929 - val_accuracy: 0.8088\n",
            "Epoch 74/150\n",
            "34/34 [==============================] - 10s 298ms/step - loss: 0.4203 - accuracy: 0.8280 - val_loss: 0.5791 - val_accuracy: 0.7574\n",
            "Epoch 75/150\n",
            "34/34 [==============================] - 10s 298ms/step - loss: 0.4387 - accuracy: 0.8094 - val_loss: 0.9168 - val_accuracy: 0.6029\n",
            "Epoch 76/150\n",
            "34/34 [==============================] - 10s 299ms/step - loss: 0.4737 - accuracy: 0.8014 - val_loss: 0.6232 - val_accuracy: 0.7721\n",
            "Epoch 77/150\n",
            "34/34 [==============================] - 10s 298ms/step - loss: 0.4617 - accuracy: 0.8082 - val_loss: 1.0128 - val_accuracy: 0.6066\n",
            "Epoch 78/150\n",
            "34/34 [==============================] - 10s 296ms/step - loss: 0.4438 - accuracy: 0.8100 - val_loss: 0.9735 - val_accuracy: 0.7059\n",
            "Epoch 79/150\n",
            "34/34 [==============================] - 10s 296ms/step - loss: 0.4613 - accuracy: 0.8051 - val_loss: 0.6124 - val_accuracy: 0.7721\n",
            "Epoch 80/150\n",
            "34/34 [==============================] - 10s 297ms/step - loss: 0.4704 - accuracy: 0.8026 - val_loss: 0.5616 - val_accuracy: 0.7757\n",
            "Epoch 81/150\n",
            "34/34 [==============================] - 10s 297ms/step - loss: 0.4258 - accuracy: 0.8150 - val_loss: 0.6017 - val_accuracy: 0.7426\n",
            "Epoch 82/150\n",
            "34/34 [==============================] - 10s 297ms/step - loss: 0.4537 - accuracy: 0.8020 - val_loss: 0.4843 - val_accuracy: 0.8235\n",
            "Epoch 83/150\n",
            "34/34 [==============================] - 10s 298ms/step - loss: 0.4418 - accuracy: 0.8193 - val_loss: 0.7444 - val_accuracy: 0.6544\n",
            "Epoch 84/150\n",
            "34/34 [==============================] - 10s 300ms/step - loss: 0.4587 - accuracy: 0.8094 - val_loss: 0.9492 - val_accuracy: 0.6397\n",
            "Epoch 85/150\n",
            "34/34 [==============================] - 10s 299ms/step - loss: 0.4378 - accuracy: 0.8199 - val_loss: 0.6174 - val_accuracy: 0.7537\n",
            "Epoch 86/150\n",
            "34/34 [==============================] - 10s 298ms/step - loss: 0.4212 - accuracy: 0.8168 - val_loss: 0.6512 - val_accuracy: 0.7206\n",
            "Epoch 87/150\n",
            "34/34 [==============================] - 10s 297ms/step - loss: 0.4261 - accuracy: 0.8156 - val_loss: 0.7044 - val_accuracy: 0.6912\n",
            "Epoch 88/150\n",
            "34/34 [==============================] - 10s 298ms/step - loss: 0.4232 - accuracy: 0.8261 - val_loss: 0.7842 - val_accuracy: 0.7096\n",
            "Epoch 89/150\n",
            "34/34 [==============================] - 10s 298ms/step - loss: 0.4075 - accuracy: 0.8397 - val_loss: 0.6055 - val_accuracy: 0.7941\n",
            "Epoch 90/150\n",
            "34/34 [==============================] - 10s 299ms/step - loss: 0.4473 - accuracy: 0.8057 - val_loss: 0.6459 - val_accuracy: 0.7757\n",
            "Epoch 91/150\n",
            "34/34 [==============================] - 10s 297ms/step - loss: 0.4498 - accuracy: 0.8187 - val_loss: 1.2313 - val_accuracy: 0.5956\n",
            "Epoch 92/150\n",
            "34/34 [==============================] - 10s 297ms/step - loss: 0.4051 - accuracy: 0.8373 - val_loss: 0.5598 - val_accuracy: 0.8162\n",
            "Epoch 93/150\n",
            "34/34 [==============================] - 10s 299ms/step - loss: 0.4310 - accuracy: 0.8218 - val_loss: 1.3081 - val_accuracy: 0.6029\n",
            "Epoch 94/150\n",
            "34/34 [==============================] - 10s 300ms/step - loss: 0.4199 - accuracy: 0.8267 - val_loss: 0.6162 - val_accuracy: 0.8088\n",
            "Epoch 95/150\n",
            "34/34 [==============================] - 10s 298ms/step - loss: 0.4277 - accuracy: 0.8249 - val_loss: 0.5041 - val_accuracy: 0.8162\n",
            "Epoch 96/150\n",
            "34/34 [==============================] - 10s 298ms/step - loss: 0.4357 - accuracy: 0.8187 - val_loss: 0.5259 - val_accuracy: 0.8125\n",
            "Epoch 97/150\n",
            "34/34 [==============================] - 10s 297ms/step - loss: 0.4011 - accuracy: 0.8360 - val_loss: 0.6658 - val_accuracy: 0.7941\n",
            "Epoch 98/150\n",
            "34/34 [==============================] - 10s 297ms/step - loss: 0.4480 - accuracy: 0.8119 - val_loss: 0.7568 - val_accuracy: 0.7279\n",
            "Epoch 99/150\n",
            "34/34 [==============================] - 10s 299ms/step - loss: 0.4545 - accuracy: 0.8106 - val_loss: 0.5703 - val_accuracy: 0.8015\n",
            "Epoch 100/150\n",
            "34/34 [==============================] - 10s 299ms/step - loss: 0.4439 - accuracy: 0.8212 - val_loss: 0.5973 - val_accuracy: 0.7904\n",
            "Epoch 101/150\n",
            "34/34 [==============================] - 10s 298ms/step - loss: 0.4170 - accuracy: 0.8193 - val_loss: 1.0873 - val_accuracy: 0.6140\n",
            "Epoch 102/150\n",
            "34/34 [==============================] - 10s 297ms/step - loss: 0.3960 - accuracy: 0.8379 - val_loss: 1.2748 - val_accuracy: 0.6066\n",
            "Epoch 103/150\n",
            "34/34 [==============================] - 10s 299ms/step - loss: 0.4195 - accuracy: 0.8329 - val_loss: 0.8699 - val_accuracy: 0.6654\n",
            "Epoch 104/150\n",
            "34/34 [==============================] - 10s 296ms/step - loss: 0.3947 - accuracy: 0.8410 - val_loss: 0.5735 - val_accuracy: 0.7978\n",
            "Epoch 105/150\n",
            "34/34 [==============================] - 10s 299ms/step - loss: 0.4430 - accuracy: 0.8162 - val_loss: 0.4850 - val_accuracy: 0.8125\n",
            "Epoch 106/150\n",
            "34/34 [==============================] - 10s 297ms/step - loss: 0.4148 - accuracy: 0.8230 - val_loss: 0.7929 - val_accuracy: 0.6176\n",
            "Epoch 107/150\n",
            "34/34 [==============================] - 10s 298ms/step - loss: 0.4218 - accuracy: 0.8199 - val_loss: 0.7715 - val_accuracy: 0.6765\n",
            "Epoch 108/150\n",
            "34/34 [==============================] - 10s 297ms/step - loss: 0.4240 - accuracy: 0.8267 - val_loss: 1.0620 - val_accuracy: 0.6213\n",
            "Epoch 109/150\n",
            "34/34 [==============================] - 10s 297ms/step - loss: 0.4011 - accuracy: 0.8422 - val_loss: 0.7246 - val_accuracy: 0.6581\n",
            "Epoch 110/150\n",
            "34/34 [==============================] - 10s 300ms/step - loss: 0.4126 - accuracy: 0.8391 - val_loss: 0.7863 - val_accuracy: 0.7316\n",
            "Epoch 111/150\n",
            "34/34 [==============================] - 10s 296ms/step - loss: 0.4001 - accuracy: 0.8335 - val_loss: 0.8441 - val_accuracy: 0.6765\n",
            "Epoch 112/150\n",
            "34/34 [==============================] - 10s 298ms/step - loss: 0.4009 - accuracy: 0.8348 - val_loss: 0.7667 - val_accuracy: 0.7463\n",
            "Epoch 113/150\n",
            "34/34 [==============================] - 10s 298ms/step - loss: 0.4036 - accuracy: 0.8280 - val_loss: 0.7179 - val_accuracy: 0.7463\n",
            "Epoch 114/150\n",
            "34/34 [==============================] - 10s 298ms/step - loss: 0.3968 - accuracy: 0.8317 - val_loss: 0.6298 - val_accuracy: 0.7243\n",
            "Epoch 115/150\n",
            "34/34 [==============================] - 10s 299ms/step - loss: 0.4023 - accuracy: 0.8329 - val_loss: 0.7039 - val_accuracy: 0.7868\n",
            "Epoch 116/150\n",
            "34/34 [==============================] - 10s 297ms/step - loss: 0.3762 - accuracy: 0.8502 - val_loss: 0.7217 - val_accuracy: 0.6801\n",
            "Epoch 117/150\n",
            "34/34 [==============================] - 10s 298ms/step - loss: 0.4000 - accuracy: 0.8422 - val_loss: 0.6875 - val_accuracy: 0.7132\n",
            "Epoch 118/150\n",
            "34/34 [==============================] - 10s 299ms/step - loss: 0.4050 - accuracy: 0.8410 - val_loss: 0.5310 - val_accuracy: 0.8088\n",
            "Epoch 119/150\n",
            "34/34 [==============================] - 10s 297ms/step - loss: 0.4061 - accuracy: 0.8261 - val_loss: 0.8905 - val_accuracy: 0.6801\n",
            "Epoch 120/150\n",
            "34/34 [==============================] - 10s 298ms/step - loss: 0.3814 - accuracy: 0.8428 - val_loss: 0.5661 - val_accuracy: 0.7831\n",
            "Epoch 121/150\n",
            "34/34 [==============================] - 10s 299ms/step - loss: 0.3715 - accuracy: 0.8428 - val_loss: 0.7534 - val_accuracy: 0.6838\n",
            "Epoch 122/150\n",
            "34/34 [==============================] - 10s 298ms/step - loss: 0.3915 - accuracy: 0.8391 - val_loss: 0.8023 - val_accuracy: 0.7647\n",
            "Epoch 123/150\n",
            "34/34 [==============================] - 10s 298ms/step - loss: 0.3717 - accuracy: 0.8484 - val_loss: 0.9991 - val_accuracy: 0.6176\n",
            "Epoch 124/150\n",
            "34/34 [==============================] - 10s 298ms/step - loss: 0.3997 - accuracy: 0.8373 - val_loss: 0.9541 - val_accuracy: 0.6507\n",
            "Epoch 125/150\n",
            "34/34 [==============================] - 10s 297ms/step - loss: 0.3819 - accuracy: 0.8459 - val_loss: 0.5195 - val_accuracy: 0.7868\n",
            "Epoch 126/150\n",
            "34/34 [==============================] - 10s 297ms/step - loss: 0.3786 - accuracy: 0.8428 - val_loss: 0.5447 - val_accuracy: 0.7831\n",
            "Epoch 127/150\n",
            "34/34 [==============================] - 10s 297ms/step - loss: 0.3711 - accuracy: 0.8397 - val_loss: 0.8241 - val_accuracy: 0.6728\n",
            "Epoch 128/150\n",
            "34/34 [==============================] - 10s 298ms/step - loss: 0.4270 - accuracy: 0.8286 - val_loss: 2.6343 - val_accuracy: 0.6029\n",
            "Epoch 129/150\n",
            "34/34 [==============================] - 10s 298ms/step - loss: 0.3950 - accuracy: 0.8410 - val_loss: 0.8495 - val_accuracy: 0.6875\n",
            "Epoch 130/150\n",
            "34/34 [==============================] - 10s 297ms/step - loss: 0.4026 - accuracy: 0.8280 - val_loss: 0.7548 - val_accuracy: 0.7206\n",
            "Epoch 131/150\n",
            "34/34 [==============================] - 10s 298ms/step - loss: 0.3938 - accuracy: 0.8292 - val_loss: 0.5408 - val_accuracy: 0.8051\n",
            "Epoch 132/150\n",
            "34/34 [==============================] - 10s 299ms/step - loss: 0.3914 - accuracy: 0.8385 - val_loss: 1.2523 - val_accuracy: 0.6728\n",
            "Epoch 133/150\n",
            "34/34 [==============================] - 10s 298ms/step - loss: 0.3901 - accuracy: 0.8397 - val_loss: 0.7171 - val_accuracy: 0.7096\n",
            "Epoch 134/150\n",
            "34/34 [==============================] - 10s 299ms/step - loss: 0.3914 - accuracy: 0.8292 - val_loss: 0.7670 - val_accuracy: 0.7206\n",
            "Epoch 135/150\n",
            "34/34 [==============================] - 10s 297ms/step - loss: 0.4131 - accuracy: 0.8292 - val_loss: 1.1683 - val_accuracy: 0.6176\n",
            "Epoch 136/150\n",
            "34/34 [==============================] - 10s 297ms/step - loss: 0.3860 - accuracy: 0.8490 - val_loss: 0.6048 - val_accuracy: 0.7868\n",
            "Epoch 137/150\n",
            "34/34 [==============================] - 10s 297ms/step - loss: 0.3759 - accuracy: 0.8348 - val_loss: 0.8212 - val_accuracy: 0.6875\n",
            "Epoch 138/150\n",
            "34/34 [==============================] - 10s 297ms/step - loss: 0.3871 - accuracy: 0.8379 - val_loss: 0.8544 - val_accuracy: 0.7206\n",
            "Epoch 139/150\n",
            "34/34 [==============================] - 10s 299ms/step - loss: 0.4075 - accuracy: 0.8329 - val_loss: 0.8124 - val_accuracy: 0.6912\n",
            "Epoch 140/150\n",
            "34/34 [==============================] - 10s 299ms/step - loss: 0.3819 - accuracy: 0.8373 - val_loss: 0.5798 - val_accuracy: 0.7868\n",
            "Epoch 141/150\n",
            "34/34 [==============================] - 10s 298ms/step - loss: 0.3779 - accuracy: 0.8379 - val_loss: 0.9889 - val_accuracy: 0.6434\n",
            "Epoch 142/150\n",
            "34/34 [==============================] - 10s 298ms/step - loss: 0.3698 - accuracy: 0.8515 - val_loss: 0.5361 - val_accuracy: 0.8199\n",
            "Epoch 143/150\n",
            "34/34 [==============================] - 10s 299ms/step - loss: 0.3702 - accuracy: 0.8428 - val_loss: 0.5404 - val_accuracy: 0.8309\n",
            "Epoch 144/150\n",
            "34/34 [==============================] - 10s 298ms/step - loss: 0.3806 - accuracy: 0.8428 - val_loss: 0.6850 - val_accuracy: 0.7279\n",
            "Epoch 145/150\n",
            "34/34 [==============================] - 10s 297ms/step - loss: 0.3609 - accuracy: 0.8540 - val_loss: 1.4867 - val_accuracy: 0.6213\n",
            "Epoch 146/150\n",
            "34/34 [==============================] - 10s 299ms/step - loss: 0.3746 - accuracy: 0.8441 - val_loss: 0.5942 - val_accuracy: 0.7574\n",
            "Epoch 147/150\n",
            "34/34 [==============================] - 10s 296ms/step - loss: 0.3830 - accuracy: 0.8410 - val_loss: 0.6620 - val_accuracy: 0.7537\n",
            "Epoch 148/150\n",
            "34/34 [==============================] - 10s 297ms/step - loss: 0.3713 - accuracy: 0.8373 - val_loss: 0.7718 - val_accuracy: 0.6728\n",
            "Epoch 149/150\n",
            "34/34 [==============================] - 10s 298ms/step - loss: 0.3310 - accuracy: 0.8620 - val_loss: 0.8223 - val_accuracy: 0.7206\n",
            "Epoch 150/150\n",
            "34/34 [==============================] - 10s 298ms/step - loss: 0.3691 - accuracy: 0.8546 - val_loss: 1.3611 - val_accuracy: 0.6176\n"
          ]
        }
      ],
      "source": [
        "# Create an Instance of Early Stopping Callback\n",
        "early_stopping_callback = keras.callbacks.EarlyStopping(monitor = 'val_loss',\n",
        "                                                        patience = 20,\n",
        "                                                        mode = 'min',\n",
        "                                                        restore_best_weights = True)\n",
        "# Compile the model and specify loss function, optimizer and metrics values to the model\n",
        "model.compile(loss = 'categorical_crossentropy',\n",
        "              optimizer= keras.optimizers.Adam(0.001, decay=1e-4),\n",
        "              metrics=['accuracy'])\n",
        "# Start training the model.\n",
        "cnn_3d_model_training_history = model.fit(x = features_train,\n",
        "                                          y = labels_train,\n",
        "                                          epochs=150,\n",
        "                                          batch_size=48,\n",
        "                                          shuffle = True,\n",
        "                                          validation_data = (features_valid, labels_valid)),\n",
        "                                          # callbacks = [early_stopping_callback])"
      ]
    },
    {
      "cell_type": "code",
      "execution_count": 13,
      "metadata": {
        "colab": {
          "base_uri": "https://localhost:8080/"
        },
        "id": "3vimsgjjbXvL",
        "outputId": "2d07c989-472b-4e9a-fc03-348c3409893c"
      },
      "outputs": [
        {
          "output_type": "stream",
          "name": "stdout",
          "text": [
            "9/9 [==============================] - 1s 77ms/step - loss: 1.5681 - accuracy: 0.6213\n",
            "\n",
            "\n",
            "Train accuracy: 87.995 % || Test accuracy: 62.132 % || Val accuracy: 61.765 %\n",
            "Train loss: 0.348 || Test loss: 1.568 || Val loss: 1.361\n"
          ]
        }
      ],
      "source": [
        "model_evaluation_history = model.evaluate(features_test, labels_test)\n",
        "print('\\n')\n",
        "train_loss, train_acc = model.evaluate(features_train, labels_train, verbose=0)\n",
        "test_loss, test_acc = model.evaluate(features_test, labels_test, verbose=0)\n",
        "val_loss, val_acc = model.evaluate(features_valid, labels_valid, verbose=0)\n",
        "print(f'Train accuracy: {train_acc*100:.3f} % || Test accuracy: {test_acc*100:.3f} % || Val accuracy: {val_acc*100:.3f} %')\n",
        "print(f'Train loss: {train_loss:.3f} || Test loss: {test_loss:.3f} || Val loss: {val_loss:.3f}')"
      ]
    },
    {
      "cell_type": "code",
      "execution_count": 14,
      "metadata": {
        "id": "ivmaK9BlbnRQ"
      },
      "outputs": [],
      "source": [
        "# Get the loss and accuracy from model_evaluation_history.\n",
        "model_evaluation_loss, model_evaluation_accuracy = model_evaluation_history\n",
        " \n",
        "# Define the string date format.\n",
        "# Get the current Date and Time in a DateTime Object.\n",
        "# Convert the DateTime object to string according to the style mentioned in date_time_format string.\n",
        "date_time_format = '%Y_%m_%d__%H_%M_%S'\n",
        "current_date_time_dt = dt.datetime.now()\n",
        "current_date_time_string = dt.datetime.strftime(current_date_time_dt, date_time_format)\n",
        " \n",
        "# Define a useful name for our model to make it easy for us while navigating through multiple saved models.\n",
        "model_file_name = f'3D_CNN_model___Date_Time_{current_date_time_string}___Loss_{model_evaluation_loss}___Accuracy_{model_evaluation_accuracy}.h5'\n",
        " \n",
        "# Change dir\n",
        "gdrive_path = '/content/gdrive' + '/My Drive/247/Saved_models/'\n",
        "os.chdir(gdrive_path)\n",
        "# Create a floder for the model files\n",
        "!mkdir -p cnn_3d_{current_date_time_string}\n",
        "# Save your Model.\n",
        "model.save('3D_CNN' + str(current_date_time_string) + '/' + model_file_name)\n",
        "# Save model weights\n",
        "model.save_weights('3D_CNN' + str(current_date_time_string) + '/' + 'weights')"
      ]
    },
    {
      "cell_type": "code",
      "execution_count": 15,
      "metadata": {
        "id": "OwU8TwPrbsKB"
      },
      "outputs": [],
      "source": [
        "def plot_metric(model_training_history, metric_name_1, metric_name_2, plot_name):\n",
        "    '''\n",
        "    This function will plot the metrics passed to it in a graph.\n",
        "    Args:\n",
        "        model_training_history: A history object containing a record of training and validation \n",
        "                                loss values and metrics values at successive epochs\n",
        "        metric_name_1:          The name of the first metric that needs to be plotted in the graph.\n",
        "        metric_name_2:          The name of the second metric that needs to be plotted in the graph.\n",
        "        plot_name:              The title of the graph.\n",
        "    '''\n",
        "    \n",
        "    # Get metric values using metric names as identifiers.\n",
        "    metric_value_1 = model_training_history[0].history[metric_name_1]\n",
        "    metric_value_2 = model_training_history[0].history[metric_name_2]\n",
        "    \n",
        "    # Construct a range object which will be used as x-axis (horizontal plane) of the graph.\n",
        "    epochs = range(len(metric_value_1))\n",
        "\n",
        "    # Plot the Graph.\n",
        "    plt.plot(epochs, metric_value_1, 'blue', label = metric_name_1)\n",
        "    plt.plot(epochs, metric_value_2, 'red', label = metric_name_2)\n",
        "\n",
        "    # Add title to the plot.\n",
        "    plt.title(str(plot_name))\n",
        "\n",
        "    # Add legend to the plot.\n",
        "    plt.legend()"
      ]
    },
    {
      "cell_type": "code",
      "execution_count": 16,
      "metadata": {
        "colab": {
          "base_uri": "https://localhost:8080/",
          "height": 281
        },
        "id": "cvKY05ncbwof",
        "outputId": "600ab61e-4cd3-41ed-d5dc-405d6179b72d"
      },
      "outputs": [
        {
          "output_type": "display_data",
          "data": {
            "text/plain": [
              "<Figure size 432x288 with 1 Axes>"
            ],
            "image/png": "[encoded data removed]"
          },
          "metadata": {
            "needs_background": "light"
          }
        }
      ],
      "source": [
        "plot_metric(cnn_3d_model_training_history, 'loss', 'val_loss', 'Total Loss vs Total Validation Loss')"
      ]
    },
    {
      "cell_type": "code",
      "execution_count": 17,
      "metadata": {
        "colab": {
          "base_uri": "https://localhost:8080/",
          "height": 281
        },
        "id": "o1iaaDHBb5i0",
        "outputId": "d44cd24e-b981-46a6-d2e2-f77f2eace24f"
      },
      "outputs": [
        {
          "output_type": "display_data",
          "data": {
            "text/plain": [
              "<Figure size 432x288 with 1 Axes>"
            ],
            "image/png": "[encoded data removed]"
          },
          "metadata": {
            "needs_background": "light"
          }
        }
      ],
      "source": [
        "plot_metric(cnn_3d_model_training_history, 'accuracy', 'val_accuracy', 'Total Accuracy vs Total Validation Accuracy') "
      ]
    }
  ],
  "metadata": {
    "accelerator": "GPU",
    "colab": {
      "collapsed_sections": [],
      "machine_shape": "hm",
      "name": "3D_CNN.ipynb",
      "provenance": [],
      "authorship_tag": "ABX9TyPbYvv8fgT6NSnquKwaMjhI",
      "include_colab_link": true
    },
    "kernelspec": {
      "display_name": "Python 3",
      "name": "python3"
    },
    "language_info": {
      "name": "python"
    }
  },
  "nbformat": 4,
  "nbformat_minor": 0
}