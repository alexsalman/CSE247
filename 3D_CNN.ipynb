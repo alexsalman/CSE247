{
  "cells": [
    {
      "cell_type": "markdown",
      "metadata": {
        "id": "view-in-github",
        "colab_type": "text"
      },
      "source": [
        "<a href=\"https://colab.research.google.com/github/alexsalman/CSE247/blob/main/3D_CNN.ipynb\" target=\"_parent\"><img src=\"https://colab.research.google.com/assets/colab-badge.svg\" alt=\"Open In Colab\"/></a>"
      ]
    },
    {
      "cell_type": "markdown",
      "metadata": {
        "id": "Kk7I8NauauE3"
      },
      "source": [
        "####**3D Convolutional Neural Network**\n",
        "######*I am using 3D Convolutional Neural Network to extract the temporal and spatial information which are merged slowly throughout the whole network.*"
      ]
    },
    {
      "cell_type": "code",
      "execution_count": 1,
      "metadata": {
        "colab": {
          "base_uri": "https://localhost:8080/"
        },
        "id": "M8ibtd5HKtZk",
        "outputId": "640f4496-dd1f-4e94-9eea-7860109c4778"
      },
      "outputs": [
        {
          "output_type": "stream",
          "name": "stdout",
          "text": [
            "2.8.0\n"
          ]
        }
      ],
      "source": [
        "# required libraries\n",
        "import os\n",
        "import cv2\n",
        "import math\n",
        "import random\n",
        "import numpy as np\n",
        "import datetime as dt\n",
        "from collections import deque\n",
        "import matplotlib.pyplot as plt\n",
        "from google.colab import drive\n",
        "from sklearn.model_selection import train_test_split\n",
        "import tensorflow as tf\n",
        "from tensorflow import keras\n",
        "from keras.models import Sequential\n",
        "from keras.layers import Dense, Flatten, Conv3D, MaxPooling3D, Dropout, BatchNormalization, GlobalAveragePooling3D\n",
        "from keras import regularizers\n",
        "from PIL import Image\n",
        "%matplotlib inline\n",
        "print(tf.version.VERSION)\n",
        "# https://bleedai.com/human-activity-recognition-using-tensorflow-cnn-lstm/"
      ]
    },
    {
      "cell_type": "code",
      "execution_count": 2,
      "metadata": {
        "id": "iffdFOf1CEAN"
      },
      "outputs": [],
      "source": [
        "# set Numpy, Python, and Tensorflow seeds to get consistent results on every execution\n",
        "seed_constant = 27\n",
        "np.random.seed(seed_constant)\n",
        "random.seed(seed_constant)\n",
        "tf.random.set_seed(seed_constant)"
      ]
    },
    {
      "cell_type": "code",
      "execution_count": 3,
      "metadata": {
        "colab": {
          "base_uri": "https://localhost:8080/",
          "height": 53
        },
        "id": "mcLh22LiOHyn",
        "outputId": "cf0c74a5-1cc7-4e06-c12e-8d32f901b003"
      },
      "outputs": [
        {
          "output_type": "stream",
          "name": "stdout",
          "text": [
            "Mounted at /content/gdrive/\n"
          ]
        },
        {
          "output_type": "execute_result",
          "data": {
            "text/plain": [
              "'/content/gdrive/My Drive/247'"
            ],
            "application/vnd.google.colaboratory.intrinsic+json": {
              "type": "string"
            }
          },
          "metadata": {},
          "execution_count": 3
        }
      ],
      "source": [
        "# mount dataset from google drive\n",
        "drive.mount('/content/gdrive/', force_remount=True)\n",
        "gdrive_path = '/content/gdrive' + '/My Drive/247/'\n",
        "os.chdir(gdrive_path)\n",
        "os.getcwd()"
      ]
    },
    {
      "cell_type": "code",
      "execution_count": 4,
      "metadata": {
        "id": "oeDK8SzumZ1Q"
      },
      "outputs": [],
      "source": [
        "# frame dimention\n",
        "IMAGE_HEIGHT, IMAGE_WIDTH = 128, 128\n",
        "# frame number for each video (depth)\n",
        "SEQUENCE_LENGTH = 16\n",
        "# video dir path\n",
        "DATASET_DIR = gdrive_path + 'Cropped_videos'\n",
        "# labels of classes\n",
        "CLASSES_LIST = ['hemostasis', 'inflammatory', 'proliferative', 'maturation']"
      ]
    },
    {
      "cell_type": "code",
      "execution_count": 5,
      "metadata": {
        "id": "HUTeIqzpZc9J"
      },
      "outputs": [],
      "source": [
        "# image cropping\n",
        "def crop_center_square(frame):\n",
        "    y, x = frame.shape[0:2]\n",
        "    min_dim = min(y, x)\n",
        "    start_x = (x // 2) - (min_dim // 2)\n",
        "    start_y = (y // 2) - (min_dim // 2)\n",
        "    return frame[start_y:start_y+min_dim,start_x:start_x+min_dim]"
      ]
    },
    {
      "cell_type": "code",
      "execution_count": 6,
      "metadata": {
        "id": "QRDbHG0TZkYJ"
      },
      "outputs": [],
      "source": [
        "# https://medium.com/analytics-vidhya/video-preprocessor-and-augmentation-for-deep-learning-tasks-12dd3fcce868\n",
        "def load_video(path, resize=(128, 128)):\n",
        "    video_reader = cv2.VideoCapture(path)\n",
        "    frames = []\n",
        "    try:\n",
        "        while True:\n",
        "            ret, frame = video_reader.read()\n",
        "            if not ret:\n",
        "                  break\n",
        "            # frame = crop_center_square(frame)\n",
        "            frame = cv2.resize(frame, resize)\n",
        "            frame = frame[:, :, [2, 1, 0]]\n",
        "            black_frame = frame\n",
        "            frames.append(frame)\n",
        "    finally:\n",
        "        video_reader.release()\n",
        "    return np.array(frames) / 255.0"
      ]
    },
    {
      "cell_type": "code",
      "execution_count": 7,
      "metadata": {
        "id": "ljUWHW6Jqzu-"
      },
      "outputs": [],
      "source": [
        "def create_dataset(state):\n",
        "    # Declared Empty Lists to store the features, labels and video file path values.\n",
        "    features = []\n",
        "    labels = []\n",
        "    video_files_paths = []\n",
        "    # Iterating through all the classes mentioned in the classes list\n",
        "    for class_index, class_name in enumerate(CLASSES_LIST):\n",
        "        # Display the name of the class whose data is being extracted.\n",
        "        print(f'Extracting Data of Class: {class_name} {state}')\n",
        "        # Get the list of video files present in the specific class name directory.\n",
        "        files_list = os.listdir(os.path.join(DATASET_DIR, class_name))\n",
        "        # Iterate through all the files present in the files list.\n",
        "        for file_name in files_list:\n",
        "            # Get the complete video path.\n",
        "            video_file_path = os.path.join(DATASET_DIR, class_name, file_name)\n",
        "            # create testing data\n",
        "            if state == 'test':\n",
        "                # get the mouse number\n",
        "                mouse_number = int(video_file_path.split(' ')[2].split('_')[1].split('-')[1])\n",
        "                # get the mouse side (L or R)\n",
        "                mouse_side = video_file_path.split(' ')[2].split('_')[1].split('-')[2]\n",
        "                if mouse_number == 4 and mouse_side == 'L':\n",
        "                    frames = load_video(video_file_path)\n",
        "                    features.append(frames)\n",
        "                    labels.append(class_index)\n",
        "                    video_files_paths.append(video_file_path)\n",
        "            # create validation data\n",
        "            elif state == 'valid':\n",
        "                # get the mouse number\n",
        "                mouse_number = int(video_file_path.split(' ')[2].split('_')[1].split('-')[1])\n",
        "                # get the mouse side (L or R)\n",
        "                mouse_side = video_file_path.split(' ')[2].split('_')[1].split('-')[2]\n",
        "                if mouse_number == 4 and mouse_side == 'R':\n",
        "                    frames = load_video(video_file_path)\n",
        "                    features.append(frames)\n",
        "                    labels.append(class_index)\n",
        "                    video_files_paths.append(video_file_path)\n",
        "            # create training data\n",
        "            else:\n",
        "                # get the mouse number\n",
        "                mouse_number = int(video_file_path.split(' ')[2].split('_')[1].split('-')[1])\n",
        "                if mouse_number != 4:\n",
        "                    frames = load_video(video_file_path)\n",
        "                    features.append(frames)\n",
        "                    labels.append(class_index)\n",
        "                    video_files_paths.append(video_file_path)\n",
        "    # Converting the list to numpy arrays\n",
        "    features = np.asarray(features)\n",
        "    # print(features)\n",
        "    labels = np.array(labels)\n",
        "    # Return the frames, class index, and video file path.\n",
        "    return features, labels, video_files_paths"
      ]
    },
    {
      "cell_type": "code",
      "execution_count": 8,
      "metadata": {
        "colab": {
          "base_uri": "https://localhost:8080/"
        },
        "id": "a8rpanz9rASe",
        "outputId": "60d30f63-87a5-4811-be53-79ffcb884dc9"
      },
      "outputs": [
        {
          "output_type": "stream",
          "name": "stdout",
          "text": [
            "Extracting Data of Class: hemostasis train\n",
            "Extracting Data of Class: inflammatory train\n",
            "Extracting Data of Class: proliferative train\n",
            "Extracting Data of Class: maturation train\n",
            "Extracting Data of Class: hemostasis test\n",
            "Extracting Data of Class: inflammatory test\n",
            "Extracting Data of Class: proliferative test\n",
            "Extracting Data of Class: maturation test\n",
            "Extracting Data of Class: hemostasis valid\n",
            "Extracting Data of Class: inflammatory valid\n",
            "Extracting Data of Class: proliferative valid\n",
            "Extracting Data of Class: maturation valid\n"
          ]
        }
      ],
      "source": [
        "# 6 mice for training, 2 mice for test and validation (one wound on each mice for test one for validation)\n",
        "features_train, labels_train, video_files_paths_train = create_dataset('train')\n",
        "features_test, labels_test, video_files_paths_test = create_dataset('test')\n",
        "features_valid, labels_valid, video_files_paths_valid = create_dataset('valid')"
      ]
    },
    {
      "cell_type": "code",
      "execution_count": 9,
      "metadata": {
        "id": "dtJkK4qTAulC"
      },
      "outputs": [],
      "source": [
        "# one_hot_encoded_labels\n",
        "labels_train = keras.utils.to_categorical(labels_train)\n",
        "labels_test = keras.utils.to_categorical(labels_test)\n",
        "labels_valid = keras.utils.to_categorical(labels_valid)"
      ]
    },
    {
      "cell_type": "code",
      "execution_count": 10,
      "metadata": {
        "id": "N-9ykP4ig7IW"
      },
      "outputs": [],
      "source": [
        "def create_3D_CNN_model():\n",
        "    sample_shape = (16, 128, 128, 3)\n",
        "    model = Sequential()\n",
        "\n",
        "    model.add(Conv3D(32, 3, activation='relu', kernel_initializer='he_uniform',\n",
        "                     kernel_regularizer=regularizers.L2(l2=1e-4),\n",
        "                     input_shape=sample_shape))\n",
        "    model.add(BatchNormalization())\n",
        "    model.add(MaxPooling3D(2))\n",
        "    model.add(Dropout(0.5))\n",
        "\n",
        "    model.add(Conv3D(32, 3, activation='relu', kernel_initializer='he_uniform',\n",
        "                     kernel_regularizer=regularizers.L2(l2=1e-4)))\n",
        "    model.add(BatchNormalization())\n",
        "    model.add(MaxPooling3D(2))\n",
        "    model.add(Dropout(0.5))\n",
        "\n",
        "    model.add(GlobalAveragePooling3D())\n",
        "\n",
        "    model.add(Dense(32, activation='relu', kernel_initializer='he_uniform',\n",
        "                    kernel_regularizer=regularizers.L2(l2=1e-4)))\n",
        "    model.add(Dropout(0.5))\n",
        "    model.add(Dense(16, activation='relu', kernel_initializer='he_uniform',\n",
        "                    kernel_regularizer=regularizers.L2(l2=1e-4)))\n",
        "    model.add(Dropout(0.6))\n",
        "    # model.add(Dense(8, activation='relu', kernel_initializer='he_uniform'))\n",
        "    # model.add(Dropout(0.3))\n",
        "    # model.add(Dense(8, activation='relu', kernel_initializer='he_uniform'))\n",
        "    # model.add(Dropout(0.3))\n",
        "    model.add(Dense(len(CLASSES_LIST), activation='softmax'))\n",
        "\n",
        "    # Display the models summary.\n",
        "    model.summary(line_length = 125)\n",
        "    # Return the constructed 3D_CNN model.\n",
        "    return model"
      ]
    },
    {
      "cell_type": "code",
      "execution_count": 11,
      "metadata": {
        "colab": {
          "base_uri": "https://localhost:8080/"
        },
        "id": "Z4_GxXZBcHlB",
        "outputId": "f919a2a0-ccf5-4062-a1fa-98e46c59cd48"
      },
      "outputs": [
        {
          "output_type": "stream",
          "name": "stdout",
          "text": [
            "Model: \"sequential\"\n",
            "_____________________________________________________________________________________________________________________________\n",
            " Layer (type)                                           Output Shape                                      Param #            \n",
            "=============================================================================================================================\n",
            " conv3d (Conv3D)                                        (None, 14, 126, 126, 32)                          2624               \n",
            "                                                                                                                             \n",
            " batch_normalization (BatchNormalization)               (None, 14, 126, 126, 32)                          128                \n",
            "                                                                                                                             \n",
            " max_pooling3d (MaxPooling3D)                           (None, 7, 63, 63, 32)                             0                  \n",
            "                                                                                                                             \n",
            " dropout (Dropout)                                      (None, 7, 63, 63, 32)                             0                  \n",
            "                                                                                                                             \n",
            " conv3d_1 (Conv3D)                                      (None, 5, 61, 61, 32)                             27680              \n",
            "                                                                                                                             \n",
            " batch_normalization_1 (BatchNormalization)             (None, 5, 61, 61, 32)                             128                \n",
            "                                                                                                                             \n",
            " max_pooling3d_1 (MaxPooling3D)                         (None, 2, 30, 30, 32)                             0                  \n",
            "                                                                                                                             \n",
            " dropout_1 (Dropout)                                    (None, 2, 30, 30, 32)                             0                  \n",
            "                                                                                                                             \n",
            " global_average_pooling3d (GlobalAveragePooling3D)      (None, 32)                                        0                  \n",
            "                                                                                                                             \n",
            " dense (Dense)                                          (None, 32)                                        1056               \n",
            "                                                                                                                             \n",
            " dropout_2 (Dropout)                                    (None, 32)                                        0                  \n",
            "                                                                                                                             \n",
            " dense_1 (Dense)                                        (None, 16)                                        528                \n",
            "                                                                                                                             \n",
            " dropout_3 (Dropout)                                    (None, 16)                                        0                  \n",
            "                                                                                                                             \n",
            " dense_2 (Dense)                                        (None, 4)                                         68                 \n",
            "                                                                                                                             \n",
            "=============================================================================================================================\n",
            "Total params: 32,212\n",
            "Trainable params: 32,084\n",
            "Non-trainable params: 128\n",
            "_____________________________________________________________________________________________________________________________\n",
            "Model Created Successfully!\n"
          ]
        }
      ],
      "source": [
        "# Construct the required convlstm model.\n",
        "model = create_3D_CNN_model()\n",
        " \n",
        "# Display the success message. \n",
        "print(\"Model Created Successfully!\")"
      ]
    },
    {
      "cell_type": "code",
      "execution_count": 12,
      "metadata": {
        "colab": {
          "base_uri": "https://localhost:8080/"
        },
        "id": "MwYEkaYLoyb_",
        "outputId": "edc843f6-582f-45fa-8737-764d69190df2"
      },
      "outputs": [
        {
          "output_type": "stream",
          "name": "stdout",
          "text": [
            "Epoch 1/150\n",
            "34/34 [==============================] - 14s 333ms/step - loss: 2.3369 - accuracy: 0.3032 - val_loss: 1.7704 - val_accuracy: 0.1287\n",
            "Epoch 2/150\n",
            "34/34 [==============================] - 10s 299ms/step - loss: 1.4270 - accuracy: 0.3991 - val_loss: 1.4745 - val_accuracy: 0.2500\n",
            "Epoch 3/150\n",
            "34/34 [==============================] - 10s 296ms/step - loss: 1.2507 - accuracy: 0.4437 - val_loss: 1.3848 - val_accuracy: 0.4485\n",
            "Epoch 4/150\n",
            "34/34 [==============================] - 10s 296ms/step - loss: 1.1719 - accuracy: 0.4740 - val_loss: 1.3485 - val_accuracy: 0.5441\n",
            "Epoch 5/150\n",
            "34/34 [==============================] - 10s 298ms/step - loss: 1.1204 - accuracy: 0.4895 - val_loss: 1.3016 - val_accuracy: 0.5588\n",
            "Epoch 6/150\n",
            "34/34 [==============================] - 10s 298ms/step - loss: 1.0944 - accuracy: 0.4864 - val_loss: 1.2741 - val_accuracy: 0.5441\n",
            "Epoch 7/150\n",
            "34/34 [==============================] - 10s 297ms/step - loss: 1.0797 - accuracy: 0.5093 - val_loss: 1.2456 - val_accuracy: 0.5331\n",
            "Epoch 8/150\n",
            "34/34 [==============================] - 10s 295ms/step - loss: 1.0137 - accuracy: 0.5359 - val_loss: 1.1777 - val_accuracy: 0.5184\n",
            "Epoch 9/150\n",
            "34/34 [==============================] - 10s 297ms/step - loss: 0.9776 - accuracy: 0.5501 - val_loss: 1.0853 - val_accuracy: 0.5625\n",
            "Epoch 10/150\n",
            "34/34 [==============================] - 10s 297ms/step - loss: 0.9622 - accuracy: 0.5730 - val_loss: 1.1134 - val_accuracy: 0.4596\n",
            "Epoch 11/150\n",
            "34/34 [==============================] - 10s 297ms/step - loss: 0.9440 - accuracy: 0.5588 - val_loss: 1.0536 - val_accuracy: 0.5110\n",
            "Epoch 12/150\n",
            "34/34 [==============================] - 10s 297ms/step - loss: 0.9183 - accuracy: 0.5767 - val_loss: 1.0126 - val_accuracy: 0.5404\n",
            "Epoch 13/150\n",
            "34/34 [==============================] - 10s 299ms/step - loss: 0.8954 - accuracy: 0.5959 - val_loss: 0.9241 - val_accuracy: 0.6397\n",
            "Epoch 14/150\n",
            "34/34 [==============================] - 10s 296ms/step - loss: 0.8736 - accuracy: 0.6132 - val_loss: 0.9243 - val_accuracy: 0.6287\n",
            "Epoch 15/150\n",
            "34/34 [==============================] - 10s 298ms/step - loss: 0.8427 - accuracy: 0.6139 - val_loss: 0.8839 - val_accuracy: 0.6397\n",
            "Epoch 16/150\n",
            "34/34 [==============================] - 10s 298ms/step - loss: 0.8636 - accuracy: 0.6213 - val_loss: 0.8191 - val_accuracy: 0.6434\n",
            "Epoch 17/150\n",
            "34/34 [==============================] - 10s 298ms/step - loss: 0.8337 - accuracy: 0.6312 - val_loss: 0.8391 - val_accuracy: 0.6618\n",
            "Epoch 18/150\n",
            "34/34 [==============================] - 10s 297ms/step - loss: 0.8062 - accuracy: 0.6454 - val_loss: 0.8345 - val_accuracy: 0.6654\n",
            "Epoch 19/150\n",
            "34/34 [==============================] - 10s 296ms/step - loss: 0.8026 - accuracy: 0.6473 - val_loss: 0.7813 - val_accuracy: 0.6250\n",
            "Epoch 20/150\n",
            "34/34 [==============================] - 10s 296ms/step - loss: 0.7829 - accuracy: 0.6454 - val_loss: 0.7431 - val_accuracy: 0.6728\n",
            "Epoch 21/150\n",
            "34/34 [==============================] - 10s 297ms/step - loss: 0.7562 - accuracy: 0.6665 - val_loss: 0.7322 - val_accuracy: 0.6654\n",
            "Epoch 22/150\n",
            "34/34 [==============================] - 10s 298ms/step - loss: 0.7637 - accuracy: 0.6689 - val_loss: 0.7216 - val_accuracy: 0.6912\n",
            "Epoch 23/150\n",
            "34/34 [==============================] - 10s 298ms/step - loss: 0.7484 - accuracy: 0.6887 - val_loss: 0.7528 - val_accuracy: 0.6176\n",
            "Epoch 24/150\n",
            "34/34 [==============================] - 10s 296ms/step - loss: 0.7051 - accuracy: 0.6974 - val_loss: 0.7538 - val_accuracy: 0.6360\n",
            "Epoch 25/150\n",
            "34/34 [==============================] - 10s 297ms/step - loss: 0.7111 - accuracy: 0.6974 - val_loss: 0.7693 - val_accuracy: 0.5625\n",
            "Epoch 26/150\n",
            "34/34 [==============================] - 10s 297ms/step - loss: 0.7263 - accuracy: 0.6782 - val_loss: 0.8616 - val_accuracy: 0.5515\n",
            "Epoch 27/150\n",
            "34/34 [==============================] - 10s 296ms/step - loss: 0.7211 - accuracy: 0.6900 - val_loss: 0.6771 - val_accuracy: 0.6875\n",
            "Epoch 28/150\n",
            "34/34 [==============================] - 10s 296ms/step - loss: 0.6735 - accuracy: 0.7147 - val_loss: 0.7311 - val_accuracy: 0.6250\n",
            "Epoch 29/150\n",
            "34/34 [==============================] - 10s 298ms/step - loss: 0.7190 - accuracy: 0.6925 - val_loss: 0.8979 - val_accuracy: 0.5625\n",
            "Epoch 30/150\n",
            "34/34 [==============================] - 10s 299ms/step - loss: 0.6675 - accuracy: 0.7011 - val_loss: 0.6739 - val_accuracy: 0.6949\n",
            "Epoch 31/150\n",
            "34/34 [==============================] - 10s 298ms/step - loss: 0.6779 - accuracy: 0.7147 - val_loss: 0.8136 - val_accuracy: 0.5662\n",
            "Epoch 32/150\n",
            "34/34 [==============================] - 10s 297ms/step - loss: 0.6522 - accuracy: 0.7054 - val_loss: 0.9012 - val_accuracy: 0.5478\n",
            "Epoch 33/150\n",
            "34/34 [==============================] - 10s 297ms/step - loss: 0.6562 - accuracy: 0.7234 - val_loss: 0.6489 - val_accuracy: 0.6912\n",
            "Epoch 34/150\n",
            "34/34 [==============================] - 10s 299ms/step - loss: 0.6220 - accuracy: 0.7345 - val_loss: 0.6783 - val_accuracy: 0.7390\n",
            "Epoch 35/150\n",
            "34/34 [==============================] - 10s 296ms/step - loss: 0.6861 - accuracy: 0.6993 - val_loss: 0.6964 - val_accuracy: 0.7169\n",
            "Epoch 36/150\n",
            "34/34 [==============================] - 10s 297ms/step - loss: 0.6264 - accuracy: 0.7296 - val_loss: 0.7744 - val_accuracy: 0.6250\n",
            "Epoch 37/150\n",
            "34/34 [==============================] - 10s 298ms/step - loss: 0.6431 - accuracy: 0.7252 - val_loss: 0.6105 - val_accuracy: 0.7316\n",
            "Epoch 38/150\n",
            "34/34 [==============================] - 10s 297ms/step - loss: 0.6170 - accuracy: 0.7345 - val_loss: 0.6665 - val_accuracy: 0.6801\n",
            "Epoch 39/150\n",
            "34/34 [==============================] - 10s 297ms/step - loss: 0.6232 - accuracy: 0.7277 - val_loss: 0.6575 - val_accuracy: 0.7022\n",
            "Epoch 40/150\n",
            "34/34 [==============================] - 10s 296ms/step - loss: 0.6303 - accuracy: 0.7308 - val_loss: 0.6226 - val_accuracy: 0.7132\n",
            "Epoch 41/150\n",
            "34/34 [==============================] - 10s 298ms/step - loss: 0.5998 - accuracy: 0.7457 - val_loss: 0.6313 - val_accuracy: 0.7022\n",
            "Epoch 42/150\n",
            "34/34 [==============================] - 10s 299ms/step - loss: 0.5893 - accuracy: 0.7537 - val_loss: 0.6043 - val_accuracy: 0.7279\n",
            "Epoch 43/150\n",
            "34/34 [==============================] - 10s 298ms/step - loss: 0.6011 - accuracy: 0.7345 - val_loss: 0.6197 - val_accuracy: 0.7610\n",
            "Epoch 44/150\n",
            "34/34 [==============================] - 10s 299ms/step - loss: 0.5744 - accuracy: 0.7469 - val_loss: 0.6548 - val_accuracy: 0.7059\n",
            "Epoch 45/150\n",
            "34/34 [==============================] - 10s 296ms/step - loss: 0.5864 - accuracy: 0.7382 - val_loss: 0.6163 - val_accuracy: 0.7022\n",
            "Epoch 46/150\n",
            "34/34 [==============================] - 10s 296ms/step - loss: 0.5783 - accuracy: 0.7667 - val_loss: 0.5517 - val_accuracy: 0.7647\n",
            "Epoch 47/150\n",
            "34/34 [==============================] - 10s 299ms/step - loss: 0.5779 - accuracy: 0.7605 - val_loss: 0.6109 - val_accuracy: 0.7279\n",
            "Epoch 48/150\n",
            "34/34 [==============================] - 10s 297ms/step - loss: 0.5639 - accuracy: 0.7649 - val_loss: 0.7810 - val_accuracy: 0.6029\n",
            "Epoch 49/150\n",
            "34/34 [==============================] - 10s 299ms/step - loss: 0.5700 - accuracy: 0.7642 - val_loss: 0.5788 - val_accuracy: 0.7316\n",
            "Epoch 50/150\n",
            "34/34 [==============================] - 10s 297ms/step - loss: 0.5692 - accuracy: 0.7550 - val_loss: 0.6460 - val_accuracy: 0.7022\n",
            "Epoch 51/150\n",
            "34/34 [==============================] - 10s 298ms/step - loss: 0.5637 - accuracy: 0.7574 - val_loss: 0.6631 - val_accuracy: 0.6691\n",
            "Epoch 52/150\n",
            "34/34 [==============================] - 10s 298ms/step - loss: 0.5620 - accuracy: 0.7673 - val_loss: 0.8783 - val_accuracy: 0.6103\n",
            "Epoch 53/150\n",
            "34/34 [==============================] - 10s 296ms/step - loss: 0.5534 - accuracy: 0.7618 - val_loss: 1.2282 - val_accuracy: 0.5625\n",
            "Epoch 54/150\n",
            "34/34 [==============================] - 10s 297ms/step - loss: 0.5563 - accuracy: 0.7543 - val_loss: 0.7414 - val_accuracy: 0.6654\n",
            "Epoch 55/150\n",
            "34/34 [==============================] - 10s 300ms/step - loss: 0.5466 - accuracy: 0.7710 - val_loss: 0.5647 - val_accuracy: 0.7610\n",
            "Epoch 56/150\n",
            "34/34 [==============================] - 10s 297ms/step - loss: 0.5492 - accuracy: 0.7673 - val_loss: 0.5575 - val_accuracy: 0.7463\n",
            "Epoch 57/150\n",
            "34/34 [==============================] - 10s 297ms/step - loss: 0.5413 - accuracy: 0.7766 - val_loss: 0.6172 - val_accuracy: 0.7096\n",
            "Epoch 58/150\n",
            "34/34 [==============================] - 10s 297ms/step - loss: 0.5426 - accuracy: 0.7655 - val_loss: 0.5322 - val_accuracy: 0.7757\n",
            "Epoch 59/150\n",
            "34/34 [==============================] - 10s 297ms/step - loss: 0.5204 - accuracy: 0.7927 - val_loss: 0.8351 - val_accuracy: 0.6397\n",
            "Epoch 60/150\n",
            "34/34 [==============================] - 10s 297ms/step - loss: 0.5267 - accuracy: 0.7748 - val_loss: 0.7882 - val_accuracy: 0.6581\n",
            "Epoch 61/150\n",
            "34/34 [==============================] - 10s 299ms/step - loss: 0.4960 - accuracy: 0.7976 - val_loss: 0.8100 - val_accuracy: 0.6618\n",
            "Epoch 62/150\n",
            "34/34 [==============================] - 10s 297ms/step - loss: 0.5107 - accuracy: 0.7766 - val_loss: 0.4906 - val_accuracy: 0.7941\n",
            "Epoch 63/150\n",
            "34/34 [==============================] - 10s 297ms/step - loss: 0.5086 - accuracy: 0.7890 - val_loss: 0.5428 - val_accuracy: 0.7757\n",
            "Epoch 64/150\n",
            "34/34 [==============================] - 10s 298ms/step - loss: 0.4912 - accuracy: 0.7896 - val_loss: 0.9454 - val_accuracy: 0.6066\n",
            "Epoch 65/150\n",
            "34/34 [==============================] - 10s 297ms/step - loss: 0.5093 - accuracy: 0.7834 - val_loss: 0.6833 - val_accuracy: 0.6985\n",
            "Epoch 66/150\n",
            "34/34 [==============================] - 10s 298ms/step - loss: 0.5384 - accuracy: 0.7729 - val_loss: 0.7758 - val_accuracy: 0.6691\n",
            "Epoch 67/150\n",
            "34/34 [==============================] - 10s 297ms/step - loss: 0.5500 - accuracy: 0.7692 - val_loss: 0.7376 - val_accuracy: 0.6507\n",
            "Epoch 68/150\n",
            "34/34 [==============================] - 10s 298ms/step - loss: 0.4999 - accuracy: 0.7816 - val_loss: 0.5155 - val_accuracy: 0.7647\n",
            "Epoch 69/150\n",
            "34/34 [==============================] - 10s 300ms/step - loss: 0.4987 - accuracy: 0.7816 - val_loss: 0.5159 - val_accuracy: 0.8015\n",
            "Epoch 70/150\n",
            "34/34 [==============================] - 10s 300ms/step - loss: 0.5069 - accuracy: 0.7822 - val_loss: 0.6935 - val_accuracy: 0.6875\n",
            "Epoch 71/150\n",
            "34/34 [==============================] - 10s 297ms/step - loss: 0.4949 - accuracy: 0.7865 - val_loss: 0.6206 - val_accuracy: 0.7096\n",
            "Epoch 72/150\n",
            "34/34 [==============================] - 10s 297ms/step - loss: 0.4997 - accuracy: 0.7871 - val_loss: 0.6375 - val_accuracy: 0.6801\n",
            "Epoch 73/150\n",
            "34/34 [==============================] - 10s 298ms/step - loss: 0.4668 - accuracy: 0.8007 - val_loss: 0.6426 - val_accuracy: 0.7206\n",
            "Epoch 74/150\n",
            "34/34 [==============================] - 10s 295ms/step - loss: 0.4772 - accuracy: 0.7989 - val_loss: 0.4805 - val_accuracy: 0.8346\n",
            "Epoch 75/150\n",
            "34/34 [==============================] - 10s 298ms/step - loss: 0.4899 - accuracy: 0.7908 - val_loss: 0.6041 - val_accuracy: 0.7610\n",
            "Epoch 76/150\n",
            "34/34 [==============================] - 10s 296ms/step - loss: 0.4967 - accuracy: 0.7939 - val_loss: 0.4841 - val_accuracy: 0.8015\n",
            "Epoch 77/150\n",
            "34/34 [==============================] - 10s 298ms/step - loss: 0.4912 - accuracy: 0.7816 - val_loss: 0.8410 - val_accuracy: 0.6434\n",
            "Epoch 78/150\n",
            "34/34 [==============================] - 10s 297ms/step - loss: 0.4853 - accuracy: 0.7896 - val_loss: 0.5186 - val_accuracy: 0.7574\n",
            "Epoch 79/150\n",
            "34/34 [==============================] - 10s 297ms/step - loss: 0.4845 - accuracy: 0.7896 - val_loss: 0.5187 - val_accuracy: 0.7574\n",
            "Epoch 80/150\n",
            "34/34 [==============================] - 10s 296ms/step - loss: 0.4768 - accuracy: 0.7902 - val_loss: 0.6056 - val_accuracy: 0.7537\n",
            "Epoch 81/150\n",
            "34/34 [==============================] - 10s 297ms/step - loss: 0.4673 - accuracy: 0.7976 - val_loss: 0.5576 - val_accuracy: 0.7537\n",
            "Epoch 82/150\n",
            "34/34 [==============================] - 10s 297ms/step - loss: 0.4675 - accuracy: 0.8088 - val_loss: 0.4750 - val_accuracy: 0.8125\n",
            "Epoch 83/150\n",
            "34/34 [==============================] - 10s 296ms/step - loss: 0.4537 - accuracy: 0.8026 - val_loss: 0.5295 - val_accuracy: 0.7574\n",
            "Epoch 84/150\n",
            "34/34 [==============================] - 10s 298ms/step - loss: 0.4653 - accuracy: 0.7976 - val_loss: 0.6203 - val_accuracy: 0.7059\n",
            "Epoch 85/150\n",
            "34/34 [==============================] - 10s 297ms/step - loss: 0.4484 - accuracy: 0.8057 - val_loss: 0.7438 - val_accuracy: 0.6912\n",
            "Epoch 86/150\n",
            "34/34 [==============================] - 10s 297ms/step - loss: 0.4527 - accuracy: 0.8038 - val_loss: 0.6387 - val_accuracy: 0.7132\n",
            "Epoch 87/150\n",
            "34/34 [==============================] - 10s 299ms/step - loss: 0.4630 - accuracy: 0.7983 - val_loss: 0.5197 - val_accuracy: 0.7794\n",
            "Epoch 88/150\n",
            "34/34 [==============================] - 10s 297ms/step - loss: 0.4456 - accuracy: 0.8057 - val_loss: 0.5019 - val_accuracy: 0.8051\n",
            "Epoch 89/150\n",
            "34/34 [==============================] - 10s 301ms/step - loss: 0.4428 - accuracy: 0.8007 - val_loss: 0.5037 - val_accuracy: 0.7794\n",
            "Epoch 90/150\n",
            "34/34 [==============================] - 10s 296ms/step - loss: 0.4425 - accuracy: 0.8168 - val_loss: 0.6859 - val_accuracy: 0.7426\n",
            "Epoch 91/150\n",
            "34/34 [==============================] - 10s 300ms/step - loss: 0.4553 - accuracy: 0.8001 - val_loss: 0.8502 - val_accuracy: 0.6287\n",
            "Epoch 92/150\n",
            "34/34 [==============================] - 10s 297ms/step - loss: 0.4241 - accuracy: 0.8199 - val_loss: 0.5737 - val_accuracy: 0.7574\n",
            "Epoch 93/150\n",
            "34/34 [==============================] - 10s 297ms/step - loss: 0.4463 - accuracy: 0.8137 - val_loss: 0.6437 - val_accuracy: 0.7647\n",
            "Epoch 94/150\n",
            "34/34 [==============================] - 10s 296ms/step - loss: 0.4468 - accuracy: 0.8045 - val_loss: 0.5799 - val_accuracy: 0.7831\n",
            "Epoch 95/150\n",
            "34/34 [==============================] - 10s 298ms/step - loss: 0.4433 - accuracy: 0.8137 - val_loss: 0.6983 - val_accuracy: 0.7353\n",
            "Epoch 96/150\n",
            "34/34 [==============================] - 10s 298ms/step - loss: 0.4423 - accuracy: 0.8168 - val_loss: 0.7577 - val_accuracy: 0.7059\n",
            "Epoch 97/150\n",
            "34/34 [==============================] - 10s 299ms/step - loss: 0.4401 - accuracy: 0.8218 - val_loss: 0.5696 - val_accuracy: 0.7353\n",
            "Epoch 98/150\n",
            "34/34 [==============================] - 10s 297ms/step - loss: 0.4418 - accuracy: 0.8057 - val_loss: 0.4821 - val_accuracy: 0.7831\n",
            "Epoch 99/150\n",
            "34/34 [==============================] - 10s 298ms/step - loss: 0.4467 - accuracy: 0.8100 - val_loss: 0.5021 - val_accuracy: 0.7647\n",
            "Epoch 100/150\n",
            "34/34 [==============================] - 10s 298ms/step - loss: 0.4561 - accuracy: 0.8156 - val_loss: 0.5322 - val_accuracy: 0.7904\n",
            "Epoch 101/150\n",
            "34/34 [==============================] - 10s 296ms/step - loss: 0.4174 - accuracy: 0.8212 - val_loss: 0.5386 - val_accuracy: 0.7500\n",
            "Epoch 102/150\n",
            "34/34 [==============================] - 10s 299ms/step - loss: 0.4172 - accuracy: 0.8193 - val_loss: 0.7471 - val_accuracy: 0.6801\n",
            "Epoch 103/150\n",
            "34/34 [==============================] - 10s 297ms/step - loss: 0.4366 - accuracy: 0.8261 - val_loss: 0.5849 - val_accuracy: 0.7721\n",
            "Epoch 104/150\n",
            "34/34 [==============================] - 10s 297ms/step - loss: 0.4232 - accuracy: 0.8199 - val_loss: 0.5607 - val_accuracy: 0.7904\n",
            "Epoch 105/150\n",
            "34/34 [==============================] - 10s 298ms/step - loss: 0.4448 - accuracy: 0.8113 - val_loss: 0.6589 - val_accuracy: 0.7574\n",
            "Epoch 106/150\n",
            "34/34 [==============================] - 10s 297ms/step - loss: 0.4207 - accuracy: 0.8168 - val_loss: 0.7987 - val_accuracy: 0.6434\n",
            "Epoch 107/150\n",
            "34/34 [==============================] - 10s 297ms/step - loss: 0.4390 - accuracy: 0.8199 - val_loss: 0.8226 - val_accuracy: 0.6949\n",
            "Epoch 108/150\n",
            "34/34 [==============================] - 10s 297ms/step - loss: 0.4254 - accuracy: 0.8162 - val_loss: 0.9067 - val_accuracy: 0.6250\n",
            "Epoch 109/150\n",
            "34/34 [==============================] - 10s 298ms/step - loss: 0.4080 - accuracy: 0.8410 - val_loss: 0.6655 - val_accuracy: 0.7279\n",
            "Epoch 110/150\n",
            "34/34 [==============================] - 10s 297ms/step - loss: 0.4239 - accuracy: 0.8150 - val_loss: 0.6012 - val_accuracy: 0.7390\n",
            "Epoch 111/150\n",
            "34/34 [==============================] - 10s 299ms/step - loss: 0.4166 - accuracy: 0.8175 - val_loss: 0.4917 - val_accuracy: 0.8051\n",
            "Epoch 112/150\n",
            "34/34 [==============================] - 10s 297ms/step - loss: 0.3988 - accuracy: 0.8329 - val_loss: 0.8299 - val_accuracy: 0.6875\n",
            "Epoch 113/150\n",
            "34/34 [==============================] - 10s 296ms/step - loss: 0.3920 - accuracy: 0.8292 - val_loss: 0.5356 - val_accuracy: 0.7537\n",
            "Epoch 114/150\n",
            "34/34 [==============================] - 10s 297ms/step - loss: 0.4010 - accuracy: 0.8317 - val_loss: 0.6731 - val_accuracy: 0.7059\n",
            "Epoch 115/150\n",
            "34/34 [==============================] - 10s 298ms/step - loss: 0.4380 - accuracy: 0.8162 - val_loss: 2.1095 - val_accuracy: 0.5441\n",
            "Epoch 116/150\n",
            "34/34 [==============================] - 10s 298ms/step - loss: 0.3884 - accuracy: 0.8298 - val_loss: 0.9021 - val_accuracy: 0.6250\n",
            "Epoch 117/150\n",
            "34/34 [==============================] - 10s 297ms/step - loss: 0.3968 - accuracy: 0.8366 - val_loss: 0.5949 - val_accuracy: 0.7684\n",
            "Epoch 118/150\n",
            "34/34 [==============================] - 10s 298ms/step - loss: 0.3938 - accuracy: 0.8311 - val_loss: 0.5692 - val_accuracy: 0.7500\n",
            "Epoch 119/150\n",
            "34/34 [==============================] - 10s 297ms/step - loss: 0.4125 - accuracy: 0.8199 - val_loss: 0.5781 - val_accuracy: 0.7941\n",
            "Epoch 120/150\n",
            "34/34 [==============================] - 10s 297ms/step - loss: 0.4267 - accuracy: 0.8249 - val_loss: 1.0183 - val_accuracy: 0.6618\n",
            "Epoch 121/150\n",
            "34/34 [==============================] - 10s 296ms/step - loss: 0.4206 - accuracy: 0.8193 - val_loss: 1.1658 - val_accuracy: 0.6471\n",
            "Epoch 122/150\n",
            "34/34 [==============================] - 10s 298ms/step - loss: 0.3971 - accuracy: 0.8311 - val_loss: 0.5350 - val_accuracy: 0.7831\n",
            "Epoch 123/150\n",
            "34/34 [==============================] - 10s 298ms/step - loss: 0.3894 - accuracy: 0.8410 - val_loss: 0.7087 - val_accuracy: 0.7096\n",
            "Epoch 124/150\n",
            "34/34 [==============================] - 10s 297ms/step - loss: 0.3916 - accuracy: 0.8267 - val_loss: 0.5211 - val_accuracy: 0.7757\n",
            "Epoch 125/150\n",
            "34/34 [==============================] - 10s 299ms/step - loss: 0.3825 - accuracy: 0.8403 - val_loss: 0.6430 - val_accuracy: 0.7647\n",
            "Epoch 126/150\n",
            "34/34 [==============================] - 10s 295ms/step - loss: 0.3902 - accuracy: 0.8261 - val_loss: 0.5983 - val_accuracy: 0.7794\n",
            "Epoch 127/150\n",
            "34/34 [==============================] - 10s 296ms/step - loss: 0.3866 - accuracy: 0.8441 - val_loss: 0.7110 - val_accuracy: 0.7169\n",
            "Epoch 128/150\n",
            "34/34 [==============================] - 10s 297ms/step - loss: 0.4102 - accuracy: 0.8317 - val_loss: 0.5182 - val_accuracy: 0.8015\n",
            "Epoch 129/150\n",
            "34/34 [==============================] - 10s 297ms/step - loss: 0.3755 - accuracy: 0.8453 - val_loss: 0.7091 - val_accuracy: 0.7390\n",
            "Epoch 130/150\n",
            "34/34 [==============================] - 10s 296ms/step - loss: 0.4095 - accuracy: 0.8335 - val_loss: 0.8075 - val_accuracy: 0.7316\n",
            "Epoch 131/150\n",
            "34/34 [==============================] - 10s 298ms/step - loss: 0.4189 - accuracy: 0.8280 - val_loss: 0.7807 - val_accuracy: 0.7684\n",
            "Epoch 132/150\n",
            "34/34 [==============================] - 10s 298ms/step - loss: 0.3798 - accuracy: 0.8502 - val_loss: 0.6370 - val_accuracy: 0.7243\n",
            "Epoch 133/150\n",
            "34/34 [==============================] - 10s 297ms/step - loss: 0.3802 - accuracy: 0.8434 - val_loss: 0.6641 - val_accuracy: 0.7279\n",
            "Epoch 134/150\n",
            "34/34 [==============================] - 10s 298ms/step - loss: 0.3823 - accuracy: 0.8298 - val_loss: 0.6023 - val_accuracy: 0.7794\n",
            "Epoch 135/150\n",
            "34/34 [==============================] - 10s 297ms/step - loss: 0.3968 - accuracy: 0.8304 - val_loss: 0.6102 - val_accuracy: 0.7647\n",
            "Epoch 136/150\n",
            "34/34 [==============================] - 10s 296ms/step - loss: 0.3936 - accuracy: 0.8354 - val_loss: 0.5606 - val_accuracy: 0.7978\n",
            "Epoch 137/150\n",
            "34/34 [==============================] - 10s 299ms/step - loss: 0.3816 - accuracy: 0.8373 - val_loss: 0.5462 - val_accuracy: 0.7868\n",
            "Epoch 138/150\n",
            "34/34 [==============================] - 10s 297ms/step - loss: 0.3665 - accuracy: 0.8360 - val_loss: 1.2543 - val_accuracy: 0.5956\n",
            "Epoch 139/150\n",
            "34/34 [==============================] - 10s 297ms/step - loss: 0.3782 - accuracy: 0.8391 - val_loss: 0.8411 - val_accuracy: 0.6691\n",
            "Epoch 140/150\n",
            "34/34 [==============================] - 10s 297ms/step - loss: 0.3795 - accuracy: 0.8416 - val_loss: 0.7691 - val_accuracy: 0.6765\n",
            "Epoch 141/150\n",
            "34/34 [==============================] - 10s 298ms/step - loss: 0.3987 - accuracy: 0.8354 - val_loss: 0.5621 - val_accuracy: 0.7794\n",
            "Epoch 142/150\n",
            "34/34 [==============================] - 10s 295ms/step - loss: 0.3644 - accuracy: 0.8428 - val_loss: 0.6729 - val_accuracy: 0.7500\n",
            "Epoch 143/150\n",
            "34/34 [==============================] - 10s 297ms/step - loss: 0.3731 - accuracy: 0.8236 - val_loss: 0.6624 - val_accuracy: 0.7684\n",
            "Epoch 144/150\n",
            "34/34 [==============================] - 10s 296ms/step - loss: 0.3648 - accuracy: 0.8434 - val_loss: 0.7592 - val_accuracy: 0.7169\n",
            "Epoch 145/150\n",
            "34/34 [==============================] - 10s 296ms/step - loss: 0.3730 - accuracy: 0.8416 - val_loss: 0.8087 - val_accuracy: 0.6581\n",
            "Epoch 146/150\n",
            "34/34 [==============================] - 10s 296ms/step - loss: 0.3699 - accuracy: 0.8385 - val_loss: 0.5022 - val_accuracy: 0.7904\n",
            "Epoch 147/150\n",
            "34/34 [==============================] - 10s 297ms/step - loss: 0.3772 - accuracy: 0.8360 - val_loss: 0.5966 - val_accuracy: 0.7574\n",
            "Epoch 148/150\n",
            "34/34 [==============================] - 10s 297ms/step - loss: 0.3829 - accuracy: 0.8373 - val_loss: 0.7000 - val_accuracy: 0.7206\n",
            "Epoch 149/150\n",
            "34/34 [==============================] - 10s 297ms/step - loss: 0.3571 - accuracy: 0.8472 - val_loss: 0.6318 - val_accuracy: 0.7574\n",
            "Epoch 150/150\n",
            "34/34 [==============================] - 10s 297ms/step - loss: 0.3606 - accuracy: 0.8521 - val_loss: 0.8604 - val_accuracy: 0.7059\n"
          ]
        }
      ],
      "source": [
        "# Create an Instance of Early Stopping Callback\n",
        "early_stopping_callback = keras.callbacks.EarlyStopping(monitor = 'val_loss',\n",
        "                                                        patience = 20,\n",
        "                                                        mode = 'min',\n",
        "                                                        restore_best_weights = True)\n",
        "# Compile the model and specify loss function, optimizer and metrics values to the model\n",
        "model.compile(loss = 'categorical_crossentropy',\n",
        "              optimizer= keras.optimizers.Adam(0.001, decay=1e-4),\n",
        "              metrics=['accuracy'])\n",
        "# Start training the model.\n",
        "cnn_3d_model_training_history = model.fit(x = features_train,\n",
        "                                          y = labels_train,\n",
        "                                          epochs=150,\n",
        "                                          batch_size=48,\n",
        "                                          shuffle = True,\n",
        "                                          validation_data = (features_valid, labels_valid)),\n",
        "                                          # callbacks = [early_stopping_callback])"
      ]
    },
    {
      "cell_type": "code",
      "execution_count": 13,
      "metadata": {
        "colab": {
          "base_uri": "https://localhost:8080/"
        },
        "id": "3vimsgjjbXvL",
        "outputId": "86e6e5eb-ea8f-47e8-fb5b-0cf6ef810ceb"
      },
      "outputs": [
        {
          "output_type": "stream",
          "name": "stdout",
          "text": [
            "9/9 [==============================] - 1s 78ms/step - loss: 1.2271 - accuracy: 0.6066\n",
            "\n",
            "\n",
            "Train accuracy: 90.718 % || Test accuracy: 60.662 % || Val accuracy: 70.588 %\n",
            "Train loss: 0.267 || Test loss: 1.227 || Val loss: 0.860\n"
          ]
        }
      ],
      "source": [
        "model_evaluation_history = model.evaluate(features_test, labels_test)\n",
        "print('\\n')\n",
        "train_loss, train_acc = model.evaluate(features_train, labels_train, verbose=0)\n",
        "test_loss, test_acc = model.evaluate(features_test, labels_test, verbose=0)\n",
        "val_loss, val_acc = model.evaluate(features_valid, labels_valid, verbose=0)\n",
        "print(f'Train accuracy: {train_acc*100:.3f} % || Test accuracy: {test_acc*100:.3f} % || Val accuracy: {val_acc*100:.3f} %')\n",
        "print(f'Train loss: {train_loss:.3f} || Test loss: {test_loss:.3f} || Val loss: {val_loss:.3f}')"
      ]
    },
    {
      "cell_type": "code",
      "execution_count": 14,
      "metadata": {
        "id": "ivmaK9BlbnRQ"
      },
      "outputs": [],
      "source": [
        "# Get the loss and accuracy from model_evaluation_history.\n",
        "model_evaluation_loss, model_evaluation_accuracy = model_evaluation_history\n",
        " \n",
        "# Define the string date format.\n",
        "# Get the current Date and Time in a DateTime Object.\n",
        "# Convert the DateTime object to string according to the style mentioned in date_time_format string.\n",
        "date_time_format = '%Y_%m_%d__%H_%M_%S'\n",
        "current_date_time_dt = dt.datetime.now()\n",
        "current_date_time_string = dt.datetime.strftime(current_date_time_dt, date_time_format)\n",
        " \n",
        "# Define a useful name for our model to make it easy for us while navigating through multiple saved models.\n",
        "model_file_name = f'3D_CNN_model___Date_Time_{current_date_time_string}___Loss_{model_evaluation_loss}___Accuracy_{model_evaluation_accuracy}.h5'\n",
        " \n",
        "# Change dir\n",
        "gdrive_path = '/content/gdrive' + '/My Drive/247/Saved_models/'\n",
        "os.chdir(gdrive_path)\n",
        "# Create a floder for the model files\n",
        "!mkdir -p cnn_3d_{current_date_time_string}\n",
        "# Save your Model.\n",
        "model.save('3D_CNN' + str(current_date_time_string) + '/' + model_file_name)\n",
        "# Save model weights\n",
        "model.save_weights('3D_CNN' + str(current_date_time_string) + '/' + 'weights')"
      ]
    },
    {
      "cell_type": "code",
      "execution_count": 15,
      "metadata": {
        "id": "OwU8TwPrbsKB"
      },
      "outputs": [],
      "source": [
        "def plot_metric(model_training_history, metric_name_1, metric_name_2, plot_name):\n",
        "    '''\n",
        "    This function will plot the metrics passed to it in a graph.\n",
        "    Args:\n",
        "        model_training_history: A history object containing a record of training and validation \n",
        "                                loss values and metrics values at successive epochs\n",
        "        metric_name_1:          The name of the first metric that needs to be plotted in the graph.\n",
        "        metric_name_2:          The name of the second metric that needs to be plotted in the graph.\n",
        "        plot_name:              The title of the graph.\n",
        "    '''\n",
        "    \n",
        "    # Get metric values using metric names as identifiers.\n",
        "    metric_value_1 = model_training_history[0].history[metric_name_1]\n",
        "    metric_value_2 = model_training_history[0].history[metric_name_2]\n",
        "    \n",
        "    # Construct a range object which will be used as x-axis (horizontal plane) of the graph.\n",
        "    epochs = range(len(metric_value_1))\n",
        "\n",
        "    # Plot the Graph.\n",
        "    plt.plot(epochs, metric_value_1, 'blue', label = metric_name_1)\n",
        "    plt.plot(epochs, metric_value_2, 'red', label = metric_name_2)\n",
        "\n",
        "    # Add title to the plot.\n",
        "    plt.title(str(plot_name))\n",
        "\n",
        "    # Add legend to the plot.\n",
        "    plt.legend()"
      ]
    },
    {
      "cell_type": "code",
      "execution_count": 16,
      "metadata": {
        "colab": {
          "base_uri": "https://localhost:8080/",
          "height": 281
        },
        "id": "cvKY05ncbwof",
        "outputId": "97a088e2-12f8-42e5-c920-5102ebac44d8"
      },
      "outputs": [
        {
          "output_type": "display_data",
          "data": {
            "text/plain": [
              "<Figure size 432x288 with 1 Axes>"
            ],
            "image/png": "[encoded data removed]"
          },
          "metadata": {
            "needs_background": "light"
          }
        }
      ],
      "source": [
        "plot_metric(cnn_3d_model_training_history, 'loss', 'val_loss', 'Total Loss vs Total Validation Loss')"
      ]
    },
    {
      "cell_type": "code",
      "execution_count": 17,
      "metadata": {
        "colab": {
          "base_uri": "https://localhost:8080/",
          "height": 281
        },
        "id": "o1iaaDHBb5i0",
        "outputId": "d072b329-03d4-4720-d353-7c56e2df8c61"
      },
      "outputs": [
        {
          "output_type": "display_data",
          "data": {
            "text/plain": [
              "<Figure size 432x288 with 1 Axes>"
            ],
            "image/png": "[encoded data removed]"
          },
          "metadata": {
            "needs_background": "light"
          }
        }
      ],
      "source": [
        "plot_metric(cnn_3d_model_training_history, 'accuracy', 'val_accuracy', 'Total Accuracy vs Total Validation Accuracy') "
      ]
    }
  ],
  "metadata": {
    "accelerator": "GPU",
    "colab": {
      "collapsed_sections": [],
      "machine_shape": "hm",
      "name": "3D_CNN.ipynb",
      "provenance": [],
      "authorship_tag": "ABX9TyOyIN1ZAuMbp3Q957Buo8oS",
      "include_colab_link": true
    },
    "kernelspec": {
      "display_name": "Python 3",
      "name": "python3"
    },
    "language_info": {
      "name": "python"
    }
  },
  "nbformat": 4,
  "nbformat_minor": 0
}