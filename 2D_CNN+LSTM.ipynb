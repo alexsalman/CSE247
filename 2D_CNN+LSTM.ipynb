{
  "cells": [
    {
      "cell_type": "markdown",
      "metadata": {
        "id": "view-in-github",
        "colab_type": "text"
      },
      "source": [
        "<a href=\"https://colab.research.google.com/github/alexsalman/CSE247/blob/main/2D_CNN%2BLSTM.ipynb\" target=\"_parent\"><img src=\"https://colab.research.google.com/assets/colab-badge.svg\" alt=\"Open In Colab\"/></a>"
      ]
    },
    {
      "cell_type": "markdown",
      "metadata": {
        "id": "Fk8TLrPiv-ab"
      },
      "source": [
        "####**Convolutional Neural Network + Long Short Term Memory**\n",
        "######*I am using a Convolution Neural Network (CNN) + Long Short Term Memory (LSTM) Network to extract general representation while utilizing the Spatial-temporal aspect of the videos.*"
      ]
    },
    {
      "cell_type": "code",
      "execution_count": 1,
      "metadata": {
        "colab": {
          "base_uri": "https://localhost:8080/"
        },
        "id": "M8ibtd5HKtZk",
        "outputId": "8f18a074-8437-4673-b394-c014bb244479"
      },
      "outputs": [
        {
          "output_type": "stream",
          "name": "stdout",
          "text": [
            "2.8.0\n"
          ]
        }
      ],
      "source": [
        "# required libraries\n",
        "import os\n",
        "import cv2\n",
        "import math\n",
        "import random\n",
        "import numpy as np\n",
        "import datetime as dt\n",
        "from collections import deque\n",
        "import matplotlib.pyplot as plt\n",
        "from google.colab import drive\n",
        "from sklearn.model_selection import train_test_split\n",
        "import tensorflow as tf\n",
        "from tensorflow import keras\n",
        "from keras.models import Sequential\n",
        "from keras.layers import Dense, Flatten, Conv3D, MaxPooling3D, Dropout, BatchNormalization, ConvLSTM2D\n",
        "from keras.layers import Reshape, Conv2D, TimeDistributed, MaxPooling2D, Activation, GlobalAveragePooling2D\n",
        "from keras.layers.recurrent import LSTM\n",
        "from keras import regularizers\n",
        "from PIL import Image\n",
        "%matplotlib inline\n",
        "print(tf.version.VERSION)\n",
        "# https://bleedai.com/human-activity-recognition-using-tensorflow-cnn-lstm/"
      ]
    },
    {
      "cell_type": "code",
      "execution_count": 2,
      "metadata": {
        "id": "iffdFOf1CEAN"
      },
      "outputs": [],
      "source": [
        "# set Numpy, Python, and Tensorflow seeds to get consistent results on every execution\n",
        "seed_constant = 27\n",
        "np.random.seed(seed_constant)\n",
        "random.seed(seed_constant)\n",
        "tf.random.set_seed(seed_constant)"
      ]
    },
    {
      "cell_type": "code",
      "execution_count": 3,
      "metadata": {
        "colab": {
          "base_uri": "https://localhost:8080/",
          "height": 53
        },
        "id": "mcLh22LiOHyn",
        "outputId": "87072bc2-91f1-4365-d551-aed0b8d6e320"
      },
      "outputs": [
        {
          "output_type": "stream",
          "name": "stdout",
          "text": [
            "Mounted at /content/gdrive/\n"
          ]
        },
        {
          "output_type": "execute_result",
          "data": {
            "text/plain": [
              "'/content/gdrive/My Drive/247'"
            ],
            "application/vnd.google.colaboratory.intrinsic+json": {
              "type": "string"
            }
          },
          "metadata": {},
          "execution_count": 3
        }
      ],
      "source": [
        "# mount dataset from google drive\n",
        "drive.mount('/content/gdrive/', force_remount=True)\n",
        "gdrive_path = '/content/gdrive' + '/My Drive/247/'\n",
        "os.chdir(gdrive_path)\n",
        "os.getcwd()"
      ]
    },
    {
      "cell_type": "code",
      "execution_count": 4,
      "metadata": {
        "id": "oeDK8SzumZ1Q"
      },
      "outputs": [],
      "source": [
        "# frame dimention\n",
        "IMAGE_HEIGHT, IMAGE_WIDTH = 128, 128\n",
        "# frame number for each video (depth)\n",
        "SEQUENCE_LENGTH = 16\n",
        "# video dir path\n",
        "DATASET_DIR = gdrive_path + 'Cropped_videos'\n",
        "# labels of classes\n",
        "CLASSES_LIST = ['hemostasis', 'inflammatory', 'proliferative', 'maturation']"
      ]
    },
    {
      "cell_type": "code",
      "execution_count": 5,
      "metadata": {
        "id": "3mFB5qD6b3Kd"
      },
      "outputs": [],
      "source": [
        "# image cropping\n",
        "def crop_center_square(frame):\n",
        "    y, x = frame.shape[0:2]\n",
        "    min_dim = min(y, x)\n",
        "    start_x = (x // 2) - (min_dim // 2)\n",
        "    start_y = (y // 2) - (min_dim // 2)\n",
        "    return frame[start_y:start_y+min_dim,start_x:start_x+min_dim]"
      ]
    },
    {
      "cell_type": "code",
      "execution_count": 6,
      "metadata": {
        "id": "sqeexMUjaLzJ"
      },
      "outputs": [],
      "source": [
        "# https://medium.com/analytics-vidhya/video-preprocessor-and-augmentation-for-deep-learning-tasks-12dd3fcce868\n",
        "def load_video(path, resize=(128, 128)):\n",
        "    video_reader = cv2.VideoCapture(path)\n",
        "    frames = []\n",
        "    try:\n",
        "        while True:\n",
        "            ret, frame = video_reader.read()\n",
        "            if not ret:\n",
        "                  break\n",
        "            frame = crop_center_square(frame)\n",
        "            frame = cv2.resize(frame, resize)\n",
        "            frame = frame[:, :, [2, 1, 0]]\n",
        "            frames.append(frame)\n",
        "    finally:\n",
        "        video_reader.release()\n",
        "    return np.array(frames) / 255.0"
      ]
    },
    {
      "cell_type": "code",
      "execution_count": 7,
      "metadata": {
        "id": "ljUWHW6Jqzu-"
      },
      "outputs": [],
      "source": [
        "def create_dataset(state):\n",
        "    # Declared Empty Lists to store the features, labels and video file path values.\n",
        "    features = []\n",
        "    labels = []\n",
        "    video_files_paths = []\n",
        "    # Iterating through all the classes mentioned in the classes list\n",
        "    for class_index, class_name in enumerate(CLASSES_LIST):\n",
        "        # Display the name of the class whose data is being extracted.\n",
        "        print(f'Extracting Data of Class: {class_name} {state}')\n",
        "        # Get the list of video files present in the specific class name directory.\n",
        "        files_list = os.listdir(os.path.join(DATASET_DIR, class_name))\n",
        "        # Iterate through all the files present in the files list.\n",
        "        for file_name in files_list:\n",
        "            # Get the complete video path.\n",
        "            video_file_path = os.path.join(DATASET_DIR, class_name, file_name)\n",
        "            # create testing data\n",
        "            if state == 'test':\n",
        "                # get the mouse number\n",
        "                mouse_number = int(video_file_path.split(' ')[2].split('_')[1].split('-')[1])\n",
        "                # get the mouse side (L or R)\n",
        "                mouse_side = video_file_path.split(' ')[2].split('_')[1].split('-')[2]\n",
        "                if mouse_number == 4 and mouse_side == 'L':\n",
        "                    frames = load_video(video_file_path)\n",
        "                    features.append(frames)\n",
        "                    labels.append(class_index)\n",
        "                    video_files_paths.append(video_file_path)\n",
        "            # create validation data\n",
        "            elif state == 'valid':\n",
        "                # get the mouse number\n",
        "                mouse_number = int(video_file_path.split(' ')[2].split('_')[1].split('-')[1])\n",
        "                # get the mouse side (L or R)\n",
        "                mouse_side = video_file_path.split(' ')[2].split('_')[1].split('-')[2]\n",
        "                if mouse_number == 4 and mouse_side == 'R':\n",
        "                    frames = load_video(video_file_path)\n",
        "                    features.append(frames)\n",
        "                    labels.append(class_index)\n",
        "                    video_files_paths.append(video_file_path)\n",
        "            # create training data\n",
        "            else:\n",
        "                # get the mouse number\n",
        "                mouse_number = int(video_file_path.split(' ')[2].split('_')[1].split('-')[1])\n",
        "                if mouse_number != 4:\n",
        "                    frames = load_video(video_file_path)\n",
        "                    features.append(frames)\n",
        "                    labels.append(class_index)\n",
        "                    video_files_paths.append(video_file_path)\n",
        "    # Converting the list to numpy arrays\n",
        "    features = np.asarray(features)\n",
        "    # print(features)\n",
        "    labels = np.array(labels)\n",
        "    # Return the frames, class index, and video file path.\n",
        "    return features, labels, video_files_paths"
      ]
    },
    {
      "cell_type": "code",
      "execution_count": 8,
      "metadata": {
        "colab": {
          "base_uri": "https://localhost:8080/"
        },
        "id": "a8rpanz9rASe",
        "outputId": "c16f09ee-32d8-48a8-a00c-8c42f41068e4"
      },
      "outputs": [
        {
          "output_type": "stream",
          "name": "stdout",
          "text": [
            "Extracting Data of Class: hemostasis train\n",
            "Extracting Data of Class: inflammatory train\n",
            "Extracting Data of Class: proliferative train\n",
            "Extracting Data of Class: maturation train\n",
            "Extracting Data of Class: hemostasis test\n",
            "Extracting Data of Class: inflammatory test\n",
            "Extracting Data of Class: proliferative test\n",
            "Extracting Data of Class: maturation test\n",
            "Extracting Data of Class: hemostasis valid\n",
            "Extracting Data of Class: inflammatory valid\n",
            "Extracting Data of Class: proliferative valid\n",
            "Extracting Data of Class: maturation valid\n"
          ]
        }
      ],
      "source": [
        "# 6 mice for training, 2 mice for test and validation (one wound on each mice for test one for validation)\n",
        "features_train, labels_train, video_files_paths_train = create_dataset('train')\n",
        "features_test, labels_test, video_files_paths_test = create_dataset('test')\n",
        "features_valid, labels_valid, video_files_paths_valid = create_dataset('valid')"
      ]
    },
    {
      "cell_type": "code",
      "execution_count": 9,
      "metadata": {
        "id": "dtJkK4qTAulC"
      },
      "outputs": [],
      "source": [
        "# one_hot_encoded_labels\n",
        "labels_train = keras.utils.to_categorical(labels_train)\n",
        "labels_test = keras.utils.to_categorical(labels_test)\n",
        "labels_valid = keras.utils.to_categorical(labels_valid)"
      ]
    },
    {
      "cell_type": "code",
      "execution_count": 10,
      "metadata": {
        "id": "Bi-NDol3DHRV"
      },
      "outputs": [],
      "source": [
        "def create_convlstm_model():\n",
        "    # TimeDistributed is a wrapper to handle input of size five to maintain frames number for LSTM\n",
        "    # A Conv2D layer requires four dimensions: (batch_size, height, width, channels)\n",
        "    # TimeDistributed will require an additional dimension: (batch_size, frames, height, width, channels)\n",
        "\n",
        "    model = Sequential()\n",
        "\n",
        "    model.add(TimeDistributed(Conv2D(16, (3,3), activation='relu',\n",
        "                                     kernel_regularizer=regularizers.L2(l2=1e-4)),\n",
        "                              input_shape=(16, 128, 128, 3)))\n",
        "    # model.add(TimeDistributed(BatchNormalization()))\n",
        "    model.add(TimeDistributed(MaxPooling2D((2,2), strides=(2,2))))\n",
        "    model.add(Dropout(0.55))\n",
        "\n",
        "    model.add(TimeDistributed(Conv2D(32, (3,3), activation='relu',\n",
        "                                     kernel_regularizer=regularizers.L2(l2=1e-4))))\n",
        "    # model.add(TimeDistributed(BatchNormalization()))\n",
        "    model.add(TimeDistributed(MaxPooling2D((2,2), strides=(2,2))))\n",
        "    model.add(Dropout(0.55))\n",
        "\n",
        "    model.add(TimeDistributed(Conv2D(32, (3,3), activation='relu',\n",
        "                                     kernel_regularizer=regularizers.L2(l2=1e-4))))\n",
        "    # model.add(TimeDistributed(BatchNormalization()))\n",
        "    model.add(TimeDistributed(MaxPooling2D((2,2), strides=(2,2))))\n",
        "    model.add(Dropout(0.55))\n",
        "  \n",
        "    # model.add(TimeDistributed(GlobalAveragePooling2D()))\n",
        "    # Another approach of using model.add(TimeDistributed(Flatten())) instead of the reshape.\n",
        "    model.add(TimeDistributed(Flatten()))\n",
        "    \n",
        "    model.add(LSTM(4, activation='relu', return_sequences=False))\n",
        "    model.add(Dropout(0.55))\n",
        "    model.add(Dense(32, activation='relu', kernel_initializer='he_uniform',\n",
        "                    kernel_regularizer=regularizers.L2(l2=1e-4)))\n",
        "    model.add(Dropout(0.6))\n",
        "    model.add(Dense(8, activation='relu', kernel_initializer='he_uniform'))\n",
        "    # model.add(Dense(16, activation='relu'))\n",
        "    # model.add(Dropout(0.3))\n",
        "    # model.add(Dense(8, activation='relu'))\n",
        "    # model.add(Dropout(0.3))\n",
        "    # model.add(Dense(4, activation='relu'))\n",
        "    # model.add(Dropout(0.3))\n",
        "    model.add(Dense(len(CLASSES_LIST), activation='softmax'))\n",
        "    model.summary(line_length = 100)\n",
        "    return model"
      ]
    },
    {
      "cell_type": "code",
      "execution_count": 11,
      "metadata": {
        "colab": {
          "base_uri": "https://localhost:8080/"
        },
        "id": "FbjNYI-0DY_v",
        "outputId": "9ad0b811-bc9f-4fed-f594-2386c4016693"
      },
      "outputs": [
        {
          "output_type": "stream",
          "name": "stdout",
          "text": [
            "Model: \"sequential\"\n",
            "____________________________________________________________________________________________________\n",
            " Layer (type)                                Output Shape                            Param #        \n",
            "====================================================================================================\n",
            " time_distributed (TimeDistributed)          (None, 16, 126, 126, 16)                448            \n",
            "                                                                                                    \n",
            " time_distributed_1 (TimeDistributed)        (None, 16, 63, 63, 16)                  0              \n",
            "                                                                                                    \n",
            " dropout (Dropout)                           (None, 16, 63, 63, 16)                  0              \n",
            "                                                                                                    \n",
            " time_distributed_2 (TimeDistributed)        (None, 16, 61, 61, 32)                  4640           \n",
            "                                                                                                    \n",
            " time_distributed_3 (TimeDistributed)        (None, 16, 30, 30, 32)                  0              \n",
            "                                                                                                    \n",
            " dropout_1 (Dropout)                         (None, 16, 30, 30, 32)                  0              \n",
            "                                                                                                    \n",
            " time_distributed_4 (TimeDistributed)        (None, 16, 28, 28, 32)                  9248           \n",
            "                                                                                                    \n",
            " time_distributed_5 (TimeDistributed)        (None, 16, 14, 14, 32)                  0              \n",
            "                                                                                                    \n",
            " dropout_2 (Dropout)                         (None, 16, 14, 14, 32)                  0              \n",
            "                                                                                                    \n",
            " time_distributed_6 (TimeDistributed)        (None, 16, 6272)                        0              \n",
            "                                                                                                    \n",
            " lstm (LSTM)                                 (None, 4)                               100432         \n",
            "                                                                                                    \n",
            " dropout_3 (Dropout)                         (None, 4)                               0              \n",
            "                                                                                                    \n",
            " dense (Dense)                               (None, 32)                              160            \n",
            "                                                                                                    \n",
            " dropout_4 (Dropout)                         (None, 32)                              0              \n",
            "                                                                                                    \n",
            " dense_1 (Dense)                             (None, 8)                               264            \n",
            "                                                                                                    \n",
            " dense_2 (Dense)                             (None, 4)                               36             \n",
            "                                                                                                    \n",
            "====================================================================================================\n",
            "Total params: 115,228\n",
            "Trainable params: 115,228\n",
            "Non-trainable params: 0\n",
            "____________________________________________________________________________________________________\n",
            "Model Created Successfully!\n"
          ]
        }
      ],
      "source": [
        "# Construct the required convlstm model.\n",
        "convlstm_model = create_convlstm_model()\n",
        " \n",
        "# Display the success message. \n",
        "print(\"Model Created Successfully!\")"
      ]
    },
    {
      "cell_type": "code",
      "execution_count": 12,
      "metadata": {
        "id": "SCB3R7so-wHz"
      },
      "outputs": [],
      "source": [
        "# keras.utils.plot_model(convlstm_model, to_file = 'convlstm_model_structure_plot.png', show_shapes = True, show_layer_names = True)"
      ]
    },
    {
      "cell_type": "code",
      "execution_count": 13,
      "metadata": {
        "id": "nMYwQOwyF3bd"
      },
      "outputs": [],
      "source": [
        "# keras.utils.plot_model(convlstm_model,\n",
        "#                          to_file = 'convlstm_model_structure_plot.png',\n",
        "#                          show_shapes = True,\n",
        "#                          show_layer_names = True)"
      ]
    },
    {
      "cell_type": "code",
      "execution_count": 14,
      "metadata": {
        "colab": {
          "base_uri": "https://localhost:8080/"
        },
        "id": "vYC_6H0uGqW9",
        "outputId": "481de21d-e178-4aaf-9782-24fedd2ab81d"
      },
      "outputs": [
        {
          "output_type": "stream",
          "name": "stdout",
          "text": [
            "Epoch 1/100\n",
            "101/101 [==============================] - 12s 82ms/step - loss: 1.5102 - accuracy: 0.3670 - val_loss: 1.2832 - val_accuracy: 0.4816\n",
            "Epoch 2/100\n",
            "101/101 [==============================] - 7s 70ms/step - loss: 1.2295 - accuracy: 0.4356 - val_loss: 1.2165 - val_accuracy: 0.4816\n",
            "Epoch 3/100\n",
            "101/101 [==============================] - 7s 70ms/step - loss: 1.1784 - accuracy: 0.4437 - val_loss: 1.1851 - val_accuracy: 0.4816\n",
            "Epoch 4/100\n",
            "101/101 [==============================] - 7s 69ms/step - loss: 1.1594 - accuracy: 0.4462 - val_loss: 1.1711 - val_accuracy: 0.4816\n",
            "Epoch 5/100\n",
            "101/101 [==============================] - 7s 71ms/step - loss: 1.1410 - accuracy: 0.4511 - val_loss: 1.1453 - val_accuracy: 0.4816\n",
            "Epoch 6/100\n",
            "101/101 [==============================] - 7s 70ms/step - loss: 1.1241 - accuracy: 0.4604 - val_loss: 1.1019 - val_accuracy: 0.4816\n",
            "Epoch 7/100\n",
            "101/101 [==============================] - 7s 70ms/step - loss: 1.1165 - accuracy: 0.4647 - val_loss: 1.1699 - val_accuracy: 0.4816\n",
            "Epoch 8/100\n",
            "101/101 [==============================] - 7s 70ms/step - loss: 1.0805 - accuracy: 0.5056 - val_loss: 1.0555 - val_accuracy: 0.5919\n",
            "Epoch 9/100\n",
            "101/101 [==============================] - 7s 70ms/step - loss: 1.0536 - accuracy: 0.5155 - val_loss: 1.1069 - val_accuracy: 0.5331\n",
            "Epoch 10/100\n",
            "101/101 [==============================] - 7s 69ms/step - loss: 1.0399 - accuracy: 0.5538 - val_loss: 1.0904 - val_accuracy: 0.5331\n",
            "Epoch 11/100\n",
            "101/101 [==============================] - 7s 70ms/step - loss: 1.0522 - accuracy: 0.5495 - val_loss: 1.1606 - val_accuracy: 0.4816\n",
            "Epoch 12/100\n",
            "101/101 [==============================] - 7s 70ms/step - loss: 1.0116 - accuracy: 0.5903 - val_loss: 1.0912 - val_accuracy: 0.5772\n",
            "Epoch 13/100\n",
            "101/101 [==============================] - 7s 70ms/step - loss: 0.9656 - accuracy: 0.6163 - val_loss: 0.7677 - val_accuracy: 0.8235\n",
            "Epoch 14/100\n",
            "101/101 [==============================] - 7s 70ms/step - loss: 0.8985 - accuracy: 0.6498 - val_loss: 0.7959 - val_accuracy: 0.8088\n",
            "Epoch 15/100\n",
            "101/101 [==============================] - 7s 70ms/step - loss: 0.9008 - accuracy: 0.6522 - val_loss: 0.8402 - val_accuracy: 0.7022\n",
            "Epoch 16/100\n",
            "101/101 [==============================] - 7s 69ms/step - loss: 0.9051 - accuracy: 0.6498 - val_loss: 0.7262 - val_accuracy: 0.8199\n",
            "Epoch 17/100\n",
            "101/101 [==============================] - 7s 69ms/step - loss: 0.8956 - accuracy: 0.6473 - val_loss: 0.9429 - val_accuracy: 0.6397\n",
            "Epoch 18/100\n",
            "101/101 [==============================] - 7s 69ms/step - loss: 0.8663 - accuracy: 0.6559 - val_loss: 0.7855 - val_accuracy: 0.7353\n",
            "Epoch 19/100\n",
            "101/101 [==============================] - 7s 69ms/step - loss: 0.8641 - accuracy: 0.6640 - val_loss: 0.7943 - val_accuracy: 0.7022\n",
            "Epoch 20/100\n",
            "101/101 [==============================] - 7s 70ms/step - loss: 0.8865 - accuracy: 0.6479 - val_loss: 0.8155 - val_accuracy: 0.7022\n",
            "Epoch 21/100\n",
            "101/101 [==============================] - 7s 69ms/step - loss: 0.8606 - accuracy: 0.6665 - val_loss: 0.8993 - val_accuracy: 0.6912\n",
            "Epoch 22/100\n",
            "101/101 [==============================] - 7s 70ms/step - loss: 0.8356 - accuracy: 0.6795 - val_loss: 0.7916 - val_accuracy: 0.7022\n",
            "Epoch 23/100\n",
            "101/101 [==============================] - 7s 69ms/step - loss: 0.8216 - accuracy: 0.6850 - val_loss: 0.6373 - val_accuracy: 0.8199\n",
            "Epoch 24/100\n",
            "101/101 [==============================] - 7s 69ms/step - loss: 0.8688 - accuracy: 0.6683 - val_loss: 0.6472 - val_accuracy: 0.8199\n",
            "Epoch 25/100\n",
            "101/101 [==============================] - 7s 70ms/step - loss: 0.8608 - accuracy: 0.6683 - val_loss: 0.6642 - val_accuracy: 0.8162\n",
            "Epoch 26/100\n",
            "101/101 [==============================] - 7s 69ms/step - loss: 0.8287 - accuracy: 0.6714 - val_loss: 0.6763 - val_accuracy: 0.8125\n",
            "Epoch 27/100\n",
            "101/101 [==============================] - 7s 69ms/step - loss: 0.8091 - accuracy: 0.6875 - val_loss: 0.7822 - val_accuracy: 0.6544\n",
            "Epoch 28/100\n",
            "101/101 [==============================] - 7s 70ms/step - loss: 0.8249 - accuracy: 0.6832 - val_loss: 0.7988 - val_accuracy: 0.7022\n",
            "Epoch 29/100\n",
            "101/101 [==============================] - 7s 70ms/step - loss: 0.7984 - accuracy: 0.6943 - val_loss: 0.6532 - val_accuracy: 0.8125\n",
            "Epoch 30/100\n",
            "101/101 [==============================] - 7s 69ms/step - loss: 0.7915 - accuracy: 0.6962 - val_loss: 0.6609 - val_accuracy: 0.7721\n",
            "Epoch 31/100\n",
            "101/101 [==============================] - 7s 69ms/step - loss: 0.8021 - accuracy: 0.6912 - val_loss: 0.6590 - val_accuracy: 0.7794\n",
            "Epoch 32/100\n",
            "101/101 [==============================] - 7s 70ms/step - loss: 0.7940 - accuracy: 0.6931 - val_loss: 0.6121 - val_accuracy: 0.8199\n",
            "Epoch 33/100\n",
            "101/101 [==============================] - 7s 70ms/step - loss: 0.7769 - accuracy: 0.7030 - val_loss: 0.6235 - val_accuracy: 0.8162\n",
            "Epoch 34/100\n",
            "101/101 [==============================] - 7s 69ms/step - loss: 0.7688 - accuracy: 0.7017 - val_loss: 0.6376 - val_accuracy: 0.8088\n",
            "Epoch 35/100\n",
            "101/101 [==============================] - 7s 70ms/step - loss: 0.8025 - accuracy: 0.6918 - val_loss: 0.6281 - val_accuracy: 0.8162\n",
            "Epoch 36/100\n",
            "101/101 [==============================] - 7s 70ms/step - loss: 0.7763 - accuracy: 0.6974 - val_loss: 0.6401 - val_accuracy: 0.8051\n",
            "Epoch 37/100\n",
            "101/101 [==============================] - 7s 69ms/step - loss: 0.8040 - accuracy: 0.6925 - val_loss: 0.6172 - val_accuracy: 0.8199\n",
            "Epoch 38/100\n",
            "101/101 [==============================] - 7s 70ms/step - loss: 0.7578 - accuracy: 0.7092 - val_loss: 0.5945 - val_accuracy: 0.8199\n",
            "Epoch 39/100\n",
            "101/101 [==============================] - 7s 70ms/step - loss: 0.7646 - accuracy: 0.7073 - val_loss: 0.6073 - val_accuracy: 0.8162\n",
            "Epoch 40/100\n",
            "101/101 [==============================] - 7s 69ms/step - loss: 0.8077 - accuracy: 0.6844 - val_loss: 0.6476 - val_accuracy: 0.8125\n",
            "Epoch 41/100\n",
            "101/101 [==============================] - 7s 69ms/step - loss: 0.7821 - accuracy: 0.6955 - val_loss: 0.6117 - val_accuracy: 0.7941\n",
            "Epoch 42/100\n",
            "101/101 [==============================] - 7s 69ms/step - loss: 0.7648 - accuracy: 0.7030 - val_loss: 0.6167 - val_accuracy: 0.8162\n",
            "Epoch 43/100\n",
            "101/101 [==============================] - 7s 69ms/step - loss: 0.7431 - accuracy: 0.7110 - val_loss: 0.5939 - val_accuracy: 0.8162\n",
            "Epoch 44/100\n",
            "101/101 [==============================] - 7s 69ms/step - loss: 0.7488 - accuracy: 0.7067 - val_loss: 0.5963 - val_accuracy: 0.8162\n",
            "Epoch 45/100\n",
            "101/101 [==============================] - 7s 69ms/step - loss: 0.7819 - accuracy: 0.6986 - val_loss: 0.6095 - val_accuracy: 0.8162\n",
            "Epoch 46/100\n",
            "101/101 [==============================] - 7s 70ms/step - loss: 0.7438 - accuracy: 0.7061 - val_loss: 0.5987 - val_accuracy: 0.7978\n",
            "Epoch 47/100\n",
            "101/101 [==============================] - 7s 70ms/step - loss: 0.7802 - accuracy: 0.6937 - val_loss: 0.5899 - val_accuracy: 0.8199\n",
            "Epoch 48/100\n",
            "101/101 [==============================] - 7s 69ms/step - loss: 0.7791 - accuracy: 0.6894 - val_loss: 0.6247 - val_accuracy: 0.7794\n",
            "Epoch 49/100\n",
            "101/101 [==============================] - 7s 70ms/step - loss: 0.7463 - accuracy: 0.7085 - val_loss: 0.5910 - val_accuracy: 0.8235\n",
            "Epoch 50/100\n",
            "101/101 [==============================] - 7s 70ms/step - loss: 0.7389 - accuracy: 0.7129 - val_loss: 0.5978 - val_accuracy: 0.8162\n",
            "Epoch 51/100\n",
            "101/101 [==============================] - 7s 70ms/step - loss: 0.7275 - accuracy: 0.7123 - val_loss: 0.6759 - val_accuracy: 0.7868\n",
            "Epoch 52/100\n",
            "101/101 [==============================] - 7s 69ms/step - loss: 0.7502 - accuracy: 0.6980 - val_loss: 0.5970 - val_accuracy: 0.7904\n",
            "Epoch 53/100\n",
            "101/101 [==============================] - 7s 69ms/step - loss: 0.7122 - accuracy: 0.7160 - val_loss: 0.5737 - val_accuracy: 0.8162\n",
            "Epoch 54/100\n",
            "101/101 [==============================] - 7s 70ms/step - loss: 0.7380 - accuracy: 0.6974 - val_loss: 0.7417 - val_accuracy: 0.7537\n",
            "Epoch 55/100\n",
            "101/101 [==============================] - 7s 70ms/step - loss: 0.7424 - accuracy: 0.6949 - val_loss: 0.6432 - val_accuracy: 0.7721\n",
            "Epoch 56/100\n",
            "101/101 [==============================] - 7s 70ms/step - loss: 0.7032 - accuracy: 0.7073 - val_loss: 0.6109 - val_accuracy: 0.8088\n",
            "Epoch 57/100\n",
            "101/101 [==============================] - 7s 69ms/step - loss: 0.6942 - accuracy: 0.7129 - val_loss: 0.6578 - val_accuracy: 0.7941\n",
            "Epoch 58/100\n",
            "101/101 [==============================] - 7s 70ms/step - loss: 0.6922 - accuracy: 0.7191 - val_loss: 0.5867 - val_accuracy: 0.8162\n",
            "Epoch 59/100\n",
            "101/101 [==============================] - 7s 69ms/step - loss: 0.7029 - accuracy: 0.7085 - val_loss: 0.5300 - val_accuracy: 0.8162\n",
            "Epoch 60/100\n",
            "101/101 [==============================] - 7s 70ms/step - loss: 0.7150 - accuracy: 0.7017 - val_loss: 0.6075 - val_accuracy: 0.8088\n",
            "Epoch 61/100\n",
            "101/101 [==============================] - 7s 70ms/step - loss: 0.6792 - accuracy: 0.7135 - val_loss: 0.6199 - val_accuracy: 0.8088\n",
            "Epoch 62/100\n",
            "101/101 [==============================] - 7s 69ms/step - loss: 0.6864 - accuracy: 0.7129 - val_loss: 0.6003 - val_accuracy: 0.8162\n",
            "Epoch 63/100\n",
            "101/101 [==============================] - 7s 69ms/step - loss: 0.6871 - accuracy: 0.7129 - val_loss: 0.5748 - val_accuracy: 0.7978\n",
            "Epoch 64/100\n",
            "101/101 [==============================] - 7s 70ms/step - loss: 0.7037 - accuracy: 0.7067 - val_loss: 0.5823 - val_accuracy: 0.8199\n",
            "Epoch 65/100\n",
            "101/101 [==============================] - 7s 70ms/step - loss: 0.6887 - accuracy: 0.7067 - val_loss: 0.5962 - val_accuracy: 0.8162\n",
            "Epoch 66/100\n",
            "101/101 [==============================] - 7s 70ms/step - loss: 0.7182 - accuracy: 0.6943 - val_loss: 0.5746 - val_accuracy: 0.8162\n",
            "Epoch 67/100\n",
            "101/101 [==============================] - 7s 69ms/step - loss: 0.6725 - accuracy: 0.7160 - val_loss: 0.5482 - val_accuracy: 0.8162\n",
            "Epoch 68/100\n",
            "101/101 [==============================] - 7s 69ms/step - loss: 0.6779 - accuracy: 0.7092 - val_loss: 0.5199 - val_accuracy: 0.8235\n",
            "Epoch 69/100\n",
            "101/101 [==============================] - 7s 69ms/step - loss: 0.6995 - accuracy: 0.6986 - val_loss: 0.5441 - val_accuracy: 0.8199\n",
            "Epoch 70/100\n",
            "101/101 [==============================] - 7s 69ms/step - loss: 0.6585 - accuracy: 0.7153 - val_loss: 0.5173 - val_accuracy: 0.8162\n",
            "Epoch 71/100\n",
            "101/101 [==============================] - 7s 69ms/step - loss: 0.6579 - accuracy: 0.7123 - val_loss: 0.5374 - val_accuracy: 0.7978\n",
            "Epoch 72/100\n",
            "101/101 [==============================] - 7s 70ms/step - loss: 0.6432 - accuracy: 0.7178 - val_loss: 0.5074 - val_accuracy: 0.8162\n",
            "Epoch 73/100\n",
            "101/101 [==============================] - 7s 70ms/step - loss: 0.6539 - accuracy: 0.7116 - val_loss: 0.5329 - val_accuracy: 0.7904\n",
            "Epoch 74/100\n",
            "101/101 [==============================] - 7s 69ms/step - loss: 0.6481 - accuracy: 0.7147 - val_loss: 0.5052 - val_accuracy: 0.8162\n",
            "Epoch 75/100\n",
            "101/101 [==============================] - 7s 69ms/step - loss: 0.6368 - accuracy: 0.7147 - val_loss: 1.1022 - val_accuracy: 0.7684\n",
            "Epoch 76/100\n",
            "101/101 [==============================] - 7s 70ms/step - loss: 0.6643 - accuracy: 0.7092 - val_loss: 0.4932 - val_accuracy: 0.8162\n",
            "Epoch 77/100\n",
            "101/101 [==============================] - 7s 69ms/step - loss: 0.6371 - accuracy: 0.7184 - val_loss: 0.6126 - val_accuracy: 0.8162\n",
            "Epoch 78/100\n",
            "101/101 [==============================] - 7s 70ms/step - loss: 0.6123 - accuracy: 0.7271 - val_loss: 0.6986 - val_accuracy: 0.7904\n",
            "Epoch 79/100\n",
            "101/101 [==============================] - 7s 69ms/step - loss: 0.6293 - accuracy: 0.7172 - val_loss: 0.5331 - val_accuracy: 0.7904\n",
            "Epoch 80/100\n",
            "101/101 [==============================] - 7s 69ms/step - loss: 0.6234 - accuracy: 0.7209 - val_loss: 0.5223 - val_accuracy: 0.7941\n",
            "Epoch 81/100\n",
            "101/101 [==============================] - 7s 69ms/step - loss: 0.6172 - accuracy: 0.7184 - val_loss: 0.5688 - val_accuracy: 0.7904\n",
            "Epoch 82/100\n",
            "101/101 [==============================] - 7s 70ms/step - loss: 0.6029 - accuracy: 0.7252 - val_loss: 0.8090 - val_accuracy: 0.7904\n",
            "Epoch 83/100\n",
            "101/101 [==============================] - 7s 70ms/step - loss: 0.6214 - accuracy: 0.7104 - val_loss: 0.6063 - val_accuracy: 0.8088\n",
            "Epoch 84/100\n",
            "101/101 [==============================] - 7s 70ms/step - loss: 0.6374 - accuracy: 0.7153 - val_loss: 0.4706 - val_accuracy: 0.8199\n",
            "Epoch 85/100\n",
            "101/101 [==============================] - 7s 69ms/step - loss: 0.6231 - accuracy: 0.7166 - val_loss: 0.5709 - val_accuracy: 0.7941\n",
            "Epoch 86/100\n",
            "101/101 [==============================] - 7s 69ms/step - loss: 0.6089 - accuracy: 0.7234 - val_loss: 0.6167 - val_accuracy: 0.7904\n",
            "Epoch 87/100\n",
            "101/101 [==============================] - 7s 69ms/step - loss: 0.6067 - accuracy: 0.7160 - val_loss: 0.5352 - val_accuracy: 0.7941\n",
            "Epoch 88/100\n",
            "101/101 [==============================] - 7s 70ms/step - loss: 0.5957 - accuracy: 0.7160 - val_loss: 0.9575 - val_accuracy: 0.7721\n",
            "Epoch 89/100\n",
            "101/101 [==============================] - 7s 70ms/step - loss: 0.6131 - accuracy: 0.7203 - val_loss: 0.6513 - val_accuracy: 0.7978\n",
            "Epoch 90/100\n",
            "101/101 [==============================] - 7s 70ms/step - loss: 0.6128 - accuracy: 0.7048 - val_loss: 1.8172 - val_accuracy: 0.7610\n",
            "Epoch 91/100\n",
            "101/101 [==============================] - 7s 70ms/step - loss: 0.6112 - accuracy: 0.7259 - val_loss: 0.5949 - val_accuracy: 0.7941\n",
            "Epoch 92/100\n",
            "101/101 [==============================] - 7s 69ms/step - loss: 0.5881 - accuracy: 0.7166 - val_loss: 0.5456 - val_accuracy: 0.7941\n",
            "Epoch 93/100\n",
            "101/101 [==============================] - 7s 70ms/step - loss: 0.5958 - accuracy: 0.7240 - val_loss: 0.5294 - val_accuracy: 0.7941\n",
            "Epoch 94/100\n",
            "101/101 [==============================] - 7s 70ms/step - loss: 0.6069 - accuracy: 0.7116 - val_loss: 0.5391 - val_accuracy: 0.7941\n",
            "Epoch 95/100\n",
            "101/101 [==============================] - 7s 69ms/step - loss: 0.5928 - accuracy: 0.7110 - val_loss: 0.8254 - val_accuracy: 0.7904\n",
            "Epoch 96/100\n",
            "101/101 [==============================] - 7s 69ms/step - loss: 0.5846 - accuracy: 0.7141 - val_loss: 0.7867 - val_accuracy: 0.7978\n",
            "Epoch 97/100\n",
            "101/101 [==============================] - 7s 69ms/step - loss: 0.5741 - accuracy: 0.7222 - val_loss: 0.7612 - val_accuracy: 0.7684\n",
            "Epoch 98/100\n",
            "101/101 [==============================] - 7s 69ms/step - loss: 0.5935 - accuracy: 0.7271 - val_loss: 0.4773 - val_accuracy: 0.8162\n",
            "Epoch 99/100\n",
            "101/101 [==============================] - 7s 70ms/step - loss: 0.5801 - accuracy: 0.7252 - val_loss: 0.5932 - val_accuracy: 0.7941\n",
            "Epoch 100/100\n",
            "101/101 [==============================] - 7s 69ms/step - loss: 0.5961 - accuracy: 0.7191 - val_loss: 0.6818 - val_accuracy: 0.7941\n"
          ]
        }
      ],
      "source": [
        "# Create an Instance of Early Stopping Callback\n",
        "\n",
        "# https://stackoverflow.com/questions/53479007/how-to-setup-adaptive-learning-rate-in-keras\n",
        "# def adapt_learning_rate(epoch):\n",
        "#     print(0.0001 * epoch)\n",
        "#     return 0.0001 * epoch\n",
        "# my_lr_scheduler = keras.callbacks.LearningRateScheduler(adapt_learning_rate)\n",
        "\n",
        "early_stopping_callback = keras.callbacks.EarlyStopping(monitor = 'val_loss',\n",
        "                                                        patience = 10,\n",
        "                                                        mode = 'min',\n",
        "                                                        restore_best_weights = True)\n",
        "# Compile the model and specify loss function, optimizer and metrics values to the model\n",
        "convlstm_model.compile(loss = 'categorical_crossentropy',\n",
        "                       optimizer= keras.optimizers.Adam(0.001, decay=1e-4),\n",
        "                       metrics = [\"accuracy\"])\n",
        "# Start training the model.\n",
        "convlstm_model_training_history = convlstm_model.fit(x = features_train,\n",
        "                                                     y = labels_train,\n",
        "                                                     epochs = 100,\n",
        "                                                     batch_size = 16,\n",
        "                                                     shuffle = True,\n",
        "                                                     validation_data = (features_valid, labels_valid)),\n",
        "                                                    #  callbacks = [early_stopping_callback])\n"
      ]
    },
    {
      "cell_type": "code",
      "execution_count": 15,
      "metadata": {
        "colab": {
          "base_uri": "https://localhost:8080/"
        },
        "id": "LcpKhGqvIenv",
        "outputId": "26e029ee-8e68-4ea1-fa3e-80118c55eebd"
      },
      "outputs": [
        {
          "output_type": "stream",
          "name": "stdout",
          "text": [
            "9/9 [==============================] - 1s 43ms/step - loss: 0.9800 - accuracy: 0.5147\n",
            "\n",
            "\n",
            "Train accuracy: 71.535 % || Test accuracy: 51.471 % || Val accuracy: 79.412 %\n",
            "Train loss: 0.564 || Test loss: 0.980 || Val loss: 0.682\n"
          ]
        }
      ],
      "source": [
        "model_evaluation_history = convlstm_model.evaluate(features_test, labels_test)\n",
        "\n",
        "print('\\n')\n",
        "\n",
        "train_loss, train_acc = convlstm_model.evaluate(features_train, labels_train, verbose=0)\n",
        "test_loss, test_acc = convlstm_model.evaluate(features_test, labels_test, verbose=0)\n",
        "val_loss, val_acc = convlstm_model.evaluate(features_valid, labels_valid, verbose=0)\n",
        "\n",
        "print(f'Train accuracy: {train_acc*100:.3f} % || Test accuracy: {test_acc*100:.3f} % || Val accuracy: {val_acc*100:.3f} %')\n",
        "print(f'Train loss: {train_loss:.3f} || Test loss: {test_loss:.3f} || Val loss: {val_loss:.3f}')"
      ]
    },
    {
      "cell_type": "code",
      "execution_count": 16,
      "metadata": {
        "id": "qsFw5KIzIum9"
      },
      "outputs": [],
      "source": [
        "# Get the loss and accuracy from model_evaluation_history.\n",
        "model_evaluation_loss, model_evaluation_accuracy = model_evaluation_history\n",
        " \n",
        "# Define the string date format.\n",
        "# Get the current Date and Time in a DateTime Object.\n",
        "# Convert the DateTime object to string according to the style mentioned in date_time_format string.\n",
        "date_time_format = '%Y_%m_%d__%H_%M_%S'\n",
        "current_date_time_dt = dt.datetime.now()\n",
        "current_date_time_string = dt.datetime.strftime(current_date_time_dt, date_time_format)\n",
        " \n",
        "# Define a useful name for our model to make it easy for us while navigating through multiple saved models.\n",
        "model_file_name = f'convlstm_model___Date_Time_{current_date_time_string}___Loss_{model_evaluation_loss}___Accuracy_{model_evaluation_accuracy}.h5'\n",
        " \n",
        "# Change dir\n",
        "gdrive_path = '/content/gdrive' + '/My Drive/247/Saved_models/'\n",
        "os.chdir(gdrive_path)\n",
        "# Create a floder for the model files\n",
        "!mkdir -p convlstm_{current_date_time_string}\n",
        "# Save your Model.\n",
        "convlstm_model.save('convlstm_' + str(current_date_time_string) + '/' + model_file_name)\n",
        "# Save model weights\n",
        "convlstm_model.save_weights('convlstm_' + str(current_date_time_string) + '/' + 'weights')"
      ]
    },
    {
      "cell_type": "code",
      "execution_count": 17,
      "metadata": {
        "id": "Z0eAobhSIz_P"
      },
      "outputs": [],
      "source": [
        "def plot_metric(model_training_history, metric_name_1, metric_name_2, plot_name):\n",
        "    '''\n",
        "    This function will plot the metrics passed to it in a graph.\n",
        "    Args:\n",
        "        model_training_history: A history object containing a record of training and validation \n",
        "                                loss values and metrics values at successive epochs\n",
        "        metric_name_1:          The name of the first metric that needs to be plotted in the graph.\n",
        "        metric_name_2:          The name of the second metric that needs to be plotted in the graph.\n",
        "        plot_name:              The title of the graph.\n",
        "    '''\n",
        "    \n",
        "    # Get metric values using metric names as identifiers.\n",
        "    metric_value_1 = model_training_history[0].history[metric_name_1]\n",
        "    metric_value_2 = model_training_history[0].history[metric_name_2]\n",
        "    \n",
        "    # Construct a range object which will be used as x-axis (horizontal plane) of the graph.\n",
        "    epochs = range(len(metric_value_1))\n",
        "\n",
        "    # Plot the Graph.\n",
        "    plt.plot(epochs, metric_value_1, 'blue', label = metric_name_1)\n",
        "    plt.plot(epochs, metric_value_2, 'red', label = metric_name_2)\n",
        "\n",
        "    # Add title to the plot.\n",
        "    plt.title(str(plot_name))\n",
        "\n",
        "    # Add legend to the plot.\n",
        "    plt.legend()"
      ]
    },
    {
      "cell_type": "code",
      "execution_count": 18,
      "metadata": {
        "colab": {
          "base_uri": "https://localhost:8080/",
          "height": 281
        },
        "id": "18RtBjI9I5lE",
        "outputId": "2627d9f8-8784-42b3-b278-b45dcd5d6f5f"
      },
      "outputs": [
        {
          "output_type": "display_data",
          "data": {
            "text/plain": [
              "<Figure size 432x288 with 1 Axes>"
            ],
            "image/png": "[encoded data removed]"
          },
          "metadata": {
            "needs_background": "light"
          }
        }
      ],
      "source": [
        "plot_metric(convlstm_model_training_history, 'loss', 'val_loss', 'Total Loss vs Total Validation Loss')"
      ]
    },
    {
      "cell_type": "code",
      "execution_count": 19,
      "metadata": {
        "colab": {
          "base_uri": "https://localhost:8080/",
          "height": 281
        },
        "id": "02amk7TXI_OS",
        "outputId": "eb8ac85b-fe4c-4386-f89a-5fbc20fce258"
      },
      "outputs": [
        {
          "output_type": "display_data",
          "data": {
            "text/plain": [
              "<Figure size 432x288 with 1 Axes>"
            ],
            "image/png": "[encoded data removed]"
          },
          "metadata": {
            "needs_background": "light"
          }
        }
      ],
      "source": [
        "plot_metric(convlstm_model_training_history, 'accuracy', 'val_accuracy', 'Total Accuracy vs Total Validation Accuracy') "
      ]
    }
  ],
  "metadata": {
    "accelerator": "GPU",
    "colab": {
      "background_execution": "on",
      "collapsed_sections": [],
      "machine_shape": "hm",
      "name": "2D_CNN+LSTM.ipynb",
      "provenance": [],
      "authorship_tag": "ABX9TyNapDEqNkHmbn37mEwmGTa/",
      "include_colab_link": true
    },
    "kernelspec": {
      "display_name": "Python 3",
      "name": "python3"
    },
    "language_info": {
      "name": "python"
    }
  },
  "nbformat": 4,
  "nbformat_minor": 0
}