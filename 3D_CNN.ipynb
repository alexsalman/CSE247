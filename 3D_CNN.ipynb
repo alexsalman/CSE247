{
  "cells": [
    {
      "cell_type": "markdown",
      "metadata": {
        "id": "view-in-github",
        "colab_type": "text"
      },
      "source": [
        "<a href=\"https://colab.research.google.com/github/alexsalman/CSE247/blob/main/3D_CNN.ipynb\" target=\"_parent\"><img src=\"https://colab.research.google.com/assets/colab-badge.svg\" alt=\"Open In Colab\"/></a>"
      ]
    },
    {
      "cell_type": "markdown",
      "metadata": {
        "id": "Kk7I8NauauE3"
      },
      "source": [
        "####**3D Convolutional Neural Network**\n",
        "######*I am using 3D Convolutional Neural Network to extract the temporal and spatial information which are merged slowly throughout the whole network.*"
      ]
    },
    {
      "cell_type": "code",
      "execution_count": 1,
      "metadata": {
        "colab": {
          "base_uri": "https://localhost:8080/"
        },
        "id": "M8ibtd5HKtZk",
        "outputId": "b067d743-a9c0-4fd3-b90f-c32005ef8e0e"
      },
      "outputs": [
        {
          "output_type": "stream",
          "name": "stdout",
          "text": [
            "2.8.0\n"
          ]
        }
      ],
      "source": [
        "# required libraries\n",
        "import os\n",
        "import cv2\n",
        "import math\n",
        "import random\n",
        "import numpy as np\n",
        "import datetime as dt\n",
        "from collections import deque\n",
        "import matplotlib.pyplot as plt\n",
        "from google.colab import drive\n",
        "from sklearn.model_selection import train_test_split\n",
        "import tensorflow as tf\n",
        "from tensorflow import keras\n",
        "from keras.models import Sequential\n",
        "from keras.layers import Dense, Flatten, Conv3D, MaxPooling3D, Dropout, BatchNormalization, GlobalAveragePooling3D\n",
        "from keras import regularizers\n",
        "from PIL import Image\n",
        "%matplotlib inline\n",
        "print(tf.version.VERSION)\n",
        "# https://bleedai.com/human-activity-recognition-using-tensorflow-cnn-lstm/"
      ]
    },
    {
      "cell_type": "code",
      "execution_count": 2,
      "metadata": {
        "id": "iffdFOf1CEAN"
      },
      "outputs": [],
      "source": [
        "# set Numpy, Python, and Tensorflow seeds to get consistent results on every execution\n",
        "seed_constant = 27\n",
        "np.random.seed(seed_constant)\n",
        "random.seed(seed_constant)\n",
        "tf.random.set_seed(seed_constant)"
      ]
    },
    {
      "cell_type": "code",
      "execution_count": 3,
      "metadata": {
        "colab": {
          "base_uri": "https://localhost:8080/",
          "height": 53
        },
        "id": "mcLh22LiOHyn",
        "outputId": "b6c73172-6efa-4a99-c1bb-295228da738f"
      },
      "outputs": [
        {
          "output_type": "stream",
          "name": "stdout",
          "text": [
            "Mounted at /content/gdrive/\n"
          ]
        },
        {
          "output_type": "execute_result",
          "data": {
            "text/plain": [
              "'/content/gdrive/My Drive/247'"
            ],
            "application/vnd.google.colaboratory.intrinsic+json": {
              "type": "string"
            }
          },
          "metadata": {},
          "execution_count": 3
        }
      ],
      "source": [
        "# mount dataset from google drive\n",
        "drive.mount('/content/gdrive/', force_remount=True)\n",
        "gdrive_path = '/content/gdrive' + '/My Drive/247/'\n",
        "os.chdir(gdrive_path)\n",
        "os.getcwd()"
      ]
    },
    {
      "cell_type": "code",
      "execution_count": 4,
      "metadata": {
        "id": "oeDK8SzumZ1Q"
      },
      "outputs": [],
      "source": [
        "# frame dimention\n",
        "IMAGE_HEIGHT, IMAGE_WIDTH = 128, 128\n",
        "# frame number for each video (depth)\n",
        "SEQUENCE_LENGTH = 16\n",
        "# video dir path\n",
        "DATASET_DIR = gdrive_path + 'Cropped_videos'\n",
        "# labels of classes\n",
        "CLASSES_LIST = ['hemostasis', 'inflammatory', 'proliferative', 'maturation']"
      ]
    },
    {
      "cell_type": "code",
      "execution_count": 5,
      "metadata": {
        "id": "HUTeIqzpZc9J"
      },
      "outputs": [],
      "source": [
        "# image cropping\n",
        "def crop_center_square(frame):\n",
        "    y, x = frame.shape[0:2]\n",
        "    min_dim = min(y, x)\n",
        "    start_x = (x // 2) - (min_dim // 2)\n",
        "    start_y = (y // 2) - (min_dim // 2)\n",
        "    return frame[start_y:start_y+min_dim,start_x:start_x+min_dim]"
      ]
    },
    {
      "cell_type": "code",
      "execution_count": 6,
      "metadata": {
        "id": "QRDbHG0TZkYJ"
      },
      "outputs": [],
      "source": [
        "# https://medium.com/analytics-vidhya/video-preprocessor-and-augmentation-for-deep-learning-tasks-12dd3fcce868\n",
        "def load_video(path, resize=(128, 128)):\n",
        "    video_reader = cv2.VideoCapture(path)\n",
        "    frames = []\n",
        "    try:\n",
        "        while True:\n",
        "            ret, frame = video_reader.read()\n",
        "            if not ret:\n",
        "                  break\n",
        "            # frame = crop_center_square(frame)\n",
        "            frame = cv2.resize(frame, resize)\n",
        "            frame = frame[:, :, [2, 1, 0]]\n",
        "            black_frame = frame\n",
        "            frames.append(frame)\n",
        "    finally:\n",
        "        video_reader.release()\n",
        "    return np.array(frames) / 255.0"
      ]
    },
    {
      "cell_type": "code",
      "execution_count": 7,
      "metadata": {
        "id": "ljUWHW6Jqzu-"
      },
      "outputs": [],
      "source": [
        "def create_dataset(state):\n",
        "    # Declared Empty Lists to store the features, labels and video file path values.\n",
        "    features = []\n",
        "    labels = []\n",
        "    video_files_paths = []\n",
        "    # Iterating through all the classes mentioned in the classes list\n",
        "    for class_index, class_name in enumerate(CLASSES_LIST):\n",
        "        # Display the name of the class whose data is being extracted.\n",
        "        print(f'Extracting Data of Class: {class_name} {state}')\n",
        "        # Get the list of video files present in the specific class name directory.\n",
        "        files_list = os.listdir(os.path.join(DATASET_DIR, class_name))\n",
        "        # Iterate through all the files present in the files list.\n",
        "        for file_name in files_list:\n",
        "            # Get the complete video path.\n",
        "            video_file_path = os.path.join(DATASET_DIR, class_name, file_name)\n",
        "            # create testing data\n",
        "            if state == 'test':\n",
        "                # get the mouse number\n",
        "                mouse_number = int(video_file_path.split(' ')[2].split('_')[1].split('-')[1])\n",
        "                # get the mouse side (L or R)\n",
        "                mouse_side = video_file_path.split(' ')[2].split('_')[1].split('-')[2]\n",
        "                if mouse_number == 4 and mouse_side == 'L':\n",
        "                    frames = load_video(video_file_path)\n",
        "                    features.append(frames)\n",
        "                    labels.append(class_index)\n",
        "                    video_files_paths.append(video_file_path)\n",
        "            # create validation data\n",
        "            elif state == 'valid':\n",
        "                # get the mouse number\n",
        "                mouse_number = int(video_file_path.split(' ')[2].split('_')[1].split('-')[1])\n",
        "                # get the mouse side (L or R)\n",
        "                mouse_side = video_file_path.split(' ')[2].split('_')[1].split('-')[2]\n",
        "                if mouse_number == 4 and mouse_side == 'R':\n",
        "                    frames = load_video(video_file_path)\n",
        "                    features.append(frames)\n",
        "                    labels.append(class_index)\n",
        "                    video_files_paths.append(video_file_path)\n",
        "            # create training data\n",
        "            else:\n",
        "                # get the mouse number\n",
        "                mouse_number = int(video_file_path.split(' ')[2].split('_')[1].split('-')[1])\n",
        "                if mouse_number != 4:\n",
        "                    frames = load_video(video_file_path)\n",
        "                    features.append(frames)\n",
        "                    labels.append(class_index)\n",
        "                    video_files_paths.append(video_file_path)\n",
        "    # Converting the list to numpy arrays\n",
        "    features = np.asarray(features)\n",
        "    # print(features)\n",
        "    labels = np.array(labels)\n",
        "    # Return the frames, class index, and video file path.\n",
        "    return features, labels, video_files_paths"
      ]
    },
    {
      "cell_type": "code",
      "execution_count": 8,
      "metadata": {
        "colab": {
          "base_uri": "https://localhost:8080/"
        },
        "id": "a8rpanz9rASe",
        "outputId": "f350a911-f039-48e8-db2b-14ec06214108"
      },
      "outputs": [
        {
          "output_type": "stream",
          "name": "stdout",
          "text": [
            "Extracting Data of Class: hemostasis train\n",
            "Extracting Data of Class: inflammatory train\n",
            "Extracting Data of Class: proliferative train\n",
            "Extracting Data of Class: maturation train\n",
            "Extracting Data of Class: hemostasis test\n",
            "Extracting Data of Class: inflammatory test\n",
            "Extracting Data of Class: proliferative test\n",
            "Extracting Data of Class: maturation test\n",
            "Extracting Data of Class: hemostasis valid\n",
            "Extracting Data of Class: inflammatory valid\n",
            "Extracting Data of Class: proliferative valid\n",
            "Extracting Data of Class: maturation valid\n"
          ]
        }
      ],
      "source": [
        "# 6 mice for training, 2 mice for test and validation (one wound on each mice for test one for validation)\n",
        "features_train, labels_train, video_files_paths_train = create_dataset('train')\n",
        "features_test, labels_test, video_files_paths_test = create_dataset('test')\n",
        "features_valid, labels_valid, video_files_paths_valid = create_dataset('valid')"
      ]
    },
    {
      "cell_type": "code",
      "execution_count": 9,
      "metadata": {
        "id": "dtJkK4qTAulC"
      },
      "outputs": [],
      "source": [
        "# one_hot_encoded_labels\n",
        "labels_train = keras.utils.to_categorical(labels_train)\n",
        "labels_test = keras.utils.to_categorical(labels_test)\n",
        "labels_valid = keras.utils.to_categorical(labels_valid)"
      ]
    },
    {
      "cell_type": "code",
      "execution_count": 10,
      "metadata": {
        "id": "N-9ykP4ig7IW"
      },
      "outputs": [],
      "source": [
        "def create_3D_CNN_model():\n",
        "    sample_shape = (16, 128, 128, 3)\n",
        "    model = Sequential()\n",
        "\n",
        "    model.add(Conv3D(32, 3, activation='relu', kernel_initializer='he_uniform',\n",
        "                     kernel_regularizer=regularizers.L2(l2=1e-4),\n",
        "                     input_shape=sample_shape))\n",
        "    # model.add(BatchNormalization())\n",
        "    model.add(MaxPooling3D(2))\n",
        "    model.add(Dropout(0.5))\n",
        "\n",
        "    model.add(Conv3D(32, 3, activation='relu', kernel_initializer='he_uniform',\n",
        "                     kernel_regularizer=regularizers.L2(l2=1e-4)))\n",
        "    # model.add(BatchNormalization())\n",
        "    model.add(MaxPooling3D(2))\n",
        "    model.add(Dropout(0.5))\n",
        "\n",
        "    model.add(GlobalAveragePooling3D())\n",
        "    # model.add(Dropout(0.5))\n",
        "\n",
        "    model.add(Dense(32, activation='relu', kernel_initializer='he_uniform',\n",
        "                    kernel_regularizer=regularizers.L2(l2=1e-4)))\n",
        "    model.add(Dropout(0.5))\n",
        "\n",
        "    model.add(Dense(16, activation='relu', kernel_initializer='he_uniform',\n",
        "                    kernel_regularizer=regularizers.L2(l2=1e-4)))\n",
        "    model.add(Dropout(0.6))\n",
        "    model.add(Dense(8, activation='relu', kernel_initializer='he_uniform'))\n",
        "    # model.add(Dense(4, activation='relu', kernel_initializer='he_uniform'))\n",
        "    # model.add(Dropout(0.3))\n",
        "    # model.add(Dense(8, activation='relu', kernel_initializer='he_uniform'))\n",
        "    # model.add(Dropout(0.3))\n",
        "    model.add(Dense(len(CLASSES_LIST), activation='softmax'))\n",
        "\n",
        "    # Display the models summary.\n",
        "    model.summary(line_length = 125)\n",
        "    # Return the constructed 3D_CNN model.\n",
        "    return model"
      ]
    },
    {
      "cell_type": "code",
      "execution_count": 11,
      "metadata": {
        "colab": {
          "base_uri": "https://localhost:8080/"
        },
        "id": "Z4_GxXZBcHlB",
        "outputId": "e46c33e9-33a3-4aa5-f1bb-a3d03fae21eb"
      },
      "outputs": [
        {
          "output_type": "stream",
          "name": "stdout",
          "text": [
            "Model: \"sequential\"\n",
            "_____________________________________________________________________________________________________________________________\n",
            " Layer (type)                                           Output Shape                                      Param #            \n",
            "=============================================================================================================================\n",
            " conv3d (Conv3D)                                        (None, 14, 126, 126, 32)                          2624               \n",
            "                                                                                                                             \n",
            " max_pooling3d (MaxPooling3D)                           (None, 7, 63, 63, 32)                             0                  \n",
            "                                                                                                                             \n",
            " dropout (Dropout)                                      (None, 7, 63, 63, 32)                             0                  \n",
            "                                                                                                                             \n",
            " conv3d_1 (Conv3D)                                      (None, 5, 61, 61, 32)                             27680              \n",
            "                                                                                                                             \n",
            " max_pooling3d_1 (MaxPooling3D)                         (None, 2, 30, 30, 32)                             0                  \n",
            "                                                                                                                             \n",
            " dropout_1 (Dropout)                                    (None, 2, 30, 30, 32)                             0                  \n",
            "                                                                                                                             \n",
            " global_average_pooling3d (GlobalAveragePooling3D)      (None, 32)                                        0                  \n",
            "                                                                                                                             \n",
            " dense (Dense)                                          (None, 32)                                        1056               \n",
            "                                                                                                                             \n",
            " dropout_2 (Dropout)                                    (None, 32)                                        0                  \n",
            "                                                                                                                             \n",
            " dense_1 (Dense)                                        (None, 16)                                        528                \n",
            "                                                                                                                             \n",
            " dropout_3 (Dropout)                                    (None, 16)                                        0                  \n",
            "                                                                                                                             \n",
            " dense_2 (Dense)                                        (None, 8)                                         136                \n",
            "                                                                                                                             \n",
            " dense_3 (Dense)                                        (None, 4)                                         36                 \n",
            "                                                                                                                             \n",
            "=============================================================================================================================\n",
            "Total params: 32,060\n",
            "Trainable params: 32,060\n",
            "Non-trainable params: 0\n",
            "_____________________________________________________________________________________________________________________________\n",
            "Model Created Successfully!\n"
          ]
        }
      ],
      "source": [
        "# Construct the required convlstm model.\n",
        "model = create_3D_CNN_model()\n",
        " \n",
        "# Display the success message. \n",
        "print(\"Model Created Successfully!\")"
      ]
    },
    {
      "cell_type": "code",
      "execution_count": 12,
      "metadata": {
        "colab": {
          "base_uri": "https://localhost:8080/"
        },
        "id": "MwYEkaYLoyb_",
        "outputId": "6767611b-e799-4d47-c1be-8f3abdb4547e"
      },
      "outputs": [
        {
          "output_type": "stream",
          "name": "stdout",
          "text": [
            "Epoch 1/130\n",
            "101/101 [==============================] - 12s 102ms/step - loss: 1.3257 - accuracy: 0.4226 - val_loss: 1.2503 - val_accuracy: 0.3566\n",
            "Epoch 2/130\n",
            "101/101 [==============================] - 10s 95ms/step - loss: 1.1513 - accuracy: 0.4251 - val_loss: 1.0760 - val_accuracy: 0.3603\n",
            "Epoch 3/130\n",
            "101/101 [==============================] - 10s 95ms/step - loss: 1.0920 - accuracy: 0.4245 - val_loss: 1.0174 - val_accuracy: 0.4154\n",
            "Epoch 4/130\n",
            "101/101 [==============================] - 10s 95ms/step - loss: 1.0539 - accuracy: 0.4678 - val_loss: 0.9620 - val_accuracy: 0.4743\n",
            "Epoch 5/130\n",
            "101/101 [==============================] - 10s 95ms/step - loss: 1.0084 - accuracy: 0.4752 - val_loss: 0.9267 - val_accuracy: 0.5993\n",
            "Epoch 6/130\n",
            "101/101 [==============================] - 9s 94ms/step - loss: 0.9662 - accuracy: 0.5050 - val_loss: 0.8796 - val_accuracy: 0.6066\n",
            "Epoch 7/130\n",
            "101/101 [==============================] - 10s 95ms/step - loss: 0.9363 - accuracy: 0.5204 - val_loss: 0.8570 - val_accuracy: 0.6324\n",
            "Epoch 8/130\n",
            "101/101 [==============================] - 10s 94ms/step - loss: 0.9283 - accuracy: 0.5303 - val_loss: 0.8661 - val_accuracy: 0.6066\n",
            "Epoch 9/130\n",
            "101/101 [==============================] - 10s 95ms/step - loss: 0.9135 - accuracy: 0.5217 - val_loss: 0.8567 - val_accuracy: 0.5993\n",
            "Epoch 10/130\n",
            "101/101 [==============================] - 10s 94ms/step - loss: 0.9069 - accuracy: 0.5371 - val_loss: 0.8300 - val_accuracy: 0.5441\n",
            "Epoch 11/130\n",
            "101/101 [==============================] - 10s 94ms/step - loss: 0.8788 - accuracy: 0.5464 - val_loss: 0.8197 - val_accuracy: 0.5919\n",
            "Epoch 12/130\n",
            "101/101 [==============================] - 9s 94ms/step - loss: 0.8607 - accuracy: 0.5594 - val_loss: 0.8276 - val_accuracy: 0.5368\n",
            "Epoch 13/130\n",
            "101/101 [==============================] - 10s 95ms/step - loss: 0.8562 - accuracy: 0.5724 - val_loss: 0.8083 - val_accuracy: 0.6029\n",
            "Epoch 14/130\n",
            "101/101 [==============================] - 10s 96ms/step - loss: 0.8377 - accuracy: 0.5743 - val_loss: 0.8101 - val_accuracy: 0.6029\n",
            "Epoch 15/130\n",
            "101/101 [==============================] - 10s 95ms/step - loss: 0.8473 - accuracy: 0.5736 - val_loss: 0.8078 - val_accuracy: 0.5699\n",
            "Epoch 16/130\n",
            "101/101 [==============================] - 10s 95ms/step - loss: 0.8310 - accuracy: 0.5873 - val_loss: 0.7980 - val_accuracy: 0.6103\n",
            "Epoch 17/130\n",
            "101/101 [==============================] - 9s 94ms/step - loss: 0.8144 - accuracy: 0.6083 - val_loss: 0.8014 - val_accuracy: 0.6103\n",
            "Epoch 18/130\n",
            "101/101 [==============================] - 10s 94ms/step - loss: 0.8321 - accuracy: 0.5916 - val_loss: 0.7885 - val_accuracy: 0.6029\n",
            "Epoch 19/130\n",
            "101/101 [==============================] - 10s 95ms/step - loss: 0.8081 - accuracy: 0.5835 - val_loss: 0.8102 - val_accuracy: 0.5735\n",
            "Epoch 20/130\n",
            "101/101 [==============================] - 10s 95ms/step - loss: 0.8050 - accuracy: 0.6040 - val_loss: 0.8031 - val_accuracy: 0.5368\n",
            "Epoch 21/130\n",
            "101/101 [==============================] - 9s 94ms/step - loss: 0.8059 - accuracy: 0.5879 - val_loss: 0.7951 - val_accuracy: 0.6066\n",
            "Epoch 22/130\n",
            "101/101 [==============================] - 10s 95ms/step - loss: 0.7775 - accuracy: 0.6225 - val_loss: 0.7964 - val_accuracy: 0.6029\n",
            "Epoch 23/130\n",
            "101/101 [==============================] - 9s 94ms/step - loss: 0.8199 - accuracy: 0.6139 - val_loss: 0.7753 - val_accuracy: 0.6103\n",
            "Epoch 24/130\n",
            "101/101 [==============================] - 10s 94ms/step - loss: 0.7754 - accuracy: 0.6108 - val_loss: 0.7819 - val_accuracy: 0.6140\n",
            "Epoch 25/130\n",
            "101/101 [==============================] - 9s 94ms/step - loss: 0.7798 - accuracy: 0.6244 - val_loss: 0.7747 - val_accuracy: 0.6176\n",
            "Epoch 26/130\n",
            "101/101 [==============================] - 10s 94ms/step - loss: 0.7783 - accuracy: 0.6213 - val_loss: 0.7657 - val_accuracy: 0.6397\n",
            "Epoch 27/130\n",
            "101/101 [==============================] - 10s 95ms/step - loss: 0.7575 - accuracy: 0.6355 - val_loss: 0.7629 - val_accuracy: 0.6176\n",
            "Epoch 28/130\n",
            "101/101 [==============================] - 10s 94ms/step - loss: 0.7630 - accuracy: 0.6250 - val_loss: 0.8247 - val_accuracy: 0.6176\n",
            "Epoch 29/130\n",
            "101/101 [==============================] - 9s 94ms/step - loss: 0.7583 - accuracy: 0.6473 - val_loss: 0.7723 - val_accuracy: 0.5772\n",
            "Epoch 30/130\n",
            "101/101 [==============================] - 10s 94ms/step - loss: 0.7641 - accuracy: 0.6244 - val_loss: 0.7695 - val_accuracy: 0.5809\n",
            "Epoch 31/130\n",
            "101/101 [==============================] - 10s 94ms/step - loss: 0.7696 - accuracy: 0.6219 - val_loss: 0.7597 - val_accuracy: 0.6324\n",
            "Epoch 32/130\n",
            "101/101 [==============================] - 9s 94ms/step - loss: 0.7541 - accuracy: 0.6411 - val_loss: 0.7636 - val_accuracy: 0.6176\n",
            "Epoch 33/130\n",
            "101/101 [==============================] - 10s 94ms/step - loss: 0.7280 - accuracy: 0.6640 - val_loss: 0.7817 - val_accuracy: 0.5478\n",
            "Epoch 34/130\n",
            "101/101 [==============================] - 9s 94ms/step - loss: 0.7609 - accuracy: 0.6318 - val_loss: 0.7343 - val_accuracy: 0.6397\n",
            "Epoch 35/130\n",
            "101/101 [==============================] - 9s 93ms/step - loss: 0.7453 - accuracy: 0.6510 - val_loss: 0.7308 - val_accuracy: 0.6471\n",
            "Epoch 36/130\n",
            "101/101 [==============================] - 10s 94ms/step - loss: 0.7230 - accuracy: 0.6652 - val_loss: 0.7586 - val_accuracy: 0.5919\n",
            "Epoch 37/130\n",
            "101/101 [==============================] - 9s 94ms/step - loss: 0.7533 - accuracy: 0.6423 - val_loss: 0.7274 - val_accuracy: 0.6360\n",
            "Epoch 38/130\n",
            "101/101 [==============================] - 9s 94ms/step - loss: 0.7282 - accuracy: 0.6689 - val_loss: 0.7688 - val_accuracy: 0.5846\n",
            "Epoch 39/130\n",
            "101/101 [==============================] - 10s 95ms/step - loss: 0.7327 - accuracy: 0.6572 - val_loss: 0.7410 - val_accuracy: 0.6434\n",
            "Epoch 40/130\n",
            "101/101 [==============================] - 10s 94ms/step - loss: 0.7165 - accuracy: 0.6640 - val_loss: 0.7328 - val_accuracy: 0.6434\n",
            "Epoch 41/130\n",
            "101/101 [==============================] - 10s 94ms/step - loss: 0.7167 - accuracy: 0.6485 - val_loss: 0.7221 - val_accuracy: 0.6360\n",
            "Epoch 42/130\n",
            "101/101 [==============================] - 10s 95ms/step - loss: 0.6986 - accuracy: 0.6825 - val_loss: 0.7214 - val_accuracy: 0.6360\n",
            "Epoch 43/130\n",
            "101/101 [==============================] - 9s 94ms/step - loss: 0.7135 - accuracy: 0.6578 - val_loss: 0.7045 - val_accuracy: 0.6765\n",
            "Epoch 44/130\n",
            "101/101 [==============================] - 10s 94ms/step - loss: 0.7028 - accuracy: 0.6776 - val_loss: 0.6714 - val_accuracy: 0.6765\n",
            "Epoch 45/130\n",
            "101/101 [==============================] - 9s 94ms/step - loss: 0.6765 - accuracy: 0.6813 - val_loss: 0.6706 - val_accuracy: 0.6838\n",
            "Epoch 46/130\n",
            "101/101 [==============================] - 10s 95ms/step - loss: 0.6891 - accuracy: 0.6726 - val_loss: 0.6864 - val_accuracy: 0.6838\n",
            "Epoch 47/130\n",
            "101/101 [==============================] - 10s 95ms/step - loss: 0.6750 - accuracy: 0.6912 - val_loss: 0.6873 - val_accuracy: 0.6875\n",
            "Epoch 48/130\n",
            "101/101 [==============================] - 9s 94ms/step - loss: 0.6751 - accuracy: 0.6813 - val_loss: 0.7680 - val_accuracy: 0.5809\n",
            "Epoch 49/130\n",
            "101/101 [==============================] - 10s 94ms/step - loss: 0.6601 - accuracy: 0.7030 - val_loss: 0.6548 - val_accuracy: 0.7059\n",
            "Epoch 50/130\n",
            "101/101 [==============================] - 10s 94ms/step - loss: 0.6527 - accuracy: 0.7141 - val_loss: 0.6781 - val_accuracy: 0.6985\n",
            "Epoch 51/130\n",
            "101/101 [==============================] - 10s 95ms/step - loss: 0.6661 - accuracy: 0.7042 - val_loss: 0.7490 - val_accuracy: 0.6250\n",
            "Epoch 52/130\n",
            "101/101 [==============================] - 10s 94ms/step - loss: 0.6523 - accuracy: 0.7135 - val_loss: 0.6780 - val_accuracy: 0.6985\n",
            "Epoch 53/130\n",
            "101/101 [==============================] - 9s 94ms/step - loss: 0.6639 - accuracy: 0.6993 - val_loss: 0.6605 - val_accuracy: 0.7132\n",
            "Epoch 54/130\n",
            "101/101 [==============================] - 9s 94ms/step - loss: 0.6542 - accuracy: 0.7104 - val_loss: 0.6905 - val_accuracy: 0.6912\n",
            "Epoch 55/130\n",
            "101/101 [==============================] - 9s 94ms/step - loss: 0.6208 - accuracy: 0.7234 - val_loss: 0.6428 - val_accuracy: 0.6985\n",
            "Epoch 56/130\n",
            "101/101 [==============================] - 10s 94ms/step - loss: 0.6453 - accuracy: 0.7153 - val_loss: 0.6486 - val_accuracy: 0.7096\n",
            "Epoch 57/130\n",
            "101/101 [==============================] - 9s 94ms/step - loss: 0.6185 - accuracy: 0.7228 - val_loss: 0.6764 - val_accuracy: 0.7022\n",
            "Epoch 58/130\n",
            "101/101 [==============================] - 10s 95ms/step - loss: 0.6076 - accuracy: 0.7364 - val_loss: 0.6366 - val_accuracy: 0.6912\n",
            "Epoch 59/130\n",
            "101/101 [==============================] - 10s 95ms/step - loss: 0.6236 - accuracy: 0.7259 - val_loss: 0.6469 - val_accuracy: 0.7059\n",
            "Epoch 60/130\n",
            "101/101 [==============================] - 9s 94ms/step - loss: 0.6092 - accuracy: 0.7184 - val_loss: 0.6467 - val_accuracy: 0.6691\n",
            "Epoch 61/130\n",
            "101/101 [==============================] - 10s 95ms/step - loss: 0.6194 - accuracy: 0.7160 - val_loss: 0.6377 - val_accuracy: 0.7169\n",
            "Epoch 62/130\n",
            "101/101 [==============================] - 10s 94ms/step - loss: 0.6012 - accuracy: 0.7302 - val_loss: 0.6341 - val_accuracy: 0.7206\n",
            "Epoch 63/130\n",
            "101/101 [==============================] - 9s 94ms/step - loss: 0.6272 - accuracy: 0.7178 - val_loss: 0.7741 - val_accuracy: 0.5735\n",
            "Epoch 64/130\n",
            "101/101 [==============================] - 9s 94ms/step - loss: 0.6266 - accuracy: 0.7104 - val_loss: 0.6257 - val_accuracy: 0.7059\n",
            "Epoch 65/130\n",
            "101/101 [==============================] - 9s 94ms/step - loss: 0.5997 - accuracy: 0.7271 - val_loss: 0.6616 - val_accuracy: 0.6581\n",
            "Epoch 66/130\n",
            "101/101 [==============================] - 10s 95ms/step - loss: 0.5956 - accuracy: 0.7321 - val_loss: 0.6382 - val_accuracy: 0.6838\n",
            "Epoch 67/130\n",
            "101/101 [==============================] - 10s 94ms/step - loss: 0.5870 - accuracy: 0.7290 - val_loss: 0.6431 - val_accuracy: 0.6875\n",
            "Epoch 68/130\n",
            "101/101 [==============================] - 9s 94ms/step - loss: 0.5908 - accuracy: 0.7314 - val_loss: 0.6041 - val_accuracy: 0.7279\n",
            "Epoch 69/130\n",
            "101/101 [==============================] - 10s 94ms/step - loss: 0.5795 - accuracy: 0.7426 - val_loss: 0.6272 - val_accuracy: 0.7022\n",
            "Epoch 70/130\n",
            "101/101 [==============================] - 9s 94ms/step - loss: 0.5560 - accuracy: 0.7531 - val_loss: 0.6014 - val_accuracy: 0.7243\n",
            "Epoch 71/130\n",
            "101/101 [==============================] - 9s 94ms/step - loss: 0.5708 - accuracy: 0.7512 - val_loss: 0.6017 - val_accuracy: 0.7353\n",
            "Epoch 72/130\n",
            "101/101 [==============================] - 9s 93ms/step - loss: 0.5569 - accuracy: 0.7550 - val_loss: 0.6066 - val_accuracy: 0.7243\n",
            "Epoch 73/130\n",
            "101/101 [==============================] - 10s 95ms/step - loss: 0.5667 - accuracy: 0.7605 - val_loss: 0.6211 - val_accuracy: 0.7022\n",
            "Epoch 74/130\n",
            "101/101 [==============================] - 10s 94ms/step - loss: 0.5735 - accuracy: 0.7432 - val_loss: 0.5929 - val_accuracy: 0.7463\n",
            "Epoch 75/130\n",
            "101/101 [==============================] - 10s 94ms/step - loss: 0.5578 - accuracy: 0.7574 - val_loss: 0.5871 - val_accuracy: 0.7574\n",
            "Epoch 76/130\n",
            "101/101 [==============================] - 10s 94ms/step - loss: 0.5446 - accuracy: 0.7704 - val_loss: 0.5979 - val_accuracy: 0.7169\n",
            "Epoch 77/130\n",
            "101/101 [==============================] - 10s 95ms/step - loss: 0.5484 - accuracy: 0.7630 - val_loss: 0.6151 - val_accuracy: 0.7353\n",
            "Epoch 78/130\n",
            "101/101 [==============================] - 10s 94ms/step - loss: 0.5467 - accuracy: 0.7679 - val_loss: 0.6013 - val_accuracy: 0.7390\n",
            "Epoch 79/130\n",
            "101/101 [==============================] - 9s 94ms/step - loss: 0.5592 - accuracy: 0.7395 - val_loss: 0.6892 - val_accuracy: 0.6801\n",
            "Epoch 80/130\n",
            "101/101 [==============================] - 9s 94ms/step - loss: 0.5480 - accuracy: 0.7444 - val_loss: 0.6084 - val_accuracy: 0.6985\n",
            "Epoch 81/130\n",
            "101/101 [==============================] - 9s 94ms/step - loss: 0.5451 - accuracy: 0.7543 - val_loss: 0.6255 - val_accuracy: 0.7647\n",
            "Epoch 82/130\n",
            "101/101 [==============================] - 10s 95ms/step - loss: 0.5359 - accuracy: 0.7710 - val_loss: 0.5677 - val_accuracy: 0.7684\n",
            "Epoch 83/130\n",
            "101/101 [==============================] - 9s 94ms/step - loss: 0.5217 - accuracy: 0.7655 - val_loss: 0.6049 - val_accuracy: 0.7537\n",
            "Epoch 84/130\n",
            "101/101 [==============================] - 10s 94ms/step - loss: 0.5100 - accuracy: 0.7661 - val_loss: 0.5908 - val_accuracy: 0.7132\n",
            "Epoch 85/130\n",
            "101/101 [==============================] - 10s 95ms/step - loss: 0.5183 - accuracy: 0.7760 - val_loss: 0.6567 - val_accuracy: 0.6728\n",
            "Epoch 86/130\n",
            "101/101 [==============================] - 10s 94ms/step - loss: 0.5251 - accuracy: 0.7723 - val_loss: 0.5952 - val_accuracy: 0.7426\n",
            "Epoch 87/130\n",
            "101/101 [==============================] - 10s 95ms/step - loss: 0.5575 - accuracy: 0.7599 - val_loss: 0.6089 - val_accuracy: 0.7574\n",
            "Epoch 88/130\n",
            "101/101 [==============================] - 9s 94ms/step - loss: 0.5064 - accuracy: 0.7760 - val_loss: 0.5648 - val_accuracy: 0.7353\n",
            "Epoch 89/130\n",
            "101/101 [==============================] - 10s 94ms/step - loss: 0.5206 - accuracy: 0.7748 - val_loss: 0.6337 - val_accuracy: 0.7647\n",
            "Epoch 90/130\n",
            "101/101 [==============================] - 10s 94ms/step - loss: 0.5117 - accuracy: 0.7741 - val_loss: 0.5750 - val_accuracy: 0.7500\n",
            "Epoch 91/130\n",
            "101/101 [==============================] - 10s 95ms/step - loss: 0.5442 - accuracy: 0.7624 - val_loss: 0.6161 - val_accuracy: 0.7279\n",
            "Epoch 92/130\n",
            "101/101 [==============================] - 10s 94ms/step - loss: 0.5295 - accuracy: 0.7593 - val_loss: 0.5949 - val_accuracy: 0.7500\n",
            "Epoch 93/130\n",
            "101/101 [==============================] - 10s 94ms/step - loss: 0.5189 - accuracy: 0.7797 - val_loss: 0.5702 - val_accuracy: 0.7426\n",
            "Epoch 94/130\n",
            "101/101 [==============================] - 10s 94ms/step - loss: 0.5201 - accuracy: 0.7791 - val_loss: 0.6170 - val_accuracy: 0.7868\n",
            "Epoch 95/130\n",
            "101/101 [==============================] - 10s 94ms/step - loss: 0.5049 - accuracy: 0.7896 - val_loss: 0.5771 - val_accuracy: 0.7243\n",
            "Epoch 96/130\n",
            "101/101 [==============================] - 9s 94ms/step - loss: 0.4959 - accuracy: 0.7828 - val_loss: 0.5937 - val_accuracy: 0.7757\n",
            "Epoch 97/130\n",
            "101/101 [==============================] - 10s 95ms/step - loss: 0.5242 - accuracy: 0.7760 - val_loss: 0.5678 - val_accuracy: 0.7426\n",
            "Epoch 98/130\n",
            "101/101 [==============================] - 10s 94ms/step - loss: 0.5212 - accuracy: 0.7710 - val_loss: 0.5742 - val_accuracy: 0.7206\n",
            "Epoch 99/130\n",
            "101/101 [==============================] - 10s 94ms/step - loss: 0.4949 - accuracy: 0.7877 - val_loss: 0.5853 - val_accuracy: 0.7647\n",
            "Epoch 100/130\n",
            "101/101 [==============================] - 10s 94ms/step - loss: 0.4898 - accuracy: 0.7828 - val_loss: 0.5755 - val_accuracy: 0.7794\n",
            "Epoch 101/130\n",
            "101/101 [==============================] - 10s 95ms/step - loss: 0.4898 - accuracy: 0.7989 - val_loss: 0.5865 - val_accuracy: 0.7721\n",
            "Epoch 102/130\n",
            "101/101 [==============================] - 9s 94ms/step - loss: 0.5101 - accuracy: 0.7822 - val_loss: 0.6012 - val_accuracy: 0.7537\n",
            "Epoch 103/130\n",
            "101/101 [==============================] - 9s 94ms/step - loss: 0.4835 - accuracy: 0.7902 - val_loss: 0.5645 - val_accuracy: 0.7757\n",
            "Epoch 104/130\n",
            "101/101 [==============================] - 9s 94ms/step - loss: 0.4728 - accuracy: 0.7970 - val_loss: 0.5617 - val_accuracy: 0.7684\n",
            "Epoch 105/130\n",
            "101/101 [==============================] - 10s 94ms/step - loss: 0.4868 - accuracy: 0.7976 - val_loss: 0.5685 - val_accuracy: 0.7757\n",
            "Epoch 106/130\n",
            "101/101 [==============================] - 9s 94ms/step - loss: 0.4659 - accuracy: 0.8014 - val_loss: 0.5840 - val_accuracy: 0.7022\n",
            "Epoch 107/130\n",
            "101/101 [==============================] - 9s 94ms/step - loss: 0.4791 - accuracy: 0.7989 - val_loss: 0.5747 - val_accuracy: 0.7537\n",
            "Epoch 108/130\n",
            "101/101 [==============================] - 10s 95ms/step - loss: 0.4719 - accuracy: 0.8075 - val_loss: 0.5833 - val_accuracy: 0.7757\n",
            "Epoch 109/130\n",
            "101/101 [==============================] - 10s 94ms/step - loss: 0.4652 - accuracy: 0.7958 - val_loss: 0.5543 - val_accuracy: 0.7500\n",
            "Epoch 110/130\n",
            "101/101 [==============================] - 9s 94ms/step - loss: 0.4746 - accuracy: 0.7970 - val_loss: 0.5325 - val_accuracy: 0.7941\n",
            "Epoch 111/130\n",
            "101/101 [==============================] - 9s 94ms/step - loss: 0.4708 - accuracy: 0.8001 - val_loss: 0.6925 - val_accuracy: 0.6618\n",
            "Epoch 112/130\n",
            "101/101 [==============================] - 10s 94ms/step - loss: 0.4645 - accuracy: 0.8026 - val_loss: 0.5501 - val_accuracy: 0.7721\n",
            "Epoch 113/130\n",
            "101/101 [==============================] - 10s 95ms/step - loss: 0.4635 - accuracy: 0.7884 - val_loss: 0.5567 - val_accuracy: 0.7794\n",
            "Epoch 114/130\n",
            "101/101 [==============================] - 9s 94ms/step - loss: 0.4755 - accuracy: 0.8014 - val_loss: 0.5770 - val_accuracy: 0.7794\n",
            "Epoch 115/130\n",
            "101/101 [==============================] - 10s 94ms/step - loss: 0.4765 - accuracy: 0.8020 - val_loss: 0.5569 - val_accuracy: 0.7574\n",
            "Epoch 116/130\n",
            "101/101 [==============================] - 10s 95ms/step - loss: 0.4496 - accuracy: 0.8119 - val_loss: 0.5641 - val_accuracy: 0.7794\n",
            "Epoch 117/130\n",
            "101/101 [==============================] - 10s 95ms/step - loss: 0.4696 - accuracy: 0.8038 - val_loss: 0.5292 - val_accuracy: 0.8088\n",
            "Epoch 118/130\n",
            "101/101 [==============================] - 10s 95ms/step - loss: 0.4679 - accuracy: 0.8082 - val_loss: 0.5474 - val_accuracy: 0.7941\n",
            "Epoch 119/130\n",
            "101/101 [==============================] - 9s 94ms/step - loss: 0.4498 - accuracy: 0.8125 - val_loss: 0.5842 - val_accuracy: 0.7463\n",
            "Epoch 120/130\n",
            "101/101 [==============================] - 9s 94ms/step - loss: 0.4576 - accuracy: 0.8113 - val_loss: 0.5315 - val_accuracy: 0.7794\n",
            "Epoch 121/130\n",
            "101/101 [==============================] - 9s 94ms/step - loss: 0.4504 - accuracy: 0.8088 - val_loss: 0.6323 - val_accuracy: 0.7206\n",
            "Epoch 122/130\n",
            "101/101 [==============================] - 10s 95ms/step - loss: 0.4659 - accuracy: 0.8032 - val_loss: 0.5559 - val_accuracy: 0.7684\n",
            "Epoch 123/130\n",
            "101/101 [==============================] - 9s 94ms/step - loss: 0.4297 - accuracy: 0.8156 - val_loss: 0.5392 - val_accuracy: 0.7647\n",
            "Epoch 124/130\n",
            "101/101 [==============================] - 9s 94ms/step - loss: 0.4509 - accuracy: 0.8007 - val_loss: 0.5227 - val_accuracy: 0.7831\n",
            "Epoch 125/130\n",
            "101/101 [==============================] - 9s 94ms/step - loss: 0.4511 - accuracy: 0.8094 - val_loss: 0.5648 - val_accuracy: 0.7757\n",
            "Epoch 126/130\n",
            "101/101 [==============================] - 9s 94ms/step - loss: 0.4624 - accuracy: 0.8113 - val_loss: 0.5478 - val_accuracy: 0.7868\n",
            "Epoch 127/130\n",
            "101/101 [==============================] - 10s 94ms/step - loss: 0.4548 - accuracy: 0.8014 - val_loss: 0.5547 - val_accuracy: 0.7757\n",
            "Epoch 128/130\n",
            "101/101 [==============================] - 10s 94ms/step - loss: 0.4475 - accuracy: 0.8187 - val_loss: 0.5208 - val_accuracy: 0.7904\n",
            "Epoch 129/130\n",
            "101/101 [==============================] - 10s 94ms/step - loss: 0.4514 - accuracy: 0.8038 - val_loss: 0.5721 - val_accuracy: 0.7537\n",
            "Epoch 130/130\n",
            "101/101 [==============================] - 9s 94ms/step - loss: 0.4463 - accuracy: 0.8088 - val_loss: 0.5705 - val_accuracy: 0.7941\n"
          ]
        }
      ],
      "source": [
        "# Create an Instance of Early Stopping Callback\n",
        "early_stopping_callback = keras.callbacks.EarlyStopping(monitor = 'val_loss',\n",
        "                                                        patience = 20,\n",
        "                                                        mode = 'min',\n",
        "                                                        restore_best_weights = True)\n",
        "# Compile the model and specify loss function, optimizer and metrics values to the model\n",
        "model.compile(loss = 'categorical_crossentropy',\n",
        "              optimizer= keras.optimizers.Adam(0.001, decay=1e-4),\n",
        "              metrics=['accuracy'])\n",
        "# Start training the model.\n",
        "cnn_3d_model_training_history = model.fit(x = features_train,\n",
        "                                          y = labels_train,\n",
        "                                          epochs=130,\n",
        "                                          batch_size=16,\n",
        "                                          shuffle = True,\n",
        "                                          validation_data = (features_valid, labels_valid)),\n",
        "                                          # callbacks = [early_stopping_callback])"
      ]
    },
    {
      "cell_type": "code",
      "execution_count": 13,
      "metadata": {
        "colab": {
          "base_uri": "https://localhost:8080/"
        },
        "id": "3vimsgjjbXvL",
        "outputId": "4e7aed4e-c266-4b45-8bd0-34d00855892f"
      },
      "outputs": [
        {
          "output_type": "stream",
          "name": "stdout",
          "text": [
            "9/9 [==============================] - 1s 66ms/step - loss: 1.1081 - accuracy: 0.6691\n",
            "\n",
            "\n",
            "Train accuracy: 87.067 % || Test accuracy: 66.912 % || Val accuracy: 79.412 %\n",
            "Train loss: 0.344 || Test loss: 1.108 || Val loss: 0.571\n"
          ]
        }
      ],
      "source": [
        "model_evaluation_history = model.evaluate(features_test, labels_test)\n",
        "print('\\n')\n",
        "train_loss, train_acc = model.evaluate(features_train, labels_train, verbose=0)\n",
        "test_loss, test_acc = model.evaluate(features_test, labels_test, verbose=0)\n",
        "val_loss, val_acc = model.evaluate(features_valid, labels_valid, verbose=0)\n",
        "print(f'Train accuracy: {train_acc*100:.3f} % || Test accuracy: {test_acc*100:.3f} % || Val accuracy: {val_acc*100:.3f} %')\n",
        "print(f'Train loss: {train_loss:.3f} || Test loss: {test_loss:.3f} || Val loss: {val_loss:.3f}')"
      ]
    },
    {
      "cell_type": "code",
      "execution_count": 14,
      "metadata": {
        "id": "ivmaK9BlbnRQ"
      },
      "outputs": [],
      "source": [
        "# Get the loss and accuracy from model_evaluation_history.\n",
        "model_evaluation_loss, model_evaluation_accuracy = model_evaluation_history\n",
        " \n",
        "# Define the string date format.\n",
        "# Get the current Date and Time in a DateTime Object.\n",
        "# Convert the DateTime object to string according to the style mentioned in date_time_format string.\n",
        "date_time_format = '%Y_%m_%d__%H_%M_%S'\n",
        "current_date_time_dt = dt.datetime.now()\n",
        "current_date_time_string = dt.datetime.strftime(current_date_time_dt, date_time_format)\n",
        " \n",
        "# Define a useful name for our model to make it easy for us while navigating through multiple saved models.\n",
        "model_file_name = f'3D_CNN_model___Date_Time_{current_date_time_string}___Loss_{model_evaluation_loss}___Accuracy_{model_evaluation_accuracy}.h5'\n",
        "# Change dir\n",
        "gdrive_path = '/content/gdrive' + '/My Drive/247/Saved_models/'\n",
        "os.chdir(gdrive_path)\n",
        "# Create a floder for the model files\n",
        "!mkdir -p cnn_3d_{current_date_time_string}\n",
        "# Save your Model.\n",
        "model.save('convlstm_' + str(current_date_time_string) + '/' + model_file_name)\n",
        "# Save model weights\n",
        "model.save_weights('convlstm_' + str(current_date_time_string) + '/' + 'weights')"
      ]
    },
    {
      "cell_type": "code",
      "execution_count": 15,
      "metadata": {
        "id": "OwU8TwPrbsKB"
      },
      "outputs": [],
      "source": [
        "def plot_metric(model_training_history, metric_name_1, metric_name_2, plot_name):\n",
        "    '''\n",
        "    This function will plot the metrics passed to it in a graph.\n",
        "    Args:\n",
        "        model_training_history: A history object containing a record of training and validation \n",
        "                                loss values and metrics values at successive epochs\n",
        "        metric_name_1:          The name of the first metric that needs to be plotted in the graph.\n",
        "        metric_name_2:          The name of the second metric that needs to be plotted in the graph.\n",
        "        plot_name:              The title of the graph.\n",
        "    '''\n",
        "    \n",
        "    # Get metric values using metric names as identifiers.\n",
        "    metric_value_1 = model_training_history[0].history[metric_name_1]\n",
        "    metric_value_2 = model_training_history[0].history[metric_name_2]\n",
        "    \n",
        "    # Construct a range object which will be used as x-axis (horizontal plane) of the graph.\n",
        "    epochs = range(len(metric_value_1))\n",
        "\n",
        "    # Plot the Graph.\n",
        "    plt.plot(epochs, metric_value_1, 'blue', label = metric_name_1)\n",
        "    plt.plot(epochs, metric_value_2, 'red', label = metric_name_2)\n",
        "\n",
        "    # Add title to the plot.\n",
        "    plt.title(str(plot_name))\n",
        "\n",
        "    # Add legend to the plot.\n",
        "    plt.legend()"
      ]
    },
    {
      "cell_type": "code",
      "execution_count": 16,
      "metadata": {
        "colab": {
          "base_uri": "https://localhost:8080/",
          "height": 281
        },
        "id": "cvKY05ncbwof",
        "outputId": "05a63a8e-2b04-4280-86ba-714119a162d8"
      },
      "outputs": [
        {
          "output_type": "display_data",
          "data": {
            "text/plain": [
              "<Figure size 432x288 with 1 Axes>"
            ],
            "image/png": "[encoded data removed]"
          },
          "metadata": {
            "needs_background": "light"
          }
        }
      ],
      "source": [
        "plot_metric(cnn_3d_model_training_history, 'loss', 'val_loss', 'Total Loss vs Total Validation Loss')"
      ]
    },
    {
      "cell_type": "code",
      "execution_count": 17,
      "metadata": {
        "colab": {
          "base_uri": "https://localhost:8080/",
          "height": 281
        },
        "id": "o1iaaDHBb5i0",
        "outputId": "c18c43a0-3c03-4d71-9865-295316d7169b"
      },
      "outputs": [
        {
          "output_type": "display_data",
          "data": {
            "text/plain": [
              "<Figure size 432x288 with 1 Axes>"
            ],
            "image/png": "[encoded data removed]"
          },
          "metadata": {
            "needs_background": "light"
          }
        }
      ],
      "source": [
        "plot_metric(cnn_3d_model_training_history, 'accuracy', 'val_accuracy', 'Total Accuracy vs Total Validation Accuracy') "
      ]
    }
  ],
  "metadata": {
    "accelerator": "GPU",
    "colab": {
      "collapsed_sections": [],
      "machine_shape": "hm",
      "name": "3D_CNN.ipynb",
      "provenance": [],
      "authorship_tag": "ABX9TyOPyvpOWxyK+0wKnQjcYyre",
      "include_colab_link": true
    },
    "kernelspec": {
      "display_name": "Python 3",
      "name": "python3"
    },
    "language_info": {
      "name": "python"
    }
  },
  "nbformat": 4,
  "nbformat_minor": 0
}