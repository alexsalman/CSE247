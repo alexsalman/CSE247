{
  "nbformat": 4,
  "nbformat_minor": 0,
  "metadata": {
    "colab": {
      "name": "2D_CNN+LSTM.ipynb",
      "provenance": [],
      "collapsed_sections": [],
      "machine_shape": "hm",
      "background_execution": "on",
      "authorship_tag": "ABX9TyPpZ3SihcR/FFvY9XDN4sJE",
      "include_colab_link": true
    },
    "kernelspec": {
      "name": "python3",
      "display_name": "Python 3"
    },
    "language_info": {
      "name": "python"
    },
    "accelerator": "GPU"
  },
  "cells": [
    {
      "cell_type": "markdown",
      "metadata": {
        "id": "view-in-github",
        "colab_type": "text"
      },
      "source": [
        "<a href=\"https://colab.research.google.com/github/alexsalman/CSE247/blob/main/2D_CNN%2BLSTM.ipynb\" target=\"_parent\"><img src=\"https://colab.research.google.com/assets/colab-badge.svg\" alt=\"Open In Colab\"/></a>"
      ]
    },
    {
      "cell_type": "markdown",
      "source": [
        "####**Convolutional Neural Network + Long Short Term Memory**\n",
        "######*I am using a Convolution Neural Network (CNN) + Long Short Term Memory (LSTM) Network to find general representation while utilizing the Spatial-temporal aspect of the videos.*"
      ],
      "metadata": {
        "id": "Fk8TLrPiv-ab"
      }
    },
    {
      "cell_type": "code",
      "execution_count": 1,
      "metadata": {
        "id": "M8ibtd5HKtZk"
      },
      "outputs": [],
      "source": [
        "# required libraries\n",
        "import os\n",
        "import cv2\n",
        "import math\n",
        "import random\n",
        "import numpy as np\n",
        "import datetime as dt\n",
        "from collections import deque\n",
        "import matplotlib.pyplot as plt\n",
        "from google.colab import drive\n",
        "from sklearn.model_selection import train_test_split\n",
        "import tensorflow as tf\n",
        "from tensorflow import keras\n",
        "from PIL import Image\n",
        "%matplotlib inline\n",
        "# https://bleedai.com/human-activity-recognition-using-tensorflow-cnn-lstm/"
      ]
    },
    {
      "cell_type": "code",
      "source": [
        "# set Numpy, Python, and Tensorflow seeds to get consistent results on every execution\n",
        "seed_constant = 27\n",
        "np.random.seed(seed_constant)\n",
        "random.seed(seed_constant)\n",
        "tf.random.set_seed(seed_constant)"
      ],
      "metadata": {
        "id": "iffdFOf1CEAN"
      },
      "execution_count": 2,
      "outputs": []
    },
    {
      "cell_type": "code",
      "source": [
        "# mount dataset from google drive\n",
        "drive.mount('/content/gdrive/', force_remount=True)\n",
        "gdrive_path = '/content/gdrive' + '/My Drive/247/'\n",
        "os.chdir(gdrive_path)\n",
        "os.getcwd()"
      ],
      "metadata": {
        "colab": {
          "base_uri": "https://localhost:8080/",
          "height": 53
        },
        "id": "mcLh22LiOHyn",
        "outputId": "68ebeb17-d27d-4bf1-9c96-b1dc4c07696c"
      },
      "execution_count": 3,
      "outputs": [
        {
          "output_type": "stream",
          "name": "stdout",
          "text": [
            "Mounted at /content/gdrive/\n"
          ]
        },
        {
          "output_type": "execute_result",
          "data": {
            "text/plain": [
              "'/content/gdrive/My Drive/247'"
            ],
            "application/vnd.google.colaboratory.intrinsic+json": {
              "type": "string"
            }
          },
          "metadata": {},
          "execution_count": 3
        }
      ]
    },
    {
      "cell_type": "code",
      "source": [
        "# frame dimention\n",
        "IMAGE_HEIGHT, IMAGE_WIDTH = 150, 150\n",
        "# frame number for each video (depth)\n",
        "SEQUENCE_LENGTH = 16\n",
        "# video dir path\n",
        "DATASET_DIR = gdrive_path + 'Cropped_videos'\n",
        "# labels of classes\n",
        "CLASSES_LIST = ['hemostasis', 'inflammatory', 'proliferative', 'maturation']"
      ],
      "metadata": {
        "id": "oeDK8SzumZ1Q"
      },
      "execution_count": 4,
      "outputs": []
    },
    {
      "cell_type": "code",
      "source": [
        "# image cropping\n",
        "def crop_center_square(frame):\n",
        "    y, x = frame.shape[0:2]\n",
        "    min_dim = min(y, x)\n",
        "    start_x = (x // 2) - (min_dim // 2)\n",
        "    start_y = (y // 2) - (min_dim // 2)\n",
        "    return frame[start_y:start_y+min_dim,start_x:start_x+min_dim]"
      ],
      "metadata": {
        "id": "3mFB5qD6b3Kd"
      },
      "execution_count": 5,
      "outputs": []
    },
    {
      "cell_type": "code",
      "source": [
        "# https://medium.com/analytics-vidhya/video-preprocessor-and-augmentation-for-deep-learning-tasks-12dd3fcce868\n",
        "def load_video(path, resize=(150, 150)):\n",
        "    video_reader = cv2.VideoCapture(path)\n",
        "    frames = []\n",
        "    try:\n",
        "        while True:\n",
        "            ret, frame = video_reader.read()\n",
        "            if not ret:\n",
        "                  break\n",
        "            frame = crop_center_square(frame)\n",
        "            frame = cv2.resize(frame, resize)\n",
        "            frame = frame[:, :, [2, 1, 0]]\n",
        "            black_frame = frame\n",
        "            frames.append(frame)\n",
        "    finally:\n",
        "        video_reader.release()\n",
        "    return np.array(frames) / 255.0\n"
      ],
      "metadata": {
        "id": "sqeexMUjaLzJ"
      },
      "execution_count": 6,
      "outputs": []
    },
    {
      "cell_type": "code",
      "source": [
        "def create_dataset(state):\n",
        "    # Declared Empty Lists to store the features, labels and video file path values.\n",
        "    features = []\n",
        "    labels = []\n",
        "    video_files_paths = []\n",
        "    # Iterating through all the classes mentioned in the classes list\n",
        "    for class_index, class_name in enumerate(CLASSES_LIST):\n",
        "        # Display the name of the class whose data is being extracted.\n",
        "        print(f'Extracting Data of Class: {class_name} {state}')\n",
        "        # Get the list of video files present in the specific class name directory.\n",
        "        files_list = os.listdir(os.path.join(DATASET_DIR, class_name))\n",
        "        # Iterate through all the files present in the files list.\n",
        "        for file_name in files_list:\n",
        "            # Get the complete video path.\n",
        "            video_file_path = os.path.join(DATASET_DIR, class_name, file_name)\n",
        "            # create testing data\n",
        "            if state == 'test':\n",
        "                # get the mouse number\n",
        "                mouse_number = int(video_file_path.split(' ')[2].split('_')[1].split('-')[1])\n",
        "                # get the mouse side (L or R)\n",
        "                mouse_side = video_file_path.split(' ')[2].split('_')[1].split('-')[2]\n",
        "                if mouse_number == 4 and mouse_side == 'L':\n",
        "                    frames = load_video(video_file_path)\n",
        "                    features.append(frames)\n",
        "                    labels.append(class_index)\n",
        "                    video_files_paths.append(video_file_path)\n",
        "            # create validation data\n",
        "            elif state == 'valid':\n",
        "                # get the mouse number\n",
        "                mouse_number = int(video_file_path.split(' ')[2].split('_')[1].split('-')[1])\n",
        "                # get the mouse side (L or R)\n",
        "                mouse_side = video_file_path.split(' ')[2].split('_')[1].split('-')[2]\n",
        "                if mouse_number == 4 and mouse_side == 'R':\n",
        "                    frames = load_video(video_file_path)\n",
        "                    features.append(frames)\n",
        "                    labels.append(class_index)\n",
        "                    video_files_paths.append(video_file_path)\n",
        "            # create training data\n",
        "            else:\n",
        "                # get the mouse number\n",
        "                mouse_number = int(video_file_path.split(' ')[2].split('_')[1].split('-')[1])\n",
        "                if mouse_number != 4:\n",
        "                    frames = load_video(video_file_path)\n",
        "                    features.append(frames)\n",
        "                    labels.append(class_index)\n",
        "                    video_files_paths.append(video_file_path)\n",
        "    # Converting the list to numpy arrays\n",
        "    features = np.asarray(features)\n",
        "    # print(features)\n",
        "    labels = np.array(labels)\n",
        "    # Return the frames, class index, and video file path.\n",
        "    return features, labels, video_files_paths"
      ],
      "metadata": {
        "id": "ljUWHW6Jqzu-"
      },
      "execution_count": 7,
      "outputs": []
    },
    {
      "cell_type": "code",
      "source": [
        "# 6 mice for training, 2 mice for test and validation (one wound on each mice for test one for validation)\n",
        "features_train, labels_train, video_files_paths_train = create_dataset('train')\n",
        "features_test, labels_test, video_files_paths_test = create_dataset('test')\n",
        "features_valid, labels_valid, video_files_paths_valid = create_dataset('valid')"
      ],
      "metadata": {
        "colab": {
          "base_uri": "https://localhost:8080/"
        },
        "id": "a8rpanz9rASe",
        "outputId": "c4321b7c-5c82-4f27-adfc-26c7e1cca87d"
      },
      "execution_count": 8,
      "outputs": [
        {
          "output_type": "stream",
          "name": "stdout",
          "text": [
            "Extracting Data of Class: hemostasis train\n",
            "Extracting Data of Class: inflammatory train\n",
            "Extracting Data of Class: proliferative train\n",
            "Extracting Data of Class: maturation train\n",
            "Extracting Data of Class: hemostasis test\n",
            "Extracting Data of Class: inflammatory test\n",
            "Extracting Data of Class: proliferative test\n",
            "Extracting Data of Class: maturation test\n",
            "Extracting Data of Class: hemostasis valid\n",
            "Extracting Data of Class: inflammatory valid\n",
            "Extracting Data of Class: proliferative valid\n",
            "Extracting Data of Class: maturation valid\n"
          ]
        }
      ]
    },
    {
      "cell_type": "code",
      "source": [
        "# one_hot_encoded_labels\n",
        "labels_train = keras.utils.to_categorical(labels_train)\n",
        "labels_test = keras.utils.to_categorical(labels_test)\n",
        "labels_valid = keras.utils.to_categorical(labels_valid)"
      ],
      "metadata": {
        "id": "dtJkK4qTAulC"
      },
      "execution_count": 9,
      "outputs": []
    },
    {
      "cell_type": "code",
      "source": [
        "def create_convlstm_model():\n",
        "    # A Sequential model for model construction\n",
        "    model = tf.keras.Sequential()\n",
        "\n",
        "    # Model Architecture.\n",
        "    ############################################################################\n",
        "    model.add(tf.keras.layers.ConvLSTM2D(filters = 4,\n",
        "                                         kernel_size = (3, 3),\n",
        "                                         activation = 'tanh',\n",
        "                                         data_format = \"channels_last\",\n",
        "                                         recurrent_dropout = 0.2,\n",
        "                                         return_sequences = True,\n",
        "                                         input_shape = (SEQUENCE_LENGTH,\n",
        "                                                        IMAGE_HEIGHT,\n",
        "                                                        IMAGE_WIDTH, 3)))\n",
        "    \n",
        "    model.add(tf.keras.layers.MaxPooling3D(pool_size=(1, 2, 2),\n",
        "                                           padding='same',\n",
        "                                           data_format='channels_last'))\n",
        "    \n",
        "    model.add(tf.keras.layers.TimeDistributed(tf.keras.layers.Dropout(0.2)))\n",
        "    \n",
        "    model.add(tf.keras.layers.ConvLSTM2D(filters = 8,\n",
        "                                         kernel_size = (3, 3),\n",
        "                                         activation = 'tanh',\n",
        "                                         data_format = \"channels_last\",\n",
        "                                         recurrent_dropout=0.2,\n",
        "                                         return_sequences=True))\n",
        "    \n",
        "    model.add(tf.keras.layers.MaxPooling3D(pool_size=(1, 2, 2),\n",
        "                                           padding='same',\n",
        "                                           data_format='channels_last'))\n",
        "    \n",
        "    model.add(tf.keras.layers.TimeDistributed(tf.keras.layers.Dropout(0.2)))\n",
        "    \n",
        "    model.add(tf.keras.layers.ConvLSTM2D(filters = 14,\n",
        "                                         kernel_size = (3, 3),\n",
        "                                         activation = 'tanh',\n",
        "                                         data_format = \"channels_last\",\n",
        "                                         recurrent_dropout=0.2,\n",
        "                                         return_sequences=True))\n",
        "    \n",
        "    model.add(tf.keras.layers.MaxPooling3D(pool_size=(1, 2, 2),\n",
        "                                           padding='same',\n",
        "                                           data_format='channels_last'))\n",
        "    \n",
        "    model.add(tf.keras.layers.TimeDistributed(tf.keras.layers.Dropout(0.2)))\n",
        "    \n",
        "    model.add(tf.keras.layers.ConvLSTM2D(filters = 16,\n",
        "                                         kernel_size = (3, 3),\n",
        "                                         activation = 'tanh',\n",
        "                                         data_format = \"channels_last\",\n",
        "                                         recurrent_dropout=0.2,\n",
        "                                         return_sequences=True))\n",
        "    \n",
        "    model.add(tf.keras.layers.MaxPooling3D(pool_size=(1, 2, 2),\n",
        "                                           padding='same',\n",
        "                                           data_format='channels_last'))\n",
        "    \n",
        "    model.add(tf.keras.layers.Flatten()) \n",
        "    \n",
        "    model.add(tf.keras.layers.Dense(len(CLASSES_LIST), activation = \"softmax\"))\n",
        "    ############################################################################\n",
        "    # Display the models summary.\n",
        "    model.summary()\n",
        "    # Return the constructed convlstm model.\n",
        "    return model"
      ],
      "metadata": {
        "id": "Bi-NDol3DHRV"
      },
      "execution_count": 10,
      "outputs": []
    },
    {
      "cell_type": "code",
      "source": [
        "# Construct the required convlstm model.\n",
        "convlstm_model = create_convlstm_model()\n",
        " \n",
        "# Display the success message. \n",
        "print(\"Model Created Successfully!\")"
      ],
      "metadata": {
        "id": "FbjNYI-0DY_v",
        "colab": {
          "base_uri": "https://localhost:8080/"
        },
        "outputId": "ba347594-4d6e-4cbd-b2e9-6bd95c33c30a"
      },
      "execution_count": 11,
      "outputs": [
        {
          "output_type": "stream",
          "name": "stdout",
          "text": [
            "Model: \"sequential\"\n",
            "_________________________________________________________________\n",
            " Layer (type)                Output Shape              Param #   \n",
            "=================================================================\n",
            " conv_lstm2d (ConvLSTM2D)    (None, 16, 148, 148, 4)   1024      \n",
            "                                                                 \n",
            " max_pooling3d (MaxPooling3D  (None, 16, 74, 74, 4)    0         \n",
            " )                                                               \n",
            "                                                                 \n",
            " time_distributed (TimeDistr  (None, 16, 74, 74, 4)    0         \n",
            " ibuted)                                                         \n",
            "                                                                 \n",
            " conv_lstm2d_1 (ConvLSTM2D)  (None, 16, 72, 72, 8)     3488      \n",
            "                                                                 \n",
            " max_pooling3d_1 (MaxPooling  (None, 16, 36, 36, 8)    0         \n",
            " 3D)                                                             \n",
            "                                                                 \n",
            " time_distributed_1 (TimeDis  (None, 16, 36, 36, 8)    0         \n",
            " tributed)                                                       \n",
            "                                                                 \n",
            " conv_lstm2d_2 (ConvLSTM2D)  (None, 16, 34, 34, 14)    11144     \n",
            "                                                                 \n",
            " max_pooling3d_2 (MaxPooling  (None, 16, 17, 17, 14)   0         \n",
            " 3D)                                                             \n",
            "                                                                 \n",
            " time_distributed_2 (TimeDis  (None, 16, 17, 17, 14)   0         \n",
            " tributed)                                                       \n",
            "                                                                 \n",
            " conv_lstm2d_3 (ConvLSTM2D)  (None, 16, 15, 15, 16)    17344     \n",
            "                                                                 \n",
            " max_pooling3d_3 (MaxPooling  (None, 16, 8, 8, 16)     0         \n",
            " 3D)                                                             \n",
            "                                                                 \n",
            " flatten (Flatten)           (None, 16384)             0         \n",
            "                                                                 \n",
            " dense (Dense)               (None, 4)                 65540     \n",
            "                                                                 \n",
            "=================================================================\n",
            "Total params: 98,540\n",
            "Trainable params: 98,540\n",
            "Non-trainable params: 0\n",
            "_________________________________________________________________\n",
            "Model Created Successfully!\n"
          ]
        }
      ]
    },
    {
      "cell_type": "code",
      "source": [
        "# keras.utils.plot_model(convlstm_model,\n",
        "#                          to_file = 'convlstm_model_structure_plot.png',\n",
        "#                          show_shapes = True,\n",
        "#                          show_layer_names = True)"
      ],
      "metadata": {
        "id": "nMYwQOwyF3bd"
      },
      "execution_count": 12,
      "outputs": []
    },
    {
      "cell_type": "code",
      "source": [
        "# Create an Instance of Early Stopping Callback\n",
        "early_stopping_callback = keras.callbacks.EarlyStopping(monitor = 'val_loss',\n",
        "                                                        patience = 10,\n",
        "                                                        mode = 'min',\n",
        "                                                        restore_best_weights = True)\n",
        "\n",
        "# Compile the model and specify loss function, optimizer and metrics values to the model\n",
        "convlstm_model.compile(loss = 'categorical_crossentropy',\n",
        "                       optimizer = 'Adam',\n",
        "                       metrics = [\"accuracy\"])\n",
        "\n",
        "# Start training the model.\n",
        "convlstm_model_training_history = convlstm_model.fit(x = features_train,\n",
        "                                                     y = labels_train,\n",
        "                                                     epochs = 50,\n",
        "                                                     batch_size = 4,\n",
        "                                                     shuffle = True,\n",
        "                                                     validation_data = (features_valid, labels_valid),\n",
        "                                                     callbacks = [early_stopping_callback])"
      ],
      "metadata": {
        "id": "vYC_6H0uGqW9",
        "colab": {
          "base_uri": "https://localhost:8080/"
        },
        "outputId": "fdf6eb75-54e3-4c19-fbad-81da024da1cd"
      },
      "execution_count": 13,
      "outputs": [
        {
          "output_type": "stream",
          "name": "stdout",
          "text": [
            "Epoch 1/50\n",
            "404/404 [==============================] - 99s 207ms/step - loss: 0.8875 - accuracy: 0.5662 - val_loss: 0.9477 - val_accuracy: 0.5772\n",
            "Epoch 2/50\n",
            "404/404 [==============================] - 80s 199ms/step - loss: 0.7278 - accuracy: 0.6448 - val_loss: 0.8409 - val_accuracy: 0.6544\n",
            "Epoch 3/50\n",
            "404/404 [==============================] - 81s 200ms/step - loss: 0.6188 - accuracy: 0.7228 - val_loss: 0.6872 - val_accuracy: 0.7647\n",
            "Epoch 4/50\n",
            "404/404 [==============================] - 82s 204ms/step - loss: 0.4626 - accuracy: 0.8001 - val_loss: 0.6410 - val_accuracy: 0.8015\n",
            "Epoch 5/50\n",
            "404/404 [==============================] - 82s 203ms/step - loss: 0.3832 - accuracy: 0.8422 - val_loss: 0.6160 - val_accuracy: 0.7978\n",
            "Epoch 6/50\n",
            "404/404 [==============================] - 83s 205ms/step - loss: 0.3251 - accuracy: 0.8645 - val_loss: 0.7305 - val_accuracy: 0.7132\n",
            "Epoch 7/50\n",
            "404/404 [==============================] - 82s 203ms/step - loss: 0.2517 - accuracy: 0.9028 - val_loss: 0.7627 - val_accuracy: 0.7868\n",
            "Epoch 8/50\n",
            "404/404 [==============================] - 82s 203ms/step - loss: 0.1389 - accuracy: 0.9437 - val_loss: 0.6838 - val_accuracy: 0.7978\n",
            "Epoch 9/50\n",
            "404/404 [==============================] - 82s 203ms/step - loss: 0.0683 - accuracy: 0.9740 - val_loss: 1.0757 - val_accuracy: 0.8199\n",
            "Epoch 10/50\n",
            "404/404 [==============================] - 81s 201ms/step - loss: 0.0446 - accuracy: 0.9821 - val_loss: 1.2968 - val_accuracy: 0.7647\n",
            "Epoch 11/50\n",
            "404/404 [==============================] - 81s 201ms/step - loss: 0.0170 - accuracy: 0.9969 - val_loss: 1.2339 - val_accuracy: 0.7978\n",
            "Epoch 12/50\n",
            "404/404 [==============================] - 81s 200ms/step - loss: 0.0157 - accuracy: 0.9944 - val_loss: 1.3927 - val_accuracy: 0.7941\n",
            "Epoch 13/50\n",
            "404/404 [==============================] - 81s 200ms/step - loss: 0.0428 - accuracy: 0.9845 - val_loss: 1.1816 - val_accuracy: 0.8125\n",
            "Epoch 14/50\n",
            "404/404 [==============================] - 80s 197ms/step - loss: 0.0448 - accuracy: 0.9851 - val_loss: 1.3009 - val_accuracy: 0.7831\n",
            "Epoch 15/50\n",
            "404/404 [==============================] - 80s 197ms/step - loss: 0.0216 - accuracy: 0.9944 - val_loss: 1.1419 - val_accuracy: 0.7721\n"
          ]
        }
      ]
    },
    {
      "cell_type": "code",
      "source": [
        "model_evaluation_history = convlstm_model.evaluate(features_test, labels_test)"
      ],
      "metadata": {
        "id": "LcpKhGqvIenv",
        "colab": {
          "base_uri": "https://localhost:8080/"
        },
        "outputId": "761876ba-fea7-47e4-a275-6ce12a1099b2"
      },
      "execution_count": 14,
      "outputs": [
        {
          "output_type": "stream",
          "name": "stdout",
          "text": [
            "9/9 [==============================] - 3s 181ms/step - loss: 0.8861 - accuracy: 0.6912\n"
          ]
        }
      ]
    },
    {
      "cell_type": "code",
      "source": [
        "# Get the loss and accuracy from model_evaluation_history.\n",
        "model_evaluation_loss, model_evaluation_accuracy = model_evaluation_history\n",
        " \n",
        "# Define the string date format.\n",
        "# Get the current Date and Time in a DateTime Object.\n",
        "# Convert the DateTime object to string according to the style mentioned in date_time_format string.\n",
        "date_time_format = '%Y_%m_%d__%H_%M_%S'\n",
        "current_date_time_dt = dt.datetime.now()\n",
        "current_date_time_string = dt.datetime.strftime(current_date_time_dt, date_time_format)\n",
        " \n",
        "# Define a useful name for our model to make it easy for us while navigating through multiple saved models.\n",
        "model_file_name = f'convlstm_model___Date_Time_{current_date_time_string}___Loss_{model_evaluation_loss}___Accuracy_{model_evaluation_accuracy}.h5'\n",
        " \n",
        "# Save your Model.\n",
        "convlstm_model.save(model_file_name)"
      ],
      "metadata": {
        "id": "qsFw5KIzIum9"
      },
      "execution_count": 15,
      "outputs": []
    },
    {
      "cell_type": "code",
      "source": [
        "def plot_metric(model_training_history, metric_name_1, metric_name_2, plot_name):\n",
        "    '''\n",
        "    This function will plot the metrics passed to it in a graph.\n",
        "    Args:\n",
        "        model_training_history: A history object containing a record of training and validation \n",
        "                                loss values and metrics values at successive epochs\n",
        "        metric_name_1:          The name of the first metric that needs to be plotted in the graph.\n",
        "        metric_name_2:          The name of the second metric that needs to be plotted in the graph.\n",
        "        plot_name:              The title of the graph.\n",
        "    '''\n",
        "    \n",
        "    # Get metric values using metric names as identifiers.\n",
        "    metric_value_1 = model_training_history.history[metric_name_1]\n",
        "    metric_value_2 = model_training_history.history[metric_name_2]\n",
        "    \n",
        "    # Construct a range object which will be used as x-axis (horizontal plane) of the graph.\n",
        "    epochs = range(len(metric_value_1))\n",
        "\n",
        "    # Plot the Graph.\n",
        "    plt.plot(epochs, metric_value_1, 'blue', label = metric_name_1)\n",
        "    plt.plot(epochs, metric_value_2, 'red', label = metric_name_2)\n",
        "\n",
        "    # Add title to the plot.\n",
        "    plt.title(str(plot_name))\n",
        "\n",
        "    # Add legend to the plot.\n",
        "    plt.legend()"
      ],
      "metadata": {
        "id": "Z0eAobhSIz_P"
      },
      "execution_count": 16,
      "outputs": []
    },
    {
      "cell_type": "code",
      "source": [
        "plot_metric(convlstm_model_training_history, 'loss', 'val_loss', 'Total Loss vs Total Validation Loss')"
      ],
      "metadata": {
        "id": "18RtBjI9I5lE",
        "colab": {
          "base_uri": "https://localhost:8080/",
          "height": 281
        },
        "outputId": "b6d738cf-1c2d-411e-9d22-fb87df78a8a7"
      },
      "execution_count": 17,
      "outputs": [
        {
          "output_type": "display_data",
          "data": {
            "text/plain": [
              "<Figure size 432x288 with 1 Axes>"
            ],
            "image/png": "[encoded data removed]"
          },
          "metadata": {
            "needs_background": "light"
          }
        }
      ]
    },
    {
      "cell_type": "code",
      "source": [
        "plot_metric(convlstm_model_training_history, 'accuracy', 'val_accuracy', 'Total Accuracy vs Total Validation Accuracy') "
      ],
      "metadata": {
        "id": "02amk7TXI_OS",
        "colab": {
          "base_uri": "https://localhost:8080/",
          "height": 281
        },
        "outputId": "28bfe3ab-9d18-4375-c393-9399bf92df51"
      },
      "execution_count": 18,
      "outputs": [
        {
          "output_type": "display_data",
          "data": {
            "text/plain": [
              "<Figure size 432x288 with 1 Axes>"
            ],
            "image/png": "[encoded data removed]"
          },
          "metadata": {
            "needs_background": "light"
          }
        }
      ]
    }
  ]
}