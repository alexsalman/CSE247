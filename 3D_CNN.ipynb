{
  "cells": [
    {
      "cell_type": "markdown",
      "metadata": {
        "id": "view-in-github",
        "colab_type": "text"
      },
      "source": [
        "<a href=\"https://colab.research.google.com/github/alexsalman/CSE247/blob/main/3D_CNN.ipynb\" target=\"_parent\"><img src=\"https://colab.research.google.com/assets/colab-badge.svg\" alt=\"Open In Colab\"/></a>"
      ]
    },
    {
      "cell_type": "markdown",
      "metadata": {
        "id": "Kk7I8NauauE3"
      },
      "source": [
        "####**3D Convolutional Neural Network**\n",
        "######*I am using 3D Convolutional Neural Network to extract the temporal and spatial information which are merged slowly throughout the whole network.*"
      ]
    },
    {
      "cell_type": "code",
      "execution_count": 1,
      "metadata": {
        "colab": {
          "base_uri": "https://localhost:8080/"
        },
        "id": "M8ibtd5HKtZk",
        "outputId": "2a899199-63c3-4a65-b924-d693d5ce9356"
      },
      "outputs": [
        {
          "output_type": "stream",
          "name": "stdout",
          "text": [
            "2.8.0\n"
          ]
        }
      ],
      "source": [
        "# required libraries\n",
        "import os\n",
        "import cv2\n",
        "import math\n",
        "import random\n",
        "import numpy as np\n",
        "import datetime as dt\n",
        "from collections import deque\n",
        "import matplotlib.pyplot as plt\n",
        "from google.colab import drive\n",
        "from sklearn.model_selection import train_test_split\n",
        "import tensorflow as tf\n",
        "from tensorflow import keras\n",
        "from keras.models import Sequential\n",
        "from keras.layers import Dense, Flatten, Conv3D, MaxPooling3D, Dropout, BatchNormalization, GlobalAveragePooling3D\n",
        "from keras import regularizers\n",
        "from PIL import Image\n",
        "%matplotlib inline\n",
        "print(tf.version.VERSION)\n",
        "# https://bleedai.com/human-activity-recognition-using-tensorflow-cnn-lstm/"
      ]
    },
    {
      "cell_type": "code",
      "execution_count": 2,
      "metadata": {
        "id": "iffdFOf1CEAN"
      },
      "outputs": [],
      "source": [
        "# set Numpy, Python, and Tensorflow seeds to get consistent results on every execution\n",
        "seed_constant = 27\n",
        "np.random.seed(seed_constant)\n",
        "random.seed(seed_constant)\n",
        "tf.random.set_seed(seed_constant)"
      ]
    },
    {
      "cell_type": "code",
      "execution_count": 3,
      "metadata": {
        "colab": {
          "base_uri": "https://localhost:8080/",
          "height": 53
        },
        "id": "mcLh22LiOHyn",
        "outputId": "d65cb0ed-6f30-498a-87ea-2939160de604"
      },
      "outputs": [
        {
          "output_type": "stream",
          "name": "stdout",
          "text": [
            "Mounted at /content/gdrive/\n"
          ]
        },
        {
          "output_type": "execute_result",
          "data": {
            "text/plain": [
              "'/content/gdrive/My Drive/247'"
            ],
            "application/vnd.google.colaboratory.intrinsic+json": {
              "type": "string"
            }
          },
          "metadata": {},
          "execution_count": 3
        }
      ],
      "source": [
        "# mount dataset from google drive\n",
        "drive.mount('/content/gdrive/', force_remount=True)\n",
        "gdrive_path = '/content/gdrive' + '/My Drive/247/'\n",
        "os.chdir(gdrive_path)\n",
        "os.getcwd()"
      ]
    },
    {
      "cell_type": "code",
      "execution_count": 4,
      "metadata": {
        "id": "oeDK8SzumZ1Q"
      },
      "outputs": [],
      "source": [
        "# frame dimention\n",
        "IMAGE_HEIGHT, IMAGE_WIDTH = 128, 128\n",
        "# frame number for each video (depth)\n",
        "SEQUENCE_LENGTH = 16\n",
        "# video dir path\n",
        "DATASET_DIR = gdrive_path + 'Cropped_videos'\n",
        "# labels of classes\n",
        "CLASSES_LIST = ['hemostasis', 'inflammatory', 'proliferative', 'maturation']"
      ]
    },
    {
      "cell_type": "code",
      "execution_count": 5,
      "metadata": {
        "id": "HUTeIqzpZc9J"
      },
      "outputs": [],
      "source": [
        "# image cropping\n",
        "def crop_center_square(frame):\n",
        "    y, x = frame.shape[0:2]\n",
        "    min_dim = min(y, x)\n",
        "    start_x = (x // 2) - (min_dim // 2)\n",
        "    start_y = (y // 2) - (min_dim // 2)\n",
        "    return frame[start_y:start_y+min_dim,start_x:start_x+min_dim]"
      ]
    },
    {
      "cell_type": "code",
      "execution_count": 6,
      "metadata": {
        "id": "QRDbHG0TZkYJ"
      },
      "outputs": [],
      "source": [
        "# https://medium.com/analytics-vidhya/video-preprocessor-and-augmentation-for-deep-learning-tasks-12dd3fcce868\n",
        "def load_video(path, resize=(128, 128)):\n",
        "    video_reader = cv2.VideoCapture(path)\n",
        "    frames = []\n",
        "    try:\n",
        "        while True:\n",
        "            ret, frame = video_reader.read()\n",
        "            if not ret:\n",
        "                  break\n",
        "            # frame = crop_center_square(frame)\n",
        "            frame = cv2.resize(frame, resize)\n",
        "            frame = frame[:, :, [2, 1, 0]]\n",
        "            black_frame = frame\n",
        "            frames.append(frame)\n",
        "    finally:\n",
        "        video_reader.release()\n",
        "    return np.array(frames) / 255.0"
      ]
    },
    {
      "cell_type": "code",
      "execution_count": 7,
      "metadata": {
        "id": "ljUWHW6Jqzu-"
      },
      "outputs": [],
      "source": [
        "def create_dataset(state):\n",
        "    # Declared Empty Lists to store the features, labels and video file path values.\n",
        "    features = []\n",
        "    labels = []\n",
        "    video_files_paths = []\n",
        "    # Iterating through all the classes mentioned in the classes list\n",
        "    for class_index, class_name in enumerate(CLASSES_LIST):\n",
        "        # Display the name of the class whose data is being extracted.\n",
        "        print(f'Extracting Data of Class: {class_name} {state}')\n",
        "        # Get the list of video files present in the specific class name directory.\n",
        "        files_list = os.listdir(os.path.join(DATASET_DIR, class_name))\n",
        "        # Iterate through all the files present in the files list.\n",
        "        for file_name in files_list:\n",
        "            # Get the complete video path.\n",
        "            video_file_path = os.path.join(DATASET_DIR, class_name, file_name)\n",
        "            # create testing data\n",
        "            if state == 'test':\n",
        "                # get the mouse number\n",
        "                mouse_number = int(video_file_path.split(' ')[2].split('_')[1].split('-')[1])\n",
        "                # get the mouse side (L or R)\n",
        "                mouse_side = video_file_path.split(' ')[2].split('_')[1].split('-')[2]\n",
        "                if mouse_number == 4 and mouse_side == 'L':\n",
        "                    frames = load_video(video_file_path)\n",
        "                    features.append(frames)\n",
        "                    labels.append(class_index)\n",
        "                    video_files_paths.append(video_file_path)\n",
        "            # create validation data\n",
        "            elif state == 'valid':\n",
        "                # get the mouse number\n",
        "                mouse_number = int(video_file_path.split(' ')[2].split('_')[1].split('-')[1])\n",
        "                # get the mouse side (L or R)\n",
        "                mouse_side = video_file_path.split(' ')[2].split('_')[1].split('-')[2]\n",
        "                if mouse_number == 4 and mouse_side == 'R':\n",
        "                    frames = load_video(video_file_path)\n",
        "                    features.append(frames)\n",
        "                    labels.append(class_index)\n",
        "                    video_files_paths.append(video_file_path)\n",
        "            # create training data\n",
        "            else:\n",
        "                # get the mouse number\n",
        "                mouse_number = int(video_file_path.split(' ')[2].split('_')[1].split('-')[1])\n",
        "                if mouse_number != 4:\n",
        "                    frames = load_video(video_file_path)\n",
        "                    features.append(frames)\n",
        "                    labels.append(class_index)\n",
        "                    video_files_paths.append(video_file_path)\n",
        "    # Converting the list to numpy arrays\n",
        "    features = np.asarray(features)\n",
        "    # print(features)\n",
        "    labels = np.array(labels)\n",
        "    # Return the frames, class index, and video file path.\n",
        "    return features, labels, video_files_paths"
      ]
    },
    {
      "cell_type": "code",
      "execution_count": 8,
      "metadata": {
        "colab": {
          "base_uri": "https://localhost:8080/"
        },
        "id": "a8rpanz9rASe",
        "outputId": "3852f2bf-8f75-4dd5-a48a-c1a7134c2740"
      },
      "outputs": [
        {
          "output_type": "stream",
          "name": "stdout",
          "text": [
            "Extracting Data of Class: hemostasis train\n",
            "Extracting Data of Class: inflammatory train\n",
            "Extracting Data of Class: proliferative train\n",
            "Extracting Data of Class: maturation train\n",
            "Extracting Data of Class: hemostasis test\n",
            "Extracting Data of Class: inflammatory test\n",
            "Extracting Data of Class: proliferative test\n",
            "Extracting Data of Class: maturation test\n",
            "Extracting Data of Class: hemostasis valid\n",
            "Extracting Data of Class: inflammatory valid\n",
            "Extracting Data of Class: proliferative valid\n",
            "Extracting Data of Class: maturation valid\n"
          ]
        }
      ],
      "source": [
        "# 6 mice for training, 2 mice for test and validation (one wound on each mice for test one for validation)\n",
        "features_train, labels_train, video_files_paths_train = create_dataset('train')\n",
        "features_test, labels_test, video_files_paths_test = create_dataset('test')\n",
        "features_valid, labels_valid, video_files_paths_valid = create_dataset('valid')"
      ]
    },
    {
      "cell_type": "code",
      "execution_count": 9,
      "metadata": {
        "id": "dtJkK4qTAulC"
      },
      "outputs": [],
      "source": [
        "# one_hot_encoded_labels\n",
        "labels_train = keras.utils.to_categorical(labels_train)\n",
        "labels_test = keras.utils.to_categorical(labels_test)\n",
        "labels_valid = keras.utils.to_categorical(labels_valid)"
      ]
    },
    {
      "cell_type": "code",
      "execution_count": 10,
      "metadata": {
        "id": "N-9ykP4ig7IW"
      },
      "outputs": [],
      "source": [
        "def create_3D_CNN_model():\n",
        "    sample_shape = (16, 128, 128, 3)\n",
        "    model = Sequential()\n",
        "\n",
        "    model.add(Conv3D(32, 3, activation='relu', kernel_initializer='he_uniform',\n",
        "                     kernel_regularizer=regularizers.L2(l2=1e-4),\n",
        "                     input_shape=sample_shape))\n",
        "    # model.add(BatchNormalization())\n",
        "    model.add(MaxPooling3D(2))\n",
        "    model.add(Dropout(0.6))\n",
        "\n",
        "    model.add(Conv3D(32, 3, activation='relu', kernel_initializer='he_uniform',\n",
        "                     kernel_regularizer=regularizers.L2(l2=1e-4)))\n",
        "    # model.add(BatchNormalization())\n",
        "    model.add(MaxPooling3D(2))\n",
        "    model.add(Dropout(0.6))\n",
        "\n",
        "    model.add(GlobalAveragePooling3D())\n",
        "\n",
        "    model.add(Dense(128, activation='relu', kernel_initializer='he_uniform',\n",
        "                    kernel_regularizer=regularizers.L2(l2=1e-4)))\n",
        "    model.add(Dropout(0.6))\n",
        "\n",
        "    model.add(Dense(16, activation='relu', kernel_initializer='he_uniform'))\n",
        "    model.add(Dropout(0.7))\n",
        "    model.add(Dense(8, activation='relu', kernel_initializer='he_uniform'))\n",
        "    # model.add(Dense(4, activation='relu', kernel_initializer='he_uniform'))\n",
        "    # model.add(Dropout(0.3))\n",
        "    # model.add(Dense(8, activation='relu', kernel_initializer='he_uniform'))\n",
        "    # model.add(Dropout(0.3))\n",
        "    model.add(Dense(len(CLASSES_LIST), activation='softmax'))\n",
        "\n",
        "    # Display the models summary.\n",
        "    model.summary(line_length = 125)\n",
        "    # Return the constructed 3D_CNN model.\n",
        "    return model"
      ]
    },
    {
      "cell_type": "code",
      "execution_count": 11,
      "metadata": {
        "colab": {
          "base_uri": "https://localhost:8080/"
        },
        "id": "Z4_GxXZBcHlB",
        "outputId": "a3e733bc-a149-443e-8710-fbd0d90aa3a0"
      },
      "outputs": [
        {
          "output_type": "stream",
          "name": "stdout",
          "text": [
            "Model: \"sequential\"\n",
            "_____________________________________________________________________________________________________________________________\n",
            " Layer (type)                                           Output Shape                                      Param #            \n",
            "=============================================================================================================================\n",
            " conv3d (Conv3D)                                        (None, 14, 126, 126, 32)                          2624               \n",
            "                                                                                                                             \n",
            " max_pooling3d (MaxPooling3D)                           (None, 7, 63, 63, 32)                             0                  \n",
            "                                                                                                                             \n",
            " dropout (Dropout)                                      (None, 7, 63, 63, 32)                             0                  \n",
            "                                                                                                                             \n",
            " conv3d_1 (Conv3D)                                      (None, 5, 61, 61, 32)                             27680              \n",
            "                                                                                                                             \n",
            " max_pooling3d_1 (MaxPooling3D)                         (None, 2, 30, 30, 32)                             0                  \n",
            "                                                                                                                             \n",
            " dropout_1 (Dropout)                                    (None, 2, 30, 30, 32)                             0                  \n",
            "                                                                                                                             \n",
            " global_average_pooling3d (GlobalAveragePooling3D)      (None, 32)                                        0                  \n",
            "                                                                                                                             \n",
            " dense (Dense)                                          (None, 128)                                       4224               \n",
            "                                                                                                                             \n",
            " dropout_2 (Dropout)                                    (None, 128)                                       0                  \n",
            "                                                                                                                             \n",
            " dense_1 (Dense)                                        (None, 16)                                        2064               \n",
            "                                                                                                                             \n",
            " dropout_3 (Dropout)                                    (None, 16)                                        0                  \n",
            "                                                                                                                             \n",
            " dense_2 (Dense)                                        (None, 8)                                         136                \n",
            "                                                                                                                             \n",
            " dense_3 (Dense)                                        (None, 4)                                         36                 \n",
            "                                                                                                                             \n",
            "=============================================================================================================================\n",
            "Total params: 36,764\n",
            "Trainable params: 36,764\n",
            "Non-trainable params: 0\n",
            "_____________________________________________________________________________________________________________________________\n",
            "Model Created Successfully!\n"
          ]
        }
      ],
      "source": [
        "# Construct the required convlstm model.\n",
        "model = create_3D_CNN_model()\n",
        " \n",
        "# Display the success message. \n",
        "print(\"Model Created Successfully!\")"
      ]
    },
    {
      "cell_type": "code",
      "execution_count": 12,
      "metadata": {
        "colab": {
          "base_uri": "https://localhost:8080/"
        },
        "id": "MwYEkaYLoyb_",
        "outputId": "383eab60-87f3-4867-bd53-e3f105b946e7"
      },
      "outputs": [
        {
          "output_type": "stream",
          "name": "stdout",
          "text": [
            "Epoch 1/100\n",
            "101/101 [==============================] - 21s 105ms/step - loss: 1.4295 - accuracy: 0.3991 - val_loss: 1.2684 - val_accuracy: 0.3566\n",
            "Epoch 2/100\n",
            "101/101 [==============================] - 10s 97ms/step - loss: 1.2032 - accuracy: 0.3806 - val_loss: 1.1244 - val_accuracy: 0.3566\n",
            "Epoch 3/100\n",
            "101/101 [==============================] - 10s 96ms/step - loss: 1.1437 - accuracy: 0.4053 - val_loss: 1.0995 - val_accuracy: 0.3566\n",
            "Epoch 4/100\n",
            "101/101 [==============================] - 10s 97ms/step - loss: 1.1149 - accuracy: 0.4264 - val_loss: 1.0392 - val_accuracy: 0.5882\n",
            "Epoch 5/100\n",
            "101/101 [==============================] - 10s 97ms/step - loss: 1.0627 - accuracy: 0.4672 - val_loss: 0.9816 - val_accuracy: 0.5956\n",
            "Epoch 6/100\n",
            "101/101 [==============================] - 10s 97ms/step - loss: 1.0180 - accuracy: 0.5012 - val_loss: 0.9497 - val_accuracy: 0.5993\n",
            "Epoch 7/100\n",
            "101/101 [==============================] - 10s 97ms/step - loss: 0.9897 - accuracy: 0.5210 - val_loss: 0.8887 - val_accuracy: 0.6250\n",
            "Epoch 8/100\n",
            "101/101 [==============================] - 10s 97ms/step - loss: 0.9619 - accuracy: 0.5421 - val_loss: 0.8760 - val_accuracy: 0.5882\n",
            "Epoch 9/100\n",
            "101/101 [==============================] - 10s 96ms/step - loss: 0.9278 - accuracy: 0.5594 - val_loss: 0.8574 - val_accuracy: 0.6103\n",
            "Epoch 10/100\n",
            "101/101 [==============================] - 10s 96ms/step - loss: 0.9389 - accuracy: 0.5483 - val_loss: 0.8526 - val_accuracy: 0.6176\n",
            "Epoch 11/100\n",
            "101/101 [==============================] - 10s 97ms/step - loss: 0.9127 - accuracy: 0.5507 - val_loss: 0.8636 - val_accuracy: 0.6103\n",
            "Epoch 12/100\n",
            "101/101 [==============================] - 10s 97ms/step - loss: 0.8832 - accuracy: 0.5749 - val_loss: 0.8351 - val_accuracy: 0.6066\n",
            "Epoch 13/100\n",
            "101/101 [==============================] - 10s 96ms/step - loss: 0.8886 - accuracy: 0.5736 - val_loss: 0.8207 - val_accuracy: 0.6287\n",
            "Epoch 14/100\n",
            "101/101 [==============================] - 10s 96ms/step - loss: 0.8644 - accuracy: 0.5934 - val_loss: 0.8308 - val_accuracy: 0.5478\n",
            "Epoch 15/100\n",
            "101/101 [==============================] - 10s 96ms/step - loss: 0.8829 - accuracy: 0.5798 - val_loss: 0.8222 - val_accuracy: 0.5956\n",
            "Epoch 16/100\n",
            "101/101 [==============================] - 10s 97ms/step - loss: 0.8628 - accuracy: 0.6015 - val_loss: 0.8429 - val_accuracy: 0.5478\n",
            "Epoch 17/100\n",
            "101/101 [==============================] - 10s 97ms/step - loss: 0.8257 - accuracy: 0.6151 - val_loss: 0.8128 - val_accuracy: 0.6066\n",
            "Epoch 18/100\n",
            "101/101 [==============================] - 10s 96ms/step - loss: 0.8465 - accuracy: 0.6219 - val_loss: 0.8533 - val_accuracy: 0.4706\n",
            "Epoch 19/100\n",
            "101/101 [==============================] - 10s 96ms/step - loss: 0.8462 - accuracy: 0.5965 - val_loss: 0.8109 - val_accuracy: 0.6287\n",
            "Epoch 20/100\n",
            "101/101 [==============================] - 10s 96ms/step - loss: 0.8467 - accuracy: 0.5897 - val_loss: 0.7952 - val_accuracy: 0.6471\n",
            "Epoch 21/100\n",
            "101/101 [==============================] - 10s 96ms/step - loss: 0.7913 - accuracy: 0.6442 - val_loss: 0.7782 - val_accuracy: 0.6360\n",
            "Epoch 22/100\n",
            "101/101 [==============================] - 10s 96ms/step - loss: 0.8050 - accuracy: 0.6411 - val_loss: 0.7757 - val_accuracy: 0.6544\n",
            "Epoch 23/100\n",
            "101/101 [==============================] - 10s 97ms/step - loss: 0.8078 - accuracy: 0.6504 - val_loss: 0.8241 - val_accuracy: 0.5404\n",
            "Epoch 24/100\n",
            "101/101 [==============================] - 10s 96ms/step - loss: 0.7827 - accuracy: 0.6504 - val_loss: 0.8135 - val_accuracy: 0.5846\n",
            "Epoch 25/100\n",
            "101/101 [==============================] - 10s 96ms/step - loss: 0.7989 - accuracy: 0.6361 - val_loss: 0.7955 - val_accuracy: 0.6213\n",
            "Epoch 26/100\n",
            "101/101 [==============================] - 10s 96ms/step - loss: 0.7903 - accuracy: 0.6578 - val_loss: 0.7832 - val_accuracy: 0.6581\n",
            "Epoch 27/100\n",
            "101/101 [==============================] - 10s 96ms/step - loss: 0.7786 - accuracy: 0.6627 - val_loss: 0.7727 - val_accuracy: 0.6397\n",
            "Epoch 28/100\n",
            "101/101 [==============================] - 10s 96ms/step - loss: 0.7515 - accuracy: 0.6677 - val_loss: 0.7293 - val_accuracy: 0.6765\n",
            "Epoch 29/100\n",
            "101/101 [==============================] - 10s 96ms/step - loss: 0.7524 - accuracy: 0.6745 - val_loss: 0.7759 - val_accuracy: 0.6140\n",
            "Epoch 30/100\n",
            "101/101 [==============================] - 10s 96ms/step - loss: 0.7489 - accuracy: 0.6702 - val_loss: 0.7502 - val_accuracy: 0.6618\n",
            "Epoch 31/100\n",
            "101/101 [==============================] - 10s 96ms/step - loss: 0.7620 - accuracy: 0.6652 - val_loss: 0.7971 - val_accuracy: 0.5809\n",
            "Epoch 32/100\n",
            "101/101 [==============================] - 10s 96ms/step - loss: 0.7385 - accuracy: 0.6665 - val_loss: 0.7691 - val_accuracy: 0.6176\n",
            "Epoch 33/100\n",
            "101/101 [==============================] - 10s 96ms/step - loss: 0.7287 - accuracy: 0.6770 - val_loss: 0.7241 - val_accuracy: 0.6691\n",
            "Epoch 34/100\n",
            "101/101 [==============================] - 10s 96ms/step - loss: 0.7293 - accuracy: 0.6708 - val_loss: 0.7193 - val_accuracy: 0.6875\n",
            "Epoch 35/100\n",
            "101/101 [==============================] - 10s 95ms/step - loss: 0.7205 - accuracy: 0.6863 - val_loss: 0.7505 - val_accuracy: 0.6691\n",
            "Epoch 36/100\n",
            "101/101 [==============================] - 10s 96ms/step - loss: 0.7164 - accuracy: 0.6838 - val_loss: 0.7623 - val_accuracy: 0.6176\n",
            "Epoch 37/100\n",
            "101/101 [==============================] - 10s 96ms/step - loss: 0.7184 - accuracy: 0.6745 - val_loss: 0.7893 - val_accuracy: 0.5368\n",
            "Epoch 38/100\n",
            "101/101 [==============================] - 10s 96ms/step - loss: 0.7015 - accuracy: 0.6875 - val_loss: 0.7674 - val_accuracy: 0.5993\n",
            "Epoch 39/100\n",
            "101/101 [==============================] - 10s 95ms/step - loss: 0.6929 - accuracy: 0.6986 - val_loss: 0.7227 - val_accuracy: 0.6912\n",
            "Epoch 40/100\n",
            "101/101 [==============================] - 10s 96ms/step - loss: 0.6979 - accuracy: 0.7030 - val_loss: 0.7314 - val_accuracy: 0.6507\n",
            "Epoch 41/100\n",
            "101/101 [==============================] - 10s 96ms/step - loss: 0.6991 - accuracy: 0.6887 - val_loss: 0.7107 - val_accuracy: 0.6838\n",
            "Epoch 42/100\n",
            "101/101 [==============================] - 10s 95ms/step - loss: 0.6758 - accuracy: 0.7067 - val_loss: 0.7764 - val_accuracy: 0.5956\n",
            "Epoch 43/100\n",
            "101/101 [==============================] - 10s 96ms/step - loss: 0.6610 - accuracy: 0.7110 - val_loss: 0.7934 - val_accuracy: 0.5699\n",
            "Epoch 44/100\n",
            "101/101 [==============================] - 10s 95ms/step - loss: 0.6915 - accuracy: 0.6943 - val_loss: 0.7215 - val_accuracy: 0.6875\n",
            "Epoch 45/100\n",
            "101/101 [==============================] - 10s 95ms/step - loss: 0.6551 - accuracy: 0.7135 - val_loss: 0.7021 - val_accuracy: 0.7022\n",
            "Epoch 46/100\n",
            "101/101 [==============================] - 10s 96ms/step - loss: 0.6671 - accuracy: 0.7073 - val_loss: 0.6770 - val_accuracy: 0.6985\n",
            "Epoch 47/100\n",
            "101/101 [==============================] - 10s 96ms/step - loss: 0.6857 - accuracy: 0.6955 - val_loss: 0.7249 - val_accuracy: 0.6985\n",
            "Epoch 48/100\n",
            "101/101 [==============================] - 10s 96ms/step - loss: 0.6449 - accuracy: 0.7215 - val_loss: 0.7322 - val_accuracy: 0.6618\n",
            "Epoch 49/100\n",
            "101/101 [==============================] - 10s 96ms/step - loss: 0.6462 - accuracy: 0.7092 - val_loss: 0.7622 - val_accuracy: 0.6691\n",
            "Epoch 50/100\n",
            "101/101 [==============================] - 10s 97ms/step - loss: 0.6332 - accuracy: 0.7321 - val_loss: 0.7032 - val_accuracy: 0.7022\n",
            "Epoch 51/100\n",
            "101/101 [==============================] - 10s 95ms/step - loss: 0.6359 - accuracy: 0.7265 - val_loss: 0.7172 - val_accuracy: 0.6912\n",
            "Epoch 52/100\n",
            "101/101 [==============================] - 10s 96ms/step - loss: 0.6270 - accuracy: 0.7228 - val_loss: 0.7065 - val_accuracy: 0.7279\n",
            "Epoch 53/100\n",
            "101/101 [==============================] - 10s 96ms/step - loss: 0.6414 - accuracy: 0.7246 - val_loss: 0.7010 - val_accuracy: 0.7353\n",
            "Epoch 54/100\n",
            "101/101 [==============================] - 10s 96ms/step - loss: 0.6411 - accuracy: 0.7271 - val_loss: 0.6795 - val_accuracy: 0.6985\n",
            "Epoch 55/100\n",
            "101/101 [==============================] - 10s 96ms/step - loss: 0.6190 - accuracy: 0.7345 - val_loss: 0.7584 - val_accuracy: 0.5882\n",
            "Epoch 56/100\n",
            "101/101 [==============================] - 10s 96ms/step - loss: 0.6425 - accuracy: 0.7228 - val_loss: 0.6885 - val_accuracy: 0.6875\n",
            "Epoch 57/100\n",
            "101/101 [==============================] - 10s 96ms/step - loss: 0.6204 - accuracy: 0.7314 - val_loss: 0.6854 - val_accuracy: 0.7169\n",
            "Epoch 58/100\n",
            "101/101 [==============================] - 10s 96ms/step - loss: 0.6021 - accuracy: 0.7345 - val_loss: 0.6660 - val_accuracy: 0.6949\n",
            "Epoch 59/100\n",
            "101/101 [==============================] - 10s 96ms/step - loss: 0.6298 - accuracy: 0.7475 - val_loss: 0.6820 - val_accuracy: 0.7022\n",
            "Epoch 60/100\n",
            "101/101 [==============================] - 10s 96ms/step - loss: 0.6238 - accuracy: 0.7228 - val_loss: 0.6841 - val_accuracy: 0.6912\n",
            "Epoch 61/100\n",
            "101/101 [==============================] - 10s 96ms/step - loss: 0.6054 - accuracy: 0.7290 - val_loss: 0.6623 - val_accuracy: 0.6912\n",
            "Epoch 62/100\n",
            "101/101 [==============================] - 10s 96ms/step - loss: 0.5938 - accuracy: 0.7568 - val_loss: 0.7084 - val_accuracy: 0.6765\n",
            "Epoch 63/100\n",
            "101/101 [==============================] - 10s 96ms/step - loss: 0.5939 - accuracy: 0.7500 - val_loss: 0.6905 - val_accuracy: 0.6287\n",
            "Epoch 64/100\n",
            "101/101 [==============================] - 10s 96ms/step - loss: 0.6126 - accuracy: 0.7333 - val_loss: 0.6651 - val_accuracy: 0.7243\n",
            "Epoch 65/100\n",
            "101/101 [==============================] - 10s 96ms/step - loss: 0.6002 - accuracy: 0.7376 - val_loss: 0.6727 - val_accuracy: 0.7243\n",
            "Epoch 66/100\n",
            "101/101 [==============================] - 10s 96ms/step - loss: 0.5941 - accuracy: 0.7469 - val_loss: 0.7442 - val_accuracy: 0.5699\n",
            "Epoch 67/100\n",
            "101/101 [==============================] - 10s 96ms/step - loss: 0.5960 - accuracy: 0.7469 - val_loss: 0.6965 - val_accuracy: 0.6838\n",
            "Epoch 68/100\n",
            "101/101 [==============================] - 10s 96ms/step - loss: 0.6008 - accuracy: 0.7450 - val_loss: 0.6228 - val_accuracy: 0.7169\n",
            "Epoch 69/100\n",
            "101/101 [==============================] - 10s 96ms/step - loss: 0.5629 - accuracy: 0.7450 - val_loss: 0.6516 - val_accuracy: 0.7243\n",
            "Epoch 70/100\n",
            "101/101 [==============================] - 10s 96ms/step - loss: 0.5664 - accuracy: 0.7550 - val_loss: 0.6689 - val_accuracy: 0.6949\n",
            "Epoch 71/100\n",
            "101/101 [==============================] - 10s 96ms/step - loss: 0.5903 - accuracy: 0.7488 - val_loss: 0.6618 - val_accuracy: 0.7243\n",
            "Epoch 72/100\n",
            "101/101 [==============================] - 10s 96ms/step - loss: 0.5970 - accuracy: 0.7413 - val_loss: 0.6946 - val_accuracy: 0.6618\n",
            "Epoch 73/100\n",
            "101/101 [==============================] - 10s 96ms/step - loss: 0.5907 - accuracy: 0.7500 - val_loss: 0.6979 - val_accuracy: 0.7022\n",
            "Epoch 74/100\n",
            "101/101 [==============================] - 10s 96ms/step - loss: 0.5803 - accuracy: 0.7550 - val_loss: 0.6798 - val_accuracy: 0.6507\n",
            "Epoch 75/100\n",
            "101/101 [==============================] - 10s 96ms/step - loss: 0.5601 - accuracy: 0.7537 - val_loss: 0.6666 - val_accuracy: 0.6985\n",
            "Epoch 76/100\n",
            "101/101 [==============================] - 10s 96ms/step - loss: 0.5355 - accuracy: 0.7803 - val_loss: 0.5989 - val_accuracy: 0.7500\n",
            "Epoch 77/100\n",
            "101/101 [==============================] - 10s 96ms/step - loss: 0.5513 - accuracy: 0.7580 - val_loss: 0.6478 - val_accuracy: 0.7169\n",
            "Epoch 78/100\n",
            "101/101 [==============================] - 10s 96ms/step - loss: 0.5449 - accuracy: 0.7735 - val_loss: 0.6518 - val_accuracy: 0.7059\n",
            "Epoch 79/100\n",
            "101/101 [==============================] - 10s 95ms/step - loss: 0.5630 - accuracy: 0.7580 - val_loss: 0.6348 - val_accuracy: 0.7610\n",
            "Epoch 80/100\n",
            "101/101 [==============================] - 10s 96ms/step - loss: 0.5595 - accuracy: 0.7649 - val_loss: 0.6857 - val_accuracy: 0.6544\n",
            "Epoch 81/100\n",
            "101/101 [==============================] - 10s 95ms/step - loss: 0.5576 - accuracy: 0.7543 - val_loss: 0.6589 - val_accuracy: 0.7353\n",
            "Epoch 82/100\n",
            "101/101 [==============================] - 10s 95ms/step - loss: 0.5411 - accuracy: 0.7723 - val_loss: 0.6386 - val_accuracy: 0.7022\n",
            "Epoch 83/100\n",
            "101/101 [==============================] - 10s 95ms/step - loss: 0.5376 - accuracy: 0.7717 - val_loss: 0.7330 - val_accuracy: 0.6176\n",
            "Epoch 84/100\n",
            "101/101 [==============================] - 10s 95ms/step - loss: 0.5238 - accuracy: 0.7667 - val_loss: 0.6470 - val_accuracy: 0.6728\n",
            "Epoch 85/100\n",
            "101/101 [==============================] - 10s 95ms/step - loss: 0.5705 - accuracy: 0.7698 - val_loss: 0.7176 - val_accuracy: 0.6912\n",
            "Epoch 86/100\n",
            "101/101 [==============================] - 10s 96ms/step - loss: 0.5303 - accuracy: 0.7661 - val_loss: 0.7288 - val_accuracy: 0.6176\n",
            "Epoch 87/100\n",
            "101/101 [==============================] - 10s 96ms/step - loss: 0.5342 - accuracy: 0.7673 - val_loss: 0.6660 - val_accuracy: 0.7132\n",
            "Epoch 88/100\n",
            "101/101 [==============================] - 10s 95ms/step - loss: 0.5339 - accuracy: 0.7748 - val_loss: 0.6311 - val_accuracy: 0.7059\n",
            "Epoch 89/100\n",
            "101/101 [==============================] - 10s 96ms/step - loss: 0.5255 - accuracy: 0.7803 - val_loss: 0.6508 - val_accuracy: 0.6912\n",
            "Epoch 90/100\n",
            "101/101 [==============================] - 10s 96ms/step - loss: 0.5260 - accuracy: 0.7822 - val_loss: 0.6530 - val_accuracy: 0.7022\n",
            "Epoch 91/100\n",
            "101/101 [==============================] - 10s 95ms/step - loss: 0.5268 - accuracy: 0.7809 - val_loss: 0.6565 - val_accuracy: 0.7243\n",
            "Epoch 92/100\n",
            "101/101 [==============================] - 10s 97ms/step - loss: 0.4906 - accuracy: 0.7865 - val_loss: 0.6429 - val_accuracy: 0.6912\n",
            "Epoch 93/100\n",
            "101/101 [==============================] - 10s 95ms/step - loss: 0.5398 - accuracy: 0.7754 - val_loss: 0.6615 - val_accuracy: 0.7206\n",
            "Epoch 94/100\n",
            "101/101 [==============================] - 10s 96ms/step - loss: 0.5337 - accuracy: 0.7692 - val_loss: 0.6502 - val_accuracy: 0.7316\n",
            "Epoch 95/100\n",
            "101/101 [==============================] - 10s 96ms/step - loss: 0.5188 - accuracy: 0.7809 - val_loss: 0.6855 - val_accuracy: 0.6287\n",
            "Epoch 96/100\n",
            "101/101 [==============================] - 10s 96ms/step - loss: 0.5152 - accuracy: 0.7816 - val_loss: 0.6297 - val_accuracy: 0.7463\n",
            "Epoch 97/100\n",
            "101/101 [==============================] - 10s 95ms/step - loss: 0.5327 - accuracy: 0.7778 - val_loss: 0.6387 - val_accuracy: 0.7206\n",
            "Epoch 98/100\n",
            "101/101 [==============================] - 10s 96ms/step - loss: 0.5131 - accuracy: 0.7902 - val_loss: 0.5966 - val_accuracy: 0.7426\n",
            "Epoch 99/100\n",
            "101/101 [==============================] - 10s 97ms/step - loss: 0.5247 - accuracy: 0.7735 - val_loss: 0.6455 - val_accuracy: 0.7243\n",
            "Epoch 100/100\n",
            "101/101 [==============================] - 10s 95ms/step - loss: 0.5026 - accuracy: 0.7927 - val_loss: 0.6127 - val_accuracy: 0.7206\n"
          ]
        }
      ],
      "source": [
        "# Create an Instance of Early Stopping Callback\n",
        "early_stopping_callback = keras.callbacks.EarlyStopping(monitor = 'val_loss',\n",
        "                                                        patience = 20,\n",
        "                                                        mode = 'min',\n",
        "                                                        restore_best_weights = True)\n",
        "# Compile the model and specify loss function, optimizer and metrics values to the model\n",
        "model.compile(loss = 'categorical_crossentropy',\n",
        "              optimizer= keras.optimizers.Adam(0.001, decay=1e-4),\n",
        "              metrics=['accuracy'])\n",
        "# Start training the model.\n",
        "cnn_3d_model_training_history = model.fit(x = features_train,\n",
        "                                          y = labels_train,\n",
        "                                          epochs=100,\n",
        "                                          batch_size=16,\n",
        "                                          shuffle = True,\n",
        "                                          validation_data = (features_valid, labels_valid)),\n",
        "                                          # callbacks = [early_stopping_callback])"
      ]
    },
    {
      "cell_type": "code",
      "execution_count": 13,
      "metadata": {
        "colab": {
          "base_uri": "https://localhost:8080/"
        },
        "id": "3vimsgjjbXvL",
        "outputId": "26d4b282-21b2-4990-b633-c9dce9e89a75"
      },
      "outputs": [
        {
          "output_type": "stream",
          "name": "stdout",
          "text": [
            "9/9 [==============================] - 1s 70ms/step - loss: 0.8101 - accuracy: 0.6654\n",
            "\n",
            "\n",
            "Train accuracy: 87.005 % || Test accuracy: 66.544 % || Val accuracy: 72.059 %\n",
            "Train loss: 0.403 || Test loss: 0.810 || Val loss: 0.613\n"
          ]
        }
      ],
      "source": [
        "model_evaluation_history = model.evaluate(features_test, labels_test)\n",
        "print('\\n')\n",
        "train_loss, train_acc = model.evaluate(features_train, labels_train, verbose=0)\n",
        "test_loss, test_acc = model.evaluate(features_test, labels_test, verbose=0)\n",
        "val_loss, val_acc = model.evaluate(features_valid, labels_valid, verbose=0)\n",
        "print(f'Train accuracy: {train_acc*100:.3f} % || Test accuracy: {test_acc*100:.3f} % || Val accuracy: {val_acc*100:.3f} %')\n",
        "print(f'Train loss: {train_loss:.3f} || Test loss: {test_loss:.3f} || Val loss: {val_loss:.3f}')"
      ]
    },
    {
      "cell_type": "code",
      "execution_count": 14,
      "metadata": {
        "id": "ivmaK9BlbnRQ"
      },
      "outputs": [],
      "source": [
        "# Get the loss and accuracy from model_evaluation_history.\n",
        "model_evaluation_loss, model_evaluation_accuracy = model_evaluation_history\n",
        " \n",
        "# Define the string date format.\n",
        "# Get the current Date and Time in a DateTime Object.\n",
        "# Convert the DateTime object to string according to the style mentioned in date_time_format string.\n",
        "date_time_format = '%Y_%m_%d__%H_%M_%S'\n",
        "current_date_time_dt = dt.datetime.now()\n",
        "current_date_time_string = dt.datetime.strftime(current_date_time_dt, date_time_format)\n",
        " \n",
        "# Define a useful name for our model to make it easy for us while navigating through multiple saved models.\n",
        "model_file_name = f'3D_CNN_model___Date_Time_{current_date_time_string}___Loss_{model_evaluation_loss}___Accuracy_{model_evaluation_accuracy}.h5'\n",
        "# Change dir\n",
        "gdrive_path = '/content/gdrive' + '/My Drive/247/Saved_models/'\n",
        "os.chdir(gdrive_path)\n",
        "# Create a floder for the model files\n",
        "!mkdir -p cnn_3d_{current_date_time_string}\n",
        "# Save your Model.\n",
        "model.save('3D_CNN_' + str(current_date_time_string) + '/' + model_file_name)\n",
        "# Save model weights\n",
        "model.save_weights('3D_CNN_' + str(current_date_time_string) + '/' + 'weights')"
      ]
    },
    {
      "cell_type": "code",
      "execution_count": 15,
      "metadata": {
        "id": "OwU8TwPrbsKB"
      },
      "outputs": [],
      "source": [
        "def plot_metric(model_training_history, metric_name_1, metric_name_2, plot_name):\n",
        "    '''\n",
        "    This function will plot the metrics passed to it in a graph.\n",
        "    Args:\n",
        "        model_training_history: A history object containing a record of training and validation \n",
        "                                loss values and metrics values at successive epochs\n",
        "        metric_name_1:          The name of the first metric that needs to be plotted in the graph.\n",
        "        metric_name_2:          The name of the second metric that needs to be plotted in the graph.\n",
        "        plot_name:              The title of the graph.\n",
        "    '''\n",
        "    \n",
        "    # Get metric values using metric names as identifiers.\n",
        "    metric_value_1 = model_training_history[0].history[metric_name_1]\n",
        "    metric_value_2 = model_training_history[0].history[metric_name_2]\n",
        "    \n",
        "    # Construct a range object which will be used as x-axis (horizontal plane) of the graph.\n",
        "    epochs = range(len(metric_value_1))\n",
        "\n",
        "    # Plot the Graph.\n",
        "    plt.plot(epochs, metric_value_1, 'blue', label = metric_name_1)\n",
        "    plt.plot(epochs, metric_value_2, 'red', label = metric_name_2)\n",
        "\n",
        "    # Add title to the plot.\n",
        "    plt.title(str(plot_name))\n",
        "\n",
        "    # Add legend to the plot.\n",
        "    plt.legend()"
      ]
    },
    {
      "cell_type": "code",
      "execution_count": 16,
      "metadata": {
        "colab": {
          "base_uri": "https://localhost:8080/",
          "height": 281
        },
        "id": "cvKY05ncbwof",
        "outputId": "bf370bc5-a63a-4ba6-df03-c067ae8e33f7"
      },
      "outputs": [
        {
          "output_type": "display_data",
          "data": {
            "text/plain": [
              "<Figure size 432x288 with 1 Axes>"
            ],
            "image/png": "[encoded data removed]"
          },
          "metadata": {
            "needs_background": "light"
          }
        }
      ],
      "source": [
        "plot_metric(cnn_3d_model_training_history, 'loss', 'val_loss', 'Total Loss vs Total Validation Loss')"
      ]
    },
    {
      "cell_type": "code",
      "execution_count": 17,
      "metadata": {
        "colab": {
          "base_uri": "https://localhost:8080/",
          "height": 281
        },
        "id": "o1iaaDHBb5i0",
        "outputId": "c2ff288d-15c0-4295-ab0b-4c2541a86435"
      },
      "outputs": [
        {
          "output_type": "display_data",
          "data": {
            "text/plain": [
              "<Figure size 432x288 with 1 Axes>"
            ],
            "image/png": "[encoded data removed]"
          },
          "metadata": {
            "needs_background": "light"
          }
        }
      ],
      "source": [
        "plot_metric(cnn_3d_model_training_history, 'accuracy', 'val_accuracy', 'Total Accuracy vs Total Validation Accuracy') "
      ]
    }
  ],
  "metadata": {
    "accelerator": "GPU",
    "colab": {
      "collapsed_sections": [],
      "machine_shape": "hm",
      "name": "3D_CNN.ipynb",
      "provenance": [],
      "authorship_tag": "ABX9TyMmjs/6fwQLcGz4DINLSoeg",
      "include_colab_link": true
    },
    "kernelspec": {
      "display_name": "Python 3",
      "name": "python3"
    },
    "language_info": {
      "name": "python"
    }
  },
  "nbformat": 4,
  "nbformat_minor": 0
}