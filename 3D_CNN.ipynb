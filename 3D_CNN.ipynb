{
  "cells": [
    {
      "cell_type": "markdown",
      "metadata": {
        "id": "view-in-github",
        "colab_type": "text"
      },
      "source": [
        "<a href=\"https://colab.research.google.com/github/alexsalman/CSE247/blob/main/3D_CNN.ipynb\" target=\"_parent\"><img src=\"https://colab.research.google.com/assets/colab-badge.svg\" alt=\"Open In Colab\"/></a>"
      ]
    },
    {
      "cell_type": "markdown",
      "metadata": {
        "id": "Kk7I8NauauE3"
      },
      "source": [
        "####**3D Convolutional Neural Network**\n",
        "######*I am using 3D Convolutional Neural Network to extract the temporal and spatial information which are merged slowly throughout the whole network.*"
      ]
    },
    {
      "cell_type": "code",
      "execution_count": 1,
      "metadata": {
        "colab": {
          "base_uri": "https://localhost:8080/"
        },
        "id": "M8ibtd5HKtZk",
        "outputId": "7755b3c3-4cc9-4bcd-f337-1059644baf1f"
      },
      "outputs": [
        {
          "output_type": "stream",
          "name": "stdout",
          "text": [
            "2.8.0\n"
          ]
        }
      ],
      "source": [
        "# required libraries\n",
        "import os\n",
        "import cv2\n",
        "import math\n",
        "import random\n",
        "import numpy as np\n",
        "import datetime as dt\n",
        "from collections import deque\n",
        "import matplotlib.pyplot as plt\n",
        "from google.colab import drive\n",
        "from sklearn.model_selection import train_test_split\n",
        "import tensorflow as tf\n",
        "from tensorflow import keras\n",
        "from keras.models import Sequential\n",
        "from keras.layers import Dense, Flatten, Conv3D, MaxPooling3D, Dropout, BatchNormalization, GlobalAveragePooling3D\n",
        "from keras import regularizers\n",
        "from PIL import Image\n",
        "%matplotlib inline\n",
        "print(tf.version.VERSION)\n",
        "# https://bleedai.com/human-activity-recognition-using-tensorflow-cnn-lstm/"
      ]
    },
    {
      "cell_type": "code",
      "execution_count": 2,
      "metadata": {
        "id": "iffdFOf1CEAN"
      },
      "outputs": [],
      "source": [
        "# set Numpy, Python, and Tensorflow seeds to get consistent results on every execution\n",
        "seed_constant = 27\n",
        "np.random.seed(seed_constant)\n",
        "random.seed(seed_constant)\n",
        "tf.random.set_seed(seed_constant)"
      ]
    },
    {
      "cell_type": "code",
      "execution_count": 3,
      "metadata": {
        "colab": {
          "base_uri": "https://localhost:8080/",
          "height": 53
        },
        "id": "mcLh22LiOHyn",
        "outputId": "e59706d7-d21d-4e34-f917-469501347d4c"
      },
      "outputs": [
        {
          "output_type": "stream",
          "name": "stdout",
          "text": [
            "Mounted at /content/gdrive/\n"
          ]
        },
        {
          "output_type": "execute_result",
          "data": {
            "text/plain": [
              "'/content/gdrive/My Drive/247'"
            ],
            "application/vnd.google.colaboratory.intrinsic+json": {
              "type": "string"
            }
          },
          "metadata": {},
          "execution_count": 3
        }
      ],
      "source": [
        "# mount dataset from google drive\n",
        "drive.mount('/content/gdrive/', force_remount=True)\n",
        "gdrive_path = '/content/gdrive' + '/My Drive/247/'\n",
        "os.chdir(gdrive_path)\n",
        "os.getcwd()"
      ]
    },
    {
      "cell_type": "code",
      "execution_count": 4,
      "metadata": {
        "id": "oeDK8SzumZ1Q"
      },
      "outputs": [],
      "source": [
        "# frame dimention\n",
        "IMAGE_HEIGHT, IMAGE_WIDTH = 128, 128\n",
        "# frame number for each video (depth)\n",
        "SEQUENCE_LENGTH = 16\n",
        "# video dir path\n",
        "DATASET_DIR = gdrive_path + 'Cropped_videos'\n",
        "# labels of classes\n",
        "CLASSES_LIST = ['hemostasis', 'inflammatory', 'proliferative', 'maturation']"
      ]
    },
    {
      "cell_type": "code",
      "execution_count": 5,
      "metadata": {
        "id": "HUTeIqzpZc9J"
      },
      "outputs": [],
      "source": [
        "# image cropping\n",
        "def crop_center_square(frame):\n",
        "    y, x = frame.shape[0:2]\n",
        "    min_dim = min(y, x)\n",
        "    start_x = (x // 2) - (min_dim // 2)\n",
        "    start_y = (y // 2) - (min_dim // 2)\n",
        "    return frame[start_y:start_y+min_dim,start_x:start_x+min_dim]"
      ]
    },
    {
      "cell_type": "code",
      "execution_count": 6,
      "metadata": {
        "id": "QRDbHG0TZkYJ"
      },
      "outputs": [],
      "source": [
        "# https://medium.com/analytics-vidhya/video-preprocessor-and-augmentation-for-deep-learning-tasks-12dd3fcce868\n",
        "def load_video(path, resize=(128, 128)):\n",
        "    video_reader = cv2.VideoCapture(path)\n",
        "    frames = []\n",
        "    try:\n",
        "        while True:\n",
        "            ret, frame = video_reader.read()\n",
        "            if not ret:\n",
        "                  break\n",
        "            # frame = crop_center_square(frame)\n",
        "            frame = cv2.resize(frame, resize)\n",
        "            frame = frame[:, :, [2, 1, 0]]\n",
        "            black_frame = frame\n",
        "            frames.append(frame)\n",
        "    finally:\n",
        "        video_reader.release()\n",
        "    return np.array(frames) / 255.0"
      ]
    },
    {
      "cell_type": "code",
      "execution_count": 7,
      "metadata": {
        "id": "ljUWHW6Jqzu-"
      },
      "outputs": [],
      "source": [
        "def create_dataset(state):\n",
        "    # Declared Empty Lists to store the features, labels and video file path values.\n",
        "    features = []\n",
        "    labels = []\n",
        "    video_files_paths = []\n",
        "    # Iterating through all the classes mentioned in the classes list\n",
        "    for class_index, class_name in enumerate(CLASSES_LIST):\n",
        "        # Display the name of the class whose data is being extracted.\n",
        "        print(f'Extracting Data of Class: {class_name} {state}')\n",
        "        # Get the list of video files present in the specific class name directory.\n",
        "        files_list = os.listdir(os.path.join(DATASET_DIR, class_name))\n",
        "        # Iterate through all the files present in the files list.\n",
        "        for file_name in files_list:\n",
        "            # Get the complete video path.\n",
        "            video_file_path = os.path.join(DATASET_DIR, class_name, file_name)\n",
        "            # create testing data\n",
        "            if state == 'test':\n",
        "                # get the mouse number\n",
        "                mouse_number = int(video_file_path.split(' ')[2].split('_')[1].split('-')[1])\n",
        "                # get the mouse side (L or R)\n",
        "                mouse_side = video_file_path.split(' ')[2].split('_')[1].split('-')[2]\n",
        "                if mouse_number == 4 and mouse_side == 'L':\n",
        "                    frames = load_video(video_file_path)\n",
        "                    features.append(frames)\n",
        "                    labels.append(class_index)\n",
        "                    video_files_paths.append(video_file_path)\n",
        "            # create validation data\n",
        "            elif state == 'valid':\n",
        "                # get the mouse number\n",
        "                mouse_number = int(video_file_path.split(' ')[2].split('_')[1].split('-')[1])\n",
        "                # get the mouse side (L or R)\n",
        "                mouse_side = video_file_path.split(' ')[2].split('_')[1].split('-')[2]\n",
        "                if mouse_number == 4 and mouse_side == 'R':\n",
        "                    frames = load_video(video_file_path)\n",
        "                    features.append(frames)\n",
        "                    labels.append(class_index)\n",
        "                    video_files_paths.append(video_file_path)\n",
        "            # create training data\n",
        "            else:\n",
        "                # get the mouse number\n",
        "                mouse_number = int(video_file_path.split(' ')[2].split('_')[1].split('-')[1])\n",
        "                if mouse_number != 4:\n",
        "                    frames = load_video(video_file_path)\n",
        "                    features.append(frames)\n",
        "                    labels.append(class_index)\n",
        "                    video_files_paths.append(video_file_path)\n",
        "    # Converting the list to numpy arrays\n",
        "    features = np.asarray(features)\n",
        "    # print(features)\n",
        "    labels = np.array(labels)\n",
        "    # Return the frames, class index, and video file path.\n",
        "    return features, labels, video_files_paths"
      ]
    },
    {
      "cell_type": "code",
      "execution_count": 8,
      "metadata": {
        "colab": {
          "base_uri": "https://localhost:8080/"
        },
        "id": "a8rpanz9rASe",
        "outputId": "98650ea4-9699-4397-f08e-d06fafb1992a"
      },
      "outputs": [
        {
          "output_type": "stream",
          "name": "stdout",
          "text": [
            "Extracting Data of Class: hemostasis train\n",
            "Extracting Data of Class: inflammatory train\n",
            "Extracting Data of Class: proliferative train\n",
            "Extracting Data of Class: maturation train\n",
            "Extracting Data of Class: hemostasis test\n",
            "Extracting Data of Class: inflammatory test\n",
            "Extracting Data of Class: proliferative test\n",
            "Extracting Data of Class: maturation test\n",
            "Extracting Data of Class: hemostasis valid\n",
            "Extracting Data of Class: inflammatory valid\n",
            "Extracting Data of Class: proliferative valid\n",
            "Extracting Data of Class: maturation valid\n"
          ]
        }
      ],
      "source": [
        "# 6 mice for training, 2 mice for test and validation (one wound on each mice for test one for validation)\n",
        "features_train, labels_train, video_files_paths_train = create_dataset('train')\n",
        "features_test, labels_test, video_files_paths_test = create_dataset('test')\n",
        "features_valid, labels_valid, video_files_paths_valid = create_dataset('valid')"
      ]
    },
    {
      "cell_type": "code",
      "execution_count": 9,
      "metadata": {
        "id": "dtJkK4qTAulC"
      },
      "outputs": [],
      "source": [
        "# one_hot_encoded_labels\n",
        "labels_train = keras.utils.to_categorical(labels_train)\n",
        "labels_test = keras.utils.to_categorical(labels_test)\n",
        "labels_valid = keras.utils.to_categorical(labels_valid)"
      ]
    },
    {
      "cell_type": "code",
      "execution_count": 10,
      "metadata": {
        "id": "N-9ykP4ig7IW"
      },
      "outputs": [],
      "source": [
        "def create_3D_CNN_model():\n",
        "    sample_shape = (16, 128, 128, 3)\n",
        "    model = Sequential()\n",
        "\n",
        "    model.add(Conv3D(32, 3, activation='relu', kernel_initializer='he_uniform',\n",
        "                     kernel_regularizer=regularizers.L2(l2=1e-4),\n",
        "                     input_shape=sample_shape))\n",
        "    # model.add(BatchNormalization())\n",
        "    model.add(MaxPooling3D(2))\n",
        "    model.add(Dropout(0.5))\n",
        "\n",
        "    model.add(Conv3D(32, 3, activation='relu', kernel_initializer='he_uniform',\n",
        "                     kernel_regularizer=regularizers.L2(l2=1e-4)))\n",
        "    # model.add(BatchNormalization())\n",
        "    model.add(MaxPooling3D(2))\n",
        "    model.add(Dropout(0.5))\n",
        "\n",
        "    model.add(GlobalAveragePooling3D())\n",
        "    # model.add(Dropout(0.5))\n",
        "\n",
        "    model.add(Dense(32, activation='relu', kernel_initializer='he_uniform',\n",
        "                    kernel_regularizer=regularizers.L2(l2=1e-4)))\n",
        "    model.add(Dropout(0.5))\n",
        "\n",
        "    model.add(Dense(16, activation='relu', kernel_initializer='he_uniform',\n",
        "                    kernel_regularizer=regularizers.L2(l2=1e-4)))\n",
        "    model.add(Dropout(0.6))\n",
        "    model.add(Dense(8, activation='relu', kernel_initializer='he_uniform'))\n",
        "    # model.add(Dense(4, activation='relu', kernel_initializer='he_uniform'))\n",
        "    # model.add(Dropout(0.3))\n",
        "    # model.add(Dense(8, activation='relu', kernel_initializer='he_uniform'))\n",
        "    # model.add(Dropout(0.3))\n",
        "    model.add(Dense(len(CLASSES_LIST), activation='softmax'))\n",
        "\n",
        "    # Display the models summary.\n",
        "    model.summary(line_length = 125)\n",
        "    # Return the constructed 3D_CNN model.\n",
        "    return model"
      ]
    },
    {
      "cell_type": "code",
      "execution_count": 11,
      "metadata": {
        "colab": {
          "base_uri": "https://localhost:8080/"
        },
        "id": "Z4_GxXZBcHlB",
        "outputId": "23e0dc3e-45fe-47b2-940c-42e4160d756d"
      },
      "outputs": [
        {
          "output_type": "stream",
          "name": "stdout",
          "text": [
            "Model: \"sequential\"\n",
            "_____________________________________________________________________________________________________________________________\n",
            " Layer (type)                                           Output Shape                                      Param #            \n",
            "=============================================================================================================================\n",
            " conv3d (Conv3D)                                        (None, 14, 126, 126, 32)                          2624               \n",
            "                                                                                                                             \n",
            " max_pooling3d (MaxPooling3D)                           (None, 7, 63, 63, 32)                             0                  \n",
            "                                                                                                                             \n",
            " dropout (Dropout)                                      (None, 7, 63, 63, 32)                             0                  \n",
            "                                                                                                                             \n",
            " conv3d_1 (Conv3D)                                      (None, 5, 61, 61, 32)                             27680              \n",
            "                                                                                                                             \n",
            " max_pooling3d_1 (MaxPooling3D)                         (None, 2, 30, 30, 32)                             0                  \n",
            "                                                                                                                             \n",
            " dropout_1 (Dropout)                                    (None, 2, 30, 30, 32)                             0                  \n",
            "                                                                                                                             \n",
            " global_average_pooling3d (GlobalAveragePooling3D)      (None, 32)                                        0                  \n",
            "                                                                                                                             \n",
            " dense (Dense)                                          (None, 32)                                        1056               \n",
            "                                                                                                                             \n",
            " dropout_2 (Dropout)                                    (None, 32)                                        0                  \n",
            "                                                                                                                             \n",
            " dense_1 (Dense)                                        (None, 16)                                        528                \n",
            "                                                                                                                             \n",
            " dropout_3 (Dropout)                                    (None, 16)                                        0                  \n",
            "                                                                                                                             \n",
            " dense_2 (Dense)                                        (None, 8)                                         136                \n",
            "                                                                                                                             \n",
            " dense_3 (Dense)                                        (None, 4)                                         36                 \n",
            "                                                                                                                             \n",
            "=============================================================================================================================\n",
            "Total params: 32,060\n",
            "Trainable params: 32,060\n",
            "Non-trainable params: 0\n",
            "_____________________________________________________________________________________________________________________________\n",
            "Model Created Successfully!\n"
          ]
        }
      ],
      "source": [
        "# Construct the required convlstm model.\n",
        "model = create_3D_CNN_model()\n",
        " \n",
        "# Display the success message. \n",
        "print(\"Model Created Successfully!\")"
      ]
    },
    {
      "cell_type": "code",
      "execution_count": 12,
      "metadata": {
        "colab": {
          "base_uri": "https://localhost:8080/"
        },
        "id": "MwYEkaYLoyb_",
        "outputId": "d4c3629b-28dd-40a5-d36c-f9f1c5e34cbc"
      },
      "outputs": [
        {
          "output_type": "stream",
          "name": "stdout",
          "text": [
            "Epoch 1/200\n",
            "101/101 [==============================] - 12s 102ms/step - loss: 1.3257 - accuracy: 0.4226 - val_loss: 1.2503 - val_accuracy: 0.3566\n",
            "Epoch 2/200\n",
            "101/101 [==============================] - 10s 94ms/step - loss: 1.1517 - accuracy: 0.4233 - val_loss: 1.0895 - val_accuracy: 0.3897\n",
            "Epoch 3/200\n",
            "101/101 [==============================] - 10s 95ms/step - loss: 1.0899 - accuracy: 0.4220 - val_loss: 1.0106 - val_accuracy: 0.4485\n",
            "Epoch 4/200\n",
            "101/101 [==============================] - 10s 94ms/step - loss: 1.0477 - accuracy: 0.4653 - val_loss: 0.9717 - val_accuracy: 0.4853\n",
            "Epoch 5/200\n",
            "101/101 [==============================] - 10s 95ms/step - loss: 1.0039 - accuracy: 0.4814 - val_loss: 0.9170 - val_accuracy: 0.5846\n",
            "Epoch 6/200\n",
            "101/101 [==============================] - 10s 95ms/step - loss: 0.9673 - accuracy: 0.4913 - val_loss: 0.8875 - val_accuracy: 0.5919\n",
            "Epoch 7/200\n",
            "101/101 [==============================] - 9s 94ms/step - loss: 0.9447 - accuracy: 0.5074 - val_loss: 0.8634 - val_accuracy: 0.6140\n",
            "Epoch 8/200\n",
            "101/101 [==============================] - 10s 94ms/step - loss: 0.9201 - accuracy: 0.5316 - val_loss: 0.8552 - val_accuracy: 0.5993\n",
            "Epoch 9/200\n",
            "101/101 [==============================] - 10s 94ms/step - loss: 0.9065 - accuracy: 0.5340 - val_loss: 0.8510 - val_accuracy: 0.5956\n",
            "Epoch 10/200\n",
            "101/101 [==============================] - 10s 95ms/step - loss: 0.9146 - accuracy: 0.5408 - val_loss: 0.8336 - val_accuracy: 0.5956\n",
            "Epoch 11/200\n",
            "101/101 [==============================] - 10s 95ms/step - loss: 0.8948 - accuracy: 0.5340 - val_loss: 0.8256 - val_accuracy: 0.6066\n",
            "Epoch 12/200\n",
            "101/101 [==============================] - 10s 94ms/step - loss: 0.8613 - accuracy: 0.5588 - val_loss: 0.8302 - val_accuracy: 0.5809\n",
            "Epoch 13/200\n",
            "101/101 [==============================] - 9s 94ms/step - loss: 0.8573 - accuracy: 0.5507 - val_loss: 0.8103 - val_accuracy: 0.5956\n",
            "Epoch 14/200\n",
            "101/101 [==============================] - 10s 95ms/step - loss: 0.8484 - accuracy: 0.5563 - val_loss: 0.8210 - val_accuracy: 0.5846\n",
            "Epoch 15/200\n",
            "101/101 [==============================] - 10s 94ms/step - loss: 0.8554 - accuracy: 0.5551 - val_loss: 0.8077 - val_accuracy: 0.5368\n",
            "Epoch 16/200\n",
            "101/101 [==============================] - 10s 95ms/step - loss: 0.8435 - accuracy: 0.5668 - val_loss: 0.7867 - val_accuracy: 0.6066\n",
            "Epoch 17/200\n",
            "101/101 [==============================] - 10s 94ms/step - loss: 0.8257 - accuracy: 0.5811 - val_loss: 0.7999 - val_accuracy: 0.6066\n",
            "Epoch 18/200\n",
            "101/101 [==============================] - 10s 95ms/step - loss: 0.8355 - accuracy: 0.5879 - val_loss: 0.8067 - val_accuracy: 0.6066\n",
            "Epoch 19/200\n",
            "101/101 [==============================] - 9s 94ms/step - loss: 0.8248 - accuracy: 0.5916 - val_loss: 0.7993 - val_accuracy: 0.6140\n",
            "Epoch 20/200\n",
            "101/101 [==============================] - 10s 94ms/step - loss: 0.8014 - accuracy: 0.5934 - val_loss: 0.7905 - val_accuracy: 0.5956\n",
            "Epoch 21/200\n",
            "101/101 [==============================] - 9s 94ms/step - loss: 0.8197 - accuracy: 0.5947 - val_loss: 0.7961 - val_accuracy: 0.6066\n",
            "Epoch 22/200\n",
            "101/101 [==============================] - 10s 94ms/step - loss: 0.7903 - accuracy: 0.6207 - val_loss: 0.7780 - val_accuracy: 0.6140\n",
            "Epoch 23/200\n",
            "101/101 [==============================] - 10s 95ms/step - loss: 0.8015 - accuracy: 0.6009 - val_loss: 0.7736 - val_accuracy: 0.6066\n",
            "Epoch 24/200\n",
            "101/101 [==============================] - 9s 94ms/step - loss: 0.7918 - accuracy: 0.6027 - val_loss: 0.7765 - val_accuracy: 0.6176\n",
            "Epoch 25/200\n",
            "101/101 [==============================] - 9s 94ms/step - loss: 0.8009 - accuracy: 0.6052 - val_loss: 0.7918 - val_accuracy: 0.6103\n",
            "Epoch 26/200\n",
            "101/101 [==============================] - 10s 95ms/step - loss: 0.7811 - accuracy: 0.6250 - val_loss: 0.7759 - val_accuracy: 0.6397\n",
            "Epoch 27/200\n",
            "101/101 [==============================] - 9s 94ms/step - loss: 0.7734 - accuracy: 0.6281 - val_loss: 0.7683 - val_accuracy: 0.6287\n",
            "Epoch 28/200\n",
            "101/101 [==============================] - 10s 94ms/step - loss: 0.7673 - accuracy: 0.6300 - val_loss: 0.8029 - val_accuracy: 0.6066\n",
            "Epoch 29/200\n",
            "101/101 [==============================] - 9s 94ms/step - loss: 0.7796 - accuracy: 0.6411 - val_loss: 0.7846 - val_accuracy: 0.5625\n",
            "Epoch 30/200\n",
            "101/101 [==============================] - 10s 94ms/step - loss: 0.7840 - accuracy: 0.6275 - val_loss: 0.7586 - val_accuracy: 0.6324\n",
            "Epoch 31/200\n",
            "101/101 [==============================] - 9s 94ms/step - loss: 0.7688 - accuracy: 0.6355 - val_loss: 0.7612 - val_accuracy: 0.6287\n",
            "Epoch 32/200\n",
            "101/101 [==============================] - 9s 94ms/step - loss: 0.7485 - accuracy: 0.6436 - val_loss: 0.7498 - val_accuracy: 0.6103\n",
            "Epoch 33/200\n",
            "101/101 [==============================] - 9s 94ms/step - loss: 0.7292 - accuracy: 0.6677 - val_loss: 0.7531 - val_accuracy: 0.6397\n",
            "Epoch 34/200\n",
            "101/101 [==============================] - 9s 94ms/step - loss: 0.7456 - accuracy: 0.6423 - val_loss: 0.7172 - val_accuracy: 0.6434\n",
            "Epoch 35/200\n",
            "101/101 [==============================] - 9s 94ms/step - loss: 0.7393 - accuracy: 0.6504 - val_loss: 0.7203 - val_accuracy: 0.6581\n",
            "Epoch 36/200\n",
            "101/101 [==============================] - 9s 94ms/step - loss: 0.7247 - accuracy: 0.6597 - val_loss: 0.7716 - val_accuracy: 0.6029\n",
            "Epoch 37/200\n",
            "101/101 [==============================] - 10s 94ms/step - loss: 0.7483 - accuracy: 0.6485 - val_loss: 0.7269 - val_accuracy: 0.6213\n",
            "Epoch 38/200\n",
            "101/101 [==============================] - 9s 94ms/step - loss: 0.7204 - accuracy: 0.6640 - val_loss: 0.7619 - val_accuracy: 0.5956\n",
            "Epoch 39/200\n",
            "101/101 [==============================] - 10s 95ms/step - loss: 0.7074 - accuracy: 0.6751 - val_loss: 0.7841 - val_accuracy: 0.6140\n",
            "Epoch 40/200\n",
            "101/101 [==============================] - 9s 94ms/step - loss: 0.6918 - accuracy: 0.6788 - val_loss: 0.7167 - val_accuracy: 0.6728\n",
            "Epoch 41/200\n",
            "101/101 [==============================] - 10s 94ms/step - loss: 0.6981 - accuracy: 0.6757 - val_loss: 0.6893 - val_accuracy: 0.6801\n",
            "Epoch 42/200\n",
            "101/101 [==============================] - 9s 93ms/step - loss: 0.6947 - accuracy: 0.6900 - val_loss: 0.7444 - val_accuracy: 0.5993\n",
            "Epoch 43/200\n",
            "101/101 [==============================] - 9s 93ms/step - loss: 0.6795 - accuracy: 0.6912 - val_loss: 0.6767 - val_accuracy: 0.6838\n",
            "Epoch 44/200\n",
            "101/101 [==============================] - 9s 94ms/step - loss: 0.6740 - accuracy: 0.6986 - val_loss: 0.6572 - val_accuracy: 0.7059\n",
            "Epoch 45/200\n",
            "101/101 [==============================] - 9s 94ms/step - loss: 0.6431 - accuracy: 0.7030 - val_loss: 0.6656 - val_accuracy: 0.7169\n",
            "Epoch 46/200\n",
            "101/101 [==============================] - 9s 94ms/step - loss: 0.6583 - accuracy: 0.7005 - val_loss: 0.6630 - val_accuracy: 0.6875\n",
            "Epoch 47/200\n",
            "101/101 [==============================] - 10s 95ms/step - loss: 0.6636 - accuracy: 0.7042 - val_loss: 0.6532 - val_accuracy: 0.6949\n",
            "Epoch 48/200\n",
            "101/101 [==============================] - 10s 95ms/step - loss: 0.6326 - accuracy: 0.6974 - val_loss: 0.6616 - val_accuracy: 0.7022\n",
            "Epoch 49/200\n",
            "101/101 [==============================] - 9s 94ms/step - loss: 0.6234 - accuracy: 0.7271 - val_loss: 0.6447 - val_accuracy: 0.7206\n",
            "Epoch 50/200\n",
            "101/101 [==============================] - 10s 94ms/step - loss: 0.6292 - accuracy: 0.7061 - val_loss: 0.6483 - val_accuracy: 0.7059\n",
            "Epoch 51/200\n",
            "101/101 [==============================] - 10s 94ms/step - loss: 0.6322 - accuracy: 0.7079 - val_loss: 0.6190 - val_accuracy: 0.7279\n",
            "Epoch 52/200\n",
            "101/101 [==============================] - 9s 94ms/step - loss: 0.5923 - accuracy: 0.7333 - val_loss: 0.6358 - val_accuracy: 0.7059\n",
            "Epoch 53/200\n",
            "101/101 [==============================] - 10s 94ms/step - loss: 0.6089 - accuracy: 0.7240 - val_loss: 0.6390 - val_accuracy: 0.7132\n",
            "Epoch 54/200\n",
            "101/101 [==============================] - 9s 94ms/step - loss: 0.6276 - accuracy: 0.7067 - val_loss: 0.6364 - val_accuracy: 0.6912\n",
            "Epoch 55/200\n",
            "101/101 [==============================] - 9s 94ms/step - loss: 0.5970 - accuracy: 0.7314 - val_loss: 0.6588 - val_accuracy: 0.6875\n",
            "Epoch 56/200\n",
            "101/101 [==============================] - 10s 95ms/step - loss: 0.5889 - accuracy: 0.7432 - val_loss: 0.6172 - val_accuracy: 0.7243\n",
            "Epoch 57/200\n",
            "101/101 [==============================] - 10s 94ms/step - loss: 0.5714 - accuracy: 0.7432 - val_loss: 0.5932 - val_accuracy: 0.7537\n",
            "Epoch 58/200\n",
            "101/101 [==============================] - 10s 94ms/step - loss: 0.5714 - accuracy: 0.7543 - val_loss: 0.5958 - val_accuracy: 0.7316\n",
            "Epoch 59/200\n",
            "101/101 [==============================] - 9s 94ms/step - loss: 0.5999 - accuracy: 0.7290 - val_loss: 0.5917 - val_accuracy: 0.7316\n",
            "Epoch 60/200\n",
            "101/101 [==============================] - 9s 94ms/step - loss: 0.5638 - accuracy: 0.7450 - val_loss: 0.6569 - val_accuracy: 0.6838\n",
            "Epoch 61/200\n",
            "101/101 [==============================] - 10s 94ms/step - loss: 0.5737 - accuracy: 0.7370 - val_loss: 0.5976 - val_accuracy: 0.7132\n",
            "Epoch 62/200\n",
            "101/101 [==============================] - 10s 95ms/step - loss: 0.5730 - accuracy: 0.7494 - val_loss: 0.5825 - val_accuracy: 0.7537\n",
            "Epoch 63/200\n",
            "101/101 [==============================] - 10s 94ms/step - loss: 0.5700 - accuracy: 0.7450 - val_loss: 0.6547 - val_accuracy: 0.6875\n",
            "Epoch 64/200\n",
            "101/101 [==============================] - 10s 94ms/step - loss: 0.5706 - accuracy: 0.7395 - val_loss: 0.6640 - val_accuracy: 0.6801\n",
            "Epoch 65/200\n",
            "101/101 [==============================] - 9s 94ms/step - loss: 0.5542 - accuracy: 0.7463 - val_loss: 0.6267 - val_accuracy: 0.6912\n",
            "Epoch 66/200\n",
            "101/101 [==============================] - 10s 94ms/step - loss: 0.5471 - accuracy: 0.7531 - val_loss: 0.6347 - val_accuracy: 0.6949\n",
            "Epoch 67/200\n",
            "101/101 [==============================] - 9s 93ms/step - loss: 0.5497 - accuracy: 0.7351 - val_loss: 0.6021 - val_accuracy: 0.7169\n",
            "Epoch 68/200\n",
            "101/101 [==============================] - 10s 94ms/step - loss: 0.5430 - accuracy: 0.7481 - val_loss: 0.5711 - val_accuracy: 0.7390\n",
            "Epoch 69/200\n",
            "101/101 [==============================] - 10s 94ms/step - loss: 0.5307 - accuracy: 0.7741 - val_loss: 0.6137 - val_accuracy: 0.6838\n",
            "Epoch 70/200\n",
            "101/101 [==============================] - 10s 94ms/step - loss: 0.5302 - accuracy: 0.7704 - val_loss: 0.5939 - val_accuracy: 0.7279\n",
            "Epoch 71/200\n",
            "101/101 [==============================] - 9s 94ms/step - loss: 0.5630 - accuracy: 0.7611 - val_loss: 0.6164 - val_accuracy: 0.7537\n",
            "Epoch 72/200\n",
            "101/101 [==============================] - 9s 94ms/step - loss: 0.5283 - accuracy: 0.7661 - val_loss: 0.5594 - val_accuracy: 0.7169\n",
            "Epoch 73/200\n",
            "101/101 [==============================] - 10s 95ms/step - loss: 0.5359 - accuracy: 0.7667 - val_loss: 0.6046 - val_accuracy: 0.7390\n",
            "Epoch 74/200\n",
            "101/101 [==============================] - 9s 94ms/step - loss: 0.5435 - accuracy: 0.7475 - val_loss: 0.5705 - val_accuracy: 0.7610\n",
            "Epoch 75/200\n",
            "101/101 [==============================] - 10s 94ms/step - loss: 0.5259 - accuracy: 0.7642 - val_loss: 0.5749 - val_accuracy: 0.7574\n",
            "Epoch 76/200\n",
            "101/101 [==============================] - 9s 94ms/step - loss: 0.5162 - accuracy: 0.7692 - val_loss: 0.5635 - val_accuracy: 0.7463\n",
            "Epoch 77/200\n",
            "101/101 [==============================] - 10s 94ms/step - loss: 0.5105 - accuracy: 0.7686 - val_loss: 0.5980 - val_accuracy: 0.7390\n",
            "Epoch 78/200\n",
            "101/101 [==============================] - 10s 95ms/step - loss: 0.5270 - accuracy: 0.7655 - val_loss: 0.6296 - val_accuracy: 0.7132\n",
            "Epoch 79/200\n",
            "101/101 [==============================] - 10s 94ms/step - loss: 0.5210 - accuracy: 0.7797 - val_loss: 0.6087 - val_accuracy: 0.7721\n",
            "Epoch 80/200\n",
            "101/101 [==============================] - 9s 94ms/step - loss: 0.5269 - accuracy: 0.7655 - val_loss: 0.6027 - val_accuracy: 0.7243\n",
            "Epoch 81/200\n",
            "101/101 [==============================] - 9s 94ms/step - loss: 0.5034 - accuracy: 0.7884 - val_loss: 0.5881 - val_accuracy: 0.7316\n",
            "Epoch 82/200\n",
            "101/101 [==============================] - 10s 95ms/step - loss: 0.4956 - accuracy: 0.7921 - val_loss: 0.8147 - val_accuracy: 0.6287\n",
            "Epoch 83/200\n",
            "101/101 [==============================] - 9s 94ms/step - loss: 0.4961 - accuracy: 0.7785 - val_loss: 0.5725 - val_accuracy: 0.7610\n",
            "Epoch 84/200\n",
            "101/101 [==============================] - 10s 94ms/step - loss: 0.4824 - accuracy: 0.7698 - val_loss: 0.6446 - val_accuracy: 0.6985\n",
            "Epoch 85/200\n",
            "101/101 [==============================] - 9s 94ms/step - loss: 0.4996 - accuracy: 0.8014 - val_loss: 0.6611 - val_accuracy: 0.6507\n",
            "Epoch 86/200\n",
            "101/101 [==============================] - 9s 94ms/step - loss: 0.4930 - accuracy: 0.8038 - val_loss: 0.6051 - val_accuracy: 0.7463\n",
            "Epoch 87/200\n",
            "101/101 [==============================] - 10s 94ms/step - loss: 0.5149 - accuracy: 0.7692 - val_loss: 0.5958 - val_accuracy: 0.7537\n",
            "Epoch 88/200\n",
            "101/101 [==============================] - 9s 94ms/step - loss: 0.5459 - accuracy: 0.7494 - val_loss: 0.6082 - val_accuracy: 0.7426\n",
            "Epoch 89/200\n",
            "101/101 [==============================] - 10s 94ms/step - loss: 0.5122 - accuracy: 0.7871 - val_loss: 0.5871 - val_accuracy: 0.7279\n",
            "Epoch 90/200\n",
            "101/101 [==============================] - 9s 94ms/step - loss: 0.4863 - accuracy: 0.7803 - val_loss: 0.5919 - val_accuracy: 0.7316\n",
            "Epoch 91/200\n",
            "101/101 [==============================] - 9s 94ms/step - loss: 0.4951 - accuracy: 0.7828 - val_loss: 0.6070 - val_accuracy: 0.6875\n",
            "Epoch 92/200\n",
            "101/101 [==============================] - 10s 94ms/step - loss: 0.4777 - accuracy: 0.7896 - val_loss: 0.6043 - val_accuracy: 0.6949\n",
            "Epoch 93/200\n",
            "101/101 [==============================] - 9s 94ms/step - loss: 0.4856 - accuracy: 0.7939 - val_loss: 0.6065 - val_accuracy: 0.6801\n",
            "Epoch 94/200\n",
            "101/101 [==============================] - 9s 94ms/step - loss: 0.4908 - accuracy: 0.7915 - val_loss: 0.5847 - val_accuracy: 0.7574\n",
            "Epoch 95/200\n",
            "101/101 [==============================] - 10s 95ms/step - loss: 0.4811 - accuracy: 0.8051 - val_loss: 0.6114 - val_accuracy: 0.7022\n",
            "Epoch 96/200\n",
            "101/101 [==============================] - 10s 95ms/step - loss: 0.4737 - accuracy: 0.8094 - val_loss: 0.5943 - val_accuracy: 0.7206\n",
            "Epoch 97/200\n",
            "101/101 [==============================] - 9s 94ms/step - loss: 0.4866 - accuracy: 0.7976 - val_loss: 0.5832 - val_accuracy: 0.7390\n",
            "Epoch 98/200\n",
            "101/101 [==============================] - 9s 94ms/step - loss: 0.4700 - accuracy: 0.8119 - val_loss: 0.5889 - val_accuracy: 0.7316\n",
            "Epoch 99/200\n",
            "101/101 [==============================] - 9s 94ms/step - loss: 0.4615 - accuracy: 0.8026 - val_loss: 0.6139 - val_accuracy: 0.7353\n",
            "Epoch 100/200\n",
            "101/101 [==============================] - 10s 94ms/step - loss: 0.4683 - accuracy: 0.8082 - val_loss: 0.5813 - val_accuracy: 0.7721\n",
            "Epoch 101/200\n",
            "101/101 [==============================] - 10s 94ms/step - loss: 0.4794 - accuracy: 0.8119 - val_loss: 0.6606 - val_accuracy: 0.6654\n",
            "Epoch 102/200\n",
            "101/101 [==============================] - 10s 95ms/step - loss: 0.4913 - accuracy: 0.7822 - val_loss: 0.6098 - val_accuracy: 0.7390\n",
            "Epoch 103/200\n",
            "101/101 [==============================] - 9s 94ms/step - loss: 0.4641 - accuracy: 0.8088 - val_loss: 0.6010 - val_accuracy: 0.6985\n",
            "Epoch 104/200\n",
            "101/101 [==============================] - 9s 94ms/step - loss: 0.4627 - accuracy: 0.8175 - val_loss: 0.5898 - val_accuracy: 0.7426\n",
            "Epoch 105/200\n",
            "101/101 [==============================] - 9s 94ms/step - loss: 0.4688 - accuracy: 0.8137 - val_loss: 0.6114 - val_accuracy: 0.7279\n",
            "Epoch 106/200\n",
            "101/101 [==============================] - 10s 94ms/step - loss: 0.4498 - accuracy: 0.8304 - val_loss: 0.5733 - val_accuracy: 0.7463\n",
            "Epoch 107/200\n",
            "101/101 [==============================] - 9s 93ms/step - loss: 0.4501 - accuracy: 0.8137 - val_loss: 0.6091 - val_accuracy: 0.7059\n",
            "Epoch 108/200\n",
            "101/101 [==============================] - 10s 94ms/step - loss: 0.4547 - accuracy: 0.8150 - val_loss: 0.6360 - val_accuracy: 0.7426\n",
            "Epoch 109/200\n",
            "101/101 [==============================] - 9s 93ms/step - loss: 0.4517 - accuracy: 0.8212 - val_loss: 0.6509 - val_accuracy: 0.7096\n",
            "Epoch 110/200\n",
            "101/101 [==============================] - 10s 95ms/step - loss: 0.4735 - accuracy: 0.8205 - val_loss: 0.5894 - val_accuracy: 0.7206\n",
            "Epoch 111/200\n",
            "101/101 [==============================] - 9s 94ms/step - loss: 0.4517 - accuracy: 0.8199 - val_loss: 0.6319 - val_accuracy: 0.7059\n",
            "Epoch 112/200\n",
            "101/101 [==============================] - 10s 94ms/step - loss: 0.4658 - accuracy: 0.8168 - val_loss: 0.5910 - val_accuracy: 0.7426\n",
            "Epoch 113/200\n",
            "101/101 [==============================] - 9s 94ms/step - loss: 0.4435 - accuracy: 0.8193 - val_loss: 0.6132 - val_accuracy: 0.7647\n",
            "Epoch 114/200\n",
            "101/101 [==============================] - 10s 94ms/step - loss: 0.4448 - accuracy: 0.8249 - val_loss: 0.6176 - val_accuracy: 0.7169\n",
            "Epoch 115/200\n",
            "101/101 [==============================] - 9s 94ms/step - loss: 0.4442 - accuracy: 0.8286 - val_loss: 0.6007 - val_accuracy: 0.7206\n",
            "Epoch 116/200\n",
            "101/101 [==============================] - 10s 94ms/step - loss: 0.4531 - accuracy: 0.8100 - val_loss: 0.6415 - val_accuracy: 0.7096\n",
            "Epoch 117/200\n",
            "101/101 [==============================] - 10s 95ms/step - loss: 0.4431 - accuracy: 0.8267 - val_loss: 0.6049 - val_accuracy: 0.7353\n",
            "Epoch 118/200\n",
            "101/101 [==============================] - 10s 94ms/step - loss: 0.4418 - accuracy: 0.8212 - val_loss: 0.6160 - val_accuracy: 0.7500\n",
            "Epoch 119/200\n",
            "101/101 [==============================] - 10s 95ms/step - loss: 0.4428 - accuracy: 0.8342 - val_loss: 0.7273 - val_accuracy: 0.6360\n",
            "Epoch 120/200\n",
            "101/101 [==============================] - 10s 94ms/step - loss: 0.4629 - accuracy: 0.8187 - val_loss: 0.6236 - val_accuracy: 0.7574\n",
            "Epoch 121/200\n",
            "101/101 [==============================] - 10s 95ms/step - loss: 0.4282 - accuracy: 0.8249 - val_loss: 0.6178 - val_accuracy: 0.7353\n",
            "Epoch 122/200\n",
            "101/101 [==============================] - 10s 94ms/step - loss: 0.4461 - accuracy: 0.8329 - val_loss: 0.6164 - val_accuracy: 0.7316\n",
            "Epoch 123/200\n",
            "101/101 [==============================] - 10s 94ms/step - loss: 0.4226 - accuracy: 0.8236 - val_loss: 0.6292 - val_accuracy: 0.7316\n",
            "Epoch 124/200\n",
            "101/101 [==============================] - 10s 94ms/step - loss: 0.4469 - accuracy: 0.8038 - val_loss: 0.5829 - val_accuracy: 0.7610\n",
            "Epoch 125/200\n",
            "101/101 [==============================] - 9s 94ms/step - loss: 0.4561 - accuracy: 0.8243 - val_loss: 0.6365 - val_accuracy: 0.6618\n",
            "Epoch 126/200\n",
            "101/101 [==============================] - 9s 94ms/step - loss: 0.4402 - accuracy: 0.8366 - val_loss: 0.6000 - val_accuracy: 0.7353\n",
            "Epoch 127/200\n",
            "101/101 [==============================] - 9s 94ms/step - loss: 0.4260 - accuracy: 0.8274 - val_loss: 0.5983 - val_accuracy: 0.7537\n",
            "Epoch 128/200\n",
            "101/101 [==============================] - 9s 94ms/step - loss: 0.4352 - accuracy: 0.8317 - val_loss: 0.5831 - val_accuracy: 0.7243\n",
            "Epoch 129/200\n",
            "101/101 [==============================] - 10s 94ms/step - loss: 0.4260 - accuracy: 0.8317 - val_loss: 0.6011 - val_accuracy: 0.7794\n",
            "Epoch 130/200\n",
            "101/101 [==============================] - 10s 94ms/step - loss: 0.4289 - accuracy: 0.8274 - val_loss: 0.5966 - val_accuracy: 0.7647\n",
            "Epoch 131/200\n",
            "101/101 [==============================] - 9s 94ms/step - loss: 0.4227 - accuracy: 0.8255 - val_loss: 0.6374 - val_accuracy: 0.7206\n",
            "Epoch 132/200\n",
            "101/101 [==============================] - 10s 94ms/step - loss: 0.4273 - accuracy: 0.8397 - val_loss: 0.6595 - val_accuracy: 0.6985\n",
            "Epoch 133/200\n",
            "101/101 [==============================] - 10s 94ms/step - loss: 0.4277 - accuracy: 0.8342 - val_loss: 0.6265 - val_accuracy: 0.7279\n",
            "Epoch 134/200\n",
            "101/101 [==============================] - 10s 95ms/step - loss: 0.4213 - accuracy: 0.8304 - val_loss: 0.6279 - val_accuracy: 0.7537\n",
            "Epoch 135/200\n",
            "101/101 [==============================] - 10s 95ms/step - loss: 0.4171 - accuracy: 0.8304 - val_loss: 0.6258 - val_accuracy: 0.7206\n",
            "Epoch 136/200\n",
            "101/101 [==============================] - 9s 94ms/step - loss: 0.4358 - accuracy: 0.8187 - val_loss: 0.6307 - val_accuracy: 0.7353\n",
            "Epoch 137/200\n",
            "101/101 [==============================] - 10s 94ms/step - loss: 0.4275 - accuracy: 0.8236 - val_loss: 0.6499 - val_accuracy: 0.7353\n",
            "Epoch 138/200\n",
            "101/101 [==============================] - 9s 94ms/step - loss: 0.4159 - accuracy: 0.8280 - val_loss: 0.6521 - val_accuracy: 0.7426\n",
            "Epoch 139/200\n",
            "101/101 [==============================] - 10s 95ms/step - loss: 0.4252 - accuracy: 0.8249 - val_loss: 0.6343 - val_accuracy: 0.7169\n",
            "Epoch 140/200\n",
            "101/101 [==============================] - 9s 94ms/step - loss: 0.4073 - accuracy: 0.8342 - val_loss: 0.6144 - val_accuracy: 0.7721\n",
            "Epoch 141/200\n",
            "101/101 [==============================] - 10s 94ms/step - loss: 0.4364 - accuracy: 0.8218 - val_loss: 0.6584 - val_accuracy: 0.7426\n",
            "Epoch 142/200\n",
            "101/101 [==============================] - 9s 94ms/step - loss: 0.4245 - accuracy: 0.8230 - val_loss: 0.6177 - val_accuracy: 0.7206\n",
            "Epoch 143/200\n",
            "101/101 [==============================] - 9s 94ms/step - loss: 0.4097 - accuracy: 0.8515 - val_loss: 0.6603 - val_accuracy: 0.7169\n",
            "Epoch 144/200\n",
            "101/101 [==============================] - 9s 94ms/step - loss: 0.4397 - accuracy: 0.8274 - val_loss: 0.6232 - val_accuracy: 0.7500\n",
            "Epoch 145/200\n",
            "101/101 [==============================] - 10s 95ms/step - loss: 0.4206 - accuracy: 0.8354 - val_loss: 0.6843 - val_accuracy: 0.7206\n",
            "Epoch 146/200\n",
            "101/101 [==============================] - 10s 94ms/step - loss: 0.4177 - accuracy: 0.8304 - val_loss: 0.5927 - val_accuracy: 0.7353\n",
            "Epoch 147/200\n",
            "101/101 [==============================] - 10s 95ms/step - loss: 0.4087 - accuracy: 0.8379 - val_loss: 0.6291 - val_accuracy: 0.7757\n",
            "Epoch 148/200\n",
            "101/101 [==============================] - 9s 94ms/step - loss: 0.4275 - accuracy: 0.8243 - val_loss: 0.6226 - val_accuracy: 0.7243\n",
            "Epoch 149/200\n",
            "101/101 [==============================] - 9s 94ms/step - loss: 0.4252 - accuracy: 0.8280 - val_loss: 0.6144 - val_accuracy: 0.7684\n",
            "Epoch 150/200\n",
            "101/101 [==============================] - 9s 94ms/step - loss: 0.4155 - accuracy: 0.8342 - val_loss: 0.6375 - val_accuracy: 0.7206\n",
            "Epoch 151/200\n",
            "101/101 [==============================] - 10s 95ms/step - loss: 0.4356 - accuracy: 0.8255 - val_loss: 0.7016 - val_accuracy: 0.7390\n",
            "Epoch 152/200\n",
            "101/101 [==============================] - 10s 94ms/step - loss: 0.4143 - accuracy: 0.8286 - val_loss: 0.6134 - val_accuracy: 0.7537\n",
            "Epoch 153/200\n",
            "101/101 [==============================] - 9s 94ms/step - loss: 0.4159 - accuracy: 0.8447 - val_loss: 0.6779 - val_accuracy: 0.7169\n",
            "Epoch 154/200\n",
            "101/101 [==============================] - 9s 94ms/step - loss: 0.4263 - accuracy: 0.8335 - val_loss: 0.9032 - val_accuracy: 0.5625\n",
            "Epoch 155/200\n",
            "101/101 [==============================] - 9s 94ms/step - loss: 0.4278 - accuracy: 0.8342 - val_loss: 0.6249 - val_accuracy: 0.7390\n",
            "Epoch 156/200\n",
            "101/101 [==============================] - 9s 94ms/step - loss: 0.4118 - accuracy: 0.8379 - val_loss: 0.6442 - val_accuracy: 0.7390\n",
            "Epoch 157/200\n",
            "101/101 [==============================] - 10s 95ms/step - loss: 0.3838 - accuracy: 0.8533 - val_loss: 0.6353 - val_accuracy: 0.7463\n",
            "Epoch 158/200\n",
            "101/101 [==============================] - 9s 94ms/step - loss: 0.4195 - accuracy: 0.8373 - val_loss: 0.6540 - val_accuracy: 0.7500\n",
            "Epoch 159/200\n",
            "101/101 [==============================] - 10s 94ms/step - loss: 0.4040 - accuracy: 0.8385 - val_loss: 0.6271 - val_accuracy: 0.7243\n",
            "Epoch 160/200\n",
            "101/101 [==============================] - 9s 94ms/step - loss: 0.4021 - accuracy: 0.8354 - val_loss: 0.6115 - val_accuracy: 0.7463\n",
            "Epoch 161/200\n",
            "101/101 [==============================] - 10s 94ms/step - loss: 0.4224 - accuracy: 0.8323 - val_loss: 0.6300 - val_accuracy: 0.7353\n",
            "Epoch 162/200\n",
            "101/101 [==============================] - 9s 94ms/step - loss: 0.4005 - accuracy: 0.8317 - val_loss: 0.6355 - val_accuracy: 0.6949\n",
            "Epoch 163/200\n",
            "101/101 [==============================] - 9s 94ms/step - loss: 0.3943 - accuracy: 0.8422 - val_loss: 0.6248 - val_accuracy: 0.7426\n",
            "Epoch 164/200\n",
            "101/101 [==============================] - 9s 94ms/step - loss: 0.4038 - accuracy: 0.8360 - val_loss: 0.6559 - val_accuracy: 0.7169\n",
            "Epoch 165/200\n",
            "101/101 [==============================] - 10s 94ms/step - loss: 0.4229 - accuracy: 0.8255 - val_loss: 0.6614 - val_accuracy: 0.6765\n",
            "Epoch 166/200\n",
            "101/101 [==============================] - 9s 94ms/step - loss: 0.4040 - accuracy: 0.8335 - val_loss: 0.6498 - val_accuracy: 0.7426\n",
            "Epoch 167/200\n",
            "101/101 [==============================] - 10s 94ms/step - loss: 0.3996 - accuracy: 0.8385 - val_loss: 0.6509 - val_accuracy: 0.7279\n",
            "Epoch 168/200\n",
            "101/101 [==============================] - 10s 94ms/step - loss: 0.3977 - accuracy: 0.8465 - val_loss: 0.6352 - val_accuracy: 0.7353\n",
            "Epoch 169/200\n",
            "101/101 [==============================] - 10s 94ms/step - loss: 0.4093 - accuracy: 0.8280 - val_loss: 0.6722 - val_accuracy: 0.7537\n",
            "Epoch 170/200\n",
            "101/101 [==============================] - 10s 94ms/step - loss: 0.4143 - accuracy: 0.8317 - val_loss: 0.7113 - val_accuracy: 0.7426\n",
            "Epoch 171/200\n",
            "101/101 [==============================] - 10s 94ms/step - loss: 0.3770 - accuracy: 0.8478 - val_loss: 0.6124 - val_accuracy: 0.7353\n",
            "Epoch 172/200\n",
            "101/101 [==============================] - 10s 94ms/step - loss: 0.3893 - accuracy: 0.8484 - val_loss: 0.6678 - val_accuracy: 0.7022\n",
            "Epoch 173/200\n",
            "101/101 [==============================] - 9s 94ms/step - loss: 0.3950 - accuracy: 0.8317 - val_loss: 0.6698 - val_accuracy: 0.7243\n",
            "Epoch 174/200\n",
            "101/101 [==============================] - 9s 94ms/step - loss: 0.3988 - accuracy: 0.8397 - val_loss: 0.6607 - val_accuracy: 0.7169\n",
            "Epoch 175/200\n",
            "101/101 [==============================] - 10s 95ms/step - loss: 0.3896 - accuracy: 0.8490 - val_loss: 0.7075 - val_accuracy: 0.6985\n",
            "Epoch 176/200\n",
            "101/101 [==============================] - 9s 94ms/step - loss: 0.4125 - accuracy: 0.8261 - val_loss: 0.6848 - val_accuracy: 0.7426\n",
            "Epoch 177/200\n",
            "101/101 [==============================] - 10s 95ms/step - loss: 0.3806 - accuracy: 0.8379 - val_loss: 0.6391 - val_accuracy: 0.7206\n",
            "Epoch 178/200\n",
            "101/101 [==============================] - 10s 94ms/step - loss: 0.4088 - accuracy: 0.8323 - val_loss: 0.6797 - val_accuracy: 0.7169\n",
            "Epoch 179/200\n",
            "101/101 [==============================] - 10s 94ms/step - loss: 0.3992 - accuracy: 0.8391 - val_loss: 0.6688 - val_accuracy: 0.7353\n",
            "Epoch 180/200\n",
            "101/101 [==============================] - 10s 94ms/step - loss: 0.3941 - accuracy: 0.8391 - val_loss: 0.6881 - val_accuracy: 0.7574\n",
            "Epoch 181/200\n",
            "101/101 [==============================] - 9s 94ms/step - loss: 0.3922 - accuracy: 0.8490 - val_loss: 0.7017 - val_accuracy: 0.7426\n",
            "Epoch 182/200\n",
            "101/101 [==============================] - 9s 94ms/step - loss: 0.3947 - accuracy: 0.8348 - val_loss: 0.7011 - val_accuracy: 0.7316\n",
            "Epoch 183/200\n",
            "101/101 [==============================] - 9s 94ms/step - loss: 0.4021 - accuracy: 0.8391 - val_loss: 0.6792 - val_accuracy: 0.7206\n",
            "Epoch 184/200\n",
            "101/101 [==============================] - 9s 94ms/step - loss: 0.3725 - accuracy: 0.8496 - val_loss: 0.6572 - val_accuracy: 0.7647\n",
            "Epoch 185/200\n",
            "101/101 [==============================] - 10s 94ms/step - loss: 0.3806 - accuracy: 0.8447 - val_loss: 0.6759 - val_accuracy: 0.7206\n",
            "Epoch 186/200\n",
            "101/101 [==============================] - 9s 94ms/step - loss: 0.3711 - accuracy: 0.8422 - val_loss: 0.6967 - val_accuracy: 0.7132\n",
            "Epoch 187/200\n",
            "101/101 [==============================] - 10s 94ms/step - loss: 0.3703 - accuracy: 0.8465 - val_loss: 0.6694 - val_accuracy: 0.7500\n",
            "Epoch 188/200\n",
            "101/101 [==============================] - 9s 94ms/step - loss: 0.3672 - accuracy: 0.8521 - val_loss: 0.6422 - val_accuracy: 0.7279\n",
            "Epoch 189/200\n",
            "101/101 [==============================] - 10s 94ms/step - loss: 0.4252 - accuracy: 0.8348 - val_loss: 0.6528 - val_accuracy: 0.7610\n",
            "Epoch 190/200\n",
            "101/101 [==============================] - 9s 94ms/step - loss: 0.3964 - accuracy: 0.8385 - val_loss: 0.6380 - val_accuracy: 0.7279\n",
            "Epoch 191/200\n",
            "101/101 [==============================] - 10s 95ms/step - loss: 0.4042 - accuracy: 0.8360 - val_loss: 0.6674 - val_accuracy: 0.7574\n",
            "Epoch 192/200\n",
            "101/101 [==============================] - 9s 94ms/step - loss: 0.3894 - accuracy: 0.8465 - val_loss: 0.6727 - val_accuracy: 0.7243\n",
            "Epoch 193/200\n",
            "101/101 [==============================] - 9s 94ms/step - loss: 0.4047 - accuracy: 0.8317 - val_loss: 0.6916 - val_accuracy: 0.7500\n",
            "Epoch 194/200\n",
            "101/101 [==============================] - 10s 95ms/step - loss: 0.3940 - accuracy: 0.8521 - val_loss: 0.6913 - val_accuracy: 0.7537\n",
            "Epoch 195/200\n",
            "101/101 [==============================] - 9s 94ms/step - loss: 0.3664 - accuracy: 0.8428 - val_loss: 0.6897 - val_accuracy: 0.7574\n",
            "Epoch 196/200\n",
            "101/101 [==============================] - 9s 94ms/step - loss: 0.3636 - accuracy: 0.8484 - val_loss: 0.7107 - val_accuracy: 0.7537\n",
            "Epoch 197/200\n",
            "101/101 [==============================] - 10s 94ms/step - loss: 0.3849 - accuracy: 0.8577 - val_loss: 0.7039 - val_accuracy: 0.7684\n",
            "Epoch 198/200\n",
            "101/101 [==============================] - 9s 94ms/step - loss: 0.3736 - accuracy: 0.8484 - val_loss: 0.6992 - val_accuracy: 0.7721\n",
            "Epoch 199/200\n",
            "101/101 [==============================] - 10s 95ms/step - loss: 0.4044 - accuracy: 0.8416 - val_loss: 0.6642 - val_accuracy: 0.7868\n",
            "Epoch 200/200\n",
            "101/101 [==============================] - 9s 94ms/step - loss: 0.3620 - accuracy: 0.8533 - val_loss: 0.7183 - val_accuracy: 0.7132\n"
          ]
        }
      ],
      "source": [
        "# Create an Instance of Early Stopping Callback\n",
        "early_stopping_callback = keras.callbacks.EarlyStopping(monitor = 'val_loss',\n",
        "                                                        patience = 20,\n",
        "                                                        mode = 'min',\n",
        "                                                        restore_best_weights = True)\n",
        "# Compile the model and specify loss function, optimizer and metrics values to the model\n",
        "model.compile(loss = 'categorical_crossentropy',\n",
        "              optimizer= keras.optimizers.Adam(0.001, decay=1e-4),\n",
        "              metrics=['accuracy'])\n",
        "# Start training the model.\n",
        "cnn_3d_model_training_history = model.fit(x = features_train,\n",
        "                                          y = labels_train,\n",
        "                                          epochs=200,\n",
        "                                          batch_size=16,\n",
        "                                          shuffle = True,\n",
        "                                          validation_data = (features_valid, labels_valid)),\n",
        "                                          # callbacks = [early_stopping_callback])"
      ]
    },
    {
      "cell_type": "code",
      "execution_count": 13,
      "metadata": {
        "colab": {
          "base_uri": "https://localhost:8080/"
        },
        "id": "3vimsgjjbXvL",
        "outputId": "8790f8f3-d489-49ac-f394-94c1bc8819f1"
      },
      "outputs": [
        {
          "output_type": "stream",
          "name": "stdout",
          "text": [
            "9/9 [==============================] - 1s 65ms/step - loss: 1.5158 - accuracy: 0.7059\n",
            "\n",
            "\n",
            "Train accuracy: 88.985 % || Test accuracy: 70.588 % || Val accuracy: 71.324 %\n",
            "Train loss: 0.316 || Test loss: 1.516 || Val loss: 0.718\n"
          ]
        }
      ],
      "source": [
        "model_evaluation_history = model.evaluate(features_test, labels_test)\n",
        "print('\\n')\n",
        "train_loss, train_acc = model.evaluate(features_train, labels_train, verbose=0)\n",
        "test_loss, test_acc = model.evaluate(features_test, labels_test, verbose=0)\n",
        "val_loss, val_acc = model.evaluate(features_valid, labels_valid, verbose=0)\n",
        "print(f'Train accuracy: {train_acc*100:.3f} % || Test accuracy: {test_acc*100:.3f} % || Val accuracy: {val_acc*100:.3f} %')\n",
        "print(f'Train loss: {train_loss:.3f} || Test loss: {test_loss:.3f} || Val loss: {val_loss:.3f}')"
      ]
    },
    {
      "cell_type": "code",
      "execution_count": 14,
      "metadata": {
        "id": "ivmaK9BlbnRQ"
      },
      "outputs": [],
      "source": [
        "# Get the loss and accuracy from model_evaluation_history.\n",
        "model_evaluation_loss, model_evaluation_accuracy = model_evaluation_history\n",
        " \n",
        "# Define the string date format.\n",
        "# Get the current Date and Time in a DateTime Object.\n",
        "# Convert the DateTime object to string according to the style mentioned in date_time_format string.\n",
        "date_time_format = '%Y_%m_%d__%H_%M_%S'\n",
        "current_date_time_dt = dt.datetime.now()\n",
        "current_date_time_string = dt.datetime.strftime(current_date_time_dt, date_time_format)\n",
        " \n",
        "# Define a useful name for our model to make it easy for us while navigating through multiple saved models.\n",
        "model_file_name = f'3D_CNN_model___Date_Time_{current_date_time_string}___Loss_{model_evaluation_loss}___Accuracy_{model_evaluation_accuracy}.h5'\n",
        "# Change dir\n",
        "gdrive_path = '/content/gdrive' + '/My Drive/247/Saved_models/'\n",
        "os.chdir(gdrive_path)\n",
        "# Create a floder for the model files\n",
        "!mkdir -p cnn_3d_{current_date_time_string}\n",
        "# Save your Model.\n",
        "model.save('convlstm_' + str(current_date_time_string) + '/' + model_file_name)\n",
        "# Save model weights\n",
        "model.save_weights('convlstm_' + str(current_date_time_string) + '/' + 'weights')"
      ]
    },
    {
      "cell_type": "code",
      "execution_count": 15,
      "metadata": {
        "id": "OwU8TwPrbsKB"
      },
      "outputs": [],
      "source": [
        "def plot_metric(model_training_history, metric_name_1, metric_name_2, plot_name):\n",
        "    '''\n",
        "    This function will plot the metrics passed to it in a graph.\n",
        "    Args:\n",
        "        model_training_history: A history object containing a record of training and validation \n",
        "                                loss values and metrics values at successive epochs\n",
        "        metric_name_1:          The name of the first metric that needs to be plotted in the graph.\n",
        "        metric_name_2:          The name of the second metric that needs to be plotted in the graph.\n",
        "        plot_name:              The title of the graph.\n",
        "    '''\n",
        "    \n",
        "    # Get metric values using metric names as identifiers.\n",
        "    metric_value_1 = model_training_history[0].history[metric_name_1]\n",
        "    metric_value_2 = model_training_history[0].history[metric_name_2]\n",
        "    \n",
        "    # Construct a range object which will be used as x-axis (horizontal plane) of the graph.\n",
        "    epochs = range(len(metric_value_1))\n",
        "\n",
        "    # Plot the Graph.\n",
        "    plt.plot(epochs, metric_value_1, 'blue', label = metric_name_1)\n",
        "    plt.plot(epochs, metric_value_2, 'red', label = metric_name_2)\n",
        "\n",
        "    # Add title to the plot.\n",
        "    plt.title(str(plot_name))\n",
        "\n",
        "    # Add legend to the plot.\n",
        "    plt.legend()"
      ]
    },
    {
      "cell_type": "code",
      "execution_count": 16,
      "metadata": {
        "colab": {
          "base_uri": "https://localhost:8080/",
          "height": 281
        },
        "id": "cvKY05ncbwof",
        "outputId": "56852da8-d485-4e11-a1c3-9d2281acc563"
      },
      "outputs": [
        {
          "output_type": "display_data",
          "data": {
            "text/plain": [
              "<Figure size 432x288 with 1 Axes>"
            ],
            "image/png": "[encoded data removed]"
          },
          "metadata": {
            "needs_background": "light"
          }
        }
      ],
      "source": [
        "plot_metric(cnn_3d_model_training_history, 'loss', 'val_loss', 'Total Loss vs Total Validation Loss')"
      ]
    },
    {
      "cell_type": "code",
      "execution_count": 17,
      "metadata": {
        "colab": {
          "base_uri": "https://localhost:8080/",
          "height": 281
        },
        "id": "o1iaaDHBb5i0",
        "outputId": "7be202ca-15ef-4a41-d874-da766bfb3993"
      },
      "outputs": [
        {
          "output_type": "display_data",
          "data": {
            "text/plain": [
              "<Figure size 432x288 with 1 Axes>"
            ],
            "image/png": "[encoded data removed]"
          },
          "metadata": {
            "needs_background": "light"
          }
        }
      ],
      "source": [
        "plot_metric(cnn_3d_model_training_history, 'accuracy', 'val_accuracy', 'Total Accuracy vs Total Validation Accuracy') "
      ]
    }
  ],
  "metadata": {
    "accelerator": "GPU",
    "colab": {
      "collapsed_sections": [],
      "machine_shape": "hm",
      "name": "3D_CNN.ipynb",
      "provenance": [],
      "authorship_tag": "ABX9TyPzKnqMeWMnreFCpDe4ZSxM",
      "include_colab_link": true
    },
    "kernelspec": {
      "display_name": "Python 3",
      "name": "python3"
    },
    "language_info": {
      "name": "python"
    }
  },
  "nbformat": 4,
  "nbformat_minor": 0
}