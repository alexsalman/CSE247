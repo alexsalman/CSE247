{
  "cells": [
    {
      "cell_type": "markdown",
      "metadata": {
        "id": "view-in-github",
        "colab_type": "text"
      },
      "source": [
        "<a href=\"https://colab.research.google.com/github/alexsalman/CSE247/blob/main/3D_CNN.ipynb\" target=\"_parent\"><img src=\"https://colab.research.google.com/assets/colab-badge.svg\" alt=\"Open In Colab\"/></a>"
      ]
    },
    {
      "cell_type": "markdown",
      "metadata": {
        "id": "Kk7I8NauauE3"
      },
      "source": [
        "####**3D Convolutional Neural Network**\n",
        "######*I am using 3D Convolutional Neural Network to extract the temporal and spatial information which are merged slowly throughout the whole network.*"
      ]
    },
    {
      "cell_type": "code",
      "execution_count": 1,
      "metadata": {
        "colab": {
          "base_uri": "https://localhost:8080/"
        },
        "id": "M8ibtd5HKtZk",
        "outputId": "d30aaa41-dba5-446e-fb0c-e8d9dcaabe78"
      },
      "outputs": [
        {
          "output_type": "stream",
          "name": "stdout",
          "text": [
            "2.8.0\n"
          ]
        }
      ],
      "source": [
        "# required libraries\n",
        "import os\n",
        "import cv2\n",
        "import math\n",
        "import random\n",
        "import numpy as np\n",
        "import datetime as dt\n",
        "from collections import deque\n",
        "import matplotlib.pyplot as plt\n",
        "from google.colab import drive\n",
        "from sklearn.model_selection import train_test_split\n",
        "import tensorflow as tf\n",
        "from tensorflow import keras\n",
        "from keras.models import Sequential\n",
        "from keras.layers import Dense, Flatten, Conv3D, MaxPooling3D, Dropout, BatchNormalization, GlobalAveragePooling3D\n",
        "from keras import regularizers\n",
        "from PIL import Image\n",
        "%matplotlib inline\n",
        "print(tf.version.VERSION)\n",
        "# https://bleedai.com/human-activity-recognition-using-tensorflow-cnn-lstm/"
      ]
    },
    {
      "cell_type": "code",
      "execution_count": 2,
      "metadata": {
        "id": "iffdFOf1CEAN"
      },
      "outputs": [],
      "source": [
        "# set Numpy, Python, and Tensorflow seeds to get consistent results on every execution\n",
        "seed_constant = 27\n",
        "np.random.seed(seed_constant)\n",
        "random.seed(seed_constant)\n",
        "tf.random.set_seed(seed_constant)"
      ]
    },
    {
      "cell_type": "code",
      "execution_count": 3,
      "metadata": {
        "colab": {
          "base_uri": "https://localhost:8080/",
          "height": 53
        },
        "id": "mcLh22LiOHyn",
        "outputId": "7866ff0d-1646-4725-ed2d-ca8999fb60d6"
      },
      "outputs": [
        {
          "output_type": "stream",
          "name": "stdout",
          "text": [
            "Mounted at /content/gdrive/\n"
          ]
        },
        {
          "output_type": "execute_result",
          "data": {
            "text/plain": [
              "'/content/gdrive/My Drive/247'"
            ],
            "application/vnd.google.colaboratory.intrinsic+json": {
              "type": "string"
            }
          },
          "metadata": {},
          "execution_count": 3
        }
      ],
      "source": [
        "# mount dataset from google drive\n",
        "drive.mount('/content/gdrive/', force_remount=True)\n",
        "gdrive_path = '/content/gdrive' + '/My Drive/247/'\n",
        "os.chdir(gdrive_path)\n",
        "os.getcwd()"
      ]
    },
    {
      "cell_type": "code",
      "execution_count": 4,
      "metadata": {
        "id": "oeDK8SzumZ1Q"
      },
      "outputs": [],
      "source": [
        "# frame dimention\n",
        "IMAGE_HEIGHT, IMAGE_WIDTH = 128, 128\n",
        "# frame number for each video (depth)\n",
        "SEQUENCE_LENGTH = 16\n",
        "# video dir path\n",
        "DATASET_DIR = gdrive_path + 'Cropped_videos'\n",
        "# labels of classes\n",
        "CLASSES_LIST = ['hemostasis', 'inflammatory', 'proliferative', 'maturation']"
      ]
    },
    {
      "cell_type": "code",
      "execution_count": 5,
      "metadata": {
        "id": "HUTeIqzpZc9J"
      },
      "outputs": [],
      "source": [
        "# image cropping\n",
        "def crop_center_square(frame):\n",
        "    y, x = frame.shape[0:2]\n",
        "    min_dim = min(y, x)\n",
        "    start_x = (x // 2) - (min_dim // 2)\n",
        "    start_y = (y // 2) - (min_dim // 2)\n",
        "    return frame[start_y:start_y+min_dim,start_x:start_x+min_dim]"
      ]
    },
    {
      "cell_type": "code",
      "execution_count": 6,
      "metadata": {
        "id": "QRDbHG0TZkYJ"
      },
      "outputs": [],
      "source": [
        "# https://medium.com/analytics-vidhya/video-preprocessor-and-augmentation-for-deep-learning-tasks-12dd3fcce868\n",
        "def load_video(path, resize=(128, 128)):\n",
        "    video_reader = cv2.VideoCapture(path)\n",
        "    frames = []\n",
        "    try:\n",
        "        while True:\n",
        "            ret, frame = video_reader.read()\n",
        "            if not ret:\n",
        "                  break\n",
        "            # frame = crop_center_square(frame)\n",
        "            frame = cv2.resize(frame, resize)\n",
        "            frame = frame[:, :, [2, 1, 0]]\n",
        "            black_frame = frame\n",
        "            frames.append(frame)\n",
        "    finally:\n",
        "        video_reader.release()\n",
        "    return np.array(frames) / 255.0"
      ]
    },
    {
      "cell_type": "code",
      "execution_count": 7,
      "metadata": {
        "id": "ljUWHW6Jqzu-"
      },
      "outputs": [],
      "source": [
        "def create_dataset(state):\n",
        "    # Declared Empty Lists to store the features, labels and video file path values.\n",
        "    features = []\n",
        "    labels = []\n",
        "    video_files_paths = []\n",
        "    # Iterating through all the classes mentioned in the classes list\n",
        "    for class_index, class_name in enumerate(CLASSES_LIST):\n",
        "        # Display the name of the class whose data is being extracted.\n",
        "        print(f'Extracting Data of Class: {class_name} {state}')\n",
        "        # Get the list of video files present in the specific class name directory.\n",
        "        files_list = os.listdir(os.path.join(DATASET_DIR, class_name))\n",
        "        # Iterate through all the files present in the files list.\n",
        "        for file_name in files_list:\n",
        "            # Get the complete video path.\n",
        "            video_file_path = os.path.join(DATASET_DIR, class_name, file_name)\n",
        "            # create testing data\n",
        "            if state == 'test':\n",
        "                # get the mouse number\n",
        "                mouse_number = int(video_file_path.split(' ')[2].split('_')[1].split('-')[1])\n",
        "                # get the mouse side (L or R)\n",
        "                mouse_side = video_file_path.split(' ')[2].split('_')[1].split('-')[2]\n",
        "                if mouse_number == 4 and mouse_side == 'L':\n",
        "                    frames = load_video(video_file_path)\n",
        "                    features.append(frames)\n",
        "                    labels.append(class_index)\n",
        "                    video_files_paths.append(video_file_path)\n",
        "            # create validation data\n",
        "            elif state == 'valid':\n",
        "                # get the mouse number\n",
        "                mouse_number = int(video_file_path.split(' ')[2].split('_')[1].split('-')[1])\n",
        "                # get the mouse side (L or R)\n",
        "                mouse_side = video_file_path.split(' ')[2].split('_')[1].split('-')[2]\n",
        "                if mouse_number == 4 and mouse_side == 'R':\n",
        "                    frames = load_video(video_file_path)\n",
        "                    features.append(frames)\n",
        "                    labels.append(class_index)\n",
        "                    video_files_paths.append(video_file_path)\n",
        "            # create training data\n",
        "            else:\n",
        "                # get the mouse number\n",
        "                mouse_number = int(video_file_path.split(' ')[2].split('_')[1].split('-')[1])\n",
        "                if mouse_number != 4:\n",
        "                    frames = load_video(video_file_path)\n",
        "                    features.append(frames)\n",
        "                    labels.append(class_index)\n",
        "                    video_files_paths.append(video_file_path)\n",
        "    # Converting the list to numpy arrays\n",
        "    features = np.asarray(features)\n",
        "    # print(features)\n",
        "    labels = np.array(labels)\n",
        "    # Return the frames, class index, and video file path.\n",
        "    return features, labels, video_files_paths"
      ]
    },
    {
      "cell_type": "code",
      "execution_count": 8,
      "metadata": {
        "colab": {
          "base_uri": "https://localhost:8080/"
        },
        "id": "a8rpanz9rASe",
        "outputId": "5a728bfa-35b3-4638-9e58-4041487442d4"
      },
      "outputs": [
        {
          "output_type": "stream",
          "name": "stdout",
          "text": [
            "Extracting Data of Class: hemostasis train\n",
            "Extracting Data of Class: inflammatory train\n",
            "Extracting Data of Class: proliferative train\n",
            "Extracting Data of Class: maturation train\n",
            "Extracting Data of Class: hemostasis test\n",
            "Extracting Data of Class: inflammatory test\n",
            "Extracting Data of Class: proliferative test\n",
            "Extracting Data of Class: maturation test\n",
            "Extracting Data of Class: hemostasis valid\n",
            "Extracting Data of Class: inflammatory valid\n",
            "Extracting Data of Class: proliferative valid\n",
            "Extracting Data of Class: maturation valid\n"
          ]
        }
      ],
      "source": [
        "# 6 mice for training, 2 mice for test and validation (one wound on each mice for test one for validation)\n",
        "features_train, labels_train, video_files_paths_train = create_dataset('train')\n",
        "features_test, labels_test, video_files_paths_test = create_dataset('test')\n",
        "features_valid, labels_valid, video_files_paths_valid = create_dataset('valid')"
      ]
    },
    {
      "cell_type": "code",
      "execution_count": 9,
      "metadata": {
        "id": "dtJkK4qTAulC"
      },
      "outputs": [],
      "source": [
        "# one_hot_encoded_labels\n",
        "labels_train = keras.utils.to_categorical(labels_train)\n",
        "labels_test = keras.utils.to_categorical(labels_test)\n",
        "labels_valid = keras.utils.to_categorical(labels_valid)"
      ]
    },
    {
      "cell_type": "code",
      "execution_count": 10,
      "metadata": {
        "id": "N-9ykP4ig7IW"
      },
      "outputs": [],
      "source": [
        "def create_3D_CNN_model():\n",
        "    sample_shape = (16, 128, 128, 3)\n",
        "    model = Sequential()\n",
        "\n",
        "    model.add(Conv3D(32, 3, activation='relu', kernel_initializer='he_uniform',\n",
        "                     kernel_regularizer=regularizers.L2(l2=1e-4),\n",
        "                     input_shape=sample_shape))\n",
        "    # model.add(BatchNormalization())\n",
        "    model.add(MaxPooling3D(2))\n",
        "    model.add(Dropout(0.5))\n",
        "\n",
        "    model.add(Conv3D(32, 3, activation='relu', kernel_initializer='he_uniform',\n",
        "                     kernel_regularizer=regularizers.L2(l2=1e-4)))\n",
        "    # model.add(BatchNormalization())\n",
        "    model.add(MaxPooling3D(2))\n",
        "    model.add(Dropout(0.5))\n",
        "\n",
        "    model.add(GlobalAveragePooling3D())\n",
        "\n",
        "    model.add(Dense(32, activation='relu', kernel_initializer='he_uniform',\n",
        "                    kernel_regularizer=regularizers.L2(l2=1e-4)))\n",
        "    model.add(Dropout(0.5))\n",
        "\n",
        "    model.add(Dense(16, activation='relu', kernel_initializer='he_uniform'))\n",
        "    model.add(Dropout(0.6))\n",
        "    model.add(Dense(8, activation='relu', kernel_initializer='he_uniform'))\n",
        "    # model.add(Dense(4, activation='relu', kernel_initializer='he_uniform'))\n",
        "    # model.add(Dropout(0.3))\n",
        "    # model.add(Dense(8, activation='relu', kernel_initializer='he_uniform'))\n",
        "    # model.add(Dropout(0.3))\n",
        "    model.add(Dense(len(CLASSES_LIST), activation='softmax'))\n",
        "\n",
        "    # Display the models summary.\n",
        "    model.summary(line_length = 125)\n",
        "    # Return the constructed 3D_CNN model.\n",
        "    return model"
      ]
    },
    {
      "cell_type": "code",
      "execution_count": 11,
      "metadata": {
        "colab": {
          "base_uri": "https://localhost:8080/"
        },
        "id": "Z4_GxXZBcHlB",
        "outputId": "659fe275-34cd-4686-8803-a4c94858ef3c"
      },
      "outputs": [
        {
          "output_type": "stream",
          "name": "stdout",
          "text": [
            "Model: \"sequential\"\n",
            "_____________________________________________________________________________________________________________________________\n",
            " Layer (type)                                           Output Shape                                      Param #            \n",
            "=============================================================================================================================\n",
            " conv3d (Conv3D)                                        (None, 14, 126, 126, 32)                          2624               \n",
            "                                                                                                                             \n",
            " max_pooling3d (MaxPooling3D)                           (None, 7, 63, 63, 32)                             0                  \n",
            "                                                                                                                             \n",
            " dropout (Dropout)                                      (None, 7, 63, 63, 32)                             0                  \n",
            "                                                                                                                             \n",
            " conv3d_1 (Conv3D)                                      (None, 5, 61, 61, 32)                             27680              \n",
            "                                                                                                                             \n",
            " max_pooling3d_1 (MaxPooling3D)                         (None, 2, 30, 30, 32)                             0                  \n",
            "                                                                                                                             \n",
            " dropout_1 (Dropout)                                    (None, 2, 30, 30, 32)                             0                  \n",
            "                                                                                                                             \n",
            " global_average_pooling3d (GlobalAveragePooling3D)      (None, 32)                                        0                  \n",
            "                                                                                                                             \n",
            " dense (Dense)                                          (None, 64)                                        2112               \n",
            "                                                                                                                             \n",
            " dropout_2 (Dropout)                                    (None, 64)                                        0                  \n",
            "                                                                                                                             \n",
            " dense_1 (Dense)                                        (None, 16)                                        1040               \n",
            "                                                                                                                             \n",
            " dropout_3 (Dropout)                                    (None, 16)                                        0                  \n",
            "                                                                                                                             \n",
            " dense_2 (Dense)                                        (None, 8)                                         136                \n",
            "                                                                                                                             \n",
            " dense_3 (Dense)                                        (None, 4)                                         36                 \n",
            "                                                                                                                             \n",
            "=============================================================================================================================\n",
            "Total params: 33,628\n",
            "Trainable params: 33,628\n",
            "Non-trainable params: 0\n",
            "_____________________________________________________________________________________________________________________________\n",
            "Model Created Successfully!\n"
          ]
        }
      ],
      "source": [
        "# Construct the required convlstm model.\n",
        "model = create_3D_CNN_model()\n",
        " \n",
        "# Display the success message. \n",
        "print(\"Model Created Successfully!\")"
      ]
    },
    {
      "cell_type": "code",
      "execution_count": 12,
      "metadata": {
        "colab": {
          "base_uri": "https://localhost:8080/"
        },
        "id": "MwYEkaYLoyb_",
        "outputId": "48391784-8148-41b0-85a7-578eb3752f61"
      },
      "outputs": [
        {
          "output_type": "stream",
          "name": "stdout",
          "text": [
            "Epoch 1/100\n",
            "101/101 [==============================] - 20s 104ms/step - loss: 1.3396 - accuracy: 0.4035 - val_loss: 1.1437 - val_accuracy: 0.3787\n",
            "Epoch 2/100\n",
            "101/101 [==============================] - 10s 96ms/step - loss: 1.1123 - accuracy: 0.4196 - val_loss: 1.0236 - val_accuracy: 0.3603\n",
            "Epoch 3/100\n",
            "101/101 [==============================] - 10s 96ms/step - loss: 1.0580 - accuracy: 0.4369 - val_loss: 0.9562 - val_accuracy: 0.4412\n",
            "Epoch 4/100\n",
            "101/101 [==============================] - 10s 97ms/step - loss: 1.0000 - accuracy: 0.4920 - val_loss: 0.9137 - val_accuracy: 0.5919\n",
            "Epoch 5/100\n",
            "101/101 [==============================] - 10s 97ms/step - loss: 0.9737 - accuracy: 0.5037 - val_loss: 0.9057 - val_accuracy: 0.5699\n",
            "Epoch 6/100\n",
            "101/101 [==============================] - 10s 96ms/step - loss: 0.9282 - accuracy: 0.5446 - val_loss: 0.8711 - val_accuracy: 0.5478\n",
            "Epoch 7/100\n",
            "101/101 [==============================] - 10s 96ms/step - loss: 0.9153 - accuracy: 0.5433 - val_loss: 0.8605 - val_accuracy: 0.5956\n",
            "Epoch 8/100\n",
            "101/101 [==============================] - 10s 96ms/step - loss: 0.8981 - accuracy: 0.5693 - val_loss: 0.8682 - val_accuracy: 0.5441\n",
            "Epoch 9/100\n",
            "101/101 [==============================] - 10s 96ms/step - loss: 0.8807 - accuracy: 0.5916 - val_loss: 0.8621 - val_accuracy: 0.6103\n",
            "Epoch 10/100\n",
            "101/101 [==============================] - 10s 96ms/step - loss: 0.8738 - accuracy: 0.5761 - val_loss: 0.8425 - val_accuracy: 0.5515\n",
            "Epoch 11/100\n",
            "101/101 [==============================] - 10s 96ms/step - loss: 0.8500 - accuracy: 0.5965 - val_loss: 0.8155 - val_accuracy: 0.6103\n",
            "Epoch 12/100\n",
            "101/101 [==============================] - 10s 96ms/step - loss: 0.8364 - accuracy: 0.6052 - val_loss: 0.8217 - val_accuracy: 0.6103\n",
            "Epoch 13/100\n",
            "101/101 [==============================] - 10s 96ms/step - loss: 0.8322 - accuracy: 0.5996 - val_loss: 0.8225 - val_accuracy: 0.5846\n",
            "Epoch 14/100\n",
            "101/101 [==============================] - 10s 96ms/step - loss: 0.8148 - accuracy: 0.6139 - val_loss: 0.8233 - val_accuracy: 0.6029\n",
            "Epoch 15/100\n",
            "101/101 [==============================] - 10s 97ms/step - loss: 0.8100 - accuracy: 0.6361 - val_loss: 0.8215 - val_accuracy: 0.5551\n",
            "Epoch 16/100\n",
            "101/101 [==============================] - 10s 96ms/step - loss: 0.7980 - accuracy: 0.6380 - val_loss: 0.8021 - val_accuracy: 0.5993\n",
            "Epoch 17/100\n",
            "101/101 [==============================] - 10s 96ms/step - loss: 0.7711 - accuracy: 0.6355 - val_loss: 0.8140 - val_accuracy: 0.6140\n",
            "Epoch 18/100\n",
            "101/101 [==============================] - 10s 96ms/step - loss: 0.8124 - accuracy: 0.6139 - val_loss: 0.8090 - val_accuracy: 0.6103\n",
            "Epoch 19/100\n",
            "101/101 [==============================] - 10s 96ms/step - loss: 0.7854 - accuracy: 0.6275 - val_loss: 0.8260 - val_accuracy: 0.5625\n",
            "Epoch 20/100\n",
            "101/101 [==============================] - 10s 96ms/step - loss: 0.7765 - accuracy: 0.6355 - val_loss: 0.8473 - val_accuracy: 0.5772\n",
            "Epoch 21/100\n",
            "101/101 [==============================] - 10s 97ms/step - loss: 0.7479 - accuracy: 0.6498 - val_loss: 0.8160 - val_accuracy: 0.6066\n",
            "Epoch 22/100\n",
            "101/101 [==============================] - 10s 96ms/step - loss: 0.7443 - accuracy: 0.6510 - val_loss: 0.7773 - val_accuracy: 0.6434\n",
            "Epoch 23/100\n",
            "101/101 [==============================] - 10s 97ms/step - loss: 0.7464 - accuracy: 0.6689 - val_loss: 0.7923 - val_accuracy: 0.5919\n",
            "Epoch 24/100\n",
            "101/101 [==============================] - 10s 96ms/step - loss: 0.7350 - accuracy: 0.6665 - val_loss: 0.8025 - val_accuracy: 0.6213\n",
            "Epoch 25/100\n",
            "101/101 [==============================] - 10s 96ms/step - loss: 0.7487 - accuracy: 0.6578 - val_loss: 0.7792 - val_accuracy: 0.6250\n",
            "Epoch 26/100\n",
            "101/101 [==============================] - 10s 96ms/step - loss: 0.7439 - accuracy: 0.6627 - val_loss: 0.7740 - val_accuracy: 0.6544\n",
            "Epoch 27/100\n",
            "101/101 [==============================] - 10s 96ms/step - loss: 0.7184 - accuracy: 0.6726 - val_loss: 0.7726 - val_accuracy: 0.6728\n",
            "Epoch 28/100\n",
            "101/101 [==============================] - 10s 96ms/step - loss: 0.7289 - accuracy: 0.6652 - val_loss: 0.7509 - val_accuracy: 0.6654\n",
            "Epoch 29/100\n",
            "101/101 [==============================] - 10s 96ms/step - loss: 0.7024 - accuracy: 0.6850 - val_loss: 0.7641 - val_accuracy: 0.6471\n",
            "Epoch 30/100\n",
            "101/101 [==============================] - 10s 97ms/step - loss: 0.6878 - accuracy: 0.6925 - val_loss: 0.7387 - val_accuracy: 0.6765\n",
            "Epoch 31/100\n",
            "101/101 [==============================] - 10s 97ms/step - loss: 0.7042 - accuracy: 0.6875 - val_loss: 0.7601 - val_accuracy: 0.6360\n",
            "Epoch 32/100\n",
            "101/101 [==============================] - 10s 96ms/step - loss: 0.6995 - accuracy: 0.6801 - val_loss: 0.7538 - val_accuracy: 0.6765\n",
            "Epoch 33/100\n",
            "101/101 [==============================] - 10s 96ms/step - loss: 0.6885 - accuracy: 0.7005 - val_loss: 0.7755 - val_accuracy: 0.6213\n",
            "Epoch 34/100\n",
            "101/101 [==============================] - 10s 96ms/step - loss: 0.6703 - accuracy: 0.7017 - val_loss: 0.7264 - val_accuracy: 0.6875\n",
            "Epoch 35/100\n",
            "101/101 [==============================] - 10s 96ms/step - loss: 0.6567 - accuracy: 0.7129 - val_loss: 0.7359 - val_accuracy: 0.6801\n",
            "Epoch 36/100\n",
            "101/101 [==============================] - 10s 96ms/step - loss: 0.6428 - accuracy: 0.7246 - val_loss: 0.7595 - val_accuracy: 0.6544\n",
            "Epoch 37/100\n",
            "101/101 [==============================] - 10s 97ms/step - loss: 0.6464 - accuracy: 0.7178 - val_loss: 0.6994 - val_accuracy: 0.6765\n",
            "Epoch 38/100\n",
            "101/101 [==============================] - 10s 96ms/step - loss: 0.6423 - accuracy: 0.7141 - val_loss: 0.7144 - val_accuracy: 0.7022\n",
            "Epoch 39/100\n",
            "101/101 [==============================] - 10s 96ms/step - loss: 0.6415 - accuracy: 0.7271 - val_loss: 0.7102 - val_accuracy: 0.6654\n",
            "Epoch 40/100\n",
            "101/101 [==============================] - 10s 96ms/step - loss: 0.6410 - accuracy: 0.7321 - val_loss: 0.7197 - val_accuracy: 0.6654\n",
            "Epoch 41/100\n",
            "101/101 [==============================] - 10s 97ms/step - loss: 0.6285 - accuracy: 0.7308 - val_loss: 0.6947 - val_accuracy: 0.6838\n",
            "Epoch 42/100\n",
            "101/101 [==============================] - 10s 96ms/step - loss: 0.6274 - accuracy: 0.7382 - val_loss: 0.8045 - val_accuracy: 0.5735\n",
            "Epoch 43/100\n",
            "101/101 [==============================] - 10s 96ms/step - loss: 0.6354 - accuracy: 0.7277 - val_loss: 0.7391 - val_accuracy: 0.6250\n",
            "Epoch 44/100\n",
            "101/101 [==============================] - 10s 97ms/step - loss: 0.6327 - accuracy: 0.7166 - val_loss: 0.7115 - val_accuracy: 0.6912\n",
            "Epoch 45/100\n",
            "101/101 [==============================] - 10s 96ms/step - loss: 0.5934 - accuracy: 0.7438 - val_loss: 0.6996 - val_accuracy: 0.7059\n",
            "Epoch 46/100\n",
            "101/101 [==============================] - 10s 96ms/step - loss: 0.5984 - accuracy: 0.7457 - val_loss: 0.6999 - val_accuracy: 0.6765\n",
            "Epoch 47/100\n",
            "101/101 [==============================] - 10s 97ms/step - loss: 0.5884 - accuracy: 0.7358 - val_loss: 0.6967 - val_accuracy: 0.6838\n",
            "Epoch 48/100\n",
            "101/101 [==============================] - 10s 96ms/step - loss: 0.5908 - accuracy: 0.7525 - val_loss: 0.6924 - val_accuracy: 0.6875\n",
            "Epoch 49/100\n",
            "101/101 [==============================] - 10s 96ms/step - loss: 0.5891 - accuracy: 0.7457 - val_loss: 0.7004 - val_accuracy: 0.6618\n",
            "Epoch 50/100\n",
            "101/101 [==============================] - 10s 96ms/step - loss: 0.5778 - accuracy: 0.7543 - val_loss: 0.6852 - val_accuracy: 0.6765\n",
            "Epoch 51/100\n",
            "101/101 [==============================] - 10s 97ms/step - loss: 0.5759 - accuracy: 0.7562 - val_loss: 0.6633 - val_accuracy: 0.7022\n",
            "Epoch 52/100\n",
            "101/101 [==============================] - 10s 96ms/step - loss: 0.5596 - accuracy: 0.7494 - val_loss: 0.6477 - val_accuracy: 0.7059\n",
            "Epoch 53/100\n",
            "101/101 [==============================] - 10s 96ms/step - loss: 0.5557 - accuracy: 0.7556 - val_loss: 0.6817 - val_accuracy: 0.6949\n",
            "Epoch 54/100\n",
            "101/101 [==============================] - 10s 96ms/step - loss: 0.5677 - accuracy: 0.7574 - val_loss: 0.6869 - val_accuracy: 0.6912\n",
            "Epoch 55/100\n",
            "101/101 [==============================] - 10s 97ms/step - loss: 0.5544 - accuracy: 0.7766 - val_loss: 0.6910 - val_accuracy: 0.6949\n",
            "Epoch 56/100\n",
            "101/101 [==============================] - 10s 96ms/step - loss: 0.5602 - accuracy: 0.7673 - val_loss: 0.6555 - val_accuracy: 0.6801\n",
            "Epoch 57/100\n",
            "101/101 [==============================] - 10s 96ms/step - loss: 0.5443 - accuracy: 0.7766 - val_loss: 0.6662 - val_accuracy: 0.7279\n",
            "Epoch 58/100\n",
            "101/101 [==============================] - 10s 96ms/step - loss: 0.5733 - accuracy: 0.7556 - val_loss: 0.6470 - val_accuracy: 0.6875\n",
            "Epoch 59/100\n",
            "101/101 [==============================] - 10s 96ms/step - loss: 0.5599 - accuracy: 0.7679 - val_loss: 0.6568 - val_accuracy: 0.7169\n",
            "Epoch 60/100\n",
            "101/101 [==============================] - 10s 96ms/step - loss: 0.5439 - accuracy: 0.7636 - val_loss: 0.6548 - val_accuracy: 0.7132\n",
            "Epoch 61/100\n",
            "101/101 [==============================] - 10s 97ms/step - loss: 0.5416 - accuracy: 0.7667 - val_loss: 0.6422 - val_accuracy: 0.7096\n",
            "Epoch 62/100\n",
            "101/101 [==============================] - 10s 96ms/step - loss: 0.5488 - accuracy: 0.7809 - val_loss: 0.6701 - val_accuracy: 0.7243\n",
            "Epoch 63/100\n",
            "101/101 [==============================] - 10s 96ms/step - loss: 0.5397 - accuracy: 0.7642 - val_loss: 0.7409 - val_accuracy: 0.5772\n",
            "Epoch 64/100\n",
            "101/101 [==============================] - 10s 96ms/step - loss: 0.5455 - accuracy: 0.7642 - val_loss: 0.6328 - val_accuracy: 0.7096\n",
            "Epoch 65/100\n",
            "101/101 [==============================] - 10s 96ms/step - loss: 0.5373 - accuracy: 0.7748 - val_loss: 0.6533 - val_accuracy: 0.6912\n",
            "Epoch 66/100\n",
            "101/101 [==============================] - 10s 96ms/step - loss: 0.5201 - accuracy: 0.7760 - val_loss: 0.7099 - val_accuracy: 0.6066\n",
            "Epoch 67/100\n",
            "101/101 [==============================] - 10s 96ms/step - loss: 0.5293 - accuracy: 0.7809 - val_loss: 0.6265 - val_accuracy: 0.7132\n",
            "Epoch 68/100\n",
            "101/101 [==============================] - 10s 96ms/step - loss: 0.5048 - accuracy: 0.7828 - val_loss: 0.6369 - val_accuracy: 0.7243\n",
            "Epoch 69/100\n",
            "101/101 [==============================] - 10s 96ms/step - loss: 0.5096 - accuracy: 0.7723 - val_loss: 0.6471 - val_accuracy: 0.6765\n",
            "Epoch 70/100\n",
            "101/101 [==============================] - 10s 96ms/step - loss: 0.5211 - accuracy: 0.7735 - val_loss: 0.6190 - val_accuracy: 0.7463\n",
            "Epoch 71/100\n",
            "101/101 [==============================] - 10s 96ms/step - loss: 0.5111 - accuracy: 0.7865 - val_loss: 0.5897 - val_accuracy: 0.7610\n",
            "Epoch 72/100\n",
            "101/101 [==============================] - 10s 96ms/step - loss: 0.5162 - accuracy: 0.7816 - val_loss: 0.6003 - val_accuracy: 0.7169\n",
            "Epoch 73/100\n",
            "101/101 [==============================] - 10s 96ms/step - loss: 0.5153 - accuracy: 0.7877 - val_loss: 0.6295 - val_accuracy: 0.7059\n",
            "Epoch 74/100\n",
            "101/101 [==============================] - 10s 96ms/step - loss: 0.5123 - accuracy: 0.7859 - val_loss: 0.6093 - val_accuracy: 0.7206\n",
            "Epoch 75/100\n",
            "101/101 [==============================] - 10s 97ms/step - loss: 0.4996 - accuracy: 0.7859 - val_loss: 0.6483 - val_accuracy: 0.6838\n",
            "Epoch 76/100\n",
            "101/101 [==============================] - 10s 95ms/step - loss: 0.5029 - accuracy: 0.7921 - val_loss: 0.6196 - val_accuracy: 0.7132\n",
            "Epoch 77/100\n",
            "101/101 [==============================] - 10s 96ms/step - loss: 0.4771 - accuracy: 0.7970 - val_loss: 0.6023 - val_accuracy: 0.7353\n",
            "Epoch 78/100\n",
            "101/101 [==============================] - 10s 96ms/step - loss: 0.4891 - accuracy: 0.7958 - val_loss: 0.7699 - val_accuracy: 0.6213\n",
            "Epoch 79/100\n",
            "101/101 [==============================] - 10s 96ms/step - loss: 0.4925 - accuracy: 0.7859 - val_loss: 0.5893 - val_accuracy: 0.7500\n",
            "Epoch 80/100\n",
            "101/101 [==============================] - 10s 97ms/step - loss: 0.4867 - accuracy: 0.8014 - val_loss: 0.6493 - val_accuracy: 0.6949\n",
            "Epoch 81/100\n",
            "101/101 [==============================] - 10s 96ms/step - loss: 0.4883 - accuracy: 0.7989 - val_loss: 0.6328 - val_accuracy: 0.7316\n",
            "Epoch 82/100\n",
            "101/101 [==============================] - 10s 96ms/step - loss: 0.4687 - accuracy: 0.8007 - val_loss: 0.6701 - val_accuracy: 0.7279\n",
            "Epoch 83/100\n",
            "101/101 [==============================] - 10s 97ms/step - loss: 0.4701 - accuracy: 0.8007 - val_loss: 0.6400 - val_accuracy: 0.7684\n",
            "Epoch 84/100\n",
            "101/101 [==============================] - 10s 96ms/step - loss: 0.4773 - accuracy: 0.7952 - val_loss: 0.6267 - val_accuracy: 0.7096\n",
            "Epoch 85/100\n",
            "101/101 [==============================] - 10s 96ms/step - loss: 0.4884 - accuracy: 0.8026 - val_loss: 0.6704 - val_accuracy: 0.6728\n",
            "Epoch 86/100\n",
            "101/101 [==============================] - 10s 96ms/step - loss: 0.4748 - accuracy: 0.7983 - val_loss: 0.5771 - val_accuracy: 0.7537\n",
            "Epoch 87/100\n",
            "101/101 [==============================] - 10s 96ms/step - loss: 0.4864 - accuracy: 0.8007 - val_loss: 0.5974 - val_accuracy: 0.7463\n",
            "Epoch 88/100\n",
            "101/101 [==============================] - 10s 96ms/step - loss: 0.4417 - accuracy: 0.8162 - val_loss: 0.6318 - val_accuracy: 0.7132\n",
            "Epoch 89/100\n",
            "101/101 [==============================] - 10s 96ms/step - loss: 0.4662 - accuracy: 0.8038 - val_loss: 0.6130 - val_accuracy: 0.7426\n",
            "Epoch 90/100\n",
            "101/101 [==============================] - 10s 97ms/step - loss: 0.4652 - accuracy: 0.8014 - val_loss: 0.6602 - val_accuracy: 0.6691\n",
            "Epoch 91/100\n",
            "101/101 [==============================] - 10s 96ms/step - loss: 0.4793 - accuracy: 0.7983 - val_loss: 0.6490 - val_accuracy: 0.7353\n",
            "Epoch 92/100\n",
            "101/101 [==============================] - 10s 96ms/step - loss: 0.4735 - accuracy: 0.8094 - val_loss: 0.6719 - val_accuracy: 0.6397\n",
            "Epoch 93/100\n",
            "101/101 [==============================] - 10s 96ms/step - loss: 0.4630 - accuracy: 0.8113 - val_loss: 0.6365 - val_accuracy: 0.7059\n",
            "Epoch 94/100\n",
            "101/101 [==============================] - 10s 96ms/step - loss: 0.4368 - accuracy: 0.8137 - val_loss: 0.5930 - val_accuracy: 0.7941\n",
            "Epoch 95/100\n",
            "101/101 [==============================] - 10s 96ms/step - loss: 0.4512 - accuracy: 0.8082 - val_loss: 0.6758 - val_accuracy: 0.6728\n",
            "Epoch 96/100\n",
            "101/101 [==============================] - 10s 96ms/step - loss: 0.4557 - accuracy: 0.8069 - val_loss: 0.6112 - val_accuracy: 0.7500\n",
            "Epoch 97/100\n",
            "101/101 [==============================] - 10s 96ms/step - loss: 0.4552 - accuracy: 0.7983 - val_loss: 0.6133 - val_accuracy: 0.7316\n",
            "Epoch 98/100\n",
            "101/101 [==============================] - 10s 96ms/step - loss: 0.4447 - accuracy: 0.8144 - val_loss: 0.6235 - val_accuracy: 0.7096\n",
            "Epoch 99/100\n",
            "101/101 [==============================] - 10s 96ms/step - loss: 0.4439 - accuracy: 0.8119 - val_loss: 0.6529 - val_accuracy: 0.7022\n",
            "Epoch 100/100\n",
            "101/101 [==============================] - 10s 96ms/step - loss: 0.4354 - accuracy: 0.8236 - val_loss: 0.6514 - val_accuracy: 0.7243\n"
          ]
        }
      ],
      "source": [
        "# Create an Instance of Early Stopping Callback\n",
        "early_stopping_callback = keras.callbacks.EarlyStopping(monitor = 'val_loss',\n",
        "                                                        patience = 20,\n",
        "                                                        mode = 'min',\n",
        "                                                        restore_best_weights = True)\n",
        "# Compile the model and specify loss function, optimizer and metrics values to the model\n",
        "model.compile(loss = 'categorical_crossentropy',\n",
        "              optimizer= keras.optimizers.Adam(0.001, decay=1e-4),\n",
        "              metrics=['accuracy'])\n",
        "# Start training the model.\n",
        "cnn_3d_model_training_history = model.fit(x = features_train,\n",
        "                                          y = labels_train,\n",
        "                                          epochs=100,\n",
        "                                          batch_size=16,\n",
        "                                          shuffle = True,\n",
        "                                          validation_data = (features_valid, labels_valid)),\n",
        "                                          # callbacks = [early_stopping_callback])"
      ]
    },
    {
      "cell_type": "code",
      "execution_count": 13,
      "metadata": {
        "colab": {
          "base_uri": "https://localhost:8080/"
        },
        "id": "3vimsgjjbXvL",
        "outputId": "571f123e-084b-439d-f301-152e111cec79"
      },
      "outputs": [
        {
          "output_type": "stream",
          "name": "stdout",
          "text": [
            "9/9 [==============================] - 1s 71ms/step - loss: 1.0404 - accuracy: 0.6801\n",
            "\n",
            "\n",
            "Train accuracy: 88.181 % || Test accuracy: 68.015 % || Val accuracy: 72.426 %\n",
            "Train loss: 0.333 || Test loss: 1.040 || Val loss: 0.651\n"
          ]
        }
      ],
      "source": [
        "model_evaluation_history = model.evaluate(features_test, labels_test)\n",
        "print('\\n')\n",
        "train_loss, train_acc = model.evaluate(features_train, labels_train, verbose=0)\n",
        "test_loss, test_acc = model.evaluate(features_test, labels_test, verbose=0)\n",
        "val_loss, val_acc = model.evaluate(features_valid, labels_valid, verbose=0)\n",
        "print(f'Train accuracy: {train_acc*100:.3f} % || Test accuracy: {test_acc*100:.3f} % || Val accuracy: {val_acc*100:.3f} %')\n",
        "print(f'Train loss: {train_loss:.3f} || Test loss: {test_loss:.3f} || Val loss: {val_loss:.3f}')"
      ]
    },
    {
      "cell_type": "code",
      "execution_count": 14,
      "metadata": {
        "id": "ivmaK9BlbnRQ"
      },
      "outputs": [],
      "source": [
        "# Get the loss and accuracy from model_evaluation_history.\n",
        "model_evaluation_loss, model_evaluation_accuracy = model_evaluation_history\n",
        " \n",
        "# Define the string date format.\n",
        "# Get the current Date and Time in a DateTime Object.\n",
        "# Convert the DateTime object to string according to the style mentioned in date_time_format string.\n",
        "date_time_format = '%Y_%m_%d__%H_%M_%S'\n",
        "current_date_time_dt = dt.datetime.now()\n",
        "current_date_time_string = dt.datetime.strftime(current_date_time_dt, date_time_format)\n",
        " \n",
        "# Define a useful name for our model to make it easy for us while navigating through multiple saved models.\n",
        "model_file_name = f'3D_CNN_model___Date_Time_{current_date_time_string}___Loss_{model_evaluation_loss}___Accuracy_{model_evaluation_accuracy}.h5'\n",
        "# Change dir\n",
        "gdrive_path = '/content/gdrive' + '/My Drive/247/Saved_models/'\n",
        "os.chdir(gdrive_path)\n",
        "# Create a floder for the model files\n",
        "!mkdir -p cnn_3d_{current_date_time_string}\n",
        "# Save your Model.\n",
        "model.save('3D_CNN_' + str(current_date_time_string) + '/' + model_file_name)\n",
        "# Save model weights\n",
        "model.save_weights('3D_CNN_' + str(current_date_time_string) + '/' + 'weights')"
      ]
    },
    {
      "cell_type": "code",
      "execution_count": 15,
      "metadata": {
        "id": "OwU8TwPrbsKB"
      },
      "outputs": [],
      "source": [
        "def plot_metric(model_training_history, metric_name_1, metric_name_2, plot_name):\n",
        "    '''\n",
        "    This function will plot the metrics passed to it in a graph.\n",
        "    Args:\n",
        "        model_training_history: A history object containing a record of training and validation \n",
        "                                loss values and metrics values at successive epochs\n",
        "        metric_name_1:          The name of the first metric that needs to be plotted in the graph.\n",
        "        metric_name_2:          The name of the second metric that needs to be plotted in the graph.\n",
        "        plot_name:              The title of the graph.\n",
        "    '''\n",
        "    \n",
        "    # Get metric values using metric names as identifiers.\n",
        "    metric_value_1 = model_training_history[0].history[metric_name_1]\n",
        "    metric_value_2 = model_training_history[0].history[metric_name_2]\n",
        "    \n",
        "    # Construct a range object which will be used as x-axis (horizontal plane) of the graph.\n",
        "    epochs = range(len(metric_value_1))\n",
        "\n",
        "    # Plot the Graph.\n",
        "    plt.plot(epochs, metric_value_1, 'blue', label = metric_name_1)\n",
        "    plt.plot(epochs, metric_value_2, 'red', label = metric_name_2)\n",
        "\n",
        "    # Add title to the plot.\n",
        "    plt.title(str(plot_name))\n",
        "\n",
        "    # Add legend to the plot.\n",
        "    plt.legend()"
      ]
    },
    {
      "cell_type": "code",
      "execution_count": 16,
      "metadata": {
        "colab": {
          "base_uri": "https://localhost:8080/",
          "height": 281
        },
        "id": "cvKY05ncbwof",
        "outputId": "001c79f6-7d33-4e31-b618-a0b87e9b312e"
      },
      "outputs": [
        {
          "output_type": "display_data",
          "data": {
            "text/plain": [
              "<Figure size 432x288 with 1 Axes>"
            ],
            "image/png": "[encoded data removed]"
          },
          "metadata": {
            "needs_background": "light"
          }
        }
      ],
      "source": [
        "plot_metric(cnn_3d_model_training_history, 'loss', 'val_loss', 'Total Loss vs Total Validation Loss')"
      ]
    },
    {
      "cell_type": "code",
      "execution_count": 17,
      "metadata": {
        "colab": {
          "base_uri": "https://localhost:8080/",
          "height": 281
        },
        "id": "o1iaaDHBb5i0",
        "outputId": "96766ce8-a393-40f3-e513-f815cf770f5d"
      },
      "outputs": [
        {
          "output_type": "display_data",
          "data": {
            "text/plain": [
              "<Figure size 432x288 with 1 Axes>"
            ],
            "image/png": "[encoded data removed]"
          },
          "metadata": {
            "needs_background": "light"
          }
        }
      ],
      "source": [
        "plot_metric(cnn_3d_model_training_history, 'accuracy', 'val_accuracy', 'Total Accuracy vs Total Validation Accuracy') "
      ]
    }
  ],
  "metadata": {
    "accelerator": "GPU",
    "colab": {
      "collapsed_sections": [],
      "machine_shape": "hm",
      "name": "3D_CNN.ipynb",
      "provenance": [],
      "authorship_tag": "ABX9TyM2uhDkq2IXlYmOc6TwTpHg",
      "include_colab_link": true
    },
    "kernelspec": {
      "display_name": "Python 3",
      "name": "python3"
    },
    "language_info": {
      "name": "python"
    }
  },
  "nbformat": 4,
  "nbformat_minor": 0
}