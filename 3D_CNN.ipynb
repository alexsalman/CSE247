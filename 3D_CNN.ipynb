{
  "cells": [
    {
      "cell_type": "markdown",
      "metadata": {
        "id": "view-in-github",
        "colab_type": "text"
      },
      "source": [
        "<a href=\"https://colab.research.google.com/github/alexsalman/CSE247/blob/main/3D_CNN.ipynb\" target=\"_parent\"><img src=\"https://colab.research.google.com/assets/colab-badge.svg\" alt=\"Open In Colab\"/></a>"
      ]
    },
    {
      "cell_type": "markdown",
      "metadata": {
        "id": "Kk7I8NauauE3"
      },
      "source": [
        "####**3D Convolutional Neural Network**\n",
        "######*I am using 3D Convolutional Neural Network to extract the temporal and spatial information which are merged slowly throughout the whole network.*"
      ]
    },
    {
      "cell_type": "code",
      "execution_count": 1,
      "metadata": {
        "colab": {
          "base_uri": "https://localhost:8080/"
        },
        "id": "M8ibtd5HKtZk",
        "outputId": "ad3eae51-67a3-431f-bdac-1d5a2124f9ce"
      },
      "outputs": [
        {
          "output_type": "stream",
          "name": "stdout",
          "text": [
            "2.8.0\n"
          ]
        }
      ],
      "source": [
        "# required libraries\n",
        "import os\n",
        "import cv2\n",
        "import math\n",
        "import random\n",
        "import numpy as np\n",
        "import datetime as dt\n",
        "from collections import deque\n",
        "import matplotlib.pyplot as plt\n",
        "from google.colab import drive\n",
        "from sklearn.model_selection import train_test_split\n",
        "import tensorflow as tf\n",
        "from tensorflow import keras\n",
        "from keras.models import Sequential\n",
        "from keras.layers import Dense, Flatten, Conv3D, MaxPooling3D, Dropout, BatchNormalization, GlobalAveragePooling3D\n",
        "from keras import regularizers\n",
        "from PIL import Image\n",
        "%matplotlib inline\n",
        "print(tf.version.VERSION)\n",
        "# https://bleedai.com/human-activity-recognition-using-tensorflow-cnn-lstm/"
      ]
    },
    {
      "cell_type": "code",
      "execution_count": 2,
      "metadata": {
        "id": "iffdFOf1CEAN"
      },
      "outputs": [],
      "source": [
        "# set Numpy, Python, and Tensorflow seeds to get consistent results on every execution\n",
        "seed_constant = 27\n",
        "np.random.seed(seed_constant)\n",
        "random.seed(seed_constant)\n",
        "tf.random.set_seed(seed_constant)"
      ]
    },
    {
      "cell_type": "code",
      "execution_count": 3,
      "metadata": {
        "colab": {
          "base_uri": "https://localhost:8080/",
          "height": 53
        },
        "id": "mcLh22LiOHyn",
        "outputId": "89c1f688-8dcf-4ed1-d115-8c9b36688ccb"
      },
      "outputs": [
        {
          "output_type": "stream",
          "name": "stdout",
          "text": [
            "Mounted at /content/gdrive/\n"
          ]
        },
        {
          "output_type": "execute_result",
          "data": {
            "text/plain": [
              "'/content/gdrive/My Drive/247'"
            ],
            "application/vnd.google.colaboratory.intrinsic+json": {
              "type": "string"
            }
          },
          "metadata": {},
          "execution_count": 3
        }
      ],
      "source": [
        "# mount dataset from google drive\n",
        "drive.mount('/content/gdrive/', force_remount=True)\n",
        "gdrive_path = '/content/gdrive' + '/My Drive/247/'\n",
        "os.chdir(gdrive_path)\n",
        "os.getcwd()"
      ]
    },
    {
      "cell_type": "code",
      "execution_count": 4,
      "metadata": {
        "id": "oeDK8SzumZ1Q"
      },
      "outputs": [],
      "source": [
        "# frame dimention\n",
        "IMAGE_HEIGHT, IMAGE_WIDTH = 128, 128\n",
        "# frame number for each video (depth)\n",
        "SEQUENCE_LENGTH = 16\n",
        "# video dir path\n",
        "DATASET_DIR = gdrive_path + 'Cropped_videos'\n",
        "# labels of classes\n",
        "CLASSES_LIST = ['hemostasis', 'inflammatory', 'proliferative', 'maturation']"
      ]
    },
    {
      "cell_type": "code",
      "execution_count": 5,
      "metadata": {
        "id": "HUTeIqzpZc9J"
      },
      "outputs": [],
      "source": [
        "# image cropping\n",
        "def crop_center_square(frame):\n",
        "    y, x = frame.shape[0:2]\n",
        "    min_dim = min(y, x)\n",
        "    start_x = (x // 2) - (min_dim // 2)\n",
        "    start_y = (y // 2) - (min_dim // 2)\n",
        "    return frame[start_y:start_y+min_dim,start_x:start_x+min_dim]"
      ]
    },
    {
      "cell_type": "code",
      "execution_count": 6,
      "metadata": {
        "id": "QRDbHG0TZkYJ"
      },
      "outputs": [],
      "source": [
        "# https://medium.com/analytics-vidhya/video-preprocessor-and-augmentation-for-deep-learning-tasks-12dd3fcce868\n",
        "def load_video(path, resize=(128, 128)):\n",
        "    video_reader = cv2.VideoCapture(path)\n",
        "    frames = []\n",
        "    try:\n",
        "        while True:\n",
        "            ret, frame = video_reader.read()\n",
        "            if not ret:\n",
        "                  break\n",
        "            # frame = crop_center_square(frame)\n",
        "            frame = cv2.resize(frame, resize)\n",
        "            frame = frame[:, :, [2, 1, 0]]\n",
        "            black_frame = frame\n",
        "            frames.append(frame)\n",
        "    finally:\n",
        "        video_reader.release()\n",
        "    return np.array(frames) / 255.0"
      ]
    },
    {
      "cell_type": "code",
      "execution_count": 7,
      "metadata": {
        "id": "ljUWHW6Jqzu-"
      },
      "outputs": [],
      "source": [
        "def create_dataset(state):\n",
        "    # Declared Empty Lists to store the features, labels and video file path values.\n",
        "    features = []\n",
        "    labels = []\n",
        "    video_files_paths = []\n",
        "    # Iterating through all the classes mentioned in the classes list\n",
        "    for class_index, class_name in enumerate(CLASSES_LIST):\n",
        "        # Display the name of the class whose data is being extracted.\n",
        "        print(f'Extracting Data of Class: {class_name} {state}')\n",
        "        # Get the list of video files present in the specific class name directory.\n",
        "        files_list = os.listdir(os.path.join(DATASET_DIR, class_name))\n",
        "        # Iterate through all the files present in the files list.\n",
        "        for file_name in files_list:\n",
        "            # Get the complete video path.\n",
        "            video_file_path = os.path.join(DATASET_DIR, class_name, file_name)\n",
        "            # create testing data\n",
        "            if state == 'test':\n",
        "                # get the mouse number\n",
        "                mouse_number = int(video_file_path.split(' ')[2].split('_')[1].split('-')[1])\n",
        "                # get the mouse side (L or R)\n",
        "                mouse_side = video_file_path.split(' ')[2].split('_')[1].split('-')[2]\n",
        "                if mouse_number == 4 and mouse_side == 'L':\n",
        "                    frames = load_video(video_file_path)\n",
        "                    features.append(frames)\n",
        "                    labels.append(class_index)\n",
        "                    video_files_paths.append(video_file_path)\n",
        "            # create validation data\n",
        "            elif state == 'valid':\n",
        "                # get the mouse number\n",
        "                mouse_number = int(video_file_path.split(' ')[2].split('_')[1].split('-')[1])\n",
        "                # get the mouse side (L or R)\n",
        "                mouse_side = video_file_path.split(' ')[2].split('_')[1].split('-')[2]\n",
        "                if mouse_number == 4 and mouse_side == 'R':\n",
        "                    frames = load_video(video_file_path)\n",
        "                    features.append(frames)\n",
        "                    labels.append(class_index)\n",
        "                    video_files_paths.append(video_file_path)\n",
        "            # create training data\n",
        "            else:\n",
        "                # get the mouse number\n",
        "                mouse_number = int(video_file_path.split(' ')[2].split('_')[1].split('-')[1])\n",
        "                if mouse_number != 4:\n",
        "                    frames = load_video(video_file_path)\n",
        "                    features.append(frames)\n",
        "                    labels.append(class_index)\n",
        "                    video_files_paths.append(video_file_path)\n",
        "    # Converting the list to numpy arrays\n",
        "    features = np.asarray(features)\n",
        "    # print(features)\n",
        "    labels = np.array(labels)\n",
        "    # Return the frames, class index, and video file path.\n",
        "    return features, labels, video_files_paths"
      ]
    },
    {
      "cell_type": "code",
      "execution_count": 8,
      "metadata": {
        "colab": {
          "base_uri": "https://localhost:8080/"
        },
        "id": "a8rpanz9rASe",
        "outputId": "fb6f67a1-ad73-4051-ea33-65c5f5489f2a"
      },
      "outputs": [
        {
          "output_type": "stream",
          "name": "stdout",
          "text": [
            "Extracting Data of Class: hemostasis train\n",
            "Extracting Data of Class: inflammatory train\n",
            "Extracting Data of Class: proliferative train\n",
            "Extracting Data of Class: maturation train\n",
            "Extracting Data of Class: hemostasis test\n",
            "Extracting Data of Class: inflammatory test\n",
            "Extracting Data of Class: proliferative test\n",
            "Extracting Data of Class: maturation test\n",
            "Extracting Data of Class: hemostasis valid\n",
            "Extracting Data of Class: inflammatory valid\n",
            "Extracting Data of Class: proliferative valid\n",
            "Extracting Data of Class: maturation valid\n"
          ]
        }
      ],
      "source": [
        "# 6 mice for training, 2 mice for test and validation (one wound on each mice for test one for validation)\n",
        "features_train, labels_train, video_files_paths_train = create_dataset('train')\n",
        "features_test, labels_test, video_files_paths_test = create_dataset('test')\n",
        "features_valid, labels_valid, video_files_paths_valid = create_dataset('valid')"
      ]
    },
    {
      "cell_type": "code",
      "execution_count": 9,
      "metadata": {
        "id": "dtJkK4qTAulC"
      },
      "outputs": [],
      "source": [
        "# one_hot_encoded_labels\n",
        "labels_train = keras.utils.to_categorical(labels_train)\n",
        "labels_test = keras.utils.to_categorical(labels_test)\n",
        "labels_valid = keras.utils.to_categorical(labels_valid)"
      ]
    },
    {
      "cell_type": "code",
      "execution_count": 10,
      "metadata": {
        "id": "N-9ykP4ig7IW"
      },
      "outputs": [],
      "source": [
        "def create_3D_CNN_model():\n",
        "    sample_shape = (16, 128, 128, 3)\n",
        "    model = Sequential()\n",
        "\n",
        "    model.add(Conv3D(32, 3, activation='relu', kernel_initializer='he_uniform',\n",
        "                     kernel_regularizer=regularizers.L2(l2=1e-4),\n",
        "                     input_shape=sample_shape))\n",
        "    # model.add(BatchNormalization())\n",
        "    model.add(MaxPooling3D(2))\n",
        "    model.add(Dropout(0.6))\n",
        "\n",
        "    model.add(Conv3D(32, 3, activation='relu', kernel_initializer='he_uniform',\n",
        "                     kernel_regularizer=regularizers.L2(l2=1e-4)))\n",
        "    # model.add(BatchNormalization())\n",
        "    model.add(MaxPooling3D(2))\n",
        "    model.add(Dropout(0.6))\n",
        "\n",
        "    model.add(GlobalAveragePooling3D())\n",
        "\n",
        "    model.add(Dense(32, activation='relu', kernel_initializer='he_uniform',\n",
        "                    kernel_regularizer=regularizers.L2(l2=1e-4)))\n",
        "    model.add(Dropout(0.6))\n",
        "\n",
        "    model.add(Dense(16, activation='relu', kernel_initializer='he_uniform',\n",
        "                    kernel_regularizer=regularizers.L2(l2=1e-4)))\n",
        "    model.add(Dropout(0.7))\n",
        "    model.add(Dense(8, activation='relu', kernel_initializer='he_uniform'))\n",
        "    # model.add(Dropout(0.3))\n",
        "    # model.add(Dense(8, activation='relu', kernel_initializer='he_uniform'))\n",
        "    # model.add(Dropout(0.3))\n",
        "    model.add(Dense(len(CLASSES_LIST), activation='softmax'))\n",
        "\n",
        "    # Display the models summary.\n",
        "    model.summary(line_length = 125)\n",
        "    # Return the constructed 3D_CNN model.\n",
        "    return model"
      ]
    },
    {
      "cell_type": "code",
      "execution_count": 11,
      "metadata": {
        "colab": {
          "base_uri": "https://localhost:8080/"
        },
        "id": "Z4_GxXZBcHlB",
        "outputId": "32462843-fe16-4efe-d533-2e1f33d687da"
      },
      "outputs": [
        {
          "output_type": "stream",
          "name": "stdout",
          "text": [
            "Model: \"sequential\"\n",
            "_____________________________________________________________________________________________________________________________\n",
            " Layer (type)                                           Output Shape                                      Param #            \n",
            "=============================================================================================================================\n",
            " conv3d (Conv3D)                                        (None, 14, 126, 126, 32)                          2624               \n",
            "                                                                                                                             \n",
            " max_pooling3d (MaxPooling3D)                           (None, 7, 63, 63, 32)                             0                  \n",
            "                                                                                                                             \n",
            " dropout (Dropout)                                      (None, 7, 63, 63, 32)                             0                  \n",
            "                                                                                                                             \n",
            " conv3d_1 (Conv3D)                                      (None, 5, 61, 61, 32)                             27680              \n",
            "                                                                                                                             \n",
            " max_pooling3d_1 (MaxPooling3D)                         (None, 2, 30, 30, 32)                             0                  \n",
            "                                                                                                                             \n",
            " dropout_1 (Dropout)                                    (None, 2, 30, 30, 32)                             0                  \n",
            "                                                                                                                             \n",
            " global_average_pooling3d (GlobalAveragePooling3D)      (None, 32)                                        0                  \n",
            "                                                                                                                             \n",
            " dense (Dense)                                          (None, 32)                                        1056               \n",
            "                                                                                                                             \n",
            " dropout_2 (Dropout)                                    (None, 32)                                        0                  \n",
            "                                                                                                                             \n",
            " dense_1 (Dense)                                        (None, 16)                                        528                \n",
            "                                                                                                                             \n",
            " dropout_3 (Dropout)                                    (None, 16)                                        0                  \n",
            "                                                                                                                             \n",
            " dense_2 (Dense)                                        (None, 8)                                         136                \n",
            "                                                                                                                             \n",
            " dense_3 (Dense)                                        (None, 4)                                         36                 \n",
            "                                                                                                                             \n",
            "=============================================================================================================================\n",
            "Total params: 32,060\n",
            "Trainable params: 32,060\n",
            "Non-trainable params: 0\n",
            "_____________________________________________________________________________________________________________________________\n",
            "Model Created Successfully!\n"
          ]
        }
      ],
      "source": [
        "# Construct the required convlstm model.\n",
        "model = create_3D_CNN_model()\n",
        " \n",
        "# Display the success message. \n",
        "print(\"Model Created Successfully!\")"
      ]
    },
    {
      "cell_type": "code",
      "execution_count": 12,
      "metadata": {
        "colab": {
          "base_uri": "https://localhost:8080/"
        },
        "id": "MwYEkaYLoyb_",
        "outputId": "409d7871-8fb3-4392-b7b0-a8e6f9c7ce18"
      },
      "outputs": [
        {
          "output_type": "stream",
          "name": "stdout",
          "text": [
            "Epoch 1/100\n",
            "101/101 [==============================] - 12s 103ms/step - loss: 1.4128 - accuracy: 0.4016 - val_loss: 1.2828 - val_accuracy: 0.4044\n",
            "Epoch 2/100\n",
            "101/101 [==============================] - 10s 95ms/step - loss: 1.2233 - accuracy: 0.4066 - val_loss: 1.1633 - val_accuracy: 0.3787\n",
            "Epoch 3/100\n",
            "101/101 [==============================] - 10s 95ms/step - loss: 1.1738 - accuracy: 0.3762 - val_loss: 1.1115 - val_accuracy: 0.3566\n",
            "Epoch 4/100\n",
            "101/101 [==============================] - 10s 95ms/step - loss: 1.1441 - accuracy: 0.3917 - val_loss: 1.0631 - val_accuracy: 0.3640\n",
            "Epoch 5/100\n",
            "101/101 [==============================] - 10s 95ms/step - loss: 1.1040 - accuracy: 0.4325 - val_loss: 1.0402 - val_accuracy: 0.4926\n",
            "Epoch 6/100\n",
            "101/101 [==============================] - 10s 95ms/step - loss: 1.0873 - accuracy: 0.4431 - val_loss: 1.0545 - val_accuracy: 0.4853\n",
            "Epoch 7/100\n",
            "101/101 [==============================] - 10s 95ms/step - loss: 1.0581 - accuracy: 0.4592 - val_loss: 0.9568 - val_accuracy: 0.5662\n",
            "Epoch 8/100\n",
            "101/101 [==============================] - 10s 94ms/step - loss: 1.0181 - accuracy: 0.4734 - val_loss: 0.9222 - val_accuracy: 0.5956\n",
            "Epoch 9/100\n",
            "101/101 [==============================] - 10s 94ms/step - loss: 0.9755 - accuracy: 0.4920 - val_loss: 0.8833 - val_accuracy: 0.5993\n",
            "Epoch 10/100\n",
            "101/101 [==============================] - 10s 95ms/step - loss: 0.9719 - accuracy: 0.5056 - val_loss: 0.8708 - val_accuracy: 0.6103\n",
            "Epoch 11/100\n",
            "101/101 [==============================] - 10s 94ms/step - loss: 0.9543 - accuracy: 0.5062 - val_loss: 0.8568 - val_accuracy: 0.6103\n",
            "Epoch 12/100\n",
            "101/101 [==============================] - 10s 94ms/step - loss: 0.9367 - accuracy: 0.5099 - val_loss: 0.8548 - val_accuracy: 0.5331\n",
            "Epoch 13/100\n",
            "101/101 [==============================] - 9s 94ms/step - loss: 0.9440 - accuracy: 0.5142 - val_loss: 0.8443 - val_accuracy: 0.6103\n",
            "Epoch 14/100\n",
            "101/101 [==============================] - 10s 94ms/step - loss: 0.9182 - accuracy: 0.5334 - val_loss: 0.8408 - val_accuracy: 0.5882\n",
            "Epoch 15/100\n",
            "101/101 [==============================] - 9s 94ms/step - loss: 0.9157 - accuracy: 0.5235 - val_loss: 0.8251 - val_accuracy: 0.5882\n",
            "Epoch 16/100\n",
            "101/101 [==============================] - 10s 94ms/step - loss: 0.9152 - accuracy: 0.5489 - val_loss: 0.8315 - val_accuracy: 0.6176\n",
            "Epoch 17/100\n",
            "101/101 [==============================] - 10s 95ms/step - loss: 0.8962 - accuracy: 0.5514 - val_loss: 0.8349 - val_accuracy: 0.5956\n",
            "Epoch 18/100\n",
            "101/101 [==============================] - 10s 95ms/step - loss: 0.9069 - accuracy: 0.5563 - val_loss: 0.8222 - val_accuracy: 0.5772\n",
            "Epoch 19/100\n",
            "101/101 [==============================] - 10s 95ms/step - loss: 0.8932 - accuracy: 0.5545 - val_loss: 0.8162 - val_accuracy: 0.5882\n",
            "Epoch 20/100\n",
            "101/101 [==============================] - 10s 95ms/step - loss: 0.8944 - accuracy: 0.5507 - val_loss: 0.8181 - val_accuracy: 0.5551\n",
            "Epoch 21/100\n",
            "101/101 [==============================] - 10s 94ms/step - loss: 0.8823 - accuracy: 0.5514 - val_loss: 0.8104 - val_accuracy: 0.5956\n",
            "Epoch 22/100\n",
            "101/101 [==============================] - 10s 95ms/step - loss: 0.8627 - accuracy: 0.5681 - val_loss: 0.7963 - val_accuracy: 0.5882\n",
            "Epoch 23/100\n",
            "101/101 [==============================] - 10s 94ms/step - loss: 0.8765 - accuracy: 0.5829 - val_loss: 0.8060 - val_accuracy: 0.5331\n",
            "Epoch 24/100\n",
            "101/101 [==============================] - 10s 94ms/step - loss: 0.8741 - accuracy: 0.5687 - val_loss: 0.8102 - val_accuracy: 0.5993\n",
            "Epoch 25/100\n",
            "101/101 [==============================] - 10s 95ms/step - loss: 0.8887 - accuracy: 0.5483 - val_loss: 0.8065 - val_accuracy: 0.5551\n",
            "Epoch 26/100\n",
            "101/101 [==============================] - 9s 94ms/step - loss: 0.8703 - accuracy: 0.5582 - val_loss: 0.8035 - val_accuracy: 0.6029\n",
            "Epoch 27/100\n",
            "101/101 [==============================] - 9s 94ms/step - loss: 0.8472 - accuracy: 0.5594 - val_loss: 0.8093 - val_accuracy: 0.5331\n",
            "Epoch 28/100\n",
            "101/101 [==============================] - 10s 95ms/step - loss: 0.8638 - accuracy: 0.5767 - val_loss: 0.8017 - val_accuracy: 0.5919\n",
            "Epoch 29/100\n",
            "101/101 [==============================] - 10s 94ms/step - loss: 0.8709 - accuracy: 0.5873 - val_loss: 0.8031 - val_accuracy: 0.5772\n",
            "Epoch 30/100\n",
            "101/101 [==============================] - 10s 95ms/step - loss: 0.8489 - accuracy: 0.5724 - val_loss: 0.7743 - val_accuracy: 0.6140\n",
            "Epoch 31/100\n",
            "101/101 [==============================] - 9s 94ms/step - loss: 0.8653 - accuracy: 0.5631 - val_loss: 0.7956 - val_accuracy: 0.6029\n",
            "Epoch 32/100\n",
            "101/101 [==============================] - 10s 95ms/step - loss: 0.8346 - accuracy: 0.5811 - val_loss: 0.7798 - val_accuracy: 0.6103\n",
            "Epoch 33/100\n",
            "101/101 [==============================] - 10s 94ms/step - loss: 0.8297 - accuracy: 0.5978 - val_loss: 0.7742 - val_accuracy: 0.6103\n",
            "Epoch 34/100\n",
            "101/101 [==============================] - 10s 94ms/step - loss: 0.8334 - accuracy: 0.5928 - val_loss: 0.7650 - val_accuracy: 0.5956\n",
            "Epoch 35/100\n",
            "101/101 [==============================] - 9s 94ms/step - loss: 0.8294 - accuracy: 0.5903 - val_loss: 0.7914 - val_accuracy: 0.6029\n",
            "Epoch 36/100\n",
            "101/101 [==============================] - 10s 95ms/step - loss: 0.8174 - accuracy: 0.6046 - val_loss: 0.7813 - val_accuracy: 0.5735\n",
            "Epoch 37/100\n",
            "101/101 [==============================] - 10s 94ms/step - loss: 0.8368 - accuracy: 0.5897 - val_loss: 0.7681 - val_accuracy: 0.6213\n",
            "Epoch 38/100\n",
            "101/101 [==============================] - 10s 95ms/step - loss: 0.8447 - accuracy: 0.5891 - val_loss: 0.7737 - val_accuracy: 0.6066\n",
            "Epoch 39/100\n",
            "101/101 [==============================] - 10s 94ms/step - loss: 0.8281 - accuracy: 0.5922 - val_loss: 0.7892 - val_accuracy: 0.5956\n",
            "Epoch 40/100\n",
            "101/101 [==============================] - 9s 94ms/step - loss: 0.8194 - accuracy: 0.5996 - val_loss: 0.7820 - val_accuracy: 0.5662\n",
            "Epoch 41/100\n",
            "101/101 [==============================] - 10s 95ms/step - loss: 0.8406 - accuracy: 0.5891 - val_loss: 0.7796 - val_accuracy: 0.5404\n",
            "Epoch 42/100\n",
            "101/101 [==============================] - 10s 95ms/step - loss: 0.8228 - accuracy: 0.6188 - val_loss: 0.7711 - val_accuracy: 0.6103\n",
            "Epoch 43/100\n",
            "101/101 [==============================] - 10s 94ms/step - loss: 0.7883 - accuracy: 0.6139 - val_loss: 0.7702 - val_accuracy: 0.5809\n",
            "Epoch 44/100\n",
            "101/101 [==============================] - 10s 95ms/step - loss: 0.8083 - accuracy: 0.5922 - val_loss: 0.7765 - val_accuracy: 0.5404\n",
            "Epoch 45/100\n",
            "101/101 [==============================] - 10s 94ms/step - loss: 0.7801 - accuracy: 0.6337 - val_loss: 0.7714 - val_accuracy: 0.6103\n",
            "Epoch 46/100\n",
            "101/101 [==============================] - 10s 95ms/step - loss: 0.7871 - accuracy: 0.6182 - val_loss: 0.7668 - val_accuracy: 0.6176\n",
            "Epoch 47/100\n",
            "101/101 [==============================] - 10s 94ms/step - loss: 0.7968 - accuracy: 0.6064 - val_loss: 0.7724 - val_accuracy: 0.6176\n",
            "Epoch 48/100\n",
            "101/101 [==============================] - 10s 94ms/step - loss: 0.7852 - accuracy: 0.6188 - val_loss: 0.7813 - val_accuracy: 0.5662\n",
            "Epoch 49/100\n",
            "101/101 [==============================] - 10s 95ms/step - loss: 0.7745 - accuracy: 0.6231 - val_loss: 0.7582 - val_accuracy: 0.5919\n",
            "Epoch 50/100\n",
            "101/101 [==============================] - 10s 94ms/step - loss: 0.7905 - accuracy: 0.6337 - val_loss: 0.7748 - val_accuracy: 0.5882\n",
            "Epoch 51/100\n",
            "101/101 [==============================] - 10s 96ms/step - loss: 0.7698 - accuracy: 0.6188 - val_loss: 0.7579 - val_accuracy: 0.6066\n",
            "Epoch 52/100\n",
            "101/101 [==============================] - 10s 95ms/step - loss: 0.7705 - accuracy: 0.6207 - val_loss: 0.7502 - val_accuracy: 0.6287\n",
            "Epoch 53/100\n",
            "101/101 [==============================] - 10s 95ms/step - loss: 0.7682 - accuracy: 0.6287 - val_loss: 0.7400 - val_accuracy: 0.6287\n",
            "Epoch 54/100\n",
            "101/101 [==============================] - 10s 94ms/step - loss: 0.7808 - accuracy: 0.6281 - val_loss: 0.7710 - val_accuracy: 0.5956\n",
            "Epoch 55/100\n",
            "101/101 [==============================] - 10s 94ms/step - loss: 0.7471 - accuracy: 0.6436 - val_loss: 0.7381 - val_accuracy: 0.6140\n",
            "Epoch 56/100\n",
            "101/101 [==============================] - 10s 95ms/step - loss: 0.7609 - accuracy: 0.6281 - val_loss: 0.7337 - val_accuracy: 0.6140\n",
            "Epoch 57/100\n",
            "101/101 [==============================] - 10s 95ms/step - loss: 0.7402 - accuracy: 0.6646 - val_loss: 0.7726 - val_accuracy: 0.5625\n",
            "Epoch 58/100\n",
            "101/101 [==============================] - 10s 94ms/step - loss: 0.7572 - accuracy: 0.6603 - val_loss: 0.7231 - val_accuracy: 0.6471\n",
            "Epoch 59/100\n",
            "101/101 [==============================] - 10s 94ms/step - loss: 0.7583 - accuracy: 0.6473 - val_loss: 0.7360 - val_accuracy: 0.6728\n",
            "Epoch 60/100\n",
            "101/101 [==============================] - 10s 95ms/step - loss: 0.7481 - accuracy: 0.6485 - val_loss: 0.7647 - val_accuracy: 0.5919\n",
            "Epoch 61/100\n",
            "101/101 [==============================] - 10s 95ms/step - loss: 0.7469 - accuracy: 0.6355 - val_loss: 0.7125 - val_accuracy: 0.6581\n",
            "Epoch 62/100\n",
            "101/101 [==============================] - 10s 95ms/step - loss: 0.7421 - accuracy: 0.6609 - val_loss: 0.7233 - val_accuracy: 0.6140\n",
            "Epoch 63/100\n",
            "101/101 [==============================] - 10s 94ms/step - loss: 0.7380 - accuracy: 0.6454 - val_loss: 0.7645 - val_accuracy: 0.5846\n",
            "Epoch 64/100\n",
            "101/101 [==============================] - 10s 94ms/step - loss: 0.7344 - accuracy: 0.6578 - val_loss: 0.7558 - val_accuracy: 0.5993\n",
            "Epoch 65/100\n",
            "101/101 [==============================] - 10s 95ms/step - loss: 0.7101 - accuracy: 0.6603 - val_loss: 0.6926 - val_accuracy: 0.6544\n",
            "Epoch 66/100\n",
            "101/101 [==============================] - 10s 95ms/step - loss: 0.7257 - accuracy: 0.6615 - val_loss: 0.7321 - val_accuracy: 0.6103\n",
            "Epoch 67/100\n",
            "101/101 [==============================] - 10s 94ms/step - loss: 0.7182 - accuracy: 0.6547 - val_loss: 0.7591 - val_accuracy: 0.5809\n",
            "Epoch 68/100\n",
            "101/101 [==============================] - 10s 95ms/step - loss: 0.7178 - accuracy: 0.6646 - val_loss: 0.6919 - val_accuracy: 0.6691\n",
            "Epoch 69/100\n",
            "101/101 [==============================] - 10s 95ms/step - loss: 0.7173 - accuracy: 0.6726 - val_loss: 0.6986 - val_accuracy: 0.6581\n",
            "Epoch 70/100\n",
            "101/101 [==============================] - 9s 94ms/step - loss: 0.7127 - accuracy: 0.6782 - val_loss: 0.7411 - val_accuracy: 0.6103\n",
            "Epoch 71/100\n",
            "101/101 [==============================] - 10s 95ms/step - loss: 0.7228 - accuracy: 0.6541 - val_loss: 0.6934 - val_accuracy: 0.6507\n",
            "Epoch 72/100\n",
            "101/101 [==============================] - 10s 94ms/step - loss: 0.7143 - accuracy: 0.6522 - val_loss: 0.6842 - val_accuracy: 0.6949\n",
            "Epoch 73/100\n",
            "101/101 [==============================] - 10s 95ms/step - loss: 0.7078 - accuracy: 0.6584 - val_loss: 0.7891 - val_accuracy: 0.5515\n",
            "Epoch 74/100\n",
            "101/101 [==============================] - 10s 95ms/step - loss: 0.7349 - accuracy: 0.6553 - val_loss: 0.7560 - val_accuracy: 0.5331\n",
            "Epoch 75/100\n",
            "101/101 [==============================] - 10s 94ms/step - loss: 0.7087 - accuracy: 0.6547 - val_loss: 0.7561 - val_accuracy: 0.5404\n",
            "Epoch 76/100\n",
            "101/101 [==============================] - 10s 95ms/step - loss: 0.6902 - accuracy: 0.6788 - val_loss: 0.6861 - val_accuracy: 0.6838\n",
            "Epoch 77/100\n",
            "101/101 [==============================] - 10s 95ms/step - loss: 0.6906 - accuracy: 0.6677 - val_loss: 0.6802 - val_accuracy: 0.6765\n",
            "Epoch 78/100\n",
            "101/101 [==============================] - 10s 95ms/step - loss: 0.6975 - accuracy: 0.6603 - val_loss: 0.6713 - val_accuracy: 0.6838\n",
            "Epoch 79/100\n",
            "101/101 [==============================] - 10s 95ms/step - loss: 0.6788 - accuracy: 0.6689 - val_loss: 0.6530 - val_accuracy: 0.6985\n",
            "Epoch 80/100\n",
            "101/101 [==============================] - 10s 94ms/step - loss: 0.6764 - accuracy: 0.6702 - val_loss: 0.6673 - val_accuracy: 0.7022\n",
            "Epoch 81/100\n",
            "101/101 [==============================] - 10s 95ms/step - loss: 0.6737 - accuracy: 0.6782 - val_loss: 0.6900 - val_accuracy: 0.6838\n",
            "Epoch 82/100\n",
            "101/101 [==============================] - 10s 94ms/step - loss: 0.6635 - accuracy: 0.6912 - val_loss: 0.6970 - val_accuracy: 0.6801\n",
            "Epoch 83/100\n",
            "101/101 [==============================] - 10s 95ms/step - loss: 0.6852 - accuracy: 0.6720 - val_loss: 0.7152 - val_accuracy: 0.6360\n",
            "Epoch 84/100\n",
            "101/101 [==============================] - 9s 94ms/step - loss: 0.6640 - accuracy: 0.6838 - val_loss: 0.7090 - val_accuracy: 0.6544\n",
            "Epoch 85/100\n",
            "101/101 [==============================] - 10s 95ms/step - loss: 0.6800 - accuracy: 0.6683 - val_loss: 0.7034 - val_accuracy: 0.6434\n",
            "Epoch 86/100\n",
            "101/101 [==============================] - 10s 95ms/step - loss: 0.6590 - accuracy: 0.6832 - val_loss: 0.6548 - val_accuracy: 0.6801\n",
            "Epoch 87/100\n",
            "101/101 [==============================] - 10s 95ms/step - loss: 0.6741 - accuracy: 0.6770 - val_loss: 0.6550 - val_accuracy: 0.6765\n",
            "Epoch 88/100\n",
            "101/101 [==============================] - 10s 95ms/step - loss: 0.6746 - accuracy: 0.6708 - val_loss: 0.6708 - val_accuracy: 0.6654\n",
            "Epoch 89/100\n",
            "101/101 [==============================] - 10s 95ms/step - loss: 0.6564 - accuracy: 0.6863 - val_loss: 0.6557 - val_accuracy: 0.6838\n",
            "Epoch 90/100\n",
            "101/101 [==============================] - 10s 95ms/step - loss: 0.6583 - accuracy: 0.6832 - val_loss: 0.6704 - val_accuracy: 0.7243\n",
            "Epoch 91/100\n",
            "101/101 [==============================] - 10s 95ms/step - loss: 0.6726 - accuracy: 0.6702 - val_loss: 0.6598 - val_accuracy: 0.6912\n",
            "Epoch 92/100\n",
            "101/101 [==============================] - 10s 95ms/step - loss: 0.6235 - accuracy: 0.7042 - val_loss: 0.6625 - val_accuracy: 0.6765\n",
            "Epoch 93/100\n",
            "101/101 [==============================] - 10s 95ms/step - loss: 0.6499 - accuracy: 0.6856 - val_loss: 0.6870 - val_accuracy: 0.6691\n",
            "Epoch 94/100\n",
            "101/101 [==============================] - 10s 94ms/step - loss: 0.6548 - accuracy: 0.6844 - val_loss: 0.6664 - val_accuracy: 0.7022\n",
            "Epoch 95/100\n",
            "101/101 [==============================] - 10s 95ms/step - loss: 0.6228 - accuracy: 0.7110 - val_loss: 0.6500 - val_accuracy: 0.6765\n",
            "Epoch 96/100\n",
            "101/101 [==============================] - 10s 95ms/step - loss: 0.6430 - accuracy: 0.6838 - val_loss: 0.6299 - val_accuracy: 0.7206\n",
            "Epoch 97/100\n",
            "101/101 [==============================] - 10s 94ms/step - loss: 0.6420 - accuracy: 0.6770 - val_loss: 0.6412 - val_accuracy: 0.6912\n",
            "Epoch 98/100\n",
            "101/101 [==============================] - 10s 95ms/step - loss: 0.6279 - accuracy: 0.6955 - val_loss: 0.6339 - val_accuracy: 0.7022\n",
            "Epoch 99/100\n",
            "101/101 [==============================] - 10s 95ms/step - loss: 0.6179 - accuracy: 0.6986 - val_loss: 0.6734 - val_accuracy: 0.6949\n",
            "Epoch 100/100\n",
            "101/101 [==============================] - 9s 94ms/step - loss: 0.6163 - accuracy: 0.6937 - val_loss: 0.6579 - val_accuracy: 0.6949\n"
          ]
        }
      ],
      "source": [
        "# Create an Instance of Early Stopping Callback\n",
        "early_stopping_callback = keras.callbacks.EarlyStopping(monitor = 'val_loss',\n",
        "                                                        patience = 20,\n",
        "                                                        mode = 'min',\n",
        "                                                        restore_best_weights = True)\n",
        "# Compile the model and specify loss function, optimizer and metrics values to the model\n",
        "model.compile(loss = 'categorical_crossentropy',\n",
        "              optimizer= keras.optimizers.Adam(0.001, decay=1e-4),\n",
        "              metrics=['accuracy'])\n",
        "# Start training the model.\n",
        "cnn_3d_model_training_history = model.fit(x = features_train,\n",
        "                                          y = labels_train,\n",
        "                                          epochs=100,\n",
        "                                          batch_size=16,\n",
        "                                          shuffle = True,\n",
        "                                          validation_data = (features_valid, labels_valid)),\n",
        "                                          # callbacks = [early_stopping_callback])"
      ]
    },
    {
      "cell_type": "code",
      "execution_count": 13,
      "metadata": {
        "colab": {
          "base_uri": "https://localhost:8080/"
        },
        "id": "3vimsgjjbXvL",
        "outputId": "cf9b81aa-4454-457d-810c-c160c3f41e2b"
      },
      "outputs": [
        {
          "output_type": "stream",
          "name": "stdout",
          "text": [
            "9/9 [==============================] - 1s 67ms/step - loss: 0.9482 - accuracy: 0.7353\n",
            "\n",
            "\n",
            "Train accuracy: 82.054 % || Test accuracy: 73.529 % || Val accuracy: 69.485 %\n",
            "Train loss: 0.440 || Test loss: 0.948 || Val loss: 0.658\n"
          ]
        }
      ],
      "source": [
        "model_evaluation_history = model.evaluate(features_test, labels_test)\n",
        "print('\\n')\n",
        "train_loss, train_acc = model.evaluate(features_train, labels_train, verbose=0)\n",
        "test_loss, test_acc = model.evaluate(features_test, labels_test, verbose=0)\n",
        "val_loss, val_acc = model.evaluate(features_valid, labels_valid, verbose=0)\n",
        "print(f'Train accuracy: {train_acc*100:.3f} % || Test accuracy: {test_acc*100:.3f} % || Val accuracy: {val_acc*100:.3f} %')\n",
        "print(f'Train loss: {train_loss:.3f} || Test loss: {test_loss:.3f} || Val loss: {val_loss:.3f}')"
      ]
    },
    {
      "cell_type": "code",
      "execution_count": 14,
      "metadata": {
        "id": "ivmaK9BlbnRQ"
      },
      "outputs": [],
      "source": [
        "# Get the loss and accuracy from model_evaluation_history.\n",
        "model_evaluation_loss, model_evaluation_accuracy = model_evaluation_history[0]\n",
        " \n",
        "# Define the string date format.\n",
        "# Get the current Date and Time in a DateTime Object.\n",
        "# Convert the DateTime object to string according to the style mentioned in date_time_format string.\n",
        "date_time_format = '%Y_%m_%d__%H_%M_%S'\n",
        "current_date_time_dt = dt.datetime.now()\n",
        "current_date_time_string = dt.datetime.strftime(current_date_time_dt, date_time_format)\n",
        " \n",
        "# Define a useful name for our model to make it easy for us while navigating through multiple saved models.\n",
        "model_file_name = f'3D_CNN_model___Date_Time_{current_date_time_string}___Loss_{model_evaluation_loss}___Accuracy_{model_evaluation_accuracy}.h5'\n",
        " \n",
        "# Change dir\n",
        "gdrive_path = '/content/gdrive' + '/My Drive/247/Saved_models/'\n",
        "os.chdir(gdrive_path)\n",
        "# Create a floder for the model files\n",
        "!mkdir -p cnn_3d_{current_date_time_string}\n",
        "# Save your Model.\n",
        "model.save('3D_CNN' + str(current_date_time_string) + '/' + model_file_name)\n",
        "# Save model weights\n",
        "model.save_weights('3D_CNN' + str(current_date_time_string) + '/' + 'weights')"
      ]
    },
    {
      "cell_type": "code",
      "execution_count": 15,
      "metadata": {
        "id": "OwU8TwPrbsKB"
      },
      "outputs": [],
      "source": [
        "def plot_metric(model_training_history, metric_name_1, metric_name_2, plot_name):\n",
        "    '''\n",
        "    This function will plot the metrics passed to it in a graph.\n",
        "    Args:\n",
        "        model_training_history: A history object containing a record of training and validation \n",
        "                                loss values and metrics values at successive epochs\n",
        "        metric_name_1:          The name of the first metric that needs to be plotted in the graph.\n",
        "        metric_name_2:          The name of the second metric that needs to be plotted in the graph.\n",
        "        plot_name:              The title of the graph.\n",
        "    '''\n",
        "    \n",
        "    # Get metric values using metric names as identifiers.\n",
        "    metric_value_1 = model_training_history[0].history[metric_name_1]\n",
        "    metric_value_2 = model_training_history[0].history[metric_name_2]\n",
        "    \n",
        "    # Construct a range object which will be used as x-axis (horizontal plane) of the graph.\n",
        "    epochs = range(len(metric_value_1))\n",
        "\n",
        "    # Plot the Graph.\n",
        "    plt.plot(epochs, metric_value_1, 'blue', label = metric_name_1)\n",
        "    plt.plot(epochs, metric_value_2, 'red', label = metric_name_2)\n",
        "\n",
        "    # Add title to the plot.\n",
        "    plt.title(str(plot_name))\n",
        "\n",
        "    # Add legend to the plot.\n",
        "    plt.legend()"
      ]
    },
    {
      "cell_type": "code",
      "execution_count": 16,
      "metadata": {
        "colab": {
          "base_uri": "https://localhost:8080/",
          "height": 281
        },
        "id": "cvKY05ncbwof",
        "outputId": "6580ad20-54ad-4cc3-8dd2-400137214166"
      },
      "outputs": [
        {
          "output_type": "display_data",
          "data": {
            "text/plain": [
              "<Figure size 432x288 with 1 Axes>"
            ],
            "image/png": "[encoded data removed]"
          },
          "metadata": {
            "needs_background": "light"
          }
        }
      ],
      "source": [
        "plot_metric(cnn_3d_model_training_history, 'loss', 'val_loss', 'Total Loss vs Total Validation Loss')"
      ]
    },
    {
      "cell_type": "code",
      "execution_count": 17,
      "metadata": {
        "colab": {
          "base_uri": "https://localhost:8080/",
          "height": 281
        },
        "id": "o1iaaDHBb5i0",
        "outputId": "5b99a572-84eb-485e-f0e8-90f46d0c48de"
      },
      "outputs": [
        {
          "output_type": "display_data",
          "data": {
            "text/plain": [
              "<Figure size 432x288 with 1 Axes>"
            ],
            "image/png": "[encoded data removed]"
          },
          "metadata": {
            "needs_background": "light"
          }
        }
      ],
      "source": [
        "plot_metric(cnn_3d_model_training_history, 'accuracy', 'val_accuracy', 'Total Accuracy vs Total Validation Accuracy') "
      ]
    }
  ],
  "metadata": {
    "accelerator": "GPU",
    "colab": {
      "collapsed_sections": [],
      "machine_shape": "hm",
      "name": "3D_CNN.ipynb",
      "provenance": [],
      "authorship_tag": "ABX9TyOHVRO1tEwBDUVJqdUKgvWh",
      "include_colab_link": true
    },
    "kernelspec": {
      "display_name": "Python 3",
      "name": "python3"
    },
    "language_info": {
      "name": "python"
    }
  },
  "nbformat": 4,
  "nbformat_minor": 0
}