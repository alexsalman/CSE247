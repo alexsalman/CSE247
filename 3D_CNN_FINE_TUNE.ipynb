{
  "cells": [
    {
      "cell_type": "markdown",
      "metadata": {
        "id": "view-in-github",
        "colab_type": "text"
      },
      "source": [
        "<a href=\"https://colab.research.google.com/github/alexsalman/CSE247/blob/main/3D_CNN_FINE_TUNE.ipynb\" target=\"_parent\"><img src=\"https://colab.research.google.com/assets/colab-badge.svg\" alt=\"Open In Colab\"/></a>"
      ]
    },
    {
      "cell_type": "markdown",
      "metadata": {
        "id": "Fk8TLrPiv-ab"
      },
      "source": [
        "####**3D Convolutional Neural Network**\n",
        "######*I am using 3D Convolutional Neural Network to extract the temporal and spatial information which are merged slowly throughout the whole network.*"
      ]
    },
    {
      "cell_type": "code",
      "execution_count": 1,
      "metadata": {
        "id": "M8ibtd5HKtZk",
        "colab": {
          "base_uri": "https://localhost:8080/"
        },
        "outputId": "9aeefb8e-2bff-4440-ad5e-d54cdb99b26d"
      },
      "outputs": [
        {
          "output_type": "stream",
          "name": "stdout",
          "text": [
            "2.8.0\n"
          ]
        }
      ],
      "source": [
        "# required libraries\n",
        "import os\n",
        "import cv2\n",
        "import math\n",
        "import random\n",
        "import numpy as np\n",
        "import datetime as dt\n",
        "from collections import deque\n",
        "import matplotlib.pyplot as plt\n",
        "from google.colab import drive\n",
        "from sklearn.model_selection import train_test_split\n",
        "import tensorflow as tf\n",
        "from tensorflow import keras\n",
        "from PIL import Image\n",
        "%matplotlib inline\n",
        "print(tf.version.VERSION)"
      ]
    },
    {
      "cell_type": "code",
      "source": [
        "# set Numpy, Python, and Tensorflow seeds to get consistent results on every execution\n",
        "seed_constant = 27\n",
        "np.random.seed(seed_constant)\n",
        "random.seed(seed_constant)\n",
        "tf.random.set_seed(seed_constant)"
      ],
      "metadata": {
        "id": "LQG5OyCvdrEp"
      },
      "execution_count": 2,
      "outputs": []
    },
    {
      "cell_type": "code",
      "source": [
        "# mount dataset from google drive\n",
        "drive.mount('/content/gdrive/', force_remount=True)\n",
        "gdrive_path = '/content/gdrive' + '/My Drive/247/'\n",
        "os.chdir(gdrive_path)\n",
        "os.getcwd()"
      ],
      "metadata": {
        "colab": {
          "base_uri": "https://localhost:8080/",
          "height": 53
        },
        "id": "yJblbgIBdthN",
        "outputId": "6e42fe5d-a22d-41d6-ba50-b0a61b84c416"
      },
      "execution_count": 3,
      "outputs": [
        {
          "output_type": "stream",
          "name": "stdout",
          "text": [
            "Mounted at /content/gdrive/\n"
          ]
        },
        {
          "output_type": "execute_result",
          "data": {
            "text/plain": [
              "'/content/gdrive/My Drive/247'"
            ],
            "application/vnd.google.colaboratory.intrinsic+json": {
              "type": "string"
            }
          },
          "metadata": {},
          "execution_count": 3
        }
      ]
    },
    {
      "cell_type": "code",
      "source": [
        "# frame dimention\n",
        "IMAGE_HEIGHT, IMAGE_WIDTH = 128, 128\n",
        "# frame number for each video (depth)\n",
        "SEQUENCE_LENGTH = 16\n",
        "# video dir path\n",
        "DATASET_DIR = gdrive_path + 'Cropped_videos'\n",
        "# labels of classes\n",
        "CLASSES_LIST = ['hemostasis', 'inflammatory', 'proliferative', 'maturation']"
      ],
      "metadata": {
        "id": "z6J-CWMspHtX"
      },
      "execution_count": 4,
      "outputs": []
    },
    {
      "cell_type": "code",
      "source": [
        "# image cropping\n",
        "def crop_center_square(frame):\n",
        "    y, x = frame.shape[0:2]\n",
        "    min_dim = min(y, x)\n",
        "    start_x = (x // 2) - (min_dim // 2)\n",
        "    start_y = (y // 2) - (min_dim // 2)\n",
        "    return frame[start_y:start_y+min_dim,start_x:start_x+min_dim]"
      ],
      "metadata": {
        "id": "BdVrDyPxpKIU"
      },
      "execution_count": 5,
      "outputs": []
    },
    {
      "cell_type": "code",
      "source": [
        "def load_video(path, resize=(128, 128)):\n",
        "    video_reader = cv2.VideoCapture(path)\n",
        "    frames = []\n",
        "    try:\n",
        "        while True:\n",
        "            ret, frame = video_reader.read()\n",
        "            if not ret:\n",
        "                  break\n",
        "            frame = crop_center_square(frame)\n",
        "            frame = cv2.resize(frame, resize)\n",
        "            frame = frame[:, :, [2, 1, 0]]\n",
        "            black_frame = frame\n",
        "            frames.append(frame)\n",
        "    finally:\n",
        "        video_reader.release()\n",
        "    return np.array(frames) / 255.0"
      ],
      "metadata": {
        "id": "ah7C52S1pOAf"
      },
      "execution_count": 6,
      "outputs": []
    },
    {
      "cell_type": "code",
      "source": [
        "def create_dataset(state):\n",
        "    # Declared Empty Lists to store the features, labels and video file path values.\n",
        "    features = []\n",
        "    labels = []\n",
        "    video_files_paths = []\n",
        "    # Iterating through all the classes mentioned in the classes list\n",
        "    for class_index, class_name in enumerate(CLASSES_LIST):\n",
        "        # Display the name of the class whose data is being extracted.\n",
        "        print(f'Extracting Data of Class: {class_name} {state}')\n",
        "        # Get the list of video files present in the specific class name directory.\n",
        "        files_list = os.listdir(os.path.join(DATASET_DIR, class_name))\n",
        "        # Iterate through all the files present in the files list.\n",
        "        for file_name in files_list:\n",
        "            # Get the complete video path.\n",
        "            video_file_path = os.path.join(DATASET_DIR, class_name, file_name)\n",
        "            # create testing data\n",
        "            if state == 'test':\n",
        "                # get the mouse number\n",
        "                mouse_number = int(video_file_path.split(' ')[2].split('_')[1].split('-')[1])\n",
        "                # get the mouse side (L or R)\n",
        "                mouse_side = video_file_path.split(' ')[2].split('_')[1].split('-')[2]\n",
        "                if mouse_number == 4 and mouse_side == 'L':\n",
        "                    frames = load_video(video_file_path)\n",
        "                    features.append(frames)\n",
        "                    labels.append(class_index)\n",
        "                    video_files_paths.append(video_file_path)\n",
        "            # create validation data\n",
        "            elif state == 'valid':\n",
        "                # get the mouse number\n",
        "                mouse_number = int(video_file_path.split(' ')[2].split('_')[1].split('-')[1])\n",
        "                # get the mouse side (L or R)\n",
        "                mouse_side = video_file_path.split(' ')[2].split('_')[1].split('-')[2]\n",
        "                if mouse_number == 4 and mouse_side == 'R':\n",
        "                    frames = load_video(video_file_path)\n",
        "                    features.append(frames)\n",
        "                    labels.append(class_index)\n",
        "                    video_files_paths.append(video_file_path)\n",
        "            # create training data\n",
        "            else:\n",
        "                # get the mouse number\n",
        "                mouse_number = int(video_file_path.split(' ')[2].split('_')[1].split('-')[1])\n",
        "                if mouse_number != 4:\n",
        "                    frames = load_video(video_file_path)\n",
        "                    features.append(frames)\n",
        "                    labels.append(class_index)\n",
        "                    video_files_paths.append(video_file_path)\n",
        "    # Converting the list to numpy arrays\n",
        "    features = np.asarray(features)\n",
        "    # print(features)\n",
        "    labels = np.array(labels)\n",
        "    # Return the frames, class index, and video file path.\n",
        "    return features, labels, video_files_paths"
      ],
      "metadata": {
        "id": "y7e3nTHcpQ6a"
      },
      "execution_count": 7,
      "outputs": []
    },
    {
      "cell_type": "code",
      "source": [
        "# 6 mice for training, 2 mice for test and validation (one wound on each mice for test one for validation)\n",
        "features_train, labels_train, video_files_paths_train = create_dataset('train')\n",
        "features_test, labels_test, video_files_paths_test = create_dataset('test')\n",
        "features_valid, labels_valid, video_files_paths_valid = create_dataset('valid')"
      ],
      "metadata": {
        "colab": {
          "base_uri": "https://localhost:8080/"
        },
        "id": "2Do0iTsopUN4",
        "outputId": "24fcc7ea-f1f7-40cc-81b1-cfbbc9defa79"
      },
      "execution_count": 8,
      "outputs": [
        {
          "output_type": "stream",
          "name": "stdout",
          "text": [
            "Extracting Data of Class: hemostasis train\n",
            "Extracting Data of Class: inflammatory train\n",
            "Extracting Data of Class: proliferative train\n",
            "Extracting Data of Class: maturation train\n",
            "Extracting Data of Class: hemostasis test\n",
            "Extracting Data of Class: inflammatory test\n",
            "Extracting Data of Class: proliferative test\n",
            "Extracting Data of Class: maturation test\n",
            "Extracting Data of Class: hemostasis valid\n",
            "Extracting Data of Class: inflammatory valid\n",
            "Extracting Data of Class: proliferative valid\n",
            "Extracting Data of Class: maturation valid\n"
          ]
        }
      ]
    },
    {
      "cell_type": "code",
      "source": [
        "# one_hot_encoded_labels\n",
        "labels_train = keras.utils.to_categorical(labels_train)\n",
        "labels_test = keras.utils.to_categorical(labels_test)\n",
        "labels_valid = keras.utils.to_categorical(labels_valid)"
      ],
      "metadata": {
        "id": "eypY9qHnpWye"
      },
      "execution_count": 9,
      "outputs": []
    },
    {
      "cell_type": "code",
      "source": [
        "gdrive_path = '/content/gdrive' + '/My Drive/247/Saved_models'\n",
        "os.chdir(gdrive_path)\n",
        "os.getcwd()"
      ],
      "metadata": {
        "id": "yXe59rJMsrAz",
        "colab": {
          "base_uri": "https://localhost:8080/",
          "height": 35
        },
        "outputId": "ee00c7a5-4c06-4efa-d433-d68521df935c"
      },
      "execution_count": 10,
      "outputs": [
        {
          "output_type": "execute_result",
          "data": {
            "text/plain": [
              "'/content/gdrive/My Drive/247/Saved_models'"
            ],
            "application/vnd.google.colaboratory.intrinsic+json": {
              "type": "string"
            }
          },
          "metadata": {},
          "execution_count": 10
        }
      ]
    },
    {
      "cell_type": "code",
      "source": [
        "trained_Model = tf.keras.models.load_model('convlstm_2022_05_27__04_39_31/3D_CNN_model___Date_Time_2022_05_27__04_39_31___Loss_0.7961310744285583___Accuracy_0.7121770977973938.h5')\n",
        "trained_Model.summary()"
      ],
      "metadata": {
        "id": "P4u8TCKucsvX",
        "colab": {
          "base_uri": "https://localhost:8080/"
        },
        "outputId": "5ad2614f-624d-480d-9da8-44eae3f7a26d"
      },
      "execution_count": 11,
      "outputs": [
        {
          "output_type": "stream",
          "name": "stdout",
          "text": [
            "Model: \"sequential\"\n",
            "_________________________________________________________________\n",
            " Layer (type)                Output Shape              Param #   \n",
            "=================================================================\n",
            " conv3d (Conv3D)             (None, 14, 126, 126, 16)  1312      \n",
            "                                                                 \n",
            " max_pooling3d (MaxPooling3D  (None, 7, 63, 63, 16)    0         \n",
            " )                                                               \n",
            "                                                                 \n",
            " dropout (Dropout)           (None, 7, 63, 63, 16)     0         \n",
            "                                                                 \n",
            " conv3d_1 (Conv3D)           (None, 5, 61, 61, 32)     13856     \n",
            "                                                                 \n",
            " max_pooling3d_1 (MaxPooling  (None, 2, 30, 30, 32)    0         \n",
            " 3D)                                                             \n",
            "                                                                 \n",
            " dropout_1 (Dropout)         (None, 2, 30, 30, 32)     0         \n",
            "                                                                 \n",
            " global_average_pooling3d (G  (None, 32)               0         \n",
            " lobalAveragePooling3D)                                          \n",
            "                                                                 \n",
            " dropout_2 (Dropout)         (None, 32)                0         \n",
            "                                                                 \n",
            " dense (Dense)               (None, 16)                528       \n",
            "                                                                 \n",
            " dropout_3 (Dropout)         (None, 16)                0         \n",
            "                                                                 \n",
            " dense_1 (Dense)             (None, 8)                 136       \n",
            "                                                                 \n",
            " dense_2 (Dense)             (None, 4)                 36        \n",
            "                                                                 \n",
            "=================================================================\n",
            "Total params: 15,868\n",
            "Trainable params: 15,868\n",
            "Non-trainable params: 0\n",
            "_________________________________________________________________\n"
          ]
        }
      ]
    },
    {
      "cell_type": "code",
      "source": [
        "# Unfreeze the base model\n",
        "trained_Model.trainable = True\n",
        "\n",
        "# Create an Instance of Early Stopping Callback\n",
        "early_stopping_callback = keras.callbacks.EarlyStopping(monitor = 'val_loss',\n",
        "                                                        patience = 10,\n",
        "                                                        mode = 'min',\n",
        "                                                        restore_best_weights = True)\n",
        "\n",
        "# It's important to recompile your model after you make any changes\n",
        "# to the `trainable` attribute of any inner layer, so that your changes\n",
        "# are take into account\n",
        "trained_Model.compile(loss = 'categorical_crossentropy',\n",
        "              optimizer=keras.optimizers.Adam(1e-5),  # Very low learning rate\n",
        "              metrics = [\"accuracy\"])\n",
        "              # loss=keras.losses.BinaryCrossentropy(from_logits=True),\n",
        "              # metrics=[keras.metrics.BinaryAccuracy()])\n",
        "\n",
        "# Train end-to-end. Be careful to stop before you overfit!\n",
        "cnn_3d_fine_tuned_model_training_history = trained_Model.fit(x = features_train,\n",
        "                                          y = labels_train,\n",
        "                                          epochs=50,\n",
        "                                          batch_size=16,\n",
        "                                          validation_data = (features_valid, labels_valid))\n",
        "                                          # callbacks = [early_stopping_callback])"
      ],
      "metadata": {
        "id": "wQUc88gWvROI",
        "colab": {
          "base_uri": "https://localhost:8080/"
        },
        "outputId": "b080df07-b0bd-434d-eb73-9d1202d0fa3a"
      },
      "execution_count": 12,
      "outputs": [
        {
          "output_type": "stream",
          "name": "stdout",
          "text": [
            "Epoch 1/50\n",
            "101/101 [==============================] - 8s 54ms/step - loss: 0.4771 - accuracy: 0.8007 - val_loss: 0.6097 - val_accuracy: 0.7390\n",
            "Epoch 2/50\n",
            "101/101 [==============================] - 5s 46ms/step - loss: 0.4851 - accuracy: 0.7946 - val_loss: 0.6072 - val_accuracy: 0.7426\n",
            "Epoch 3/50\n",
            "101/101 [==============================] - 5s 47ms/step - loss: 0.4895 - accuracy: 0.8038 - val_loss: 0.6099 - val_accuracy: 0.7426\n",
            "Epoch 4/50\n",
            "101/101 [==============================] - 5s 46ms/step - loss: 0.4640 - accuracy: 0.8020 - val_loss: 0.6113 - val_accuracy: 0.7426\n",
            "Epoch 5/50\n",
            "101/101 [==============================] - 5s 47ms/step - loss: 0.4627 - accuracy: 0.8051 - val_loss: 0.6084 - val_accuracy: 0.7426\n",
            "Epoch 6/50\n",
            "101/101 [==============================] - 5s 47ms/step - loss: 0.4767 - accuracy: 0.8119 - val_loss: 0.6085 - val_accuracy: 0.7426\n",
            "Epoch 7/50\n",
            "101/101 [==============================] - 5s 46ms/step - loss: 0.4767 - accuracy: 0.8020 - val_loss: 0.6081 - val_accuracy: 0.7390\n",
            "Epoch 8/50\n",
            "101/101 [==============================] - 5s 47ms/step - loss: 0.4702 - accuracy: 0.8075 - val_loss: 0.6122 - val_accuracy: 0.7463\n",
            "Epoch 9/50\n",
            "101/101 [==============================] - 5s 47ms/step - loss: 0.4914 - accuracy: 0.7964 - val_loss: 0.6114 - val_accuracy: 0.7463\n",
            "Epoch 10/50\n",
            "101/101 [==============================] - 5s 46ms/step - loss: 0.4759 - accuracy: 0.8063 - val_loss: 0.6117 - val_accuracy: 0.7463\n",
            "Epoch 11/50\n",
            "101/101 [==============================] - 5s 47ms/step - loss: 0.4615 - accuracy: 0.8094 - val_loss: 0.6106 - val_accuracy: 0.7463\n",
            "Epoch 12/50\n",
            "101/101 [==============================] - 5s 47ms/step - loss: 0.4742 - accuracy: 0.7989 - val_loss: 0.6110 - val_accuracy: 0.7463\n",
            "Epoch 13/50\n",
            "101/101 [==============================] - 5s 46ms/step - loss: 0.4761 - accuracy: 0.8032 - val_loss: 0.6229 - val_accuracy: 0.7426\n",
            "Epoch 14/50\n",
            "101/101 [==============================] - 5s 47ms/step - loss: 0.4665 - accuracy: 0.8082 - val_loss: 0.6162 - val_accuracy: 0.7390\n",
            "Epoch 15/50\n",
            "101/101 [==============================] - 5s 47ms/step - loss: 0.4858 - accuracy: 0.7989 - val_loss: 0.6058 - val_accuracy: 0.7500\n",
            "Epoch 16/50\n",
            "101/101 [==============================] - 5s 46ms/step - loss: 0.4665 - accuracy: 0.8094 - val_loss: 0.6040 - val_accuracy: 0.7463\n",
            "Epoch 17/50\n",
            "101/101 [==============================] - 5s 47ms/step - loss: 0.4607 - accuracy: 0.8001 - val_loss: 0.6176 - val_accuracy: 0.7353\n",
            "Epoch 18/50\n",
            "101/101 [==============================] - 5s 47ms/step - loss: 0.4868 - accuracy: 0.7915 - val_loss: 0.6100 - val_accuracy: 0.7463\n",
            "Epoch 19/50\n",
            "101/101 [==============================] - 5s 46ms/step - loss: 0.4674 - accuracy: 0.7983 - val_loss: 0.6121 - val_accuracy: 0.7500\n",
            "Epoch 20/50\n",
            "101/101 [==============================] - 5s 46ms/step - loss: 0.4606 - accuracy: 0.8106 - val_loss: 0.6072 - val_accuracy: 0.7500\n",
            "Epoch 21/50\n",
            "101/101 [==============================] - 5s 47ms/step - loss: 0.4768 - accuracy: 0.8075 - val_loss: 0.6033 - val_accuracy: 0.7463\n",
            "Epoch 22/50\n",
            "101/101 [==============================] - 5s 47ms/step - loss: 0.4560 - accuracy: 0.8075 - val_loss: 0.6064 - val_accuracy: 0.7463\n",
            "Epoch 23/50\n",
            "101/101 [==============================] - 5s 47ms/step - loss: 0.4726 - accuracy: 0.8088 - val_loss: 0.6056 - val_accuracy: 0.7463\n",
            "Epoch 24/50\n",
            "101/101 [==============================] - 5s 46ms/step - loss: 0.4561 - accuracy: 0.8057 - val_loss: 0.6039 - val_accuracy: 0.7463\n",
            "Epoch 25/50\n",
            "101/101 [==============================] - 5s 47ms/step - loss: 0.4820 - accuracy: 0.7927 - val_loss: 0.6086 - val_accuracy: 0.7500\n",
            "Epoch 26/50\n",
            "101/101 [==============================] - 5s 46ms/step - loss: 0.4670 - accuracy: 0.8113 - val_loss: 0.6122 - val_accuracy: 0.7463\n",
            "Epoch 27/50\n",
            "101/101 [==============================] - 5s 47ms/step - loss: 0.4583 - accuracy: 0.8106 - val_loss: 0.6105 - val_accuracy: 0.7426\n",
            "Epoch 28/50\n",
            "101/101 [==============================] - 5s 47ms/step - loss: 0.4794 - accuracy: 0.8038 - val_loss: 0.6001 - val_accuracy: 0.7463\n",
            "Epoch 29/50\n",
            "101/101 [==============================] - 5s 46ms/step - loss: 0.4593 - accuracy: 0.8082 - val_loss: 0.6122 - val_accuracy: 0.7463\n",
            "Epoch 30/50\n",
            "101/101 [==============================] - 5s 46ms/step - loss: 0.4689 - accuracy: 0.8100 - val_loss: 0.6116 - val_accuracy: 0.7426\n",
            "Epoch 31/50\n",
            "101/101 [==============================] - 5s 46ms/step - loss: 0.4648 - accuracy: 0.8137 - val_loss: 0.6188 - val_accuracy: 0.7463\n",
            "Epoch 32/50\n",
            "101/101 [==============================] - 5s 47ms/step - loss: 0.4752 - accuracy: 0.8038 - val_loss: 0.6086 - val_accuracy: 0.7500\n",
            "Epoch 33/50\n",
            "101/101 [==============================] - 5s 47ms/step - loss: 0.4778 - accuracy: 0.7970 - val_loss: 0.6087 - val_accuracy: 0.7537\n",
            "Epoch 34/50\n",
            "101/101 [==============================] - 5s 47ms/step - loss: 0.4753 - accuracy: 0.7933 - val_loss: 0.6092 - val_accuracy: 0.7500\n",
            "Epoch 35/50\n",
            "101/101 [==============================] - 5s 47ms/step - loss: 0.4587 - accuracy: 0.8100 - val_loss: 0.6040 - val_accuracy: 0.7500\n",
            "Epoch 36/50\n",
            "101/101 [==============================] - 5s 46ms/step - loss: 0.4764 - accuracy: 0.8113 - val_loss: 0.6048 - val_accuracy: 0.7537\n",
            "Epoch 37/50\n",
            "101/101 [==============================] - 5s 46ms/step - loss: 0.4769 - accuracy: 0.8100 - val_loss: 0.6003 - val_accuracy: 0.7463\n",
            "Epoch 38/50\n",
            "101/101 [==============================] - 5s 47ms/step - loss: 0.4658 - accuracy: 0.8144 - val_loss: 0.6042 - val_accuracy: 0.7537\n",
            "Epoch 39/50\n",
            "101/101 [==============================] - 5s 47ms/step - loss: 0.4570 - accuracy: 0.8057 - val_loss: 0.6037 - val_accuracy: 0.7390\n",
            "Epoch 40/50\n",
            "101/101 [==============================] - 5s 46ms/step - loss: 0.4596 - accuracy: 0.7995 - val_loss: 0.6066 - val_accuracy: 0.7390\n",
            "Epoch 41/50\n",
            "101/101 [==============================] - 5s 47ms/step - loss: 0.4678 - accuracy: 0.7970 - val_loss: 0.6084 - val_accuracy: 0.7426\n",
            "Epoch 42/50\n",
            "101/101 [==============================] - 5s 47ms/step - loss: 0.4678 - accuracy: 0.8032 - val_loss: 0.5992 - val_accuracy: 0.7463\n",
            "Epoch 43/50\n",
            "101/101 [==============================] - 5s 46ms/step - loss: 0.4655 - accuracy: 0.8125 - val_loss: 0.6063 - val_accuracy: 0.7500\n",
            "Epoch 44/50\n",
            "101/101 [==============================] - 5s 47ms/step - loss: 0.4545 - accuracy: 0.8156 - val_loss: 0.6086 - val_accuracy: 0.7500\n",
            "Epoch 45/50\n",
            "101/101 [==============================] - 5s 47ms/step - loss: 0.4644 - accuracy: 0.8051 - val_loss: 0.6163 - val_accuracy: 0.7463\n",
            "Epoch 46/50\n",
            "101/101 [==============================] - 5s 47ms/step - loss: 0.4672 - accuracy: 0.8032 - val_loss: 0.6130 - val_accuracy: 0.7463\n",
            "Epoch 47/50\n",
            "101/101 [==============================] - 5s 47ms/step - loss: 0.4785 - accuracy: 0.8026 - val_loss: 0.6003 - val_accuracy: 0.7463\n",
            "Epoch 48/50\n",
            "101/101 [==============================] - 5s 47ms/step - loss: 0.4559 - accuracy: 0.8075 - val_loss: 0.6007 - val_accuracy: 0.7500\n",
            "Epoch 49/50\n",
            "101/101 [==============================] - 5s 47ms/step - loss: 0.4853 - accuracy: 0.8075 - val_loss: 0.6050 - val_accuracy: 0.7463\n",
            "Epoch 50/50\n",
            "101/101 [==============================] - 5s 47ms/step - loss: 0.4513 - accuracy: 0.8144 - val_loss: 0.6036 - val_accuracy: 0.7463\n"
          ]
        }
      ]
    },
    {
      "cell_type": "code",
      "source": [
        "model_evaluation_history = trained_Model.evaluate(features_test, labels_test)\n",
        "print('\\n')\n",
        "train_loss, train_acc = trained_Model.evaluate(features_train, labels_train, verbose=0)\n",
        "test_loss, test_acc = trained_Model.evaluate(features_test, labels_test, verbose=0)\n",
        "val_loss, val_acc = trained_Model.evaluate(features_valid, labels_valid, verbose=0)\n",
        "print(f'Train accuracy: {train_acc*100:.3f} % || Test accuracy: {test_acc*100:.3f} % || Val accuracy: {val_acc*100:.3f} %')\n",
        "print(f'Train loss: {train_loss:.3f} || Test loss: {test_loss:.3f} || Val loss: {val_loss:.3f}')"
      ],
      "metadata": {
        "id": "8KUEISfZxScL",
        "colab": {
          "base_uri": "https://localhost:8080/"
        },
        "outputId": "af2b6fbc-f867-4016-fcbf-8e23d0a464fe"
      },
      "execution_count": 13,
      "outputs": [
        {
          "output_type": "stream",
          "name": "stdout",
          "text": [
            "9/9 [==============================] - 1s 43ms/step - loss: 0.7825 - accuracy: 0.7196\n",
            "\n",
            "\n",
            "Train accuracy: 83.663 % || Test accuracy: 71.956 % || Val accuracy: 74.632 %\n",
            "Train loss: 0.411 || Test loss: 0.783 || Val loss: 0.604\n"
          ]
        }
      ]
    },
    {
      "cell_type": "code",
      "source": [
        "# Get the loss and accuracy from model_evaluation_history.\n",
        "model_evaluation_loss, model_evaluation_accuracy = model_evaluation_history\n",
        " \n",
        "# Define the string date format.\n",
        "# Get the current Date and Time in a DateTime Object.\n",
        "# Convert the DateTime object to string according to the style mentioned in date_time_format string.\n",
        "date_time_format = '%Y_%m_%d__%H_%M_%S'\n",
        "current_date_time_dt = dt.datetime.now()\n",
        "current_date_time_string = dt.datetime.strftime(current_date_time_dt, date_time_format)\n",
        " \n",
        "# Define a useful name for our model to make it easy for us while navigating through multiple saved models.\n",
        "model_file_name = f'fine_tuned_3d_cnn_model___Date_Time_{current_date_time_string}___Loss_{model_evaluation_loss}___Accuracy_{model_evaluation_accuracy}.h5'\n",
        " \n",
        "# Change dir\n",
        "gdrive_path = '/content/gdrive' + '/My Drive/247/Saved_models/convlstm_2022_05_27__04_39_31'\n",
        "os.chdir(gdrive_path)\n",
        "# Save your Model.\n",
        "trained_Model.save('fine_tuned_3d_cnn_' + str(current_date_time_string) + '/' + model_file_name)\n",
        "# Save model weights\n",
        "trained_Model.save_weights('fine_tuned_3d_cnn_' + str(current_date_time_string) + '/' + 'weights')"
      ],
      "metadata": {
        "id": "dScBXaAdyGqd"
      },
      "execution_count": 14,
      "outputs": []
    },
    {
      "cell_type": "code",
      "source": [
        "def plot_metric(model_training_history, metric_name_1, metric_name_2, plot_name):\n",
        "    '''\n",
        "    This function will plot the metrics passed to it in a graph.\n",
        "    Args:\n",
        "        model_training_history: A history object containing a record of training and validation \n",
        "                                loss values and metrics values at successive epochs\n",
        "        metric_name_1:          The name of the first metric that needs to be plotted in the graph.\n",
        "        metric_name_2:          The name of the second metric that needs to be plotted in the graph.\n",
        "        plot_name:              The title of the graph.\n",
        "    '''\n",
        "    \n",
        "    # Get metric values using metric names as identifiers.\n",
        "    metric_value_1 = model_training_history.history[metric_name_1]\n",
        "    metric_value_2 = model_training_history.history[metric_name_2]\n",
        "    \n",
        "    # Construct a range object which will be used as x-axis (horizontal plane) of the graph.\n",
        "    epochs = range(len(metric_value_1))\n",
        "\n",
        "    # Plot the Graph.\n",
        "    plt.plot(epochs, metric_value_1, 'blue', label = metric_name_1)\n",
        "    plt.plot(epochs, metric_value_2, 'red', label = metric_name_2)\n",
        "\n",
        "    # Add title to the plot.\n",
        "    plt.title(str(plot_name))\n",
        "\n",
        "    # Add legend to the plot.\n",
        "    plt.legend()"
      ],
      "metadata": {
        "id": "PFXKaQB50WOJ"
      },
      "execution_count": 15,
      "outputs": []
    },
    {
      "cell_type": "code",
      "source": [
        "plot_metric(cnn_3d_fine_tuned_model_training_history, 'loss', 'val_loss', 'Total Loss vs Total Validation Loss')"
      ],
      "metadata": {
        "id": "UfPhZKuH0ZGP",
        "colab": {
          "base_uri": "https://localhost:8080/",
          "height": 281
        },
        "outputId": "134ed36e-34a6-4e1f-dc35-d1b11d44dc1d"
      },
      "execution_count": 16,
      "outputs": [
        {
          "output_type": "display_data",
          "data": {
            "text/plain": [
              "<Figure size 432x288 with 1 Axes>"
            ],
            "image/png": "[encoded data removed]"
          },
          "metadata": {
            "needs_background": "light"
          }
        }
      ]
    },
    {
      "cell_type": "code",
      "source": [
        "plot_metric(cnn_3d_fine_tuned_model_training_history, 'accuracy', 'val_accuracy', 'Total Accuracy vs Total Validation Accuracy') "
      ],
      "metadata": {
        "id": "w9qJdAOo0odX",
        "colab": {
          "base_uri": "https://localhost:8080/",
          "height": 281
        },
        "outputId": "788c863e-ce12-426a-f386-ad2b4fe04020"
      },
      "execution_count": 17,
      "outputs": [
        {
          "output_type": "display_data",
          "data": {
            "text/plain": [
              "<Figure size 432x288 with 1 Axes>"
            ],
            "image/png": "[encoded data removed]"
          },
          "metadata": {
            "needs_background": "light"
          }
        }
      ]
    }
  ],
  "metadata": {
    "accelerator": "GPU",
    "colab": {
      "background_execution": "on",
      "collapsed_sections": [],
      "machine_shape": "hm",
      "name": "3D_CNN_FINE_TUNE.ipynb",
      "provenance": [],
      "authorship_tag": "ABX9TyOWJ1FK+RjI43Cnoyg+yU5q",
      "include_colab_link": true
    },
    "kernelspec": {
      "display_name": "Python 3",
      "name": "python3"
    },
    "language_info": {
      "name": "python"
    }
  },
  "nbformat": 4,
  "nbformat_minor": 0
}