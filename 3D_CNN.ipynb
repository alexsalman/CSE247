{
  "cells": [
    {
      "cell_type": "markdown",
      "metadata": {
        "id": "view-in-github",
        "colab_type": "text"
      },
      "source": [
        "<a href=\"https://colab.research.google.com/github/alexsalman/CSE247/blob/main/3D_CNN.ipynb\" target=\"_parent\"><img src=\"https://colab.research.google.com/assets/colab-badge.svg\" alt=\"Open In Colab\"/></a>"
      ]
    },
    {
      "cell_type": "markdown",
      "metadata": {
        "id": "Kk7I8NauauE3"
      },
      "source": [
        "####**3D Convolutional Neural Network**\n",
        "######*I am using 3D Convolutional Neural Network to extract the temporal and spatial information which are merged slowly throughout the whole network.*"
      ]
    },
    {
      "cell_type": "code",
      "execution_count": 1,
      "metadata": {
        "colab": {
          "base_uri": "https://localhost:8080/"
        },
        "id": "M8ibtd5HKtZk",
        "outputId": "f80e36c5-147e-4e0b-990b-e27147fd8c23"
      },
      "outputs": [
        {
          "output_type": "stream",
          "name": "stdout",
          "text": [
            "2.8.0\n"
          ]
        }
      ],
      "source": [
        "# required libraries\n",
        "import os\n",
        "import cv2\n",
        "import math\n",
        "import random\n",
        "import numpy as np\n",
        "import datetime as dt\n",
        "from collections import deque\n",
        "import matplotlib.pyplot as plt\n",
        "from google.colab import drive\n",
        "from sklearn.model_selection import train_test_split\n",
        "import tensorflow as tf\n",
        "from tensorflow import keras\n",
        "from keras.models import Sequential\n",
        "from keras.layers import Dense, Flatten, Conv3D, MaxPooling3D, Dropout, BatchNormalization, GlobalAveragePooling3D\n",
        "from keras import regularizers\n",
        "from PIL import Image\n",
        "%matplotlib inline\n",
        "print(tf.version.VERSION)\n",
        "# https://bleedai.com/human-activity-recognition-using-tensorflow-cnn-lstm/"
      ]
    },
    {
      "cell_type": "code",
      "execution_count": 2,
      "metadata": {
        "id": "iffdFOf1CEAN"
      },
      "outputs": [],
      "source": [
        "# set Numpy, Python, and Tensorflow seeds to get consistent results on every execution\n",
        "seed_constant = 27\n",
        "np.random.seed(seed_constant)\n",
        "random.seed(seed_constant)\n",
        "tf.random.set_seed(seed_constant)"
      ]
    },
    {
      "cell_type": "code",
      "execution_count": 3,
      "metadata": {
        "colab": {
          "base_uri": "https://localhost:8080/",
          "height": 53
        },
        "id": "mcLh22LiOHyn",
        "outputId": "d4db1712-3ea7-49ae-9784-e5a2e7d59967"
      },
      "outputs": [
        {
          "output_type": "stream",
          "name": "stdout",
          "text": [
            "Mounted at /content/gdrive/\n"
          ]
        },
        {
          "output_type": "execute_result",
          "data": {
            "text/plain": [
              "'/content/gdrive/My Drive/247'"
            ],
            "application/vnd.google.colaboratory.intrinsic+json": {
              "type": "string"
            }
          },
          "metadata": {},
          "execution_count": 3
        }
      ],
      "source": [
        "# mount dataset from google drive\n",
        "drive.mount('/content/gdrive/', force_remount=True)\n",
        "gdrive_path = '/content/gdrive' + '/My Drive/247/'\n",
        "os.chdir(gdrive_path)\n",
        "os.getcwd()"
      ]
    },
    {
      "cell_type": "code",
      "execution_count": 4,
      "metadata": {
        "id": "oeDK8SzumZ1Q"
      },
      "outputs": [],
      "source": [
        "# frame dimention\n",
        "IMAGE_HEIGHT, IMAGE_WIDTH = 128, 128\n",
        "# frame number for each video (depth)\n",
        "SEQUENCE_LENGTH = 16\n",
        "# video dir path\n",
        "DATASET_DIR = gdrive_path + 'Cropped_videos'\n",
        "# labels of classes\n",
        "CLASSES_LIST = ['hemostasis', 'inflammatory', 'proliferative', 'maturation']"
      ]
    },
    {
      "cell_type": "code",
      "execution_count": 5,
      "metadata": {
        "id": "HUTeIqzpZc9J"
      },
      "outputs": [],
      "source": [
        "# image cropping\n",
        "def crop_center_square(frame):\n",
        "    y, x = frame.shape[0:2]\n",
        "    min_dim = min(y, x)\n",
        "    start_x = (x // 2) - (min_dim // 2)\n",
        "    start_y = (y // 2) - (min_dim // 2)\n",
        "    return frame[start_y:start_y+min_dim,start_x:start_x+min_dim]"
      ]
    },
    {
      "cell_type": "code",
      "execution_count": 6,
      "metadata": {
        "id": "QRDbHG0TZkYJ"
      },
      "outputs": [],
      "source": [
        "# https://medium.com/analytics-vidhya/video-preprocessor-and-augmentation-for-deep-learning-tasks-12dd3fcce868\n",
        "def load_video(path, resize=(128, 128)):\n",
        "    video_reader = cv2.VideoCapture(path)\n",
        "    frames = []\n",
        "    try:\n",
        "        while True:\n",
        "            ret, frame = video_reader.read()\n",
        "            if not ret:\n",
        "                  break\n",
        "            # frame = crop_center_square(frame)\n",
        "            frame = cv2.resize(frame, resize)\n",
        "            frame = frame[:, :, [2, 1, 0]]\n",
        "            black_frame = frame\n",
        "            frames.append(frame)\n",
        "    finally:\n",
        "        video_reader.release()\n",
        "    return np.array(frames) / 255.0"
      ]
    },
    {
      "cell_type": "code",
      "execution_count": 7,
      "metadata": {
        "id": "ljUWHW6Jqzu-"
      },
      "outputs": [],
      "source": [
        "def create_dataset(state):\n",
        "    # Declared Empty Lists to store the features, labels and video file path values.\n",
        "    features = []\n",
        "    labels = []\n",
        "    video_files_paths = []\n",
        "    # Iterating through all the classes mentioned in the classes list\n",
        "    for class_index, class_name in enumerate(CLASSES_LIST):\n",
        "        # Display the name of the class whose data is being extracted.\n",
        "        print(f'Extracting Data of Class: {class_name} {state}')\n",
        "        # Get the list of video files present in the specific class name directory.\n",
        "        files_list = os.listdir(os.path.join(DATASET_DIR, class_name))\n",
        "        # Iterate through all the files present in the files list.\n",
        "        for file_name in files_list:\n",
        "            # Get the complete video path.\n",
        "            video_file_path = os.path.join(DATASET_DIR, class_name, file_name)\n",
        "            # create testing data\n",
        "            if state == 'test':\n",
        "                # get the mouse number\n",
        "                mouse_number = int(video_file_path.split(' ')[2].split('_')[1].split('-')[1])\n",
        "                # get the mouse side (L or R)\n",
        "                mouse_side = video_file_path.split(' ')[2].split('_')[1].split('-')[2]\n",
        "                if mouse_number == 4 and mouse_side == 'L':\n",
        "                    frames = load_video(video_file_path)\n",
        "                    features.append(frames)\n",
        "                    labels.append(class_index)\n",
        "                    video_files_paths.append(video_file_path)\n",
        "            # create validation data\n",
        "            elif state == 'valid':\n",
        "                # get the mouse number\n",
        "                mouse_number = int(video_file_path.split(' ')[2].split('_')[1].split('-')[1])\n",
        "                # get the mouse side (L or R)\n",
        "                mouse_side = video_file_path.split(' ')[2].split('_')[1].split('-')[2]\n",
        "                if mouse_number == 4 and mouse_side == 'R':\n",
        "                    frames = load_video(video_file_path)\n",
        "                    features.append(frames)\n",
        "                    labels.append(class_index)\n",
        "                    video_files_paths.append(video_file_path)\n",
        "            # create training data\n",
        "            else:\n",
        "                # get the mouse number\n",
        "                mouse_number = int(video_file_path.split(' ')[2].split('_')[1].split('-')[1])\n",
        "                if mouse_number != 4:\n",
        "                    frames = load_video(video_file_path)\n",
        "                    features.append(frames)\n",
        "                    labels.append(class_index)\n",
        "                    video_files_paths.append(video_file_path)\n",
        "    # Converting the list to numpy arrays\n",
        "    features = np.asarray(features)\n",
        "    # print(features)\n",
        "    labels = np.array(labels)\n",
        "    # Return the frames, class index, and video file path.\n",
        "    return features, labels, video_files_paths"
      ]
    },
    {
      "cell_type": "code",
      "execution_count": 8,
      "metadata": {
        "colab": {
          "base_uri": "https://localhost:8080/"
        },
        "id": "a8rpanz9rASe",
        "outputId": "4ed8abee-b8a7-4a50-ee7a-352923a6252a"
      },
      "outputs": [
        {
          "output_type": "stream",
          "name": "stdout",
          "text": [
            "Extracting Data of Class: hemostasis train\n",
            "Extracting Data of Class: inflammatory train\n",
            "Extracting Data of Class: proliferative train\n",
            "Extracting Data of Class: maturation train\n",
            "Extracting Data of Class: hemostasis test\n",
            "Extracting Data of Class: inflammatory test\n",
            "Extracting Data of Class: proliferative test\n",
            "Extracting Data of Class: maturation test\n",
            "Extracting Data of Class: hemostasis valid\n",
            "Extracting Data of Class: inflammatory valid\n",
            "Extracting Data of Class: proliferative valid\n",
            "Extracting Data of Class: maturation valid\n"
          ]
        }
      ],
      "source": [
        "# 6 mice for training, 2 mice for test and validation (one wound on each mice for test one for validation)\n",
        "features_train, labels_train, video_files_paths_train = create_dataset('train')\n",
        "features_test, labels_test, video_files_paths_test = create_dataset('test')\n",
        "features_valid, labels_valid, video_files_paths_valid = create_dataset('valid')"
      ]
    },
    {
      "cell_type": "code",
      "execution_count": 9,
      "metadata": {
        "id": "dtJkK4qTAulC"
      },
      "outputs": [],
      "source": [
        "# one_hot_encoded_labels\n",
        "labels_train = keras.utils.to_categorical(labels_train)\n",
        "labels_test = keras.utils.to_categorical(labels_test)\n",
        "labels_valid = keras.utils.to_categorical(labels_valid)"
      ]
    },
    {
      "cell_type": "code",
      "execution_count": 10,
      "metadata": {
        "id": "N-9ykP4ig7IW"
      },
      "outputs": [],
      "source": [
        "def create_3D_CNN_model():\n",
        "    sample_shape = (16, 128, 128, 3)\n",
        "    model = Sequential()\n",
        "\n",
        "    model.add(Conv3D(32, 3, activation='relu', kernel_initializer='he_uniform',\n",
        "                     kernel_regularizer=regularizers.L2(l2=1e-4),\n",
        "                     input_shape=sample_shape))\n",
        "    # model.add(BatchNormalization())\n",
        "    model.add(MaxPooling3D(2))\n",
        "    model.add(Dropout(0.5))\n",
        "\n",
        "    model.add(Conv3D(32, 3, activation='relu', kernel_initializer='he_uniform',\n",
        "                     kernel_regularizer=regularizers.L2(l2=1e-4)))\n",
        "    # model.add(BatchNormalization())\n",
        "    model.add(MaxPooling3D(2))\n",
        "    model.add(Dropout(0.5))\n",
        "\n",
        "    model.add(GlobalAveragePooling3D())\n",
        "\n",
        "    model.add(Dense(32, activation='relu', kernel_initializer='he_uniform',\n",
        "                    kernel_regularizer=regularizers.L2(l2=1e-4)))\n",
        "    model.add(Dropout(0.5))\n",
        "\n",
        "    model.add(Dense(16, activation='relu', kernel_initializer='he_uniform',\n",
        "                    kernel_regularizer=regularizers.L2(l2=1e-4)))\n",
        "    model.add(Dropout(0.6))\n",
        "    model.add(Dense(8, activation='relu', kernel_initializer='he_uniform'))\n",
        "    # model.add(Dense(4, activation='relu', kernel_initializer='he_uniform'))\n",
        "    # model.add(Dropout(0.3))\n",
        "    # model.add(Dense(8, activation='relu', kernel_initializer='he_uniform'))\n",
        "    # model.add(Dropout(0.3))\n",
        "    model.add(Dense(len(CLASSES_LIST), activation='softmax'))\n",
        "\n",
        "    # Display the models summary.\n",
        "    model.summary(line_length = 125)\n",
        "    # Return the constructed 3D_CNN model.\n",
        "    return model"
      ]
    },
    {
      "cell_type": "code",
      "execution_count": 11,
      "metadata": {
        "colab": {
          "base_uri": "https://localhost:8080/"
        },
        "id": "Z4_GxXZBcHlB",
        "outputId": "d5c6b13e-2b79-4ae8-a8e9-9b0a8a067ff7"
      },
      "outputs": [
        {
          "output_type": "stream",
          "name": "stdout",
          "text": [
            "Model: \"sequential\"\n",
            "_____________________________________________________________________________________________________________________________\n",
            " Layer (type)                                           Output Shape                                      Param #            \n",
            "=============================================================================================================================\n",
            " conv3d (Conv3D)                                        (None, 14, 126, 126, 32)                          2624               \n",
            "                                                                                                                             \n",
            " max_pooling3d (MaxPooling3D)                           (None, 7, 63, 63, 32)                             0                  \n",
            "                                                                                                                             \n",
            " dropout (Dropout)                                      (None, 7, 63, 63, 32)                             0                  \n",
            "                                                                                                                             \n",
            " conv3d_1 (Conv3D)                                      (None, 5, 61, 61, 32)                             27680              \n",
            "                                                                                                                             \n",
            " max_pooling3d_1 (MaxPooling3D)                         (None, 2, 30, 30, 32)                             0                  \n",
            "                                                                                                                             \n",
            " dropout_1 (Dropout)                                    (None, 2, 30, 30, 32)                             0                  \n",
            "                                                                                                                             \n",
            " global_average_pooling3d (GlobalAveragePooling3D)      (None, 32)                                        0                  \n",
            "                                                                                                                             \n",
            " dense (Dense)                                          (None, 32)                                        1056               \n",
            "                                                                                                                             \n",
            " dropout_2 (Dropout)                                    (None, 32)                                        0                  \n",
            "                                                                                                                             \n",
            " dense_1 (Dense)                                        (None, 16)                                        528                \n",
            "                                                                                                                             \n",
            " dropout_3 (Dropout)                                    (None, 16)                                        0                  \n",
            "                                                                                                                             \n",
            " dense_2 (Dense)                                        (None, 8)                                         136                \n",
            "                                                                                                                             \n",
            " dense_3 (Dense)                                        (None, 4)                                         36                 \n",
            "                                                                                                                             \n",
            "=============================================================================================================================\n",
            "Total params: 32,060\n",
            "Trainable params: 32,060\n",
            "Non-trainable params: 0\n",
            "_____________________________________________________________________________________________________________________________\n",
            "Model Created Successfully!\n"
          ]
        }
      ],
      "source": [
        "# Construct the required convlstm model.\n",
        "model = create_3D_CNN_model()\n",
        " \n",
        "# Display the success message. \n",
        "print(\"Model Created Successfully!\")"
      ]
    },
    {
      "cell_type": "code",
      "execution_count": 12,
      "metadata": {
        "colab": {
          "base_uri": "https://localhost:8080/"
        },
        "id": "MwYEkaYLoyb_",
        "outputId": "f6dd07b4-2dc6-4e67-e221-ec0153c7eeff"
      },
      "outputs": [
        {
          "output_type": "stream",
          "name": "stdout",
          "text": [
            "Epoch 1/100\n",
            "101/101 [==============================] - 12s 104ms/step - loss: 1.3257 - accuracy: 0.4220 - val_loss: 1.2495 - val_accuracy: 0.3566\n",
            "Epoch 2/100\n",
            "101/101 [==============================] - 10s 97ms/step - loss: 1.1511 - accuracy: 0.4301 - val_loss: 1.0922 - val_accuracy: 0.3897\n",
            "Epoch 3/100\n",
            "101/101 [==============================] - 10s 97ms/step - loss: 1.0894 - accuracy: 0.4196 - val_loss: 1.0044 - val_accuracy: 0.4522\n",
            "Epoch 4/100\n",
            "101/101 [==============================] - 10s 97ms/step - loss: 1.0376 - accuracy: 0.4790 - val_loss: 0.9407 - val_accuracy: 0.5404\n",
            "Epoch 5/100\n",
            "101/101 [==============================] - 10s 97ms/step - loss: 0.9853 - accuracy: 0.4963 - val_loss: 0.8961 - val_accuracy: 0.5846\n",
            "Epoch 6/100\n",
            "101/101 [==============================] - 10s 97ms/step - loss: 0.9553 - accuracy: 0.4870 - val_loss: 0.8681 - val_accuracy: 0.6176\n",
            "Epoch 7/100\n",
            "101/101 [==============================] - 10s 97ms/step - loss: 0.9237 - accuracy: 0.5254 - val_loss: 0.8454 - val_accuracy: 0.6029\n",
            "Epoch 8/100\n",
            "101/101 [==============================] - 10s 96ms/step - loss: 0.9099 - accuracy: 0.5359 - val_loss: 0.8521 - val_accuracy: 0.5846\n",
            "Epoch 9/100\n",
            "101/101 [==============================] - 10s 97ms/step - loss: 0.8928 - accuracy: 0.5377 - val_loss: 0.8426 - val_accuracy: 0.5809\n",
            "Epoch 10/100\n",
            "101/101 [==============================] - 10s 96ms/step - loss: 0.8903 - accuracy: 0.5476 - val_loss: 0.8130 - val_accuracy: 0.5846\n",
            "Epoch 11/100\n",
            "101/101 [==============================] - 10s 96ms/step - loss: 0.8857 - accuracy: 0.5402 - val_loss: 0.8307 - val_accuracy: 0.5919\n",
            "Epoch 12/100\n",
            "101/101 [==============================] - 10s 96ms/step - loss: 0.8563 - accuracy: 0.5631 - val_loss: 0.8234 - val_accuracy: 0.5515\n",
            "Epoch 13/100\n",
            "101/101 [==============================] - 10s 96ms/step - loss: 0.8491 - accuracy: 0.5650 - val_loss: 0.8071 - val_accuracy: 0.6103\n",
            "Epoch 14/100\n",
            "101/101 [==============================] - 10s 96ms/step - loss: 0.8264 - accuracy: 0.5767 - val_loss: 0.8167 - val_accuracy: 0.5882\n",
            "Epoch 15/100\n",
            "101/101 [==============================] - 10s 96ms/step - loss: 0.8550 - accuracy: 0.5631 - val_loss: 0.8140 - val_accuracy: 0.5368\n",
            "Epoch 16/100\n",
            "101/101 [==============================] - 10s 96ms/step - loss: 0.8311 - accuracy: 0.5761 - val_loss: 0.8101 - val_accuracy: 0.6103\n",
            "Epoch 17/100\n",
            "101/101 [==============================] - 10s 96ms/step - loss: 0.8133 - accuracy: 0.6027 - val_loss: 0.8090 - val_accuracy: 0.6103\n",
            "Epoch 18/100\n",
            "101/101 [==============================] - 10s 96ms/step - loss: 0.8182 - accuracy: 0.6021 - val_loss: 0.7969 - val_accuracy: 0.6029\n",
            "Epoch 19/100\n",
            "101/101 [==============================] - 10s 96ms/step - loss: 0.8129 - accuracy: 0.5965 - val_loss: 0.8202 - val_accuracy: 0.5662\n",
            "Epoch 20/100\n",
            "101/101 [==============================] - 10s 96ms/step - loss: 0.7952 - accuracy: 0.6108 - val_loss: 0.8131 - val_accuracy: 0.5515\n",
            "Epoch 21/100\n",
            "101/101 [==============================] - 10s 96ms/step - loss: 0.8138 - accuracy: 0.5959 - val_loss: 0.8004 - val_accuracy: 0.6066\n",
            "Epoch 22/100\n",
            "101/101 [==============================] - 10s 96ms/step - loss: 0.7781 - accuracy: 0.6262 - val_loss: 0.7768 - val_accuracy: 0.6140\n",
            "Epoch 23/100\n",
            "101/101 [==============================] - 10s 96ms/step - loss: 0.7849 - accuracy: 0.6318 - val_loss: 0.7830 - val_accuracy: 0.6103\n",
            "Epoch 24/100\n",
            "101/101 [==============================] - 10s 96ms/step - loss: 0.7818 - accuracy: 0.6083 - val_loss: 0.7839 - val_accuracy: 0.5993\n",
            "Epoch 25/100\n",
            "101/101 [==============================] - 10s 96ms/step - loss: 0.7876 - accuracy: 0.6194 - val_loss: 0.7835 - val_accuracy: 0.6140\n",
            "Epoch 26/100\n",
            "101/101 [==============================] - 10s 97ms/step - loss: 0.7835 - accuracy: 0.6114 - val_loss: 0.7751 - val_accuracy: 0.6103\n",
            "Epoch 27/100\n",
            "101/101 [==============================] - 10s 96ms/step - loss: 0.7498 - accuracy: 0.6306 - val_loss: 0.7763 - val_accuracy: 0.6176\n",
            "Epoch 28/100\n",
            "101/101 [==============================] - 10s 96ms/step - loss: 0.7646 - accuracy: 0.6213 - val_loss: 0.9208 - val_accuracy: 0.5257\n",
            "Epoch 29/100\n",
            "101/101 [==============================] - 10s 97ms/step - loss: 0.7602 - accuracy: 0.6324 - val_loss: 0.7968 - val_accuracy: 0.5551\n",
            "Epoch 30/100\n",
            "101/101 [==============================] - 10s 96ms/step - loss: 0.7594 - accuracy: 0.6250 - val_loss: 0.7708 - val_accuracy: 0.5919\n",
            "Epoch 31/100\n",
            "101/101 [==============================] - 10s 97ms/step - loss: 0.7680 - accuracy: 0.6293 - val_loss: 0.8071 - val_accuracy: 0.5662\n",
            "Epoch 32/100\n",
            "101/101 [==============================] - 10s 96ms/step - loss: 0.7480 - accuracy: 0.6324 - val_loss: 0.7691 - val_accuracy: 0.6176\n",
            "Epoch 33/100\n",
            "101/101 [==============================] - 10s 96ms/step - loss: 0.7359 - accuracy: 0.6485 - val_loss: 0.7792 - val_accuracy: 0.5956\n",
            "Epoch 34/100\n",
            "101/101 [==============================] - 10s 96ms/step - loss: 0.7716 - accuracy: 0.6095 - val_loss: 0.7453 - val_accuracy: 0.6213\n",
            "Epoch 35/100\n",
            "101/101 [==============================] - 10s 96ms/step - loss: 0.7496 - accuracy: 0.6318 - val_loss: 0.7573 - val_accuracy: 0.6066\n",
            "Epoch 36/100\n",
            "101/101 [==============================] - 10s 97ms/step - loss: 0.7239 - accuracy: 0.6442 - val_loss: 0.7818 - val_accuracy: 0.5809\n",
            "Epoch 37/100\n",
            "101/101 [==============================] - 10s 96ms/step - loss: 0.7534 - accuracy: 0.6306 - val_loss: 0.7749 - val_accuracy: 0.5551\n",
            "Epoch 38/100\n",
            "101/101 [==============================] - 10s 96ms/step - loss: 0.7585 - accuracy: 0.6337 - val_loss: 0.7770 - val_accuracy: 0.5882\n",
            "Epoch 39/100\n",
            "101/101 [==============================] - 10s 96ms/step - loss: 0.7269 - accuracy: 0.6361 - val_loss: 0.8207 - val_accuracy: 0.5809\n",
            "Epoch 40/100\n",
            "101/101 [==============================] - 10s 96ms/step - loss: 0.7140 - accuracy: 0.6566 - val_loss: 0.7715 - val_accuracy: 0.6029\n",
            "Epoch 41/100\n",
            "101/101 [==============================] - 10s 96ms/step - loss: 0.7289 - accuracy: 0.6423 - val_loss: 0.7751 - val_accuracy: 0.5956\n",
            "Epoch 42/100\n",
            "101/101 [==============================] - 10s 96ms/step - loss: 0.7177 - accuracy: 0.6473 - val_loss: 0.7590 - val_accuracy: 0.6140\n",
            "Epoch 43/100\n",
            "101/101 [==============================] - 10s 97ms/step - loss: 0.7205 - accuracy: 0.6634 - val_loss: 0.7651 - val_accuracy: 0.5919\n",
            "Epoch 44/100\n",
            "101/101 [==============================] - 10s 96ms/step - loss: 0.7184 - accuracy: 0.6652 - val_loss: 0.7478 - val_accuracy: 0.6213\n",
            "Epoch 45/100\n",
            "101/101 [==============================] - 10s 96ms/step - loss: 0.6977 - accuracy: 0.6751 - val_loss: 0.7427 - val_accuracy: 0.6213\n",
            "Epoch 46/100\n",
            "101/101 [==============================] - 10s 96ms/step - loss: 0.7061 - accuracy: 0.6689 - val_loss: 0.7565 - val_accuracy: 0.6250\n",
            "Epoch 47/100\n",
            "101/101 [==============================] - 10s 97ms/step - loss: 0.7001 - accuracy: 0.6689 - val_loss: 0.7284 - val_accuracy: 0.6544\n",
            "Epoch 48/100\n",
            "101/101 [==============================] - 10s 97ms/step - loss: 0.6816 - accuracy: 0.6887 - val_loss: 0.7509 - val_accuracy: 0.5956\n",
            "Epoch 49/100\n",
            "101/101 [==============================] - 10s 96ms/step - loss: 0.6774 - accuracy: 0.6943 - val_loss: 0.7167 - val_accuracy: 0.6213\n",
            "Epoch 50/100\n",
            "101/101 [==============================] - 10s 96ms/step - loss: 0.6710 - accuracy: 0.6918 - val_loss: 0.7823 - val_accuracy: 0.5699\n",
            "Epoch 51/100\n",
            "101/101 [==============================] - 10s 97ms/step - loss: 0.6924 - accuracy: 0.6801 - val_loss: 0.7451 - val_accuracy: 0.6176\n",
            "Epoch 52/100\n",
            "101/101 [==============================] - 10s 97ms/step - loss: 0.6643 - accuracy: 0.7017 - val_loss: 0.7273 - val_accuracy: 0.6360\n",
            "Epoch 53/100\n",
            "101/101 [==============================] - 10s 96ms/step - loss: 0.6725 - accuracy: 0.6912 - val_loss: 0.7454 - val_accuracy: 0.5809\n",
            "Epoch 54/100\n",
            "101/101 [==============================] - 10s 96ms/step - loss: 0.6743 - accuracy: 0.6875 - val_loss: 0.7070 - val_accuracy: 0.6654\n",
            "Epoch 55/100\n",
            "101/101 [==============================] - 10s 96ms/step - loss: 0.6413 - accuracy: 0.7104 - val_loss: 0.7140 - val_accuracy: 0.6618\n",
            "Epoch 56/100\n",
            "101/101 [==============================] - 10s 96ms/step - loss: 0.6531 - accuracy: 0.7048 - val_loss: 0.7157 - val_accuracy: 0.6691\n",
            "Epoch 57/100\n",
            "101/101 [==============================] - 10s 97ms/step - loss: 0.6539 - accuracy: 0.6949 - val_loss: 0.7097 - val_accuracy: 0.6213\n",
            "Epoch 58/100\n",
            "101/101 [==============================] - 10s 96ms/step - loss: 0.6585 - accuracy: 0.6900 - val_loss: 0.6737 - val_accuracy: 0.6838\n",
            "Epoch 59/100\n",
            "101/101 [==============================] - 10s 96ms/step - loss: 0.6502 - accuracy: 0.7054 - val_loss: 0.6842 - val_accuracy: 0.6507\n",
            "Epoch 60/100\n",
            "101/101 [==============================] - 10s 96ms/step - loss: 0.6391 - accuracy: 0.7036 - val_loss: 0.7135 - val_accuracy: 0.6397\n",
            "Epoch 61/100\n",
            "101/101 [==============================] - 10s 96ms/step - loss: 0.6346 - accuracy: 0.7054 - val_loss: 0.6846 - val_accuracy: 0.6765\n",
            "Epoch 62/100\n",
            "101/101 [==============================] - 10s 97ms/step - loss: 0.6332 - accuracy: 0.7228 - val_loss: 0.6691 - val_accuracy: 0.6691\n",
            "Epoch 63/100\n",
            "101/101 [==============================] - 10s 97ms/step - loss: 0.6341 - accuracy: 0.7209 - val_loss: 0.7341 - val_accuracy: 0.6176\n",
            "Epoch 64/100\n",
            "101/101 [==============================] - 10s 97ms/step - loss: 0.6229 - accuracy: 0.7135 - val_loss: 0.6704 - val_accuracy: 0.6765\n",
            "Epoch 65/100\n",
            "101/101 [==============================] - 10s 96ms/step - loss: 0.6003 - accuracy: 0.7302 - val_loss: 0.7546 - val_accuracy: 0.5846\n",
            "Epoch 66/100\n",
            "101/101 [==============================] - 10s 96ms/step - loss: 0.6175 - accuracy: 0.7259 - val_loss: 0.6791 - val_accuracy: 0.6691\n",
            "Epoch 67/100\n",
            "101/101 [==============================] - 10s 96ms/step - loss: 0.6005 - accuracy: 0.7153 - val_loss: 0.6835 - val_accuracy: 0.6507\n",
            "Epoch 68/100\n",
            "101/101 [==============================] - 10s 96ms/step - loss: 0.5937 - accuracy: 0.7290 - val_loss: 0.6894 - val_accuracy: 0.6360\n",
            "Epoch 69/100\n",
            "101/101 [==============================] - 10s 96ms/step - loss: 0.5945 - accuracy: 0.7389 - val_loss: 0.6615 - val_accuracy: 0.6618\n",
            "Epoch 70/100\n",
            "101/101 [==============================] - 10s 96ms/step - loss: 0.5593 - accuracy: 0.7450 - val_loss: 0.6766 - val_accuracy: 0.6801\n",
            "Epoch 71/100\n",
            "101/101 [==============================] - 10s 96ms/step - loss: 0.5953 - accuracy: 0.7389 - val_loss: 0.6903 - val_accuracy: 0.7132\n",
            "Epoch 72/100\n",
            "101/101 [==============================] - 10s 96ms/step - loss: 0.5753 - accuracy: 0.7364 - val_loss: 0.6574 - val_accuracy: 0.6765\n",
            "Epoch 73/100\n",
            "101/101 [==============================] - 10s 96ms/step - loss: 0.5768 - accuracy: 0.7339 - val_loss: 0.6996 - val_accuracy: 0.6397\n",
            "Epoch 74/100\n",
            "101/101 [==============================] - 10s 97ms/step - loss: 0.5780 - accuracy: 0.7308 - val_loss: 0.6472 - val_accuracy: 0.6875\n",
            "Epoch 75/100\n",
            "101/101 [==============================] - 10s 96ms/step - loss: 0.5674 - accuracy: 0.7531 - val_loss: 0.6636 - val_accuracy: 0.6838\n",
            "Epoch 76/100\n",
            "101/101 [==============================] - 10s 97ms/step - loss: 0.5569 - accuracy: 0.7339 - val_loss: 0.6602 - val_accuracy: 0.6765\n",
            "Epoch 77/100\n",
            "101/101 [==============================] - 10s 97ms/step - loss: 0.5565 - accuracy: 0.7432 - val_loss: 0.6561 - val_accuracy: 0.6875\n",
            "Epoch 78/100\n",
            "101/101 [==============================] - 10s 96ms/step - loss: 0.5461 - accuracy: 0.7531 - val_loss: 0.7268 - val_accuracy: 0.6250\n",
            "Epoch 79/100\n",
            "101/101 [==============================] - 10s 96ms/step - loss: 0.5540 - accuracy: 0.7382 - val_loss: 0.6648 - val_accuracy: 0.7353\n",
            "Epoch 80/100\n",
            "101/101 [==============================] - 10s 97ms/step - loss: 0.5604 - accuracy: 0.7407 - val_loss: 0.6524 - val_accuracy: 0.6654\n",
            "Epoch 81/100\n",
            "101/101 [==============================] - 10s 96ms/step - loss: 0.5493 - accuracy: 0.7420 - val_loss: 0.6926 - val_accuracy: 0.7206\n",
            "Epoch 82/100\n",
            "101/101 [==============================] - 10s 96ms/step - loss: 0.5413 - accuracy: 0.7655 - val_loss: 0.6708 - val_accuracy: 0.6618\n",
            "Epoch 83/100\n",
            "101/101 [==============================] - 10s 96ms/step - loss: 0.5128 - accuracy: 0.7599 - val_loss: 0.6513 - val_accuracy: 0.7206\n",
            "Epoch 84/100\n",
            "101/101 [==============================] - 10s 97ms/step - loss: 0.5245 - accuracy: 0.7543 - val_loss: 0.7390 - val_accuracy: 0.6324\n",
            "Epoch 85/100\n",
            "101/101 [==============================] - 10s 97ms/step - loss: 0.5222 - accuracy: 0.7636 - val_loss: 0.7031 - val_accuracy: 0.6434\n",
            "Epoch 86/100\n",
            "101/101 [==============================] - 10s 96ms/step - loss: 0.5125 - accuracy: 0.7624 - val_loss: 0.6817 - val_accuracy: 0.6985\n",
            "Epoch 87/100\n",
            "101/101 [==============================] - 10s 96ms/step - loss: 0.5356 - accuracy: 0.7593 - val_loss: 0.6379 - val_accuracy: 0.7132\n",
            "Epoch 88/100\n",
            "101/101 [==============================] - 10s 96ms/step - loss: 0.5138 - accuracy: 0.7679 - val_loss: 0.6535 - val_accuracy: 0.6985\n",
            "Epoch 89/100\n",
            "101/101 [==============================] - 10s 96ms/step - loss: 0.5167 - accuracy: 0.7686 - val_loss: 0.7244 - val_accuracy: 0.6875\n",
            "Epoch 90/100\n",
            "101/101 [==============================] - 10s 96ms/step - loss: 0.5015 - accuracy: 0.7593 - val_loss: 0.6750 - val_accuracy: 0.7022\n",
            "Epoch 91/100\n",
            "101/101 [==============================] - 10s 96ms/step - loss: 0.5360 - accuracy: 0.7494 - val_loss: 0.6307 - val_accuracy: 0.6801\n",
            "Epoch 92/100\n",
            "101/101 [==============================] - 10s 96ms/step - loss: 0.5060 - accuracy: 0.7599 - val_loss: 0.6179 - val_accuracy: 0.6838\n",
            "Epoch 93/100\n",
            "101/101 [==============================] - 10s 96ms/step - loss: 0.5076 - accuracy: 0.7630 - val_loss: 0.6430 - val_accuracy: 0.7279\n",
            "Epoch 94/100\n",
            "101/101 [==============================] - 10s 96ms/step - loss: 0.5084 - accuracy: 0.7735 - val_loss: 0.6423 - val_accuracy: 0.7316\n",
            "Epoch 95/100\n",
            "101/101 [==============================] - 10s 97ms/step - loss: 0.4993 - accuracy: 0.7772 - val_loss: 0.6227 - val_accuracy: 0.7059\n",
            "Epoch 96/100\n",
            "101/101 [==============================] - 10s 96ms/step - loss: 0.4918 - accuracy: 0.7772 - val_loss: 0.6183 - val_accuracy: 0.6875\n",
            "Epoch 97/100\n",
            "101/101 [==============================] - 10s 96ms/step - loss: 0.4971 - accuracy: 0.7710 - val_loss: 0.6273 - val_accuracy: 0.7316\n",
            "Epoch 98/100\n",
            "101/101 [==============================] - 10s 96ms/step - loss: 0.4972 - accuracy: 0.7791 - val_loss: 0.6326 - val_accuracy: 0.6765\n",
            "Epoch 99/100\n",
            "101/101 [==============================] - 10s 96ms/step - loss: 0.4852 - accuracy: 0.7778 - val_loss: 0.6681 - val_accuracy: 0.7279\n",
            "Epoch 100/100\n",
            "101/101 [==============================] - 10s 96ms/step - loss: 0.4917 - accuracy: 0.7686 - val_loss: 0.6335 - val_accuracy: 0.7169\n"
          ]
        }
      ],
      "source": [
        "# Create an Instance of Early Stopping Callback\n",
        "early_stopping_callback = keras.callbacks.EarlyStopping(monitor = 'val_loss',\n",
        "                                                        patience = 20,\n",
        "                                                        mode = 'min',\n",
        "                                                        restore_best_weights = True)\n",
        "# Compile the model and specify loss function, optimizer and metrics values to the model\n",
        "model.compile(loss = 'categorical_crossentropy',\n",
        "              optimizer= keras.optimizers.Adam(0.001, decay=1e-4),\n",
        "              metrics=['accuracy'])\n",
        "# Start training the model.\n",
        "cnn_3d_model_training_history = model.fit(x = features_train,\n",
        "                                          y = labels_train,\n",
        "                                          epochs=100,\n",
        "                                          batch_size=16,\n",
        "                                          shuffle = True,\n",
        "                                          validation_data = (features_valid, labels_valid)),\n",
        "                                          # callbacks = [early_stopping_callback])"
      ]
    },
    {
      "cell_type": "code",
      "execution_count": 13,
      "metadata": {
        "colab": {
          "base_uri": "https://localhost:8080/"
        },
        "id": "3vimsgjjbXvL",
        "outputId": "73afeb69-8fb0-409c-db16-e850d2d1c1f8"
      },
      "outputs": [
        {
          "output_type": "stream",
          "name": "stdout",
          "text": [
            "9/9 [==============================] - 1s 71ms/step - loss: 1.0531 - accuracy: 0.6875\n",
            "\n",
            "\n",
            "Train accuracy: 85.891 % || Test accuracy: 68.750 % || Val accuracy: 71.691 %\n",
            "Train loss: 0.390 || Test loss: 1.053 || Val loss: 0.634\n"
          ]
        }
      ],
      "source": [
        "model_evaluation_history = model.evaluate(features_test, labels_test)\n",
        "print('\\n')\n",
        "train_loss, train_acc = model.evaluate(features_train, labels_train, verbose=0)\n",
        "test_loss, test_acc = model.evaluate(features_test, labels_test, verbose=0)\n",
        "val_loss, val_acc = model.evaluate(features_valid, labels_valid, verbose=0)\n",
        "print(f'Train accuracy: {train_acc*100:.3f} % || Test accuracy: {test_acc*100:.3f} % || Val accuracy: {val_acc*100:.3f} %')\n",
        "print(f'Train loss: {train_loss:.3f} || Test loss: {test_loss:.3f} || Val loss: {val_loss:.3f}')"
      ]
    },
    {
      "cell_type": "code",
      "execution_count": 14,
      "metadata": {
        "id": "ivmaK9BlbnRQ"
      },
      "outputs": [],
      "source": [
        "# Get the loss and accuracy from model_evaluation_history.\n",
        "model_evaluation_loss, model_evaluation_accuracy = model_evaluation_history\n",
        " \n",
        "# Define the string date format.\n",
        "# Get the current Date and Time in a DateTime Object.\n",
        "# Convert the DateTime object to string according to the style mentioned in date_time_format string.\n",
        "date_time_format = '%Y_%m_%d__%H_%M_%S'\n",
        "current_date_time_dt = dt.datetime.now()\n",
        "current_date_time_string = dt.datetime.strftime(current_date_time_dt, date_time_format)\n",
        " \n",
        "# Define a useful name for our model to make it easy for us while navigating through multiple saved models.\n",
        "model_file_name = f'3D_CNN_model___Date_Time_{current_date_time_string}___Loss_{model_evaluation_loss}___Accuracy_{model_evaluation_accuracy}.h5'\n",
        "# Change dir\n",
        "gdrive_path = '/content/gdrive' + '/My Drive/247/Saved_models/'\n",
        "os.chdir(gdrive_path)\n",
        "# Create a floder for the model files\n",
        "!mkdir -p cnn_3d_{current_date_time_string}\n",
        "# Save your Model.\n",
        "model.save('convlstm_' + str(current_date_time_string) + '/' + model_file_name)\n",
        "# Save model weights\n",
        "model.save_weights('convlstm_' + str(current_date_time_string) + '/' + 'weights')"
      ]
    },
    {
      "cell_type": "code",
      "execution_count": 15,
      "metadata": {
        "id": "OwU8TwPrbsKB"
      },
      "outputs": [],
      "source": [
        "def plot_metric(model_training_history, metric_name_1, metric_name_2, plot_name):\n",
        "    '''\n",
        "    This function will plot the metrics passed to it in a graph.\n",
        "    Args:\n",
        "        model_training_history: A history object containing a record of training and validation \n",
        "                                loss values and metrics values at successive epochs\n",
        "        metric_name_1:          The name of the first metric that needs to be plotted in the graph.\n",
        "        metric_name_2:          The name of the second metric that needs to be plotted in the graph.\n",
        "        plot_name:              The title of the graph.\n",
        "    '''\n",
        "    \n",
        "    # Get metric values using metric names as identifiers.\n",
        "    metric_value_1 = model_training_history[0].history[metric_name_1]\n",
        "    metric_value_2 = model_training_history[0].history[metric_name_2]\n",
        "    \n",
        "    # Construct a range object which will be used as x-axis (horizontal plane) of the graph.\n",
        "    epochs = range(len(metric_value_1))\n",
        "\n",
        "    # Plot the Graph.\n",
        "    plt.plot(epochs, metric_value_1, 'blue', label = metric_name_1)\n",
        "    plt.plot(epochs, metric_value_2, 'red', label = metric_name_2)\n",
        "\n",
        "    # Add title to the plot.\n",
        "    plt.title(str(plot_name))\n",
        "\n",
        "    # Add legend to the plot.\n",
        "    plt.legend()"
      ]
    },
    {
      "cell_type": "code",
      "execution_count": 16,
      "metadata": {
        "colab": {
          "base_uri": "https://localhost:8080/",
          "height": 281
        },
        "id": "cvKY05ncbwof",
        "outputId": "db90733a-45ae-4f1b-aa1f-590511ebb9c2"
      },
      "outputs": [
        {
          "output_type": "display_data",
          "data": {
            "text/plain": [
              "<Figure size 432x288 with 1 Axes>"
            ],
            "image/png": "[encoded data removed]"
          },
          "metadata": {
            "needs_background": "light"
          }
        }
      ],
      "source": [
        "plot_metric(cnn_3d_model_training_history, 'loss', 'val_loss', 'Total Loss vs Total Validation Loss')"
      ]
    },
    {
      "cell_type": "code",
      "execution_count": 17,
      "metadata": {
        "colab": {
          "base_uri": "https://localhost:8080/",
          "height": 281
        },
        "id": "o1iaaDHBb5i0",
        "outputId": "61e92866-a588-4287-983e-7de1a7fd4a0d"
      },
      "outputs": [
        {
          "output_type": "display_data",
          "data": {
            "text/plain": [
              "<Figure size 432x288 with 1 Axes>"
            ],
            "image/png": "[encoded data removed]"
          },
          "metadata": {
            "needs_background": "light"
          }
        }
      ],
      "source": [
        "plot_metric(cnn_3d_model_training_history, 'accuracy', 'val_accuracy', 'Total Accuracy vs Total Validation Accuracy') "
      ]
    }
  ],
  "metadata": {
    "accelerator": "GPU",
    "colab": {
      "collapsed_sections": [],
      "machine_shape": "hm",
      "name": "3D_CNN.ipynb",
      "provenance": [],
      "authorship_tag": "ABX9TyMX2RKdbay9OQdTzYh/ge3n",
      "include_colab_link": true
    },
    "kernelspec": {
      "display_name": "Python 3",
      "name": "python3"
    },
    "language_info": {
      "name": "python"
    }
  },
  "nbformat": 4,
  "nbformat_minor": 0
}