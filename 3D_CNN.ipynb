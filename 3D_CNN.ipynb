{
  "nbformat": 4,
  "nbformat_minor": 0,
  "metadata": {
    "colab": {
      "name": "3D_CNN.ipynb",
      "provenance": [],
      "collapsed_sections": [],
      "machine_shape": "hm",
      "authorship_tag": "ABX9TyMJO/7CT7JvImqdJ/3gWlMI",
      "include_colab_link": true
    },
    "kernelspec": {
      "name": "python3",
      "display_name": "Python 3"
    },
    "language_info": {
      "name": "python"
    },
    "accelerator": "GPU"
  },
  "cells": [
    {
      "cell_type": "markdown",
      "metadata": {
        "id": "view-in-github",
        "colab_type": "text"
      },
      "source": [
        "<a href=\"https://colab.research.google.com/github/alexsalman/CSE247/blob/main/3D_CNN.ipynb\" target=\"_parent\"><img src=\"https://colab.research.google.com/assets/colab-badge.svg\" alt=\"Open In Colab\"/></a>"
      ]
    },
    {
      "cell_type": "markdown",
      "source": [
        "####**3D Convolutional Neural Network**\n",
        "######*I am using 3D Convolutional Neural Network to extract the temporal and spatial information which are merged slowly throughout the whole network.*"
      ],
      "metadata": {
        "id": "Kk7I8NauauE3"
      }
    },
    {
      "cell_type": "code",
      "execution_count": 1,
      "metadata": {
        "id": "M8ibtd5HKtZk",
        "colab": {
          "base_uri": "https://localhost:8080/"
        },
        "outputId": "58c98a2d-cf2b-4167-f602-e5fa63a0dd3e"
      },
      "outputs": [
        {
          "output_type": "stream",
          "name": "stdout",
          "text": [
            "2.8.0\n"
          ]
        }
      ],
      "source": [
        "# required libraries\n",
        "import os\n",
        "import cv2\n",
        "import math\n",
        "import random\n",
        "import numpy as np\n",
        "import datetime as dt\n",
        "from collections import deque\n",
        "import matplotlib.pyplot as plt\n",
        "from google.colab import drive\n",
        "from sklearn.model_selection import train_test_split\n",
        "import tensorflow as tf\n",
        "from tensorflow import keras\n",
        "from keras.models import Sequential\n",
        "from keras.layers import Dense, Flatten, Conv3D, MaxPooling3D, Dropout, BatchNormalization\n",
        "from PIL import Image\n",
        "%matplotlib inline\n",
        "print(tf.version.VERSION)\n",
        "# https://bleedai.com/human-activity-recognition-using-tensorflow-cnn-lstm/"
      ]
    },
    {
      "cell_type": "code",
      "source": [
        "# set Numpy, Python, and Tensorflow seeds to get consistent results on every execution\n",
        "seed_constant = 27\n",
        "np.random.seed(seed_constant)\n",
        "random.seed(seed_constant)\n",
        "tf.random.set_seed(seed_constant)"
      ],
      "metadata": {
        "id": "iffdFOf1CEAN"
      },
      "execution_count": 2,
      "outputs": []
    },
    {
      "cell_type": "code",
      "source": [
        "# mount dataset from google drive\n",
        "drive.mount('/content/gdrive/', force_remount=True)\n",
        "gdrive_path = '/content/gdrive' + '/My Drive/247/'\n",
        "os.chdir(gdrive_path)\n",
        "os.getcwd()"
      ],
      "metadata": {
        "colab": {
          "base_uri": "https://localhost:8080/",
          "height": 53
        },
        "id": "mcLh22LiOHyn",
        "outputId": "b8c7a64c-5868-48c9-c6d1-79a32364d132"
      },
      "execution_count": 3,
      "outputs": [
        {
          "output_type": "stream",
          "name": "stdout",
          "text": [
            "Mounted at /content/gdrive/\n"
          ]
        },
        {
          "output_type": "execute_result",
          "data": {
            "text/plain": [
              "'/content/gdrive/My Drive/247'"
            ],
            "application/vnd.google.colaboratory.intrinsic+json": {
              "type": "string"
            }
          },
          "metadata": {},
          "execution_count": 3
        }
      ]
    },
    {
      "cell_type": "code",
      "source": [
        "# frame dimention\n",
        "IMAGE_HEIGHT, IMAGE_WIDTH = 128, 128\n",
        "# frame number for each video (depth)\n",
        "SEQUENCE_LENGTH = 16\n",
        "# video dir path\n",
        "DATASET_DIR = gdrive_path + 'Cropped_videos'\n",
        "# labels of classes\n",
        "CLASSES_LIST = ['hemostasis', 'inflammatory', 'proliferative', 'maturation']"
      ],
      "metadata": {
        "id": "oeDK8SzumZ1Q"
      },
      "execution_count": 4,
      "outputs": []
    },
    {
      "cell_type": "code",
      "source": [
        "# image cropping\n",
        "def crop_center_square(frame):\n",
        "    y, x = frame.shape[0:2]\n",
        "    min_dim = min(y, x)\n",
        "    start_x = (x // 2) - (min_dim // 2)\n",
        "    start_y = (y // 2) - (min_dim // 2)\n",
        "    return frame[start_y:start_y+min_dim,start_x:start_x+min_dim]"
      ],
      "metadata": {
        "id": "HUTeIqzpZc9J"
      },
      "execution_count": 5,
      "outputs": []
    },
    {
      "cell_type": "code",
      "source": [
        "# https://medium.com/analytics-vidhya/video-preprocessor-and-augmentation-for-deep-learning-tasks-12dd3fcce868\n",
        "def load_video(path, resize=(128, 128)):\n",
        "    video_reader = cv2.VideoCapture(path)\n",
        "    frames = []\n",
        "    try:\n",
        "        while True:\n",
        "            ret, frame = video_reader.read()\n",
        "            if not ret:\n",
        "                  break\n",
        "            # frame = crop_center_square(frame)\n",
        "            frame = cv2.resize(frame, resize)\n",
        "            frame = frame[:, :, [2, 1, 0]]\n",
        "            black_frame = frame\n",
        "            frames.append(frame)\n",
        "    finally:\n",
        "        video_reader.release()\n",
        "    return np.array(frames) / 255.0"
      ],
      "metadata": {
        "id": "QRDbHG0TZkYJ"
      },
      "execution_count": 6,
      "outputs": []
    },
    {
      "cell_type": "code",
      "source": [
        "def create_dataset(state):\n",
        "    # Declared Empty Lists to store the features, labels and video file path values.\n",
        "    features = []\n",
        "    labels = []\n",
        "    video_files_paths = []\n",
        "    # Iterating through all the classes mentioned in the classes list\n",
        "    for class_index, class_name in enumerate(CLASSES_LIST):\n",
        "        # Display the name of the class whose data is being extracted.\n",
        "        print(f'Extracting Data of Class: {class_name} {state}')\n",
        "        # Get the list of video files present in the specific class name directory.\n",
        "        files_list = os.listdir(os.path.join(DATASET_DIR, class_name))\n",
        "        # Iterate through all the files present in the files list.\n",
        "        for file_name in files_list:\n",
        "            # Get the complete video path.\n",
        "            video_file_path = os.path.join(DATASET_DIR, class_name, file_name)\n",
        "            # create testing data\n",
        "            if state == 'test':\n",
        "                # get the mouse number\n",
        "                mouse_number = int(video_file_path.split(' ')[2].split('_')[1].split('-')[1])\n",
        "                # get the mouse side (L or R)\n",
        "                mouse_side = video_file_path.split(' ')[2].split('_')[1].split('-')[2]\n",
        "                if mouse_number == 4 and mouse_side == 'L':\n",
        "                    frames = load_video(video_file_path)\n",
        "                    features.append(frames)\n",
        "                    labels.append(class_index)\n",
        "                    video_files_paths.append(video_file_path)\n",
        "            # create validation data\n",
        "            elif state == 'valid':\n",
        "                # get the mouse number\n",
        "                mouse_number = int(video_file_path.split(' ')[2].split('_')[1].split('-')[1])\n",
        "                # get the mouse side (L or R)\n",
        "                mouse_side = video_file_path.split(' ')[2].split('_')[1].split('-')[2]\n",
        "                if mouse_number == 4 and mouse_side == 'R':\n",
        "                    frames = load_video(video_file_path)\n",
        "                    features.append(frames)\n",
        "                    labels.append(class_index)\n",
        "                    video_files_paths.append(video_file_path)\n",
        "            # create training data\n",
        "            else:\n",
        "                # get the mouse number\n",
        "                mouse_number = int(video_file_path.split(' ')[2].split('_')[1].split('-')[1])\n",
        "                if mouse_number != 4:\n",
        "                    frames = load_video(video_file_path)\n",
        "                    features.append(frames)\n",
        "                    labels.append(class_index)\n",
        "                    video_files_paths.append(video_file_path)\n",
        "    # Converting the list to numpy arrays\n",
        "    features = np.asarray(features)\n",
        "    # print(features)\n",
        "    labels = np.array(labels)\n",
        "    # Return the frames, class index, and video file path.\n",
        "    return features, labels, video_files_paths"
      ],
      "metadata": {
        "id": "ljUWHW6Jqzu-"
      },
      "execution_count": 7,
      "outputs": []
    },
    {
      "cell_type": "code",
      "source": [
        "# 6 mice for training, 2 mice for test and validation (one wound on each mice for test one for validation)\n",
        "features_train, labels_train, video_files_paths_train = create_dataset('train')\n",
        "features_test, labels_test, video_files_paths_test = create_dataset('test')\n",
        "features_valid, labels_valid, video_files_paths_valid = create_dataset('valid')"
      ],
      "metadata": {
        "colab": {
          "base_uri": "https://localhost:8080/"
        },
        "id": "a8rpanz9rASe",
        "outputId": "c7405c52-0162-478e-d6d4-a050e5efc00e"
      },
      "execution_count": 8,
      "outputs": [
        {
          "output_type": "stream",
          "name": "stdout",
          "text": [
            "Extracting Data of Class: hemostasis train\n",
            "Extracting Data of Class: inflammatory train\n",
            "Extracting Data of Class: proliferative train\n",
            "Extracting Data of Class: maturation train\n",
            "Extracting Data of Class: hemostasis test\n",
            "Extracting Data of Class: inflammatory test\n",
            "Extracting Data of Class: proliferative test\n",
            "Extracting Data of Class: maturation test\n",
            "Extracting Data of Class: hemostasis valid\n",
            "Extracting Data of Class: inflammatory valid\n",
            "Extracting Data of Class: proliferative valid\n",
            "Extracting Data of Class: maturation valid\n"
          ]
        }
      ]
    },
    {
      "cell_type": "code",
      "source": [
        "# one_hot_encoded_labels\n",
        "labels_train = keras.utils.to_categorical(labels_train)\n",
        "labels_test = keras.utils.to_categorical(labels_test)\n",
        "labels_valid = keras.utils.to_categorical(labels_valid)"
      ],
      "metadata": {
        "id": "dtJkK4qTAulC"
      },
      "execution_count": 9,
      "outputs": []
    },
    {
      "cell_type": "code",
      "source": [
        "def create_3D_CNN_model():\n",
        "    # input_layer = keras.layers.Input((128, 128, 16, 3))\n",
        "    sample_shape = (16, 128, 128, 3)\n",
        "\n",
        "    model = Sequential()\n",
        "\n",
        "    model.add(Conv3D(4, 3, activation='relu', kernel_initializer='he_uniform', input_shape=sample_shape))\n",
        "    model.add(BatchNormalization())\n",
        "    model.add(MaxPooling3D(2))\n",
        "\n",
        "    model.add(Conv3D(8, 3, activation='relu', kernel_initializer='he_uniform'))\n",
        "    model.add(BatchNormalization())\n",
        "    model.add(MaxPooling3D(2))\n",
        "\n",
        "    model.add(Flatten())\n",
        "    model.add(Dense(8, activation='relu', kernel_initializer='he_uniform'))\n",
        "    model.add(Dropout(0.2))\n",
        "    model.add(Dense(len(CLASSES_LIST), activation='softmax'))\n",
        "\n",
        "    # Display the models summary.\n",
        "    model.summary()\n",
        "    # Return the constructed 3D_CNN model.\n",
        "    return model"
      ],
      "metadata": {
        "id": "N-9ykP4ig7IW"
      },
      "execution_count": 10,
      "outputs": []
    },
    {
      "cell_type": "code",
      "source": [
        "# Construct the required convlstm model.\n",
        "model = create_3D_CNN_model()\n",
        " \n",
        "# Display the success message. \n",
        "print(\"Model Created Successfully!\")"
      ],
      "metadata": {
        "colab": {
          "base_uri": "https://localhost:8080/"
        },
        "id": "Z4_GxXZBcHlB",
        "outputId": "ee993f37-a613-4d91-feea-69dc1c0c7158"
      },
      "execution_count": 11,
      "outputs": [
        {
          "output_type": "stream",
          "name": "stdout",
          "text": [
            "Model: \"sequential\"\n",
            "_________________________________________________________________\n",
            " Layer (type)                Output Shape              Param #   \n",
            "=================================================================\n",
            " conv3d (Conv3D)             (None, 14, 126, 126, 4)   328       \n",
            "                                                                 \n",
            " batch_normalization (BatchN  (None, 14, 126, 126, 4)  16        \n",
            " ormalization)                                                   \n",
            "                                                                 \n",
            " max_pooling3d (MaxPooling3D  (None, 7, 63, 63, 4)     0         \n",
            " )                                                               \n",
            "                                                                 \n",
            " conv3d_1 (Conv3D)           (None, 5, 61, 61, 8)      872       \n",
            "                                                                 \n",
            " batch_normalization_1 (Batc  (None, 5, 61, 61, 8)     32        \n",
            " hNormalization)                                                 \n",
            "                                                                 \n",
            " max_pooling3d_1 (MaxPooling  (None, 2, 30, 30, 8)     0         \n",
            " 3D)                                                             \n",
            "                                                                 \n",
            " flatten (Flatten)           (None, 14400)             0         \n",
            "                                                                 \n",
            " dense (Dense)               (None, 8)                 115208    \n",
            "                                                                 \n",
            " dropout (Dropout)           (None, 8)                 0         \n",
            "                                                                 \n",
            " dense_1 (Dense)             (None, 4)                 36        \n",
            "                                                                 \n",
            "=================================================================\n",
            "Total params: 116,492\n",
            "Trainable params: 116,468\n",
            "Non-trainable params: 24\n",
            "_________________________________________________________________\n",
            "Model Created Successfully!\n"
          ]
        }
      ]
    },
    {
      "cell_type": "code",
      "source": [
        "# Create an Instance of Early Stopping Callback\n",
        "early_stopping_callback = keras.callbacks.EarlyStopping(monitor = 'val_loss',\n",
        "                                                        patience = 20,\n",
        "                                                        mode = 'min',\n",
        "                                                        restore_best_weights = True)\n",
        "# Compile the model and specify loss function, optimizer and metrics values to the model\n",
        "model.compile(loss = 'categorical_crossentropy',\n",
        "              optimizer = 'Adam',\n",
        "              metrics=['accuracy'])\n",
        "# Start training the model.\n",
        "cnn_3d_model_training_history = model.fit(x = features_train,\n",
        "                                          y = labels_train,\n",
        "                                          epochs=50,\n",
        "                                          batch_size=7,\n",
        "                                          shuffle = True,\n",
        "                                          validation_data = (features_valid, labels_valid),\n",
        "                                          callbacks = [early_stopping_callback])"
      ],
      "metadata": {
        "id": "MwYEkaYLoyb_",
        "colab": {
          "base_uri": "https://localhost:8080/"
        },
        "outputId": "836e3032-a403-479a-d9c7-f44d58c82cbd"
      },
      "execution_count": 12,
      "outputs": [
        {
          "output_type": "stream",
          "name": "stdout",
          "text": [
            "Epoch 1/50\n",
            "231/231 [==============================] - 18s 39ms/step - loss: 1.4905 - accuracy: 0.3973 - val_loss: 1.3102 - val_accuracy: 0.5074\n",
            "Epoch 2/50\n",
            "231/231 [==============================] - 8s 35ms/step - loss: 1.0824 - accuracy: 0.4734 - val_loss: 0.9820 - val_accuracy: 0.5441\n",
            "Epoch 3/50\n",
            "231/231 [==============================] - 8s 36ms/step - loss: 0.9359 - accuracy: 0.5705 - val_loss: 0.9096 - val_accuracy: 0.5919\n",
            "Epoch 4/50\n",
            "231/231 [==============================] - 8s 36ms/step - loss: 0.9014 - accuracy: 0.6027 - val_loss: 1.4647 - val_accuracy: 0.6471\n",
            "Epoch 5/50\n",
            "231/231 [==============================] - 8s 35ms/step - loss: 0.8185 - accuracy: 0.6009 - val_loss: 0.9134 - val_accuracy: 0.5993\n",
            "Epoch 6/50\n",
            "231/231 [==============================] - 8s 35ms/step - loss: 0.8540 - accuracy: 0.6126 - val_loss: 0.7284 - val_accuracy: 0.7390\n",
            "Epoch 7/50\n",
            "231/231 [==============================] - 8s 35ms/step - loss: 0.7519 - accuracy: 0.6665 - val_loss: 0.8574 - val_accuracy: 0.6324\n",
            "Epoch 8/50\n",
            "231/231 [==============================] - 8s 35ms/step - loss: 0.6897 - accuracy: 0.6962 - val_loss: 0.7493 - val_accuracy: 0.6360\n",
            "Epoch 9/50\n",
            "231/231 [==============================] - 8s 35ms/step - loss: 0.7224 - accuracy: 0.6658 - val_loss: 0.8615 - val_accuracy: 0.6801\n",
            "Epoch 10/50\n",
            "231/231 [==============================] - 8s 36ms/step - loss: 0.6305 - accuracy: 0.7172 - val_loss: 0.6457 - val_accuracy: 0.7610\n",
            "Epoch 11/50\n",
            "231/231 [==============================] - 8s 36ms/step - loss: 0.6507 - accuracy: 0.7110 - val_loss: 0.6269 - val_accuracy: 0.7684\n",
            "Epoch 12/50\n",
            "231/231 [==============================] - 8s 35ms/step - loss: 0.6209 - accuracy: 0.7135 - val_loss: 0.8774 - val_accuracy: 0.7279\n",
            "Epoch 13/50\n",
            "231/231 [==============================] - 8s 36ms/step - loss: 0.6009 - accuracy: 0.7314 - val_loss: 1.1139 - val_accuracy: 0.7684\n",
            "Epoch 14/50\n",
            "231/231 [==============================] - 8s 36ms/step - loss: 0.6676 - accuracy: 0.6937 - val_loss: 1.0887 - val_accuracy: 0.7390\n",
            "Epoch 15/50\n",
            "231/231 [==============================] - 8s 36ms/step - loss: 0.7823 - accuracy: 0.7073 - val_loss: 1.0681 - val_accuracy: 0.5000\n",
            "Epoch 16/50\n",
            "231/231 [==============================] - 8s 36ms/step - loss: 0.7771 - accuracy: 0.6584 - val_loss: 0.6246 - val_accuracy: 0.7279\n",
            "Epoch 17/50\n",
            "231/231 [==============================] - 8s 35ms/step - loss: 0.7081 - accuracy: 0.6974 - val_loss: 0.7435 - val_accuracy: 0.7132\n",
            "Epoch 18/50\n",
            "231/231 [==============================] - 8s 35ms/step - loss: 0.6726 - accuracy: 0.7135 - val_loss: 0.7142 - val_accuracy: 0.6801\n",
            "Epoch 19/50\n",
            "231/231 [==============================] - 8s 35ms/step - loss: 0.6098 - accuracy: 0.7246 - val_loss: 0.8915 - val_accuracy: 0.8015\n",
            "Epoch 20/50\n",
            "231/231 [==============================] - 8s 35ms/step - loss: 0.5836 - accuracy: 0.7488 - val_loss: 1.0769 - val_accuracy: 0.6103\n",
            "Epoch 21/50\n",
            "231/231 [==============================] - 8s 35ms/step - loss: 0.6148 - accuracy: 0.7147 - val_loss: 0.9224 - val_accuracy: 0.7978\n",
            "Epoch 22/50\n",
            "231/231 [==============================] - 8s 35ms/step - loss: 0.5565 - accuracy: 0.7506 - val_loss: 1.6266 - val_accuracy: 0.8015\n",
            "Epoch 23/50\n",
            "231/231 [==============================] - 8s 36ms/step - loss: 0.5980 - accuracy: 0.7512 - val_loss: 0.8663 - val_accuracy: 0.6103\n",
            "Epoch 24/50\n",
            "231/231 [==============================] - 8s 36ms/step - loss: 0.6478 - accuracy: 0.7129 - val_loss: 0.8388 - val_accuracy: 0.7684\n",
            "Epoch 25/50\n",
            "231/231 [==============================] - 8s 35ms/step - loss: 0.5564 - accuracy: 0.7543 - val_loss: 0.6079 - val_accuracy: 0.7757\n",
            "Epoch 26/50\n",
            "231/231 [==============================] - 8s 36ms/step - loss: 0.5467 - accuracy: 0.7624 - val_loss: 2.2565 - val_accuracy: 0.7721\n",
            "Epoch 27/50\n",
            "231/231 [==============================] - 8s 35ms/step - loss: 0.5496 - accuracy: 0.7642 - val_loss: 1.2267 - val_accuracy: 0.7279\n",
            "Epoch 28/50\n",
            "231/231 [==============================] - 8s 35ms/step - loss: 0.5469 - accuracy: 0.7611 - val_loss: 0.9538 - val_accuracy: 0.6875\n",
            "Epoch 29/50\n",
            "231/231 [==============================] - 8s 36ms/step - loss: 0.7221 - accuracy: 0.7141 - val_loss: 1.0607 - val_accuracy: 0.6765\n",
            "Epoch 30/50\n",
            "231/231 [==============================] - 8s 35ms/step - loss: 0.5910 - accuracy: 0.7395 - val_loss: 1.3369 - val_accuracy: 0.7684\n",
            "Epoch 31/50\n",
            "231/231 [==============================] - 8s 35ms/step - loss: 0.5299 - accuracy: 0.7649 - val_loss: 1.0195 - val_accuracy: 0.7279\n",
            "Epoch 32/50\n",
            "231/231 [==============================] - 8s 35ms/step - loss: 0.5388 - accuracy: 0.7568 - val_loss: 1.3651 - val_accuracy: 0.7316\n",
            "Epoch 33/50\n",
            "231/231 [==============================] - 8s 35ms/step - loss: 0.5206 - accuracy: 0.7717 - val_loss: 1.1041 - val_accuracy: 0.7463\n",
            "Epoch 34/50\n",
            "231/231 [==============================] - 8s 35ms/step - loss: 0.5106 - accuracy: 0.7679 - val_loss: 1.6008 - val_accuracy: 0.6949\n",
            "Epoch 35/50\n",
            "231/231 [==============================] - 8s 35ms/step - loss: 0.5082 - accuracy: 0.7853 - val_loss: 0.5891 - val_accuracy: 0.7500\n",
            "Epoch 36/50\n",
            "231/231 [==============================] - 8s 35ms/step - loss: 0.5149 - accuracy: 0.7822 - val_loss: 1.8107 - val_accuracy: 0.7978\n",
            "Epoch 37/50\n",
            "231/231 [==============================] - 8s 35ms/step - loss: 0.6421 - accuracy: 0.7519 - val_loss: 0.7090 - val_accuracy: 0.6985\n",
            "Epoch 38/50\n",
            "231/231 [==============================] - 8s 35ms/step - loss: 0.5470 - accuracy: 0.7630 - val_loss: 1.6592 - val_accuracy: 0.7721\n",
            "Epoch 39/50\n",
            "231/231 [==============================] - 8s 35ms/step - loss: 0.5116 - accuracy: 0.7729 - val_loss: 1.7289 - val_accuracy: 0.7868\n",
            "Epoch 40/50\n",
            "231/231 [==============================] - 8s 36ms/step - loss: 0.5117 - accuracy: 0.7772 - val_loss: 1.7400 - val_accuracy: 0.7537\n",
            "Epoch 41/50\n",
            "231/231 [==============================] - 8s 35ms/step - loss: 0.5090 - accuracy: 0.7822 - val_loss: 1.0687 - val_accuracy: 0.7904\n",
            "Epoch 42/50\n",
            "231/231 [==============================] - 8s 35ms/step - loss: 0.4816 - accuracy: 0.8007 - val_loss: 2.5104 - val_accuracy: 0.8088\n",
            "Epoch 43/50\n",
            "231/231 [==============================] - 8s 36ms/step - loss: 0.4766 - accuracy: 0.7970 - val_loss: 3.2295 - val_accuracy: 0.7941\n",
            "Epoch 44/50\n",
            "231/231 [==============================] - 8s 35ms/step - loss: 0.4882 - accuracy: 0.7865 - val_loss: 2.0032 - val_accuracy: 0.7868\n",
            "Epoch 45/50\n",
            "231/231 [==============================] - 8s 35ms/step - loss: 0.4793 - accuracy: 0.7964 - val_loss: 2.1187 - val_accuracy: 0.7831\n",
            "Epoch 46/50\n",
            "231/231 [==============================] - 8s 36ms/step - loss: 0.4776 - accuracy: 0.7970 - val_loss: 1.4751 - val_accuracy: 0.8199\n",
            "Epoch 47/50\n",
            "231/231 [==============================] - 8s 36ms/step - loss: 0.4729 - accuracy: 0.7970 - val_loss: 1.9937 - val_accuracy: 0.7868\n",
            "Epoch 48/50\n",
            "231/231 [==============================] - 8s 36ms/step - loss: 0.5523 - accuracy: 0.7661 - val_loss: 0.8341 - val_accuracy: 0.6949\n",
            "Epoch 49/50\n",
            "231/231 [==============================] - 8s 35ms/step - loss: 0.5004 - accuracy: 0.7933 - val_loss: 1.7576 - val_accuracy: 0.7537\n",
            "Epoch 50/50\n",
            "231/231 [==============================] - 8s 35ms/step - loss: 0.4731 - accuracy: 0.8007 - val_loss: 0.8906 - val_accuracy: 0.7132\n"
          ]
        }
      ]
    },
    {
      "cell_type": "code",
      "source": [
        "model_evaluation_history = model.evaluate(features_test, labels_test)"
      ],
      "metadata": {
        "id": "3vimsgjjbXvL",
        "colab": {
          "base_uri": "https://localhost:8080/"
        },
        "outputId": "58c0f0e0-ffe0-4d69-8e61-2e6a91195dbe"
      },
      "execution_count": 13,
      "outputs": [
        {
          "output_type": "stream",
          "name": "stdout",
          "text": [
            "9/9 [==============================] - 0s 38ms/step - loss: 1.5879 - accuracy: 0.7941\n"
          ]
        }
      ]
    },
    {
      "cell_type": "code",
      "source": [
        "# Get the loss and accuracy from model_evaluation_history.\n",
        "model_evaluation_loss, model_evaluation_accuracy = model_evaluation_history\n",
        " \n",
        "# Define the string date format.\n",
        "# Get the current Date and Time in a DateTime Object.\n",
        "# Convert the DateTime object to string according to the style mentioned in date_time_format string.\n",
        "date_time_format = '%Y_%m_%d__%H_%M_%S'\n",
        "current_date_time_dt = dt.datetime.now()\n",
        "current_date_time_string = dt.datetime.strftime(current_date_time_dt, date_time_format)\n",
        " \n",
        "# Define a useful name for our model to make it easy for us while navigating through multiple saved models.\n",
        "model_file_name = f'3D_CNN_model___Date_Time_{current_date_time_string}___Loss_{model_evaluation_loss}___Accuracy_{model_evaluation_accuracy}.h5'\n",
        " \n",
        "# Change dir\n",
        "gdrive_path = '/content/gdrive' + '/My Drive/247/Saved_models/'\n",
        "os.chdir(gdrive_path)\n",
        "# Create a floder for the model files\n",
        "!mkdir -p cnn_3d_{current_date_time_string}\n",
        "# Save your Model.\n",
        "model.save('3D_CNN' + str(current_date_time_string) + '/' + model_file_name)\n",
        "# Save model weights\n",
        "model.save_weights('3D_CNN' + str(current_date_time_string) + '/' + 'weights')"
      ],
      "metadata": {
        "id": "ivmaK9BlbnRQ"
      },
      "execution_count": 14,
      "outputs": []
    },
    {
      "cell_type": "code",
      "source": [
        "def plot_metric(model_training_history, metric_name_1, metric_name_2, plot_name):\n",
        "    '''\n",
        "    This function will plot the metrics passed to it in a graph.\n",
        "    Args:\n",
        "        model_training_history: A history object containing a record of training and validation \n",
        "                                loss values and metrics values at successive epochs\n",
        "        metric_name_1:          The name of the first metric that needs to be plotted in the graph.\n",
        "        metric_name_2:          The name of the second metric that needs to be plotted in the graph.\n",
        "        plot_name:              The title of the graph.\n",
        "    '''\n",
        "    \n",
        "    # Get metric values using metric names as identifiers.\n",
        "    metric_value_1 = model_training_history.history[metric_name_1]\n",
        "    metric_value_2 = model_training_history.history[metric_name_2]\n",
        "    \n",
        "    # Construct a range object which will be used as x-axis (horizontal plane) of the graph.\n",
        "    epochs = range(len(metric_value_1))\n",
        "\n",
        "    # Plot the Graph.\n",
        "    plt.plot(epochs, metric_value_1, 'blue', label = metric_name_1)\n",
        "    plt.plot(epochs, metric_value_2, 'red', label = metric_name_2)\n",
        "\n",
        "    # Add title to the plot.\n",
        "    plt.title(str(plot_name))\n",
        "\n",
        "    # Add legend to the plot.\n",
        "    plt.legend()"
      ],
      "metadata": {
        "id": "OwU8TwPrbsKB"
      },
      "execution_count": 15,
      "outputs": []
    },
    {
      "cell_type": "code",
      "source": [
        "plot_metric(cnn_3d_model_training_history, 'loss', 'val_loss', 'Total Loss vs Total Validation Loss')"
      ],
      "metadata": {
        "id": "cvKY05ncbwof",
        "colab": {
          "base_uri": "https://localhost:8080/",
          "height": 281
        },
        "outputId": "6899b6b3-9cc7-436a-ec91-3b0c680847d8"
      },
      "execution_count": 16,
      "outputs": [
        {
          "output_type": "display_data",
          "data": {
            "text/plain": [
              "<Figure size 432x288 with 1 Axes>"
            ],
            "image/png": "[encoded data removed]"
          },
          "metadata": {
            "needs_background": "light"
          }
        }
      ]
    },
    {
      "cell_type": "code",
      "source": [
        "plot_metric(cnn_3d_model_training_history, 'accuracy', 'val_accuracy', 'Total Accuracy vs Total Validation Accuracy') "
      ],
      "metadata": {
        "id": "o1iaaDHBb5i0",
        "colab": {
          "base_uri": "https://localhost:8080/",
          "height": 281
        },
        "outputId": "849f0c31-fe4a-4bbc-a040-f59229bd986c"
      },
      "execution_count": 17,
      "outputs": [
        {
          "output_type": "display_data",
          "data": {
            "text/plain": [
              "<Figure size 432x288 with 1 Axes>"
            ],
            "image/png": "[encoded data removed]"
          },
          "metadata": {
            "needs_background": "light"
          }
        }
      ]
    }
  ]
}