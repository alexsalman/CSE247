{
  "nbformat": 4,
  "nbformat_minor": 0,
  "metadata": {
    "colab": {
      "name": "3D_CNN.ipynb",
      "provenance": [],
      "collapsed_sections": [],
      "machine_shape": "hm",
      "authorship_tag": "ABX9TyMIjpxJyIgvqTDYe7dSdnjM",
      "include_colab_link": true
    },
    "kernelspec": {
      "name": "python3",
      "display_name": "Python 3"
    },
    "language_info": {
      "name": "python"
    },
    "accelerator": "GPU"
  },
  "cells": [
    {
      "cell_type": "markdown",
      "metadata": {
        "id": "view-in-github",
        "colab_type": "text"
      },
      "source": [
        "<a href=\"https://colab.research.google.com/github/alexsalman/CSE247/blob/main/3D_CNN.ipynb\" target=\"_parent\"><img src=\"https://colab.research.google.com/assets/colab-badge.svg\" alt=\"Open In Colab\"/></a>"
      ]
    },
    {
      "cell_type": "markdown",
      "source": [
        "####**3D Convolutional Neural Network**\n",
        "######*I am using 3D Convolutional Neural Network to extract the temporal and spatial information which are merged slowly throughout the whole network.*"
      ],
      "metadata": {
        "id": "Kk7I8NauauE3"
      }
    },
    {
      "cell_type": "code",
      "execution_count": 1,
      "metadata": {
        "id": "M8ibtd5HKtZk",
        "colab": {
          "base_uri": "https://localhost:8080/"
        },
        "outputId": "32c9dd7e-ff66-4cb1-ab45-c7af7c6857d2"
      },
      "outputs": [
        {
          "output_type": "stream",
          "name": "stdout",
          "text": [
            "2.8.0\n"
          ]
        }
      ],
      "source": [
        "# required libraries\n",
        "import os\n",
        "import cv2\n",
        "import math\n",
        "import random\n",
        "import numpy as np\n",
        "import datetime as dt\n",
        "from collections import deque\n",
        "import matplotlib.pyplot as plt\n",
        "from google.colab import drive\n",
        "from sklearn.model_selection import train_test_split\n",
        "import tensorflow as tf\n",
        "from tensorflow import keras\n",
        "from keras.models import Sequential\n",
        "from keras.layers import Dense, Flatten, Conv3D, MaxPooling3D, Dropout, BatchNormalization\n",
        "from PIL import Image\n",
        "%matplotlib inline\n",
        "print(tf.version.VERSION)\n",
        "# https://bleedai.com/human-activity-recognition-using-tensorflow-cnn-lstm/"
      ]
    },
    {
      "cell_type": "code",
      "source": [
        "# set Numpy, Python, and Tensorflow seeds to get consistent results on every execution\n",
        "seed_constant = 27\n",
        "np.random.seed(seed_constant)\n",
        "random.seed(seed_constant)\n",
        "tf.random.set_seed(seed_constant)"
      ],
      "metadata": {
        "id": "iffdFOf1CEAN"
      },
      "execution_count": 2,
      "outputs": []
    },
    {
      "cell_type": "code",
      "source": [
        "# mount dataset from google drive\n",
        "drive.mount('/content/gdrive/', force_remount=True)\n",
        "gdrive_path = '/content/gdrive' + '/My Drive/247/'\n",
        "os.chdir(gdrive_path)\n",
        "os.getcwd()"
      ],
      "metadata": {
        "colab": {
          "base_uri": "https://localhost:8080/",
          "height": 53
        },
        "id": "mcLh22LiOHyn",
        "outputId": "64a00a27-816c-4a2d-bb86-f9bafa34954e"
      },
      "execution_count": 3,
      "outputs": [
        {
          "output_type": "stream",
          "name": "stdout",
          "text": [
            "Mounted at /content/gdrive/\n"
          ]
        },
        {
          "output_type": "execute_result",
          "data": {
            "text/plain": [
              "'/content/gdrive/My Drive/247'"
            ],
            "application/vnd.google.colaboratory.intrinsic+json": {
              "type": "string"
            }
          },
          "metadata": {},
          "execution_count": 3
        }
      ]
    },
    {
      "cell_type": "code",
      "source": [
        "# frame dimention\n",
        "IMAGE_HEIGHT, IMAGE_WIDTH = 128, 128\n",
        "# frame number for each video (depth)\n",
        "SEQUENCE_LENGTH = 16\n",
        "# video dir path\n",
        "DATASET_DIR = gdrive_path + 'Cropped_videos'\n",
        "# labels of classes\n",
        "CLASSES_LIST = ['hemostasis', 'inflammatory', 'proliferative', 'maturation']"
      ],
      "metadata": {
        "id": "oeDK8SzumZ1Q"
      },
      "execution_count": 4,
      "outputs": []
    },
    {
      "cell_type": "code",
      "source": [
        "# image cropping\n",
        "def crop_center_square(frame):\n",
        "    y, x = frame.shape[0:2]\n",
        "    min_dim = min(y, x)\n",
        "    start_x = (x // 2) - (min_dim // 2)\n",
        "    start_y = (y // 2) - (min_dim // 2)\n",
        "    return frame[start_y:start_y+min_dim,start_x:start_x+min_dim]"
      ],
      "metadata": {
        "id": "HUTeIqzpZc9J"
      },
      "execution_count": 5,
      "outputs": []
    },
    {
      "cell_type": "code",
      "source": [
        "# https://medium.com/analytics-vidhya/video-preprocessor-and-augmentation-for-deep-learning-tasks-12dd3fcce868\n",
        "def load_video(path, resize=(128, 128)):\n",
        "    video_reader = cv2.VideoCapture(path)\n",
        "    frames = []\n",
        "    try:\n",
        "        while True:\n",
        "            ret, frame = video_reader.read()\n",
        "            if not ret:\n",
        "                  break\n",
        "            frame = crop_center_square(frame)\n",
        "            frame = cv2.resize(frame, resize)\n",
        "            frame = frame[:, :, [2, 1, 0]]\n",
        "            black_frame = frame\n",
        "            frames.append(frame)\n",
        "    finally:\n",
        "        video_reader.release()\n",
        "    return np.array(frames) / 255.0"
      ],
      "metadata": {
        "id": "QRDbHG0TZkYJ"
      },
      "execution_count": 6,
      "outputs": []
    },
    {
      "cell_type": "code",
      "source": [
        "def create_dataset(state):\n",
        "    # Declared Empty Lists to store the features, labels and video file path values.\n",
        "    features = []\n",
        "    labels = []\n",
        "    video_files_paths = []\n",
        "    # Iterating through all the classes mentioned in the classes list\n",
        "    for class_index, class_name in enumerate(CLASSES_LIST):\n",
        "        # Display the name of the class whose data is being extracted.\n",
        "        print(f'Extracting Data of Class: {class_name} {state}')\n",
        "        # Get the list of video files present in the specific class name directory.\n",
        "        files_list = os.listdir(os.path.join(DATASET_DIR, class_name))\n",
        "        # Iterate through all the files present in the files list.\n",
        "        for file_name in files_list:\n",
        "            # Get the complete video path.\n",
        "            video_file_path = os.path.join(DATASET_DIR, class_name, file_name)\n",
        "            # create testing data\n",
        "            if state == 'test':\n",
        "                # get the mouse number\n",
        "                mouse_number = int(video_file_path.split(' ')[2].split('_')[1].split('-')[1])\n",
        "                # get the mouse side (L or R)\n",
        "                mouse_side = video_file_path.split(' ')[2].split('_')[1].split('-')[2]\n",
        "                if mouse_number == 4 and mouse_side == 'L':\n",
        "                    frames = load_video(video_file_path)\n",
        "                    features.append(frames)\n",
        "                    labels.append(class_index)\n",
        "                    video_files_paths.append(video_file_path)\n",
        "            # create validation data\n",
        "            elif state == 'valid':\n",
        "                # get the mouse number\n",
        "                mouse_number = int(video_file_path.split(' ')[2].split('_')[1].split('-')[1])\n",
        "                # get the mouse side (L or R)\n",
        "                mouse_side = video_file_path.split(' ')[2].split('_')[1].split('-')[2]\n",
        "                if mouse_number == 4 and mouse_side == 'R':\n",
        "                    frames = load_video(video_file_path)\n",
        "                    features.append(frames)\n",
        "                    labels.append(class_index)\n",
        "                    video_files_paths.append(video_file_path)\n",
        "            # create training data\n",
        "            else:\n",
        "                # get the mouse number\n",
        "                mouse_number = int(video_file_path.split(' ')[2].split('_')[1].split('-')[1])\n",
        "                if mouse_number != 4:\n",
        "                    frames = load_video(video_file_path)\n",
        "                    features.append(frames)\n",
        "                    labels.append(class_index)\n",
        "                    video_files_paths.append(video_file_path)\n",
        "    # Converting the list to numpy arrays\n",
        "    features = np.asarray(features)\n",
        "    # print(features)\n",
        "    labels = np.array(labels)\n",
        "    # Return the frames, class index, and video file path.\n",
        "    return features, labels, video_files_paths"
      ],
      "metadata": {
        "id": "ljUWHW6Jqzu-"
      },
      "execution_count": 7,
      "outputs": []
    },
    {
      "cell_type": "code",
      "source": [
        "# 6 mice for training, 2 mice for test and validation (one wound on each mice for test one for validation)\n",
        "features_train, labels_train, video_files_paths_train = create_dataset('train')\n",
        "features_test, labels_test, video_files_paths_test = create_dataset('test')\n",
        "features_valid, labels_valid, video_files_paths_valid = create_dataset('valid')"
      ],
      "metadata": {
        "colab": {
          "base_uri": "https://localhost:8080/"
        },
        "id": "a8rpanz9rASe",
        "outputId": "55ecda1c-c846-4ef5-cdac-d0d179c7bbc5"
      },
      "execution_count": 8,
      "outputs": [
        {
          "output_type": "stream",
          "name": "stdout",
          "text": [
            "Extracting Data of Class: hemostasis train\n",
            "Extracting Data of Class: inflammatory train\n",
            "Extracting Data of Class: proliferative train\n",
            "Extracting Data of Class: maturation train\n",
            "Extracting Data of Class: hemostasis test\n",
            "Extracting Data of Class: inflammatory test\n",
            "Extracting Data of Class: proliferative test\n",
            "Extracting Data of Class: maturation test\n",
            "Extracting Data of Class: hemostasis valid\n",
            "Extracting Data of Class: inflammatory valid\n",
            "Extracting Data of Class: proliferative valid\n",
            "Extracting Data of Class: maturation valid\n"
          ]
        }
      ]
    },
    {
      "cell_type": "code",
      "source": [
        "# one_hot_encoded_labels\n",
        "labels_train = keras.utils.to_categorical(labels_train)\n",
        "labels_test = keras.utils.to_categorical(labels_test)\n",
        "labels_valid = keras.utils.to_categorical(labels_valid)"
      ],
      "metadata": {
        "id": "dtJkK4qTAulC"
      },
      "execution_count": 9,
      "outputs": []
    },
    {
      "cell_type": "code",
      "source": [
        "def create_3D_CNN_model():\n",
        "    # input_layer = keras.layers.Input((128, 128, 16, 3))\n",
        "    sample_shape = (16, 128, 128, 3)\n",
        "\n",
        "    model = Sequential()\n",
        "    model.add(Conv3D(4, 3, activation='relu', kernel_initializer='he_uniform', input_shape=sample_shape))\n",
        "    model.add(Conv3D(8, 3, activation='relu', kernel_initializer='he_uniform'))\n",
        "    model.add(MaxPooling3D(2))\n",
        "    model.add(BatchNormalization())\n",
        "\n",
        "    model.add(Conv3D(16, 3, activation='relu', kernel_initializer='he_uniform'))\n",
        "    model.add(Conv3D(32, 3, activation='relu', kernel_initializer='he_uniform'))\n",
        "\n",
        "    model.add(MaxPooling3D(2))\n",
        "    model.add(BatchNormalization())\n",
        "\n",
        "    model.add(Flatten())\n",
        "    model.add(Dense(32, activation='relu', kernel_initializer='he_uniform'))\n",
        "    model.add(Dropout(0.2))\n",
        "    model.add(Dense(len(CLASSES_LIST), activation='softmax'))\n",
        "    ## convolutional layers\n",
        "    # conv_layer1 = keras.layers.Conv3D(filters=8, kernel_size=(3, 3, 3), activation='relu')(input_layer)\n",
        "    # conv_layer2 = keras.layers.Conv3D(filters=16, kernel_size=(3, 3, 3), activation='relu')(conv_layer1)\n",
        "\n",
        "    # ## add max pooling to obtain the most imformatic features\n",
        "    # pooling_layer1 = keras.layers.MaxPool3D(pool_size=(2, 2, 2))(conv_layer2)\n",
        "    # pooling_layer2 = keras.layers.BatchNormalization()(pooling_layer1)\n",
        "\n",
        "    # conv_layer3 = keras.layers.Conv3D(filters=32, kernel_size=(3, 3, 3), activation='relu')(pooling_layer1)\n",
        "    # conv_layer4 = keras.layers.Conv3D(filters=64, kernel_size=(3, 3, 3), activation='relu')(conv_layer3)\n",
        "    # pooling_layer2 = keras.layers.MaxPool3D(pool_size=(2, 2, 2))(conv_layer4)\n",
        "\n",
        "    # ## perform batch normalization on the convolution outputs before feeding it to MLP architecture\n",
        "    # pooling_layer2 = keras.layers.BatchNormalization()(pooling_layer2)\n",
        "    # flatten_layer = keras.layers.Flatten()(pooling_layer2)\n",
        "\n",
        "    # ## create an MLP architecture with dense layers : 4096 -> 512 -> 10\n",
        "    # ## add dropouts to avoid overfitting / perform regularization\n",
        "    # # dense_layer1 = keras.layers.Dense(units=2048, activation='relu')(flatten_layer)\n",
        "    # # dense_layer1 = keras.layers.Dropout(0.4)(dense_layer1)\n",
        "    # dense_layer2 = keras.layers.Dense(units=32, activation='relu')(flatten_layer)\n",
        "    # dense_layer2 = keras.layers.Dropout(0.2)(dense_layer2)\n",
        "    # output_layer = keras.layers.Dense(units=4, activation='softmax')(dense_layer2)\n",
        "\n",
        "    # ## define the model with input layer and output layer\n",
        "    # model = keras.models.Model(inputs=input_layer, outputs=output_layer)\n",
        "    # Display the models summary.\n",
        "    model.summary()\n",
        "    # Return the constructed 3D_CNN model.\n",
        "    return model\n",
        "    # input layer\n",
        "    # convolutional layers\n",
        "    # add max pooling to obtain the most imformatic features\n",
        "    # model = keras.models.Sequential()\n",
        "    # input_layer = keras.layers.Input((128, 128, 16, 3))\n",
        "\n",
        "    # conv_layer1 = keras.layers.Conv3D(filters=32, kernel_size=3, activation='relu', input_shape= input_layer)\n",
        "    # pooling_layer1 = keras.layers.MaxPool3D(pool_size=(3,3,3))(input_layer)\n",
        "    # bn_layer1 = keras.layers.BatchNormalization()(pooling_layer1)\n",
        "    \n",
        "    # conv_layer2 = keras.layers.Conv3D(filters=64, kernel_size=3, activation='relu')(bn_layer1)    \n",
        "    # pooling_layer2 = keras.layers.MaxPool3D(pool_size=3)(conv_layer2)\n",
        "    # bn_layer2 = keras.layers.BatchNormalization()(pooling_layer2)\n",
        "\n",
        "    # # conv_layer3 = keras.layers.Conv3D(filters=32, kernel_size=3, activation='relu')(bn_layer2)\n",
        "    # # pooling_layer3 = keras.layers.MaxPool3D(pool_size=3)(conv_layer3)\n",
        "    # # bn_layer3 = keras.layers.BatchNormalization()(pooling_layer3)\n",
        "\n",
        "    # # conv_layer4 = keras.layers.Conv3D(filters=64, kernel_size=3, activation='relu')(bn_layer3)\n",
        "    # # pooling_layer4 = keras.layers.MaxPool3D(pool_size=3)(conv_layer4)\n",
        "    # # bn_layer4 = keras.layers.BatchNormalization()(pooling_layer4)\n",
        "\n",
        "    # flatten_layer = keras.layers.Flatten()(bn_layer2)\n",
        "\n",
        "    # # add dropouts to avoid overfitting / perform regularization\n",
        "    # # dense_layer1 = keras.layers.Dense(units=2048, activation='relu')(flatten_layer)\n",
        "    # # dense_layer1 = keras.layers.Dropout(0.4)(dense_layer1)\n",
        "\n",
        "\n",
        "    # dense_layer1 = keras.layers.Dense(units=64, activation='relu')(flatten_layer)\n",
        "    # dense_layer2 = keras.layers.Dropout(0.2)(dense_layer1)\n",
        "    # output_layer = keras.layers.Dense(units=4, activation='softmax')(dense_layer2)\n",
        "\n",
        "    # ## define the model with input layer and output layer\n",
        "    # model = keras.models.Model(inputs=input_layer, outputs=output_layer)\n",
        "    # # Display the models summary.\n",
        "    # model.summary()\n",
        "    # # Return the constructed 3D_CNN model.\n",
        "    # return model"
      ],
      "metadata": {
        "id": "N-9ykP4ig7IW"
      },
      "execution_count": 10,
      "outputs": []
    },
    {
      "cell_type": "code",
      "source": [
        "# Construct the required convlstm model.\n",
        "model = create_3D_CNN_model()\n",
        " \n",
        "# Display the success message. \n",
        "print(\"Model Created Successfully!\")"
      ],
      "metadata": {
        "colab": {
          "base_uri": "https://localhost:8080/"
        },
        "id": "Z4_GxXZBcHlB",
        "outputId": "44b0de8a-6201-4c3f-bb77-cf7b1b0afd4b"
      },
      "execution_count": 11,
      "outputs": [
        {
          "output_type": "stream",
          "name": "stdout",
          "text": [
            "Model: \"sequential\"\n",
            "_________________________________________________________________\n",
            " Layer (type)                Output Shape              Param #   \n",
            "=================================================================\n",
            " conv3d (Conv3D)             (None, 14, 126, 126, 4)   328       \n",
            "                                                                 \n",
            " conv3d_1 (Conv3D)           (None, 12, 124, 124, 8)   872       \n",
            "                                                                 \n",
            " max_pooling3d (MaxPooling3D  (None, 6, 62, 62, 8)     0         \n",
            " )                                                               \n",
            "                                                                 \n",
            " batch_normalization (BatchN  (None, 6, 62, 62, 8)     32        \n",
            " ormalization)                                                   \n",
            "                                                                 \n",
            " conv3d_2 (Conv3D)           (None, 4, 60, 60, 16)     3472      \n",
            "                                                                 \n",
            " conv3d_3 (Conv3D)           (None, 2, 58, 58, 32)     13856     \n",
            "                                                                 \n",
            " max_pooling3d_1 (MaxPooling  (None, 1, 29, 29, 32)    0         \n",
            " 3D)                                                             \n",
            "                                                                 \n",
            " batch_normalization_1 (Batc  (None, 1, 29, 29, 32)    128       \n",
            " hNormalization)                                                 \n",
            "                                                                 \n",
            " flatten (Flatten)           (None, 26912)             0         \n",
            "                                                                 \n",
            " dense (Dense)               (None, 32)                861216    \n",
            "                                                                 \n",
            " dropout (Dropout)           (None, 32)                0         \n",
            "                                                                 \n",
            " dense_1 (Dense)             (None, 4)                 132       \n",
            "                                                                 \n",
            "=================================================================\n",
            "Total params: 880,036\n",
            "Trainable params: 879,956\n",
            "Non-trainable params: 80\n",
            "_________________________________________________________________\n",
            "Model Created Successfully!\n"
          ]
        }
      ]
    },
    {
      "cell_type": "code",
      "source": [
        "# Create an Instance of Early Stopping Callback\n",
        "early_stopping_callback = keras.callbacks.EarlyStopping(monitor = 'val_loss',\n",
        "                                                        patience = 20,\n",
        "                                                        mode = 'min',\n",
        "                                                        restore_best_weights = True)\n",
        "# Compile the model and specify loss function, optimizer and metrics values to the model\n",
        "model.compile(loss = 'categorical_crossentropy',\n",
        "              optimizer = 'Adam',\n",
        "              metrics=['accuracy'])\n",
        "# Start training the model.\n",
        "cnn_3d_model_training_history = model.fit(x = features_train,\n",
        "                                          y = labels_train,\n",
        "                                          epochs=7,\n",
        "                                          batch_size=4,\n",
        "                                          shuffle = True,\n",
        "                                          validation_data = (features_valid, labels_valid),\n",
        "                                          callbacks = [early_stopping_callback])"
      ],
      "metadata": {
        "id": "MwYEkaYLoyb_",
        "colab": {
          "base_uri": "https://localhost:8080/"
        },
        "outputId": "a4cb9296-9ab8-400d-e96b-99aa4cc5900c"
      },
      "execution_count": 12,
      "outputs": [
        {
          "output_type": "stream",
          "name": "stdout",
          "text": [
            "Epoch 1/7\n",
            "404/404 [==============================] - 16s 35ms/step - loss: 4.6427 - accuracy: 0.6355 - val_loss: 1.2754 - val_accuracy: 0.4375\n",
            "Epoch 2/7\n",
            "404/404 [==============================] - 13s 33ms/step - loss: 0.7050 - accuracy: 0.7754 - val_loss: 1.0237 - val_accuracy: 0.7059\n",
            "Epoch 3/7\n",
            "404/404 [==============================] - 13s 33ms/step - loss: 0.6903 - accuracy: 0.8094 - val_loss: 0.8694 - val_accuracy: 0.6838\n",
            "Epoch 4/7\n",
            "404/404 [==============================] - 13s 33ms/step - loss: 0.3302 - accuracy: 0.8744 - val_loss: 1.2919 - val_accuracy: 0.6103\n",
            "Epoch 5/7\n",
            "404/404 [==============================] - 13s 33ms/step - loss: 0.4692 - accuracy: 0.8725 - val_loss: 1.2234 - val_accuracy: 0.6838\n",
            "Epoch 6/7\n",
            "404/404 [==============================] - 13s 33ms/step - loss: 0.4699 - accuracy: 0.8682 - val_loss: 1.1017 - val_accuracy: 0.7059\n",
            "Epoch 7/7\n",
            "404/404 [==============================] - 13s 33ms/step - loss: 0.2983 - accuracy: 0.9127 - val_loss: 1.2281 - val_accuracy: 0.7279\n"
          ]
        }
      ]
    },
    {
      "cell_type": "code",
      "source": [
        "model_evaluation_history = model.evaluate(features_test, labels_test)"
      ],
      "metadata": {
        "id": "3vimsgjjbXvL",
        "colab": {
          "base_uri": "https://localhost:8080/"
        },
        "outputId": "a4940a7c-bcb0-4947-a47d-a732f326b8e6"
      },
      "execution_count": 13,
      "outputs": [
        {
          "output_type": "stream",
          "name": "stdout",
          "text": [
            "9/9 [==============================] - 1s 62ms/step - loss: 0.6865 - accuracy: 0.7978\n"
          ]
        }
      ]
    },
    {
      "cell_type": "code",
      "source": [
        "# Get the loss and accuracy from model_evaluation_history.\n",
        "model_evaluation_loss, model_evaluation_accuracy = model_evaluation_history\n",
        " \n",
        "# Define the string date format.\n",
        "# Get the current Date and Time in a DateTime Object.\n",
        "# Convert the DateTime object to string according to the style mentioned in date_time_format string.\n",
        "date_time_format = '%Y_%m_%d__%H_%M_%S'\n",
        "current_date_time_dt = dt.datetime.now()\n",
        "current_date_time_string = dt.datetime.strftime(current_date_time_dt, date_time_format)\n",
        " \n",
        "# Define a useful name for our model to make it easy for us while navigating through multiple saved models.\n",
        "model_file_name = f'3D_CNN_model___Date_Time_{current_date_time_string}___Loss_{model_evaluation_loss}___Accuracy_{model_evaluation_accuracy}.h5'\n",
        " \n",
        "# Change dir\n",
        "gdrive_path = '/content/gdrive' + '/My Drive/247/Saved_models/'\n",
        "os.chdir(gdrive_path)\n",
        "# Create a floder for the model files\n",
        "!mkdir -p cnn_3d_{current_date_time_string}\n",
        "# Save your Model.\n",
        "model.save('3D_CNN' + str(current_date_time_string) + '/' + model_file_name)\n",
        "# Save model weights\n",
        "model.save_weights('3D_CNN' + str(current_date_time_string) + '/' + 'weights')"
      ],
      "metadata": {
        "id": "ivmaK9BlbnRQ"
      },
      "execution_count": 14,
      "outputs": []
    },
    {
      "cell_type": "code",
      "source": [
        "def plot_metric(model_training_history, metric_name_1, metric_name_2, plot_name):\n",
        "    '''\n",
        "    This function will plot the metrics passed to it in a graph.\n",
        "    Args:\n",
        "        model_training_history: A history object containing a record of training and validation \n",
        "                                loss values and metrics values at successive epochs\n",
        "        metric_name_1:          The name of the first metric that needs to be plotted in the graph.\n",
        "        metric_name_2:          The name of the second metric that needs to be plotted in the graph.\n",
        "        plot_name:              The title of the graph.\n",
        "    '''\n",
        "    \n",
        "    # Get metric values using metric names as identifiers.\n",
        "    metric_value_1 = model_training_history.history[metric_name_1]\n",
        "    metric_value_2 = model_training_history.history[metric_name_2]\n",
        "    \n",
        "    # Construct a range object which will be used as x-axis (horizontal plane) of the graph.\n",
        "    epochs = range(len(metric_value_1))\n",
        "\n",
        "    # Plot the Graph.\n",
        "    plt.plot(epochs, metric_value_1, 'blue', label = metric_name_1)\n",
        "    plt.plot(epochs, metric_value_2, 'red', label = metric_name_2)\n",
        "\n",
        "    # Add title to the plot.\n",
        "    plt.title(str(plot_name))\n",
        "\n",
        "    # Add legend to the plot.\n",
        "    plt.legend()"
      ],
      "metadata": {
        "id": "OwU8TwPrbsKB"
      },
      "execution_count": 15,
      "outputs": []
    },
    {
      "cell_type": "code",
      "source": [
        "plot_metric(cnn_3d_model_training_history, 'loss', 'val_loss', 'Total Loss vs Total Validation Loss')"
      ],
      "metadata": {
        "id": "cvKY05ncbwof",
        "colab": {
          "base_uri": "https://localhost:8080/",
          "height": 281
        },
        "outputId": "28a01744-535c-49ef-ab76-4b82285d01d9"
      },
      "execution_count": 16,
      "outputs": [
        {
          "output_type": "display_data",
          "data": {
            "text/plain": [
              "<Figure size 432x288 with 1 Axes>"
            ],
            "image/png": "[encoded data removed]"
          },
          "metadata": {
            "needs_background": "light"
          }
        }
      ]
    },
    {
      "cell_type": "code",
      "source": [
        "plot_metric(cnn_3d_model_training_history, 'accuracy', 'val_accuracy', 'Total Accuracy vs Total Validation Accuracy') "
      ],
      "metadata": {
        "id": "o1iaaDHBb5i0",
        "colab": {
          "base_uri": "https://localhost:8080/",
          "height": 281
        },
        "outputId": "b64fc4c8-aec5-4d31-99b4-41f07e6b303a"
      },
      "execution_count": 17,
      "outputs": [
        {
          "output_type": "display_data",
          "data": {
            "text/plain": [
              "<Figure size 432x288 with 1 Axes>"
            ],
            "image/png": "[encoded data removed]"
          },
          "metadata": {
            "needs_background": "light"
          }
        }
      ]
    }
  ]
}