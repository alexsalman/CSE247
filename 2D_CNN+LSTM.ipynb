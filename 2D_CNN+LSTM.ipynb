{
  "cells": [
    {
      "cell_type": "markdown",
      "metadata": {
        "id": "view-in-github",
        "colab_type": "text"
      },
      "source": [
        "<a href=\"https://colab.research.google.com/github/alexsalman/CSE247/blob/main/2D_CNN%2BLSTM.ipynb\" target=\"_parent\"><img src=\"https://colab.research.google.com/assets/colab-badge.svg\" alt=\"Open In Colab\"/></a>"
      ]
    },
    {
      "cell_type": "markdown",
      "metadata": {
        "id": "Fk8TLrPiv-ab"
      },
      "source": [
        "####**Convolutional Neural Network + Long Short Term Memory**\n",
        "######*I am using a Convolution Neural Network (CNN) + Long Short Term Memory (LSTM) Network to extract general representation while utilizing the Spatial-temporal aspect of the videos.*"
      ]
    },
    {
      "cell_type": "code",
      "execution_count": 1,
      "metadata": {
        "colab": {
          "base_uri": "https://localhost:8080/"
        },
        "id": "M8ibtd5HKtZk",
        "outputId": "51cadba1-3235-4787-8560-d5a1cecfaebb"
      },
      "outputs": [
        {
          "output_type": "stream",
          "name": "stdout",
          "text": [
            "2.8.0\n"
          ]
        }
      ],
      "source": [
        "# required libraries\n",
        "import os\n",
        "import cv2\n",
        "import math\n",
        "import random\n",
        "import numpy as np\n",
        "import datetime as dt\n",
        "from collections import deque\n",
        "import matplotlib.pyplot as plt\n",
        "from google.colab import drive\n",
        "from sklearn.model_selection import train_test_split\n",
        "import tensorflow as tf\n",
        "from tensorflow import keras\n",
        "from keras.models import Sequential\n",
        "from keras.layers import Dense, Flatten, Conv3D, MaxPooling3D, Dropout, BatchNormalization, ConvLSTM2D\n",
        "from keras.layers import Reshape, Conv2D, TimeDistributed, MaxPooling2D, Activation, GlobalAveragePooling2D\n",
        "from keras.layers.recurrent import LSTM\n",
        "from keras import regularizers\n",
        "from PIL import Image\n",
        "%matplotlib inline\n",
        "print(tf.version.VERSION)\n",
        "# https://bleedai.com/human-activity-recognition-using-tensorflow-cnn-lstm/"
      ]
    },
    {
      "cell_type": "code",
      "execution_count": 2,
      "metadata": {
        "id": "iffdFOf1CEAN"
      },
      "outputs": [],
      "source": [
        "# set Numpy, Python, and Tensorflow seeds to get consistent results on every execution\n",
        "seed_constant = 27\n",
        "np.random.seed(seed_constant)\n",
        "random.seed(seed_constant)\n",
        "tf.random.set_seed(seed_constant)"
      ]
    },
    {
      "cell_type": "code",
      "execution_count": 3,
      "metadata": {
        "colab": {
          "base_uri": "https://localhost:8080/",
          "height": 53
        },
        "id": "mcLh22LiOHyn",
        "outputId": "b068b73b-1d38-4e16-ea56-1e3d3b0040cd"
      },
      "outputs": [
        {
          "output_type": "stream",
          "name": "stdout",
          "text": [
            "Mounted at /content/gdrive/\n"
          ]
        },
        {
          "output_type": "execute_result",
          "data": {
            "text/plain": [
              "'/content/gdrive/My Drive/247'"
            ],
            "application/vnd.google.colaboratory.intrinsic+json": {
              "type": "string"
            }
          },
          "metadata": {},
          "execution_count": 3
        }
      ],
      "source": [
        "# mount dataset from google drive\n",
        "drive.mount('/content/gdrive/', force_remount=True)\n",
        "gdrive_path = '/content/gdrive' + '/My Drive/247/'\n",
        "os.chdir(gdrive_path)\n",
        "os.getcwd()"
      ]
    },
    {
      "cell_type": "code",
      "execution_count": 4,
      "metadata": {
        "id": "oeDK8SzumZ1Q"
      },
      "outputs": [],
      "source": [
        "# frame dimention\n",
        "IMAGE_HEIGHT, IMAGE_WIDTH = 128, 128\n",
        "# frame number for each video (depth)\n",
        "SEQUENCE_LENGTH = 16\n",
        "# video dir path\n",
        "DATASET_DIR = gdrive_path + 'Cropped_videos'\n",
        "# labels of classes\n",
        "CLASSES_LIST = ['hemostasis', 'inflammatory', 'proliferative', 'maturation']"
      ]
    },
    {
      "cell_type": "code",
      "execution_count": 5,
      "metadata": {
        "id": "3mFB5qD6b3Kd"
      },
      "outputs": [],
      "source": [
        "# image cropping\n",
        "def crop_center_square(frame):\n",
        "    y, x = frame.shape[0:2]\n",
        "    min_dim = min(y, x)\n",
        "    start_x = (x // 2) - (min_dim // 2)\n",
        "    start_y = (y // 2) - (min_dim // 2)\n",
        "    return frame[start_y:start_y+min_dim,start_x:start_x+min_dim]"
      ]
    },
    {
      "cell_type": "code",
      "execution_count": 6,
      "metadata": {
        "id": "sqeexMUjaLzJ"
      },
      "outputs": [],
      "source": [
        "# https://medium.com/analytics-vidhya/video-preprocessor-and-augmentation-for-deep-learning-tasks-12dd3fcce868\n",
        "def load_video(path, resize=(128, 128)):\n",
        "    video_reader = cv2.VideoCapture(path)\n",
        "    frames = []\n",
        "    try:\n",
        "        while True:\n",
        "            ret, frame = video_reader.read()\n",
        "            if not ret:\n",
        "                  break\n",
        "            frame = crop_center_square(frame)\n",
        "            frame = cv2.resize(frame, resize)\n",
        "            frame = frame[:, :, [2, 1, 0]]\n",
        "            frames.append(frame)\n",
        "    finally:\n",
        "        video_reader.release()\n",
        "    return np.array(frames) / 255.0"
      ]
    },
    {
      "cell_type": "code",
      "execution_count": 7,
      "metadata": {
        "id": "ljUWHW6Jqzu-"
      },
      "outputs": [],
      "source": [
        "def create_dataset(state):\n",
        "    # Declared Empty Lists to store the features, labels and video file path values.\n",
        "    features = []\n",
        "    labels = []\n",
        "    video_files_paths = []\n",
        "    # Iterating through all the classes mentioned in the classes list\n",
        "    for class_index, class_name in enumerate(CLASSES_LIST):\n",
        "        # Display the name of the class whose data is being extracted.\n",
        "        print(f'Extracting Data of Class: {class_name} {state}')\n",
        "        # Get the list of video files present in the specific class name directory.\n",
        "        files_list = os.listdir(os.path.join(DATASET_DIR, class_name))\n",
        "        # Iterate through all the files present in the files list.\n",
        "        for file_name in files_list:\n",
        "            # Get the complete video path.\n",
        "            video_file_path = os.path.join(DATASET_DIR, class_name, file_name)\n",
        "            # create testing data\n",
        "            if state == 'test':\n",
        "                # get the mouse number\n",
        "                mouse_number = int(video_file_path.split(' ')[2].split('_')[1].split('-')[1])\n",
        "                # get the mouse side (L or R)\n",
        "                mouse_side = video_file_path.split(' ')[2].split('_')[1].split('-')[2]\n",
        "                if mouse_number == 4 and mouse_side == 'L':\n",
        "                    frames = load_video(video_file_path)\n",
        "                    features.append(frames)\n",
        "                    labels.append(class_index)\n",
        "                    video_files_paths.append(video_file_path)\n",
        "            # create validation data\n",
        "            elif state == 'valid':\n",
        "                # get the mouse number\n",
        "                mouse_number = int(video_file_path.split(' ')[2].split('_')[1].split('-')[1])\n",
        "                # get the mouse side (L or R)\n",
        "                mouse_side = video_file_path.split(' ')[2].split('_')[1].split('-')[2]\n",
        "                if mouse_number == 4 and mouse_side == 'R':\n",
        "                    frames = load_video(video_file_path)\n",
        "                    features.append(frames)\n",
        "                    labels.append(class_index)\n",
        "                    video_files_paths.append(video_file_path)\n",
        "            # create training data\n",
        "            else:\n",
        "                # get the mouse number\n",
        "                mouse_number = int(video_file_path.split(' ')[2].split('_')[1].split('-')[1])\n",
        "                if mouse_number != 4:\n",
        "                    frames = load_video(video_file_path)\n",
        "                    features.append(frames)\n",
        "                    labels.append(class_index)\n",
        "                    video_files_paths.append(video_file_path)\n",
        "    # Converting the list to numpy arrays\n",
        "    features = np.asarray(features)\n",
        "    # print(features)\n",
        "    labels = np.array(labels)\n",
        "    # Return the frames, class index, and video file path.\n",
        "    return features, labels, video_files_paths"
      ]
    },
    {
      "cell_type": "code",
      "execution_count": 8,
      "metadata": {
        "colab": {
          "base_uri": "https://localhost:8080/"
        },
        "id": "a8rpanz9rASe",
        "outputId": "8567b537-d873-4d2b-dba3-cd0a7422e341"
      },
      "outputs": [
        {
          "output_type": "stream",
          "name": "stdout",
          "text": [
            "Extracting Data of Class: hemostasis train\n",
            "Extracting Data of Class: inflammatory train\n",
            "Extracting Data of Class: proliferative train\n",
            "Extracting Data of Class: maturation train\n",
            "Extracting Data of Class: hemostasis test\n",
            "Extracting Data of Class: inflammatory test\n",
            "Extracting Data of Class: proliferative test\n",
            "Extracting Data of Class: maturation test\n",
            "Extracting Data of Class: hemostasis valid\n",
            "Extracting Data of Class: inflammatory valid\n",
            "Extracting Data of Class: proliferative valid\n",
            "Extracting Data of Class: maturation valid\n"
          ]
        }
      ],
      "source": [
        "# 6 mice for training, 2 mice for test and validation (one wound on each mice for test one for validation)\n",
        "features_train, labels_train, video_files_paths_train = create_dataset('train')\n",
        "features_test, labels_test, video_files_paths_test = create_dataset('test')\n",
        "features_valid, labels_valid, video_files_paths_valid = create_dataset('valid')"
      ]
    },
    {
      "cell_type": "code",
      "execution_count": 9,
      "metadata": {
        "id": "dtJkK4qTAulC"
      },
      "outputs": [],
      "source": [
        "# one_hot_encoded_labels\n",
        "labels_train = keras.utils.to_categorical(labels_train)\n",
        "labels_test = keras.utils.to_categorical(labels_test)\n",
        "labels_valid = keras.utils.to_categorical(labels_valid)"
      ]
    },
    {
      "cell_type": "code",
      "execution_count": 10,
      "metadata": {
        "id": "Bi-NDol3DHRV"
      },
      "outputs": [],
      "source": [
        "def create_convlstm_model():\n",
        "    # TimeDistributed is a wrapper to handle input of size five to maintain frames number for LSTM\n",
        "    # A Conv2D layer requires four dimensions: (batch_size, height, width, channels)\n",
        "    # TimeDistributed will require an additional dimension: (batch_size, frames, height, width, channels)\n",
        "\n",
        "    model = Sequential()\n",
        "\n",
        "    model.add(TimeDistributed(Conv2D(16, (3,3), activation='relu'\n",
        "                                     ),\n",
        "                              input_shape=(16, 128, 128, 3)))\n",
        "    # model.add(TimeDistributed(BatchNormalization()))\n",
        "    model.add(TimeDistributed(MaxPooling2D((2,2), strides=(2,2))))\n",
        "    model.add(Dropout(0.25))\n",
        "\n",
        "    model.add(TimeDistributed(Conv2D(16, (3,3), activation='relu'\n",
        "                                    )))\n",
        "    # model.add(TimeDistributed(BatchNormalization()))\n",
        "    model.add(TimeDistributed(MaxPooling2D((2,2), strides=(2,2))))\n",
        "    model.add(Dropout(0.2))\n",
        "\n",
        "    model.add(TimeDistributed(Conv2D(32, (3,3), activation='relu'\n",
        "                                     )))\n",
        "    # model.add(TimeDistributed(BatchNormalization()))\n",
        "    model.add(TimeDistributed(MaxPooling2D((2,2), strides=(2,2))))\n",
        "    model.add(Dropout(0.2))\n",
        "\n",
        "    model.add(TimeDistributed(Conv2D(32, (3,3), activation='relu'\n",
        "                                     )))\n",
        "    # model.add(TimeDistributed(BatchNormalization()))\n",
        "    model.add(TimeDistributed(MaxPooling2D((2,2), strides=(2,2))))\n",
        "    model.add(Dropout(0.2))\n",
        "\n",
        "    model.add(TimeDistributed(Conv2D(64, (3,3), activation='relu'\n",
        "                                    )))\n",
        "    # model.add(TimeDistributed(BatchNormalization()))\n",
        "    model.add(TimeDistributed(MaxPooling2D((2,2), strides=(2,2))))\n",
        "    model.add(Dropout(0.2))\n",
        "  \n",
        "    # model.add(TimeDistributed(GlobalAveragePooling2D()))\n",
        "    # Another approach of using model.add(TimeDistributed(Flatten())) instead of the reshape.\n",
        "    model.add(TimeDistributed(Flatten()))\n",
        "    \n",
        "    model.add(LSTM(4, activation='relu', return_sequences=False))\n",
        "    model.add(Dropout(0.2))\n",
        "    model.add(Dense(32, activation='relu', kernel_initializer='he_uniform'\n",
        "                   ))\n",
        "    model.add(Dropout(0.25))\n",
        "    # model.add(Dense(8, activation='relu', kernel_initializer='he_uniform'))\n",
        "    # model.add(Dense(16, activation='relu', kernel_initializer='he_uniform'))\n",
        "    # model.add(Dropout(0.3))\n",
        "    # model.add(Dense(8, activation='relu', kernel_initializer='he_uniform'))\n",
        "    # model.add(Dropout(0.3))\n",
        "    model.add(Dense(4, activation='relu', kernel_initializer='he_uniform'))\n",
        "    # model.add(Dropout(0.3))\n",
        "    model.add(Dense(len(CLASSES_LIST), activation='softmax'))\n",
        "    model.summary(line_length = 100)\n",
        "    return model"
      ]
    },
    {
      "cell_type": "code",
      "execution_count": 11,
      "metadata": {
        "colab": {
          "base_uri": "https://localhost:8080/"
        },
        "id": "FbjNYI-0DY_v",
        "outputId": "23d60f3f-562a-46a8-bc07-8922f2f4f147"
      },
      "outputs": [
        {
          "output_type": "stream",
          "name": "stdout",
          "text": [
            "Model: \"sequential\"\n",
            "____________________________________________________________________________________________________\n",
            " Layer (type)                                Output Shape                            Param #        \n",
            "====================================================================================================\n",
            " time_distributed (TimeDistributed)          (None, 16, 126, 126, 16)                448            \n",
            "                                                                                                    \n",
            " time_distributed_1 (TimeDistributed)        (None, 16, 63, 63, 16)                  0              \n",
            "                                                                                                    \n",
            " dropout (Dropout)                           (None, 16, 63, 63, 16)                  0              \n",
            "                                                                                                    \n",
            " time_distributed_2 (TimeDistributed)        (None, 16, 61, 61, 16)                  2320           \n",
            "                                                                                                    \n",
            " time_distributed_3 (TimeDistributed)        (None, 16, 30, 30, 16)                  0              \n",
            "                                                                                                    \n",
            " dropout_1 (Dropout)                         (None, 16, 30, 30, 16)                  0              \n",
            "                                                                                                    \n",
            " time_distributed_4 (TimeDistributed)        (None, 16, 28, 28, 32)                  4640           \n",
            "                                                                                                    \n",
            " time_distributed_5 (TimeDistributed)        (None, 16, 14, 14, 32)                  0              \n",
            "                                                                                                    \n",
            " dropout_2 (Dropout)                         (None, 16, 14, 14, 32)                  0              \n",
            "                                                                                                    \n",
            " time_distributed_6 (TimeDistributed)        (None, 16, 12, 12, 32)                  9248           \n",
            "                                                                                                    \n",
            " time_distributed_7 (TimeDistributed)        (None, 16, 6, 6, 32)                    0              \n",
            "                                                                                                    \n",
            " dropout_3 (Dropout)                         (None, 16, 6, 6, 32)                    0              \n",
            "                                                                                                    \n",
            " time_distributed_8 (TimeDistributed)        (None, 16, 4, 4, 64)                    18496          \n",
            "                                                                                                    \n",
            " time_distributed_9 (TimeDistributed)        (None, 16, 2, 2, 64)                    0              \n",
            "                                                                                                    \n",
            " dropout_4 (Dropout)                         (None, 16, 2, 2, 64)                    0              \n",
            "                                                                                                    \n",
            " time_distributed_10 (TimeDistributed)       (None, 16, 256)                         0              \n",
            "                                                                                                    \n",
            " lstm (LSTM)                                 (None, 4)                               4176           \n",
            "                                                                                                    \n",
            " dropout_5 (Dropout)                         (None, 4)                               0              \n",
            "                                                                                                    \n",
            " dense (Dense)                               (None, 32)                              160            \n",
            "                                                                                                    \n",
            " dropout_6 (Dropout)                         (None, 32)                              0              \n",
            "                                                                                                    \n",
            " dense_1 (Dense)                             (None, 4)                               132            \n",
            "                                                                                                    \n",
            " dense_2 (Dense)                             (None, 4)                               20             \n",
            "                                                                                                    \n",
            "====================================================================================================\n",
            "Total params: 39,640\n",
            "Trainable params: 39,640\n",
            "Non-trainable params: 0\n",
            "____________________________________________________________________________________________________\n",
            "Model Created Successfully!\n"
          ]
        }
      ],
      "source": [
        "# Construct the required convlstm model.\n",
        "convlstm_model = create_convlstm_model()\n",
        " \n",
        "# Display the success message. \n",
        "print(\"Model Created Successfully!\")"
      ]
    },
    {
      "cell_type": "code",
      "execution_count": 12,
      "metadata": {
        "id": "SCB3R7so-wHz"
      },
      "outputs": [],
      "source": [
        "# keras.utils.plot_model(convlstm_model, to_file = 'convlstm_model_structure_plot.png', show_shapes = True, show_layer_names = True)"
      ]
    },
    {
      "cell_type": "code",
      "execution_count": 13,
      "metadata": {
        "id": "nMYwQOwyF3bd"
      },
      "outputs": [],
      "source": [
        "# keras.utils.plot_model(convlstm_model,\n",
        "#                          to_file = 'convlstm_model_structure_plot.png',\n",
        "#                          show_shapes = True,\n",
        "#                          show_layer_names = True)"
      ]
    },
    {
      "cell_type": "code",
      "execution_count": 14,
      "metadata": {
        "colab": {
          "base_uri": "https://localhost:8080/"
        },
        "id": "vYC_6H0uGqW9",
        "outputId": "8c7fc58a-643c-4f63-ffc7-ccc751623de3"
      },
      "outputs": [
        {
          "output_type": "stream",
          "name": "stdout",
          "text": [
            "Epoch 1/100\n",
            "101/101 [==============================] - 11s 74ms/step - loss: 1.1334 - accuracy: 0.3911 - val_loss: 1.1333 - val_accuracy: 0.6029\n",
            "Epoch 2/100\n",
            "101/101 [==============================] - 6s 61ms/step - loss: 1.0258 - accuracy: 0.4926 - val_loss: 1.0686 - val_accuracy: 0.5772\n",
            "Epoch 3/100\n",
            "101/101 [==============================] - 6s 62ms/step - loss: 0.9479 - accuracy: 0.5458 - val_loss: 0.9450 - val_accuracy: 0.5809\n",
            "Epoch 4/100\n",
            "101/101 [==============================] - 6s 62ms/step - loss: 0.9166 - accuracy: 0.5464 - val_loss: 1.0792 - val_accuracy: 0.4816\n",
            "Epoch 5/100\n",
            "101/101 [==============================] - 6s 61ms/step - loss: 0.9015 - accuracy: 0.5545 - val_loss: 0.8968 - val_accuracy: 0.5735\n",
            "Epoch 6/100\n",
            "101/101 [==============================] - 6s 61ms/step - loss: 0.8591 - accuracy: 0.5873 - val_loss: 1.0152 - val_accuracy: 0.4301\n",
            "Epoch 7/100\n",
            "101/101 [==============================] - 6s 62ms/step - loss: 0.9868 - accuracy: 0.4870 - val_loss: 0.9851 - val_accuracy: 0.4743\n",
            "Epoch 8/100\n",
            "101/101 [==============================] - 6s 61ms/step - loss: 0.9000 - accuracy: 0.5384 - val_loss: 0.8789 - val_accuracy: 0.5588\n",
            "Epoch 9/100\n",
            "101/101 [==============================] - 6s 61ms/step - loss: 0.8529 - accuracy: 0.5934 - val_loss: 0.8638 - val_accuracy: 0.5882\n",
            "Epoch 10/100\n",
            "101/101 [==============================] - 6s 61ms/step - loss: 0.8457 - accuracy: 0.6021 - val_loss: 0.8123 - val_accuracy: 0.6728\n",
            "Epoch 11/100\n",
            "101/101 [==============================] - 6s 61ms/step - loss: 0.7812 - accuracy: 0.6646 - val_loss: 0.7693 - val_accuracy: 0.6691\n",
            "Epoch 12/100\n",
            "101/101 [==============================] - 6s 63ms/step - loss: 0.7846 - accuracy: 0.6337 - val_loss: 0.7575 - val_accuracy: 0.6434\n",
            "Epoch 13/100\n",
            "101/101 [==============================] - 6s 61ms/step - loss: 0.7226 - accuracy: 0.6999 - val_loss: 0.6187 - val_accuracy: 0.7206\n",
            "Epoch 14/100\n",
            "101/101 [==============================] - 6s 60ms/step - loss: 0.7350 - accuracy: 0.6788 - val_loss: 0.6049 - val_accuracy: 0.8162\n",
            "Epoch 15/100\n",
            "101/101 [==============================] - 6s 61ms/step - loss: 0.6733 - accuracy: 0.7141 - val_loss: 0.6251 - val_accuracy: 0.7574\n",
            "Epoch 16/100\n",
            "101/101 [==============================] - 6s 61ms/step - loss: 0.6707 - accuracy: 0.7209 - val_loss: 0.9514 - val_accuracy: 0.4890\n",
            "Epoch 17/100\n",
            "101/101 [==============================] - 6s 61ms/step - loss: 0.6789 - accuracy: 0.7054 - val_loss: 0.8331 - val_accuracy: 0.6029\n",
            "Epoch 18/100\n",
            "101/101 [==============================] - 6s 62ms/step - loss: 0.6676 - accuracy: 0.7191 - val_loss: 0.6021 - val_accuracy: 0.7537\n",
            "Epoch 19/100\n",
            "101/101 [==============================] - 6s 61ms/step - loss: 0.6134 - accuracy: 0.7494 - val_loss: 0.5472 - val_accuracy: 0.7904\n",
            "Epoch 20/100\n",
            "101/101 [==============================] - 6s 61ms/step - loss: 0.6350 - accuracy: 0.7290 - val_loss: 0.5128 - val_accuracy: 0.7794\n",
            "Epoch 21/100\n",
            "101/101 [==============================] - 6s 61ms/step - loss: 0.6042 - accuracy: 0.7525 - val_loss: 0.6238 - val_accuracy: 0.6985\n",
            "Epoch 22/100\n",
            "101/101 [==============================] - 6s 61ms/step - loss: 0.6477 - accuracy: 0.7339 - val_loss: 0.6027 - val_accuracy: 0.7022\n",
            "Epoch 23/100\n",
            "101/101 [==============================] - 6s 61ms/step - loss: 0.5910 - accuracy: 0.7494 - val_loss: 0.5296 - val_accuracy: 0.8125\n",
            "Epoch 24/100\n",
            "101/101 [==============================] - 6s 62ms/step - loss: 0.5493 - accuracy: 0.7741 - val_loss: 0.5243 - val_accuracy: 0.7647\n",
            "Epoch 25/100\n",
            "101/101 [==============================] - 6s 62ms/step - loss: 0.5370 - accuracy: 0.7939 - val_loss: 0.5064 - val_accuracy: 0.7831\n",
            "Epoch 26/100\n",
            "101/101 [==============================] - 6s 61ms/step - loss: 0.5271 - accuracy: 0.7995 - val_loss: 0.4901 - val_accuracy: 0.8162\n",
            "Epoch 27/100\n",
            "101/101 [==============================] - 6s 61ms/step - loss: 0.6558 - accuracy: 0.7104 - val_loss: 0.7009 - val_accuracy: 0.6691\n",
            "Epoch 28/100\n",
            "101/101 [==============================] - 6s 61ms/step - loss: 0.6288 - accuracy: 0.7265 - val_loss: 0.5068 - val_accuracy: 0.7941\n",
            "Epoch 29/100\n",
            "101/101 [==============================] - 6s 61ms/step - loss: 0.5479 - accuracy: 0.7673 - val_loss: 0.4847 - val_accuracy: 0.7610\n",
            "Epoch 30/100\n",
            "101/101 [==============================] - 6s 61ms/step - loss: 0.5322 - accuracy: 0.7785 - val_loss: 0.4804 - val_accuracy: 0.8199\n",
            "Epoch 31/100\n",
            "101/101 [==============================] - 6s 61ms/step - loss: 0.5578 - accuracy: 0.7686 - val_loss: 0.4869 - val_accuracy: 0.8309\n",
            "Epoch 32/100\n",
            "101/101 [==============================] - 6s 61ms/step - loss: 0.5067 - accuracy: 0.8113 - val_loss: 0.5725 - val_accuracy: 0.6801\n",
            "Epoch 33/100\n",
            "101/101 [==============================] - 6s 61ms/step - loss: 0.5688 - accuracy: 0.7772 - val_loss: 0.7102 - val_accuracy: 0.6654\n",
            "Epoch 34/100\n",
            "101/101 [==============================] - 6s 60ms/step - loss: 0.6063 - accuracy: 0.7488 - val_loss: 0.4813 - val_accuracy: 0.8235\n",
            "Epoch 35/100\n",
            "101/101 [==============================] - 6s 61ms/step - loss: 0.5577 - accuracy: 0.7983 - val_loss: 0.6970 - val_accuracy: 0.7243\n",
            "Epoch 36/100\n",
            "101/101 [==============================] - 6s 61ms/step - loss: 0.5652 - accuracy: 0.7766 - val_loss: 0.5237 - val_accuracy: 0.8162\n",
            "Epoch 37/100\n",
            "101/101 [==============================] - 6s 61ms/step - loss: 0.5094 - accuracy: 0.8187 - val_loss: 0.5289 - val_accuracy: 0.7757\n",
            "Epoch 38/100\n",
            "101/101 [==============================] - 6s 61ms/step - loss: 0.5406 - accuracy: 0.7983 - val_loss: 0.4743 - val_accuracy: 0.8346\n",
            "Epoch 39/100\n",
            "101/101 [==============================] - 6s 61ms/step - loss: 0.5190 - accuracy: 0.8144 - val_loss: 1.0914 - val_accuracy: 0.6618\n",
            "Epoch 40/100\n",
            "101/101 [==============================] - 6s 60ms/step - loss: 0.4850 - accuracy: 0.8218 - val_loss: 0.5726 - val_accuracy: 0.7868\n",
            "Epoch 41/100\n",
            "101/101 [==============================] - 6s 60ms/step - loss: 0.5647 - accuracy: 0.7847 - val_loss: 0.5261 - val_accuracy: 0.7978\n",
            "Epoch 42/100\n",
            "101/101 [==============================] - 6s 61ms/step - loss: 0.5067 - accuracy: 0.8051 - val_loss: 0.4390 - val_accuracy: 0.8382\n",
            "Epoch 43/100\n",
            "101/101 [==============================] - 6s 60ms/step - loss: 0.4753 - accuracy: 0.8156 - val_loss: 0.4099 - val_accuracy: 0.8676\n",
            "Epoch 44/100\n",
            "101/101 [==============================] - 6s 61ms/step - loss: 0.4717 - accuracy: 0.8199 - val_loss: 0.4195 - val_accuracy: 0.8676\n",
            "Epoch 45/100\n",
            "101/101 [==============================] - 6s 61ms/step - loss: 0.4714 - accuracy: 0.8181 - val_loss: 0.4483 - val_accuracy: 0.8493\n",
            "Epoch 46/100\n",
            "101/101 [==============================] - 6s 61ms/step - loss: 0.4673 - accuracy: 0.8193 - val_loss: 0.4252 - val_accuracy: 0.8566\n",
            "Epoch 47/100\n",
            "101/101 [==============================] - 6s 61ms/step - loss: 0.5732 - accuracy: 0.7624 - val_loss: 0.4835 - val_accuracy: 0.8235\n",
            "Epoch 48/100\n",
            "101/101 [==============================] - 6s 61ms/step - loss: 0.4699 - accuracy: 0.8236 - val_loss: 0.5185 - val_accuracy: 0.8125\n",
            "Epoch 49/100\n",
            "101/101 [==============================] - 6s 60ms/step - loss: 0.4510 - accuracy: 0.8280 - val_loss: 0.4129 - val_accuracy: 0.8676\n",
            "Epoch 50/100\n",
            "101/101 [==============================] - 6s 61ms/step - loss: 0.4855 - accuracy: 0.8020 - val_loss: 0.4812 - val_accuracy: 0.8382\n",
            "Epoch 51/100\n",
            "101/101 [==============================] - 6s 60ms/step - loss: 0.4474 - accuracy: 0.8298 - val_loss: 0.4943 - val_accuracy: 0.8088\n",
            "Epoch 52/100\n",
            "101/101 [==============================] - 6s 61ms/step - loss: 0.4387 - accuracy: 0.8224 - val_loss: 0.4809 - val_accuracy: 0.8235\n",
            "Epoch 53/100\n",
            "101/101 [==============================] - 6s 62ms/step - loss: 0.4258 - accuracy: 0.8472 - val_loss: 0.4286 - val_accuracy: 0.8640\n",
            "Epoch 54/100\n",
            "101/101 [==============================] - 6s 61ms/step - loss: 0.4179 - accuracy: 0.8459 - val_loss: 0.4639 - val_accuracy: 0.8382\n",
            "Epoch 55/100\n",
            "101/101 [==============================] - 6s 60ms/step - loss: 0.4059 - accuracy: 0.8403 - val_loss: 0.4310 - val_accuracy: 0.8456\n",
            "Epoch 56/100\n",
            "101/101 [==============================] - 6s 60ms/step - loss: 0.4209 - accuracy: 0.8373 - val_loss: 0.4140 - val_accuracy: 0.8382\n",
            "Epoch 57/100\n",
            "101/101 [==============================] - 6s 61ms/step - loss: 0.4401 - accuracy: 0.8441 - val_loss: 0.5202 - val_accuracy: 0.7647\n",
            "Epoch 58/100\n",
            "101/101 [==============================] - 6s 60ms/step - loss: 0.4392 - accuracy: 0.8311 - val_loss: 0.4202 - val_accuracy: 0.8603\n",
            "Epoch 59/100\n",
            "101/101 [==============================] - 6s 59ms/step - loss: 0.4151 - accuracy: 0.8397 - val_loss: 0.4373 - val_accuracy: 0.8456\n",
            "Epoch 60/100\n",
            "101/101 [==============================] - 6s 60ms/step - loss: 0.4008 - accuracy: 0.8373 - val_loss: 0.4630 - val_accuracy: 0.8015\n",
            "Epoch 61/100\n",
            "101/101 [==============================] - 6s 61ms/step - loss: 0.4140 - accuracy: 0.8329 - val_loss: 0.4339 - val_accuracy: 0.8272\n",
            "Epoch 62/100\n",
            "101/101 [==============================] - 6s 61ms/step - loss: 0.3801 - accuracy: 0.8564 - val_loss: 0.4354 - val_accuracy: 0.8346\n",
            "Epoch 63/100\n",
            "101/101 [==============================] - 6s 62ms/step - loss: 0.4203 - accuracy: 0.8366 - val_loss: 0.5586 - val_accuracy: 0.7500\n",
            "Epoch 64/100\n",
            "101/101 [==============================] - 6s 61ms/step - loss: 0.4888 - accuracy: 0.7952 - val_loss: 0.5784 - val_accuracy: 0.7279\n",
            "Epoch 65/100\n",
            "101/101 [==============================] - 6s 60ms/step - loss: 0.5205 - accuracy: 0.7958 - val_loss: 0.5270 - val_accuracy: 0.8088\n",
            "Epoch 66/100\n",
            "101/101 [==============================] - 6s 61ms/step - loss: 0.4761 - accuracy: 0.8168 - val_loss: 0.4256 - val_accuracy: 0.8493\n",
            "Epoch 67/100\n",
            "101/101 [==============================] - 6s 61ms/step - loss: 0.4246 - accuracy: 0.8304 - val_loss: 0.6191 - val_accuracy: 0.7206\n",
            "Epoch 68/100\n",
            "101/101 [==============================] - 6s 61ms/step - loss: 0.4067 - accuracy: 0.8317 - val_loss: 0.4475 - val_accuracy: 0.8199\n",
            "Epoch 69/100\n",
            "101/101 [==============================] - 6s 61ms/step - loss: 0.4068 - accuracy: 0.8441 - val_loss: 0.5182 - val_accuracy: 0.7794\n",
            "Epoch 70/100\n",
            "101/101 [==============================] - 6s 61ms/step - loss: 0.4047 - accuracy: 0.8373 - val_loss: 0.4676 - val_accuracy: 0.8309\n",
            "Epoch 71/100\n",
            "101/101 [==============================] - 6s 61ms/step - loss: 0.3806 - accuracy: 0.8533 - val_loss: 0.5154 - val_accuracy: 0.7941\n",
            "Epoch 72/100\n",
            "101/101 [==============================] - 6s 62ms/step - loss: 0.3863 - accuracy: 0.8441 - val_loss: 0.4400 - val_accuracy: 0.8382\n",
            "Epoch 73/100\n",
            "101/101 [==============================] - 6s 62ms/step - loss: 0.3853 - accuracy: 0.8502 - val_loss: 0.4387 - val_accuracy: 0.8456\n",
            "Epoch 74/100\n",
            "101/101 [==============================] - 6s 61ms/step - loss: 0.3686 - accuracy: 0.8509 - val_loss: 0.4846 - val_accuracy: 0.7831\n",
            "Epoch 75/100\n",
            "101/101 [==============================] - 6s 62ms/step - loss: 0.3948 - accuracy: 0.8342 - val_loss: 0.4718 - val_accuracy: 0.8162\n",
            "Epoch 76/100\n",
            "101/101 [==============================] - 6s 61ms/step - loss: 0.3641 - accuracy: 0.8502 - val_loss: 0.4835 - val_accuracy: 0.7978\n",
            "Epoch 77/100\n",
            "101/101 [==============================] - 6s 62ms/step - loss: 0.3567 - accuracy: 0.8657 - val_loss: 0.4250 - val_accuracy: 0.8419\n",
            "Epoch 78/100\n",
            "101/101 [==============================] - 6s 61ms/step - loss: 0.3619 - accuracy: 0.8595 - val_loss: 0.4427 - val_accuracy: 0.8199\n",
            "Epoch 79/100\n",
            "101/101 [==============================] - 6s 61ms/step - loss: 0.3782 - accuracy: 0.8502 - val_loss: 0.4502 - val_accuracy: 0.7941\n",
            "Epoch 80/100\n",
            "101/101 [==============================] - 6s 61ms/step - loss: 0.3502 - accuracy: 0.8620 - val_loss: 0.3922 - val_accuracy: 0.8493\n",
            "Epoch 81/100\n",
            "101/101 [==============================] - 6s 62ms/step - loss: 0.3378 - accuracy: 0.8645 - val_loss: 0.4149 - val_accuracy: 0.8456\n",
            "Epoch 82/100\n",
            "101/101 [==============================] - 6s 61ms/step - loss: 0.3546 - accuracy: 0.8577 - val_loss: 0.4376 - val_accuracy: 0.8088\n",
            "Epoch 83/100\n",
            "101/101 [==============================] - 6s 61ms/step - loss: 0.3303 - accuracy: 0.8725 - val_loss: 0.4444 - val_accuracy: 0.7904\n",
            "Epoch 84/100\n",
            "101/101 [==============================] - 6s 61ms/step - loss: 0.3274 - accuracy: 0.8700 - val_loss: 0.4271 - val_accuracy: 0.8199\n",
            "Epoch 85/100\n",
            "101/101 [==============================] - 6s 61ms/step - loss: 0.3235 - accuracy: 0.8707 - val_loss: 0.4646 - val_accuracy: 0.7794\n",
            "Epoch 86/100\n",
            "101/101 [==============================] - 6s 61ms/step - loss: 0.3105 - accuracy: 0.8843 - val_loss: 0.4549 - val_accuracy: 0.7941\n",
            "Epoch 87/100\n",
            "101/101 [==============================] - 6s 60ms/step - loss: 0.3667 - accuracy: 0.8509 - val_loss: 0.4100 - val_accuracy: 0.8529\n",
            "Epoch 88/100\n",
            "101/101 [==============================] - 6s 61ms/step - loss: 0.3503 - accuracy: 0.8682 - val_loss: 0.4298 - val_accuracy: 0.8162\n",
            "Epoch 89/100\n",
            "101/101 [==============================] - 6s 61ms/step - loss: 0.4642 - accuracy: 0.8075 - val_loss: 0.5147 - val_accuracy: 0.8051\n",
            "Epoch 90/100\n",
            "101/101 [==============================] - 6s 61ms/step - loss: 0.4782 - accuracy: 0.7989 - val_loss: 0.4282 - val_accuracy: 0.8493\n",
            "Epoch 91/100\n",
            "101/101 [==============================] - 6s 61ms/step - loss: 0.4597 - accuracy: 0.8274 - val_loss: 0.4297 - val_accuracy: 0.8199\n",
            "Epoch 92/100\n",
            "101/101 [==============================] - 6s 61ms/step - loss: 0.3930 - accuracy: 0.8335 - val_loss: 0.4003 - val_accuracy: 0.8346\n",
            "Epoch 93/100\n",
            "101/101 [==============================] - 6s 62ms/step - loss: 0.3595 - accuracy: 0.8595 - val_loss: 0.3798 - val_accuracy: 0.8235\n",
            "Epoch 94/100\n",
            "101/101 [==============================] - 6s 61ms/step - loss: 0.3559 - accuracy: 0.8564 - val_loss: 0.4506 - val_accuracy: 0.8235\n",
            "Epoch 95/100\n",
            "101/101 [==============================] - 6s 61ms/step - loss: 0.3435 - accuracy: 0.8626 - val_loss: 0.3824 - val_accuracy: 0.8676\n",
            "Epoch 96/100\n",
            "101/101 [==============================] - 6s 61ms/step - loss: 0.3331 - accuracy: 0.8707 - val_loss: 0.3665 - val_accuracy: 0.8566\n",
            "Epoch 97/100\n",
            "101/101 [==============================] - 6s 61ms/step - loss: 0.3884 - accuracy: 0.8391 - val_loss: 0.5467 - val_accuracy: 0.7169\n",
            "Epoch 98/100\n",
            "101/101 [==============================] - 6s 61ms/step - loss: 0.3621 - accuracy: 0.8595 - val_loss: 0.4583 - val_accuracy: 0.7757\n",
            "Epoch 99/100\n",
            "101/101 [==============================] - 6s 60ms/step - loss: 0.3296 - accuracy: 0.8725 - val_loss: 0.4102 - val_accuracy: 0.8456\n",
            "Epoch 100/100\n",
            "101/101 [==============================] - 6s 60ms/step - loss: 0.3322 - accuracy: 0.8769 - val_loss: 0.4141 - val_accuracy: 0.8309\n"
          ]
        }
      ],
      "source": [
        "# Create an Instance of Early Stopping Callback\n",
        "\n",
        "# https://stackoverflow.com/questions/53479007/how-to-setup-adaptive-learning-rate-in-keras\n",
        "# def adapt_learning_rate(epoch):\n",
        "#     print(0.0001 * epoch)\n",
        "#     return 0.0001 * epoch\n",
        "# my_lr_scheduler = keras.callbacks.LearningRateScheduler(adapt_learning_rate)\n",
        "\n",
        "early_stopping_callback = keras.callbacks.EarlyStopping(monitor = 'val_loss',\n",
        "                                                        patience = 10,\n",
        "                                                        mode = 'min',\n",
        "                                                        restore_best_weights = True)\n",
        "# Compile the model and specify loss function, optimizer and metrics values to the model\n",
        "convlstm_model.compile(loss = 'categorical_crossentropy',\n",
        "                       optimizer= keras.optimizers.Adam(0.001, decay=1e-4),\n",
        "                       metrics = [\"accuracy\"])\n",
        "# Start training the model.\n",
        "convlstm_model_training_history = convlstm_model.fit(x = features_train,\n",
        "                                                     y = labels_train,\n",
        "                                                     epochs = 100,\n",
        "                                                     batch_size = 16,\n",
        "                                                     shuffle = True,\n",
        "                                                     validation_data = (features_valid, labels_valid)),\n",
        "                                                    #  callbacks = [early_stopping_callback])\n"
      ]
    },
    {
      "cell_type": "code",
      "execution_count": 15,
      "metadata": {
        "colab": {
          "base_uri": "https://localhost:8080/"
        },
        "id": "LcpKhGqvIenv",
        "outputId": "60e43108-a333-4c69-8a60-3fc21ed4dd2a"
      },
      "outputs": [
        {
          "output_type": "stream",
          "name": "stdout",
          "text": [
            "9/9 [==============================] - 1s 37ms/step - loss: 0.8261 - accuracy: 0.7096\n",
            "\n",
            "\n",
            "Train accuracy: 85.087 % || Test accuracy: 70.956 % || Val accuracy: 83.088 %\n",
            "Train loss: 0.350 || Test loss: 0.826 || Val loss: 0.414\n"
          ]
        }
      ],
      "source": [
        "model_evaluation_history = convlstm_model.evaluate(features_test, labels_test)\n",
        "\n",
        "print('\\n')\n",
        "\n",
        "train_loss, train_acc = convlstm_model.evaluate(features_train, labels_train, verbose=0)\n",
        "test_loss, test_acc = convlstm_model.evaluate(features_test, labels_test, verbose=0)\n",
        "val_loss, val_acc = convlstm_model.evaluate(features_valid, labels_valid, verbose=0)\n",
        "\n",
        "print(f'Train accuracy: {train_acc*100:.3f} % || Test accuracy: {test_acc*100:.3f} % || Val accuracy: {val_acc*100:.3f} %')\n",
        "print(f'Train loss: {train_loss:.3f} || Test loss: {test_loss:.3f} || Val loss: {val_loss:.3f}')"
      ]
    },
    {
      "cell_type": "code",
      "execution_count": 16,
      "metadata": {
        "id": "qsFw5KIzIum9"
      },
      "outputs": [],
      "source": [
        "# Get the loss and accuracy from model_evaluation_history.\n",
        "model_evaluation_loss, model_evaluation_accuracy = model_evaluation_history\n",
        " \n",
        "# Define the string date format.\n",
        "# Get the current Date and Time in a DateTime Object.\n",
        "# Convert the DateTime object to string according to the style mentioned in date_time_format string.\n",
        "date_time_format = '%Y_%m_%d__%H_%M_%S'\n",
        "current_date_time_dt = dt.datetime.now()\n",
        "current_date_time_string = dt.datetime.strftime(current_date_time_dt, date_time_format)\n",
        " \n",
        "# Define a useful name for our model to make it easy for us while navigating through multiple saved models.\n",
        "model_file_name = f'convlstm_model___Date_Time_{current_date_time_string}___Loss_{model_evaluation_loss}___Accuracy_{model_evaluation_accuracy}.h5'\n",
        " \n",
        "# Change dir\n",
        "gdrive_path = '/content/gdrive' + '/My Drive/247/Saved_models/'\n",
        "os.chdir(gdrive_path)\n",
        "# Create a floder for the model files\n",
        "!mkdir -p convlstm_{current_date_time_string}\n",
        "# Save your Model.\n",
        "convlstm_model.save('convlstm_' + str(current_date_time_string) + '/' + model_file_name)\n",
        "# Save model weights\n",
        "convlstm_model.save_weights('convlstm_' + str(current_date_time_string) + '/' + 'weights')"
      ]
    },
    {
      "cell_type": "code",
      "execution_count": 17,
      "metadata": {
        "id": "Z0eAobhSIz_P"
      },
      "outputs": [],
      "source": [
        "def plot_metric(model_training_history, metric_name_1, metric_name_2, plot_name):\n",
        "    '''\n",
        "    This function will plot the metrics passed to it in a graph.\n",
        "    Args:\n",
        "        model_training_history: A history object containing a record of training and validation \n",
        "                                loss values and metrics values at successive epochs\n",
        "        metric_name_1:          The name of the first metric that needs to be plotted in the graph.\n",
        "        metric_name_2:          The name of the second metric that needs to be plotted in the graph.\n",
        "        plot_name:              The title of the graph.\n",
        "    '''\n",
        "    \n",
        "    # Get metric values using metric names as identifiers.\n",
        "    metric_value_1 = model_training_history[0].history[metric_name_1]\n",
        "    metric_value_2 = model_training_history[0].history[metric_name_2]\n",
        "    \n",
        "    # Construct a range object which will be used as x-axis (horizontal plane) of the graph.\n",
        "    epochs = range(len(metric_value_1))\n",
        "\n",
        "    # Plot the Graph.\n",
        "    plt.plot(epochs, metric_value_1, 'blue', label = metric_name_1)\n",
        "    plt.plot(epochs, metric_value_2, 'red', label = metric_name_2)\n",
        "\n",
        "    # Add title to the plot.\n",
        "    plt.title(str(plot_name))\n",
        "\n",
        "    # Add legend to the plot.\n",
        "    plt.legend()"
      ]
    },
    {
      "cell_type": "code",
      "execution_count": 18,
      "metadata": {
        "colab": {
          "base_uri": "https://localhost:8080/",
          "height": 281
        },
        "id": "18RtBjI9I5lE",
        "outputId": "afffe8cb-498e-43be-e479-0cb3616dc586"
      },
      "outputs": [
        {
          "output_type": "display_data",
          "data": {
            "text/plain": [
              "<Figure size 432x288 with 1 Axes>"
            ],
            "image/png": "[encoded data removed]"
          },
          "metadata": {
            "needs_background": "light"
          }
        }
      ],
      "source": [
        "plot_metric(convlstm_model_training_history, 'loss', 'val_loss', 'Total Loss vs Total Validation Loss')"
      ]
    },
    {
      "cell_type": "code",
      "execution_count": 19,
      "metadata": {
        "colab": {
          "base_uri": "https://localhost:8080/",
          "height": 281
        },
        "id": "02amk7TXI_OS",
        "outputId": "8d9b71fb-e834-449c-ce09-d05cb5730e39"
      },
      "outputs": [
        {
          "output_type": "display_data",
          "data": {
            "text/plain": [
              "<Figure size 432x288 with 1 Axes>"
            ],
            "image/png": "[encoded data removed]"
          },
          "metadata": {
            "needs_background": "light"
          }
        }
      ],
      "source": [
        "plot_metric(convlstm_model_training_history, 'accuracy', 'val_accuracy', 'Total Accuracy vs Total Validation Accuracy') "
      ]
    }
  ],
  "metadata": {
    "accelerator": "GPU",
    "colab": {
      "background_execution": "on",
      "collapsed_sections": [],
      "machine_shape": "hm",
      "name": "2D_CNN+LSTM.ipynb",
      "provenance": [],
      "authorship_tag": "ABX9TyPd0VPuJngr+PhsQVHiLH62",
      "include_colab_link": true
    },
    "kernelspec": {
      "display_name": "Python 3",
      "name": "python3"
    },
    "language_info": {
      "name": "python"
    }
  },
  "nbformat": 4,
  "nbformat_minor": 0
}