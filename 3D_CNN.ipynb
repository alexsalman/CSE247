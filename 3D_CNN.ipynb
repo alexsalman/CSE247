{
  "cells": [
    {
      "cell_type": "markdown",
      "metadata": {
        "id": "view-in-github",
        "colab_type": "text"
      },
      "source": [
        "<a href=\"https://colab.research.google.com/github/alexsalman/CSE247/blob/main/3D_CNN.ipynb\" target=\"_parent\"><img src=\"https://colab.research.google.com/assets/colab-badge.svg\" alt=\"Open In Colab\"/></a>"
      ]
    },
    {
      "cell_type": "markdown",
      "metadata": {
        "id": "Kk7I8NauauE3"
      },
      "source": [
        "####**3D Convolutional Neural Network**\n",
        "######*I am using 3D Convolutional Neural Network to extract the temporal and spatial information which are merged slowly throughout the whole network.*"
      ]
    },
    {
      "cell_type": "code",
      "execution_count": 1,
      "metadata": {
        "colab": {
          "base_uri": "https://localhost:8080/"
        },
        "id": "M8ibtd5HKtZk",
        "outputId": "e7c63d75-f440-47e8-d1d8-a78de80c88ad"
      },
      "outputs": [
        {
          "output_type": "stream",
          "name": "stdout",
          "text": [
            "2.8.0\n"
          ]
        }
      ],
      "source": [
        "# required libraries\n",
        "import os\n",
        "import cv2\n",
        "import math\n",
        "import random\n",
        "import numpy as np\n",
        "import datetime as dt\n",
        "from collections import deque\n",
        "import matplotlib.pyplot as plt\n",
        "from google.colab import drive\n",
        "from sklearn.model_selection import train_test_split\n",
        "import tensorflow as tf\n",
        "from tensorflow import keras\n",
        "from keras.models import Sequential\n",
        "from keras.layers import Dense, Flatten, Conv3D, MaxPooling3D, Dropout, BatchNormalization, GlobalAveragePooling3D\n",
        "from PIL import Image\n",
        "%matplotlib inline\n",
        "print(tf.version.VERSION)\n",
        "# https://bleedai.com/human-activity-recognition-using-tensorflow-cnn-lstm/"
      ]
    },
    {
      "cell_type": "code",
      "execution_count": 2,
      "metadata": {
        "id": "iffdFOf1CEAN"
      },
      "outputs": [],
      "source": [
        "# set Numpy, Python, and Tensorflow seeds to get consistent results on every execution\n",
        "seed_constant = 27\n",
        "np.random.seed(seed_constant)\n",
        "random.seed(seed_constant)\n",
        "tf.random.set_seed(seed_constant)"
      ]
    },
    {
      "cell_type": "code",
      "execution_count": 3,
      "metadata": {
        "colab": {
          "base_uri": "https://localhost:8080/",
          "height": 53
        },
        "id": "mcLh22LiOHyn",
        "outputId": "48582b56-d5f0-4ba4-a21b-da3ef45bdd8f"
      },
      "outputs": [
        {
          "output_type": "stream",
          "name": "stdout",
          "text": [
            "Mounted at /content/gdrive/\n"
          ]
        },
        {
          "output_type": "execute_result",
          "data": {
            "text/plain": [
              "'/content/gdrive/My Drive/247'"
            ],
            "application/vnd.google.colaboratory.intrinsic+json": {
              "type": "string"
            }
          },
          "metadata": {},
          "execution_count": 3
        }
      ],
      "source": [
        "# mount dataset from google drive\n",
        "drive.mount('/content/gdrive/', force_remount=True)\n",
        "gdrive_path = '/content/gdrive' + '/My Drive/247/'\n",
        "os.chdir(gdrive_path)\n",
        "os.getcwd()"
      ]
    },
    {
      "cell_type": "code",
      "execution_count": 4,
      "metadata": {
        "id": "oeDK8SzumZ1Q"
      },
      "outputs": [],
      "source": [
        "# frame dimention\n",
        "IMAGE_HEIGHT, IMAGE_WIDTH = 128, 128\n",
        "# frame number for each video (depth)\n",
        "SEQUENCE_LENGTH = 16\n",
        "# video dir path\n",
        "DATASET_DIR = gdrive_path + 'Cropped_videos'\n",
        "# labels of classes\n",
        "CLASSES_LIST = ['hemostasis', 'inflammatory', 'proliferative', 'maturation']"
      ]
    },
    {
      "cell_type": "code",
      "execution_count": 5,
      "metadata": {
        "id": "HUTeIqzpZc9J"
      },
      "outputs": [],
      "source": [
        "# image cropping\n",
        "def crop_center_square(frame):\n",
        "    y, x = frame.shape[0:2]\n",
        "    min_dim = min(y, x)\n",
        "    start_x = (x // 2) - (min_dim // 2)\n",
        "    start_y = (y // 2) - (min_dim // 2)\n",
        "    return frame[start_y:start_y+min_dim,start_x:start_x+min_dim]"
      ]
    },
    {
      "cell_type": "code",
      "execution_count": 6,
      "metadata": {
        "id": "QRDbHG0TZkYJ"
      },
      "outputs": [],
      "source": [
        "# https://medium.com/analytics-vidhya/video-preprocessor-and-augmentation-for-deep-learning-tasks-12dd3fcce868\n",
        "def load_video(path, resize=(128, 128)):\n",
        "    video_reader = cv2.VideoCapture(path)\n",
        "    frames = []\n",
        "    try:\n",
        "        while True:\n",
        "            ret, frame = video_reader.read()\n",
        "            if not ret:\n",
        "                  break\n",
        "            # frame = crop_center_square(frame)\n",
        "            frame = cv2.resize(frame, resize)\n",
        "            frame = frame[:, :, [2, 1, 0]]\n",
        "            black_frame = frame\n",
        "            frames.append(frame)\n",
        "    finally:\n",
        "        video_reader.release()\n",
        "    return np.array(frames) / 255.0"
      ]
    },
    {
      "cell_type": "code",
      "execution_count": 7,
      "metadata": {
        "id": "ljUWHW6Jqzu-"
      },
      "outputs": [],
      "source": [
        "def create_dataset(state):\n",
        "    # Declared Empty Lists to store the features, labels and video file path values.\n",
        "    features = []\n",
        "    labels = []\n",
        "    video_files_paths = []\n",
        "    # Iterating through all the classes mentioned in the classes list\n",
        "    for class_index, class_name in enumerate(CLASSES_LIST):\n",
        "        # Display the name of the class whose data is being extracted.\n",
        "        print(f'Extracting Data of Class: {class_name} {state}')\n",
        "        # Get the list of video files present in the specific class name directory.\n",
        "        files_list = os.listdir(os.path.join(DATASET_DIR, class_name))\n",
        "        # Iterate through all the files present in the files list.\n",
        "        for file_name in files_list:\n",
        "            # Get the complete video path.\n",
        "            video_file_path = os.path.join(DATASET_DIR, class_name, file_name)\n",
        "            # create testing data\n",
        "            if state == 'test':\n",
        "                # get the mouse number\n",
        "                mouse_number = int(video_file_path.split(' ')[2].split('_')[1].split('-')[1])\n",
        "                # get the mouse side (L or R)\n",
        "                mouse_side = video_file_path.split(' ')[2].split('_')[1].split('-')[2]\n",
        "                if mouse_number == 4 and mouse_side == 'L':\n",
        "                    frames = load_video(video_file_path)\n",
        "                    features.append(frames)\n",
        "                    labels.append(class_index)\n",
        "                    video_files_paths.append(video_file_path)\n",
        "            # create validation data\n",
        "            elif state == 'valid':\n",
        "                # get the mouse number\n",
        "                mouse_number = int(video_file_path.split(' ')[2].split('_')[1].split('-')[1])\n",
        "                # get the mouse side (L or R)\n",
        "                mouse_side = video_file_path.split(' ')[2].split('_')[1].split('-')[2]\n",
        "                if mouse_number == 4 and mouse_side == 'R':\n",
        "                    frames = load_video(video_file_path)\n",
        "                    features.append(frames)\n",
        "                    labels.append(class_index)\n",
        "                    video_files_paths.append(video_file_path)\n",
        "            # create training data\n",
        "            else:\n",
        "                # get the mouse number\n",
        "                mouse_number = int(video_file_path.split(' ')[2].split('_')[1].split('-')[1])\n",
        "                if mouse_number != 4:\n",
        "                    frames = load_video(video_file_path)\n",
        "                    features.append(frames)\n",
        "                    labels.append(class_index)\n",
        "                    video_files_paths.append(video_file_path)\n",
        "    # Converting the list to numpy arrays\n",
        "    features = np.asarray(features)\n",
        "    # print(features)\n",
        "    labels = np.array(labels)\n",
        "    # Return the frames, class index, and video file path.\n",
        "    return features, labels, video_files_paths"
      ]
    },
    {
      "cell_type": "code",
      "execution_count": 8,
      "metadata": {
        "colab": {
          "base_uri": "https://localhost:8080/"
        },
        "id": "a8rpanz9rASe",
        "outputId": "ae1bb2c5-f822-4d2d-90f6-ac3572526414"
      },
      "outputs": [
        {
          "output_type": "stream",
          "name": "stdout",
          "text": [
            "Extracting Data of Class: hemostasis train\n",
            "Extracting Data of Class: inflammatory train\n",
            "Extracting Data of Class: proliferative train\n",
            "Extracting Data of Class: maturation train\n",
            "Extracting Data of Class: hemostasis test\n",
            "Extracting Data of Class: inflammatory test\n",
            "Extracting Data of Class: proliferative test\n",
            "Extracting Data of Class: maturation test\n",
            "Extracting Data of Class: hemostasis valid\n",
            "Extracting Data of Class: inflammatory valid\n",
            "Extracting Data of Class: proliferative valid\n",
            "Extracting Data of Class: maturation valid\n"
          ]
        }
      ],
      "source": [
        "# 6 mice for training, 2 mice for test and validation (one wound on each mice for test one for validation)\n",
        "features_train, labels_train, video_files_paths_train = create_dataset('train')\n",
        "features_test, labels_test, video_files_paths_test = create_dataset('test')\n",
        "features_valid, labels_valid, video_files_paths_valid = create_dataset('valid')"
      ]
    },
    {
      "cell_type": "code",
      "execution_count": 9,
      "metadata": {
        "id": "dtJkK4qTAulC"
      },
      "outputs": [],
      "source": [
        "# one_hot_encoded_labels\n",
        "labels_train = keras.utils.to_categorical(labels_train)\n",
        "labels_test = keras.utils.to_categorical(labels_test)\n",
        "labels_valid = keras.utils.to_categorical(labels_valid)"
      ]
    },
    {
      "cell_type": "code",
      "execution_count": 10,
      "metadata": {
        "id": "N-9ykP4ig7IW"
      },
      "outputs": [],
      "source": [
        "def create_3D_CNN_model():\n",
        "    sample_shape = (16, 128, 128, 3)\n",
        "    model = Sequential()\n",
        "\n",
        "    model.add(Conv3D(32, 3, activation='relu', kernel_initializer='he_uniform', input_shape=sample_shape))\n",
        "    model.add(BatchNormalization())\n",
        "    model.add(MaxPooling3D(2))\n",
        "    model.add(Dropout(0.35))\n",
        "\n",
        "    model.add(Conv3D(32, 3, activation='relu', kernel_initializer='he_uniform'))\n",
        "    model.add(BatchNormalization())\n",
        "    model.add(MaxPooling3D(2))\n",
        "    model.add(Dropout(0.35))\n",
        "\n",
        "    model.add(GlobalAveragePooling3D())\n",
        "\n",
        "    model.add(Dense(32, activation='relu', kernel_initializer='he_uniform'))\n",
        "    model.add(Dropout(0.35))\n",
        "    model.add(Dense(16, activation='relu', kernel_initializer='he_uniform'))\n",
        "    model.add(Dropout(0.6))\n",
        "    # model.add(Dense(8, activation='relu', kernel_initializer='he_uniform'))\n",
        "    # model.add(Dropout(0.3))\n",
        "    # model.add(Dense(8, activation='relu', kernel_initializer='he_uniform'))\n",
        "    # model.add(Dropout(0.3))\n",
        "    model.add(Dense(len(CLASSES_LIST), activation='softmax'))\n",
        "\n",
        "    # Display the models summary.\n",
        "    model.summary(line_length = 125)\n",
        "    # Return the constructed 3D_CNN model.\n",
        "    return model"
      ]
    },
    {
      "cell_type": "code",
      "execution_count": 11,
      "metadata": {
        "colab": {
          "base_uri": "https://localhost:8080/"
        },
        "id": "Z4_GxXZBcHlB",
        "outputId": "0b479c38-b0eb-4d5f-c777-03dd4fde3987"
      },
      "outputs": [
        {
          "output_type": "stream",
          "name": "stdout",
          "text": [
            "Model: \"sequential\"\n",
            "_____________________________________________________________________________________________________________________________\n",
            " Layer (type)                                           Output Shape                                      Param #            \n",
            "=============================================================================================================================\n",
            " conv3d (Conv3D)                                        (None, 14, 126, 126, 32)                          2624               \n",
            "                                                                                                                             \n",
            " batch_normalization (BatchNormalization)               (None, 14, 126, 126, 32)                          128                \n",
            "                                                                                                                             \n",
            " max_pooling3d (MaxPooling3D)                           (None, 7, 63, 63, 32)                             0                  \n",
            "                                                                                                                             \n",
            " dropout (Dropout)                                      (None, 7, 63, 63, 32)                             0                  \n",
            "                                                                                                                             \n",
            " conv3d_1 (Conv3D)                                      (None, 5, 61, 61, 32)                             27680              \n",
            "                                                                                                                             \n",
            " batch_normalization_1 (BatchNormalization)             (None, 5, 61, 61, 32)                             128                \n",
            "                                                                                                                             \n",
            " max_pooling3d_1 (MaxPooling3D)                         (None, 2, 30, 30, 32)                             0                  \n",
            "                                                                                                                             \n",
            " dropout_1 (Dropout)                                    (None, 2, 30, 30, 32)                             0                  \n",
            "                                                                                                                             \n",
            " global_average_pooling3d (GlobalAveragePooling3D)      (None, 32)                                        0                  \n",
            "                                                                                                                             \n",
            " dense (Dense)                                          (None, 32)                                        1056               \n",
            "                                                                                                                             \n",
            " dropout_2 (Dropout)                                    (None, 32)                                        0                  \n",
            "                                                                                                                             \n",
            " dense_1 (Dense)                                        (None, 16)                                        528                \n",
            "                                                                                                                             \n",
            " dropout_3 (Dropout)                                    (None, 16)                                        0                  \n",
            "                                                                                                                             \n",
            " dense_2 (Dense)                                        (None, 4)                                         68                 \n",
            "                                                                                                                             \n",
            "=============================================================================================================================\n",
            "Total params: 32,212\n",
            "Trainable params: 32,084\n",
            "Non-trainable params: 128\n",
            "_____________________________________________________________________________________________________________________________\n",
            "Model Created Successfully!\n"
          ]
        }
      ],
      "source": [
        "# Construct the required convlstm model.\n",
        "model = create_3D_CNN_model()\n",
        " \n",
        "# Display the success message. \n",
        "print(\"Model Created Successfully!\")"
      ]
    },
    {
      "cell_type": "code",
      "execution_count": 12,
      "metadata": {
        "colab": {
          "base_uri": "https://localhost:8080/"
        },
        "id": "MwYEkaYLoyb_",
        "outputId": "78ac1a50-ce83-4e2e-ad54-4cacf43e8441"
      },
      "outputs": [
        {
          "output_type": "stream",
          "name": "stdout",
          "text": [
            "Epoch 1/100\n",
            "41/41 [==============================] - 14s 284ms/step - loss: 1.9318 - accuracy: 0.3162 - val_loss: 1.4539 - val_accuracy: 0.3272\n",
            "Epoch 2/100\n",
            "41/41 [==============================] - 10s 254ms/step - loss: 1.2647 - accuracy: 0.4307 - val_loss: 1.3646 - val_accuracy: 0.4632\n",
            "Epoch 3/100\n",
            "41/41 [==============================] - 10s 255ms/step - loss: 1.1599 - accuracy: 0.4709 - val_loss: 1.3991 - val_accuracy: 0.3750\n",
            "Epoch 4/100\n",
            "41/41 [==============================] - 10s 255ms/step - loss: 1.0755 - accuracy: 0.4920 - val_loss: 1.2442 - val_accuracy: 0.4632\n",
            "Epoch 5/100\n",
            "41/41 [==============================] - 10s 254ms/step - loss: 1.0234 - accuracy: 0.5124 - val_loss: 1.2169 - val_accuracy: 0.4301\n",
            "Epoch 6/100\n",
            "41/41 [==============================] - 10s 255ms/step - loss: 0.9591 - accuracy: 0.5687 - val_loss: 1.1004 - val_accuracy: 0.5110\n",
            "Epoch 7/100\n",
            "41/41 [==============================] - 10s 254ms/step - loss: 0.9560 - accuracy: 0.5650 - val_loss: 1.0685 - val_accuracy: 0.5000\n",
            "Epoch 8/100\n",
            "41/41 [==============================] - 10s 256ms/step - loss: 0.9077 - accuracy: 0.5749 - val_loss: 1.0560 - val_accuracy: 0.5147\n",
            "Epoch 9/100\n",
            "41/41 [==============================] - 10s 255ms/step - loss: 0.8610 - accuracy: 0.5885 - val_loss: 0.9213 - val_accuracy: 0.5919\n",
            "Epoch 10/100\n",
            "41/41 [==============================] - 10s 254ms/step - loss: 0.8446 - accuracy: 0.6139 - val_loss: 0.9280 - val_accuracy: 0.5809\n",
            "Epoch 11/100\n",
            "41/41 [==============================] - 10s 255ms/step - loss: 0.8295 - accuracy: 0.6157 - val_loss: 0.8818 - val_accuracy: 0.5294\n",
            "Epoch 12/100\n",
            "41/41 [==============================] - 11s 257ms/step - loss: 0.7955 - accuracy: 0.6423 - val_loss: 0.8856 - val_accuracy: 0.5956\n",
            "Epoch 13/100\n",
            "41/41 [==============================] - 10s 255ms/step - loss: 0.7659 - accuracy: 0.6454 - val_loss: 0.8105 - val_accuracy: 0.5882\n",
            "Epoch 14/100\n",
            "41/41 [==============================] - 10s 255ms/step - loss: 0.7479 - accuracy: 0.6572 - val_loss: 0.8060 - val_accuracy: 0.5368\n",
            "Epoch 15/100\n",
            "41/41 [==============================] - 10s 254ms/step - loss: 0.7164 - accuracy: 0.6714 - val_loss: 0.7737 - val_accuracy: 0.5993\n",
            "Epoch 16/100\n",
            "41/41 [==============================] - 10s 254ms/step - loss: 0.7488 - accuracy: 0.6615 - val_loss: 0.6967 - val_accuracy: 0.6471\n",
            "Epoch 17/100\n",
            "41/41 [==============================] - 10s 255ms/step - loss: 0.6998 - accuracy: 0.6869 - val_loss: 0.7334 - val_accuracy: 0.6801\n",
            "Epoch 18/100\n",
            "41/41 [==============================] - 10s 253ms/step - loss: 0.6712 - accuracy: 0.7079 - val_loss: 0.7053 - val_accuracy: 0.6875\n",
            "Epoch 19/100\n",
            "41/41 [==============================] - 10s 254ms/step - loss: 0.7026 - accuracy: 0.6894 - val_loss: 0.6742 - val_accuracy: 0.6654\n",
            "Epoch 20/100\n",
            "41/41 [==============================] - 11s 257ms/step - loss: 0.6547 - accuracy: 0.7005 - val_loss: 0.7016 - val_accuracy: 0.6618\n",
            "Epoch 21/100\n",
            "41/41 [==============================] - 10s 254ms/step - loss: 0.6245 - accuracy: 0.7172 - val_loss: 0.6383 - val_accuracy: 0.7132\n",
            "Epoch 22/100\n",
            "41/41 [==============================] - 10s 254ms/step - loss: 0.6415 - accuracy: 0.7222 - val_loss: 0.6976 - val_accuracy: 0.6066\n",
            "Epoch 23/100\n",
            "41/41 [==============================] - 10s 255ms/step - loss: 0.6331 - accuracy: 0.7234 - val_loss: 0.7700 - val_accuracy: 0.5147\n",
            "Epoch 24/100\n",
            "41/41 [==============================] - 10s 255ms/step - loss: 0.6178 - accuracy: 0.7234 - val_loss: 0.8338 - val_accuracy: 0.5772\n",
            "Epoch 25/100\n",
            "41/41 [==============================] - 10s 255ms/step - loss: 0.6094 - accuracy: 0.7283 - val_loss: 0.6851 - val_accuracy: 0.6397\n",
            "Epoch 26/100\n",
            "41/41 [==============================] - 10s 255ms/step - loss: 0.5962 - accuracy: 0.7321 - val_loss: 0.7224 - val_accuracy: 0.5699\n",
            "Epoch 27/100\n",
            "41/41 [==============================] - 10s 255ms/step - loss: 0.6186 - accuracy: 0.7222 - val_loss: 0.7486 - val_accuracy: 0.6176\n",
            "Epoch 28/100\n",
            "41/41 [==============================] - 10s 255ms/step - loss: 0.5686 - accuracy: 0.7550 - val_loss: 0.7262 - val_accuracy: 0.6250\n",
            "Epoch 29/100\n",
            "41/41 [==============================] - 10s 255ms/step - loss: 0.5853 - accuracy: 0.7339 - val_loss: 0.7647 - val_accuracy: 0.5919\n",
            "Epoch 30/100\n",
            "41/41 [==============================] - 10s 256ms/step - loss: 0.5854 - accuracy: 0.7265 - val_loss: 0.6176 - val_accuracy: 0.7059\n",
            "Epoch 31/100\n",
            "41/41 [==============================] - 10s 256ms/step - loss: 0.5608 - accuracy: 0.7500 - val_loss: 0.8267 - val_accuracy: 0.5478\n",
            "Epoch 32/100\n",
            "41/41 [==============================] - 10s 255ms/step - loss: 0.5507 - accuracy: 0.7587 - val_loss: 0.6679 - val_accuracy: 0.6801\n",
            "Epoch 33/100\n",
            "41/41 [==============================] - 10s 254ms/step - loss: 0.5535 - accuracy: 0.7426 - val_loss: 0.7990 - val_accuracy: 0.6360\n",
            "Epoch 34/100\n",
            "41/41 [==============================] - 10s 254ms/step - loss: 0.5502 - accuracy: 0.7661 - val_loss: 0.7118 - val_accuracy: 0.6324\n",
            "Epoch 35/100\n",
            "41/41 [==============================] - 10s 254ms/step - loss: 0.5615 - accuracy: 0.7494 - val_loss: 0.7776 - val_accuracy: 0.5993\n",
            "Epoch 36/100\n",
            "41/41 [==============================] - 10s 256ms/step - loss: 0.5260 - accuracy: 0.7766 - val_loss: 0.8789 - val_accuracy: 0.5772\n",
            "Epoch 37/100\n",
            "41/41 [==============================] - 10s 255ms/step - loss: 0.5234 - accuracy: 0.7562 - val_loss: 0.6646 - val_accuracy: 0.6507\n",
            "Epoch 38/100\n",
            "41/41 [==============================] - 10s 254ms/step - loss: 0.5097 - accuracy: 0.7723 - val_loss: 0.5905 - val_accuracy: 0.7206\n",
            "Epoch 39/100\n",
            "41/41 [==============================] - 10s 255ms/step - loss: 0.5320 - accuracy: 0.7624 - val_loss: 0.7830 - val_accuracy: 0.6581\n",
            "Epoch 40/100\n",
            "41/41 [==============================] - 10s 254ms/step - loss: 0.5013 - accuracy: 0.7599 - val_loss: 0.6167 - val_accuracy: 0.7132\n",
            "Epoch 41/100\n",
            "41/41 [==============================] - 10s 255ms/step - loss: 0.4961 - accuracy: 0.7754 - val_loss: 0.5812 - val_accuracy: 0.7426\n",
            "Epoch 42/100\n",
            "41/41 [==============================] - 10s 255ms/step - loss: 0.4944 - accuracy: 0.7766 - val_loss: 0.7454 - val_accuracy: 0.6324\n",
            "Epoch 43/100\n",
            "41/41 [==============================] - 10s 254ms/step - loss: 0.5195 - accuracy: 0.7580 - val_loss: 0.5869 - val_accuracy: 0.7132\n",
            "Epoch 44/100\n",
            "41/41 [==============================] - 11s 256ms/step - loss: 0.4948 - accuracy: 0.7840 - val_loss: 0.9237 - val_accuracy: 0.6140\n",
            "Epoch 45/100\n",
            "41/41 [==============================] - 10s 256ms/step - loss: 0.4657 - accuracy: 0.7828 - val_loss: 0.5620 - val_accuracy: 0.7390\n",
            "Epoch 46/100\n",
            "41/41 [==============================] - 10s 255ms/step - loss: 0.4859 - accuracy: 0.7908 - val_loss: 0.7839 - val_accuracy: 0.6140\n",
            "Epoch 47/100\n",
            "41/41 [==============================] - 10s 256ms/step - loss: 0.4767 - accuracy: 0.7797 - val_loss: 0.7022 - val_accuracy: 0.6434\n",
            "Epoch 48/100\n",
            "41/41 [==============================] - 11s 257ms/step - loss: 0.4560 - accuracy: 0.8075 - val_loss: 0.6101 - val_accuracy: 0.7353\n",
            "Epoch 49/100\n",
            "41/41 [==============================] - 10s 254ms/step - loss: 0.4679 - accuracy: 0.7933 - val_loss: 0.7198 - val_accuracy: 0.6838\n",
            "Epoch 50/100\n",
            "41/41 [==============================] - 10s 256ms/step - loss: 0.4488 - accuracy: 0.7939 - val_loss: 0.7853 - val_accuracy: 0.6434\n",
            "Epoch 51/100\n",
            "41/41 [==============================] - 10s 253ms/step - loss: 0.4568 - accuracy: 0.7908 - val_loss: 0.7365 - val_accuracy: 0.6728\n",
            "Epoch 52/100\n",
            "41/41 [==============================] - 10s 255ms/step - loss: 0.4324 - accuracy: 0.8187 - val_loss: 1.2661 - val_accuracy: 0.5662\n",
            "Epoch 53/100\n",
            "41/41 [==============================] - 10s 255ms/step - loss: 0.4696 - accuracy: 0.7822 - val_loss: 1.0576 - val_accuracy: 0.5735\n",
            "Epoch 54/100\n",
            "41/41 [==============================] - 10s 254ms/step - loss: 0.4757 - accuracy: 0.7896 - val_loss: 0.5458 - val_accuracy: 0.7794\n",
            "Epoch 55/100\n",
            "41/41 [==============================] - 10s 255ms/step - loss: 0.4443 - accuracy: 0.8007 - val_loss: 0.5627 - val_accuracy: 0.7757\n",
            "Epoch 56/100\n",
            "41/41 [==============================] - 10s 255ms/step - loss: 0.4569 - accuracy: 0.8007 - val_loss: 0.5717 - val_accuracy: 0.7243\n",
            "Epoch 57/100\n",
            "41/41 [==============================] - 10s 256ms/step - loss: 0.4499 - accuracy: 0.8014 - val_loss: 0.6589 - val_accuracy: 0.7022\n",
            "Epoch 58/100\n",
            "41/41 [==============================] - 10s 255ms/step - loss: 0.4237 - accuracy: 0.8094 - val_loss: 0.8298 - val_accuracy: 0.6213\n",
            "Epoch 59/100\n",
            "41/41 [==============================] - 10s 255ms/step - loss: 0.4362 - accuracy: 0.7970 - val_loss: 0.5365 - val_accuracy: 0.7610\n",
            "Epoch 60/100\n",
            "41/41 [==============================] - 10s 255ms/step - loss: 0.4419 - accuracy: 0.8007 - val_loss: 0.6828 - val_accuracy: 0.6507\n",
            "Epoch 61/100\n",
            "41/41 [==============================] - 10s 255ms/step - loss: 0.4205 - accuracy: 0.8057 - val_loss: 0.5984 - val_accuracy: 0.7500\n",
            "Epoch 62/100\n",
            "41/41 [==============================] - 10s 254ms/step - loss: 0.4296 - accuracy: 0.7921 - val_loss: 0.5064 - val_accuracy: 0.8015\n",
            "Epoch 63/100\n",
            "41/41 [==============================] - 10s 254ms/step - loss: 0.3985 - accuracy: 0.8218 - val_loss: 0.5340 - val_accuracy: 0.7831\n",
            "Epoch 64/100\n",
            "41/41 [==============================] - 10s 255ms/step - loss: 0.4124 - accuracy: 0.8094 - val_loss: 0.5302 - val_accuracy: 0.7757\n",
            "Epoch 65/100\n",
            "41/41 [==============================] - 10s 256ms/step - loss: 0.4067 - accuracy: 0.8106 - val_loss: 1.2185 - val_accuracy: 0.6213\n",
            "Epoch 66/100\n",
            "41/41 [==============================] - 10s 255ms/step - loss: 0.4100 - accuracy: 0.8131 - val_loss: 0.7061 - val_accuracy: 0.6654\n",
            "Epoch 67/100\n",
            "41/41 [==============================] - 10s 255ms/step - loss: 0.4267 - accuracy: 0.8181 - val_loss: 0.4940 - val_accuracy: 0.8125\n",
            "Epoch 68/100\n",
            "41/41 [==============================] - 10s 255ms/step - loss: 0.4156 - accuracy: 0.8150 - val_loss: 0.5201 - val_accuracy: 0.7904\n",
            "Epoch 69/100\n",
            "41/41 [==============================] - 10s 255ms/step - loss: 0.4150 - accuracy: 0.8193 - val_loss: 0.5094 - val_accuracy: 0.7721\n",
            "Epoch 70/100\n",
            "41/41 [==============================] - 10s 255ms/step - loss: 0.4093 - accuracy: 0.8026 - val_loss: 0.5418 - val_accuracy: 0.7279\n",
            "Epoch 71/100\n",
            "41/41 [==============================] - 10s 255ms/step - loss: 0.3849 - accuracy: 0.8335 - val_loss: 0.6032 - val_accuracy: 0.7169\n",
            "Epoch 72/100\n",
            "41/41 [==============================] - 10s 256ms/step - loss: 0.4094 - accuracy: 0.8045 - val_loss: 0.7451 - val_accuracy: 0.6875\n",
            "Epoch 73/100\n",
            "41/41 [==============================] - 10s 255ms/step - loss: 0.3994 - accuracy: 0.8156 - val_loss: 0.6515 - val_accuracy: 0.7243\n",
            "Epoch 74/100\n",
            "41/41 [==============================] - 10s 256ms/step - loss: 0.4141 - accuracy: 0.8119 - val_loss: 0.7072 - val_accuracy: 0.6985\n",
            "Epoch 75/100\n",
            "41/41 [==============================] - 10s 256ms/step - loss: 0.4256 - accuracy: 0.8051 - val_loss: 0.6312 - val_accuracy: 0.8125\n",
            "Epoch 76/100\n",
            "41/41 [==============================] - 11s 257ms/step - loss: 0.4155 - accuracy: 0.8187 - val_loss: 0.6206 - val_accuracy: 0.7390\n",
            "Epoch 77/100\n",
            "41/41 [==============================] - 10s 254ms/step - loss: 0.3797 - accuracy: 0.8261 - val_loss: 0.6689 - val_accuracy: 0.7463\n",
            "Epoch 78/100\n",
            "41/41 [==============================] - 10s 255ms/step - loss: 0.4101 - accuracy: 0.8119 - val_loss: 0.7001 - val_accuracy: 0.6581\n",
            "Epoch 79/100\n",
            "41/41 [==============================] - 10s 254ms/step - loss: 0.3896 - accuracy: 0.8113 - val_loss: 0.5332 - val_accuracy: 0.7794\n",
            "Epoch 80/100\n",
            "41/41 [==============================] - 10s 256ms/step - loss: 0.3945 - accuracy: 0.8144 - val_loss: 0.8152 - val_accuracy: 0.6875\n",
            "Epoch 81/100\n",
            "41/41 [==============================] - 10s 256ms/step - loss: 0.3708 - accuracy: 0.8379 - val_loss: 0.8861 - val_accuracy: 0.5993\n",
            "Epoch 82/100\n",
            "41/41 [==============================] - 10s 254ms/step - loss: 0.3637 - accuracy: 0.8441 - val_loss: 0.6316 - val_accuracy: 0.7610\n",
            "Epoch 83/100\n",
            "41/41 [==============================] - 10s 255ms/step - loss: 0.3830 - accuracy: 0.8298 - val_loss: 0.5144 - val_accuracy: 0.8051\n",
            "Epoch 84/100\n",
            "41/41 [==============================] - 10s 255ms/step - loss: 0.3877 - accuracy: 0.8193 - val_loss: 0.6317 - val_accuracy: 0.7022\n",
            "Epoch 85/100\n",
            "41/41 [==============================] - 10s 256ms/step - loss: 0.3737 - accuracy: 0.8360 - val_loss: 0.8048 - val_accuracy: 0.6324\n",
            "Epoch 86/100\n",
            "41/41 [==============================] - 10s 256ms/step - loss: 0.3641 - accuracy: 0.8298 - val_loss: 0.5911 - val_accuracy: 0.7610\n",
            "Epoch 87/100\n",
            "41/41 [==============================] - 10s 255ms/step - loss: 0.3735 - accuracy: 0.8366 - val_loss: 1.3940 - val_accuracy: 0.5772\n",
            "Epoch 88/100\n",
            "41/41 [==============================] - 10s 256ms/step - loss: 0.4198 - accuracy: 0.8094 - val_loss: 0.7435 - val_accuracy: 0.6765\n",
            "Epoch 89/100\n",
            "41/41 [==============================] - 10s 256ms/step - loss: 0.3535 - accuracy: 0.8441 - val_loss: 0.8737 - val_accuracy: 0.6618\n",
            "Epoch 90/100\n",
            "41/41 [==============================] - 10s 256ms/step - loss: 0.3850 - accuracy: 0.8292 - val_loss: 0.7151 - val_accuracy: 0.6912\n",
            "Epoch 91/100\n",
            "41/41 [==============================] - 10s 256ms/step - loss: 0.3738 - accuracy: 0.8304 - val_loss: 0.6266 - val_accuracy: 0.7684\n",
            "Epoch 92/100\n",
            "41/41 [==============================] - 10s 254ms/step - loss: 0.3822 - accuracy: 0.8286 - val_loss: 0.6678 - val_accuracy: 0.7537\n",
            "Epoch 93/100\n",
            "41/41 [==============================] - 10s 254ms/step - loss: 0.3601 - accuracy: 0.8212 - val_loss: 0.5316 - val_accuracy: 0.7868\n",
            "Epoch 94/100\n",
            "41/41 [==============================] - 10s 254ms/step - loss: 0.3630 - accuracy: 0.8391 - val_loss: 0.5633 - val_accuracy: 0.7463\n",
            "Epoch 95/100\n",
            "41/41 [==============================] - 10s 256ms/step - loss: 0.3739 - accuracy: 0.8280 - val_loss: 0.9787 - val_accuracy: 0.6471\n",
            "Epoch 96/100\n",
            "41/41 [==============================] - 10s 254ms/step - loss: 0.3596 - accuracy: 0.8335 - val_loss: 0.7975 - val_accuracy: 0.7721\n",
            "Epoch 97/100\n",
            "41/41 [==============================] - 10s 254ms/step - loss: 0.3480 - accuracy: 0.8428 - val_loss: 0.5446 - val_accuracy: 0.7794\n",
            "Epoch 98/100\n",
            "41/41 [==============================] - 10s 255ms/step - loss: 0.3694 - accuracy: 0.8292 - val_loss: 0.7453 - val_accuracy: 0.7647\n",
            "Epoch 99/100\n",
            "41/41 [==============================] - 10s 254ms/step - loss: 0.3631 - accuracy: 0.8243 - val_loss: 1.1560 - val_accuracy: 0.5956\n",
            "Epoch 100/100\n",
            "41/41 [==============================] - 10s 254ms/step - loss: 0.3309 - accuracy: 0.8496 - val_loss: 0.5169 - val_accuracy: 0.7831\n"
          ]
        }
      ],
      "source": [
        "# Create an Instance of Early Stopping Callback\n",
        "early_stopping_callback = keras.callbacks.EarlyStopping(monitor = 'val_loss',\n",
        "                                                        patience = 20,\n",
        "                                                        mode = 'min',\n",
        "                                                        restore_best_weights = True)\n",
        "# Compile the model and specify loss function, optimizer and metrics values to the model\n",
        "model.compile(loss = 'categorical_crossentropy',\n",
        "              optimizer= keras.optimizers.Adam(0.001, decay=1e-4),\n",
        "              metrics=['accuracy'])\n",
        "# Start training the model.\n",
        "cnn_3d_model_training_history = model.fit(x = features_train,\n",
        "                                          y = labels_train,\n",
        "                                          epochs=100,\n",
        "                                          batch_size=40,\n",
        "                                          shuffle = True,\n",
        "                                          validation_data = (features_valid, labels_valid)),\n",
        "                                          # callbacks = [early_stopping_callback])"
      ]
    },
    {
      "cell_type": "code",
      "execution_count": 13,
      "metadata": {
        "colab": {
          "base_uri": "https://localhost:8080/"
        },
        "id": "3vimsgjjbXvL",
        "outputId": "bee4254e-c19c-4547-88b8-9cc435c36a9e"
      },
      "outputs": [
        {
          "output_type": "stream",
          "name": "stdout",
          "text": [
            "9/9 [==============================] - 1s 70ms/step - loss: 0.8452 - accuracy: 0.6765\n",
            "\n",
            "\n",
            "Train accuracy: 91.337 % || Test accuracy: 67.647 % || Val accuracy: 78.309 %\n",
            "Train loss: 0.216 || Test loss: 0.845 || Val loss: 0.517\n"
          ]
        }
      ],
      "source": [
        "model_evaluation_history = model.evaluate(features_test, labels_test)\n",
        "print('\\n')\n",
        "train_loss, train_acc = model.evaluate(features_train, labels_train, verbose=0)\n",
        "test_loss, test_acc = model.evaluate(features_test, labels_test, verbose=0)\n",
        "val_loss, val_acc = model.evaluate(features_valid, labels_valid, verbose=0)\n",
        "print(f'Train accuracy: {train_acc*100:.3f} % || Test accuracy: {test_acc*100:.3f} % || Val accuracy: {val_acc*100:.3f} %')\n",
        "print(f'Train loss: {train_loss:.3f} || Test loss: {test_loss:.3f} || Val loss: {val_loss:.3f}')"
      ]
    },
    {
      "cell_type": "code",
      "execution_count": 14,
      "metadata": {
        "id": "ivmaK9BlbnRQ"
      },
      "outputs": [],
      "source": [
        "# Get the loss and accuracy from model_evaluation_history.\n",
        "model_evaluation_loss, model_evaluation_accuracy = model_evaluation_history\n",
        " \n",
        "# Define the string date format.\n",
        "# Get the current Date and Time in a DateTime Object.\n",
        "# Convert the DateTime object to string according to the style mentioned in date_time_format string.\n",
        "date_time_format = '%Y_%m_%d__%H_%M_%S'\n",
        "current_date_time_dt = dt.datetime.now()\n",
        "current_date_time_string = dt.datetime.strftime(current_date_time_dt, date_time_format)\n",
        " \n",
        "# Define a useful name for our model to make it easy for us while navigating through multiple saved models.\n",
        "model_file_name = f'3D_CNN_model___Date_Time_{current_date_time_string}___Loss_{model_evaluation_loss}___Accuracy_{model_evaluation_accuracy}.h5'\n",
        " \n",
        "# Change dir\n",
        "gdrive_path = '/content/gdrive' + '/My Drive/247/Saved_models/'\n",
        "os.chdir(gdrive_path)\n",
        "# Create a floder for the model files\n",
        "!mkdir -p cnn_3d_{current_date_time_string}\n",
        "# Save your Model.\n",
        "model.save('3D_CNN' + str(current_date_time_string) + '/' + model_file_name)\n",
        "# Save model weights\n",
        "model.save_weights('3D_CNN' + str(current_date_time_string) + '/' + 'weights')"
      ]
    },
    {
      "cell_type": "code",
      "execution_count": 17,
      "metadata": {
        "id": "OwU8TwPrbsKB"
      },
      "outputs": [],
      "source": [
        "def plot_metric(model_training_history, metric_name_1, metric_name_2, plot_name):\n",
        "    '''\n",
        "    This function will plot the metrics passed to it in a graph.\n",
        "    Args:\n",
        "        model_training_history: A history object containing a record of training and validation \n",
        "                                loss values and metrics values at successive epochs\n",
        "        metric_name_1:          The name of the first metric that needs to be plotted in the graph.\n",
        "        metric_name_2:          The name of the second metric that needs to be plotted in the graph.\n",
        "        plot_name:              The title of the graph.\n",
        "    '''\n",
        "    \n",
        "    # Get metric values using metric names as identifiers.\n",
        "    metric_value_1 = model_training_history[0].history[metric_name_1]\n",
        "    metric_value_2 = model_training_history[0].history[metric_name_2]\n",
        "    \n",
        "    # Construct a range object which will be used as x-axis (horizontal plane) of the graph.\n",
        "    epochs = range(len(metric_value_1))\n",
        "\n",
        "    # Plot the Graph.\n",
        "    plt.plot(epochs, metric_value_1, 'blue', label = metric_name_1)\n",
        "    plt.plot(epochs, metric_value_2, 'red', label = metric_name_2)\n",
        "\n",
        "    # Add title to the plot.\n",
        "    plt.title(str(plot_name))\n",
        "\n",
        "    # Add legend to the plot.\n",
        "    plt.legend()"
      ]
    },
    {
      "cell_type": "code",
      "execution_count": 18,
      "metadata": {
        "colab": {
          "base_uri": "https://localhost:8080/",
          "height": 281
        },
        "id": "cvKY05ncbwof",
        "outputId": "2d318acf-40bf-4343-e4cb-39c201579ccc"
      },
      "outputs": [
        {
          "output_type": "display_data",
          "data": {
            "text/plain": [
              "<Figure size 432x288 with 1 Axes>"
            ],
            "image/png": "[encoded data removed]"
          },
          "metadata": {
            "needs_background": "light"
          }
        }
      ],
      "source": [
        "plot_metric(cnn_3d_model_training_history, 'loss', 'val_loss', 'Total Loss vs Total Validation Loss')"
      ]
    },
    {
      "cell_type": "code",
      "execution_count": 19,
      "metadata": {
        "colab": {
          "base_uri": "https://localhost:8080/",
          "height": 281
        },
        "id": "o1iaaDHBb5i0",
        "outputId": "071eab28-bdc1-4f1d-a6cf-453768bdeff9"
      },
      "outputs": [
        {
          "output_type": "display_data",
          "data": {
            "text/plain": [
              "<Figure size 432x288 with 1 Axes>"
            ],
            "image/png": "[encoded data removed]"
          },
          "metadata": {
            "needs_background": "light"
          }
        }
      ],
      "source": [
        "plot_metric(cnn_3d_model_training_history, 'accuracy', 'val_accuracy', 'Total Accuracy vs Total Validation Accuracy') "
      ]
    }
  ],
  "metadata": {
    "accelerator": "GPU",
    "colab": {
      "collapsed_sections": [],
      "machine_shape": "hm",
      "name": "3D_CNN.ipynb",
      "provenance": [],
      "authorship_tag": "ABX9TyP3q1H3jQmqkZyNu0uO/p+U",
      "include_colab_link": true
    },
    "kernelspec": {
      "display_name": "Python 3",
      "name": "python3"
    },
    "language_info": {
      "name": "python"
    }
  },
  "nbformat": 4,
  "nbformat_minor": 0
}