{
  "cells": [
    {
      "cell_type": "markdown",
      "metadata": {
        "id": "view-in-github",
        "colab_type": "text"
      },
      "source": [
        "<a href=\"https://colab.research.google.com/github/alexsalman/CSE247/blob/main/2D_CNN%2BLSTM_No_Splint.ipynb\" target=\"_parent\"><img src=\"https://colab.research.google.com/assets/colab-badge.svg\" alt=\"Open In Colab\"/></a>"
      ]
    },
    {
      "cell_type": "markdown",
      "metadata": {
        "id": "Fk8TLrPiv-ab"
      },
      "source": [
        "####**Convolutional Neural Network + Long Short Term Memory**\n",
        "######*I am using a Convolution Neural Network (CNN) + Long Short Term Memory (LSTM) Network to extract general representation while utilizing the Spatial-temporal aspect of the videos.*"
      ]
    },
    {
      "cell_type": "code",
      "execution_count": 1,
      "metadata": {
        "id": "M8ibtd5HKtZk",
        "colab": {
          "base_uri": "https://localhost:8080/"
        },
        "outputId": "df8a103f-31ac-4ee5-9901-58b7e5f34e11"
      },
      "outputs": [
        {
          "output_type": "stream",
          "name": "stdout",
          "text": [
            "2.8.0\n"
          ]
        }
      ],
      "source": [
        "# required libraries\n",
        "import os\n",
        "import cv2\n",
        "import random\n",
        "import numpy as np\n",
        "import datetime as dt\n",
        "import matplotlib.pyplot as plt\n",
        "from google.colab import drive\n",
        "from sklearn.model_selection import train_test_split\n",
        "import tensorflow as tf\n",
        "from tensorflow import keras\n",
        "from keras.models import Sequential\n",
        "from keras.layers import Conv2D, Flatten, Dense, Dropout, Activation, BatchNormalization\n",
        "from keras.layers import TimeDistributed, MaxPooling2D, GlobalAveragePooling2D\n",
        "from keras.layers.recurrent import LSTM\n",
        "from keras import regularizers\n",
        "%matplotlib inline\n",
        "print(tf.version.VERSION)"
      ]
    },
    {
      "cell_type": "code",
      "execution_count": 2,
      "metadata": {
        "id": "iffdFOf1CEAN"
      },
      "outputs": [],
      "source": [
        "# set Numpy, Python, and Tensorflow seeds to get consistent results on every execution\n",
        "seed_constant = 27\n",
        "np.random.seed(seed_constant)\n",
        "random.seed(seed_constant)\n",
        "tf.random.set_seed(seed_constant)"
      ]
    },
    {
      "cell_type": "code",
      "execution_count": 3,
      "metadata": {
        "colab": {
          "base_uri": "https://localhost:8080/",
          "height": 53
        },
        "id": "mcLh22LiOHyn",
        "outputId": "c1571292-6dfa-4a7e-bb88-ef04fa162b86"
      },
      "outputs": [
        {
          "output_type": "stream",
          "name": "stdout",
          "text": [
            "Mounted at /content/gdrive/\n"
          ]
        },
        {
          "output_type": "execute_result",
          "data": {
            "text/plain": [
              "'/content/gdrive/My Drive/247'"
            ],
            "application/vnd.google.colaboratory.intrinsic+json": {
              "type": "string"
            }
          },
          "metadata": {},
          "execution_count": 3
        }
      ],
      "source": [
        "# mount dataset from google drive\n",
        "drive.mount('/content/gdrive/', force_remount=True)\n",
        "gdrive_path = '/content/gdrive' + '/My Drive/247/'\n",
        "os.chdir(gdrive_path)\n",
        "os.getcwd()"
      ]
    },
    {
      "cell_type": "code",
      "execution_count": 4,
      "metadata": {
        "id": "oeDK8SzumZ1Q"
      },
      "outputs": [],
      "source": [
        "# frame dimention\n",
        "IMAGE_HEIGHT, IMAGE_WIDTH = 96, 96\n",
        "# frame number for each video (depth)\n",
        "SEQUENCE_LENGTH = 16\n",
        "DATASET_DIR = gdrive_path + 'Circle_Cropped_videos_labeled'\n",
        "# labels of classes\n",
        "CLASSES_LIST = ['hemostasis', 'inflammatory', 'proliferative', 'maturation']"
      ]
    },
    {
      "cell_type": "code",
      "execution_count": 5,
      "metadata": {
        "id": "3mFB5qD6b3Kd"
      },
      "outputs": [],
      "source": [
        "# image cropping\n",
        "def crop_center_square(frame):\n",
        "    y, x = frame.shape[0:2]\n",
        "    min_dim = min(y, x)\n",
        "    start_x = (x // 2) - (min_dim // 2)\n",
        "    start_y = (y // 2) - (min_dim // 2)\n",
        "    return frame[start_y:start_y+min_dim,start_x:start_x+min_dim]"
      ]
    },
    {
      "cell_type": "code",
      "execution_count": 6,
      "metadata": {
        "id": "sqeexMUjaLzJ"
      },
      "outputs": [],
      "source": [
        "def load_video(path, resize=(96, 96)):\n",
        "    video_reader = cv2.VideoCapture(path)\n",
        "    frames = []\n",
        "    try:\n",
        "        while True:\n",
        "            ret, frame = video_reader.read()\n",
        "            if not ret:\n",
        "                  break\n",
        "            frame = crop_center_square(frame)\n",
        "            frame = cv2.resize(frame, resize)\n",
        "            frame = frame[:, :, [2, 1, 0]]\n",
        "            frames.append(frame)\n",
        "    finally:\n",
        "        video_reader.release()\n",
        "    return np.array(frames) / 255.0"
      ]
    },
    {
      "cell_type": "code",
      "execution_count": 7,
      "metadata": {
        "id": "ljUWHW6Jqzu-"
      },
      "outputs": [],
      "source": [
        "def create_dataset(state):\n",
        "    # Declared Empty Lists to store the features, labels and video file path values.\n",
        "    features = []\n",
        "    labels = []\n",
        "    video_files_paths = []\n",
        "    # Iterating through all the classes mentioned in the classes list\n",
        "    for class_index, class_name in enumerate(CLASSES_LIST):\n",
        "        # Display the name of the class whose data is being extracted.\n",
        "        print(f'Extracting Data of Class: {class_name} {state}')\n",
        "        # Get the list of video files present in the specific class name directory.\n",
        "        files_list = os.listdir(os.path.join(DATASET_DIR, class_name))\n",
        "        # Iterate through all the files present in the files list.\n",
        "        for file_name in files_list:\n",
        "            # Get the complete video path.\n",
        "            video_file_path = os.path.join(DATASET_DIR, class_name, file_name)\n",
        "            # create testing data\n",
        "            if state == 'test':\n",
        "                # get the mouse number\n",
        "                mouse_number = int(video_file_path.split(' ')[2].split('_')[1].split('-')[1])\n",
        "                # get the mouse side (L or R)\n",
        "                mouse_side = video_file_path.split(' ')[2].split('_')[1].split('-')[2]\n",
        "                if mouse_number == 4 and mouse_side == 'L':\n",
        "                    frames = load_video(video_file_path)\n",
        "                    features.append(frames)\n",
        "                    labels.append(class_index)\n",
        "                    video_files_paths.append(video_file_path)\n",
        "            # create validation data\n",
        "            elif state == 'valid':\n",
        "                # get the mouse number\n",
        "                mouse_number = int(video_file_path.split(' ')[2].split('_')[1].split('-')[1])\n",
        "                # get the mouse side (L or R)\n",
        "                mouse_side = video_file_path.split(' ')[2].split('_')[1].split('-')[2]\n",
        "                if mouse_number == 4 and mouse_side == 'R':\n",
        "                    frames = load_video(video_file_path)\n",
        "                    features.append(frames)\n",
        "                    labels.append(class_index)\n",
        "                    video_files_paths.append(video_file_path)\n",
        "            # create training data\n",
        "            else:\n",
        "                # get the mouse number\n",
        "                mouse_number = int(video_file_path.split(' ')[2].split('_')[1].split('-')[1])\n",
        "                if mouse_number != 4:\n",
        "                    frames = load_video(video_file_path)\n",
        "                    features.append(frames)\n",
        "                    labels.append(class_index)\n",
        "                    video_files_paths.append(video_file_path)\n",
        "    # Converting the list to numpy arrays\n",
        "    features = np.asarray(features)\n",
        "    # print(features)\n",
        "    labels = np.array(labels)\n",
        "    # Return the frames, class index, and video file path.\n",
        "    return features, labels, video_files_paths"
      ]
    },
    {
      "cell_type": "code",
      "execution_count": 8,
      "metadata": {
        "colab": {
          "base_uri": "https://localhost:8080/"
        },
        "id": "a8rpanz9rASe",
        "outputId": "4f13739c-da7a-4d9b-9363-b3c2584007ea"
      },
      "outputs": [
        {
          "output_type": "stream",
          "name": "stdout",
          "text": [
            "Extracting Data of Class: hemostasis train\n",
            "Extracting Data of Class: inflammatory train\n",
            "Extracting Data of Class: proliferative train\n",
            "Extracting Data of Class: maturation train\n",
            "Extracting Data of Class: hemostasis test\n",
            "Extracting Data of Class: inflammatory test\n",
            "Extracting Data of Class: proliferative test\n",
            "Extracting Data of Class: maturation test\n",
            "Extracting Data of Class: hemostasis valid\n",
            "Extracting Data of Class: inflammatory valid\n",
            "Extracting Data of Class: proliferative valid\n",
            "Extracting Data of Class: maturation valid\n"
          ]
        }
      ],
      "source": [
        "# 6 mice for training, 2 mice for test and validation (one wound on each mice for test one for validation)\n",
        "features_train, labels_train, video_files_paths_train = create_dataset('train')\n",
        "features_test, labels_test, video_files_paths_test = create_dataset('test')\n",
        "features_valid, labels_valid, video_files_paths_valid = create_dataset('valid')"
      ]
    },
    {
      "cell_type": "code",
      "execution_count": 9,
      "metadata": {
        "id": "dtJkK4qTAulC"
      },
      "outputs": [],
      "source": [
        "# labels to catogorical\n",
        "labels_train = keras.utils.to_categorical(labels_train)\n",
        "labels_test = keras.utils.to_categorical(labels_test)\n",
        "labels_valid = keras.utils.to_categorical(labels_valid)"
      ]
    },
    {
      "cell_type": "code",
      "execution_count": 23,
      "metadata": {
        "id": "Bi-NDol3DHRV"
      },
      "outputs": [],
      "source": [
        "def create_convlstm_model():\n",
        "    # TimeDistributed is a wrapper to handle input of size five to maintain frames number for LSTM\n",
        "    # A Conv2D layer requires four dimensions: (batch_size, height, width, channels)\n",
        "    # TimeDistributed will require an additional dimension: (batch_size, frames, height, width, channels)\n",
        "\n",
        "    model = Sequential()\n",
        "\n",
        "    model.add(TimeDistributed(Conv2D(8, (3,3), activation='relu',\n",
        "                                     kernel_regularizer=regularizers.L2(l2=1e-4)),\n",
        "                              input_shape=(16, 96, 96, 3)))\n",
        "    model.add(TimeDistributed(MaxPooling2D((2,2), strides=(2,2))))\n",
        "    model.add(Dropout(0.3))\n",
        "\n",
        "    model.add(TimeDistributed(Conv2D(16, (3,3), activation='relu',\n",
        "                                     kernel_regularizer=regularizers.L2(l2=1e-4))))\n",
        "    model.add(TimeDistributed(MaxPooling2D((2,2), strides=(2,2))))\n",
        "    model.add(Dropout(0.3))\n",
        "\n",
        "    model.add(TimeDistributed(Conv2D(32, (3,3), activation='relu',\n",
        "                                     kernel_regularizer=regularizers.L2(l2=1e-4))))\n",
        "    model.add(TimeDistributed(MaxPooling2D((2,2), strides=(2,2))))\n",
        "    model.add(Dropout(0.3))\n",
        "\n",
        "    model.add(TimeDistributed(Conv2D(16, (3,3), activation='relu',\n",
        "                                     kernel_regularizer=regularizers.L2(l2=1e-4))))\n",
        "    model.add(TimeDistributed(MaxPooling2D((2,2), strides=(2,2))))\n",
        "    model.add(Dropout(0.3))\n",
        "  \n",
        "    model.add(TimeDistributed(GlobalAveragePooling2D()))\n",
        "    model.add(Dropout(0.35))\n",
        "\n",
        "    model.add(LSTM(4, activation='relu', return_sequences=False))\n",
        "    model.add(Dropout(0.4))\n",
        "\n",
        "    model.add(Dense(16, activation='relu', kernel_initializer='he_uniform',\n",
        "                    kernel_regularizer=regularizers.L2(l2=1e-4)))\n",
        "    model.add(Dropout(0.4))\n",
        "\n",
        "    model.add(Dense(8, activation='relu', kernel_initializer='he_uniform',\n",
        "                    kernel_regularizer=regularizers.L2(l2=1e-4)))\n",
        "    model.add(Dropout(0.4))\n",
        "\n",
        "    model.add(Dense(4, activation='relu', kernel_initializer='he_uniform',\n",
        "                    kernel_regularizer=regularizers.L2(l2=1e-4)))\n",
        "\n",
        "    model.add(Dense(len(CLASSES_LIST), activation='softmax'))\n",
        "    model.summary(line_length = 100)\n",
        "    return model"
      ]
    },
    {
      "cell_type": "code",
      "execution_count": 24,
      "metadata": {
        "id": "FbjNYI-0DY_v",
        "colab": {
          "base_uri": "https://localhost:8080/"
        },
        "outputId": "2004fb5d-b462-4600-af75-3c75cd6efa38"
      },
      "outputs": [
        {
          "output_type": "stream",
          "name": "stdout",
          "text": [
            "Model: \"sequential_3\"\n",
            "____________________________________________________________________________________________________\n",
            " Layer (type)                                Output Shape                            Param #        \n",
            "====================================================================================================\n",
            " time_distributed_27 (TimeDistributed)       (None, 16, 94, 94, 8)                   224            \n",
            "                                                                                                    \n",
            " time_distributed_28 (TimeDistributed)       (None, 16, 47, 47, 8)                   0              \n",
            "                                                                                                    \n",
            " dropout_24 (Dropout)                        (None, 16, 47, 47, 8)                   0              \n",
            "                                                                                                    \n",
            " time_distributed_29 (TimeDistributed)       (None, 16, 45, 45, 16)                  1168           \n",
            "                                                                                                    \n",
            " time_distributed_30 (TimeDistributed)       (None, 16, 22, 22, 16)                  0              \n",
            "                                                                                                    \n",
            " dropout_25 (Dropout)                        (None, 16, 22, 22, 16)                  0              \n",
            "                                                                                                    \n",
            " time_distributed_31 (TimeDistributed)       (None, 16, 20, 20, 32)                  4640           \n",
            "                                                                                                    \n",
            " time_distributed_32 (TimeDistributed)       (None, 16, 10, 10, 32)                  0              \n",
            "                                                                                                    \n",
            " dropout_26 (Dropout)                        (None, 16, 10, 10, 32)                  0              \n",
            "                                                                                                    \n",
            " time_distributed_33 (TimeDistributed)       (None, 16, 8, 8, 16)                    4624           \n",
            "                                                                                                    \n",
            " time_distributed_34 (TimeDistributed)       (None, 16, 4, 4, 16)                    0              \n",
            "                                                                                                    \n",
            " dropout_27 (Dropout)                        (None, 16, 4, 4, 16)                    0              \n",
            "                                                                                                    \n",
            " time_distributed_35 (TimeDistributed)       (None, 16, 16)                          0              \n",
            "                                                                                                    \n",
            " dropout_28 (Dropout)                        (None, 16, 16)                          0              \n",
            "                                                                                                    \n",
            " lstm_3 (LSTM)                               (None, 4)                               336            \n",
            "                                                                                                    \n",
            " dropout_29 (Dropout)                        (None, 4)                               0              \n",
            "                                                                                                    \n",
            " dense_12 (Dense)                            (None, 16)                              80             \n",
            "                                                                                                    \n",
            " dropout_30 (Dropout)                        (None, 16)                              0              \n",
            "                                                                                                    \n",
            " dense_13 (Dense)                            (None, 8)                               136            \n",
            "                                                                                                    \n",
            " dropout_31 (Dropout)                        (None, 8)                               0              \n",
            "                                                                                                    \n",
            " dense_14 (Dense)                            (None, 4)                               36             \n",
            "                                                                                                    \n",
            " dense_15 (Dense)                            (None, 4)                               20             \n",
            "                                                                                                    \n",
            "====================================================================================================\n",
            "Total params: 11,264\n",
            "Trainable params: 11,264\n",
            "Non-trainable params: 0\n",
            "____________________________________________________________________________________________________\n",
            "Model Created Successfully!\n"
          ]
        }
      ],
      "source": [
        "# Construct the required convlstm model.\n",
        "convlstm_model = create_convlstm_model()\n",
        " \n",
        "# Display the success message. \n",
        "print(\"Model Created Successfully!\")"
      ]
    },
    {
      "cell_type": "code",
      "execution_count": 12,
      "metadata": {
        "id": "nMYwQOwyF3bd"
      },
      "outputs": [],
      "source": [
        "# keras.utils.plot_model(convlstm_model,\n",
        "#                          to_file = 'convlstm_model_structure_plot.png',\n",
        "#                          show_shapes = True,\n",
        "#                          show_layer_names = True)"
      ]
    },
    {
      "cell_type": "code",
      "execution_count": 25,
      "metadata": {
        "colab": {
          "base_uri": "https://localhost:8080/"
        },
        "id": "vYC_6H0uGqW9",
        "outputId": "9d5f1c63-c396-4f95-e62b-9e42adafa362"
      },
      "outputs": [
        {
          "output_type": "stream",
          "name": "stdout",
          "text": [
            "Epoch 1/200\n",
            "26/26 [==============================] - 7s 147ms/step - loss: 1.3816 - accuracy: 0.3844 - val_loss: 1.3676 - val_accuracy: 0.3971\n",
            "Epoch 2/200\n",
            "26/26 [==============================] - 3s 111ms/step - loss: 1.3419 - accuracy: 0.4508 - val_loss: 1.3202 - val_accuracy: 0.4559\n",
            "Epoch 3/200\n",
            "26/26 [==============================] - 3s 112ms/step - loss: 1.2913 - accuracy: 0.4373 - val_loss: 1.2816 - val_accuracy: 0.3971\n",
            "Epoch 4/200\n",
            "26/26 [==============================] - 3s 113ms/step - loss: 1.2336 - accuracy: 0.4723 - val_loss: 1.1666 - val_accuracy: 0.4890\n",
            "Epoch 5/200\n",
            "26/26 [==============================] - 3s 113ms/step - loss: 1.2063 - accuracy: 0.4490 - val_loss: 1.1691 - val_accuracy: 0.3971\n",
            "Epoch 6/200\n",
            "26/26 [==============================] - 3s 113ms/step - loss: 1.1752 - accuracy: 0.4809 - val_loss: 1.1531 - val_accuracy: 0.4706\n",
            "Epoch 7/200\n",
            "26/26 [==============================] - 3s 114ms/step - loss: 1.1597 - accuracy: 0.4606 - val_loss: 1.1301 - val_accuracy: 0.4706\n",
            "Epoch 8/200\n",
            "26/26 [==============================] - 3s 112ms/step - loss: 1.1323 - accuracy: 0.4828 - val_loss: 1.0870 - val_accuracy: 0.4706\n",
            "Epoch 9/200\n",
            "26/26 [==============================] - 3s 112ms/step - loss: 1.1261 - accuracy: 0.5000 - val_loss: 1.0869 - val_accuracy: 0.4779\n",
            "Epoch 10/200\n",
            "26/26 [==============================] - 3s 111ms/step - loss: 1.0985 - accuracy: 0.5031 - val_loss: 1.0360 - val_accuracy: 0.5000\n",
            "Epoch 11/200\n",
            "26/26 [==============================] - 3s 111ms/step - loss: 1.0925 - accuracy: 0.4975 - val_loss: 1.0072 - val_accuracy: 0.5000\n",
            "Epoch 12/200\n",
            "26/26 [==============================] - 3s 111ms/step - loss: 1.0676 - accuracy: 0.5141 - val_loss: 1.0269 - val_accuracy: 0.4779\n",
            "Epoch 13/200\n",
            "26/26 [==============================] - 3s 112ms/step - loss: 1.0647 - accuracy: 0.4963 - val_loss: 1.0160 - val_accuracy: 0.4669\n",
            "Epoch 14/200\n",
            "26/26 [==============================] - 3s 112ms/step - loss: 1.0413 - accuracy: 0.5080 - val_loss: 1.0080 - val_accuracy: 0.4890\n",
            "Epoch 15/200\n",
            "26/26 [==============================] - 3s 112ms/step - loss: 1.0532 - accuracy: 0.5160 - val_loss: 0.9797 - val_accuracy: 0.5000\n",
            "Epoch 16/200\n",
            "26/26 [==============================] - 3s 110ms/step - loss: 1.0570 - accuracy: 0.4902 - val_loss: 0.9626 - val_accuracy: 0.5000\n",
            "Epoch 17/200\n",
            "26/26 [==============================] - 3s 111ms/step - loss: 1.0352 - accuracy: 0.4926 - val_loss: 0.9779 - val_accuracy: 0.4890\n",
            "Epoch 18/200\n",
            "26/26 [==============================] - 3s 113ms/step - loss: 1.0344 - accuracy: 0.4859 - val_loss: 0.9649 - val_accuracy: 0.4706\n",
            "Epoch 19/200\n",
            "26/26 [==============================] - 3s 111ms/step - loss: 1.0195 - accuracy: 0.5025 - val_loss: 0.9962 - val_accuracy: 0.4412\n",
            "Epoch 20/200\n",
            "26/26 [==============================] - 3s 113ms/step - loss: 1.0314 - accuracy: 0.5031 - val_loss: 0.9920 - val_accuracy: 0.4779\n",
            "Epoch 21/200\n",
            "26/26 [==============================] - 3s 112ms/step - loss: 0.9854 - accuracy: 0.5375 - val_loss: 0.9395 - val_accuracy: 0.5000\n",
            "Epoch 22/200\n",
            "26/26 [==============================] - 3s 113ms/step - loss: 0.9992 - accuracy: 0.5320 - val_loss: 0.9738 - val_accuracy: 0.4596\n",
            "Epoch 23/200\n",
            "26/26 [==============================] - 3s 112ms/step - loss: 0.9878 - accuracy: 0.5178 - val_loss: 0.9875 - val_accuracy: 0.4706\n",
            "Epoch 24/200\n",
            "26/26 [==============================] - 3s 110ms/step - loss: 0.9854 - accuracy: 0.5461 - val_loss: 0.9739 - val_accuracy: 0.4926\n",
            "Epoch 25/200\n",
            "26/26 [==============================] - 3s 114ms/step - loss: 0.9463 - accuracy: 0.5713 - val_loss: 0.9060 - val_accuracy: 0.5956\n",
            "Epoch 26/200\n",
            "26/26 [==============================] - 3s 110ms/step - loss: 0.9169 - accuracy: 0.5916 - val_loss: 1.0073 - val_accuracy: 0.4081\n",
            "Epoch 27/200\n",
            "26/26 [==============================] - 3s 111ms/step - loss: 0.9044 - accuracy: 0.6113 - val_loss: 0.8952 - val_accuracy: 0.6103\n",
            "Epoch 28/200\n",
            "26/26 [==============================] - 3s 113ms/step - loss: 0.9342 - accuracy: 0.5929 - val_loss: 0.8495 - val_accuracy: 0.6397\n",
            "Epoch 29/200\n",
            "26/26 [==============================] - 3s 113ms/step - loss: 0.8916 - accuracy: 0.6150 - val_loss: 0.9265 - val_accuracy: 0.5846\n",
            "Epoch 30/200\n",
            "26/26 [==============================] - 3s 112ms/step - loss: 0.8762 - accuracy: 0.6224 - val_loss: 0.8905 - val_accuracy: 0.6324\n",
            "Epoch 31/200\n",
            "26/26 [==============================] - 3s 110ms/step - loss: 0.8656 - accuracy: 0.6279 - val_loss: 0.8444 - val_accuracy: 0.6434\n",
            "Epoch 32/200\n",
            "26/26 [==============================] - 3s 112ms/step - loss: 0.8801 - accuracy: 0.6175 - val_loss: 0.8169 - val_accuracy: 0.6544\n",
            "Epoch 33/200\n",
            "26/26 [==============================] - 3s 111ms/step - loss: 0.8605 - accuracy: 0.6285 - val_loss: 0.8295 - val_accuracy: 0.6434\n",
            "Epoch 34/200\n",
            "26/26 [==============================] - 3s 112ms/step - loss: 0.8575 - accuracy: 0.6248 - val_loss: 0.8296 - val_accuracy: 0.6544\n",
            "Epoch 35/200\n",
            "26/26 [==============================] - 3s 111ms/step - loss: 0.8879 - accuracy: 0.6125 - val_loss: 0.8208 - val_accuracy: 0.6434\n",
            "Epoch 36/200\n",
            "26/26 [==============================] - 3s 114ms/step - loss: 0.8610 - accuracy: 0.6255 - val_loss: 0.8112 - val_accuracy: 0.6507\n",
            "Epoch 37/200\n",
            "26/26 [==============================] - 3s 113ms/step - loss: 0.8690 - accuracy: 0.6205 - val_loss: 0.8808 - val_accuracy: 0.6213\n",
            "Epoch 38/200\n",
            "26/26 [==============================] - 3s 110ms/step - loss: 0.8387 - accuracy: 0.6433 - val_loss: 0.7944 - val_accuracy: 0.6544\n",
            "Epoch 39/200\n",
            "26/26 [==============================] - 3s 111ms/step - loss: 0.8389 - accuracy: 0.6433 - val_loss: 0.8212 - val_accuracy: 0.6397\n",
            "Epoch 40/200\n",
            "26/26 [==============================] - 3s 111ms/step - loss: 0.8625 - accuracy: 0.6205 - val_loss: 0.8090 - val_accuracy: 0.6544\n",
            "Epoch 41/200\n",
            "26/26 [==============================] - 3s 109ms/step - loss: 0.8374 - accuracy: 0.6316 - val_loss: 0.8603 - val_accuracy: 0.6287\n",
            "Epoch 42/200\n",
            "26/26 [==============================] - 3s 110ms/step - loss: 0.8158 - accuracy: 0.6482 - val_loss: 0.7834 - val_accuracy: 0.6544\n",
            "Epoch 43/200\n",
            "26/26 [==============================] - 3s 110ms/step - loss: 0.8260 - accuracy: 0.6378 - val_loss: 0.9409 - val_accuracy: 0.5956\n",
            "Epoch 44/200\n",
            "26/26 [==============================] - 3s 112ms/step - loss: 0.8299 - accuracy: 0.6378 - val_loss: 0.8347 - val_accuracy: 0.6324\n",
            "Epoch 45/200\n",
            "26/26 [==============================] - 3s 114ms/step - loss: 0.8249 - accuracy: 0.6328 - val_loss: 0.7826 - val_accuracy: 0.6544\n",
            "Epoch 46/200\n",
            "26/26 [==============================] - 3s 112ms/step - loss: 0.8292 - accuracy: 0.6488 - val_loss: 0.8472 - val_accuracy: 0.6287\n",
            "Epoch 47/200\n",
            "26/26 [==============================] - 3s 112ms/step - loss: 0.8338 - accuracy: 0.6267 - val_loss: 0.7616 - val_accuracy: 0.6544\n",
            "Epoch 48/200\n",
            "26/26 [==============================] - 3s 115ms/step - loss: 0.8328 - accuracy: 0.6341 - val_loss: 0.7389 - val_accuracy: 0.6838\n",
            "Epoch 49/200\n",
            "26/26 [==============================] - 3s 111ms/step - loss: 0.8354 - accuracy: 0.6279 - val_loss: 0.7440 - val_accuracy: 0.6544\n",
            "Epoch 50/200\n",
            "26/26 [==============================] - 3s 112ms/step - loss: 0.7948 - accuracy: 0.6464 - val_loss: 0.7327 - val_accuracy: 0.6801\n",
            "Epoch 51/200\n",
            "26/26 [==============================] - 3s 115ms/step - loss: 0.8029 - accuracy: 0.6501 - val_loss: 0.7405 - val_accuracy: 0.6544\n",
            "Epoch 52/200\n",
            "26/26 [==============================] - 3s 110ms/step - loss: 0.7887 - accuracy: 0.6550 - val_loss: 0.8003 - val_accuracy: 0.6360\n",
            "Epoch 53/200\n",
            "26/26 [==============================] - 3s 111ms/step - loss: 0.7960 - accuracy: 0.6415 - val_loss: 0.8116 - val_accuracy: 0.6397\n",
            "Epoch 54/200\n",
            "26/26 [==============================] - 3s 111ms/step - loss: 0.8110 - accuracy: 0.6507 - val_loss: 0.7487 - val_accuracy: 0.6838\n",
            "Epoch 55/200\n",
            "26/26 [==============================] - 3s 110ms/step - loss: 0.7833 - accuracy: 0.6519 - val_loss: 0.7145 - val_accuracy: 0.6838\n",
            "Epoch 56/200\n",
            "26/26 [==============================] - 3s 111ms/step - loss: 0.7981 - accuracy: 0.6624 - val_loss: 0.6808 - val_accuracy: 0.6949\n",
            "Epoch 57/200\n",
            "26/26 [==============================] - 3s 112ms/step - loss: 0.7755 - accuracy: 0.6574 - val_loss: 0.7506 - val_accuracy: 0.6765\n",
            "Epoch 58/200\n",
            "26/26 [==============================] - 3s 116ms/step - loss: 0.7878 - accuracy: 0.6630 - val_loss: 0.7860 - val_accuracy: 0.6397\n",
            "Epoch 59/200\n",
            "26/26 [==============================] - 3s 112ms/step - loss: 0.7868 - accuracy: 0.6544 - val_loss: 0.7165 - val_accuracy: 0.6691\n",
            "Epoch 60/200\n",
            "26/26 [==============================] - 3s 114ms/step - loss: 0.7656 - accuracy: 0.6611 - val_loss: 0.6753 - val_accuracy: 0.6985\n",
            "Epoch 61/200\n",
            "26/26 [==============================] - 3s 113ms/step - loss: 0.7586 - accuracy: 0.6587 - val_loss: 0.6922 - val_accuracy: 0.6949\n",
            "Epoch 62/200\n",
            "26/26 [==============================] - 3s 113ms/step - loss: 0.7978 - accuracy: 0.6519 - val_loss: 0.7217 - val_accuracy: 0.6838\n",
            "Epoch 63/200\n",
            "26/26 [==============================] - 3s 111ms/step - loss: 0.7626 - accuracy: 0.6599 - val_loss: 0.7312 - val_accuracy: 0.6544\n",
            "Epoch 64/200\n",
            "26/26 [==============================] - 3s 112ms/step - loss: 0.7756 - accuracy: 0.6562 - val_loss: 0.7378 - val_accuracy: 0.6544\n",
            "Epoch 65/200\n",
            "26/26 [==============================] - 3s 111ms/step - loss: 0.7656 - accuracy: 0.6562 - val_loss: 0.8001 - val_accuracy: 0.6434\n",
            "Epoch 66/200\n",
            "26/26 [==============================] - 3s 112ms/step - loss: 0.7524 - accuracy: 0.6581 - val_loss: 0.7404 - val_accuracy: 0.6434\n",
            "Epoch 67/200\n",
            "26/26 [==============================] - 3s 114ms/step - loss: 0.7562 - accuracy: 0.6513 - val_loss: 0.7474 - val_accuracy: 0.6949\n",
            "Epoch 68/200\n",
            "26/26 [==============================] - 3s 111ms/step - loss: 0.7547 - accuracy: 0.6648 - val_loss: 0.7475 - val_accuracy: 0.6544\n",
            "Epoch 69/200\n",
            "26/26 [==============================] - 3s 112ms/step - loss: 0.7459 - accuracy: 0.6673 - val_loss: 0.6966 - val_accuracy: 0.6949\n",
            "Epoch 70/200\n",
            "26/26 [==============================] - 3s 111ms/step - loss: 0.7468 - accuracy: 0.6611 - val_loss: 0.7006 - val_accuracy: 0.6765\n",
            "Epoch 71/200\n",
            "26/26 [==============================] - 3s 110ms/step - loss: 0.7475 - accuracy: 0.6630 - val_loss: 0.7190 - val_accuracy: 0.6544\n",
            "Epoch 72/200\n",
            "26/26 [==============================] - 3s 111ms/step - loss: 0.7586 - accuracy: 0.6476 - val_loss: 0.7323 - val_accuracy: 0.6544\n",
            "Epoch 73/200\n",
            "26/26 [==============================] - 3s 110ms/step - loss: 0.7299 - accuracy: 0.6667 - val_loss: 0.6949 - val_accuracy: 0.6949\n",
            "Epoch 74/200\n",
            "26/26 [==============================] - 3s 109ms/step - loss: 0.7813 - accuracy: 0.6494 - val_loss: 0.7667 - val_accuracy: 0.6471\n",
            "Epoch 75/200\n",
            "26/26 [==============================] - 3s 111ms/step - loss: 0.7347 - accuracy: 0.6691 - val_loss: 0.6840 - val_accuracy: 0.6949\n",
            "Epoch 76/200\n",
            "26/26 [==============================] - 3s 110ms/step - loss: 0.7409 - accuracy: 0.6679 - val_loss: 0.6687 - val_accuracy: 0.6949\n",
            "Epoch 77/200\n",
            "26/26 [==============================] - 3s 109ms/step - loss: 0.7264 - accuracy: 0.6704 - val_loss: 0.7317 - val_accuracy: 0.6544\n",
            "Epoch 78/200\n",
            "26/26 [==============================] - 3s 110ms/step - loss: 0.7196 - accuracy: 0.6753 - val_loss: 0.7220 - val_accuracy: 0.6544\n",
            "Epoch 79/200\n",
            "26/26 [==============================] - 3s 110ms/step - loss: 0.7151 - accuracy: 0.6796 - val_loss: 0.7153 - val_accuracy: 0.6728\n",
            "Epoch 80/200\n",
            "26/26 [==============================] - 3s 111ms/step - loss: 0.7120 - accuracy: 0.6716 - val_loss: 0.6559 - val_accuracy: 0.6985\n",
            "Epoch 81/200\n",
            "26/26 [==============================] - 3s 110ms/step - loss: 0.7152 - accuracy: 0.6765 - val_loss: 0.6512 - val_accuracy: 0.6985\n",
            "Epoch 82/200\n",
            "26/26 [==============================] - 3s 112ms/step - loss: 0.7082 - accuracy: 0.6784 - val_loss: 0.6787 - val_accuracy: 0.6985\n",
            "Epoch 83/200\n",
            "26/26 [==============================] - 3s 109ms/step - loss: 0.6982 - accuracy: 0.6833 - val_loss: 0.6452 - val_accuracy: 0.6985\n",
            "Epoch 84/200\n",
            "26/26 [==============================] - 3s 111ms/step - loss: 0.7104 - accuracy: 0.6759 - val_loss: 0.7141 - val_accuracy: 0.6838\n",
            "Epoch 85/200\n",
            "26/26 [==============================] - 3s 110ms/step - loss: 0.7176 - accuracy: 0.6765 - val_loss: 0.8329 - val_accuracy: 0.5478\n",
            "Epoch 86/200\n",
            "26/26 [==============================] - 3s 110ms/step - loss: 0.7206 - accuracy: 0.6747 - val_loss: 0.6393 - val_accuracy: 0.6985\n",
            "Epoch 87/200\n",
            "26/26 [==============================] - 3s 110ms/step - loss: 0.7190 - accuracy: 0.6771 - val_loss: 0.6897 - val_accuracy: 0.6985\n",
            "Epoch 88/200\n",
            "26/26 [==============================] - 3s 109ms/step - loss: 0.7043 - accuracy: 0.6753 - val_loss: 0.6694 - val_accuracy: 0.6985\n",
            "Epoch 89/200\n",
            "26/26 [==============================] - 3s 110ms/step - loss: 0.6972 - accuracy: 0.6857 - val_loss: 0.6711 - val_accuracy: 0.6949\n",
            "Epoch 90/200\n",
            "26/26 [==============================] - 3s 112ms/step - loss: 0.7061 - accuracy: 0.6820 - val_loss: 0.7233 - val_accuracy: 0.6691\n",
            "Epoch 91/200\n",
            "26/26 [==============================] - 3s 110ms/step - loss: 0.7048 - accuracy: 0.6716 - val_loss: 0.6799 - val_accuracy: 0.6949\n",
            "Epoch 92/200\n",
            "26/26 [==============================] - 3s 111ms/step - loss: 0.6789 - accuracy: 0.6863 - val_loss: 0.6448 - val_accuracy: 0.6985\n",
            "Epoch 93/200\n",
            "26/26 [==============================] - 3s 111ms/step - loss: 0.6757 - accuracy: 0.6919 - val_loss: 0.6945 - val_accuracy: 0.6875\n",
            "Epoch 94/200\n",
            "26/26 [==============================] - 3s 109ms/step - loss: 11.1586 - accuracy: 0.6790 - val_loss: 1.4915 - val_accuracy: 0.3971\n",
            "Epoch 95/200\n",
            "26/26 [==============================] - 3s 111ms/step - loss: 1.2740 - accuracy: 0.4496 - val_loss: 1.2947 - val_accuracy: 0.3971\n",
            "Epoch 96/200\n",
            "26/26 [==============================] - 3s 111ms/step - loss: 1.1425 - accuracy: 0.4502 - val_loss: 1.1042 - val_accuracy: 0.3971\n",
            "Epoch 97/200\n",
            "26/26 [==============================] - 3s 111ms/step - loss: 1.1027 - accuracy: 0.4582 - val_loss: 1.0697 - val_accuracy: 0.3971\n",
            "Epoch 98/200\n",
            "26/26 [==============================] - 3s 110ms/step - loss: 1.0862 - accuracy: 0.4668 - val_loss: 1.0741 - val_accuracy: 0.3971\n",
            "Epoch 99/200\n",
            "26/26 [==============================] - 3s 110ms/step - loss: 1.0900 - accuracy: 0.4477 - val_loss: 1.0219 - val_accuracy: 0.3971\n",
            "Epoch 100/200\n",
            "26/26 [==============================] - 3s 112ms/step - loss: 1.0596 - accuracy: 0.4625 - val_loss: 1.0060 - val_accuracy: 0.3971\n",
            "Epoch 101/200\n",
            "26/26 [==============================] - 3s 111ms/step - loss: 1.0639 - accuracy: 0.4643 - val_loss: 0.9937 - val_accuracy: 0.4154\n",
            "Epoch 102/200\n",
            "26/26 [==============================] - 3s 110ms/step - loss: 1.0405 - accuracy: 0.4588 - val_loss: 0.9681 - val_accuracy: 0.4522\n",
            "Epoch 103/200\n",
            "26/26 [==============================] - 3s 111ms/step - loss: 1.0494 - accuracy: 0.4643 - val_loss: 0.9660 - val_accuracy: 0.4375\n",
            "Epoch 104/200\n",
            "26/26 [==============================] - 3s 110ms/step - loss: 1.0326 - accuracy: 0.4619 - val_loss: 0.9570 - val_accuracy: 0.4779\n",
            "Epoch 105/200\n",
            "26/26 [==============================] - 3s 108ms/step - loss: 1.0389 - accuracy: 0.4785 - val_loss: 0.9517 - val_accuracy: 0.4522\n",
            "Epoch 106/200\n",
            "26/26 [==============================] - 3s 110ms/step - loss: 1.0344 - accuracy: 0.4828 - val_loss: 0.9350 - val_accuracy: 0.4559\n",
            "Epoch 107/200\n",
            "26/26 [==============================] - 3s 111ms/step - loss: 1.0293 - accuracy: 0.4822 - val_loss: 0.9237 - val_accuracy: 0.4816\n",
            "Epoch 108/200\n",
            "26/26 [==============================] - 3s 111ms/step - loss: 1.0139 - accuracy: 0.4994 - val_loss: 0.9092 - val_accuracy: 0.4743\n",
            "Epoch 109/200\n",
            "26/26 [==============================] - 3s 111ms/step - loss: 1.0100 - accuracy: 0.5025 - val_loss: 0.9094 - val_accuracy: 0.4963\n",
            "Epoch 110/200\n",
            "26/26 [==============================] - 3s 111ms/step - loss: 1.0173 - accuracy: 0.4920 - val_loss: 0.8992 - val_accuracy: 0.4779\n",
            "Epoch 111/200\n",
            "26/26 [==============================] - 3s 110ms/step - loss: 1.0043 - accuracy: 0.5031 - val_loss: 0.8914 - val_accuracy: 0.4669\n",
            "Epoch 112/200\n",
            "26/26 [==============================] - 3s 111ms/step - loss: 1.0019 - accuracy: 0.5135 - val_loss: 0.8804 - val_accuracy: 0.4632\n",
            "Epoch 113/200\n",
            "26/26 [==============================] - 3s 109ms/step - loss: 1.0147 - accuracy: 0.5105 - val_loss: 0.8783 - val_accuracy: 0.4816\n",
            "Epoch 114/200\n",
            "26/26 [==============================] - 3s 111ms/step - loss: 0.9942 - accuracy: 0.5185 - val_loss: 0.8706 - val_accuracy: 0.5110\n",
            "Epoch 115/200\n",
            "26/26 [==============================] - 3s 111ms/step - loss: 1.0066 - accuracy: 0.5111 - val_loss: 0.8704 - val_accuracy: 0.5147\n",
            "Epoch 116/200\n",
            "26/26 [==============================] - 3s 111ms/step - loss: 0.9944 - accuracy: 0.5191 - val_loss: 0.8679 - val_accuracy: 0.5221\n",
            "Epoch 117/200\n",
            "26/26 [==============================] - 3s 111ms/step - loss: 1.0094 - accuracy: 0.5141 - val_loss: 0.8689 - val_accuracy: 0.5147\n",
            "Epoch 118/200\n",
            "26/26 [==============================] - 3s 110ms/step - loss: 0.9953 - accuracy: 0.5166 - val_loss: 0.8624 - val_accuracy: 0.5588\n",
            "Epoch 119/200\n",
            "26/26 [==============================] - 3s 110ms/step - loss: 0.9939 - accuracy: 0.5308 - val_loss: 0.8556 - val_accuracy: 0.5662\n",
            "Epoch 120/200\n",
            "26/26 [==============================] - 3s 109ms/step - loss: 1.0220 - accuracy: 0.5062 - val_loss: 0.8578 - val_accuracy: 0.5588\n",
            "Epoch 121/200\n",
            "26/26 [==============================] - 3s 109ms/step - loss: 1.0016 - accuracy: 0.5185 - val_loss: 0.8634 - val_accuracy: 0.5699\n",
            "Epoch 122/200\n",
            "26/26 [==============================] - 3s 110ms/step - loss: 0.9866 - accuracy: 0.5351 - val_loss: 0.8545 - val_accuracy: 0.5551\n",
            "Epoch 123/200\n",
            "26/26 [==============================] - 3s 109ms/step - loss: 0.9930 - accuracy: 0.5363 - val_loss: 0.8511 - val_accuracy: 0.5551\n",
            "Epoch 124/200\n",
            "26/26 [==============================] - 3s 110ms/step - loss: 1.0041 - accuracy: 0.5234 - val_loss: 0.8513 - val_accuracy: 0.5551\n",
            "Epoch 125/200\n",
            "26/26 [==============================] - 3s 110ms/step - loss: 0.9938 - accuracy: 0.5363 - val_loss: 0.8477 - val_accuracy: 0.5588\n",
            "Epoch 126/200\n",
            "26/26 [==============================] - 3s 111ms/step - loss: 0.9844 - accuracy: 0.5492 - val_loss: 0.8569 - val_accuracy: 0.5809\n",
            "Epoch 127/200\n",
            "26/26 [==============================] - 3s 110ms/step - loss: 0.9777 - accuracy: 0.5363 - val_loss: 0.8527 - val_accuracy: 0.5809\n",
            "Epoch 128/200\n",
            "26/26 [==============================] - 3s 110ms/step - loss: 0.9902 - accuracy: 0.5400 - val_loss: 0.8489 - val_accuracy: 0.5735\n",
            "Epoch 129/200\n",
            "26/26 [==============================] - 3s 111ms/step - loss: 1.0040 - accuracy: 0.5264 - val_loss: 0.8557 - val_accuracy: 0.5809\n",
            "Epoch 130/200\n",
            "26/26 [==============================] - 3s 111ms/step - loss: 0.9776 - accuracy: 0.5375 - val_loss: 0.8547 - val_accuracy: 0.5956\n",
            "Epoch 131/200\n",
            "26/26 [==============================] - 3s 112ms/step - loss: 0.9908 - accuracy: 0.5547 - val_loss: 0.8563 - val_accuracy: 0.5846\n",
            "Epoch 132/200\n",
            "26/26 [==============================] - 3s 111ms/step - loss: 0.9764 - accuracy: 0.5437 - val_loss: 0.8677 - val_accuracy: 0.5993\n",
            "Epoch 133/200\n",
            "26/26 [==============================] - 3s 111ms/step - loss: 0.9847 - accuracy: 0.5431 - val_loss: 0.8505 - val_accuracy: 0.5846\n",
            "Epoch 134/200\n",
            "26/26 [==============================] - 3s 111ms/step - loss: 0.9784 - accuracy: 0.5498 - val_loss: 0.8699 - val_accuracy: 0.5993\n",
            "Epoch 135/200\n",
            "26/26 [==============================] - 3s 112ms/step - loss: 1.0046 - accuracy: 0.5474 - val_loss: 0.8759 - val_accuracy: 0.5993\n",
            "Epoch 136/200\n",
            "26/26 [==============================] - 3s 110ms/step - loss: 0.9831 - accuracy: 0.5467 - val_loss: 0.8690 - val_accuracy: 0.5956\n",
            "Epoch 137/200\n",
            "26/26 [==============================] - 3s 111ms/step - loss: 0.9900 - accuracy: 0.5541 - val_loss: 0.8664 - val_accuracy: 0.5993\n",
            "Epoch 138/200\n",
            "26/26 [==============================] - 3s 112ms/step - loss: 0.9944 - accuracy: 0.5510 - val_loss: 0.8813 - val_accuracy: 0.5993\n",
            "Epoch 139/200\n",
            "26/26 [==============================] - 3s 112ms/step - loss: 0.9806 - accuracy: 0.5449 - val_loss: 0.8760 - val_accuracy: 0.5993\n",
            "Epoch 140/200\n",
            "26/26 [==============================] - 3s 108ms/step - loss: 0.9723 - accuracy: 0.5431 - val_loss: 0.8945 - val_accuracy: 0.5993\n",
            "Epoch 141/200\n",
            "26/26 [==============================] - 3s 108ms/step - loss: 0.9603 - accuracy: 0.5578 - val_loss: 0.8860 - val_accuracy: 0.5993\n",
            "Epoch 142/200\n",
            "26/26 [==============================] - 3s 112ms/step - loss: 0.9643 - accuracy: 0.5523 - val_loss: 0.9060 - val_accuracy: 0.5993\n",
            "Epoch 143/200\n",
            "26/26 [==============================] - 3s 108ms/step - loss: 0.9771 - accuracy: 0.5554 - val_loss: 0.8867 - val_accuracy: 0.5919\n",
            "Epoch 144/200\n",
            "26/26 [==============================] - 3s 109ms/step - loss: 0.9636 - accuracy: 0.5578 - val_loss: 0.9188 - val_accuracy: 0.5882\n",
            "Epoch 145/200\n",
            "26/26 [==============================] - 3s 109ms/step - loss: 0.9678 - accuracy: 0.5578 - val_loss: 0.9072 - val_accuracy: 0.5772\n",
            "Epoch 146/200\n",
            "26/26 [==============================] - 3s 109ms/step - loss: 0.9831 - accuracy: 0.5517 - val_loss: 0.8821 - val_accuracy: 0.6029\n",
            "Epoch 147/200\n",
            "26/26 [==============================] - 3s 110ms/step - loss: 0.9850 - accuracy: 0.5590 - val_loss: 0.8847 - val_accuracy: 0.5993\n",
            "Epoch 148/200\n",
            "26/26 [==============================] - 3s 111ms/step - loss: 1.0002 - accuracy: 0.5394 - val_loss: 0.8813 - val_accuracy: 0.5993\n",
            "Epoch 149/200\n",
            "26/26 [==============================] - 3s 111ms/step - loss: 0.9645 - accuracy: 0.5670 - val_loss: 0.8953 - val_accuracy: 0.5919\n",
            "Epoch 150/200\n",
            "26/26 [==============================] - 3s 109ms/step - loss: 0.9679 - accuracy: 0.5707 - val_loss: 0.9141 - val_accuracy: 0.5772\n",
            "Epoch 151/200\n",
            "26/26 [==============================] - 3s 112ms/step - loss: 0.9736 - accuracy: 0.5584 - val_loss: 0.9155 - val_accuracy: 0.5735\n",
            "Epoch 152/200\n",
            "26/26 [==============================] - 3s 110ms/step - loss: 0.9570 - accuracy: 0.5720 - val_loss: 0.9404 - val_accuracy: 0.5919\n",
            "Epoch 153/200\n",
            "26/26 [==============================] - 3s 110ms/step - loss: 0.9573 - accuracy: 0.5664 - val_loss: 0.9454 - val_accuracy: 0.5919\n",
            "Epoch 154/200\n",
            "26/26 [==============================] - 3s 110ms/step - loss: 0.9676 - accuracy: 0.5535 - val_loss: 0.9276 - val_accuracy: 0.5735\n",
            "Epoch 155/200\n",
            "26/26 [==============================] - 3s 111ms/step - loss: 0.9680 - accuracy: 0.5646 - val_loss: 0.9437 - val_accuracy: 0.5956\n",
            "Epoch 156/200\n",
            "26/26 [==============================] - 3s 110ms/step - loss: 0.9639 - accuracy: 0.5541 - val_loss: 0.9092 - val_accuracy: 0.5772\n",
            "Epoch 157/200\n",
            "26/26 [==============================] - 3s 111ms/step - loss: 0.9709 - accuracy: 0.5615 - val_loss: 0.9361 - val_accuracy: 0.5735\n",
            "Epoch 158/200\n",
            "26/26 [==============================] - 3s 111ms/step - loss: 0.9591 - accuracy: 0.5830 - val_loss: 0.9676 - val_accuracy: 0.5993\n",
            "Epoch 159/200\n",
            "26/26 [==============================] - 3s 112ms/step - loss: 0.9723 - accuracy: 0.5652 - val_loss: 0.9352 - val_accuracy: 0.5735\n",
            "Epoch 160/200\n",
            "26/26 [==============================] - 3s 110ms/step - loss: 0.9737 - accuracy: 0.5584 - val_loss: 0.9742 - val_accuracy: 0.5993\n",
            "Epoch 161/200\n",
            "26/26 [==============================] - 3s 110ms/step - loss: 0.9829 - accuracy: 0.5633 - val_loss: 0.9325 - val_accuracy: 0.5772\n",
            "Epoch 162/200\n",
            "26/26 [==============================] - 3s 111ms/step - loss: 0.9765 - accuracy: 0.5615 - val_loss: 0.9636 - val_accuracy: 0.5956\n",
            "Epoch 163/200\n",
            "26/26 [==============================] - 3s 111ms/step - loss: 0.9632 - accuracy: 0.5738 - val_loss: 0.9889 - val_accuracy: 0.5956\n",
            "Epoch 164/200\n",
            "26/26 [==============================] - 3s 110ms/step - loss: 0.9871 - accuracy: 0.5535 - val_loss: 0.9817 - val_accuracy: 0.5956\n",
            "Epoch 165/200\n",
            "26/26 [==============================] - 3s 112ms/step - loss: 0.9769 - accuracy: 0.5744 - val_loss: 0.9894 - val_accuracy: 0.5956\n",
            "Epoch 166/200\n",
            "26/26 [==============================] - 3s 111ms/step - loss: 0.9707 - accuracy: 0.5781 - val_loss: 0.9811 - val_accuracy: 0.5956\n",
            "Epoch 167/200\n",
            "26/26 [==============================] - 3s 113ms/step - loss: 0.9693 - accuracy: 0.5584 - val_loss: 1.0169 - val_accuracy: 0.5956\n",
            "Epoch 168/200\n",
            "26/26 [==============================] - 3s 112ms/step - loss: 0.9838 - accuracy: 0.5701 - val_loss: 0.9923 - val_accuracy: 0.5993\n",
            "Epoch 169/200\n",
            "26/26 [==============================] - 3s 111ms/step - loss: 0.9753 - accuracy: 0.5560 - val_loss: 1.0022 - val_accuracy: 0.5956\n",
            "Epoch 170/200\n",
            "26/26 [==============================] - 3s 110ms/step - loss: 0.9744 - accuracy: 0.5633 - val_loss: 0.9616 - val_accuracy: 0.5919\n",
            "Epoch 171/200\n",
            "26/26 [==============================] - 3s 110ms/step - loss: 0.9698 - accuracy: 0.5652 - val_loss: 0.9931 - val_accuracy: 0.5993\n",
            "Epoch 172/200\n",
            "26/26 [==============================] - 3s 110ms/step - loss: 0.9813 - accuracy: 0.5566 - val_loss: 0.9570 - val_accuracy: 0.5809\n",
            "Epoch 173/200\n",
            "26/26 [==============================] - 3s 111ms/step - loss: 0.9506 - accuracy: 0.5695 - val_loss: 0.9912 - val_accuracy: 0.5993\n",
            "Epoch 174/200\n",
            "26/26 [==============================] - 3s 111ms/step - loss: 0.9726 - accuracy: 0.5701 - val_loss: 0.9836 - val_accuracy: 0.5993\n",
            "Epoch 175/200\n",
            "26/26 [==============================] - 3s 110ms/step - loss: 0.9565 - accuracy: 0.5633 - val_loss: 0.9343 - val_accuracy: 0.5809\n",
            "Epoch 176/200\n",
            "26/26 [==============================] - 3s 111ms/step - loss: 0.9564 - accuracy: 0.5670 - val_loss: 1.0017 - val_accuracy: 0.5993\n",
            "Epoch 177/200\n",
            "26/26 [==============================] - 3s 111ms/step - loss: 0.9560 - accuracy: 0.5695 - val_loss: 0.9823 - val_accuracy: 0.5882\n",
            "Epoch 178/200\n",
            "26/26 [==============================] - 3s 108ms/step - loss: 0.9717 - accuracy: 0.5578 - val_loss: 0.9650 - val_accuracy: 0.5772\n",
            "Epoch 179/200\n",
            "26/26 [==============================] - 3s 111ms/step - loss: 0.9715 - accuracy: 0.5597 - val_loss: 0.9512 - val_accuracy: 0.5699\n",
            "Epoch 180/200\n",
            "26/26 [==============================] - 3s 109ms/step - loss: 0.9565 - accuracy: 0.5652 - val_loss: 1.0305 - val_accuracy: 0.5956\n",
            "Epoch 181/200\n",
            "26/26 [==============================] - 3s 112ms/step - loss: 0.9567 - accuracy: 0.5677 - val_loss: 0.9881 - val_accuracy: 0.5956\n",
            "Epoch 182/200\n",
            "26/26 [==============================] - 3s 110ms/step - loss: 0.9537 - accuracy: 0.5756 - val_loss: 1.0244 - val_accuracy: 0.5956\n",
            "Epoch 183/200\n",
            "26/26 [==============================] - 3s 110ms/step - loss: 0.9542 - accuracy: 0.5670 - val_loss: 0.9880 - val_accuracy: 0.5993\n",
            "Epoch 184/200\n",
            "26/26 [==============================] - 3s 110ms/step - loss: 0.9473 - accuracy: 0.5726 - val_loss: 1.0487 - val_accuracy: 0.5956\n",
            "Epoch 185/200\n",
            "26/26 [==============================] - 3s 110ms/step - loss: 0.9668 - accuracy: 0.5621 - val_loss: 1.0375 - val_accuracy: 0.6029\n",
            "Epoch 186/200\n",
            "26/26 [==============================] - 3s 110ms/step - loss: 0.9593 - accuracy: 0.5713 - val_loss: 1.0760 - val_accuracy: 0.5993\n",
            "Epoch 187/200\n",
            "26/26 [==============================] - 3s 110ms/step - loss: 0.9572 - accuracy: 0.5658 - val_loss: 1.0500 - val_accuracy: 0.5993\n",
            "Epoch 188/200\n",
            "26/26 [==============================] - 3s 110ms/step - loss: 0.9558 - accuracy: 0.5670 - val_loss: 1.0295 - val_accuracy: 0.5956\n",
            "Epoch 189/200\n",
            "26/26 [==============================] - 3s 110ms/step - loss: 0.9608 - accuracy: 0.5597 - val_loss: 1.0153 - val_accuracy: 0.5993\n",
            "Epoch 190/200\n",
            "26/26 [==============================] - 3s 109ms/step - loss: 0.9524 - accuracy: 0.5621 - val_loss: 1.0415 - val_accuracy: 0.5993\n",
            "Epoch 191/200\n",
            "26/26 [==============================] - 3s 112ms/step - loss: 0.9766 - accuracy: 0.5474 - val_loss: 1.0499 - val_accuracy: 0.5993\n",
            "Epoch 192/200\n",
            "26/26 [==============================] - 3s 113ms/step - loss: 0.9471 - accuracy: 0.5720 - val_loss: 1.0349 - val_accuracy: 0.5993\n",
            "Epoch 193/200\n",
            "26/26 [==============================] - 3s 112ms/step - loss: 0.9757 - accuracy: 0.5541 - val_loss: 0.9990 - val_accuracy: 0.5919\n",
            "Epoch 194/200\n",
            "26/26 [==============================] - 3s 110ms/step - loss: 0.9557 - accuracy: 0.5627 - val_loss: 1.0146 - val_accuracy: 0.5993\n",
            "Epoch 195/200\n",
            "26/26 [==============================] - 3s 112ms/step - loss: 0.9674 - accuracy: 0.5627 - val_loss: 1.0313 - val_accuracy: 0.5993\n",
            "Epoch 196/200\n",
            "26/26 [==============================] - 3s 111ms/step - loss: 0.9605 - accuracy: 0.5720 - val_loss: 1.0491 - val_accuracy: 0.5956\n",
            "Epoch 197/200\n",
            "26/26 [==============================] - 3s 111ms/step - loss: 0.9443 - accuracy: 0.5824 - val_loss: 1.1059 - val_accuracy: 0.5882\n",
            "Epoch 198/200\n",
            "26/26 [==============================] - 3s 110ms/step - loss: 0.9580 - accuracy: 0.5744 - val_loss: 1.0853 - val_accuracy: 0.5846\n",
            "Epoch 199/200\n",
            "26/26 [==============================] - 3s 111ms/step - loss: 0.9541 - accuracy: 0.5590 - val_loss: 1.0949 - val_accuracy: 0.5919\n",
            "Epoch 200/200\n",
            "26/26 [==============================] - 3s 110ms/step - loss: 0.9473 - accuracy: 0.5652 - val_loss: 1.0904 - val_accuracy: 0.5993\n"
          ]
        }
      ],
      "source": [
        "# Compile the model and specify loss function, optimizer and metrics values to the model\n",
        "convlstm_model.compile(loss = 'categorical_crossentropy',\n",
        "                       optimizer= keras.optimizers.Adam(0.001, decay=1e-4),\n",
        "                       metrics = [\"accuracy\"])\n",
        "# Start training the model.\n",
        "convlstm_model_training_history = convlstm_model.fit(x = features_train,\n",
        "                                                     y = labels_train,\n",
        "                                                     epochs = 200,\n",
        "                                                     batch_size = 64,\n",
        "                                                     shuffle = True,\n",
        "                                                     validation_data = (features_valid, labels_valid))\n"
      ]
    },
    {
      "cell_type": "code",
      "execution_count": 14,
      "metadata": {
        "colab": {
          "base_uri": "https://localhost:8080/"
        },
        "id": "LcpKhGqvIenv",
        "outputId": "08fb3bfe-288b-4b3c-8f25-50b310741a59"
      },
      "outputs": [
        {
          "output_type": "stream",
          "name": "stdout",
          "text": [
            "9/9 [==============================] - 0s 21ms/step - loss: 1.2506 - accuracy: 0.6765\n",
            "\n",
            "\n",
            "Train accuracy: 77.491 % || Test accuracy: 67.647 % || Val accuracy: 72.794 %\n",
            "\n",
            "\n",
            "Train loss: 0.534 || Test loss: 1.251 || Val loss: 0.573\n"
          ]
        }
      ],
      "source": [
        "model_evaluation_history = convlstm_model.evaluate(features_test, labels_test)\n",
        "print('\\n')\n",
        "train_loss, train_acc = convlstm_model.evaluate(features_train, labels_train, verbose=0)\n",
        "test_loss, test_acc = convlstm_model.evaluate(features_test, labels_test, verbose=0)\n",
        "val_loss, val_acc = convlstm_model.evaluate(features_valid, labels_valid, verbose=0)\n",
        "\n",
        "print(f'Train accuracy: {train_acc*100:.3f} % || Test accuracy: {test_acc*100:.3f} % || Val accuracy: {val_acc*100:.3f} %')\n",
        "print('\\n')\n",
        "print(f'Train loss: {train_loss:.3f} || Test loss: {test_loss:.3f} || Val loss: {val_loss:.3f}')"
      ]
    },
    {
      "cell_type": "code",
      "execution_count": 15,
      "metadata": {
        "id": "qsFw5KIzIum9"
      },
      "outputs": [],
      "source": [
        "# Get the loss and accuracy from model_evaluation_history.\n",
        "model_evaluation_loss, model_evaluation_accuracy = model_evaluation_history\n",
        " \n",
        "# Define the string date format.\n",
        "# Get the current Date and Time in a DateTime Object.\n",
        "# Convert the DateTime object to string according to the style mentioned in date_time_format string.\n",
        "date_time_format = '%Y_%m_%d__%H_%M_%S'\n",
        "current_date_time_dt = dt.datetime.now()\n",
        "current_date_time_string = dt.datetime.strftime(current_date_time_dt, date_time_format)\n",
        " \n",
        "# Define a useful name for our model to make it easy for us while navigating through multiple saved models.\n",
        "model_file_name = f'convlstm_model___Date_Time_{current_date_time_string}___Loss_{model_evaluation_loss}___Accuracy_{model_evaluation_accuracy}.h5'\n",
        " \n",
        "# Change dir\n",
        "gdrive_path = '/content/gdrive' + '/My Drive/247/Saved_models/'\n",
        "os.chdir(gdrive_path)\n",
        "# Create a floder for the model files\n",
        "!mkdir -p convlstm_{current_date_time_string}\n",
        "# Save your Model.\n",
        "convlstm_model.save('convlstm_' + str(current_date_time_string) + '/' + model_file_name)\n",
        "# Save model weights\n",
        "convlstm_model.save_weights('convlstm_' + str(current_date_time_string) + '/' + 'weights')"
      ]
    },
    {
      "cell_type": "code",
      "execution_count": 16,
      "metadata": {
        "id": "Z0eAobhSIz_P"
      },
      "outputs": [],
      "source": [
        "def plot_metric(model_training_history, metric_name_1, metric_name_2, plot_name):\n",
        "    '''\n",
        "    This function will plot the metrics passed to it in a graph.\n",
        "    Args:\n",
        "        model_training_history: A history object containing a record of training and validation \n",
        "                                loss values and metrics values at successive epochs\n",
        "        metric_name_1:          The name of the first metric that needs to be plotted in the graph.\n",
        "        metric_name_2:          The name of the second metric that needs to be plotted in the graph.\n",
        "        plot_name:              The title of the graph.\n",
        "    '''\n",
        "    \n",
        "    # Get metric values using metric names as identifiers.\n",
        "    metric_value_1 = model_training_history.history[metric_name_1]\n",
        "    metric_value_2 = model_training_history.history[metric_name_2]\n",
        "    \n",
        "    # Construct a range object which will be used as x-axis (horizontal plane) of the graph.\n",
        "    epochs = range(len(metric_value_1))\n",
        "\n",
        "    # Plot the Graph.\n",
        "    plt.plot(epochs, metric_value_1, 'blue', label = metric_name_1)\n",
        "    plt.plot(epochs, metric_value_2, 'red', label = metric_name_2)\n",
        "\n",
        "    # Add title to the plot.\n",
        "    plt.title(str(plot_name))\n",
        "\n",
        "    # Add legend to the plot.\n",
        "    plt.legend()"
      ]
    },
    {
      "cell_type": "code",
      "execution_count": 17,
      "metadata": {
        "colab": {
          "base_uri": "https://localhost:8080/",
          "height": 281
        },
        "id": "18RtBjI9I5lE",
        "outputId": "71f8e454-3f7b-4cff-9759-b8d2958e3665"
      },
      "outputs": [
        {
          "output_type": "display_data",
          "data": {
            "text/plain": [
              "<Figure size 432x288 with 1 Axes>"
            ],
            "image/png": "[encoded data removed]"
          },
          "metadata": {
            "needs_background": "light"
          }
        }
      ],
      "source": [
        "plot_metric(convlstm_model_training_history, 'loss', 'val_loss', 'Total Loss vs Total Validation Loss')"
      ]
    },
    {
      "cell_type": "code",
      "execution_count": 18,
      "metadata": {
        "colab": {
          "base_uri": "https://localhost:8080/",
          "height": 281
        },
        "id": "02amk7TXI_OS",
        "outputId": "6e09d5e1-eee2-4fc2-a941-02dbd018d954"
      },
      "outputs": [
        {
          "output_type": "display_data",
          "data": {
            "text/plain": [
              "<Figure size 432x288 with 1 Axes>"
            ],
            "image/png": "[encoded data removed]"
          },
          "metadata": {
            "needs_background": "light"
          }
        }
      ],
      "source": [
        "plot_metric(convlstm_model_training_history, 'accuracy', 'val_accuracy', 'Total Accuracy vs Total Validation Accuracy') "
      ]
    }
  ],
  "metadata": {
    "accelerator": "GPU",
    "colab": {
      "collapsed_sections": [],
      "machine_shape": "hm",
      "name": "2D_CNN+LSTM_No_Splint.ipynb",
      "provenance": [],
      "authorship_tag": "ABX9TyNCE5Jchefo+MTsJ+4QGBZD",
      "include_colab_link": true
    },
    "kernelspec": {
      "display_name": "Python 3",
      "name": "python3"
    },
    "language_info": {
      "name": "python"
    }
  },
  "nbformat": 4,
  "nbformat_minor": 0
}