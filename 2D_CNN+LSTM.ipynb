{
  "cells": [
    {
      "cell_type": "markdown",
      "metadata": {
        "id": "view-in-github",
        "colab_type": "text"
      },
      "source": [
        "<a href=\"https://colab.research.google.com/github/alexsalman/CSE247/blob/main/2D_CNN%2BLSTM.ipynb\" target=\"_parent\"><img src=\"https://colab.research.google.com/assets/colab-badge.svg\" alt=\"Open In Colab\"/></a>"
      ]
    },
    {
      "cell_type": "markdown",
      "metadata": {
        "id": "Fk8TLrPiv-ab"
      },
      "source": [
        "####**Convolutional Neural Network + Long Short Term Memory**\n",
        "######*I am using a Convolution Neural Network (CNN) + Long Short Term Memory (LSTM) Network to extract general representation while utilizing the Spatial-temporal aspect of the videos.*"
      ]
    },
    {
      "cell_type": "code",
      "execution_count": 1,
      "metadata": {
        "id": "M8ibtd5HKtZk",
        "colab": {
          "base_uri": "https://localhost:8080/"
        },
        "outputId": "912e7071-2fa2-4a68-a87a-107da818c51e"
      },
      "outputs": [
        {
          "output_type": "stream",
          "name": "stdout",
          "text": [
            "2.8.0\n"
          ]
        }
      ],
      "source": [
        "# required libraries\n",
        "import os\n",
        "import cv2\n",
        "import random\n",
        "import numpy as np\n",
        "import datetime as dt\n",
        "import matplotlib.pyplot as plt\n",
        "from google.colab import drive\n",
        "from sklearn.model_selection import train_test_split\n",
        "import tensorflow as tf\n",
        "from tensorflow import keras\n",
        "from keras.models import Sequential\n",
        "from keras.layers import Conv2D, Flatten, Dense, Dropout, Activation, BatchNormalization\n",
        "from keras.layers import TimeDistributed, MaxPooling2D, GlobalAveragePooling2D\n",
        "from keras.layers.recurrent import LSTM\n",
        "from keras import regularizers\n",
        "%matplotlib inline\n",
        "print(tf.version.VERSION)"
      ]
    },
    {
      "cell_type": "code",
      "execution_count": 2,
      "metadata": {
        "id": "iffdFOf1CEAN"
      },
      "outputs": [],
      "source": [
        "# set Numpy, Python, and Tensorflow seeds to get consistent results on every execution\n",
        "seed_constant = 27\n",
        "np.random.seed(seed_constant)\n",
        "random.seed(seed_constant)\n",
        "tf.random.set_seed(seed_constant)"
      ]
    },
    {
      "cell_type": "code",
      "execution_count": 3,
      "metadata": {
        "colab": {
          "base_uri": "https://localhost:8080/",
          "height": 53
        },
        "id": "mcLh22LiOHyn",
        "outputId": "25921499-2a6b-4954-fcbf-9a0ce04995e3"
      },
      "outputs": [
        {
          "output_type": "stream",
          "name": "stdout",
          "text": [
            "Mounted at /content/gdrive/\n"
          ]
        },
        {
          "output_type": "execute_result",
          "data": {
            "text/plain": [
              "'/content/gdrive/My Drive/247'"
            ],
            "application/vnd.google.colaboratory.intrinsic+json": {
              "type": "string"
            }
          },
          "metadata": {},
          "execution_count": 3
        }
      ],
      "source": [
        "# mount dataset from google drive\n",
        "drive.mount('/content/gdrive/', force_remount=True)\n",
        "gdrive_path = '/content/gdrive' + '/My Drive/247/'\n",
        "os.chdir(gdrive_path)\n",
        "os.getcwd()"
      ]
    },
    {
      "cell_type": "code",
      "execution_count": 4,
      "metadata": {
        "id": "oeDK8SzumZ1Q"
      },
      "outputs": [],
      "source": [
        "# frame dimention\n",
        "IMAGE_HEIGHT, IMAGE_WIDTH = 128, 128\n",
        "# frame number for each video (depth)\n",
        "SEQUENCE_LENGTH = 16\n",
        "# video dir path\n",
        "DATASET_DIR = gdrive_path + 'Cropped_videos'\n",
        "# labels of classes\n",
        "CLASSES_LIST = ['hemostasis', 'inflammatory', 'proliferative', 'maturation']"
      ]
    },
    {
      "cell_type": "code",
      "execution_count": 5,
      "metadata": {
        "id": "3mFB5qD6b3Kd"
      },
      "outputs": [],
      "source": [
        "# image cropping\n",
        "def crop_center_square(frame):\n",
        "    y, x = frame.shape[0:2]\n",
        "    min_dim = min(y, x)\n",
        "    start_x = (x // 2) - (min_dim // 2)\n",
        "    start_y = (y // 2) - (min_dim // 2)\n",
        "    return frame[start_y:start_y+min_dim,start_x:start_x+min_dim]"
      ]
    },
    {
      "cell_type": "code",
      "execution_count": 6,
      "metadata": {
        "id": "sqeexMUjaLzJ"
      },
      "outputs": [],
      "source": [
        "def load_video(path, resize=(128, 128)):\n",
        "    video_reader = cv2.VideoCapture(path)\n",
        "    frames = []\n",
        "    try:\n",
        "        while True:\n",
        "            ret, frame = video_reader.read()\n",
        "            if not ret:\n",
        "                  break\n",
        "            frame = crop_center_square(frame)\n",
        "            frame = cv2.resize(frame, resize)\n",
        "            frame = frame[:, :, [2, 1, 0]]\n",
        "            frames.append(frame)\n",
        "    finally:\n",
        "        video_reader.release()\n",
        "    return np.array(frames) / 255.0"
      ]
    },
    {
      "cell_type": "code",
      "execution_count": 7,
      "metadata": {
        "id": "ljUWHW6Jqzu-"
      },
      "outputs": [],
      "source": [
        "def create_dataset(state):\n",
        "    # Declared Empty Lists to store the features, labels and video file path values.\n",
        "    features = []\n",
        "    labels = []\n",
        "    video_files_paths = []\n",
        "    # Iterating through all the classes mentioned in the classes list\n",
        "    for class_index, class_name in enumerate(CLASSES_LIST):\n",
        "        # Display the name of the class whose data is being extracted.\n",
        "        print(f'Extracting Data of Class: {class_name} {state}')\n",
        "        # Get the list of video files present in the specific class name directory.\n",
        "        files_list = os.listdir(os.path.join(DATASET_DIR, class_name))\n",
        "        # Iterate through all the files present in the files list.\n",
        "        for file_name in files_list:\n",
        "            # Get the complete video path.\n",
        "            video_file_path = os.path.join(DATASET_DIR, class_name, file_name)\n",
        "            # create testing data\n",
        "            if state == 'test':\n",
        "                # get the mouse number\n",
        "                mouse_number = int(video_file_path.split(' ')[2].split('_')[1].split('-')[1])\n",
        "                # get the mouse side (L or R)\n",
        "                mouse_side = video_file_path.split(' ')[2].split('_')[1].split('-')[2]\n",
        "                if mouse_number == 4 and mouse_side == 'L':\n",
        "                    frames = load_video(video_file_path)\n",
        "                    features.append(frames)\n",
        "                    labels.append(class_index)\n",
        "                    video_files_paths.append(video_file_path)\n",
        "            # create validation data\n",
        "            elif state == 'valid':\n",
        "                # get the mouse number\n",
        "                mouse_number = int(video_file_path.split(' ')[2].split('_')[1].split('-')[1])\n",
        "                # get the mouse side (L or R)\n",
        "                mouse_side = video_file_path.split(' ')[2].split('_')[1].split('-')[2]\n",
        "                if mouse_number == 4 and mouse_side == 'R':\n",
        "                    frames = load_video(video_file_path)\n",
        "                    features.append(frames)\n",
        "                    labels.append(class_index)\n",
        "                    video_files_paths.append(video_file_path)\n",
        "            # create training data\n",
        "            else:\n",
        "                # get the mouse number\n",
        "                mouse_number = int(video_file_path.split(' ')[2].split('_')[1].split('-')[1])\n",
        "                if mouse_number != 4:\n",
        "                    frames = load_video(video_file_path)\n",
        "                    features.append(frames)\n",
        "                    labels.append(class_index)\n",
        "                    video_files_paths.append(video_file_path)\n",
        "    # Converting the list to numpy arrays\n",
        "    features = np.asarray(features)\n",
        "    # print(features)\n",
        "    labels = np.array(labels)\n",
        "    # Return the frames, class index, and video file path.\n",
        "    return features, labels, video_files_paths"
      ]
    },
    {
      "cell_type": "code",
      "execution_count": 8,
      "metadata": {
        "colab": {
          "base_uri": "https://localhost:8080/"
        },
        "id": "a8rpanz9rASe",
        "outputId": "5d7ecc81-f587-4f46-f8a5-742dc2ce84e0"
      },
      "outputs": [
        {
          "output_type": "stream",
          "name": "stdout",
          "text": [
            "Extracting Data of Class: hemostasis train\n",
            "Extracting Data of Class: inflammatory train\n",
            "Extracting Data of Class: proliferative train\n",
            "Extracting Data of Class: maturation train\n",
            "Extracting Data of Class: hemostasis test\n",
            "Extracting Data of Class: inflammatory test\n",
            "Extracting Data of Class: proliferative test\n",
            "Extracting Data of Class: maturation test\n",
            "Extracting Data of Class: hemostasis valid\n",
            "Extracting Data of Class: inflammatory valid\n",
            "Extracting Data of Class: proliferative valid\n",
            "Extracting Data of Class: maturation valid\n"
          ]
        }
      ],
      "source": [
        "# 6 mice for training, 2 mice for test and validation (one wound on each mice for test one for validation)\n",
        "features_train, labels_train, video_files_paths_train = create_dataset('train')\n",
        "features_test, labels_test, video_files_paths_test = create_dataset('test')\n",
        "features_valid, labels_valid, video_files_paths_valid = create_dataset('valid')"
      ]
    },
    {
      "cell_type": "code",
      "execution_count": 9,
      "metadata": {
        "id": "dtJkK4qTAulC"
      },
      "outputs": [],
      "source": [
        "# labels to catogorical\n",
        "labels_train = keras.utils.to_categorical(labels_train)\n",
        "labels_test = keras.utils.to_categorical(labels_test)\n",
        "labels_valid = keras.utils.to_categorical(labels_valid)"
      ]
    },
    {
      "cell_type": "code",
      "execution_count": 10,
      "metadata": {
        "id": "Bi-NDol3DHRV"
      },
      "outputs": [],
      "source": [
        "def create_convlstm_model():\n",
        "    # TimeDistributed is a wrapper to handle input of size five to maintain frames number for LSTM\n",
        "    # A Conv2D layer requires four dimensions: (batch_size, height, width, channels)\n",
        "    # TimeDistributed will require an additional dimension: (batch_size, frames, height, width, channels)\n",
        "\n",
        "    model = Sequential()\n",
        "\n",
        "    model.add(TimeDistributed(Conv2D(4, (3,3), activation='relu'), input_shape=(16, 128, 128, 3)))\n",
        "    model.add(TimeDistributed(MaxPooling2D((2,2), strides=(2,2))))\n",
        "    model.add(Dropout(0.2))\n",
        "\n",
        "    model.add(TimeDistributed(Conv2D(8, (3,3), activation='relu')))\n",
        "    model.add(TimeDistributed(MaxPooling2D((2,2), strides=(2,2))))\n",
        "    model.add(Dropout(0.2))\n",
        "\n",
        "    model.add(TimeDistributed(Conv2D(16, (3,3), activation='relu')))\n",
        "    model.add(TimeDistributed(MaxPooling2D((2,2), strides=(2,2))))\n",
        "    model.add(Dropout(0.2))\n",
        "\n",
        "    model.add(TimeDistributed(Conv2D(24, (3,3), activation='relu')))\n",
        "    model.add(TimeDistributed(MaxPooling2D((2,2), strides=(2,2))))\n",
        "    model.add(Dropout(0.2))\n",
        "\n",
        "    model.add(TimeDistributed(Conv2D(32, (3,3), activation='relu')))\n",
        "    model.add(TimeDistributed(MaxPooling2D((2,2), strides=(2,2))))\n",
        "    model.add(Dropout(0.2))\n",
        "\n",
        "    model.add(TimeDistributed(Flatten()))\n",
        "    # model.add(Dropout(0.2))\n",
        "\n",
        "    model.add(LSTM(4, activation='relu', return_sequences=False))\n",
        "    model.add(Dropout(0.2))\n",
        "\n",
        "    model.add(Dense(32, activation='relu', kernel_initializer='he_uniform'))\n",
        "    model.add(Dropout(0.2))\n",
        "\n",
        "    model.add(Dense(16, activation='relu', kernel_initializer='he_uniform'))\n",
        "    model.add(Dropout(0.2))\n",
        "\n",
        "    model.add(Dense(8, activation='relu', kernel_initializer='he_uniform'))\n",
        "    model.add(Dropout(0.2))\n",
        "\n",
        "    model.add(Dense(4, activation='relu', kernel_initializer='he_uniform'))\n",
        "\n",
        "    model.add(Dense(len(CLASSES_LIST), activation='softmax'))\n",
        "    model.summary(line_length = 100)\n",
        "    return model"
      ]
    },
    {
      "cell_type": "code",
      "execution_count": 11,
      "metadata": {
        "id": "FbjNYI-0DY_v",
        "colab": {
          "base_uri": "https://localhost:8080/"
        },
        "outputId": "d582641a-299d-4b67-94b7-e5b17ab5916b"
      },
      "outputs": [
        {
          "output_type": "stream",
          "name": "stdout",
          "text": [
            "Model: \"sequential\"\n",
            "____________________________________________________________________________________________________\n",
            " Layer (type)                                Output Shape                            Param #        \n",
            "====================================================================================================\n",
            " time_distributed (TimeDistributed)          (None, 16, 126, 126, 4)                 112            \n",
            "                                                                                                    \n",
            " time_distributed_1 (TimeDistributed)        (None, 16, 63, 63, 4)                   0              \n",
            "                                                                                                    \n",
            " dropout (Dropout)                           (None, 16, 63, 63, 4)                   0              \n",
            "                                                                                                    \n",
            " time_distributed_2 (TimeDistributed)        (None, 16, 61, 61, 8)                   296            \n",
            "                                                                                                    \n",
            " time_distributed_3 (TimeDistributed)        (None, 16, 30, 30, 8)                   0              \n",
            "                                                                                                    \n",
            " dropout_1 (Dropout)                         (None, 16, 30, 30, 8)                   0              \n",
            "                                                                                                    \n",
            " time_distributed_4 (TimeDistributed)        (None, 16, 28, 28, 16)                  1168           \n",
            "                                                                                                    \n",
            " time_distributed_5 (TimeDistributed)        (None, 16, 14, 14, 16)                  0              \n",
            "                                                                                                    \n",
            " dropout_2 (Dropout)                         (None, 16, 14, 14, 16)                  0              \n",
            "                                                                                                    \n",
            " time_distributed_6 (TimeDistributed)        (None, 16, 12, 12, 24)                  3480           \n",
            "                                                                                                    \n",
            " time_distributed_7 (TimeDistributed)        (None, 16, 6, 6, 24)                    0              \n",
            "                                                                                                    \n",
            " dropout_3 (Dropout)                         (None, 16, 6, 6, 24)                    0              \n",
            "                                                                                                    \n",
            " time_distributed_8 (TimeDistributed)        (None, 16, 4, 4, 32)                    6944           \n",
            "                                                                                                    \n",
            " time_distributed_9 (TimeDistributed)        (None, 16, 2, 2, 32)                    0              \n",
            "                                                                                                    \n",
            " dropout_4 (Dropout)                         (None, 16, 2, 2, 32)                    0              \n",
            "                                                                                                    \n",
            " time_distributed_10 (TimeDistributed)       (None, 16, 128)                         0              \n",
            "                                                                                                    \n",
            " lstm (LSTM)                                 (None, 4)                               2128           \n",
            "                                                                                                    \n",
            " dropout_5 (Dropout)                         (None, 4)                               0              \n",
            "                                                                                                    \n",
            " dense (Dense)                               (None, 32)                              160            \n",
            "                                                                                                    \n",
            " dropout_6 (Dropout)                         (None, 32)                              0              \n",
            "                                                                                                    \n",
            " dense_1 (Dense)                             (None, 16)                              528            \n",
            "                                                                                                    \n",
            " dropout_7 (Dropout)                         (None, 16)                              0              \n",
            "                                                                                                    \n",
            " dense_2 (Dense)                             (None, 8)                               136            \n",
            "                                                                                                    \n",
            " dropout_8 (Dropout)                         (None, 8)                               0              \n",
            "                                                                                                    \n",
            " dense_3 (Dense)                             (None, 4)                               36             \n",
            "                                                                                                    \n",
            " dense_4 (Dense)                             (None, 4)                               20             \n",
            "                                                                                                    \n",
            "====================================================================================================\n",
            "Total params: 15,008\n",
            "Trainable params: 15,008\n",
            "Non-trainable params: 0\n",
            "____________________________________________________________________________________________________\n",
            "Model Created Successfully!\n"
          ]
        }
      ],
      "source": [
        "# Construct the required convlstm model.\n",
        "convlstm_model = create_convlstm_model()\n",
        " \n",
        "# Display the success message. \n",
        "print(\"Model Created Successfully!\")"
      ]
    },
    {
      "cell_type": "code",
      "execution_count": 12,
      "metadata": {
        "id": "SCB3R7so-wHz"
      },
      "outputs": [],
      "source": [
        "# keras.utils.plot_model(convlstm_model, to_file = 'convlstm_model_structure_plot.png', show_shapes = True, show_layer_names = True)"
      ]
    },
    {
      "cell_type": "code",
      "execution_count": 13,
      "metadata": {
        "id": "nMYwQOwyF3bd"
      },
      "outputs": [],
      "source": [
        "# keras.utils.plot_model(convlstm_model,\n",
        "#                          to_file = 'convlstm_model_structure_plot.png',\n",
        "#                          show_shapes = True,\n",
        "#                          show_layer_names = True)"
      ]
    },
    {
      "cell_type": "code",
      "execution_count": 14,
      "metadata": {
        "colab": {
          "base_uri": "https://localhost:8080/"
        },
        "id": "vYC_6H0uGqW9",
        "outputId": "7394d2d0-61c4-4738-9c11-a2139920307e"
      },
      "outputs": [
        {
          "output_type": "stream",
          "name": "stdout",
          "text": [
            "Epoch 1/200\n",
            "30/30 [==============================] - 10s 182ms/step - loss: 1.3890 - accuracy: 0.2748 - val_loss: 1.3772 - val_accuracy: 0.3566\n",
            "Epoch 2/200\n",
            "30/30 [==============================] - 4s 126ms/step - loss: 1.3746 - accuracy: 0.3762 - val_loss: 1.3684 - val_accuracy: 0.3566\n",
            "Epoch 3/200\n",
            "30/30 [==============================] - 4s 126ms/step - loss: 1.3669 - accuracy: 0.3837 - val_loss: 1.3600 - val_accuracy: 0.4816\n",
            "Epoch 4/200\n",
            "30/30 [==============================] - 4s 127ms/step - loss: 1.3596 - accuracy: 0.4097 - val_loss: 1.3516 - val_accuracy: 0.4816\n",
            "Epoch 5/200\n",
            "30/30 [==============================] - 4s 123ms/step - loss: 1.3524 - accuracy: 0.4196 - val_loss: 1.3435 - val_accuracy: 0.4816\n",
            "Epoch 6/200\n",
            "30/30 [==============================] - 4s 127ms/step - loss: 1.3456 - accuracy: 0.4196 - val_loss: 1.3357 - val_accuracy: 0.4816\n",
            "Epoch 7/200\n",
            "30/30 [==============================] - 4s 127ms/step - loss: 1.3389 - accuracy: 0.4196 - val_loss: 1.3284 - val_accuracy: 0.4816\n",
            "Epoch 8/200\n",
            "30/30 [==============================] - 4s 127ms/step - loss: 1.3327 - accuracy: 0.4196 - val_loss: 1.3212 - val_accuracy: 0.4816\n",
            "Epoch 9/200\n",
            "30/30 [==============================] - 4s 130ms/step - loss: 1.3266 - accuracy: 0.4196 - val_loss: 1.3144 - val_accuracy: 0.4816\n",
            "Epoch 10/200\n",
            "30/30 [==============================] - 4s 128ms/step - loss: 1.3207 - accuracy: 0.4196 - val_loss: 1.3078 - val_accuracy: 0.4816\n",
            "Epoch 11/200\n",
            "30/30 [==============================] - 4s 127ms/step - loss: 1.3152 - accuracy: 0.4196 - val_loss: 1.3014 - val_accuracy: 0.4816\n",
            "Epoch 12/200\n",
            "30/30 [==============================] - 4s 130ms/step - loss: 1.3098 - accuracy: 0.4196 - val_loss: 1.2952 - val_accuracy: 0.4816\n",
            "Epoch 13/200\n",
            "30/30 [==============================] - 4s 128ms/step - loss: 1.3046 - accuracy: 0.4196 - val_loss: 1.2892 - val_accuracy: 0.4816\n",
            "Epoch 14/200\n",
            "30/30 [==============================] - 4s 126ms/step - loss: 1.2996 - accuracy: 0.4196 - val_loss: 1.2835 - val_accuracy: 0.4816\n",
            "Epoch 15/200\n",
            "30/30 [==============================] - 4s 126ms/step - loss: 1.2941 - accuracy: 0.4196 - val_loss: 1.2732 - val_accuracy: 0.4816\n",
            "Epoch 16/200\n",
            "30/30 [==============================] - 4s 126ms/step - loss: 1.2866 - accuracy: 0.4196 - val_loss: 1.2612 - val_accuracy: 0.4816\n",
            "Epoch 17/200\n",
            "30/30 [==============================] - 4s 127ms/step - loss: 1.2779 - accuracy: 0.4196 - val_loss: 1.2482 - val_accuracy: 0.4816\n",
            "Epoch 18/200\n",
            "30/30 [==============================] - 4s 127ms/step - loss: 1.2681 - accuracy: 0.4196 - val_loss: 1.2352 - val_accuracy: 0.4816\n",
            "Epoch 19/200\n",
            "30/30 [==============================] - 4s 127ms/step - loss: 1.2588 - accuracy: 0.4196 - val_loss: 1.2204 - val_accuracy: 0.4816\n",
            "Epoch 20/200\n",
            "30/30 [==============================] - 4s 128ms/step - loss: 1.2489 - accuracy: 0.4196 - val_loss: 1.2065 - val_accuracy: 0.4816\n",
            "Epoch 21/200\n",
            "30/30 [==============================] - 4s 125ms/step - loss: 1.2382 - accuracy: 0.4196 - val_loss: 1.1920 - val_accuracy: 0.4816\n",
            "Epoch 22/200\n",
            "30/30 [==============================] - 4s 125ms/step - loss: 1.2257 - accuracy: 0.4196 - val_loss: 1.1768 - val_accuracy: 0.4816\n",
            "Epoch 23/200\n",
            "30/30 [==============================] - 4s 123ms/step - loss: 1.2104 - accuracy: 0.4196 - val_loss: 1.1613 - val_accuracy: 0.4816\n",
            "Epoch 24/200\n",
            "30/30 [==============================] - 4s 127ms/step - loss: 1.1967 - accuracy: 0.4196 - val_loss: 1.1544 - val_accuracy: 0.4816\n",
            "Epoch 25/200\n",
            "30/30 [==============================] - 4s 127ms/step - loss: 1.1770 - accuracy: 0.4196 - val_loss: 1.1327 - val_accuracy: 0.4816\n",
            "Epoch 26/200\n",
            "30/30 [==============================] - 4s 126ms/step - loss: 1.1494 - accuracy: 0.4196 - val_loss: 1.1215 - val_accuracy: 0.4816\n",
            "Epoch 27/200\n",
            "30/30 [==============================] - 4s 124ms/step - loss: 1.1049 - accuracy: 0.4288 - val_loss: 1.0920 - val_accuracy: 0.4816\n",
            "Epoch 28/200\n",
            "30/30 [==============================] - 4s 127ms/step - loss: 1.0763 - accuracy: 0.4220 - val_loss: 1.0315 - val_accuracy: 0.5551\n",
            "Epoch 29/200\n",
            "30/30 [==============================] - 4s 126ms/step - loss: 1.0472 - accuracy: 0.4653 - val_loss: 0.9777 - val_accuracy: 0.5772\n",
            "Epoch 30/200\n",
            "30/30 [==============================] - 4s 126ms/step - loss: 1.0302 - accuracy: 0.4876 - val_loss: 0.9811 - val_accuracy: 0.5735\n",
            "Epoch 31/200\n",
            "30/30 [==============================] - 4s 123ms/step - loss: 1.0158 - accuracy: 0.4845 - val_loss: 0.9707 - val_accuracy: 0.5551\n",
            "Epoch 32/200\n",
            "30/30 [==============================] - 4s 124ms/step - loss: 1.0096 - accuracy: 0.4920 - val_loss: 0.9751 - val_accuracy: 0.5221\n",
            "Epoch 33/200\n",
            "30/30 [==============================] - 4s 124ms/step - loss: 1.0058 - accuracy: 0.4783 - val_loss: 0.9835 - val_accuracy: 0.5184\n",
            "Epoch 34/200\n",
            "30/30 [==============================] - 4s 125ms/step - loss: 0.9862 - accuracy: 0.5235 - val_loss: 0.9518 - val_accuracy: 0.5515\n",
            "Epoch 35/200\n",
            "30/30 [==============================] - 4s 126ms/step - loss: 0.9722 - accuracy: 0.5155 - val_loss: 0.9385 - val_accuracy: 0.5551\n",
            "Epoch 36/200\n",
            "30/30 [==============================] - 4s 125ms/step - loss: 0.9669 - accuracy: 0.5340 - val_loss: 0.9821 - val_accuracy: 0.4632\n",
            "Epoch 37/200\n",
            "30/30 [==============================] - 4s 128ms/step - loss: 0.9611 - accuracy: 0.5359 - val_loss: 0.9542 - val_accuracy: 0.5147\n",
            "Epoch 38/200\n",
            "30/30 [==============================] - 4s 131ms/step - loss: 0.9492 - accuracy: 0.5353 - val_loss: 0.9238 - val_accuracy: 0.5110\n",
            "Epoch 39/200\n",
            "30/30 [==============================] - 4s 124ms/step - loss: 0.9490 - accuracy: 0.5421 - val_loss: 0.9052 - val_accuracy: 0.5478\n",
            "Epoch 40/200\n",
            "30/30 [==============================] - 4s 128ms/step - loss: 0.9481 - accuracy: 0.5594 - val_loss: 0.9348 - val_accuracy: 0.5110\n",
            "Epoch 41/200\n",
            "30/30 [==============================] - 4s 127ms/step - loss: 0.9243 - accuracy: 0.5575 - val_loss: 0.9258 - val_accuracy: 0.5037\n",
            "Epoch 42/200\n",
            "30/30 [==============================] - 4s 125ms/step - loss: 0.9425 - accuracy: 0.5557 - val_loss: 0.9274 - val_accuracy: 0.4779\n",
            "Epoch 43/200\n",
            "30/30 [==============================] - 4s 125ms/step - loss: 0.9384 - accuracy: 0.5390 - val_loss: 0.9193 - val_accuracy: 0.5037\n",
            "Epoch 44/200\n",
            "30/30 [==============================] - 4s 126ms/step - loss: 0.9262 - accuracy: 0.5662 - val_loss: 0.9131 - val_accuracy: 0.5147\n",
            "Epoch 45/200\n",
            "30/30 [==============================] - 4s 126ms/step - loss: 0.9120 - accuracy: 0.5532 - val_loss: 0.9791 - val_accuracy: 0.4228\n",
            "Epoch 46/200\n",
            "30/30 [==============================] - 4s 125ms/step - loss: 0.9078 - accuracy: 0.5439 - val_loss: 0.9751 - val_accuracy: 0.4191\n",
            "Epoch 47/200\n",
            "30/30 [==============================] - 4s 124ms/step - loss: 0.9055 - accuracy: 0.5656 - val_loss: 0.9561 - val_accuracy: 0.4559\n",
            "Epoch 48/200\n",
            "30/30 [==============================] - 4s 128ms/step - loss: 0.9046 - accuracy: 0.5662 - val_loss: 0.9876 - val_accuracy: 0.4081\n",
            "Epoch 49/200\n",
            "30/30 [==============================] - 4s 124ms/step - loss: 0.9091 - accuracy: 0.5625 - val_loss: 0.9639 - val_accuracy: 0.4706\n",
            "Epoch 50/200\n",
            "30/30 [==============================] - 4s 123ms/step - loss: 0.8692 - accuracy: 0.5873 - val_loss: 0.9474 - val_accuracy: 0.4890\n",
            "Epoch 51/200\n",
            "30/30 [==============================] - 4s 124ms/step - loss: 0.8692 - accuracy: 0.5767 - val_loss: 1.0293 - val_accuracy: 0.3713\n",
            "Epoch 52/200\n",
            "30/30 [==============================] - 4s 124ms/step - loss: 0.8666 - accuracy: 0.5934 - val_loss: 0.9330 - val_accuracy: 0.4926\n",
            "Epoch 53/200\n",
            "30/30 [==============================] - 4s 126ms/step - loss: 0.8384 - accuracy: 0.6015 - val_loss: 0.9508 - val_accuracy: 0.4779\n",
            "Epoch 54/200\n",
            "30/30 [==============================] - 4s 125ms/step - loss: 0.8147 - accuracy: 0.6064 - val_loss: 0.9206 - val_accuracy: 0.4926\n",
            "Epoch 55/200\n",
            "30/30 [==============================] - 4s 124ms/step - loss: 0.8525 - accuracy: 0.5910 - val_loss: 0.9420 - val_accuracy: 0.4301\n",
            "Epoch 56/200\n",
            "30/30 [==============================] - 4s 125ms/step - loss: 0.8886 - accuracy: 0.5600 - val_loss: 0.9331 - val_accuracy: 0.4485\n",
            "Epoch 57/200\n",
            "30/30 [==============================] - 4s 125ms/step - loss: 0.8261 - accuracy: 0.6052 - val_loss: 0.9077 - val_accuracy: 0.4926\n",
            "Epoch 58/200\n",
            "30/30 [==============================] - 4s 125ms/step - loss: 0.8014 - accuracy: 0.6300 - val_loss: 0.9166 - val_accuracy: 0.4816\n",
            "Epoch 59/200\n",
            "30/30 [==============================] - 4s 123ms/step - loss: 0.8022 - accuracy: 0.6213 - val_loss: 0.8473 - val_accuracy: 0.5294\n",
            "Epoch 60/200\n",
            "30/30 [==============================] - 4s 124ms/step - loss: 0.7697 - accuracy: 0.6665 - val_loss: 0.8474 - val_accuracy: 0.5625\n",
            "Epoch 61/200\n",
            "30/30 [==============================] - 4s 126ms/step - loss: 0.7673 - accuracy: 0.6343 - val_loss: 0.8150 - val_accuracy: 0.5625\n",
            "Epoch 62/200\n",
            "30/30 [==============================] - 4s 124ms/step - loss: 0.7379 - accuracy: 0.6621 - val_loss: 0.8222 - val_accuracy: 0.5699\n",
            "Epoch 63/200\n",
            "30/30 [==============================] - 4s 127ms/step - loss: 0.7196 - accuracy: 0.6764 - val_loss: 0.8076 - val_accuracy: 0.5515\n",
            "Epoch 64/200\n",
            "30/30 [==============================] - 4s 123ms/step - loss: 0.7232 - accuracy: 0.6825 - val_loss: 0.7922 - val_accuracy: 0.5809\n",
            "Epoch 65/200\n",
            "30/30 [==============================] - 4s 124ms/step - loss: 0.7015 - accuracy: 0.6634 - val_loss: 0.8208 - val_accuracy: 0.5404\n",
            "Epoch 66/200\n",
            "30/30 [==============================] - 4s 126ms/step - loss: 0.7267 - accuracy: 0.6801 - val_loss: 0.8540 - val_accuracy: 0.5221\n",
            "Epoch 67/200\n",
            "30/30 [==============================] - 4s 124ms/step - loss: 0.7024 - accuracy: 0.6838 - val_loss: 0.8010 - val_accuracy: 0.5478\n",
            "Epoch 68/200\n",
            "30/30 [==============================] - 4s 124ms/step - loss: 0.6828 - accuracy: 0.6912 - val_loss: 0.7566 - val_accuracy: 0.5772\n",
            "Epoch 69/200\n",
            "30/30 [==============================] - 4s 125ms/step - loss: 0.6683 - accuracy: 0.6906 - val_loss: 0.7569 - val_accuracy: 0.5551\n",
            "Epoch 70/200\n",
            "30/30 [==============================] - 4s 127ms/step - loss: 0.6597 - accuracy: 0.7184 - val_loss: 0.7572 - val_accuracy: 0.6140\n",
            "Epoch 71/200\n",
            "30/30 [==============================] - 4s 124ms/step - loss: 0.6754 - accuracy: 0.6986 - val_loss: 0.7300 - val_accuracy: 0.6140\n",
            "Epoch 72/200\n",
            "30/30 [==============================] - 4s 127ms/step - loss: 0.6515 - accuracy: 0.7054 - val_loss: 0.7252 - val_accuracy: 0.5993\n",
            "Epoch 73/200\n",
            "30/30 [==============================] - 4s 127ms/step - loss: 0.6438 - accuracy: 0.7160 - val_loss: 0.7560 - val_accuracy: 0.5735\n",
            "Epoch 74/200\n",
            "30/30 [==============================] - 4s 125ms/step - loss: 0.6482 - accuracy: 0.7092 - val_loss: 0.7474 - val_accuracy: 0.6066\n",
            "Epoch 75/200\n",
            "30/30 [==============================] - 4s 126ms/step - loss: 0.6299 - accuracy: 0.7197 - val_loss: 0.6794 - val_accuracy: 0.6691\n",
            "Epoch 76/200\n",
            "30/30 [==============================] - 4s 126ms/step - loss: 0.6298 - accuracy: 0.7104 - val_loss: 0.6931 - val_accuracy: 0.6654\n",
            "Epoch 77/200\n",
            "30/30 [==============================] - 4s 125ms/step - loss: 0.6436 - accuracy: 0.7024 - val_loss: 0.6703 - val_accuracy: 0.7022\n",
            "Epoch 78/200\n",
            "30/30 [==============================] - 4s 124ms/step - loss: 0.6177 - accuracy: 0.7147 - val_loss: 0.6363 - val_accuracy: 0.7132\n",
            "Epoch 79/200\n",
            "30/30 [==============================] - 4s 123ms/step - loss: 0.6113 - accuracy: 0.7265 - val_loss: 0.6678 - val_accuracy: 0.6765\n",
            "Epoch 80/200\n",
            "30/30 [==============================] - 4s 123ms/step - loss: 0.6097 - accuracy: 0.7333 - val_loss: 0.6967 - val_accuracy: 0.6618\n",
            "Epoch 81/200\n",
            "30/30 [==============================] - 4s 124ms/step - loss: 0.6229 - accuracy: 0.7339 - val_loss: 0.6613 - val_accuracy: 0.7059\n",
            "Epoch 82/200\n",
            "30/30 [==============================] - 4s 124ms/step - loss: 0.5998 - accuracy: 0.7290 - val_loss: 0.6741 - val_accuracy: 0.6985\n",
            "Epoch 83/200\n",
            "30/30 [==============================] - 4s 125ms/step - loss: 0.5864 - accuracy: 0.7506 - val_loss: 0.6061 - val_accuracy: 0.7243\n",
            "Epoch 84/200\n",
            "30/30 [==============================] - 4s 127ms/step - loss: 0.5873 - accuracy: 0.7463 - val_loss: 0.5976 - val_accuracy: 0.7279\n",
            "Epoch 85/200\n",
            "30/30 [==============================] - 4s 128ms/step - loss: 0.5804 - accuracy: 0.7327 - val_loss: 0.5770 - val_accuracy: 0.7610\n",
            "Epoch 86/200\n",
            "30/30 [==============================] - 4s 125ms/step - loss: 0.5822 - accuracy: 0.7469 - val_loss: 0.6479 - val_accuracy: 0.6765\n",
            "Epoch 87/200\n",
            "30/30 [==============================] - 4s 124ms/step - loss: 0.5649 - accuracy: 0.7550 - val_loss: 0.5733 - val_accuracy: 0.7537\n",
            "Epoch 88/200\n",
            "30/30 [==============================] - 4s 126ms/step - loss: 0.5783 - accuracy: 0.7655 - val_loss: 0.5983 - val_accuracy: 0.7243\n",
            "Epoch 89/200\n",
            "30/30 [==============================] - 4s 122ms/step - loss: 0.5823 - accuracy: 0.7426 - val_loss: 0.6028 - val_accuracy: 0.7243\n",
            "Epoch 90/200\n",
            "30/30 [==============================] - 4s 124ms/step - loss: 0.5726 - accuracy: 0.7537 - val_loss: 0.6525 - val_accuracy: 0.6985\n",
            "Epoch 91/200\n",
            "30/30 [==============================] - 4s 127ms/step - loss: 0.5765 - accuracy: 0.7568 - val_loss: 0.6217 - val_accuracy: 0.7243\n",
            "Epoch 92/200\n",
            "30/30 [==============================] - 4s 124ms/step - loss: 0.5680 - accuracy: 0.7463 - val_loss: 0.5674 - val_accuracy: 0.7390\n",
            "Epoch 93/200\n",
            "30/30 [==============================] - 4s 124ms/step - loss: 0.5294 - accuracy: 0.7896 - val_loss: 0.5477 - val_accuracy: 0.7610\n",
            "Epoch 94/200\n",
            "30/30 [==============================] - 4s 125ms/step - loss: 0.5282 - accuracy: 0.7921 - val_loss: 0.5677 - val_accuracy: 0.7353\n",
            "Epoch 95/200\n",
            "30/30 [==============================] - 4s 123ms/step - loss: 0.5428 - accuracy: 0.7778 - val_loss: 0.5203 - val_accuracy: 0.7904\n",
            "Epoch 96/200\n",
            "30/30 [==============================] - 4s 125ms/step - loss: 0.5172 - accuracy: 0.7902 - val_loss: 0.5374 - val_accuracy: 0.7647\n",
            "Epoch 97/200\n",
            "30/30 [==============================] - 4s 122ms/step - loss: 0.5188 - accuracy: 0.7778 - val_loss: 0.5001 - val_accuracy: 0.8015\n",
            "Epoch 98/200\n",
            "30/30 [==============================] - 4s 126ms/step - loss: 0.5628 - accuracy: 0.7655 - val_loss: 0.5229 - val_accuracy: 0.7500\n",
            "Epoch 99/200\n",
            "30/30 [==============================] - 4s 126ms/step - loss: 0.5393 - accuracy: 0.7729 - val_loss: 0.5236 - val_accuracy: 0.7647\n",
            "Epoch 100/200\n",
            "30/30 [==============================] - 4s 125ms/step - loss: 0.5261 - accuracy: 0.7908 - val_loss: 0.5356 - val_accuracy: 0.7831\n",
            "Epoch 101/200\n",
            "30/30 [==============================] - 4s 124ms/step - loss: 0.5537 - accuracy: 0.7735 - val_loss: 0.5539 - val_accuracy: 0.7868\n",
            "Epoch 102/200\n",
            "30/30 [==============================] - 4s 127ms/step - loss: 0.5086 - accuracy: 0.7995 - val_loss: 0.5065 - val_accuracy: 0.7610\n",
            "Epoch 103/200\n",
            "30/30 [==============================] - 4s 124ms/step - loss: 0.5164 - accuracy: 0.7952 - val_loss: 0.5038 - val_accuracy: 0.8162\n",
            "Epoch 104/200\n",
            "30/30 [==============================] - 4s 126ms/step - loss: 0.5222 - accuracy: 0.7915 - val_loss: 0.5149 - val_accuracy: 0.7831\n",
            "Epoch 105/200\n",
            "30/30 [==============================] - 4s 124ms/step - loss: 0.5008 - accuracy: 0.7970 - val_loss: 0.5020 - val_accuracy: 0.7794\n",
            "Epoch 106/200\n",
            "30/30 [==============================] - 4s 124ms/step - loss: 0.5012 - accuracy: 0.8094 - val_loss: 0.4911 - val_accuracy: 0.7941\n",
            "Epoch 107/200\n",
            "30/30 [==============================] - 4s 124ms/step - loss: 0.4944 - accuracy: 0.7946 - val_loss: 0.4824 - val_accuracy: 0.8051\n",
            "Epoch 108/200\n",
            "30/30 [==============================] - 4s 123ms/step - loss: 0.5009 - accuracy: 0.7952 - val_loss: 0.4867 - val_accuracy: 0.7831\n",
            "Epoch 109/200\n",
            "30/30 [==============================] - 4s 124ms/step - loss: 0.4947 - accuracy: 0.8069 - val_loss: 0.4885 - val_accuracy: 0.7868\n",
            "Epoch 110/200\n",
            "30/30 [==============================] - 4s 124ms/step - loss: 0.4697 - accuracy: 0.8181 - val_loss: 0.4732 - val_accuracy: 0.8235\n",
            "Epoch 111/200\n",
            "30/30 [==============================] - 4s 126ms/step - loss: 0.5079 - accuracy: 0.7921 - val_loss: 0.4964 - val_accuracy: 0.7868\n",
            "Epoch 112/200\n",
            "30/30 [==============================] - 4s 124ms/step - loss: 0.4947 - accuracy: 0.8106 - val_loss: 0.4777 - val_accuracy: 0.8125\n",
            "Epoch 113/200\n",
            "30/30 [==============================] - 4s 122ms/step - loss: 0.6011 - accuracy: 0.7624 - val_loss: 0.5330 - val_accuracy: 0.7721\n",
            "Epoch 114/200\n",
            "30/30 [==============================] - 4s 124ms/step - loss: 0.5115 - accuracy: 0.7921 - val_loss: 0.4907 - val_accuracy: 0.8125\n",
            "Epoch 115/200\n",
            "30/30 [==============================] - 4s 123ms/step - loss: 0.4856 - accuracy: 0.8032 - val_loss: 0.4780 - val_accuracy: 0.8125\n",
            "Epoch 116/200\n",
            "30/30 [==============================] - 4s 124ms/step - loss: 0.4980 - accuracy: 0.8057 - val_loss: 0.4889 - val_accuracy: 0.7941\n",
            "Epoch 117/200\n",
            "30/30 [==============================] - 4s 126ms/step - loss: 0.4884 - accuracy: 0.8082 - val_loss: 0.4968 - val_accuracy: 0.7794\n",
            "Epoch 118/200\n",
            "30/30 [==============================] - 4s 131ms/step - loss: 0.4920 - accuracy: 0.8094 - val_loss: 0.4862 - val_accuracy: 0.7978\n",
            "Epoch 119/200\n",
            "30/30 [==============================] - 4s 122ms/step - loss: 0.4589 - accuracy: 0.8255 - val_loss: 0.4685 - val_accuracy: 0.7941\n",
            "Epoch 120/200\n",
            "30/30 [==============================] - 4s 125ms/step - loss: 0.4743 - accuracy: 0.8082 - val_loss: 0.4517 - val_accuracy: 0.8382\n",
            "Epoch 121/200\n",
            "30/30 [==============================] - 4s 124ms/step - loss: 0.4586 - accuracy: 0.8335 - val_loss: 0.4606 - val_accuracy: 0.8309\n",
            "Epoch 122/200\n",
            "30/30 [==============================] - 4s 122ms/step - loss: 0.4518 - accuracy: 0.8230 - val_loss: 0.4619 - val_accuracy: 0.8199\n",
            "Epoch 123/200\n",
            "30/30 [==============================] - 4s 121ms/step - loss: 0.4438 - accuracy: 0.8255 - val_loss: 0.4872 - val_accuracy: 0.7831\n",
            "Epoch 124/200\n",
            "30/30 [==============================] - 4s 123ms/step - loss: 0.4680 - accuracy: 0.8156 - val_loss: 0.4966 - val_accuracy: 0.7831\n",
            "Epoch 125/200\n",
            "30/30 [==============================] - 4s 123ms/step - loss: 0.4446 - accuracy: 0.8255 - val_loss: 0.4604 - val_accuracy: 0.7794\n",
            "Epoch 126/200\n",
            "30/30 [==============================] - 4s 124ms/step - loss: 0.4516 - accuracy: 0.8292 - val_loss: 0.4792 - val_accuracy: 0.7904\n",
            "Epoch 127/200\n",
            "30/30 [==============================] - 4s 124ms/step - loss: 0.4659 - accuracy: 0.8199 - val_loss: 0.4614 - val_accuracy: 0.7610\n",
            "Epoch 128/200\n",
            "30/30 [==============================] - 4s 122ms/step - loss: 0.4535 - accuracy: 0.8218 - val_loss: 0.4747 - val_accuracy: 0.7978\n",
            "Epoch 129/200\n",
            "30/30 [==============================] - 4s 121ms/step - loss: 0.4609 - accuracy: 0.8181 - val_loss: 0.4542 - val_accuracy: 0.8051\n",
            "Epoch 130/200\n",
            "30/30 [==============================] - 4s 121ms/step - loss: 0.4595 - accuracy: 0.8243 - val_loss: 0.4473 - val_accuracy: 0.8235\n",
            "Epoch 131/200\n",
            "30/30 [==============================] - 4s 125ms/step - loss: 0.4337 - accuracy: 0.8261 - val_loss: 0.4754 - val_accuracy: 0.7868\n",
            "Epoch 132/200\n",
            "30/30 [==============================] - 4s 123ms/step - loss: 0.4331 - accuracy: 0.8329 - val_loss: 0.4494 - val_accuracy: 0.8051\n",
            "Epoch 133/200\n",
            "30/30 [==============================] - 4s 122ms/step - loss: 0.4396 - accuracy: 0.8267 - val_loss: 0.4525 - val_accuracy: 0.7904\n",
            "Epoch 134/200\n",
            "30/30 [==============================] - 4s 123ms/step - loss: 0.4502 - accuracy: 0.8218 - val_loss: 0.5219 - val_accuracy: 0.7794\n",
            "Epoch 135/200\n",
            "30/30 [==============================] - 4s 124ms/step - loss: 0.4524 - accuracy: 0.8298 - val_loss: 0.4664 - val_accuracy: 0.7941\n",
            "Epoch 136/200\n",
            "30/30 [==============================] - 4s 124ms/step - loss: 0.4426 - accuracy: 0.8168 - val_loss: 0.4606 - val_accuracy: 0.7904\n",
            "Epoch 137/200\n",
            "30/30 [==============================] - 4s 124ms/step - loss: 0.4464 - accuracy: 0.8323 - val_loss: 0.4492 - val_accuracy: 0.7978\n",
            "Epoch 138/200\n",
            "30/30 [==============================] - 4s 124ms/step - loss: 0.4292 - accuracy: 0.8292 - val_loss: 0.4523 - val_accuracy: 0.7904\n",
            "Epoch 139/200\n",
            "30/30 [==============================] - 4s 124ms/step - loss: 0.4229 - accuracy: 0.8441 - val_loss: 0.4590 - val_accuracy: 0.7868\n",
            "Epoch 140/200\n",
            "30/30 [==============================] - 4s 121ms/step - loss: 0.4621 - accuracy: 0.8261 - val_loss: 0.5284 - val_accuracy: 0.7647\n",
            "Epoch 141/200\n",
            "30/30 [==============================] - 4s 123ms/step - loss: 0.4585 - accuracy: 0.8144 - val_loss: 0.4371 - val_accuracy: 0.8015\n",
            "Epoch 142/200\n",
            "30/30 [==============================] - 4s 125ms/step - loss: 0.4216 - accuracy: 0.8391 - val_loss: 0.5085 - val_accuracy: 0.7500\n",
            "Epoch 143/200\n",
            "30/30 [==============================] - 4s 124ms/step - loss: 0.4333 - accuracy: 0.8311 - val_loss: 0.4634 - val_accuracy: 0.7941\n",
            "Epoch 144/200\n",
            "30/30 [==============================] - 4s 122ms/step - loss: 0.4267 - accuracy: 0.8379 - val_loss: 0.4644 - val_accuracy: 0.7904\n",
            "Epoch 145/200\n",
            "30/30 [==============================] - 4s 124ms/step - loss: 0.4242 - accuracy: 0.8385 - val_loss: 0.4629 - val_accuracy: 0.8088\n",
            "Epoch 146/200\n",
            "30/30 [==============================] - 4s 123ms/step - loss: 0.4299 - accuracy: 0.8304 - val_loss: 0.4567 - val_accuracy: 0.7904\n",
            "Epoch 147/200\n",
            "30/30 [==============================] - 4s 123ms/step - loss: 0.4098 - accuracy: 0.8422 - val_loss: 0.4643 - val_accuracy: 0.7831\n",
            "Epoch 148/200\n",
            "30/30 [==============================] - 4s 125ms/step - loss: 0.4137 - accuracy: 0.8403 - val_loss: 0.4554 - val_accuracy: 0.8051\n",
            "Epoch 149/200\n",
            "30/30 [==============================] - 4s 127ms/step - loss: 0.4075 - accuracy: 0.8422 - val_loss: 0.4432 - val_accuracy: 0.8125\n",
            "Epoch 150/200\n",
            "30/30 [==============================] - 4s 122ms/step - loss: 0.4041 - accuracy: 0.8453 - val_loss: 0.4203 - val_accuracy: 0.8199\n",
            "Epoch 151/200\n",
            "30/30 [==============================] - 4s 123ms/step - loss: 0.4187 - accuracy: 0.8453 - val_loss: 0.4108 - val_accuracy: 0.8346\n",
            "Epoch 152/200\n",
            "30/30 [==============================] - 4s 121ms/step - loss: 0.4035 - accuracy: 0.8403 - val_loss: 0.4314 - val_accuracy: 0.8162\n",
            "Epoch 153/200\n",
            "30/30 [==============================] - 4s 128ms/step - loss: 0.4038 - accuracy: 0.8521 - val_loss: 0.4353 - val_accuracy: 0.8015\n",
            "Epoch 154/200\n",
            "30/30 [==============================] - 4s 123ms/step - loss: 0.4208 - accuracy: 0.8366 - val_loss: 0.4571 - val_accuracy: 0.7978\n",
            "Epoch 155/200\n",
            "30/30 [==============================] - 4s 127ms/step - loss: 0.4107 - accuracy: 0.8403 - val_loss: 0.4384 - val_accuracy: 0.8015\n",
            "Epoch 156/200\n",
            "30/30 [==============================] - 4s 125ms/step - loss: 0.4226 - accuracy: 0.8385 - val_loss: 0.4515 - val_accuracy: 0.8088\n",
            "Epoch 157/200\n",
            "30/30 [==============================] - 4s 124ms/step - loss: 0.4082 - accuracy: 0.8422 - val_loss: 0.4426 - val_accuracy: 0.7941\n",
            "Epoch 158/200\n",
            "30/30 [==============================] - 4s 124ms/step - loss: 0.4156 - accuracy: 0.8484 - val_loss: 0.4345 - val_accuracy: 0.8088\n",
            "Epoch 159/200\n",
            "30/30 [==============================] - 4s 123ms/step - loss: 0.4068 - accuracy: 0.8422 - val_loss: 0.4666 - val_accuracy: 0.7941\n",
            "Epoch 160/200\n",
            "30/30 [==============================] - 4s 124ms/step - loss: 0.4040 - accuracy: 0.8428 - val_loss: 0.4131 - val_accuracy: 0.8199\n",
            "Epoch 161/200\n",
            "30/30 [==============================] - 4s 126ms/step - loss: 0.3968 - accuracy: 0.8453 - val_loss: 0.4174 - val_accuracy: 0.8199\n",
            "Epoch 162/200\n",
            "30/30 [==============================] - 4s 124ms/step - loss: 0.4204 - accuracy: 0.8410 - val_loss: 0.4252 - val_accuracy: 0.7941\n",
            "Epoch 163/200\n",
            "30/30 [==============================] - 4s 126ms/step - loss: 0.3833 - accuracy: 0.8533 - val_loss: 0.4458 - val_accuracy: 0.7978\n",
            "Epoch 164/200\n",
            "30/30 [==============================] - 4s 125ms/step - loss: 0.4121 - accuracy: 0.8422 - val_loss: 0.5952 - val_accuracy: 0.6507\n",
            "Epoch 165/200\n",
            "30/30 [==============================] - 4s 123ms/step - loss: 0.4416 - accuracy: 0.8267 - val_loss: 0.4395 - val_accuracy: 0.7831\n",
            "Epoch 166/200\n",
            "30/30 [==============================] - 4s 124ms/step - loss: 0.3880 - accuracy: 0.8521 - val_loss: 0.4249 - val_accuracy: 0.8199\n",
            "Epoch 167/200\n",
            "30/30 [==============================] - 4s 123ms/step - loss: 0.4134 - accuracy: 0.8385 - val_loss: 0.4292 - val_accuracy: 0.7978\n",
            "Epoch 168/200\n",
            "30/30 [==============================] - 4s 124ms/step - loss: 0.3699 - accuracy: 0.8620 - val_loss: 0.4353 - val_accuracy: 0.7941\n",
            "Epoch 169/200\n",
            "30/30 [==============================] - 4s 125ms/step - loss: 0.3890 - accuracy: 0.8564 - val_loss: 0.4289 - val_accuracy: 0.8015\n",
            "Epoch 170/200\n",
            "30/30 [==============================] - 4s 124ms/step - loss: 0.3630 - accuracy: 0.8571 - val_loss: 0.4330 - val_accuracy: 0.8015\n",
            "Epoch 171/200\n",
            "30/30 [==============================] - 4s 124ms/step - loss: 0.4082 - accuracy: 0.8459 - val_loss: 0.4324 - val_accuracy: 0.7941\n",
            "Epoch 172/200\n",
            "30/30 [==============================] - 4s 126ms/step - loss: 0.3746 - accuracy: 0.8620 - val_loss: 0.4286 - val_accuracy: 0.7794\n",
            "Epoch 173/200\n",
            "30/30 [==============================] - 4s 124ms/step - loss: 0.4024 - accuracy: 0.8496 - val_loss: 0.4090 - val_accuracy: 0.8235\n",
            "Epoch 174/200\n",
            "30/30 [==============================] - 4s 126ms/step - loss: 0.4132 - accuracy: 0.8434 - val_loss: 0.4272 - val_accuracy: 0.7868\n",
            "Epoch 175/200\n",
            "30/30 [==============================] - 4s 126ms/step - loss: 0.4004 - accuracy: 0.8465 - val_loss: 0.4013 - val_accuracy: 0.8419\n",
            "Epoch 176/200\n",
            "30/30 [==============================] - 4s 125ms/step - loss: 0.3796 - accuracy: 0.8552 - val_loss: 0.3920 - val_accuracy: 0.8309\n",
            "Epoch 177/200\n",
            "30/30 [==============================] - 4s 126ms/step - loss: 0.4014 - accuracy: 0.8447 - val_loss: 0.3980 - val_accuracy: 0.8272\n",
            "Epoch 178/200\n",
            "30/30 [==============================] - 4s 126ms/step - loss: 0.3830 - accuracy: 0.8558 - val_loss: 0.4403 - val_accuracy: 0.7831\n",
            "Epoch 179/200\n",
            "30/30 [==============================] - 4s 125ms/step - loss: 0.3683 - accuracy: 0.8620 - val_loss: 0.3783 - val_accuracy: 0.8309\n",
            "Epoch 180/200\n",
            "30/30 [==============================] - 4s 129ms/step - loss: 0.4032 - accuracy: 0.8472 - val_loss: 0.3914 - val_accuracy: 0.8088\n",
            "Epoch 181/200\n",
            "30/30 [==============================] - 4s 126ms/step - loss: 0.3863 - accuracy: 0.8540 - val_loss: 0.4029 - val_accuracy: 0.8272\n",
            "Epoch 182/200\n",
            "30/30 [==============================] - 4s 126ms/step - loss: 0.3926 - accuracy: 0.8478 - val_loss: 0.4110 - val_accuracy: 0.8162\n",
            "Epoch 183/200\n",
            "30/30 [==============================] - 4s 126ms/step - loss: 0.3687 - accuracy: 0.8608 - val_loss: 0.3867 - val_accuracy: 0.8346\n",
            "Epoch 184/200\n",
            "30/30 [==============================] - 4s 126ms/step - loss: 0.3980 - accuracy: 0.8478 - val_loss: 0.3877 - val_accuracy: 0.8088\n",
            "Epoch 185/200\n",
            "30/30 [==============================] - 4s 125ms/step - loss: 0.3881 - accuracy: 0.8527 - val_loss: 0.3784 - val_accuracy: 0.8309\n",
            "Epoch 186/200\n",
            "30/30 [==============================] - 4s 128ms/step - loss: 0.3885 - accuracy: 0.8558 - val_loss: 0.3829 - val_accuracy: 0.8346\n",
            "Epoch 187/200\n",
            "30/30 [==============================] - 4s 123ms/step - loss: 0.3949 - accuracy: 0.8583 - val_loss: 0.3980 - val_accuracy: 0.8309\n",
            "Epoch 188/200\n",
            "30/30 [==============================] - 4s 121ms/step - loss: 0.3801 - accuracy: 0.8676 - val_loss: 0.4111 - val_accuracy: 0.8051\n",
            "Epoch 189/200\n",
            "30/30 [==============================] - 4s 126ms/step - loss: 0.3793 - accuracy: 0.8571 - val_loss: 0.4059 - val_accuracy: 0.8125\n",
            "Epoch 190/200\n",
            "30/30 [==============================] - 4s 125ms/step - loss: 0.3638 - accuracy: 0.8589 - val_loss: 0.3977 - val_accuracy: 0.8051\n",
            "Epoch 191/200\n",
            "30/30 [==============================] - 4s 122ms/step - loss: 0.3667 - accuracy: 0.8589 - val_loss: 0.4035 - val_accuracy: 0.8088\n",
            "Epoch 192/200\n",
            "30/30 [==============================] - 4s 124ms/step - loss: 0.3469 - accuracy: 0.8657 - val_loss: 0.3976 - val_accuracy: 0.8235\n",
            "Epoch 193/200\n",
            "30/30 [==============================] - 4s 123ms/step - loss: 0.3657 - accuracy: 0.8614 - val_loss: 0.4005 - val_accuracy: 0.8272\n",
            "Epoch 194/200\n",
            "30/30 [==============================] - 4s 124ms/step - loss: 0.4018 - accuracy: 0.8496 - val_loss: 0.5119 - val_accuracy: 0.7500\n",
            "Epoch 195/200\n",
            "30/30 [==============================] - 4s 123ms/step - loss: 0.4675 - accuracy: 0.8137 - val_loss: 0.3783 - val_accuracy: 0.8051\n",
            "Epoch 196/200\n",
            "30/30 [==============================] - 4s 122ms/step - loss: 0.3902 - accuracy: 0.8453 - val_loss: 0.3797 - val_accuracy: 0.8382\n",
            "Epoch 197/200\n",
            "30/30 [==============================] - 4s 126ms/step - loss: 0.4029 - accuracy: 0.8583 - val_loss: 0.5382 - val_accuracy: 0.7206\n",
            "Epoch 198/200\n",
            "30/30 [==============================] - 4s 124ms/step - loss: 0.4186 - accuracy: 0.8416 - val_loss: 0.3696 - val_accuracy: 0.8346\n",
            "Epoch 199/200\n",
            "30/30 [==============================] - 4s 125ms/step - loss: 0.3623 - accuracy: 0.8608 - val_loss: 0.3939 - val_accuracy: 0.8309\n",
            "Epoch 200/200\n",
            "30/30 [==============================] - 4s 121ms/step - loss: 0.3686 - accuracy: 0.8645 - val_loss: 0.3983 - val_accuracy: 0.8346\n"
          ]
        }
      ],
      "source": [
        "# Create an Instance of Early Stopping Callback\n",
        "\n",
        "# https://stackoverflow.com/questions/53479007/how-to-setup-adaptive-learning-rate-in-keras\n",
        "# def adapt_learning_rate(epoch):\n",
        "#     print(0.0001 * epoch)\n",
        "#     return 0.0001 * epoch\n",
        "# my_lr_scheduler = keras.callbacks.LearningRateScheduler(adapt_learning_rate)\n",
        "\n",
        "early_stopping_callback = keras.callbacks.EarlyStopping(monitor = 'val_loss',\n",
        "                                                        patience = 10,\n",
        "                                                        mode = 'min',\n",
        "                                                        restore_best_weights = True)\n",
        "# Compile the model and specify loss function, optimizer and metrics values to the model\n",
        "convlstm_model.compile(loss = 'categorical_crossentropy',\n",
        "                       optimizer= keras.optimizers.Adam(0.0005, decay=1e-4),\n",
        "                       metrics = [\"accuracy\"])\n",
        "# Start training the model.\n",
        "convlstm_model_training_history = convlstm_model.fit(x = features_train,\n",
        "                                                     y = labels_train,\n",
        "                                                     epochs = 200,\n",
        "                                                     batch_size = 54,\n",
        "                                                     shuffle = True,\n",
        "                                                     validation_data = (features_valid, labels_valid)),\n",
        "                                                    #  callbacks = [early_stopping_callback])\n"
      ]
    },
    {
      "cell_type": "code",
      "execution_count": 15,
      "metadata": {
        "colab": {
          "base_uri": "https://localhost:8080/"
        },
        "id": "LcpKhGqvIenv",
        "outputId": "f7a82667-f5be-4c92-c440-4315a67a719d"
      },
      "outputs": [
        {
          "output_type": "stream",
          "name": "stdout",
          "text": [
            "9/9 [==============================] - 0s 38ms/step - loss: 1.1842 - accuracy: 0.6827\n",
            "\n",
            "\n",
            "Train accuracy: 85.705 % || Test accuracy: 68.266 % || Val accuracy: 83.456 %\n",
            "\n",
            "\n",
            "Train loss: 0.338 || Test loss: 1.184 || Val loss: 0.398\n"
          ]
        }
      ],
      "source": [
        "model_evaluation_history = convlstm_model.evaluate(features_test, labels_test)\n",
        "print('\\n')\n",
        "train_loss, train_acc = convlstm_model.evaluate(features_train, labels_train, verbose=0)\n",
        "test_loss, test_acc = convlstm_model.evaluate(features_test, labels_test, verbose=0)\n",
        "val_loss, val_acc = convlstm_model.evaluate(features_valid, labels_valid, verbose=0)\n",
        "\n",
        "print(f'Train accuracy: {train_acc*100:.3f} % || Test accuracy: {test_acc*100:.3f} % || Val accuracy: {val_acc*100:.3f} %')\n",
        "print('\\n')\n",
        "print(f'Train loss: {train_loss:.3f} || Test loss: {test_loss:.3f} || Val loss: {val_loss:.3f}')"
      ]
    },
    {
      "cell_type": "code",
      "execution_count": 16,
      "metadata": {
        "id": "qsFw5KIzIum9"
      },
      "outputs": [],
      "source": [
        "# Get the loss and accuracy from model_evaluation_history.\n",
        "model_evaluation_loss, model_evaluation_accuracy = model_evaluation_history\n",
        " \n",
        "# Define the string date format.\n",
        "# Get the current Date and Time in a DateTime Object.\n",
        "# Convert the DateTime object to string according to the style mentioned in date_time_format string.\n",
        "date_time_format = '%Y_%m_%d__%H_%M_%S'\n",
        "current_date_time_dt = dt.datetime.now()\n",
        "current_date_time_string = dt.datetime.strftime(current_date_time_dt, date_time_format)\n",
        " \n",
        "# Define a useful name for our model to make it easy for us while navigating through multiple saved models.\n",
        "model_file_name = f'convlstm_model___Date_Time_{current_date_time_string}___Loss_{model_evaluation_loss}___Accuracy_{model_evaluation_accuracy}.h5'\n",
        " \n",
        "# Change dir\n",
        "gdrive_path = '/content/gdrive' + '/My Drive/247/Saved_models/'\n",
        "os.chdir(gdrive_path)\n",
        "# Create a floder for the model files\n",
        "!mkdir -p convlstm_{current_date_time_string}\n",
        "# Save your Model.\n",
        "convlstm_model.save('convlstm_' + str(current_date_time_string) + '/' + model_file_name)\n",
        "# Save model weights\n",
        "convlstm_model.save_weights('convlstm_' + str(current_date_time_string) + '/' + 'weights')"
      ]
    },
    {
      "cell_type": "code",
      "execution_count": 17,
      "metadata": {
        "id": "Z0eAobhSIz_P"
      },
      "outputs": [],
      "source": [
        "def plot_metric(model_training_history, metric_name_1, metric_name_2, plot_name):\n",
        "    '''\n",
        "    This function will plot the metrics passed to it in a graph.\n",
        "    Args:\n",
        "        model_training_history: A history object containing a record of training and validation \n",
        "                                loss values and metrics values at successive epochs\n",
        "        metric_name_1:          The name of the first metric that needs to be plotted in the graph.\n",
        "        metric_name_2:          The name of the second metric that needs to be plotted in the graph.\n",
        "        plot_name:              The title of the graph.\n",
        "    '''\n",
        "    \n",
        "    # Get metric values using metric names as identifiers.\n",
        "    metric_value_1 = model_training_history[0].history[metric_name_1]\n",
        "    metric_value_2 = model_training_history[0].history[metric_name_2]\n",
        "    \n",
        "    # Construct a range object which will be used as x-axis (horizontal plane) of the graph.\n",
        "    epochs = range(len(metric_value_1))\n",
        "\n",
        "    # Plot the Graph.\n",
        "    plt.plot(epochs, metric_value_1, 'blue', label = metric_name_1)\n",
        "    plt.plot(epochs, metric_value_2, 'red', label = metric_name_2)\n",
        "\n",
        "    # Add title to the plot.\n",
        "    plt.title(str(plot_name))\n",
        "\n",
        "    # Add legend to the plot.\n",
        "    plt.legend()"
      ]
    },
    {
      "cell_type": "code",
      "execution_count": 18,
      "metadata": {
        "colab": {
          "base_uri": "https://localhost:8080/",
          "height": 281
        },
        "id": "18RtBjI9I5lE",
        "outputId": "6100c6a5-c663-4680-bbd0-d3fb0cd98e87"
      },
      "outputs": [
        {
          "output_type": "display_data",
          "data": {
            "text/plain": [
              "<Figure size 432x288 with 1 Axes>"
            ],
            "image/png": "[encoded data removed]"
          },
          "metadata": {
            "needs_background": "light"
          }
        }
      ],
      "source": [
        "plot_metric(convlstm_model_training_history, 'loss', 'val_loss', 'Total Loss vs Total Validation Loss')"
      ]
    },
    {
      "cell_type": "code",
      "execution_count": 19,
      "metadata": {
        "colab": {
          "base_uri": "https://localhost:8080/",
          "height": 281
        },
        "id": "02amk7TXI_OS",
        "outputId": "eb426a55-7cb4-45d4-cefb-ca6698e92860"
      },
      "outputs": [
        {
          "output_type": "display_data",
          "data": {
            "text/plain": [
              "<Figure size 432x288 with 1 Axes>"
            ],
            "image/png": "[encoded data removed]"
          },
          "metadata": {
            "needs_background": "light"
          }
        }
      ],
      "source": [
        "plot_metric(convlstm_model_training_history, 'accuracy', 'val_accuracy', 'Total Accuracy vs Total Validation Accuracy') "
      ]
    }
  ],
  "metadata": {
    "accelerator": "GPU",
    "colab": {
      "collapsed_sections": [],
      "machine_shape": "hm",
      "name": "2D_CNN+LSTM.ipynb",
      "provenance": [],
      "authorship_tag": "ABX9TyPxcDWmcjodAlBaFvB3yYs0",
      "include_colab_link": true
    },
    "kernelspec": {
      "display_name": "Python 3",
      "name": "python3"
    },
    "language_info": {
      "name": "python"
    }
  },
  "nbformat": 4,
  "nbformat_minor": 0
}