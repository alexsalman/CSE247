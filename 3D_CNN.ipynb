{
  "cells": [
    {
      "cell_type": "markdown",
      "metadata": {
        "id": "view-in-github",
        "colab_type": "text"
      },
      "source": [
        "<a href=\"https://colab.research.google.com/github/alexsalman/CSE247/blob/main/3D_CNN.ipynb\" target=\"_parent\"><img src=\"https://colab.research.google.com/assets/colab-badge.svg\" alt=\"Open In Colab\"/></a>"
      ]
    },
    {
      "cell_type": "markdown",
      "metadata": {
        "id": "Kk7I8NauauE3"
      },
      "source": [
        "####**3D Convolutional Neural Network**\n",
        "######*I am using 3D Convolutional Neural Network to extract the temporal and spatial information which are merged slowly throughout the whole network.*"
      ]
    },
    {
      "cell_type": "code",
      "execution_count": 1,
      "metadata": {
        "colab": {
          "base_uri": "https://localhost:8080/"
        },
        "id": "M8ibtd5HKtZk",
        "outputId": "30bad038-c96f-4716-b36e-25aacc88a469"
      },
      "outputs": [
        {
          "output_type": "stream",
          "name": "stdout",
          "text": [
            "2.8.0\n"
          ]
        }
      ],
      "source": [
        "# required libraries\n",
        "import os\n",
        "import cv2\n",
        "import math\n",
        "import random\n",
        "import numpy as np\n",
        "import datetime as dt\n",
        "from collections import deque\n",
        "import matplotlib.pyplot as plt\n",
        "from google.colab import drive\n",
        "from sklearn.model_selection import train_test_split\n",
        "import tensorflow as tf\n",
        "from tensorflow import keras\n",
        "from keras.models import Sequential\n",
        "from keras.layers import Dense, Flatten, Conv3D, MaxPooling3D, Dropout, BatchNormalization, GlobalAveragePooling3D\n",
        "from PIL import Image\n",
        "%matplotlib inline\n",
        "print(tf.version.VERSION)\n",
        "# https://bleedai.com/human-activity-recognition-using-tensorflow-cnn-lstm/"
      ]
    },
    {
      "cell_type": "code",
      "execution_count": 2,
      "metadata": {
        "id": "iffdFOf1CEAN"
      },
      "outputs": [],
      "source": [
        "# set Numpy, Python, and Tensorflow seeds to get consistent results on every execution\n",
        "seed_constant = 27\n",
        "np.random.seed(seed_constant)\n",
        "random.seed(seed_constant)\n",
        "tf.random.set_seed(seed_constant)"
      ]
    },
    {
      "cell_type": "code",
      "execution_count": 3,
      "metadata": {
        "colab": {
          "base_uri": "https://localhost:8080/",
          "height": 53
        },
        "id": "mcLh22LiOHyn",
        "outputId": "76f76e7b-a4bd-4b73-88a6-b566bdd2b1be"
      },
      "outputs": [
        {
          "output_type": "stream",
          "name": "stdout",
          "text": [
            "Mounted at /content/gdrive/\n"
          ]
        },
        {
          "output_type": "execute_result",
          "data": {
            "text/plain": [
              "'/content/gdrive/My Drive/247'"
            ],
            "application/vnd.google.colaboratory.intrinsic+json": {
              "type": "string"
            }
          },
          "metadata": {},
          "execution_count": 3
        }
      ],
      "source": [
        "# mount dataset from google drive\n",
        "drive.mount('/content/gdrive/', force_remount=True)\n",
        "gdrive_path = '/content/gdrive' + '/My Drive/247/'\n",
        "os.chdir(gdrive_path)\n",
        "os.getcwd()"
      ]
    },
    {
      "cell_type": "code",
      "execution_count": 4,
      "metadata": {
        "id": "oeDK8SzumZ1Q"
      },
      "outputs": [],
      "source": [
        "# frame dimention\n",
        "IMAGE_HEIGHT, IMAGE_WIDTH = 128, 128\n",
        "# frame number for each video (depth)\n",
        "SEQUENCE_LENGTH = 16\n",
        "# video dir path\n",
        "DATASET_DIR = gdrive_path + 'Cropped_videos'\n",
        "# labels of classes\n",
        "CLASSES_LIST = ['hemostasis', 'inflammatory', 'proliferative', 'maturation']"
      ]
    },
    {
      "cell_type": "code",
      "execution_count": 5,
      "metadata": {
        "id": "HUTeIqzpZc9J"
      },
      "outputs": [],
      "source": [
        "# image cropping\n",
        "def crop_center_square(frame):\n",
        "    y, x = frame.shape[0:2]\n",
        "    min_dim = min(y, x)\n",
        "    start_x = (x // 2) - (min_dim // 2)\n",
        "    start_y = (y // 2) - (min_dim // 2)\n",
        "    return frame[start_y:start_y+min_dim,start_x:start_x+min_dim]"
      ]
    },
    {
      "cell_type": "code",
      "execution_count": 6,
      "metadata": {
        "id": "QRDbHG0TZkYJ"
      },
      "outputs": [],
      "source": [
        "# https://medium.com/analytics-vidhya/video-preprocessor-and-augmentation-for-deep-learning-tasks-12dd3fcce868\n",
        "def load_video(path, resize=(128, 128)):\n",
        "    video_reader = cv2.VideoCapture(path)\n",
        "    frames = []\n",
        "    try:\n",
        "        while True:\n",
        "            ret, frame = video_reader.read()\n",
        "            if not ret:\n",
        "                  break\n",
        "            # frame = crop_center_square(frame)\n",
        "            frame = cv2.resize(frame, resize)\n",
        "            frame = frame[:, :, [2, 1, 0]]\n",
        "            black_frame = frame\n",
        "            frames.append(frame)\n",
        "    finally:\n",
        "        video_reader.release()\n",
        "    return np.array(frames) / 255.0"
      ]
    },
    {
      "cell_type": "code",
      "execution_count": 7,
      "metadata": {
        "id": "ljUWHW6Jqzu-"
      },
      "outputs": [],
      "source": [
        "def create_dataset(state):\n",
        "    # Declared Empty Lists to store the features, labels and video file path values.\n",
        "    features = []\n",
        "    labels = []\n",
        "    video_files_paths = []\n",
        "    # Iterating through all the classes mentioned in the classes list\n",
        "    for class_index, class_name in enumerate(CLASSES_LIST):\n",
        "        # Display the name of the class whose data is being extracted.\n",
        "        print(f'Extracting Data of Class: {class_name} {state}')\n",
        "        # Get the list of video files present in the specific class name directory.\n",
        "        files_list = os.listdir(os.path.join(DATASET_DIR, class_name))\n",
        "        # Iterate through all the files present in the files list.\n",
        "        for file_name in files_list:\n",
        "            # Get the complete video path.\n",
        "            video_file_path = os.path.join(DATASET_DIR, class_name, file_name)\n",
        "            # create testing data\n",
        "            if state == 'test':\n",
        "                # get the mouse number\n",
        "                mouse_number = int(video_file_path.split(' ')[2].split('_')[1].split('-')[1])\n",
        "                # get the mouse side (L or R)\n",
        "                mouse_side = video_file_path.split(' ')[2].split('_')[1].split('-')[2]\n",
        "                if mouse_number == 4 and mouse_side == 'L':\n",
        "                    frames = load_video(video_file_path)\n",
        "                    features.append(frames)\n",
        "                    labels.append(class_index)\n",
        "                    video_files_paths.append(video_file_path)\n",
        "            # create validation data\n",
        "            elif state == 'valid':\n",
        "                # get the mouse number\n",
        "                mouse_number = int(video_file_path.split(' ')[2].split('_')[1].split('-')[1])\n",
        "                # get the mouse side (L or R)\n",
        "                mouse_side = video_file_path.split(' ')[2].split('_')[1].split('-')[2]\n",
        "                if mouse_number == 4 and mouse_side == 'R':\n",
        "                    frames = load_video(video_file_path)\n",
        "                    features.append(frames)\n",
        "                    labels.append(class_index)\n",
        "                    video_files_paths.append(video_file_path)\n",
        "            # create training data\n",
        "            else:\n",
        "                # get the mouse number\n",
        "                mouse_number = int(video_file_path.split(' ')[2].split('_')[1].split('-')[1])\n",
        "                if mouse_number != 4:\n",
        "                    frames = load_video(video_file_path)\n",
        "                    features.append(frames)\n",
        "                    labels.append(class_index)\n",
        "                    video_files_paths.append(video_file_path)\n",
        "    # Converting the list to numpy arrays\n",
        "    features = np.asarray(features)\n",
        "    # print(features)\n",
        "    labels = np.array(labels)\n",
        "    # Return the frames, class index, and video file path.\n",
        "    return features, labels, video_files_paths"
      ]
    },
    {
      "cell_type": "code",
      "execution_count": 8,
      "metadata": {
        "colab": {
          "base_uri": "https://localhost:8080/"
        },
        "id": "a8rpanz9rASe",
        "outputId": "86153d75-2612-4c80-e149-10f9f2f9c7a8"
      },
      "outputs": [
        {
          "output_type": "stream",
          "name": "stdout",
          "text": [
            "Extracting Data of Class: hemostasis train\n",
            "Extracting Data of Class: inflammatory train\n",
            "Extracting Data of Class: proliferative train\n",
            "Extracting Data of Class: maturation train\n",
            "Extracting Data of Class: hemostasis test\n",
            "Extracting Data of Class: inflammatory test\n",
            "Extracting Data of Class: proliferative test\n",
            "Extracting Data of Class: maturation test\n",
            "Extracting Data of Class: hemostasis valid\n",
            "Extracting Data of Class: inflammatory valid\n",
            "Extracting Data of Class: proliferative valid\n",
            "Extracting Data of Class: maturation valid\n"
          ]
        }
      ],
      "source": [
        "# 6 mice for training, 2 mice for test and validation (one wound on each mice for test one for validation)\n",
        "features_train, labels_train, video_files_paths_train = create_dataset('train')\n",
        "features_test, labels_test, video_files_paths_test = create_dataset('test')\n",
        "features_valid, labels_valid, video_files_paths_valid = create_dataset('valid')"
      ]
    },
    {
      "cell_type": "code",
      "execution_count": 9,
      "metadata": {
        "id": "dtJkK4qTAulC"
      },
      "outputs": [],
      "source": [
        "# one_hot_encoded_labels\n",
        "labels_train = keras.utils.to_categorical(labels_train)\n",
        "labels_test = keras.utils.to_categorical(labels_test)\n",
        "labels_valid = keras.utils.to_categorical(labels_valid)"
      ]
    },
    {
      "cell_type": "code",
      "execution_count": 10,
      "metadata": {
        "id": "N-9ykP4ig7IW"
      },
      "outputs": [],
      "source": [
        "def create_3D_CNN_model():\n",
        "    sample_shape = (16, 128, 128, 3)\n",
        "    model = Sequential()\n",
        "\n",
        "    model.add(Conv3D(32, 3, activation='relu', kernel_initializer='he_uniform', input_shape=sample_shape))\n",
        "    model.add(BatchNormalization())\n",
        "    model.add(MaxPooling3D(2))\n",
        "    model.add(Dropout(0.3))\n",
        "\n",
        "    model.add(Conv3D(32, 3, activation='relu', kernel_initializer='he_uniform'))\n",
        "    model.add(BatchNormalization())\n",
        "    model.add(MaxPooling3D(2))\n",
        "    model.add(Dropout(0.3))\n",
        "\n",
        "    model.add(GlobalAveragePooling3D())\n",
        "\n",
        "    model.add(Dense(32, activation='relu', kernel_initializer='he_uniform'))\n",
        "    model.add(Dropout(0.3))\n",
        "    model.add(Dense(16, activation='relu', kernel_initializer='he_uniform'))\n",
        "    model.add(Dropout(0.5))\n",
        "    # model.add(Dense(8, activation='relu', kernel_initializer='he_uniform'))\n",
        "    # model.add(Dropout(0.3))\n",
        "    # model.add(Dense(8, activation='relu', kernel_initializer='he_uniform'))\n",
        "    # model.add(Dropout(0.3))\n",
        "    model.add(Dense(len(CLASSES_LIST), activation='softmax'))\n",
        "\n",
        "    # Display the models summary.\n",
        "    model.summary(line_length = 125)\n",
        "    # Return the constructed 3D_CNN model.\n",
        "    return model"
      ]
    },
    {
      "cell_type": "code",
      "execution_count": 11,
      "metadata": {
        "colab": {
          "base_uri": "https://localhost:8080/"
        },
        "id": "Z4_GxXZBcHlB",
        "outputId": "2302f971-aedf-4bba-c65b-c863ac5ccf2b"
      },
      "outputs": [
        {
          "output_type": "stream",
          "name": "stdout",
          "text": [
            "Model: \"sequential\"\n",
            "_____________________________________________________________________________________________________________________________\n",
            " Layer (type)                                           Output Shape                                      Param #            \n",
            "=============================================================================================================================\n",
            " conv3d (Conv3D)                                        (None, 14, 126, 126, 32)                          2624               \n",
            "                                                                                                                             \n",
            " batch_normalization (BatchNormalization)               (None, 14, 126, 126, 32)                          128                \n",
            "                                                                                                                             \n",
            " max_pooling3d (MaxPooling3D)                           (None, 7, 63, 63, 32)                             0                  \n",
            "                                                                                                                             \n",
            " dropout (Dropout)                                      (None, 7, 63, 63, 32)                             0                  \n",
            "                                                                                                                             \n",
            " conv3d_1 (Conv3D)                                      (None, 5, 61, 61, 32)                             27680              \n",
            "                                                                                                                             \n",
            " batch_normalization_1 (BatchNormalization)             (None, 5, 61, 61, 32)                             128                \n",
            "                                                                                                                             \n",
            " max_pooling3d_1 (MaxPooling3D)                         (None, 2, 30, 30, 32)                             0                  \n",
            "                                                                                                                             \n",
            " dropout_1 (Dropout)                                    (None, 2, 30, 30, 32)                             0                  \n",
            "                                                                                                                             \n",
            " global_average_pooling3d (GlobalAveragePooling3D)      (None, 32)                                        0                  \n",
            "                                                                                                                             \n",
            " dense (Dense)                                          (None, 32)                                        1056               \n",
            "                                                                                                                             \n",
            " dropout_2 (Dropout)                                    (None, 32)                                        0                  \n",
            "                                                                                                                             \n",
            " dense_1 (Dense)                                        (None, 16)                                        528                \n",
            "                                                                                                                             \n",
            " dropout_3 (Dropout)                                    (None, 16)                                        0                  \n",
            "                                                                                                                             \n",
            " dense_2 (Dense)                                        (None, 4)                                         68                 \n",
            "                                                                                                                             \n",
            "=============================================================================================================================\n",
            "Total params: 32,212\n",
            "Trainable params: 32,084\n",
            "Non-trainable params: 128\n",
            "_____________________________________________________________________________________________________________________________\n",
            "Model Created Successfully!\n"
          ]
        }
      ],
      "source": [
        "# Construct the required convlstm model.\n",
        "model = create_3D_CNN_model()\n",
        " \n",
        "# Display the success message. \n",
        "print(\"Model Created Successfully!\")"
      ]
    },
    {
      "cell_type": "code",
      "execution_count": 12,
      "metadata": {
        "colab": {
          "base_uri": "https://localhost:8080/"
        },
        "id": "MwYEkaYLoyb_",
        "outputId": "6a03c20c-74d9-4731-e514-bb85a517aa55"
      },
      "outputs": [
        {
          "output_type": "stream",
          "name": "stdout",
          "text": [
            "Epoch 1/100\n",
            "41/41 [==============================] - 14s 286ms/step - loss: 1.7940 - accuracy: 0.3113 - val_loss: 1.4092 - val_accuracy: 0.2794\n",
            "Epoch 2/100\n",
            "41/41 [==============================] - 10s 255ms/step - loss: 1.1770 - accuracy: 0.4678 - val_loss: 1.3354 - val_accuracy: 0.4706\n",
            "Epoch 3/100\n",
            "41/41 [==============================] - 10s 254ms/step - loss: 1.0529 - accuracy: 0.5087 - val_loss: 1.3993 - val_accuracy: 0.3824\n",
            "Epoch 4/100\n",
            "41/41 [==============================] - 10s 254ms/step - loss: 0.9701 - accuracy: 0.5464 - val_loss: 1.2984 - val_accuracy: 0.4485\n",
            "Epoch 5/100\n",
            "41/41 [==============================] - 10s 255ms/step - loss: 0.9301 - accuracy: 0.5761 - val_loss: 1.2822 - val_accuracy: 0.4412\n",
            "Epoch 6/100\n",
            "41/41 [==============================] - 11s 256ms/step - loss: 0.8725 - accuracy: 0.6083 - val_loss: 1.1415 - val_accuracy: 0.5110\n",
            "Epoch 7/100\n",
            "41/41 [==============================] - 11s 257ms/step - loss: 0.8233 - accuracy: 0.6139 - val_loss: 1.1110 - val_accuracy: 0.4743\n",
            "Epoch 8/100\n",
            "41/41 [==============================] - 10s 256ms/step - loss: 0.7736 - accuracy: 0.6436 - val_loss: 1.0543 - val_accuracy: 0.5184\n",
            "Epoch 9/100\n",
            "41/41 [==============================] - 10s 256ms/step - loss: 0.7376 - accuracy: 0.6757 - val_loss: 0.8866 - val_accuracy: 0.5919\n",
            "Epoch 10/100\n",
            "41/41 [==============================] - 10s 255ms/step - loss: 0.7504 - accuracy: 0.6578 - val_loss: 0.7852 - val_accuracy: 0.6691\n",
            "Epoch 11/100\n",
            "41/41 [==============================] - 10s 255ms/step - loss: 0.7065 - accuracy: 0.6863 - val_loss: 0.7847 - val_accuracy: 0.6324\n",
            "Epoch 12/100\n",
            "41/41 [==============================] - 10s 255ms/step - loss: 0.6910 - accuracy: 0.6980 - val_loss: 0.7646 - val_accuracy: 0.6434\n",
            "Epoch 13/100\n",
            "41/41 [==============================] - 10s 254ms/step - loss: 0.6670 - accuracy: 0.6931 - val_loss: 0.7140 - val_accuracy: 0.6471\n",
            "Epoch 14/100\n",
            "41/41 [==============================] - 10s 255ms/step - loss: 0.6332 - accuracy: 0.7259 - val_loss: 0.7324 - val_accuracy: 0.5882\n",
            "Epoch 15/100\n",
            "41/41 [==============================] - 10s 254ms/step - loss: 0.6103 - accuracy: 0.7389 - val_loss: 0.6800 - val_accuracy: 0.7206\n",
            "Epoch 16/100\n",
            "41/41 [==============================] - 10s 256ms/step - loss: 0.6512 - accuracy: 0.7085 - val_loss: 0.8047 - val_accuracy: 0.5735\n",
            "Epoch 17/100\n",
            "41/41 [==============================] - 10s 254ms/step - loss: 0.6071 - accuracy: 0.7240 - val_loss: 0.6409 - val_accuracy: 0.6544\n",
            "Epoch 18/100\n",
            "41/41 [==============================] - 10s 256ms/step - loss: 0.5872 - accuracy: 0.7475 - val_loss: 0.6169 - val_accuracy: 0.6875\n",
            "Epoch 19/100\n",
            "41/41 [==============================] - 10s 256ms/step - loss: 0.5797 - accuracy: 0.7463 - val_loss: 0.7412 - val_accuracy: 0.5993\n",
            "Epoch 20/100\n",
            "41/41 [==============================] - 10s 255ms/step - loss: 0.5612 - accuracy: 0.7463 - val_loss: 0.6738 - val_accuracy: 0.6581\n",
            "Epoch 21/100\n",
            "41/41 [==============================] - 10s 256ms/step - loss: 0.5671 - accuracy: 0.7710 - val_loss: 0.7026 - val_accuracy: 0.6471\n",
            "Epoch 22/100\n",
            "41/41 [==============================] - 10s 253ms/step - loss: 0.5617 - accuracy: 0.7531 - val_loss: 0.9750 - val_accuracy: 0.5662\n",
            "Epoch 23/100\n",
            "41/41 [==============================] - 10s 255ms/step - loss: 0.5423 - accuracy: 0.7624 - val_loss: 0.6063 - val_accuracy: 0.7647\n",
            "Epoch 24/100\n",
            "41/41 [==============================] - 10s 253ms/step - loss: 0.5282 - accuracy: 0.7512 - val_loss: 0.8386 - val_accuracy: 0.5882\n",
            "Epoch 25/100\n",
            "41/41 [==============================] - 10s 256ms/step - loss: 0.5082 - accuracy: 0.7748 - val_loss: 0.7578 - val_accuracy: 0.6324\n",
            "Epoch 26/100\n",
            "41/41 [==============================] - 10s 254ms/step - loss: 0.5168 - accuracy: 0.7766 - val_loss: 0.6098 - val_accuracy: 0.7316\n",
            "Epoch 27/100\n",
            "41/41 [==============================] - 10s 255ms/step - loss: 0.5162 - accuracy: 0.7710 - val_loss: 0.8832 - val_accuracy: 0.5846\n",
            "Epoch 28/100\n",
            "41/41 [==============================] - 10s 255ms/step - loss: 0.5175 - accuracy: 0.7642 - val_loss: 0.5734 - val_accuracy: 0.7096\n",
            "Epoch 29/100\n",
            "41/41 [==============================] - 10s 254ms/step - loss: 0.4828 - accuracy: 0.7958 - val_loss: 0.9285 - val_accuracy: 0.5699\n",
            "Epoch 30/100\n",
            "41/41 [==============================] - 10s 254ms/step - loss: 0.4837 - accuracy: 0.7828 - val_loss: 0.7120 - val_accuracy: 0.6434\n",
            "Epoch 31/100\n",
            "41/41 [==============================] - 10s 256ms/step - loss: 0.4985 - accuracy: 0.7741 - val_loss: 0.6285 - val_accuracy: 0.7096\n",
            "Epoch 32/100\n",
            "41/41 [==============================] - 10s 255ms/step - loss: 0.4591 - accuracy: 0.7946 - val_loss: 0.7768 - val_accuracy: 0.6066\n",
            "Epoch 33/100\n",
            "41/41 [==============================] - 10s 255ms/step - loss: 0.4776 - accuracy: 0.7834 - val_loss: 0.5593 - val_accuracy: 0.7463\n",
            "Epoch 34/100\n",
            "41/41 [==============================] - 10s 256ms/step - loss: 0.4728 - accuracy: 0.7921 - val_loss: 0.8788 - val_accuracy: 0.6140\n",
            "Epoch 35/100\n",
            "41/41 [==============================] - 10s 254ms/step - loss: 0.4771 - accuracy: 0.7896 - val_loss: 0.5925 - val_accuracy: 0.7279\n",
            "Epoch 36/100\n",
            "41/41 [==============================] - 10s 255ms/step - loss: 0.4498 - accuracy: 0.8026 - val_loss: 0.5886 - val_accuracy: 0.7169\n",
            "Epoch 37/100\n",
            "41/41 [==============================] - 10s 255ms/step - loss: 0.4315 - accuracy: 0.8075 - val_loss: 0.7909 - val_accuracy: 0.6213\n",
            "Epoch 38/100\n",
            "41/41 [==============================] - 10s 255ms/step - loss: 0.4593 - accuracy: 0.7902 - val_loss: 0.6409 - val_accuracy: 0.6985\n",
            "Epoch 39/100\n",
            "41/41 [==============================] - 10s 256ms/step - loss: 0.4579 - accuracy: 0.7939 - val_loss: 0.7553 - val_accuracy: 0.6875\n",
            "Epoch 40/100\n",
            "41/41 [==============================] - 10s 255ms/step - loss: 0.4316 - accuracy: 0.7933 - val_loss: 0.7200 - val_accuracy: 0.6985\n",
            "Epoch 41/100\n",
            "41/41 [==============================] - 10s 255ms/step - loss: 0.4418 - accuracy: 0.7964 - val_loss: 0.5574 - val_accuracy: 0.7463\n",
            "Epoch 42/100\n",
            "41/41 [==============================] - 10s 253ms/step - loss: 0.4242 - accuracy: 0.8131 - val_loss: 0.6638 - val_accuracy: 0.6765\n",
            "Epoch 43/100\n",
            "41/41 [==============================] - 10s 254ms/step - loss: 0.4300 - accuracy: 0.8144 - val_loss: 0.5415 - val_accuracy: 0.7279\n",
            "Epoch 44/100\n",
            "41/41 [==============================] - 10s 255ms/step - loss: 0.4187 - accuracy: 0.8181 - val_loss: 1.0101 - val_accuracy: 0.5662\n",
            "Epoch 45/100\n",
            "41/41 [==============================] - 10s 256ms/step - loss: 0.3950 - accuracy: 0.8249 - val_loss: 0.8081 - val_accuracy: 0.6471\n",
            "Epoch 46/100\n",
            "41/41 [==============================] - 10s 254ms/step - loss: 0.3971 - accuracy: 0.8311 - val_loss: 0.6887 - val_accuracy: 0.6838\n",
            "Epoch 47/100\n",
            "41/41 [==============================] - 10s 255ms/step - loss: 0.3871 - accuracy: 0.8236 - val_loss: 0.7125 - val_accuracy: 0.6838\n",
            "Epoch 48/100\n",
            "41/41 [==============================] - 10s 255ms/step - loss: 0.3663 - accuracy: 0.8379 - val_loss: 0.6025 - val_accuracy: 0.7390\n",
            "Epoch 49/100\n",
            "41/41 [==============================] - 10s 254ms/step - loss: 0.3854 - accuracy: 0.8267 - val_loss: 0.7009 - val_accuracy: 0.7463\n",
            "Epoch 50/100\n",
            "41/41 [==============================] - 10s 254ms/step - loss: 0.4131 - accuracy: 0.8243 - val_loss: 0.8022 - val_accuracy: 0.7059\n",
            "Epoch 51/100\n",
            "41/41 [==============================] - 10s 253ms/step - loss: 0.3794 - accuracy: 0.8286 - val_loss: 0.6442 - val_accuracy: 0.7500\n",
            "Epoch 52/100\n",
            "41/41 [==============================] - 10s 256ms/step - loss: 0.3927 - accuracy: 0.8348 - val_loss: 0.9065 - val_accuracy: 0.6838\n",
            "Epoch 53/100\n",
            "41/41 [==============================] - 10s 254ms/step - loss: 0.3868 - accuracy: 0.8199 - val_loss: 0.7379 - val_accuracy: 0.6728\n",
            "Epoch 54/100\n",
            "41/41 [==============================] - 10s 255ms/step - loss: 0.3889 - accuracy: 0.8230 - val_loss: 0.5295 - val_accuracy: 0.7904\n",
            "Epoch 55/100\n",
            "41/41 [==============================] - 10s 253ms/step - loss: 0.3719 - accuracy: 0.8212 - val_loss: 0.5582 - val_accuracy: 0.7647\n",
            "Epoch 56/100\n",
            "41/41 [==============================] - 10s 254ms/step - loss: 0.3942 - accuracy: 0.8230 - val_loss: 1.0091 - val_accuracy: 0.6029\n",
            "Epoch 57/100\n",
            "41/41 [==============================] - 10s 255ms/step - loss: 0.3655 - accuracy: 0.8354 - val_loss: 0.9890 - val_accuracy: 0.6213\n",
            "Epoch 58/100\n",
            "41/41 [==============================] - 10s 256ms/step - loss: 0.3666 - accuracy: 0.8416 - val_loss: 0.8037 - val_accuracy: 0.6838\n",
            "Epoch 59/100\n",
            "41/41 [==============================] - 10s 255ms/step - loss: 0.3736 - accuracy: 0.8298 - val_loss: 0.5836 - val_accuracy: 0.7390\n",
            "Epoch 60/100\n",
            "41/41 [==============================] - 10s 255ms/step - loss: 0.3778 - accuracy: 0.8441 - val_loss: 0.9352 - val_accuracy: 0.7022\n",
            "Epoch 61/100\n",
            "41/41 [==============================] - 10s 254ms/step - loss: 0.3653 - accuracy: 0.8354 - val_loss: 0.7746 - val_accuracy: 0.6875\n",
            "Epoch 62/100\n",
            "41/41 [==============================] - 10s 255ms/step - loss: 0.3553 - accuracy: 0.8533 - val_loss: 0.5342 - val_accuracy: 0.7574\n",
            "Epoch 63/100\n",
            "41/41 [==============================] - 10s 254ms/step - loss: 0.3347 - accuracy: 0.8558 - val_loss: 0.6412 - val_accuracy: 0.7426\n",
            "Epoch 64/100\n",
            "41/41 [==============================] - 10s 255ms/step - loss: 0.3346 - accuracy: 0.8521 - val_loss: 1.2034 - val_accuracy: 0.6507\n",
            "Epoch 65/100\n",
            "41/41 [==============================] - 10s 256ms/step - loss: 0.3340 - accuracy: 0.8465 - val_loss: 0.6740 - val_accuracy: 0.7353\n",
            "Epoch 66/100\n",
            "41/41 [==============================] - 10s 254ms/step - loss: 0.3263 - accuracy: 0.8521 - val_loss: 0.6062 - val_accuracy: 0.7463\n",
            "Epoch 67/100\n",
            "41/41 [==============================] - 10s 254ms/step - loss: 0.3314 - accuracy: 0.8546 - val_loss: 0.6980 - val_accuracy: 0.7059\n",
            "Epoch 68/100\n",
            "41/41 [==============================] - 10s 256ms/step - loss: 0.3404 - accuracy: 0.8465 - val_loss: 0.6700 - val_accuracy: 0.7243\n",
            "Epoch 69/100\n",
            "41/41 [==============================] - 10s 255ms/step - loss: 0.3354 - accuracy: 0.8515 - val_loss: 0.7587 - val_accuracy: 0.7022\n",
            "Epoch 70/100\n",
            "41/41 [==============================] - 11s 257ms/step - loss: 0.3279 - accuracy: 0.8484 - val_loss: 0.6931 - val_accuracy: 0.7500\n",
            "Epoch 71/100\n",
            "41/41 [==============================] - 10s 256ms/step - loss: 0.3390 - accuracy: 0.8459 - val_loss: 0.9034 - val_accuracy: 0.6875\n",
            "Epoch 72/100\n",
            "41/41 [==============================] - 10s 253ms/step - loss: 0.3416 - accuracy: 0.8496 - val_loss: 0.8296 - val_accuracy: 0.7390\n",
            "Epoch 73/100\n",
            "41/41 [==============================] - 10s 255ms/step - loss: 0.3251 - accuracy: 0.8515 - val_loss: 1.3737 - val_accuracy: 0.6287\n",
            "Epoch 74/100\n",
            "41/41 [==============================] - 10s 256ms/step - loss: 0.3495 - accuracy: 0.8583 - val_loss: 0.7241 - val_accuracy: 0.7500\n"
          ]
        }
      ],
      "source": [
        "# Create an Instance of Early Stopping Callback\n",
        "early_stopping_callback = keras.callbacks.EarlyStopping(monitor = 'val_loss',\n",
        "                                                        patience = 20,\n",
        "                                                        mode = 'min',\n",
        "                                                        restore_best_weights = True)\n",
        "# Compile the model and specify loss function, optimizer and metrics values to the model\n",
        "model.compile(loss = 'categorical_crossentropy',\n",
        "              optimizer= keras.optimizers.Adam(0.001, decay=1e-4),\n",
        "              metrics=['accuracy'])\n",
        "# Start training the model.\n",
        "cnn_3d_model_training_history = model.fit(x = features_train,\n",
        "                                          y = labels_train,\n",
        "                                          epochs=100,\n",
        "                                          batch_size=40,\n",
        "                                          shuffle = True,\n",
        "                                          validation_data = (features_valid, labels_valid),\n",
        "                                          callbacks = [early_stopping_callback])"
      ]
    },
    {
      "cell_type": "code",
      "execution_count": 13,
      "metadata": {
        "colab": {
          "base_uri": "https://localhost:8080/"
        },
        "id": "3vimsgjjbXvL",
        "outputId": "244b8cad-eb99-4503-c1ca-9ea760785ba3"
      },
      "outputs": [
        {
          "output_type": "stream",
          "name": "stdout",
          "text": [
            "9/9 [==============================] - 1s 70ms/step - loss: 0.7314 - accuracy: 0.6213\n",
            "\n",
            "\n",
            "Train accuracy: 89.728 % || Test accuracy: 62.132 % || Val accuracy: 79.044 %\n",
            "Train loss: 0.303 || Test loss: 0.731 || Val loss: 0.529\n"
          ]
        }
      ],
      "source": [
        "model_evaluation_history = model.evaluate(features_test, labels_test)\n",
        "print('\\n')\n",
        "train_loss, train_acc = model.evaluate(features_train, labels_train, verbose=0)\n",
        "test_loss, test_acc = model.evaluate(features_test, labels_test, verbose=0)\n",
        "val_loss, val_acc = model.evaluate(features_valid, labels_valid, verbose=0)\n",
        "print(f'Train accuracy: {train_acc*100:.3f} % || Test accuracy: {test_acc*100:.3f} % || Val accuracy: {val_acc*100:.3f} %')\n",
        "print(f'Train loss: {train_loss:.3f} || Test loss: {test_loss:.3f} || Val loss: {val_loss:.3f}')"
      ]
    },
    {
      "cell_type": "code",
      "execution_count": 14,
      "metadata": {
        "id": "ivmaK9BlbnRQ"
      },
      "outputs": [],
      "source": [
        "# Get the loss and accuracy from model_evaluation_history.\n",
        "model_evaluation_loss, model_evaluation_accuracy = model_evaluation_history\n",
        " \n",
        "# Define the string date format.\n",
        "# Get the current Date and Time in a DateTime Object.\n",
        "# Convert the DateTime object to string according to the style mentioned in date_time_format string.\n",
        "date_time_format = '%Y_%m_%d__%H_%M_%S'\n",
        "current_date_time_dt = dt.datetime.now()\n",
        "current_date_time_string = dt.datetime.strftime(current_date_time_dt, date_time_format)\n",
        " \n",
        "# Define a useful name for our model to make it easy for us while navigating through multiple saved models.\n",
        "model_file_name = f'3D_CNN_model___Date_Time_{current_date_time_string}___Loss_{model_evaluation_loss}___Accuracy_{model_evaluation_accuracy}.h5'\n",
        " \n",
        "# Change dir\n",
        "gdrive_path = '/content/gdrive' + '/My Drive/247/Saved_models/'\n",
        "os.chdir(gdrive_path)\n",
        "# Create a floder for the model files\n",
        "!mkdir -p cnn_3d_{current_date_time_string}\n",
        "# Save your Model.\n",
        "model.save('3D_CNN' + str(current_date_time_string) + '/' + model_file_name)\n",
        "# Save model weights\n",
        "model.save_weights('3D_CNN' + str(current_date_time_string) + '/' + 'weights')"
      ]
    },
    {
      "cell_type": "code",
      "execution_count": 15,
      "metadata": {
        "id": "OwU8TwPrbsKB"
      },
      "outputs": [],
      "source": [
        "def plot_metric(model_training_history, metric_name_1, metric_name_2, plot_name):\n",
        "    '''\n",
        "    This function will plot the metrics passed to it in a graph.\n",
        "    Args:\n",
        "        model_training_history: A history object containing a record of training and validation \n",
        "                                loss values and metrics values at successive epochs\n",
        "        metric_name_1:          The name of the first metric that needs to be plotted in the graph.\n",
        "        metric_name_2:          The name of the second metric that needs to be plotted in the graph.\n",
        "        plot_name:              The title of the graph.\n",
        "    '''\n",
        "    \n",
        "    # Get metric values using metric names as identifiers.\n",
        "    metric_value_1 = model_training_history.history[metric_name_1]\n",
        "    metric_value_2 = model_training_history.history[metric_name_2]\n",
        "    \n",
        "    # Construct a range object which will be used as x-axis (horizontal plane) of the graph.\n",
        "    epochs = range(len(metric_value_1))\n",
        "\n",
        "    # Plot the Graph.\n",
        "    plt.plot(epochs, metric_value_1, 'blue', label = metric_name_1)\n",
        "    plt.plot(epochs, metric_value_2, 'red', label = metric_name_2)\n",
        "\n",
        "    # Add title to the plot.\n",
        "    plt.title(str(plot_name))\n",
        "\n",
        "    # Add legend to the plot.\n",
        "    plt.legend()"
      ]
    },
    {
      "cell_type": "code",
      "execution_count": 16,
      "metadata": {
        "colab": {
          "base_uri": "https://localhost:8080/",
          "height": 281
        },
        "id": "cvKY05ncbwof",
        "outputId": "860aee35-9f4c-411f-8f56-8631c8f2c112"
      },
      "outputs": [
        {
          "output_type": "display_data",
          "data": {
            "text/plain": [
              "<Figure size 432x288 with 1 Axes>"
            ],
            "image/png": "[encoded data removed]"
          },
          "metadata": {
            "needs_background": "light"
          }
        }
      ],
      "source": [
        "plot_metric(cnn_3d_model_training_history, 'loss', 'val_loss', 'Total Loss vs Total Validation Loss')"
      ]
    },
    {
      "cell_type": "code",
      "execution_count": 17,
      "metadata": {
        "colab": {
          "base_uri": "https://localhost:8080/",
          "height": 281
        },
        "id": "o1iaaDHBb5i0",
        "outputId": "d729b3f5-c986-441e-8ad9-30fb9c52f8c9"
      },
      "outputs": [
        {
          "output_type": "display_data",
          "data": {
            "text/plain": [
              "<Figure size 432x288 with 1 Axes>"
            ],
            "image/png": "[encoded data removed]"
          },
          "metadata": {
            "needs_background": "light"
          }
        }
      ],
      "source": [
        "plot_metric(cnn_3d_model_training_history, 'accuracy', 'val_accuracy', 'Total Accuracy vs Total Validation Accuracy') "
      ]
    }
  ],
  "metadata": {
    "accelerator": "GPU",
    "colab": {
      "collapsed_sections": [],
      "machine_shape": "hm",
      "name": "3D_CNN.ipynb",
      "provenance": [],
      "authorship_tag": "ABX9TyN/S7YogQYCEfU8gpHiwXfn",
      "include_colab_link": true
    },
    "kernelspec": {
      "display_name": "Python 3",
      "name": "python3"
    },
    "language_info": {
      "name": "python"
    }
  },
  "nbformat": 4,
  "nbformat_minor": 0
}