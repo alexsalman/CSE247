{
  "cells": [
    {
      "cell_type": "markdown",
      "metadata": {
        "id": "view-in-github",
        "colab_type": "text"
      },
      "source": [
        "<a href=\"https://colab.research.google.com/github/alexsalman/CSE247/blob/main/2D_CNN%2BLSTM.ipynb\" target=\"_parent\"><img src=\"https://colab.research.google.com/assets/colab-badge.svg\" alt=\"Open In Colab\"/></a>"
      ]
    },
    {
      "cell_type": "markdown",
      "metadata": {
        "id": "Fk8TLrPiv-ab"
      },
      "source": [
        "####**Convolutional Neural Network + Long Short Term Memory**\n",
        "######*I am using a Convolution Neural Network (CNN) + Long Short Term Memory (LSTM) Network to extract general representation while utilizing the Spatial-temporal aspect of the videos.*"
      ]
    },
    {
      "cell_type": "code",
      "execution_count": 1,
      "metadata": {
        "colab": {
          "base_uri": "https://localhost:8080/"
        },
        "id": "M8ibtd5HKtZk",
        "outputId": "0cc17dae-9acf-410e-fe13-1838899ecd35"
      },
      "outputs": [
        {
          "output_type": "stream",
          "name": "stdout",
          "text": [
            "2.8.0\n"
          ]
        }
      ],
      "source": [
        "# required libraries\n",
        "import os\n",
        "import cv2\n",
        "import math\n",
        "import random\n",
        "import numpy as np\n",
        "import datetime as dt\n",
        "from collections import deque\n",
        "import matplotlib.pyplot as plt\n",
        "from google.colab import drive\n",
        "from sklearn.model_selection import train_test_split\n",
        "import tensorflow as tf\n",
        "from tensorflow import keras\n",
        "from keras.models import Sequential\n",
        "from keras.layers import Dense, Flatten, Conv3D, MaxPooling3D, Dropout, BatchNormalization, ConvLSTM2D\n",
        "from keras.layers import Reshape, Conv2D, TimeDistributed, MaxPooling2D, Activation, GlobalAveragePooling2D\n",
        "from keras.layers.recurrent import LSTM\n",
        "from keras import regularizers\n",
        "from PIL import Image\n",
        "%matplotlib inline\n",
        "print(tf.version.VERSION)\n",
        "# https://bleedai.com/human-activity-recognition-using-tensorflow-cnn-lstm/"
      ]
    },
    {
      "cell_type": "code",
      "execution_count": 2,
      "metadata": {
        "id": "iffdFOf1CEAN"
      },
      "outputs": [],
      "source": [
        "# set Numpy, Python, and Tensorflow seeds to get consistent results on every execution\n",
        "seed_constant = 27\n",
        "np.random.seed(seed_constant)\n",
        "random.seed(seed_constant)\n",
        "tf.random.set_seed(seed_constant)"
      ]
    },
    {
      "cell_type": "code",
      "execution_count": 3,
      "metadata": {
        "colab": {
          "base_uri": "https://localhost:8080/",
          "height": 53
        },
        "id": "mcLh22LiOHyn",
        "outputId": "9c8ea2e4-c510-4ddf-d37c-269c93a2b227"
      },
      "outputs": [
        {
          "output_type": "stream",
          "name": "stdout",
          "text": [
            "Mounted at /content/gdrive/\n"
          ]
        },
        {
          "output_type": "execute_result",
          "data": {
            "text/plain": [
              "'/content/gdrive/My Drive/247'"
            ],
            "application/vnd.google.colaboratory.intrinsic+json": {
              "type": "string"
            }
          },
          "metadata": {},
          "execution_count": 3
        }
      ],
      "source": [
        "# mount dataset from google drive\n",
        "drive.mount('/content/gdrive/', force_remount=True)\n",
        "gdrive_path = '/content/gdrive' + '/My Drive/247/'\n",
        "os.chdir(gdrive_path)\n",
        "os.getcwd()"
      ]
    },
    {
      "cell_type": "code",
      "execution_count": 4,
      "metadata": {
        "id": "oeDK8SzumZ1Q"
      },
      "outputs": [],
      "source": [
        "# frame dimention\n",
        "IMAGE_HEIGHT, IMAGE_WIDTH = 128, 128\n",
        "# frame number for each video (depth)\n",
        "SEQUENCE_LENGTH = 16\n",
        "# video dir path\n",
        "DATASET_DIR = gdrive_path + 'Cropped_videos'\n",
        "# labels of classes\n",
        "CLASSES_LIST = ['hemostasis', 'inflammatory', 'proliferative', 'maturation']"
      ]
    },
    {
      "cell_type": "code",
      "execution_count": 5,
      "metadata": {
        "id": "3mFB5qD6b3Kd"
      },
      "outputs": [],
      "source": [
        "# image cropping\n",
        "def crop_center_square(frame):\n",
        "    y, x = frame.shape[0:2]\n",
        "    min_dim = min(y, x)\n",
        "    start_x = (x // 2) - (min_dim // 2)\n",
        "    start_y = (y // 2) - (min_dim // 2)\n",
        "    return frame[start_y:start_y+min_dim,start_x:start_x+min_dim]"
      ]
    },
    {
      "cell_type": "code",
      "execution_count": 6,
      "metadata": {
        "id": "sqeexMUjaLzJ"
      },
      "outputs": [],
      "source": [
        "# https://medium.com/analytics-vidhya/video-preprocessor-and-augmentation-for-deep-learning-tasks-12dd3fcce868\n",
        "def load_video(path, resize=(128, 128)):\n",
        "    video_reader = cv2.VideoCapture(path)\n",
        "    frames = []\n",
        "    try:\n",
        "        while True:\n",
        "            ret, frame = video_reader.read()\n",
        "            if not ret:\n",
        "                  break\n",
        "            frame = crop_center_square(frame)\n",
        "            frame = cv2.resize(frame, resize)\n",
        "            frame = frame[:, :, [2, 1, 0]]\n",
        "            frames.append(frame)\n",
        "    finally:\n",
        "        video_reader.release()\n",
        "    return np.array(frames) / 255.0"
      ]
    },
    {
      "cell_type": "code",
      "execution_count": 7,
      "metadata": {
        "id": "ljUWHW6Jqzu-"
      },
      "outputs": [],
      "source": [
        "def create_dataset(state):\n",
        "    # Declared Empty Lists to store the features, labels and video file path values.\n",
        "    features = []\n",
        "    labels = []\n",
        "    video_files_paths = []\n",
        "    # Iterating through all the classes mentioned in the classes list\n",
        "    for class_index, class_name in enumerate(CLASSES_LIST):\n",
        "        # Display the name of the class whose data is being extracted.\n",
        "        print(f'Extracting Data of Class: {class_name} {state}')\n",
        "        # Get the list of video files present in the specific class name directory.\n",
        "        files_list = os.listdir(os.path.join(DATASET_DIR, class_name))\n",
        "        # Iterate through all the files present in the files list.\n",
        "        for file_name in files_list:\n",
        "            # Get the complete video path.\n",
        "            video_file_path = os.path.join(DATASET_DIR, class_name, file_name)\n",
        "            # create testing data\n",
        "            if state == 'test':\n",
        "                # get the mouse number\n",
        "                mouse_number = int(video_file_path.split(' ')[2].split('_')[1].split('-')[1])\n",
        "                # get the mouse side (L or R)\n",
        "                mouse_side = video_file_path.split(' ')[2].split('_')[1].split('-')[2]\n",
        "                if mouse_number == 4 and mouse_side == 'L':\n",
        "                    frames = load_video(video_file_path)\n",
        "                    features.append(frames)\n",
        "                    labels.append(class_index)\n",
        "                    video_files_paths.append(video_file_path)\n",
        "            # create validation data\n",
        "            elif state == 'valid':\n",
        "                # get the mouse number\n",
        "                mouse_number = int(video_file_path.split(' ')[2].split('_')[1].split('-')[1])\n",
        "                # get the mouse side (L or R)\n",
        "                mouse_side = video_file_path.split(' ')[2].split('_')[1].split('-')[2]\n",
        "                if mouse_number == 4 and mouse_side == 'R':\n",
        "                    frames = load_video(video_file_path)\n",
        "                    features.append(frames)\n",
        "                    labels.append(class_index)\n",
        "                    video_files_paths.append(video_file_path)\n",
        "            # create training data\n",
        "            else:\n",
        "                # get the mouse number\n",
        "                mouse_number = int(video_file_path.split(' ')[2].split('_')[1].split('-')[1])\n",
        "                if mouse_number != 4:\n",
        "                    frames = load_video(video_file_path)\n",
        "                    features.append(frames)\n",
        "                    labels.append(class_index)\n",
        "                    video_files_paths.append(video_file_path)\n",
        "    # Converting the list to numpy arrays\n",
        "    features = np.asarray(features)\n",
        "    # print(features)\n",
        "    labels = np.array(labels)\n",
        "    # Return the frames, class index, and video file path.\n",
        "    return features, labels, video_files_paths"
      ]
    },
    {
      "cell_type": "code",
      "execution_count": 8,
      "metadata": {
        "colab": {
          "base_uri": "https://localhost:8080/"
        },
        "id": "a8rpanz9rASe",
        "outputId": "935526ee-f4bd-42c7-87ae-16f806653925"
      },
      "outputs": [
        {
          "output_type": "stream",
          "name": "stdout",
          "text": [
            "Extracting Data of Class: hemostasis train\n",
            "Extracting Data of Class: inflammatory train\n",
            "Extracting Data of Class: proliferative train\n",
            "Extracting Data of Class: maturation train\n",
            "Extracting Data of Class: hemostasis test\n",
            "Extracting Data of Class: inflammatory test\n",
            "Extracting Data of Class: proliferative test\n",
            "Extracting Data of Class: maturation test\n",
            "Extracting Data of Class: hemostasis valid\n",
            "Extracting Data of Class: inflammatory valid\n",
            "Extracting Data of Class: proliferative valid\n",
            "Extracting Data of Class: maturation valid\n"
          ]
        }
      ],
      "source": [
        "# 6 mice for training, 2 mice for test and validation (one wound on each mice for test one for validation)\n",
        "features_train, labels_train, video_files_paths_train = create_dataset('train')\n",
        "features_test, labels_test, video_files_paths_test = create_dataset('test')\n",
        "features_valid, labels_valid, video_files_paths_valid = create_dataset('valid')"
      ]
    },
    {
      "cell_type": "code",
      "execution_count": 9,
      "metadata": {
        "id": "dtJkK4qTAulC"
      },
      "outputs": [],
      "source": [
        "# one_hot_encoded_labels\n",
        "labels_train = keras.utils.to_categorical(labels_train)\n",
        "labels_test = keras.utils.to_categorical(labels_test)\n",
        "labels_valid = keras.utils.to_categorical(labels_valid)"
      ]
    },
    {
      "cell_type": "code",
      "execution_count": 10,
      "metadata": {
        "id": "Bi-NDol3DHRV"
      },
      "outputs": [],
      "source": [
        "def create_convlstm_model():\n",
        "    # TimeDistributed is a wrapper to handle input of size 3d\n",
        "    model = Sequential()\n",
        "\n",
        "    model.add(TimeDistributed(Conv2D(32, (3,3), activation='relu',\n",
        "                                     kernel_regularizer=regularizers.L2(l2=1e-4)),\n",
        "                              input_shape=(16, 128, 128, 3)))\n",
        "    # model.add(TimeDistributed(BatchNormalization()))\n",
        "    model.add(TimeDistributed(MaxPooling2D((2,2), strides=(2,2))))\n",
        "    model.add(Dropout(0.3))\n",
        "\n",
        "    model.add(TimeDistributed(Conv2D(32, (3,3), activation='relu',\n",
        "                                     kernel_regularizer=regularizers.L2(l2=1e-4))))\n",
        "    # model.add(TimeDistributed(BatchNormalization()))\n",
        "    model.add(TimeDistributed(MaxPooling2D((2,2), strides=(2,2))))\n",
        "    model.add(Dropout(0.3))\n",
        "\n",
        "    model.add(TimeDistributed(Conv2D(64, (3,3), activation='relu',\n",
        "                                     kernel_regularizer=regularizers.L2(l2=1e-4))))\n",
        "    # model.add(TimeDistributed(BatchNormalization()))\n",
        "    model.add(TimeDistributed(MaxPooling2D((2,2), strides=(2,2))))\n",
        "    model.add(Dropout(0.3))\n",
        "\n",
        "    model.add(TimeDistributed(GlobalAveragePooling2D()))\n",
        "    \n",
        "    model.add(LSTM(32, activation='relu', return_sequences=False))\n",
        "    model.add(Dropout(0.3))\n",
        "    model.add(Dense(32, activation='relu', kernel_initializer='he_uniform',\n",
        "                    kernel_regularizer=regularizers.L2(l2=1e-4)))\n",
        "    model.add(Dropout(0.5))\n",
        "    model.add(Dense(8, activation='relu', kernel_initializer='he_uniform'))\n",
        "    # model.add(Dense(16, activation='relu'))\n",
        "    # model.add(Dropout(0.3))\n",
        "    # model.add(Dense(8, activation='relu'))\n",
        "    # model.add(Dropout(0.3))\n",
        "    # model.add(Dense(4, activation='relu'))\n",
        "    # model.add(Dropout(0.3))\n",
        "    model.add(Dense(len(CLASSES_LIST), activation='softmax'))\n",
        "    model.summary(line_length = 100)\n",
        "    return model"
      ]
    },
    {
      "cell_type": "code",
      "execution_count": 11,
      "metadata": {
        "colab": {
          "base_uri": "https://localhost:8080/"
        },
        "id": "FbjNYI-0DY_v",
        "outputId": "59e37667-cdac-48df-eab8-94d69d814210"
      },
      "outputs": [
        {
          "output_type": "stream",
          "name": "stdout",
          "text": [
            "Model: \"sequential\"\n",
            "____________________________________________________________________________________________________\n",
            " Layer (type)                                Output Shape                            Param #        \n",
            "====================================================================================================\n",
            " time_distributed (TimeDistributed)          (None, 16, 126, 126, 32)                896            \n",
            "                                                                                                    \n",
            " time_distributed_1 (TimeDistributed)        (None, 16, 63, 63, 32)                  0              \n",
            "                                                                                                    \n",
            " dropout (Dropout)                           (None, 16, 63, 63, 32)                  0              \n",
            "                                                                                                    \n",
            " time_distributed_2 (TimeDistributed)        (None, 16, 61, 61, 32)                  9248           \n",
            "                                                                                                    \n",
            " time_distributed_3 (TimeDistributed)        (None, 16, 30, 30, 32)                  0              \n",
            "                                                                                                    \n",
            " dropout_1 (Dropout)                         (None, 16, 30, 30, 32)                  0              \n",
            "                                                                                                    \n",
            " time_distributed_4 (TimeDistributed)        (None, 16, 28, 28, 64)                  18496          \n",
            "                                                                                                    \n",
            " time_distributed_5 (TimeDistributed)        (None, 16, 14, 14, 64)                  0              \n",
            "                                                                                                    \n",
            " dropout_2 (Dropout)                         (None, 16, 14, 14, 64)                  0              \n",
            "                                                                                                    \n",
            " time_distributed_6 (TimeDistributed)        (None, 16, 64)                          0              \n",
            "                                                                                                    \n",
            " lstm (LSTM)                                 (None, 32)                              12416          \n",
            "                                                                                                    \n",
            " dropout_3 (Dropout)                         (None, 32)                              0              \n",
            "                                                                                                    \n",
            " dense (Dense)                               (None, 32)                              1056           \n",
            "                                                                                                    \n",
            " dropout_4 (Dropout)                         (None, 32)                              0              \n",
            "                                                                                                    \n",
            " dense_1 (Dense)                             (None, 8)                               264            \n",
            "                                                                                                    \n",
            " dense_2 (Dense)                             (None, 4)                               36             \n",
            "                                                                                                    \n",
            "====================================================================================================\n",
            "Total params: 42,412\n",
            "Trainable params: 42,412\n",
            "Non-trainable params: 0\n",
            "____________________________________________________________________________________________________\n",
            "Model Created Successfully!\n"
          ]
        }
      ],
      "source": [
        "# Construct the required convlstm model.\n",
        "convlstm_model = create_convlstm_model()\n",
        " \n",
        "# Display the success message. \n",
        "print(\"Model Created Successfully!\")"
      ]
    },
    {
      "cell_type": "code",
      "execution_count": 12,
      "metadata": {
        "id": "SCB3R7so-wHz"
      },
      "outputs": [],
      "source": [
        "# keras.utils.plot_model(convlstm_model, to_file = 'convlstm_model_structure_plot.png', show_shapes = True, show_layer_names = True)"
      ]
    },
    {
      "cell_type": "code",
      "execution_count": 13,
      "metadata": {
        "id": "nMYwQOwyF3bd"
      },
      "outputs": [],
      "source": [
        "# keras.utils.plot_model(convlstm_model,\n",
        "#                          to_file = 'convlstm_model_structure_plot.png',\n",
        "#                          show_shapes = True,\n",
        "#                          show_layer_names = True)"
      ]
    },
    {
      "cell_type": "code",
      "execution_count": 14,
      "metadata": {
        "colab": {
          "base_uri": "https://localhost:8080/"
        },
        "id": "vYC_6H0uGqW9",
        "outputId": "ff327d67-aefc-4226-cd06-a939df11bf6d"
      },
      "outputs": [
        {
          "output_type": "stream",
          "name": "stdout",
          "text": [
            "Epoch 1/100\n",
            "101/101 [==============================] - 12s 86ms/step - loss: 1.1659 - accuracy: 0.4295 - val_loss: 1.0744 - val_accuracy: 0.5956\n",
            "Epoch 2/100\n",
            "101/101 [==============================] - 7s 74ms/step - loss: 1.0296 - accuracy: 0.5006 - val_loss: 0.9450 - val_accuracy: 0.5956\n",
            "Epoch 3/100\n",
            "101/101 [==============================] - 7s 74ms/step - loss: 0.9336 - accuracy: 0.5402 - val_loss: 0.8820 - val_accuracy: 0.5993\n",
            "Epoch 4/100\n",
            "101/101 [==============================] - 7s 73ms/step - loss: 0.9007 - accuracy: 0.5501 - val_loss: 0.8597 - val_accuracy: 0.5919\n",
            "Epoch 5/100\n",
            "101/101 [==============================] - 8s 74ms/step - loss: 0.8442 - accuracy: 0.5910 - val_loss: 0.8337 - val_accuracy: 0.5919\n",
            "Epoch 6/100\n",
            "101/101 [==============================] - 7s 74ms/step - loss: 0.8192 - accuracy: 0.5811 - val_loss: 0.8035 - val_accuracy: 0.5993\n",
            "Epoch 7/100\n",
            "101/101 [==============================] - 7s 74ms/step - loss: 0.8226 - accuracy: 0.6114 - val_loss: 0.8044 - val_accuracy: 0.5956\n",
            "Epoch 8/100\n",
            "101/101 [==============================] - 7s 74ms/step - loss: 0.7760 - accuracy: 0.6071 - val_loss: 0.7870 - val_accuracy: 0.6066\n",
            "Epoch 9/100\n",
            "101/101 [==============================] - 7s 74ms/step - loss: 0.7527 - accuracy: 0.6368 - val_loss: 0.7944 - val_accuracy: 0.5919\n",
            "Epoch 10/100\n",
            "101/101 [==============================] - 7s 74ms/step - loss: 0.7717 - accuracy: 0.6151 - val_loss: 0.7909 - val_accuracy: 0.6103\n",
            "Epoch 11/100\n",
            "101/101 [==============================] - 7s 74ms/step - loss: 0.7804 - accuracy: 0.5947 - val_loss: 0.8052 - val_accuracy: 0.6103\n",
            "Epoch 12/100\n",
            "101/101 [==============================] - 7s 73ms/step - loss: 0.7510 - accuracy: 0.6392 - val_loss: 0.8067 - val_accuracy: 0.6066\n",
            "Epoch 13/100\n",
            "101/101 [==============================] - 7s 74ms/step - loss: 0.7556 - accuracy: 0.6275 - val_loss: 0.8051 - val_accuracy: 0.6066\n",
            "Epoch 14/100\n",
            "101/101 [==============================] - 7s 74ms/step - loss: 0.7369 - accuracy: 0.6244 - val_loss: 0.8548 - val_accuracy: 0.6250\n",
            "Epoch 15/100\n",
            "101/101 [==============================] - 7s 73ms/step - loss: 0.7401 - accuracy: 0.6231 - val_loss: 0.8348 - val_accuracy: 0.6140\n",
            "Epoch 16/100\n",
            "101/101 [==============================] - 7s 74ms/step - loss: 0.7159 - accuracy: 0.6330 - val_loss: 0.8102 - val_accuracy: 0.6029\n",
            "Epoch 17/100\n",
            "101/101 [==============================] - 7s 73ms/step - loss: 0.7013 - accuracy: 0.6467 - val_loss: 0.7531 - val_accuracy: 0.6066\n",
            "Epoch 18/100\n",
            "101/101 [==============================] - 8s 75ms/step - loss: 0.7071 - accuracy: 0.6491 - val_loss: 0.8259 - val_accuracy: 0.4890\n",
            "Epoch 19/100\n",
            "101/101 [==============================] - 7s 73ms/step - loss: 0.7524 - accuracy: 0.6108 - val_loss: 0.8782 - val_accuracy: 0.6066\n",
            "Epoch 20/100\n",
            "101/101 [==============================] - 7s 74ms/step - loss: 0.7079 - accuracy: 0.6467 - val_loss: 0.8593 - val_accuracy: 0.6066\n",
            "Epoch 21/100\n",
            "101/101 [==============================] - 7s 74ms/step - loss: 0.6843 - accuracy: 0.6510 - val_loss: 0.8415 - val_accuracy: 0.6066\n",
            "Epoch 22/100\n",
            "101/101 [==============================] - 7s 74ms/step - loss: 0.7055 - accuracy: 0.6460 - val_loss: 0.8330 - val_accuracy: 0.6066\n",
            "Epoch 23/100\n",
            "101/101 [==============================] - 7s 74ms/step - loss: 0.6902 - accuracy: 0.6572 - val_loss: 0.8471 - val_accuracy: 0.6287\n",
            "Epoch 24/100\n",
            "101/101 [==============================] - 7s 74ms/step - loss: 0.6935 - accuracy: 0.6448 - val_loss: 0.8643 - val_accuracy: 0.6140\n",
            "Epoch 25/100\n",
            "101/101 [==============================] - 7s 73ms/step - loss: 0.7214 - accuracy: 0.6355 - val_loss: 0.8494 - val_accuracy: 0.6654\n",
            "Epoch 26/100\n",
            "101/101 [==============================] - 8s 74ms/step - loss: 0.7306 - accuracy: 0.6423 - val_loss: 0.8511 - val_accuracy: 0.5368\n",
            "Epoch 27/100\n",
            "101/101 [==============================] - 7s 73ms/step - loss: 0.7033 - accuracy: 0.6355 - val_loss: 0.9040 - val_accuracy: 0.6066\n",
            "Epoch 28/100\n",
            "101/101 [==============================] - 7s 74ms/step - loss: 0.6924 - accuracy: 0.6423 - val_loss: 0.8386 - val_accuracy: 0.6103\n",
            "Epoch 29/100\n",
            "101/101 [==============================] - 7s 73ms/step - loss: 0.6489 - accuracy: 0.6646 - val_loss: 0.9705 - val_accuracy: 0.5846\n",
            "Epoch 30/100\n",
            "101/101 [==============================] - 7s 73ms/step - loss: 0.6654 - accuracy: 0.6863 - val_loss: 0.8640 - val_accuracy: 0.5037\n",
            "Epoch 31/100\n",
            "101/101 [==============================] - 7s 73ms/step - loss: 0.6583 - accuracy: 0.6597 - val_loss: 1.1471 - val_accuracy: 0.4743\n",
            "Epoch 32/100\n",
            "101/101 [==============================] - 7s 74ms/step - loss: 0.6627 - accuracy: 0.6770 - val_loss: 0.8044 - val_accuracy: 0.5000\n",
            "Epoch 33/100\n",
            "101/101 [==============================] - 7s 74ms/step - loss: 0.6399 - accuracy: 0.6856 - val_loss: 0.7210 - val_accuracy: 0.6360\n",
            "Epoch 34/100\n",
            "101/101 [==============================] - 7s 74ms/step - loss: 0.5905 - accuracy: 0.7370 - val_loss: 0.6627 - val_accuracy: 0.6434\n",
            "Epoch 35/100\n",
            "101/101 [==============================] - 7s 73ms/step - loss: 0.5827 - accuracy: 0.7308 - val_loss: 0.7083 - val_accuracy: 0.6618\n",
            "Epoch 36/100\n",
            "101/101 [==============================] - 7s 73ms/step - loss: 0.6081 - accuracy: 0.7116 - val_loss: 0.7830 - val_accuracy: 0.6066\n",
            "Epoch 37/100\n",
            "101/101 [==============================] - 7s 74ms/step - loss: 0.6396 - accuracy: 0.6838 - val_loss: 0.8090 - val_accuracy: 0.7059\n",
            "Epoch 38/100\n",
            "101/101 [==============================] - 7s 73ms/step - loss: 0.6569 - accuracy: 0.6776 - val_loss: 0.8821 - val_accuracy: 0.5441\n",
            "Epoch 39/100\n",
            "101/101 [==============================] - 7s 73ms/step - loss: 0.6172 - accuracy: 0.7098 - val_loss: 0.8484 - val_accuracy: 0.5588\n",
            "Epoch 40/100\n",
            "101/101 [==============================] - 7s 74ms/step - loss: 0.6211 - accuracy: 0.7085 - val_loss: 0.8498 - val_accuracy: 0.5662\n",
            "Epoch 41/100\n",
            "101/101 [==============================] - 7s 73ms/step - loss: 0.5959 - accuracy: 0.7166 - val_loss: 0.7596 - val_accuracy: 0.5956\n",
            "Epoch 42/100\n",
            "101/101 [==============================] - 8s 75ms/step - loss: 0.5942 - accuracy: 0.7222 - val_loss: 0.8002 - val_accuracy: 0.5441\n",
            "Epoch 43/100\n",
            "101/101 [==============================] - 7s 73ms/step - loss: 0.7029 - accuracy: 0.6566 - val_loss: 1.0480 - val_accuracy: 0.4890\n",
            "Epoch 44/100\n",
            "101/101 [==============================] - 7s 73ms/step - loss: 0.7660 - accuracy: 0.5953 - val_loss: 0.8942 - val_accuracy: 0.5515\n",
            "Epoch 45/100\n",
            "101/101 [==============================] - 7s 74ms/step - loss: 0.7310 - accuracy: 0.5928 - val_loss: 0.9300 - val_accuracy: 0.6066\n",
            "Epoch 46/100\n",
            "101/101 [==============================] - 7s 73ms/step - loss: 0.7214 - accuracy: 0.6064 - val_loss: 0.9635 - val_accuracy: 0.4890\n",
            "Epoch 47/100\n",
            "101/101 [==============================] - 7s 74ms/step - loss: 0.7100 - accuracy: 0.6163 - val_loss: 0.9658 - val_accuracy: 0.4890\n",
            "Epoch 48/100\n",
            "101/101 [==============================] - 7s 73ms/step - loss: 0.7103 - accuracy: 0.6448 - val_loss: 0.9256 - val_accuracy: 0.6029\n",
            "Epoch 49/100\n",
            "101/101 [==============================] - 7s 73ms/step - loss: 0.7051 - accuracy: 0.6374 - val_loss: 0.9200 - val_accuracy: 0.5441\n",
            "Epoch 50/100\n",
            "101/101 [==============================] - 7s 74ms/step - loss: 0.7163 - accuracy: 0.6460 - val_loss: 0.9328 - val_accuracy: 0.6066\n",
            "Epoch 51/100\n",
            "101/101 [==============================] - 7s 74ms/step - loss: 0.7022 - accuracy: 0.6269 - val_loss: 0.9300 - val_accuracy: 0.4926\n",
            "Epoch 52/100\n",
            "101/101 [==============================] - 7s 74ms/step - loss: 0.6981 - accuracy: 0.6479 - val_loss: 0.8999 - val_accuracy: 0.6176\n",
            "Epoch 53/100\n",
            "101/101 [==============================] - 7s 74ms/step - loss: 0.6786 - accuracy: 0.6603 - val_loss: 1.0015 - val_accuracy: 0.4963\n",
            "Epoch 54/100\n",
            "101/101 [==============================] - 7s 73ms/step - loss: 0.6731 - accuracy: 0.6683 - val_loss: 0.9468 - val_accuracy: 0.5110\n",
            "Epoch 55/100\n",
            "101/101 [==============================] - 7s 74ms/step - loss: 0.6829 - accuracy: 0.6510 - val_loss: 0.9880 - val_accuracy: 0.5772\n",
            "Epoch 56/100\n",
            "101/101 [==============================] - 7s 73ms/step - loss: 0.6681 - accuracy: 0.6696 - val_loss: 0.9833 - val_accuracy: 0.6250\n",
            "Epoch 57/100\n",
            "101/101 [==============================] - 7s 74ms/step - loss: 0.6610 - accuracy: 0.6751 - val_loss: 0.9439 - val_accuracy: 0.6066\n",
            "Epoch 58/100\n",
            "101/101 [==============================] - 7s 73ms/step - loss: 0.6516 - accuracy: 0.6578 - val_loss: 0.9239 - val_accuracy: 0.6066\n",
            "Epoch 59/100\n",
            "101/101 [==============================] - 7s 74ms/step - loss: 0.6682 - accuracy: 0.6825 - val_loss: 0.9185 - val_accuracy: 0.5331\n",
            "Epoch 60/100\n",
            "101/101 [==============================] - 7s 74ms/step - loss: 0.6449 - accuracy: 0.6813 - val_loss: 0.9772 - val_accuracy: 0.6176\n",
            "Epoch 61/100\n",
            "101/101 [==============================] - 7s 73ms/step - loss: 0.6370 - accuracy: 0.6856 - val_loss: 0.9971 - val_accuracy: 0.5993\n",
            "Epoch 62/100\n",
            "101/101 [==============================] - 7s 74ms/step - loss: 0.6400 - accuracy: 0.6955 - val_loss: 0.9211 - val_accuracy: 0.5588\n",
            "Epoch 63/100\n",
            "101/101 [==============================] - 7s 74ms/step - loss: 0.6317 - accuracy: 0.6838 - val_loss: 1.0293 - val_accuracy: 0.5993\n",
            "Epoch 64/100\n",
            "101/101 [==============================] - 7s 73ms/step - loss: 0.6301 - accuracy: 0.6906 - val_loss: 0.9469 - val_accuracy: 0.6103\n",
            "Epoch 65/100\n",
            "101/101 [==============================] - 7s 73ms/step - loss: 0.6197 - accuracy: 0.7024 - val_loss: 0.9908 - val_accuracy: 0.5809\n",
            "Epoch 66/100\n",
            "101/101 [==============================] - 7s 74ms/step - loss: 0.6022 - accuracy: 0.7153 - val_loss: 1.0467 - val_accuracy: 0.4963\n",
            "Epoch 67/100\n",
            "101/101 [==============================] - 7s 73ms/step - loss: 0.6256 - accuracy: 0.7123 - val_loss: 0.9886 - val_accuracy: 0.5846\n",
            "Epoch 68/100\n",
            "101/101 [==============================] - 7s 74ms/step - loss: 0.6128 - accuracy: 0.7222 - val_loss: 1.0231 - val_accuracy: 0.6176\n",
            "Epoch 69/100\n",
            "101/101 [==============================] - 7s 74ms/step - loss: 0.6144 - accuracy: 0.7116 - val_loss: 1.0778 - val_accuracy: 0.4743\n",
            "Epoch 70/100\n",
            "101/101 [==============================] - 7s 74ms/step - loss: 0.6107 - accuracy: 0.7092 - val_loss: 0.9585 - val_accuracy: 0.5074\n",
            "Epoch 71/100\n",
            "101/101 [==============================] - 7s 73ms/step - loss: 0.6093 - accuracy: 0.7178 - val_loss: 0.9885 - val_accuracy: 0.5221\n",
            "Epoch 72/100\n",
            "101/101 [==============================] - 7s 73ms/step - loss: 0.6018 - accuracy: 0.7197 - val_loss: 0.9889 - val_accuracy: 0.4963\n",
            "Epoch 73/100\n",
            "101/101 [==============================] - 7s 74ms/step - loss: 0.5879 - accuracy: 0.7246 - val_loss: 1.0212 - val_accuracy: 0.5147\n",
            "Epoch 74/100\n",
            "101/101 [==============================] - 7s 74ms/step - loss: 0.6014 - accuracy: 0.7209 - val_loss: 0.9804 - val_accuracy: 0.5257\n",
            "Epoch 75/100\n",
            "101/101 [==============================] - 8s 74ms/step - loss: 0.6005 - accuracy: 0.7209 - val_loss: 1.1105 - val_accuracy: 0.4926\n",
            "Epoch 76/100\n",
            "101/101 [==============================] - 7s 74ms/step - loss: 0.5962 - accuracy: 0.7290 - val_loss: 1.0023 - val_accuracy: 0.5404\n",
            "Epoch 77/100\n",
            "101/101 [==============================] - 7s 74ms/step - loss: 0.6019 - accuracy: 0.7290 - val_loss: 1.0073 - val_accuracy: 0.5037\n",
            "Epoch 78/100\n",
            "101/101 [==============================] - 7s 74ms/step - loss: 0.5761 - accuracy: 0.7401 - val_loss: 1.0763 - val_accuracy: 0.5074\n",
            "Epoch 79/100\n",
            "101/101 [==============================] - 7s 73ms/step - loss: 0.5903 - accuracy: 0.7314 - val_loss: 1.0033 - val_accuracy: 0.4963\n",
            "Epoch 80/100\n",
            "101/101 [==============================] - 7s 74ms/step - loss: 0.5725 - accuracy: 0.7370 - val_loss: 1.0739 - val_accuracy: 0.5037\n",
            "Epoch 81/100\n",
            "101/101 [==============================] - 7s 74ms/step - loss: 0.5856 - accuracy: 0.7395 - val_loss: 1.0093 - val_accuracy: 0.6103\n",
            "Epoch 82/100\n",
            "101/101 [==============================] - 7s 74ms/step - loss: 0.5882 - accuracy: 0.7333 - val_loss: 1.1290 - val_accuracy: 0.5000\n",
            "Epoch 83/100\n",
            "101/101 [==============================] - 7s 73ms/step - loss: 0.5895 - accuracy: 0.7345 - val_loss: 1.0481 - val_accuracy: 0.6765\n",
            "Epoch 84/100\n",
            "101/101 [==============================] - 7s 74ms/step - loss: 0.5945 - accuracy: 0.7321 - val_loss: 0.9403 - val_accuracy: 0.6397\n",
            "Epoch 85/100\n",
            "101/101 [==============================] - 7s 73ms/step - loss: 0.5760 - accuracy: 0.7506 - val_loss: 1.0774 - val_accuracy: 0.4963\n",
            "Epoch 86/100\n",
            "101/101 [==============================] - 7s 73ms/step - loss: 0.5769 - accuracy: 0.7370 - val_loss: 1.0389 - val_accuracy: 0.5404\n",
            "Epoch 87/100\n",
            "101/101 [==============================] - 7s 73ms/step - loss: 0.5652 - accuracy: 0.7469 - val_loss: 0.9974 - val_accuracy: 0.4963\n",
            "Epoch 88/100\n",
            "101/101 [==============================] - 7s 74ms/step - loss: 0.5768 - accuracy: 0.7339 - val_loss: 1.1925 - val_accuracy: 0.5515\n",
            "Epoch 89/100\n",
            "101/101 [==============================] - 7s 74ms/step - loss: 0.5712 - accuracy: 0.7481 - val_loss: 1.0765 - val_accuracy: 0.4963\n",
            "Epoch 90/100\n",
            "101/101 [==============================] - 7s 74ms/step - loss: 0.5616 - accuracy: 0.7401 - val_loss: 1.0736 - val_accuracy: 0.5074\n",
            "Epoch 91/100\n",
            "101/101 [==============================] - 7s 73ms/step - loss: 0.5743 - accuracy: 0.7389 - val_loss: 1.0576 - val_accuracy: 0.5000\n",
            "Epoch 92/100\n",
            "101/101 [==============================] - 7s 73ms/step - loss: 0.5625 - accuracy: 0.7339 - val_loss: 1.0985 - val_accuracy: 0.5404\n",
            "Epoch 93/100\n",
            "101/101 [==============================] - 7s 74ms/step - loss: 0.5716 - accuracy: 0.7358 - val_loss: 1.1472 - val_accuracy: 0.4963\n",
            "Epoch 94/100\n",
            "101/101 [==============================] - 7s 73ms/step - loss: 0.5797 - accuracy: 0.7401 - val_loss: 1.0442 - val_accuracy: 0.5110\n",
            "Epoch 95/100\n",
            "101/101 [==============================] - 7s 73ms/step - loss: 0.5606 - accuracy: 0.7488 - val_loss: 1.0721 - val_accuracy: 0.5515\n",
            "Epoch 96/100\n",
            "101/101 [==============================] - 7s 73ms/step - loss: 0.5592 - accuracy: 0.7370 - val_loss: 1.1617 - val_accuracy: 0.5331\n",
            "Epoch 97/100\n",
            "101/101 [==============================] - 7s 73ms/step - loss: 0.5587 - accuracy: 0.7506 - val_loss: 1.1954 - val_accuracy: 0.5074\n",
            "Epoch 98/100\n",
            "101/101 [==============================] - 7s 74ms/step - loss: 0.5624 - accuracy: 0.7407 - val_loss: 0.9727 - val_accuracy: 0.6287\n",
            "Epoch 99/100\n",
            "101/101 [==============================] - 7s 73ms/step - loss: 0.5521 - accuracy: 0.7407 - val_loss: 1.1377 - val_accuracy: 0.5809\n",
            "Epoch 100/100\n",
            "101/101 [==============================] - 7s 73ms/step - loss: 0.5435 - accuracy: 0.7574 - val_loss: 1.2688 - val_accuracy: 0.5147\n"
          ]
        }
      ],
      "source": [
        "# Create an Instance of Early Stopping Callback\n",
        "\n",
        "# https://stackoverflow.com/questions/53479007/how-to-setup-adaptive-learning-rate-in-keras\n",
        "# def adapt_learning_rate(epoch):\n",
        "#     print(0.0001 * epoch)\n",
        "#     return 0.0001 * epoch\n",
        "# my_lr_scheduler = keras.callbacks.LearningRateScheduler(adapt_learning_rate)\n",
        "\n",
        "early_stopping_callback = keras.callbacks.EarlyStopping(monitor = 'val_loss',\n",
        "                                                        patience = 10,\n",
        "                                                        mode = 'min',\n",
        "                                                        restore_best_weights = True)\n",
        "# Compile the model and specify loss function, optimizer and metrics values to the model\n",
        "convlstm_model.compile(loss = 'categorical_crossentropy',\n",
        "                       optimizer= keras.optimizers.Adam(0.001, decay=1e-4),\n",
        "                       metrics = [\"accuracy\"])\n",
        "# Start training the model.\n",
        "convlstm_model_training_history = convlstm_model.fit(x = features_train,\n",
        "                                                     y = labels_train,\n",
        "                                                     epochs = 100,\n",
        "                                                     batch_size = 16,\n",
        "                                                     shuffle = True,\n",
        "                                                     validation_data = (features_valid, labels_valid)),\n",
        "                                                    #  callbacks = [early_stopping_callback])\n"
      ]
    },
    {
      "cell_type": "code",
      "execution_count": 15,
      "metadata": {
        "colab": {
          "base_uri": "https://localhost:8080/"
        },
        "id": "LcpKhGqvIenv",
        "outputId": "dd7f8a83-5000-4875-a561-0e26877d46be"
      },
      "outputs": [
        {
          "output_type": "stream",
          "name": "stdout",
          "text": [
            "9/9 [==============================] - 1s 45ms/step - loss: 1.1967 - accuracy: 0.6581\n",
            "\n",
            "\n",
            "Train accuracy: 72.587 % || Test accuracy: 65.809 % || Val accuracy: 51.471 %\n",
            "Train loss: 0.612 || Test loss: 1.197 || Val loss: 1.269\n"
          ]
        }
      ],
      "source": [
        "model_evaluation_history = convlstm_model.evaluate(features_test, labels_test)\n",
        "\n",
        "print('\\n')\n",
        "\n",
        "train_loss, train_acc = convlstm_model.evaluate(features_train, labels_train, verbose=0)\n",
        "test_loss, test_acc = convlstm_model.evaluate(features_test, labels_test, verbose=0)\n",
        "val_loss, val_acc = convlstm_model.evaluate(features_valid, labels_valid, verbose=0)\n",
        "\n",
        "print(f'Train accuracy: {train_acc*100:.3f} % || Test accuracy: {test_acc*100:.3f} % || Val accuracy: {val_acc*100:.3f} %')\n",
        "print(f'Train loss: {train_loss:.3f} || Test loss: {test_loss:.3f} || Val loss: {val_loss:.3f}')"
      ]
    },
    {
      "cell_type": "code",
      "execution_count": 16,
      "metadata": {
        "id": "qsFw5KIzIum9"
      },
      "outputs": [],
      "source": [
        "# Get the loss and accuracy from model_evaluation_history.\n",
        "model_evaluation_loss, model_evaluation_accuracy = model_evaluation_history\n",
        " \n",
        "# Define the string date format.\n",
        "# Get the current Date and Time in a DateTime Object.\n",
        "# Convert the DateTime object to string according to the style mentioned in date_time_format string.\n",
        "date_time_format = '%Y_%m_%d__%H_%M_%S'\n",
        "current_date_time_dt = dt.datetime.now()\n",
        "current_date_time_string = dt.datetime.strftime(current_date_time_dt, date_time_format)\n",
        " \n",
        "# Define a useful name for our model to make it easy for us while navigating through multiple saved models.\n",
        "model_file_name = f'convlstm_model___Date_Time_{current_date_time_string}___Loss_{model_evaluation_loss}___Accuracy_{model_evaluation_accuracy}.h5'\n",
        " \n",
        "# Change dir\n",
        "gdrive_path = '/content/gdrive' + '/My Drive/247/Saved_models/'\n",
        "os.chdir(gdrive_path)\n",
        "# Create a floder for the model files\n",
        "!mkdir -p convlstm_{current_date_time_string}\n",
        "# Save your Model.\n",
        "convlstm_model.save('convlstm_' + str(current_date_time_string) + '/' + model_file_name)\n",
        "# Save model weights\n",
        "convlstm_model.save_weights('convlstm_' + str(current_date_time_string) + '/' + 'weights')"
      ]
    },
    {
      "cell_type": "code",
      "execution_count": 17,
      "metadata": {
        "id": "Z0eAobhSIz_P"
      },
      "outputs": [],
      "source": [
        "def plot_metric(model_training_history, metric_name_1, metric_name_2, plot_name):\n",
        "    '''\n",
        "    This function will plot the metrics passed to it in a graph.\n",
        "    Args:\n",
        "        model_training_history: A history object containing a record of training and validation \n",
        "                                loss values and metrics values at successive epochs\n",
        "        metric_name_1:          The name of the first metric that needs to be plotted in the graph.\n",
        "        metric_name_2:          The name of the second metric that needs to be plotted in the graph.\n",
        "        plot_name:              The title of the graph.\n",
        "    '''\n",
        "    \n",
        "    # Get metric values using metric names as identifiers.\n",
        "    metric_value_1 = model_training_history[0].history[metric_name_1]\n",
        "    metric_value_2 = model_training_history[0].history[metric_name_2]\n",
        "    \n",
        "    # Construct a range object which will be used as x-axis (horizontal plane) of the graph.\n",
        "    epochs = range(len(metric_value_1))\n",
        "\n",
        "    # Plot the Graph.\n",
        "    plt.plot(epochs, metric_value_1, 'blue', label = metric_name_1)\n",
        "    plt.plot(epochs, metric_value_2, 'red', label = metric_name_2)\n",
        "\n",
        "    # Add title to the plot.\n",
        "    plt.title(str(plot_name))\n",
        "\n",
        "    # Add legend to the plot.\n",
        "    plt.legend()"
      ]
    },
    {
      "cell_type": "code",
      "execution_count": 18,
      "metadata": {
        "colab": {
          "base_uri": "https://localhost:8080/",
          "height": 281
        },
        "id": "18RtBjI9I5lE",
        "outputId": "d99fc23a-73ca-4adc-8ac0-957d04a0a32a"
      },
      "outputs": [
        {
          "output_type": "display_data",
          "data": {
            "text/plain": [
              "<Figure size 432x288 with 1 Axes>"
            ],
            "image/png": "[encoded data removed]"
          },
          "metadata": {
            "needs_background": "light"
          }
        }
      ],
      "source": [
        "plot_metric(convlstm_model_training_history, 'loss', 'val_loss', 'Total Loss vs Total Validation Loss')"
      ]
    },
    {
      "cell_type": "code",
      "execution_count": 19,
      "metadata": {
        "colab": {
          "base_uri": "https://localhost:8080/",
          "height": 281
        },
        "id": "02amk7TXI_OS",
        "outputId": "cc75ff19-6220-4ceb-ca3b-66e70d718f57"
      },
      "outputs": [
        {
          "output_type": "display_data",
          "data": {
            "text/plain": [
              "<Figure size 432x288 with 1 Axes>"
            ],
            "image/png": "[encoded data removed]"
          },
          "metadata": {
            "needs_background": "light"
          }
        }
      ],
      "source": [
        "plot_metric(convlstm_model_training_history, 'accuracy', 'val_accuracy', 'Total Accuracy vs Total Validation Accuracy') "
      ]
    }
  ],
  "metadata": {
    "accelerator": "GPU",
    "colab": {
      "background_execution": "on",
      "collapsed_sections": [],
      "machine_shape": "hm",
      "name": "2D_CNN+LSTM.ipynb",
      "provenance": [],
      "authorship_tag": "ABX9TyMjw+sAF0OfyZjzUhMPR60r",
      "include_colab_link": true
    },
    "kernelspec": {
      "display_name": "Python 3",
      "name": "python3"
    },
    "language_info": {
      "name": "python"
    }
  },
  "nbformat": 4,
  "nbformat_minor": 0
}