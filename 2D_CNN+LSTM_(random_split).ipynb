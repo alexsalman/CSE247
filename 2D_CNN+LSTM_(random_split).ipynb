{
  "cells": [
    {
      "cell_type": "markdown",
      "metadata": {
        "id": "view-in-github",
        "colab_type": "text"
      },
      "source": [
        "<a href=\"https://colab.research.google.com/github/alexsalman/CSE247/blob/main/2D_CNN%2BLSTM_(random_split).ipynb\" target=\"_parent\"><img src=\"https://colab.research.google.com/assets/colab-badge.svg\" alt=\"Open In Colab\"/></a>"
      ]
    },
    {
      "cell_type": "markdown",
      "metadata": {
        "id": "Fk8TLrPiv-ab"
      },
      "source": [
        "####**Convolutional Neural Network + Long Short Term Memory**\n",
        "######*I am using a Convolution Neural Network (CNN) + Long Short Term Memory (LSTM) Network to extract general representation while utilizing the Spatial-temporal aspect of the videos.*"
      ]
    },
    {
      "cell_type": "code",
      "execution_count": 1,
      "metadata": {
        "colab": {
          "base_uri": "https://localhost:8080/"
        },
        "id": "M8ibtd5HKtZk",
        "outputId": "227d3769-6020-4ba0-8937-13c435ae76fe"
      },
      "outputs": [
        {
          "output_type": "stream",
          "name": "stdout",
          "text": [
            "2.8.0\n"
          ]
        }
      ],
      "source": [
        "# required libraries\n",
        "import os\n",
        "import cv2\n",
        "import math\n",
        "import random\n",
        "import numpy as np\n",
        "import datetime as dt\n",
        "from collections import deque\n",
        "import matplotlib.pyplot as plt\n",
        "from google.colab import drive\n",
        "from sklearn.model_selection import train_test_split\n",
        "import tensorflow as tf\n",
        "from tensorflow import keras\n",
        "from keras.models import Sequential\n",
        "from keras.layers import Dense, Flatten, Conv3D, MaxPooling3D, Dropout, BatchNormalization, ConvLSTM2D, Reshape\n",
        "from keras.layers.recurrent import LSTM\n",
        "from PIL import Image\n",
        "%matplotlib inline\n",
        "print(tf.version.VERSION)\n",
        "# https://bleedai.com/human-activity-recognition-using-tensorflow-cnn-lstm/"
      ]
    },
    {
      "cell_type": "code",
      "execution_count": 2,
      "metadata": {
        "id": "iffdFOf1CEAN"
      },
      "outputs": [],
      "source": [
        "# set Numpy, Python, and Tensorflow seeds to get consistent results on every execution\n",
        "seed_constant = 27\n",
        "np.random.seed(seed_constant)\n",
        "random.seed(seed_constant)\n",
        "tf.random.set_seed(seed_constant)"
      ]
    },
    {
      "cell_type": "code",
      "execution_count": 3,
      "metadata": {
        "colab": {
          "base_uri": "https://localhost:8080/",
          "height": 53
        },
        "id": "mcLh22LiOHyn",
        "outputId": "9dd8554a-a440-4a5b-a603-df838db8e190"
      },
      "outputs": [
        {
          "output_type": "stream",
          "name": "stdout",
          "text": [
            "Mounted at /content/gdrive/\n"
          ]
        },
        {
          "output_type": "execute_result",
          "data": {
            "text/plain": [
              "'/content/gdrive/My Drive/247'"
            ],
            "application/vnd.google.colaboratory.intrinsic+json": {
              "type": "string"
            }
          },
          "metadata": {},
          "execution_count": 3
        }
      ],
      "source": [
        "# mount dataset from google drive\n",
        "drive.mount('/content/gdrive/', force_remount=True)\n",
        "gdrive_path = '/content/gdrive' + '/My Drive/247/'\n",
        "os.chdir(gdrive_path)\n",
        "os.getcwd()"
      ]
    },
    {
      "cell_type": "code",
      "execution_count": 4,
      "metadata": {
        "id": "oeDK8SzumZ1Q"
      },
      "outputs": [],
      "source": [
        "# frame dimention\n",
        "IMAGE_HEIGHT, IMAGE_WIDTH = 128, 128\n",
        "# frame number for each video (depth)\n",
        "SEQUENCE_LENGTH = 16\n",
        "# video dir path\n",
        "DATASET_DIR = gdrive_path + 'Cropped_videos'\n",
        "# labels of classes\n",
        "CLASSES_LIST = ['hemostasis', 'inflammatory', 'proliferative', 'maturation']"
      ]
    },
    {
      "cell_type": "code",
      "execution_count": 5,
      "metadata": {
        "id": "3mFB5qD6b3Kd"
      },
      "outputs": [],
      "source": [
        "# image cropping\n",
        "def crop_center_square(frame):\n",
        "    y, x = frame.shape[0:2]\n",
        "    min_dim = min(y, x)\n",
        "    start_x = (x // 2) - (min_dim // 2)\n",
        "    start_y = (y // 2) - (min_dim // 2)\n",
        "    return frame[start_y:start_y+min_dim,start_x:start_x+min_dim]"
      ]
    },
    {
      "cell_type": "code",
      "execution_count": 6,
      "metadata": {
        "id": "sqeexMUjaLzJ"
      },
      "outputs": [],
      "source": [
        "# https://medium.com/analytics-vidhya/video-preprocessor-and-augmentation-for-deep-learning-tasks-12dd3fcce868\n",
        "def load_video(path, resize=(128, 128)):\n",
        "    video_reader = cv2.VideoCapture(path)\n",
        "    frames = []\n",
        "    try:\n",
        "        while True:\n",
        "            ret, frame = video_reader.read()\n",
        "            if not ret:\n",
        "                  break\n",
        "            frame = crop_center_square(frame)\n",
        "            frame = cv2.resize(frame, resize)\n",
        "            frame = frame[:, :, [2, 1, 0]]\n",
        "            frames.append(frame)\n",
        "    finally:\n",
        "        video_reader.release()\n",
        "    return np.array(frames) / 255.0"
      ]
    },
    {
      "cell_type": "code",
      "execution_count": 9,
      "metadata": {
        "id": "ljUWHW6Jqzu-"
      },
      "outputs": [],
      "source": [
        "def create_dataset():\n",
        "    # Declared Empty Lists to store the features, labels and video file path values.\n",
        "    features = []\n",
        "    labels = []\n",
        "    video_files_paths = []\n",
        "    # Iterating through all the classes mentioned in the classes list\n",
        "    for class_index, class_name in enumerate(CLASSES_LIST):\n",
        "        # Display the name of the class whose data is being extracted.\n",
        "        print(f'Extracting Data of Class: {class_name}')\n",
        "        # Get the list of video files present in the specific class name directory.\n",
        "        files_list = os.listdir(os.path.join(DATASET_DIR, class_name))\n",
        "        # Iterate through all the files present in the files list.\n",
        "        for file_name in files_list:\n",
        "            # Get the complete video path.\n",
        "            video_file_path = os.path.join(DATASET_DIR, class_name, file_name)\n",
        "            frames = load_video(video_file_path)\n",
        "            features.append(frames)\n",
        "            labels.append(class_index)\n",
        "            video_files_paths.append(video_file_path)\n",
        "  \n",
        "    # Converting the list to numpy arrays\n",
        "    features = np.asarray(features)\n",
        "    # print(features)\n",
        "    labels = np.array(labels)\n",
        "    # Return the frames, class index, and video file path.\n",
        "    return features, labels, video_files_paths"
      ]
    },
    {
      "cell_type": "code",
      "execution_count": 10,
      "metadata": {
        "colab": {
          "base_uri": "https://localhost:8080/"
        },
        "id": "a8rpanz9rASe",
        "outputId": "0116686f-87c6-4c86-96a9-370450aa2446"
      },
      "outputs": [
        {
          "output_type": "stream",
          "name": "stdout",
          "text": [
            "Extracting Data of Class: hemostasis\n",
            "Extracting Data of Class: inflammatory\n",
            "Extracting Data of Class: proliferative\n",
            "Extracting Data of Class: maturation\n"
          ]
        }
      ],
      "source": [
        "features, labels, video_files_paths = create_dataset()"
      ]
    },
    {
      "cell_type": "code",
      "execution_count": 11,
      "metadata": {
        "id": "dtJkK4qTAulC"
      },
      "outputs": [],
      "source": [
        "# one_hot_encoded_labels\n",
        "one_hot_encoded_labels = keras.utils.to_categorical(labels)"
      ]
    },
    {
      "cell_type": "code",
      "source": [
        "features_train, features_test, labels_train, labels_test = train_test_split(features, one_hot_encoded_labels, test_size = 0.25, shuffle = True, random_state = seed_constant)"
      ],
      "metadata": {
        "id": "BpPXBaJ-rkkC"
      },
      "execution_count": 12,
      "outputs": []
    },
    {
      "cell_type": "code",
      "execution_count": 13,
      "metadata": {
        "id": "Bi-NDol3DHRV"
      },
      "outputs": [],
      "source": [
        "def create_convlstm_model():\n",
        "    imgSize = (128, 128)\n",
        "    in_shape = (16, imgSize[0], imgSize[1], 3)\n",
        "    model = Sequential()\n",
        "    model.add(keras.layers.ConvLSTM2D(32, kernel_size=(3, 3), padding='valid', return_sequences=True, input_shape=in_shape))\n",
        "    model.add(keras.layers.Activation('relu'))\n",
        "    model.add(MaxPooling3D(pool_size=(1, 2, 2)))\n",
        "    model.add(keras.layers.ConvLSTM2D(16, kernel_size=(3, 3), padding='valid', return_sequences=True))\n",
        "    model.add(MaxPooling3D(pool_size=(1, 2, 2)))\n",
        "    model.add(keras.layers.ConvLSTM2D(16, kernel_size=(3, 3), padding='valid', return_sequences=True))\n",
        "    model.add(keras.layers.Activation('relu'))\n",
        "    model.add(keras.layers.ConvLSTM2D(16, kernel_size=(3, 3), padding='valid', return_sequences=True))\n",
        "    model.add(keras.layers.Activation('relu'))\n",
        "    model.add(keras.layers.ConvLSTM2D(16, kernel_size=(3, 3), padding='valid', return_sequences=True))\n",
        "    model.add(MaxPooling3D(pool_size=(1, 2, 2)))\n",
        "    model.add(Dense(16))\n",
        "    model.add(keras.layers.Activation('relu'))\n",
        "    model.add(Dropout(0.2))\n",
        "\n",
        "    out_shape = model.output_shape\n",
        "    print('====Model shape: ', out_shape)\n",
        "    model.add(Reshape((16, out_shape[2] * out_shape[3] * out_shape[4])))\n",
        "    model.add(LSTM(32, return_sequences=False))\n",
        "    model.add(Dropout(0.2))\n",
        "    model.add(Dense(len(CLASSES_LIST), activation='softmax'))\n",
        "    # model.compile(loss='categorical_crossentropy', optimizer='sgd', metrics=['accuracy'])\n",
        "\n",
        "    # model structure summary\n",
        "    print(model.summary())\n",
        "\n",
        "    return model\n",
        "    # https://www.programcreek.com/python/?code=woodfrog%2FActionRecognition%2FActionRecognition-master%2Frnn_practice%2FLRCN_keras%2FLRCN_keras.py"
      ]
    },
    {
      "cell_type": "code",
      "execution_count": 14,
      "metadata": {
        "colab": {
          "base_uri": "https://localhost:8080/"
        },
        "id": "FbjNYI-0DY_v",
        "outputId": "d72b388a-627c-488c-c347-7c9d1fae0936"
      },
      "outputs": [
        {
          "output_type": "stream",
          "name": "stdout",
          "text": [
            "====Model shape:  (None, 16, 12, 12, 16)\n",
            "Model: \"sequential\"\n",
            "_________________________________________________________________\n",
            " Layer (type)                Output Shape              Param #   \n",
            "=================================================================\n",
            " conv_lstm2d (ConvLSTM2D)    (None, 16, 126, 126, 32)  40448     \n",
            "                                                                 \n",
            " activation (Activation)     (None, 16, 126, 126, 32)  0         \n",
            "                                                                 \n",
            " max_pooling3d (MaxPooling3D  (None, 16, 63, 63, 32)   0         \n",
            " )                                                               \n",
            "                                                                 \n",
            " conv_lstm2d_1 (ConvLSTM2D)  (None, 16, 61, 61, 16)    27712     \n",
            "                                                                 \n",
            " max_pooling3d_1 (MaxPooling  (None, 16, 30, 30, 16)   0         \n",
            " 3D)                                                             \n",
            "                                                                 \n",
            " conv_lstm2d_2 (ConvLSTM2D)  (None, 16, 28, 28, 16)    18496     \n",
            "                                                                 \n",
            " activation_1 (Activation)   (None, 16, 28, 28, 16)    0         \n",
            "                                                                 \n",
            " conv_lstm2d_3 (ConvLSTM2D)  (None, 16, 26, 26, 16)    18496     \n",
            "                                                                 \n",
            " activation_2 (Activation)   (None, 16, 26, 26, 16)    0         \n",
            "                                                                 \n",
            " conv_lstm2d_4 (ConvLSTM2D)  (None, 16, 24, 24, 16)    18496     \n",
            "                                                                 \n",
            " max_pooling3d_2 (MaxPooling  (None, 16, 12, 12, 16)   0         \n",
            " 3D)                                                             \n",
            "                                                                 \n",
            " dense (Dense)               (None, 16, 12, 12, 16)    272       \n",
            "                                                                 \n",
            " activation_3 (Activation)   (None, 16, 12, 12, 16)    0         \n",
            "                                                                 \n",
            " dropout (Dropout)           (None, 16, 12, 12, 16)    0         \n",
            "                                                                 \n",
            " reshape (Reshape)           (None, 16, 2304)          0         \n",
            "                                                                 \n",
            " lstm (LSTM)                 (None, 32)                299136    \n",
            "                                                                 \n",
            " dropout_1 (Dropout)         (None, 32)                0         \n",
            "                                                                 \n",
            " dense_1 (Dense)             (None, 4)                 132       \n",
            "                                                                 \n",
            "=================================================================\n",
            "Total params: 423,188\n",
            "Trainable params: 423,188\n",
            "Non-trainable params: 0\n",
            "_________________________________________________________________\n",
            "None\n",
            "Model Created Successfully!\n"
          ]
        }
      ],
      "source": [
        "# Construct the required convlstm model.\n",
        "convlstm_model = create_convlstm_model()\n",
        " \n",
        "# Display the success message. \n",
        "print(\"Model Created Successfully!\")"
      ]
    },
    {
      "cell_type": "code",
      "execution_count": null,
      "metadata": {
        "id": "nMYwQOwyF3bd"
      },
      "outputs": [],
      "source": [
        "# keras.utils.plot_model(convlstm_model,\n",
        "#                          to_file = 'convlstm_model_structure_plot.png',\n",
        "#                          show_shapes = True,\n",
        "#                          show_layer_names = True)"
      ]
    },
    {
      "cell_type": "code",
      "execution_count": 15,
      "metadata": {
        "colab": {
          "base_uri": "https://localhost:8080/"
        },
        "id": "vYC_6H0uGqW9",
        "outputId": "e815bdbd-a1ca-47a6-8702-5e425671e6da"
      },
      "outputs": [
        {
          "output_type": "stream",
          "name": "stdout",
          "text": [
            "Epoch 1/10\n",
            "130/130 [==============================] - 158s 1s/step - loss: 0.9770 - accuracy: 0.5069 - val_loss: 0.7764 - val_accuracy: 0.6204\n",
            "Epoch 2/10\n",
            "130/130 [==============================] - 135s 1s/step - loss: 0.7742 - accuracy: 0.6412 - val_loss: 0.7438 - val_accuracy: 0.6389\n",
            "Epoch 3/10\n",
            "130/130 [==============================] - 136s 1s/step - loss: 0.7070 - accuracy: 0.6713 - val_loss: 0.6608 - val_accuracy: 0.6759\n",
            "Epoch 4/10\n",
            "130/130 [==============================] - 136s 1s/step - loss: 0.6378 - accuracy: 0.7045 - val_loss: 0.5847 - val_accuracy: 0.7654\n",
            "Epoch 5/10\n",
            "130/130 [==============================] - 136s 1s/step - loss: 0.5553 - accuracy: 0.7546 - val_loss: 0.5446 - val_accuracy: 0.7562\n",
            "Epoch 6/10\n",
            "130/130 [==============================] - 136s 1s/step - loss: 0.5547 - accuracy: 0.7731 - val_loss: 0.4639 - val_accuracy: 0.8086\n",
            "Epoch 7/10\n",
            "130/130 [==============================] - 136s 1s/step - loss: 0.4515 - accuracy: 0.8017 - val_loss: 0.4214 - val_accuracy: 0.8117\n",
            "Epoch 8/10\n",
            "130/130 [==============================] - 137s 1s/step - loss: 0.3896 - accuracy: 0.8318 - val_loss: 0.3258 - val_accuracy: 0.8796\n",
            "Epoch 9/10\n",
            "130/130 [==============================] - 136s 1s/step - loss: 0.3346 - accuracy: 0.8580 - val_loss: 0.3616 - val_accuracy: 0.8457\n",
            "Epoch 10/10\n",
            "130/130 [==============================] - 136s 1s/step - loss: 0.3106 - accuracy: 0.8634 - val_loss: 0.3575 - val_accuracy: 0.8364\n"
          ]
        }
      ],
      "source": [
        "# Create an Instance of Early Stopping Callback\n",
        "early_stopping_callback = keras.callbacks.EarlyStopping(monitor = 'val_loss',\n",
        "                                                        patience = 10,\n",
        "                                                        mode = 'min',\n",
        "                                                        restore_best_weights = True)\n",
        "# Compile the model and specify loss function, optimizer and metrics values to the model\n",
        "convlstm_model.compile(loss = 'categorical_crossentropy',\n",
        "                       optimizer = 'Adam',\n",
        "                       metrics = [\"accuracy\"])\n",
        "# Start training the model.\n",
        "convlstm_model_training_history = convlstm_model.fit(x = features_train,\n",
        "                                                     y = labels_train,\n",
        "                                                     epochs = 10,\n",
        "                                                     batch_size = 10,\n",
        "                                                     shuffle = True,\n",
        "                                                     validation_split = 0.2,\n",
        "                                                     callbacks = [early_stopping_callback])"
      ]
    },
    {
      "cell_type": "code",
      "execution_count": 16,
      "metadata": {
        "id": "LcpKhGqvIenv",
        "colab": {
          "base_uri": "https://localhost:8080/"
        },
        "outputId": "e7ec514d-db6e-4e53-ff2f-4ed9cbefd7de"
      },
      "outputs": [
        {
          "output_type": "stream",
          "name": "stdout",
          "text": [
            "17/17 [==============================] - 12s 689ms/step - loss: 0.2852 - accuracy: 0.8870\n"
          ]
        }
      ],
      "source": [
        "model_evaluation_history = convlstm_model.evaluate(features_test, labels_test)"
      ]
    },
    {
      "cell_type": "code",
      "execution_count": 18,
      "metadata": {
        "id": "qsFw5KIzIum9"
      },
      "outputs": [],
      "source": [
        "# Get the loss and accuracy from model_evaluation_history.\n",
        "model_evaluation_loss, model_evaluation_accuracy = model_evaluation_history\n",
        " \n",
        "# Define the string date format.\n",
        "# Get the current Date and Time in a DateTime Object.\n",
        "# Convert the DateTime object to string according to the style mentioned in date_time_format string.\n",
        "date_time_format = '%Y_%m_%d__%H_%M_%S'\n",
        "current_date_time_dt = dt.datetime.now()\n",
        "current_date_time_string = dt.datetime.strftime(current_date_time_dt, date_time_format)\n",
        " \n",
        "# Define a useful name for our model to make it easy for us while navigating through multiple saved models.\n",
        "model_file_name = f'convlstm_model_(random_split)__Date_Time_{current_date_time_string}___Loss_{model_evaluation_loss}___Accuracy_{model_evaluation_accuracy}.h5'\n",
        " \n",
        "# Change dir\n",
        "gdrive_path = '/content/gdrive' + '/My Drive/247/Saved_models/'\n",
        "os.chdir(gdrive_path)\n",
        "# Create a floder for the model files\n",
        "!mkdir -p convlstm_{current_date_time_string}\n",
        "# Save your Model.\n",
        "convlstm_model.save('convlstm_random_split' + str(current_date_time_string) + '/' + model_file_name)\n",
        "# Save model weights\n",
        "convlstm_model.save_weights('convlstm_' + str(current_date_time_string) + '/' + 'weights')"
      ]
    },
    {
      "cell_type": "code",
      "execution_count": 19,
      "metadata": {
        "id": "Z0eAobhSIz_P"
      },
      "outputs": [],
      "source": [
        "def plot_metric(model_training_history, metric_name_1, metric_name_2, plot_name):\n",
        "    '''\n",
        "    This function will plot the metrics passed to it in a graph.\n",
        "    Args:\n",
        "        model_training_history: A history object containing a record of training and validation \n",
        "                                loss values and metrics values at successive epochs\n",
        "        metric_name_1:          The name of the first metric that needs to be plotted in the graph.\n",
        "        metric_name_2:          The name of the second metric that needs to be plotted in the graph.\n",
        "        plot_name:              The title of the graph.\n",
        "    '''\n",
        "    \n",
        "    # Get metric values using metric names as identifiers.\n",
        "    metric_value_1 = model_training_history.history[metric_name_1]\n",
        "    metric_value_2 = model_training_history.history[metric_name_2]\n",
        "    \n",
        "    # Construct a range object which will be used as x-axis (horizontal plane) of the graph.\n",
        "    epochs = range(len(metric_value_1))\n",
        "\n",
        "    # Plot the Graph.\n",
        "    plt.plot(epochs, metric_value_1, 'blue', label = metric_name_1)\n",
        "    plt.plot(epochs, metric_value_2, 'red', label = metric_name_2)\n",
        "\n",
        "    # Add title to the plot.\n",
        "    plt.title(str(plot_name))\n",
        "\n",
        "    # Add legend to the plot.\n",
        "    plt.legend()"
      ]
    },
    {
      "cell_type": "code",
      "execution_count": 20,
      "metadata": {
        "id": "18RtBjI9I5lE",
        "colab": {
          "base_uri": "https://localhost:8080/",
          "height": 281
        },
        "outputId": "f29f2057-86b2-4f54-c448-b5ef9389d706"
      },
      "outputs": [
        {
          "output_type": "display_data",
          "data": {
            "text/plain": [
              "<Figure size 432x288 with 1 Axes>"
            ],
            "image/png": "[encoded data removed]"
          },
          "metadata": {
            "needs_background": "light"
          }
        }
      ],
      "source": [
        "plot_metric(convlstm_model_training_history, 'loss', 'val_loss', 'Total Loss vs Total Validation Loss')"
      ]
    },
    {
      "cell_type": "code",
      "execution_count": 21,
      "metadata": {
        "id": "02amk7TXI_OS",
        "colab": {
          "base_uri": "https://localhost:8080/",
          "height": 281
        },
        "outputId": "12a33e72-18c5-4982-a5a8-4b0748aa5e39"
      },
      "outputs": [
        {
          "output_type": "display_data",
          "data": {
            "text/plain": [
              "<Figure size 432x288 with 1 Axes>"
            ],
            "image/png": "[encoded data removed]"
          },
          "metadata": {
            "needs_background": "light"
          }
        }
      ],
      "source": [
        "plot_metric(convlstm_model_training_history, 'accuracy', 'val_accuracy', 'Total Accuracy vs Total Validation Accuracy') "
      ]
    }
  ],
  "metadata": {
    "accelerator": "GPU",
    "colab": {
      "collapsed_sections": [],
      "machine_shape": "hm",
      "name": "2D_CNN+LSTM (random split).ipynb",
      "provenance": [],
      "background_execution": "on",
      "authorship_tag": "ABX9TyNr5MBKfvciSofWXJ9fYjJO",
      "include_colab_link": true
    },
    "kernelspec": {
      "display_name": "Python 3",
      "name": "python3"
    },
    "language_info": {
      "name": "python"
    }
  },
  "nbformat": 4,
  "nbformat_minor": 0
}