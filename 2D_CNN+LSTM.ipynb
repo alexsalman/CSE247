{
  "cells": [
    {
      "cell_type": "markdown",
      "metadata": {
        "id": "view-in-github",
        "colab_type": "text"
      },
      "source": [
        "<a href=\"https://colab.research.google.com/github/alexsalman/CSE247/blob/main/2D_CNN%2BLSTM.ipynb\" target=\"_parent\"><img src=\"https://colab.research.google.com/assets/colab-badge.svg\" alt=\"Open In Colab\"/></a>"
      ]
    },
    {
      "cell_type": "markdown",
      "metadata": {
        "id": "Fk8TLrPiv-ab"
      },
      "source": [
        "####**Convolutional Neural Network + Long Short Term Memory**\n",
        "######*I am using a Convolution Neural Network (CNN) + Long Short Term Memory (LSTM) Network to extract general representation while utilizing the Spatial-temporal aspect of the videos.*"
      ]
    },
    {
      "cell_type": "code",
      "execution_count": 1,
      "metadata": {
        "colab": {
          "base_uri": "https://localhost:8080/"
        },
        "id": "M8ibtd5HKtZk",
        "outputId": "159358d3-4f56-41ef-b4bd-d7d26c8274dd"
      },
      "outputs": [
        {
          "output_type": "stream",
          "name": "stdout",
          "text": [
            "2.8.0\n"
          ]
        }
      ],
      "source": [
        "# required libraries\n",
        "import os\n",
        "import cv2\n",
        "import math\n",
        "import random\n",
        "import numpy as np\n",
        "import datetime as dt\n",
        "from collections import deque\n",
        "import matplotlib.pyplot as plt\n",
        "from google.colab import drive\n",
        "from sklearn.model_selection import train_test_split\n",
        "import tensorflow as tf\n",
        "from tensorflow import keras\n",
        "from keras.models import Sequential\n",
        "from keras.layers import Dense, Flatten, Conv3D, MaxPooling3D, Dropout, BatchNormalization, ConvLSTM2D\n",
        "from keras.layers import Reshape, Conv2D, TimeDistributed, MaxPooling2D, Activation, GlobalAveragePooling2D\n",
        "from keras.layers.recurrent import LSTM\n",
        "from PIL import Image\n",
        "%matplotlib inline\n",
        "print(tf.version.VERSION)\n",
        "# https://bleedai.com/human-activity-recognition-using-tensorflow-cnn-lstm/"
      ]
    },
    {
      "cell_type": "code",
      "execution_count": 2,
      "metadata": {
        "id": "iffdFOf1CEAN"
      },
      "outputs": [],
      "source": [
        "# set Numpy, Python, and Tensorflow seeds to get consistent results on every execution\n",
        "seed_constant = 27\n",
        "np.random.seed(seed_constant)\n",
        "random.seed(seed_constant)\n",
        "tf.random.set_seed(seed_constant)"
      ]
    },
    {
      "cell_type": "code",
      "execution_count": 3,
      "metadata": {
        "colab": {
          "base_uri": "https://localhost:8080/",
          "height": 53
        },
        "id": "mcLh22LiOHyn",
        "outputId": "c0532d6c-57bc-46e1-e963-771a0ff908bc"
      },
      "outputs": [
        {
          "output_type": "stream",
          "name": "stdout",
          "text": [
            "Mounted at /content/gdrive/\n"
          ]
        },
        {
          "output_type": "execute_result",
          "data": {
            "text/plain": [
              "'/content/gdrive/My Drive/247'"
            ],
            "application/vnd.google.colaboratory.intrinsic+json": {
              "type": "string"
            }
          },
          "metadata": {},
          "execution_count": 3
        }
      ],
      "source": [
        "# mount dataset from google drive\n",
        "drive.mount('/content/gdrive/', force_remount=True)\n",
        "gdrive_path = '/content/gdrive' + '/My Drive/247/'\n",
        "os.chdir(gdrive_path)\n",
        "os.getcwd()"
      ]
    },
    {
      "cell_type": "code",
      "execution_count": 4,
      "metadata": {
        "id": "oeDK8SzumZ1Q"
      },
      "outputs": [],
      "source": [
        "# frame dimention\n",
        "IMAGE_HEIGHT, IMAGE_WIDTH = 128, 128\n",
        "# frame number for each video (depth)\n",
        "SEQUENCE_LENGTH = 16\n",
        "# video dir path\n",
        "DATASET_DIR = gdrive_path + 'Cropped_videos'\n",
        "# labels of classes\n",
        "CLASSES_LIST = ['hemostasis', 'inflammatory', 'proliferative', 'maturation']"
      ]
    },
    {
      "cell_type": "code",
      "execution_count": 5,
      "metadata": {
        "id": "3mFB5qD6b3Kd"
      },
      "outputs": [],
      "source": [
        "# image cropping\n",
        "def crop_center_square(frame):\n",
        "    y, x = frame.shape[0:2]\n",
        "    min_dim = min(y, x)\n",
        "    start_x = (x // 2) - (min_dim // 2)\n",
        "    start_y = (y // 2) - (min_dim // 2)\n",
        "    return frame[start_y:start_y+min_dim,start_x:start_x+min_dim]"
      ]
    },
    {
      "cell_type": "code",
      "execution_count": 6,
      "metadata": {
        "id": "sqeexMUjaLzJ"
      },
      "outputs": [],
      "source": [
        "# https://medium.com/analytics-vidhya/video-preprocessor-and-augmentation-for-deep-learning-tasks-12dd3fcce868\n",
        "def load_video(path, resize=(128, 128)):\n",
        "    video_reader = cv2.VideoCapture(path)\n",
        "    frames = []\n",
        "    try:\n",
        "        while True:\n",
        "            ret, frame = video_reader.read()\n",
        "            if not ret:\n",
        "                  break\n",
        "            frame = crop_center_square(frame)\n",
        "            frame = cv2.resize(frame, resize)\n",
        "            frame = frame[:, :, [2, 1, 0]]\n",
        "            frames.append(frame)\n",
        "    finally:\n",
        "        video_reader.release()\n",
        "    return np.array(frames) / 255.0"
      ]
    },
    {
      "cell_type": "code",
      "execution_count": 7,
      "metadata": {
        "id": "ljUWHW6Jqzu-"
      },
      "outputs": [],
      "source": [
        "def create_dataset(state):\n",
        "    # Declared Empty Lists to store the features, labels and video file path values.\n",
        "    features = []\n",
        "    labels = []\n",
        "    video_files_paths = []\n",
        "    # Iterating through all the classes mentioned in the classes list\n",
        "    for class_index, class_name in enumerate(CLASSES_LIST):\n",
        "        # Display the name of the class whose data is being extracted.\n",
        "        print(f'Extracting Data of Class: {class_name} {state}')\n",
        "        # Get the list of video files present in the specific class name directory.\n",
        "        files_list = os.listdir(os.path.join(DATASET_DIR, class_name))\n",
        "        # Iterate through all the files present in the files list.\n",
        "        for file_name in files_list:\n",
        "            # Get the complete video path.\n",
        "            video_file_path = os.path.join(DATASET_DIR, class_name, file_name)\n",
        "            # create testing data\n",
        "            if state == 'test':\n",
        "                # get the mouse number\n",
        "                mouse_number = int(video_file_path.split(' ')[2].split('_')[1].split('-')[1])\n",
        "                # get the mouse side (L or R)\n",
        "                mouse_side = video_file_path.split(' ')[2].split('_')[1].split('-')[2]\n",
        "                if mouse_number == 4 and mouse_side == 'L':\n",
        "                    frames = load_video(video_file_path)\n",
        "                    features.append(frames)\n",
        "                    labels.append(class_index)\n",
        "                    video_files_paths.append(video_file_path)\n",
        "            # create validation data\n",
        "            elif state == 'valid':\n",
        "                # get the mouse number\n",
        "                mouse_number = int(video_file_path.split(' ')[2].split('_')[1].split('-')[1])\n",
        "                # get the mouse side (L or R)\n",
        "                mouse_side = video_file_path.split(' ')[2].split('_')[1].split('-')[2]\n",
        "                if mouse_number == 4 and mouse_side == 'R':\n",
        "                    frames = load_video(video_file_path)\n",
        "                    features.append(frames)\n",
        "                    labels.append(class_index)\n",
        "                    video_files_paths.append(video_file_path)\n",
        "            # create training data\n",
        "            else:\n",
        "                # get the mouse number\n",
        "                mouse_number = int(video_file_path.split(' ')[2].split('_')[1].split('-')[1])\n",
        "                if mouse_number != 4:\n",
        "                    frames = load_video(video_file_path)\n",
        "                    features.append(frames)\n",
        "                    labels.append(class_index)\n",
        "                    video_files_paths.append(video_file_path)\n",
        "    # Converting the list to numpy arrays\n",
        "    features = np.asarray(features)\n",
        "    # print(features)\n",
        "    labels = np.array(labels)\n",
        "    # Return the frames, class index, and video file path.\n",
        "    return features, labels, video_files_paths"
      ]
    },
    {
      "cell_type": "code",
      "execution_count": 8,
      "metadata": {
        "colab": {
          "base_uri": "https://localhost:8080/"
        },
        "id": "a8rpanz9rASe",
        "outputId": "b3b4f202-512f-46f1-e1c3-c9457cee939e"
      },
      "outputs": [
        {
          "output_type": "stream",
          "name": "stdout",
          "text": [
            "Extracting Data of Class: hemostasis train\n",
            "Extracting Data of Class: inflammatory train\n",
            "Extracting Data of Class: proliferative train\n",
            "Extracting Data of Class: maturation train\n",
            "Extracting Data of Class: hemostasis test\n",
            "Extracting Data of Class: inflammatory test\n",
            "Extracting Data of Class: proliferative test\n",
            "Extracting Data of Class: maturation test\n",
            "Extracting Data of Class: hemostasis valid\n",
            "Extracting Data of Class: inflammatory valid\n",
            "Extracting Data of Class: proliferative valid\n",
            "Extracting Data of Class: maturation valid\n"
          ]
        }
      ],
      "source": [
        "# 6 mice for training, 2 mice for test and validation (one wound on each mice for test one for validation)\n",
        "features_train, labels_train, video_files_paths_train = create_dataset('train')\n",
        "features_test, labels_test, video_files_paths_test = create_dataset('test')\n",
        "features_valid, labels_valid, video_files_paths_valid = create_dataset('valid')"
      ]
    },
    {
      "cell_type": "code",
      "execution_count": 9,
      "metadata": {
        "id": "dtJkK4qTAulC"
      },
      "outputs": [],
      "source": [
        "# one_hot_encoded_labels\n",
        "labels_train = keras.utils.to_categorical(labels_train)\n",
        "labels_test = keras.utils.to_categorical(labels_test)\n",
        "labels_valid = keras.utils.to_categorical(labels_valid)"
      ]
    },
    {
      "cell_type": "code",
      "execution_count": 26,
      "metadata": {
        "id": "Bi-NDol3DHRV"
      },
      "outputs": [],
      "source": [
        "def create_convlstm_model():\n",
        "    model = Sequential()\n",
        "    # after having Conv2D...\n",
        "    model.add(\n",
        "        TimeDistributed(\n",
        "            Conv2D(16, (3,3), activation='relu'), \n",
        "            input_shape=(16, 128, 128, 3) \n",
        "        )\n",
        "    )\n",
        "    model.add(\n",
        "        TimeDistributed(\n",
        "            Conv2D(16, (3,3), activation='relu')\n",
        "        )\n",
        "    )\n",
        "    model.add(\n",
        "        TimeDistributed(\n",
        "            MaxPooling2D((2,2), strides=(2,2))\n",
        "        )\n",
        "    )\n",
        "    model.add(\n",
        "        TimeDistributed(\n",
        "            Conv2D(32, (3,3), activation='relu'), \n",
        "            input_shape=(16, 128, 128, 3) \n",
        "        )\n",
        "    )\n",
        "    model.add(\n",
        "        TimeDistributed(\n",
        "            Conv2D(32, (3,3), activation='relu')\n",
        "        )\n",
        "    )\n",
        "    model.add(\n",
        "        TimeDistributed(\n",
        "            MaxPooling2D((2,2), strides=(2,2))\n",
        "        )\n",
        "    )\n",
        "    # We need to have only one dimension per output\n",
        "    # to insert them to the LSTM layer - Flatten or use Pooling\n",
        "    model.add(\n",
        "        TimeDistributed(\n",
        "             GlobalAveragePooling2D() # instead of Flatten()\n",
        "        )\n",
        "    )\n",
        "    # previous layer gives 5 outputs, Keras will make the job\n",
        "    # to configure LSTM inputs shape (5, ...)\n",
        "    model.add(\n",
        "        LSTM(128, activation='relu', return_sequences=False)\n",
        "    )\n",
        "    model.add(Dense(128, activation='relu'))\n",
        "    model.add(Dropout(0.2))\n",
        "    model.add(Dense(len(CLASSES_LIST), activation='sigmoid'))\n",
        "    model.summary(line_length = 100)\n",
        "    return model"
      ]
    },
    {
      "cell_type": "code",
      "execution_count": 27,
      "metadata": {
        "colab": {
          "base_uri": "https://localhost:8080/"
        },
        "id": "FbjNYI-0DY_v",
        "outputId": "5dc80978-90b2-4db4-e798-48e83058599e"
      },
      "outputs": [
        {
          "output_type": "stream",
          "name": "stdout",
          "text": [
            "Model: \"sequential_7\"\n",
            "____________________________________________________________________________________________________\n",
            " Layer (type)                                Output Shape                            Param #        \n",
            "====================================================================================================\n",
            " time_distributed_49 (TimeDistributed)       (None, 16, 126, 126, 16)                448            \n",
            "                                                                                                    \n",
            " time_distributed_50 (TimeDistributed)       (None, 16, 124, 124, 16)                2320           \n",
            "                                                                                                    \n",
            " time_distributed_51 (TimeDistributed)       (None, 16, 62, 62, 16)                  0              \n",
            "                                                                                                    \n",
            " time_distributed_52 (TimeDistributed)       (None, 16, 60, 60, 32)                  4640           \n",
            "                                                                                                    \n",
            " time_distributed_53 (TimeDistributed)       (None, 16, 58, 58, 32)                  9248           \n",
            "                                                                                                    \n",
            " time_distributed_54 (TimeDistributed)       (None, 16, 29, 29, 32)                  0              \n",
            "                                                                                                    \n",
            " time_distributed_55 (TimeDistributed)       (None, 16, 32)                          0              \n",
            "                                                                                                    \n",
            " lstm_7 (LSTM)                               (None, 128)                             82432          \n",
            "                                                                                                    \n",
            " dense_14 (Dense)                            (None, 128)                             16512          \n",
            "                                                                                                    \n",
            " dropout_7 (Dropout)                         (None, 128)                             0              \n",
            "                                                                                                    \n",
            " dense_15 (Dense)                            (None, 4)                               516            \n",
            "                                                                                                    \n",
            "====================================================================================================\n",
            "Total params: 116,116\n",
            "Trainable params: 116,116\n",
            "Non-trainable params: 0\n",
            "____________________________________________________________________________________________________\n",
            "Model Created Successfully!\n"
          ]
        }
      ],
      "source": [
        "# Construct the required convlstm model.\n",
        "convlstm_model = create_convlstm_model()\n",
        " \n",
        "# Display the success message. \n",
        "print(\"Model Created Successfully!\")"
      ]
    },
    {
      "cell_type": "code",
      "source": [
        "# keras.utils.plot_model(convlstm_model, to_file = 'convlstm_model_structure_plot.png', show_shapes = True, show_layer_names = True)"
      ],
      "metadata": {
        "id": "SCB3R7so-wHz"
      },
      "execution_count": null,
      "outputs": []
    },
    {
      "cell_type": "code",
      "execution_count": null,
      "metadata": {
        "id": "nMYwQOwyF3bd"
      },
      "outputs": [],
      "source": [
        "# keras.utils.plot_model(convlstm_model,\n",
        "#                          to_file = 'convlstm_model_structure_plot.png',\n",
        "#                          show_shapes = True,\n",
        "#                          show_layer_names = True)"
      ]
    },
    {
      "cell_type": "code",
      "execution_count": 28,
      "metadata": {
        "colab": {
          "base_uri": "https://localhost:8080/"
        },
        "id": "vYC_6H0uGqW9",
        "outputId": "a34ee4f7-38b8-4cc8-f2ed-86bef13b362f"
      },
      "outputs": [
        {
          "output_type": "stream",
          "name": "stdout",
          "text": [
            "Epoch 1/50\n",
            "231/231 [==============================] - 29s 110ms/step - loss: 1.0018 - accuracy: 0.5130 - val_loss: 0.8446 - val_accuracy: 0.5993\n",
            "Epoch 2/50\n",
            "231/231 [==============================] - 24s 103ms/step - loss: 0.7656 - accuracy: 0.6361 - val_loss: 0.7902 - val_accuracy: 0.6029\n",
            "Epoch 3/50\n",
            "231/231 [==============================] - 24s 103ms/step - loss: 0.6785 - accuracy: 0.6603 - val_loss: 0.9062 - val_accuracy: 0.6029\n",
            "Epoch 4/50\n",
            "231/231 [==============================] - 24s 103ms/step - loss: 0.6668 - accuracy: 0.6720 - val_loss: 0.8260 - val_accuracy: 0.6029\n",
            "Epoch 5/50\n",
            "231/231 [==============================] - 24s 103ms/step - loss: 0.6435 - accuracy: 0.6869 - val_loss: 0.8853 - val_accuracy: 0.6176\n",
            "Epoch 6/50\n",
            "231/231 [==============================] - 24s 102ms/step - loss: 0.5873 - accuracy: 0.7296 - val_loss: 0.8654 - val_accuracy: 0.6066\n",
            "Epoch 7/50\n",
            "231/231 [==============================] - 24s 102ms/step - loss: 0.6128 - accuracy: 0.7314 - val_loss: 0.8026 - val_accuracy: 0.6103\n",
            "Epoch 8/50\n",
            "231/231 [==============================] - 24s 103ms/step - loss: 0.5772 - accuracy: 0.7500 - val_loss: 0.8408 - val_accuracy: 0.6324\n",
            "Epoch 9/50\n",
            "231/231 [==============================] - 24s 103ms/step - loss: 0.5814 - accuracy: 0.7327 - val_loss: 0.8207 - val_accuracy: 0.6471\n",
            "Epoch 10/50\n",
            "231/231 [==============================] - 24s 103ms/step - loss: 0.5165 - accuracy: 0.7710 - val_loss: 0.6369 - val_accuracy: 0.7757\n",
            "Epoch 11/50\n",
            "231/231 [==============================] - 24s 103ms/step - loss: 0.5057 - accuracy: 0.7828 - val_loss: 0.8150 - val_accuracy: 0.6434\n",
            "Epoch 12/50\n",
            "231/231 [==============================] - 24s 103ms/step - loss: 0.4416 - accuracy: 0.8082 - val_loss: 0.6011 - val_accuracy: 0.7390\n",
            "Epoch 13/50\n",
            "231/231 [==============================] - 24s 103ms/step - loss: 0.3886 - accuracy: 0.8261 - val_loss: 0.6473 - val_accuracy: 0.7390\n",
            "Epoch 14/50\n",
            "231/231 [==============================] - 24s 103ms/step - loss: 0.5026 - accuracy: 0.7828 - val_loss: 0.7292 - val_accuracy: 0.7096\n",
            "Epoch 15/50\n",
            "231/231 [==============================] - 24s 102ms/step - loss: 0.4177 - accuracy: 0.8175 - val_loss: 0.7168 - val_accuracy: 0.7390\n",
            "Epoch 16/50\n",
            "231/231 [==============================] - 24s 103ms/step - loss: 0.3724 - accuracy: 0.8329 - val_loss: 0.6500 - val_accuracy: 0.7132\n",
            "Epoch 17/50\n",
            "231/231 [==============================] - 24s 102ms/step - loss: 0.3207 - accuracy: 0.8651 - val_loss: 0.8591 - val_accuracy: 0.7426\n",
            "Epoch 18/50\n",
            "231/231 [==============================] - 24s 103ms/step - loss: 0.3445 - accuracy: 0.8540 - val_loss: 0.9573 - val_accuracy: 0.7279\n",
            "Epoch 19/50\n",
            "231/231 [==============================] - 24s 103ms/step - loss: 0.3241 - accuracy: 0.8608 - val_loss: 0.7733 - val_accuracy: 0.7904\n",
            "Epoch 20/50\n",
            "231/231 [==============================] - 24s 102ms/step - loss: 0.2924 - accuracy: 0.8812 - val_loss: 0.6595 - val_accuracy: 0.7868\n",
            "Epoch 21/50\n",
            "231/231 [==============================] - 24s 102ms/step - loss: 0.3094 - accuracy: 0.8651 - val_loss: 0.6492 - val_accuracy: 0.8088\n",
            "Epoch 22/50\n",
            "231/231 [==============================] - 24s 103ms/step - loss: 0.2648 - accuracy: 0.8843 - val_loss: 0.7371 - val_accuracy: 0.7941\n"
          ]
        }
      ],
      "source": [
        "# Create an Instance of Early Stopping Callback\n",
        "early_stopping_callback = keras.callbacks.EarlyStopping(monitor = 'val_loss',\n",
        "                                                        patience = 10,\n",
        "                                                        mode = 'min',\n",
        "                                                        restore_best_weights = True)\n",
        "# Compile the model and specify loss function, optimizer and metrics values to the model\n",
        "convlstm_model.compile(loss = 'categorical_crossentropy',\n",
        "                       optimizer = 'Adam',\n",
        "                       metrics = [\"accuracy\"])\n",
        "# Start training the model.\n",
        "convlstm_model_training_history = convlstm_model.fit(x = features_train,\n",
        "                                                     y = labels_train,\n",
        "                                                     epochs = 50,\n",
        "                                                     batch_size = 7,\n",
        "                                                     shuffle = True,\n",
        "                                                     validation_data = (features_valid, labels_valid),\n",
        "                                                     callbacks = [early_stopping_callback])"
      ]
    },
    {
      "cell_type": "code",
      "execution_count": 29,
      "metadata": {
        "id": "LcpKhGqvIenv",
        "colab": {
          "base_uri": "https://localhost:8080/"
        },
        "outputId": "177ac91c-ebec-4dba-a123-eaba97d5f09f"
      },
      "outputs": [
        {
          "output_type": "stream",
          "name": "stdout",
          "text": [
            "9/9 [==============================] - 2s 137ms/step - loss: 0.8060 - accuracy: 0.7978\n"
          ]
        }
      ],
      "source": [
        "model_evaluation_history = convlstm_model.evaluate(features_test, labels_test)"
      ]
    },
    {
      "cell_type": "code",
      "execution_count": 30,
      "metadata": {
        "id": "qsFw5KIzIum9"
      },
      "outputs": [],
      "source": [
        "# Get the loss and accuracy from model_evaluation_history.\n",
        "model_evaluation_loss, model_evaluation_accuracy = model_evaluation_history\n",
        " \n",
        "# Define the string date format.\n",
        "# Get the current Date and Time in a DateTime Object.\n",
        "# Convert the DateTime object to string according to the style mentioned in date_time_format string.\n",
        "date_time_format = '%Y_%m_%d__%H_%M_%S'\n",
        "current_date_time_dt = dt.datetime.now()\n",
        "current_date_time_string = dt.datetime.strftime(current_date_time_dt, date_time_format)\n",
        " \n",
        "# Define a useful name for our model to make it easy for us while navigating through multiple saved models.\n",
        "model_file_name = f'convlstm_model___Date_Time_{current_date_time_string}___Loss_{model_evaluation_loss}___Accuracy_{model_evaluation_accuracy}.h5'\n",
        " \n",
        "# Change dir\n",
        "gdrive_path = '/content/gdrive' + '/My Drive/247/Saved_models/'\n",
        "os.chdir(gdrive_path)\n",
        "# Create a floder for the model files\n",
        "!mkdir -p convlstm_{current_date_time_string}\n",
        "# Save your Model.\n",
        "convlstm_model.save('convlstm_' + str(current_date_time_string) + '/' + model_file_name)\n",
        "# Save model weights\n",
        "convlstm_model.save_weights('convlstm_' + str(current_date_time_string) + '/' + 'weights')"
      ]
    },
    {
      "cell_type": "code",
      "execution_count": 31,
      "metadata": {
        "id": "Z0eAobhSIz_P"
      },
      "outputs": [],
      "source": [
        "def plot_metric(model_training_history, metric_name_1, metric_name_2, plot_name):\n",
        "    '''\n",
        "    This function will plot the metrics passed to it in a graph.\n",
        "    Args:\n",
        "        model_training_history: A history object containing a record of training and validation \n",
        "                                loss values and metrics values at successive epochs\n",
        "        metric_name_1:          The name of the first metric that needs to be plotted in the graph.\n",
        "        metric_name_2:          The name of the second metric that needs to be plotted in the graph.\n",
        "        plot_name:              The title of the graph.\n",
        "    '''\n",
        "    \n",
        "    # Get metric values using metric names as identifiers.\n",
        "    metric_value_1 = model_training_history.history[metric_name_1]\n",
        "    metric_value_2 = model_training_history.history[metric_name_2]\n",
        "    \n",
        "    # Construct a range object which will be used as x-axis (horizontal plane) of the graph.\n",
        "    epochs = range(len(metric_value_1))\n",
        "\n",
        "    # Plot the Graph.\n",
        "    plt.plot(epochs, metric_value_1, 'blue', label = metric_name_1)\n",
        "    plt.plot(epochs, metric_value_2, 'red', label = metric_name_2)\n",
        "\n",
        "    # Add title to the plot.\n",
        "    plt.title(str(plot_name))\n",
        "\n",
        "    # Add legend to the plot.\n",
        "    plt.legend()"
      ]
    },
    {
      "cell_type": "code",
      "execution_count": 32,
      "metadata": {
        "id": "18RtBjI9I5lE",
        "colab": {
          "base_uri": "https://localhost:8080/",
          "height": 281
        },
        "outputId": "71b04201-9b13-443d-be92-620cfab5fca5"
      },
      "outputs": [
        {
          "output_type": "display_data",
          "data": {
            "text/plain": [
              "<Figure size 432x288 with 1 Axes>"
            ],
            "image/png": "[encoded data removed]"
          },
          "metadata": {
            "needs_background": "light"
          }
        }
      ],
      "source": [
        "plot_metric(convlstm_model_training_history, 'loss', 'val_loss', 'Total Loss vs Total Validation Loss')"
      ]
    },
    {
      "cell_type": "code",
      "execution_count": 33,
      "metadata": {
        "id": "02amk7TXI_OS",
        "colab": {
          "base_uri": "https://localhost:8080/",
          "height": 281
        },
        "outputId": "a963be5a-b81d-4ace-c282-ff92a2d5e8e5"
      },
      "outputs": [
        {
          "output_type": "display_data",
          "data": {
            "text/plain": [
              "<Figure size 432x288 with 1 Axes>"
            ],
            "image/png": "[encoded data removed]"
          },
          "metadata": {
            "needs_background": "light"
          }
        }
      ],
      "source": [
        "plot_metric(convlstm_model_training_history, 'accuracy', 'val_accuracy', 'Total Accuracy vs Total Validation Accuracy') "
      ]
    }
  ],
  "metadata": {
    "accelerator": "GPU",
    "colab": {
      "collapsed_sections": [],
      "machine_shape": "hm",
      "name": "2D_CNN+LSTM.ipynb",
      "provenance": [],
      "background_execution": "on",
      "authorship_tag": "ABX9TyMNi6abJcPTbaZYPmj9PxPN",
      "include_colab_link": true
    },
    "kernelspec": {
      "display_name": "Python 3",
      "name": "python3"
    },
    "language_info": {
      "name": "python"
    }
  },
  "nbformat": 4,
  "nbformat_minor": 0
}