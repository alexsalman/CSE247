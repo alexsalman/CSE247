{
  "cells": [
    {
      "cell_type": "markdown",
      "metadata": {
        "id": "view-in-github",
        "colab_type": "text"
      },
      "source": [
        "<a href=\"https://colab.research.google.com/github/alexsalman/CSE247/blob/main/3D_CNN.ipynb\" target=\"_parent\"><img src=\"https://colab.research.google.com/assets/colab-badge.svg\" alt=\"Open In Colab\"/></a>"
      ]
    },
    {
      "cell_type": "markdown",
      "metadata": {
        "id": "Kk7I8NauauE3"
      },
      "source": [
        "####**3D Convolutional Neural Network**\n",
        "######*I am using 3D Convolutional Neural Network to extract the temporal and spatial information which are merged slowly throughout the whole network.*"
      ]
    },
    {
      "cell_type": "code",
      "execution_count": 1,
      "metadata": {
        "colab": {
          "base_uri": "https://localhost:8080/"
        },
        "id": "M8ibtd5HKtZk",
        "outputId": "39944e6c-5a46-4b6b-a04a-5d1878c77464"
      },
      "outputs": [
        {
          "output_type": "stream",
          "name": "stdout",
          "text": [
            "2.8.0\n"
          ]
        }
      ],
      "source": [
        "# required libraries\n",
        "import os\n",
        "import cv2\n",
        "import math\n",
        "import random\n",
        "import numpy as np\n",
        "import datetime as dt\n",
        "from collections import deque\n",
        "import matplotlib.pyplot as plt\n",
        "from google.colab import drive\n",
        "from sklearn.model_selection import train_test_split\n",
        "import tensorflow as tf\n",
        "from tensorflow import keras\n",
        "from keras.models import Sequential\n",
        "from keras.layers import Dense, Flatten, Conv3D, MaxPooling3D, Dropout, BatchNormalization, GlobalAveragePooling3D\n",
        "from keras import regularizers\n",
        "from PIL import Image\n",
        "%matplotlib inline\n",
        "print(tf.version.VERSION)\n",
        "# https://bleedai.com/human-activity-recognition-using-tensorflow-cnn-lstm/"
      ]
    },
    {
      "cell_type": "code",
      "execution_count": 2,
      "metadata": {
        "id": "iffdFOf1CEAN"
      },
      "outputs": [],
      "source": [
        "# set Numpy, Python, and Tensorflow seeds to get consistent results on every execution\n",
        "seed_constant = 27\n",
        "np.random.seed(seed_constant)\n",
        "random.seed(seed_constant)\n",
        "tf.random.set_seed(seed_constant)"
      ]
    },
    {
      "cell_type": "code",
      "execution_count": 3,
      "metadata": {
        "colab": {
          "base_uri": "https://localhost:8080/",
          "height": 53
        },
        "id": "mcLh22LiOHyn",
        "outputId": "539dcba2-7fed-4112-a06d-97d11abcb513"
      },
      "outputs": [
        {
          "output_type": "stream",
          "name": "stdout",
          "text": [
            "Mounted at /content/gdrive/\n"
          ]
        },
        {
          "output_type": "execute_result",
          "data": {
            "text/plain": [
              "'/content/gdrive/My Drive/247'"
            ],
            "application/vnd.google.colaboratory.intrinsic+json": {
              "type": "string"
            }
          },
          "metadata": {},
          "execution_count": 3
        }
      ],
      "source": [
        "# mount dataset from google drive\n",
        "drive.mount('/content/gdrive/', force_remount=True)\n",
        "gdrive_path = '/content/gdrive' + '/My Drive/247/'\n",
        "os.chdir(gdrive_path)\n",
        "os.getcwd()"
      ]
    },
    {
      "cell_type": "code",
      "execution_count": 4,
      "metadata": {
        "id": "oeDK8SzumZ1Q"
      },
      "outputs": [],
      "source": [
        "# frame dimention\n",
        "IMAGE_HEIGHT, IMAGE_WIDTH = 128, 128\n",
        "# frame number for each video (depth)\n",
        "SEQUENCE_LENGTH = 16\n",
        "# video dir path\n",
        "DATASET_DIR = gdrive_path + 'Cropped_videos'\n",
        "# labels of classes\n",
        "CLASSES_LIST = ['hemostasis', 'inflammatory', 'proliferative', 'maturation']"
      ]
    },
    {
      "cell_type": "code",
      "execution_count": 5,
      "metadata": {
        "id": "HUTeIqzpZc9J"
      },
      "outputs": [],
      "source": [
        "# image cropping\n",
        "def crop_center_square(frame):\n",
        "    y, x = frame.shape[0:2]\n",
        "    min_dim = min(y, x)\n",
        "    start_x = (x // 2) - (min_dim // 2)\n",
        "    start_y = (y // 2) - (min_dim // 2)\n",
        "    return frame[start_y:start_y+min_dim,start_x:start_x+min_dim]"
      ]
    },
    {
      "cell_type": "code",
      "execution_count": 6,
      "metadata": {
        "id": "QRDbHG0TZkYJ"
      },
      "outputs": [],
      "source": [
        "# https://medium.com/analytics-vidhya/video-preprocessor-and-augmentation-for-deep-learning-tasks-12dd3fcce868\n",
        "def load_video(path, resize=(128, 128)):\n",
        "    video_reader = cv2.VideoCapture(path)\n",
        "    frames = []\n",
        "    try:\n",
        "        while True:\n",
        "            ret, frame = video_reader.read()\n",
        "            if not ret:\n",
        "                  break\n",
        "            # frame = crop_center_square(frame)\n",
        "            frame = cv2.resize(frame, resize)\n",
        "            frame = frame[:, :, [2, 1, 0]]\n",
        "            black_frame = frame\n",
        "            frames.append(frame)\n",
        "    finally:\n",
        "        video_reader.release()\n",
        "    return np.array(frames) / 255.0"
      ]
    },
    {
      "cell_type": "code",
      "execution_count": 7,
      "metadata": {
        "id": "ljUWHW6Jqzu-"
      },
      "outputs": [],
      "source": [
        "def create_dataset(state):\n",
        "    # Declared Empty Lists to store the features, labels and video file path values.\n",
        "    features = []\n",
        "    labels = []\n",
        "    video_files_paths = []\n",
        "    # Iterating through all the classes mentioned in the classes list\n",
        "    for class_index, class_name in enumerate(CLASSES_LIST):\n",
        "        # Display the name of the class whose data is being extracted.\n",
        "        print(f'Extracting Data of Class: {class_name} {state}')\n",
        "        # Get the list of video files present in the specific class name directory.\n",
        "        files_list = os.listdir(os.path.join(DATASET_DIR, class_name))\n",
        "        # Iterate through all the files present in the files list.\n",
        "        for file_name in files_list:\n",
        "            # Get the complete video path.\n",
        "            video_file_path = os.path.join(DATASET_DIR, class_name, file_name)\n",
        "            # create testing data\n",
        "            if state == 'test':\n",
        "                # get the mouse number\n",
        "                mouse_number = int(video_file_path.split(' ')[2].split('_')[1].split('-')[1])\n",
        "                # get the mouse side (L or R)\n",
        "                mouse_side = video_file_path.split(' ')[2].split('_')[1].split('-')[2]\n",
        "                if mouse_number == 4 and mouse_side == 'L':\n",
        "                    frames = load_video(video_file_path)\n",
        "                    features.append(frames)\n",
        "                    labels.append(class_index)\n",
        "                    video_files_paths.append(video_file_path)\n",
        "            # create validation data\n",
        "            elif state == 'valid':\n",
        "                # get the mouse number\n",
        "                mouse_number = int(video_file_path.split(' ')[2].split('_')[1].split('-')[1])\n",
        "                # get the mouse side (L or R)\n",
        "                mouse_side = video_file_path.split(' ')[2].split('_')[1].split('-')[2]\n",
        "                if mouse_number == 4 and mouse_side == 'R':\n",
        "                    frames = load_video(video_file_path)\n",
        "                    features.append(frames)\n",
        "                    labels.append(class_index)\n",
        "                    video_files_paths.append(video_file_path)\n",
        "            # create training data\n",
        "            else:\n",
        "                # get the mouse number\n",
        "                mouse_number = int(video_file_path.split(' ')[2].split('_')[1].split('-')[1])\n",
        "                if mouse_number != 4:\n",
        "                    frames = load_video(video_file_path)\n",
        "                    features.append(frames)\n",
        "                    labels.append(class_index)\n",
        "                    video_files_paths.append(video_file_path)\n",
        "    # Converting the list to numpy arrays\n",
        "    features = np.asarray(features)\n",
        "    # print(features)\n",
        "    labels = np.array(labels)\n",
        "    # Return the frames, class index, and video file path.\n",
        "    return features, labels, video_files_paths"
      ]
    },
    {
      "cell_type": "code",
      "execution_count": 8,
      "metadata": {
        "colab": {
          "base_uri": "https://localhost:8080/"
        },
        "id": "a8rpanz9rASe",
        "outputId": "8d37566f-c8cb-40a9-f1dd-5c7b13ac07ff"
      },
      "outputs": [
        {
          "output_type": "stream",
          "name": "stdout",
          "text": [
            "Extracting Data of Class: hemostasis train\n",
            "Extracting Data of Class: inflammatory train\n",
            "Extracting Data of Class: proliferative train\n",
            "Extracting Data of Class: maturation train\n",
            "Extracting Data of Class: hemostasis test\n",
            "Extracting Data of Class: inflammatory test\n",
            "Extracting Data of Class: proliferative test\n",
            "Extracting Data of Class: maturation test\n",
            "Extracting Data of Class: hemostasis valid\n",
            "Extracting Data of Class: inflammatory valid\n",
            "Extracting Data of Class: proliferative valid\n",
            "Extracting Data of Class: maturation valid\n"
          ]
        }
      ],
      "source": [
        "# 6 mice for training, 2 mice for test and validation (one wound on each mice for test one for validation)\n",
        "features_train, labels_train, video_files_paths_train = create_dataset('train')\n",
        "features_test, labels_test, video_files_paths_test = create_dataset('test')\n",
        "features_valid, labels_valid, video_files_paths_valid = create_dataset('valid')"
      ]
    },
    {
      "cell_type": "code",
      "execution_count": 9,
      "metadata": {
        "id": "dtJkK4qTAulC"
      },
      "outputs": [],
      "source": [
        "# one_hot_encoded_labels\n",
        "labels_train = keras.utils.to_categorical(labels_train)\n",
        "labels_test = keras.utils.to_categorical(labels_test)\n",
        "labels_valid = keras.utils.to_categorical(labels_valid)"
      ]
    },
    {
      "cell_type": "code",
      "execution_count": 10,
      "metadata": {
        "id": "N-9ykP4ig7IW"
      },
      "outputs": [],
      "source": [
        "def create_3D_CNN_model():\n",
        "    sample_shape = (16, 128, 128, 3)\n",
        "    model = Sequential()\n",
        "\n",
        "    model.add(Conv3D(32, 3, activation='relu', kernel_initializer='he_uniform', input_shape=sample_shape))\n",
        "    model.add(BatchNormalization())\n",
        "    model.add(MaxPooling3D(2))\n",
        "    model.add(Dropout(0.4))\n",
        "\n",
        "    model.add(Conv3D(32, 3, activation='relu', kernel_initializer='he_uniform'))\n",
        "    model.add(BatchNormalization())\n",
        "    model.add(MaxPooling3D(2))\n",
        "    model.add(Dropout(0.4))\n",
        "\n",
        "    model.add(GlobalAveragePooling3D())\n",
        "\n",
        "    model.add(Dense(32, activation='relu', kernel_initializer='he_uniform'))\n",
        "    model.add(Dropout(0.4))\n",
        "    model.add(Dense(16, activation='relu', kernel_initializer='he_uniform'))\n",
        "    model.add(Dropout(0.6))\n",
        "    # model.add(Dense(8, activation='relu', kernel_initializer='he_uniform'))\n",
        "    # model.add(Dropout(0.3))\n",
        "    # model.add(Dense(8, activation='relu', kernel_initializer='he_uniform'))\n",
        "    # model.add(Dropout(0.3))\n",
        "    model.add(Dense(len(CLASSES_LIST), activation='softmax'))\n",
        "\n",
        "    # Display the models summary.\n",
        "    model.summary(line_length = 125)\n",
        "    # Return the constructed 3D_CNN model.\n",
        "    return model"
      ]
    },
    {
      "cell_type": "code",
      "execution_count": 11,
      "metadata": {
        "colab": {
          "base_uri": "https://localhost:8080/"
        },
        "id": "Z4_GxXZBcHlB",
        "outputId": "418c4c61-dc20-4e0d-f903-561642d044fc"
      },
      "outputs": [
        {
          "output_type": "stream",
          "name": "stdout",
          "text": [
            "Model: \"sequential\"\n",
            "_____________________________________________________________________________________________________________________________\n",
            " Layer (type)                                           Output Shape                                      Param #            \n",
            "=============================================================================================================================\n",
            " conv3d (Conv3D)                                        (None, 14, 126, 126, 32)                          2624               \n",
            "                                                                                                                             \n",
            " batch_normalization (BatchNormalization)               (None, 14, 126, 126, 32)                          128                \n",
            "                                                                                                                             \n",
            " max_pooling3d (MaxPooling3D)                           (None, 7, 63, 63, 32)                             0                  \n",
            "                                                                                                                             \n",
            " dropout (Dropout)                                      (None, 7, 63, 63, 32)                             0                  \n",
            "                                                                                                                             \n",
            " conv3d_1 (Conv3D)                                      (None, 5, 61, 61, 32)                             27680              \n",
            "                                                                                                                             \n",
            " batch_normalization_1 (BatchNormalization)             (None, 5, 61, 61, 32)                             128                \n",
            "                                                                                                                             \n",
            " max_pooling3d_1 (MaxPooling3D)                         (None, 2, 30, 30, 32)                             0                  \n",
            "                                                                                                                             \n",
            " dropout_1 (Dropout)                                    (None, 2, 30, 30, 32)                             0                  \n",
            "                                                                                                                             \n",
            " global_average_pooling3d (GlobalAveragePooling3D)      (None, 32)                                        0                  \n",
            "                                                                                                                             \n",
            " dense (Dense)                                          (None, 32)                                        1056               \n",
            "                                                                                                                             \n",
            " dropout_2 (Dropout)                                    (None, 32)                                        0                  \n",
            "                                                                                                                             \n",
            " dense_1 (Dense)                                        (None, 16)                                        528                \n",
            "                                                                                                                             \n",
            " dropout_3 (Dropout)                                    (None, 16)                                        0                  \n",
            "                                                                                                                             \n",
            " dense_2 (Dense)                                        (None, 4)                                         68                 \n",
            "                                                                                                                             \n",
            "=============================================================================================================================\n",
            "Total params: 32,212\n",
            "Trainable params: 32,084\n",
            "Non-trainable params: 128\n",
            "_____________________________________________________________________________________________________________________________\n",
            "Model Created Successfully!\n"
          ]
        }
      ],
      "source": [
        "# Construct the required convlstm model.\n",
        "model = create_3D_CNN_model()\n",
        " \n",
        "# Display the success message. \n",
        "print(\"Model Created Successfully!\")"
      ]
    },
    {
      "cell_type": "code",
      "execution_count": 12,
      "metadata": {
        "colab": {
          "base_uri": "https://localhost:8080/"
        },
        "id": "MwYEkaYLoyb_",
        "outputId": "5ec714d2-0a28-4523-e938-3dd21375b138"
      },
      "outputs": [
        {
          "output_type": "stream",
          "name": "stdout",
          "text": [
            "Epoch 1/150\n",
            "34/34 [==============================] - 14s 332ms/step - loss: 1.9666 - accuracy: 0.3156 - val_loss: 1.5624 - val_accuracy: 0.1250\n",
            "Epoch 2/150\n",
            "34/34 [==============================] - 10s 296ms/step - loss: 1.3006 - accuracy: 0.4177 - val_loss: 1.3743 - val_accuracy: 0.3824\n",
            "Epoch 3/150\n",
            "34/34 [==============================] - 10s 297ms/step - loss: 1.1898 - accuracy: 0.4722 - val_loss: 1.3511 - val_accuracy: 0.4706\n",
            "Epoch 4/150\n",
            "34/34 [==============================] - 10s 298ms/step - loss: 1.1163 - accuracy: 0.4895 - val_loss: 1.3410 - val_accuracy: 0.5074\n",
            "Epoch 5/150\n",
            "34/34 [==============================] - 10s 297ms/step - loss: 1.0626 - accuracy: 0.4963 - val_loss: 1.2271 - val_accuracy: 0.4890\n",
            "Epoch 6/150\n",
            "34/34 [==============================] - 10s 299ms/step - loss: 1.0223 - accuracy: 0.5111 - val_loss: 1.2035 - val_accuracy: 0.4853\n",
            "Epoch 7/150\n",
            "34/34 [==============================] - 10s 298ms/step - loss: 0.9847 - accuracy: 0.5433 - val_loss: 1.1528 - val_accuracy: 0.5074\n",
            "Epoch 8/150\n",
            "34/34 [==============================] - 10s 299ms/step - loss: 0.9482 - accuracy: 0.5631 - val_loss: 1.0822 - val_accuracy: 0.5699\n",
            "Epoch 9/150\n",
            "34/34 [==============================] - 10s 298ms/step - loss: 0.9021 - accuracy: 0.5829 - val_loss: 1.0402 - val_accuracy: 0.5000\n",
            "Epoch 10/150\n",
            "34/34 [==============================] - 10s 297ms/step - loss: 0.8711 - accuracy: 0.5978 - val_loss: 0.9971 - val_accuracy: 0.5441\n",
            "Epoch 11/150\n",
            "34/34 [==============================] - 10s 297ms/step - loss: 0.8585 - accuracy: 0.5910 - val_loss: 0.9713 - val_accuracy: 0.5404\n",
            "Epoch 12/150\n",
            "34/34 [==============================] - 10s 297ms/step - loss: 0.8403 - accuracy: 0.6120 - val_loss: 0.8979 - val_accuracy: 0.5919\n",
            "Epoch 13/150\n",
            "34/34 [==============================] - 10s 298ms/step - loss: 0.7883 - accuracy: 0.6386 - val_loss: 0.8667 - val_accuracy: 0.6324\n",
            "Epoch 14/150\n",
            "34/34 [==============================] - 10s 297ms/step - loss: 0.8142 - accuracy: 0.6337 - val_loss: 0.8647 - val_accuracy: 0.5882\n",
            "Epoch 15/150\n",
            "34/34 [==============================] - 10s 298ms/step - loss: 0.7719 - accuracy: 0.6559 - val_loss: 0.8527 - val_accuracy: 0.5919\n",
            "Epoch 16/150\n",
            "34/34 [==============================] - 10s 295ms/step - loss: 0.7885 - accuracy: 0.6349 - val_loss: 0.8000 - val_accuracy: 0.6397\n",
            "Epoch 17/150\n",
            "34/34 [==============================] - 10s 299ms/step - loss: 0.7501 - accuracy: 0.6634 - val_loss: 0.7682 - val_accuracy: 0.6471\n",
            "Epoch 18/150\n",
            "34/34 [==============================] - 10s 296ms/step - loss: 0.7311 - accuracy: 0.6590 - val_loss: 0.7424 - val_accuracy: 0.6360\n",
            "Epoch 19/150\n",
            "34/34 [==============================] - 10s 297ms/step - loss: 0.7166 - accuracy: 0.6671 - val_loss: 0.7381 - val_accuracy: 0.6250\n",
            "Epoch 20/150\n",
            "34/34 [==============================] - 10s 296ms/step - loss: 0.7036 - accuracy: 0.6770 - val_loss: 1.5746 - val_accuracy: 0.4632\n",
            "Epoch 21/150\n",
            "34/34 [==============================] - 10s 296ms/step - loss: 0.6917 - accuracy: 0.6819 - val_loss: 0.7635 - val_accuracy: 0.5956\n",
            "Epoch 22/150\n",
            "34/34 [==============================] - 10s 297ms/step - loss: 0.6871 - accuracy: 0.6925 - val_loss: 0.7171 - val_accuracy: 0.6213\n",
            "Epoch 23/150\n",
            "34/34 [==============================] - 10s 297ms/step - loss: 0.6663 - accuracy: 0.6943 - val_loss: 0.6693 - val_accuracy: 0.6471\n",
            "Epoch 24/150\n",
            "34/34 [==============================] - 10s 297ms/step - loss: 0.6270 - accuracy: 0.7153 - val_loss: 0.7485 - val_accuracy: 0.6066\n",
            "Epoch 25/150\n",
            "34/34 [==============================] - 10s 297ms/step - loss: 0.6137 - accuracy: 0.7160 - val_loss: 0.6723 - val_accuracy: 0.6985\n",
            "Epoch 26/150\n",
            "34/34 [==============================] - 10s 298ms/step - loss: 0.6543 - accuracy: 0.6949 - val_loss: 0.6875 - val_accuracy: 0.6434\n",
            "Epoch 27/150\n",
            "34/34 [==============================] - 10s 297ms/step - loss: 0.6204 - accuracy: 0.7290 - val_loss: 0.6732 - val_accuracy: 0.6618\n",
            "Epoch 28/150\n",
            "34/34 [==============================] - 10s 297ms/step - loss: 0.5768 - accuracy: 0.7351 - val_loss: 0.8390 - val_accuracy: 0.5956\n",
            "Epoch 29/150\n",
            "34/34 [==============================] - 10s 296ms/step - loss: 0.6092 - accuracy: 0.7153 - val_loss: 0.6783 - val_accuracy: 0.6765\n",
            "Epoch 30/150\n",
            "34/34 [==============================] - 10s 298ms/step - loss: 0.6120 - accuracy: 0.7178 - val_loss: 0.7370 - val_accuracy: 0.6434\n",
            "Epoch 31/150\n",
            "34/34 [==============================] - 10s 297ms/step - loss: 0.5887 - accuracy: 0.7283 - val_loss: 0.6657 - val_accuracy: 0.6654\n",
            "Epoch 32/150\n",
            "34/34 [==============================] - 10s 297ms/step - loss: 0.5710 - accuracy: 0.7401 - val_loss: 0.7215 - val_accuracy: 0.6176\n",
            "Epoch 33/150\n",
            "34/34 [==============================] - 10s 296ms/step - loss: 0.5641 - accuracy: 0.7469 - val_loss: 0.6398 - val_accuracy: 0.6507\n",
            "Epoch 34/150\n",
            "34/34 [==============================] - 10s 299ms/step - loss: 0.5492 - accuracy: 0.7543 - val_loss: 0.6642 - val_accuracy: 0.7096\n",
            "Epoch 35/150\n",
            "34/34 [==============================] - 10s 297ms/step - loss: 0.6014 - accuracy: 0.7129 - val_loss: 0.6488 - val_accuracy: 0.6875\n",
            "Epoch 36/150\n",
            "34/34 [==============================] - 10s 298ms/step - loss: 0.5517 - accuracy: 0.7500 - val_loss: 0.7088 - val_accuracy: 0.6287\n",
            "Epoch 37/150\n",
            "34/34 [==============================] - 10s 297ms/step - loss: 0.5588 - accuracy: 0.7308 - val_loss: 0.5689 - val_accuracy: 0.7500\n",
            "Epoch 38/150\n",
            "34/34 [==============================] - 10s 296ms/step - loss: 0.5488 - accuracy: 0.7494 - val_loss: 0.6532 - val_accuracy: 0.7169\n",
            "Epoch 39/150\n",
            "34/34 [==============================] - 10s 295ms/step - loss: 0.5650 - accuracy: 0.7339 - val_loss: 0.6530 - val_accuracy: 0.7206\n",
            "Epoch 40/150\n",
            "34/34 [==============================] - 10s 298ms/step - loss: 0.5295 - accuracy: 0.7642 - val_loss: 0.6413 - val_accuracy: 0.7279\n",
            "Epoch 41/150\n",
            "34/34 [==============================] - 10s 297ms/step - loss: 0.5387 - accuracy: 0.7463 - val_loss: 0.5842 - val_accuracy: 0.7426\n",
            "Epoch 42/150\n",
            "34/34 [==============================] - 10s 297ms/step - loss: 0.5196 - accuracy: 0.7593 - val_loss: 0.5813 - val_accuracy: 0.7022\n",
            "Epoch 43/150\n",
            "34/34 [==============================] - 10s 298ms/step - loss: 0.5168 - accuracy: 0.7580 - val_loss: 0.6189 - val_accuracy: 0.6985\n",
            "Epoch 44/150\n",
            "34/34 [==============================] - 10s 297ms/step - loss: 0.5147 - accuracy: 0.7599 - val_loss: 0.6453 - val_accuracy: 0.6949\n",
            "Epoch 45/150\n",
            "34/34 [==============================] - 10s 296ms/step - loss: 0.5226 - accuracy: 0.7574 - val_loss: 0.6048 - val_accuracy: 0.7132\n",
            "Epoch 46/150\n",
            "34/34 [==============================] - 10s 299ms/step - loss: 0.5091 - accuracy: 0.7717 - val_loss: 0.6112 - val_accuracy: 0.7096\n",
            "Epoch 47/150\n",
            "34/34 [==============================] - 10s 296ms/step - loss: 0.4963 - accuracy: 0.7661 - val_loss: 0.6462 - val_accuracy: 0.6691\n",
            "Epoch 48/150\n",
            "34/34 [==============================] - 10s 296ms/step - loss: 0.5057 - accuracy: 0.7766 - val_loss: 0.5535 - val_accuracy: 0.7721\n",
            "Epoch 49/150\n",
            "34/34 [==============================] - 10s 296ms/step - loss: 0.5043 - accuracy: 0.7655 - val_loss: 0.5069 - val_accuracy: 0.7978\n",
            "Epoch 50/150\n",
            "34/34 [==============================] - 10s 298ms/step - loss: 0.4802 - accuracy: 0.7710 - val_loss: 0.5891 - val_accuracy: 0.7353\n",
            "Epoch 51/150\n",
            "34/34 [==============================] - 10s 297ms/step - loss: 0.4944 - accuracy: 0.7865 - val_loss: 0.7030 - val_accuracy: 0.6176\n",
            "Epoch 52/150\n",
            "34/34 [==============================] - 10s 297ms/step - loss: 0.4887 - accuracy: 0.7809 - val_loss: 0.5736 - val_accuracy: 0.7426\n",
            "Epoch 53/150\n",
            "34/34 [==============================] - 10s 298ms/step - loss: 0.4864 - accuracy: 0.7729 - val_loss: 0.6693 - val_accuracy: 0.6691\n",
            "Epoch 54/150\n",
            "34/34 [==============================] - 10s 296ms/step - loss: 0.4996 - accuracy: 0.7766 - val_loss: 0.5851 - val_accuracy: 0.7353\n",
            "Epoch 55/150\n",
            "34/34 [==============================] - 10s 297ms/step - loss: 0.4879 - accuracy: 0.7797 - val_loss: 0.6703 - val_accuracy: 0.7426\n",
            "Epoch 56/150\n",
            "34/34 [==============================] - 10s 296ms/step - loss: 0.4772 - accuracy: 0.7816 - val_loss: 0.5674 - val_accuracy: 0.7500\n",
            "Epoch 57/150\n",
            "34/34 [==============================] - 10s 298ms/step - loss: 0.4754 - accuracy: 0.7859 - val_loss: 0.6293 - val_accuracy: 0.7059\n",
            "Epoch 58/150\n",
            "34/34 [==============================] - 10s 296ms/step - loss: 0.4897 - accuracy: 0.7630 - val_loss: 0.6120 - val_accuracy: 0.7426\n",
            "Epoch 59/150\n",
            "34/34 [==============================] - 10s 297ms/step - loss: 0.4590 - accuracy: 0.7983 - val_loss: 0.6744 - val_accuracy: 0.6654\n",
            "Epoch 60/150\n",
            "34/34 [==============================] - 10s 297ms/step - loss: 0.4658 - accuracy: 0.7933 - val_loss: 0.8335 - val_accuracy: 0.6728\n",
            "Epoch 61/150\n",
            "34/34 [==============================] - 10s 297ms/step - loss: 0.4560 - accuracy: 0.7884 - val_loss: 0.6028 - val_accuracy: 0.7463\n",
            "Epoch 62/150\n",
            "34/34 [==============================] - 10s 296ms/step - loss: 0.4228 - accuracy: 0.8069 - val_loss: 0.5341 - val_accuracy: 0.7463\n",
            "Epoch 63/150\n",
            "34/34 [==============================] - 10s 297ms/step - loss: 0.4410 - accuracy: 0.8026 - val_loss: 0.5726 - val_accuracy: 0.7243\n",
            "Epoch 64/150\n",
            "34/34 [==============================] - 10s 295ms/step - loss: 0.4376 - accuracy: 0.8014 - val_loss: 0.6042 - val_accuracy: 0.7132\n",
            "Epoch 65/150\n",
            "34/34 [==============================] - 10s 299ms/step - loss: 0.4415 - accuracy: 0.7958 - val_loss: 0.6263 - val_accuracy: 0.7353\n",
            "Epoch 66/150\n",
            "34/34 [==============================] - 10s 297ms/step - loss: 0.4512 - accuracy: 0.7958 - val_loss: 0.7166 - val_accuracy: 0.6507\n",
            "Epoch 67/150\n",
            "34/34 [==============================] - 10s 298ms/step - loss: 0.4571 - accuracy: 0.7933 - val_loss: 0.5771 - val_accuracy: 0.7096\n",
            "Epoch 68/150\n",
            "34/34 [==============================] - 10s 297ms/step - loss: 0.4309 - accuracy: 0.7995 - val_loss: 0.5770 - val_accuracy: 0.7426\n",
            "Epoch 69/150\n",
            "34/34 [==============================] - 10s 297ms/step - loss: 0.4415 - accuracy: 0.8020 - val_loss: 0.5113 - val_accuracy: 0.7794\n",
            "Epoch 70/150\n",
            "34/34 [==============================] - 10s 296ms/step - loss: 0.4531 - accuracy: 0.7983 - val_loss: 0.5214 - val_accuracy: 0.7868\n",
            "Epoch 71/150\n",
            "34/34 [==============================] - 10s 296ms/step - loss: 0.4421 - accuracy: 0.7946 - val_loss: 0.5702 - val_accuracy: 0.7500\n",
            "Epoch 72/150\n",
            "34/34 [==============================] - 10s 297ms/step - loss: 0.4581 - accuracy: 0.7983 - val_loss: 0.6175 - val_accuracy: 0.7390\n",
            "Epoch 73/150\n",
            "34/34 [==============================] - 10s 297ms/step - loss: 0.4167 - accuracy: 0.8082 - val_loss: 0.6089 - val_accuracy: 0.7059\n",
            "Epoch 74/150\n",
            "34/34 [==============================] - 10s 298ms/step - loss: 0.3947 - accuracy: 0.8298 - val_loss: 0.5659 - val_accuracy: 0.7721\n",
            "Epoch 75/150\n",
            "34/34 [==============================] - 10s 297ms/step - loss: 0.4202 - accuracy: 0.7983 - val_loss: 0.7038 - val_accuracy: 0.7096\n",
            "Epoch 76/150\n",
            "34/34 [==============================] - 10s 299ms/step - loss: 0.4402 - accuracy: 0.8026 - val_loss: 0.5729 - val_accuracy: 0.7721\n",
            "Epoch 77/150\n",
            "34/34 [==============================] - 10s 296ms/step - loss: 0.4355 - accuracy: 0.7958 - val_loss: 0.8321 - val_accuracy: 0.6324\n",
            "Epoch 78/150\n",
            "34/34 [==============================] - 10s 307ms/step - loss: 0.4134 - accuracy: 0.8119 - val_loss: 0.7075 - val_accuracy: 0.6654\n",
            "Epoch 79/150\n",
            "34/34 [==============================] - 10s 296ms/step - loss: 0.4260 - accuracy: 0.7970 - val_loss: 0.5614 - val_accuracy: 0.7757\n",
            "Epoch 80/150\n",
            "34/34 [==============================] - 10s 297ms/step - loss: 0.4168 - accuracy: 0.8057 - val_loss: 0.5322 - val_accuracy: 0.7794\n",
            "Epoch 81/150\n",
            "34/34 [==============================] - 10s 297ms/step - loss: 0.3935 - accuracy: 0.8088 - val_loss: 0.5495 - val_accuracy: 0.7757\n",
            "Epoch 82/150\n",
            "34/34 [==============================] - 10s 297ms/step - loss: 0.4208 - accuracy: 0.8125 - val_loss: 0.6103 - val_accuracy: 0.6801\n",
            "Epoch 83/150\n",
            "34/34 [==============================] - 10s 298ms/step - loss: 0.4182 - accuracy: 0.8131 - val_loss: 0.5582 - val_accuracy: 0.7721\n",
            "Epoch 84/150\n",
            "34/34 [==============================] - 10s 298ms/step - loss: 0.4118 - accuracy: 0.8156 - val_loss: 0.6370 - val_accuracy: 0.7978\n",
            "Epoch 85/150\n",
            "34/34 [==============================] - 10s 297ms/step - loss: 0.4100 - accuracy: 0.8193 - val_loss: 0.7025 - val_accuracy: 0.7206\n",
            "Epoch 86/150\n",
            "34/34 [==============================] - 10s 299ms/step - loss: 0.4006 - accuracy: 0.8137 - val_loss: 0.6505 - val_accuracy: 0.6838\n",
            "Epoch 87/150\n",
            "34/34 [==============================] - 10s 296ms/step - loss: 0.3975 - accuracy: 0.8162 - val_loss: 0.5770 - val_accuracy: 0.7794\n",
            "Epoch 88/150\n",
            "34/34 [==============================] - 10s 299ms/step - loss: 0.3814 - accuracy: 0.8255 - val_loss: 0.6449 - val_accuracy: 0.7096\n",
            "Epoch 89/150\n",
            "34/34 [==============================] - 10s 295ms/step - loss: 0.3754 - accuracy: 0.8286 - val_loss: 0.6103 - val_accuracy: 0.7537\n",
            "Epoch 90/150\n",
            "34/34 [==============================] - 10s 297ms/step - loss: 0.3970 - accuracy: 0.8168 - val_loss: 0.5261 - val_accuracy: 0.7647\n",
            "Epoch 91/150\n",
            "34/34 [==============================] - 10s 296ms/step - loss: 0.3893 - accuracy: 0.8125 - val_loss: 0.6482 - val_accuracy: 0.7059\n",
            "Epoch 92/150\n",
            "34/34 [==============================] - 10s 297ms/step - loss: 0.3725 - accuracy: 0.8261 - val_loss: 0.6556 - val_accuracy: 0.7684\n",
            "Epoch 93/150\n",
            "34/34 [==============================] - 10s 296ms/step - loss: 0.4060 - accuracy: 0.8106 - val_loss: 0.6203 - val_accuracy: 0.7831\n",
            "Epoch 94/150\n",
            "34/34 [==============================] - 10s 298ms/step - loss: 0.3968 - accuracy: 0.8137 - val_loss: 0.5758 - val_accuracy: 0.8015\n",
            "Epoch 95/150\n",
            "34/34 [==============================] - 10s 298ms/step - loss: 0.3781 - accuracy: 0.8274 - val_loss: 0.5719 - val_accuracy: 0.7574\n",
            "Epoch 96/150\n",
            "34/34 [==============================] - 10s 298ms/step - loss: 0.4032 - accuracy: 0.8150 - val_loss: 0.5581 - val_accuracy: 0.7831\n",
            "Epoch 97/150\n",
            "34/34 [==============================] - 10s 297ms/step - loss: 0.3685 - accuracy: 0.8311 - val_loss: 0.6171 - val_accuracy: 0.7463\n",
            "Epoch 98/150\n",
            "34/34 [==============================] - 10s 298ms/step - loss: 0.3858 - accuracy: 0.8144 - val_loss: 0.8248 - val_accuracy: 0.6875\n",
            "Epoch 99/150\n",
            "34/34 [==============================] - 10s 297ms/step - loss: 0.4043 - accuracy: 0.8230 - val_loss: 0.5740 - val_accuracy: 0.7868\n",
            "Epoch 100/150\n",
            "34/34 [==============================] - 10s 298ms/step - loss: 0.3915 - accuracy: 0.8348 - val_loss: 0.5581 - val_accuracy: 0.7537\n",
            "Epoch 101/150\n",
            "34/34 [==============================] - 10s 297ms/step - loss: 0.3809 - accuracy: 0.8193 - val_loss: 0.6762 - val_accuracy: 0.6875\n",
            "Epoch 102/150\n",
            "34/34 [==============================] - 10s 297ms/step - loss: 0.3744 - accuracy: 0.8286 - val_loss: 0.6131 - val_accuracy: 0.7794\n",
            "Epoch 103/150\n",
            "34/34 [==============================] - 10s 296ms/step - loss: 0.3615 - accuracy: 0.8385 - val_loss: 0.6309 - val_accuracy: 0.7426\n",
            "Epoch 104/150\n",
            "34/34 [==============================] - 10s 299ms/step - loss: 0.3681 - accuracy: 0.8379 - val_loss: 0.5704 - val_accuracy: 0.8051\n",
            "Epoch 105/150\n",
            "34/34 [==============================] - 10s 296ms/step - loss: 0.3763 - accuracy: 0.8187 - val_loss: 0.7436 - val_accuracy: 0.6949\n",
            "Epoch 106/150\n",
            "34/34 [==============================] - 10s 299ms/step - loss: 0.3480 - accuracy: 0.8397 - val_loss: 0.6848 - val_accuracy: 0.7206\n",
            "Epoch 107/150\n",
            "34/34 [==============================] - 10s 297ms/step - loss: 0.3758 - accuracy: 0.8212 - val_loss: 0.8323 - val_accuracy: 0.7096\n",
            "Epoch 108/150\n",
            "34/34 [==============================] - 10s 298ms/step - loss: 0.3659 - accuracy: 0.8391 - val_loss: 0.7337 - val_accuracy: 0.7206\n",
            "Epoch 109/150\n",
            "34/34 [==============================] - 10s 295ms/step - loss: 0.3485 - accuracy: 0.8472 - val_loss: 0.6915 - val_accuracy: 0.7169\n",
            "Epoch 110/150\n",
            "34/34 [==============================] - 10s 297ms/step - loss: 0.3693 - accuracy: 0.8348 - val_loss: 0.5887 - val_accuracy: 0.7831\n",
            "Epoch 111/150\n",
            "34/34 [==============================] - 10s 298ms/step - loss: 0.3610 - accuracy: 0.8335 - val_loss: 0.5620 - val_accuracy: 0.7610\n",
            "Epoch 112/150\n",
            "34/34 [==============================] - 10s 298ms/step - loss: 0.3581 - accuracy: 0.8366 - val_loss: 0.5724 - val_accuracy: 0.7904\n",
            "Epoch 113/150\n",
            "34/34 [==============================] - 10s 299ms/step - loss: 0.3963 - accuracy: 0.8193 - val_loss: 0.8639 - val_accuracy: 0.6912\n",
            "Epoch 114/150\n",
            "34/34 [==============================] - 10s 296ms/step - loss: 0.3616 - accuracy: 0.8261 - val_loss: 0.5257 - val_accuracy: 0.7904\n",
            "Epoch 115/150\n",
            "34/34 [==============================] - 10s 298ms/step - loss: 0.3531 - accuracy: 0.8410 - val_loss: 0.7489 - val_accuracy: 0.7206\n",
            "Epoch 116/150\n",
            "34/34 [==============================] - 10s 296ms/step - loss: 0.3294 - accuracy: 0.8465 - val_loss: 0.6152 - val_accuracy: 0.7721\n",
            "Epoch 117/150\n",
            "34/34 [==============================] - 10s 297ms/step - loss: 0.3537 - accuracy: 0.8428 - val_loss: 0.5976 - val_accuracy: 0.7794\n",
            "Epoch 118/150\n",
            "34/34 [==============================] - 10s 297ms/step - loss: 0.3608 - accuracy: 0.8342 - val_loss: 0.5852 - val_accuracy: 0.8272\n",
            "Epoch 119/150\n",
            "34/34 [==============================] - 10s 296ms/step - loss: 0.3653 - accuracy: 0.8212 - val_loss: 0.9440 - val_accuracy: 0.6581\n",
            "Epoch 120/150\n",
            "34/34 [==============================] - 10s 298ms/step - loss: 0.3433 - accuracy: 0.8360 - val_loss: 0.6899 - val_accuracy: 0.7243\n",
            "Epoch 121/150\n",
            "34/34 [==============================] - 10s 297ms/step - loss: 0.3368 - accuracy: 0.8354 - val_loss: 0.8190 - val_accuracy: 0.6691\n",
            "Epoch 122/150\n",
            "34/34 [==============================] - 10s 297ms/step - loss: 0.3364 - accuracy: 0.8366 - val_loss: 0.5414 - val_accuracy: 0.7941\n",
            "Epoch 123/150\n",
            "34/34 [==============================] - 10s 295ms/step - loss: 0.3323 - accuracy: 0.8410 - val_loss: 0.9795 - val_accuracy: 0.6801\n",
            "Epoch 124/150\n",
            "34/34 [==============================] - 10s 297ms/step - loss: 0.3699 - accuracy: 0.8342 - val_loss: 0.5835 - val_accuracy: 0.7941\n",
            "Epoch 125/150\n",
            "34/34 [==============================] - 10s 297ms/step - loss: 0.3374 - accuracy: 0.8490 - val_loss: 0.6121 - val_accuracy: 0.7721\n",
            "Epoch 126/150\n",
            "34/34 [==============================] - 10s 297ms/step - loss: 0.3375 - accuracy: 0.8416 - val_loss: 0.5437 - val_accuracy: 0.7794\n",
            "Epoch 127/150\n",
            "34/34 [==============================] - 10s 299ms/step - loss: 0.3209 - accuracy: 0.8478 - val_loss: 0.6540 - val_accuracy: 0.7868\n",
            "Epoch 128/150\n",
            "34/34 [==============================] - 10s 298ms/step - loss: 0.3495 - accuracy: 0.8323 - val_loss: 0.9228 - val_accuracy: 0.6949\n",
            "Epoch 129/150\n",
            "34/34 [==============================] - 10s 297ms/step - loss: 0.3385 - accuracy: 0.8453 - val_loss: 0.6155 - val_accuracy: 0.7721\n",
            "Epoch 130/150\n",
            "34/34 [==============================] - 10s 296ms/step - loss: 0.3858 - accuracy: 0.8181 - val_loss: 1.8563 - val_accuracy: 0.6728\n",
            "Epoch 131/150\n",
            "34/34 [==============================] - 10s 298ms/step - loss: 0.3689 - accuracy: 0.8274 - val_loss: 0.7316 - val_accuracy: 0.7206\n",
            "Epoch 132/150\n",
            "34/34 [==============================] - 10s 298ms/step - loss: 0.3429 - accuracy: 0.8280 - val_loss: 0.6263 - val_accuracy: 0.8162\n",
            "Epoch 133/150\n",
            "34/34 [==============================] - 10s 296ms/step - loss: 0.3457 - accuracy: 0.8397 - val_loss: 0.6754 - val_accuracy: 0.7868\n",
            "Epoch 134/150\n",
            "34/34 [==============================] - 10s 298ms/step - loss: 0.3495 - accuracy: 0.8280 - val_loss: 0.6945 - val_accuracy: 0.7353\n",
            "Epoch 135/150\n",
            "34/34 [==============================] - 10s 297ms/step - loss: 0.3507 - accuracy: 0.8311 - val_loss: 0.5937 - val_accuracy: 0.7941\n",
            "Epoch 136/150\n",
            "34/34 [==============================] - 10s 297ms/step - loss: 0.3404 - accuracy: 0.8509 - val_loss: 0.6205 - val_accuracy: 0.7978\n",
            "Epoch 137/150\n",
            "34/34 [==============================] - 10s 297ms/step - loss: 0.3411 - accuracy: 0.8428 - val_loss: 0.7562 - val_accuracy: 0.7243\n",
            "Epoch 138/150\n",
            "34/34 [==============================] - 10s 297ms/step - loss: 0.3361 - accuracy: 0.8379 - val_loss: 0.9005 - val_accuracy: 0.7132\n",
            "Epoch 139/150\n",
            "34/34 [==============================] - 10s 297ms/step - loss: 0.3538 - accuracy: 0.8280 - val_loss: 0.5651 - val_accuracy: 0.8125\n",
            "Epoch 140/150\n",
            "34/34 [==============================] - 10s 298ms/step - loss: 0.3402 - accuracy: 0.8478 - val_loss: 3.3444 - val_accuracy: 0.5772\n",
            "Epoch 141/150\n",
            "34/34 [==============================] - 10s 297ms/step - loss: 0.3836 - accuracy: 0.8205 - val_loss: 0.8502 - val_accuracy: 0.6801\n",
            "Epoch 142/150\n",
            "34/34 [==============================] - 10s 296ms/step - loss: 0.3309 - accuracy: 0.8527 - val_loss: 0.6580 - val_accuracy: 0.7941\n",
            "Epoch 143/150\n",
            "34/34 [==============================] - 10s 297ms/step - loss: 0.3475 - accuracy: 0.8292 - val_loss: 0.6862 - val_accuracy: 0.7684\n",
            "Epoch 144/150\n",
            "34/34 [==============================] - 10s 298ms/step - loss: 0.3373 - accuracy: 0.8354 - val_loss: 0.7114 - val_accuracy: 0.7647\n",
            "Epoch 145/150\n",
            "34/34 [==============================] - 10s 297ms/step - loss: 0.3299 - accuracy: 0.8478 - val_loss: 0.6654 - val_accuracy: 0.7426\n",
            "Epoch 146/150\n",
            "34/34 [==============================] - 10s 297ms/step - loss: 0.3349 - accuracy: 0.8410 - val_loss: 0.6175 - val_accuracy: 0.7904\n",
            "Epoch 147/150\n",
            "34/34 [==============================] - 10s 296ms/step - loss: 0.3405 - accuracy: 0.8379 - val_loss: 0.6684 - val_accuracy: 0.7868\n",
            "Epoch 148/150\n",
            "34/34 [==============================] - 10s 297ms/step - loss: 0.3302 - accuracy: 0.8391 - val_loss: 0.7065 - val_accuracy: 0.7831\n",
            "Epoch 149/150\n",
            "34/34 [==============================] - 10s 296ms/step - loss: 0.2992 - accuracy: 0.8620 - val_loss: 0.7317 - val_accuracy: 0.7684\n",
            "Epoch 150/150\n",
            "34/34 [==============================] - 10s 295ms/step - loss: 0.3352 - accuracy: 0.8490 - val_loss: 0.9977 - val_accuracy: 0.6801\n"
          ]
        }
      ],
      "source": [
        "# Create an Instance of Early Stopping Callback\n",
        "early_stopping_callback = keras.callbacks.EarlyStopping(monitor = 'val_loss',\n",
        "                                                        patience = 20,\n",
        "                                                        mode = 'min',\n",
        "                                                        restore_best_weights = True)\n",
        "# Compile the model and specify loss function, optimizer and metrics values to the model\n",
        "model.compile(loss = 'categorical_crossentropy',\n",
        "              optimizer= keras.optimizers.Adam(0.001, decay=1e-4),\n",
        "              metrics=['accuracy'])\n",
        "# Start training the model.\n",
        "cnn_3d_model_training_history = model.fit(x = features_train,\n",
        "                                          y = labels_train,\n",
        "                                          epochs=150,\n",
        "                                          batch_size=48,\n",
        "                                          shuffle = True,\n",
        "                                          validation_data = (features_valid, labels_valid)),\n",
        "                                          # callbacks = [early_stopping_callback])"
      ]
    },
    {
      "cell_type": "code",
      "execution_count": 13,
      "metadata": {
        "colab": {
          "base_uri": "https://localhost:8080/"
        },
        "id": "3vimsgjjbXvL",
        "outputId": "90e50e5a-1b8f-41c8-e735-2acafecd3af5"
      },
      "outputs": [
        {
          "output_type": "stream",
          "name": "stdout",
          "text": [
            "9/9 [==============================] - 1s 78ms/step - loss: 1.3310 - accuracy: 0.6213\n",
            "\n",
            "\n",
            "Train accuracy: 90.099 % || Test accuracy: 62.132 % || Val accuracy: 68.015 %\n",
            "Train loss: 0.236 || Test loss: 1.331 || Val loss: 0.998\n"
          ]
        }
      ],
      "source": [
        "model_evaluation_history = model.evaluate(features_test, labels_test)\n",
        "print('\\n')\n",
        "train_loss, train_acc = model.evaluate(features_train, labels_train, verbose=0)\n",
        "test_loss, test_acc = model.evaluate(features_test, labels_test, verbose=0)\n",
        "val_loss, val_acc = model.evaluate(features_valid, labels_valid, verbose=0)\n",
        "print(f'Train accuracy: {train_acc*100:.3f} % || Test accuracy: {test_acc*100:.3f} % || Val accuracy: {val_acc*100:.3f} %')\n",
        "print(f'Train loss: {train_loss:.3f} || Test loss: {test_loss:.3f} || Val loss: {val_loss:.3f}')"
      ]
    },
    {
      "cell_type": "code",
      "execution_count": 14,
      "metadata": {
        "id": "ivmaK9BlbnRQ"
      },
      "outputs": [],
      "source": [
        "# Get the loss and accuracy from model_evaluation_history.\n",
        "model_evaluation_loss, model_evaluation_accuracy = model_evaluation_history\n",
        " \n",
        "# Define the string date format.\n",
        "# Get the current Date and Time in a DateTime Object.\n",
        "# Convert the DateTime object to string according to the style mentioned in date_time_format string.\n",
        "date_time_format = '%Y_%m_%d__%H_%M_%S'\n",
        "current_date_time_dt = dt.datetime.now()\n",
        "current_date_time_string = dt.datetime.strftime(current_date_time_dt, date_time_format)\n",
        " \n",
        "# Define a useful name for our model to make it easy for us while navigating through multiple saved models.\n",
        "model_file_name = f'3D_CNN_model___Date_Time_{current_date_time_string}___Loss_{model_evaluation_loss}___Accuracy_{model_evaluation_accuracy}.h5'\n",
        " \n",
        "# Change dir\n",
        "gdrive_path = '/content/gdrive' + '/My Drive/247/Saved_models/'\n",
        "os.chdir(gdrive_path)\n",
        "# Create a floder for the model files\n",
        "!mkdir -p cnn_3d_{current_date_time_string}\n",
        "# Save your Model.\n",
        "model.save('3D_CNN' + str(current_date_time_string) + '/' + model_file_name)\n",
        "# Save model weights\n",
        "model.save_weights('3D_CNN' + str(current_date_time_string) + '/' + 'weights')"
      ]
    },
    {
      "cell_type": "code",
      "execution_count": 15,
      "metadata": {
        "id": "OwU8TwPrbsKB"
      },
      "outputs": [],
      "source": [
        "def plot_metric(model_training_history, metric_name_1, metric_name_2, plot_name):\n",
        "    '''\n",
        "    This function will plot the metrics passed to it in a graph.\n",
        "    Args:\n",
        "        model_training_history: A history object containing a record of training and validation \n",
        "                                loss values and metrics values at successive epochs\n",
        "        metric_name_1:          The name of the first metric that needs to be plotted in the graph.\n",
        "        metric_name_2:          The name of the second metric that needs to be plotted in the graph.\n",
        "        plot_name:              The title of the graph.\n",
        "    '''\n",
        "    \n",
        "    # Get metric values using metric names as identifiers.\n",
        "    metric_value_1 = model_training_history[0].history[metric_name_1]\n",
        "    metric_value_2 = model_training_history[0].history[metric_name_2]\n",
        "    \n",
        "    # Construct a range object which will be used as x-axis (horizontal plane) of the graph.\n",
        "    epochs = range(len(metric_value_1))\n",
        "\n",
        "    # Plot the Graph.\n",
        "    plt.plot(epochs, metric_value_1, 'blue', label = metric_name_1)\n",
        "    plt.plot(epochs, metric_value_2, 'red', label = metric_name_2)\n",
        "\n",
        "    # Add title to the plot.\n",
        "    plt.title(str(plot_name))\n",
        "\n",
        "    # Add legend to the plot.\n",
        "    plt.legend()"
      ]
    },
    {
      "cell_type": "code",
      "execution_count": 16,
      "metadata": {
        "colab": {
          "base_uri": "https://localhost:8080/",
          "height": 281
        },
        "id": "cvKY05ncbwof",
        "outputId": "0bf0a339-f366-4e8c-8a82-0ea59278cddc"
      },
      "outputs": [
        {
          "output_type": "display_data",
          "data": {
            "text/plain": [
              "<Figure size 432x288 with 1 Axes>"
            ],
            "image/png": "[encoded data removed]"
          },
          "metadata": {
            "needs_background": "light"
          }
        }
      ],
      "source": [
        "plot_metric(cnn_3d_model_training_history, 'loss', 'val_loss', 'Total Loss vs Total Validation Loss')"
      ]
    },
    {
      "cell_type": "code",
      "execution_count": 17,
      "metadata": {
        "colab": {
          "base_uri": "https://localhost:8080/",
          "height": 281
        },
        "id": "o1iaaDHBb5i0",
        "outputId": "7919eec6-84fd-486b-f1e3-51ec9ea0b01d"
      },
      "outputs": [
        {
          "output_type": "display_data",
          "data": {
            "text/plain": [
              "<Figure size 432x288 with 1 Axes>"
            ],
            "image/png": "[encoded data removed]"
          },
          "metadata": {
            "needs_background": "light"
          }
        }
      ],
      "source": [
        "plot_metric(cnn_3d_model_training_history, 'accuracy', 'val_accuracy', 'Total Accuracy vs Total Validation Accuracy') "
      ]
    }
  ],
  "metadata": {
    "accelerator": "GPU",
    "colab": {
      "collapsed_sections": [],
      "machine_shape": "hm",
      "name": "3D_CNN.ipynb",
      "provenance": [],
      "authorship_tag": "ABX9TyNR/CT+Z6hxZvLKN0kdG48t",
      "include_colab_link": true
    },
    "kernelspec": {
      "display_name": "Python 3",
      "name": "python3"
    },
    "language_info": {
      "name": "python"
    }
  },
  "nbformat": 4,
  "nbformat_minor": 0
}