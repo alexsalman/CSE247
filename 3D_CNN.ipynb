{
  "cells": [
    {
      "cell_type": "markdown",
      "metadata": {
        "id": "view-in-github",
        "colab_type": "text"
      },
      "source": [
        "<a href=\"https://colab.research.google.com/github/alexsalman/CSE247/blob/main/3D_CNN.ipynb\" target=\"_parent\"><img src=\"https://colab.research.google.com/assets/colab-badge.svg\" alt=\"Open In Colab\"/></a>"
      ]
    },
    {
      "cell_type": "markdown",
      "metadata": {
        "id": "Kk7I8NauauE3"
      },
      "source": [
        "####**3D Convolutional Neural Network**\n",
        "######*I am using 3D Convolutional Neural Network to extract the temporal and spatial information which are merged slowly throughout the whole network.*"
      ]
    },
    {
      "cell_type": "code",
      "execution_count": 1,
      "metadata": {
        "colab": {
          "base_uri": "https://localhost:8080/"
        },
        "id": "M8ibtd5HKtZk",
        "outputId": "a45fe3fd-a87b-496f-f4b7-281e714693d7"
      },
      "outputs": [
        {
          "output_type": "stream",
          "name": "stdout",
          "text": [
            "2.8.0\n"
          ]
        }
      ],
      "source": [
        "# required libraries\n",
        "import os\n",
        "import cv2\n",
        "import math\n",
        "import random\n",
        "import numpy as np\n",
        "import datetime as dt\n",
        "from collections import deque\n",
        "import matplotlib.pyplot as plt\n",
        "from google.colab import drive\n",
        "from sklearn.model_selection import train_test_split\n",
        "import tensorflow as tf\n",
        "from tensorflow import keras\n",
        "from keras.models import Sequential\n",
        "from keras.layers import Dense, Flatten, Conv3D, MaxPooling3D, Dropout, BatchNormalization, GlobalAveragePooling3D\n",
        "from PIL import Image\n",
        "%matplotlib inline\n",
        "print(tf.version.VERSION)\n",
        "# https://bleedai.com/human-activity-recognition-using-tensorflow-cnn-lstm/"
      ]
    },
    {
      "cell_type": "code",
      "execution_count": 2,
      "metadata": {
        "id": "iffdFOf1CEAN"
      },
      "outputs": [],
      "source": [
        "# set Numpy, Python, and Tensorflow seeds to get consistent results on every execution\n",
        "seed_constant = 27\n",
        "np.random.seed(seed_constant)\n",
        "random.seed(seed_constant)\n",
        "tf.random.set_seed(seed_constant)"
      ]
    },
    {
      "cell_type": "code",
      "execution_count": 3,
      "metadata": {
        "colab": {
          "base_uri": "https://localhost:8080/",
          "height": 53
        },
        "id": "mcLh22LiOHyn",
        "outputId": "1c94828e-8c23-4f24-e78d-099481a15311"
      },
      "outputs": [
        {
          "output_type": "stream",
          "name": "stdout",
          "text": [
            "Mounted at /content/gdrive/\n"
          ]
        },
        {
          "output_type": "execute_result",
          "data": {
            "text/plain": [
              "'/content/gdrive/My Drive/247'"
            ],
            "application/vnd.google.colaboratory.intrinsic+json": {
              "type": "string"
            }
          },
          "metadata": {},
          "execution_count": 3
        }
      ],
      "source": [
        "# mount dataset from google drive\n",
        "drive.mount('/content/gdrive/', force_remount=True)\n",
        "gdrive_path = '/content/gdrive' + '/My Drive/247/'\n",
        "os.chdir(gdrive_path)\n",
        "os.getcwd()"
      ]
    },
    {
      "cell_type": "code",
      "execution_count": 4,
      "metadata": {
        "id": "oeDK8SzumZ1Q"
      },
      "outputs": [],
      "source": [
        "# frame dimention\n",
        "IMAGE_HEIGHT, IMAGE_WIDTH = 128, 128\n",
        "# frame number for each video (depth)\n",
        "SEQUENCE_LENGTH = 16\n",
        "# video dir path\n",
        "DATASET_DIR = gdrive_path + 'Cropped_videos'\n",
        "# labels of classes\n",
        "CLASSES_LIST = ['hemostasis', 'inflammatory', 'proliferative', 'maturation']"
      ]
    },
    {
      "cell_type": "code",
      "execution_count": 5,
      "metadata": {
        "id": "HUTeIqzpZc9J"
      },
      "outputs": [],
      "source": [
        "# image cropping\n",
        "def crop_center_square(frame):\n",
        "    y, x = frame.shape[0:2]\n",
        "    min_dim = min(y, x)\n",
        "    start_x = (x // 2) - (min_dim // 2)\n",
        "    start_y = (y // 2) - (min_dim // 2)\n",
        "    return frame[start_y:start_y+min_dim,start_x:start_x+min_dim]"
      ]
    },
    {
      "cell_type": "code",
      "execution_count": 6,
      "metadata": {
        "id": "QRDbHG0TZkYJ"
      },
      "outputs": [],
      "source": [
        "# https://medium.com/analytics-vidhya/video-preprocessor-and-augmentation-for-deep-learning-tasks-12dd3fcce868\n",
        "def load_video(path, resize=(128, 128)):\n",
        "    video_reader = cv2.VideoCapture(path)\n",
        "    frames = []\n",
        "    try:\n",
        "        while True:\n",
        "            ret, frame = video_reader.read()\n",
        "            if not ret:\n",
        "                  break\n",
        "            # frame = crop_center_square(frame)\n",
        "            frame = cv2.resize(frame, resize)\n",
        "            frame = frame[:, :, [2, 1, 0]]\n",
        "            black_frame = frame\n",
        "            frames.append(frame)\n",
        "    finally:\n",
        "        video_reader.release()\n",
        "    return np.array(frames) / 255.0"
      ]
    },
    {
      "cell_type": "code",
      "execution_count": 7,
      "metadata": {
        "id": "ljUWHW6Jqzu-"
      },
      "outputs": [],
      "source": [
        "def create_dataset(state):\n",
        "    # Declared Empty Lists to store the features, labels and video file path values.\n",
        "    features = []\n",
        "    labels = []\n",
        "    video_files_paths = []\n",
        "    # Iterating through all the classes mentioned in the classes list\n",
        "    for class_index, class_name in enumerate(CLASSES_LIST):\n",
        "        # Display the name of the class whose data is being extracted.\n",
        "        print(f'Extracting Data of Class: {class_name} {state}')\n",
        "        # Get the list of video files present in the specific class name directory.\n",
        "        files_list = os.listdir(os.path.join(DATASET_DIR, class_name))\n",
        "        # Iterate through all the files present in the files list.\n",
        "        for file_name in files_list:\n",
        "            # Get the complete video path.\n",
        "            video_file_path = os.path.join(DATASET_DIR, class_name, file_name)\n",
        "            # create testing data\n",
        "            if state == 'test':\n",
        "                # get the mouse number\n",
        "                mouse_number = int(video_file_path.split(' ')[2].split('_')[1].split('-')[1])\n",
        "                # get the mouse side (L or R)\n",
        "                mouse_side = video_file_path.split(' ')[2].split('_')[1].split('-')[2]\n",
        "                if mouse_number == 4 and mouse_side == 'L':\n",
        "                    frames = load_video(video_file_path)\n",
        "                    features.append(frames)\n",
        "                    labels.append(class_index)\n",
        "                    video_files_paths.append(video_file_path)\n",
        "            # create validation data\n",
        "            elif state == 'valid':\n",
        "                # get the mouse number\n",
        "                mouse_number = int(video_file_path.split(' ')[2].split('_')[1].split('-')[1])\n",
        "                # get the mouse side (L or R)\n",
        "                mouse_side = video_file_path.split(' ')[2].split('_')[1].split('-')[2]\n",
        "                if mouse_number == 4 and mouse_side == 'R':\n",
        "                    frames = load_video(video_file_path)\n",
        "                    features.append(frames)\n",
        "                    labels.append(class_index)\n",
        "                    video_files_paths.append(video_file_path)\n",
        "            # create training data\n",
        "            else:\n",
        "                # get the mouse number\n",
        "                mouse_number = int(video_file_path.split(' ')[2].split('_')[1].split('-')[1])\n",
        "                if mouse_number != 4:\n",
        "                    frames = load_video(video_file_path)\n",
        "                    features.append(frames)\n",
        "                    labels.append(class_index)\n",
        "                    video_files_paths.append(video_file_path)\n",
        "    # Converting the list to numpy arrays\n",
        "    features = np.asarray(features)\n",
        "    # print(features)\n",
        "    labels = np.array(labels)\n",
        "    # Return the frames, class index, and video file path.\n",
        "    return features, labels, video_files_paths"
      ]
    },
    {
      "cell_type": "code",
      "execution_count": 8,
      "metadata": {
        "colab": {
          "base_uri": "https://localhost:8080/"
        },
        "id": "a8rpanz9rASe",
        "outputId": "2f0a9b33-40c8-403f-8382-771783d58ac1"
      },
      "outputs": [
        {
          "output_type": "stream",
          "name": "stdout",
          "text": [
            "Extracting Data of Class: hemostasis train\n",
            "Extracting Data of Class: inflammatory train\n",
            "Extracting Data of Class: proliferative train\n",
            "Extracting Data of Class: maturation train\n",
            "Extracting Data of Class: hemostasis test\n",
            "Extracting Data of Class: inflammatory test\n",
            "Extracting Data of Class: proliferative test\n",
            "Extracting Data of Class: maturation test\n",
            "Extracting Data of Class: hemostasis valid\n",
            "Extracting Data of Class: inflammatory valid\n",
            "Extracting Data of Class: proliferative valid\n",
            "Extracting Data of Class: maturation valid\n"
          ]
        }
      ],
      "source": [
        "# 6 mice for training, 2 mice for test and validation (one wound on each mice for test one for validation)\n",
        "features_train, labels_train, video_files_paths_train = create_dataset('train')\n",
        "features_test, labels_test, video_files_paths_test = create_dataset('test')\n",
        "features_valid, labels_valid, video_files_paths_valid = create_dataset('valid')"
      ]
    },
    {
      "cell_type": "code",
      "execution_count": 9,
      "metadata": {
        "id": "dtJkK4qTAulC"
      },
      "outputs": [],
      "source": [
        "# one_hot_encoded_labels\n",
        "labels_train = keras.utils.to_categorical(labels_train)\n",
        "labels_test = keras.utils.to_categorical(labels_test)\n",
        "labels_valid = keras.utils.to_categorical(labels_valid)"
      ]
    },
    {
      "cell_type": "code",
      "execution_count": 10,
      "metadata": {
        "id": "N-9ykP4ig7IW"
      },
      "outputs": [],
      "source": [
        "def create_3D_CNN_model():\n",
        "    sample_shape = (16, 128, 128, 3)\n",
        "    model = Sequential()\n",
        "\n",
        "    model.add(Conv3D(32, 3, activation='relu', kernel_initializer='he_uniform', input_shape=sample_shape))\n",
        "    model.add(BatchNormalization())\n",
        "    model.add(MaxPooling3D(2))\n",
        "    # model.add(Dropout(0.2))\n",
        "\n",
        "    model.add(Conv3D(64, 3, activation='relu', kernel_initializer='he_uniform'))\n",
        "    model.add(BatchNormalization())\n",
        "    model.add(MaxPooling3D(2))\n",
        "    # model.add(Dropout(0.3))\n",
        "\n",
        "    model.add(GlobalAveragePooling3D())\n",
        "\n",
        "    model.add(Dense(128, activation='relu', kernel_initializer='he_uniform'))\n",
        "    # model.add(Dropout(0.5))\n",
        "    # model.add(Dense(16, activation='relu', kernel_initializer='he_uniform'))\n",
        "    model.add(Dense(8, activation='relu', kernel_initializer='he_uniform'))\n",
        "    model.add(Dropout(0.4))\n",
        "    model.add(Dense(len(CLASSES_LIST), activation='softmax'))\n",
        "\n",
        "    # Display the models summary.\n",
        "    model.summary(line_length = 125)\n",
        "    # Return the constructed 3D_CNN model.\n",
        "    return model"
      ]
    },
    {
      "cell_type": "code",
      "execution_count": 11,
      "metadata": {
        "colab": {
          "base_uri": "https://localhost:8080/"
        },
        "id": "Z4_GxXZBcHlB",
        "outputId": "a2bf5382-54ac-469d-fc9e-352bbff21977"
      },
      "outputs": [
        {
          "output_type": "stream",
          "name": "stdout",
          "text": [
            "Model: \"sequential\"\n",
            "_____________________________________________________________________________________________________________________________\n",
            " Layer (type)                                           Output Shape                                      Param #            \n",
            "=============================================================================================================================\n",
            " conv3d (Conv3D)                                        (None, 14, 126, 126, 32)                          2624               \n",
            "                                                                                                                             \n",
            " batch_normalization (BatchNormalization)               (None, 14, 126, 126, 32)                          128                \n",
            "                                                                                                                             \n",
            " max_pooling3d (MaxPooling3D)                           (None, 7, 63, 63, 32)                             0                  \n",
            "                                                                                                                             \n",
            " conv3d_1 (Conv3D)                                      (None, 5, 61, 61, 64)                             55360              \n",
            "                                                                                                                             \n",
            " batch_normalization_1 (BatchNormalization)             (None, 5, 61, 61, 64)                             256                \n",
            "                                                                                                                             \n",
            " max_pooling3d_1 (MaxPooling3D)                         (None, 2, 30, 30, 64)                             0                  \n",
            "                                                                                                                             \n",
            " global_average_pooling3d (GlobalAveragePooling3D)      (None, 64)                                        0                  \n",
            "                                                                                                                             \n",
            " dense (Dense)                                          (None, 128)                                       8320               \n",
            "                                                                                                                             \n",
            " dense_1 (Dense)                                        (None, 8)                                         1032               \n",
            "                                                                                                                             \n",
            " dropout (Dropout)                                      (None, 8)                                         0                  \n",
            "                                                                                                                             \n",
            " dense_2 (Dense)                                        (None, 4)                                         36                 \n",
            "                                                                                                                             \n",
            "=============================================================================================================================\n",
            "Total params: 67,756\n",
            "Trainable params: 67,564\n",
            "Non-trainable params: 192\n",
            "_____________________________________________________________________________________________________________________________\n",
            "Model Created Successfully!\n"
          ]
        }
      ],
      "source": [
        "# Construct the required convlstm model.\n",
        "model = create_3D_CNN_model()\n",
        " \n",
        "# Display the success message. \n",
        "print(\"Model Created Successfully!\")"
      ]
    },
    {
      "cell_type": "code",
      "execution_count": 12,
      "metadata": {
        "colab": {
          "base_uri": "https://localhost:8080/"
        },
        "id": "MwYEkaYLoyb_",
        "outputId": "cd03a84b-47eb-40fa-9a18-3304bf20b5cc"
      },
      "outputs": [
        {
          "output_type": "stream",
          "name": "stdout",
          "text": [
            "Epoch 1/50\n",
            "101/101 [==============================] - 15s 133ms/step - loss: 1.6189 - accuracy: 0.4530 - val_loss: 1.3043 - val_accuracy: 0.3750\n",
            "Epoch 2/50\n",
            "101/101 [==============================] - 13s 124ms/step - loss: 1.5551 - accuracy: 0.2642 - val_loss: 1.3225 - val_accuracy: 0.4743\n",
            "Epoch 3/50\n",
            "101/101 [==============================] - 13s 125ms/step - loss: 1.3498 - accuracy: 0.3756 - val_loss: 1.4318 - val_accuracy: 0.3713\n",
            "Epoch 4/50\n",
            "101/101 [==============================] - 13s 125ms/step - loss: 1.4145 - accuracy: 0.2562 - val_loss: 1.2619 - val_accuracy: 0.4375\n",
            "Epoch 5/50\n",
            "101/101 [==============================] - 13s 125ms/step - loss: 1.3013 - accuracy: 0.2785 - val_loss: 1.2119 - val_accuracy: 0.4669\n",
            "Epoch 6/50\n",
            "101/101 [==============================] - 13s 124ms/step - loss: 1.2546 - accuracy: 0.2692 - val_loss: 1.1877 - val_accuracy: 0.4632\n",
            "Epoch 7/50\n",
            "101/101 [==============================] - 13s 124ms/step - loss: 1.2322 - accuracy: 0.3521 - val_loss: 1.2485 - val_accuracy: 0.4596\n",
            "Epoch 8/50\n",
            "101/101 [==============================] - 13s 124ms/step - loss: 1.2538 - accuracy: 0.3082 - val_loss: 1.1758 - val_accuracy: 0.4596\n",
            "Epoch 9/50\n",
            "101/101 [==============================] - 13s 124ms/step - loss: 1.1804 - accuracy: 0.3230 - val_loss: 1.2041 - val_accuracy: 0.4596\n",
            "Epoch 10/50\n",
            "101/101 [==============================] - 13s 125ms/step - loss: 1.2017 - accuracy: 0.3255 - val_loss: 1.1748 - val_accuracy: 0.4449\n",
            "Epoch 11/50\n",
            "101/101 [==============================] - 13s 124ms/step - loss: 1.1206 - accuracy: 0.3366 - val_loss: 1.1327 - val_accuracy: 0.4596\n",
            "Epoch 12/50\n",
            "101/101 [==============================] - 12s 124ms/step - loss: 1.0781 - accuracy: 0.3589 - val_loss: 1.0122 - val_accuracy: 0.4559\n",
            "Epoch 13/50\n",
            "101/101 [==============================] - 13s 124ms/step - loss: 1.1074 - accuracy: 0.3707 - val_loss: 1.0388 - val_accuracy: 0.4522\n",
            "Epoch 14/50\n",
            "101/101 [==============================] - 13s 124ms/step - loss: 1.1192 - accuracy: 0.3738 - val_loss: 1.0503 - val_accuracy: 0.5919\n",
            "Epoch 15/50\n",
            "101/101 [==============================] - 13s 124ms/step - loss: 1.0559 - accuracy: 0.4257 - val_loss: 1.0159 - val_accuracy: 0.5993\n",
            "Epoch 16/50\n",
            "101/101 [==============================] - 13s 125ms/step - loss: 1.0252 - accuracy: 0.4381 - val_loss: 1.0049 - val_accuracy: 0.5956\n",
            "Epoch 17/50\n",
            "101/101 [==============================] - 13s 124ms/step - loss: 0.9960 - accuracy: 0.5105 - val_loss: 1.0740 - val_accuracy: 0.5993\n",
            "Epoch 18/50\n",
            "101/101 [==============================] - 12s 123ms/step - loss: 0.9968 - accuracy: 0.5062 - val_loss: 1.0309 - val_accuracy: 0.5956\n",
            "Epoch 19/50\n",
            "101/101 [==============================] - 12s 124ms/step - loss: 0.9919 - accuracy: 0.5118 - val_loss: 0.9598 - val_accuracy: 0.5993\n",
            "Epoch 20/50\n",
            "101/101 [==============================] - 13s 125ms/step - loss: 0.9774 - accuracy: 0.5204 - val_loss: 0.9608 - val_accuracy: 0.6029\n",
            "Epoch 21/50\n",
            "101/101 [==============================] - 13s 124ms/step - loss: 0.9792 - accuracy: 0.5142 - val_loss: 0.9934 - val_accuracy: 0.5846\n",
            "Epoch 22/50\n",
            "101/101 [==============================] - 13s 124ms/step - loss: 1.0024 - accuracy: 0.5223 - val_loss: 1.3127 - val_accuracy: 0.5221\n",
            "Epoch 23/50\n",
            "101/101 [==============================] - 13s 124ms/step - loss: 1.0920 - accuracy: 0.4474 - val_loss: 1.3296 - val_accuracy: 0.4485\n",
            "Epoch 24/50\n",
            "101/101 [==============================] - 12s 124ms/step - loss: 0.9835 - accuracy: 0.5495 - val_loss: 1.0484 - val_accuracy: 0.5662\n",
            "Epoch 25/50\n",
            "101/101 [==============================] - 13s 124ms/step - loss: 0.9892 - accuracy: 0.5402 - val_loss: 1.0418 - val_accuracy: 0.5074\n",
            "Epoch 26/50\n",
            "101/101 [==============================] - 12s 124ms/step - loss: 0.9514 - accuracy: 0.5408 - val_loss: 1.0546 - val_accuracy: 0.5368\n",
            "Epoch 27/50\n",
            "101/101 [==============================] - 13s 124ms/step - loss: 0.9423 - accuracy: 0.5402 - val_loss: 1.0386 - val_accuracy: 0.5257\n",
            "Epoch 28/50\n",
            "101/101 [==============================] - 13s 124ms/step - loss: 0.9605 - accuracy: 0.5408 - val_loss: 1.0424 - val_accuracy: 0.5221\n",
            "Epoch 29/50\n",
            "101/101 [==============================] - 13s 124ms/step - loss: 0.9430 - accuracy: 0.5433 - val_loss: 1.0705 - val_accuracy: 0.5147\n",
            "Epoch 30/50\n",
            "101/101 [==============================] - 12s 124ms/step - loss: 0.9070 - accuracy: 0.5718 - val_loss: 1.0509 - val_accuracy: 0.5294\n",
            "Epoch 31/50\n",
            "101/101 [==============================] - 12s 124ms/step - loss: 0.9099 - accuracy: 0.5699 - val_loss: 1.0593 - val_accuracy: 0.5221\n",
            "Epoch 32/50\n",
            "101/101 [==============================] - 13s 124ms/step - loss: 0.8914 - accuracy: 0.5798 - val_loss: 1.0915 - val_accuracy: 0.5147\n",
            "Epoch 33/50\n",
            "101/101 [==============================] - 13s 125ms/step - loss: 0.9081 - accuracy: 0.5736 - val_loss: 1.0593 - val_accuracy: 0.5478\n",
            "Epoch 34/50\n",
            "101/101 [==============================] - 12s 123ms/step - loss: 0.8978 - accuracy: 0.5829 - val_loss: 1.0652 - val_accuracy: 0.5110\n",
            "Epoch 35/50\n",
            "101/101 [==============================] - 13s 124ms/step - loss: 0.8649 - accuracy: 0.5928 - val_loss: 1.1013 - val_accuracy: 0.5257\n",
            "Epoch 36/50\n",
            "101/101 [==============================] - 13s 124ms/step - loss: 0.8388 - accuracy: 0.6200 - val_loss: 1.1340 - val_accuracy: 0.5221\n",
            "Epoch 37/50\n",
            "101/101 [==============================] - 12s 124ms/step - loss: 0.8661 - accuracy: 0.5891 - val_loss: 1.1164 - val_accuracy: 0.5221\n",
            "Epoch 38/50\n",
            "101/101 [==============================] - 12s 124ms/step - loss: 0.8498 - accuracy: 0.5934 - val_loss: 1.4313 - val_accuracy: 0.6066\n",
            "Epoch 39/50\n",
            "101/101 [==============================] - 12s 124ms/step - loss: 0.8635 - accuracy: 0.5972 - val_loss: 0.9196 - val_accuracy: 0.5735\n",
            "Epoch 40/50\n",
            "101/101 [==============================] - 13s 124ms/step - loss: 0.8605 - accuracy: 0.5866 - val_loss: 1.0134 - val_accuracy: 0.6066\n",
            "Epoch 41/50\n",
            "101/101 [==============================] - 12s 124ms/step - loss: 0.8399 - accuracy: 0.6046 - val_loss: 1.0940 - val_accuracy: 0.6103\n",
            "Epoch 42/50\n",
            "101/101 [==============================] - 13s 124ms/step - loss: 0.8399 - accuracy: 0.6151 - val_loss: 1.0228 - val_accuracy: 0.6250\n",
            "Epoch 43/50\n",
            "101/101 [==============================] - 13s 124ms/step - loss: 0.8139 - accuracy: 0.6238 - val_loss: 1.0918 - val_accuracy: 0.4265\n",
            "Epoch 44/50\n",
            "101/101 [==============================] - 13s 124ms/step - loss: 0.8341 - accuracy: 0.6343 - val_loss: 0.9933 - val_accuracy: 0.6103\n",
            "Epoch 45/50\n",
            "101/101 [==============================] - 12s 124ms/step - loss: 0.7871 - accuracy: 0.6386 - val_loss: 1.0574 - val_accuracy: 0.4632\n",
            "Epoch 46/50\n",
            "101/101 [==============================] - 13s 124ms/step - loss: 0.8013 - accuracy: 0.6300 - val_loss: 1.0739 - val_accuracy: 0.4816\n",
            "Epoch 47/50\n",
            "101/101 [==============================] - 13s 124ms/step - loss: 0.8383 - accuracy: 0.6077 - val_loss: 1.2260 - val_accuracy: 0.5221\n",
            "Epoch 48/50\n",
            "101/101 [==============================] - 13s 124ms/step - loss: 0.7789 - accuracy: 0.6361 - val_loss: 1.1789 - val_accuracy: 0.4926\n",
            "Epoch 49/50\n",
            "101/101 [==============================] - 13s 125ms/step - loss: 0.7476 - accuracy: 0.6553 - val_loss: 1.2011 - val_accuracy: 0.5074\n",
            "Epoch 50/50\n",
            "101/101 [==============================] - 13s 125ms/step - loss: 0.7446 - accuracy: 0.6609 - val_loss: 1.5154 - val_accuracy: 0.3346\n"
          ]
        }
      ],
      "source": [
        "# Create an Instance of Early Stopping Callback\n",
        "early_stopping_callback = keras.callbacks.EarlyStopping(monitor = 'val_loss',\n",
        "                                                        patience = 20,\n",
        "                                                        mode = 'min',\n",
        "                                                        restore_best_weights = True)\n",
        "# Compile the model and specify loss function, optimizer and metrics values to the model\n",
        "model.compile(loss = 'categorical_crossentropy',\n",
        "              optimizer= keras.optimizers.Adam(0.001),\n",
        "              metrics=['accuracy'])\n",
        "# Start training the model.\n",
        "cnn_3d_model_training_history = model.fit(x = features_train,\n",
        "                                          y = labels_train,\n",
        "                                          epochs=50,\n",
        "                                          batch_size=16,\n",
        "                                          shuffle = False,\n",
        "                                          validation_data = (features_valid, labels_valid))\n",
        "                                          # callbacks = [early_stopping_callback])"
      ]
    },
    {
      "cell_type": "code",
      "source": [
        "print(type(cnn_3d_model_training_history))"
      ],
      "metadata": {
        "colab": {
          "base_uri": "https://localhost:8080/"
        },
        "id": "kwPaRbBLsDqY",
        "outputId": "4d5f2556-ede0-4135-ffba-8a71645a6d99"
      },
      "execution_count": 18,
      "outputs": [
        {
          "output_type": "stream",
          "name": "stdout",
          "text": [
            "<class 'keras.callbacks.History'>\n"
          ]
        }
      ]
    },
    {
      "cell_type": "code",
      "execution_count": 13,
      "metadata": {
        "colab": {
          "base_uri": "https://localhost:8080/"
        },
        "id": "3vimsgjjbXvL",
        "outputId": "9cb67e42-46de-4eff-ad58-ab69a6ae0654"
      },
      "outputs": [
        {
          "output_type": "stream",
          "name": "stdout",
          "text": [
            "9/9 [==============================] - 1s 78ms/step - loss: 1.8390 - accuracy: 0.4265\n",
            "\n",
            "\n",
            "Train accuracy: 41.151 % || Test accuracy: 42.647 % || Val accuracy: 33.456 %\n",
            "Train loss: 1.480 || Test loss: 1.839 || Val loss: 1.515\n"
          ]
        }
      ],
      "source": [
        "model_evaluation_history = model.evaluate(features_test, labels_test)\n",
        "print('\\n')\n",
        "train_loss, train_acc = model.evaluate(features_train, labels_train, verbose=0)\n",
        "test_loss, test_acc = model.evaluate(features_test, labels_test, verbose=0)\n",
        "val_loss, val_acc = model.evaluate(features_valid, labels_valid, verbose=0)\n",
        "print(f'Train accuracy: {train_acc*100:.3f} % || Test accuracy: {test_acc*100:.3f} % || Val accuracy: {val_acc*100:.3f} %')\n",
        "print(f'Train loss: {train_loss:.3f} || Test loss: {test_loss:.3f} || Val loss: {val_loss:.3f}')"
      ]
    },
    {
      "cell_type": "code",
      "execution_count": 14,
      "metadata": {
        "id": "ivmaK9BlbnRQ"
      },
      "outputs": [],
      "source": [
        "# Get the loss and accuracy from model_evaluation_history.\n",
        "model_evaluation_loss, model_evaluation_accuracy = model_evaluation_history\n",
        " \n",
        "# Define the string date format.\n",
        "# Get the current Date and Time in a DateTime Object.\n",
        "# Convert the DateTime object to string according to the style mentioned in date_time_format string.\n",
        "date_time_format = '%Y_%m_%d__%H_%M_%S'\n",
        "current_date_time_dt = dt.datetime.now()\n",
        "current_date_time_string = dt.datetime.strftime(current_date_time_dt, date_time_format)\n",
        " \n",
        "# Define a useful name for our model to make it easy for us while navigating through multiple saved models.\n",
        "model_file_name = f'3D_CNN_model___Date_Time_{current_date_time_string}___Loss_{model_evaluation_loss}___Accuracy_{model_evaluation_accuracy}.h5'\n",
        " \n",
        "# Change dir\n",
        "gdrive_path = '/content/gdrive' + '/My Drive/247/Saved_models/'\n",
        "os.chdir(gdrive_path)\n",
        "# Create a floder for the model files\n",
        "!mkdir -p cnn_3d_{current_date_time_string}\n",
        "# Save your Model.\n",
        "model.save('3D_CNN' + str(current_date_time_string) + '/' + model_file_name)\n",
        "# Save model weights\n",
        "model.save_weights('3D_CNN' + str(current_date_time_string) + '/' + 'weights')"
      ]
    },
    {
      "cell_type": "code",
      "execution_count": 15,
      "metadata": {
        "id": "OwU8TwPrbsKB"
      },
      "outputs": [],
      "source": [
        "def plot_metric(model_training_history, metric_name_1, metric_name_2, plot_name):\n",
        "    '''\n",
        "    This function will plot the metrics passed to it in a graph.\n",
        "    Args:\n",
        "        model_training_history: A history object containing a record of training and validation \n",
        "                                loss values and metrics values at successive epochs\n",
        "        metric_name_1:          The name of the first metric that needs to be plotted in the graph.\n",
        "        metric_name_2:          The name of the second metric that needs to be plotted in the graph.\n",
        "        plot_name:              The title of the graph.\n",
        "    '''\n",
        "    \n",
        "    # Get metric values using metric names as identifiers.\n",
        "    metric_value_1 = model_training_history.history[metric_name_1]\n",
        "    metric_value_2 = model_training_history.history[metric_name_2]\n",
        "    \n",
        "    # Construct a range object which will be used as x-axis (horizontal plane) of the graph.\n",
        "    epochs = range(len(metric_value_1))\n",
        "\n",
        "    # Plot the Graph.\n",
        "    plt.plot(epochs, metric_value_1, 'blue', label = metric_name_1)\n",
        "    plt.plot(epochs, metric_value_2, 'red', label = metric_name_2)\n",
        "\n",
        "    # Add title to the plot.\n",
        "    plt.title(str(plot_name))\n",
        "\n",
        "    # Add legend to the plot.\n",
        "    plt.legend()"
      ]
    },
    {
      "cell_type": "code",
      "execution_count": 16,
      "metadata": {
        "colab": {
          "base_uri": "https://localhost:8080/",
          "height": 281
        },
        "id": "cvKY05ncbwof",
        "outputId": "920d72f8-523e-4acb-b3a2-c98f5475f40f"
      },
      "outputs": [
        {
          "output_type": "display_data",
          "data": {
            "text/plain": [
              "<Figure size 432x288 with 1 Axes>"
            ],
            "image/png": "[encoded data removed]"
          },
          "metadata": {
            "needs_background": "light"
          }
        }
      ],
      "source": [
        "plot_metric(cnn_3d_model_training_history, 'loss', 'val_loss', 'Total Loss vs Total Validation Loss')"
      ]
    },
    {
      "cell_type": "code",
      "execution_count": 17,
      "metadata": {
        "colab": {
          "base_uri": "https://localhost:8080/",
          "height": 281
        },
        "id": "o1iaaDHBb5i0",
        "outputId": "58993e6e-770a-4afd-8eff-89f541cc7aef"
      },
      "outputs": [
        {
          "output_type": "display_data",
          "data": {
            "text/plain": [
              "<Figure size 432x288 with 1 Axes>"
            ],
            "image/png": "[encoded data removed]"
          },
          "metadata": {
            "needs_background": "light"
          }
        }
      ],
      "source": [
        "plot_metric(cnn_3d_model_training_history, 'accuracy', 'val_accuracy', 'Total Accuracy vs Total Validation Accuracy') "
      ]
    }
  ],
  "metadata": {
    "accelerator": "GPU",
    "colab": {
      "collapsed_sections": [],
      "machine_shape": "hm",
      "name": "3D_CNN.ipynb",
      "provenance": [],
      "authorship_tag": "ABX9TyNPpaOcRHAAlztGpMlLYjGp",
      "include_colab_link": true
    },
    "kernelspec": {
      "display_name": "Python 3",
      "name": "python3"
    },
    "language_info": {
      "name": "python"
    }
  },
  "nbformat": 4,
  "nbformat_minor": 0
}