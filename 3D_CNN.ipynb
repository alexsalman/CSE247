{
  "cells": [
    {
      "cell_type": "markdown",
      "metadata": {
        "id": "view-in-github",
        "colab_type": "text"
      },
      "source": [
        "<a href=\"https://colab.research.google.com/github/alexsalman/CSE247/blob/main/3D_CNN.ipynb\" target=\"_parent\"><img src=\"https://colab.research.google.com/assets/colab-badge.svg\" alt=\"Open In Colab\"/></a>"
      ]
    },
    {
      "cell_type": "markdown",
      "metadata": {
        "id": "Kk7I8NauauE3"
      },
      "source": [
        "####**3D Convolutional Neural Network**\n",
        "######*I am using 3D Convolutional Neural Network to extract the temporal and spatial information which are merged slowly throughout the whole network.*"
      ]
    },
    {
      "cell_type": "code",
      "execution_count": 1,
      "metadata": {
        "colab": {
          "base_uri": "https://localhost:8080/"
        },
        "id": "M8ibtd5HKtZk",
        "outputId": "cd059462-de29-44b4-e06d-f574eb79f944"
      },
      "outputs": [
        {
          "output_type": "stream",
          "name": "stdout",
          "text": [
            "2.8.0\n"
          ]
        }
      ],
      "source": [
        "# required libraries\n",
        "import os\n",
        "import cv2\n",
        "import random\n",
        "import numpy as np\n",
        "import datetime as dt\n",
        "import matplotlib.pyplot as plt\n",
        "from google.colab import drive\n",
        "from sklearn.model_selection import train_test_split\n",
        "import tensorflow as tf\n",
        "from tensorflow import keras\n",
        "from keras.models import Sequential\n",
        "from keras.layers import Dense, Flatten, Conv3D, MaxPooling3D, Dropout\n",
        "from keras.layers import BatchNormalization, GlobalAveragePooling3D\n",
        "from keras import regularizers\n",
        "%matplotlib inline\n",
        "print(tf.version.VERSION)"
      ]
    },
    {
      "cell_type": "code",
      "execution_count": 2,
      "metadata": {
        "id": "iffdFOf1CEAN"
      },
      "outputs": [],
      "source": [
        "# set Numpy, Python, and Tensorflow seeds to get consistent results on every execution\n",
        "seed_constant = 27\n",
        "np.random.seed(seed_constant)\n",
        "random.seed(seed_constant)\n",
        "tf.random.set_seed(seed_constant)"
      ]
    },
    {
      "cell_type": "code",
      "execution_count": 3,
      "metadata": {
        "colab": {
          "base_uri": "https://localhost:8080/",
          "height": 53
        },
        "id": "mcLh22LiOHyn",
        "outputId": "59cd4c62-d2c3-4553-8f80-3509457a1e93"
      },
      "outputs": [
        {
          "output_type": "stream",
          "name": "stdout",
          "text": [
            "Mounted at /content/gdrive/\n"
          ]
        },
        {
          "output_type": "execute_result",
          "data": {
            "text/plain": [
              "'/content/gdrive/My Drive/247'"
            ],
            "application/vnd.google.colaboratory.intrinsic+json": {
              "type": "string"
            }
          },
          "metadata": {},
          "execution_count": 3
        }
      ],
      "source": [
        "# mount dataset from google drive\n",
        "drive.mount('/content/gdrive/', force_remount=True)\n",
        "gdrive_path = '/content/gdrive' + '/My Drive/247/'\n",
        "os.chdir(gdrive_path)\n",
        "os.getcwd()"
      ]
    },
    {
      "cell_type": "code",
      "execution_count": 4,
      "metadata": {
        "id": "oeDK8SzumZ1Q"
      },
      "outputs": [],
      "source": [
        "# frame dimention\n",
        "IMAGE_HEIGHT, IMAGE_WIDTH = 128, 128\n",
        "# frame number for each video (depth)\n",
        "SEQUENCE_LENGTH = 16\n",
        "# video dir path\n",
        "DATASET_DIR = gdrive_path + 'Cropped_videos'\n",
        "# labels of classes\n",
        "CLASSES_LIST = ['hemostasis', 'inflammatory', 'proliferative', 'maturation']"
      ]
    },
    {
      "cell_type": "code",
      "execution_count": 5,
      "metadata": {
        "id": "HUTeIqzpZc9J"
      },
      "outputs": [],
      "source": [
        "# image cropping\n",
        "def crop_center_square(frame):\n",
        "    y, x = frame.shape[0:2]\n",
        "    min_dim = min(y, x)\n",
        "    start_x = (x // 2) - (min_dim // 2)\n",
        "    start_y = (y // 2) - (min_dim // 2)\n",
        "    return frame[start_y:start_y+min_dim,start_x:start_x+min_dim]"
      ]
    },
    {
      "cell_type": "code",
      "execution_count": 6,
      "metadata": {
        "id": "QRDbHG0TZkYJ"
      },
      "outputs": [],
      "source": [
        "def load_video(path, resize=(128, 128)):\n",
        "    video_reader = cv2.VideoCapture(path)\n",
        "    frames = []\n",
        "    try:\n",
        "        while True:\n",
        "            ret, frame = video_reader.read()\n",
        "            if not ret:\n",
        "                  break\n",
        "            # frame = crop_center_square(frame)\n",
        "            frame = cv2.resize(frame, resize)\n",
        "            frame = frame[:, :, [2, 1, 0]]\n",
        "            black_frame = frame\n",
        "            frames.append(frame)\n",
        "    finally:\n",
        "        video_reader.release()\n",
        "    return np.array(frames) / 255.0"
      ]
    },
    {
      "cell_type": "code",
      "execution_count": 7,
      "metadata": {
        "id": "ljUWHW6Jqzu-"
      },
      "outputs": [],
      "source": [
        "def create_dataset(state):\n",
        "    # Declared Empty Lists to store the features, labels and video file path values.\n",
        "    features = []\n",
        "    labels = []\n",
        "    video_files_paths = []\n",
        "    # Iterating through all the classes mentioned in the classes list\n",
        "    for class_index, class_name in enumerate(CLASSES_LIST):\n",
        "        # Display the name of the class whose data is being extracted.\n",
        "        print(f'Extracting Data of Class: {class_name} {state}')\n",
        "        # Get the list of video files present in the specific class name directory.\n",
        "        files_list = os.listdir(os.path.join(DATASET_DIR, class_name))\n",
        "        # Iterate through all the files present in the files list.\n",
        "        for file_name in files_list:\n",
        "            # Get the complete video path.\n",
        "            video_file_path = os.path.join(DATASET_DIR, class_name, file_name)\n",
        "            # create testing data\n",
        "            if state == 'test':\n",
        "                # get the mouse number\n",
        "                mouse_number = int(video_file_path.split(' ')[2].split('_')[1].split('-')[1])\n",
        "                # get the mouse side (L or R)\n",
        "                mouse_side = video_file_path.split(' ')[2].split('_')[1].split('-')[2]\n",
        "                if mouse_number == 4 and mouse_side == 'L':\n",
        "                    frames = load_video(video_file_path)\n",
        "                    features.append(frames)\n",
        "                    labels.append(class_index)\n",
        "                    video_files_paths.append(video_file_path)\n",
        "            # create validation data\n",
        "            elif state == 'valid':\n",
        "                # get the mouse number\n",
        "                mouse_number = int(video_file_path.split(' ')[2].split('_')[1].split('-')[1])\n",
        "                # get the mouse side (L or R)\n",
        "                mouse_side = video_file_path.split(' ')[2].split('_')[1].split('-')[2]\n",
        "                if mouse_number == 4 and mouse_side == 'R':\n",
        "                    frames = load_video(video_file_path)\n",
        "                    features.append(frames)\n",
        "                    labels.append(class_index)\n",
        "                    video_files_paths.append(video_file_path)\n",
        "            # create training data\n",
        "            else:\n",
        "                # get the mouse number\n",
        "                mouse_number = int(video_file_path.split(' ')[2].split('_')[1].split('-')[1])\n",
        "                if mouse_number != 4:\n",
        "                    frames = load_video(video_file_path)\n",
        "                    features.append(frames)\n",
        "                    labels.append(class_index)\n",
        "                    video_files_paths.append(video_file_path)\n",
        "    # Converting the list to numpy arrays\n",
        "    features = np.asarray(features)\n",
        "    # print(features)\n",
        "    labels = np.array(labels)\n",
        "    # Return the frames, class index, and video file path.\n",
        "    return features, labels, video_files_paths"
      ]
    },
    {
      "cell_type": "code",
      "execution_count": 8,
      "metadata": {
        "colab": {
          "base_uri": "https://localhost:8080/"
        },
        "id": "a8rpanz9rASe",
        "outputId": "3d87b8b0-e1ed-47be-ac3a-b054e0d07a03"
      },
      "outputs": [
        {
          "output_type": "stream",
          "name": "stdout",
          "text": [
            "Extracting Data of Class: hemostasis train\n",
            "Extracting Data of Class: inflammatory train\n",
            "Extracting Data of Class: proliferative train\n",
            "Extracting Data of Class: maturation train\n",
            "Extracting Data of Class: hemostasis test\n",
            "Extracting Data of Class: inflammatory test\n",
            "Extracting Data of Class: proliferative test\n",
            "Extracting Data of Class: maturation test\n",
            "Extracting Data of Class: hemostasis valid\n",
            "Extracting Data of Class: inflammatory valid\n",
            "Extracting Data of Class: proliferative valid\n",
            "Extracting Data of Class: maturation valid\n"
          ]
        }
      ],
      "source": [
        "# 6 mice for training, 2 mice for test and validation (one wound on each mice for test one for validation)\n",
        "features_train, labels_train, video_files_paths_train = create_dataset('train')\n",
        "features_test, labels_test, video_files_paths_test = create_dataset('test')\n",
        "features_valid, labels_valid, video_files_paths_valid = create_dataset('valid')"
      ]
    },
    {
      "cell_type": "code",
      "execution_count": 9,
      "metadata": {
        "id": "dtJkK4qTAulC"
      },
      "outputs": [],
      "source": [
        "# labels to catogorical\n",
        "labels_train = keras.utils.to_categorical(labels_train)\n",
        "labels_test = keras.utils.to_categorical(labels_test)\n",
        "labels_valid = keras.utils.to_categorical(labels_valid)"
      ]
    },
    {
      "cell_type": "code",
      "execution_count": 10,
      "metadata": {
        "id": "N-9ykP4ig7IW"
      },
      "outputs": [],
      "source": [
        "def create_3D_CNN_model():\n",
        "    sample_shape = (16, 128, 128, 3)\n",
        "    model = Sequential()\n",
        "\n",
        "    ### 1\n",
        "    model.add(Conv3D(16, (3,3,3), activation='relu', kernel_initializer='he_uniform',\n",
        "                     kernel_regularizer=regularizers.L2(l2=1e-4),\n",
        "                     input_shape=sample_shape))\n",
        "    model.add(MaxPooling3D(2))\n",
        "    model.add(Dropout(0.3))\n",
        "\n",
        "    ### 2\n",
        "    model.add(Conv3D(32, (3,3,3), activation='relu', kernel_initializer='he_uniform',\n",
        "                     kernel_regularizer=regularizers.L2(l2=1e-4)))\n",
        "    model.add(MaxPooling3D(2))\n",
        "    model.add(Dropout(0.3))\n",
        "\n",
        "    model.add(GlobalAveragePooling3D())\n",
        "    model.add(Dropout(0.3))\n",
        "\n",
        "    model.add(Dense(16, activation='relu', kernel_initializer='he_uniform',\n",
        "                    kernel_regularizer=regularizers.L2(l2=1e-4)))\n",
        "    model.add(Dropout(0.4))\n",
        "\n",
        "    model.add(Dense(8, activation='relu', kernel_initializer='he_uniform',\n",
        "                    kernel_regularizer=regularizers.L2(l2=1e-4)))\n",
        "\n",
        "    model.add(Dense(len(CLASSES_LIST), activation='softmax'))\n",
        "\n",
        "    model.summary(line_length = 125)\n",
        "\n",
        "    return model"
      ]
    },
    {
      "cell_type": "code",
      "execution_count": 11,
      "metadata": {
        "colab": {
          "base_uri": "https://localhost:8080/"
        },
        "id": "Z4_GxXZBcHlB",
        "outputId": "c416ead6-2ee3-458a-9962-556c2cec0f89"
      },
      "outputs": [
        {
          "output_type": "stream",
          "name": "stdout",
          "text": [
            "Model: \"sequential\"\n",
            "_____________________________________________________________________________________________________________________________\n",
            " Layer (type)                                           Output Shape                                      Param #            \n",
            "=============================================================================================================================\n",
            " conv3d (Conv3D)                                        (None, 14, 126, 126, 16)                          1312               \n",
            "                                                                                                                             \n",
            " max_pooling3d (MaxPooling3D)                           (None, 7, 63, 63, 16)                             0                  \n",
            "                                                                                                                             \n",
            " dropout (Dropout)                                      (None, 7, 63, 63, 16)                             0                  \n",
            "                                                                                                                             \n",
            " conv3d_1 (Conv3D)                                      (None, 5, 61, 61, 32)                             13856              \n",
            "                                                                                                                             \n",
            " max_pooling3d_1 (MaxPooling3D)                         (None, 2, 30, 30, 32)                             0                  \n",
            "                                                                                                                             \n",
            " dropout_1 (Dropout)                                    (None, 2, 30, 30, 32)                             0                  \n",
            "                                                                                                                             \n",
            " global_average_pooling3d (GlobalAveragePooling3D)      (None, 32)                                        0                  \n",
            "                                                                                                                             \n",
            " dropout_2 (Dropout)                                    (None, 32)                                        0                  \n",
            "                                                                                                                             \n",
            " dense (Dense)                                          (None, 16)                                        528                \n",
            "                                                                                                                             \n",
            " dropout_3 (Dropout)                                    (None, 16)                                        0                  \n",
            "                                                                                                                             \n",
            " dense_1 (Dense)                                        (None, 8)                                         136                \n",
            "                                                                                                                             \n",
            " dense_2 (Dense)                                        (None, 4)                                         36                 \n",
            "                                                                                                                             \n",
            "=============================================================================================================================\n",
            "Total params: 15,868\n",
            "Trainable params: 15,868\n",
            "Non-trainable params: 0\n",
            "_____________________________________________________________________________________________________________________________\n",
            "Model Created Successfully!\n"
          ]
        }
      ],
      "source": [
        "# Construct the required convlstm model.\n",
        "model = create_3D_CNN_model()\n",
        " \n",
        "# Display the success message. \n",
        "print(\"Model Created Successfully!\")"
      ]
    },
    {
      "cell_type": "code",
      "execution_count": 12,
      "metadata": {
        "colab": {
          "base_uri": "https://localhost:8080/"
        },
        "id": "MwYEkaYLoyb_",
        "outputId": "10f7a25d-d21a-4bde-de9d-be45d3636a78"
      },
      "outputs": [
        {
          "output_type": "stream",
          "name": "stdout",
          "text": [
            "Epoch 1/200\n",
            "27/27 [==============================] - 8s 210ms/step - loss: 1.6620 - accuracy: 0.1770 - val_loss: 1.3201 - val_accuracy: 0.4926\n",
            "Epoch 2/200\n",
            "27/27 [==============================] - 4s 159ms/step - loss: 1.3839 - accuracy: 0.3472 - val_loss: 1.3189 - val_accuracy: 0.4963\n",
            "Epoch 3/200\n",
            "27/27 [==============================] - 4s 162ms/step - loss: 1.3109 - accuracy: 0.4084 - val_loss: 1.2740 - val_accuracy: 0.4816\n",
            "Epoch 4/200\n",
            "27/27 [==============================] - 4s 159ms/step - loss: 1.2626 - accuracy: 0.4041 - val_loss: 1.2340 - val_accuracy: 0.4816\n",
            "Epoch 5/200\n",
            "27/27 [==============================] - 4s 159ms/step - loss: 1.2379 - accuracy: 0.4146 - val_loss: 1.1869 - val_accuracy: 0.4816\n",
            "Epoch 6/200\n",
            "27/27 [==============================] - 4s 159ms/step - loss: 1.1967 - accuracy: 0.4548 - val_loss: 1.1451 - val_accuracy: 0.4632\n",
            "Epoch 7/200\n",
            "27/27 [==============================] - 4s 162ms/step - loss: 1.1712 - accuracy: 0.4752 - val_loss: 1.1290 - val_accuracy: 0.4963\n",
            "Epoch 8/200\n",
            "27/27 [==============================] - 4s 160ms/step - loss: 1.1334 - accuracy: 0.5056 - val_loss: 1.0810 - val_accuracy: 0.4779\n",
            "Epoch 9/200\n",
            "27/27 [==============================] - 4s 159ms/step - loss: 1.1050 - accuracy: 0.5260 - val_loss: 1.0701 - val_accuracy: 0.6176\n",
            "Epoch 10/200\n",
            "27/27 [==============================] - 4s 159ms/step - loss: 1.0799 - accuracy: 0.5297 - val_loss: 1.0445 - val_accuracy: 0.6066\n",
            "Epoch 11/200\n",
            "27/27 [==============================] - 4s 161ms/step - loss: 1.0244 - accuracy: 0.5563 - val_loss: 1.0001 - val_accuracy: 0.5919\n",
            "Epoch 12/200\n",
            "27/27 [==============================] - 4s 159ms/step - loss: 1.0269 - accuracy: 0.5285 - val_loss: 0.9877 - val_accuracy: 0.5956\n",
            "Epoch 13/200\n",
            "27/27 [==============================] - 4s 161ms/step - loss: 0.9998 - accuracy: 0.5606 - val_loss: 0.9411 - val_accuracy: 0.6176\n",
            "Epoch 14/200\n",
            "27/27 [==============================] - 4s 160ms/step - loss: 0.9663 - accuracy: 0.5588 - val_loss: 0.9410 - val_accuracy: 0.5993\n",
            "Epoch 15/200\n",
            "27/27 [==============================] - 4s 158ms/step - loss: 0.9621 - accuracy: 0.5637 - val_loss: 0.9100 - val_accuracy: 0.5993\n",
            "Epoch 16/200\n",
            "27/27 [==============================] - 4s 159ms/step - loss: 0.9463 - accuracy: 0.5681 - val_loss: 0.9135 - val_accuracy: 0.5919\n",
            "Epoch 17/200\n",
            "27/27 [==============================] - 4s 161ms/step - loss: 0.9240 - accuracy: 0.5687 - val_loss: 0.8629 - val_accuracy: 0.6287\n",
            "Epoch 18/200\n",
            "27/27 [==============================] - 4s 160ms/step - loss: 0.9036 - accuracy: 0.5965 - val_loss: 0.8667 - val_accuracy: 0.5882\n",
            "Epoch 19/200\n",
            "27/27 [==============================] - 4s 162ms/step - loss: 0.9052 - accuracy: 0.5767 - val_loss: 0.8647 - val_accuracy: 0.6103\n",
            "Epoch 20/200\n",
            "27/27 [==============================] - 4s 161ms/step - loss: 0.8661 - accuracy: 0.6002 - val_loss: 0.8564 - val_accuracy: 0.5919\n",
            "Epoch 21/200\n",
            "27/27 [==============================] - 4s 159ms/step - loss: 0.8729 - accuracy: 0.6033 - val_loss: 0.8312 - val_accuracy: 0.5882\n",
            "Epoch 22/200\n",
            "27/27 [==============================] - 4s 160ms/step - loss: 0.8461 - accuracy: 0.5965 - val_loss: 0.8142 - val_accuracy: 0.6176\n",
            "Epoch 23/200\n",
            "27/27 [==============================] - 4s 158ms/step - loss: 0.8383 - accuracy: 0.6182 - val_loss: 0.8148 - val_accuracy: 0.5956\n",
            "Epoch 24/200\n",
            "27/27 [==============================] - 4s 160ms/step - loss: 0.8359 - accuracy: 0.6225 - val_loss: 0.8172 - val_accuracy: 0.6176\n",
            "Epoch 25/200\n",
            "27/27 [==============================] - 4s 159ms/step - loss: 0.8295 - accuracy: 0.6139 - val_loss: 0.8045 - val_accuracy: 0.6324\n",
            "Epoch 26/200\n",
            "27/27 [==============================] - 4s 159ms/step - loss: 0.8407 - accuracy: 0.6231 - val_loss: 0.8054 - val_accuracy: 0.6397\n",
            "Epoch 27/200\n",
            "27/27 [==============================] - 4s 160ms/step - loss: 0.8182 - accuracy: 0.6343 - val_loss: 0.7868 - val_accuracy: 0.6213\n",
            "Epoch 28/200\n",
            "27/27 [==============================] - 4s 159ms/step - loss: 0.8267 - accuracy: 0.6287 - val_loss: 0.7987 - val_accuracy: 0.6066\n",
            "Epoch 29/200\n",
            "27/27 [==============================] - 4s 159ms/step - loss: 0.7985 - accuracy: 0.6287 - val_loss: 0.7777 - val_accuracy: 0.6360\n",
            "Epoch 30/200\n",
            "27/27 [==============================] - 4s 159ms/step - loss: 0.8040 - accuracy: 0.6330 - val_loss: 0.7887 - val_accuracy: 0.5809\n",
            "Epoch 31/200\n",
            "27/27 [==============================] - 4s 159ms/step - loss: 0.7929 - accuracy: 0.6405 - val_loss: 0.7853 - val_accuracy: 0.5993\n",
            "Epoch 32/200\n",
            "27/27 [==============================] - 4s 159ms/step - loss: 0.7833 - accuracy: 0.6491 - val_loss: 0.7831 - val_accuracy: 0.5993\n",
            "Epoch 33/200\n",
            "27/27 [==============================] - 4s 160ms/step - loss: 0.7865 - accuracy: 0.6374 - val_loss: 0.7795 - val_accuracy: 0.6544\n",
            "Epoch 34/200\n",
            "27/27 [==============================] - 4s 159ms/step - loss: 0.7912 - accuracy: 0.6380 - val_loss: 0.7722 - val_accuracy: 0.6507\n",
            "Epoch 35/200\n",
            "27/27 [==============================] - 4s 160ms/step - loss: 0.7820 - accuracy: 0.6349 - val_loss: 0.7668 - val_accuracy: 0.6029\n",
            "Epoch 36/200\n",
            "27/27 [==============================] - 4s 159ms/step - loss: 0.7823 - accuracy: 0.6361 - val_loss: 0.7712 - val_accuracy: 0.5993\n",
            "Epoch 37/200\n",
            "27/27 [==============================] - 4s 159ms/step - loss: 0.7703 - accuracy: 0.6584 - val_loss: 0.7623 - val_accuracy: 0.6250\n",
            "Epoch 38/200\n",
            "27/27 [==============================] - 4s 159ms/step - loss: 0.7763 - accuracy: 0.6467 - val_loss: 0.7650 - val_accuracy: 0.6176\n",
            "Epoch 39/200\n",
            "27/27 [==============================] - 4s 159ms/step - loss: 0.7565 - accuracy: 0.6584 - val_loss: 0.7629 - val_accuracy: 0.6287\n",
            "Epoch 40/200\n",
            "27/27 [==============================] - 4s 162ms/step - loss: 0.7757 - accuracy: 0.6603 - val_loss: 0.7676 - val_accuracy: 0.6213\n",
            "Epoch 41/200\n",
            "27/27 [==============================] - 4s 161ms/step - loss: 0.7643 - accuracy: 0.6423 - val_loss: 0.7602 - val_accuracy: 0.6397\n",
            "Epoch 42/200\n",
            "27/27 [==============================] - 4s 160ms/step - loss: 0.7507 - accuracy: 0.6578 - val_loss: 0.7550 - val_accuracy: 0.6801\n",
            "Epoch 43/200\n",
            "27/27 [==============================] - 4s 162ms/step - loss: 0.7439 - accuracy: 0.6621 - val_loss: 0.7491 - val_accuracy: 0.6728\n",
            "Epoch 44/200\n",
            "27/27 [==============================] - 4s 159ms/step - loss: 0.7400 - accuracy: 0.6825 - val_loss: 0.7428 - val_accuracy: 0.6875\n",
            "Epoch 45/200\n",
            "27/27 [==============================] - 4s 160ms/step - loss: 0.7074 - accuracy: 0.6925 - val_loss: 0.7330 - val_accuracy: 0.6949\n",
            "Epoch 46/200\n",
            "27/27 [==============================] - 4s 160ms/step - loss: 0.7274 - accuracy: 0.6825 - val_loss: 0.7401 - val_accuracy: 0.6875\n",
            "Epoch 47/200\n",
            "27/27 [==============================] - 4s 160ms/step - loss: 0.7263 - accuracy: 0.6832 - val_loss: 0.7343 - val_accuracy: 0.6838\n",
            "Epoch 48/200\n",
            "27/27 [==============================] - 4s 161ms/step - loss: 0.7155 - accuracy: 0.6776 - val_loss: 0.7377 - val_accuracy: 0.6875\n",
            "Epoch 49/200\n",
            "27/27 [==============================] - 4s 160ms/step - loss: 0.7009 - accuracy: 0.6986 - val_loss: 0.7233 - val_accuracy: 0.7132\n",
            "Epoch 50/200\n",
            "27/27 [==============================] - 4s 160ms/step - loss: 0.7232 - accuracy: 0.6819 - val_loss: 0.7362 - val_accuracy: 0.6875\n",
            "Epoch 51/200\n",
            "27/27 [==============================] - 4s 161ms/step - loss: 0.7247 - accuracy: 0.6782 - val_loss: 0.7279 - val_accuracy: 0.6838\n",
            "Epoch 52/200\n",
            "27/27 [==============================] - 4s 160ms/step - loss: 0.6943 - accuracy: 0.6955 - val_loss: 0.7180 - val_accuracy: 0.6875\n",
            "Epoch 53/200\n",
            "27/27 [==============================] - 4s 161ms/step - loss: 0.7140 - accuracy: 0.6739 - val_loss: 0.7088 - val_accuracy: 0.7096\n",
            "Epoch 54/200\n",
            "27/27 [==============================] - 4s 159ms/step - loss: 0.7131 - accuracy: 0.6900 - val_loss: 0.7117 - val_accuracy: 0.7426\n",
            "Epoch 55/200\n",
            "27/27 [==============================] - 4s 159ms/step - loss: 0.6794 - accuracy: 0.6925 - val_loss: 0.7068 - val_accuracy: 0.7059\n",
            "Epoch 56/200\n",
            "27/27 [==============================] - 4s 159ms/step - loss: 0.6808 - accuracy: 0.7005 - val_loss: 0.6955 - val_accuracy: 0.7096\n",
            "Epoch 57/200\n",
            "27/27 [==============================] - 4s 159ms/step - loss: 0.6798 - accuracy: 0.7054 - val_loss: 0.6882 - val_accuracy: 0.7243\n",
            "Epoch 58/200\n",
            "27/27 [==============================] - 4s 160ms/step - loss: 0.6848 - accuracy: 0.6906 - val_loss: 0.6943 - val_accuracy: 0.7022\n",
            "Epoch 59/200\n",
            "27/27 [==============================] - 4s 160ms/step - loss: 0.6568 - accuracy: 0.7061 - val_loss: 0.6890 - val_accuracy: 0.7206\n",
            "Epoch 60/200\n",
            "27/27 [==============================] - 4s 160ms/step - loss: 0.6563 - accuracy: 0.7098 - val_loss: 0.6884 - val_accuracy: 0.7316\n",
            "Epoch 61/200\n",
            "27/27 [==============================] - 4s 161ms/step - loss: 0.6497 - accuracy: 0.7141 - val_loss: 0.6879 - val_accuracy: 0.7132\n",
            "Epoch 62/200\n",
            "27/27 [==============================] - 4s 161ms/step - loss: 0.6728 - accuracy: 0.7005 - val_loss: 0.6860 - val_accuracy: 0.7169\n",
            "Epoch 63/200\n",
            "27/27 [==============================] - 4s 159ms/step - loss: 0.6493 - accuracy: 0.7147 - val_loss: 0.6768 - val_accuracy: 0.7316\n",
            "Epoch 64/200\n",
            "27/27 [==============================] - 4s 159ms/step - loss: 0.6680 - accuracy: 0.7129 - val_loss: 0.6711 - val_accuracy: 0.6985\n",
            "Epoch 65/200\n",
            "27/27 [==============================] - 4s 159ms/step - loss: 0.6545 - accuracy: 0.7147 - val_loss: 0.6643 - val_accuracy: 0.7426\n",
            "Epoch 66/200\n",
            "27/27 [==============================] - 4s 158ms/step - loss: 0.6572 - accuracy: 0.7147 - val_loss: 0.6688 - val_accuracy: 0.7426\n",
            "Epoch 67/200\n",
            "27/27 [==============================] - 4s 159ms/step - loss: 0.6273 - accuracy: 0.7197 - val_loss: 0.6548 - val_accuracy: 0.7463\n",
            "Epoch 68/200\n",
            "27/27 [==============================] - 4s 159ms/step - loss: 0.6411 - accuracy: 0.7203 - val_loss: 0.6532 - val_accuracy: 0.7463\n",
            "Epoch 69/200\n",
            "27/27 [==============================] - 4s 159ms/step - loss: 0.6288 - accuracy: 0.7321 - val_loss: 0.6475 - val_accuracy: 0.7390\n",
            "Epoch 70/200\n",
            "27/27 [==============================] - 4s 158ms/step - loss: 0.6413 - accuracy: 0.7271 - val_loss: 0.6511 - val_accuracy: 0.7610\n",
            "Epoch 71/200\n",
            "27/27 [==============================] - 4s 160ms/step - loss: 0.6162 - accuracy: 0.7191 - val_loss: 0.6423 - val_accuracy: 0.7169\n",
            "Epoch 72/200\n",
            "27/27 [==============================] - 4s 159ms/step - loss: 0.6381 - accuracy: 0.7222 - val_loss: 0.6505 - val_accuracy: 0.7169\n",
            "Epoch 73/200\n",
            "27/27 [==============================] - 4s 159ms/step - loss: 0.6480 - accuracy: 0.7259 - val_loss: 0.6803 - val_accuracy: 0.7316\n",
            "Epoch 74/200\n",
            "27/27 [==============================] - 4s 160ms/step - loss: 0.6345 - accuracy: 0.7197 - val_loss: 0.6475 - val_accuracy: 0.7279\n",
            "Epoch 75/200\n",
            "27/27 [==============================] - 4s 159ms/step - loss: 0.6114 - accuracy: 0.7302 - val_loss: 0.6401 - val_accuracy: 0.7206\n",
            "Epoch 76/200\n",
            "27/27 [==============================] - 4s 158ms/step - loss: 0.6076 - accuracy: 0.7265 - val_loss: 0.6345 - val_accuracy: 0.7243\n",
            "Epoch 77/200\n",
            "27/27 [==============================] - 4s 160ms/step - loss: 0.6091 - accuracy: 0.7407 - val_loss: 0.6354 - val_accuracy: 0.7610\n",
            "Epoch 78/200\n",
            "27/27 [==============================] - 4s 159ms/step - loss: 0.5954 - accuracy: 0.7426 - val_loss: 0.6333 - val_accuracy: 0.7059\n",
            "Epoch 79/200\n",
            "27/27 [==============================] - 4s 160ms/step - loss: 0.5986 - accuracy: 0.7339 - val_loss: 0.6212 - val_accuracy: 0.7390\n",
            "Epoch 80/200\n",
            "27/27 [==============================] - 4s 160ms/step - loss: 0.6136 - accuracy: 0.7327 - val_loss: 0.6262 - val_accuracy: 0.7721\n",
            "Epoch 81/200\n",
            "27/27 [==============================] - 4s 157ms/step - loss: 0.5931 - accuracy: 0.7556 - val_loss: 0.6279 - val_accuracy: 0.7132\n",
            "Epoch 82/200\n",
            "27/27 [==============================] - 4s 158ms/step - loss: 0.5912 - accuracy: 0.7488 - val_loss: 0.6214 - val_accuracy: 0.7316\n",
            "Epoch 83/200\n",
            "27/27 [==============================] - 4s 159ms/step - loss: 0.6141 - accuracy: 0.7321 - val_loss: 0.6513 - val_accuracy: 0.7169\n",
            "Epoch 84/200\n",
            "27/27 [==============================] - 4s 160ms/step - loss: 0.6042 - accuracy: 0.7438 - val_loss: 0.6092 - val_accuracy: 0.7390\n",
            "Epoch 85/200\n",
            "27/27 [==============================] - 4s 159ms/step - loss: 0.5805 - accuracy: 0.7519 - val_loss: 0.6131 - val_accuracy: 0.7426\n",
            "Epoch 86/200\n",
            "27/27 [==============================] - 4s 160ms/step - loss: 0.5811 - accuracy: 0.7506 - val_loss: 0.6135 - val_accuracy: 0.7243\n",
            "Epoch 87/200\n",
            "27/27 [==============================] - 4s 159ms/step - loss: 0.5891 - accuracy: 0.7339 - val_loss: 0.6758 - val_accuracy: 0.6949\n",
            "Epoch 88/200\n",
            "27/27 [==============================] - 4s 160ms/step - loss: 0.6037 - accuracy: 0.7407 - val_loss: 0.6268 - val_accuracy: 0.7610\n",
            "Epoch 89/200\n",
            "27/27 [==============================] - 4s 160ms/step - loss: 0.5918 - accuracy: 0.7426 - val_loss: 0.6133 - val_accuracy: 0.7500\n",
            "Epoch 90/200\n",
            "27/27 [==============================] - 4s 161ms/step - loss: 0.5727 - accuracy: 0.7500 - val_loss: 0.6252 - val_accuracy: 0.7390\n",
            "Epoch 91/200\n",
            "27/27 [==============================] - 4s 161ms/step - loss: 0.5766 - accuracy: 0.7506 - val_loss: 0.6244 - val_accuracy: 0.7500\n",
            "Epoch 92/200\n",
            "27/27 [==============================] - 4s 159ms/step - loss: 0.5835 - accuracy: 0.7494 - val_loss: 0.6098 - val_accuracy: 0.7463\n",
            "Epoch 93/200\n",
            "27/27 [==============================] - 4s 158ms/step - loss: 0.5853 - accuracy: 0.7413 - val_loss: 0.6142 - val_accuracy: 0.7169\n",
            "Epoch 94/200\n",
            "27/27 [==============================] - 4s 160ms/step - loss: 0.5778 - accuracy: 0.7444 - val_loss: 0.6161 - val_accuracy: 0.7316\n",
            "Epoch 95/200\n",
            "27/27 [==============================] - 4s 160ms/step - loss: 0.5697 - accuracy: 0.7531 - val_loss: 0.6105 - val_accuracy: 0.7279\n",
            "Epoch 96/200\n",
            "27/27 [==============================] - 4s 161ms/step - loss: 0.5727 - accuracy: 0.7537 - val_loss: 0.6123 - val_accuracy: 0.7426\n",
            "Epoch 97/200\n",
            "27/27 [==============================] - 4s 161ms/step - loss: 0.5499 - accuracy: 0.7636 - val_loss: 0.6328 - val_accuracy: 0.7096\n",
            "Epoch 98/200\n",
            "27/27 [==============================] - 4s 159ms/step - loss: 0.5652 - accuracy: 0.7568 - val_loss: 0.6009 - val_accuracy: 0.7537\n",
            "Epoch 99/200\n",
            "27/27 [==============================] - 4s 161ms/step - loss: 0.5652 - accuracy: 0.7574 - val_loss: 0.6034 - val_accuracy: 0.7353\n",
            "Epoch 100/200\n",
            "27/27 [==============================] - 4s 159ms/step - loss: 0.5725 - accuracy: 0.7531 - val_loss: 0.5986 - val_accuracy: 0.7537\n",
            "Epoch 101/200\n",
            "27/27 [==============================] - 4s 158ms/step - loss: 0.5616 - accuracy: 0.7667 - val_loss: 0.6253 - val_accuracy: 0.7022\n",
            "Epoch 102/200\n",
            "27/27 [==============================] - 4s 162ms/step - loss: 0.5517 - accuracy: 0.7667 - val_loss: 0.6158 - val_accuracy: 0.7059\n",
            "Epoch 103/200\n",
            "27/27 [==============================] - 4s 159ms/step - loss: 0.5546 - accuracy: 0.7655 - val_loss: 0.6185 - val_accuracy: 0.7059\n",
            "Epoch 104/200\n",
            "27/27 [==============================] - 4s 161ms/step - loss: 0.5396 - accuracy: 0.7692 - val_loss: 0.5996 - val_accuracy: 0.7390\n",
            "Epoch 105/200\n",
            "27/27 [==============================] - 4s 161ms/step - loss: 0.5446 - accuracy: 0.7723 - val_loss: 0.5924 - val_accuracy: 0.7500\n",
            "Epoch 106/200\n",
            "27/27 [==============================] - 4s 163ms/step - loss: 0.5481 - accuracy: 0.7710 - val_loss: 0.6080 - val_accuracy: 0.7316\n",
            "Epoch 107/200\n",
            "27/27 [==============================] - 4s 159ms/step - loss: 0.5547 - accuracy: 0.7772 - val_loss: 0.6088 - val_accuracy: 0.7316\n",
            "Epoch 108/200\n",
            "27/27 [==============================] - 4s 162ms/step - loss: 0.5427 - accuracy: 0.7760 - val_loss: 0.6258 - val_accuracy: 0.7059\n",
            "Epoch 109/200\n",
            "27/27 [==============================] - 4s 158ms/step - loss: 0.5539 - accuracy: 0.7618 - val_loss: 0.5930 - val_accuracy: 0.7537\n",
            "Epoch 110/200\n",
            "27/27 [==============================] - 4s 159ms/step - loss: 0.5334 - accuracy: 0.7704 - val_loss: 0.6115 - val_accuracy: 0.7169\n",
            "Epoch 111/200\n",
            "27/27 [==============================] - 4s 159ms/step - loss: 0.5442 - accuracy: 0.7649 - val_loss: 0.5859 - val_accuracy: 0.7463\n",
            "Epoch 112/200\n",
            "27/27 [==============================] - 4s 159ms/step - loss: 0.5343 - accuracy: 0.7822 - val_loss: 0.5922 - val_accuracy: 0.7463\n",
            "Epoch 113/200\n",
            "27/27 [==============================] - 4s 159ms/step - loss: 0.5563 - accuracy: 0.7599 - val_loss: 0.5969 - val_accuracy: 0.7426\n",
            "Epoch 114/200\n",
            "27/27 [==============================] - 4s 160ms/step - loss: 0.5382 - accuracy: 0.7717 - val_loss: 0.6173 - val_accuracy: 0.7243\n",
            "Epoch 115/200\n",
            "27/27 [==============================] - 4s 159ms/step - loss: 0.5422 - accuracy: 0.7698 - val_loss: 0.6129 - val_accuracy: 0.7279\n",
            "Epoch 116/200\n",
            "27/27 [==============================] - 4s 158ms/step - loss: 0.5273 - accuracy: 0.7791 - val_loss: 0.5846 - val_accuracy: 0.7537\n",
            "Epoch 117/200\n",
            "27/27 [==============================] - 4s 159ms/step - loss: 0.5256 - accuracy: 0.7679 - val_loss: 0.6214 - val_accuracy: 0.7243\n",
            "Epoch 118/200\n",
            "27/27 [==============================] - 4s 159ms/step - loss: 0.5398 - accuracy: 0.7673 - val_loss: 0.6301 - val_accuracy: 0.6949\n",
            "Epoch 119/200\n",
            "27/27 [==============================] - 4s 159ms/step - loss: 0.5122 - accuracy: 0.7908 - val_loss: 0.5886 - val_accuracy: 0.7426\n",
            "Epoch 120/200\n",
            "27/27 [==============================] - 4s 158ms/step - loss: 0.5307 - accuracy: 0.7698 - val_loss: 0.6121 - val_accuracy: 0.7353\n",
            "Epoch 121/200\n",
            "27/27 [==============================] - 4s 159ms/step - loss: 0.5547 - accuracy: 0.7649 - val_loss: 0.5944 - val_accuracy: 0.7353\n",
            "Epoch 122/200\n",
            "27/27 [==============================] - 4s 160ms/step - loss: 0.5365 - accuracy: 0.7853 - val_loss: 0.5831 - val_accuracy: 0.7500\n",
            "Epoch 123/200\n",
            "27/27 [==============================] - 4s 159ms/step - loss: 0.5366 - accuracy: 0.7772 - val_loss: 0.6065 - val_accuracy: 0.7206\n",
            "Epoch 124/200\n",
            "27/27 [==============================] - 4s 161ms/step - loss: 0.5392 - accuracy: 0.7760 - val_loss: 0.5878 - val_accuracy: 0.7463\n",
            "Epoch 125/200\n",
            "27/27 [==============================] - 4s 158ms/step - loss: 0.5107 - accuracy: 0.7939 - val_loss: 0.6103 - val_accuracy: 0.7243\n",
            "Epoch 126/200\n",
            "27/27 [==============================] - 4s 159ms/step - loss: 0.5233 - accuracy: 0.7847 - val_loss: 0.6027 - val_accuracy: 0.7353\n",
            "Epoch 127/200\n",
            "27/27 [==============================] - 4s 159ms/step - loss: 0.5165 - accuracy: 0.7890 - val_loss: 0.6223 - val_accuracy: 0.7243\n",
            "Epoch 128/200\n",
            "27/27 [==============================] - 4s 160ms/step - loss: 0.5135 - accuracy: 0.7822 - val_loss: 0.6151 - val_accuracy: 0.7279\n",
            "Epoch 129/200\n",
            "27/27 [==============================] - 4s 159ms/step - loss: 0.4963 - accuracy: 0.7939 - val_loss: 0.6182 - val_accuracy: 0.7316\n",
            "Epoch 130/200\n",
            "27/27 [==============================] - 4s 161ms/step - loss: 0.5004 - accuracy: 0.7946 - val_loss: 0.6462 - val_accuracy: 0.7022\n",
            "Epoch 131/200\n",
            "27/27 [==============================] - 4s 158ms/step - loss: 0.4935 - accuracy: 0.7939 - val_loss: 0.6692 - val_accuracy: 0.7022\n",
            "Epoch 132/200\n",
            "27/27 [==============================] - 4s 159ms/step - loss: 0.5192 - accuracy: 0.7816 - val_loss: 0.6564 - val_accuracy: 0.7279\n",
            "Epoch 133/200\n",
            "27/27 [==============================] - 4s 158ms/step - loss: 0.5290 - accuracy: 0.7834 - val_loss: 0.6834 - val_accuracy: 0.6912\n",
            "Epoch 134/200\n",
            "27/27 [==============================] - 4s 160ms/step - loss: 0.5014 - accuracy: 0.7927 - val_loss: 0.6208 - val_accuracy: 0.7022\n",
            "Epoch 135/200\n",
            "27/27 [==============================] - 4s 159ms/step - loss: 0.4903 - accuracy: 0.7989 - val_loss: 0.6549 - val_accuracy: 0.7243\n",
            "Epoch 136/200\n",
            "27/27 [==============================] - 4s 159ms/step - loss: 0.5028 - accuracy: 0.7791 - val_loss: 0.6212 - val_accuracy: 0.7169\n",
            "Epoch 137/200\n",
            "27/27 [==============================] - 4s 160ms/step - loss: 0.5074 - accuracy: 0.7970 - val_loss: 0.6362 - val_accuracy: 0.7206\n",
            "Epoch 138/200\n",
            "27/27 [==============================] - 4s 159ms/step - loss: 0.5164 - accuracy: 0.7816 - val_loss: 0.5902 - val_accuracy: 0.7500\n",
            "Epoch 139/200\n",
            "27/27 [==============================] - 4s 159ms/step - loss: 0.5075 - accuracy: 0.7884 - val_loss: 0.6049 - val_accuracy: 0.7316\n",
            "Epoch 140/200\n",
            "27/27 [==============================] - 4s 159ms/step - loss: 0.5131 - accuracy: 0.7915 - val_loss: 0.5872 - val_accuracy: 0.7537\n",
            "Epoch 141/200\n",
            "27/27 [==============================] - 4s 160ms/step - loss: 0.4981 - accuracy: 0.7976 - val_loss: 0.6078 - val_accuracy: 0.7316\n",
            "Epoch 142/200\n",
            "27/27 [==============================] - 4s 160ms/step - loss: 0.5010 - accuracy: 0.7939 - val_loss: 0.6592 - val_accuracy: 0.7132\n",
            "Epoch 143/200\n",
            "27/27 [==============================] - 4s 160ms/step - loss: 0.5180 - accuracy: 0.7816 - val_loss: 0.6001 - val_accuracy: 0.7353\n",
            "Epoch 144/200\n",
            "27/27 [==============================] - 4s 164ms/step - loss: 0.4968 - accuracy: 0.7958 - val_loss: 0.5823 - val_accuracy: 0.7316\n",
            "Epoch 145/200\n",
            "27/27 [==============================] - 4s 160ms/step - loss: 0.4833 - accuracy: 0.7946 - val_loss: 0.6133 - val_accuracy: 0.7243\n",
            "Epoch 146/200\n",
            "27/27 [==============================] - 4s 160ms/step - loss: 0.4736 - accuracy: 0.8088 - val_loss: 0.6066 - val_accuracy: 0.7353\n",
            "Epoch 147/200\n",
            "27/27 [==============================] - 4s 159ms/step - loss: 0.4853 - accuracy: 0.8014 - val_loss: 0.5857 - val_accuracy: 0.7426\n",
            "Epoch 148/200\n",
            "27/27 [==============================] - 4s 162ms/step - loss: 0.4973 - accuracy: 0.7958 - val_loss: 0.6413 - val_accuracy: 0.7132\n",
            "Epoch 149/200\n",
            "27/27 [==============================] - 4s 158ms/step - loss: 0.4992 - accuracy: 0.7983 - val_loss: 0.5879 - val_accuracy: 0.7426\n",
            "Epoch 150/200\n",
            "27/27 [==============================] - 4s 159ms/step - loss: 0.5022 - accuracy: 0.7915 - val_loss: 0.6047 - val_accuracy: 0.7316\n",
            "Epoch 151/200\n",
            "27/27 [==============================] - 4s 160ms/step - loss: 0.4756 - accuracy: 0.8045 - val_loss: 0.6069 - val_accuracy: 0.7426\n",
            "Epoch 152/200\n",
            "27/27 [==============================] - 4s 161ms/step - loss: 0.5058 - accuracy: 0.7896 - val_loss: 0.6348 - val_accuracy: 0.7279\n",
            "Epoch 153/200\n",
            "27/27 [==============================] - 4s 161ms/step - loss: 0.5026 - accuracy: 0.7865 - val_loss: 0.5871 - val_accuracy: 0.7500\n",
            "Epoch 154/200\n",
            "27/27 [==============================] - 4s 160ms/step - loss: 0.4872 - accuracy: 0.7908 - val_loss: 0.6281 - val_accuracy: 0.7169\n",
            "Epoch 155/200\n",
            "27/27 [==============================] - 4s 160ms/step - loss: 0.4830 - accuracy: 0.7995 - val_loss: 0.6133 - val_accuracy: 0.7390\n",
            "Epoch 156/200\n",
            "27/27 [==============================] - 4s 159ms/step - loss: 0.4841 - accuracy: 0.8045 - val_loss: 0.6173 - val_accuracy: 0.7426\n",
            "Epoch 157/200\n",
            "27/27 [==============================] - 4s 159ms/step - loss: 0.4848 - accuracy: 0.7939 - val_loss: 0.5826 - val_accuracy: 0.7647\n",
            "Epoch 158/200\n",
            "27/27 [==============================] - 4s 158ms/step - loss: 0.5020 - accuracy: 0.7970 - val_loss: 0.6136 - val_accuracy: 0.7316\n",
            "Epoch 159/200\n",
            "27/27 [==============================] - 4s 159ms/step - loss: 0.4761 - accuracy: 0.7952 - val_loss: 0.7237 - val_accuracy: 0.7096\n",
            "Epoch 160/200\n",
            "27/27 [==============================] - 4s 161ms/step - loss: 0.4848 - accuracy: 0.7921 - val_loss: 0.6008 - val_accuracy: 0.7426\n",
            "Epoch 161/200\n",
            "27/27 [==============================] - 4s 160ms/step - loss: 0.4765 - accuracy: 0.8038 - val_loss: 0.6137 - val_accuracy: 0.7426\n",
            "Epoch 162/200\n",
            "27/27 [==============================] - 4s 158ms/step - loss: 0.4738 - accuracy: 0.8057 - val_loss: 0.6357 - val_accuracy: 0.7426\n",
            "Epoch 163/200\n",
            "27/27 [==============================] - 4s 159ms/step - loss: 0.4851 - accuracy: 0.8069 - val_loss: 0.6432 - val_accuracy: 0.7390\n",
            "Epoch 164/200\n",
            "27/27 [==============================] - 4s 160ms/step - loss: 0.4872 - accuracy: 0.7983 - val_loss: 0.5793 - val_accuracy: 0.7537\n",
            "Epoch 165/200\n",
            "27/27 [==============================] - 4s 161ms/step - loss: 0.5018 - accuracy: 0.7877 - val_loss: 0.5928 - val_accuracy: 0.7463\n",
            "Epoch 166/200\n",
            "27/27 [==============================] - 4s 158ms/step - loss: 0.4906 - accuracy: 0.7896 - val_loss: 0.6381 - val_accuracy: 0.7243\n",
            "Epoch 167/200\n",
            "27/27 [==============================] - 4s 159ms/step - loss: 0.4670 - accuracy: 0.8224 - val_loss: 0.7037 - val_accuracy: 0.7132\n",
            "Epoch 168/200\n",
            "27/27 [==============================] - 4s 160ms/step - loss: 0.4729 - accuracy: 0.8119 - val_loss: 0.6605 - val_accuracy: 0.7243\n",
            "Epoch 169/200\n",
            "27/27 [==============================] - 4s 160ms/step - loss: 0.4789 - accuracy: 0.7952 - val_loss: 0.6034 - val_accuracy: 0.7353\n",
            "Epoch 170/200\n",
            "27/27 [==============================] - 4s 158ms/step - loss: 0.4677 - accuracy: 0.8045 - val_loss: 0.6063 - val_accuracy: 0.7353\n",
            "Epoch 171/200\n",
            "27/27 [==============================] - 4s 160ms/step - loss: 0.4717 - accuracy: 0.8162 - val_loss: 0.6191 - val_accuracy: 0.7390\n",
            "Epoch 172/200\n",
            "27/27 [==============================] - 4s 160ms/step - loss: 0.4810 - accuracy: 0.7989 - val_loss: 0.6631 - val_accuracy: 0.7426\n",
            "Epoch 173/200\n",
            "27/27 [==============================] - 4s 160ms/step - loss: 0.4676 - accuracy: 0.8032 - val_loss: 0.6370 - val_accuracy: 0.7316\n",
            "Epoch 174/200\n",
            "27/27 [==============================] - 4s 161ms/step - loss: 0.4600 - accuracy: 0.8119 - val_loss: 0.6355 - val_accuracy: 0.7279\n",
            "Epoch 175/200\n",
            "27/27 [==============================] - 4s 159ms/step - loss: 0.4829 - accuracy: 0.8106 - val_loss: 0.6391 - val_accuracy: 0.7169\n",
            "Epoch 176/200\n",
            "27/27 [==============================] - 4s 161ms/step - loss: 0.4788 - accuracy: 0.8032 - val_loss: 0.6194 - val_accuracy: 0.7279\n",
            "Epoch 177/200\n",
            "27/27 [==============================] - 4s 161ms/step - loss: 0.4630 - accuracy: 0.8094 - val_loss: 0.6849 - val_accuracy: 0.7132\n",
            "Epoch 178/200\n",
            "27/27 [==============================] - 4s 159ms/step - loss: 0.4730 - accuracy: 0.8063 - val_loss: 0.6258 - val_accuracy: 0.7279\n",
            "Epoch 179/200\n",
            "27/27 [==============================] - 4s 159ms/step - loss: 0.4652 - accuracy: 0.8075 - val_loss: 0.6808 - val_accuracy: 0.7279\n",
            "Epoch 180/200\n",
            "27/27 [==============================] - 4s 159ms/step - loss: 0.4755 - accuracy: 0.8051 - val_loss: 0.5781 - val_accuracy: 0.7537\n",
            "Epoch 181/200\n",
            "27/27 [==============================] - 4s 160ms/step - loss: 0.4806 - accuracy: 0.7952 - val_loss: 0.6439 - val_accuracy: 0.7169\n",
            "Epoch 182/200\n",
            "27/27 [==============================] - 4s 160ms/step - loss: 0.4754 - accuracy: 0.7976 - val_loss: 0.6463 - val_accuracy: 0.7390\n",
            "Epoch 183/200\n",
            "27/27 [==============================] - 4s 160ms/step - loss: 0.4655 - accuracy: 0.8057 - val_loss: 0.7082 - val_accuracy: 0.7206\n",
            "Epoch 184/200\n",
            "27/27 [==============================] - 4s 161ms/step - loss: 0.4637 - accuracy: 0.8088 - val_loss: 0.6724 - val_accuracy: 0.7243\n",
            "Epoch 185/200\n",
            "27/27 [==============================] - 4s 160ms/step - loss: 0.4714 - accuracy: 0.8001 - val_loss: 0.6412 - val_accuracy: 0.7390\n",
            "Epoch 186/200\n",
            "27/27 [==============================] - 4s 159ms/step - loss: 0.4741 - accuracy: 0.8057 - val_loss: 0.6189 - val_accuracy: 0.7463\n",
            "Epoch 187/200\n",
            "27/27 [==============================] - 4s 160ms/step - loss: 0.4523 - accuracy: 0.8199 - val_loss: 0.6391 - val_accuracy: 0.7463\n",
            "Epoch 188/200\n",
            "27/27 [==============================] - 4s 161ms/step - loss: 0.4657 - accuracy: 0.8094 - val_loss: 0.5836 - val_accuracy: 0.7390\n",
            "Epoch 189/200\n",
            "27/27 [==============================] - 4s 160ms/step - loss: 0.4576 - accuracy: 0.8144 - val_loss: 0.6066 - val_accuracy: 0.7426\n",
            "Epoch 190/200\n",
            "27/27 [==============================] - 4s 158ms/step - loss: 0.4848 - accuracy: 0.8014 - val_loss: 0.6284 - val_accuracy: 0.7426\n",
            "Epoch 191/200\n",
            "27/27 [==============================] - 4s 159ms/step - loss: 0.4752 - accuracy: 0.7983 - val_loss: 0.6562 - val_accuracy: 0.7353\n",
            "Epoch 192/200\n",
            "27/27 [==============================] - 4s 160ms/step - loss: 0.4593 - accuracy: 0.8162 - val_loss: 0.6234 - val_accuracy: 0.7390\n",
            "Epoch 193/200\n",
            "27/27 [==============================] - 4s 161ms/step - loss: 0.4443 - accuracy: 0.8267 - val_loss: 0.5759 - val_accuracy: 0.7426\n",
            "Epoch 194/200\n",
            "27/27 [==============================] - 4s 160ms/step - loss: 0.4562 - accuracy: 0.7989 - val_loss: 0.6209 - val_accuracy: 0.7390\n",
            "Epoch 195/200\n",
            "27/27 [==============================] - 4s 159ms/step - loss: 0.4515 - accuracy: 0.8125 - val_loss: 0.6139 - val_accuracy: 0.7463\n",
            "Epoch 196/200\n",
            "27/27 [==============================] - 4s 158ms/step - loss: 0.4805 - accuracy: 0.8045 - val_loss: 0.6164 - val_accuracy: 0.7426\n",
            "Epoch 197/200\n",
            "27/27 [==============================] - 4s 160ms/step - loss: 0.4625 - accuracy: 0.7995 - val_loss: 0.6555 - val_accuracy: 0.7316\n",
            "Epoch 198/200\n",
            "27/27 [==============================] - 4s 159ms/step - loss: 0.4706 - accuracy: 0.8187 - val_loss: 0.7170 - val_accuracy: 0.7132\n",
            "Epoch 199/200\n",
            "27/27 [==============================] - 4s 159ms/step - loss: 0.4857 - accuracy: 0.8051 - val_loss: 0.5689 - val_accuracy: 0.7831\n",
            "Epoch 200/200\n",
            "27/27 [==============================] - 4s 159ms/step - loss: 0.4657 - accuracy: 0.8119 - val_loss: 0.5785 - val_accuracy: 0.7610\n"
          ]
        }
      ],
      "source": [
        "# Create an Instance of Early Stopping Callback\n",
        "early_stopping_callback = keras.callbacks.EarlyStopping(monitor = 'accuracy',\n",
        "                                                        patience = 20,\n",
        "                                                        mode = 'min',\n",
        "                                                        restore_best_weights = True)\n",
        "# Compile the model and specify loss function, optimizer and metrics values to the model\n",
        "model.compile(loss = 'categorical_crossentropy',\n",
        "              optimizer= keras.optimizers.Adam(0.0005, decay=1e-4),\n",
        "              metrics=['accuracy'])\n",
        "# Start training the model.\n",
        "cnn_3d_model_training_history = model.fit(x = features_train,\n",
        "                                          y = labels_train,\n",
        "                                          epochs=200,\n",
        "                                          batch_size=60,\n",
        "                                          shuffle = True,\n",
        "                                          validation_data = (features_valid, labels_valid))\n",
        "                                          # callbacks = [early_stopping_callback])"
      ]
    },
    {
      "cell_type": "code",
      "execution_count": 13,
      "metadata": {
        "id": "3vimsgjjbXvL",
        "colab": {
          "base_uri": "https://localhost:8080/"
        },
        "outputId": "17e5dad9-9242-4883-f72b-822404264248"
      },
      "outputs": [
        {
          "output_type": "stream",
          "name": "stdout",
          "text": [
            "9/9 [==============================] - 0s 42ms/step - loss: 0.7372 - accuracy: 0.7306\n",
            "\n",
            "\n",
            "Train accuracy: 84.158 % || Test accuracy: 73.063 % || Val accuracy: 76.103 %\n",
            "Train loss: 0.404 || Test loss: 0.737 || Val loss: 0.579\n"
          ]
        }
      ],
      "source": [
        "model_evaluation_history = model.evaluate(features_test, labels_test)\n",
        "print('\\n')\n",
        "train_loss, train_acc = model.evaluate(features_train, labels_train, verbose=0)\n",
        "test_loss, test_acc = model.evaluate(features_test, labels_test, verbose=0)\n",
        "val_loss, val_acc = model.evaluate(features_valid, labels_valid, verbose=0)\n",
        "print(f'Train accuracy: {train_acc*100:.3f} % || Test accuracy: {test_acc*100:.3f} % || Val accuracy: {val_acc*100:.3f} %')\n",
        "print(f'Train loss: {train_loss:.3f} || Test loss: {test_loss:.3f} || Val loss: {val_loss:.3f}')"
      ]
    },
    {
      "cell_type": "code",
      "execution_count": 14,
      "metadata": {
        "id": "ivmaK9BlbnRQ"
      },
      "outputs": [],
      "source": [
        "# Get the loss and accuracy from model_evaluation_history.\n",
        "model_evaluation_loss, model_evaluation_accuracy = model_evaluation_history\n",
        " \n",
        "# Define the string date format.\n",
        "# Get the current Date and Time in a DateTime Object.\n",
        "# Convert the DateTime object to string according to the style mentioned in date_time_format string.\n",
        "date_time_format = '%Y_%m_%d__%H_%M_%S'\n",
        "current_date_time_dt = dt.datetime.now()\n",
        "current_date_time_string = dt.datetime.strftime(current_date_time_dt, date_time_format)\n",
        " \n",
        "# Define a useful name for our model to make it easy for us while navigating through multiple saved models.\n",
        "model_file_name = f'3D_CNN_model___Date_Time_{current_date_time_string}___Loss_{model_evaluation_loss}___Accuracy_{model_evaluation_accuracy}.h5'\n",
        "# Change dir\n",
        "gdrive_path = '/content/gdrive' + '/My Drive/247/Saved_models/'\n",
        "os.chdir(gdrive_path)\n",
        "# Create a floder for the model files\n",
        "!mkdir -p cnn_3d_{current_date_time_string}\n",
        "# Save your Model.\n",
        "model.save('convlstm_' + str(current_date_time_string) + '/' + model_file_name)\n",
        "# Save model weights\n",
        "model.save_weights('convlstm_' + str(current_date_time_string) + '/' + 'weights')"
      ]
    },
    {
      "cell_type": "code",
      "execution_count": 15,
      "metadata": {
        "id": "OwU8TwPrbsKB"
      },
      "outputs": [],
      "source": [
        "def plot_metric(model_training_history, metric_name_1, metric_name_2, plot_name):\n",
        "    '''\n",
        "    This function will plot the metrics passed to it in a graph.\n",
        "    Args:\n",
        "        model_training_history: A history object containing a record of training and validation \n",
        "                                loss values and metrics values at successive epochs\n",
        "        metric_name_1:          The name of the first metric that needs to be plotted in the graph.\n",
        "        metric_name_2:          The name of the second metric that needs to be plotted in the graph.\n",
        "        plot_name:              The title of the graph.\n",
        "    '''\n",
        "    \n",
        "    # Get metric values using metric names as identifiers.\n",
        "    metric_value_1 = model_training_history.history[metric_name_1]\n",
        "    metric_value_2 = model_training_history.history[metric_name_2]\n",
        "    \n",
        "    # Construct a range object which will be used as x-axis (horizontal plane) of the graph.\n",
        "    epochs = range(len(metric_value_1))\n",
        "\n",
        "    # Plot the Graph.\n",
        "    plt.plot(epochs, metric_value_1, 'blue', label = metric_name_1)\n",
        "    plt.plot(epochs, metric_value_2, 'red', label = metric_name_2)\n",
        "\n",
        "    # Add title to the plot.\n",
        "    plt.title(str(plot_name))\n",
        "\n",
        "    # Add legend to the plot.\n",
        "    plt.legend()"
      ]
    },
    {
      "cell_type": "code",
      "execution_count": 16,
      "metadata": {
        "id": "cvKY05ncbwof",
        "colab": {
          "base_uri": "https://localhost:8080/",
          "height": 281
        },
        "outputId": "8fbe2206-84e4-41a2-ff3b-8a552575f79f"
      },
      "outputs": [
        {
          "output_type": "display_data",
          "data": {
            "text/plain": [
              "<Figure size 432x288 with 1 Axes>"
            ],
            "image/png": "[encoded data removed]"
          },
          "metadata": {
            "needs_background": "light"
          }
        }
      ],
      "source": [
        "plot_metric(cnn_3d_model_training_history, 'loss', 'val_loss', 'Total Loss vs Total Validation Loss')"
      ]
    },
    {
      "cell_type": "code",
      "execution_count": 17,
      "metadata": {
        "id": "o1iaaDHBb5i0",
        "colab": {
          "base_uri": "https://localhost:8080/",
          "height": 281
        },
        "outputId": "2bfcdef9-ecd8-438e-f2b8-f4852d8bc73f"
      },
      "outputs": [
        {
          "output_type": "display_data",
          "data": {
            "text/plain": [
              "<Figure size 432x288 with 1 Axes>"
            ],
            "image/png": "[encoded data removed]"
          },
          "metadata": {
            "needs_background": "light"
          }
        }
      ],
      "source": [
        "plot_metric(cnn_3d_model_training_history, 'accuracy', 'val_accuracy', 'Total Accuracy vs Total Validation Accuracy') "
      ]
    }
  ],
  "metadata": {
    "accelerator": "GPU",
    "colab": {
      "background_execution": "on",
      "collapsed_sections": [],
      "machine_shape": "hm",
      "name": "3D_CNN.ipynb",
      "provenance": [],
      "authorship_tag": "ABX9TyObvYCPXW+vt7mgGWfQQkdf",
      "include_colab_link": true
    },
    "kernelspec": {
      "display_name": "Python 3",
      "name": "python3"
    },
    "language_info": {
      "name": "python"
    }
  },
  "nbformat": 4,
  "nbformat_minor": 0
}