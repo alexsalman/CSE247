{
  "cells": [
    {
      "cell_type": "markdown",
      "metadata": {
        "id": "view-in-github",
        "colab_type": "text"
      },
      "source": [
        "<a href=\"https://colab.research.google.com/github/alexsalman/CSE247/blob/main/2D_CNN%2BLSTM.ipynb\" target=\"_parent\"><img src=\"https://colab.research.google.com/assets/colab-badge.svg\" alt=\"Open In Colab\"/></a>"
      ]
    },
    {
      "cell_type": "markdown",
      "metadata": {
        "id": "Fk8TLrPiv-ab"
      },
      "source": [
        "####**Convolutional Neural Network + Long Short Term Memory**\n",
        "######*I am using a Convolution Neural Network (CNN) + Long Short Term Memory (LSTM) Network to extract general representation while utilizing the Spatial-temporal aspect of the videos.*"
      ]
    },
    {
      "cell_type": "code",
      "execution_count": null,
      "metadata": {
        "colab": {
          "base_uri": "https://localhost:8080/"
        },
        "id": "M8ibtd5HKtZk",
        "outputId": "a1d4feb4-02c9-4cfb-8122-a4f01f31658e"
      },
      "outputs": [
        {
          "output_type": "stream",
          "name": "stdout",
          "text": [
            "2.8.0\n"
          ]
        }
      ],
      "source": [
        "# required libraries\n",
        "import os\n",
        "import cv2\n",
        "import math\n",
        "import random\n",
        "import numpy as np\n",
        "import datetime as dt\n",
        "from collections import deque\n",
        "import matplotlib.pyplot as plt\n",
        "from google.colab import drive\n",
        "from sklearn.model_selection import train_test_split\n",
        "import tensorflow as tf\n",
        "from tensorflow import keras\n",
        "from keras.models import Sequential\n",
        "from keras.layers import Dense, Flatten, Conv3D, MaxPooling3D, Dropout, BatchNormalization, ConvLSTM2D\n",
        "from keras.layers import Reshape, Conv2D, TimeDistributed, MaxPooling2D, Activation, GlobalAveragePooling2D\n",
        "from keras.layers.recurrent import LSTM\n",
        "from keras import regularizers\n",
        "from PIL import Image\n",
        "%matplotlib inline\n",
        "print(tf.version.VERSION)\n",
        "# https://bleedai.com/human-activity-recognition-using-tensorflow-cnn-lstm/"
      ]
    },
    {
      "cell_type": "code",
      "execution_count": null,
      "metadata": {
        "id": "iffdFOf1CEAN"
      },
      "outputs": [],
      "source": [
        "# set Numpy, Python, and Tensorflow seeds to get consistent results on every execution\n",
        "seed_constant = 27\n",
        "np.random.seed(seed_constant)\n",
        "random.seed(seed_constant)\n",
        "tf.random.set_seed(seed_constant)"
      ]
    },
    {
      "cell_type": "code",
      "execution_count": null,
      "metadata": {
        "colab": {
          "base_uri": "https://localhost:8080/",
          "height": 53
        },
        "id": "mcLh22LiOHyn",
        "outputId": "40b514c9-c279-4a4c-b40c-85698e0181bc"
      },
      "outputs": [
        {
          "output_type": "stream",
          "name": "stdout",
          "text": [
            "Mounted at /content/gdrive/\n"
          ]
        },
        {
          "output_type": "execute_result",
          "data": {
            "text/plain": [
              "'/content/gdrive/My Drive/247'"
            ],
            "application/vnd.google.colaboratory.intrinsic+json": {
              "type": "string"
            }
          },
          "metadata": {},
          "execution_count": 3
        }
      ],
      "source": [
        "# mount dataset from google drive\n",
        "drive.mount('/content/gdrive/', force_remount=True)\n",
        "gdrive_path = '/content/gdrive' + '/My Drive/247/'\n",
        "os.chdir(gdrive_path)\n",
        "os.getcwd()"
      ]
    },
    {
      "cell_type": "code",
      "execution_count": null,
      "metadata": {
        "id": "oeDK8SzumZ1Q"
      },
      "outputs": [],
      "source": [
        "# frame dimention\n",
        "IMAGE_HEIGHT, IMAGE_WIDTH = 128, 128\n",
        "# frame number for each video (depth)\n",
        "SEQUENCE_LENGTH = 16\n",
        "# video dir path\n",
        "DATASET_DIR = gdrive_path + 'Cropped_videos'\n",
        "# labels of classes\n",
        "CLASSES_LIST = ['hemostasis', 'inflammatory', 'proliferative', 'maturation']"
      ]
    },
    {
      "cell_type": "code",
      "execution_count": null,
      "metadata": {
        "id": "3mFB5qD6b3Kd"
      },
      "outputs": [],
      "source": [
        "# image cropping\n",
        "def crop_center_square(frame):\n",
        "    y, x = frame.shape[0:2]\n",
        "    min_dim = min(y, x)\n",
        "    start_x = (x // 2) - (min_dim // 2)\n",
        "    start_y = (y // 2) - (min_dim // 2)\n",
        "    return frame[start_y:start_y+min_dim,start_x:start_x+min_dim]"
      ]
    },
    {
      "cell_type": "code",
      "execution_count": null,
      "metadata": {
        "id": "sqeexMUjaLzJ"
      },
      "outputs": [],
      "source": [
        "# https://medium.com/analytics-vidhya/video-preprocessor-and-augmentation-for-deep-learning-tasks-12dd3fcce868\n",
        "def load_video(path, resize=(128, 128)):\n",
        "    video_reader = cv2.VideoCapture(path)\n",
        "    frames = []\n",
        "    try:\n",
        "        while True:\n",
        "            ret, frame = video_reader.read()\n",
        "            if not ret:\n",
        "                  break\n",
        "            frame = crop_center_square(frame)\n",
        "            frame = cv2.resize(frame, resize)\n",
        "            frame = frame[:, :, [2, 1, 0]]\n",
        "            frames.append(frame)\n",
        "    finally:\n",
        "        video_reader.release()\n",
        "    return np.array(frames) / 255.0"
      ]
    },
    {
      "cell_type": "code",
      "execution_count": null,
      "metadata": {
        "id": "ljUWHW6Jqzu-"
      },
      "outputs": [],
      "source": [
        "def create_dataset(state):\n",
        "    # Declared Empty Lists to store the features, labels and video file path values.\n",
        "    features = []\n",
        "    labels = []\n",
        "    video_files_paths = []\n",
        "    # Iterating through all the classes mentioned in the classes list\n",
        "    for class_index, class_name in enumerate(CLASSES_LIST):\n",
        "        # Display the name of the class whose data is being extracted.\n",
        "        print(f'Extracting Data of Class: {class_name} {state}')\n",
        "        # Get the list of video files present in the specific class name directory.\n",
        "        files_list = os.listdir(os.path.join(DATASET_DIR, class_name))\n",
        "        # Iterate through all the files present in the files list.\n",
        "        for file_name in files_list:\n",
        "            # Get the complete video path.\n",
        "            video_file_path = os.path.join(DATASET_DIR, class_name, file_name)\n",
        "            # create testing data\n",
        "            if state == 'test':\n",
        "                # get the mouse number\n",
        "                mouse_number = int(video_file_path.split(' ')[2].split('_')[1].split('-')[1])\n",
        "                # get the mouse side (L or R)\n",
        "                mouse_side = video_file_path.split(' ')[2].split('_')[1].split('-')[2]\n",
        "                if mouse_number == 4 and mouse_side == 'L':\n",
        "                    frames = load_video(video_file_path)\n",
        "                    features.append(frames)\n",
        "                    labels.append(class_index)\n",
        "                    video_files_paths.append(video_file_path)\n",
        "            # create validation data\n",
        "            elif state == 'valid':\n",
        "                # get the mouse number\n",
        "                mouse_number = int(video_file_path.split(' ')[2].split('_')[1].split('-')[1])\n",
        "                # get the mouse side (L or R)\n",
        "                mouse_side = video_file_path.split(' ')[2].split('_')[1].split('-')[2]\n",
        "                if mouse_number == 4 and mouse_side == 'R':\n",
        "                    frames = load_video(video_file_path)\n",
        "                    features.append(frames)\n",
        "                    labels.append(class_index)\n",
        "                    video_files_paths.append(video_file_path)\n",
        "            # create training data\n",
        "            else:\n",
        "                # get the mouse number\n",
        "                mouse_number = int(video_file_path.split(' ')[2].split('_')[1].split('-')[1])\n",
        "                if mouse_number != 4:\n",
        "                    frames = load_video(video_file_path)\n",
        "                    features.append(frames)\n",
        "                    labels.append(class_index)\n",
        "                    video_files_paths.append(video_file_path)\n",
        "    # Converting the list to numpy arrays\n",
        "    features = np.asarray(features)\n",
        "    # print(features)\n",
        "    labels = np.array(labels)\n",
        "    # Return the frames, class index, and video file path.\n",
        "    return features, labels, video_files_paths"
      ]
    },
    {
      "cell_type": "code",
      "execution_count": null,
      "metadata": {
        "colab": {
          "base_uri": "https://localhost:8080/"
        },
        "id": "a8rpanz9rASe",
        "outputId": "3b4166ff-f68c-46fd-e9dd-50b8aa31022a"
      },
      "outputs": [
        {
          "output_type": "stream",
          "name": "stdout",
          "text": [
            "Extracting Data of Class: hemostasis train\n",
            "Extracting Data of Class: inflammatory train\n",
            "Extracting Data of Class: proliferative train\n",
            "Extracting Data of Class: maturation train\n",
            "Extracting Data of Class: hemostasis test\n",
            "Extracting Data of Class: inflammatory test\n",
            "Extracting Data of Class: proliferative test\n",
            "Extracting Data of Class: maturation test\n",
            "Extracting Data of Class: hemostasis valid\n",
            "Extracting Data of Class: inflammatory valid\n",
            "Extracting Data of Class: proliferative valid\n",
            "Extracting Data of Class: maturation valid\n"
          ]
        }
      ],
      "source": [
        "# 6 mice for training, 2 mice for test and validation (one wound on each mice for test one for validation)\n",
        "features_train, labels_train, video_files_paths_train = create_dataset('train')\n",
        "features_test, labels_test, video_files_paths_test = create_dataset('test')\n",
        "features_valid, labels_valid, video_files_paths_valid = create_dataset('valid')"
      ]
    },
    {
      "cell_type": "code",
      "execution_count": null,
      "metadata": {
        "id": "dtJkK4qTAulC"
      },
      "outputs": [],
      "source": [
        "# one_hot_encoded_labels\n",
        "labels_train = keras.utils.to_categorical(labels_train)\n",
        "labels_test = keras.utils.to_categorical(labels_test)\n",
        "labels_valid = keras.utils.to_categorical(labels_valid)"
      ]
    },
    {
      "cell_type": "code",
      "execution_count": null,
      "metadata": {
        "id": "Bi-NDol3DHRV"
      },
      "outputs": [],
      "source": [
        "def create_convlstm_model():\n",
        "    # TimeDistributed is a wrapper to handle input of size five to maintain frames number for LSTM\n",
        "    # A Conv2D layer requires four dimensions: (batch_size, height, width, channels)\n",
        "    # TimeDistributed will require an additional dimension: (batch_size, frames, height, width, channels)\n",
        "\n",
        "    model = Sequential()\n",
        "\n",
        "    model.add(TimeDistributed(Conv2D(16, (3,3), activation='relu'), input_shape=(16, 128, 128, 3)))\n",
        "    # model.add(TimeDistributed(BatchNormalization()))\n",
        "    model.add(TimeDistributed(MaxPooling2D((2,2), strides=(2,2))))\n",
        "    model.add(Dropout(0.2))\n",
        "\n",
        "    model.add(TimeDistributed(Conv2D(16, (3,3), activation='relu')))\n",
        "    # model.add(TimeDistributed(BatchNormalization()))\n",
        "    model.add(TimeDistributed(MaxPooling2D((2,2), strides=(2,2))))\n",
        "    model.add(Dropout(0.2))\n",
        "\n",
        "    model.add(TimeDistributed(Conv2D(32, (3,3), activation='relu')))\n",
        "    # model.add(TimeDistributed(BatchNormalization()))\n",
        "    model.add(TimeDistributed(MaxPooling2D((2,2), strides=(2,2))))\n",
        "    model.add(Dropout(0.2))\n",
        "\n",
        "    model.add(TimeDistributed(Conv2D(32, (3,3), activation='relu')))\n",
        "    # model.add(TimeDistributed(BatchNormalization()))\n",
        "    model.add(TimeDistributed(MaxPooling2D((2,2), strides=(2,2))))\n",
        "    model.add(Dropout(0.2))\n",
        "\n",
        "    model.add(TimeDistributed(Conv2D(64, (3,3), activation='relu')))\n",
        "    # model.add(TimeDistributed(BatchNormalization()))\n",
        "    model.add(TimeDistributed(MaxPooling2D((2,2), strides=(2,2))))\n",
        "    model.add(Dropout(0.2))\n",
        "  \n",
        "    # model.add(TimeDistributed(GlobalAveragePooling2D()))\n",
        "    # Another approach of using model.add(TimeDistributed(Flatten())) instead of the reshape.\n",
        "    model.add(TimeDistributed(Flatten()))\n",
        "    # model.add(Dropout(0.2))\n",
        "\n",
        "    model.add(LSTM(4, activation='relu', return_sequences=False))\n",
        "    model.add(Dropout(0.2))\n",
        "\n",
        "    model.add(Dense(32, activation='relu', kernel_initializer='he_uniform'))\n",
        "    model.add(Dropout(0.2))\n",
        "    # model.add(Dense(8, activation='relu', kernel_initializer='he_uniform'))\n",
        "    model.add(Dense(16, activation='relu', kernel_initializer='he_uniform'))\n",
        "    model.add(Dropout(0.2))\n",
        "    # model.add(Dense(8, activation='relu', kernel_initializer='he_uniform'))\n",
        "    # model.add(Dropout(0.3))\n",
        "    model.add(Dense(4, activation='relu', kernel_initializer='he_uniform'))\n",
        "    # model.add(Dropout(0.3))\n",
        "    model.add(Dense(len(CLASSES_LIST), activation='softmax'))\n",
        "    model.summary(line_length = 100)\n",
        "    return model"
      ]
    },
    {
      "cell_type": "code",
      "execution_count": null,
      "metadata": {
        "colab": {
          "base_uri": "https://localhost:8080/"
        },
        "id": "FbjNYI-0DY_v",
        "outputId": "ea64a29d-c2b4-4e4a-8b1f-01a95885fc6c"
      },
      "outputs": [
        {
          "output_type": "stream",
          "name": "stdout",
          "text": [
            "Model: \"sequential\"\n",
            "____________________________________________________________________________________________________\n",
            " Layer (type)                                Output Shape                            Param #        \n",
            "====================================================================================================\n",
            " time_distributed (TimeDistributed)          (None, 16, 126, 126, 16)                448            \n",
            "                                                                                                    \n",
            " time_distributed_1 (TimeDistributed)        (None, 16, 63, 63, 16)                  0              \n",
            "                                                                                                    \n",
            " dropout (Dropout)                           (None, 16, 63, 63, 16)                  0              \n",
            "                                                                                                    \n",
            " time_distributed_2 (TimeDistributed)        (None, 16, 61, 61, 16)                  2320           \n",
            "                                                                                                    \n",
            " time_distributed_3 (TimeDistributed)        (None, 16, 30, 30, 16)                  0              \n",
            "                                                                                                    \n",
            " dropout_1 (Dropout)                         (None, 16, 30, 30, 16)                  0              \n",
            "                                                                                                    \n",
            " time_distributed_4 (TimeDistributed)        (None, 16, 28, 28, 32)                  4640           \n",
            "                                                                                                    \n",
            " time_distributed_5 (TimeDistributed)        (None, 16, 14, 14, 32)                  0              \n",
            "                                                                                                    \n",
            " dropout_2 (Dropout)                         (None, 16, 14, 14, 32)                  0              \n",
            "                                                                                                    \n",
            " time_distributed_6 (TimeDistributed)        (None, 16, 12, 12, 32)                  9248           \n",
            "                                                                                                    \n",
            " time_distributed_7 (TimeDistributed)        (None, 16, 6, 6, 32)                    0              \n",
            "                                                                                                    \n",
            " dropout_3 (Dropout)                         (None, 16, 6, 6, 32)                    0              \n",
            "                                                                                                    \n",
            " time_distributed_8 (TimeDistributed)        (None, 16, 4, 4, 64)                    18496          \n",
            "                                                                                                    \n",
            " time_distributed_9 (TimeDistributed)        (None, 16, 2, 2, 64)                    0              \n",
            "                                                                                                    \n",
            " dropout_4 (Dropout)                         (None, 16, 2, 2, 64)                    0              \n",
            "                                                                                                    \n",
            " time_distributed_10 (TimeDistributed)       (None, 16, 256)                         0              \n",
            "                                                                                                    \n",
            " lstm (LSTM)                                 (None, 4)                               4176           \n",
            "                                                                                                    \n",
            " dropout_5 (Dropout)                         (None, 4)                               0              \n",
            "                                                                                                    \n",
            " dense (Dense)                               (None, 32)                              160            \n",
            "                                                                                                    \n",
            " dropout_6 (Dropout)                         (None, 32)                              0              \n",
            "                                                                                                    \n",
            " dense_1 (Dense)                             (None, 16)                              528            \n",
            "                                                                                                    \n",
            " dropout_7 (Dropout)                         (None, 16)                              0              \n",
            "                                                                                                    \n",
            " dense_2 (Dense)                             (None, 4)                               68             \n",
            "                                                                                                    \n",
            " dense_3 (Dense)                             (None, 4)                               20             \n",
            "                                                                                                    \n",
            "====================================================================================================\n",
            "Total params: 40,104\n",
            "Trainable params: 40,104\n",
            "Non-trainable params: 0\n",
            "____________________________________________________________________________________________________\n",
            "Model Created Successfully!\n"
          ]
        }
      ],
      "source": [
        "# Construct the required convlstm model.\n",
        "convlstm_model = create_convlstm_model()\n",
        " \n",
        "# Display the success message. \n",
        "print(\"Model Created Successfully!\")"
      ]
    },
    {
      "cell_type": "code",
      "execution_count": null,
      "metadata": {
        "id": "SCB3R7so-wHz"
      },
      "outputs": [],
      "source": [
        "# keras.utils.plot_model(convlstm_model, to_file = 'convlstm_model_structure_plot.png', show_shapes = True, show_layer_names = True)"
      ]
    },
    {
      "cell_type": "code",
      "execution_count": null,
      "metadata": {
        "id": "nMYwQOwyF3bd"
      },
      "outputs": [],
      "source": [
        "# keras.utils.plot_model(convlstm_model,\n",
        "#                          to_file = 'convlstm_model_structure_plot.png',\n",
        "#                          show_shapes = True,\n",
        "#                          show_layer_names = True)"
      ]
    },
    {
      "cell_type": "code",
      "execution_count": null,
      "metadata": {
        "colab": {
          "base_uri": "https://localhost:8080/"
        },
        "id": "vYC_6H0uGqW9",
        "outputId": "5c7a57e4-102b-4e10-f3e8-87a0c3efdaa9"
      },
      "outputs": [
        {
          "output_type": "stream",
          "name": "stdout",
          "text": [
            "Epoch 1/100\n",
            "101/101 [==============================] - 12s 75ms/step - loss: 1.3242 - accuracy: 0.4214 - val_loss: 1.2321 - val_accuracy: 0.4816\n",
            "Epoch 2/100\n",
            "101/101 [==============================] - 6s 62ms/step - loss: 1.2186 - accuracy: 0.4301 - val_loss: 1.1505 - val_accuracy: 0.5919\n",
            "Epoch 3/100\n",
            "101/101 [==============================] - 6s 62ms/step - loss: 1.1734 - accuracy: 0.4833 - val_loss: 1.1340 - val_accuracy: 0.5956\n",
            "Epoch 4/100\n",
            "101/101 [==============================] - 6s 62ms/step - loss: 1.1321 - accuracy: 0.5000 - val_loss: 1.0784 - val_accuracy: 0.5993\n",
            "Epoch 5/100\n",
            "101/101 [==============================] - 6s 62ms/step - loss: 1.0882 - accuracy: 0.5167 - val_loss: 1.0966 - val_accuracy: 0.4301\n",
            "Epoch 6/100\n",
            "101/101 [==============================] - 6s 61ms/step - loss: 1.0581 - accuracy: 0.5192 - val_loss: 1.0608 - val_accuracy: 0.4596\n",
            "Epoch 7/100\n",
            "101/101 [==============================] - 6s 61ms/step - loss: 1.0219 - accuracy: 0.5322 - val_loss: 0.9600 - val_accuracy: 0.5257\n",
            "Epoch 8/100\n",
            "101/101 [==============================] - 6s 61ms/step - loss: 1.0116 - accuracy: 0.5371 - val_loss: 0.9715 - val_accuracy: 0.5257\n",
            "Epoch 9/100\n",
            "101/101 [==============================] - 6s 61ms/step - loss: 0.9769 - accuracy: 0.5340 - val_loss: 0.9861 - val_accuracy: 0.5257\n",
            "Epoch 10/100\n",
            "101/101 [==============================] - 6s 61ms/step - loss: 0.9617 - accuracy: 0.5501 - val_loss: 0.9269 - val_accuracy: 0.5257\n",
            "Epoch 11/100\n",
            "101/101 [==============================] - 6s 61ms/step - loss: 0.9660 - accuracy: 0.5557 - val_loss: 0.9342 - val_accuracy: 0.5257\n",
            "Epoch 12/100\n",
            "101/101 [==============================] - 6s 62ms/step - loss: 0.9454 - accuracy: 0.5687 - val_loss: 0.8215 - val_accuracy: 0.6176\n",
            "Epoch 13/100\n",
            "101/101 [==============================] - 6s 61ms/step - loss: 0.9194 - accuracy: 0.5625 - val_loss: 0.8440 - val_accuracy: 0.6029\n",
            "Epoch 14/100\n",
            "101/101 [==============================] - 6s 61ms/step - loss: 0.9119 - accuracy: 0.5625 - val_loss: 0.8384 - val_accuracy: 0.6176\n",
            "Epoch 15/100\n",
            "101/101 [==============================] - 6s 61ms/step - loss: 0.9005 - accuracy: 0.5699 - val_loss: 0.8069 - val_accuracy: 0.6250\n",
            "Epoch 16/100\n",
            "101/101 [==============================] - 6s 61ms/step - loss: 0.9099 - accuracy: 0.5582 - val_loss: 0.8065 - val_accuracy: 0.6176\n",
            "Epoch 17/100\n",
            "101/101 [==============================] - 6s 61ms/step - loss: 0.8798 - accuracy: 0.5897 - val_loss: 0.7891 - val_accuracy: 0.6324\n",
            "Epoch 18/100\n",
            "101/101 [==============================] - 6s 61ms/step - loss: 0.9136 - accuracy: 0.5588 - val_loss: 0.8514 - val_accuracy: 0.5515\n",
            "Epoch 19/100\n",
            "101/101 [==============================] - 6s 61ms/step - loss: 0.8963 - accuracy: 0.5823 - val_loss: 0.8121 - val_accuracy: 0.6324\n",
            "Epoch 20/100\n",
            "101/101 [==============================] - 6s 62ms/step - loss: 0.8736 - accuracy: 0.5947 - val_loss: 0.8061 - val_accuracy: 0.6324\n",
            "Epoch 21/100\n",
            "101/101 [==============================] - 6s 61ms/step - loss: 0.8772 - accuracy: 0.5817 - val_loss: 0.8233 - val_accuracy: 0.6250\n",
            "Epoch 22/100\n",
            "101/101 [==============================] - 6s 61ms/step - loss: 0.9142 - accuracy: 0.5736 - val_loss: 0.8220 - val_accuracy: 0.6250\n",
            "Epoch 23/100\n",
            "101/101 [==============================] - 6s 61ms/step - loss: 0.8885 - accuracy: 0.5650 - val_loss: 0.8252 - val_accuracy: 0.6324\n",
            "Epoch 24/100\n",
            "101/101 [==============================] - 6s 61ms/step - loss: 0.8654 - accuracy: 0.5848 - val_loss: 0.8230 - val_accuracy: 0.6324\n",
            "Epoch 25/100\n",
            "101/101 [==============================] - 6s 61ms/step - loss: 0.8801 - accuracy: 0.5854 - val_loss: 0.7998 - val_accuracy: 0.6324\n",
            "Epoch 26/100\n",
            "101/101 [==============================] - 6s 61ms/step - loss: 0.8702 - accuracy: 0.5823 - val_loss: 0.8158 - val_accuracy: 0.6324\n",
            "Epoch 27/100\n",
            "101/101 [==============================] - 6s 61ms/step - loss: 0.8569 - accuracy: 0.5885 - val_loss: 0.8038 - val_accuracy: 0.6324\n",
            "Epoch 28/100\n",
            "101/101 [==============================] - 6s 62ms/step - loss: 0.8805 - accuracy: 0.5730 - val_loss: 0.8112 - val_accuracy: 0.6324\n",
            "Epoch 29/100\n",
            "101/101 [==============================] - 6s 61ms/step - loss: 0.8655 - accuracy: 0.5842 - val_loss: 0.8131 - val_accuracy: 0.6324\n",
            "Epoch 30/100\n",
            "101/101 [==============================] - 6s 62ms/step - loss: 0.8771 - accuracy: 0.6002 - val_loss: 0.8432 - val_accuracy: 0.6250\n",
            "Epoch 31/100\n",
            "101/101 [==============================] - 6s 61ms/step - loss: 0.8683 - accuracy: 0.5885 - val_loss: 0.8055 - val_accuracy: 0.6324\n",
            "Epoch 32/100\n",
            "101/101 [==============================] - 6s 61ms/step - loss: 0.8752 - accuracy: 0.5829 - val_loss: 0.8509 - val_accuracy: 0.5588\n",
            "Epoch 33/100\n",
            "101/101 [==============================] - 6s 61ms/step - loss: 0.8448 - accuracy: 0.6002 - val_loss: 0.8042 - val_accuracy: 0.6324\n",
            "Epoch 34/100\n",
            "101/101 [==============================] - 6s 61ms/step - loss: 0.8670 - accuracy: 0.5934 - val_loss: 0.8068 - val_accuracy: 0.6324\n",
            "Epoch 35/100\n",
            "101/101 [==============================] - 6s 61ms/step - loss: 0.8519 - accuracy: 0.5928 - val_loss: 0.8390 - val_accuracy: 0.6324\n",
            "Epoch 36/100\n",
            "101/101 [==============================] - 6s 61ms/step - loss: 0.8701 - accuracy: 0.5990 - val_loss: 0.7995 - val_accuracy: 0.6324\n",
            "Epoch 37/100\n",
            "101/101 [==============================] - 6s 61ms/step - loss: 0.8513 - accuracy: 0.5947 - val_loss: 0.8356 - val_accuracy: 0.6324\n",
            "Epoch 38/100\n",
            "101/101 [==============================] - 6s 61ms/step - loss: 0.8606 - accuracy: 0.5897 - val_loss: 0.8235 - val_accuracy: 0.6324\n",
            "Epoch 39/100\n",
            "101/101 [==============================] - 6s 61ms/step - loss: 0.8316 - accuracy: 0.6077 - val_loss: 0.8503 - val_accuracy: 0.6324\n",
            "Epoch 40/100\n",
            "101/101 [==============================] - 6s 61ms/step - loss: 0.8734 - accuracy: 0.5947 - val_loss: 0.8139 - val_accuracy: 0.6324\n",
            "Epoch 41/100\n",
            "101/101 [==============================] - 6s 61ms/step - loss: 0.8521 - accuracy: 0.5891 - val_loss: 0.8063 - val_accuracy: 0.6324\n",
            "Epoch 42/100\n",
            "101/101 [==============================] - 6s 61ms/step - loss: 0.8319 - accuracy: 0.6064 - val_loss: 0.8154 - val_accuracy: 0.6324\n",
            "Epoch 43/100\n",
            "101/101 [==============================] - 6s 61ms/step - loss: 0.8461 - accuracy: 0.5885 - val_loss: 0.8411 - val_accuracy: 0.6250\n",
            "Epoch 44/100\n",
            "101/101 [==============================] - 6s 61ms/step - loss: 0.8389 - accuracy: 0.6009 - val_loss: 0.8170 - val_accuracy: 0.6250\n",
            "Epoch 45/100\n",
            "101/101 [==============================] - 6s 61ms/step - loss: 0.8696 - accuracy: 0.5897 - val_loss: 0.8002 - val_accuracy: 0.6324\n",
            "Epoch 46/100\n",
            "101/101 [==============================] - 6s 62ms/step - loss: 0.8433 - accuracy: 0.6120 - val_loss: 0.8327 - val_accuracy: 0.6324\n",
            "Epoch 47/100\n",
            "101/101 [==============================] - 6s 61ms/step - loss: 0.8727 - accuracy: 0.5910 - val_loss: 0.8082 - val_accuracy: 0.6324\n",
            "Epoch 48/100\n",
            "101/101 [==============================] - 6s 61ms/step - loss: 0.8188 - accuracy: 0.6213 - val_loss: 0.8184 - val_accuracy: 0.6324\n",
            "Epoch 49/100\n",
            "101/101 [==============================] - 6s 60ms/step - loss: 0.8466 - accuracy: 0.6021 - val_loss: 0.8137 - val_accuracy: 0.6324\n",
            "Epoch 50/100\n",
            "101/101 [==============================] - 6s 61ms/step - loss: 0.8700 - accuracy: 0.5848 - val_loss: 0.8510 - val_accuracy: 0.6250\n",
            "Epoch 51/100\n",
            "101/101 [==============================] - 6s 61ms/step - loss: 0.8619 - accuracy: 0.5953 - val_loss: 0.8173 - val_accuracy: 0.6324\n",
            "Epoch 52/100\n",
            "101/101 [==============================] - 6s 61ms/step - loss: 0.8451 - accuracy: 0.6077 - val_loss: 0.8058 - val_accuracy: 0.6324\n",
            "Epoch 53/100\n",
            "101/101 [==============================] - 6s 61ms/step - loss: 0.8412 - accuracy: 0.6002 - val_loss: 0.8177 - val_accuracy: 0.6324\n",
            "Epoch 54/100\n",
            "101/101 [==============================] - 6s 61ms/step - loss: 0.8636 - accuracy: 0.5866 - val_loss: 0.8349 - val_accuracy: 0.6324\n",
            "Epoch 55/100\n",
            "101/101 [==============================] - 6s 62ms/step - loss: 0.8520 - accuracy: 0.5910 - val_loss: 0.8205 - val_accuracy: 0.6324\n",
            "Epoch 56/100\n",
            "101/101 [==============================] - 6s 61ms/step - loss: 0.8292 - accuracy: 0.6089 - val_loss: 0.8304 - val_accuracy: 0.6324\n",
            "Epoch 57/100\n",
            "101/101 [==============================] - 6s 62ms/step - loss: 0.8609 - accuracy: 0.6009 - val_loss: 0.8486 - val_accuracy: 0.5588\n",
            "Epoch 58/100\n",
            "101/101 [==============================] - 6s 61ms/step - loss: 0.8205 - accuracy: 0.6157 - val_loss: 0.8178 - val_accuracy: 0.6324\n",
            "Epoch 59/100\n",
            "101/101 [==============================] - 6s 62ms/step - loss: 0.8644 - accuracy: 0.5984 - val_loss: 0.8376 - val_accuracy: 0.6250\n",
            "Epoch 60/100\n",
            "101/101 [==============================] - 6s 61ms/step - loss: 0.8397 - accuracy: 0.6002 - val_loss: 0.8279 - val_accuracy: 0.6324\n",
            "Epoch 61/100\n",
            "101/101 [==============================] - 6s 60ms/step - loss: 0.8536 - accuracy: 0.5972 - val_loss: 0.8185 - val_accuracy: 0.6324\n",
            "Epoch 62/100\n",
            "101/101 [==============================] - 6s 61ms/step - loss: 0.8570 - accuracy: 0.5947 - val_loss: 0.8248 - val_accuracy: 0.6324\n",
            "Epoch 63/100\n",
            "101/101 [==============================] - 6s 61ms/step - loss: 0.8383 - accuracy: 0.6027 - val_loss: 0.8424 - val_accuracy: 0.6324\n",
            "Epoch 64/100\n",
            "101/101 [==============================] - 6s 61ms/step - loss: 0.8365 - accuracy: 0.5978 - val_loss: 0.8410 - val_accuracy: 0.6324\n",
            "Epoch 65/100\n",
            "101/101 [==============================] - 6s 61ms/step - loss: 0.8369 - accuracy: 0.6052 - val_loss: 0.8415 - val_accuracy: 0.6324\n",
            "Epoch 66/100\n",
            "101/101 [==============================] - 6s 61ms/step - loss: 0.8466 - accuracy: 0.5953 - val_loss: 0.8400 - val_accuracy: 0.6324\n",
            "Epoch 67/100\n",
            "101/101 [==============================] - 6s 61ms/step - loss: 0.8733 - accuracy: 0.5897 - val_loss: 0.8475 - val_accuracy: 0.6324\n",
            "Epoch 68/100\n",
            "101/101 [==============================] - 6s 62ms/step - loss: 0.8356 - accuracy: 0.6015 - val_loss: 0.8274 - val_accuracy: 0.6324\n",
            "Epoch 69/100\n",
            "101/101 [==============================] - 6s 62ms/step - loss: 0.8614 - accuracy: 0.5897 - val_loss: 0.8250 - val_accuracy: 0.6324\n",
            "Epoch 70/100\n",
            "101/101 [==============================] - 6s 61ms/step - loss: 0.8627 - accuracy: 0.5959 - val_loss: 0.8488 - val_accuracy: 0.6250\n",
            "Epoch 71/100\n",
            "101/101 [==============================] - 6s 61ms/step - loss: 0.8383 - accuracy: 0.6002 - val_loss: 0.8119 - val_accuracy: 0.6324\n",
            "Epoch 72/100\n",
            "101/101 [==============================] - 6s 61ms/step - loss: 0.8490 - accuracy: 0.5873 - val_loss: 0.8267 - val_accuracy: 0.6324\n",
            "Epoch 73/100\n",
            "101/101 [==============================] - 6s 61ms/step - loss: 0.8526 - accuracy: 0.5941 - val_loss: 0.8273 - val_accuracy: 0.6324\n",
            "Epoch 74/100\n",
            "101/101 [==============================] - 6s 61ms/step - loss: 0.8336 - accuracy: 0.6151 - val_loss: 0.8344 - val_accuracy: 0.6324\n",
            "Epoch 75/100\n",
            "101/101 [==============================] - 6s 61ms/step - loss: 0.8201 - accuracy: 0.6015 - val_loss: 0.8240 - val_accuracy: 0.6324\n",
            "Epoch 76/100\n",
            "101/101 [==============================] - 6s 61ms/step - loss: 0.8492 - accuracy: 0.5996 - val_loss: 0.8278 - val_accuracy: 0.6324\n",
            "Epoch 77/100\n",
            "101/101 [==============================] - 6s 61ms/step - loss: 0.8406 - accuracy: 0.6101 - val_loss: 0.8248 - val_accuracy: 0.6324\n",
            "Epoch 78/100\n",
            "101/101 [==============================] - 6s 61ms/step - loss: 0.8091 - accuracy: 0.6120 - val_loss: 0.8381 - val_accuracy: 0.6324\n",
            "Epoch 79/100\n",
            "101/101 [==============================] - 6s 61ms/step - loss: 0.8340 - accuracy: 0.6046 - val_loss: 0.8207 - val_accuracy: 0.6324\n",
            "Epoch 80/100\n",
            "101/101 [==============================] - 6s 61ms/step - loss: 0.8360 - accuracy: 0.6046 - val_loss: 0.8327 - val_accuracy: 0.6324\n",
            "Epoch 81/100\n",
            "101/101 [==============================] - 6s 61ms/step - loss: 0.8584 - accuracy: 0.6033 - val_loss: 0.8314 - val_accuracy: 0.6324\n",
            "Epoch 82/100\n",
            "101/101 [==============================] - 6s 61ms/step - loss: 0.8237 - accuracy: 0.6046 - val_loss: 0.8592 - val_accuracy: 0.6250\n",
            "Epoch 83/100\n",
            "101/101 [==============================] - 6s 60ms/step - loss: 0.8361 - accuracy: 0.6021 - val_loss: 0.8276 - val_accuracy: 0.6324\n",
            "Epoch 84/100\n",
            "101/101 [==============================] - 6s 61ms/step - loss: 0.8464 - accuracy: 0.5972 - val_loss: 0.8429 - val_accuracy: 0.6324\n",
            "Epoch 85/100\n",
            "101/101 [==============================] - 6s 61ms/step - loss: 0.8439 - accuracy: 0.5953 - val_loss: 0.8268 - val_accuracy: 0.6324\n",
            "Epoch 86/100\n",
            "101/101 [==============================] - 6s 61ms/step - loss: 0.8320 - accuracy: 0.5984 - val_loss: 0.8282 - val_accuracy: 0.6324\n",
            "Epoch 87/100\n",
            "101/101 [==============================] - 6s 61ms/step - loss: 0.8311 - accuracy: 0.5996 - val_loss: 0.8424 - val_accuracy: 0.6324\n",
            "Epoch 88/100\n",
            "101/101 [==============================] - 6s 61ms/step - loss: 0.8568 - accuracy: 0.6033 - val_loss: 0.8535 - val_accuracy: 0.6324\n",
            "Epoch 89/100\n",
            "101/101 [==============================] - 6s 61ms/step - loss: 0.8306 - accuracy: 0.6083 - val_loss: 0.8342 - val_accuracy: 0.6324\n",
            "Epoch 90/100\n",
            "101/101 [==============================] - 6s 61ms/step - loss: 0.8640 - accuracy: 0.6046 - val_loss: 0.8426 - val_accuracy: 0.6324\n",
            "Epoch 91/100\n",
            "101/101 [==============================] - 6s 61ms/step - loss: 0.8578 - accuracy: 0.6015 - val_loss: 0.8426 - val_accuracy: 0.6324\n",
            "Epoch 92/100\n",
            "101/101 [==============================] - 6s 61ms/step - loss: 0.8438 - accuracy: 0.6027 - val_loss: 0.8486 - val_accuracy: 0.6324\n",
            "Epoch 93/100\n",
            "101/101 [==============================] - 6s 61ms/step - loss: 0.8369 - accuracy: 0.6163 - val_loss: 0.8437 - val_accuracy: 0.6324\n",
            "Epoch 94/100\n",
            "101/101 [==============================] - 6s 63ms/step - loss: 0.8270 - accuracy: 0.6101 - val_loss: 0.8414 - val_accuracy: 0.6324\n",
            "Epoch 95/100\n",
            "101/101 [==============================] - 6s 61ms/step - loss: 0.8440 - accuracy: 0.6089 - val_loss: 0.8399 - val_accuracy: 0.6324\n",
            "Epoch 96/100\n",
            "101/101 [==============================] - 6s 61ms/step - loss: 0.8703 - accuracy: 0.5823 - val_loss: 0.8521 - val_accuracy: 0.6324\n",
            "Epoch 97/100\n",
            "101/101 [==============================] - 6s 61ms/step - loss: 0.8310 - accuracy: 0.6040 - val_loss: 0.8372 - val_accuracy: 0.6324\n",
            "Epoch 98/100\n",
            "101/101 [==============================] - 6s 61ms/step - loss: 0.8423 - accuracy: 0.6064 - val_loss: 0.8359 - val_accuracy: 0.6324\n",
            "Epoch 99/100\n",
            "101/101 [==============================] - 6s 61ms/step - loss: 0.8226 - accuracy: 0.6139 - val_loss: 0.8398 - val_accuracy: 0.6324\n",
            "Epoch 100/100\n",
            "101/101 [==============================] - 6s 61ms/step - loss: 0.8561 - accuracy: 0.5947 - val_loss: 0.8327 - val_accuracy: 0.6324\n"
          ]
        }
      ],
      "source": [
        "# Create an Instance of Early Stopping Callback\n",
        "\n",
        "# https://stackoverflow.com/questions/53479007/how-to-setup-adaptive-learning-rate-in-keras\n",
        "# def adapt_learning_rate(epoch):\n",
        "#     print(0.0001 * epoch)\n",
        "#     return 0.0001 * epoch\n",
        "# my_lr_scheduler = keras.callbacks.LearningRateScheduler(adapt_learning_rate)\n",
        "\n",
        "early_stopping_callback = keras.callbacks.EarlyStopping(monitor = 'val_loss',\n",
        "                                                        patience = 10,\n",
        "                                                        mode = 'min',\n",
        "                                                        restore_best_weights = True)\n",
        "# Compile the model and specify loss function, optimizer and metrics values to the model\n",
        "convlstm_model.compile(loss = 'categorical_crossentropy',\n",
        "                       optimizer= keras.optimizers.Adam(0.001, decay=1e-4),\n",
        "                       metrics = [\"accuracy\"])\n",
        "# Start training the model.\n",
        "convlstm_model_training_history = convlstm_model.fit(x = features_train,\n",
        "                                                     y = labels_train,\n",
        "                                                     epochs = 100,\n",
        "                                                     batch_size = 16,\n",
        "                                                     shuffle = True,\n",
        "                                                     validation_data = (features_valid, labels_valid)),\n",
        "                                                    #  callbacks = [early_stopping_callback])\n"
      ]
    },
    {
      "cell_type": "code",
      "execution_count": null,
      "metadata": {
        "colab": {
          "base_uri": "https://localhost:8080/"
        },
        "id": "LcpKhGqvIenv",
        "outputId": "b577b592-2dd6-48ce-be56-5f555e3b1492"
      },
      "outputs": [
        {
          "output_type": "stream",
          "name": "stdout",
          "text": [
            "9/9 [==============================] - 1s 38ms/step - loss: 0.8437 - accuracy: 0.7169\n",
            "\n",
            "\n",
            "Train accuracy: 63.490 % || Test accuracy: 71.691 % || Val accuracy: 63.235 %\n",
            "Train loss: 0.732 || Test loss: 0.844 || Val loss: 0.833\n"
          ]
        }
      ],
      "source": [
        "model_evaluation_history = convlstm_model.evaluate(features_test, labels_test)\n",
        "\n",
        "print('\\n')\n",
        "\n",
        "train_loss, train_acc = convlstm_model.evaluate(features_train, labels_train, verbose=0)\n",
        "test_loss, test_acc = convlstm_model.evaluate(features_test, labels_test, verbose=0)\n",
        "val_loss, val_acc = convlstm_model.evaluate(features_valid, labels_valid, verbose=0)\n",
        "\n",
        "print(f'Train accuracy: {train_acc*100:.3f} % || Test accuracy: {test_acc*100:.3f} % || Val accuracy: {val_acc*100:.3f} %')\n",
        "print(f'Train loss: {train_loss:.3f} || Test loss: {test_loss:.3f} || Val loss: {val_loss:.3f}')"
      ]
    },
    {
      "cell_type": "code",
      "execution_count": null,
      "metadata": {
        "id": "qsFw5KIzIum9"
      },
      "outputs": [],
      "source": [
        "# Get the loss and accuracy from model_evaluation_history.\n",
        "model_evaluation_loss, model_evaluation_accuracy = model_evaluation_history\n",
        " \n",
        "# Define the string date format.\n",
        "# Get the current Date and Time in a DateTime Object.\n",
        "# Convert the DateTime object to string according to the style mentioned in date_time_format string.\n",
        "date_time_format = '%Y_%m_%d__%H_%M_%S'\n",
        "current_date_time_dt = dt.datetime.now()\n",
        "current_date_time_string = dt.datetime.strftime(current_date_time_dt, date_time_format)\n",
        " \n",
        "# Define a useful name for our model to make it easy for us while navigating through multiple saved models.\n",
        "model_file_name = f'convlstm_model___Date_Time_{current_date_time_string}___Loss_{model_evaluation_loss}___Accuracy_{model_evaluation_accuracy}.h5'\n",
        " \n",
        "# Change dir\n",
        "gdrive_path = '/content/gdrive' + '/My Drive/247/Saved_models/'\n",
        "os.chdir(gdrive_path)\n",
        "# Create a floder for the model files\n",
        "!mkdir -p convlstm_{current_date_time_string}\n",
        "# Save your Model.\n",
        "convlstm_model.save('convlstm_' + str(current_date_time_string) + '/' + model_file_name)\n",
        "# Save model weights\n",
        "convlstm_model.save_weights('convlstm_' + str(current_date_time_string) + '/' + 'weights')"
      ]
    },
    {
      "cell_type": "code",
      "execution_count": null,
      "metadata": {
        "id": "Z0eAobhSIz_P"
      },
      "outputs": [],
      "source": [
        "def plot_metric(model_training_history, metric_name_1, metric_name_2, plot_name):\n",
        "    '''\n",
        "    This function will plot the metrics passed to it in a graph.\n",
        "    Args:\n",
        "        model_training_history: A history object containing a record of training and validation \n",
        "                                loss values and metrics values at successive epochs\n",
        "        metric_name_1:          The name of the first metric that needs to be plotted in the graph.\n",
        "        metric_name_2:          The name of the second metric that needs to be plotted in the graph.\n",
        "        plot_name:              The title of the graph.\n",
        "    '''\n",
        "    \n",
        "    # Get metric values using metric names as identifiers.\n",
        "    metric_value_1 = model_training_history[0].history[metric_name_1]\n",
        "    metric_value_2 = model_training_history[0].history[metric_name_2]\n",
        "    \n",
        "    # Construct a range object which will be used as x-axis (horizontal plane) of the graph.\n",
        "    epochs = range(len(metric_value_1))\n",
        "\n",
        "    # Plot the Graph.\n",
        "    plt.plot(epochs, metric_value_1, 'blue', label = metric_name_1)\n",
        "    plt.plot(epochs, metric_value_2, 'red', label = metric_name_2)\n",
        "\n",
        "    # Add title to the plot.\n",
        "    plt.title(str(plot_name))\n",
        "\n",
        "    # Add legend to the plot.\n",
        "    plt.legend()"
      ]
    },
    {
      "cell_type": "code",
      "execution_count": null,
      "metadata": {
        "colab": {
          "base_uri": "https://localhost:8080/",
          "height": 281
        },
        "id": "18RtBjI9I5lE",
        "outputId": "31db0d6d-92d6-42e7-e632-f491a2853cbc"
      },
      "outputs": [
        {
          "output_type": "display_data",
          "data": {
            "text/plain": [
              "<Figure size 432x288 with 1 Axes>"
            ],
            "image/png": "[encoded data removed]"
          },
          "metadata": {
            "needs_background": "light"
          }
        }
      ],
      "source": [
        "plot_metric(convlstm_model_training_history, 'loss', 'val_loss', 'Total Loss vs Total Validation Loss')"
      ]
    },
    {
      "cell_type": "code",
      "execution_count": null,
      "metadata": {
        "colab": {
          "base_uri": "https://localhost:8080/",
          "height": 281
        },
        "id": "02amk7TXI_OS",
        "outputId": "bc378f30-6f86-4a15-848a-1df10f5dc9ba"
      },
      "outputs": [
        {
          "output_type": "display_data",
          "data": {
            "text/plain": [
              "<Figure size 432x288 with 1 Axes>"
            ],
            "image/png": "[encoded data removed]"
          },
          "metadata": {
            "needs_background": "light"
          }
        }
      ],
      "source": [
        "plot_metric(convlstm_model_training_history, 'accuracy', 'val_accuracy', 'Total Accuracy vs Total Validation Accuracy') "
      ]
    }
  ],
  "metadata": {
    "accelerator": "GPU",
    "colab": {
      "background_execution": "on",
      "collapsed_sections": [],
      "machine_shape": "hm",
      "name": "2D_CNN+LSTM.ipynb",
      "provenance": [],
      "authorship_tag": "ABX9TyOEQvkBCPDa0L60QrVMByZu",
      "include_colab_link": true
    },
    "kernelspec": {
      "display_name": "Python 3",
      "name": "python3"
    },
    "language_info": {
      "name": "python"
    }
  },
  "nbformat": 4,
  "nbformat_minor": 0
}