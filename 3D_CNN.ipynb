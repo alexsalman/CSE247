{
  "cells": [
    {
      "cell_type": "markdown",
      "metadata": {
        "id": "view-in-github",
        "colab_type": "text"
      },
      "source": [
        "<a href=\"https://colab.research.google.com/github/alexsalman/CSE247/blob/main/3D_CNN.ipynb\" target=\"_parent\"><img src=\"https://colab.research.google.com/assets/colab-badge.svg\" alt=\"Open In Colab\"/></a>"
      ]
    },
    {
      "cell_type": "markdown",
      "metadata": {
        "id": "Kk7I8NauauE3"
      },
      "source": [
        "####**3D Convolutional Neural Network**\n",
        "######*I am using 3D Convolutional Neural Network to extract the temporal and spatial information which are merged slowly throughout the whole network.*"
      ]
    },
    {
      "cell_type": "code",
      "execution_count": 1,
      "metadata": {
        "colab": {
          "base_uri": "https://localhost:8080/"
        },
        "id": "M8ibtd5HKtZk",
        "outputId": "be3539af-3131-4009-f372-c82bef7209ec"
      },
      "outputs": [
        {
          "output_type": "stream",
          "name": "stdout",
          "text": [
            "2.8.0\n"
          ]
        }
      ],
      "source": [
        "# required libraries\n",
        "import os\n",
        "import cv2\n",
        "import math\n",
        "import random\n",
        "import numpy as np\n",
        "import datetime as dt\n",
        "from collections import deque\n",
        "import matplotlib.pyplot as plt\n",
        "from google.colab import drive\n",
        "from sklearn.model_selection import train_test_split\n",
        "import tensorflow as tf\n",
        "from tensorflow import keras\n",
        "from keras.models import Sequential\n",
        "from keras.layers import Dense, Flatten, Conv3D, MaxPooling3D, Dropout, BatchNormalization, GlobalAveragePooling3D\n",
        "from PIL import Image\n",
        "%matplotlib inline\n",
        "print(tf.version.VERSION)\n",
        "# https://bleedai.com/human-activity-recognition-using-tensorflow-cnn-lstm/"
      ]
    },
    {
      "cell_type": "code",
      "execution_count": 2,
      "metadata": {
        "id": "iffdFOf1CEAN"
      },
      "outputs": [],
      "source": [
        "# set Numpy, Python, and Tensorflow seeds to get consistent results on every execution\n",
        "seed_constant = 27\n",
        "np.random.seed(seed_constant)\n",
        "random.seed(seed_constant)\n",
        "tf.random.set_seed(seed_constant)"
      ]
    },
    {
      "cell_type": "code",
      "execution_count": 3,
      "metadata": {
        "colab": {
          "base_uri": "https://localhost:8080/",
          "height": 53
        },
        "id": "mcLh22LiOHyn",
        "outputId": "3cc518dc-adca-48a4-a83b-f831dec9c160"
      },
      "outputs": [
        {
          "output_type": "stream",
          "name": "stdout",
          "text": [
            "Mounted at /content/gdrive/\n"
          ]
        },
        {
          "output_type": "execute_result",
          "data": {
            "text/plain": [
              "'/content/gdrive/My Drive/247'"
            ],
            "application/vnd.google.colaboratory.intrinsic+json": {
              "type": "string"
            }
          },
          "metadata": {},
          "execution_count": 3
        }
      ],
      "source": [
        "# mount dataset from google drive\n",
        "drive.mount('/content/gdrive/', force_remount=True)\n",
        "gdrive_path = '/content/gdrive' + '/My Drive/247/'\n",
        "os.chdir(gdrive_path)\n",
        "os.getcwd()"
      ]
    },
    {
      "cell_type": "code",
      "execution_count": 4,
      "metadata": {
        "id": "oeDK8SzumZ1Q"
      },
      "outputs": [],
      "source": [
        "# frame dimention\n",
        "IMAGE_HEIGHT, IMAGE_WIDTH = 128, 128\n",
        "# frame number for each video (depth)\n",
        "SEQUENCE_LENGTH = 16\n",
        "# video dir path\n",
        "DATASET_DIR = gdrive_path + 'Cropped_videos'\n",
        "# labels of classes\n",
        "CLASSES_LIST = ['hemostasis', 'inflammatory', 'proliferative', 'maturation']"
      ]
    },
    {
      "cell_type": "code",
      "execution_count": 5,
      "metadata": {
        "id": "HUTeIqzpZc9J"
      },
      "outputs": [],
      "source": [
        "# image cropping\n",
        "def crop_center_square(frame):\n",
        "    y, x = frame.shape[0:2]\n",
        "    min_dim = min(y, x)\n",
        "    start_x = (x // 2) - (min_dim // 2)\n",
        "    start_y = (y // 2) - (min_dim // 2)\n",
        "    return frame[start_y:start_y+min_dim,start_x:start_x+min_dim]"
      ]
    },
    {
      "cell_type": "code",
      "execution_count": 6,
      "metadata": {
        "id": "QRDbHG0TZkYJ"
      },
      "outputs": [],
      "source": [
        "# https://medium.com/analytics-vidhya/video-preprocessor-and-augmentation-for-deep-learning-tasks-12dd3fcce868\n",
        "def load_video(path, resize=(128, 128)):\n",
        "    video_reader = cv2.VideoCapture(path)\n",
        "    frames = []\n",
        "    try:\n",
        "        while True:\n",
        "            ret, frame = video_reader.read()\n",
        "            if not ret:\n",
        "                  break\n",
        "            # frame = crop_center_square(frame)\n",
        "            frame = cv2.resize(frame, resize)\n",
        "            frame = frame[:, :, [2, 1, 0]]\n",
        "            black_frame = frame\n",
        "            frames.append(frame)\n",
        "    finally:\n",
        "        video_reader.release()\n",
        "    return np.array(frames) / 255.0"
      ]
    },
    {
      "cell_type": "code",
      "execution_count": 7,
      "metadata": {
        "id": "ljUWHW6Jqzu-"
      },
      "outputs": [],
      "source": [
        "def create_dataset(state):\n",
        "    # Declared Empty Lists to store the features, labels and video file path values.\n",
        "    features = []\n",
        "    labels = []\n",
        "    video_files_paths = []\n",
        "    # Iterating through all the classes mentioned in the classes list\n",
        "    for class_index, class_name in enumerate(CLASSES_LIST):\n",
        "        # Display the name of the class whose data is being extracted.\n",
        "        print(f'Extracting Data of Class: {class_name} {state}')\n",
        "        # Get the list of video files present in the specific class name directory.\n",
        "        files_list = os.listdir(os.path.join(DATASET_DIR, class_name))\n",
        "        # Iterate through all the files present in the files list.\n",
        "        for file_name in files_list:\n",
        "            # Get the complete video path.\n",
        "            video_file_path = os.path.join(DATASET_DIR, class_name, file_name)\n",
        "            # create testing data\n",
        "            if state == 'test':\n",
        "                # get the mouse number\n",
        "                mouse_number = int(video_file_path.split(' ')[2].split('_')[1].split('-')[1])\n",
        "                # get the mouse side (L or R)\n",
        "                mouse_side = video_file_path.split(' ')[2].split('_')[1].split('-')[2]\n",
        "                if mouse_number == 4 and mouse_side == 'L':\n",
        "                    frames = load_video(video_file_path)\n",
        "                    features.append(frames)\n",
        "                    labels.append(class_index)\n",
        "                    video_files_paths.append(video_file_path)\n",
        "            # create validation data\n",
        "            elif state == 'valid':\n",
        "                # get the mouse number\n",
        "                mouse_number = int(video_file_path.split(' ')[2].split('_')[1].split('-')[1])\n",
        "                # get the mouse side (L or R)\n",
        "                mouse_side = video_file_path.split(' ')[2].split('_')[1].split('-')[2]\n",
        "                if mouse_number == 4 and mouse_side == 'R':\n",
        "                    frames = load_video(video_file_path)\n",
        "                    features.append(frames)\n",
        "                    labels.append(class_index)\n",
        "                    video_files_paths.append(video_file_path)\n",
        "            # create training data\n",
        "            else:\n",
        "                # get the mouse number\n",
        "                mouse_number = int(video_file_path.split(' ')[2].split('_')[1].split('-')[1])\n",
        "                if mouse_number != 4:\n",
        "                    frames = load_video(video_file_path)\n",
        "                    features.append(frames)\n",
        "                    labels.append(class_index)\n",
        "                    video_files_paths.append(video_file_path)\n",
        "    # Converting the list to numpy arrays\n",
        "    features = np.asarray(features)\n",
        "    # print(features)\n",
        "    labels = np.array(labels)\n",
        "    # Return the frames, class index, and video file path.\n",
        "    return features, labels, video_files_paths"
      ]
    },
    {
      "cell_type": "code",
      "execution_count": 8,
      "metadata": {
        "colab": {
          "base_uri": "https://localhost:8080/"
        },
        "id": "a8rpanz9rASe",
        "outputId": "f3660c55-c24a-43e0-d67b-2921e6c3bb2b"
      },
      "outputs": [
        {
          "output_type": "stream",
          "name": "stdout",
          "text": [
            "Extracting Data of Class: hemostasis train\n",
            "Extracting Data of Class: inflammatory train\n",
            "Extracting Data of Class: proliferative train\n",
            "Extracting Data of Class: maturation train\n",
            "Extracting Data of Class: hemostasis test\n",
            "Extracting Data of Class: inflammatory test\n",
            "Extracting Data of Class: proliferative test\n",
            "Extracting Data of Class: maturation test\n",
            "Extracting Data of Class: hemostasis valid\n",
            "Extracting Data of Class: inflammatory valid\n",
            "Extracting Data of Class: proliferative valid\n",
            "Extracting Data of Class: maturation valid\n"
          ]
        }
      ],
      "source": [
        "# 6 mice for training, 2 mice for test and validation (one wound on each mice for test one for validation)\n",
        "features_train, labels_train, video_files_paths_train = create_dataset('train')\n",
        "features_test, labels_test, video_files_paths_test = create_dataset('test')\n",
        "features_valid, labels_valid, video_files_paths_valid = create_dataset('valid')"
      ]
    },
    {
      "cell_type": "code",
      "execution_count": 9,
      "metadata": {
        "id": "dtJkK4qTAulC"
      },
      "outputs": [],
      "source": [
        "# one_hot_encoded_labels\n",
        "labels_train = keras.utils.to_categorical(labels_train)\n",
        "labels_test = keras.utils.to_categorical(labels_test)\n",
        "labels_valid = keras.utils.to_categorical(labels_valid)"
      ]
    },
    {
      "cell_type": "code",
      "execution_count": 10,
      "metadata": {
        "id": "N-9ykP4ig7IW"
      },
      "outputs": [],
      "source": [
        "def create_3D_CNN_model():\n",
        "    sample_shape = (16, 128, 128, 3)\n",
        "    model = Sequential()\n",
        "\n",
        "    model.add(Conv3D(8, 3, activation='relu', kernel_initializer='he_uniform', input_shape=sample_shape))\n",
        "    model.add(BatchNormalization())\n",
        "    model.add(MaxPooling3D(2))\n",
        "    model.add(Dropout(0.4))\n",
        "\n",
        "    model.add(Conv3D(16, 3, activation='relu', kernel_initializer='he_uniform'))\n",
        "    model.add(BatchNormalization())\n",
        "    model.add(MaxPooling3D(2))\n",
        "    model.add(Dropout(0.5))\n",
        "\n",
        "    model.add(GlobalAveragePooling3D())\n",
        "\n",
        "    model.add(Dense(16, activation='relu', kernel_initializer='he_uniform'))\n",
        "    model.add(Dropout(0.5))\n",
        "    model.add(Dense(8, activation='relu', kernel_initializer='he_uniform'))\n",
        "    model.add(Dropout(0.6))\n",
        "    model.add(Dense(len(CLASSES_LIST), activation='softmax'))\n",
        "\n",
        "    # Display the models summary.\n",
        "    model.summary(line_length = 125)\n",
        "    # Return the constructed 3D_CNN model.\n",
        "    return model"
      ]
    },
    {
      "cell_type": "code",
      "execution_count": 11,
      "metadata": {
        "colab": {
          "base_uri": "https://localhost:8080/"
        },
        "id": "Z4_GxXZBcHlB",
        "outputId": "a4a9d83e-c3e0-4117-aedc-80c35cea6f95"
      },
      "outputs": [
        {
          "output_type": "stream",
          "name": "stdout",
          "text": [
            "Model: \"sequential\"\n",
            "_____________________________________________________________________________________________________________________________\n",
            " Layer (type)                                           Output Shape                                      Param #            \n",
            "=============================================================================================================================\n",
            " conv3d (Conv3D)                                        (None, 14, 126, 126, 8)                           656                \n",
            "                                                                                                                             \n",
            " batch_normalization (BatchNormalization)               (None, 14, 126, 126, 8)                           32                 \n",
            "                                                                                                                             \n",
            " max_pooling3d (MaxPooling3D)                           (None, 7, 63, 63, 8)                              0                  \n",
            "                                                                                                                             \n",
            " dropout (Dropout)                                      (None, 7, 63, 63, 8)                              0                  \n",
            "                                                                                                                             \n",
            " conv3d_1 (Conv3D)                                      (None, 5, 61, 61, 16)                             3472               \n",
            "                                                                                                                             \n",
            " batch_normalization_1 (BatchNormalization)             (None, 5, 61, 61, 16)                             64                 \n",
            "                                                                                                                             \n",
            " max_pooling3d_1 (MaxPooling3D)                         (None, 2, 30, 30, 16)                             0                  \n",
            "                                                                                                                             \n",
            " dropout_1 (Dropout)                                    (None, 2, 30, 30, 16)                             0                  \n",
            "                                                                                                                             \n",
            " global_average_pooling3d (GlobalAveragePooling3D)      (None, 16)                                        0                  \n",
            "                                                                                                                             \n",
            " dense (Dense)                                          (None, 16)                                        272                \n",
            "                                                                                                                             \n",
            " dropout_2 (Dropout)                                    (None, 16)                                        0                  \n",
            "                                                                                                                             \n",
            " dense_1 (Dense)                                        (None, 8)                                         136                \n",
            "                                                                                                                             \n",
            " dropout_3 (Dropout)                                    (None, 8)                                         0                  \n",
            "                                                                                                                             \n",
            " dense_2 (Dense)                                        (None, 4)                                         36                 \n",
            "                                                                                                                             \n",
            "=============================================================================================================================\n",
            "Total params: 4,668\n",
            "Trainable params: 4,620\n",
            "Non-trainable params: 48\n",
            "_____________________________________________________________________________________________________________________________\n",
            "Model Created Successfully!\n"
          ]
        }
      ],
      "source": [
        "# Construct the required convlstm model.\n",
        "model = create_3D_CNN_model()\n",
        " \n",
        "# Display the success message. \n",
        "print(\"Model Created Successfully!\")"
      ]
    },
    {
      "cell_type": "code",
      "execution_count": 12,
      "metadata": {
        "colab": {
          "base_uri": "https://localhost:8080/"
        },
        "id": "MwYEkaYLoyb_",
        "outputId": "560a81fe-ad07-445d-9f54-9890d5a139db"
      },
      "outputs": [
        {
          "output_type": "stream",
          "name": "stdout",
          "text": [
            "Epoch 1/200\n",
            "51/51 [==============================] - 11s 158ms/step - loss: 1.0573 - accuracy: 0.1788 - val_loss: 0.7003 - val_accuracy: 0.2721\n",
            "Epoch 2/200\n",
            "51/51 [==============================] - 7s 138ms/step - loss: 0.7601 - accuracy: 0.2438 - val_loss: 0.6895 - val_accuracy: 0.1360\n",
            "Epoch 3/200\n",
            "51/51 [==============================] - 7s 138ms/step - loss: 0.6825 - accuracy: 0.3249 - val_loss: 0.6789 - val_accuracy: 0.1029\n",
            "Epoch 4/200\n",
            "51/51 [==============================] - 7s 138ms/step - loss: 0.6569 - accuracy: 0.3391 - val_loss: 0.6689 - val_accuracy: 0.1471\n",
            "Epoch 5/200\n",
            "51/51 [==============================] - 7s 138ms/step - loss: 0.6398 - accuracy: 0.3490 - val_loss: 0.6445 - val_accuracy: 0.3860\n",
            "Epoch 6/200\n",
            "51/51 [==============================] - 7s 137ms/step - loss: 0.6187 - accuracy: 0.3800 - val_loss: 0.6307 - val_accuracy: 0.3309\n",
            "Epoch 7/200\n",
            "51/51 [==============================] - 7s 136ms/step - loss: 0.6107 - accuracy: 0.3886 - val_loss: 0.6299 - val_accuracy: 0.3125\n",
            "Epoch 8/200\n",
            "51/51 [==============================] - 7s 136ms/step - loss: 0.5930 - accuracy: 0.4078 - val_loss: 0.6067 - val_accuracy: 0.4044\n",
            "Epoch 9/200\n",
            "51/51 [==============================] - 7s 137ms/step - loss: 0.5890 - accuracy: 0.3880 - val_loss: 0.5854 - val_accuracy: 0.3860\n",
            "Epoch 10/200\n",
            "51/51 [==============================] - 7s 138ms/step - loss: 0.5765 - accuracy: 0.4059 - val_loss: 0.5828 - val_accuracy: 0.4485\n",
            "Epoch 11/200\n",
            "51/51 [==============================] - 7s 138ms/step - loss: 0.5653 - accuracy: 0.4134 - val_loss: 0.5654 - val_accuracy: 0.4228\n",
            "Epoch 12/200\n",
            "51/51 [==============================] - 7s 137ms/step - loss: 0.5595 - accuracy: 0.3942 - val_loss: 0.5514 - val_accuracy: 0.4118\n",
            "Epoch 13/200\n",
            "51/51 [==============================] - 7s 136ms/step - loss: 0.5500 - accuracy: 0.4375 - val_loss: 0.5408 - val_accuracy: 0.5257\n",
            "Epoch 14/200\n",
            "51/51 [==============================] - 7s 137ms/step - loss: 0.5455 - accuracy: 0.4313 - val_loss: 0.5347 - val_accuracy: 0.4743\n",
            "Epoch 15/200\n",
            "51/51 [==============================] - 7s 137ms/step - loss: 0.5397 - accuracy: 0.4449 - val_loss: 0.5254 - val_accuracy: 0.4596\n",
            "Epoch 16/200\n",
            "51/51 [==============================] - 7s 137ms/step - loss: 0.5403 - accuracy: 0.4158 - val_loss: 0.5303 - val_accuracy: 0.3640\n",
            "Epoch 17/200\n",
            "51/51 [==============================] - 7s 138ms/step - loss: 0.5315 - accuracy: 0.4245 - val_loss: 0.5137 - val_accuracy: 0.3676\n",
            "Epoch 18/200\n",
            "51/51 [==============================] - 7s 138ms/step - loss: 0.5288 - accuracy: 0.4499 - val_loss: 0.5051 - val_accuracy: 0.4559\n",
            "Epoch 19/200\n",
            "51/51 [==============================] - 7s 137ms/step - loss: 0.5283 - accuracy: 0.4313 - val_loss: 0.5044 - val_accuracy: 0.3529\n",
            "Epoch 20/200\n",
            "51/51 [==============================] - 7s 136ms/step - loss: 0.5203 - accuracy: 0.4344 - val_loss: 0.4909 - val_accuracy: 0.4265\n",
            "Epoch 21/200\n",
            "51/51 [==============================] - 7s 139ms/step - loss: 0.5168 - accuracy: 0.4208 - val_loss: 0.5004 - val_accuracy: 0.3419\n",
            "Epoch 22/200\n",
            "51/51 [==============================] - 7s 137ms/step - loss: 0.5182 - accuracy: 0.4072 - val_loss: 0.4934 - val_accuracy: 0.5000\n",
            "Epoch 23/200\n",
            "51/51 [==============================] - 7s 136ms/step - loss: 0.5144 - accuracy: 0.4103 - val_loss: 0.5059 - val_accuracy: 0.2500\n",
            "Epoch 24/200\n",
            "51/51 [==============================] - 7s 138ms/step - loss: 0.5044 - accuracy: 0.4344 - val_loss: 0.4940 - val_accuracy: 0.4118\n",
            "Epoch 25/200\n",
            "51/51 [==============================] - 7s 136ms/step - loss: 0.5008 - accuracy: 0.4325 - val_loss: 0.4952 - val_accuracy: 0.4044\n",
            "Epoch 26/200\n",
            "51/51 [==============================] - 7s 138ms/step - loss: 0.5032 - accuracy: 0.4313 - val_loss: 0.4900 - val_accuracy: 0.3603\n",
            "Epoch 27/200\n",
            "51/51 [==============================] - 7s 137ms/step - loss: 0.4898 - accuracy: 0.4536 - val_loss: 0.5052 - val_accuracy: 0.3897\n",
            "Epoch 28/200\n",
            "51/51 [==============================] - 7s 138ms/step - loss: 0.4917 - accuracy: 0.4344 - val_loss: 0.4852 - val_accuracy: 0.3971\n",
            "Epoch 29/200\n",
            "51/51 [==============================] - 7s 138ms/step - loss: 0.4972 - accuracy: 0.4325 - val_loss: 0.4834 - val_accuracy: 0.4596\n",
            "Epoch 30/200\n",
            "51/51 [==============================] - 7s 136ms/step - loss: 0.4905 - accuracy: 0.4567 - val_loss: 0.4835 - val_accuracy: 0.4926\n",
            "Epoch 31/200\n",
            "51/51 [==============================] - 7s 138ms/step - loss: 0.4882 - accuracy: 0.4635 - val_loss: 0.4962 - val_accuracy: 0.3860\n",
            "Epoch 32/200\n",
            "51/51 [==============================] - 7s 136ms/step - loss: 0.4794 - accuracy: 0.4882 - val_loss: 0.4907 - val_accuracy: 0.3603\n",
            "Epoch 33/200\n",
            "51/51 [==============================] - 7s 137ms/step - loss: 0.4768 - accuracy: 0.5025 - val_loss: 0.4910 - val_accuracy: 0.3787\n",
            "Epoch 34/200\n",
            "51/51 [==============================] - 7s 137ms/step - loss: 0.4705 - accuracy: 0.5149 - val_loss: 0.5020 - val_accuracy: 0.4559\n",
            "Epoch 35/200\n",
            "51/51 [==============================] - 7s 137ms/step - loss: 0.4704 - accuracy: 0.5179 - val_loss: 0.4965 - val_accuracy: 0.4669\n",
            "Epoch 36/200\n",
            "51/51 [==============================] - 7s 136ms/step - loss: 0.4656 - accuracy: 0.5365 - val_loss: 0.5036 - val_accuracy: 0.3456\n",
            "Epoch 37/200\n",
            "51/51 [==============================] - 7s 136ms/step - loss: 0.4672 - accuracy: 0.5217 - val_loss: 0.5216 - val_accuracy: 0.4522\n",
            "Epoch 38/200\n",
            "51/51 [==============================] - 7s 137ms/step - loss: 0.4565 - accuracy: 0.5303 - val_loss: 0.5093 - val_accuracy: 0.4338\n",
            "Epoch 39/200\n",
            "51/51 [==============================] - 7s 138ms/step - loss: 0.4440 - accuracy: 0.5730 - val_loss: 0.5046 - val_accuracy: 0.4485\n",
            "Epoch 40/200\n",
            "51/51 [==============================] - 7s 137ms/step - loss: 0.4463 - accuracy: 0.5613 - val_loss: 0.5020 - val_accuracy: 0.3162\n",
            "Epoch 41/200\n",
            "51/51 [==============================] - 7s 138ms/step - loss: 0.4471 - accuracy: 0.5532 - val_loss: 0.5074 - val_accuracy: 0.4265\n",
            "Epoch 42/200\n",
            "51/51 [==============================] - 7s 137ms/step - loss: 0.4434 - accuracy: 0.5551 - val_loss: 0.5350 - val_accuracy: 0.3897\n",
            "Epoch 43/200\n",
            "51/51 [==============================] - 7s 137ms/step - loss: 0.4383 - accuracy: 0.5650 - val_loss: 0.4736 - val_accuracy: 0.4522\n",
            "Epoch 44/200\n",
            "51/51 [==============================] - 7s 138ms/step - loss: 0.4552 - accuracy: 0.5272 - val_loss: 0.5410 - val_accuracy: 0.3272\n",
            "Epoch 45/200\n",
            "51/51 [==============================] - 7s 138ms/step - loss: 0.4256 - accuracy: 0.5835 - val_loss: 0.5648 - val_accuracy: 0.2904\n",
            "Epoch 46/200\n",
            "51/51 [==============================] - 7s 137ms/step - loss: 0.4188 - accuracy: 0.5928 - val_loss: 0.5362 - val_accuracy: 0.2794\n",
            "Epoch 47/200\n",
            "51/51 [==============================] - 7s 137ms/step - loss: 0.4284 - accuracy: 0.5767 - val_loss: 0.5484 - val_accuracy: 0.3199\n",
            "Epoch 48/200\n",
            "51/51 [==============================] - 7s 138ms/step - loss: 0.4129 - accuracy: 0.6021 - val_loss: 0.5147 - val_accuracy: 0.4816\n",
            "Epoch 49/200\n",
            "51/51 [==============================] - 7s 137ms/step - loss: 0.4241 - accuracy: 0.5767 - val_loss: 0.6302 - val_accuracy: 0.2794\n",
            "Epoch 50/200\n",
            "51/51 [==============================] - 7s 138ms/step - loss: 0.4087 - accuracy: 0.5947 - val_loss: 0.5780 - val_accuracy: 0.3676\n",
            "Epoch 51/200\n",
            "51/51 [==============================] - 7s 138ms/step - loss: 0.3997 - accuracy: 0.6139 - val_loss: 0.5613 - val_accuracy: 0.3713\n",
            "Epoch 52/200\n",
            "51/51 [==============================] - 7s 138ms/step - loss: 0.3979 - accuracy: 0.6194 - val_loss: 0.5299 - val_accuracy: 0.3713\n",
            "Epoch 53/200\n",
            "51/51 [==============================] - 7s 138ms/step - loss: 0.4163 - accuracy: 0.5916 - val_loss: 0.5593 - val_accuracy: 0.4669\n",
            "Epoch 54/200\n",
            "51/51 [==============================] - 7s 136ms/step - loss: 0.4003 - accuracy: 0.6033 - val_loss: 0.5713 - val_accuracy: 0.4118\n",
            "Epoch 55/200\n",
            "51/51 [==============================] - 7s 137ms/step - loss: 0.4025 - accuracy: 0.6114 - val_loss: 0.6051 - val_accuracy: 0.4265\n",
            "Epoch 56/200\n",
            "51/51 [==============================] - 7s 137ms/step - loss: 0.3959 - accuracy: 0.6058 - val_loss: 0.6168 - val_accuracy: 0.3493\n",
            "Epoch 57/200\n",
            "51/51 [==============================] - 7s 137ms/step - loss: 0.3763 - accuracy: 0.6361 - val_loss: 0.6340 - val_accuracy: 0.3787\n",
            "Epoch 58/200\n",
            "51/51 [==============================] - 7s 136ms/step - loss: 0.3906 - accuracy: 0.6262 - val_loss: 0.6615 - val_accuracy: 0.4375\n",
            "Epoch 59/200\n",
            "51/51 [==============================] - 7s 137ms/step - loss: 0.3885 - accuracy: 0.6269 - val_loss: 0.6827 - val_accuracy: 0.4669\n",
            "Epoch 60/200\n",
            "51/51 [==============================] - 7s 137ms/step - loss: 0.3929 - accuracy: 0.6207 - val_loss: 0.7864 - val_accuracy: 0.2426\n",
            "Epoch 61/200\n",
            "51/51 [==============================] - 7s 136ms/step - loss: 0.3764 - accuracy: 0.6485 - val_loss: 0.6489 - val_accuracy: 0.4412\n",
            "Epoch 62/200\n",
            "51/51 [==============================] - 7s 138ms/step - loss: 0.3785 - accuracy: 0.6300 - val_loss: 0.7948 - val_accuracy: 0.4191\n",
            "Epoch 63/200\n",
            "51/51 [==============================] - 7s 137ms/step - loss: 0.3817 - accuracy: 0.6256 - val_loss: 0.9289 - val_accuracy: 0.2500\n",
            "Epoch 64/200\n",
            "51/51 [==============================] - 7s 139ms/step - loss: 0.3722 - accuracy: 0.6467 - val_loss: 0.7038 - val_accuracy: 0.3713\n",
            "Epoch 65/200\n",
            "51/51 [==============================] - 7s 138ms/step - loss: 0.3648 - accuracy: 0.6572 - val_loss: 0.7143 - val_accuracy: 0.3566\n",
            "Epoch 66/200\n",
            "51/51 [==============================] - 7s 138ms/step - loss: 0.3533 - accuracy: 0.6708 - val_loss: 0.7631 - val_accuracy: 0.4265\n",
            "Epoch 67/200\n",
            "51/51 [==============================] - 7s 136ms/step - loss: 0.3718 - accuracy: 0.6324 - val_loss: 0.8435 - val_accuracy: 0.4191\n",
            "Epoch 68/200\n",
            "51/51 [==============================] - 7s 137ms/step - loss: 0.3626 - accuracy: 0.6522 - val_loss: 0.9575 - val_accuracy: 0.2316\n",
            "Epoch 69/200\n",
            "51/51 [==============================] - 7s 137ms/step - loss: 0.3488 - accuracy: 0.6714 - val_loss: 0.8792 - val_accuracy: 0.4118\n",
            "Epoch 70/200\n",
            "51/51 [==============================] - 7s 139ms/step - loss: 0.3514 - accuracy: 0.6634 - val_loss: 1.1319 - val_accuracy: 0.2574\n",
            "Epoch 71/200\n",
            "51/51 [==============================] - 7s 138ms/step - loss: 0.3392 - accuracy: 0.6900 - val_loss: 0.9344 - val_accuracy: 0.3309\n",
            "Epoch 72/200\n",
            "51/51 [==============================] - 7s 137ms/step - loss: 0.3351 - accuracy: 0.6850 - val_loss: 1.1944 - val_accuracy: 0.3125\n",
            "Epoch 73/200\n",
            "51/51 [==============================] - 7s 137ms/step - loss: 0.3244 - accuracy: 0.7011 - val_loss: 0.9610 - val_accuracy: 0.4265\n",
            "Epoch 74/200\n",
            "51/51 [==============================] - 7s 139ms/step - loss: 0.3426 - accuracy: 0.6739 - val_loss: 1.2839 - val_accuracy: 0.2684\n",
            "Epoch 75/200\n",
            "51/51 [==============================] - 7s 138ms/step - loss: 0.3225 - accuracy: 0.7104 - val_loss: 0.9962 - val_accuracy: 0.3235\n",
            "Epoch 76/200\n",
            "51/51 [==============================] - 7s 137ms/step - loss: 0.3201 - accuracy: 0.6999 - val_loss: 1.1354 - val_accuracy: 0.3051\n",
            "Epoch 77/200\n",
            "51/51 [==============================] - 7s 138ms/step - loss: 0.3092 - accuracy: 0.7147 - val_loss: 1.0289 - val_accuracy: 0.2794\n",
            "Epoch 78/200\n",
            "51/51 [==============================] - 7s 139ms/step - loss: 0.3154 - accuracy: 0.7073 - val_loss: 1.2313 - val_accuracy: 0.3603\n",
            "Epoch 79/200\n",
            "51/51 [==============================] - 7s 137ms/step - loss: 0.3047 - accuracy: 0.7042 - val_loss: 1.3251 - val_accuracy: 0.2684\n",
            "Epoch 80/200\n",
            "51/51 [==============================] - 7s 138ms/step - loss: 0.3073 - accuracy: 0.7147 - val_loss: 1.4278 - val_accuracy: 0.3676\n",
            "Epoch 81/200\n",
            "51/51 [==============================] - 7s 138ms/step - loss: 0.3149 - accuracy: 0.6931 - val_loss: 1.3638 - val_accuracy: 0.4007\n",
            "Epoch 82/200\n",
            "51/51 [==============================] - 7s 139ms/step - loss: 0.3024 - accuracy: 0.7178 - val_loss: 1.2877 - val_accuracy: 0.3346\n",
            "Epoch 83/200\n",
            "51/51 [==============================] - 7s 138ms/step - loss: 0.2818 - accuracy: 0.7351 - val_loss: 1.3634 - val_accuracy: 0.4044\n",
            "Epoch 84/200\n",
            "51/51 [==============================] - 7s 140ms/step - loss: 0.2840 - accuracy: 0.7426 - val_loss: 1.3129 - val_accuracy: 0.2757\n",
            "Epoch 85/200\n",
            "51/51 [==============================] - 7s 138ms/step - loss: 0.2880 - accuracy: 0.7351 - val_loss: 1.4753 - val_accuracy: 0.2868\n",
            "Epoch 86/200\n",
            "51/51 [==============================] - 7s 138ms/step - loss: 0.2917 - accuracy: 0.7345 - val_loss: 1.5108 - val_accuracy: 0.3787\n",
            "Epoch 87/200\n",
            "51/51 [==============================] - 7s 136ms/step - loss: 0.2914 - accuracy: 0.7234 - val_loss: 1.4654 - val_accuracy: 0.2500\n",
            "Epoch 88/200\n",
            "51/51 [==============================] - 7s 138ms/step - loss: 0.2804 - accuracy: 0.7277 - val_loss: 1.6622 - val_accuracy: 0.2390\n",
            "Epoch 89/200\n",
            "51/51 [==============================] - 7s 138ms/step - loss: 0.2805 - accuracy: 0.7376 - val_loss: 1.5759 - val_accuracy: 0.1949\n",
            "Epoch 90/200\n",
            "51/51 [==============================] - 7s 138ms/step - loss: 0.2736 - accuracy: 0.7420 - val_loss: 1.7469 - val_accuracy: 0.2243\n",
            "Epoch 91/200\n",
            "51/51 [==============================] - 7s 138ms/step - loss: 0.2803 - accuracy: 0.7395 - val_loss: 1.7480 - val_accuracy: 0.2647\n",
            "Epoch 92/200\n",
            "51/51 [==============================] - 7s 137ms/step - loss: 0.2692 - accuracy: 0.7488 - val_loss: 1.6973 - val_accuracy: 0.2647\n",
            "Epoch 93/200\n",
            "51/51 [==============================] - 7s 137ms/step - loss: 0.2716 - accuracy: 0.7457 - val_loss: 2.0623 - val_accuracy: 0.3309\n",
            "Epoch 94/200\n",
            "51/51 [==============================] - 7s 137ms/step - loss: 0.3180 - accuracy: 0.7184 - val_loss: 1.1650 - val_accuracy: 0.3493\n",
            "Epoch 95/200\n",
            "51/51 [==============================] - 7s 138ms/step - loss: 0.3116 - accuracy: 0.7005 - val_loss: 1.7426 - val_accuracy: 0.4044\n",
            "Epoch 96/200\n",
            "51/51 [==============================] - 7s 138ms/step - loss: 0.3346 - accuracy: 0.7017 - val_loss: 1.5711 - val_accuracy: 0.2904\n",
            "Epoch 97/200\n",
            "51/51 [==============================] - 7s 139ms/step - loss: 0.2782 - accuracy: 0.7382 - val_loss: 1.3911 - val_accuracy: 0.4081\n",
            "Epoch 98/200\n",
            "51/51 [==============================] - 7s 137ms/step - loss: 0.2750 - accuracy: 0.7345 - val_loss: 1.6359 - val_accuracy: 0.3419\n",
            "Epoch 99/200\n",
            "51/51 [==============================] - 7s 139ms/step - loss: 0.2568 - accuracy: 0.7519 - val_loss: 1.8667 - val_accuracy: 0.2206\n",
            "Epoch 100/200\n",
            "51/51 [==============================] - 7s 138ms/step - loss: 0.2493 - accuracy: 0.7599 - val_loss: 1.7568 - val_accuracy: 0.2904\n",
            "Epoch 101/200\n",
            "51/51 [==============================] - 7s 136ms/step - loss: 0.2553 - accuracy: 0.7537 - val_loss: 2.0450 - val_accuracy: 0.2316\n",
            "Epoch 102/200\n",
            "51/51 [==============================] - 7s 137ms/step - loss: 0.2551 - accuracy: 0.7543 - val_loss: 1.5965 - val_accuracy: 0.2647\n",
            "Epoch 103/200\n",
            "51/51 [==============================] - 7s 139ms/step - loss: 0.2640 - accuracy: 0.7401 - val_loss: 1.9962 - val_accuracy: 0.2904\n",
            "Epoch 104/200\n",
            "51/51 [==============================] - 7s 138ms/step - loss: 0.2552 - accuracy: 0.7537 - val_loss: 1.8740 - val_accuracy: 0.2721\n",
            "Epoch 105/200\n",
            "51/51 [==============================] - 7s 137ms/step - loss: 0.2553 - accuracy: 0.7605 - val_loss: 1.8962 - val_accuracy: 0.3051\n",
            "Epoch 106/200\n",
            "51/51 [==============================] - 7s 138ms/step - loss: 0.2502 - accuracy: 0.7587 - val_loss: 1.8147 - val_accuracy: 0.2610\n",
            "Epoch 107/200\n",
            "51/51 [==============================] - 7s 138ms/step - loss: 0.2569 - accuracy: 0.7444 - val_loss: 2.0733 - val_accuracy: 0.2206\n",
            "Epoch 108/200\n",
            "51/51 [==============================] - 7s 138ms/step - loss: 0.2571 - accuracy: 0.7481 - val_loss: 1.8326 - val_accuracy: 0.4007\n",
            "Epoch 109/200\n",
            "51/51 [==============================] - 7s 137ms/step - loss: 0.2513 - accuracy: 0.7599 - val_loss: 2.0912 - val_accuracy: 0.3787\n",
            "Epoch 110/200\n",
            "51/51 [==============================] - 7s 138ms/step - loss: 0.2476 - accuracy: 0.7587 - val_loss: 2.2547 - val_accuracy: 0.2463\n",
            "Epoch 111/200\n",
            "51/51 [==============================] - 7s 138ms/step - loss: 0.2461 - accuracy: 0.7525 - val_loss: 2.0897 - val_accuracy: 0.1949\n",
            "Epoch 112/200\n",
            "51/51 [==============================] - 7s 138ms/step - loss: 0.2537 - accuracy: 0.7481 - val_loss: 1.9643 - val_accuracy: 0.2610\n",
            "Epoch 113/200\n",
            "51/51 [==============================] - 7s 138ms/step - loss: 0.2396 - accuracy: 0.7537 - val_loss: 2.2054 - val_accuracy: 0.2279\n",
            "Epoch 114/200\n",
            "51/51 [==============================] - 7s 138ms/step - loss: 0.2417 - accuracy: 0.7686 - val_loss: 2.1918 - val_accuracy: 0.2647\n",
            "Epoch 115/200\n",
            "51/51 [==============================] - 7s 138ms/step - loss: 0.2495 - accuracy: 0.7568 - val_loss: 2.4733 - val_accuracy: 0.2206\n",
            "Epoch 116/200\n",
            "51/51 [==============================] - 7s 139ms/step - loss: 0.2376 - accuracy: 0.7667 - val_loss: 2.4617 - val_accuracy: 0.2169\n",
            "Epoch 117/200\n",
            "51/51 [==============================] - 7s 137ms/step - loss: 0.2298 - accuracy: 0.7636 - val_loss: 2.3793 - val_accuracy: 0.2978\n",
            "Epoch 118/200\n",
            "51/51 [==============================] - 7s 138ms/step - loss: 0.2514 - accuracy: 0.7556 - val_loss: 2.0311 - val_accuracy: 0.2243\n",
            "Epoch 119/200\n",
            "51/51 [==============================] - 7s 138ms/step - loss: 0.2427 - accuracy: 0.7580 - val_loss: 2.4937 - val_accuracy: 0.2096\n",
            "Epoch 120/200\n",
            "51/51 [==============================] - 7s 138ms/step - loss: 0.2567 - accuracy: 0.7413 - val_loss: 1.8062 - val_accuracy: 0.2132\n",
            "Epoch 121/200\n",
            "51/51 [==============================] - 7s 137ms/step - loss: 0.4100 - accuracy: 0.6566 - val_loss: 1.6190 - val_accuracy: 0.3897\n",
            "Epoch 122/200\n",
            "51/51 [==============================] - 7s 138ms/step - loss: 0.3455 - accuracy: 0.6813 - val_loss: 2.1506 - val_accuracy: 0.4338\n",
            "Epoch 123/200\n",
            "51/51 [==============================] - 7s 137ms/step - loss: 0.2651 - accuracy: 0.7314 - val_loss: 2.1784 - val_accuracy: 0.2022\n",
            "Epoch 124/200\n",
            "51/51 [==============================] - 7s 137ms/step - loss: 0.2419 - accuracy: 0.7636 - val_loss: 2.0729 - val_accuracy: 0.2757\n",
            "Epoch 125/200\n",
            "51/51 [==============================] - 7s 136ms/step - loss: 0.2374 - accuracy: 0.7580 - val_loss: 2.2582 - val_accuracy: 0.2647\n",
            "Epoch 126/200\n",
            "51/51 [==============================] - 7s 138ms/step - loss: 0.2380 - accuracy: 0.7723 - val_loss: 2.4159 - val_accuracy: 0.2353\n",
            "Epoch 127/200\n",
            "51/51 [==============================] - 7s 137ms/step - loss: 0.2368 - accuracy: 0.7618 - val_loss: 2.4642 - val_accuracy: 0.2279\n",
            "Epoch 128/200\n",
            "51/51 [==============================] - 7s 139ms/step - loss: 0.2324 - accuracy: 0.7698 - val_loss: 2.4580 - val_accuracy: 0.2390\n",
            "Epoch 129/200\n",
            "51/51 [==============================] - 7s 138ms/step - loss: 0.2239 - accuracy: 0.7698 - val_loss: 2.4744 - val_accuracy: 0.2757\n",
            "Epoch 130/200\n",
            "51/51 [==============================] - 7s 137ms/step - loss: 0.2377 - accuracy: 0.7580 - val_loss: 2.5962 - val_accuracy: 0.2500\n",
            "Epoch 131/200\n",
            "51/51 [==============================] - 7s 139ms/step - loss: 0.2284 - accuracy: 0.7667 - val_loss: 2.6123 - val_accuracy: 0.2647\n",
            "Epoch 132/200\n",
            "51/51 [==============================] - 7s 136ms/step - loss: 0.2265 - accuracy: 0.7766 - val_loss: 2.6186 - val_accuracy: 0.2316\n",
            "Epoch 133/200\n",
            "51/51 [==============================] - 7s 137ms/step - loss: 0.2270 - accuracy: 0.7710 - val_loss: 2.9829 - val_accuracy: 0.2279\n",
            "Epoch 134/200\n",
            "51/51 [==============================] - 7s 138ms/step - loss: 0.2260 - accuracy: 0.7797 - val_loss: 2.8113 - val_accuracy: 0.2243\n",
            "Epoch 135/200\n",
            "51/51 [==============================] - 7s 138ms/step - loss: 0.2888 - accuracy: 0.7327 - val_loss: 2.4725 - val_accuracy: 0.2831\n",
            "Epoch 136/200\n",
            "51/51 [==============================] - 7s 137ms/step - loss: 0.2607 - accuracy: 0.7376 - val_loss: 2.2981 - val_accuracy: 0.2647\n",
            "Epoch 137/200\n",
            "51/51 [==============================] - 7s 139ms/step - loss: 0.2654 - accuracy: 0.7426 - val_loss: 1.7676 - val_accuracy: 0.4191\n",
            "Epoch 138/200\n",
            "51/51 [==============================] - 7s 137ms/step - loss: 0.2731 - accuracy: 0.7370 - val_loss: 2.0095 - val_accuracy: 0.4081\n",
            "Epoch 139/200\n",
            "51/51 [==============================] - 7s 138ms/step - loss: 0.2406 - accuracy: 0.7618 - val_loss: 2.7692 - val_accuracy: 0.2904\n",
            "Epoch 140/200\n",
            "51/51 [==============================] - 7s 137ms/step - loss: 0.2406 - accuracy: 0.7611 - val_loss: 2.6411 - val_accuracy: 0.3051\n",
            "Epoch 141/200\n",
            "51/51 [==============================] - 7s 139ms/step - loss: 0.2433 - accuracy: 0.7574 - val_loss: 2.5140 - val_accuracy: 0.2610\n",
            "Epoch 142/200\n",
            "51/51 [==============================] - 7s 138ms/step - loss: 0.2239 - accuracy: 0.7704 - val_loss: 2.6429 - val_accuracy: 0.2757\n",
            "Epoch 143/200\n",
            "51/51 [==============================] - 7s 138ms/step - loss: 0.2306 - accuracy: 0.7717 - val_loss: 2.7156 - val_accuracy: 0.2647\n",
            "Epoch 144/200\n",
            "51/51 [==============================] - 7s 138ms/step - loss: 0.2297 - accuracy: 0.7698 - val_loss: 2.8576 - val_accuracy: 0.2169\n",
            "Epoch 145/200\n",
            "51/51 [==============================] - 7s 137ms/step - loss: 0.2171 - accuracy: 0.7816 - val_loss: 2.8713 - val_accuracy: 0.2500\n",
            "Epoch 146/200\n",
            "51/51 [==============================] - 7s 138ms/step - loss: 0.2102 - accuracy: 0.7946 - val_loss: 2.8230 - val_accuracy: 0.2904\n",
            "Epoch 147/200\n",
            "51/51 [==============================] - 7s 138ms/step - loss: 0.2205 - accuracy: 0.7698 - val_loss: 2.8272 - val_accuracy: 0.2537\n",
            "Epoch 148/200\n",
            "51/51 [==============================] - 7s 137ms/step - loss: 0.2214 - accuracy: 0.7729 - val_loss: 2.9139 - val_accuracy: 0.2206\n",
            "Epoch 149/200\n",
            "51/51 [==============================] - 7s 140ms/step - loss: 0.2252 - accuracy: 0.7673 - val_loss: 3.0118 - val_accuracy: 0.2721\n",
            "Epoch 150/200\n",
            "51/51 [==============================] - 7s 137ms/step - loss: 0.2155 - accuracy: 0.7679 - val_loss: 2.8743 - val_accuracy: 0.2463\n",
            "Epoch 151/200\n",
            "51/51 [==============================] - 7s 138ms/step - loss: 0.2276 - accuracy: 0.7673 - val_loss: 3.0636 - val_accuracy: 0.2353\n",
            "Epoch 152/200\n",
            "51/51 [==============================] - 7s 138ms/step - loss: 0.2167 - accuracy: 0.7642 - val_loss: 2.9720 - val_accuracy: 0.2426\n",
            "Epoch 153/200\n",
            "51/51 [==============================] - 7s 137ms/step - loss: 0.2085 - accuracy: 0.7816 - val_loss: 3.2431 - val_accuracy: 0.2316\n",
            "Epoch 154/200\n",
            "51/51 [==============================] - 7s 138ms/step - loss: 0.2118 - accuracy: 0.7797 - val_loss: 2.8852 - val_accuracy: 0.2610\n",
            "Epoch 155/200\n",
            "51/51 [==============================] - 7s 138ms/step - loss: 0.2153 - accuracy: 0.7748 - val_loss: 3.3442 - val_accuracy: 0.2316\n",
            "Epoch 156/200\n",
            "51/51 [==============================] - 7s 138ms/step - loss: 0.2181 - accuracy: 0.7754 - val_loss: 3.1465 - val_accuracy: 0.2096\n",
            "Epoch 157/200\n",
            "51/51 [==============================] - 7s 139ms/step - loss: 0.2071 - accuracy: 0.7877 - val_loss: 3.1504 - val_accuracy: 0.2390\n",
            "Epoch 158/200\n",
            "51/51 [==============================] - 7s 137ms/step - loss: 0.2107 - accuracy: 0.7797 - val_loss: 3.0150 - val_accuracy: 0.3088\n",
            "Epoch 159/200\n",
            "51/51 [==============================] - 7s 137ms/step - loss: 0.2247 - accuracy: 0.7791 - val_loss: 3.4810 - val_accuracy: 0.1949\n",
            "Epoch 160/200\n",
            "51/51 [==============================] - 7s 138ms/step - loss: 0.2080 - accuracy: 0.7896 - val_loss: 3.2605 - val_accuracy: 0.2500\n",
            "Epoch 161/200\n",
            "51/51 [==============================] - 7s 138ms/step - loss: 0.2107 - accuracy: 0.7741 - val_loss: 3.4879 - val_accuracy: 0.2684\n",
            "Epoch 162/200\n",
            "51/51 [==============================] - 7s 138ms/step - loss: 0.2212 - accuracy: 0.7679 - val_loss: 3.1418 - val_accuracy: 0.3382\n",
            "Epoch 163/200\n",
            "51/51 [==============================] - 7s 137ms/step - loss: 0.2131 - accuracy: 0.7661 - val_loss: 3.8371 - val_accuracy: 0.2059\n",
            "Epoch 164/200\n",
            "51/51 [==============================] - 7s 138ms/step - loss: 0.2532 - accuracy: 0.7686 - val_loss: 1.3743 - val_accuracy: 0.4890\n",
            "Epoch 165/200\n",
            "51/51 [==============================] - 7s 138ms/step - loss: 0.4084 - accuracy: 0.6578 - val_loss: 2.4476 - val_accuracy: 0.2610\n",
            "Epoch 166/200\n",
            "51/51 [==============================] - 7s 138ms/step - loss: 0.3561 - accuracy: 0.6807 - val_loss: 1.5751 - val_accuracy: 0.3162\n",
            "Epoch 167/200\n",
            "51/51 [==============================] - 7s 139ms/step - loss: 0.2453 - accuracy: 0.7630 - val_loss: 2.0387 - val_accuracy: 0.2794\n",
            "Epoch 168/200\n",
            "51/51 [==============================] - 7s 140ms/step - loss: 0.2306 - accuracy: 0.7506 - val_loss: 2.2479 - val_accuracy: 0.3051\n",
            "Epoch 169/200\n",
            "51/51 [==============================] - 7s 139ms/step - loss: 0.2286 - accuracy: 0.7655 - val_loss: 2.2682 - val_accuracy: 0.3419\n",
            "Epoch 170/200\n",
            "51/51 [==============================] - 7s 138ms/step - loss: 0.2080 - accuracy: 0.7847 - val_loss: 2.3613 - val_accuracy: 0.3199\n",
            "Epoch 171/200\n",
            "51/51 [==============================] - 7s 138ms/step - loss: 0.2195 - accuracy: 0.7816 - val_loss: 2.8269 - val_accuracy: 0.2206\n",
            "Epoch 172/200\n",
            "51/51 [==============================] - 7s 138ms/step - loss: 0.2257 - accuracy: 0.7580 - val_loss: 2.4326 - val_accuracy: 0.3015\n",
            "Epoch 173/200\n",
            "51/51 [==============================] - 7s 138ms/step - loss: 0.2210 - accuracy: 0.7636 - val_loss: 2.6470 - val_accuracy: 0.2610\n",
            "Epoch 174/200\n",
            "51/51 [==============================] - 7s 137ms/step - loss: 0.2120 - accuracy: 0.7834 - val_loss: 2.6148 - val_accuracy: 0.2426\n",
            "Epoch 175/200\n",
            "51/51 [==============================] - 7s 137ms/step - loss: 0.2051 - accuracy: 0.7816 - val_loss: 3.2657 - val_accuracy: 0.2096\n",
            "Epoch 176/200\n",
            "51/51 [==============================] - 7s 137ms/step - loss: 0.2225 - accuracy: 0.7778 - val_loss: 2.7422 - val_accuracy: 0.1949\n",
            "Epoch 177/200\n",
            "51/51 [==============================] - 7s 138ms/step - loss: 0.2060 - accuracy: 0.7772 - val_loss: 2.7741 - val_accuracy: 0.2206\n",
            "Epoch 178/200\n",
            "51/51 [==============================] - 7s 137ms/step - loss: 0.2252 - accuracy: 0.7580 - val_loss: 2.9036 - val_accuracy: 0.2316\n",
            "Epoch 179/200\n",
            "51/51 [==============================] - 7s 140ms/step - loss: 0.2068 - accuracy: 0.7865 - val_loss: 2.8722 - val_accuracy: 0.2794\n",
            "Epoch 180/200\n",
            "51/51 [==============================] - 7s 139ms/step - loss: 0.2133 - accuracy: 0.7729 - val_loss: 2.9779 - val_accuracy: 0.2353\n",
            "Epoch 181/200\n",
            "51/51 [==============================] - 7s 138ms/step - loss: 0.2053 - accuracy: 0.7871 - val_loss: 2.9095 - val_accuracy: 0.2574\n",
            "Epoch 182/200\n",
            "51/51 [==============================] - 7s 138ms/step - loss: 0.2133 - accuracy: 0.7704 - val_loss: 3.4402 - val_accuracy: 0.2279\n",
            "Epoch 183/200\n",
            "51/51 [==============================] - 7s 138ms/step - loss: 0.2043 - accuracy: 0.7828 - val_loss: 3.1175 - val_accuracy: 0.2500\n",
            "Epoch 184/200\n",
            "51/51 [==============================] - 7s 138ms/step - loss: 0.2099 - accuracy: 0.7710 - val_loss: 3.5328 - val_accuracy: 0.2169\n",
            "Epoch 185/200\n",
            "51/51 [==============================] - 7s 137ms/step - loss: 0.2028 - accuracy: 0.7859 - val_loss: 3.3264 - val_accuracy: 0.1949\n",
            "Epoch 186/200\n",
            "51/51 [==============================] - 7s 138ms/step - loss: 0.2124 - accuracy: 0.7679 - val_loss: 3.4691 - val_accuracy: 0.2390\n",
            "Epoch 187/200\n",
            "51/51 [==============================] - 7s 137ms/step - loss: 0.2194 - accuracy: 0.7754 - val_loss: 2.4411 - val_accuracy: 0.3015\n",
            "Epoch 188/200\n",
            "51/51 [==============================] - 7s 137ms/step - loss: 0.2126 - accuracy: 0.7741 - val_loss: 3.2836 - val_accuracy: 0.2279\n",
            "Epoch 189/200\n",
            "51/51 [==============================] - 7s 138ms/step - loss: 0.1989 - accuracy: 0.7766 - val_loss: 3.1497 - val_accuracy: 0.1985\n",
            "Epoch 190/200\n",
            "51/51 [==============================] - 7s 139ms/step - loss: 0.2128 - accuracy: 0.7642 - val_loss: 3.0982 - val_accuracy: 0.2243\n",
            "Epoch 191/200\n",
            "51/51 [==============================] - 7s 137ms/step - loss: 0.2085 - accuracy: 0.7735 - val_loss: 2.7925 - val_accuracy: 0.2132\n",
            "Epoch 192/200\n",
            "51/51 [==============================] - 7s 138ms/step - loss: 0.2086 - accuracy: 0.7741 - val_loss: 3.4005 - val_accuracy: 0.2206\n",
            "Epoch 193/200\n",
            "51/51 [==============================] - 7s 138ms/step - loss: 0.1860 - accuracy: 0.7952 - val_loss: 3.4725 - val_accuracy: 0.2243\n",
            "Epoch 194/200\n",
            "51/51 [==============================] - 7s 137ms/step - loss: 0.2054 - accuracy: 0.7717 - val_loss: 3.8067 - val_accuracy: 0.2132\n",
            "Epoch 195/200\n",
            "51/51 [==============================] - 7s 138ms/step - loss: 0.2109 - accuracy: 0.7766 - val_loss: 3.4092 - val_accuracy: 0.1912\n",
            "Epoch 196/200\n",
            "51/51 [==============================] - 7s 137ms/step - loss: 0.1954 - accuracy: 0.7816 - val_loss: 3.7417 - val_accuracy: 0.2169\n",
            "Epoch 197/200\n",
            "51/51 [==============================] - 7s 137ms/step - loss: 0.2083 - accuracy: 0.7717 - val_loss: 3.7350 - val_accuracy: 0.2132\n",
            "Epoch 198/200\n",
            "51/51 [==============================] - 7s 137ms/step - loss: 0.1986 - accuracy: 0.7760 - val_loss: 3.3931 - val_accuracy: 0.2721\n",
            "Epoch 199/200\n",
            "51/51 [==============================] - 7s 137ms/step - loss: 0.2018 - accuracy: 0.7809 - val_loss: 3.9030 - val_accuracy: 0.1949\n",
            "Epoch 200/200\n",
            "51/51 [==============================] - 7s 137ms/step - loss: 0.2039 - accuracy: 0.7760 - val_loss: 3.6749 - val_accuracy: 0.2206\n"
          ]
        }
      ],
      "source": [
        "# Create an Instance of Early Stopping Callback\n",
        "early_stopping_callback = keras.callbacks.EarlyStopping(monitor = 'val_loss',\n",
        "                                                        patience = 20,\n",
        "                                                        mode = 'min',\n",
        "                                                        restore_best_weights = True)\n",
        "# Compile the model and specify loss function, optimizer and metrics values to the model\n",
        "model.compile(loss = 'binary_crossentropy',\n",
        "              optimizer= keras.optimizers.Adam(0.001),\n",
        "              metrics=['accuracy'])\n",
        "# Start training the model.\n",
        "cnn_3d_model_training_history = model.fit(x = features_train,\n",
        "                                          y = labels_train,\n",
        "                                          epochs=200,\n",
        "                                          batch_size=32,\n",
        "                                          shuffle = False,\n",
        "                                          validation_data = (features_valid, labels_valid))\n",
        "                                          # callbacks = [early_stopping_callback])"
      ]
    },
    {
      "cell_type": "code",
      "execution_count": 13,
      "metadata": {
        "colab": {
          "base_uri": "https://localhost:8080/"
        },
        "id": "3vimsgjjbXvL",
        "outputId": "eff1c99c-e3d9-4806-988e-15ed2b4d164e"
      },
      "outputs": [
        {
          "output_type": "stream",
          "name": "stdout",
          "text": [
            "9/9 [==============================] - 0s 44ms/step - loss: 3.5266 - accuracy: 0.3750\n",
            "\n",
            "\n",
            "Train accuracy: 36.324 % || Test accuracy: 37.500 % || Val accuracy: 22.059 %\n",
            "Train loss: 3.525 || Test loss: 3.527 || Val loss: 3.675\n"
          ]
        }
      ],
      "source": [
        "model_evaluation_history = model.evaluate(features_test, labels_test)\n",
        "print('\\n')\n",
        "train_loss, train_acc = model.evaluate(features_train, labels_train, verbose=0)\n",
        "test_loss, test_acc = model.evaluate(features_test, labels_test, verbose=0)\n",
        "val_loss, val_acc = model.evaluate(features_valid, labels_valid, verbose=0)\n",
        "print(f'Train accuracy: {train_acc*100:.3f} % || Test accuracy: {test_acc*100:.3f} % || Val accuracy: {val_acc*100:.3f} %')\n",
        "print(f'Train loss: {train_loss:.3f} || Test loss: {test_loss:.3f} || Val loss: {val_loss:.3f}')"
      ]
    },
    {
      "cell_type": "code",
      "execution_count": 18,
      "metadata": {
        "id": "ivmaK9BlbnRQ"
      },
      "outputs": [],
      "source": [
        "# Get the loss and accuracy from model_evaluation_history.\n",
        "model_evaluation_loss, model_evaluation_accuracy = model_evaluation_history\n",
        " \n",
        "# Define the string date format.\n",
        "# Get the current Date and Time in a DateTime Object.\n",
        "# Convert the DateTime object to string according to the style mentioned in date_time_format string.\n",
        "date_time_format = '%Y_%m_%d__%H_%M_%S'\n",
        "current_date_time_dt = dt.datetime.now()\n",
        "current_date_time_string = dt.datetime.strftime(current_date_time_dt, date_time_format)\n",
        " \n",
        "# Define a useful name for our model to make it easy for us while navigating through multiple saved models.\n",
        "model_file_name = f'3D_CNN_model___Date_Time_{current_date_time_string}___Loss_{model_evaluation_loss}___Accuracy_{model_evaluation_accuracy}.h5'\n",
        " \n",
        "# Change dir\n",
        "gdrive_path = '/content/gdrive' + '/My Drive/247/Saved_models/'\n",
        "os.chdir(gdrive_path)\n",
        "# Create a floder for the model files\n",
        "!mkdir -p cnn_3d_{current_date_time_string}\n",
        "# Save your Model.\n",
        "model.save('3D_CNN' + str(current_date_time_string) + '/' + model_file_name)\n",
        "# Save model weights\n",
        "model.save_weights('3D_CNN' + str(current_date_time_string) + '/' + 'weights')"
      ]
    },
    {
      "cell_type": "code",
      "execution_count": 15,
      "metadata": {
        "id": "OwU8TwPrbsKB"
      },
      "outputs": [],
      "source": [
        "def plot_metric(model_training_history, metric_name_1, metric_name_2, plot_name):\n",
        "    '''\n",
        "    This function will plot the metrics passed to it in a graph.\n",
        "    Args:\n",
        "        model_training_history: A history object containing a record of training and validation \n",
        "                                loss values and metrics values at successive epochs\n",
        "        metric_name_1:          The name of the first metric that needs to be plotted in the graph.\n",
        "        metric_name_2:          The name of the second metric that needs to be plotted in the graph.\n",
        "        plot_name:              The title of the graph.\n",
        "    '''\n",
        "    \n",
        "    # Get metric values using metric names as identifiers.\n",
        "    metric_value_1 = model_training_history.history[metric_name_1]\n",
        "    metric_value_2 = model_training_history.history[metric_name_2]\n",
        "    \n",
        "    # Construct a range object which will be used as x-axis (horizontal plane) of the graph.\n",
        "    epochs = range(len(metric_value_1))\n",
        "\n",
        "    # Plot the Graph.\n",
        "    plt.plot(epochs, metric_value_1, 'blue', label = metric_name_1)\n",
        "    plt.plot(epochs, metric_value_2, 'red', label = metric_name_2)\n",
        "\n",
        "    # Add title to the plot.\n",
        "    plt.title(str(plot_name))\n",
        "\n",
        "    # Add legend to the plot.\n",
        "    plt.legend()"
      ]
    },
    {
      "cell_type": "code",
      "execution_count": 16,
      "metadata": {
        "colab": {
          "base_uri": "https://localhost:8080/",
          "height": 281
        },
        "id": "cvKY05ncbwof",
        "outputId": "ab905ae1-629c-4498-85b1-8f1accff55fb"
      },
      "outputs": [
        {
          "output_type": "display_data",
          "data": {
            "text/plain": [
              "<Figure size 432x288 with 1 Axes>"
            ],
            "image/png": "[encoded data removed]"
          },
          "metadata": {
            "needs_background": "light"
          }
        }
      ],
      "source": [
        "plot_metric(cnn_3d_model_training_history, 'loss', 'val_loss', 'Total Loss vs Total Validation Loss')"
      ]
    },
    {
      "cell_type": "code",
      "execution_count": 17,
      "metadata": {
        "colab": {
          "base_uri": "https://localhost:8080/",
          "height": 281
        },
        "id": "o1iaaDHBb5i0",
        "outputId": "caef9e9b-520f-49e3-b482-17bad8070edf"
      },
      "outputs": [
        {
          "output_type": "display_data",
          "data": {
            "text/plain": [
              "<Figure size 432x288 with 1 Axes>"
            ],
            "image/png": "[encoded data removed]"
          },
          "metadata": {
            "needs_background": "light"
          }
        }
      ],
      "source": [
        "plot_metric(cnn_3d_model_training_history, 'accuracy', 'val_accuracy', 'Total Accuracy vs Total Validation Accuracy') "
      ]
    }
  ],
  "metadata": {
    "accelerator": "GPU",
    "colab": {
      "collapsed_sections": [],
      "machine_shape": "hm",
      "name": "3D_CNN.ipynb",
      "provenance": [],
      "authorship_tag": "ABX9TyOaj/9Am+n/Xap4YRtXwqHZ",
      "include_colab_link": true
    },
    "kernelspec": {
      "display_name": "Python 3",
      "name": "python3"
    },
    "language_info": {
      "name": "python"
    }
  },
  "nbformat": 4,
  "nbformat_minor": 0
}