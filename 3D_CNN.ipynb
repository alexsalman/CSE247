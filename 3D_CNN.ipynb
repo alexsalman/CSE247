{
  "cells": [
    {
      "cell_type": "markdown",
      "metadata": {
        "id": "view-in-github",
        "colab_type": "text"
      },
      "source": [
        "<a href=\"https://colab.research.google.com/github/alexsalman/CSE247/blob/main/3D_CNN.ipynb\" target=\"_parent\"><img src=\"https://colab.research.google.com/assets/colab-badge.svg\" alt=\"Open In Colab\"/></a>"
      ]
    },
    {
      "cell_type": "markdown",
      "metadata": {
        "id": "Kk7I8NauauE3"
      },
      "source": [
        "####**3D Convolutional Neural Network**\n",
        "######*I am using 3D Convolutional Neural Network to extract the temporal and spatial information which are merged slowly throughout the whole network.*"
      ]
    },
    {
      "cell_type": "code",
      "execution_count": 1,
      "metadata": {
        "colab": {
          "base_uri": "https://localhost:8080/"
        },
        "id": "M8ibtd5HKtZk",
        "outputId": "6145200a-26b2-4afd-fe92-7bceee05b689"
      },
      "outputs": [
        {
          "output_type": "stream",
          "name": "stdout",
          "text": [
            "2.8.0\n"
          ]
        }
      ],
      "source": [
        "# required libraries\n",
        "import os\n",
        "import cv2\n",
        "import random\n",
        "import numpy as np\n",
        "import datetime as dt\n",
        "import matplotlib.pyplot as plt\n",
        "from google.colab import drive\n",
        "from sklearn.model_selection import train_test_split\n",
        "import tensorflow as tf\n",
        "from tensorflow import keras\n",
        "from keras.models import Sequential\n",
        "from keras.layers import Dense, Flatten, Conv3D, MaxPooling3D, Dropout\n",
        "from keras.layers import BatchNormalization, GlobalAveragePooling3D\n",
        "from keras import regularizers\n",
        "%matplotlib inline\n",
        "print(tf.version.VERSION)"
      ]
    },
    {
      "cell_type": "code",
      "execution_count": 2,
      "metadata": {
        "id": "iffdFOf1CEAN"
      },
      "outputs": [],
      "source": [
        "# set Numpy, Python, and Tensorflow seeds to get consistent results on every execution\n",
        "seed_constant = 27\n",
        "np.random.seed(seed_constant)\n",
        "random.seed(seed_constant)\n",
        "tf.random.set_seed(seed_constant)"
      ]
    },
    {
      "cell_type": "code",
      "execution_count": 3,
      "metadata": {
        "colab": {
          "base_uri": "https://localhost:8080/",
          "height": 53
        },
        "id": "mcLh22LiOHyn",
        "outputId": "a519b6d5-29df-4af5-dfe8-78d5b35d3599"
      },
      "outputs": [
        {
          "output_type": "stream",
          "name": "stdout",
          "text": [
            "Mounted at /content/gdrive/\n"
          ]
        },
        {
          "output_type": "execute_result",
          "data": {
            "text/plain": [
              "'/content/gdrive/My Drive/247'"
            ],
            "application/vnd.google.colaboratory.intrinsic+json": {
              "type": "string"
            }
          },
          "metadata": {},
          "execution_count": 3
        }
      ],
      "source": [
        "# mount dataset from google drive\n",
        "drive.mount('/content/gdrive/', force_remount=True)\n",
        "gdrive_path = '/content/gdrive' + '/My Drive/247/'\n",
        "os.chdir(gdrive_path)\n",
        "os.getcwd()"
      ]
    },
    {
      "cell_type": "code",
      "execution_count": 4,
      "metadata": {
        "id": "oeDK8SzumZ1Q"
      },
      "outputs": [],
      "source": [
        "# frame dimention\n",
        "IMAGE_HEIGHT, IMAGE_WIDTH = 128, 128\n",
        "# frame number for each video (depth)\n",
        "SEQUENCE_LENGTH = 16\n",
        "# video dir path\n",
        "DATASET_DIR = gdrive_path + 'Cropped_videos'\n",
        "# labels of classes\n",
        "CLASSES_LIST = ['hemostasis', 'inflammatory', 'proliferative', 'maturation']"
      ]
    },
    {
      "cell_type": "code",
      "execution_count": 5,
      "metadata": {
        "id": "HUTeIqzpZc9J"
      },
      "outputs": [],
      "source": [
        "# image cropping\n",
        "def crop_center_square(frame):\n",
        "    y, x = frame.shape[0:2]\n",
        "    min_dim = min(y, x)\n",
        "    start_x = (x // 2) - (min_dim // 2)\n",
        "    start_y = (y // 2) - (min_dim // 2)\n",
        "    return frame[start_y:start_y+min_dim,start_x:start_x+min_dim]"
      ]
    },
    {
      "cell_type": "code",
      "execution_count": 6,
      "metadata": {
        "id": "QRDbHG0TZkYJ"
      },
      "outputs": [],
      "source": [
        "def load_video(path, resize=(128, 128)):\n",
        "    video_reader = cv2.VideoCapture(path)\n",
        "    frames = []\n",
        "    try:\n",
        "        while True:\n",
        "            ret, frame = video_reader.read()\n",
        "            if not ret:\n",
        "                  break\n",
        "            # frame = crop_center_square(frame)\n",
        "            frame = cv2.resize(frame, resize)\n",
        "            frame = frame[:, :, [2, 1, 0]]\n",
        "            black_frame = frame\n",
        "            frames.append(frame)\n",
        "    finally:\n",
        "        video_reader.release()\n",
        "    return np.array(frames) / 255.0"
      ]
    },
    {
      "cell_type": "code",
      "execution_count": 7,
      "metadata": {
        "id": "ljUWHW6Jqzu-"
      },
      "outputs": [],
      "source": [
        "def create_dataset(state):\n",
        "    # Declared Empty Lists to store the features, labels and video file path values.\n",
        "    features = []\n",
        "    labels = []\n",
        "    video_files_paths = []\n",
        "    # Iterating through all the classes mentioned in the classes list\n",
        "    for class_index, class_name in enumerate(CLASSES_LIST):\n",
        "        # Display the name of the class whose data is being extracted.\n",
        "        print(f'Extracting Data of Class: {class_name} {state}')\n",
        "        # Get the list of video files present in the specific class name directory.\n",
        "        files_list = os.listdir(os.path.join(DATASET_DIR, class_name))\n",
        "        # Iterate through all the files present in the files list.\n",
        "        for file_name in files_list:\n",
        "            # Get the complete video path.\n",
        "            video_file_path = os.path.join(DATASET_DIR, class_name, file_name)\n",
        "            # create testing data\n",
        "            if state == 'test':\n",
        "                # get the mouse number\n",
        "                mouse_number = int(video_file_path.split(' ')[2].split('_')[1].split('-')[1])\n",
        "                # get the mouse side (L or R)\n",
        "                mouse_side = video_file_path.split(' ')[2].split('_')[1].split('-')[2]\n",
        "                if mouse_number == 4 and mouse_side == 'L':\n",
        "                    frames = load_video(video_file_path)\n",
        "                    features.append(frames)\n",
        "                    labels.append(class_index)\n",
        "                    video_files_paths.append(video_file_path)\n",
        "            # create validation data\n",
        "            elif state == 'valid':\n",
        "                # get the mouse number\n",
        "                mouse_number = int(video_file_path.split(' ')[2].split('_')[1].split('-')[1])\n",
        "                # get the mouse side (L or R)\n",
        "                mouse_side = video_file_path.split(' ')[2].split('_')[1].split('-')[2]\n",
        "                if mouse_number == 4 and mouse_side == 'R':\n",
        "                    frames = load_video(video_file_path)\n",
        "                    features.append(frames)\n",
        "                    labels.append(class_index)\n",
        "                    video_files_paths.append(video_file_path)\n",
        "            # create training data\n",
        "            else:\n",
        "                # get the mouse number\n",
        "                mouse_number = int(video_file_path.split(' ')[2].split('_')[1].split('-')[1])\n",
        "                if mouse_number != 4:\n",
        "                    frames = load_video(video_file_path)\n",
        "                    features.append(frames)\n",
        "                    labels.append(class_index)\n",
        "                    video_files_paths.append(video_file_path)\n",
        "    # Converting the list to numpy arrays\n",
        "    features = np.asarray(features)\n",
        "    # print(features)\n",
        "    labels = np.array(labels)\n",
        "    # Return the frames, class index, and video file path.\n",
        "    return features, labels, video_files_paths"
      ]
    },
    {
      "cell_type": "code",
      "execution_count": 8,
      "metadata": {
        "colab": {
          "base_uri": "https://localhost:8080/"
        },
        "id": "a8rpanz9rASe",
        "outputId": "946c0fb2-d2f3-4ca5-e256-d4b3f133c970"
      },
      "outputs": [
        {
          "output_type": "stream",
          "name": "stdout",
          "text": [
            "Extracting Data of Class: hemostasis train\n",
            "Extracting Data of Class: inflammatory train\n",
            "Extracting Data of Class: proliferative train\n",
            "Extracting Data of Class: maturation train\n",
            "Extracting Data of Class: hemostasis test\n",
            "Extracting Data of Class: inflammatory test\n",
            "Extracting Data of Class: proliferative test\n",
            "Extracting Data of Class: maturation test\n",
            "Extracting Data of Class: hemostasis valid\n",
            "Extracting Data of Class: inflammatory valid\n",
            "Extracting Data of Class: proliferative valid\n",
            "Extracting Data of Class: maturation valid\n"
          ]
        }
      ],
      "source": [
        "# 6 mice for training, 2 mice for test and validation (one wound on each mice for test one for validation)\n",
        "features_train, labels_train, video_files_paths_train = create_dataset('train')\n",
        "features_test, labels_test, video_files_paths_test = create_dataset('test')\n",
        "features_valid, labels_valid, video_files_paths_valid = create_dataset('valid')"
      ]
    },
    {
      "cell_type": "code",
      "execution_count": 9,
      "metadata": {
        "id": "dtJkK4qTAulC"
      },
      "outputs": [],
      "source": [
        "# labels to catogorical\n",
        "labels_train = keras.utils.to_categorical(labels_train)\n",
        "labels_test = keras.utils.to_categorical(labels_test)\n",
        "labels_valid = keras.utils.to_categorical(labels_valid)"
      ]
    },
    {
      "cell_type": "code",
      "execution_count": 10,
      "metadata": {
        "id": "N-9ykP4ig7IW"
      },
      "outputs": [],
      "source": [
        "def create_3D_CNN_model():\n",
        "    sample_shape = (16, 128, 128, 3)\n",
        "    model = Sequential()\n",
        "\n",
        "    ### 1\n",
        "    model.add(Conv3D(16, (3,3,3), activation='relu', kernel_initializer='he_uniform',\n",
        "                     kernel_regularizer=regularizers.L2(l2=1e-4),\n",
        "                     input_shape=sample_shape))\n",
        "    model.add(MaxPooling3D(2))\n",
        "    model.add(Dropout(0.3))\n",
        "\n",
        "    ### 2\n",
        "    model.add(Conv3D(32, (3,3,3), activation='relu', kernel_initializer='he_uniform',\n",
        "                     kernel_regularizer=regularizers.L2(l2=1e-4)))\n",
        "    model.add(MaxPooling3D(2))\n",
        "    model.add(Dropout(0.3))\n",
        "\n",
        "    model.add(GlobalAveragePooling3D())\n",
        "    model.add(Dropout(0.3))\n",
        "\n",
        "    model.add(Dense(32, activation='relu', kernel_initializer='he_uniform',\n",
        "                    kernel_regularizer=regularizers.L2(l2=1e-4)))\n",
        "    model.add(Dropout(0.35))\n",
        "\n",
        "    model.add(Dense(16, activation='relu', kernel_initializer='he_uniform',\n",
        "                    kernel_regularizer=regularizers.L2(l2=1e-4)))\n",
        "    model.add(Dropout(0.4))\n",
        "\n",
        "    model.add(Dense(8, activation='relu', kernel_initializer='he_uniform',\n",
        "                    kernel_regularizer=regularizers.L2(l2=1e-4)))\n",
        "    model.add(Dropout(0.45))\n",
        "\n",
        "    model.add(Dense(4, activation='relu', kernel_initializer='he_uniform',\n",
        "                    kernel_regularizer=regularizers.L2(l2=1e-4)))\n",
        "\n",
        "    model.add(Dense(len(CLASSES_LIST), activation='softmax'))\n",
        "\n",
        "    model.summary(line_length = 125)\n",
        "\n",
        "    return model"
      ]
    },
    {
      "cell_type": "code",
      "execution_count": 11,
      "metadata": {
        "colab": {
          "base_uri": "https://localhost:8080/"
        },
        "id": "Z4_GxXZBcHlB",
        "outputId": "61bf4b8d-2cfe-47aa-b389-4af532b2a629"
      },
      "outputs": [
        {
          "output_type": "stream",
          "name": "stdout",
          "text": [
            "Model: \"sequential\"\n",
            "_____________________________________________________________________________________________________________________________\n",
            " Layer (type)                                           Output Shape                                      Param #            \n",
            "=============================================================================================================================\n",
            " conv3d (Conv3D)                                        (None, 14, 126, 126, 16)                          1312               \n",
            "                                                                                                                             \n",
            " max_pooling3d (MaxPooling3D)                           (None, 7, 63, 63, 16)                             0                  \n",
            "                                                                                                                             \n",
            " dropout (Dropout)                                      (None, 7, 63, 63, 16)                             0                  \n",
            "                                                                                                                             \n",
            " conv3d_1 (Conv3D)                                      (None, 5, 61, 61, 32)                             13856              \n",
            "                                                                                                                             \n",
            " max_pooling3d_1 (MaxPooling3D)                         (None, 2, 30, 30, 32)                             0                  \n",
            "                                                                                                                             \n",
            " dropout_1 (Dropout)                                    (None, 2, 30, 30, 32)                             0                  \n",
            "                                                                                                                             \n",
            " global_average_pooling3d (GlobalAveragePooling3D)      (None, 32)                                        0                  \n",
            "                                                                                                                             \n",
            " dropout_2 (Dropout)                                    (None, 32)                                        0                  \n",
            "                                                                                                                             \n",
            " dense (Dense)                                          (None, 32)                                        1056               \n",
            "                                                                                                                             \n",
            " dropout_3 (Dropout)                                    (None, 32)                                        0                  \n",
            "                                                                                                                             \n",
            " dense_1 (Dense)                                        (None, 16)                                        528                \n",
            "                                                                                                                             \n",
            " dropout_4 (Dropout)                                    (None, 16)                                        0                  \n",
            "                                                                                                                             \n",
            " dense_2 (Dense)                                        (None, 8)                                         136                \n",
            "                                                                                                                             \n",
            " dropout_5 (Dropout)                                    (None, 8)                                         0                  \n",
            "                                                                                                                             \n",
            " dense_3 (Dense)                                        (None, 4)                                         36                 \n",
            "                                                                                                                             \n",
            " dense_4 (Dense)                                        (None, 4)                                         20                 \n",
            "                                                                                                                             \n",
            "=============================================================================================================================\n",
            "Total params: 16,944\n",
            "Trainable params: 16,944\n",
            "Non-trainable params: 0\n",
            "_____________________________________________________________________________________________________________________________\n",
            "Model Created Successfully!\n"
          ]
        }
      ],
      "source": [
        "# Construct the required convlstm model.\n",
        "model = create_3D_CNN_model()\n",
        " \n",
        "# Display the success message. \n",
        "print(\"Model Created Successfully!\")"
      ]
    },
    {
      "cell_type": "code",
      "execution_count": 12,
      "metadata": {
        "colab": {
          "base_uri": "https://localhost:8080/"
        },
        "id": "MwYEkaYLoyb_",
        "outputId": "d4bfe301-94d7-46a8-b4b1-99b6829a7d0a"
      },
      "outputs": [
        {
          "output_type": "stream",
          "name": "stdout",
          "text": [
            "Epoch 1/150\n",
            "30/30 [==============================] - 8s 189ms/step - loss: 1.4034 - accuracy: 0.4251 - val_loss: 1.3476 - val_accuracy: 0.5331\n",
            "Epoch 2/150\n",
            "30/30 [==============================] - 4s 144ms/step - loss: 1.3139 - accuracy: 0.4295 - val_loss: 1.3108 - val_accuracy: 0.5368\n",
            "Epoch 3/150\n",
            "30/30 [==============================] - 4s 147ms/step - loss: 1.2849 - accuracy: 0.4406 - val_loss: 1.2646 - val_accuracy: 0.5184\n",
            "Epoch 4/150\n",
            "30/30 [==============================] - 4s 146ms/step - loss: 1.2456 - accuracy: 0.4350 - val_loss: 1.2319 - val_accuracy: 0.5110\n",
            "Epoch 5/150\n",
            "30/30 [==============================] - 4s 145ms/step - loss: 1.2231 - accuracy: 0.4672 - val_loss: 1.2045 - val_accuracy: 0.4449\n",
            "Epoch 6/150\n",
            "30/30 [==============================] - 4s 145ms/step - loss: 1.1905 - accuracy: 0.4511 - val_loss: 1.1651 - val_accuracy: 0.4485\n",
            "Epoch 7/150\n",
            "30/30 [==============================] - 4s 147ms/step - loss: 1.1855 - accuracy: 0.4431 - val_loss: 1.1564 - val_accuracy: 0.3897\n",
            "Epoch 8/150\n",
            "30/30 [==============================] - 4s 146ms/step - loss: 1.1633 - accuracy: 0.4369 - val_loss: 1.1150 - val_accuracy: 0.4890\n",
            "Epoch 9/150\n",
            "30/30 [==============================] - 4s 145ms/step - loss: 1.1283 - accuracy: 0.4672 - val_loss: 1.0883 - val_accuracy: 0.5404\n",
            "Epoch 10/150\n",
            "30/30 [==============================] - 4s 145ms/step - loss: 1.1287 - accuracy: 0.4697 - val_loss: 1.0840 - val_accuracy: 0.4522\n",
            "Epoch 11/150\n",
            "30/30 [==============================] - 4s 146ms/step - loss: 1.1107 - accuracy: 0.4604 - val_loss: 1.0705 - val_accuracy: 0.5846\n",
            "Epoch 12/150\n",
            "30/30 [==============================] - 4s 145ms/step - loss: 1.1150 - accuracy: 0.4573 - val_loss: 1.0442 - val_accuracy: 0.5699\n",
            "Epoch 13/150\n",
            "30/30 [==============================] - 4s 146ms/step - loss: 1.0729 - accuracy: 0.4802 - val_loss: 1.0100 - val_accuracy: 0.5478\n",
            "Epoch 14/150\n",
            "30/30 [==============================] - 4s 146ms/step - loss: 1.0851 - accuracy: 0.4752 - val_loss: 1.0320 - val_accuracy: 0.5956\n",
            "Epoch 15/150\n",
            "30/30 [==============================] - 4s 146ms/step - loss: 1.0610 - accuracy: 0.4889 - val_loss: 0.9955 - val_accuracy: 0.5735\n",
            "Epoch 16/150\n",
            "30/30 [==============================] - 4s 145ms/step - loss: 1.0324 - accuracy: 0.5204 - val_loss: 0.9528 - val_accuracy: 0.5919\n",
            "Epoch 17/150\n",
            "30/30 [==============================] - 4s 146ms/step - loss: 1.0462 - accuracy: 0.4889 - val_loss: 0.9777 - val_accuracy: 0.5735\n",
            "Epoch 18/150\n",
            "30/30 [==============================] - 4s 146ms/step - loss: 1.0276 - accuracy: 0.4950 - val_loss: 0.9494 - val_accuracy: 0.5882\n",
            "Epoch 19/150\n",
            "30/30 [==============================] - 4s 146ms/step - loss: 1.0021 - accuracy: 0.5056 - val_loss: 0.9532 - val_accuracy: 0.5993\n",
            "Epoch 20/150\n",
            "30/30 [==============================] - 4s 144ms/step - loss: 0.9959 - accuracy: 0.5235 - val_loss: 0.9395 - val_accuracy: 0.6140\n",
            "Epoch 21/150\n",
            "30/30 [==============================] - 4s 145ms/step - loss: 0.9881 - accuracy: 0.5111 - val_loss: 0.9240 - val_accuracy: 0.5919\n",
            "Epoch 22/150\n",
            "30/30 [==============================] - 4s 145ms/step - loss: 0.9830 - accuracy: 0.5285 - val_loss: 0.8987 - val_accuracy: 0.6029\n",
            "Epoch 23/150\n",
            "30/30 [==============================] - 4s 145ms/step - loss: 0.9680 - accuracy: 0.5217 - val_loss: 0.8952 - val_accuracy: 0.5919\n",
            "Epoch 24/150\n",
            "30/30 [==============================] - 4s 145ms/step - loss: 0.9753 - accuracy: 0.5130 - val_loss: 0.8792 - val_accuracy: 0.6066\n",
            "Epoch 25/150\n",
            "30/30 [==============================] - 4s 145ms/step - loss: 0.9650 - accuracy: 0.5161 - val_loss: 0.8811 - val_accuracy: 0.5846\n",
            "Epoch 26/150\n",
            "30/30 [==============================] - 4s 144ms/step - loss: 0.9421 - accuracy: 0.5235 - val_loss: 0.8647 - val_accuracy: 0.5956\n",
            "Epoch 27/150\n",
            "30/30 [==============================] - 4s 145ms/step - loss: 0.9409 - accuracy: 0.5402 - val_loss: 0.8567 - val_accuracy: 0.5956\n",
            "Epoch 28/150\n",
            "30/30 [==============================] - 4s 145ms/step - loss: 0.9417 - accuracy: 0.5136 - val_loss: 0.8578 - val_accuracy: 0.5735\n",
            "Epoch 29/150\n",
            "30/30 [==============================] - 4s 144ms/step - loss: 0.9227 - accuracy: 0.5625 - val_loss: 0.8536 - val_accuracy: 0.5625\n",
            "Epoch 30/150\n",
            "30/30 [==============================] - 4s 146ms/step - loss: 0.9146 - accuracy: 0.5594 - val_loss: 0.8478 - val_accuracy: 0.5882\n",
            "Epoch 31/150\n",
            "30/30 [==============================] - 4s 145ms/step - loss: 0.9159 - accuracy: 0.5476 - val_loss: 0.8374 - val_accuracy: 0.6140\n",
            "Epoch 32/150\n",
            "30/30 [==============================] - 4s 146ms/step - loss: 0.9317 - accuracy: 0.5408 - val_loss: 0.8612 - val_accuracy: 0.5993\n",
            "Epoch 33/150\n",
            "30/30 [==============================] - 4s 145ms/step - loss: 0.8885 - accuracy: 0.5693 - val_loss: 0.8290 - val_accuracy: 0.5846\n",
            "Epoch 34/150\n",
            "30/30 [==============================] - 4s 145ms/step - loss: 0.9062 - accuracy: 0.5668 - val_loss: 0.8344 - val_accuracy: 0.5956\n",
            "Epoch 35/150\n",
            "30/30 [==============================] - 4s 143ms/step - loss: 0.9055 - accuracy: 0.5774 - val_loss: 0.8538 - val_accuracy: 0.6213\n",
            "Epoch 36/150\n",
            "30/30 [==============================] - 4s 145ms/step - loss: 0.9148 - accuracy: 0.5619 - val_loss: 0.8416 - val_accuracy: 0.5809\n",
            "Epoch 37/150\n",
            "30/30 [==============================] - 4s 144ms/step - loss: 0.9018 - accuracy: 0.5606 - val_loss: 0.8334 - val_accuracy: 0.5919\n",
            "Epoch 38/150\n",
            "30/30 [==============================] - 4s 144ms/step - loss: 0.9004 - accuracy: 0.5675 - val_loss: 0.8237 - val_accuracy: 0.5919\n",
            "Epoch 39/150\n",
            "30/30 [==============================] - 4s 145ms/step - loss: 0.8963 - accuracy: 0.5631 - val_loss: 0.8607 - val_accuracy: 0.5368\n",
            "Epoch 40/150\n",
            "30/30 [==============================] - 4s 145ms/step - loss: 0.8904 - accuracy: 0.5854 - val_loss: 0.8244 - val_accuracy: 0.5699\n",
            "Epoch 41/150\n",
            "30/30 [==============================] - 4s 145ms/step - loss: 0.8781 - accuracy: 0.5767 - val_loss: 0.8152 - val_accuracy: 0.5993\n",
            "Epoch 42/150\n",
            "30/30 [==============================] - 4s 145ms/step - loss: 0.9000 - accuracy: 0.5693 - val_loss: 0.8137 - val_accuracy: 0.6140\n",
            "Epoch 43/150\n",
            "30/30 [==============================] - 4s 144ms/step - loss: 0.8796 - accuracy: 0.5761 - val_loss: 0.8132 - val_accuracy: 0.6176\n",
            "Epoch 44/150\n",
            "30/30 [==============================] - 4s 145ms/step - loss: 0.8735 - accuracy: 0.5823 - val_loss: 0.8266 - val_accuracy: 0.6140\n",
            "Epoch 45/150\n",
            "30/30 [==============================] - 4s 144ms/step - loss: 0.8704 - accuracy: 0.5879 - val_loss: 0.7999 - val_accuracy: 0.5993\n",
            "Epoch 46/150\n",
            "30/30 [==============================] - 4s 145ms/step - loss: 0.8660 - accuracy: 0.6040 - val_loss: 0.7960 - val_accuracy: 0.6213\n",
            "Epoch 47/150\n",
            "30/30 [==============================] - 4s 143ms/step - loss: 0.8713 - accuracy: 0.5873 - val_loss: 0.7941 - val_accuracy: 0.6213\n",
            "Epoch 48/150\n",
            "30/30 [==============================] - 4s 145ms/step - loss: 0.8662 - accuracy: 0.5848 - val_loss: 0.8308 - val_accuracy: 0.5478\n",
            "Epoch 49/150\n",
            "30/30 [==============================] - 4s 145ms/step - loss: 0.8522 - accuracy: 0.5984 - val_loss: 0.8168 - val_accuracy: 0.5441\n",
            "Epoch 50/150\n",
            "30/30 [==============================] - 4s 144ms/step - loss: 0.8373 - accuracy: 0.6033 - val_loss: 0.7849 - val_accuracy: 0.6324\n",
            "Epoch 51/150\n",
            "30/30 [==============================] - 4s 147ms/step - loss: 0.8622 - accuracy: 0.6089 - val_loss: 0.8058 - val_accuracy: 0.6618\n",
            "Epoch 52/150\n",
            "30/30 [==============================] - 4s 145ms/step - loss: 0.8502 - accuracy: 0.6064 - val_loss: 0.7931 - val_accuracy: 0.5846\n",
            "Epoch 53/150\n",
            "30/30 [==============================] - 4s 143ms/step - loss: 0.8650 - accuracy: 0.5996 - val_loss: 0.7782 - val_accuracy: 0.6213\n",
            "Epoch 54/150\n",
            "30/30 [==============================] - 4s 145ms/step - loss: 0.8641 - accuracy: 0.6027 - val_loss: 0.7902 - val_accuracy: 0.6213\n",
            "Epoch 55/150\n",
            "30/30 [==============================] - 4s 143ms/step - loss: 0.8613 - accuracy: 0.6120 - val_loss: 0.7855 - val_accuracy: 0.6360\n",
            "Epoch 56/150\n",
            "30/30 [==============================] - 4s 146ms/step - loss: 0.8490 - accuracy: 0.6040 - val_loss: 0.8048 - val_accuracy: 0.6103\n",
            "Epoch 57/150\n",
            "30/30 [==============================] - 4s 144ms/step - loss: 0.8247 - accuracy: 0.6337 - val_loss: 0.7738 - val_accuracy: 0.6324\n",
            "Epoch 58/150\n",
            "30/30 [==============================] - 4s 145ms/step - loss: 0.8298 - accuracy: 0.6256 - val_loss: 0.7855 - val_accuracy: 0.6397\n",
            "Epoch 59/150\n",
            "30/30 [==============================] - 4s 144ms/step - loss: 0.8511 - accuracy: 0.6015 - val_loss: 0.8285 - val_accuracy: 0.5074\n",
            "Epoch 60/150\n",
            "30/30 [==============================] - 4s 145ms/step - loss: 0.8245 - accuracy: 0.6281 - val_loss: 0.7779 - val_accuracy: 0.6029\n",
            "Epoch 61/150\n",
            "30/30 [==============================] - 4s 145ms/step - loss: 0.8480 - accuracy: 0.6250 - val_loss: 0.7561 - val_accuracy: 0.6544\n",
            "Epoch 62/150\n",
            "30/30 [==============================] - 4s 145ms/step - loss: 0.8206 - accuracy: 0.6194 - val_loss: 0.7498 - val_accuracy: 0.6654\n",
            "Epoch 63/150\n",
            "30/30 [==============================] - 4s 145ms/step - loss: 0.8176 - accuracy: 0.6399 - val_loss: 0.7564 - val_accuracy: 0.6471\n",
            "Epoch 64/150\n",
            "30/30 [==============================] - 4s 146ms/step - loss: 0.8179 - accuracy: 0.6368 - val_loss: 0.8049 - val_accuracy: 0.6287\n",
            "Epoch 65/150\n",
            "30/30 [==============================] - 4s 145ms/step - loss: 0.8057 - accuracy: 0.6473 - val_loss: 0.7372 - val_accuracy: 0.6654\n",
            "Epoch 66/150\n",
            "30/30 [==============================] - 4s 146ms/step - loss: 0.8321 - accuracy: 0.6256 - val_loss: 0.7656 - val_accuracy: 0.6287\n",
            "Epoch 67/150\n",
            "30/30 [==============================] - 4s 144ms/step - loss: 0.8193 - accuracy: 0.6460 - val_loss: 0.7797 - val_accuracy: 0.6213\n",
            "Epoch 68/150\n",
            "30/30 [==============================] - 4s 145ms/step - loss: 0.8034 - accuracy: 0.6429 - val_loss: 0.7462 - val_accuracy: 0.6434\n",
            "Epoch 69/150\n",
            "30/30 [==============================] - 4s 147ms/step - loss: 0.7900 - accuracy: 0.6485 - val_loss: 0.7361 - val_accuracy: 0.6691\n",
            "Epoch 70/150\n",
            "30/30 [==============================] - 4s 146ms/step - loss: 0.7925 - accuracy: 0.6590 - val_loss: 0.7583 - val_accuracy: 0.6654\n",
            "Epoch 71/150\n",
            "30/30 [==============================] - 4s 146ms/step - loss: 0.8092 - accuracy: 0.6399 - val_loss: 0.7210 - val_accuracy: 0.6691\n",
            "Epoch 72/150\n",
            "30/30 [==============================] - 4s 144ms/step - loss: 0.8014 - accuracy: 0.6460 - val_loss: 0.8026 - val_accuracy: 0.5515\n",
            "Epoch 73/150\n",
            "30/30 [==============================] - 4s 146ms/step - loss: 0.8024 - accuracy: 0.6522 - val_loss: 0.7267 - val_accuracy: 0.6838\n",
            "Epoch 74/150\n",
            "30/30 [==============================] - 4s 146ms/step - loss: 0.7883 - accuracy: 0.6510 - val_loss: 0.7460 - val_accuracy: 0.6507\n",
            "Epoch 75/150\n",
            "30/30 [==============================] - 4s 146ms/step - loss: 0.7889 - accuracy: 0.6615 - val_loss: 0.7478 - val_accuracy: 0.6250\n",
            "Epoch 76/150\n",
            "30/30 [==============================] - 4s 146ms/step - loss: 0.7934 - accuracy: 0.6559 - val_loss: 0.7417 - val_accuracy: 0.6728\n",
            "Epoch 77/150\n",
            "30/30 [==============================] - 4s 146ms/step - loss: 0.7750 - accuracy: 0.6423 - val_loss: 0.7324 - val_accuracy: 0.6581\n",
            "Epoch 78/150\n",
            "30/30 [==============================] - 4s 145ms/step - loss: 0.7598 - accuracy: 0.6683 - val_loss: 0.7621 - val_accuracy: 0.5846\n",
            "Epoch 79/150\n",
            "30/30 [==============================] - 4s 145ms/step - loss: 0.7560 - accuracy: 0.6782 - val_loss: 0.7019 - val_accuracy: 0.6765\n",
            "Epoch 80/150\n",
            "30/30 [==============================] - 4s 146ms/step - loss: 0.7669 - accuracy: 0.6547 - val_loss: 0.6896 - val_accuracy: 0.6801\n",
            "Epoch 81/150\n",
            "30/30 [==============================] - 4s 145ms/step - loss: 0.7685 - accuracy: 0.6665 - val_loss: 0.7992 - val_accuracy: 0.5625\n",
            "Epoch 82/150\n",
            "30/30 [==============================] - 4s 146ms/step - loss: 0.7893 - accuracy: 0.6578 - val_loss: 0.8154 - val_accuracy: 0.4963\n",
            "Epoch 83/150\n",
            "30/30 [==============================] - 4s 146ms/step - loss: 0.7610 - accuracy: 0.6683 - val_loss: 0.7385 - val_accuracy: 0.6140\n",
            "Epoch 84/150\n",
            "30/30 [==============================] - 4s 146ms/step - loss: 0.7778 - accuracy: 0.6510 - val_loss: 0.6985 - val_accuracy: 0.6912\n",
            "Epoch 85/150\n",
            "30/30 [==============================] - 4s 145ms/step - loss: 0.7661 - accuracy: 0.6795 - val_loss: 0.8240 - val_accuracy: 0.4926\n",
            "Epoch 86/150\n",
            "30/30 [==============================] - 4s 146ms/step - loss: 0.7515 - accuracy: 0.6671 - val_loss: 0.7196 - val_accuracy: 0.6581\n",
            "Epoch 87/150\n",
            "30/30 [==============================] - 4s 145ms/step - loss: 0.7589 - accuracy: 0.6770 - val_loss: 0.6992 - val_accuracy: 0.6875\n",
            "Epoch 88/150\n",
            "30/30 [==============================] - 4s 145ms/step - loss: 0.7330 - accuracy: 0.6782 - val_loss: 0.7212 - val_accuracy: 0.6949\n",
            "Epoch 89/150\n",
            "30/30 [==============================] - 4s 146ms/step - loss: 0.7345 - accuracy: 0.6801 - val_loss: 0.6790 - val_accuracy: 0.6875\n",
            "Epoch 90/150\n",
            "30/30 [==============================] - 4s 146ms/step - loss: 0.7473 - accuracy: 0.6646 - val_loss: 0.6929 - val_accuracy: 0.7096\n",
            "Epoch 91/150\n",
            "30/30 [==============================] - 4s 146ms/step - loss: 0.7606 - accuracy: 0.6819 - val_loss: 0.6802 - val_accuracy: 0.6875\n",
            "Epoch 92/150\n",
            "30/30 [==============================] - 4s 145ms/step - loss: 0.7418 - accuracy: 0.6757 - val_loss: 0.7210 - val_accuracy: 0.6434\n",
            "Epoch 93/150\n",
            "30/30 [==============================] - 4s 146ms/step - loss: 0.7135 - accuracy: 0.7030 - val_loss: 0.7043 - val_accuracy: 0.6618\n",
            "Epoch 94/150\n",
            "30/30 [==============================] - 4s 146ms/step - loss: 0.7418 - accuracy: 0.6714 - val_loss: 0.7059 - val_accuracy: 0.6801\n",
            "Epoch 95/150\n",
            "30/30 [==============================] - 4s 144ms/step - loss: 0.7209 - accuracy: 0.6733 - val_loss: 0.7271 - val_accuracy: 0.6213\n",
            "Epoch 96/150\n",
            "30/30 [==============================] - 4s 145ms/step - loss: 0.7164 - accuracy: 0.6906 - val_loss: 0.7395 - val_accuracy: 0.6066\n",
            "Epoch 97/150\n",
            "30/30 [==============================] - 4s 145ms/step - loss: 0.7349 - accuracy: 0.6726 - val_loss: 0.6931 - val_accuracy: 0.6949\n",
            "Epoch 98/150\n",
            "30/30 [==============================] - 4s 147ms/step - loss: 0.7309 - accuracy: 0.6825 - val_loss: 0.7996 - val_accuracy: 0.5147\n",
            "Epoch 99/150\n",
            "30/30 [==============================] - 4s 147ms/step - loss: 0.7428 - accuracy: 0.6696 - val_loss: 0.6862 - val_accuracy: 0.6985\n",
            "Epoch 100/150\n",
            "30/30 [==============================] - 4s 145ms/step - loss: 0.7175 - accuracy: 0.6931 - val_loss: 0.6761 - val_accuracy: 0.6912\n",
            "Epoch 101/150\n",
            "30/30 [==============================] - 4s 145ms/step - loss: 0.7133 - accuracy: 0.6974 - val_loss: 0.6888 - val_accuracy: 0.6544\n",
            "Epoch 102/150\n",
            "30/30 [==============================] - 4s 145ms/step - loss: 0.7163 - accuracy: 0.6894 - val_loss: 0.6941 - val_accuracy: 0.6544\n",
            "Epoch 103/150\n",
            "30/30 [==============================] - 4s 145ms/step - loss: 0.7375 - accuracy: 0.6745 - val_loss: 0.7446 - val_accuracy: 0.6066\n",
            "Epoch 104/150\n",
            "30/30 [==============================] - 4s 147ms/step - loss: 0.7122 - accuracy: 0.6894 - val_loss: 0.6638 - val_accuracy: 0.6875\n",
            "Epoch 105/150\n",
            "30/30 [==============================] - 4s 145ms/step - loss: 0.7040 - accuracy: 0.6819 - val_loss: 0.7371 - val_accuracy: 0.6066\n",
            "Epoch 106/150\n",
            "30/30 [==============================] - 4s 145ms/step - loss: 0.6930 - accuracy: 0.6974 - val_loss: 0.6878 - val_accuracy: 0.6434\n",
            "Epoch 107/150\n",
            "30/30 [==============================] - 4s 146ms/step - loss: 0.7150 - accuracy: 0.6937 - val_loss: 0.7518 - val_accuracy: 0.5699\n",
            "Epoch 108/150\n",
            "30/30 [==============================] - 4s 145ms/step - loss: 0.7064 - accuracy: 0.6918 - val_loss: 0.7347 - val_accuracy: 0.5956\n",
            "Epoch 109/150\n",
            "30/30 [==============================] - 4s 144ms/step - loss: 0.7018 - accuracy: 0.7092 - val_loss: 0.6547 - val_accuracy: 0.6765\n",
            "Epoch 110/150\n",
            "30/30 [==============================] - 4s 145ms/step - loss: 0.7077 - accuracy: 0.7054 - val_loss: 0.6730 - val_accuracy: 0.6654\n",
            "Epoch 111/150\n",
            "30/30 [==============================] - 4s 146ms/step - loss: 0.6850 - accuracy: 0.7129 - val_loss: 0.6376 - val_accuracy: 0.6875\n",
            "Epoch 112/150\n",
            "30/30 [==============================] - 4s 145ms/step - loss: 0.6893 - accuracy: 0.7104 - val_loss: 0.6691 - val_accuracy: 0.6654\n",
            "Epoch 113/150\n",
            "30/30 [==============================] - 4s 146ms/step - loss: 0.6825 - accuracy: 0.7092 - val_loss: 0.6853 - val_accuracy: 0.6581\n",
            "Epoch 114/150\n",
            "30/30 [==============================] - 4s 147ms/step - loss: 0.7223 - accuracy: 0.7030 - val_loss: 0.7611 - val_accuracy: 0.5441\n",
            "Epoch 115/150\n",
            "30/30 [==============================] - 4s 144ms/step - loss: 0.6826 - accuracy: 0.7067 - val_loss: 0.6851 - val_accuracy: 0.6397\n",
            "Epoch 116/150\n",
            "30/30 [==============================] - 4s 145ms/step - loss: 0.6722 - accuracy: 0.7116 - val_loss: 0.6875 - val_accuracy: 0.6507\n",
            "Epoch 117/150\n",
            "30/30 [==============================] - 4s 145ms/step - loss: 0.6919 - accuracy: 0.7067 - val_loss: 0.7555 - val_accuracy: 0.5882\n",
            "Epoch 118/150\n",
            "30/30 [==============================] - 4s 146ms/step - loss: 0.6771 - accuracy: 0.7135 - val_loss: 0.6528 - val_accuracy: 0.6691\n",
            "Epoch 119/150\n",
            "30/30 [==============================] - 4s 144ms/step - loss: 0.6812 - accuracy: 0.7240 - val_loss: 0.8448 - val_accuracy: 0.4926\n",
            "Epoch 120/150\n",
            "30/30 [==============================] - 4s 145ms/step - loss: 0.6820 - accuracy: 0.7042 - val_loss: 0.7070 - val_accuracy: 0.6176\n",
            "Epoch 121/150\n",
            "30/30 [==============================] - 4s 146ms/step - loss: 0.6684 - accuracy: 0.7079 - val_loss: 0.6726 - val_accuracy: 0.6765\n",
            "Epoch 122/150\n",
            "30/30 [==============================] - 4s 145ms/step - loss: 0.6775 - accuracy: 0.7209 - val_loss: 0.6348 - val_accuracy: 0.7206\n",
            "Epoch 123/150\n",
            "30/30 [==============================] - 4s 145ms/step - loss: 0.6877 - accuracy: 0.7166 - val_loss: 0.6658 - val_accuracy: 0.6765\n",
            "Epoch 124/150\n",
            "30/30 [==============================] - 4s 144ms/step - loss: 0.6801 - accuracy: 0.7079 - val_loss: 0.6665 - val_accuracy: 0.6360\n",
            "Epoch 125/150\n",
            "30/30 [==============================] - 4s 146ms/step - loss: 0.6607 - accuracy: 0.7222 - val_loss: 0.6382 - val_accuracy: 0.6838\n",
            "Epoch 126/150\n",
            "30/30 [==============================] - 4s 145ms/step - loss: 0.6496 - accuracy: 0.7339 - val_loss: 0.6435 - val_accuracy: 0.6838\n",
            "Epoch 127/150\n",
            "30/30 [==============================] - 4s 145ms/step - loss: 0.6572 - accuracy: 0.7382 - val_loss: 0.6584 - val_accuracy: 0.6581\n",
            "Epoch 128/150\n",
            "30/30 [==============================] - 4s 145ms/step - loss: 0.6554 - accuracy: 0.7259 - val_loss: 0.7310 - val_accuracy: 0.5735\n",
            "Epoch 129/150\n",
            "30/30 [==============================] - 4s 146ms/step - loss: 0.6675 - accuracy: 0.7191 - val_loss: 0.6604 - val_accuracy: 0.6324\n",
            "Epoch 130/150\n",
            "30/30 [==============================] - 4s 145ms/step - loss: 0.6304 - accuracy: 0.7407 - val_loss: 0.6919 - val_accuracy: 0.6140\n",
            "Epoch 131/150\n",
            "30/30 [==============================] - 4s 146ms/step - loss: 0.6156 - accuracy: 0.7599 - val_loss: 0.6266 - val_accuracy: 0.6765\n",
            "Epoch 132/150\n",
            "30/30 [==============================] - 4s 145ms/step - loss: 0.6512 - accuracy: 0.7283 - val_loss: 0.6548 - val_accuracy: 0.6397\n",
            "Epoch 133/150\n",
            "30/30 [==============================] - 4s 148ms/step - loss: 0.6616 - accuracy: 0.7401 - val_loss: 0.6763 - val_accuracy: 0.6287\n",
            "Epoch 134/150\n",
            "30/30 [==============================] - 4s 146ms/step - loss: 0.6289 - accuracy: 0.7420 - val_loss: 0.6298 - val_accuracy: 0.6801\n",
            "Epoch 135/150\n",
            "30/30 [==============================] - 4s 146ms/step - loss: 0.6586 - accuracy: 0.7302 - val_loss: 0.7016 - val_accuracy: 0.6176\n",
            "Epoch 136/150\n",
            "30/30 [==============================] - 4s 146ms/step - loss: 0.6328 - accuracy: 0.7450 - val_loss: 0.6763 - val_accuracy: 0.6324\n",
            "Epoch 137/150\n",
            "30/30 [==============================] - 4s 147ms/step - loss: 0.6286 - accuracy: 0.7432 - val_loss: 0.6398 - val_accuracy: 0.6691\n",
            "Epoch 138/150\n",
            "30/30 [==============================] - 4s 145ms/step - loss: 0.6477 - accuracy: 0.7327 - val_loss: 0.6746 - val_accuracy: 0.6471\n",
            "Epoch 139/150\n",
            "30/30 [==============================] - 4s 146ms/step - loss: 0.6388 - accuracy: 0.7364 - val_loss: 0.6407 - val_accuracy: 0.6949\n",
            "Epoch 140/150\n",
            "30/30 [==============================] - 4s 144ms/step - loss: 0.6321 - accuracy: 0.7426 - val_loss: 0.6804 - val_accuracy: 0.6103\n",
            "Epoch 141/150\n",
            "30/30 [==============================] - 4s 146ms/step - loss: 0.6061 - accuracy: 0.7531 - val_loss: 0.6433 - val_accuracy: 0.6544\n",
            "Epoch 142/150\n",
            "30/30 [==============================] - 4s 146ms/step - loss: 0.6394 - accuracy: 0.7413 - val_loss: 0.6472 - val_accuracy: 0.6618\n",
            "Epoch 143/150\n",
            "30/30 [==============================] - 4s 145ms/step - loss: 0.5992 - accuracy: 0.7556 - val_loss: 0.6136 - val_accuracy: 0.6949\n",
            "Epoch 144/150\n",
            "30/30 [==============================] - 4s 145ms/step - loss: 0.6192 - accuracy: 0.7469 - val_loss: 0.5984 - val_accuracy: 0.6912\n",
            "Epoch 145/150\n",
            "30/30 [==============================] - 4s 146ms/step - loss: 0.6324 - accuracy: 0.7389 - val_loss: 0.6470 - val_accuracy: 0.6581\n",
            "Epoch 146/150\n",
            "30/30 [==============================] - 4s 145ms/step - loss: 0.6243 - accuracy: 0.7432 - val_loss: 0.6553 - val_accuracy: 0.6507\n",
            "Epoch 147/150\n",
            "30/30 [==============================] - 4s 145ms/step - loss: 0.6250 - accuracy: 0.7438 - val_loss: 0.6536 - val_accuracy: 0.6728\n",
            "Epoch 148/150\n",
            "30/30 [==============================] - 4s 145ms/step - loss: 0.6027 - accuracy: 0.7525 - val_loss: 0.6362 - val_accuracy: 0.6581\n",
            "Epoch 149/150\n",
            "30/30 [==============================] - 4s 146ms/step - loss: 0.6213 - accuracy: 0.7512 - val_loss: 0.6485 - val_accuracy: 0.6691\n",
            "Epoch 150/150\n",
            "30/30 [==============================] - 4s 143ms/step - loss: 0.6091 - accuracy: 0.7426 - val_loss: 0.6574 - val_accuracy: 0.6618\n"
          ]
        }
      ],
      "source": [
        "# Create an Instance of Early Stopping Callback\n",
        "early_stopping_callback = keras.callbacks.EarlyStopping(monitor = 'accuracy',\n",
        "                                                        patience = 20,\n",
        "                                                        mode = 'min',\n",
        "                                                        restore_best_weights = True)\n",
        "# Compile the model and specify loss function, optimizer and metrics values to the model\n",
        "model.compile(loss = 'categorical_crossentropy',\n",
        "              optimizer= keras.optimizers.Adam(0.001, decay=1e-4),\n",
        "              metrics=['accuracy'])\n",
        "# Start training the model.\n",
        "cnn_3d_model_training_history = model.fit(x = features_train,\n",
        "                                          y = labels_train,\n",
        "                                          epochs=150,\n",
        "                                          batch_size=54,\n",
        "                                          shuffle = True,\n",
        "                                          validation_data = (features_valid, labels_valid))\n",
        "                                          # callbacks = [early_stopping_callback])"
      ]
    },
    {
      "cell_type": "code",
      "execution_count": 13,
      "metadata": {
        "id": "3vimsgjjbXvL",
        "colab": {
          "base_uri": "https://localhost:8080/"
        },
        "outputId": "ec376392-e25a-4c0c-ab33-291ab69b92f6"
      },
      "outputs": [
        {
          "output_type": "stream",
          "name": "stdout",
          "text": [
            "9/9 [==============================] - 1s 44ms/step - loss: 0.7978 - accuracy: 0.7122\n",
            "\n",
            "\n",
            "Train accuracy: 79.394 % || Test accuracy: 71.218 % || Val accuracy: 66.176 %\n",
            "Train loss: 0.518 || Test loss: 0.798 || Val loss: 0.657\n"
          ]
        }
      ],
      "source": [
        "model_evaluation_history = model.evaluate(features_test, labels_test)\n",
        "print('\\n')\n",
        "train_loss, train_acc = model.evaluate(features_train, labels_train, verbose=0)\n",
        "test_loss, test_acc = model.evaluate(features_test, labels_test, verbose=0)\n",
        "val_loss, val_acc = model.evaluate(features_valid, labels_valid, verbose=0)\n",
        "print(f'Train accuracy: {train_acc*100:.3f} % || Test accuracy: {test_acc*100:.3f} % || Val accuracy: {val_acc*100:.3f} %')\n",
        "print(f'Train loss: {train_loss:.3f} || Test loss: {test_loss:.3f} || Val loss: {val_loss:.3f}')"
      ]
    },
    {
      "cell_type": "code",
      "execution_count": 14,
      "metadata": {
        "id": "ivmaK9BlbnRQ"
      },
      "outputs": [],
      "source": [
        "# Get the loss and accuracy from model_evaluation_history.\n",
        "model_evaluation_loss, model_evaluation_accuracy = model_evaluation_history\n",
        " \n",
        "# Define the string date format.\n",
        "# Get the current Date and Time in a DateTime Object.\n",
        "# Convert the DateTime object to string according to the style mentioned in date_time_format string.\n",
        "date_time_format = '%Y_%m_%d__%H_%M_%S'\n",
        "current_date_time_dt = dt.datetime.now()\n",
        "current_date_time_string = dt.datetime.strftime(current_date_time_dt, date_time_format)\n",
        " \n",
        "# Define a useful name for our model to make it easy for us while navigating through multiple saved models.\n",
        "model_file_name = f'3D_CNN_model___Date_Time_{current_date_time_string}___Loss_{model_evaluation_loss}___Accuracy_{model_evaluation_accuracy}.h5'\n",
        "# Change dir\n",
        "gdrive_path = '/content/gdrive' + '/My Drive/247/Saved_models/'\n",
        "os.chdir(gdrive_path)\n",
        "# Create a floder for the model files\n",
        "!mkdir -p cnn_3d_{current_date_time_string}\n",
        "# Save your Model.\n",
        "model.save('convlstm_' + str(current_date_time_string) + '/' + model_file_name)\n",
        "# Save model weights\n",
        "model.save_weights('convlstm_' + str(current_date_time_string) + '/' + 'weights')"
      ]
    },
    {
      "cell_type": "code",
      "execution_count": 15,
      "metadata": {
        "id": "OwU8TwPrbsKB"
      },
      "outputs": [],
      "source": [
        "def plot_metric(model_training_history, metric_name_1, metric_name_2, plot_name):\n",
        "    '''\n",
        "    This function will plot the metrics passed to it in a graph.\n",
        "    Args:\n",
        "        model_training_history: A history object containing a record of training and validation \n",
        "                                loss values and metrics values at successive epochs\n",
        "        metric_name_1:          The name of the first metric that needs to be plotted in the graph.\n",
        "        metric_name_2:          The name of the second metric that needs to be plotted in the graph.\n",
        "        plot_name:              The title of the graph.\n",
        "    '''\n",
        "    \n",
        "    # Get metric values using metric names as identifiers.\n",
        "    metric_value_1 = model_training_history.history[metric_name_1]\n",
        "    metric_value_2 = model_training_history.history[metric_name_2]\n",
        "    \n",
        "    # Construct a range object which will be used as x-axis (horizontal plane) of the graph.\n",
        "    epochs = range(len(metric_value_1))\n",
        "\n",
        "    # Plot the Graph.\n",
        "    plt.plot(epochs, metric_value_1, 'blue', label = metric_name_1)\n",
        "    plt.plot(epochs, metric_value_2, 'red', label = metric_name_2)\n",
        "\n",
        "    # Add title to the plot.\n",
        "    plt.title(str(plot_name))\n",
        "\n",
        "    # Add legend to the plot.\n",
        "    plt.legend()"
      ]
    },
    {
      "cell_type": "code",
      "execution_count": 16,
      "metadata": {
        "id": "cvKY05ncbwof",
        "colab": {
          "base_uri": "https://localhost:8080/",
          "height": 281
        },
        "outputId": "13008542-79a1-4c29-c1ea-1b1a21e2ab62"
      },
      "outputs": [
        {
          "output_type": "display_data",
          "data": {
            "text/plain": [
              "<Figure size 432x288 with 1 Axes>"
            ],
            "image/png": "[encoded data removed]"
          },
          "metadata": {
            "needs_background": "light"
          }
        }
      ],
      "source": [
        "plot_metric(cnn_3d_model_training_history, 'loss', 'val_loss', 'Total Loss vs Total Validation Loss')"
      ]
    },
    {
      "cell_type": "code",
      "execution_count": 17,
      "metadata": {
        "id": "o1iaaDHBb5i0",
        "colab": {
          "base_uri": "https://localhost:8080/",
          "height": 281
        },
        "outputId": "c973b4d4-4899-4bde-beff-0fd63573fe24"
      },
      "outputs": [
        {
          "output_type": "display_data",
          "data": {
            "text/plain": [
              "<Figure size 432x288 with 1 Axes>"
            ],
            "image/png": "[encoded data removed]"
          },
          "metadata": {
            "needs_background": "light"
          }
        }
      ],
      "source": [
        "plot_metric(cnn_3d_model_training_history, 'accuracy', 'val_accuracy', 'Total Accuracy vs Total Validation Accuracy') "
      ]
    }
  ],
  "metadata": {
    "accelerator": "GPU",
    "colab": {
      "background_execution": "on",
      "collapsed_sections": [],
      "machine_shape": "hm",
      "name": "3D_CNN.ipynb",
      "provenance": [],
      "authorship_tag": "ABX9TyO/EvlGs+ljSOAXVH1v4TmH",
      "include_colab_link": true
    },
    "kernelspec": {
      "display_name": "Python 3",
      "name": "python3"
    },
    "language_info": {
      "name": "python"
    }
  },
  "nbformat": 4,
  "nbformat_minor": 0
}