{
  "cells": [
    {
      "cell_type": "markdown",
      "metadata": {
        "id": "view-in-github",
        "colab_type": "text"
      },
      "source": [
        "<a href=\"https://colab.research.google.com/github/alexsalman/CSE247/blob/main/3D_CNN.ipynb\" target=\"_parent\"><img src=\"https://colab.research.google.com/assets/colab-badge.svg\" alt=\"Open In Colab\"/></a>"
      ]
    },
    {
      "cell_type": "markdown",
      "metadata": {
        "id": "Kk7I8NauauE3"
      },
      "source": [
        "####**3D Convolutional Neural Network**\n",
        "######*I am using 3D Convolutional Neural Network to extract the temporal and spatial information which are merged slowly throughout the whole network.*"
      ]
    },
    {
      "cell_type": "code",
      "execution_count": 1,
      "metadata": {
        "colab": {
          "base_uri": "https://localhost:8080/"
        },
        "id": "M8ibtd5HKtZk",
        "outputId": "6d0466ce-2297-4e31-88b1-6f5038b59f94"
      },
      "outputs": [
        {
          "output_type": "stream",
          "name": "stdout",
          "text": [
            "2.8.0\n"
          ]
        }
      ],
      "source": [
        "# required libraries\n",
        "import os\n",
        "import cv2\n",
        "import math\n",
        "import random\n",
        "import numpy as np\n",
        "import datetime as dt\n",
        "from collections import deque\n",
        "import matplotlib.pyplot as plt\n",
        "from google.colab import drive\n",
        "from sklearn.model_selection import train_test_split\n",
        "import tensorflow as tf\n",
        "from tensorflow import keras\n",
        "from keras.models import Sequential\n",
        "from keras.layers import Dense, Flatten, Conv3D, MaxPooling3D, Dropout, BatchNormalization, GlobalAveragePooling3D\n",
        "from PIL import Image\n",
        "%matplotlib inline\n",
        "print(tf.version.VERSION)\n",
        "# https://bleedai.com/human-activity-recognition-using-tensorflow-cnn-lstm/"
      ]
    },
    {
      "cell_type": "code",
      "execution_count": 2,
      "metadata": {
        "id": "iffdFOf1CEAN"
      },
      "outputs": [],
      "source": [
        "# set Numpy, Python, and Tensorflow seeds to get consistent results on every execution\n",
        "seed_constant = 27\n",
        "np.random.seed(seed_constant)\n",
        "random.seed(seed_constant)\n",
        "tf.random.set_seed(seed_constant)"
      ]
    },
    {
      "cell_type": "code",
      "execution_count": 3,
      "metadata": {
        "colab": {
          "base_uri": "https://localhost:8080/",
          "height": 53
        },
        "id": "mcLh22LiOHyn",
        "outputId": "5b99e068-c6e7-441a-c0f6-04f45fdd3de3"
      },
      "outputs": [
        {
          "output_type": "stream",
          "name": "stdout",
          "text": [
            "Mounted at /content/gdrive/\n"
          ]
        },
        {
          "output_type": "execute_result",
          "data": {
            "text/plain": [
              "'/content/gdrive/My Drive/247'"
            ],
            "application/vnd.google.colaboratory.intrinsic+json": {
              "type": "string"
            }
          },
          "metadata": {},
          "execution_count": 3
        }
      ],
      "source": [
        "# mount dataset from google drive\n",
        "drive.mount('/content/gdrive/', force_remount=True)\n",
        "gdrive_path = '/content/gdrive' + '/My Drive/247/'\n",
        "os.chdir(gdrive_path)\n",
        "os.getcwd()"
      ]
    },
    {
      "cell_type": "code",
      "execution_count": 4,
      "metadata": {
        "id": "oeDK8SzumZ1Q"
      },
      "outputs": [],
      "source": [
        "# frame dimention\n",
        "IMAGE_HEIGHT, IMAGE_WIDTH = 128, 128\n",
        "# frame number for each video (depth)\n",
        "SEQUENCE_LENGTH = 16\n",
        "# video dir path\n",
        "DATASET_DIR = gdrive_path + 'Cropped_videos'\n",
        "# labels of classes\n",
        "CLASSES_LIST = ['hemostasis', 'inflammatory', 'proliferative', 'maturation']"
      ]
    },
    {
      "cell_type": "code",
      "execution_count": 5,
      "metadata": {
        "id": "HUTeIqzpZc9J"
      },
      "outputs": [],
      "source": [
        "# image cropping\n",
        "def crop_center_square(frame):\n",
        "    y, x = frame.shape[0:2]\n",
        "    min_dim = min(y, x)\n",
        "    start_x = (x // 2) - (min_dim // 2)\n",
        "    start_y = (y // 2) - (min_dim // 2)\n",
        "    return frame[start_y:start_y+min_dim,start_x:start_x+min_dim]"
      ]
    },
    {
      "cell_type": "code",
      "execution_count": 6,
      "metadata": {
        "id": "QRDbHG0TZkYJ"
      },
      "outputs": [],
      "source": [
        "# https://medium.com/analytics-vidhya/video-preprocessor-and-augmentation-for-deep-learning-tasks-12dd3fcce868\n",
        "def load_video(path, resize=(128, 128)):\n",
        "    video_reader = cv2.VideoCapture(path)\n",
        "    frames = []\n",
        "    try:\n",
        "        while True:\n",
        "            ret, frame = video_reader.read()\n",
        "            if not ret:\n",
        "                  break\n",
        "            # frame = crop_center_square(frame)\n",
        "            frame = cv2.resize(frame, resize)\n",
        "            frame = frame[:, :, [2, 1, 0]]\n",
        "            black_frame = frame\n",
        "            frames.append(frame)\n",
        "    finally:\n",
        "        video_reader.release()\n",
        "    return np.array(frames) / 255.0"
      ]
    },
    {
      "cell_type": "code",
      "execution_count": 7,
      "metadata": {
        "id": "ljUWHW6Jqzu-"
      },
      "outputs": [],
      "source": [
        "def create_dataset(state):\n",
        "    # Declared Empty Lists to store the features, labels and video file path values.\n",
        "    features = []\n",
        "    labels = []\n",
        "    video_files_paths = []\n",
        "    # Iterating through all the classes mentioned in the classes list\n",
        "    for class_index, class_name in enumerate(CLASSES_LIST):\n",
        "        # Display the name of the class whose data is being extracted.\n",
        "        print(f'Extracting Data of Class: {class_name} {state}')\n",
        "        # Get the list of video files present in the specific class name directory.\n",
        "        files_list = os.listdir(os.path.join(DATASET_DIR, class_name))\n",
        "        # Iterate through all the files present in the files list.\n",
        "        for file_name in files_list:\n",
        "            # Get the complete video path.\n",
        "            video_file_path = os.path.join(DATASET_DIR, class_name, file_name)\n",
        "            # create testing data\n",
        "            if state == 'test':\n",
        "                # get the mouse number\n",
        "                mouse_number = int(video_file_path.split(' ')[2].split('_')[1].split('-')[1])\n",
        "                # get the mouse side (L or R)\n",
        "                mouse_side = video_file_path.split(' ')[2].split('_')[1].split('-')[2]\n",
        "                if mouse_number == 4 and mouse_side == 'L':\n",
        "                    frames = load_video(video_file_path)\n",
        "                    features.append(frames)\n",
        "                    labels.append(class_index)\n",
        "                    video_files_paths.append(video_file_path)\n",
        "            # create validation data\n",
        "            elif state == 'valid':\n",
        "                # get the mouse number\n",
        "                mouse_number = int(video_file_path.split(' ')[2].split('_')[1].split('-')[1])\n",
        "                # get the mouse side (L or R)\n",
        "                mouse_side = video_file_path.split(' ')[2].split('_')[1].split('-')[2]\n",
        "                if mouse_number == 4 and mouse_side == 'R':\n",
        "                    frames = load_video(video_file_path)\n",
        "                    features.append(frames)\n",
        "                    labels.append(class_index)\n",
        "                    video_files_paths.append(video_file_path)\n",
        "            # create training data\n",
        "            else:\n",
        "                # get the mouse number\n",
        "                mouse_number = int(video_file_path.split(' ')[2].split('_')[1].split('-')[1])\n",
        "                if mouse_number != 4:\n",
        "                    frames = load_video(video_file_path)\n",
        "                    features.append(frames)\n",
        "                    labels.append(class_index)\n",
        "                    video_files_paths.append(video_file_path)\n",
        "    # Converting the list to numpy arrays\n",
        "    features = np.asarray(features)\n",
        "    # print(features)\n",
        "    labels = np.array(labels)\n",
        "    # Return the frames, class index, and video file path.\n",
        "    return features, labels, video_files_paths"
      ]
    },
    {
      "cell_type": "code",
      "execution_count": 8,
      "metadata": {
        "colab": {
          "base_uri": "https://localhost:8080/"
        },
        "id": "a8rpanz9rASe",
        "outputId": "4df30af7-4c1d-492f-9996-3832e83c28b7"
      },
      "outputs": [
        {
          "output_type": "stream",
          "name": "stdout",
          "text": [
            "Extracting Data of Class: hemostasis train\n",
            "Extracting Data of Class: inflammatory train\n",
            "Extracting Data of Class: proliferative train\n",
            "Extracting Data of Class: maturation train\n",
            "Extracting Data of Class: hemostasis test\n",
            "Extracting Data of Class: inflammatory test\n",
            "Extracting Data of Class: proliferative test\n",
            "Extracting Data of Class: maturation test\n",
            "Extracting Data of Class: hemostasis valid\n",
            "Extracting Data of Class: inflammatory valid\n",
            "Extracting Data of Class: proliferative valid\n",
            "Extracting Data of Class: maturation valid\n"
          ]
        }
      ],
      "source": [
        "# 6 mice for training, 2 mice for test and validation (one wound on each mice for test one for validation)\n",
        "features_train, labels_train, video_files_paths_train = create_dataset('train')\n",
        "features_test, labels_test, video_files_paths_test = create_dataset('test')\n",
        "features_valid, labels_valid, video_files_paths_valid = create_dataset('valid')"
      ]
    },
    {
      "cell_type": "code",
      "execution_count": 9,
      "metadata": {
        "id": "dtJkK4qTAulC"
      },
      "outputs": [],
      "source": [
        "# one_hot_encoded_labels\n",
        "labels_train = keras.utils.to_categorical(labels_train)\n",
        "labels_test = keras.utils.to_categorical(labels_test)\n",
        "labels_valid = keras.utils.to_categorical(labels_valid)"
      ]
    },
    {
      "cell_type": "code",
      "execution_count": 10,
      "metadata": {
        "id": "N-9ykP4ig7IW"
      },
      "outputs": [],
      "source": [
        "def create_3D_CNN_model():\n",
        "    sample_shape = (16, 128, 128, 3)\n",
        "    model = Sequential()\n",
        "\n",
        "    model.add(Conv3D(32, 3, activation='relu', kernel_initializer='he_uniform', input_shape=sample_shape))\n",
        "    model.add(BatchNormalization())\n",
        "    model.add(MaxPooling3D(2))\n",
        "    model.add(Dropout(0.3))\n",
        "\n",
        "    model.add(Conv3D(32, 3, activation='relu', kernel_initializer='he_uniform'))\n",
        "    model.add(BatchNormalization())\n",
        "    model.add(MaxPooling3D(2))\n",
        "    model.add(Dropout(0.3))\n",
        "\n",
        "    model.add(GlobalAveragePooling3D())\n",
        "\n",
        "    model.add(Dense(32, activation='relu', kernel_initializer='he_uniform'))\n",
        "    model.add(Dropout(0.3))\n",
        "    model.add(Dense(16, activation='relu', kernel_initializer='he_uniform'))\n",
        "    # model.add(Dropout(0.3))\n",
        "    # model.add(Dense(8, activation='relu', kernel_initializer='he_uniform'))\n",
        "    # model.add(Dropout(0.3))\n",
        "    # model.add(Dense(8, activation='relu', kernel_initializer='he_uniform'))\n",
        "    # model.add(Dropout(0.3))\n",
        "    model.add(Dense(len(CLASSES_LIST), activation='softmax'))\n",
        "\n",
        "    # Display the models summary.\n",
        "    model.summary(line_length = 125)\n",
        "    # Return the constructed 3D_CNN model.\n",
        "    return model"
      ]
    },
    {
      "cell_type": "code",
      "execution_count": 11,
      "metadata": {
        "colab": {
          "base_uri": "https://localhost:8080/"
        },
        "id": "Z4_GxXZBcHlB",
        "outputId": "38183e3b-6f5a-4c00-b8d9-d8e9c391cebf"
      },
      "outputs": [
        {
          "output_type": "stream",
          "name": "stdout",
          "text": [
            "Model: \"sequential\"\n",
            "_____________________________________________________________________________________________________________________________\n",
            " Layer (type)                                           Output Shape                                      Param #            \n",
            "=============================================================================================================================\n",
            " conv3d (Conv3D)                                        (None, 14, 126, 126, 32)                          2624               \n",
            "                                                                                                                             \n",
            " batch_normalization (BatchNormalization)               (None, 14, 126, 126, 32)                          128                \n",
            "                                                                                                                             \n",
            " max_pooling3d (MaxPooling3D)                           (None, 7, 63, 63, 32)                             0                  \n",
            "                                                                                                                             \n",
            " dropout (Dropout)                                      (None, 7, 63, 63, 32)                             0                  \n",
            "                                                                                                                             \n",
            " conv3d_1 (Conv3D)                                      (None, 5, 61, 61, 32)                             27680              \n",
            "                                                                                                                             \n",
            " batch_normalization_1 (BatchNormalization)             (None, 5, 61, 61, 32)                             128                \n",
            "                                                                                                                             \n",
            " max_pooling3d_1 (MaxPooling3D)                         (None, 2, 30, 30, 32)                             0                  \n",
            "                                                                                                                             \n",
            " dropout_1 (Dropout)                                    (None, 2, 30, 30, 32)                             0                  \n",
            "                                                                                                                             \n",
            " global_average_pooling3d (GlobalAveragePooling3D)      (None, 32)                                        0                  \n",
            "                                                                                                                             \n",
            " dense (Dense)                                          (None, 32)                                        1056               \n",
            "                                                                                                                             \n",
            " dropout_2 (Dropout)                                    (None, 32)                                        0                  \n",
            "                                                                                                                             \n",
            " dense_1 (Dense)                                        (None, 16)                                        528                \n",
            "                                                                                                                             \n",
            " dense_2 (Dense)                                        (None, 4)                                         68                 \n",
            "                                                                                                                             \n",
            "=============================================================================================================================\n",
            "Total params: 32,212\n",
            "Trainable params: 32,084\n",
            "Non-trainable params: 128\n",
            "_____________________________________________________________________________________________________________________________\n",
            "Model Created Successfully!\n"
          ]
        }
      ],
      "source": [
        "# Construct the required convlstm model.\n",
        "model = create_3D_CNN_model()\n",
        " \n",
        "# Display the success message. \n",
        "print(\"Model Created Successfully!\")"
      ]
    },
    {
      "cell_type": "code",
      "execution_count": 12,
      "metadata": {
        "colab": {
          "base_uri": "https://localhost:8080/"
        },
        "id": "MwYEkaYLoyb_",
        "outputId": "21736ed7-88c1-44e4-ac62-002118dd11c6"
      },
      "outputs": [
        {
          "output_type": "stream",
          "name": "stdout",
          "text": [
            "Epoch 1/100\n",
            "51/51 [==============================] - 14s 227ms/step - loss: 2.0867 - accuracy: 0.3323 - val_loss: 1.5633 - val_accuracy: 0.1287\n",
            "Epoch 2/100\n",
            "51/51 [==============================] - 10s 206ms/step - loss: 1.6460 - accuracy: 0.2382 - val_loss: 1.2053 - val_accuracy: 0.5368\n",
            "Epoch 3/100\n",
            "51/51 [==============================] - 10s 205ms/step - loss: 1.3107 - accuracy: 0.3775 - val_loss: 1.1768 - val_accuracy: 0.5110\n",
            "Epoch 4/100\n",
            "51/51 [==============================] - 10s 205ms/step - loss: 1.1950 - accuracy: 0.3998 - val_loss: 1.1374 - val_accuracy: 0.4926\n",
            "Epoch 5/100\n",
            "51/51 [==============================] - 10s 205ms/step - loss: 1.1438 - accuracy: 0.4059 - val_loss: 1.1075 - val_accuracy: 0.5809\n",
            "Epoch 6/100\n",
            "51/51 [==============================] - 10s 205ms/step - loss: 1.1276 - accuracy: 0.4276 - val_loss: 1.0469 - val_accuracy: 0.5368\n",
            "Epoch 7/100\n",
            "51/51 [==============================] - 11s 207ms/step - loss: 1.0739 - accuracy: 0.4666 - val_loss: 1.0254 - val_accuracy: 0.5515\n",
            "Epoch 8/100\n",
            "51/51 [==============================] - 10s 205ms/step - loss: 1.0661 - accuracy: 0.4567 - val_loss: 0.9984 - val_accuracy: 0.5772\n",
            "Epoch 9/100\n",
            "51/51 [==============================] - 11s 207ms/step - loss: 1.0303 - accuracy: 0.4740 - val_loss: 0.9808 - val_accuracy: 0.5919\n",
            "Epoch 10/100\n",
            "51/51 [==============================] - 11s 207ms/step - loss: 1.0181 - accuracy: 0.4901 - val_loss: 0.9113 - val_accuracy: 0.6213\n",
            "Epoch 11/100\n",
            "51/51 [==============================] - 11s 206ms/step - loss: 0.9656 - accuracy: 0.5124 - val_loss: 0.9643 - val_accuracy: 0.5956\n",
            "Epoch 12/100\n",
            "51/51 [==============================] - 10s 206ms/step - loss: 0.9640 - accuracy: 0.5359 - val_loss: 0.9118 - val_accuracy: 0.5993\n",
            "Epoch 13/100\n",
            "51/51 [==============================] - 10s 206ms/step - loss: 0.9730 - accuracy: 0.5328 - val_loss: 0.9189 - val_accuracy: 0.6029\n",
            "Epoch 14/100\n",
            "51/51 [==============================] - 10s 206ms/step - loss: 0.9247 - accuracy: 0.5569 - val_loss: 0.9149 - val_accuracy: 0.5919\n",
            "Epoch 15/100\n",
            "51/51 [==============================] - 10s 205ms/step - loss: 0.9143 - accuracy: 0.5606 - val_loss: 0.9312 - val_accuracy: 0.5772\n",
            "Epoch 16/100\n",
            "51/51 [==============================] - 10s 206ms/step - loss: 0.9048 - accuracy: 0.5483 - val_loss: 0.9941 - val_accuracy: 0.5662\n",
            "Epoch 17/100\n",
            "51/51 [==============================] - 10s 205ms/step - loss: 0.8777 - accuracy: 0.5811 - val_loss: 0.9352 - val_accuracy: 0.6213\n",
            "Epoch 18/100\n",
            "51/51 [==============================] - 10s 205ms/step - loss: 0.8481 - accuracy: 0.6064 - val_loss: 0.9401 - val_accuracy: 0.5515\n",
            "Epoch 19/100\n",
            "51/51 [==============================] - 10s 206ms/step - loss: 0.8325 - accuracy: 0.5823 - val_loss: 0.9921 - val_accuracy: 0.5331\n",
            "Epoch 20/100\n",
            "51/51 [==============================] - 11s 207ms/step - loss: 0.8275 - accuracy: 0.5996 - val_loss: 0.9223 - val_accuracy: 0.5625\n",
            "Epoch 21/100\n",
            "51/51 [==============================] - 10s 203ms/step - loss: 0.7811 - accuracy: 0.6244 - val_loss: 0.9752 - val_accuracy: 0.5404\n",
            "Epoch 22/100\n",
            "51/51 [==============================] - 10s 206ms/step - loss: 0.7676 - accuracy: 0.6114 - val_loss: 1.0132 - val_accuracy: 0.5662\n",
            "Epoch 23/100\n",
            "51/51 [==============================] - 10s 206ms/step - loss: 0.7659 - accuracy: 0.6330 - val_loss: 1.0490 - val_accuracy: 0.5735\n",
            "Epoch 24/100\n",
            "51/51 [==============================] - 10s 205ms/step - loss: 0.7346 - accuracy: 0.6479 - val_loss: 0.9802 - val_accuracy: 0.5368\n",
            "Epoch 25/100\n",
            "51/51 [==============================] - 10s 204ms/step - loss: 0.7215 - accuracy: 0.6739 - val_loss: 1.0513 - val_accuracy: 0.6103\n",
            "Epoch 26/100\n",
            "51/51 [==============================] - 10s 205ms/step - loss: 0.6742 - accuracy: 0.6949 - val_loss: 1.0973 - val_accuracy: 0.5441\n",
            "Epoch 27/100\n",
            "51/51 [==============================] - 10s 205ms/step - loss: 0.6881 - accuracy: 0.6578 - val_loss: 1.1014 - val_accuracy: 0.6103\n",
            "Epoch 28/100\n",
            "51/51 [==============================] - 10s 205ms/step - loss: 0.6827 - accuracy: 0.6887 - val_loss: 1.2685 - val_accuracy: 0.5331\n",
            "Epoch 29/100\n",
            "51/51 [==============================] - 10s 205ms/step - loss: 0.6265 - accuracy: 0.7197 - val_loss: 1.1140 - val_accuracy: 0.5699\n",
            "Epoch 30/100\n",
            "51/51 [==============================] - 10s 206ms/step - loss: 0.6559 - accuracy: 0.6937 - val_loss: 1.3856 - val_accuracy: 0.5000\n",
            "Epoch 31/100\n",
            "51/51 [==============================] - 11s 206ms/step - loss: 0.6264 - accuracy: 0.7222 - val_loss: 1.1158 - val_accuracy: 0.5772\n",
            "Epoch 32/100\n",
            "51/51 [==============================] - 10s 206ms/step - loss: 0.5921 - accuracy: 0.7500 - val_loss: 1.1638 - val_accuracy: 0.5662\n",
            "Epoch 33/100\n",
            "51/51 [==============================] - 10s 205ms/step - loss: 0.5491 - accuracy: 0.7543 - val_loss: 1.2409 - val_accuracy: 0.5221\n",
            "Epoch 34/100\n",
            "51/51 [==============================] - 10s 206ms/step - loss: 0.5104 - accuracy: 0.7834 - val_loss: 1.1787 - val_accuracy: 0.5919\n",
            "Epoch 35/100\n",
            "51/51 [==============================] - 10s 206ms/step - loss: 0.4957 - accuracy: 0.7995 - val_loss: 1.3516 - val_accuracy: 0.5110\n",
            "Epoch 36/100\n",
            "51/51 [==============================] - 10s 205ms/step - loss: 0.4899 - accuracy: 0.7822 - val_loss: 1.2102 - val_accuracy: 0.5662\n",
            "Epoch 37/100\n",
            "51/51 [==============================] - 10s 205ms/step - loss: 0.4517 - accuracy: 0.8045 - val_loss: 1.2214 - val_accuracy: 0.5037\n",
            "Epoch 38/100\n",
            "51/51 [==============================] - 10s 206ms/step - loss: 0.4422 - accuracy: 0.8106 - val_loss: 1.3716 - val_accuracy: 0.5037\n",
            "Epoch 39/100\n",
            "51/51 [==============================] - 10s 206ms/step - loss: 0.4366 - accuracy: 0.8156 - val_loss: 1.2561 - val_accuracy: 0.5110\n",
            "Epoch 40/100\n",
            "51/51 [==============================] - 10s 205ms/step - loss: 0.4096 - accuracy: 0.8311 - val_loss: 1.3087 - val_accuracy: 0.5147\n",
            "Epoch 41/100\n",
            "51/51 [==============================] - 10s 206ms/step - loss: 0.3957 - accuracy: 0.8391 - val_loss: 1.2600 - val_accuracy: 0.5882\n",
            "Epoch 42/100\n",
            "51/51 [==============================] - 10s 206ms/step - loss: 0.4007 - accuracy: 0.8212 - val_loss: 1.2017 - val_accuracy: 0.6434\n",
            "Epoch 43/100\n",
            "51/51 [==============================] - 10s 205ms/step - loss: 0.4090 - accuracy: 0.8199 - val_loss: 1.2220 - val_accuracy: 0.5993\n",
            "Epoch 44/100\n",
            "51/51 [==============================] - 10s 206ms/step - loss: 0.3568 - accuracy: 0.8558 - val_loss: 1.4079 - val_accuracy: 0.5368\n",
            "Epoch 45/100\n",
            "51/51 [==============================] - 10s 206ms/step - loss: 0.3221 - accuracy: 0.8800 - val_loss: 1.5723 - val_accuracy: 0.4853\n",
            "Epoch 46/100\n",
            "51/51 [==============================] - 10s 204ms/step - loss: 0.3162 - accuracy: 0.8843 - val_loss: 1.6208 - val_accuracy: 0.4816\n",
            "Epoch 47/100\n",
            "51/51 [==============================] - 11s 207ms/step - loss: 0.3136 - accuracy: 0.8756 - val_loss: 1.4845 - val_accuracy: 0.5184\n",
            "Epoch 48/100\n",
            "51/51 [==============================] - 10s 205ms/step - loss: 0.3097 - accuracy: 0.8812 - val_loss: 1.3475 - val_accuracy: 0.5625\n",
            "Epoch 49/100\n",
            "51/51 [==============================] - 10s 205ms/step - loss: 0.3015 - accuracy: 0.8812 - val_loss: 1.5308 - val_accuracy: 0.5257\n",
            "Epoch 50/100\n",
            "51/51 [==============================] - 10s 204ms/step - loss: 0.2826 - accuracy: 0.8905 - val_loss: 1.5009 - val_accuracy: 0.5184\n",
            "Epoch 51/100\n",
            "51/51 [==============================] - 10s 205ms/step - loss: 0.2574 - accuracy: 0.8967 - val_loss: 1.4606 - val_accuracy: 0.5846\n",
            "Epoch 52/100\n",
            "51/51 [==============================] - 10s 205ms/step - loss: 0.2595 - accuracy: 0.9066 - val_loss: 1.3785 - val_accuracy: 0.6029\n",
            "Epoch 53/100\n",
            "51/51 [==============================] - 11s 206ms/step - loss: 0.2696 - accuracy: 0.8899 - val_loss: 1.3691 - val_accuracy: 0.6029\n",
            "Epoch 54/100\n",
            "51/51 [==============================] - 10s 206ms/step - loss: 0.2386 - accuracy: 0.9047 - val_loss: 1.4577 - val_accuracy: 0.6140\n",
            "Epoch 55/100\n",
            "51/51 [==============================] - 10s 205ms/step - loss: 0.2281 - accuracy: 0.9134 - val_loss: 1.3201 - val_accuracy: 0.6250\n",
            "Epoch 56/100\n",
            "51/51 [==============================] - 10s 205ms/step - loss: 0.2053 - accuracy: 0.9196 - val_loss: 1.4126 - val_accuracy: 0.6103\n",
            "Epoch 57/100\n",
            "51/51 [==============================] - 10s 206ms/step - loss: 0.2239 - accuracy: 0.9158 - val_loss: 1.4191 - val_accuracy: 0.6250\n",
            "Epoch 58/100\n",
            "51/51 [==============================] - 10s 205ms/step - loss: 0.2142 - accuracy: 0.9165 - val_loss: 1.6147 - val_accuracy: 0.5809\n",
            "Epoch 59/100\n",
            "51/51 [==============================] - 10s 204ms/step - loss: 0.2284 - accuracy: 0.9158 - val_loss: 1.5882 - val_accuracy: 0.6140\n",
            "Epoch 60/100\n",
            "51/51 [==============================] - 11s 207ms/step - loss: 0.1924 - accuracy: 0.9226 - val_loss: 1.6018 - val_accuracy: 0.5993\n",
            "Epoch 61/100\n",
            "51/51 [==============================] - 10s 204ms/step - loss: 0.1919 - accuracy: 0.9208 - val_loss: 1.6288 - val_accuracy: 0.5846\n",
            "Epoch 62/100\n",
            "51/51 [==============================] - 10s 205ms/step - loss: 0.1878 - accuracy: 0.9295 - val_loss: 1.7625 - val_accuracy: 0.5882\n",
            "Epoch 63/100\n",
            "51/51 [==============================] - 10s 205ms/step - loss: 0.1875 - accuracy: 0.9202 - val_loss: 1.8015 - val_accuracy: 0.5772\n",
            "Epoch 64/100\n",
            "51/51 [==============================] - 10s 205ms/step - loss: 0.1703 - accuracy: 0.9356 - val_loss: 1.6233 - val_accuracy: 0.6324\n",
            "Epoch 65/100\n",
            "51/51 [==============================] - 10s 204ms/step - loss: 0.1851 - accuracy: 0.9233 - val_loss: 1.7595 - val_accuracy: 0.6029\n",
            "Epoch 66/100\n",
            "51/51 [==============================] - 10s 205ms/step - loss: 0.1553 - accuracy: 0.9437 - val_loss: 1.7273 - val_accuracy: 0.6176\n",
            "Epoch 67/100\n",
            "51/51 [==============================] - 10s 206ms/step - loss: 0.1490 - accuracy: 0.9511 - val_loss: 2.0550 - val_accuracy: 0.5110\n",
            "Epoch 68/100\n",
            "51/51 [==============================] - 10s 204ms/step - loss: 0.1577 - accuracy: 0.9406 - val_loss: 1.9139 - val_accuracy: 0.5919\n",
            "Epoch 69/100\n",
            "51/51 [==============================] - 10s 205ms/step - loss: 0.1746 - accuracy: 0.9369 - val_loss: 1.8642 - val_accuracy: 0.6434\n",
            "Epoch 70/100\n",
            "51/51 [==============================] - 10s 204ms/step - loss: 0.1552 - accuracy: 0.9437 - val_loss: 1.7669 - val_accuracy: 0.6434\n",
            "Epoch 71/100\n",
            "51/51 [==============================] - 10s 205ms/step - loss: 0.1414 - accuracy: 0.9443 - val_loss: 1.8713 - val_accuracy: 0.6250\n",
            "Epoch 72/100\n",
            "51/51 [==============================] - 10s 205ms/step - loss: 0.1431 - accuracy: 0.9480 - val_loss: 1.8735 - val_accuracy: 0.5147\n",
            "Epoch 73/100\n",
            "51/51 [==============================] - 10s 206ms/step - loss: 0.1202 - accuracy: 0.9579 - val_loss: 1.7595 - val_accuracy: 0.6507\n",
            "Epoch 74/100\n",
            "51/51 [==============================] - 10s 205ms/step - loss: 0.1135 - accuracy: 0.9592 - val_loss: 2.0052 - val_accuracy: 0.5404\n",
            "Epoch 75/100\n",
            "51/51 [==============================] - 10s 204ms/step - loss: 0.1319 - accuracy: 0.9530 - val_loss: 2.0316 - val_accuracy: 0.6287\n",
            "Epoch 76/100\n",
            "51/51 [==============================] - 10s 204ms/step - loss: 0.1216 - accuracy: 0.9573 - val_loss: 1.7523 - val_accuracy: 0.6654\n",
            "Epoch 77/100\n",
            "51/51 [==============================] - 10s 205ms/step - loss: 0.1084 - accuracy: 0.9573 - val_loss: 1.7944 - val_accuracy: 0.6471\n",
            "Epoch 78/100\n",
            "51/51 [==============================] - 10s 204ms/step - loss: 0.1058 - accuracy: 0.9623 - val_loss: 1.9757 - val_accuracy: 0.6250\n",
            "Epoch 79/100\n",
            "51/51 [==============================] - 10s 205ms/step - loss: 0.1014 - accuracy: 0.9653 - val_loss: 1.8931 - val_accuracy: 0.5588\n",
            "Epoch 80/100\n",
            "51/51 [==============================] - 10s 206ms/step - loss: 0.1298 - accuracy: 0.9505 - val_loss: 1.7854 - val_accuracy: 0.6360\n",
            "Epoch 81/100\n",
            "51/51 [==============================] - 10s 205ms/step - loss: 0.1315 - accuracy: 0.9530 - val_loss: 2.7480 - val_accuracy: 0.5110\n",
            "Epoch 82/100\n",
            "51/51 [==============================] - 10s 205ms/step - loss: 0.1770 - accuracy: 0.9307 - val_loss: 1.9333 - val_accuracy: 0.6324\n",
            "Epoch 83/100\n",
            "51/51 [==============================] - 10s 204ms/step - loss: 0.1547 - accuracy: 0.9356 - val_loss: 1.8275 - val_accuracy: 0.7022\n",
            "Epoch 84/100\n",
            "51/51 [==============================] - 10s 205ms/step - loss: 0.1228 - accuracy: 0.9561 - val_loss: 1.8347 - val_accuracy: 0.6434\n",
            "Epoch 85/100\n",
            "51/51 [==============================] - 10s 205ms/step - loss: 0.0949 - accuracy: 0.9666 - val_loss: 1.8634 - val_accuracy: 0.6471\n",
            "Epoch 86/100\n",
            "51/51 [==============================] - 10s 205ms/step - loss: 0.1022 - accuracy: 0.9629 - val_loss: 1.7771 - val_accuracy: 0.6507\n",
            "Epoch 87/100\n",
            "51/51 [==============================] - 10s 203ms/step - loss: 0.1111 - accuracy: 0.9585 - val_loss: 1.9521 - val_accuracy: 0.5772\n",
            "Epoch 88/100\n",
            "51/51 [==============================] - 10s 205ms/step - loss: 0.0910 - accuracy: 0.9691 - val_loss: 1.8655 - val_accuracy: 0.6581\n",
            "Epoch 89/100\n",
            "51/51 [==============================] - 10s 204ms/step - loss: 0.0678 - accuracy: 0.9765 - val_loss: 1.8568 - val_accuracy: 0.6324\n",
            "Epoch 90/100\n",
            "51/51 [==============================] - 10s 204ms/step - loss: 0.0712 - accuracy: 0.9796 - val_loss: 2.1112 - val_accuracy: 0.6507\n",
            "Epoch 91/100\n",
            "51/51 [==============================] - 10s 203ms/step - loss: 0.0752 - accuracy: 0.9765 - val_loss: 2.0761 - val_accuracy: 0.6213\n",
            "Epoch 92/100\n",
            "51/51 [==============================] - 10s 205ms/step - loss: 0.0752 - accuracy: 0.9752 - val_loss: 2.0973 - val_accuracy: 0.6838\n",
            "Epoch 93/100\n",
            "51/51 [==============================] - 10s 204ms/step - loss: 0.0694 - accuracy: 0.9796 - val_loss: 2.1126 - val_accuracy: 0.6471\n",
            "Epoch 94/100\n",
            "51/51 [==============================] - 10s 205ms/step - loss: 0.0681 - accuracy: 0.9759 - val_loss: 1.9960 - val_accuracy: 0.6912\n",
            "Epoch 95/100\n",
            "51/51 [==============================] - 10s 206ms/step - loss: 0.0505 - accuracy: 0.9858 - val_loss: 2.0562 - val_accuracy: 0.6544\n",
            "Epoch 96/100\n",
            "51/51 [==============================] - 10s 204ms/step - loss: 0.0455 - accuracy: 0.9895 - val_loss: 1.9924 - val_accuracy: 0.6324\n",
            "Epoch 97/100\n",
            "51/51 [==============================] - 10s 205ms/step - loss: 0.0468 - accuracy: 0.9876 - val_loss: 2.1106 - val_accuracy: 0.6654\n",
            "Epoch 98/100\n",
            "51/51 [==============================] - 10s 206ms/step - loss: 0.0473 - accuracy: 0.9845 - val_loss: 2.1892 - val_accuracy: 0.6434\n",
            "Epoch 99/100\n",
            "51/51 [==============================] - 10s 204ms/step - loss: 0.0514 - accuracy: 0.9864 - val_loss: 2.5083 - val_accuracy: 0.6029\n",
            "Epoch 100/100\n",
            "51/51 [==============================] - 10s 203ms/step - loss: 0.0520 - accuracy: 0.9833 - val_loss: 2.1682 - val_accuracy: 0.5772\n"
          ]
        }
      ],
      "source": [
        "# Create an Instance of Early Stopping Callback\n",
        "early_stopping_callback = keras.callbacks.EarlyStopping(monitor = 'val_loss',\n",
        "                                                        patience = 20,\n",
        "                                                        mode = 'min',\n",
        "                                                        restore_best_weights = True)\n",
        "# Compile the model and specify loss function, optimizer and metrics values to the model\n",
        "model.compile(loss = 'categorical_crossentropy',\n",
        "              optimizer= keras.optimizers.Adam(0.001, decay=1e-4),\n",
        "              metrics=['accuracy'])\n",
        "# Start training the model.\n",
        "cnn_3d_model_training_history = model.fit(x = features_train,\n",
        "                                          y = labels_train,\n",
        "                                          epochs=100,\n",
        "                                          batch_size=32,\n",
        "                                          shuffle = False,\n",
        "                                          validation_data = (features_valid, labels_valid))\n",
        "                                          # callbacks = [early_stopping_callback])"
      ]
    },
    {
      "cell_type": "code",
      "execution_count": 13,
      "metadata": {
        "colab": {
          "base_uri": "https://localhost:8080/"
        },
        "id": "3vimsgjjbXvL",
        "outputId": "f0289bbe-ecc7-4bd8-c207-cee594a91666"
      },
      "outputs": [
        {
          "output_type": "stream",
          "name": "stdout",
          "text": [
            "9/9 [==============================] - 1s 70ms/step - loss: 3.2271 - accuracy: 0.3566\n",
            "\n",
            "\n",
            "Train accuracy: 48.948 % || Test accuracy: 35.662 % || Val accuracy: 57.721 %\n",
            "Train loss: 2.849 || Test loss: 3.227 || Val loss: 2.168\n"
          ]
        }
      ],
      "source": [
        "model_evaluation_history = model.evaluate(features_test, labels_test)\n",
        "print('\\n')\n",
        "train_loss, train_acc = model.evaluate(features_train, labels_train, verbose=0)\n",
        "test_loss, test_acc = model.evaluate(features_test, labels_test, verbose=0)\n",
        "val_loss, val_acc = model.evaluate(features_valid, labels_valid, verbose=0)\n",
        "print(f'Train accuracy: {train_acc*100:.3f} % || Test accuracy: {test_acc*100:.3f} % || Val accuracy: {val_acc*100:.3f} %')\n",
        "print(f'Train loss: {train_loss:.3f} || Test loss: {test_loss:.3f} || Val loss: {val_loss:.3f}')"
      ]
    },
    {
      "cell_type": "code",
      "execution_count": 14,
      "metadata": {
        "id": "ivmaK9BlbnRQ"
      },
      "outputs": [],
      "source": [
        "# Get the loss and accuracy from model_evaluation_history.\n",
        "model_evaluation_loss, model_evaluation_accuracy = model_evaluation_history\n",
        " \n",
        "# Define the string date format.\n",
        "# Get the current Date and Time in a DateTime Object.\n",
        "# Convert the DateTime object to string according to the style mentioned in date_time_format string.\n",
        "date_time_format = '%Y_%m_%d__%H_%M_%S'\n",
        "current_date_time_dt = dt.datetime.now()\n",
        "current_date_time_string = dt.datetime.strftime(current_date_time_dt, date_time_format)\n",
        " \n",
        "# Define a useful name for our model to make it easy for us while navigating through multiple saved models.\n",
        "model_file_name = f'3D_CNN_model___Date_Time_{current_date_time_string}___Loss_{model_evaluation_loss}___Accuracy_{model_evaluation_accuracy}.h5'\n",
        " \n",
        "# Change dir\n",
        "gdrive_path = '/content/gdrive' + '/My Drive/247/Saved_models/'\n",
        "os.chdir(gdrive_path)\n",
        "# Create a floder for the model files\n",
        "!mkdir -p cnn_3d_{current_date_time_string}\n",
        "# Save your Model.\n",
        "model.save('3D_CNN' + str(current_date_time_string) + '/' + model_file_name)\n",
        "# Save model weights\n",
        "model.save_weights('3D_CNN' + str(current_date_time_string) + '/' + 'weights')"
      ]
    },
    {
      "cell_type": "code",
      "execution_count": 15,
      "metadata": {
        "id": "OwU8TwPrbsKB"
      },
      "outputs": [],
      "source": [
        "def plot_metric(model_training_history, metric_name_1, metric_name_2, plot_name):\n",
        "    '''\n",
        "    This function will plot the metrics passed to it in a graph.\n",
        "    Args:\n",
        "        model_training_history: A history object containing a record of training and validation \n",
        "                                loss values and metrics values at successive epochs\n",
        "        metric_name_1:          The name of the first metric that needs to be plotted in the graph.\n",
        "        metric_name_2:          The name of the second metric that needs to be plotted in the graph.\n",
        "        plot_name:              The title of the graph.\n",
        "    '''\n",
        "    \n",
        "    # Get metric values using metric names as identifiers.\n",
        "    metric_value_1 = model_training_history.history[metric_name_1]\n",
        "    metric_value_2 = model_training_history.history[metric_name_2]\n",
        "    \n",
        "    # Construct a range object which will be used as x-axis (horizontal plane) of the graph.\n",
        "    epochs = range(len(metric_value_1))\n",
        "\n",
        "    # Plot the Graph.\n",
        "    plt.plot(epochs, metric_value_1, 'blue', label = metric_name_1)\n",
        "    plt.plot(epochs, metric_value_2, 'red', label = metric_name_2)\n",
        "\n",
        "    # Add title to the plot.\n",
        "    plt.title(str(plot_name))\n",
        "\n",
        "    # Add legend to the plot.\n",
        "    plt.legend()"
      ]
    },
    {
      "cell_type": "code",
      "execution_count": 16,
      "metadata": {
        "colab": {
          "base_uri": "https://localhost:8080/",
          "height": 281
        },
        "id": "cvKY05ncbwof",
        "outputId": "703f5adb-1651-4599-bb28-d93a444381d8"
      },
      "outputs": [
        {
          "output_type": "display_data",
          "data": {
            "text/plain": [
              "<Figure size 432x288 with 1 Axes>"
            ],
            "image/png": "[encoded data removed]"
          },
          "metadata": {
            "needs_background": "light"
          }
        }
      ],
      "source": [
        "plot_metric(cnn_3d_model_training_history, 'loss', 'val_loss', 'Total Loss vs Total Validation Loss')"
      ]
    },
    {
      "cell_type": "code",
      "execution_count": 17,
      "metadata": {
        "colab": {
          "base_uri": "https://localhost:8080/",
          "height": 281
        },
        "id": "o1iaaDHBb5i0",
        "outputId": "9f191285-b5d9-407c-ffd7-84abc51e9083"
      },
      "outputs": [
        {
          "output_type": "display_data",
          "data": {
            "text/plain": [
              "<Figure size 432x288 with 1 Axes>"
            ],
            "image/png": "[encoded data removed]"
          },
          "metadata": {
            "needs_background": "light"
          }
        }
      ],
      "source": [
        "plot_metric(cnn_3d_model_training_history, 'accuracy', 'val_accuracy', 'Total Accuracy vs Total Validation Accuracy') "
      ]
    }
  ],
  "metadata": {
    "accelerator": "GPU",
    "colab": {
      "collapsed_sections": [],
      "machine_shape": "hm",
      "name": "3D_CNN.ipynb",
      "provenance": [],
      "authorship_tag": "ABX9TyN9ROz9EoPkpUa6wE8c6rC9",
      "include_colab_link": true
    },
    "kernelspec": {
      "display_name": "Python 3",
      "name": "python3"
    },
    "language_info": {
      "name": "python"
    }
  },
  "nbformat": 4,
  "nbformat_minor": 0
}