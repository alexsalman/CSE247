{
  "cells": [
    {
      "cell_type": "markdown",
      "metadata": {
        "id": "view-in-github",
        "colab_type": "text"
      },
      "source": [
        "<a href=\"https://colab.research.google.com/github/alexsalman/CSE247/blob/main/3D_CNN.ipynb\" target=\"_parent\"><img src=\"https://colab.research.google.com/assets/colab-badge.svg\" alt=\"Open In Colab\"/></a>"
      ]
    },
    {
      "cell_type": "markdown",
      "metadata": {
        "id": "Kk7I8NauauE3"
      },
      "source": [
        "####**3D Convolutional Neural Network**\n",
        "######*I am using 3D Convolutional Neural Network to extract the temporal and spatial information which are merged slowly throughout the whole network.*"
      ]
    },
    {
      "cell_type": "code",
      "execution_count": 1,
      "metadata": {
        "colab": {
          "base_uri": "https://localhost:8080/"
        },
        "id": "M8ibtd5HKtZk",
        "outputId": "70e8420b-4ffc-4241-98af-82d0e4aa712d"
      },
      "outputs": [
        {
          "output_type": "stream",
          "name": "stdout",
          "text": [
            "2.8.0\n"
          ]
        }
      ],
      "source": [
        "# required libraries\n",
        "import os\n",
        "import cv2\n",
        "import math\n",
        "import random\n",
        "import numpy as np\n",
        "import datetime as dt\n",
        "from collections import deque\n",
        "import matplotlib.pyplot as plt\n",
        "from google.colab import drive\n",
        "from sklearn.model_selection import train_test_split\n",
        "import tensorflow as tf\n",
        "from tensorflow import keras\n",
        "from keras.models import Sequential\n",
        "from keras.layers import Dense, Flatten, Conv3D, MaxPooling3D, Dropout, BatchNormalization, GlobalAveragePooling3D\n",
        "from keras import regularizers\n",
        "from PIL import Image\n",
        "%matplotlib inline\n",
        "print(tf.version.VERSION)\n",
        "# https://bleedai.com/human-activity-recognition-using-tensorflow-cnn-lstm/"
      ]
    },
    {
      "cell_type": "code",
      "execution_count": 2,
      "metadata": {
        "id": "iffdFOf1CEAN"
      },
      "outputs": [],
      "source": [
        "# set Numpy, Python, and Tensorflow seeds to get consistent results on every execution\n",
        "seed_constant = 27\n",
        "np.random.seed(seed_constant)\n",
        "random.seed(seed_constant)\n",
        "tf.random.set_seed(seed_constant)"
      ]
    },
    {
      "cell_type": "code",
      "execution_count": 3,
      "metadata": {
        "colab": {
          "base_uri": "https://localhost:8080/",
          "height": 53
        },
        "id": "mcLh22LiOHyn",
        "outputId": "8acfc78c-8a6a-410f-93cd-1303e55118c0"
      },
      "outputs": [
        {
          "output_type": "stream",
          "name": "stdout",
          "text": [
            "Mounted at /content/gdrive/\n"
          ]
        },
        {
          "output_type": "execute_result",
          "data": {
            "text/plain": [
              "'/content/gdrive/My Drive/247'"
            ],
            "application/vnd.google.colaboratory.intrinsic+json": {
              "type": "string"
            }
          },
          "metadata": {},
          "execution_count": 3
        }
      ],
      "source": [
        "# mount dataset from google drive\n",
        "drive.mount('/content/gdrive/', force_remount=True)\n",
        "gdrive_path = '/content/gdrive' + '/My Drive/247/'\n",
        "os.chdir(gdrive_path)\n",
        "os.getcwd()"
      ]
    },
    {
      "cell_type": "code",
      "execution_count": 4,
      "metadata": {
        "id": "oeDK8SzumZ1Q"
      },
      "outputs": [],
      "source": [
        "# frame dimention\n",
        "IMAGE_HEIGHT, IMAGE_WIDTH = 128, 128\n",
        "# frame number for each video (depth)\n",
        "SEQUENCE_LENGTH = 16\n",
        "# video dir path\n",
        "DATASET_DIR = gdrive_path + 'Cropped_videos'\n",
        "# labels of classes\n",
        "CLASSES_LIST = ['hemostasis', 'inflammatory', 'proliferative', 'maturation']"
      ]
    },
    {
      "cell_type": "code",
      "execution_count": 5,
      "metadata": {
        "id": "HUTeIqzpZc9J"
      },
      "outputs": [],
      "source": [
        "# image cropping\n",
        "def crop_center_square(frame):\n",
        "    y, x = frame.shape[0:2]\n",
        "    min_dim = min(y, x)\n",
        "    start_x = (x // 2) - (min_dim // 2)\n",
        "    start_y = (y // 2) - (min_dim // 2)\n",
        "    return frame[start_y:start_y+min_dim,start_x:start_x+min_dim]"
      ]
    },
    {
      "cell_type": "code",
      "execution_count": 6,
      "metadata": {
        "id": "QRDbHG0TZkYJ"
      },
      "outputs": [],
      "source": [
        "# https://medium.com/analytics-vidhya/video-preprocessor-and-augmentation-for-deep-learning-tasks-12dd3fcce868\n",
        "def load_video(path, resize=(128, 128)):\n",
        "    video_reader = cv2.VideoCapture(path)\n",
        "    frames = []\n",
        "    try:\n",
        "        while True:\n",
        "            ret, frame = video_reader.read()\n",
        "            if not ret:\n",
        "                  break\n",
        "            # frame = crop_center_square(frame)\n",
        "            frame = cv2.resize(frame, resize)\n",
        "            frame = frame[:, :, [2, 1, 0]]\n",
        "            black_frame = frame\n",
        "            frames.append(frame)\n",
        "    finally:\n",
        "        video_reader.release()\n",
        "    return np.array(frames) / 255.0"
      ]
    },
    {
      "cell_type": "code",
      "execution_count": 7,
      "metadata": {
        "id": "ljUWHW6Jqzu-"
      },
      "outputs": [],
      "source": [
        "def create_dataset(state):\n",
        "    # Declared Empty Lists to store the features, labels and video file path values.\n",
        "    features = []\n",
        "    labels = []\n",
        "    video_files_paths = []\n",
        "    # Iterating through all the classes mentioned in the classes list\n",
        "    for class_index, class_name in enumerate(CLASSES_LIST):\n",
        "        # Display the name of the class whose data is being extracted.\n",
        "        print(f'Extracting Data of Class: {class_name} {state}')\n",
        "        # Get the list of video files present in the specific class name directory.\n",
        "        files_list = os.listdir(os.path.join(DATASET_DIR, class_name))\n",
        "        # Iterate through all the files present in the files list.\n",
        "        for file_name in files_list:\n",
        "            # Get the complete video path.\n",
        "            video_file_path = os.path.join(DATASET_DIR, class_name, file_name)\n",
        "            # create testing data\n",
        "            if state == 'test':\n",
        "                # get the mouse number\n",
        "                mouse_number = int(video_file_path.split(' ')[2].split('_')[1].split('-')[1])\n",
        "                # get the mouse side (L or R)\n",
        "                mouse_side = video_file_path.split(' ')[2].split('_')[1].split('-')[2]\n",
        "                if mouse_number == 4 and mouse_side == 'L':\n",
        "                    frames = load_video(video_file_path)\n",
        "                    features.append(frames)\n",
        "                    labels.append(class_index)\n",
        "                    video_files_paths.append(video_file_path)\n",
        "            # create validation data\n",
        "            elif state == 'valid':\n",
        "                # get the mouse number\n",
        "                mouse_number = int(video_file_path.split(' ')[2].split('_')[1].split('-')[1])\n",
        "                # get the mouse side (L or R)\n",
        "                mouse_side = video_file_path.split(' ')[2].split('_')[1].split('-')[2]\n",
        "                if mouse_number == 4 and mouse_side == 'R':\n",
        "                    frames = load_video(video_file_path)\n",
        "                    features.append(frames)\n",
        "                    labels.append(class_index)\n",
        "                    video_files_paths.append(video_file_path)\n",
        "            # create training data\n",
        "            else:\n",
        "                # get the mouse number\n",
        "                mouse_number = int(video_file_path.split(' ')[2].split('_')[1].split('-')[1])\n",
        "                if mouse_number != 4:\n",
        "                    frames = load_video(video_file_path)\n",
        "                    features.append(frames)\n",
        "                    labels.append(class_index)\n",
        "                    video_files_paths.append(video_file_path)\n",
        "    # Converting the list to numpy arrays\n",
        "    features = np.asarray(features)\n",
        "    # print(features)\n",
        "    labels = np.array(labels)\n",
        "    # Return the frames, class index, and video file path.\n",
        "    return features, labels, video_files_paths"
      ]
    },
    {
      "cell_type": "code",
      "execution_count": 8,
      "metadata": {
        "colab": {
          "base_uri": "https://localhost:8080/"
        },
        "id": "a8rpanz9rASe",
        "outputId": "7848f8d6-1533-4fbb-e021-b2ff61a55512"
      },
      "outputs": [
        {
          "output_type": "stream",
          "name": "stdout",
          "text": [
            "Extracting Data of Class: hemostasis train\n",
            "Extracting Data of Class: inflammatory train\n",
            "Extracting Data of Class: proliferative train\n",
            "Extracting Data of Class: maturation train\n",
            "Extracting Data of Class: hemostasis test\n",
            "Extracting Data of Class: inflammatory test\n",
            "Extracting Data of Class: proliferative test\n",
            "Extracting Data of Class: maturation test\n",
            "Extracting Data of Class: hemostasis valid\n",
            "Extracting Data of Class: inflammatory valid\n",
            "Extracting Data of Class: proliferative valid\n",
            "Extracting Data of Class: maturation valid\n"
          ]
        }
      ],
      "source": [
        "# 6 mice for training, 2 mice for test and validation (one wound on each mice for test one for validation)\n",
        "features_train, labels_train, video_files_paths_train = create_dataset('train')\n",
        "features_test, labels_test, video_files_paths_test = create_dataset('test')\n",
        "features_valid, labels_valid, video_files_paths_valid = create_dataset('valid')"
      ]
    },
    {
      "cell_type": "code",
      "execution_count": 9,
      "metadata": {
        "id": "dtJkK4qTAulC"
      },
      "outputs": [],
      "source": [
        "# one_hot_encoded_labels\n",
        "labels_train = keras.utils.to_categorical(labels_train)\n",
        "labels_test = keras.utils.to_categorical(labels_test)\n",
        "labels_valid = keras.utils.to_categorical(labels_valid)"
      ]
    },
    {
      "cell_type": "code",
      "execution_count": 10,
      "metadata": {
        "id": "N-9ykP4ig7IW"
      },
      "outputs": [],
      "source": [
        "def create_3D_CNN_model():\n",
        "    sample_shape = (16, 128, 128, 3)\n",
        "    model = Sequential()\n",
        "\n",
        "    model.add(Conv3D(32, 3, activation='relu', kernel_initializer='he_uniform',\n",
        "                     kernel_regularizer=regularizers.L2(l2=1e-4),\n",
        "                     input_shape=sample_shape))\n",
        "    # model.add(BatchNormalization())\n",
        "    model.add(MaxPooling3D(2))\n",
        "    model.add(Dropout(0.55))\n",
        "\n",
        "    model.add(Conv3D(32, 3, activation='relu', kernel_initializer='he_uniform',\n",
        "                     kernel_regularizer=regularizers.L2(l2=1e-4)))\n",
        "    # model.add(BatchNormalization())\n",
        "    model.add(MaxPooling3D(2))\n",
        "    model.add(Dropout(0.55))\n",
        "\n",
        "    model.add(GlobalAveragePooling3D())\n",
        "\n",
        "    model.add(Dense(32, activation='relu', kernel_initializer='he_uniform',\n",
        "                    kernel_regularizer=regularizers.L2(l2=1e-4)))\n",
        "    model.add(Dropout(0.55))\n",
        "\n",
        "    model.add(Dense(16, activation='relu', kernel_initializer='he_uniform',\n",
        "                    kernel_regularizer=regularizers.L2(l2=1e-4)))\n",
        "    model.add(Dropout(0.65))\n",
        "    model.add(Dense(8, activation='relu', kernel_initializer='he_uniform'))\n",
        "    # model.add(Dense(4, activation='relu', kernel_initializer='he_uniform'))\n",
        "    # model.add(Dropout(0.3))\n",
        "    # model.add(Dense(8, activation='relu', kernel_initializer='he_uniform'))\n",
        "    # model.add(Dropout(0.3))\n",
        "    model.add(Dense(len(CLASSES_LIST), activation='softmax'))\n",
        "\n",
        "    # Display the models summary.\n",
        "    model.summary(line_length = 125)\n",
        "    # Return the constructed 3D_CNN model.\n",
        "    return model"
      ]
    },
    {
      "cell_type": "code",
      "execution_count": 11,
      "metadata": {
        "colab": {
          "base_uri": "https://localhost:8080/"
        },
        "id": "Z4_GxXZBcHlB",
        "outputId": "71322f7b-142a-44b9-c848-1c080de85937"
      },
      "outputs": [
        {
          "output_type": "stream",
          "name": "stdout",
          "text": [
            "Model: \"sequential\"\n",
            "_____________________________________________________________________________________________________________________________\n",
            " Layer (type)                                           Output Shape                                      Param #            \n",
            "=============================================================================================================================\n",
            " conv3d (Conv3D)                                        (None, 14, 126, 126, 32)                          2624               \n",
            "                                                                                                                             \n",
            " max_pooling3d (MaxPooling3D)                           (None, 7, 63, 63, 32)                             0                  \n",
            "                                                                                                                             \n",
            " dropout (Dropout)                                      (None, 7, 63, 63, 32)                             0                  \n",
            "                                                                                                                             \n",
            " conv3d_1 (Conv3D)                                      (None, 5, 61, 61, 32)                             27680              \n",
            "                                                                                                                             \n",
            " max_pooling3d_1 (MaxPooling3D)                         (None, 2, 30, 30, 32)                             0                  \n",
            "                                                                                                                             \n",
            " dropout_1 (Dropout)                                    (None, 2, 30, 30, 32)                             0                  \n",
            "                                                                                                                             \n",
            " global_average_pooling3d (GlobalAveragePooling3D)      (None, 32)                                        0                  \n",
            "                                                                                                                             \n",
            " dense (Dense)                                          (None, 32)                                        1056               \n",
            "                                                                                                                             \n",
            " dropout_2 (Dropout)                                    (None, 32)                                        0                  \n",
            "                                                                                                                             \n",
            " dense_1 (Dense)                                        (None, 16)                                        528                \n",
            "                                                                                                                             \n",
            " dropout_3 (Dropout)                                    (None, 16)                                        0                  \n",
            "                                                                                                                             \n",
            " dense_2 (Dense)                                        (None, 8)                                         136                \n",
            "                                                                                                                             \n",
            " dense_3 (Dense)                                        (None, 4)                                         36                 \n",
            "                                                                                                                             \n",
            "=============================================================================================================================\n",
            "Total params: 32,060\n",
            "Trainable params: 32,060\n",
            "Non-trainable params: 0\n",
            "_____________________________________________________________________________________________________________________________\n",
            "Model Created Successfully!\n"
          ]
        }
      ],
      "source": [
        "# Construct the required convlstm model.\n",
        "model = create_3D_CNN_model()\n",
        " \n",
        "# Display the success message. \n",
        "print(\"Model Created Successfully!\")"
      ]
    },
    {
      "cell_type": "code",
      "execution_count": 12,
      "metadata": {
        "colab": {
          "base_uri": "https://localhost:8080/"
        },
        "id": "MwYEkaYLoyb_",
        "outputId": "af609fbc-cdc4-44bb-d5db-a906b9ec6e35"
      },
      "outputs": [
        {
          "output_type": "stream",
          "name": "stdout",
          "text": [
            "Epoch 1/100\n",
            "101/101 [==============================] - 12s 104ms/step - loss: 1.3527 - accuracy: 0.4183 - val_loss: 1.2370 - val_accuracy: 0.3566\n",
            "Epoch 2/100\n",
            "101/101 [==============================] - 10s 97ms/step - loss: 1.1679 - accuracy: 0.4301 - val_loss: 1.1098 - val_accuracy: 0.3566\n",
            "Epoch 3/100\n",
            "101/101 [==============================] - 10s 96ms/step - loss: 1.1208 - accuracy: 0.4134 - val_loss: 1.0402 - val_accuracy: 0.3897\n",
            "Epoch 4/100\n",
            "101/101 [==============================] - 10s 97ms/step - loss: 1.0783 - accuracy: 0.4462 - val_loss: 0.9900 - val_accuracy: 0.4081\n",
            "Epoch 5/100\n",
            "101/101 [==============================] - 10s 96ms/step - loss: 1.0332 - accuracy: 0.4486 - val_loss: 0.9670 - val_accuracy: 0.5404\n",
            "Epoch 6/100\n",
            "101/101 [==============================] - 10s 97ms/step - loss: 1.0103 - accuracy: 0.4827 - val_loss: 0.9357 - val_accuracy: 0.5772\n",
            "Epoch 7/100\n",
            "101/101 [==============================] - 10s 96ms/step - loss: 0.9815 - accuracy: 0.4839 - val_loss: 0.8958 - val_accuracy: 0.5993\n",
            "Epoch 8/100\n",
            "101/101 [==============================] - 10s 96ms/step - loss: 0.9736 - accuracy: 0.4920 - val_loss: 0.9032 - val_accuracy: 0.5404\n",
            "Epoch 9/100\n",
            "101/101 [==============================] - 10s 97ms/step - loss: 0.9410 - accuracy: 0.5118 - val_loss: 0.8680 - val_accuracy: 0.6176\n",
            "Epoch 10/100\n",
            "101/101 [==============================] - 10s 96ms/step - loss: 0.9365 - accuracy: 0.5297 - val_loss: 0.8372 - val_accuracy: 0.6176\n",
            "Epoch 11/100\n",
            "101/101 [==============================] - 10s 96ms/step - loss: 0.9240 - accuracy: 0.5340 - val_loss: 0.8492 - val_accuracy: 0.6066\n",
            "Epoch 12/100\n",
            "101/101 [==============================] - 10s 96ms/step - loss: 0.9032 - accuracy: 0.5322 - val_loss: 0.8452 - val_accuracy: 0.5772\n",
            "Epoch 13/100\n",
            "101/101 [==============================] - 10s 96ms/step - loss: 0.9038 - accuracy: 0.5408 - val_loss: 0.8250 - val_accuracy: 0.6213\n",
            "Epoch 14/100\n",
            "101/101 [==============================] - 10s 97ms/step - loss: 0.8764 - accuracy: 0.5452 - val_loss: 0.8302 - val_accuracy: 0.5882\n",
            "Epoch 15/100\n",
            "101/101 [==============================] - 10s 96ms/step - loss: 0.8768 - accuracy: 0.5514 - val_loss: 0.8348 - val_accuracy: 0.5257\n",
            "Epoch 16/100\n",
            "101/101 [==============================] - 10s 97ms/step - loss: 0.8785 - accuracy: 0.5730 - val_loss: 0.8240 - val_accuracy: 0.6066\n",
            "Epoch 17/100\n",
            "101/101 [==============================] - 10s 96ms/step - loss: 0.8508 - accuracy: 0.5823 - val_loss: 0.8065 - val_accuracy: 0.6066\n",
            "Epoch 18/100\n",
            "101/101 [==============================] - 10s 96ms/step - loss: 0.8545 - accuracy: 0.5780 - val_loss: 0.8045 - val_accuracy: 0.5551\n",
            "Epoch 19/100\n",
            "101/101 [==============================] - 10s 96ms/step - loss: 0.8465 - accuracy: 0.5724 - val_loss: 0.8184 - val_accuracy: 0.5625\n",
            "Epoch 20/100\n",
            "101/101 [==============================] - 10s 97ms/step - loss: 0.8413 - accuracy: 0.5823 - val_loss: 0.8167 - val_accuracy: 0.5331\n",
            "Epoch 21/100\n",
            "101/101 [==============================] - 10s 96ms/step - loss: 0.8366 - accuracy: 0.5804 - val_loss: 0.8041 - val_accuracy: 0.5809\n",
            "Epoch 22/100\n",
            "101/101 [==============================] - 10s 96ms/step - loss: 0.8161 - accuracy: 0.5947 - val_loss: 0.7842 - val_accuracy: 0.6140\n",
            "Epoch 23/100\n",
            "101/101 [==============================] - 10s 97ms/step - loss: 0.8305 - accuracy: 0.6009 - val_loss: 0.8024 - val_accuracy: 0.5699\n",
            "Epoch 24/100\n",
            "101/101 [==============================] - 10s 96ms/step - loss: 0.8287 - accuracy: 0.5767 - val_loss: 0.8012 - val_accuracy: 0.6066\n",
            "Epoch 25/100\n",
            "101/101 [==============================] - 10s 97ms/step - loss: 0.8229 - accuracy: 0.5804 - val_loss: 0.8017 - val_accuracy: 0.5772\n",
            "Epoch 26/100\n",
            "101/101 [==============================] - 10s 96ms/step - loss: 0.8095 - accuracy: 0.6052 - val_loss: 0.7787 - val_accuracy: 0.6066\n",
            "Epoch 27/100\n",
            "101/101 [==============================] - 10s 96ms/step - loss: 0.7834 - accuracy: 0.5947 - val_loss: 0.7806 - val_accuracy: 0.5404\n",
            "Epoch 28/100\n",
            "101/101 [==============================] - 10s 96ms/step - loss: 0.7858 - accuracy: 0.6077 - val_loss: 0.7666 - val_accuracy: 0.6103\n",
            "Epoch 29/100\n",
            "101/101 [==============================] - 10s 96ms/step - loss: 0.7993 - accuracy: 0.6145 - val_loss: 0.7866 - val_accuracy: 0.5331\n",
            "Epoch 30/100\n",
            "101/101 [==============================] - 10s 96ms/step - loss: 0.8066 - accuracy: 0.6002 - val_loss: 0.7749 - val_accuracy: 0.5735\n",
            "Epoch 31/100\n",
            "101/101 [==============================] - 10s 96ms/step - loss: 0.8099 - accuracy: 0.5978 - val_loss: 0.7592 - val_accuracy: 0.6250\n",
            "Epoch 32/100\n",
            "101/101 [==============================] - 10s 96ms/step - loss: 0.7809 - accuracy: 0.6200 - val_loss: 0.7784 - val_accuracy: 0.5551\n",
            "Epoch 33/100\n",
            "101/101 [==============================] - 10s 97ms/step - loss: 0.7674 - accuracy: 0.6374 - val_loss: 0.7720 - val_accuracy: 0.5846\n",
            "Epoch 34/100\n",
            "101/101 [==============================] - 10s 97ms/step - loss: 0.7882 - accuracy: 0.6108 - val_loss: 0.7449 - val_accuracy: 0.6029\n",
            "Epoch 35/100\n",
            "101/101 [==============================] - 10s 96ms/step - loss: 0.7829 - accuracy: 0.6132 - val_loss: 0.7664 - val_accuracy: 0.6213\n",
            "Epoch 36/100\n",
            "101/101 [==============================] - 10s 97ms/step - loss: 0.7669 - accuracy: 0.6349 - val_loss: 0.7715 - val_accuracy: 0.5515\n",
            "Epoch 37/100\n",
            "101/101 [==============================] - 10s 97ms/step - loss: 0.7902 - accuracy: 0.6046 - val_loss: 0.7657 - val_accuracy: 0.5404\n",
            "Epoch 38/100\n",
            "101/101 [==============================] - 10s 97ms/step - loss: 0.7734 - accuracy: 0.6386 - val_loss: 0.7741 - val_accuracy: 0.5772\n",
            "Epoch 39/100\n",
            "101/101 [==============================] - 10s 97ms/step - loss: 0.7671 - accuracy: 0.6231 - val_loss: 0.7433 - val_accuracy: 0.6213\n",
            "Epoch 40/100\n",
            "101/101 [==============================] - 10s 96ms/step - loss: 0.7612 - accuracy: 0.6318 - val_loss: 0.7892 - val_accuracy: 0.5257\n",
            "Epoch 41/100\n",
            "101/101 [==============================] - 10s 96ms/step - loss: 0.7672 - accuracy: 0.6262 - val_loss: 0.7617 - val_accuracy: 0.5846\n",
            "Epoch 42/100\n",
            "101/101 [==============================] - 10s 96ms/step - loss: 0.7512 - accuracy: 0.6510 - val_loss: 0.7340 - val_accuracy: 0.6360\n",
            "Epoch 43/100\n",
            "101/101 [==============================] - 10s 96ms/step - loss: 0.7462 - accuracy: 0.6479 - val_loss: 0.7484 - val_accuracy: 0.6029\n",
            "Epoch 44/100\n",
            "101/101 [==============================] - 10s 97ms/step - loss: 0.7371 - accuracy: 0.6411 - val_loss: 0.7309 - val_accuracy: 0.6287\n",
            "Epoch 45/100\n",
            "101/101 [==============================] - 10s 96ms/step - loss: 0.7143 - accuracy: 0.6572 - val_loss: 0.7351 - val_accuracy: 0.6140\n",
            "Epoch 46/100\n",
            "101/101 [==============================] - 10s 97ms/step - loss: 0.7418 - accuracy: 0.6535 - val_loss: 0.7511 - val_accuracy: 0.6029\n",
            "Epoch 47/100\n",
            "101/101 [==============================] - 10s 96ms/step - loss: 0.7277 - accuracy: 0.6658 - val_loss: 0.7511 - val_accuracy: 0.6103\n",
            "Epoch 48/100\n",
            "101/101 [==============================] - 10s 96ms/step - loss: 0.7251 - accuracy: 0.6528 - val_loss: 0.7854 - val_accuracy: 0.5184\n",
            "Epoch 49/100\n",
            "101/101 [==============================] - 10s 96ms/step - loss: 0.7122 - accuracy: 0.6702 - val_loss: 0.7223 - val_accuracy: 0.6176\n",
            "Epoch 50/100\n",
            "101/101 [==============================] - 10s 97ms/step - loss: 0.7162 - accuracy: 0.6696 - val_loss: 0.7415 - val_accuracy: 0.6066\n",
            "Epoch 51/100\n",
            "101/101 [==============================] - 10s 97ms/step - loss: 0.6908 - accuracy: 0.6720 - val_loss: 0.6963 - val_accuracy: 0.6581\n",
            "Epoch 52/100\n",
            "101/101 [==============================] - 10s 96ms/step - loss: 0.6988 - accuracy: 0.6714 - val_loss: 0.7022 - val_accuracy: 0.6654\n",
            "Epoch 53/100\n",
            "101/101 [==============================] - 10s 97ms/step - loss: 0.6879 - accuracy: 0.6770 - val_loss: 0.7019 - val_accuracy: 0.6728\n",
            "Epoch 54/100\n",
            "101/101 [==============================] - 10s 97ms/step - loss: 0.7047 - accuracy: 0.6918 - val_loss: 0.7531 - val_accuracy: 0.5662\n",
            "Epoch 55/100\n",
            "101/101 [==============================] - 10s 96ms/step - loss: 0.6589 - accuracy: 0.7036 - val_loss: 0.7116 - val_accuracy: 0.6544\n",
            "Epoch 56/100\n",
            "101/101 [==============================] - 10s 96ms/step - loss: 0.6929 - accuracy: 0.6887 - val_loss: 0.6706 - val_accuracy: 0.6949\n",
            "Epoch 57/100\n",
            "101/101 [==============================] - 10s 97ms/step - loss: 0.6781 - accuracy: 0.7005 - val_loss: 0.6907 - val_accuracy: 0.6618\n",
            "Epoch 58/100\n",
            "101/101 [==============================] - 10s 96ms/step - loss: 0.6667 - accuracy: 0.7048 - val_loss: 0.7226 - val_accuracy: 0.6176\n",
            "Epoch 59/100\n",
            "101/101 [==============================] - 10s 96ms/step - loss: 0.6765 - accuracy: 0.6986 - val_loss: 0.7102 - val_accuracy: 0.6397\n",
            "Epoch 60/100\n",
            "101/101 [==============================] - 10s 97ms/step - loss: 0.6667 - accuracy: 0.6894 - val_loss: 0.6830 - val_accuracy: 0.6544\n",
            "Epoch 61/100\n",
            "101/101 [==============================] - 10s 96ms/step - loss: 0.6642 - accuracy: 0.6813 - val_loss: 0.6621 - val_accuracy: 0.6691\n",
            "Epoch 62/100\n",
            "101/101 [==============================] - 10s 96ms/step - loss: 0.6369 - accuracy: 0.7147 - val_loss: 0.6511 - val_accuracy: 0.6765\n",
            "Epoch 63/100\n",
            "101/101 [==============================] - 10s 97ms/step - loss: 0.6508 - accuracy: 0.6999 - val_loss: 0.7286 - val_accuracy: 0.6066\n",
            "Epoch 64/100\n",
            "101/101 [==============================] - 10s 97ms/step - loss: 0.6381 - accuracy: 0.6949 - val_loss: 0.6665 - val_accuracy: 0.6765\n",
            "Epoch 65/100\n",
            "101/101 [==============================] - 10s 96ms/step - loss: 0.6327 - accuracy: 0.7005 - val_loss: 0.6677 - val_accuracy: 0.6618\n",
            "Epoch 66/100\n",
            "101/101 [==============================] - 10s 96ms/step - loss: 0.6195 - accuracy: 0.7234 - val_loss: 0.6730 - val_accuracy: 0.6654\n",
            "Epoch 67/100\n",
            "101/101 [==============================] - 10s 96ms/step - loss: 0.6333 - accuracy: 0.6999 - val_loss: 0.6758 - val_accuracy: 0.6397\n",
            "Epoch 68/100\n",
            "101/101 [==============================] - 10s 97ms/step - loss: 0.6458 - accuracy: 0.7129 - val_loss: 0.6366 - val_accuracy: 0.6618\n",
            "Epoch 69/100\n",
            "101/101 [==============================] - 10s 96ms/step - loss: 0.6260 - accuracy: 0.7153 - val_loss: 0.7074 - val_accuracy: 0.6250\n",
            "Epoch 70/100\n",
            "101/101 [==============================] - 10s 97ms/step - loss: 0.5985 - accuracy: 0.7358 - val_loss: 0.6868 - val_accuracy: 0.6471\n",
            "Epoch 71/100\n",
            "101/101 [==============================] - 10s 96ms/step - loss: 0.6375 - accuracy: 0.7184 - val_loss: 0.6269 - val_accuracy: 0.6728\n",
            "Epoch 72/100\n",
            "101/101 [==============================] - 10s 96ms/step - loss: 0.6128 - accuracy: 0.7123 - val_loss: 0.6403 - val_accuracy: 0.6765\n",
            "Epoch 73/100\n",
            "101/101 [==============================] - 10s 97ms/step - loss: 0.6029 - accuracy: 0.7222 - val_loss: 0.6698 - val_accuracy: 0.6765\n",
            "Epoch 74/100\n",
            "101/101 [==============================] - 10s 96ms/step - loss: 0.6353 - accuracy: 0.7092 - val_loss: 0.6276 - val_accuracy: 0.6838\n",
            "Epoch 75/100\n",
            "101/101 [==============================] - 10s 96ms/step - loss: 0.6070 - accuracy: 0.7160 - val_loss: 0.6924 - val_accuracy: 0.6471\n",
            "Epoch 76/100\n",
            "101/101 [==============================] - 10s 97ms/step - loss: 0.5910 - accuracy: 0.7172 - val_loss: 0.6294 - val_accuracy: 0.6912\n",
            "Epoch 77/100\n",
            "101/101 [==============================] - 10s 96ms/step - loss: 0.6173 - accuracy: 0.7197 - val_loss: 0.6275 - val_accuracy: 0.6838\n",
            "Epoch 78/100\n",
            "101/101 [==============================] - 10s 96ms/step - loss: 0.5937 - accuracy: 0.7234 - val_loss: 0.6261 - val_accuracy: 0.6618\n",
            "Epoch 79/100\n",
            "101/101 [==============================] - 10s 96ms/step - loss: 0.5915 - accuracy: 0.7153 - val_loss: 0.6170 - val_accuracy: 0.7022\n",
            "Epoch 80/100\n",
            "101/101 [==============================] - 10s 96ms/step - loss: 0.5855 - accuracy: 0.7314 - val_loss: 0.6494 - val_accuracy: 0.6507\n",
            "Epoch 81/100\n",
            "101/101 [==============================] - 10s 96ms/step - loss: 0.6036 - accuracy: 0.7141 - val_loss: 0.6520 - val_accuracy: 0.6544\n",
            "Epoch 82/100\n",
            "101/101 [==============================] - 10s 96ms/step - loss: 0.5895 - accuracy: 0.7228 - val_loss: 0.6195 - val_accuracy: 0.6838\n",
            "Epoch 83/100\n",
            "101/101 [==============================] - 10s 96ms/step - loss: 0.5734 - accuracy: 0.7252 - val_loss: 0.6279 - val_accuracy: 0.6691\n",
            "Epoch 84/100\n",
            "101/101 [==============================] - 10s 97ms/step - loss: 0.5770 - accuracy: 0.7351 - val_loss: 0.6385 - val_accuracy: 0.6581\n",
            "Epoch 85/100\n",
            "101/101 [==============================] - 10s 96ms/step - loss: 0.6272 - accuracy: 0.7172 - val_loss: 0.6874 - val_accuracy: 0.6691\n",
            "Epoch 86/100\n",
            "101/101 [==============================] - 10s 97ms/step - loss: 0.5831 - accuracy: 0.7432 - val_loss: 0.6351 - val_accuracy: 0.6618\n",
            "Epoch 87/100\n",
            "101/101 [==============================] - 10s 96ms/step - loss: 0.5896 - accuracy: 0.7321 - val_loss: 0.5959 - val_accuracy: 0.7169\n",
            "Epoch 88/100\n",
            "101/101 [==============================] - 10s 97ms/step - loss: 0.5707 - accuracy: 0.7277 - val_loss: 0.6235 - val_accuracy: 0.6728\n",
            "Epoch 89/100\n",
            "101/101 [==============================] - 10s 96ms/step - loss: 0.5685 - accuracy: 0.7407 - val_loss: 0.6206 - val_accuracy: 0.6985\n",
            "Epoch 90/100\n",
            "101/101 [==============================] - 10s 97ms/step - loss: 0.5752 - accuracy: 0.7358 - val_loss: 0.6258 - val_accuracy: 0.6949\n",
            "Epoch 91/100\n",
            "101/101 [==============================] - 10s 96ms/step - loss: 0.5852 - accuracy: 0.7277 - val_loss: 0.6292 - val_accuracy: 0.6875\n",
            "Epoch 92/100\n",
            "101/101 [==============================] - 10s 96ms/step - loss: 0.5348 - accuracy: 0.7550 - val_loss: 0.6170 - val_accuracy: 0.6875\n",
            "Epoch 93/100\n",
            "101/101 [==============================] - 10s 96ms/step - loss: 0.5636 - accuracy: 0.7469 - val_loss: 0.6457 - val_accuracy: 0.6801\n",
            "Epoch 94/100\n",
            "101/101 [==============================] - 10s 96ms/step - loss: 0.5535 - accuracy: 0.7506 - val_loss: 0.6197 - val_accuracy: 0.6985\n",
            "Epoch 95/100\n",
            "101/101 [==============================] - 10s 97ms/step - loss: 0.5319 - accuracy: 0.7568 - val_loss: 0.6390 - val_accuracy: 0.6801\n",
            "Epoch 96/100\n",
            "101/101 [==============================] - 10s 96ms/step - loss: 0.5529 - accuracy: 0.7481 - val_loss: 0.6062 - val_accuracy: 0.7243\n",
            "Epoch 97/100\n",
            "101/101 [==============================] - 10s 97ms/step - loss: 0.5733 - accuracy: 0.7228 - val_loss: 0.6068 - val_accuracy: 0.6875\n",
            "Epoch 98/100\n",
            "101/101 [==============================] - 10s 96ms/step - loss: 0.5662 - accuracy: 0.7500 - val_loss: 0.6040 - val_accuracy: 0.7279\n",
            "Epoch 99/100\n",
            "101/101 [==============================] - 10s 96ms/step - loss: 0.5543 - accuracy: 0.7512 - val_loss: 0.6308 - val_accuracy: 0.7132\n",
            "Epoch 100/100\n",
            "101/101 [==============================] - 10s 96ms/step - loss: 0.5339 - accuracy: 0.7500 - val_loss: 0.6072 - val_accuracy: 0.6949\n"
          ]
        }
      ],
      "source": [
        "# Create an Instance of Early Stopping Callback\n",
        "early_stopping_callback = keras.callbacks.EarlyStopping(monitor = 'val_loss',\n",
        "                                                        patience = 20,\n",
        "                                                        mode = 'min',\n",
        "                                                        restore_best_weights = True)\n",
        "# Compile the model and specify loss function, optimizer and metrics values to the model\n",
        "model.compile(loss = 'categorical_crossentropy',\n",
        "              optimizer= keras.optimizers.Adam(0.001, decay=1e-4),\n",
        "              metrics=['accuracy'])\n",
        "# Start training the model.\n",
        "cnn_3d_model_training_history = model.fit(x = features_train,\n",
        "                                          y = labels_train,\n",
        "                                          epochs=100,\n",
        "                                          batch_size=16,\n",
        "                                          shuffle = True,\n",
        "                                          validation_data = (features_valid, labels_valid)),\n",
        "                                          # callbacks = [early_stopping_callback])"
      ]
    },
    {
      "cell_type": "code",
      "execution_count": 13,
      "metadata": {
        "colab": {
          "base_uri": "https://localhost:8080/"
        },
        "id": "3vimsgjjbXvL",
        "outputId": "c74dd6c6-19ef-4942-8932-13b98c1ed1a0"
      },
      "outputs": [
        {
          "output_type": "stream",
          "name": "stdout",
          "text": [
            "9/9 [==============================] - 1s 71ms/step - loss: 0.8135 - accuracy: 0.7647\n",
            "\n",
            "\n",
            "Train accuracy: 83.787 % || Test accuracy: 76.471 % || Val accuracy: 69.485 %\n",
            "Train loss: 0.413 || Test loss: 0.814 || Val loss: 0.607\n"
          ]
        }
      ],
      "source": [
        "model_evaluation_history = model.evaluate(features_test, labels_test)\n",
        "print('\\n')\n",
        "train_loss, train_acc = model.evaluate(features_train, labels_train, verbose=0)\n",
        "test_loss, test_acc = model.evaluate(features_test, labels_test, verbose=0)\n",
        "val_loss, val_acc = model.evaluate(features_valid, labels_valid, verbose=0)\n",
        "print(f'Train accuracy: {train_acc*100:.3f} % || Test accuracy: {test_acc*100:.3f} % || Val accuracy: {val_acc*100:.3f} %')\n",
        "print(f'Train loss: {train_loss:.3f} || Test loss: {test_loss:.3f} || Val loss: {val_loss:.3f}')"
      ]
    },
    {
      "cell_type": "code",
      "execution_count": 14,
      "metadata": {
        "id": "ivmaK9BlbnRQ"
      },
      "outputs": [],
      "source": [
        "# Get the loss and accuracy from model_evaluation_history.\n",
        "model_evaluation_loss, model_evaluation_accuracy = model_evaluation_history\n",
        " \n",
        "# Define the string date format.\n",
        "# Get the current Date and Time in a DateTime Object.\n",
        "# Convert the DateTime object to string according to the style mentioned in date_time_format string.\n",
        "date_time_format = '%Y_%m_%d__%H_%M_%S'\n",
        "current_date_time_dt = dt.datetime.now()\n",
        "current_date_time_string = dt.datetime.strftime(current_date_time_dt, date_time_format)\n",
        " \n",
        "# Define a useful name for our model to make it easy for us while navigating through multiple saved models.\n",
        "model_file_name = f'3D_CNN_model___Date_Time_{current_date_time_string}___Loss_{model_evaluation_loss}___Accuracy_{model_evaluation_accuracy}.h5'\n",
        "# Change dir\n",
        "gdrive_path = '/content/gdrive' + '/My Drive/247/Saved_models/'\n",
        "os.chdir(gdrive_path)\n",
        "# Create a floder for the model files\n",
        "!mkdir -p cnn_3d_{current_date_time_string}\n",
        "# Save your Model.\n",
        "model.save('3D_CNN_' + str(current_date_time_string) + '/' + model_file_name)\n",
        "# Save model weights\n",
        "model.save_weights('3D_CNN_' + str(current_date_time_string) + '/' + 'weights')"
      ]
    },
    {
      "cell_type": "code",
      "execution_count": 15,
      "metadata": {
        "id": "OwU8TwPrbsKB"
      },
      "outputs": [],
      "source": [
        "def plot_metric(model_training_history, metric_name_1, metric_name_2, plot_name):\n",
        "    '''\n",
        "    This function will plot the metrics passed to it in a graph.\n",
        "    Args:\n",
        "        model_training_history: A history object containing a record of training and validation \n",
        "                                loss values and metrics values at successive epochs\n",
        "        metric_name_1:          The name of the first metric that needs to be plotted in the graph.\n",
        "        metric_name_2:          The name of the second metric that needs to be plotted in the graph.\n",
        "        plot_name:              The title of the graph.\n",
        "    '''\n",
        "    \n",
        "    # Get metric values using metric names as identifiers.\n",
        "    metric_value_1 = model_training_history[0].history[metric_name_1]\n",
        "    metric_value_2 = model_training_history[0].history[metric_name_2]\n",
        "    \n",
        "    # Construct a range object which will be used as x-axis (horizontal plane) of the graph.\n",
        "    epochs = range(len(metric_value_1))\n",
        "\n",
        "    # Plot the Graph.\n",
        "    plt.plot(epochs, metric_value_1, 'blue', label = metric_name_1)\n",
        "    plt.plot(epochs, metric_value_2, 'red', label = metric_name_2)\n",
        "\n",
        "    # Add title to the plot.\n",
        "    plt.title(str(plot_name))\n",
        "\n",
        "    # Add legend to the plot.\n",
        "    plt.legend()"
      ]
    },
    {
      "cell_type": "code",
      "execution_count": 16,
      "metadata": {
        "colab": {
          "base_uri": "https://localhost:8080/",
          "height": 281
        },
        "id": "cvKY05ncbwof",
        "outputId": "4f9266d3-cb02-4145-98ac-41855df83f1b"
      },
      "outputs": [
        {
          "output_type": "display_data",
          "data": {
            "text/plain": [
              "<Figure size 432x288 with 1 Axes>"
            ],
            "image/png": "[encoded data removed]"
          },
          "metadata": {
            "needs_background": "light"
          }
        }
      ],
      "source": [
        "plot_metric(cnn_3d_model_training_history, 'loss', 'val_loss', 'Total Loss vs Total Validation Loss')"
      ]
    },
    {
      "cell_type": "code",
      "execution_count": 17,
      "metadata": {
        "colab": {
          "base_uri": "https://localhost:8080/",
          "height": 281
        },
        "id": "o1iaaDHBb5i0",
        "outputId": "6918ddd2-d3b3-4d9f-ebf0-4a1f74dc7d15"
      },
      "outputs": [
        {
          "output_type": "display_data",
          "data": {
            "text/plain": [
              "<Figure size 432x288 with 1 Axes>"
            ],
            "image/png": "[encoded data removed]"
          },
          "metadata": {
            "needs_background": "light"
          }
        }
      ],
      "source": [
        "plot_metric(cnn_3d_model_training_history, 'accuracy', 'val_accuracy', 'Total Accuracy vs Total Validation Accuracy') "
      ]
    }
  ],
  "metadata": {
    "accelerator": "GPU",
    "colab": {
      "collapsed_sections": [],
      "machine_shape": "hm",
      "name": "3D_CNN.ipynb",
      "provenance": [],
      "authorship_tag": "ABX9TyO4qpFVB/QwO2ywrMDfrseG",
      "include_colab_link": true
    },
    "kernelspec": {
      "display_name": "Python 3",
      "name": "python3"
    },
    "language_info": {
      "name": "python"
    }
  },
  "nbformat": 4,
  "nbformat_minor": 0
}