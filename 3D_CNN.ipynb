{
  "cells": [
    {
      "cell_type": "markdown",
      "metadata": {
        "id": "view-in-github",
        "colab_type": "text"
      },
      "source": [
        "<a href=\"https://colab.research.google.com/github/alexsalman/CSE247/blob/main/3D_CNN.ipynb\" target=\"_parent\"><img src=\"https://colab.research.google.com/assets/colab-badge.svg\" alt=\"Open In Colab\"/></a>"
      ]
    },
    {
      "cell_type": "markdown",
      "metadata": {
        "id": "Kk7I8NauauE3"
      },
      "source": [
        "####**3D Convolutional Neural Network**\n",
        "######*I am using 3D Convolutional Neural Network to extract the temporal and spatial information which are merged slowly throughout the whole network.*"
      ]
    },
    {
      "cell_type": "code",
      "execution_count": 1,
      "metadata": {
        "colab": {
          "base_uri": "https://localhost:8080/"
        },
        "id": "M8ibtd5HKtZk",
        "outputId": "91cc1184-adde-4d49-ad40-2c42fd4ca935"
      },
      "outputs": [
        {
          "output_type": "stream",
          "name": "stdout",
          "text": [
            "2.8.0\n"
          ]
        }
      ],
      "source": [
        "# required libraries\n",
        "import os\n",
        "import cv2\n",
        "import math\n",
        "import random\n",
        "import numpy as np\n",
        "import datetime as dt\n",
        "from collections import deque\n",
        "import matplotlib.pyplot as plt\n",
        "from google.colab import drive\n",
        "from sklearn.model_selection import train_test_split\n",
        "import tensorflow as tf\n",
        "from tensorflow import keras\n",
        "from keras.models import Sequential\n",
        "from keras.layers import Dense, Flatten, Conv3D, MaxPooling3D, Dropout, BatchNormalization, GlobalAveragePooling3D\n",
        "from keras import regularizers\n",
        "from PIL import Image\n",
        "%matplotlib inline\n",
        "print(tf.version.VERSION)\n",
        "# https://bleedai.com/human-activity-recognition-using-tensorflow-cnn-lstm/"
      ]
    },
    {
      "cell_type": "code",
      "execution_count": 2,
      "metadata": {
        "id": "iffdFOf1CEAN"
      },
      "outputs": [],
      "source": [
        "# set Numpy, Python, and Tensorflow seeds to get consistent results on every execution\n",
        "seed_constant = 27\n",
        "np.random.seed(seed_constant)\n",
        "random.seed(seed_constant)\n",
        "tf.random.set_seed(seed_constant)"
      ]
    },
    {
      "cell_type": "code",
      "execution_count": 3,
      "metadata": {
        "colab": {
          "base_uri": "https://localhost:8080/",
          "height": 53
        },
        "id": "mcLh22LiOHyn",
        "outputId": "ad429556-baa1-4b33-f923-6dc26f413188"
      },
      "outputs": [
        {
          "output_type": "stream",
          "name": "stdout",
          "text": [
            "Mounted at /content/gdrive/\n"
          ]
        },
        {
          "output_type": "execute_result",
          "data": {
            "text/plain": [
              "'/content/gdrive/My Drive/247'"
            ],
            "application/vnd.google.colaboratory.intrinsic+json": {
              "type": "string"
            }
          },
          "metadata": {},
          "execution_count": 3
        }
      ],
      "source": [
        "# mount dataset from google drive\n",
        "drive.mount('/content/gdrive/', force_remount=True)\n",
        "gdrive_path = '/content/gdrive' + '/My Drive/247/'\n",
        "os.chdir(gdrive_path)\n",
        "os.getcwd()"
      ]
    },
    {
      "cell_type": "code",
      "execution_count": 4,
      "metadata": {
        "id": "oeDK8SzumZ1Q"
      },
      "outputs": [],
      "source": [
        "# frame dimention\n",
        "IMAGE_HEIGHT, IMAGE_WIDTH = 128, 128\n",
        "# frame number for each video (depth)\n",
        "SEQUENCE_LENGTH = 16\n",
        "# video dir path\n",
        "DATASET_DIR = gdrive_path + 'Cropped_videos'\n",
        "# labels of classes\n",
        "CLASSES_LIST = ['hemostasis', 'inflammatory', 'proliferative', 'maturation']"
      ]
    },
    {
      "cell_type": "code",
      "execution_count": 5,
      "metadata": {
        "id": "HUTeIqzpZc9J"
      },
      "outputs": [],
      "source": [
        "# image cropping\n",
        "def crop_center_square(frame):\n",
        "    y, x = frame.shape[0:2]\n",
        "    min_dim = min(y, x)\n",
        "    start_x = (x // 2) - (min_dim // 2)\n",
        "    start_y = (y // 2) - (min_dim // 2)\n",
        "    return frame[start_y:start_y+min_dim,start_x:start_x+min_dim]"
      ]
    },
    {
      "cell_type": "code",
      "execution_count": 6,
      "metadata": {
        "id": "QRDbHG0TZkYJ"
      },
      "outputs": [],
      "source": [
        "# https://medium.com/analytics-vidhya/video-preprocessor-and-augmentation-for-deep-learning-tasks-12dd3fcce868\n",
        "def load_video(path, resize=(128, 128)):\n",
        "    video_reader = cv2.VideoCapture(path)\n",
        "    frames = []\n",
        "    try:\n",
        "        while True:\n",
        "            ret, frame = video_reader.read()\n",
        "            if not ret:\n",
        "                  break\n",
        "            # frame = crop_center_square(frame)\n",
        "            frame = cv2.resize(frame, resize)\n",
        "            frame = frame[:, :, [2, 1, 0]]\n",
        "            black_frame = frame\n",
        "            frames.append(frame)\n",
        "    finally:\n",
        "        video_reader.release()\n",
        "    return np.array(frames) / 255.0"
      ]
    },
    {
      "cell_type": "code",
      "execution_count": 7,
      "metadata": {
        "id": "ljUWHW6Jqzu-"
      },
      "outputs": [],
      "source": [
        "def create_dataset(state):\n",
        "    # Declared Empty Lists to store the features, labels and video file path values.\n",
        "    features = []\n",
        "    labels = []\n",
        "    video_files_paths = []\n",
        "    # Iterating through all the classes mentioned in the classes list\n",
        "    for class_index, class_name in enumerate(CLASSES_LIST):\n",
        "        # Display the name of the class whose data is being extracted.\n",
        "        print(f'Extracting Data of Class: {class_name} {state}')\n",
        "        # Get the list of video files present in the specific class name directory.\n",
        "        files_list = os.listdir(os.path.join(DATASET_DIR, class_name))\n",
        "        # Iterate through all the files present in the files list.\n",
        "        for file_name in files_list:\n",
        "            # Get the complete video path.\n",
        "            video_file_path = os.path.join(DATASET_DIR, class_name, file_name)\n",
        "            # create testing data\n",
        "            if state == 'test':\n",
        "                # get the mouse number\n",
        "                mouse_number = int(video_file_path.split(' ')[2].split('_')[1].split('-')[1])\n",
        "                # get the mouse side (L or R)\n",
        "                mouse_side = video_file_path.split(' ')[2].split('_')[1].split('-')[2]\n",
        "                if mouse_number == 4 and mouse_side == 'L':\n",
        "                    frames = load_video(video_file_path)\n",
        "                    features.append(frames)\n",
        "                    labels.append(class_index)\n",
        "                    video_files_paths.append(video_file_path)\n",
        "            # create validation data\n",
        "            elif state == 'valid':\n",
        "                # get the mouse number\n",
        "                mouse_number = int(video_file_path.split(' ')[2].split('_')[1].split('-')[1])\n",
        "                # get the mouse side (L or R)\n",
        "                mouse_side = video_file_path.split(' ')[2].split('_')[1].split('-')[2]\n",
        "                if mouse_number == 4 and mouse_side == 'R':\n",
        "                    frames = load_video(video_file_path)\n",
        "                    features.append(frames)\n",
        "                    labels.append(class_index)\n",
        "                    video_files_paths.append(video_file_path)\n",
        "            # create training data\n",
        "            else:\n",
        "                # get the mouse number\n",
        "                mouse_number = int(video_file_path.split(' ')[2].split('_')[1].split('-')[1])\n",
        "                if mouse_number != 4:\n",
        "                    frames = load_video(video_file_path)\n",
        "                    features.append(frames)\n",
        "                    labels.append(class_index)\n",
        "                    video_files_paths.append(video_file_path)\n",
        "    # Converting the list to numpy arrays\n",
        "    features = np.asarray(features)\n",
        "    # print(features)\n",
        "    labels = np.array(labels)\n",
        "    # Return the frames, class index, and video file path.\n",
        "    return features, labels, video_files_paths"
      ]
    },
    {
      "cell_type": "code",
      "execution_count": 8,
      "metadata": {
        "colab": {
          "base_uri": "https://localhost:8080/"
        },
        "id": "a8rpanz9rASe",
        "outputId": "46eee63c-59ea-4f3e-dce5-1d59b5f6b541"
      },
      "outputs": [
        {
          "output_type": "stream",
          "name": "stdout",
          "text": [
            "Extracting Data of Class: hemostasis train\n",
            "Extracting Data of Class: inflammatory train\n",
            "Extracting Data of Class: proliferative train\n",
            "Extracting Data of Class: maturation train\n",
            "Extracting Data of Class: hemostasis test\n",
            "Extracting Data of Class: inflammatory test\n",
            "Extracting Data of Class: proliferative test\n",
            "Extracting Data of Class: maturation test\n",
            "Extracting Data of Class: hemostasis valid\n",
            "Extracting Data of Class: inflammatory valid\n",
            "Extracting Data of Class: proliferative valid\n",
            "Extracting Data of Class: maturation valid\n"
          ]
        }
      ],
      "source": [
        "# 6 mice for training, 2 mice for test and validation (one wound on each mice for test one for validation)\n",
        "features_train, labels_train, video_files_paths_train = create_dataset('train')\n",
        "features_test, labels_test, video_files_paths_test = create_dataset('test')\n",
        "features_valid, labels_valid, video_files_paths_valid = create_dataset('valid')"
      ]
    },
    {
      "cell_type": "code",
      "execution_count": 9,
      "metadata": {
        "id": "dtJkK4qTAulC"
      },
      "outputs": [],
      "source": [
        "# one_hot_encoded_labels\n",
        "labels_train = keras.utils.to_categorical(labels_train)\n",
        "labels_test = keras.utils.to_categorical(labels_test)\n",
        "labels_valid = keras.utils.to_categorical(labels_valid)"
      ]
    },
    {
      "cell_type": "code",
      "execution_count": 10,
      "metadata": {
        "id": "N-9ykP4ig7IW"
      },
      "outputs": [],
      "source": [
        "def create_3D_CNN_model():\n",
        "    sample_shape = (16, 128, 128, 3)\n",
        "    model = Sequential()\n",
        "\n",
        "    model.add(Conv3D(32, 3, activation='relu', kernel_initializer='he_uniform',\n",
        "                     kernel_regularizer=regularizers.L2(l2=1e-4),\n",
        "                     input_shape=sample_shape))\n",
        "    # model.add(BatchNormalization())\n",
        "    model.add(MaxPooling3D(2))\n",
        "    model.add(Dropout(0.6))\n",
        "\n",
        "    model.add(Conv3D(32, 3, activation='relu', kernel_initializer='he_uniform',\n",
        "                     kernel_regularizer=regularizers.L2(l2=1e-4)))\n",
        "    # model.add(BatchNormalization())\n",
        "    model.add(MaxPooling3D(2))\n",
        "    model.add(Dropout(0.6))\n",
        "\n",
        "    model.add(GlobalAveragePooling3D())\n",
        "\n",
        "    model.add(Dense(32, activation='relu', kernel_initializer='he_uniform',\n",
        "                    kernel_regularizer=regularizers.L2(l2=1e-4)))\n",
        "    model.add(Dropout(0.6))\n",
        "\n",
        "    model.add(Dense(16, activation='relu', kernel_initializer='he_uniform',\n",
        "                    kernel_regularizer=regularizers.L2(l2=1e-4)))\n",
        "    model.add(Dropout(0.6))\n",
        "    model.add(Dense(8, activation='relu', kernel_initializer='he_uniform',\n",
        "                    kernel_regularizer=regularizers.L2(l2=1e-4)))\n",
        "    # model.add(Dropout(0.3))\n",
        "    # model.add(Dense(8, activation='relu', kernel_initializer='he_uniform'))\n",
        "    # model.add(Dropout(0.3))\n",
        "    model.add(Dense(len(CLASSES_LIST), activation='softmax'))\n",
        "\n",
        "    # Display the models summary.\n",
        "    model.summary(line_length = 125)\n",
        "    # Return the constructed 3D_CNN model.\n",
        "    return model"
      ]
    },
    {
      "cell_type": "code",
      "execution_count": 11,
      "metadata": {
        "colab": {
          "base_uri": "https://localhost:8080/"
        },
        "id": "Z4_GxXZBcHlB",
        "outputId": "edc66b9f-edad-4171-a0a1-0c47e2d3ea37"
      },
      "outputs": [
        {
          "output_type": "stream",
          "name": "stdout",
          "text": [
            "Model: \"sequential\"\n",
            "_____________________________________________________________________________________________________________________________\n",
            " Layer (type)                                           Output Shape                                      Param #            \n",
            "=============================================================================================================================\n",
            " conv3d (Conv3D)                                        (None, 14, 126, 126, 32)                          2624               \n",
            "                                                                                                                             \n",
            " max_pooling3d (MaxPooling3D)                           (None, 7, 63, 63, 32)                             0                  \n",
            "                                                                                                                             \n",
            " dropout (Dropout)                                      (None, 7, 63, 63, 32)                             0                  \n",
            "                                                                                                                             \n",
            " conv3d_1 (Conv3D)                                      (None, 5, 61, 61, 32)                             27680              \n",
            "                                                                                                                             \n",
            " max_pooling3d_1 (MaxPooling3D)                         (None, 2, 30, 30, 32)                             0                  \n",
            "                                                                                                                             \n",
            " dropout_1 (Dropout)                                    (None, 2, 30, 30, 32)                             0                  \n",
            "                                                                                                                             \n",
            " global_average_pooling3d (GlobalAveragePooling3D)      (None, 32)                                        0                  \n",
            "                                                                                                                             \n",
            " dense (Dense)                                          (None, 32)                                        1056               \n",
            "                                                                                                                             \n",
            " dropout_2 (Dropout)                                    (None, 32)                                        0                  \n",
            "                                                                                                                             \n",
            " dense_1 (Dense)                                        (None, 16)                                        528                \n",
            "                                                                                                                             \n",
            " dropout_3 (Dropout)                                    (None, 16)                                        0                  \n",
            "                                                                                                                             \n",
            " dense_2 (Dense)                                        (None, 8)                                         136                \n",
            "                                                                                                                             \n",
            " dense_3 (Dense)                                        (None, 4)                                         36                 \n",
            "                                                                                                                             \n",
            "=============================================================================================================================\n",
            "Total params: 32,060\n",
            "Trainable params: 32,060\n",
            "Non-trainable params: 0\n",
            "_____________________________________________________________________________________________________________________________\n",
            "Model Created Successfully!\n"
          ]
        }
      ],
      "source": [
        "# Construct the required convlstm model.\n",
        "model = create_3D_CNN_model()\n",
        " \n",
        "# Display the success message. \n",
        "print(\"Model Created Successfully!\")"
      ]
    },
    {
      "cell_type": "code",
      "execution_count": 12,
      "metadata": {
        "colab": {
          "base_uri": "https://localhost:8080/"
        },
        "id": "MwYEkaYLoyb_",
        "outputId": "a8551922-1bf5-4156-9510-df6852a361d8"
      },
      "outputs": [
        {
          "output_type": "stream",
          "name": "stdout",
          "text": [
            "Epoch 1/150\n",
            "101/101 [==============================] - 13s 103ms/step - loss: 1.3542 - accuracy: 0.4078 - val_loss: 1.2835 - val_accuracy: 0.3566\n",
            "Epoch 2/150\n",
            "101/101 [==============================] - 10s 95ms/step - loss: 1.1836 - accuracy: 0.4282 - val_loss: 1.1391 - val_accuracy: 0.3566\n",
            "Epoch 3/150\n",
            "101/101 [==============================] - 10s 95ms/step - loss: 1.1350 - accuracy: 0.3769 - val_loss: 1.0644 - val_accuracy: 0.3750\n",
            "Epoch 4/150\n",
            "101/101 [==============================] - 10s 95ms/step - loss: 1.0993 - accuracy: 0.4301 - val_loss: 1.0144 - val_accuracy: 0.3934\n",
            "Epoch 5/150\n",
            "101/101 [==============================] - 10s 96ms/step - loss: 1.0585 - accuracy: 0.4375 - val_loss: 1.0014 - val_accuracy: 0.5074\n",
            "Epoch 6/150\n",
            "101/101 [==============================] - 10s 95ms/step - loss: 1.0258 - accuracy: 0.4623 - val_loss: 0.9751 - val_accuracy: 0.5147\n",
            "Epoch 7/150\n",
            "101/101 [==============================] - 10s 95ms/step - loss: 0.9929 - accuracy: 0.4821 - val_loss: 0.9094 - val_accuracy: 0.5147\n",
            "Epoch 8/150\n",
            "101/101 [==============================] - 9s 94ms/step - loss: 0.9742 - accuracy: 0.4994 - val_loss: 0.9034 - val_accuracy: 0.5993\n",
            "Epoch 9/150\n",
            "101/101 [==============================] - 10s 95ms/step - loss: 0.9351 - accuracy: 0.5297 - val_loss: 0.8951 - val_accuracy: 0.5515\n",
            "Epoch 10/150\n",
            "101/101 [==============================] - 10s 95ms/step - loss: 0.9407 - accuracy: 0.5309 - val_loss: 0.8526 - val_accuracy: 0.5956\n",
            "Epoch 11/150\n",
            "101/101 [==============================] - 10s 95ms/step - loss: 0.9129 - accuracy: 0.5415 - val_loss: 0.8395 - val_accuracy: 0.5993\n",
            "Epoch 12/150\n",
            "101/101 [==============================] - 10s 94ms/step - loss: 0.8888 - accuracy: 0.5594 - val_loss: 0.8321 - val_accuracy: 0.6140\n",
            "Epoch 13/150\n",
            "101/101 [==============================] - 10s 95ms/step - loss: 0.8915 - accuracy: 0.5507 - val_loss: 0.8172 - val_accuracy: 0.6029\n",
            "Epoch 14/150\n",
            "101/101 [==============================] - 10s 95ms/step - loss: 0.8748 - accuracy: 0.5699 - val_loss: 0.8287 - val_accuracy: 0.5919\n",
            "Epoch 15/150\n",
            "101/101 [==============================] - 10s 95ms/step - loss: 0.8910 - accuracy: 0.5594 - val_loss: 0.8250 - val_accuracy: 0.5331\n",
            "Epoch 16/150\n",
            "101/101 [==============================] - 10s 95ms/step - loss: 0.8663 - accuracy: 0.5860 - val_loss: 0.8205 - val_accuracy: 0.5441\n",
            "Epoch 17/150\n",
            "101/101 [==============================] - 10s 95ms/step - loss: 0.8500 - accuracy: 0.5848 - val_loss: 0.8131 - val_accuracy: 0.5699\n",
            "Epoch 18/150\n",
            "101/101 [==============================] - 10s 95ms/step - loss: 0.8636 - accuracy: 0.5866 - val_loss: 0.8230 - val_accuracy: 0.5184\n",
            "Epoch 19/150\n",
            "101/101 [==============================] - 10s 94ms/step - loss: 0.8596 - accuracy: 0.5761 - val_loss: 0.8178 - val_accuracy: 0.5993\n",
            "Epoch 20/150\n",
            "101/101 [==============================] - 10s 95ms/step - loss: 0.8534 - accuracy: 0.5984 - val_loss: 0.8163 - val_accuracy: 0.5441\n",
            "Epoch 21/150\n",
            "101/101 [==============================] - 10s 94ms/step - loss: 0.8316 - accuracy: 0.5922 - val_loss: 0.8014 - val_accuracy: 0.5735\n",
            "Epoch 22/150\n",
            "101/101 [==============================] - 10s 95ms/step - loss: 0.8164 - accuracy: 0.6052 - val_loss: 0.8312 - val_accuracy: 0.5956\n",
            "Epoch 23/150\n",
            "101/101 [==============================] - 10s 95ms/step - loss: 0.8377 - accuracy: 0.6089 - val_loss: 0.8025 - val_accuracy: 0.5257\n",
            "Epoch 24/150\n",
            "101/101 [==============================] - 10s 95ms/step - loss: 0.8124 - accuracy: 0.6176 - val_loss: 0.7882 - val_accuracy: 0.6176\n",
            "Epoch 25/150\n",
            "101/101 [==============================] - 10s 95ms/step - loss: 0.8222 - accuracy: 0.6052 - val_loss: 0.8027 - val_accuracy: 0.6029\n",
            "Epoch 26/150\n",
            "101/101 [==============================] - 10s 95ms/step - loss: 0.8063 - accuracy: 0.6200 - val_loss: 0.7728 - val_accuracy: 0.6066\n",
            "Epoch 27/150\n",
            "101/101 [==============================] - 10s 94ms/step - loss: 0.7942 - accuracy: 0.6337 - val_loss: 0.7785 - val_accuracy: 0.5956\n",
            "Epoch 28/150\n",
            "101/101 [==============================] - 10s 94ms/step - loss: 0.8038 - accuracy: 0.6293 - val_loss: 0.7661 - val_accuracy: 0.6507\n",
            "Epoch 29/150\n",
            "101/101 [==============================] - 10s 95ms/step - loss: 0.7899 - accuracy: 0.6380 - val_loss: 0.8069 - val_accuracy: 0.5625\n",
            "Epoch 30/150\n",
            "101/101 [==============================] - 10s 95ms/step - loss: 0.7707 - accuracy: 0.6343 - val_loss: 0.7639 - val_accuracy: 0.6140\n",
            "Epoch 31/150\n",
            "101/101 [==============================] - 10s 94ms/step - loss: 0.7950 - accuracy: 0.6244 - val_loss: 0.7923 - val_accuracy: 0.5588\n",
            "Epoch 32/150\n",
            "101/101 [==============================] - 10s 95ms/step - loss: 0.7644 - accuracy: 0.6368 - val_loss: 0.7605 - val_accuracy: 0.5882\n",
            "Epoch 33/150\n",
            "101/101 [==============================] - 10s 94ms/step - loss: 0.7611 - accuracy: 0.6436 - val_loss: 0.7766 - val_accuracy: 0.5441\n",
            "Epoch 34/150\n",
            "101/101 [==============================] - 10s 94ms/step - loss: 0.7853 - accuracy: 0.6250 - val_loss: 0.7326 - val_accuracy: 0.6691\n",
            "Epoch 35/150\n",
            "101/101 [==============================] - 10s 95ms/step - loss: 0.7651 - accuracy: 0.6312 - val_loss: 0.7422 - val_accuracy: 0.6765\n",
            "Epoch 36/150\n",
            "101/101 [==============================] - 10s 95ms/step - loss: 0.7426 - accuracy: 0.6578 - val_loss: 0.7885 - val_accuracy: 0.5772\n",
            "Epoch 37/150\n",
            "101/101 [==============================] - 10s 94ms/step - loss: 0.7365 - accuracy: 0.6590 - val_loss: 0.7329 - val_accuracy: 0.6397\n",
            "Epoch 38/150\n",
            "101/101 [==============================] - 10s 95ms/step - loss: 0.7444 - accuracy: 0.6516 - val_loss: 0.7637 - val_accuracy: 0.6213\n",
            "Epoch 39/150\n",
            "101/101 [==============================] - 10s 95ms/step - loss: 0.7315 - accuracy: 0.6714 - val_loss: 0.7385 - val_accuracy: 0.6654\n",
            "Epoch 40/150\n",
            "101/101 [==============================] - 10s 94ms/step - loss: 0.7213 - accuracy: 0.6708 - val_loss: 0.7469 - val_accuracy: 0.6434\n",
            "Epoch 41/150\n",
            "101/101 [==============================] - 10s 95ms/step - loss: 0.7339 - accuracy: 0.6553 - val_loss: 0.7812 - val_accuracy: 0.5699\n",
            "Epoch 42/150\n",
            "101/101 [==============================] - 10s 95ms/step - loss: 0.7079 - accuracy: 0.6900 - val_loss: 0.7342 - val_accuracy: 0.6360\n",
            "Epoch 43/150\n",
            "101/101 [==============================] - 10s 95ms/step - loss: 0.6968 - accuracy: 0.6974 - val_loss: 0.7603 - val_accuracy: 0.5956\n",
            "Epoch 44/150\n",
            "101/101 [==============================] - 10s 94ms/step - loss: 0.7165 - accuracy: 0.6819 - val_loss: 0.6966 - val_accuracy: 0.6801\n",
            "Epoch 45/150\n",
            "101/101 [==============================] - 10s 95ms/step - loss: 0.6743 - accuracy: 0.6986 - val_loss: 0.6986 - val_accuracy: 0.6801\n",
            "Epoch 46/150\n",
            "101/101 [==============================] - 9s 94ms/step - loss: 0.6784 - accuracy: 0.6943 - val_loss: 0.6886 - val_accuracy: 0.6838\n",
            "Epoch 47/150\n",
            "101/101 [==============================] - 10s 94ms/step - loss: 0.6817 - accuracy: 0.6906 - val_loss: 0.7217 - val_accuracy: 0.6618\n",
            "Epoch 48/150\n",
            "101/101 [==============================] - 10s 95ms/step - loss: 0.6717 - accuracy: 0.6918 - val_loss: 0.7130 - val_accuracy: 0.6654\n",
            "Epoch 49/150\n",
            "101/101 [==============================] - 10s 94ms/step - loss: 0.6524 - accuracy: 0.7048 - val_loss: 0.6699 - val_accuracy: 0.7022\n",
            "Epoch 50/150\n",
            "101/101 [==============================] - 10s 94ms/step - loss: 0.6678 - accuracy: 0.7160 - val_loss: 0.7132 - val_accuracy: 0.6324\n",
            "Epoch 51/150\n",
            "101/101 [==============================] - 10s 94ms/step - loss: 0.6531 - accuracy: 0.7191 - val_loss: 0.6579 - val_accuracy: 0.6838\n",
            "Epoch 52/150\n",
            "101/101 [==============================] - 10s 95ms/step - loss: 0.6282 - accuracy: 0.7191 - val_loss: 0.6695 - val_accuracy: 0.6728\n",
            "Epoch 53/150\n",
            "101/101 [==============================] - 10s 95ms/step - loss: 0.6601 - accuracy: 0.7005 - val_loss: 0.6598 - val_accuracy: 0.7022\n",
            "Epoch 54/150\n",
            "101/101 [==============================] - 10s 94ms/step - loss: 0.6669 - accuracy: 0.7048 - val_loss: 0.6719 - val_accuracy: 0.6801\n",
            "Epoch 55/150\n",
            "101/101 [==============================] - 10s 95ms/step - loss: 0.6032 - accuracy: 0.7420 - val_loss: 0.6551 - val_accuracy: 0.6912\n",
            "Epoch 56/150\n",
            "101/101 [==============================] - 10s 95ms/step - loss: 0.6294 - accuracy: 0.7259 - val_loss: 0.6417 - val_accuracy: 0.7096\n",
            "Epoch 57/150\n",
            "101/101 [==============================] - 10s 95ms/step - loss: 0.6093 - accuracy: 0.7296 - val_loss: 0.6307 - val_accuracy: 0.6949\n",
            "Epoch 58/150\n",
            "101/101 [==============================] - 10s 95ms/step - loss: 0.6201 - accuracy: 0.7327 - val_loss: 0.6178 - val_accuracy: 0.7206\n",
            "Epoch 59/150\n",
            "101/101 [==============================] - 10s 95ms/step - loss: 0.6072 - accuracy: 0.7376 - val_loss: 0.6258 - val_accuracy: 0.7022\n",
            "Epoch 60/150\n",
            "101/101 [==============================] - 10s 94ms/step - loss: 0.5830 - accuracy: 0.7407 - val_loss: 0.6260 - val_accuracy: 0.7059\n",
            "Epoch 61/150\n",
            "101/101 [==============================] - 10s 95ms/step - loss: 0.6188 - accuracy: 0.7215 - val_loss: 0.5945 - val_accuracy: 0.7353\n",
            "Epoch 62/150\n",
            "101/101 [==============================] - 10s 95ms/step - loss: 0.5967 - accuracy: 0.7438 - val_loss: 0.6336 - val_accuracy: 0.7096\n",
            "Epoch 63/150\n",
            "101/101 [==============================] - 10s 95ms/step - loss: 0.5946 - accuracy: 0.7290 - val_loss: 0.6847 - val_accuracy: 0.6544\n",
            "Epoch 64/150\n",
            "101/101 [==============================] - 10s 95ms/step - loss: 0.5895 - accuracy: 0.7407 - val_loss: 0.6222 - val_accuracy: 0.7206\n",
            "Epoch 65/150\n",
            "101/101 [==============================] - 10s 95ms/step - loss: 0.6086 - accuracy: 0.7407 - val_loss: 0.6142 - val_accuracy: 0.7096\n",
            "Epoch 66/150\n",
            "101/101 [==============================] - 10s 95ms/step - loss: 0.5720 - accuracy: 0.7469 - val_loss: 0.6622 - val_accuracy: 0.6949\n",
            "Epoch 67/150\n",
            "101/101 [==============================] - 10s 94ms/step - loss: 0.5627 - accuracy: 0.7432 - val_loss: 0.6379 - val_accuracy: 0.6801\n",
            "Epoch 68/150\n",
            "101/101 [==============================] - 10s 95ms/step - loss: 0.5710 - accuracy: 0.7506 - val_loss: 0.5959 - val_accuracy: 0.7243\n",
            "Epoch 69/150\n",
            "101/101 [==============================] - 10s 95ms/step - loss: 0.5607 - accuracy: 0.7704 - val_loss: 0.6309 - val_accuracy: 0.6691\n",
            "Epoch 70/150\n",
            "101/101 [==============================] - 10s 95ms/step - loss: 0.5291 - accuracy: 0.7704 - val_loss: 0.6061 - val_accuracy: 0.7059\n",
            "Epoch 71/150\n",
            "101/101 [==============================] - 10s 95ms/step - loss: 0.5751 - accuracy: 0.7655 - val_loss: 0.5888 - val_accuracy: 0.7463\n",
            "Epoch 72/150\n",
            "101/101 [==============================] - 10s 95ms/step - loss: 0.5569 - accuracy: 0.7611 - val_loss: 0.5922 - val_accuracy: 0.7390\n",
            "Epoch 73/150\n",
            "101/101 [==============================] - 10s 94ms/step - loss: 0.5527 - accuracy: 0.7667 - val_loss: 0.6014 - val_accuracy: 0.7206\n",
            "Epoch 74/150\n",
            "101/101 [==============================] - 10s 95ms/step - loss: 0.5638 - accuracy: 0.7494 - val_loss: 0.5876 - val_accuracy: 0.7390\n",
            "Epoch 75/150\n",
            "101/101 [==============================] - 10s 95ms/step - loss: 0.5452 - accuracy: 0.7593 - val_loss: 0.6889 - val_accuracy: 0.6287\n",
            "Epoch 76/150\n",
            "101/101 [==============================] - 10s 95ms/step - loss: 0.5335 - accuracy: 0.7729 - val_loss: 0.5782 - val_accuracy: 0.7390\n",
            "Epoch 77/150\n",
            "101/101 [==============================] - 10s 95ms/step - loss: 0.5514 - accuracy: 0.7698 - val_loss: 0.5815 - val_accuracy: 0.7537\n",
            "Epoch 78/150\n",
            "101/101 [==============================] - 10s 94ms/step - loss: 0.5583 - accuracy: 0.7704 - val_loss: 0.5583 - val_accuracy: 0.7353\n",
            "Epoch 79/150\n",
            "101/101 [==============================] - 10s 95ms/step - loss: 0.5505 - accuracy: 0.7556 - val_loss: 0.5738 - val_accuracy: 0.7279\n",
            "Epoch 80/150\n",
            "101/101 [==============================] - 10s 95ms/step - loss: 0.5605 - accuracy: 0.7574 - val_loss: 0.5960 - val_accuracy: 0.7022\n",
            "Epoch 81/150\n",
            "101/101 [==============================] - 10s 95ms/step - loss: 0.5223 - accuracy: 0.7748 - val_loss: 0.5815 - val_accuracy: 0.7206\n",
            "Epoch 82/150\n",
            "101/101 [==============================] - 10s 95ms/step - loss: 0.5353 - accuracy: 0.7667 - val_loss: 0.5730 - val_accuracy: 0.7206\n",
            "Epoch 83/150\n",
            "101/101 [==============================] - 10s 95ms/step - loss: 0.5160 - accuracy: 0.7766 - val_loss: 0.5859 - val_accuracy: 0.7610\n",
            "Epoch 84/150\n",
            "101/101 [==============================] - 10s 94ms/step - loss: 0.5223 - accuracy: 0.7618 - val_loss: 0.6645 - val_accuracy: 0.6544\n",
            "Epoch 85/150\n",
            "101/101 [==============================] - 10s 95ms/step - loss: 0.5412 - accuracy: 0.7772 - val_loss: 0.7233 - val_accuracy: 0.5956\n",
            "Epoch 86/150\n",
            "101/101 [==============================] - 10s 95ms/step - loss: 0.5314 - accuracy: 0.7704 - val_loss: 0.5612 - val_accuracy: 0.7463\n",
            "Epoch 87/150\n",
            "101/101 [==============================] - 10s 94ms/step - loss: 0.5198 - accuracy: 0.7877 - val_loss: 0.6029 - val_accuracy: 0.7169\n",
            "Epoch 88/150\n",
            "101/101 [==============================] - 10s 95ms/step - loss: 0.5356 - accuracy: 0.7649 - val_loss: 0.6028 - val_accuracy: 0.7390\n",
            "Epoch 89/150\n",
            "101/101 [==============================] - 10s 95ms/step - loss: 0.5118 - accuracy: 0.7828 - val_loss: 0.5824 - val_accuracy: 0.7279\n",
            "Epoch 90/150\n",
            "101/101 [==============================] - 10s 95ms/step - loss: 0.5025 - accuracy: 0.7735 - val_loss: 0.5888 - val_accuracy: 0.7206\n",
            "Epoch 91/150\n",
            "101/101 [==============================] - 10s 95ms/step - loss: 0.5189 - accuracy: 0.7809 - val_loss: 0.5832 - val_accuracy: 0.7169\n",
            "Epoch 92/150\n",
            "101/101 [==============================] - 10s 94ms/step - loss: 0.5273 - accuracy: 0.7735 - val_loss: 0.6357 - val_accuracy: 0.6765\n",
            "Epoch 93/150\n",
            "101/101 [==============================] - 10s 95ms/step - loss: 0.5178 - accuracy: 0.7847 - val_loss: 0.5615 - val_accuracy: 0.7316\n",
            "Epoch 94/150\n",
            "101/101 [==============================] - 10s 94ms/step - loss: 0.5084 - accuracy: 0.7871 - val_loss: 0.5509 - val_accuracy: 0.7316\n",
            "Epoch 95/150\n",
            "101/101 [==============================] - 10s 95ms/step - loss: 0.5016 - accuracy: 0.7933 - val_loss: 0.5424 - val_accuracy: 0.7426\n",
            "Epoch 96/150\n",
            "101/101 [==============================] - 9s 94ms/step - loss: 0.5015 - accuracy: 0.7840 - val_loss: 0.5776 - val_accuracy: 0.7353\n",
            "Epoch 97/150\n",
            "101/101 [==============================] - 10s 95ms/step - loss: 0.5059 - accuracy: 0.7877 - val_loss: 0.5726 - val_accuracy: 0.7390\n",
            "Epoch 98/150\n",
            "101/101 [==============================] - 10s 95ms/step - loss: 0.4899 - accuracy: 0.8001 - val_loss: 0.6653 - val_accuracy: 0.6471\n",
            "Epoch 99/150\n",
            "101/101 [==============================] - 10s 95ms/step - loss: 0.5104 - accuracy: 0.7673 - val_loss: 0.6935 - val_accuracy: 0.6618\n",
            "Epoch 100/150\n",
            "101/101 [==============================] - 10s 95ms/step - loss: 0.4847 - accuracy: 0.7915 - val_loss: 0.5744 - val_accuracy: 0.7426\n",
            "Epoch 101/150\n",
            "101/101 [==============================] - 9s 94ms/step - loss: 0.4956 - accuracy: 0.7976 - val_loss: 0.5557 - val_accuracy: 0.7500\n",
            "Epoch 102/150\n",
            "101/101 [==============================] - 10s 95ms/step - loss: 0.5073 - accuracy: 0.7853 - val_loss: 0.5794 - val_accuracy: 0.7132\n",
            "Epoch 103/150\n",
            "101/101 [==============================] - 10s 95ms/step - loss: 0.4847 - accuracy: 0.8001 - val_loss: 0.5761 - val_accuracy: 0.7169\n",
            "Epoch 104/150\n",
            "101/101 [==============================] - 10s 95ms/step - loss: 0.4827 - accuracy: 0.7976 - val_loss: 0.5656 - val_accuracy: 0.7390\n",
            "Epoch 105/150\n",
            "101/101 [==============================] - 10s 95ms/step - loss: 0.5173 - accuracy: 0.7840 - val_loss: 0.5552 - val_accuracy: 0.7390\n",
            "Epoch 106/150\n",
            "101/101 [==============================] - 10s 95ms/step - loss: 0.4934 - accuracy: 0.8014 - val_loss: 0.5807 - val_accuracy: 0.7390\n",
            "Epoch 107/150\n",
            "101/101 [==============================] - 10s 95ms/step - loss: 0.4812 - accuracy: 0.8014 - val_loss: 0.6395 - val_accuracy: 0.6728\n",
            "Epoch 108/150\n",
            "101/101 [==============================] - 10s 95ms/step - loss: 0.4770 - accuracy: 0.7946 - val_loss: 0.5784 - val_accuracy: 0.7390\n",
            "Epoch 109/150\n",
            "101/101 [==============================] - 10s 95ms/step - loss: 0.4823 - accuracy: 0.8007 - val_loss: 0.5654 - val_accuracy: 0.7353\n",
            "Epoch 110/150\n",
            "101/101 [==============================] - 10s 95ms/step - loss: 0.4700 - accuracy: 0.8014 - val_loss: 0.5938 - val_accuracy: 0.7169\n",
            "Epoch 111/150\n",
            "101/101 [==============================] - 10s 95ms/step - loss: 0.4602 - accuracy: 0.8156 - val_loss: 0.5824 - val_accuracy: 0.7169\n",
            "Epoch 112/150\n",
            "101/101 [==============================] - 10s 95ms/step - loss: 0.4647 - accuracy: 0.8051 - val_loss: 0.5818 - val_accuracy: 0.7096\n",
            "Epoch 113/150\n",
            "101/101 [==============================] - 10s 95ms/step - loss: 0.4715 - accuracy: 0.8100 - val_loss: 0.5760 - val_accuracy: 0.7794\n",
            "Epoch 114/150\n",
            "101/101 [==============================] - 10s 95ms/step - loss: 0.4713 - accuracy: 0.7983 - val_loss: 0.5720 - val_accuracy: 0.7426\n",
            "Epoch 115/150\n",
            "101/101 [==============================] - 10s 95ms/step - loss: 0.4469 - accuracy: 0.8051 - val_loss: 0.7495 - val_accuracy: 0.6471\n",
            "Epoch 116/150\n",
            "101/101 [==============================] - 9s 94ms/step - loss: 0.4623 - accuracy: 0.8088 - val_loss: 0.5879 - val_accuracy: 0.7316\n",
            "Epoch 117/150\n",
            "101/101 [==============================] - 10s 95ms/step - loss: 0.4675 - accuracy: 0.8069 - val_loss: 0.6582 - val_accuracy: 0.6618\n",
            "Epoch 118/150\n",
            "101/101 [==============================] - 10s 95ms/step - loss: 0.4500 - accuracy: 0.8119 - val_loss: 0.6220 - val_accuracy: 0.7206\n",
            "Epoch 119/150\n",
            "101/101 [==============================] - 10s 95ms/step - loss: 0.4512 - accuracy: 0.8168 - val_loss: 0.5689 - val_accuracy: 0.7243\n",
            "Epoch 120/150\n",
            "101/101 [==============================] - 10s 95ms/step - loss: 0.4601 - accuracy: 0.8051 - val_loss: 0.6116 - val_accuracy: 0.7022\n",
            "Epoch 121/150\n",
            "101/101 [==============================] - 10s 95ms/step - loss: 0.4385 - accuracy: 0.8007 - val_loss: 0.5600 - val_accuracy: 0.7353\n",
            "Epoch 122/150\n",
            "101/101 [==============================] - 10s 94ms/step - loss: 0.4672 - accuracy: 0.8069 - val_loss: 0.5699 - val_accuracy: 0.7390\n",
            "Epoch 123/150\n",
            "101/101 [==============================] - 10s 95ms/step - loss: 0.4552 - accuracy: 0.8187 - val_loss: 0.5899 - val_accuracy: 0.7059\n",
            "Epoch 124/150\n",
            "101/101 [==============================] - 10s 94ms/step - loss: 0.4684 - accuracy: 0.8014 - val_loss: 0.5489 - val_accuracy: 0.7610\n",
            "Epoch 125/150\n",
            "101/101 [==============================] - 9s 94ms/step - loss: 0.4635 - accuracy: 0.8069 - val_loss: 0.5733 - val_accuracy: 0.7353\n",
            "Epoch 126/150\n",
            "101/101 [==============================] - 10s 95ms/step - loss: 0.4655 - accuracy: 0.8069 - val_loss: 0.5689 - val_accuracy: 0.7426\n",
            "Epoch 127/150\n",
            "101/101 [==============================] - 10s 95ms/step - loss: 0.4570 - accuracy: 0.8094 - val_loss: 0.5436 - val_accuracy: 0.7500\n",
            "Epoch 128/150\n",
            "101/101 [==============================] - 10s 95ms/step - loss: 0.4459 - accuracy: 0.8144 - val_loss: 0.6445 - val_accuracy: 0.7022\n",
            "Epoch 129/150\n",
            "101/101 [==============================] - 10s 95ms/step - loss: 0.4639 - accuracy: 0.8075 - val_loss: 0.5748 - val_accuracy: 0.7426\n",
            "Epoch 130/150\n",
            "101/101 [==============================] - 10s 95ms/step - loss: 0.4588 - accuracy: 0.8069 - val_loss: 0.5464 - val_accuracy: 0.7647\n",
            "Epoch 131/150\n",
            "101/101 [==============================] - 10s 94ms/step - loss: 0.4397 - accuracy: 0.8255 - val_loss: 0.5926 - val_accuracy: 0.6985\n",
            "Epoch 132/150\n",
            "101/101 [==============================] - 10s 95ms/step - loss: 0.4572 - accuracy: 0.8094 - val_loss: 0.6600 - val_accuracy: 0.7169\n",
            "Epoch 133/150\n",
            "101/101 [==============================] - 10s 95ms/step - loss: 0.4419 - accuracy: 0.8168 - val_loss: 0.5533 - val_accuracy: 0.7316\n",
            "Epoch 134/150\n",
            "101/101 [==============================] - 10s 95ms/step - loss: 0.4457 - accuracy: 0.8113 - val_loss: 0.5414 - val_accuracy: 0.7390\n",
            "Epoch 135/150\n",
            "101/101 [==============================] - 10s 94ms/step - loss: 0.4429 - accuracy: 0.8106 - val_loss: 0.6225 - val_accuracy: 0.6985\n",
            "Epoch 136/150\n",
            "101/101 [==============================] - 10s 95ms/step - loss: 0.4529 - accuracy: 0.8057 - val_loss: 0.5783 - val_accuracy: 0.7390\n",
            "Epoch 137/150\n",
            "101/101 [==============================] - 10s 95ms/step - loss: 0.4411 - accuracy: 0.8212 - val_loss: 0.5484 - val_accuracy: 0.7610\n",
            "Epoch 138/150\n",
            "101/101 [==============================] - 10s 95ms/step - loss: 0.4290 - accuracy: 0.8255 - val_loss: 0.6075 - val_accuracy: 0.7279\n",
            "Epoch 139/150\n",
            "101/101 [==============================] - 10s 95ms/step - loss: 0.4495 - accuracy: 0.8113 - val_loss: 0.5987 - val_accuracy: 0.7463\n",
            "Epoch 140/150\n",
            "101/101 [==============================] - 10s 95ms/step - loss: 0.4451 - accuracy: 0.8150 - val_loss: 0.5584 - val_accuracy: 0.7647\n",
            "Epoch 141/150\n",
            "101/101 [==============================] - 10s 95ms/step - loss: 0.4613 - accuracy: 0.8069 - val_loss: 0.5722 - val_accuracy: 0.7757\n",
            "Epoch 142/150\n",
            "101/101 [==============================] - 10s 95ms/step - loss: 0.4585 - accuracy: 0.8100 - val_loss: 0.5874 - val_accuracy: 0.7390\n",
            "Epoch 143/150\n",
            "101/101 [==============================] - 10s 95ms/step - loss: 0.4360 - accuracy: 0.8175 - val_loss: 0.6222 - val_accuracy: 0.7169\n",
            "Epoch 144/150\n",
            "101/101 [==============================] - 10s 95ms/step - loss: 0.4653 - accuracy: 0.8014 - val_loss: 0.5999 - val_accuracy: 0.7279\n",
            "Epoch 145/150\n",
            "101/101 [==============================] - 10s 95ms/step - loss: 0.4242 - accuracy: 0.8267 - val_loss: 0.6309 - val_accuracy: 0.7169\n",
            "Epoch 146/150\n",
            "101/101 [==============================] - 10s 95ms/step - loss: 0.4585 - accuracy: 0.8113 - val_loss: 0.6175 - val_accuracy: 0.7243\n",
            "Epoch 147/150\n",
            "101/101 [==============================] - 10s 94ms/step - loss: 0.4496 - accuracy: 0.8144 - val_loss: 0.5731 - val_accuracy: 0.7500\n",
            "Epoch 148/150\n",
            "101/101 [==============================] - 10s 95ms/step - loss: 0.4400 - accuracy: 0.8212 - val_loss: 0.5848 - val_accuracy: 0.7390\n",
            "Epoch 149/150\n",
            "101/101 [==============================] - 10s 95ms/step - loss: 0.4434 - accuracy: 0.8113 - val_loss: 0.6112 - val_accuracy: 0.7316\n",
            "Epoch 150/150\n",
            "101/101 [==============================] - 10s 94ms/step - loss: 0.4271 - accuracy: 0.8329 - val_loss: 0.5803 - val_accuracy: 0.7206\n"
          ]
        }
      ],
      "source": [
        "# Create an Instance of Early Stopping Callback\n",
        "early_stopping_callback = keras.callbacks.EarlyStopping(monitor = 'val_loss',\n",
        "                                                        patience = 20,\n",
        "                                                        mode = 'min',\n",
        "                                                        restore_best_weights = True)\n",
        "# Compile the model and specify loss function, optimizer and metrics values to the model\n",
        "model.compile(loss = 'categorical_crossentropy',\n",
        "              optimizer= keras.optimizers.Adam(0.001, decay=1e-4),\n",
        "              metrics=['accuracy'])\n",
        "# Start training the model.\n",
        "cnn_3d_model_training_history = model.fit(x = features_train,\n",
        "                                          y = labels_train,\n",
        "                                          epochs=150,\n",
        "                                          batch_size=16,\n",
        "                                          shuffle = True,\n",
        "                                          validation_data = (features_valid, labels_valid)),\n",
        "                                          # callbacks = [early_stopping_callback])"
      ]
    },
    {
      "cell_type": "code",
      "execution_count": 13,
      "metadata": {
        "colab": {
          "base_uri": "https://localhost:8080/"
        },
        "id": "3vimsgjjbXvL",
        "outputId": "00d27323-8243-43ae-e95f-ce52eb193695"
      },
      "outputs": [
        {
          "output_type": "stream",
          "name": "stdout",
          "text": [
            "9/9 [==============================] - 1s 66ms/step - loss: 0.8386 - accuracy: 0.6581\n",
            "\n",
            "\n",
            "Train accuracy: 86.819 % || Test accuracy: 65.809 % || Val accuracy: 72.059 %\n",
            "Train loss: 0.352 || Test loss: 0.839 || Val loss: 0.580\n"
          ]
        }
      ],
      "source": [
        "model_evaluation_history = model.evaluate(features_test, labels_test)\n",
        "print('\\n')\n",
        "train_loss, train_acc = model.evaluate(features_train, labels_train, verbose=0)\n",
        "test_loss, test_acc = model.evaluate(features_test, labels_test, verbose=0)\n",
        "val_loss, val_acc = model.evaluate(features_valid, labels_valid, verbose=0)\n",
        "print(f'Train accuracy: {train_acc*100:.3f} % || Test accuracy: {test_acc*100:.3f} % || Val accuracy: {val_acc*100:.3f} %')\n",
        "print(f'Train loss: {train_loss:.3f} || Test loss: {test_loss:.3f} || Val loss: {val_loss:.3f}')"
      ]
    },
    {
      "cell_type": "code",
      "execution_count": 14,
      "metadata": {
        "id": "ivmaK9BlbnRQ"
      },
      "outputs": [],
      "source": [
        "# Get the loss and accuracy from model_evaluation_history.\n",
        "model_evaluation_loss, model_evaluation_accuracy = model_evaluation_history\n",
        " \n",
        "# Define the string date format.\n",
        "# Get the current Date and Time in a DateTime Object.\n",
        "# Convert the DateTime object to string according to the style mentioned in date_time_format string.\n",
        "date_time_format = '%Y_%m_%d__%H_%M_%S'\n",
        "current_date_time_dt = dt.datetime.now()\n",
        "current_date_time_string = dt.datetime.strftime(current_date_time_dt, date_time_format)\n",
        " \n",
        "# Define a useful name for our model to make it easy for us while navigating through multiple saved models.\n",
        "model_file_name = f'3D_CNN_model___Date_Time_{current_date_time_string}___Loss_{model_evaluation_loss}___Accuracy_{model_evaluation_accuracy}.h5'\n",
        "# Change dir\n",
        "gdrive_path = '/content/gdrive' + '/My Drive/247/Saved_models/'\n",
        "os.chdir(gdrive_path)\n",
        "# Create a floder for the model files\n",
        "!mkdir -p cnn_3d_{current_date_time_string}\n",
        "# Save your Model.\n",
        "model.save('3D_CNN_' + str(current_date_time_string) + '/' + model_file_name)\n",
        "# Save model weights\n",
        "model.save_weights('3D_CNN_' + str(current_date_time_string) + '/' + 'weights')"
      ]
    },
    {
      "cell_type": "code",
      "execution_count": 15,
      "metadata": {
        "id": "OwU8TwPrbsKB"
      },
      "outputs": [],
      "source": [
        "def plot_metric(model_training_history, metric_name_1, metric_name_2, plot_name):\n",
        "    '''\n",
        "    This function will plot the metrics passed to it in a graph.\n",
        "    Args:\n",
        "        model_training_history: A history object containing a record of training and validation \n",
        "                                loss values and metrics values at successive epochs\n",
        "        metric_name_1:          The name of the first metric that needs to be plotted in the graph.\n",
        "        metric_name_2:          The name of the second metric that needs to be plotted in the graph.\n",
        "        plot_name:              The title of the graph.\n",
        "    '''\n",
        "    \n",
        "    # Get metric values using metric names as identifiers.\n",
        "    metric_value_1 = model_training_history[0].history[metric_name_1]\n",
        "    metric_value_2 = model_training_history[0].history[metric_name_2]\n",
        "    \n",
        "    # Construct a range object which will be used as x-axis (horizontal plane) of the graph.\n",
        "    epochs = range(len(metric_value_1))\n",
        "\n",
        "    # Plot the Graph.\n",
        "    plt.plot(epochs, metric_value_1, 'blue', label = metric_name_1)\n",
        "    plt.plot(epochs, metric_value_2, 'red', label = metric_name_2)\n",
        "\n",
        "    # Add title to the plot.\n",
        "    plt.title(str(plot_name))\n",
        "\n",
        "    # Add legend to the plot.\n",
        "    plt.legend()"
      ]
    },
    {
      "cell_type": "code",
      "execution_count": 16,
      "metadata": {
        "colab": {
          "base_uri": "https://localhost:8080/",
          "height": 281
        },
        "id": "cvKY05ncbwof",
        "outputId": "f0ba5174-156b-4f52-ec40-d8d4002d741a"
      },
      "outputs": [
        {
          "output_type": "display_data",
          "data": {
            "text/plain": [
              "<Figure size 432x288 with 1 Axes>"
            ],
            "image/png": "[encoded data removed]"
          },
          "metadata": {
            "needs_background": "light"
          }
        }
      ],
      "source": [
        "plot_metric(cnn_3d_model_training_history, 'loss', 'val_loss', 'Total Loss vs Total Validation Loss')"
      ]
    },
    {
      "cell_type": "code",
      "execution_count": 17,
      "metadata": {
        "colab": {
          "base_uri": "https://localhost:8080/",
          "height": 281
        },
        "id": "o1iaaDHBb5i0",
        "outputId": "4c12c8ac-5fa8-403f-b38a-f7f620fa95ba"
      },
      "outputs": [
        {
          "output_type": "display_data",
          "data": {
            "text/plain": [
              "<Figure size 432x288 with 1 Axes>"
            ],
            "image/png": "[encoded data removed]"
          },
          "metadata": {
            "needs_background": "light"
          }
        }
      ],
      "source": [
        "plot_metric(cnn_3d_model_training_history, 'accuracy', 'val_accuracy', 'Total Accuracy vs Total Validation Accuracy') "
      ]
    }
  ],
  "metadata": {
    "accelerator": "GPU",
    "colab": {
      "collapsed_sections": [],
      "machine_shape": "hm",
      "name": "3D_CNN.ipynb",
      "provenance": [],
      "authorship_tag": "ABX9TyP0+lDqLk78ZiXtA1Ei1oaU",
      "include_colab_link": true
    },
    "kernelspec": {
      "display_name": "Python 3",
      "name": "python3"
    },
    "language_info": {
      "name": "python"
    }
  },
  "nbformat": 4,
  "nbformat_minor": 0
}