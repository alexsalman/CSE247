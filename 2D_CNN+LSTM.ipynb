{
  "cells": [
    {
      "cell_type": "markdown",
      "metadata": {
        "id": "view-in-github",
        "colab_type": "text"
      },
      "source": [
        "<a href=\"https://colab.research.google.com/github/alexsalman/CSE247/blob/main/2D_CNN%2BLSTM.ipynb\" target=\"_parent\"><img src=\"https://colab.research.google.com/assets/colab-badge.svg\" alt=\"Open In Colab\"/></a>"
      ]
    },
    {
      "cell_type": "markdown",
      "metadata": {
        "id": "Fk8TLrPiv-ab"
      },
      "source": [
        "####**Convolutional Neural Network + Long Short Term Memory**\n",
        "######*I am using a Convolution Neural Network (CNN) + Long Short Term Memory (LSTM) Network to extract general representation while utilizing the Spatial-temporal aspect of the videos.*"
      ]
    },
    {
      "cell_type": "code",
      "execution_count": 1,
      "metadata": {
        "id": "M8ibtd5HKtZk",
        "colab": {
          "base_uri": "https://localhost:8080/"
        },
        "outputId": "387e8079-1f6b-499b-fb34-0d8eced81b58"
      },
      "outputs": [
        {
          "output_type": "stream",
          "name": "stdout",
          "text": [
            "2.8.0\n"
          ]
        }
      ],
      "source": [
        "# required libraries\n",
        "import os\n",
        "import cv2\n",
        "import random\n",
        "import numpy as np\n",
        "import datetime as dt\n",
        "import matplotlib.pyplot as plt\n",
        "from google.colab import drive\n",
        "from sklearn.model_selection import train_test_split\n",
        "import tensorflow as tf\n",
        "from tensorflow import keras\n",
        "from keras.models import Sequential\n",
        "from keras.layers import Conv2D, Flatten, Dense, Dropout, Activation, BatchNormalization\n",
        "from keras.layers import TimeDistributed, MaxPooling2D, GlobalAveragePooling2D\n",
        "from keras.layers.recurrent import LSTM\n",
        "from keras import regularizers\n",
        "%matplotlib inline\n",
        "print(tf.version.VERSION)"
      ]
    },
    {
      "cell_type": "code",
      "execution_count": 2,
      "metadata": {
        "id": "iffdFOf1CEAN"
      },
      "outputs": [],
      "source": [
        "# set Numpy, Python, and Tensorflow seeds to get consistent results on every execution\n",
        "seed_constant = 27\n",
        "np.random.seed(seed_constant)\n",
        "random.seed(seed_constant)\n",
        "tf.random.set_seed(seed_constant)"
      ]
    },
    {
      "cell_type": "code",
      "execution_count": 3,
      "metadata": {
        "colab": {
          "base_uri": "https://localhost:8080/",
          "height": 53
        },
        "id": "mcLh22LiOHyn",
        "outputId": "cb71c858-cf56-4ff4-e281-d8ccf4371adc"
      },
      "outputs": [
        {
          "output_type": "stream",
          "name": "stdout",
          "text": [
            "Mounted at /content/gdrive/\n"
          ]
        },
        {
          "output_type": "execute_result",
          "data": {
            "text/plain": [
              "'/content/gdrive/My Drive/247'"
            ],
            "application/vnd.google.colaboratory.intrinsic+json": {
              "type": "string"
            }
          },
          "metadata": {},
          "execution_count": 3
        }
      ],
      "source": [
        "# mount dataset from google drive\n",
        "drive.mount('/content/gdrive/', force_remount=True)\n",
        "gdrive_path = '/content/gdrive' + '/My Drive/247/'\n",
        "os.chdir(gdrive_path)\n",
        "os.getcwd()"
      ]
    },
    {
      "cell_type": "code",
      "execution_count": 4,
      "metadata": {
        "id": "oeDK8SzumZ1Q"
      },
      "outputs": [],
      "source": [
        "# frame dimention\n",
        "IMAGE_HEIGHT, IMAGE_WIDTH = 128, 128\n",
        "# frame number for each video (depth)\n",
        "SEQUENCE_LENGTH = 16\n",
        "# video dir path\n",
        "DATASET_DIR = gdrive_path + 'Cropped_videos'\n",
        "# labels of classes\n",
        "CLASSES_LIST = ['hemostasis', 'inflammatory', 'proliferative', 'maturation']"
      ]
    },
    {
      "cell_type": "code",
      "execution_count": 5,
      "metadata": {
        "id": "3mFB5qD6b3Kd"
      },
      "outputs": [],
      "source": [
        "# image cropping\n",
        "def crop_center_square(frame):\n",
        "    y, x = frame.shape[0:2]\n",
        "    min_dim = min(y, x)\n",
        "    start_x = (x // 2) - (min_dim // 2)\n",
        "    start_y = (y // 2) - (min_dim // 2)\n",
        "    return frame[start_y:start_y+min_dim,start_x:start_x+min_dim]"
      ]
    },
    {
      "cell_type": "code",
      "execution_count": 6,
      "metadata": {
        "id": "sqeexMUjaLzJ"
      },
      "outputs": [],
      "source": [
        "def load_video(path, resize=(128, 128)):\n",
        "    video_reader = cv2.VideoCapture(path)\n",
        "    frames = []\n",
        "    try:\n",
        "        while True:\n",
        "            ret, frame = video_reader.read()\n",
        "            if not ret:\n",
        "                  break\n",
        "            frame = crop_center_square(frame)\n",
        "            frame = cv2.resize(frame, resize)\n",
        "            frame = frame[:, :, [2, 1, 0]]\n",
        "            frames.append(frame)\n",
        "    finally:\n",
        "        video_reader.release()\n",
        "    return np.array(frames) / 255.0"
      ]
    },
    {
      "cell_type": "code",
      "execution_count": 7,
      "metadata": {
        "id": "ljUWHW6Jqzu-"
      },
      "outputs": [],
      "source": [
        "def create_dataset(state):\n",
        "    # Declared Empty Lists to store the features, labels and video file path values.\n",
        "    features = []\n",
        "    labels = []\n",
        "    video_files_paths = []\n",
        "    # Iterating through all the classes mentioned in the classes list\n",
        "    for class_index, class_name in enumerate(CLASSES_LIST):\n",
        "        # Display the name of the class whose data is being extracted.\n",
        "        print(f'Extracting Data of Class: {class_name} {state}')\n",
        "        # Get the list of video files present in the specific class name directory.\n",
        "        files_list = os.listdir(os.path.join(DATASET_DIR, class_name))\n",
        "        # Iterate through all the files present in the files list.\n",
        "        for file_name in files_list:\n",
        "            # Get the complete video path.\n",
        "            video_file_path = os.path.join(DATASET_DIR, class_name, file_name)\n",
        "            # create testing data\n",
        "            if state == 'test':\n",
        "                # get the mouse number\n",
        "                mouse_number = int(video_file_path.split(' ')[2].split('_')[1].split('-')[1])\n",
        "                # get the mouse side (L or R)\n",
        "                mouse_side = video_file_path.split(' ')[2].split('_')[1].split('-')[2]\n",
        "                if mouse_number == 4 and mouse_side == 'L':\n",
        "                    frames = load_video(video_file_path)\n",
        "                    features.append(frames)\n",
        "                    labels.append(class_index)\n",
        "                    video_files_paths.append(video_file_path)\n",
        "            # create validation data\n",
        "            elif state == 'valid':\n",
        "                # get the mouse number\n",
        "                mouse_number = int(video_file_path.split(' ')[2].split('_')[1].split('-')[1])\n",
        "                # get the mouse side (L or R)\n",
        "                mouse_side = video_file_path.split(' ')[2].split('_')[1].split('-')[2]\n",
        "                if mouse_number == 4 and mouse_side == 'R':\n",
        "                    frames = load_video(video_file_path)\n",
        "                    features.append(frames)\n",
        "                    labels.append(class_index)\n",
        "                    video_files_paths.append(video_file_path)\n",
        "            # create training data\n",
        "            else:\n",
        "                # get the mouse number\n",
        "                mouse_number = int(video_file_path.split(' ')[2].split('_')[1].split('-')[1])\n",
        "                if mouse_number != 4:\n",
        "                    frames = load_video(video_file_path)\n",
        "                    features.append(frames)\n",
        "                    labels.append(class_index)\n",
        "                    video_files_paths.append(video_file_path)\n",
        "    # Converting the list to numpy arrays\n",
        "    features = np.asarray(features)\n",
        "    # print(features)\n",
        "    labels = np.array(labels)\n",
        "    # Return the frames, class index, and video file path.\n",
        "    return features, labels, video_files_paths"
      ]
    },
    {
      "cell_type": "code",
      "execution_count": 8,
      "metadata": {
        "colab": {
          "base_uri": "https://localhost:8080/"
        },
        "id": "a8rpanz9rASe",
        "outputId": "432622ba-3670-4750-cb6f-23ed1a08a89f"
      },
      "outputs": [
        {
          "output_type": "stream",
          "name": "stdout",
          "text": [
            "Extracting Data of Class: hemostasis train\n",
            "Extracting Data of Class: inflammatory train\n",
            "Extracting Data of Class: proliferative train\n",
            "Extracting Data of Class: maturation train\n",
            "Extracting Data of Class: hemostasis test\n",
            "Extracting Data of Class: inflammatory test\n",
            "Extracting Data of Class: proliferative test\n",
            "Extracting Data of Class: maturation test\n",
            "Extracting Data of Class: hemostasis valid\n",
            "Extracting Data of Class: inflammatory valid\n",
            "Extracting Data of Class: proliferative valid\n",
            "Extracting Data of Class: maturation valid\n"
          ]
        }
      ],
      "source": [
        "# 6 mice for training, 2 mice for test and validation (one wound on each mice for test one for validation)\n",
        "features_train, labels_train, video_files_paths_train = create_dataset('train')\n",
        "features_test, labels_test, video_files_paths_test = create_dataset('test')\n",
        "features_valid, labels_valid, video_files_paths_valid = create_dataset('valid')"
      ]
    },
    {
      "cell_type": "code",
      "execution_count": 9,
      "metadata": {
        "id": "dtJkK4qTAulC"
      },
      "outputs": [],
      "source": [
        "# labels to catogorical\n",
        "labels_train = keras.utils.to_categorical(labels_train)\n",
        "labels_test = keras.utils.to_categorical(labels_test)\n",
        "labels_valid = keras.utils.to_categorical(labels_valid)"
      ]
    },
    {
      "cell_type": "code",
      "execution_count": 10,
      "metadata": {
        "id": "Bi-NDol3DHRV"
      },
      "outputs": [],
      "source": [
        "def create_convlstm_model():\n",
        "    # TimeDistributed is a wrapper to handle input of size five to maintain frames number for LSTM\n",
        "    # A Conv2D layer requires four dimensions: (batch_size, height, width, channels)\n",
        "    # TimeDistributed will require an additional dimension: (batch_size, frames, height, width, channels)\n",
        "\n",
        "    model = Sequential()\n",
        "\n",
        "    model.add(TimeDistributed(Conv2D(8, (3,3), activation='relu'), input_shape=(16, 128, 128, 3)))\n",
        "    model.add(TimeDistributed(MaxPooling2D((2,2), strides=(2,2))))\n",
        "    model.add(Dropout(0.3))\n",
        "\n",
        "    model.add(TimeDistributed(Conv2D(16, (3,3), activation='relu')))\n",
        "    model.add(TimeDistributed(MaxPooling2D((2,2), strides=(2,2))))\n",
        "    model.add(Dropout(0.3))\n",
        "\n",
        "    model.add(TimeDistributed(Conv2D(24, (3,3), activation='relu')))\n",
        "    model.add(TimeDistributed(MaxPooling2D((2,2), strides=(2,2))))\n",
        "    model.add(Dropout(0.3))\n",
        "\n",
        "    model.add(TimeDistributed(Conv2D(32, (3,3), activation='relu')))\n",
        "    model.add(TimeDistributed(MaxPooling2D((2,2), strides=(2,2))))\n",
        "    model.add(Dropout(0.3))\n",
        "\n",
        "    model.add(TimeDistributed(Flatten()))\n",
        "    model.add(Dropout(0.2))\n",
        "\n",
        "    model.add(LSTM(4, activation='relu', return_sequences=False))\n",
        "    model.add(Dropout(0.2))\n",
        "\n",
        "    model.add(Dense(32, activation='relu', kernel_initializer='he_uniform'))\n",
        "    model.add(Dropout(0.2))\n",
        "\n",
        "    model.add(Dense(16, activation='relu', kernel_initializer='he_uniform'))\n",
        "    model.add(Dropout(0.2))\n",
        "\n",
        "    # model.add(Dense(8, activation='relu', kernel_initializer='he_uniform'))\n",
        "\n",
        "    model.add(Dense(4, activation='relu', kernel_initializer='he_uniform'))\n",
        "\n",
        "    model.add(Dense(len(CLASSES_LIST), activation='softmax'))\n",
        "    model.summary(line_length = 100)\n",
        "    return model"
      ]
    },
    {
      "cell_type": "code",
      "execution_count": 11,
      "metadata": {
        "id": "FbjNYI-0DY_v",
        "colab": {
          "base_uri": "https://localhost:8080/"
        },
        "outputId": "ec16dd3d-f0e4-48a1-9022-e83699738ee3"
      },
      "outputs": [
        {
          "output_type": "stream",
          "name": "stdout",
          "text": [
            "Model: \"sequential\"\n",
            "____________________________________________________________________________________________________\n",
            " Layer (type)                                Output Shape                            Param #        \n",
            "====================================================================================================\n",
            " time_distributed (TimeDistributed)          (None, 16, 126, 126, 8)                 224            \n",
            "                                                                                                    \n",
            " time_distributed_1 (TimeDistributed)        (None, 16, 63, 63, 8)                   0              \n",
            "                                                                                                    \n",
            " dropout (Dropout)                           (None, 16, 63, 63, 8)                   0              \n",
            "                                                                                                    \n",
            " time_distributed_2 (TimeDistributed)        (None, 16, 61, 61, 16)                  1168           \n",
            "                                                                                                    \n",
            " time_distributed_3 (TimeDistributed)        (None, 16, 30, 30, 16)                  0              \n",
            "                                                                                                    \n",
            " dropout_1 (Dropout)                         (None, 16, 30, 30, 16)                  0              \n",
            "                                                                                                    \n",
            " time_distributed_4 (TimeDistributed)        (None, 16, 28, 28, 24)                  3480           \n",
            "                                                                                                    \n",
            " time_distributed_5 (TimeDistributed)        (None, 16, 14, 14, 24)                  0              \n",
            "                                                                                                    \n",
            " dropout_2 (Dropout)                         (None, 16, 14, 14, 24)                  0              \n",
            "                                                                                                    \n",
            " time_distributed_6 (TimeDistributed)        (None, 16, 12, 12, 32)                  6944           \n",
            "                                                                                                    \n",
            " time_distributed_7 (TimeDistributed)        (None, 16, 6, 6, 32)                    0              \n",
            "                                                                                                    \n",
            " dropout_3 (Dropout)                         (None, 16, 6, 6, 32)                    0              \n",
            "                                                                                                    \n",
            " time_distributed_8 (TimeDistributed)        (None, 16, 1152)                        0              \n",
            "                                                                                                    \n",
            " dropout_4 (Dropout)                         (None, 16, 1152)                        0              \n",
            "                                                                                                    \n",
            " lstm (LSTM)                                 (None, 4)                               18512          \n",
            "                                                                                                    \n",
            " dropout_5 (Dropout)                         (None, 4)                               0              \n",
            "                                                                                                    \n",
            " dense (Dense)                               (None, 32)                              160            \n",
            "                                                                                                    \n",
            " dropout_6 (Dropout)                         (None, 32)                              0              \n",
            "                                                                                                    \n",
            " dense_1 (Dense)                             (None, 16)                              528            \n",
            "                                                                                                    \n",
            " dropout_7 (Dropout)                         (None, 16)                              0              \n",
            "                                                                                                    \n",
            " dense_2 (Dense)                             (None, 4)                               68             \n",
            "                                                                                                    \n",
            " dense_3 (Dense)                             (None, 4)                               20             \n",
            "                                                                                                    \n",
            "====================================================================================================\n",
            "Total params: 31,104\n",
            "Trainable params: 31,104\n",
            "Non-trainable params: 0\n",
            "____________________________________________________________________________________________________\n",
            "Model Created Successfully!\n"
          ]
        }
      ],
      "source": [
        "# Construct the required convlstm model.\n",
        "convlstm_model = create_convlstm_model()\n",
        " \n",
        "# Display the success message. \n",
        "print(\"Model Created Successfully!\")"
      ]
    },
    {
      "cell_type": "code",
      "execution_count": 12,
      "metadata": {
        "id": "SCB3R7so-wHz"
      },
      "outputs": [],
      "source": [
        "# keras.utils.plot_model(convlstm_model, to_file = 'convlstm_model_structure_plot.png', show_shapes = True, show_layer_names = True)"
      ]
    },
    {
      "cell_type": "code",
      "execution_count": 13,
      "metadata": {
        "id": "nMYwQOwyF3bd"
      },
      "outputs": [],
      "source": [
        "# keras.utils.plot_model(convlstm_model,\n",
        "#                          to_file = 'convlstm_model_structure_plot.png',\n",
        "#                          show_shapes = True,\n",
        "#                          show_layer_names = True)"
      ]
    },
    {
      "cell_type": "code",
      "execution_count": 14,
      "metadata": {
        "colab": {
          "base_uri": "https://localhost:8080/"
        },
        "id": "vYC_6H0uGqW9",
        "outputId": "41f02d9b-3454-447c-de7d-9c6e50c468e2"
      },
      "outputs": [
        {
          "output_type": "stream",
          "name": "stdout",
          "text": [
            "Epoch 1/150\n",
            "30/30 [==============================] - 11s 198ms/step - loss: 1.3195 - accuracy: 0.3769 - val_loss: 1.3070 - val_accuracy: 0.3566\n",
            "Epoch 2/150\n",
            "30/30 [==============================] - 4s 139ms/step - loss: 1.1947 - accuracy: 0.3775 - val_loss: 1.2612 - val_accuracy: 0.3566\n",
            "Epoch 3/150\n",
            "30/30 [==============================] - 4s 140ms/step - loss: 1.1121 - accuracy: 0.3843 - val_loss: 1.1675 - val_accuracy: 0.4485\n",
            "Epoch 4/150\n",
            "30/30 [==============================] - 4s 138ms/step - loss: 1.0334 - accuracy: 0.4152 - val_loss: 1.1307 - val_accuracy: 0.6176\n",
            "Epoch 5/150\n",
            "30/30 [==============================] - 4s 141ms/step - loss: 0.9670 - accuracy: 0.4957 - val_loss: 1.1116 - val_accuracy: 0.6471\n",
            "Epoch 6/150\n",
            "30/30 [==============================] - 4s 140ms/step - loss: 0.9283 - accuracy: 0.5353 - val_loss: 1.0320 - val_accuracy: 0.6213\n",
            "Epoch 7/150\n",
            "30/30 [==============================] - 4s 141ms/step - loss: 0.8995 - accuracy: 0.5718 - val_loss: 1.0240 - val_accuracy: 0.5809\n",
            "Epoch 8/150\n",
            "30/30 [==============================] - 4s 139ms/step - loss: 0.8653 - accuracy: 0.6021 - val_loss: 0.9619 - val_accuracy: 0.6618\n",
            "Epoch 9/150\n",
            "30/30 [==============================] - 4s 138ms/step - loss: 0.8471 - accuracy: 0.6064 - val_loss: 1.0099 - val_accuracy: 0.6140\n",
            "Epoch 10/150\n",
            "30/30 [==============================] - 4s 141ms/step - loss: 0.8198 - accuracy: 0.6368 - val_loss: 0.9393 - val_accuracy: 0.5956\n",
            "Epoch 11/150\n",
            "30/30 [==============================] - 4s 137ms/step - loss: 0.8044 - accuracy: 0.6597 - val_loss: 0.8498 - val_accuracy: 0.7353\n",
            "Epoch 12/150\n",
            "30/30 [==============================] - 4s 139ms/step - loss: 0.7802 - accuracy: 0.6627 - val_loss: 0.9825 - val_accuracy: 0.5625\n",
            "Epoch 13/150\n",
            "30/30 [==============================] - 4s 137ms/step - loss: 0.7906 - accuracy: 0.6442 - val_loss: 0.9492 - val_accuracy: 0.6691\n",
            "Epoch 14/150\n",
            "30/30 [==============================] - 4s 140ms/step - loss: 0.7564 - accuracy: 0.6807 - val_loss: 0.8782 - val_accuracy: 0.6581\n",
            "Epoch 15/150\n",
            "30/30 [==============================] - 4s 138ms/step - loss: 0.7127 - accuracy: 0.6838 - val_loss: 0.8131 - val_accuracy: 0.6949\n",
            "Epoch 16/150\n",
            "30/30 [==============================] - 4s 143ms/step - loss: 0.7115 - accuracy: 0.7042 - val_loss: 0.7521 - val_accuracy: 0.7904\n",
            "Epoch 17/150\n",
            "30/30 [==============================] - 4s 139ms/step - loss: 0.7095 - accuracy: 0.7054 - val_loss: 0.7846 - val_accuracy: 0.7426\n",
            "Epoch 18/150\n",
            "30/30 [==============================] - 4s 139ms/step - loss: 0.7039 - accuracy: 0.6986 - val_loss: 0.7649 - val_accuracy: 0.7537\n",
            "Epoch 19/150\n",
            "30/30 [==============================] - 4s 138ms/step - loss: 0.7180 - accuracy: 0.6949 - val_loss: 0.8232 - val_accuracy: 0.6360\n",
            "Epoch 20/150\n",
            "30/30 [==============================] - 4s 137ms/step - loss: 0.6716 - accuracy: 0.7147 - val_loss: 0.7678 - val_accuracy: 0.7059\n",
            "Epoch 21/150\n",
            "30/30 [==============================] - 4s 138ms/step - loss: 0.6485 - accuracy: 0.7191 - val_loss: 0.6743 - val_accuracy: 0.8015\n",
            "Epoch 22/150\n",
            "30/30 [==============================] - 4s 138ms/step - loss: 0.6503 - accuracy: 0.7234 - val_loss: 0.7034 - val_accuracy: 0.7647\n",
            "Epoch 23/150\n",
            "30/30 [==============================] - 4s 138ms/step - loss: 0.6338 - accuracy: 0.7321 - val_loss: 0.6831 - val_accuracy: 0.7831\n",
            "Epoch 24/150\n",
            "30/30 [==============================] - 4s 140ms/step - loss: 0.6269 - accuracy: 0.7265 - val_loss: 0.7486 - val_accuracy: 0.6985\n",
            "Epoch 25/150\n",
            "30/30 [==============================] - 4s 138ms/step - loss: 0.6128 - accuracy: 0.7389 - val_loss: 0.7050 - val_accuracy: 0.7353\n",
            "Epoch 26/150\n",
            "30/30 [==============================] - 4s 142ms/step - loss: 0.6009 - accuracy: 0.7308 - val_loss: 0.6851 - val_accuracy: 0.7390\n",
            "Epoch 27/150\n",
            "30/30 [==============================] - 4s 139ms/step - loss: 0.6190 - accuracy: 0.7339 - val_loss: 0.6401 - val_accuracy: 0.7794\n",
            "Epoch 28/150\n",
            "30/30 [==============================] - 4s 142ms/step - loss: 0.5909 - accuracy: 0.7314 - val_loss: 0.6235 - val_accuracy: 0.7904\n",
            "Epoch 29/150\n",
            "30/30 [==============================] - 4s 140ms/step - loss: 0.5755 - accuracy: 0.7420 - val_loss: 0.5876 - val_accuracy: 0.8125\n",
            "Epoch 30/150\n",
            "30/30 [==============================] - 4s 137ms/step - loss: 0.5708 - accuracy: 0.7401 - val_loss: 0.5960 - val_accuracy: 0.8015\n",
            "Epoch 31/150\n",
            "30/30 [==============================] - 4s 137ms/step - loss: 0.5658 - accuracy: 0.7376 - val_loss: 0.5862 - val_accuracy: 0.8015\n",
            "Epoch 32/150\n",
            "30/30 [==============================] - 4s 139ms/step - loss: 0.5648 - accuracy: 0.7364 - val_loss: 0.5747 - val_accuracy: 0.8088\n",
            "Epoch 33/150\n",
            "30/30 [==============================] - 4s 138ms/step - loss: 0.5532 - accuracy: 0.7432 - val_loss: 0.5750 - val_accuracy: 0.8015\n",
            "Epoch 34/150\n",
            "30/30 [==============================] - 4s 138ms/step - loss: 0.5405 - accuracy: 0.7457 - val_loss: 0.5655 - val_accuracy: 0.7941\n",
            "Epoch 35/150\n",
            "30/30 [==============================] - 4s 138ms/step - loss: 0.5369 - accuracy: 0.7457 - val_loss: 0.5863 - val_accuracy: 0.7831\n",
            "Epoch 36/150\n",
            "30/30 [==============================] - 4s 139ms/step - loss: 0.5403 - accuracy: 0.7413 - val_loss: 0.5734 - val_accuracy: 0.7978\n",
            "Epoch 37/150\n",
            "30/30 [==============================] - 4s 138ms/step - loss: 0.5335 - accuracy: 0.7500 - val_loss: 0.5040 - val_accuracy: 0.8346\n",
            "Epoch 38/150\n",
            "30/30 [==============================] - 4s 138ms/step - loss: 0.5227 - accuracy: 0.8119 - val_loss: 0.5329 - val_accuracy: 0.8346\n",
            "Epoch 39/150\n",
            "30/30 [==============================] - 4s 138ms/step - loss: 0.5280 - accuracy: 0.8014 - val_loss: 0.5303 - val_accuracy: 0.8309\n",
            "Epoch 40/150\n",
            "30/30 [==============================] - 4s 139ms/step - loss: 0.5141 - accuracy: 0.8150 - val_loss: 0.5418 - val_accuracy: 0.8088\n",
            "Epoch 41/150\n",
            "30/30 [==============================] - 4s 139ms/step - loss: 0.5131 - accuracy: 0.8175 - val_loss: 0.4961 - val_accuracy: 0.7868\n",
            "Epoch 42/150\n",
            "30/30 [==============================] - 4s 139ms/step - loss: 0.5582 - accuracy: 0.7896 - val_loss: 0.6006 - val_accuracy: 0.7353\n",
            "Epoch 43/150\n",
            "30/30 [==============================] - 4s 140ms/step - loss: 0.5934 - accuracy: 0.7525 - val_loss: 0.5916 - val_accuracy: 0.8015\n",
            "Epoch 44/150\n",
            "30/30 [==============================] - 4s 138ms/step - loss: 0.5248 - accuracy: 0.8162 - val_loss: 0.5345 - val_accuracy: 0.8051\n",
            "Epoch 45/150\n",
            "30/30 [==============================] - 4s 136ms/step - loss: 0.4976 - accuracy: 0.8205 - val_loss: 0.5222 - val_accuracy: 0.8235\n",
            "Epoch 46/150\n",
            "30/30 [==============================] - 4s 137ms/step - loss: 0.4778 - accuracy: 0.8329 - val_loss: 0.4951 - val_accuracy: 0.8382\n",
            "Epoch 47/150\n",
            "30/30 [==============================] - 4s 140ms/step - loss: 0.4896 - accuracy: 0.8292 - val_loss: 0.4916 - val_accuracy: 0.8382\n",
            "Epoch 48/150\n",
            "30/30 [==============================] - 4s 139ms/step - loss: 0.4893 - accuracy: 0.8187 - val_loss: 0.4859 - val_accuracy: 0.8309\n",
            "Epoch 49/150\n",
            "30/30 [==============================] - 4s 138ms/step - loss: 0.4727 - accuracy: 0.8267 - val_loss: 0.5101 - val_accuracy: 0.8199\n",
            "Epoch 50/150\n",
            "30/30 [==============================] - 4s 138ms/step - loss: 0.4775 - accuracy: 0.8249 - val_loss: 0.5013 - val_accuracy: 0.8235\n",
            "Epoch 51/150\n",
            "30/30 [==============================] - 4s 139ms/step - loss: 0.4600 - accuracy: 0.8478 - val_loss: 0.4746 - val_accuracy: 0.8419\n",
            "Epoch 52/150\n",
            "30/30 [==============================] - 4s 136ms/step - loss: 0.4642 - accuracy: 0.8354 - val_loss: 0.4544 - val_accuracy: 0.8419\n",
            "Epoch 53/150\n",
            "30/30 [==============================] - 4s 142ms/step - loss: 0.4543 - accuracy: 0.8527 - val_loss: 0.4730 - val_accuracy: 0.8382\n",
            "Epoch 54/150\n",
            "30/30 [==============================] - 4s 139ms/step - loss: 0.4586 - accuracy: 0.8391 - val_loss: 0.4605 - val_accuracy: 0.8419\n",
            "Epoch 55/150\n",
            "30/30 [==============================] - 4s 139ms/step - loss: 0.4605 - accuracy: 0.8366 - val_loss: 0.4569 - val_accuracy: 0.8419\n",
            "Epoch 56/150\n",
            "30/30 [==============================] - 4s 144ms/step - loss: 0.4509 - accuracy: 0.8521 - val_loss: 0.4156 - val_accuracy: 0.8456\n",
            "Epoch 57/150\n",
            "30/30 [==============================] - 4s 139ms/step - loss: 0.4483 - accuracy: 0.8397 - val_loss: 0.4517 - val_accuracy: 0.8382\n",
            "Epoch 58/150\n",
            "30/30 [==============================] - 4s 143ms/step - loss: 0.4346 - accuracy: 0.8546 - val_loss: 0.4370 - val_accuracy: 0.8382\n",
            "Epoch 59/150\n",
            "30/30 [==============================] - 4s 137ms/step - loss: 0.4315 - accuracy: 0.8595 - val_loss: 0.4546 - val_accuracy: 0.8419\n",
            "Epoch 60/150\n",
            "30/30 [==============================] - 4s 137ms/step - loss: 0.4360 - accuracy: 0.8484 - val_loss: 0.4445 - val_accuracy: 0.8419\n",
            "Epoch 61/150\n",
            "30/30 [==============================] - 4s 139ms/step - loss: 0.4356 - accuracy: 0.8521 - val_loss: 0.4427 - val_accuracy: 0.8419\n",
            "Epoch 62/150\n",
            "30/30 [==============================] - 4s 139ms/step - loss: 0.4273 - accuracy: 0.8540 - val_loss: 0.4561 - val_accuracy: 0.8346\n",
            "Epoch 63/150\n",
            "30/30 [==============================] - 4s 136ms/step - loss: 0.4255 - accuracy: 0.8490 - val_loss: 0.4807 - val_accuracy: 0.8382\n",
            "Epoch 64/150\n",
            "30/30 [==============================] - 4s 138ms/step - loss: 0.4222 - accuracy: 0.8564 - val_loss: 0.4357 - val_accuracy: 0.8199\n",
            "Epoch 65/150\n",
            "30/30 [==============================] - 4s 140ms/step - loss: 0.4176 - accuracy: 0.8601 - val_loss: 0.4324 - val_accuracy: 0.8419\n",
            "Epoch 66/150\n",
            "30/30 [==============================] - 4s 138ms/step - loss: 0.3945 - accuracy: 0.8713 - val_loss: 0.4184 - val_accuracy: 0.8419\n",
            "Epoch 67/150\n",
            "30/30 [==============================] - 4s 138ms/step - loss: 0.3948 - accuracy: 0.8682 - val_loss: 0.4245 - val_accuracy: 0.8419\n",
            "Epoch 68/150\n",
            "30/30 [==============================] - 4s 136ms/step - loss: 0.4170 - accuracy: 0.8657 - val_loss: 0.4374 - val_accuracy: 0.8419\n",
            "Epoch 69/150\n",
            "30/30 [==============================] - 4s 140ms/step - loss: 0.4062 - accuracy: 0.8651 - val_loss: 0.4299 - val_accuracy: 0.8346\n",
            "Epoch 70/150\n",
            "30/30 [==============================] - 4s 138ms/step - loss: 0.3903 - accuracy: 0.8787 - val_loss: 0.4467 - val_accuracy: 0.8346\n",
            "Epoch 71/150\n",
            "30/30 [==============================] - 4s 138ms/step - loss: 0.3849 - accuracy: 0.8762 - val_loss: 0.4075 - val_accuracy: 0.8382\n",
            "Epoch 72/150\n",
            "30/30 [==============================] - 4s 141ms/step - loss: 0.3864 - accuracy: 0.8694 - val_loss: 0.4110 - val_accuracy: 0.8382\n",
            "Epoch 73/150\n",
            "30/30 [==============================] - 4s 140ms/step - loss: 0.3885 - accuracy: 0.8713 - val_loss: 0.4207 - val_accuracy: 0.8346\n",
            "Epoch 74/150\n",
            "30/30 [==============================] - 4s 139ms/step - loss: 0.3755 - accuracy: 0.8800 - val_loss: 0.3988 - val_accuracy: 0.8419\n",
            "Epoch 75/150\n",
            "30/30 [==============================] - 4s 140ms/step - loss: 0.3900 - accuracy: 0.8639 - val_loss: 0.4159 - val_accuracy: 0.8162\n",
            "Epoch 76/150\n",
            "30/30 [==============================] - 4s 139ms/step - loss: 0.3790 - accuracy: 0.8756 - val_loss: 0.4012 - val_accuracy: 0.8346\n",
            "Epoch 77/150\n",
            "30/30 [==============================] - 4s 140ms/step - loss: 0.3903 - accuracy: 0.8657 - val_loss: 0.4246 - val_accuracy: 0.8346\n",
            "Epoch 78/150\n",
            "30/30 [==============================] - 4s 139ms/step - loss: 0.3674 - accuracy: 0.8787 - val_loss: 0.3981 - val_accuracy: 0.8382\n",
            "Epoch 79/150\n",
            "30/30 [==============================] - 4s 136ms/step - loss: 0.3616 - accuracy: 0.8892 - val_loss: 0.3796 - val_accuracy: 0.8419\n",
            "Epoch 80/150\n",
            "30/30 [==============================] - 4s 137ms/step - loss: 0.3553 - accuracy: 0.8818 - val_loss: 0.4039 - val_accuracy: 0.8456\n",
            "Epoch 81/150\n",
            "30/30 [==============================] - 4s 138ms/step - loss: 0.3470 - accuracy: 0.8892 - val_loss: 0.3950 - val_accuracy: 0.8456\n",
            "Epoch 82/150\n",
            "30/30 [==============================] - 4s 143ms/step - loss: 0.3305 - accuracy: 0.9016 - val_loss: 0.4183 - val_accuracy: 0.8419\n",
            "Epoch 83/150\n",
            "30/30 [==============================] - 4s 140ms/step - loss: 0.3335 - accuracy: 0.8942 - val_loss: 0.3895 - val_accuracy: 0.8235\n",
            "Epoch 84/150\n",
            "30/30 [==============================] - 4s 140ms/step - loss: 0.3266 - accuracy: 0.8960 - val_loss: 0.4221 - val_accuracy: 0.8382\n",
            "Epoch 85/150\n",
            "30/30 [==============================] - 4s 139ms/step - loss: 0.3215 - accuracy: 0.8998 - val_loss: 0.4030 - val_accuracy: 0.8456\n",
            "Epoch 86/150\n",
            "30/30 [==============================] - 4s 140ms/step - loss: 0.3254 - accuracy: 0.8973 - val_loss: 0.3702 - val_accuracy: 0.8419\n",
            "Epoch 87/150\n",
            "30/30 [==============================] - 4s 139ms/step - loss: 0.3096 - accuracy: 0.9022 - val_loss: 0.4422 - val_accuracy: 0.8162\n",
            "Epoch 88/150\n",
            "30/30 [==============================] - 4s 139ms/step - loss: 0.3364 - accuracy: 0.8936 - val_loss: 0.4176 - val_accuracy: 0.8088\n",
            "Epoch 89/150\n",
            "30/30 [==============================] - 4s 139ms/step - loss: 0.3630 - accuracy: 0.8756 - val_loss: 0.3695 - val_accuracy: 0.8456\n",
            "Epoch 90/150\n",
            "30/30 [==============================] - 4s 138ms/step - loss: 0.3309 - accuracy: 0.8899 - val_loss: 0.3865 - val_accuracy: 0.8382\n",
            "Epoch 91/150\n",
            "30/30 [==============================] - 4s 139ms/step - loss: 0.3991 - accuracy: 0.8620 - val_loss: 0.3989 - val_accuracy: 0.8346\n",
            "Epoch 92/150\n",
            "30/30 [==============================] - 4s 138ms/step - loss: 0.3341 - accuracy: 0.8911 - val_loss: 0.4419 - val_accuracy: 0.8456\n",
            "Epoch 93/150\n",
            "30/30 [==============================] - 4s 140ms/step - loss: 0.3191 - accuracy: 0.8923 - val_loss: 0.3869 - val_accuracy: 0.8125\n",
            "Epoch 94/150\n",
            "30/30 [==============================] - 4s 140ms/step - loss: 0.3076 - accuracy: 0.8998 - val_loss: 0.3936 - val_accuracy: 0.8382\n",
            "Epoch 95/150\n",
            "30/30 [==============================] - 4s 138ms/step - loss: 0.3236 - accuracy: 0.8979 - val_loss: 0.3751 - val_accuracy: 0.8382\n",
            "Epoch 96/150\n",
            "30/30 [==============================] - 4s 138ms/step - loss: 0.3161 - accuracy: 0.9004 - val_loss: 0.4089 - val_accuracy: 0.8419\n",
            "Epoch 97/150\n",
            "30/30 [==============================] - 4s 142ms/step - loss: 0.2949 - accuracy: 0.9097 - val_loss: 0.4189 - val_accuracy: 0.8419\n",
            "Epoch 98/150\n",
            "30/30 [==============================] - 4s 139ms/step - loss: 0.3013 - accuracy: 0.9066 - val_loss: 0.4491 - val_accuracy: 0.8419\n",
            "Epoch 99/150\n",
            "30/30 [==============================] - 4s 137ms/step - loss: 0.3185 - accuracy: 0.8923 - val_loss: 0.4688 - val_accuracy: 0.7978\n",
            "Epoch 100/150\n",
            "30/30 [==============================] - 4s 138ms/step - loss: 0.3139 - accuracy: 0.8998 - val_loss: 0.4086 - val_accuracy: 0.8199\n",
            "Epoch 101/150\n",
            "30/30 [==============================] - 4s 139ms/step - loss: 0.2959 - accuracy: 0.9028 - val_loss: 0.3931 - val_accuracy: 0.8162\n",
            "Epoch 102/150\n",
            "30/30 [==============================] - 4s 139ms/step - loss: 0.3039 - accuracy: 0.9059 - val_loss: 0.3711 - val_accuracy: 0.8419\n",
            "Epoch 103/150\n",
            "30/30 [==============================] - 4s 140ms/step - loss: 0.2894 - accuracy: 0.9084 - val_loss: 0.4328 - val_accuracy: 0.8309\n",
            "Epoch 104/150\n",
            "30/30 [==============================] - 4s 140ms/step - loss: 0.3075 - accuracy: 0.9016 - val_loss: 0.3999 - val_accuracy: 0.8419\n",
            "Epoch 105/150\n",
            "30/30 [==============================] - 4s 141ms/step - loss: 0.2928 - accuracy: 0.9016 - val_loss: 0.3596 - val_accuracy: 0.8419\n",
            "Epoch 106/150\n",
            "30/30 [==============================] - 4s 138ms/step - loss: 0.2871 - accuracy: 0.9090 - val_loss: 0.4365 - val_accuracy: 0.8346\n",
            "Epoch 107/150\n",
            "30/30 [==============================] - 4s 138ms/step - loss: 0.2825 - accuracy: 0.9078 - val_loss: 0.4145 - val_accuracy: 0.8419\n",
            "Epoch 108/150\n",
            "30/30 [==============================] - 4s 139ms/step - loss: 0.2721 - accuracy: 0.9115 - val_loss: 0.4111 - val_accuracy: 0.8235\n",
            "Epoch 109/150\n",
            "30/30 [==============================] - 4s 138ms/step - loss: 0.2738 - accuracy: 0.9109 - val_loss: 0.4527 - val_accuracy: 0.8162\n",
            "Epoch 110/150\n",
            "30/30 [==============================] - 4s 139ms/step - loss: 0.2690 - accuracy: 0.9134 - val_loss: 0.4085 - val_accuracy: 0.8493\n",
            "Epoch 111/150\n",
            "30/30 [==============================] - 4s 141ms/step - loss: 0.2661 - accuracy: 0.9152 - val_loss: 0.4473 - val_accuracy: 0.8382\n",
            "Epoch 112/150\n",
            "30/30 [==============================] - 4s 141ms/step - loss: 0.2628 - accuracy: 0.9134 - val_loss: 0.3562 - val_accuracy: 0.8419\n",
            "Epoch 113/150\n",
            "30/30 [==============================] - 4s 137ms/step - loss: 0.2688 - accuracy: 0.9146 - val_loss: 0.4094 - val_accuracy: 0.8162\n",
            "Epoch 114/150\n",
            "30/30 [==============================] - 4s 140ms/step - loss: 0.2744 - accuracy: 0.9090 - val_loss: 0.4111 - val_accuracy: 0.8199\n",
            "Epoch 115/150\n",
            "30/30 [==============================] - 4s 140ms/step - loss: 0.2898 - accuracy: 0.9041 - val_loss: 0.5300 - val_accuracy: 0.8125\n",
            "Epoch 116/150\n",
            "30/30 [==============================] - 4s 141ms/step - loss: 0.2776 - accuracy: 0.9078 - val_loss: 0.4392 - val_accuracy: 0.8162\n",
            "Epoch 117/150\n",
            "30/30 [==============================] - 4s 140ms/step - loss: 0.2999 - accuracy: 0.8960 - val_loss: 0.3901 - val_accuracy: 0.8162\n",
            "Epoch 118/150\n",
            "30/30 [==============================] - 4s 138ms/step - loss: 0.2772 - accuracy: 0.9140 - val_loss: 0.3527 - val_accuracy: 0.8419\n",
            "Epoch 119/150\n",
            "30/30 [==============================] - 4s 139ms/step - loss: 0.2454 - accuracy: 0.9245 - val_loss: 0.4001 - val_accuracy: 0.8199\n",
            "Epoch 120/150\n",
            "30/30 [==============================] - 4s 140ms/step - loss: 0.2755 - accuracy: 0.9066 - val_loss: 0.3949 - val_accuracy: 0.8235\n",
            "Epoch 121/150\n",
            "30/30 [==============================] - 4s 139ms/step - loss: 0.2651 - accuracy: 0.9134 - val_loss: 0.3938 - val_accuracy: 0.8419\n",
            "Epoch 122/150\n",
            "30/30 [==============================] - 4s 141ms/step - loss: 0.2565 - accuracy: 0.9158 - val_loss: 0.4376 - val_accuracy: 0.8125\n",
            "Epoch 123/150\n",
            "30/30 [==============================] - 4s 138ms/step - loss: 0.2582 - accuracy: 0.9177 - val_loss: 0.4371 - val_accuracy: 0.8235\n",
            "Epoch 124/150\n",
            "30/30 [==============================] - 4s 139ms/step - loss: 0.2979 - accuracy: 0.8973 - val_loss: 0.3577 - val_accuracy: 0.8419\n",
            "Epoch 125/150\n",
            "30/30 [==============================] - 4s 140ms/step - loss: 0.2768 - accuracy: 0.9090 - val_loss: 0.3488 - val_accuracy: 0.8382\n",
            "Epoch 126/150\n",
            "30/30 [==============================] - 4s 139ms/step - loss: 0.2705 - accuracy: 0.9146 - val_loss: 0.3201 - val_accuracy: 0.8676\n",
            "Epoch 127/150\n",
            "30/30 [==============================] - 4s 139ms/step - loss: 0.2549 - accuracy: 0.9140 - val_loss: 0.3679 - val_accuracy: 0.8456\n",
            "Epoch 128/150\n",
            "30/30 [==============================] - 4s 140ms/step - loss: 0.2447 - accuracy: 0.9239 - val_loss: 0.3468 - val_accuracy: 0.8199\n",
            "Epoch 129/150\n",
            "30/30 [==============================] - 4s 137ms/step - loss: 0.2540 - accuracy: 0.9127 - val_loss: 0.3335 - val_accuracy: 0.8456\n",
            "Epoch 130/150\n",
            "30/30 [==============================] - 4s 139ms/step - loss: 0.2658 - accuracy: 0.9090 - val_loss: 0.4610 - val_accuracy: 0.7426\n",
            "Epoch 131/150\n",
            "30/30 [==============================] - 4s 136ms/step - loss: 0.2529 - accuracy: 0.9140 - val_loss: 0.3896 - val_accuracy: 0.8199\n",
            "Epoch 132/150\n",
            "30/30 [==============================] - 4s 140ms/step - loss: 0.2542 - accuracy: 0.9140 - val_loss: 0.3827 - val_accuracy: 0.8088\n",
            "Epoch 133/150\n",
            "30/30 [==============================] - 4s 137ms/step - loss: 0.2525 - accuracy: 0.9165 - val_loss: 0.4386 - val_accuracy: 0.8162\n",
            "Epoch 134/150\n",
            "30/30 [==============================] - 4s 137ms/step - loss: 0.2407 - accuracy: 0.9214 - val_loss: 0.3476 - val_accuracy: 0.8419\n",
            "Epoch 135/150\n",
            "30/30 [==============================] - 4s 140ms/step - loss: 0.2405 - accuracy: 0.9196 - val_loss: 0.5547 - val_accuracy: 0.8088\n",
            "Epoch 136/150\n",
            "30/30 [==============================] - 4s 140ms/step - loss: 0.2440 - accuracy: 0.9140 - val_loss: 0.4050 - val_accuracy: 0.8162\n",
            "Epoch 137/150\n",
            "30/30 [==============================] - 4s 137ms/step - loss: 0.2348 - accuracy: 0.9233 - val_loss: 0.4113 - val_accuracy: 0.8382\n",
            "Epoch 138/150\n",
            "30/30 [==============================] - 4s 139ms/step - loss: 0.2312 - accuracy: 0.9226 - val_loss: 0.4332 - val_accuracy: 0.8382\n",
            "Epoch 139/150\n",
            "30/30 [==============================] - 4s 138ms/step - loss: 0.2382 - accuracy: 0.9233 - val_loss: 0.3972 - val_accuracy: 0.8162\n",
            "Epoch 140/150\n",
            "30/30 [==============================] - 4s 141ms/step - loss: 0.2461 - accuracy: 0.9208 - val_loss: 0.4224 - val_accuracy: 0.8419\n",
            "Epoch 141/150\n",
            "30/30 [==============================] - 4s 139ms/step - loss: 0.2340 - accuracy: 0.9245 - val_loss: 0.3982 - val_accuracy: 0.8419\n",
            "Epoch 142/150\n",
            "30/30 [==============================] - 4s 139ms/step - loss: 0.2428 - accuracy: 0.9158 - val_loss: 0.4764 - val_accuracy: 0.8419\n",
            "Epoch 143/150\n",
            "30/30 [==============================] - 4s 139ms/step - loss: 0.2377 - accuracy: 0.9202 - val_loss: 0.3746 - val_accuracy: 0.8382\n",
            "Epoch 144/150\n",
            "30/30 [==============================] - 4s 139ms/step - loss: 0.2217 - accuracy: 0.9282 - val_loss: 0.3609 - val_accuracy: 0.8456\n",
            "Epoch 145/150\n",
            "30/30 [==============================] - 4s 139ms/step - loss: 0.3112 - accuracy: 0.9016 - val_loss: 0.6232 - val_accuracy: 0.6985\n",
            "Epoch 146/150\n",
            "30/30 [==============================] - 4s 139ms/step - loss: 0.2983 - accuracy: 0.8936 - val_loss: 0.4448 - val_accuracy: 0.7721\n",
            "Epoch 147/150\n",
            "30/30 [==============================] - 4s 138ms/step - loss: 0.2458 - accuracy: 0.9158 - val_loss: 0.4513 - val_accuracy: 0.7978\n",
            "Epoch 148/150\n",
            "30/30 [==============================] - 4s 142ms/step - loss: 0.2298 - accuracy: 0.9214 - val_loss: 0.4658 - val_accuracy: 0.8015\n",
            "Epoch 149/150\n",
            "30/30 [==============================] - 4s 138ms/step - loss: 0.2354 - accuracy: 0.9202 - val_loss: 0.4200 - val_accuracy: 0.8382\n",
            "Epoch 150/150\n",
            "30/30 [==============================] - 4s 140ms/step - loss: 0.2284 - accuracy: 0.9239 - val_loss: 0.4401 - val_accuracy: 0.8125\n"
          ]
        }
      ],
      "source": [
        "# Create an Instance of Early Stopping Callback\n",
        "\n",
        "# https://stackoverflow.com/questions/53479007/how-to-setup-adaptive-learning-rate-in-keras\n",
        "# def adapt_learning_rate(epoch):\n",
        "#     print(0.0001 * epoch)\n",
        "#     return 0.0001 * epoch\n",
        "# my_lr_scheduler = keras.callbacks.LearningRateScheduler(adapt_learning_rate)\n",
        "\n",
        "early_stopping_callback = keras.callbacks.EarlyStopping(monitor = 'val_loss',\n",
        "                                                        patience = 10,\n",
        "                                                        mode = 'min',\n",
        "                                                        restore_best_weights = True)\n",
        "# Compile the model and specify loss function, optimizer and metrics values to the model\n",
        "convlstm_model.compile(loss = 'categorical_crossentropy',\n",
        "                       optimizer= keras.optimizers.Adam(0.0008, decay=1e-4),\n",
        "                       metrics = [\"accuracy\"])\n",
        "# Start training the model.\n",
        "convlstm_model_training_history = convlstm_model.fit(x = features_train,\n",
        "                                                     y = labels_train,\n",
        "                                                     epochs = 150,\n",
        "                                                     batch_size = 54,\n",
        "                                                     shuffle = True,\n",
        "                                                     validation_data = (features_valid, labels_valid)),\n",
        "                                                    #  callbacks = [early_stopping_callback])\n"
      ]
    },
    {
      "cell_type": "code",
      "execution_count": 15,
      "metadata": {
        "colab": {
          "base_uri": "https://localhost:8080/"
        },
        "id": "LcpKhGqvIenv",
        "outputId": "9ffbe512-9a42-429a-f149-a8c30b121cca"
      },
      "outputs": [
        {
          "output_type": "stream",
          "name": "stdout",
          "text": [
            "9/9 [==============================] - 1s 41ms/step - loss: 1.1575 - accuracy: 0.6642\n",
            "\n",
            "\n",
            "Train accuracy: 92.636 % || Test accuracy: 66.421 % || Val accuracy: 81.250 %\n",
            "\n",
            "\n",
            "Train loss: 0.215 || Test loss: 1.157 || Val loss: 0.440\n"
          ]
        }
      ],
      "source": [
        "model_evaluation_history = convlstm_model.evaluate(features_test, labels_test)\n",
        "print('\\n')\n",
        "train_loss, train_acc = convlstm_model.evaluate(features_train, labels_train, verbose=0)\n",
        "test_loss, test_acc = convlstm_model.evaluate(features_test, labels_test, verbose=0)\n",
        "val_loss, val_acc = convlstm_model.evaluate(features_valid, labels_valid, verbose=0)\n",
        "\n",
        "print(f'Train accuracy: {train_acc*100:.3f} % || Test accuracy: {test_acc*100:.3f} % || Val accuracy: {val_acc*100:.3f} %')\n",
        "print('\\n')\n",
        "print(f'Train loss: {train_loss:.3f} || Test loss: {test_loss:.3f} || Val loss: {val_loss:.3f}')"
      ]
    },
    {
      "cell_type": "code",
      "execution_count": 16,
      "metadata": {
        "id": "qsFw5KIzIum9"
      },
      "outputs": [],
      "source": [
        "# Get the loss and accuracy from model_evaluation_history.\n",
        "model_evaluation_loss, model_evaluation_accuracy = model_evaluation_history\n",
        " \n",
        "# Define the string date format.\n",
        "# Get the current Date and Time in a DateTime Object.\n",
        "# Convert the DateTime object to string according to the style mentioned in date_time_format string.\n",
        "date_time_format = '%Y_%m_%d__%H_%M_%S'\n",
        "current_date_time_dt = dt.datetime.now()\n",
        "current_date_time_string = dt.datetime.strftime(current_date_time_dt, date_time_format)\n",
        " \n",
        "# Define a useful name for our model to make it easy for us while navigating through multiple saved models.\n",
        "model_file_name = f'convlstm_model___Date_Time_{current_date_time_string}___Loss_{model_evaluation_loss}___Accuracy_{model_evaluation_accuracy}.h5'\n",
        " \n",
        "# Change dir\n",
        "gdrive_path = '/content/gdrive' + '/My Drive/247/Saved_models/'\n",
        "os.chdir(gdrive_path)\n",
        "# Create a floder for the model files\n",
        "!mkdir -p convlstm_{current_date_time_string}\n",
        "# Save your Model.\n",
        "convlstm_model.save('convlstm_' + str(current_date_time_string) + '/' + model_file_name)\n",
        "# Save model weights\n",
        "convlstm_model.save_weights('convlstm_' + str(current_date_time_string) + '/' + 'weights')"
      ]
    },
    {
      "cell_type": "code",
      "execution_count": 17,
      "metadata": {
        "id": "Z0eAobhSIz_P"
      },
      "outputs": [],
      "source": [
        "def plot_metric(model_training_history, metric_name_1, metric_name_2, plot_name):\n",
        "    '''\n",
        "    This function will plot the metrics passed to it in a graph.\n",
        "    Args:\n",
        "        model_training_history: A history object containing a record of training and validation \n",
        "                                loss values and metrics values at successive epochs\n",
        "        metric_name_1:          The name of the first metric that needs to be plotted in the graph.\n",
        "        metric_name_2:          The name of the second metric that needs to be plotted in the graph.\n",
        "        plot_name:              The title of the graph.\n",
        "    '''\n",
        "    \n",
        "    # Get metric values using metric names as identifiers.\n",
        "    metric_value_1 = model_training_history[0].history[metric_name_1]\n",
        "    metric_value_2 = model_training_history[0].history[metric_name_2]\n",
        "    \n",
        "    # Construct a range object which will be used as x-axis (horizontal plane) of the graph.\n",
        "    epochs = range(len(metric_value_1))\n",
        "\n",
        "    # Plot the Graph.\n",
        "    plt.plot(epochs, metric_value_1, 'blue', label = metric_name_1)\n",
        "    plt.plot(epochs, metric_value_2, 'red', label = metric_name_2)\n",
        "\n",
        "    # Add title to the plot.\n",
        "    plt.title(str(plot_name))\n",
        "\n",
        "    # Add legend to the plot.\n",
        "    plt.legend()"
      ]
    },
    {
      "cell_type": "code",
      "execution_count": 18,
      "metadata": {
        "colab": {
          "base_uri": "https://localhost:8080/",
          "height": 281
        },
        "id": "18RtBjI9I5lE",
        "outputId": "e2db18a3-172a-4895-e92a-4a4b9536e6ba"
      },
      "outputs": [
        {
          "output_type": "display_data",
          "data": {
            "text/plain": [
              "<Figure size 432x288 with 1 Axes>"
            ],
            "image/png": "[encoded data removed]"
          },
          "metadata": {
            "needs_background": "light"
          }
        }
      ],
      "source": [
        "plot_metric(convlstm_model_training_history, 'loss', 'val_loss', 'Total Loss vs Total Validation Loss')"
      ]
    },
    {
      "cell_type": "code",
      "execution_count": 19,
      "metadata": {
        "colab": {
          "base_uri": "https://localhost:8080/",
          "height": 281
        },
        "id": "02amk7TXI_OS",
        "outputId": "ccbdfb79-aa23-42b5-e00b-b5f1172fc693"
      },
      "outputs": [
        {
          "output_type": "display_data",
          "data": {
            "text/plain": [
              "<Figure size 432x288 with 1 Axes>"
            ],
            "image/png": "[encoded data removed]"
          },
          "metadata": {
            "needs_background": "light"
          }
        }
      ],
      "source": [
        "plot_metric(convlstm_model_training_history, 'accuracy', 'val_accuracy', 'Total Accuracy vs Total Validation Accuracy') "
      ]
    }
  ],
  "metadata": {
    "accelerator": "GPU",
    "colab": {
      "collapsed_sections": [],
      "machine_shape": "hm",
      "name": "2D_CNN+LSTM.ipynb",
      "provenance": [],
      "authorship_tag": "ABX9TyP73nhR19Qdx0+f9sPTkg7Y",
      "include_colab_link": true
    },
    "kernelspec": {
      "display_name": "Python 3",
      "name": "python3"
    },
    "language_info": {
      "name": "python"
    }
  },
  "nbformat": 4,
  "nbformat_minor": 0
}