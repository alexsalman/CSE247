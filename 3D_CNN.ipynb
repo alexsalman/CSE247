{
  "cells": [
    {
      "cell_type": "markdown",
      "metadata": {
        "id": "view-in-github",
        "colab_type": "text"
      },
      "source": [
        "<a href=\"https://colab.research.google.com/github/alexsalman/CSE247/blob/main/3D_CNN.ipynb\" target=\"_parent\"><img src=\"https://colab.research.google.com/assets/colab-badge.svg\" alt=\"Open In Colab\"/></a>"
      ]
    },
    {
      "cell_type": "markdown",
      "metadata": {
        "id": "Kk7I8NauauE3"
      },
      "source": [
        "####**3D Convolutional Neural Network**\n",
        "######*I am using 3D Convolutional Neural Network to extract the temporal and spatial information which are merged slowly throughout the whole network.*"
      ]
    },
    {
      "cell_type": "code",
      "execution_count": 1,
      "metadata": {
        "colab": {
          "base_uri": "https://localhost:8080/"
        },
        "id": "M8ibtd5HKtZk",
        "outputId": "17f60d5b-fd37-4416-ea25-f33188163cdb"
      },
      "outputs": [
        {
          "output_type": "stream",
          "name": "stdout",
          "text": [
            "2.8.0\n"
          ]
        }
      ],
      "source": [
        "# required libraries\n",
        "import os\n",
        "import cv2\n",
        "import random\n",
        "import numpy as np\n",
        "import datetime as dt\n",
        "import matplotlib.pyplot as plt\n",
        "from google.colab import drive\n",
        "from sklearn.model_selection import train_test_split\n",
        "import tensorflow as tf\n",
        "from tensorflow import keras\n",
        "from keras.models import Sequential\n",
        "from keras.layers import Dense, Flatten, Conv3D, MaxPooling3D, Dropout\n",
        "from keras.layers import BatchNormalization, GlobalAveragePooling3D\n",
        "from keras import regularizers\n",
        "%matplotlib inline\n",
        "print(tf.version.VERSION)"
      ]
    },
    {
      "cell_type": "code",
      "execution_count": 2,
      "metadata": {
        "id": "iffdFOf1CEAN"
      },
      "outputs": [],
      "source": [
        "# set Numpy, Python, and Tensorflow seeds to get consistent results on every execution\n",
        "seed_constant = 27\n",
        "np.random.seed(seed_constant)\n",
        "random.seed(seed_constant)\n",
        "tf.random.set_seed(seed_constant)"
      ]
    },
    {
      "cell_type": "code",
      "execution_count": 3,
      "metadata": {
        "colab": {
          "base_uri": "https://localhost:8080/",
          "height": 53
        },
        "id": "mcLh22LiOHyn",
        "outputId": "e88a57d2-d067-4985-d913-9f76e04e563d"
      },
      "outputs": [
        {
          "output_type": "stream",
          "name": "stdout",
          "text": [
            "Mounted at /content/gdrive/\n"
          ]
        },
        {
          "output_type": "execute_result",
          "data": {
            "text/plain": [
              "'/content/gdrive/My Drive/247'"
            ],
            "application/vnd.google.colaboratory.intrinsic+json": {
              "type": "string"
            }
          },
          "metadata": {},
          "execution_count": 3
        }
      ],
      "source": [
        "# mount dataset from google drive\n",
        "drive.mount('/content/gdrive/', force_remount=True)\n",
        "gdrive_path = '/content/gdrive' + '/My Drive/247/'\n",
        "os.chdir(gdrive_path)\n",
        "os.getcwd()"
      ]
    },
    {
      "cell_type": "code",
      "execution_count": 4,
      "metadata": {
        "id": "oeDK8SzumZ1Q"
      },
      "outputs": [],
      "source": [
        "# frame dimention\n",
        "IMAGE_HEIGHT, IMAGE_WIDTH = 128, 128\n",
        "# frame number for each video (depth)\n",
        "SEQUENCE_LENGTH = 16\n",
        "# video dir path\n",
        "DATASET_DIR = gdrive_path + 'Cropped_videos'\n",
        "# labels of classes\n",
        "CLASSES_LIST = ['hemostasis', 'inflammatory', 'proliferative', 'maturation']"
      ]
    },
    {
      "cell_type": "code",
      "execution_count": 5,
      "metadata": {
        "id": "HUTeIqzpZc9J"
      },
      "outputs": [],
      "source": [
        "# image cropping\n",
        "def crop_center_square(frame):\n",
        "    y, x = frame.shape[0:2]\n",
        "    min_dim = min(y, x)\n",
        "    start_x = (x // 2) - (min_dim // 2)\n",
        "    start_y = (y // 2) - (min_dim // 2)\n",
        "    return frame[start_y:start_y+min_dim,start_x:start_x+min_dim]"
      ]
    },
    {
      "cell_type": "code",
      "execution_count": 6,
      "metadata": {
        "id": "QRDbHG0TZkYJ"
      },
      "outputs": [],
      "source": [
        "def load_video(path, resize=(128, 128)):\n",
        "    video_reader = cv2.VideoCapture(path)\n",
        "    frames = []\n",
        "    try:\n",
        "        while True:\n",
        "            ret, frame = video_reader.read()\n",
        "            if not ret:\n",
        "                  break\n",
        "            # frame = crop_center_square(frame)\n",
        "            frame = cv2.resize(frame, resize)\n",
        "            frame = frame[:, :, [2, 1, 0]]\n",
        "            black_frame = frame\n",
        "            frames.append(frame)\n",
        "    finally:\n",
        "        video_reader.release()\n",
        "    return np.array(frames) / 255.0"
      ]
    },
    {
      "cell_type": "code",
      "execution_count": 7,
      "metadata": {
        "id": "ljUWHW6Jqzu-"
      },
      "outputs": [],
      "source": [
        "def create_dataset(state):\n",
        "    # Declared Empty Lists to store the features, labels and video file path values.\n",
        "    features = []\n",
        "    labels = []\n",
        "    video_files_paths = []\n",
        "    # Iterating through all the classes mentioned in the classes list\n",
        "    for class_index, class_name in enumerate(CLASSES_LIST):\n",
        "        # Display the name of the class whose data is being extracted.\n",
        "        print(f'Extracting Data of Class: {class_name} {state}')\n",
        "        # Get the list of video files present in the specific class name directory.\n",
        "        files_list = os.listdir(os.path.join(DATASET_DIR, class_name))\n",
        "        # Iterate through all the files present in the files list.\n",
        "        for file_name in files_list:\n",
        "            # Get the complete video path.\n",
        "            video_file_path = os.path.join(DATASET_DIR, class_name, file_name)\n",
        "            # create testing data\n",
        "            if state == 'test':\n",
        "                # get the mouse number\n",
        "                mouse_number = int(video_file_path.split(' ')[2].split('_')[1].split('-')[1])\n",
        "                # get the mouse side (L or R)\n",
        "                mouse_side = video_file_path.split(' ')[2].split('_')[1].split('-')[2]\n",
        "                if mouse_number == 4 and mouse_side == 'L':\n",
        "                    frames = load_video(video_file_path)\n",
        "                    features.append(frames)\n",
        "                    labels.append(class_index)\n",
        "                    video_files_paths.append(video_file_path)\n",
        "            # create validation data\n",
        "            elif state == 'valid':\n",
        "                # get the mouse number\n",
        "                mouse_number = int(video_file_path.split(' ')[2].split('_')[1].split('-')[1])\n",
        "                # get the mouse side (L or R)\n",
        "                mouse_side = video_file_path.split(' ')[2].split('_')[1].split('-')[2]\n",
        "                if mouse_number == 4 and mouse_side == 'R':\n",
        "                    frames = load_video(video_file_path)\n",
        "                    features.append(frames)\n",
        "                    labels.append(class_index)\n",
        "                    video_files_paths.append(video_file_path)\n",
        "            # create training data\n",
        "            else:\n",
        "                # get the mouse number\n",
        "                mouse_number = int(video_file_path.split(' ')[2].split('_')[1].split('-')[1])\n",
        "                if mouse_number != 4:\n",
        "                    frames = load_video(video_file_path)\n",
        "                    features.append(frames)\n",
        "                    labels.append(class_index)\n",
        "                    video_files_paths.append(video_file_path)\n",
        "    # Converting the list to numpy arrays\n",
        "    features = np.asarray(features)\n",
        "    # print(features)\n",
        "    labels = np.array(labels)\n",
        "    # Return the frames, class index, and video file path.\n",
        "    return features, labels, video_files_paths"
      ]
    },
    {
      "cell_type": "code",
      "execution_count": 8,
      "metadata": {
        "colab": {
          "base_uri": "https://localhost:8080/"
        },
        "id": "a8rpanz9rASe",
        "outputId": "e2c3e9f5-8f61-415e-9898-d8620d65bd66"
      },
      "outputs": [
        {
          "output_type": "stream",
          "name": "stdout",
          "text": [
            "Extracting Data of Class: hemostasis train\n",
            "Extracting Data of Class: inflammatory train\n",
            "Extracting Data of Class: proliferative train\n",
            "Extracting Data of Class: maturation train\n",
            "Extracting Data of Class: hemostasis test\n",
            "Extracting Data of Class: inflammatory test\n",
            "Extracting Data of Class: proliferative test\n",
            "Extracting Data of Class: maturation test\n",
            "Extracting Data of Class: hemostasis valid\n",
            "Extracting Data of Class: inflammatory valid\n",
            "Extracting Data of Class: proliferative valid\n",
            "Extracting Data of Class: maturation valid\n"
          ]
        }
      ],
      "source": [
        "# 6 mice for training, 2 mice for test and validation (one wound on each mice for test one for validation)\n",
        "features_train, labels_train, video_files_paths_train = create_dataset('train')\n",
        "features_test, labels_test, video_files_paths_test = create_dataset('test')\n",
        "features_valid, labels_valid, video_files_paths_valid = create_dataset('valid')"
      ]
    },
    {
      "cell_type": "code",
      "execution_count": 9,
      "metadata": {
        "id": "dtJkK4qTAulC"
      },
      "outputs": [],
      "source": [
        "# labels to catogorical\n",
        "labels_train = keras.utils.to_categorical(labels_train)\n",
        "labels_test = keras.utils.to_categorical(labels_test)\n",
        "labels_valid = keras.utils.to_categorical(labels_valid)"
      ]
    },
    {
      "cell_type": "code",
      "execution_count": 10,
      "metadata": {
        "id": "N-9ykP4ig7IW"
      },
      "outputs": [],
      "source": [
        "def create_3D_CNN_model():\n",
        "    sample_shape = (16, 128, 128, 3)\n",
        "    model = Sequential()\n",
        "\n",
        "    ### 1\n",
        "    model.add(Conv3D(16, (3,3,3), activation='relu', kernel_initializer='he_uniform',\n",
        "                     kernel_regularizer=regularizers.L2(l2=1e-4),\n",
        "                     input_shape=sample_shape))\n",
        "    model.add(MaxPooling3D(2))\n",
        "    model.add(Dropout(0.3))\n",
        "\n",
        "    ### 2\n",
        "    model.add(Conv3D(32, (3,3,3), activation='relu', kernel_initializer='he_uniform',\n",
        "                     kernel_regularizer=regularizers.L2(l2=1e-4)))\n",
        "    model.add(MaxPooling3D(2))\n",
        "    model.add(Dropout(0.3))\n",
        "\n",
        "    # ### 3\n",
        "    # model.add(Conv3D(24, (1,3,3), activation='relu', kernel_initializer='he_uniform',\n",
        "    #                  kernel_regularizer=regularizers.L2(l2=1e-4)))\n",
        "    # model.add(MaxPooling3D(2))\n",
        "    # model.add(Dropout(0.3))\n",
        "\n",
        "    # ### 4\n",
        "    # model.add(Conv3D(32, (1,3,3), activation='relu', kernel_initializer='he_uniform',\n",
        "    #                  kernel_regularizer=regularizers.L2(l2=1e-4)))\n",
        "    # model.add(MaxPooling3D(2))\n",
        "    # model.add(Dropout(0.3))\n",
        "\n",
        "    # ### 5\n",
        "    # model.add(Conv3D(32, (1,3,3), activation='relu', kernel_initializer='he_uniform',\n",
        "    #                  kernel_regularizer=regularizers.L2(l2=1e-4)))\n",
        "    # model.add(MaxPooling3D(2))\n",
        "    # model.add(Dropout(0.3))\n",
        "\n",
        "    model.add(GlobalAveragePooling3D())\n",
        "    model.add(Dropout(0.3))\n",
        "\n",
        "    # model.add(Dense(32, activation='relu', kernel_initializer='he_uniform',\n",
        "    #                 kernel_regularizer=regularizers.L2(l2=1e-4)))\n",
        "    # model.add(Dropout(0.3))\n",
        "\n",
        "    model.add(Dense(16, activation='relu', kernel_initializer='he_uniform',\n",
        "                    kernel_regularizer=regularizers.L2(l2=1e-4)))\n",
        "    model.add(Dropout(0.4))\n",
        "\n",
        "    model.add(Dense(8, activation='relu', kernel_initializer='he_uniform',\n",
        "                    kernel_regularizer=regularizers.L2(l2=1e-4)))\n",
        "\n",
        "    model.add(Dense(len(CLASSES_LIST), activation='softmax'))\n",
        "\n",
        "    model.summary(line_length = 125)\n",
        "\n",
        "    return model"
      ]
    },
    {
      "cell_type": "code",
      "execution_count": 11,
      "metadata": {
        "colab": {
          "base_uri": "https://localhost:8080/"
        },
        "id": "Z4_GxXZBcHlB",
        "outputId": "c6d16fa4-4563-418d-e95d-0111fbba615f"
      },
      "outputs": [
        {
          "output_type": "stream",
          "name": "stdout",
          "text": [
            "Model: \"sequential\"\n",
            "_____________________________________________________________________________________________________________________________\n",
            " Layer (type)                                           Output Shape                                      Param #            \n",
            "=============================================================================================================================\n",
            " conv3d (Conv3D)                                        (None, 14, 126, 126, 16)                          1312               \n",
            "                                                                                                                             \n",
            " max_pooling3d (MaxPooling3D)                           (None, 7, 63, 63, 16)                             0                  \n",
            "                                                                                                                             \n",
            " dropout (Dropout)                                      (None, 7, 63, 63, 16)                             0                  \n",
            "                                                                                                                             \n",
            " conv3d_1 (Conv3D)                                      (None, 5, 61, 61, 32)                             13856              \n",
            "                                                                                                                             \n",
            " max_pooling3d_1 (MaxPooling3D)                         (None, 2, 30, 30, 32)                             0                  \n",
            "                                                                                                                             \n",
            " dropout_1 (Dropout)                                    (None, 2, 30, 30, 32)                             0                  \n",
            "                                                                                                                             \n",
            " global_average_pooling3d (GlobalAveragePooling3D)      (None, 32)                                        0                  \n",
            "                                                                                                                             \n",
            " dropout_2 (Dropout)                                    (None, 32)                                        0                  \n",
            "                                                                                                                             \n",
            " dense (Dense)                                          (None, 16)                                        528                \n",
            "                                                                                                                             \n",
            " dropout_3 (Dropout)                                    (None, 16)                                        0                  \n",
            "                                                                                                                             \n",
            " dense_1 (Dense)                                        (None, 8)                                         136                \n",
            "                                                                                                                             \n",
            " dense_2 (Dense)                                        (None, 4)                                         36                 \n",
            "                                                                                                                             \n",
            "=============================================================================================================================\n",
            "Total params: 15,868\n",
            "Trainable params: 15,868\n",
            "Non-trainable params: 0\n",
            "_____________________________________________________________________________________________________________________________\n",
            "Model Created Successfully!\n"
          ]
        }
      ],
      "source": [
        "# Construct the required convlstm model.\n",
        "model = create_3D_CNN_model()\n",
        " \n",
        "# Display the success message. \n",
        "print(\"Model Created Successfully!\")"
      ]
    },
    {
      "cell_type": "code",
      "execution_count": 12,
      "metadata": {
        "colab": {
          "base_uri": "https://localhost:8080/"
        },
        "id": "MwYEkaYLoyb_",
        "outputId": "45d179ed-57b0-4f43-acf3-5abd39a0dcfe"
      },
      "outputs": [
        {
          "output_type": "stream",
          "name": "stdout",
          "text": [
            "Epoch 1/100\n",
            "30/30 [==============================] - 8s 187ms/step - loss: 1.6532 - accuracy: 0.1894 - val_loss: 1.3188 - val_accuracy: 0.4816\n",
            "Epoch 2/100\n",
            "30/30 [==============================] - 4s 144ms/step - loss: 1.3540 - accuracy: 0.3441 - val_loss: 1.3073 - val_accuracy: 0.4816\n",
            "Epoch 3/100\n",
            "30/30 [==============================] - 4s 145ms/step - loss: 1.3102 - accuracy: 0.3954 - val_loss: 1.2657 - val_accuracy: 0.4816\n",
            "Epoch 4/100\n",
            "30/30 [==============================] - 4s 145ms/step - loss: 1.2646 - accuracy: 0.4171 - val_loss: 1.2118 - val_accuracy: 0.4816\n",
            "Epoch 5/100\n",
            "30/30 [==============================] - 4s 145ms/step - loss: 1.2424 - accuracy: 0.4146 - val_loss: 1.1960 - val_accuracy: 0.4632\n",
            "Epoch 6/100\n",
            "30/30 [==============================] - 4s 143ms/step - loss: 1.1942 - accuracy: 0.4530 - val_loss: 1.1573 - val_accuracy: 0.4449\n",
            "Epoch 7/100\n",
            "30/30 [==============================] - 4s 144ms/step - loss: 1.1532 - accuracy: 0.4913 - val_loss: 1.1290 - val_accuracy: 0.4816\n",
            "Epoch 8/100\n",
            "30/30 [==============================] - 4s 145ms/step - loss: 1.1231 - accuracy: 0.5080 - val_loss: 1.0713 - val_accuracy: 0.4853\n",
            "Epoch 9/100\n",
            "30/30 [==============================] - 4s 145ms/step - loss: 1.0829 - accuracy: 0.5229 - val_loss: 1.0439 - val_accuracy: 0.5772\n",
            "Epoch 10/100\n",
            "30/30 [==============================] - 4s 144ms/step - loss: 1.0558 - accuracy: 0.5526 - val_loss: 1.0005 - val_accuracy: 0.5846\n",
            "Epoch 11/100\n",
            "30/30 [==============================] - 4s 146ms/step - loss: 1.0340 - accuracy: 0.5359 - val_loss: 0.9874 - val_accuracy: 0.5809\n",
            "Epoch 12/100\n",
            "30/30 [==============================] - 4s 145ms/step - loss: 1.0239 - accuracy: 0.5439 - val_loss: 0.9707 - val_accuracy: 0.5882\n",
            "Epoch 13/100\n",
            "30/30 [==============================] - 4s 145ms/step - loss: 1.0032 - accuracy: 0.5390 - val_loss: 0.9317 - val_accuracy: 0.6213\n",
            "Epoch 14/100\n",
            "30/30 [==============================] - 4s 144ms/step - loss: 0.9435 - accuracy: 0.5835 - val_loss: 0.9051 - val_accuracy: 0.5919\n",
            "Epoch 15/100\n",
            "30/30 [==============================] - 4s 145ms/step - loss: 0.9251 - accuracy: 0.5687 - val_loss: 0.8851 - val_accuracy: 0.6176\n",
            "Epoch 16/100\n",
            "30/30 [==============================] - 4s 143ms/step - loss: 0.9142 - accuracy: 0.5903 - val_loss: 0.8840 - val_accuracy: 0.5993\n",
            "Epoch 17/100\n",
            "30/30 [==============================] - 4s 144ms/step - loss: 0.9117 - accuracy: 0.5699 - val_loss: 0.8603 - val_accuracy: 0.5956\n",
            "Epoch 18/100\n",
            "30/30 [==============================] - 4s 143ms/step - loss: 0.8833 - accuracy: 0.5842 - val_loss: 0.8310 - val_accuracy: 0.6287\n",
            "Epoch 19/100\n",
            "30/30 [==============================] - 4s 144ms/step - loss: 0.8567 - accuracy: 0.5873 - val_loss: 0.8408 - val_accuracy: 0.5772\n",
            "Epoch 20/100\n",
            "30/30 [==============================] - 4s 144ms/step - loss: 0.8612 - accuracy: 0.6058 - val_loss: 0.8282 - val_accuracy: 0.5919\n",
            "Epoch 21/100\n",
            "30/30 [==============================] - 4s 145ms/step - loss: 0.8341 - accuracy: 0.6157 - val_loss: 0.8131 - val_accuracy: 0.5993\n",
            "Epoch 22/100\n",
            "30/30 [==============================] - 4s 146ms/step - loss: 0.8369 - accuracy: 0.6219 - val_loss: 0.8010 - val_accuracy: 0.5993\n",
            "Epoch 23/100\n",
            "30/30 [==============================] - 4s 144ms/step - loss: 0.8236 - accuracy: 0.6262 - val_loss: 0.7919 - val_accuracy: 0.6103\n",
            "Epoch 24/100\n",
            "30/30 [==============================] - 4s 144ms/step - loss: 0.8154 - accuracy: 0.6355 - val_loss: 0.8089 - val_accuracy: 0.5919\n",
            "Epoch 25/100\n",
            "30/30 [==============================] - 4s 145ms/step - loss: 0.8327 - accuracy: 0.6120 - val_loss: 0.7876 - val_accuracy: 0.5993\n",
            "Epoch 26/100\n",
            "30/30 [==============================] - 4s 145ms/step - loss: 0.8134 - accuracy: 0.6417 - val_loss: 0.7851 - val_accuracy: 0.6507\n",
            "Epoch 27/100\n",
            "30/30 [==============================] - 4s 144ms/step - loss: 0.7911 - accuracy: 0.6436 - val_loss: 0.7750 - val_accuracy: 0.6176\n",
            "Epoch 28/100\n",
            "30/30 [==============================] - 4s 145ms/step - loss: 0.7889 - accuracy: 0.6293 - val_loss: 0.7767 - val_accuracy: 0.6140\n",
            "Epoch 29/100\n",
            "30/30 [==============================] - 4s 143ms/step - loss: 0.7733 - accuracy: 0.6429 - val_loss: 0.7660 - val_accuracy: 0.6176\n",
            "Epoch 30/100\n",
            "30/30 [==============================] - 4s 145ms/step - loss: 0.7825 - accuracy: 0.6510 - val_loss: 0.7807 - val_accuracy: 0.6360\n",
            "Epoch 31/100\n",
            "30/30 [==============================] - 4s 143ms/step - loss: 0.7976 - accuracy: 0.6460 - val_loss: 0.7829 - val_accuracy: 0.6875\n",
            "Epoch 32/100\n",
            "30/30 [==============================] - 4s 142ms/step - loss: 0.7643 - accuracy: 0.6640 - val_loss: 0.7612 - val_accuracy: 0.6360\n",
            "Epoch 33/100\n",
            "30/30 [==============================] - 4s 145ms/step - loss: 0.7552 - accuracy: 0.6640 - val_loss: 0.7595 - val_accuracy: 0.6875\n",
            "Epoch 34/100\n",
            "30/30 [==============================] - 4s 143ms/step - loss: 0.7577 - accuracy: 0.6615 - val_loss: 0.7484 - val_accuracy: 0.6434\n",
            "Epoch 35/100\n",
            "30/30 [==============================] - 4s 144ms/step - loss: 0.7577 - accuracy: 0.6597 - val_loss: 0.7534 - val_accuracy: 0.6360\n",
            "Epoch 36/100\n",
            "30/30 [==============================] - 4s 146ms/step - loss: 0.7292 - accuracy: 0.6751 - val_loss: 0.7358 - val_accuracy: 0.6912\n",
            "Epoch 37/100\n",
            "30/30 [==============================] - 4s 143ms/step - loss: 0.7530 - accuracy: 0.6640 - val_loss: 0.7476 - val_accuracy: 0.6949\n",
            "Epoch 38/100\n",
            "30/30 [==============================] - 4s 146ms/step - loss: 0.7196 - accuracy: 0.6875 - val_loss: 0.7442 - val_accuracy: 0.6397\n",
            "Epoch 39/100\n",
            "30/30 [==============================] - 4s 146ms/step - loss: 0.7414 - accuracy: 0.6615 - val_loss: 0.7280 - val_accuracy: 0.6949\n",
            "Epoch 40/100\n",
            "30/30 [==============================] - 4s 144ms/step - loss: 0.7193 - accuracy: 0.6881 - val_loss: 0.7254 - val_accuracy: 0.6912\n",
            "Epoch 41/100\n",
            "30/30 [==============================] - 4s 144ms/step - loss: 0.7139 - accuracy: 0.6813 - val_loss: 0.7151 - val_accuracy: 0.6691\n",
            "Epoch 42/100\n",
            "30/30 [==============================] - 4s 145ms/step - loss: 0.7039 - accuracy: 0.6801 - val_loss: 0.7130 - val_accuracy: 0.7169\n",
            "Epoch 43/100\n",
            "30/30 [==============================] - 4s 144ms/step - loss: 0.7108 - accuracy: 0.6844 - val_loss: 0.7092 - val_accuracy: 0.7096\n",
            "Epoch 44/100\n",
            "30/30 [==============================] - 4s 145ms/step - loss: 0.6968 - accuracy: 0.6850 - val_loss: 0.7067 - val_accuracy: 0.7132\n",
            "Epoch 45/100\n",
            "30/30 [==============================] - 4s 143ms/step - loss: 0.6911 - accuracy: 0.6900 - val_loss: 0.7093 - val_accuracy: 0.6949\n",
            "Epoch 46/100\n",
            "30/30 [==============================] - 4s 145ms/step - loss: 0.7099 - accuracy: 0.6863 - val_loss: 0.7060 - val_accuracy: 0.7096\n",
            "Epoch 47/100\n",
            "30/30 [==============================] - 4s 146ms/step - loss: 0.6987 - accuracy: 0.6801 - val_loss: 0.7106 - val_accuracy: 0.6912\n",
            "Epoch 48/100\n",
            "30/30 [==============================] - 4s 143ms/step - loss: 0.6826 - accuracy: 0.7024 - val_loss: 0.6952 - val_accuracy: 0.7132\n",
            "Epoch 49/100\n",
            "30/30 [==============================] - 4s 146ms/step - loss: 0.6837 - accuracy: 0.6949 - val_loss: 0.6910 - val_accuracy: 0.7243\n",
            "Epoch 50/100\n",
            "30/30 [==============================] - 4s 144ms/step - loss: 0.7037 - accuracy: 0.6801 - val_loss: 0.6842 - val_accuracy: 0.7169\n",
            "Epoch 51/100\n",
            "30/30 [==============================] - 4s 145ms/step - loss: 0.6858 - accuracy: 0.7036 - val_loss: 0.6882 - val_accuracy: 0.7132\n",
            "Epoch 52/100\n",
            "30/30 [==============================] - 4s 144ms/step - loss: 0.6792 - accuracy: 0.6968 - val_loss: 0.6794 - val_accuracy: 0.7206\n",
            "Epoch 53/100\n",
            "30/30 [==============================] - 4s 145ms/step - loss: 0.6559 - accuracy: 0.6955 - val_loss: 0.6747 - val_accuracy: 0.7279\n",
            "Epoch 54/100\n",
            "30/30 [==============================] - 4s 144ms/step - loss: 0.6734 - accuracy: 0.6968 - val_loss: 0.6743 - val_accuracy: 0.7243\n",
            "Epoch 55/100\n",
            "30/30 [==============================] - 4s 146ms/step - loss: 0.6767 - accuracy: 0.7085 - val_loss: 0.6761 - val_accuracy: 0.7426\n",
            "Epoch 56/100\n",
            "30/30 [==============================] - 4s 143ms/step - loss: 0.6717 - accuracy: 0.6974 - val_loss: 0.6597 - val_accuracy: 0.6985\n",
            "Epoch 57/100\n",
            "30/30 [==============================] - 4s 144ms/step - loss: 0.6476 - accuracy: 0.7092 - val_loss: 0.6605 - val_accuracy: 0.6801\n",
            "Epoch 58/100\n",
            "30/30 [==============================] - 4s 144ms/step - loss: 0.6377 - accuracy: 0.7135 - val_loss: 0.6519 - val_accuracy: 0.7169\n",
            "Epoch 59/100\n",
            "30/30 [==============================] - 4s 144ms/step - loss: 0.6456 - accuracy: 0.7240 - val_loss: 0.6597 - val_accuracy: 0.7132\n",
            "Epoch 60/100\n",
            "30/30 [==============================] - 4s 143ms/step - loss: 0.6278 - accuracy: 0.7240 - val_loss: 0.6553 - val_accuracy: 0.7059\n",
            "Epoch 61/100\n",
            "30/30 [==============================] - 4s 145ms/step - loss: 0.6178 - accuracy: 0.7302 - val_loss: 0.6415 - val_accuracy: 0.7096\n",
            "Epoch 62/100\n",
            "30/30 [==============================] - 4s 144ms/step - loss: 0.6579 - accuracy: 0.7030 - val_loss: 0.6522 - val_accuracy: 0.7316\n",
            "Epoch 63/100\n",
            "30/30 [==============================] - 4s 143ms/step - loss: 0.6418 - accuracy: 0.7191 - val_loss: 0.6481 - val_accuracy: 0.6985\n",
            "Epoch 64/100\n",
            "30/30 [==============================] - 4s 146ms/step - loss: 0.6407 - accuracy: 0.7215 - val_loss: 0.6535 - val_accuracy: 0.7022\n",
            "Epoch 65/100\n",
            "30/30 [==============================] - 4s 144ms/step - loss: 0.6315 - accuracy: 0.7321 - val_loss: 0.6594 - val_accuracy: 0.7096\n",
            "Epoch 66/100\n",
            "30/30 [==============================] - 4s 145ms/step - loss: 0.6144 - accuracy: 0.7432 - val_loss: 0.6526 - val_accuracy: 0.7096\n",
            "Epoch 67/100\n",
            "30/30 [==============================] - 4s 144ms/step - loss: 0.5975 - accuracy: 0.7389 - val_loss: 0.6341 - val_accuracy: 0.7059\n",
            "Epoch 68/100\n",
            "30/30 [==============================] - 4s 145ms/step - loss: 0.6070 - accuracy: 0.7321 - val_loss: 0.6206 - val_accuracy: 0.7574\n",
            "Epoch 69/100\n",
            "30/30 [==============================] - 4s 143ms/step - loss: 0.6098 - accuracy: 0.7314 - val_loss: 0.6384 - val_accuracy: 0.6838\n",
            "Epoch 70/100\n",
            "30/30 [==============================] - 4s 144ms/step - loss: 0.6096 - accuracy: 0.7389 - val_loss: 0.6477 - val_accuracy: 0.7279\n",
            "Epoch 71/100\n",
            "30/30 [==============================] - 4s 145ms/step - loss: 0.6224 - accuracy: 0.7321 - val_loss: 0.6356 - val_accuracy: 0.7426\n",
            "Epoch 72/100\n",
            "30/30 [==============================] - 4s 143ms/step - loss: 0.6079 - accuracy: 0.7296 - val_loss: 0.6284 - val_accuracy: 0.7059\n",
            "Epoch 73/100\n",
            "30/30 [==============================] - 4s 145ms/step - loss: 0.6052 - accuracy: 0.7494 - val_loss: 0.6261 - val_accuracy: 0.7096\n",
            "Epoch 74/100\n",
            "30/30 [==============================] - 4s 145ms/step - loss: 0.6093 - accuracy: 0.7382 - val_loss: 0.6269 - val_accuracy: 0.7574\n",
            "Epoch 75/100\n",
            "30/30 [==============================] - 4s 146ms/step - loss: 0.5862 - accuracy: 0.7457 - val_loss: 0.6205 - val_accuracy: 0.7169\n",
            "Epoch 76/100\n",
            "30/30 [==============================] - 4s 143ms/step - loss: 0.5736 - accuracy: 0.7655 - val_loss: 0.6181 - val_accuracy: 0.7169\n",
            "Epoch 77/100\n",
            "30/30 [==============================] - 4s 144ms/step - loss: 0.5902 - accuracy: 0.7450 - val_loss: 0.6194 - val_accuracy: 0.7169\n",
            "Epoch 78/100\n",
            "30/30 [==============================] - 4s 144ms/step - loss: 0.5924 - accuracy: 0.7494 - val_loss: 0.6209 - val_accuracy: 0.7316\n",
            "Epoch 79/100\n",
            "30/30 [==============================] - 4s 146ms/step - loss: 0.5823 - accuracy: 0.7624 - val_loss: 0.6133 - val_accuracy: 0.7206\n",
            "Epoch 80/100\n",
            "30/30 [==============================] - 4s 144ms/step - loss: 0.5854 - accuracy: 0.7389 - val_loss: 0.6187 - val_accuracy: 0.7390\n",
            "Epoch 81/100\n",
            "30/30 [==============================] - 4s 142ms/step - loss: 0.5772 - accuracy: 0.7525 - val_loss: 0.6116 - val_accuracy: 0.7463\n",
            "Epoch 82/100\n",
            "30/30 [==============================] - 4s 145ms/step - loss: 0.5669 - accuracy: 0.7587 - val_loss: 0.6109 - val_accuracy: 0.7353\n",
            "Epoch 83/100\n",
            "30/30 [==============================] - 4s 145ms/step - loss: 0.5670 - accuracy: 0.7481 - val_loss: 0.6310 - val_accuracy: 0.6838\n",
            "Epoch 84/100\n",
            "30/30 [==============================] - 4s 144ms/step - loss: 0.5773 - accuracy: 0.7605 - val_loss: 0.5998 - val_accuracy: 0.7390\n",
            "Epoch 85/100\n",
            "30/30 [==============================] - 4s 144ms/step - loss: 0.5876 - accuracy: 0.7345 - val_loss: 0.6221 - val_accuracy: 0.7206\n",
            "Epoch 86/100\n",
            "30/30 [==============================] - 4s 146ms/step - loss: 0.5821 - accuracy: 0.7593 - val_loss: 0.6248 - val_accuracy: 0.7243\n",
            "Epoch 87/100\n",
            "30/30 [==============================] - 4s 146ms/step - loss: 0.5607 - accuracy: 0.7562 - val_loss: 0.6210 - val_accuracy: 0.7132\n",
            "Epoch 88/100\n",
            "30/30 [==============================] - 4s 144ms/step - loss: 0.5509 - accuracy: 0.7580 - val_loss: 0.6119 - val_accuracy: 0.7463\n",
            "Epoch 89/100\n",
            "30/30 [==============================] - 4s 145ms/step - loss: 0.5653 - accuracy: 0.7580 - val_loss: 0.6053 - val_accuracy: 0.7610\n",
            "Epoch 90/100\n",
            "30/30 [==============================] - 4s 146ms/step - loss: 0.5720 - accuracy: 0.7562 - val_loss: 0.6158 - val_accuracy: 0.7390\n",
            "Epoch 91/100\n",
            "30/30 [==============================] - 4s 145ms/step - loss: 0.5732 - accuracy: 0.7475 - val_loss: 0.6287 - val_accuracy: 0.7353\n",
            "Epoch 92/100\n",
            "30/30 [==============================] - 4s 146ms/step - loss: 0.5501 - accuracy: 0.7729 - val_loss: 0.5966 - val_accuracy: 0.7426\n",
            "Epoch 93/100\n",
            "30/30 [==============================] - 4s 145ms/step - loss: 0.5612 - accuracy: 0.7519 - val_loss: 0.6073 - val_accuracy: 0.7243\n",
            "Epoch 94/100\n",
            "30/30 [==============================] - 4s 143ms/step - loss: 0.5557 - accuracy: 0.7649 - val_loss: 0.6186 - val_accuracy: 0.7132\n",
            "Epoch 95/100\n",
            "30/30 [==============================] - 4s 144ms/step - loss: 0.5387 - accuracy: 0.7661 - val_loss: 0.6030 - val_accuracy: 0.7243\n",
            "Epoch 96/100\n",
            "30/30 [==============================] - 4s 145ms/step - loss: 0.5512 - accuracy: 0.7710 - val_loss: 0.6192 - val_accuracy: 0.7316\n",
            "Epoch 97/100\n",
            "30/30 [==============================] - 4s 144ms/step - loss: 0.5583 - accuracy: 0.7624 - val_loss: 0.6240 - val_accuracy: 0.7353\n",
            "Epoch 98/100\n",
            "30/30 [==============================] - 4s 144ms/step - loss: 0.5567 - accuracy: 0.7550 - val_loss: 0.6193 - val_accuracy: 0.7316\n",
            "Epoch 99/100\n",
            "30/30 [==============================] - 4s 144ms/step - loss: 0.5487 - accuracy: 0.7550 - val_loss: 0.5932 - val_accuracy: 0.7537\n",
            "Epoch 100/100\n",
            "30/30 [==============================] - 4s 142ms/step - loss: 0.5354 - accuracy: 0.7710 - val_loss: 0.6065 - val_accuracy: 0.7243\n"
          ]
        }
      ],
      "source": [
        "# Create an Instance of Early Stopping Callback\n",
        "early_stopping_callback = keras.callbacks.EarlyStopping(monitor = 'accuracy',\n",
        "                                                        patience = 20,\n",
        "                                                        mode = 'min',\n",
        "                                                        restore_best_weights = True)\n",
        "# Compile the model and specify loss function, optimizer and metrics values to the model\n",
        "model.compile(loss = 'categorical_crossentropy',\n",
        "              optimizer= keras.optimizers.Adam(0.0005, decay=1e-4),\n",
        "              metrics=['accuracy'])\n",
        "# Start training the model.\n",
        "cnn_3d_model_training_history = model.fit(x = features_train,\n",
        "                                          y = labels_train,\n",
        "                                          epochs=100,\n",
        "                                          batch_size=54,\n",
        "                                          shuffle = True,\n",
        "                                          validation_data = (features_valid, labels_valid))\n",
        "                                          # callbacks = [early_stopping_callback])"
      ]
    },
    {
      "cell_type": "code",
      "execution_count": 13,
      "metadata": {
        "id": "3vimsgjjbXvL",
        "colab": {
          "base_uri": "https://localhost:8080/"
        },
        "outputId": "dbfb67bf-1cef-4bdb-c6a5-5fbf7e2b50d9"
      },
      "outputs": [
        {
          "output_type": "stream",
          "name": "stdout",
          "text": [
            "9/9 [==============================] - 1s 43ms/step - loss: 0.7529 - accuracy: 0.7196\n",
            "\n",
            "\n",
            "Train accuracy: 81.188 % || Test accuracy: 71.956 % || Val accuracy: 72.426 %\n",
            "Train loss: 0.466 || Test loss: 0.753 || Val loss: 0.607\n"
          ]
        }
      ],
      "source": [
        "model_evaluation_history = model.evaluate(features_test, labels_test)\n",
        "print('\\n')\n",
        "train_loss, train_acc = model.evaluate(features_train, labels_train, verbose=0)\n",
        "test_loss, test_acc = model.evaluate(features_test, labels_test, verbose=0)\n",
        "val_loss, val_acc = model.evaluate(features_valid, labels_valid, verbose=0)\n",
        "print(f'Train accuracy: {train_acc*100:.3f} % || Test accuracy: {test_acc*100:.3f} % || Val accuracy: {val_acc*100:.3f} %')\n",
        "print(f'Train loss: {train_loss:.3f} || Test loss: {test_loss:.3f} || Val loss: {val_loss:.3f}')"
      ]
    },
    {
      "cell_type": "code",
      "execution_count": 14,
      "metadata": {
        "id": "ivmaK9BlbnRQ"
      },
      "outputs": [],
      "source": [
        "# Get the loss and accuracy from model_evaluation_history.\n",
        "model_evaluation_loss, model_evaluation_accuracy = model_evaluation_history\n",
        " \n",
        "# Define the string date format.\n",
        "# Get the current Date and Time in a DateTime Object.\n",
        "# Convert the DateTime object to string according to the style mentioned in date_time_format string.\n",
        "date_time_format = '%Y_%m_%d__%H_%M_%S'\n",
        "current_date_time_dt = dt.datetime.now()\n",
        "current_date_time_string = dt.datetime.strftime(current_date_time_dt, date_time_format)\n",
        " \n",
        "# Define a useful name for our model to make it easy for us while navigating through multiple saved models.\n",
        "model_file_name = f'3D_CNN_model___Date_Time_{current_date_time_string}___Loss_{model_evaluation_loss}___Accuracy_{model_evaluation_accuracy}.h5'\n",
        "# Change dir\n",
        "gdrive_path = '/content/gdrive' + '/My Drive/247/Saved_models/'\n",
        "os.chdir(gdrive_path)\n",
        "# Create a floder for the model files\n",
        "!mkdir -p cnn_3d_{current_date_time_string}\n",
        "# Save your Model.\n",
        "model.save('convlstm_' + str(current_date_time_string) + '/' + model_file_name)\n",
        "# Save model weights\n",
        "model.save_weights('convlstm_' + str(current_date_time_string) + '/' + 'weights')"
      ]
    },
    {
      "cell_type": "code",
      "execution_count": 15,
      "metadata": {
        "id": "OwU8TwPrbsKB"
      },
      "outputs": [],
      "source": [
        "def plot_metric(model_training_history, metric_name_1, metric_name_2, plot_name):\n",
        "    '''\n",
        "    This function will plot the metrics passed to it in a graph.\n",
        "    Args:\n",
        "        model_training_history: A history object containing a record of training and validation \n",
        "                                loss values and metrics values at successive epochs\n",
        "        metric_name_1:          The name of the first metric that needs to be plotted in the graph.\n",
        "        metric_name_2:          The name of the second metric that needs to be plotted in the graph.\n",
        "        plot_name:              The title of the graph.\n",
        "    '''\n",
        "    \n",
        "    # Get metric values using metric names as identifiers.\n",
        "    metric_value_1 = model_training_history.history[metric_name_1]\n",
        "    metric_value_2 = model_training_history.history[metric_name_2]\n",
        "    \n",
        "    # Construct a range object which will be used as x-axis (horizontal plane) of the graph.\n",
        "    epochs = range(len(metric_value_1))\n",
        "\n",
        "    # Plot the Graph.\n",
        "    plt.plot(epochs, metric_value_1, 'blue', label = metric_name_1)\n",
        "    plt.plot(epochs, metric_value_2, 'red', label = metric_name_2)\n",
        "\n",
        "    # Add title to the plot.\n",
        "    plt.title(str(plot_name))\n",
        "\n",
        "    # Add legend to the plot.\n",
        "    plt.legend()"
      ]
    },
    {
      "cell_type": "code",
      "execution_count": 16,
      "metadata": {
        "id": "cvKY05ncbwof",
        "colab": {
          "base_uri": "https://localhost:8080/",
          "height": 281
        },
        "outputId": "706ac85c-c678-4cd4-c30a-a7cd0142e78e"
      },
      "outputs": [
        {
          "output_type": "display_data",
          "data": {
            "text/plain": [
              "<Figure size 432x288 with 1 Axes>"
            ],
            "image/png": "[encoded data removed]"
          },
          "metadata": {
            "needs_background": "light"
          }
        }
      ],
      "source": [
        "plot_metric(cnn_3d_model_training_history, 'loss', 'val_loss', 'Total Loss vs Total Validation Loss')"
      ]
    },
    {
      "cell_type": "code",
      "execution_count": 17,
      "metadata": {
        "id": "o1iaaDHBb5i0",
        "colab": {
          "base_uri": "https://localhost:8080/",
          "height": 281
        },
        "outputId": "77f0b5d9-baf5-4e1d-f877-929c9d45ceaf"
      },
      "outputs": [
        {
          "output_type": "display_data",
          "data": {
            "text/plain": [
              "<Figure size 432x288 with 1 Axes>"
            ],
            "image/png": "[encoded data removed]"
          },
          "metadata": {
            "needs_background": "light"
          }
        }
      ],
      "source": [
        "plot_metric(cnn_3d_model_training_history, 'accuracy', 'val_accuracy', 'Total Accuracy vs Total Validation Accuracy') "
      ]
    }
  ],
  "metadata": {
    "accelerator": "GPU",
    "colab": {
      "background_execution": "on",
      "collapsed_sections": [],
      "machine_shape": "hm",
      "name": "3D_CNN.ipynb",
      "provenance": [],
      "authorship_tag": "ABX9TyM5Zr1bxz5wdm8wWCBeziC0",
      "include_colab_link": true
    },
    "kernelspec": {
      "display_name": "Python 3",
      "name": "python3"
    },
    "language_info": {
      "name": "python"
    }
  },
  "nbformat": 4,
  "nbformat_minor": 0
}