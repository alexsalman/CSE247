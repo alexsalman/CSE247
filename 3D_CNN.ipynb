{
  "cells": [
    {
      "cell_type": "markdown",
      "metadata": {
        "id": "view-in-github",
        "colab_type": "text"
      },
      "source": [
        "<a href=\"https://colab.research.google.com/github/alexsalman/CSE247/blob/main/3D_CNN.ipynb\" target=\"_parent\"><img src=\"https://colab.research.google.com/assets/colab-badge.svg\" alt=\"Open In Colab\"/></a>"
      ]
    },
    {
      "cell_type": "markdown",
      "metadata": {
        "id": "Kk7I8NauauE3"
      },
      "source": [
        "####**3D Convolutional Neural Network**\n",
        "######*I am using 3D Convolutional Neural Network to extract the temporal and spatial information which are merged slowly throughout the whole network.*"
      ]
    },
    {
      "cell_type": "code",
      "execution_count": 1,
      "metadata": {
        "colab": {
          "base_uri": "https://localhost:8080/"
        },
        "id": "M8ibtd5HKtZk",
        "outputId": "6d8f9b06-e8f1-49b1-a4cc-f569317f80ee"
      },
      "outputs": [
        {
          "output_type": "stream",
          "name": "stdout",
          "text": [
            "2.8.0\n"
          ]
        }
      ],
      "source": [
        "# required libraries\n",
        "import os\n",
        "import cv2\n",
        "import math\n",
        "import random\n",
        "import numpy as np\n",
        "import datetime as dt\n",
        "from collections import deque\n",
        "import matplotlib.pyplot as plt\n",
        "from google.colab import drive\n",
        "from sklearn.model_selection import train_test_split\n",
        "import tensorflow as tf\n",
        "from tensorflow import keras\n",
        "from keras.models import Sequential\n",
        "from keras.layers import Dense, Flatten, Conv3D, MaxPooling3D, Dropout, BatchNormalization, GlobalAveragePooling3D\n",
        "from keras import regularizers\n",
        "from PIL import Image\n",
        "%matplotlib inline\n",
        "print(tf.version.VERSION)\n",
        "# https://bleedai.com/human-activity-recognition-using-tensorflow-cnn-lstm/"
      ]
    },
    {
      "cell_type": "code",
      "execution_count": 2,
      "metadata": {
        "id": "iffdFOf1CEAN"
      },
      "outputs": [],
      "source": [
        "# set Numpy, Python, and Tensorflow seeds to get consistent results on every execution\n",
        "seed_constant = 27\n",
        "np.random.seed(seed_constant)\n",
        "random.seed(seed_constant)\n",
        "tf.random.set_seed(seed_constant)"
      ]
    },
    {
      "cell_type": "code",
      "execution_count": 3,
      "metadata": {
        "colab": {
          "base_uri": "https://localhost:8080/",
          "height": 53
        },
        "id": "mcLh22LiOHyn",
        "outputId": "eeb1483c-2664-4d5a-ceb1-4a96053f8a8f"
      },
      "outputs": [
        {
          "output_type": "stream",
          "name": "stdout",
          "text": [
            "Mounted at /content/gdrive/\n"
          ]
        },
        {
          "output_type": "execute_result",
          "data": {
            "text/plain": [
              "'/content/gdrive/My Drive/247'"
            ],
            "application/vnd.google.colaboratory.intrinsic+json": {
              "type": "string"
            }
          },
          "metadata": {},
          "execution_count": 3
        }
      ],
      "source": [
        "# mount dataset from google drive\n",
        "drive.mount('/content/gdrive/', force_remount=True)\n",
        "gdrive_path = '/content/gdrive' + '/My Drive/247/'\n",
        "os.chdir(gdrive_path)\n",
        "os.getcwd()"
      ]
    },
    {
      "cell_type": "code",
      "execution_count": 4,
      "metadata": {
        "id": "oeDK8SzumZ1Q"
      },
      "outputs": [],
      "source": [
        "# frame dimention\n",
        "IMAGE_HEIGHT, IMAGE_WIDTH = 128, 128\n",
        "# frame number for each video (depth)\n",
        "SEQUENCE_LENGTH = 16\n",
        "# video dir path\n",
        "DATASET_DIR = gdrive_path + 'Cropped_videos'\n",
        "# labels of classes\n",
        "CLASSES_LIST = ['hemostasis', 'inflammatory', 'proliferative', 'maturation']"
      ]
    },
    {
      "cell_type": "code",
      "execution_count": 5,
      "metadata": {
        "id": "HUTeIqzpZc9J"
      },
      "outputs": [],
      "source": [
        "# image cropping\n",
        "def crop_center_square(frame):\n",
        "    y, x = frame.shape[0:2]\n",
        "    min_dim = min(y, x)\n",
        "    start_x = (x // 2) - (min_dim // 2)\n",
        "    start_y = (y // 2) - (min_dim // 2)\n",
        "    return frame[start_y:start_y+min_dim,start_x:start_x+min_dim]"
      ]
    },
    {
      "cell_type": "code",
      "execution_count": 6,
      "metadata": {
        "id": "QRDbHG0TZkYJ"
      },
      "outputs": [],
      "source": [
        "# https://medium.com/analytics-vidhya/video-preprocessor-and-augmentation-for-deep-learning-tasks-12dd3fcce868\n",
        "def load_video(path, resize=(128, 128)):\n",
        "    video_reader = cv2.VideoCapture(path)\n",
        "    frames = []\n",
        "    try:\n",
        "        while True:\n",
        "            ret, frame = video_reader.read()\n",
        "            if not ret:\n",
        "                  break\n",
        "            # frame = crop_center_square(frame)\n",
        "            frame = cv2.resize(frame, resize)\n",
        "            frame = frame[:, :, [2, 1, 0]]\n",
        "            black_frame = frame\n",
        "            frames.append(frame)\n",
        "    finally:\n",
        "        video_reader.release()\n",
        "    return np.array(frames) / 255.0"
      ]
    },
    {
      "cell_type": "code",
      "execution_count": 7,
      "metadata": {
        "id": "ljUWHW6Jqzu-"
      },
      "outputs": [],
      "source": [
        "def create_dataset(state):\n",
        "    # Declared Empty Lists to store the features, labels and video file path values.\n",
        "    features = []\n",
        "    labels = []\n",
        "    video_files_paths = []\n",
        "    # Iterating through all the classes mentioned in the classes list\n",
        "    for class_index, class_name in enumerate(CLASSES_LIST):\n",
        "        # Display the name of the class whose data is being extracted.\n",
        "        print(f'Extracting Data of Class: {class_name} {state}')\n",
        "        # Get the list of video files present in the specific class name directory.\n",
        "        files_list = os.listdir(os.path.join(DATASET_DIR, class_name))\n",
        "        # Iterate through all the files present in the files list.\n",
        "        for file_name in files_list:\n",
        "            # Get the complete video path.\n",
        "            video_file_path = os.path.join(DATASET_DIR, class_name, file_name)\n",
        "            # create testing data\n",
        "            if state == 'test':\n",
        "                # get the mouse number\n",
        "                mouse_number = int(video_file_path.split(' ')[2].split('_')[1].split('-')[1])\n",
        "                # get the mouse side (L or R)\n",
        "                mouse_side = video_file_path.split(' ')[2].split('_')[1].split('-')[2]\n",
        "                if mouse_number == 4 and mouse_side == 'L':\n",
        "                    frames = load_video(video_file_path)\n",
        "                    features.append(frames)\n",
        "                    labels.append(class_index)\n",
        "                    video_files_paths.append(video_file_path)\n",
        "            # create validation data\n",
        "            elif state == 'valid':\n",
        "                # get the mouse number\n",
        "                mouse_number = int(video_file_path.split(' ')[2].split('_')[1].split('-')[1])\n",
        "                # get the mouse side (L or R)\n",
        "                mouse_side = video_file_path.split(' ')[2].split('_')[1].split('-')[2]\n",
        "                if mouse_number == 4 and mouse_side == 'R':\n",
        "                    frames = load_video(video_file_path)\n",
        "                    features.append(frames)\n",
        "                    labels.append(class_index)\n",
        "                    video_files_paths.append(video_file_path)\n",
        "            # create training data\n",
        "            else:\n",
        "                # get the mouse number\n",
        "                mouse_number = int(video_file_path.split(' ')[2].split('_')[1].split('-')[1])\n",
        "                if mouse_number != 4:\n",
        "                    frames = load_video(video_file_path)\n",
        "                    features.append(frames)\n",
        "                    labels.append(class_index)\n",
        "                    video_files_paths.append(video_file_path)\n",
        "    # Converting the list to numpy arrays\n",
        "    features = np.asarray(features)\n",
        "    # print(features)\n",
        "    labels = np.array(labels)\n",
        "    # Return the frames, class index, and video file path.\n",
        "    return features, labels, video_files_paths"
      ]
    },
    {
      "cell_type": "code",
      "execution_count": 8,
      "metadata": {
        "colab": {
          "base_uri": "https://localhost:8080/"
        },
        "id": "a8rpanz9rASe",
        "outputId": "b0d6fdd6-b78d-4173-dfdd-645df925c2c6"
      },
      "outputs": [
        {
          "output_type": "stream",
          "name": "stdout",
          "text": [
            "Extracting Data of Class: hemostasis train\n",
            "Extracting Data of Class: inflammatory train\n",
            "Extracting Data of Class: proliferative train\n",
            "Extracting Data of Class: maturation train\n",
            "Extracting Data of Class: hemostasis test\n",
            "Extracting Data of Class: inflammatory test\n",
            "Extracting Data of Class: proliferative test\n",
            "Extracting Data of Class: maturation test\n",
            "Extracting Data of Class: hemostasis valid\n",
            "Extracting Data of Class: inflammatory valid\n",
            "Extracting Data of Class: proliferative valid\n",
            "Extracting Data of Class: maturation valid\n"
          ]
        }
      ],
      "source": [
        "# 6 mice for training, 2 mice for test and validation (one wound on each mice for test one for validation)\n",
        "features_train, labels_train, video_files_paths_train = create_dataset('train')\n",
        "features_test, labels_test, video_files_paths_test = create_dataset('test')\n",
        "features_valid, labels_valid, video_files_paths_valid = create_dataset('valid')"
      ]
    },
    {
      "cell_type": "code",
      "execution_count": 9,
      "metadata": {
        "id": "dtJkK4qTAulC"
      },
      "outputs": [],
      "source": [
        "# one_hot_encoded_labels\n",
        "labels_train = keras.utils.to_categorical(labels_train)\n",
        "labels_test = keras.utils.to_categorical(labels_test)\n",
        "labels_valid = keras.utils.to_categorical(labels_valid)"
      ]
    },
    {
      "cell_type": "code",
      "execution_count": 10,
      "metadata": {
        "id": "N-9ykP4ig7IW"
      },
      "outputs": [],
      "source": [
        "def create_3D_CNN_model():\n",
        "    sample_shape = (16, 128, 128, 3)\n",
        "    model = Sequential()\n",
        "\n",
        "    model.add(Conv3D(32, 3, activation='relu', kernel_initializer='he_uniform',\n",
        "                     kernel_regularizer=regularizers.L2(l2=1e-4),\n",
        "                     input_shape=sample_shape))\n",
        "    # model.add(BatchNormalization())\n",
        "    model.add(MaxPooling3D(2))\n",
        "    model.add(Dropout(0.6))\n",
        "\n",
        "    model.add(Conv3D(32, 3, activation='relu', kernel_initializer='he_uniform',\n",
        "                     kernel_regularizer=regularizers.L2(l2=1e-4)))\n",
        "    # model.add(BatchNormalization())\n",
        "    model.add(MaxPooling3D(2))\n",
        "    model.add(Dropout(0.6))\n",
        "\n",
        "    model.add(GlobalAveragePooling3D())\n",
        "\n",
        "    model.add(Dense(32, activation='relu', kernel_initializer='he_uniform',\n",
        "                    kernel_regularizer=regularizers.L2(l2=1e-4)))\n",
        "    model.add(Dropout(0.6))\n",
        "\n",
        "    model.add(Dense(16, activation='relu', kernel_initializer='he_uniform',\n",
        "                    kernel_regularizer=regularizers.L2(l2=1e-4)))\n",
        "    # model.add(Dropout(0.6))\n",
        "    # model.add(Dense(8, activation='relu', kernel_initializer='he_uniform'))\n",
        "    # model.add(Dropout(0.3))\n",
        "    # model.add(Dense(8, activation='relu', kernel_initializer='he_uniform'))\n",
        "    # model.add(Dropout(0.3))\n",
        "    model.add(Dense(len(CLASSES_LIST), activation='softmax'))\n",
        "\n",
        "    # Display the models summary.\n",
        "    model.summary(line_length = 125)\n",
        "    # Return the constructed 3D_CNN model.\n",
        "    return model"
      ]
    },
    {
      "cell_type": "code",
      "execution_count": 11,
      "metadata": {
        "colab": {
          "base_uri": "https://localhost:8080/"
        },
        "id": "Z4_GxXZBcHlB",
        "outputId": "83569acb-df16-46e0-9741-6ac85db76a1a"
      },
      "outputs": [
        {
          "output_type": "stream",
          "name": "stdout",
          "text": [
            "Model: \"sequential\"\n",
            "_____________________________________________________________________________________________________________________________\n",
            " Layer (type)                                           Output Shape                                      Param #            \n",
            "=============================================================================================================================\n",
            " conv3d (Conv3D)                                        (None, 14, 126, 126, 32)                          2624               \n",
            "                                                                                                                             \n",
            " max_pooling3d (MaxPooling3D)                           (None, 7, 63, 63, 32)                             0                  \n",
            "                                                                                                                             \n",
            " dropout (Dropout)                                      (None, 7, 63, 63, 32)                             0                  \n",
            "                                                                                                                             \n",
            " conv3d_1 (Conv3D)                                      (None, 5, 61, 61, 32)                             27680              \n",
            "                                                                                                                             \n",
            " max_pooling3d_1 (MaxPooling3D)                         (None, 2, 30, 30, 32)                             0                  \n",
            "                                                                                                                             \n",
            " dropout_1 (Dropout)                                    (None, 2, 30, 30, 32)                             0                  \n",
            "                                                                                                                             \n",
            " global_average_pooling3d (GlobalAveragePooling3D)      (None, 32)                                        0                  \n",
            "                                                                                                                             \n",
            " dense (Dense)                                          (None, 32)                                        1056               \n",
            "                                                                                                                             \n",
            " dropout_2 (Dropout)                                    (None, 32)                                        0                  \n",
            "                                                                                                                             \n",
            " dense_1 (Dense)                                        (None, 16)                                        528                \n",
            "                                                                                                                             \n",
            " dense_2 (Dense)                                        (None, 4)                                         68                 \n",
            "                                                                                                                             \n",
            "=============================================================================================================================\n",
            "Total params: 31,956\n",
            "Trainable params: 31,956\n",
            "Non-trainable params: 0\n",
            "_____________________________________________________________________________________________________________________________\n",
            "Model Created Successfully!\n"
          ]
        }
      ],
      "source": [
        "# Construct the required convlstm model.\n",
        "model = create_3D_CNN_model()\n",
        " \n",
        "# Display the success message. \n",
        "print(\"Model Created Successfully!\")"
      ]
    },
    {
      "cell_type": "code",
      "execution_count": 12,
      "metadata": {
        "colab": {
          "base_uri": "https://localhost:8080/"
        },
        "id": "MwYEkaYLoyb_",
        "outputId": "03579556-bf99-4740-ec59-53c71af15bfc"
      },
      "outputs": [
        {
          "output_type": "stream",
          "name": "stdout",
          "text": [
            "Epoch 1/120\n",
            "34/34 [==============================] - 13s 298ms/step - loss: 1.5279 - accuracy: 0.3496 - val_loss: 1.3347 - val_accuracy: 0.4522\n",
            "Epoch 2/120\n",
            "34/34 [==============================] - 9s 260ms/step - loss: 1.2116 - accuracy: 0.4344 - val_loss: 1.1379 - val_accuracy: 0.5846\n",
            "Epoch 3/120\n",
            "34/34 [==============================] - 9s 261ms/step - loss: 1.0487 - accuracy: 0.5334 - val_loss: 0.9776 - val_accuracy: 0.5993\n",
            "Epoch 4/120\n",
            "34/34 [==============================] - 9s 260ms/step - loss: 0.9549 - accuracy: 0.5464 - val_loss: 0.9333 - val_accuracy: 0.5882\n",
            "Epoch 5/120\n",
            "34/34 [==============================] - 9s 262ms/step - loss: 0.9014 - accuracy: 0.5817 - val_loss: 0.9151 - val_accuracy: 0.5735\n",
            "Epoch 6/120\n",
            "34/34 [==============================] - 9s 260ms/step - loss: 0.8658 - accuracy: 0.6151 - val_loss: 0.8714 - val_accuracy: 0.5956\n",
            "Epoch 7/120\n",
            "34/34 [==============================] - 9s 260ms/step - loss: 0.8471 - accuracy: 0.6200 - val_loss: 0.8688 - val_accuracy: 0.6213\n",
            "Epoch 8/120\n",
            "34/34 [==============================] - 9s 261ms/step - loss: 0.8021 - accuracy: 0.6306 - val_loss: 0.8307 - val_accuracy: 0.6176\n",
            "Epoch 9/120\n",
            "34/34 [==============================] - 9s 259ms/step - loss: 0.8037 - accuracy: 0.6324 - val_loss: 0.8329 - val_accuracy: 0.6250\n",
            "Epoch 10/120\n",
            "34/34 [==============================] - 9s 264ms/step - loss: 0.7692 - accuracy: 0.6609 - val_loss: 0.8050 - val_accuracy: 0.6103\n",
            "Epoch 11/120\n",
            "34/34 [==============================] - 9s 262ms/step - loss: 0.7566 - accuracy: 0.6541 - val_loss: 0.8070 - val_accuracy: 0.6213\n",
            "Epoch 12/120\n",
            "34/34 [==============================] - 9s 262ms/step - loss: 0.7457 - accuracy: 0.6782 - val_loss: 0.8227 - val_accuracy: 0.6250\n",
            "Epoch 13/120\n",
            "34/34 [==============================] - 9s 260ms/step - loss: 0.7318 - accuracy: 0.6770 - val_loss: 0.7850 - val_accuracy: 0.6066\n",
            "Epoch 14/120\n",
            "34/34 [==============================] - 9s 264ms/step - loss: 0.6966 - accuracy: 0.6974 - val_loss: 0.8069 - val_accuracy: 0.6066\n",
            "Epoch 15/120\n",
            "34/34 [==============================] - 9s 260ms/step - loss: 0.7037 - accuracy: 0.6850 - val_loss: 0.7907 - val_accuracy: 0.6176\n",
            "Epoch 16/120\n",
            "34/34 [==============================] - 9s 261ms/step - loss: 0.7039 - accuracy: 0.6900 - val_loss: 0.7923 - val_accuracy: 0.6140\n",
            "Epoch 17/120\n",
            "34/34 [==============================] - 9s 259ms/step - loss: 0.6679 - accuracy: 0.7104 - val_loss: 0.7932 - val_accuracy: 0.6103\n",
            "Epoch 18/120\n",
            "34/34 [==============================] - 9s 260ms/step - loss: 0.7027 - accuracy: 0.6900 - val_loss: 0.8129 - val_accuracy: 0.5662\n",
            "Epoch 19/120\n",
            "34/34 [==============================] - 9s 263ms/step - loss: 0.6519 - accuracy: 0.7104 - val_loss: 0.7674 - val_accuracy: 0.6103\n",
            "Epoch 20/120\n",
            "34/34 [==============================] - 9s 261ms/step - loss: 0.6349 - accuracy: 0.7382 - val_loss: 0.7617 - val_accuracy: 0.6176\n",
            "Epoch 21/120\n",
            "34/34 [==============================] - 9s 261ms/step - loss: 0.6305 - accuracy: 0.7246 - val_loss: 0.7337 - val_accuracy: 0.6654\n",
            "Epoch 22/120\n",
            "34/34 [==============================] - 9s 263ms/step - loss: 0.6101 - accuracy: 0.7488 - val_loss: 0.7462 - val_accuracy: 0.6838\n",
            "Epoch 23/120\n",
            "34/34 [==============================] - 9s 261ms/step - loss: 0.6028 - accuracy: 0.7382 - val_loss: 0.7440 - val_accuracy: 0.6324\n",
            "Epoch 24/120\n",
            "34/34 [==============================] - 9s 261ms/step - loss: 0.5997 - accuracy: 0.7580 - val_loss: 0.7250 - val_accuracy: 0.6581\n",
            "Epoch 25/120\n",
            "34/34 [==============================] - 9s 261ms/step - loss: 0.5792 - accuracy: 0.7649 - val_loss: 0.7143 - val_accuracy: 0.6544\n",
            "Epoch 26/120\n",
            "34/34 [==============================] - 9s 259ms/step - loss: 0.5725 - accuracy: 0.7710 - val_loss: 0.6953 - val_accuracy: 0.6691\n",
            "Epoch 27/120\n",
            "34/34 [==============================] - 9s 261ms/step - loss: 0.5917 - accuracy: 0.7413 - val_loss: 0.6772 - val_accuracy: 0.7243\n",
            "Epoch 28/120\n",
            "34/34 [==============================] - 9s 261ms/step - loss: 0.5656 - accuracy: 0.7593 - val_loss: 0.7690 - val_accuracy: 0.6324\n",
            "Epoch 29/120\n",
            "34/34 [==============================] - 9s 260ms/step - loss: 0.5628 - accuracy: 0.7636 - val_loss: 0.6831 - val_accuracy: 0.7353\n",
            "Epoch 30/120\n",
            "34/34 [==============================] - 9s 261ms/step - loss: 0.5641 - accuracy: 0.7649 - val_loss: 0.6880 - val_accuracy: 0.6949\n",
            "Epoch 31/120\n",
            "34/34 [==============================] - 9s 260ms/step - loss: 0.5448 - accuracy: 0.7624 - val_loss: 0.7336 - val_accuracy: 0.6176\n",
            "Epoch 32/120\n",
            "34/34 [==============================] - 9s 261ms/step - loss: 0.5435 - accuracy: 0.7686 - val_loss: 0.6670 - val_accuracy: 0.7316\n",
            "Epoch 33/120\n",
            "34/34 [==============================] - 9s 260ms/step - loss: 0.5552 - accuracy: 0.7704 - val_loss: 0.6782 - val_accuracy: 0.6654\n",
            "Epoch 34/120\n",
            "34/34 [==============================] - 9s 260ms/step - loss: 0.5309 - accuracy: 0.7816 - val_loss: 0.6350 - val_accuracy: 0.7463\n",
            "Epoch 35/120\n",
            "34/34 [==============================] - 9s 260ms/step - loss: 0.5207 - accuracy: 0.7853 - val_loss: 0.6794 - val_accuracy: 0.6801\n",
            "Epoch 36/120\n",
            "34/34 [==============================] - 9s 261ms/step - loss: 0.5303 - accuracy: 0.7772 - val_loss: 0.7228 - val_accuracy: 0.6618\n",
            "Epoch 37/120\n",
            "34/34 [==============================] - 9s 263ms/step - loss: 0.5247 - accuracy: 0.7816 - val_loss: 0.7131 - val_accuracy: 0.6654\n",
            "Epoch 38/120\n",
            "34/34 [==============================] - 9s 261ms/step - loss: 0.5288 - accuracy: 0.7673 - val_loss: 0.6561 - val_accuracy: 0.7059\n",
            "Epoch 39/120\n",
            "34/34 [==============================] - 9s 259ms/step - loss: 0.5029 - accuracy: 0.7915 - val_loss: 0.6451 - val_accuracy: 0.7353\n",
            "Epoch 40/120\n",
            "34/34 [==============================] - 9s 261ms/step - loss: 0.5084 - accuracy: 0.7871 - val_loss: 0.6917 - val_accuracy: 0.6544\n",
            "Epoch 41/120\n",
            "34/34 [==============================] - 9s 260ms/step - loss: 0.4965 - accuracy: 0.7976 - val_loss: 0.6432 - val_accuracy: 0.7426\n",
            "Epoch 42/120\n",
            "34/34 [==============================] - 9s 261ms/step - loss: 0.4946 - accuracy: 0.8014 - val_loss: 0.7288 - val_accuracy: 0.6397\n",
            "Epoch 43/120\n",
            "34/34 [==============================] - 9s 260ms/step - loss: 0.4898 - accuracy: 0.7983 - val_loss: 0.6403 - val_accuracy: 0.7353\n",
            "Epoch 44/120\n",
            "34/34 [==============================] - 9s 262ms/step - loss: 0.4797 - accuracy: 0.8007 - val_loss: 0.6562 - val_accuracy: 0.7279\n",
            "Epoch 45/120\n",
            "34/34 [==============================] - 9s 261ms/step - loss: 0.4833 - accuracy: 0.7939 - val_loss: 0.6616 - val_accuracy: 0.6801\n",
            "Epoch 46/120\n",
            "34/34 [==============================] - 9s 259ms/step - loss: 0.5010 - accuracy: 0.7803 - val_loss: 0.8748 - val_accuracy: 0.6140\n",
            "Epoch 47/120\n",
            "34/34 [==============================] - 9s 263ms/step - loss: 0.4867 - accuracy: 0.7877 - val_loss: 0.6966 - val_accuracy: 0.6618\n",
            "Epoch 48/120\n",
            "34/34 [==============================] - 9s 261ms/step - loss: 0.4745 - accuracy: 0.8100 - val_loss: 0.6481 - val_accuracy: 0.7206\n",
            "Epoch 49/120\n",
            "34/34 [==============================] - 9s 260ms/step - loss: 0.4832 - accuracy: 0.7927 - val_loss: 0.6691 - val_accuracy: 0.7243\n",
            "Epoch 50/120\n",
            "34/34 [==============================] - 9s 261ms/step - loss: 0.4616 - accuracy: 0.8082 - val_loss: 0.6474 - val_accuracy: 0.7500\n",
            "Epoch 51/120\n",
            "34/34 [==============================] - 9s 260ms/step - loss: 0.4785 - accuracy: 0.7884 - val_loss: 0.6674 - val_accuracy: 0.7169\n",
            "Epoch 52/120\n",
            "34/34 [==============================] - 9s 261ms/step - loss: 0.4599 - accuracy: 0.8082 - val_loss: 0.6893 - val_accuracy: 0.7022\n",
            "Epoch 53/120\n",
            "34/34 [==============================] - 9s 262ms/step - loss: 0.4704 - accuracy: 0.8045 - val_loss: 0.6464 - val_accuracy: 0.7463\n",
            "Epoch 54/120\n",
            "34/34 [==============================] - 9s 262ms/step - loss: 0.4655 - accuracy: 0.8014 - val_loss: 0.7281 - val_accuracy: 0.6434\n",
            "Epoch 55/120\n",
            "34/34 [==============================] - 9s 261ms/step - loss: 0.4632 - accuracy: 0.8082 - val_loss: 0.6860 - val_accuracy: 0.6801\n",
            "Epoch 56/120\n",
            "34/34 [==============================] - 9s 261ms/step - loss: 0.4685 - accuracy: 0.7964 - val_loss: 0.6301 - val_accuracy: 0.7537\n",
            "Epoch 57/120\n",
            "34/34 [==============================] - 9s 262ms/step - loss: 0.4677 - accuracy: 0.7995 - val_loss: 0.6492 - val_accuracy: 0.7353\n",
            "Epoch 58/120\n",
            "34/34 [==============================] - 9s 259ms/step - loss: 0.4786 - accuracy: 0.7915 - val_loss: 0.6459 - val_accuracy: 0.7279\n",
            "Epoch 59/120\n",
            "34/34 [==============================] - 9s 260ms/step - loss: 0.4564 - accuracy: 0.8063 - val_loss: 0.6586 - val_accuracy: 0.7647\n",
            "Epoch 60/120\n",
            "34/34 [==============================] - 9s 260ms/step - loss: 0.4365 - accuracy: 0.8100 - val_loss: 0.6581 - val_accuracy: 0.7463\n",
            "Epoch 61/120\n",
            "34/34 [==============================] - 9s 260ms/step - loss: 0.4318 - accuracy: 0.8205 - val_loss: 0.8355 - val_accuracy: 0.6250\n",
            "Epoch 62/120\n",
            "34/34 [==============================] - 9s 261ms/step - loss: 0.4391 - accuracy: 0.8168 - val_loss: 0.6756 - val_accuracy: 0.7132\n",
            "Epoch 63/120\n",
            "34/34 [==============================] - 9s 262ms/step - loss: 0.4488 - accuracy: 0.8175 - val_loss: 0.6718 - val_accuracy: 0.6985\n",
            "Epoch 64/120\n",
            "34/34 [==============================] - 9s 261ms/step - loss: 0.4356 - accuracy: 0.8051 - val_loss: 0.6580 - val_accuracy: 0.7794\n",
            "Epoch 65/120\n",
            "34/34 [==============================] - 9s 260ms/step - loss: 0.4597 - accuracy: 0.8106 - val_loss: 0.6824 - val_accuracy: 0.6801\n",
            "Epoch 66/120\n",
            "34/34 [==============================] - 9s 260ms/step - loss: 0.4737 - accuracy: 0.8100 - val_loss: 0.6657 - val_accuracy: 0.7574\n",
            "Epoch 67/120\n",
            "34/34 [==============================] - 9s 260ms/step - loss: 0.4557 - accuracy: 0.8088 - val_loss: 0.6346 - val_accuracy: 0.7353\n",
            "Epoch 68/120\n",
            "34/34 [==============================] - 9s 262ms/step - loss: 0.4320 - accuracy: 0.8168 - val_loss: 0.6494 - val_accuracy: 0.7757\n",
            "Epoch 69/120\n",
            "34/34 [==============================] - 9s 263ms/step - loss: 0.4187 - accuracy: 0.8212 - val_loss: 0.7415 - val_accuracy: 0.6618\n",
            "Epoch 70/120\n",
            "34/34 [==============================] - 9s 262ms/step - loss: 0.4153 - accuracy: 0.8267 - val_loss: 0.6505 - val_accuracy: 0.7426\n",
            "Epoch 71/120\n",
            "34/34 [==============================] - 9s 260ms/step - loss: 0.4317 - accuracy: 0.8051 - val_loss: 0.6342 - val_accuracy: 0.7500\n",
            "Epoch 72/120\n",
            "34/34 [==============================] - 9s 260ms/step - loss: 0.4165 - accuracy: 0.8323 - val_loss: 0.7175 - val_accuracy: 0.7132\n",
            "Epoch 73/120\n",
            "34/34 [==============================] - 9s 262ms/step - loss: 0.4074 - accuracy: 0.8224 - val_loss: 0.6467 - val_accuracy: 0.7574\n",
            "Epoch 74/120\n",
            "34/34 [==============================] - 9s 260ms/step - loss: 0.4177 - accuracy: 0.8193 - val_loss: 0.6469 - val_accuracy: 0.7206\n",
            "Epoch 75/120\n",
            "34/34 [==============================] - 9s 260ms/step - loss: 0.4083 - accuracy: 0.8255 - val_loss: 0.7093 - val_accuracy: 0.6838\n",
            "Epoch 76/120\n",
            "34/34 [==============================] - 9s 260ms/step - loss: 0.4150 - accuracy: 0.8255 - val_loss: 0.7108 - val_accuracy: 0.6801\n",
            "Epoch 77/120\n",
            "34/34 [==============================] - 9s 260ms/step - loss: 0.4247 - accuracy: 0.8187 - val_loss: 0.6459 - val_accuracy: 0.7537\n",
            "Epoch 78/120\n",
            "34/34 [==============================] - 9s 263ms/step - loss: 0.4159 - accuracy: 0.8274 - val_loss: 0.6175 - val_accuracy: 0.7684\n",
            "Epoch 79/120\n",
            "34/34 [==============================] - 9s 260ms/step - loss: 0.4053 - accuracy: 0.8286 - val_loss: 0.6408 - val_accuracy: 0.7684\n",
            "Epoch 80/120\n",
            "34/34 [==============================] - 9s 261ms/step - loss: 0.4297 - accuracy: 0.8243 - val_loss: 0.6699 - val_accuracy: 0.7390\n",
            "Epoch 81/120\n",
            "34/34 [==============================] - 9s 260ms/step - loss: 0.4178 - accuracy: 0.8261 - val_loss: 0.6335 - val_accuracy: 0.7426\n",
            "Epoch 82/120\n",
            "34/34 [==============================] - 9s 259ms/step - loss: 0.3947 - accuracy: 0.8243 - val_loss: 0.6719 - val_accuracy: 0.7390\n",
            "Epoch 83/120\n",
            "34/34 [==============================] - 9s 260ms/step - loss: 0.4139 - accuracy: 0.8236 - val_loss: 0.6465 - val_accuracy: 0.7684\n",
            "Epoch 84/120\n",
            "34/34 [==============================] - 9s 262ms/step - loss: 0.4078 - accuracy: 0.8230 - val_loss: 0.9523 - val_accuracy: 0.6434\n",
            "Epoch 85/120\n",
            "34/34 [==============================] - 9s 261ms/step - loss: 0.4083 - accuracy: 0.8274 - val_loss: 0.8931 - val_accuracy: 0.6471\n",
            "Epoch 86/120\n",
            "34/34 [==============================] - 9s 260ms/step - loss: 0.3861 - accuracy: 0.8323 - val_loss: 0.7403 - val_accuracy: 0.6691\n",
            "Epoch 87/120\n",
            "34/34 [==============================] - 9s 260ms/step - loss: 0.4083 - accuracy: 0.8224 - val_loss: 0.6567 - val_accuracy: 0.7243\n",
            "Epoch 88/120\n",
            "34/34 [==============================] - 9s 261ms/step - loss: 0.4359 - accuracy: 0.8100 - val_loss: 0.6417 - val_accuracy: 0.7721\n",
            "Epoch 89/120\n",
            "34/34 [==============================] - 9s 261ms/step - loss: 0.4073 - accuracy: 0.8199 - val_loss: 0.6543 - val_accuracy: 0.7243\n",
            "Epoch 90/120\n",
            "34/34 [==============================] - 9s 261ms/step - loss: 0.4248 - accuracy: 0.8156 - val_loss: 0.6469 - val_accuracy: 0.7610\n",
            "Epoch 91/120\n",
            "34/34 [==============================] - 9s 262ms/step - loss: 0.4066 - accuracy: 0.8156 - val_loss: 0.6603 - val_accuracy: 0.7096\n",
            "Epoch 92/120\n",
            "34/34 [==============================] - 9s 262ms/step - loss: 0.3866 - accuracy: 0.8354 - val_loss: 0.6468 - val_accuracy: 0.7206\n",
            "Epoch 93/120\n",
            "34/34 [==============================] - 9s 261ms/step - loss: 0.3907 - accuracy: 0.8292 - val_loss: 0.8681 - val_accuracy: 0.6397\n",
            "Epoch 94/120\n",
            "34/34 [==============================] - 9s 261ms/step - loss: 0.4081 - accuracy: 0.8304 - val_loss: 0.6776 - val_accuracy: 0.7169\n",
            "Epoch 95/120\n",
            "34/34 [==============================] - 9s 261ms/step - loss: 0.3981 - accuracy: 0.8317 - val_loss: 0.7649 - val_accuracy: 0.6728\n",
            "Epoch 96/120\n",
            "34/34 [==============================] - 9s 260ms/step - loss: 0.3908 - accuracy: 0.8249 - val_loss: 0.8735 - val_accuracy: 0.6507\n",
            "Epoch 97/120\n",
            "34/34 [==============================] - 9s 262ms/step - loss: 0.3846 - accuracy: 0.8274 - val_loss: 0.6629 - val_accuracy: 0.7316\n",
            "Epoch 98/120\n",
            "34/34 [==============================] - 9s 261ms/step - loss: 0.3773 - accuracy: 0.8304 - val_loss: 0.8540 - val_accuracy: 0.6507\n",
            "Epoch 99/120\n",
            "34/34 [==============================] - 9s 262ms/step - loss: 0.3790 - accuracy: 0.8298 - val_loss: 0.6897 - val_accuracy: 0.7279\n",
            "Epoch 100/120\n",
            "34/34 [==============================] - 9s 259ms/step - loss: 0.4083 - accuracy: 0.8230 - val_loss: 0.7800 - val_accuracy: 0.6397\n",
            "Epoch 101/120\n",
            "34/34 [==============================] - 9s 260ms/step - loss: 0.3982 - accuracy: 0.8311 - val_loss: 0.6170 - val_accuracy: 0.7610\n",
            "Epoch 102/120\n",
            "34/34 [==============================] - 9s 260ms/step - loss: 0.3723 - accuracy: 0.8348 - val_loss: 0.7343 - val_accuracy: 0.6618\n",
            "Epoch 103/120\n",
            "34/34 [==============================] - 9s 261ms/step - loss: 0.3752 - accuracy: 0.8416 - val_loss: 0.6678 - val_accuracy: 0.7059\n",
            "Epoch 104/120\n",
            "34/34 [==============================] - 9s 259ms/step - loss: 0.3783 - accuracy: 0.8274 - val_loss: 0.6442 - val_accuracy: 0.7353\n",
            "Epoch 105/120\n",
            "34/34 [==============================] - 9s 263ms/step - loss: 0.3685 - accuracy: 0.8397 - val_loss: 0.7684 - val_accuracy: 0.6801\n",
            "Epoch 106/120\n",
            "34/34 [==============================] - 9s 261ms/step - loss: 0.3840 - accuracy: 0.8379 - val_loss: 0.8613 - val_accuracy: 0.6434\n",
            "Epoch 107/120\n",
            "34/34 [==============================] - 9s 264ms/step - loss: 0.3923 - accuracy: 0.8311 - val_loss: 0.6790 - val_accuracy: 0.7243\n",
            "Epoch 108/120\n",
            "34/34 [==============================] - 9s 260ms/step - loss: 0.3995 - accuracy: 0.8224 - val_loss: 0.6654 - val_accuracy: 0.7426\n",
            "Epoch 109/120\n",
            "34/34 [==============================] - 9s 261ms/step - loss: 0.3810 - accuracy: 0.8397 - val_loss: 0.6659 - val_accuracy: 0.7132\n",
            "Epoch 110/120\n",
            "34/34 [==============================] - 9s 260ms/step - loss: 0.3710 - accuracy: 0.8354 - val_loss: 0.9964 - val_accuracy: 0.6066\n",
            "Epoch 111/120\n",
            "34/34 [==============================] - 9s 261ms/step - loss: 0.3807 - accuracy: 0.8342 - val_loss: 0.6230 - val_accuracy: 0.7390\n",
            "Epoch 112/120\n",
            "34/34 [==============================] - 9s 262ms/step - loss: 0.3749 - accuracy: 0.8434 - val_loss: 0.7062 - val_accuracy: 0.7132\n",
            "Epoch 113/120\n",
            "34/34 [==============================] - 9s 260ms/step - loss: 0.3774 - accuracy: 0.8434 - val_loss: 0.6594 - val_accuracy: 0.7096\n",
            "Epoch 114/120\n",
            "34/34 [==============================] - 9s 261ms/step - loss: 0.3727 - accuracy: 0.8428 - val_loss: 0.7137 - val_accuracy: 0.6949\n",
            "Epoch 115/120\n",
            "34/34 [==============================] - 9s 258ms/step - loss: 0.3793 - accuracy: 0.8354 - val_loss: 0.9040 - val_accuracy: 0.6213\n",
            "Epoch 116/120\n",
            "34/34 [==============================] - 9s 260ms/step - loss: 0.3635 - accuracy: 0.8434 - val_loss: 0.7335 - val_accuracy: 0.7022\n",
            "Epoch 117/120\n",
            "34/34 [==============================] - 9s 260ms/step - loss: 0.3675 - accuracy: 0.8348 - val_loss: 0.8439 - val_accuracy: 0.6838\n",
            "Epoch 118/120\n",
            "34/34 [==============================] - 9s 260ms/step - loss: 0.3538 - accuracy: 0.8441 - val_loss: 0.6623 - val_accuracy: 0.7353\n",
            "Epoch 119/120\n",
            "34/34 [==============================] - 9s 261ms/step - loss: 0.3708 - accuracy: 0.8434 - val_loss: 0.9293 - val_accuracy: 0.6471\n",
            "Epoch 120/120\n",
            "34/34 [==============================] - 9s 259ms/step - loss: 0.3676 - accuracy: 0.8379 - val_loss: 0.6430 - val_accuracy: 0.7353\n"
          ]
        }
      ],
      "source": [
        "# Create an Instance of Early Stopping Callback\n",
        "early_stopping_callback = keras.callbacks.EarlyStopping(monitor = 'val_loss',\n",
        "                                                        patience = 20,\n",
        "                                                        mode = 'min',\n",
        "                                                        restore_best_weights = True)\n",
        "# Compile the model and specify loss function, optimizer and metrics values to the model\n",
        "model.compile(loss = 'categorical_crossentropy',\n",
        "              optimizer= keras.optimizers.Adam(0.001, decay=1e-4),\n",
        "              metrics=['accuracy'])\n",
        "# Start training the model.\n",
        "cnn_3d_model_training_history = model.fit(x = features_train,\n",
        "                                          y = labels_train,\n",
        "                                          epochs=120,\n",
        "                                          batch_size=48,\n",
        "                                          shuffle = True,\n",
        "                                          validation_data = (features_valid, labels_valid)),\n",
        "                                          # callbacks = [early_stopping_callback])"
      ]
    },
    {
      "cell_type": "code",
      "execution_count": 13,
      "metadata": {
        "colab": {
          "base_uri": "https://localhost:8080/"
        },
        "id": "3vimsgjjbXvL",
        "outputId": "63323601-6825-4cdc-85cd-54e6f7e95efd"
      },
      "outputs": [
        {
          "output_type": "stream",
          "name": "stdout",
          "text": [
            "9/9 [==============================] - 1s 73ms/step - loss: 0.9129 - accuracy: 0.6544\n",
            "\n",
            "\n",
            "Train accuracy: 88.304 % || Test accuracy: 65.441 % || Val accuracy: 73.529 %\n",
            "Train loss: 0.307 || Test loss: 0.913 || Val loss: 0.643\n"
          ]
        }
      ],
      "source": [
        "model_evaluation_history = model.evaluate(features_test, labels_test)\n",
        "print('\\n')\n",
        "train_loss, train_acc = model.evaluate(features_train, labels_train, verbose=0)\n",
        "test_loss, test_acc = model.evaluate(features_test, labels_test, verbose=0)\n",
        "val_loss, val_acc = model.evaluate(features_valid, labels_valid, verbose=0)\n",
        "print(f'Train accuracy: {train_acc*100:.3f} % || Test accuracy: {test_acc*100:.3f} % || Val accuracy: {val_acc*100:.3f} %')\n",
        "print(f'Train loss: {train_loss:.3f} || Test loss: {test_loss:.3f} || Val loss: {val_loss:.3f}')"
      ]
    },
    {
      "cell_type": "code",
      "execution_count": 14,
      "metadata": {
        "id": "ivmaK9BlbnRQ"
      },
      "outputs": [],
      "source": [
        "# Get the loss and accuracy from model_evaluation_history.\n",
        "model_evaluation_loss, model_evaluation_accuracy = model_evaluation_history\n",
        " \n",
        "# Define the string date format.\n",
        "# Get the current Date and Time in a DateTime Object.\n",
        "# Convert the DateTime object to string according to the style mentioned in date_time_format string.\n",
        "date_time_format = '%Y_%m_%d__%H_%M_%S'\n",
        "current_date_time_dt = dt.datetime.now()\n",
        "current_date_time_string = dt.datetime.strftime(current_date_time_dt, date_time_format)\n",
        " \n",
        "# Define a useful name for our model to make it easy for us while navigating through multiple saved models.\n",
        "model_file_name = f'3D_CNN_model___Date_Time_{current_date_time_string}___Loss_{model_evaluation_loss}___Accuracy_{model_evaluation_accuracy}.h5'\n",
        " \n",
        "# Change dir\n",
        "gdrive_path = '/content/gdrive' + '/My Drive/247/Saved_models/'\n",
        "os.chdir(gdrive_path)\n",
        "# Create a floder for the model files\n",
        "!mkdir -p cnn_3d_{current_date_time_string}\n",
        "# Save your Model.\n",
        "model.save('3D_CNN' + str(current_date_time_string) + '/' + model_file_name)\n",
        "# Save model weights\n",
        "model.save_weights('3D_CNN' + str(current_date_time_string) + '/' + 'weights')"
      ]
    },
    {
      "cell_type": "code",
      "execution_count": 15,
      "metadata": {
        "id": "OwU8TwPrbsKB"
      },
      "outputs": [],
      "source": [
        "def plot_metric(model_training_history, metric_name_1, metric_name_2, plot_name):\n",
        "    '''\n",
        "    This function will plot the metrics passed to it in a graph.\n",
        "    Args:\n",
        "        model_training_history: A history object containing a record of training and validation \n",
        "                                loss values and metrics values at successive epochs\n",
        "        metric_name_1:          The name of the first metric that needs to be plotted in the graph.\n",
        "        metric_name_2:          The name of the second metric that needs to be plotted in the graph.\n",
        "        plot_name:              The title of the graph.\n",
        "    '''\n",
        "    \n",
        "    # Get metric values using metric names as identifiers.\n",
        "    metric_value_1 = model_training_history[0].history[metric_name_1]\n",
        "    metric_value_2 = model_training_history[0].history[metric_name_2]\n",
        "    \n",
        "    # Construct a range object which will be used as x-axis (horizontal plane) of the graph.\n",
        "    epochs = range(len(metric_value_1))\n",
        "\n",
        "    # Plot the Graph.\n",
        "    plt.plot(epochs, metric_value_1, 'blue', label = metric_name_1)\n",
        "    plt.plot(epochs, metric_value_2, 'red', label = metric_name_2)\n",
        "\n",
        "    # Add title to the plot.\n",
        "    plt.title(str(plot_name))\n",
        "\n",
        "    # Add legend to the plot.\n",
        "    plt.legend()"
      ]
    },
    {
      "cell_type": "code",
      "execution_count": 16,
      "metadata": {
        "colab": {
          "base_uri": "https://localhost:8080/",
          "height": 281
        },
        "id": "cvKY05ncbwof",
        "outputId": "8c4a160b-fff1-45e6-c72d-488c5af27c49"
      },
      "outputs": [
        {
          "output_type": "display_data",
          "data": {
            "text/plain": [
              "<Figure size 432x288 with 1 Axes>"
            ],
            "image/png": "[encoded data removed]"
          },
          "metadata": {
            "needs_background": "light"
          }
        }
      ],
      "source": [
        "plot_metric(cnn_3d_model_training_history, 'loss', 'val_loss', 'Total Loss vs Total Validation Loss')"
      ]
    },
    {
      "cell_type": "code",
      "execution_count": 17,
      "metadata": {
        "colab": {
          "base_uri": "https://localhost:8080/",
          "height": 281
        },
        "id": "o1iaaDHBb5i0",
        "outputId": "5f345aa3-999d-4d45-9564-f57556bdcf26"
      },
      "outputs": [
        {
          "output_type": "display_data",
          "data": {
            "text/plain": [
              "<Figure size 432x288 with 1 Axes>"
            ],
            "image/png": "[encoded data removed]"
          },
          "metadata": {
            "needs_background": "light"
          }
        }
      ],
      "source": [
        "plot_metric(cnn_3d_model_training_history, 'accuracy', 'val_accuracy', 'Total Accuracy vs Total Validation Accuracy') "
      ]
    }
  ],
  "metadata": {
    "accelerator": "GPU",
    "colab": {
      "collapsed_sections": [],
      "machine_shape": "hm",
      "name": "3D_CNN.ipynb",
      "provenance": [],
      "authorship_tag": "ABX9TyP9iDAXhYOjEFOfNjkdKm7W",
      "include_colab_link": true
    },
    "kernelspec": {
      "display_name": "Python 3",
      "name": "python3"
    },
    "language_info": {
      "name": "python"
    }
  },
  "nbformat": 4,
  "nbformat_minor": 0
}