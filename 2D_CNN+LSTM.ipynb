{
  "cells": [
    {
      "cell_type": "markdown",
      "metadata": {
        "id": "view-in-github",
        "colab_type": "text"
      },
      "source": [
        "<a href=\"https://colab.research.google.com/github/alexsalman/CSE247/blob/main/2D_CNN%2BLSTM.ipynb\" target=\"_parent\"><img src=\"https://colab.research.google.com/assets/colab-badge.svg\" alt=\"Open In Colab\"/></a>"
      ]
    },
    {
      "cell_type": "markdown",
      "metadata": {
        "id": "Fk8TLrPiv-ab"
      },
      "source": [
        "####**Convolutional Neural Network + Long Short Term Memory**\n",
        "######*I am using a Convolution Neural Network (CNN) + Long Short Term Memory (LSTM) Network to extract general representation while utilizing the Spatial-temporal aspect of the videos.*"
      ]
    },
    {
      "cell_type": "code",
      "execution_count": 1,
      "metadata": {
        "id": "M8ibtd5HKtZk",
        "colab": {
          "base_uri": "https://localhost:8080/"
        },
        "outputId": "11ad0fc8-fd98-4d16-9f92-fea3a6fe96db"
      },
      "outputs": [
        {
          "output_type": "stream",
          "name": "stdout",
          "text": [
            "2.8.0\n"
          ]
        }
      ],
      "source": [
        "# required libraries\n",
        "import os\n",
        "import cv2\n",
        "import math\n",
        "import random\n",
        "import numpy as np\n",
        "import datetime as dt\n",
        "from collections import deque\n",
        "import matplotlib.pyplot as plt\n",
        "from google.colab import drive\n",
        "from sklearn.model_selection import train_test_split\n",
        "import tensorflow as tf\n",
        "from tensorflow import keras\n",
        "from PIL import Image\n",
        "%matplotlib inline\n",
        "print(tf.version.VERSION)\n",
        "# https://bleedai.com/human-activity-recognition-using-tensorflow-cnn-lstm/"
      ]
    },
    {
      "cell_type": "code",
      "execution_count": 2,
      "metadata": {
        "id": "iffdFOf1CEAN"
      },
      "outputs": [],
      "source": [
        "# set Numpy, Python, and Tensorflow seeds to get consistent results on every execution\n",
        "seed_constant = 27\n",
        "np.random.seed(seed_constant)\n",
        "random.seed(seed_constant)\n",
        "tf.random.set_seed(seed_constant)"
      ]
    },
    {
      "cell_type": "code",
      "execution_count": 3,
      "metadata": {
        "colab": {
          "base_uri": "https://localhost:8080/",
          "height": 53
        },
        "id": "mcLh22LiOHyn",
        "outputId": "5927161d-50a0-46c2-eb1d-7d89d92b6cf4"
      },
      "outputs": [
        {
          "output_type": "stream",
          "name": "stdout",
          "text": [
            "Mounted at /content/gdrive/\n"
          ]
        },
        {
          "output_type": "execute_result",
          "data": {
            "text/plain": [
              "'/content/gdrive/My Drive/247'"
            ],
            "application/vnd.google.colaboratory.intrinsic+json": {
              "type": "string"
            }
          },
          "metadata": {},
          "execution_count": 3
        }
      ],
      "source": [
        "# mount dataset from google drive\n",
        "drive.mount('/content/gdrive/', force_remount=True)\n",
        "gdrive_path = '/content/gdrive' + '/My Drive/247/'\n",
        "os.chdir(gdrive_path)\n",
        "os.getcwd()"
      ]
    },
    {
      "cell_type": "code",
      "execution_count": 4,
      "metadata": {
        "id": "oeDK8SzumZ1Q"
      },
      "outputs": [],
      "source": [
        "# frame dimention\n",
        "IMAGE_HEIGHT, IMAGE_WIDTH = 160, 160\n",
        "# frame number for each video (depth)\n",
        "SEQUENCE_LENGTH = 16\n",
        "# video dir path\n",
        "DATASET_DIR = gdrive_path + 'Cropped_videos'\n",
        "# labels of classes\n",
        "CLASSES_LIST = ['hemostasis', 'inflammatory', 'proliferative', 'maturation']"
      ]
    },
    {
      "cell_type": "code",
      "execution_count": 5,
      "metadata": {
        "id": "3mFB5qD6b3Kd"
      },
      "outputs": [],
      "source": [
        "# image cropping\n",
        "def crop_center_square(frame):\n",
        "    y, x = frame.shape[0:2]\n",
        "    min_dim = min(y, x)\n",
        "    start_x = (x // 2) - (min_dim // 2)\n",
        "    start_y = (y // 2) - (min_dim // 2)\n",
        "    return frame[start_y:start_y+min_dim,start_x:start_x+min_dim]"
      ]
    },
    {
      "cell_type": "code",
      "execution_count": 6,
      "metadata": {
        "id": "sqeexMUjaLzJ"
      },
      "outputs": [],
      "source": [
        "# https://medium.com/analytics-vidhya/video-preprocessor-and-augmentation-for-deep-learning-tasks-12dd3fcce868\n",
        "def load_video(path, resize=(160, 160)):\n",
        "    video_reader = cv2.VideoCapture(path)\n",
        "    frames = []\n",
        "    try:\n",
        "        while True:\n",
        "            ret, frame = video_reader.read()\n",
        "            if not ret:\n",
        "                  break\n",
        "            frame = crop_center_square(frame)\n",
        "            frame = cv2.resize(frame, resize)\n",
        "            frame = frame[:, :, [2, 1, 0]]\n",
        "            black_frame = frame\n",
        "            frames.append(frame)\n",
        "    finally:\n",
        "        video_reader.release()\n",
        "    return np.array(frames) / 255.0"
      ]
    },
    {
      "cell_type": "code",
      "execution_count": 7,
      "metadata": {
        "id": "ljUWHW6Jqzu-"
      },
      "outputs": [],
      "source": [
        "def create_dataset(state):\n",
        "    # Declared Empty Lists to store the features, labels and video file path values.\n",
        "    features = []\n",
        "    labels = []\n",
        "    video_files_paths = []\n",
        "    # Iterating through all the classes mentioned in the classes list\n",
        "    for class_index, class_name in enumerate(CLASSES_LIST):\n",
        "        # Display the name of the class whose data is being extracted.\n",
        "        print(f'Extracting Data of Class: {class_name} {state}')\n",
        "        # Get the list of video files present in the specific class name directory.\n",
        "        files_list = os.listdir(os.path.join(DATASET_DIR, class_name))\n",
        "        # Iterate through all the files present in the files list.\n",
        "        for file_name in files_list:\n",
        "            # Get the complete video path.\n",
        "            video_file_path = os.path.join(DATASET_DIR, class_name, file_name)\n",
        "            # create testing data\n",
        "            if state == 'test':\n",
        "                # get the mouse number\n",
        "                mouse_number = int(video_file_path.split(' ')[2].split('_')[1].split('-')[1])\n",
        "                # get the mouse side (L or R)\n",
        "                mouse_side = video_file_path.split(' ')[2].split('_')[1].split('-')[2]\n",
        "                if mouse_number == 4 and mouse_side == 'L':\n",
        "                    frames = load_video(video_file_path)\n",
        "                    features.append(frames)\n",
        "                    labels.append(class_index)\n",
        "                    video_files_paths.append(video_file_path)\n",
        "            # create validation data\n",
        "            elif state == 'valid':\n",
        "                # get the mouse number\n",
        "                mouse_number = int(video_file_path.split(' ')[2].split('_')[1].split('-')[1])\n",
        "                # get the mouse side (L or R)\n",
        "                mouse_side = video_file_path.split(' ')[2].split('_')[1].split('-')[2]\n",
        "                if mouse_number == 4 and mouse_side == 'R':\n",
        "                    frames = load_video(video_file_path)\n",
        "                    features.append(frames)\n",
        "                    labels.append(class_index)\n",
        "                    video_files_paths.append(video_file_path)\n",
        "            # create training data\n",
        "            else:\n",
        "                # get the mouse number\n",
        "                mouse_number = int(video_file_path.split(' ')[2].split('_')[1].split('-')[1])\n",
        "                if mouse_number != 4:\n",
        "                    frames = load_video(video_file_path)\n",
        "                    features.append(frames)\n",
        "                    labels.append(class_index)\n",
        "                    video_files_paths.append(video_file_path)\n",
        "    # Converting the list to numpy arrays\n",
        "    features = np.asarray(features)\n",
        "    # print(features)\n",
        "    labels = np.array(labels)\n",
        "    # Return the frames, class index, and video file path.\n",
        "    return features, labels, video_files_paths"
      ]
    },
    {
      "cell_type": "code",
      "execution_count": 8,
      "metadata": {
        "colab": {
          "base_uri": "https://localhost:8080/"
        },
        "id": "a8rpanz9rASe",
        "outputId": "c46382ed-b4e9-4d84-e3e0-cba4b5174ff8"
      },
      "outputs": [
        {
          "output_type": "stream",
          "name": "stdout",
          "text": [
            "Extracting Data of Class: hemostasis train\n",
            "Extracting Data of Class: inflammatory train\n",
            "Extracting Data of Class: proliferative train\n",
            "Extracting Data of Class: maturation train\n",
            "Extracting Data of Class: hemostasis test\n",
            "Extracting Data of Class: inflammatory test\n",
            "Extracting Data of Class: proliferative test\n",
            "Extracting Data of Class: maturation test\n",
            "Extracting Data of Class: hemostasis valid\n",
            "Extracting Data of Class: inflammatory valid\n",
            "Extracting Data of Class: proliferative valid\n",
            "Extracting Data of Class: maturation valid\n"
          ]
        }
      ],
      "source": [
        "# 6 mice for training, 2 mice for test and validation (one wound on each mice for test one for validation)\n",
        "features_train, labels_train, video_files_paths_train = create_dataset('train')\n",
        "features_test, labels_test, video_files_paths_test = create_dataset('test')\n",
        "features_valid, labels_valid, video_files_paths_valid = create_dataset('valid')"
      ]
    },
    {
      "cell_type": "code",
      "execution_count": 9,
      "metadata": {
        "id": "dtJkK4qTAulC"
      },
      "outputs": [],
      "source": [
        "# one_hot_encoded_labels\n",
        "labels_train = keras.utils.to_categorical(labels_train)\n",
        "labels_test = keras.utils.to_categorical(labels_test)\n",
        "labels_valid = keras.utils.to_categorical(labels_valid)"
      ]
    },
    {
      "cell_type": "code",
      "execution_count": 10,
      "metadata": {
        "id": "Bi-NDol3DHRV"
      },
      "outputs": [],
      "source": [
        "def create_convlstm_model():\n",
        "    # A Sequential model for model construction\n",
        "    model = tf.keras.Sequential()\n",
        "\n",
        "    # Model Architecture.\n",
        "    ############################################################################\n",
        "    model.add(tf.keras.layers.ConvLSTM2D(filters = 4,\n",
        "                                         kernel_size = (5, 5),\n",
        "                                         activation = 'tanh',\n",
        "                                         data_format = \"channels_last\",\n",
        "                                         recurrent_dropout = 0.2,\n",
        "                                         return_sequences = True,\n",
        "                                         input_shape = (SEQUENCE_LENGTH,\n",
        "                                                        IMAGE_HEIGHT,\n",
        "                                                        IMAGE_WIDTH, 3)))\n",
        "    \n",
        "    model.add(tf.keras.layers.MaxPooling3D(pool_size=(1, 2, 2),\n",
        "                                           padding='same',\n",
        "                                           data_format='channels_last'))\n",
        "    \n",
        "    model.add(tf.keras.layers.TimeDistributed(tf.keras.layers.Dropout(0.2)))\n",
        "    \n",
        "    model.add(tf.keras.layers.ConvLSTM2D(filters = 8,\n",
        "                                         kernel_size = (5, 5),\n",
        "                                         activation = 'tanh',\n",
        "                                         data_format = \"channels_last\",\n",
        "                                         recurrent_dropout = 0.2,\n",
        "                                         return_sequences = True))\n",
        "    \n",
        "    model.add(tf.keras.layers.MaxPooling3D(pool_size=(1, 2, 2),\n",
        "                                           padding='same',\n",
        "                                           data_format='channels_last'))\n",
        "    \n",
        "    model.add(tf.keras.layers.TimeDistributed(tf.keras.layers.Dropout(0.2)))\n",
        "    \n",
        "    model.add(tf.keras.layers.ConvLSTM2D(filters = 14,\n",
        "                                         kernel_size = (5, 5),\n",
        "                                         activation = 'tanh',\n",
        "                                         data_format = \"channels_last\",\n",
        "                                         recurrent_dropout = 0.2,\n",
        "                                         return_sequences = True))\n",
        "    \n",
        "    model.add(tf.keras.layers.MaxPooling3D(pool_size=(1, 2, 2),\n",
        "                                           padding='same',\n",
        "                                           data_format='channels_last'))\n",
        "    \n",
        "    model.add(tf.keras.layers.TimeDistributed(tf.keras.layers.Dropout(0.2)))\n",
        "    \n",
        "    model.add(tf.keras.layers.ConvLSTM2D(filters = 16,\n",
        "                                         kernel_size = (5, 5),\n",
        "                                         activation = 'tanh',\n",
        "                                         data_format = \"channels_last\",\n",
        "                                         recurrent_dropout = 0.2,\n",
        "                                         return_sequences = True))\n",
        "    \n",
        "    model.add(tf.keras.layers.MaxPooling3D(pool_size=(1, 2, 2),\n",
        "                                           padding='same',\n",
        "                                           data_format='channels_last'))\n",
        "    \n",
        "    model.add(tf.keras.layers.Flatten()) \n",
        "    \n",
        "    model.add(tf.keras.layers.Dense(len(CLASSES_LIST), activation = \"softmax\"))\n",
        "    ############################################################################\n",
        "    # Display the models summary.\n",
        "    model.summary()\n",
        "    # Return the constructed convlstm model.\n",
        "    return model"
      ]
    },
    {
      "cell_type": "code",
      "execution_count": 11,
      "metadata": {
        "colab": {
          "base_uri": "https://localhost:8080/"
        },
        "id": "FbjNYI-0DY_v",
        "outputId": "6fd0c3d2-5429-49ab-93a8-d2c7a3347df8"
      },
      "outputs": [
        {
          "output_type": "stream",
          "name": "stdout",
          "text": [
            "Model: \"sequential\"\n",
            "_________________________________________________________________\n",
            " Layer (type)                Output Shape              Param #   \n",
            "=================================================================\n",
            " conv_lstm2d (ConvLSTM2D)    (None, 16, 156, 156, 4)   2816      \n",
            "                                                                 \n",
            " max_pooling3d (MaxPooling3D  (None, 16, 78, 78, 4)    0         \n",
            " )                                                               \n",
            "                                                                 \n",
            " time_distributed (TimeDistr  (None, 16, 78, 78, 4)    0         \n",
            " ibuted)                                                         \n",
            "                                                                 \n",
            " conv_lstm2d_1 (ConvLSTM2D)  (None, 16, 74, 74, 8)     9632      \n",
            "                                                                 \n",
            " max_pooling3d_1 (MaxPooling  (None, 16, 37, 37, 8)    0         \n",
            " 3D)                                                             \n",
            "                                                                 \n",
            " time_distributed_1 (TimeDis  (None, 16, 37, 37, 8)    0         \n",
            " tributed)                                                       \n",
            "                                                                 \n",
            " conv_lstm2d_2 (ConvLSTM2D)  (None, 16, 33, 33, 14)    30856     \n",
            "                                                                 \n",
            " max_pooling3d_2 (MaxPooling  (None, 16, 17, 17, 14)   0         \n",
            " 3D)                                                             \n",
            "                                                                 \n",
            " time_distributed_2 (TimeDis  (None, 16, 17, 17, 14)   0         \n",
            " tributed)                                                       \n",
            "                                                                 \n",
            " conv_lstm2d_3 (ConvLSTM2D)  (None, 16, 13, 13, 16)    48064     \n",
            "                                                                 \n",
            " max_pooling3d_3 (MaxPooling  (None, 16, 7, 7, 16)     0         \n",
            " 3D)                                                             \n",
            "                                                                 \n",
            " flatten (Flatten)           (None, 12544)             0         \n",
            "                                                                 \n",
            " dense (Dense)               (None, 4)                 50180     \n",
            "                                                                 \n",
            "=================================================================\n",
            "Total params: 141,548\n",
            "Trainable params: 141,548\n",
            "Non-trainable params: 0\n",
            "_________________________________________________________________\n",
            "Model Created Successfully!\n"
          ]
        }
      ],
      "source": [
        "# Construct the required convlstm model.\n",
        "convlstm_model = create_convlstm_model()\n",
        " \n",
        "# Display the success message. \n",
        "print(\"Model Created Successfully!\")"
      ]
    },
    {
      "cell_type": "code",
      "execution_count": 12,
      "metadata": {
        "id": "nMYwQOwyF3bd"
      },
      "outputs": [],
      "source": [
        "# keras.utils.plot_model(convlstm_model,\n",
        "#                          to_file = 'convlstm_model_structure_plot.png',\n",
        "#                          show_shapes = True,\n",
        "#                          show_layer_names = True)"
      ]
    },
    {
      "cell_type": "code",
      "execution_count": 13,
      "metadata": {
        "colab": {
          "base_uri": "https://localhost:8080/"
        },
        "id": "vYC_6H0uGqW9",
        "outputId": "dfd44ea4-13e5-4585-f100-e16f8c36beeb"
      },
      "outputs": [
        {
          "output_type": "stream",
          "name": "stdout",
          "text": [
            "Epoch 1/50\n",
            "404/404 [==============================] - 105s 242ms/step - loss: 0.9268 - accuracy: 0.5433 - val_loss: 0.9473 - val_accuracy: 0.5735\n",
            "Epoch 2/50\n",
            "404/404 [==============================] - 96s 237ms/step - loss: 0.7574 - accuracy: 0.6262 - val_loss: 0.8480 - val_accuracy: 0.6140\n",
            "Epoch 3/50\n",
            "404/404 [==============================] - 96s 237ms/step - loss: 0.6703 - accuracy: 0.6714 - val_loss: 0.6566 - val_accuracy: 0.6213\n",
            "Epoch 4/50\n",
            "404/404 [==============================] - 95s 236ms/step - loss: 0.5042 - accuracy: 0.7853 - val_loss: 0.6242 - val_accuracy: 0.7904\n",
            "Epoch 5/50\n",
            "404/404 [==============================] - 95s 236ms/step - loss: 0.3832 - accuracy: 0.8428 - val_loss: 0.8561 - val_accuracy: 0.7390\n",
            "Epoch 6/50\n",
            "404/404 [==============================] - 95s 236ms/step - loss: 0.3150 - accuracy: 0.8707 - val_loss: 0.8147 - val_accuracy: 0.7757\n",
            "Epoch 7/50\n",
            "404/404 [==============================] - 95s 236ms/step - loss: 0.2274 - accuracy: 0.9090 - val_loss: 0.7517 - val_accuracy: 0.7610\n",
            "Epoch 8/50\n",
            "404/404 [==============================] - 95s 236ms/step - loss: 0.1691 - accuracy: 0.9356 - val_loss: 1.0213 - val_accuracy: 0.6875\n",
            "Epoch 9/50\n",
            "404/404 [==============================] - 95s 236ms/step - loss: 0.1463 - accuracy: 0.9443 - val_loss: 1.2336 - val_accuracy: 0.6691\n",
            "Epoch 10/50\n",
            "404/404 [==============================] - 95s 236ms/step - loss: 0.1314 - accuracy: 0.9505 - val_loss: 1.1210 - val_accuracy: 0.7206\n",
            "Epoch 11/50\n",
            "404/404 [==============================] - 95s 236ms/step - loss: 0.0737 - accuracy: 0.9740 - val_loss: 1.3592 - val_accuracy: 0.7022\n",
            "Epoch 12/50\n",
            "404/404 [==============================] - 95s 236ms/step - loss: 0.0566 - accuracy: 0.9752 - val_loss: 1.9305 - val_accuracy: 0.6581\n",
            "Epoch 13/50\n",
            "404/404 [==============================] - 95s 236ms/step - loss: 0.0607 - accuracy: 0.9821 - val_loss: 1.1360 - val_accuracy: 0.7132\n",
            "Epoch 14/50\n",
            "404/404 [==============================] - 95s 236ms/step - loss: 0.0466 - accuracy: 0.9858 - val_loss: 1.8363 - val_accuracy: 0.6250\n"
          ]
        }
      ],
      "source": [
        "# Create an Instance of Early Stopping Callback\n",
        "early_stopping_callback = keras.callbacks.EarlyStopping(monitor = 'val_loss',\n",
        "                                                        patience = 10,\n",
        "                                                        mode = 'min',\n",
        "                                                        restore_best_weights = True)\n",
        "# Compile the model and specify loss function, optimizer and metrics values to the model\n",
        "convlstm_model.compile(loss = 'categorical_crossentropy',\n",
        "                       optimizer = 'Adam',\n",
        "                       metrics = [\"accuracy\"])\n",
        "# Start training the model.\n",
        "convlstm_model_training_history = convlstm_model.fit(x = features_train,\n",
        "                                                     y = labels_train,\n",
        "                                                     epochs = 50,\n",
        "                                                     batch_size = 4,\n",
        "                                                     shuffle = True,\n",
        "                                                     validation_data = (features_valid, labels_valid),\n",
        "                                                     callbacks = [early_stopping_callback])"
      ]
    },
    {
      "cell_type": "code",
      "execution_count": 14,
      "metadata": {
        "colab": {
          "base_uri": "https://localhost:8080/"
        },
        "id": "LcpKhGqvIenv",
        "outputId": "0bd8600c-7024-4dd8-9db2-0ae4a1c1c39c"
      },
      "outputs": [
        {
          "output_type": "stream",
          "name": "stdout",
          "text": [
            "9/9 [==============================] - 3s 261ms/step - loss: 0.9804 - accuracy: 0.7096\n"
          ]
        }
      ],
      "source": [
        "model_evaluation_history = convlstm_model.evaluate(features_test, labels_test)"
      ]
    },
    {
      "cell_type": "code",
      "execution_count": 15,
      "metadata": {
        "id": "qsFw5KIzIum9"
      },
      "outputs": [],
      "source": [
        "# Get the loss and accuracy from model_evaluation_history.\n",
        "model_evaluation_loss, model_evaluation_accuracy = model_evaluation_history\n",
        " \n",
        "# Define the string date format.\n",
        "# Get the current Date and Time in a DateTime Object.\n",
        "# Convert the DateTime object to string according to the style mentioned in date_time_format string.\n",
        "date_time_format = '%Y_%m_%d__%H_%M_%S'\n",
        "current_date_time_dt = dt.datetime.now()\n",
        "current_date_time_string = dt.datetime.strftime(current_date_time_dt, date_time_format)\n",
        " \n",
        "# Define a useful name for our model to make it easy for us while navigating through multiple saved models.\n",
        "model_file_name = f'convlstm_model___Date_Time_{current_date_time_string}___Loss_{model_evaluation_loss}___Accuracy_{model_evaluation_accuracy}.h5'\n",
        " \n",
        "# Change dir\n",
        "gdrive_path = '/content/gdrive' + '/My Drive/247/Saved_models/'\n",
        "os.chdir(gdrive_path)\n",
        "# Create a floder for the model files\n",
        "!mkdir -p convlstm_{current_date_time_string}\n",
        "# Save your Model.\n",
        "convlstm_model.save('convlstm_' + str(current_date_time_string) + '/' + model_file_name)\n",
        "# Save model weights\n",
        "convlstm_model.save_weights('convlstm_' + str(current_date_time_string) + '/' + 'weights')"
      ]
    },
    {
      "cell_type": "code",
      "execution_count": 16,
      "metadata": {
        "id": "Z0eAobhSIz_P"
      },
      "outputs": [],
      "source": [
        "def plot_metric(model_training_history, metric_name_1, metric_name_2, plot_name):\n",
        "    '''\n",
        "    This function will plot the metrics passed to it in a graph.\n",
        "    Args:\n",
        "        model_training_history: A history object containing a record of training and validation \n",
        "                                loss values and metrics values at successive epochs\n",
        "        metric_name_1:          The name of the first metric that needs to be plotted in the graph.\n",
        "        metric_name_2:          The name of the second metric that needs to be plotted in the graph.\n",
        "        plot_name:              The title of the graph.\n",
        "    '''\n",
        "    \n",
        "    # Get metric values using metric names as identifiers.\n",
        "    metric_value_1 = model_training_history.history[metric_name_1]\n",
        "    metric_value_2 = model_training_history.history[metric_name_2]\n",
        "    \n",
        "    # Construct a range object which will be used as x-axis (horizontal plane) of the graph.\n",
        "    epochs = range(len(metric_value_1))\n",
        "\n",
        "    # Plot the Graph.\n",
        "    plt.plot(epochs, metric_value_1, 'blue', label = metric_name_1)\n",
        "    plt.plot(epochs, metric_value_2, 'red', label = metric_name_2)\n",
        "\n",
        "    # Add title to the plot.\n",
        "    plt.title(str(plot_name))\n",
        "\n",
        "    # Add legend to the plot.\n",
        "    plt.legend()"
      ]
    },
    {
      "cell_type": "code",
      "execution_count": 17,
      "metadata": {
        "colab": {
          "base_uri": "https://localhost:8080/",
          "height": 281
        },
        "id": "18RtBjI9I5lE",
        "outputId": "1e79b39f-5721-4669-d17f-82de935abd97"
      },
      "outputs": [
        {
          "output_type": "display_data",
          "data": {
            "text/plain": [
              "<Figure size 432x288 with 1 Axes>"
            ],
            "image/png": "[encoded data removed]"
          },
          "metadata": {
            "needs_background": "light"
          }
        }
      ],
      "source": [
        "plot_metric(convlstm_model_training_history, 'loss', 'val_loss', 'Total Loss vs Total Validation Loss')"
      ]
    },
    {
      "cell_type": "code",
      "execution_count": 18,
      "metadata": {
        "colab": {
          "base_uri": "https://localhost:8080/",
          "height": 281
        },
        "id": "02amk7TXI_OS",
        "outputId": "f6344dcc-7c4a-4ee7-84c8-49163d9c541a"
      },
      "outputs": [
        {
          "output_type": "display_data",
          "data": {
            "text/plain": [
              "<Figure size 432x288 with 1 Axes>"
            ],
            "image/png": "[encoded data removed]"
          },
          "metadata": {
            "needs_background": "light"
          }
        }
      ],
      "source": [
        "plot_metric(convlstm_model_training_history, 'accuracy', 'val_accuracy', 'Total Accuracy vs Total Validation Accuracy') "
      ]
    }
  ],
  "metadata": {
    "accelerator": "GPU",
    "colab": {
      "background_execution": "on",
      "collapsed_sections": [],
      "machine_shape": "hm",
      "name": "2D_CNN+LSTM.ipynb",
      "provenance": [],
      "authorship_tag": "ABX9TyPBSH546Nnxp0ynsrogNkVk",
      "include_colab_link": true
    },
    "kernelspec": {
      "display_name": "Python 3",
      "name": "python3"
    },
    "language_info": {
      "name": "python"
    }
  },
  "nbformat": 4,
  "nbformat_minor": 0
}