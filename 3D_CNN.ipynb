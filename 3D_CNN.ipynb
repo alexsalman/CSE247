{
  "cells": [
    {
      "cell_type": "markdown",
      "metadata": {
        "id": "view-in-github",
        "colab_type": "text"
      },
      "source": [
        "<a href=\"https://colab.research.google.com/github/alexsalman/CSE247/blob/main/3D_CNN.ipynb\" target=\"_parent\"><img src=\"https://colab.research.google.com/assets/colab-badge.svg\" alt=\"Open In Colab\"/></a>"
      ]
    },
    {
      "cell_type": "markdown",
      "metadata": {
        "id": "Kk7I8NauauE3"
      },
      "source": [
        "####**3D Convolutional Neural Network**\n",
        "######*I am using 3D Convolutional Neural Network to extract the temporal and spatial information which are merged slowly throughout the whole network.*"
      ]
    },
    {
      "cell_type": "code",
      "execution_count": 2,
      "metadata": {
        "colab": {
          "base_uri": "https://localhost:8080/"
        },
        "id": "M8ibtd5HKtZk",
        "outputId": "2b4ad824-24bb-4f1d-8fc8-4b50964d77c1"
      },
      "outputs": [
        {
          "output_type": "stream",
          "name": "stdout",
          "text": [
            "2.8.0\n"
          ]
        }
      ],
      "source": [
        "# required libraries\n",
        "import os\n",
        "import cv2\n",
        "import math\n",
        "import random\n",
        "import numpy as np\n",
        "import datetime as dt\n",
        "from collections import deque\n",
        "import matplotlib.pyplot as plt\n",
        "from google.colab import drive\n",
        "from sklearn.model_selection import train_test_split\n",
        "import tensorflow as tf\n",
        "from tensorflow import keras\n",
        "from keras.models import Sequential\n",
        "from keras.layers import Dense, Flatten, Conv3D, MaxPooling3D, Dropout\n",
        "from keras.layers import BatchNormalization, GlobalAveragePooling3D\n",
        "from keras import regularizers\n",
        "from PIL import Image\n",
        "%matplotlib inline\n",
        "print(tf.version.VERSION)\n",
        "# https://bleedai.com/human-activity-recognition-using-tensorflow-cnn-lstm/"
      ]
    },
    {
      "cell_type": "code",
      "execution_count": 3,
      "metadata": {
        "id": "iffdFOf1CEAN"
      },
      "outputs": [],
      "source": [
        "# set Numpy, Python, and Tensorflow seeds to get consistent results on every execution\n",
        "seed_constant = 27\n",
        "np.random.seed(seed_constant)\n",
        "random.seed(seed_constant)\n",
        "tf.random.set_seed(seed_constant)"
      ]
    },
    {
      "cell_type": "code",
      "execution_count": 4,
      "metadata": {
        "colab": {
          "base_uri": "https://localhost:8080/",
          "height": 53
        },
        "id": "mcLh22LiOHyn",
        "outputId": "6c4cabeb-cd08-4699-d0e2-04aa05a35561"
      },
      "outputs": [
        {
          "output_type": "stream",
          "name": "stdout",
          "text": [
            "Mounted at /content/gdrive/\n"
          ]
        },
        {
          "output_type": "execute_result",
          "data": {
            "text/plain": [
              "'/content/gdrive/My Drive/247'"
            ],
            "application/vnd.google.colaboratory.intrinsic+json": {
              "type": "string"
            }
          },
          "metadata": {},
          "execution_count": 4
        }
      ],
      "source": [
        "# mount dataset from google drive\n",
        "drive.mount('/content/gdrive/', force_remount=True)\n",
        "gdrive_path = '/content/gdrive' + '/My Drive/247/'\n",
        "os.chdir(gdrive_path)\n",
        "os.getcwd()"
      ]
    },
    {
      "cell_type": "code",
      "execution_count": 5,
      "metadata": {
        "id": "oeDK8SzumZ1Q"
      },
      "outputs": [],
      "source": [
        "# frame dimention\n",
        "IMAGE_HEIGHT, IMAGE_WIDTH = 128, 128\n",
        "# frame number for each video (depth)\n",
        "SEQUENCE_LENGTH = 16\n",
        "# video dir path\n",
        "DATASET_DIR = gdrive_path + 'Cropped_videos'\n",
        "# labels of classes\n",
        "CLASSES_LIST = ['hemostasis', 'inflammatory', 'proliferative', 'maturation']"
      ]
    },
    {
      "cell_type": "code",
      "execution_count": 6,
      "metadata": {
        "id": "HUTeIqzpZc9J"
      },
      "outputs": [],
      "source": [
        "# image cropping\n",
        "def crop_center_square(frame):\n",
        "    y, x = frame.shape[0:2]\n",
        "    min_dim = min(y, x)\n",
        "    start_x = (x // 2) - (min_dim // 2)\n",
        "    start_y = (y // 2) - (min_dim // 2)\n",
        "    return frame[start_y:start_y+min_dim,start_x:start_x+min_dim]"
      ]
    },
    {
      "cell_type": "code",
      "execution_count": 7,
      "metadata": {
        "id": "QRDbHG0TZkYJ"
      },
      "outputs": [],
      "source": [
        "# https://medium.com/analytics-vidhya/video-preprocessor-and-augmentation-for-deep-learning-tasks-12dd3fcce868\n",
        "def load_video(path, resize=(128, 128)):\n",
        "    video_reader = cv2.VideoCapture(path)\n",
        "    frames = []\n",
        "    try:\n",
        "        while True:\n",
        "            ret, frame = video_reader.read()\n",
        "            if not ret:\n",
        "                  break\n",
        "            # frame = crop_center_square(frame)\n",
        "            frame = cv2.resize(frame, resize)\n",
        "            frame = frame[:, :, [2, 1, 0]]\n",
        "            black_frame = frame\n",
        "            frames.append(frame)\n",
        "    finally:\n",
        "        video_reader.release()\n",
        "    return np.array(frames) / 255.0"
      ]
    },
    {
      "cell_type": "code",
      "execution_count": 8,
      "metadata": {
        "id": "ljUWHW6Jqzu-"
      },
      "outputs": [],
      "source": [
        "def create_dataset(state):\n",
        "    # Declared Empty Lists to store the features, labels and video file path values.\n",
        "    features = []\n",
        "    labels = []\n",
        "    video_files_paths = []\n",
        "    # Iterating through all the classes mentioned in the classes list\n",
        "    for class_index, class_name in enumerate(CLASSES_LIST):\n",
        "        # Display the name of the class whose data is being extracted.\n",
        "        print(f'Extracting Data of Class: {class_name} {state}')\n",
        "        # Get the list of video files present in the specific class name directory.\n",
        "        files_list = os.listdir(os.path.join(DATASET_DIR, class_name))\n",
        "        # Iterate through all the files present in the files list.\n",
        "        for file_name in files_list:\n",
        "            # Get the complete video path.\n",
        "            video_file_path = os.path.join(DATASET_DIR, class_name, file_name)\n",
        "            # create testing data\n",
        "            if state == 'test':\n",
        "                # get the mouse number\n",
        "                mouse_number = int(video_file_path.split(' ')[2].split('_')[1].split('-')[1])\n",
        "                # get the mouse side (L or R)\n",
        "                mouse_side = video_file_path.split(' ')[2].split('_')[1].split('-')[2]\n",
        "                if mouse_number == 4 and mouse_side == 'L':\n",
        "                    frames = load_video(video_file_path)\n",
        "                    features.append(frames)\n",
        "                    labels.append(class_index)\n",
        "                    video_files_paths.append(video_file_path)\n",
        "            # create validation data\n",
        "            elif state == 'valid':\n",
        "                # get the mouse number\n",
        "                mouse_number = int(video_file_path.split(' ')[2].split('_')[1].split('-')[1])\n",
        "                # get the mouse side (L or R)\n",
        "                mouse_side = video_file_path.split(' ')[2].split('_')[1].split('-')[2]\n",
        "                if mouse_number == 4 and mouse_side == 'R':\n",
        "                    frames = load_video(video_file_path)\n",
        "                    features.append(frames)\n",
        "                    labels.append(class_index)\n",
        "                    video_files_paths.append(video_file_path)\n",
        "            # create training data\n",
        "            else:\n",
        "                # get the mouse number\n",
        "                mouse_number = int(video_file_path.split(' ')[2].split('_')[1].split('-')[1])\n",
        "                if mouse_number != 4:\n",
        "                    frames = load_video(video_file_path)\n",
        "                    features.append(frames)\n",
        "                    labels.append(class_index)\n",
        "                    video_files_paths.append(video_file_path)\n",
        "    # Converting the list to numpy arrays\n",
        "    features = np.asarray(features)\n",
        "    # print(features)\n",
        "    labels = np.array(labels)\n",
        "    # Return the frames, class index, and video file path.\n",
        "    return features, labels, video_files_paths"
      ]
    },
    {
      "cell_type": "code",
      "execution_count": 9,
      "metadata": {
        "colab": {
          "base_uri": "https://localhost:8080/"
        },
        "id": "a8rpanz9rASe",
        "outputId": "115d67f5-58fe-4fdb-92ca-99ee052dda8b"
      },
      "outputs": [
        {
          "output_type": "stream",
          "name": "stdout",
          "text": [
            "Extracting Data of Class: hemostasis train\n",
            "Extracting Data of Class: inflammatory train\n",
            "Extracting Data of Class: proliferative train\n",
            "Extracting Data of Class: maturation train\n",
            "Extracting Data of Class: hemostasis test\n",
            "Extracting Data of Class: inflammatory test\n",
            "Extracting Data of Class: proliferative test\n",
            "Extracting Data of Class: maturation test\n",
            "Extracting Data of Class: hemostasis valid\n",
            "Extracting Data of Class: inflammatory valid\n",
            "Extracting Data of Class: proliferative valid\n",
            "Extracting Data of Class: maturation valid\n"
          ]
        }
      ],
      "source": [
        "# 6 mice for training, 2 mice for test and validation (one wound on each mice for test one for validation)\n",
        "features_train, labels_train, video_files_paths_train = create_dataset('train')\n",
        "features_test, labels_test, video_files_paths_test = create_dataset('test')\n",
        "features_valid, labels_valid, video_files_paths_valid = create_dataset('valid')"
      ]
    },
    {
      "cell_type": "code",
      "execution_count": 10,
      "metadata": {
        "id": "dtJkK4qTAulC"
      },
      "outputs": [],
      "source": [
        "# one_hot_encoded_labels\n",
        "labels_train = keras.utils.to_categorical(labels_train)\n",
        "labels_test = keras.utils.to_categorical(labels_test)\n",
        "labels_valid = keras.utils.to_categorical(labels_valid)"
      ]
    },
    {
      "cell_type": "code",
      "execution_count": 11,
      "metadata": {
        "id": "N-9ykP4ig7IW"
      },
      "outputs": [],
      "source": [
        "def create_3D_CNN_model():\n",
        "    sample_shape = (16, 128, 128, 3)\n",
        "    model = Sequential()\n",
        "\n",
        "    model.add(Conv3D(32, 3, activation='relu', kernel_initializer='he_uniform',\n",
        "                     kernel_regularizer=regularizers.L2(l2=1e-4),\n",
        "                     input_shape=sample_shape))\n",
        "    \n",
        "    model.add(MaxPooling3D(2))\n",
        "\n",
        "    model.add(Dropout(0.5))\n",
        "\n",
        "    model.add(Conv3D(32, 3, activation='relu', kernel_initializer='he_uniform',\n",
        "                     kernel_regularizer=regularizers.L2(l2=1e-4)))\n",
        "    \n",
        "    model.add(MaxPooling3D(2))\n",
        "\n",
        "    model.add(Dropout(0.5))\n",
        "\n",
        "    model.add(GlobalAveragePooling3D())\n",
        "\n",
        "    model.add(Dense(32, activation='relu', kernel_initializer='he_uniform',\n",
        "                    kernel_regularizer=regularizers.L2(l2=1e-4)))\n",
        "    \n",
        "    model.add(Dropout(0.5))\n",
        "\n",
        "    model.add(Dense(16, activation='relu', kernel_initializer='he_uniform',\n",
        "                    kernel_regularizer=regularizers.L2(l2=1e-4)))\n",
        "    \n",
        "    model.add(Dropout(0.6))\n",
        "\n",
        "    model.add(Dense(8, activation='relu', kernel_initializer='he_uniform',\n",
        "                    kernel_regularizer=regularizers.L2(l2=1e-4)))\n",
        "\n",
        "    model.add(Dense(len(CLASSES_LIST), activation='softmax'))\n",
        "\n",
        "    model.summary(line_length = 125)\n",
        "\n",
        "    return model"
      ]
    },
    {
      "cell_type": "code",
      "execution_count": 12,
      "metadata": {
        "colab": {
          "base_uri": "https://localhost:8080/"
        },
        "id": "Z4_GxXZBcHlB",
        "outputId": "a8c83e71-0b2b-4bf1-9b20-8e9a41ab5222"
      },
      "outputs": [
        {
          "output_type": "stream",
          "name": "stdout",
          "text": [
            "Model: \"sequential\"\n",
            "_____________________________________________________________________________________________________________________________\n",
            " Layer (type)                                           Output Shape                                      Param #            \n",
            "=============================================================================================================================\n",
            " conv3d (Conv3D)                                        (None, 14, 126, 126, 32)                          2624               \n",
            "                                                                                                                             \n",
            " max_pooling3d (MaxPooling3D)                           (None, 7, 63, 63, 32)                             0                  \n",
            "                                                                                                                             \n",
            " dropout (Dropout)                                      (None, 7, 63, 63, 32)                             0                  \n",
            "                                                                                                                             \n",
            " conv3d_1 (Conv3D)                                      (None, 5, 61, 61, 32)                             27680              \n",
            "                                                                                                                             \n",
            " max_pooling3d_1 (MaxPooling3D)                         (None, 2, 30, 30, 32)                             0                  \n",
            "                                                                                                                             \n",
            " dropout_1 (Dropout)                                    (None, 2, 30, 30, 32)                             0                  \n",
            "                                                                                                                             \n",
            " global_average_pooling3d (GlobalAveragePooling3D)      (None, 32)                                        0                  \n",
            "                                                                                                                             \n",
            " dense (Dense)                                          (None, 32)                                        1056               \n",
            "                                                                                                                             \n",
            " dropout_2 (Dropout)                                    (None, 32)                                        0                  \n",
            "                                                                                                                             \n",
            " dense_1 (Dense)                                        (None, 16)                                        528                \n",
            "                                                                                                                             \n",
            " dropout_3 (Dropout)                                    (None, 16)                                        0                  \n",
            "                                                                                                                             \n",
            " dense_2 (Dense)                                        (None, 8)                                         136                \n",
            "                                                                                                                             \n",
            " dense_3 (Dense)                                        (None, 4)                                         36                 \n",
            "                                                                                                                             \n",
            "=============================================================================================================================\n",
            "Total params: 32,060\n",
            "Trainable params: 32,060\n",
            "Non-trainable params: 0\n",
            "_____________________________________________________________________________________________________________________________\n",
            "Model Created Successfully!\n"
          ]
        }
      ],
      "source": [
        "# Construct the required convlstm model.\n",
        "model = create_3D_CNN_model()\n",
        " \n",
        "# Display the success message. \n",
        "print(\"Model Created Successfully!\")"
      ]
    },
    {
      "cell_type": "code",
      "execution_count": 13,
      "metadata": {
        "colab": {
          "base_uri": "https://localhost:8080/"
        },
        "id": "MwYEkaYLoyb_",
        "outputId": "105132f9-87f4-4b89-9726-b842cfae2d36"
      },
      "outputs": [
        {
          "output_type": "stream",
          "name": "stdout",
          "text": [
            "Epoch 1/100\n",
            "101/101 [==============================] - 21s 104ms/step - loss: 1.3244 - accuracy: 0.4208 - val_loss: 1.2701 - val_accuracy: 0.3860\n",
            "Epoch 2/100\n",
            "101/101 [==============================] - 10s 97ms/step - loss: 1.1651 - accuracy: 0.4146 - val_loss: 1.0822 - val_accuracy: 0.3566\n",
            "Epoch 3/100\n",
            "101/101 [==============================] - 10s 97ms/step - loss: 1.1015 - accuracy: 0.4270 - val_loss: 0.9988 - val_accuracy: 0.4338\n",
            "Epoch 4/100\n",
            "101/101 [==============================] - 10s 96ms/step - loss: 1.0428 - accuracy: 0.4759 - val_loss: 0.9496 - val_accuracy: 0.5110\n",
            "Epoch 5/100\n",
            "101/101 [==============================] - 10s 97ms/step - loss: 1.0017 - accuracy: 0.4808 - val_loss: 0.9077 - val_accuracy: 0.5846\n",
            "Epoch 6/100\n",
            "101/101 [==============================] - 10s 97ms/step - loss: 0.9701 - accuracy: 0.4963 - val_loss: 0.8976 - val_accuracy: 0.5662\n",
            "Epoch 7/100\n",
            "101/101 [==============================] - 10s 96ms/step - loss: 0.9490 - accuracy: 0.5186 - val_loss: 0.8552 - val_accuracy: 0.6103\n",
            "Epoch 8/100\n",
            "101/101 [==============================] - 10s 96ms/step - loss: 0.9331 - accuracy: 0.5328 - val_loss: 0.8532 - val_accuracy: 0.6213\n",
            "Epoch 9/100\n",
            "101/101 [==============================] - 10s 97ms/step - loss: 0.9168 - accuracy: 0.5458 - val_loss: 0.8504 - val_accuracy: 0.5919\n",
            "Epoch 10/100\n",
            "101/101 [==============================] - 10s 96ms/step - loss: 0.9181 - accuracy: 0.5545 - val_loss: 0.8167 - val_accuracy: 0.5846\n",
            "Epoch 11/100\n",
            "101/101 [==============================] - 10s 96ms/step - loss: 0.8860 - accuracy: 0.5551 - val_loss: 0.8302 - val_accuracy: 0.5956\n",
            "Epoch 12/100\n",
            "101/101 [==============================] - 10s 97ms/step - loss: 0.8572 - accuracy: 0.5705 - val_loss: 0.8167 - val_accuracy: 0.5478\n",
            "Epoch 13/100\n",
            "101/101 [==============================] - 10s 96ms/step - loss: 0.8677 - accuracy: 0.5563 - val_loss: 0.8013 - val_accuracy: 0.6066\n",
            "Epoch 14/100\n",
            "101/101 [==============================] - 10s 97ms/step - loss: 0.8465 - accuracy: 0.5786 - val_loss: 0.8039 - val_accuracy: 0.5956\n",
            "Epoch 15/100\n",
            "101/101 [==============================] - 10s 96ms/step - loss: 0.8619 - accuracy: 0.5681 - val_loss: 0.8124 - val_accuracy: 0.5331\n",
            "Epoch 16/100\n",
            "101/101 [==============================] - 10s 97ms/step - loss: 0.8366 - accuracy: 0.6009 - val_loss: 0.7950 - val_accuracy: 0.6066\n",
            "Epoch 17/100\n",
            "101/101 [==============================] - 10s 96ms/step - loss: 0.8178 - accuracy: 0.6046 - val_loss: 0.8018 - val_accuracy: 0.6360\n",
            "Epoch 18/100\n",
            "101/101 [==============================] - 10s 96ms/step - loss: 0.8329 - accuracy: 0.6033 - val_loss: 0.7936 - val_accuracy: 0.6029\n",
            "Epoch 19/100\n",
            "101/101 [==============================] - 10s 96ms/step - loss: 0.8192 - accuracy: 0.5965 - val_loss: 0.7987 - val_accuracy: 0.6066\n",
            "Epoch 20/100\n",
            "101/101 [==============================] - 10s 97ms/step - loss: 0.8062 - accuracy: 0.5972 - val_loss: 0.7902 - val_accuracy: 0.5919\n",
            "Epoch 21/100\n",
            "101/101 [==============================] - 10s 97ms/step - loss: 0.8163 - accuracy: 0.6021 - val_loss: 0.8005 - val_accuracy: 0.5809\n",
            "Epoch 22/100\n",
            "101/101 [==============================] - 10s 96ms/step - loss: 0.8005 - accuracy: 0.6244 - val_loss: 0.7610 - val_accuracy: 0.6140\n",
            "Epoch 23/100\n",
            "101/101 [==============================] - 10s 97ms/step - loss: 0.7977 - accuracy: 0.6213 - val_loss: 0.7785 - val_accuracy: 0.6103\n",
            "Epoch 24/100\n",
            "101/101 [==============================] - 10s 97ms/step - loss: 0.7944 - accuracy: 0.6219 - val_loss: 0.7776 - val_accuracy: 0.6066\n",
            "Epoch 25/100\n",
            "101/101 [==============================] - 10s 96ms/step - loss: 0.8099 - accuracy: 0.6182 - val_loss: 0.7834 - val_accuracy: 0.6176\n",
            "Epoch 26/100\n",
            "101/101 [==============================] - 10s 96ms/step - loss: 0.7874 - accuracy: 0.6188 - val_loss: 0.7639 - val_accuracy: 0.6176\n",
            "Epoch 27/100\n",
            "101/101 [==============================] - 10s 97ms/step - loss: 0.7631 - accuracy: 0.6250 - val_loss: 0.7767 - val_accuracy: 0.6360\n",
            "Epoch 28/100\n",
            "101/101 [==============================] - 10s 97ms/step - loss: 0.7641 - accuracy: 0.6306 - val_loss: 0.7551 - val_accuracy: 0.6324\n",
            "Epoch 29/100\n",
            "101/101 [==============================] - 10s 97ms/step - loss: 0.7667 - accuracy: 0.6380 - val_loss: 0.7846 - val_accuracy: 0.5772\n",
            "Epoch 30/100\n",
            "101/101 [==============================] - 10s 97ms/step - loss: 0.7647 - accuracy: 0.6287 - val_loss: 0.7728 - val_accuracy: 0.5956\n",
            "Epoch 31/100\n",
            "101/101 [==============================] - 10s 97ms/step - loss: 0.7556 - accuracy: 0.6423 - val_loss: 0.7767 - val_accuracy: 0.5956\n",
            "Epoch 32/100\n",
            "101/101 [==============================] - 10s 97ms/step - loss: 0.7882 - accuracy: 0.6262 - val_loss: 0.7824 - val_accuracy: 0.5441\n",
            "Epoch 33/100\n",
            "101/101 [==============================] - 10s 96ms/step - loss: 0.7421 - accuracy: 0.6683 - val_loss: 0.7469 - val_accuracy: 0.6250\n",
            "Epoch 34/100\n",
            "101/101 [==============================] - 10s 97ms/step - loss: 0.7658 - accuracy: 0.6349 - val_loss: 0.7476 - val_accuracy: 0.6544\n",
            "Epoch 35/100\n",
            "101/101 [==============================] - 10s 96ms/step - loss: 0.7377 - accuracy: 0.6541 - val_loss: 0.7478 - val_accuracy: 0.6654\n",
            "Epoch 36/100\n",
            "101/101 [==============================] - 10s 96ms/step - loss: 0.7414 - accuracy: 0.6411 - val_loss: 0.7637 - val_accuracy: 0.6066\n",
            "Epoch 37/100\n",
            "101/101 [==============================] - 10s 96ms/step - loss: 0.7363 - accuracy: 0.6516 - val_loss: 0.7726 - val_accuracy: 0.5515\n",
            "Epoch 38/100\n",
            "101/101 [==============================] - 10s 96ms/step - loss: 0.7329 - accuracy: 0.6572 - val_loss: 0.7683 - val_accuracy: 0.6066\n",
            "Epoch 39/100\n",
            "101/101 [==============================] - 10s 96ms/step - loss: 0.7137 - accuracy: 0.6590 - val_loss: 0.7406 - val_accuracy: 0.6765\n",
            "Epoch 40/100\n",
            "101/101 [==============================] - 10s 97ms/step - loss: 0.7078 - accuracy: 0.6689 - val_loss: 0.7588 - val_accuracy: 0.6140\n",
            "Epoch 41/100\n",
            "101/101 [==============================] - 10s 97ms/step - loss: 0.7062 - accuracy: 0.6696 - val_loss: 0.7772 - val_accuracy: 0.5735\n",
            "Epoch 42/100\n",
            "101/101 [==============================] - 10s 96ms/step - loss: 0.7078 - accuracy: 0.6900 - val_loss: 0.7251 - val_accuracy: 0.6287\n",
            "Epoch 43/100\n",
            "101/101 [==============================] - 10s 97ms/step - loss: 0.7020 - accuracy: 0.6894 - val_loss: 0.7655 - val_accuracy: 0.5882\n",
            "Epoch 44/100\n",
            "101/101 [==============================] - 10s 96ms/step - loss: 0.7078 - accuracy: 0.6665 - val_loss: 0.6956 - val_accuracy: 0.6581\n",
            "Epoch 45/100\n",
            "101/101 [==============================] - 10s 97ms/step - loss: 0.6622 - accuracy: 0.6962 - val_loss: 0.7258 - val_accuracy: 0.6765\n",
            "Epoch 46/100\n",
            "101/101 [==============================] - 10s 97ms/step - loss: 0.6719 - accuracy: 0.6931 - val_loss: 0.6972 - val_accuracy: 0.6654\n",
            "Epoch 47/100\n",
            "101/101 [==============================] - 10s 97ms/step - loss: 0.6597 - accuracy: 0.6962 - val_loss: 0.7258 - val_accuracy: 0.6434\n",
            "Epoch 48/100\n",
            "101/101 [==============================] - 10s 97ms/step - loss: 0.6636 - accuracy: 0.6925 - val_loss: 0.7145 - val_accuracy: 0.6471\n",
            "Epoch 49/100\n",
            "101/101 [==============================] - 10s 96ms/step - loss: 0.6533 - accuracy: 0.7048 - val_loss: 0.6681 - val_accuracy: 0.6838\n",
            "Epoch 50/100\n",
            "101/101 [==============================] - 10s 97ms/step - loss: 0.6300 - accuracy: 0.7191 - val_loss: 0.6856 - val_accuracy: 0.6618\n",
            "Epoch 51/100\n",
            "101/101 [==============================] - 10s 96ms/step - loss: 0.6323 - accuracy: 0.7209 - val_loss: 0.7816 - val_accuracy: 0.5956\n",
            "Epoch 52/100\n",
            "101/101 [==============================] - 10s 96ms/step - loss: 0.6065 - accuracy: 0.7395 - val_loss: 0.6971 - val_accuracy: 0.6985\n",
            "Epoch 53/100\n",
            "101/101 [==============================] - 10s 97ms/step - loss: 0.6157 - accuracy: 0.7172 - val_loss: 0.6517 - val_accuracy: 0.6949\n",
            "Epoch 54/100\n",
            "101/101 [==============================] - 10s 96ms/step - loss: 0.6314 - accuracy: 0.7191 - val_loss: 0.7643 - val_accuracy: 0.5846\n",
            "Epoch 55/100\n",
            "101/101 [==============================] - 10s 97ms/step - loss: 0.5894 - accuracy: 0.7444 - val_loss: 0.6474 - val_accuracy: 0.6875\n",
            "Epoch 56/100\n",
            "101/101 [==============================] - 10s 97ms/step - loss: 0.6112 - accuracy: 0.7327 - val_loss: 0.6555 - val_accuracy: 0.7206\n",
            "Epoch 57/100\n",
            "101/101 [==============================] - 10s 97ms/step - loss: 0.5994 - accuracy: 0.7444 - val_loss: 0.7083 - val_accuracy: 0.6654\n",
            "Epoch 58/100\n",
            "101/101 [==============================] - 10s 96ms/step - loss: 0.6049 - accuracy: 0.7364 - val_loss: 0.6457 - val_accuracy: 0.6801\n",
            "Epoch 59/100\n",
            "101/101 [==============================] - 10s 96ms/step - loss: 0.6213 - accuracy: 0.7209 - val_loss: 0.6555 - val_accuracy: 0.6985\n",
            "Epoch 60/100\n",
            "101/101 [==============================] - 10s 96ms/step - loss: 0.5815 - accuracy: 0.7512 - val_loss: 0.6552 - val_accuracy: 0.6544\n",
            "Epoch 61/100\n",
            "101/101 [==============================] - 10s 96ms/step - loss: 0.5893 - accuracy: 0.7376 - val_loss: 0.6571 - val_accuracy: 0.6765\n",
            "Epoch 62/100\n",
            "101/101 [==============================] - 10s 97ms/step - loss: 0.5722 - accuracy: 0.7407 - val_loss: 0.6632 - val_accuracy: 0.6912\n",
            "Epoch 63/100\n",
            "101/101 [==============================] - 10s 96ms/step - loss: 0.5930 - accuracy: 0.7444 - val_loss: 0.6909 - val_accuracy: 0.6434\n",
            "Epoch 64/100\n",
            "101/101 [==============================] - 10s 97ms/step - loss: 0.5964 - accuracy: 0.7259 - val_loss: 0.6744 - val_accuracy: 0.6691\n",
            "Epoch 65/100\n",
            "101/101 [==============================] - 10s 96ms/step - loss: 0.5854 - accuracy: 0.7420 - val_loss: 0.6699 - val_accuracy: 0.6581\n",
            "Epoch 66/100\n",
            "101/101 [==============================] - 10s 97ms/step - loss: 0.5752 - accuracy: 0.7426 - val_loss: 0.6585 - val_accuracy: 0.6544\n",
            "Epoch 67/100\n",
            "101/101 [==============================] - 10s 97ms/step - loss: 0.5650 - accuracy: 0.7469 - val_loss: 0.7308 - val_accuracy: 0.6066\n",
            "Epoch 68/100\n",
            "101/101 [==============================] - 10s 97ms/step - loss: 0.5697 - accuracy: 0.7457 - val_loss: 0.6467 - val_accuracy: 0.6801\n",
            "Epoch 69/100\n",
            "101/101 [==============================] - 10s 97ms/step - loss: 0.5572 - accuracy: 0.7512 - val_loss: 0.6647 - val_accuracy: 0.6581\n",
            "Epoch 70/100\n",
            "101/101 [==============================] - 10s 97ms/step - loss: 0.5406 - accuracy: 0.7537 - val_loss: 0.7359 - val_accuracy: 0.6140\n",
            "Epoch 71/100\n",
            "101/101 [==============================] - 10s 96ms/step - loss: 0.5806 - accuracy: 0.7457 - val_loss: 0.6400 - val_accuracy: 0.6875\n",
            "Epoch 72/100\n",
            "101/101 [==============================] - 10s 96ms/step - loss: 0.5443 - accuracy: 0.7543 - val_loss: 0.6269 - val_accuracy: 0.7059\n",
            "Epoch 73/100\n",
            "101/101 [==============================] - 10s 97ms/step - loss: 0.5427 - accuracy: 0.7667 - val_loss: 0.6855 - val_accuracy: 0.6618\n",
            "Epoch 74/100\n",
            "101/101 [==============================] - 10s 97ms/step - loss: 0.5641 - accuracy: 0.7525 - val_loss: 0.6237 - val_accuracy: 0.6985\n",
            "Epoch 75/100\n",
            "101/101 [==============================] - 10s 96ms/step - loss: 0.5325 - accuracy: 0.7574 - val_loss: 0.6454 - val_accuracy: 0.6801\n",
            "Epoch 76/100\n",
            "101/101 [==============================] - 10s 96ms/step - loss: 0.5249 - accuracy: 0.7723 - val_loss: 0.6342 - val_accuracy: 0.6912\n",
            "Epoch 77/100\n",
            "101/101 [==============================] - 10s 96ms/step - loss: 0.5221 - accuracy: 0.7741 - val_loss: 0.6572 - val_accuracy: 0.6728\n",
            "Epoch 78/100\n",
            "101/101 [==============================] - 10s 96ms/step - loss: 0.5184 - accuracy: 0.7698 - val_loss: 0.6278 - val_accuracy: 0.6801\n",
            "Epoch 79/100\n",
            "101/101 [==============================] - 10s 96ms/step - loss: 0.5377 - accuracy: 0.7587 - val_loss: 0.7016 - val_accuracy: 0.6875\n",
            "Epoch 80/100\n",
            "101/101 [==============================] - 10s 97ms/step - loss: 0.5439 - accuracy: 0.7655 - val_loss: 0.6535 - val_accuracy: 0.6765\n",
            "Epoch 81/100\n",
            "101/101 [==============================] - 10s 96ms/step - loss: 0.5093 - accuracy: 0.7735 - val_loss: 0.6235 - val_accuracy: 0.6838\n",
            "Epoch 82/100\n",
            "101/101 [==============================] - 10s 96ms/step - loss: 0.5219 - accuracy: 0.7741 - val_loss: 0.6392 - val_accuracy: 0.7096\n",
            "Epoch 83/100\n",
            "101/101 [==============================] - 10s 96ms/step - loss: 0.4928 - accuracy: 0.7791 - val_loss: 0.6192 - val_accuracy: 0.6949\n",
            "Epoch 84/100\n",
            "101/101 [==============================] - 10s 96ms/step - loss: 0.5139 - accuracy: 0.7574 - val_loss: 0.7008 - val_accuracy: 0.6471\n",
            "Epoch 85/100\n",
            "101/101 [==============================] - 10s 97ms/step - loss: 0.5219 - accuracy: 0.7754 - val_loss: 0.6891 - val_accuracy: 0.6544\n",
            "Epoch 86/100\n",
            "101/101 [==============================] - 10s 96ms/step - loss: 0.5142 - accuracy: 0.7723 - val_loss: 0.6376 - val_accuracy: 0.6728\n",
            "Epoch 87/100\n",
            "101/101 [==============================] - 10s 96ms/step - loss: 0.5084 - accuracy: 0.7865 - val_loss: 0.6126 - val_accuracy: 0.7169\n",
            "Epoch 88/100\n",
            "101/101 [==============================] - 10s 96ms/step - loss: 0.4963 - accuracy: 0.7772 - val_loss: 0.6527 - val_accuracy: 0.6654\n",
            "Epoch 89/100\n",
            "101/101 [==============================] - 10s 97ms/step - loss: 0.4977 - accuracy: 0.7847 - val_loss: 0.6265 - val_accuracy: 0.6912\n",
            "Epoch 90/100\n",
            "101/101 [==============================] - 10s 96ms/step - loss: 0.5021 - accuracy: 0.7760 - val_loss: 0.6199 - val_accuracy: 0.6912\n",
            "Epoch 91/100\n",
            "101/101 [==============================] - 10s 96ms/step - loss: 0.5059 - accuracy: 0.7902 - val_loss: 0.6180 - val_accuracy: 0.6949\n",
            "Epoch 92/100\n",
            "101/101 [==============================] - 10s 97ms/step - loss: 0.4948 - accuracy: 0.7853 - val_loss: 0.6326 - val_accuracy: 0.6949\n",
            "Epoch 93/100\n",
            "101/101 [==============================] - 10s 97ms/step - loss: 0.5204 - accuracy: 0.7853 - val_loss: 0.6426 - val_accuracy: 0.6618\n",
            "Epoch 94/100\n",
            "101/101 [==============================] - 10s 97ms/step - loss: 0.5030 - accuracy: 0.7754 - val_loss: 0.6311 - val_accuracy: 0.7206\n",
            "Epoch 95/100\n",
            "101/101 [==============================] - 10s 96ms/step - loss: 0.4827 - accuracy: 0.7958 - val_loss: 0.6354 - val_accuracy: 0.6801\n",
            "Epoch 96/100\n",
            "101/101 [==============================] - 10s 96ms/step - loss: 0.4943 - accuracy: 0.7865 - val_loss: 0.7414 - val_accuracy: 0.6176\n",
            "Epoch 97/100\n",
            "101/101 [==============================] - 10s 96ms/step - loss: 0.4954 - accuracy: 0.7809 - val_loss: 0.6654 - val_accuracy: 0.6544\n",
            "Epoch 98/100\n",
            "101/101 [==============================] - 10s 97ms/step - loss: 0.4933 - accuracy: 0.7884 - val_loss: 0.5948 - val_accuracy: 0.7463\n",
            "Epoch 99/100\n",
            "101/101 [==============================] - 10s 97ms/step - loss: 0.4727 - accuracy: 0.7933 - val_loss: 0.6174 - val_accuracy: 0.7243\n",
            "Epoch 100/100\n",
            "101/101 [==============================] - 10s 96ms/step - loss: 0.4686 - accuracy: 0.8051 - val_loss: 0.6141 - val_accuracy: 0.6949\n"
          ]
        }
      ],
      "source": [
        "# Create an Instance of Early Stopping Callback\n",
        "early_stopping_callback = keras.callbacks.EarlyStopping(monitor = 'val_loss',\n",
        "                                                        patience = 20,\n",
        "                                                        mode = 'min',\n",
        "                                                        restore_best_weights = True)\n",
        "# Compile the model and specify loss function, optimizer and metrics values to the model\n",
        "model.compile(loss = 'categorical_crossentropy',\n",
        "              optimizer= keras.optimizers.Adam(0.001, decay=1e-4),\n",
        "              metrics=['accuracy'])\n",
        "# Start training the model.\n",
        "cnn_3d_model_training_history = model.fit(x = features_train,\n",
        "                                          y = labels_train,\n",
        "                                          epochs=100,\n",
        "                                          batch_size=16,\n",
        "                                          shuffle = True,\n",
        "                                          validation_data = (features_valid, labels_valid))\n",
        "                                          # callbacks = [early_stopping_callback])"
      ]
    },
    {
      "cell_type": "code",
      "execution_count": 14,
      "metadata": {
        "colab": {
          "base_uri": "https://localhost:8080/"
        },
        "id": "3vimsgjjbXvL",
        "outputId": "e1ea1d79-e23c-4030-eb71-6c5058197759"
      },
      "outputs": [
        {
          "output_type": "stream",
          "name": "stdout",
          "text": [
            "9/9 [==============================] - 1s 71ms/step - loss: 0.9013 - accuracy: 0.7353\n",
            "\n",
            "\n",
            "Train accuracy: 86.757 % || Test accuracy: 73.529 % || Val accuracy: 69.485 %\n",
            "Train loss: 0.347 || Test loss: 0.901 || Val loss: 0.614\n"
          ]
        }
      ],
      "source": [
        "model_evaluation_history = model.evaluate(features_test, labels_test)\n",
        "print('\\n')\n",
        "train_loss, train_acc = model.evaluate(features_train, labels_train, verbose=0)\n",
        "test_loss, test_acc = model.evaluate(features_test, labels_test, verbose=0)\n",
        "val_loss, val_acc = model.evaluate(features_valid, labels_valid, verbose=0)\n",
        "print(f'Train accuracy: {train_acc*100:.3f} % || Test accuracy: {test_acc*100:.3f} % || Val accuracy: {val_acc*100:.3f} %')\n",
        "print(f'Train loss: {train_loss:.3f} || Test loss: {test_loss:.3f} || Val loss: {val_loss:.3f}')"
      ]
    },
    {
      "cell_type": "code",
      "execution_count": null,
      "metadata": {
        "id": "ivmaK9BlbnRQ"
      },
      "outputs": [],
      "source": [
        "# Get the loss and accuracy from model_evaluation_history.\n",
        "model_evaluation_loss, model_evaluation_accuracy = model_evaluation_history\n",
        " \n",
        "# Define the string date format.\n",
        "# Get the current Date and Time in a DateTime Object.\n",
        "# Convert the DateTime object to string according to the style mentioned in date_time_format string.\n",
        "date_time_format = '%Y_%m_%d__%H_%M_%S'\n",
        "current_date_time_dt = dt.datetime.now()\n",
        "current_date_time_string = dt.datetime.strftime(current_date_time_dt, date_time_format)\n",
        " \n",
        "# Define a useful name for our model to make it easy for us while navigating through multiple saved models.\n",
        "model_file_name = f'3D_CNN_model___Date_Time_{current_date_time_string}___Loss_{model_evaluation_loss}___Accuracy_{model_evaluation_accuracy}.h5'\n",
        "# Change dir\n",
        "gdrive_path = '/content/gdrive' + '/My Drive/247/Saved_models/'\n",
        "os.chdir(gdrive_path)\n",
        "# Create a floder for the model files\n",
        "!mkdir -p cnn_3d_{current_date_time_string}\n",
        "# Save your Model.\n",
        "model.save('convlstm_' + str(current_date_time_string) + '/' + model_file_name)\n",
        "# Save model weights\n",
        "model.save_weights('convlstm_' + str(current_date_time_string) + '/' + 'weights')"
      ]
    },
    {
      "cell_type": "code",
      "execution_count": null,
      "metadata": {
        "id": "OwU8TwPrbsKB"
      },
      "outputs": [],
      "source": [
        "def plot_metric(model_training_history, metric_name_1, metric_name_2, plot_name):\n",
        "    '''\n",
        "    This function will plot the metrics passed to it in a graph.\n",
        "    Args:\n",
        "        model_training_history: A history object containing a record of training and validation \n",
        "                                loss values and metrics values at successive epochs\n",
        "        metric_name_1:          The name of the first metric that needs to be plotted in the graph.\n",
        "        metric_name_2:          The name of the second metric that needs to be plotted in the graph.\n",
        "        plot_name:              The title of the graph.\n",
        "    '''\n",
        "    \n",
        "    # Get metric values using metric names as identifiers.\n",
        "    metric_value_1 = model_training_history[0].history[metric_name_1]\n",
        "    metric_value_2 = model_training_history[0].history[metric_name_2]\n",
        "    \n",
        "    # Construct a range object which will be used as x-axis (horizontal plane) of the graph.\n",
        "    epochs = range(len(metric_value_1))\n",
        "\n",
        "    # Plot the Graph.\n",
        "    plt.plot(epochs, metric_value_1, 'blue', label = metric_name_1)\n",
        "    plt.plot(epochs, metric_value_2, 'red', label = metric_name_2)\n",
        "\n",
        "    # Add title to the plot.\n",
        "    plt.title(str(plot_name))\n",
        "\n",
        "    # Add legend to the plot.\n",
        "    plt.legend()"
      ]
    },
    {
      "cell_type": "code",
      "execution_count": null,
      "metadata": {
        "id": "cvKY05ncbwof"
      },
      "outputs": [],
      "source": [
        "plot_metric(cnn_3d_model_training_history, 'loss', 'val_loss', 'Total Loss vs Total Validation Loss')"
      ]
    },
    {
      "cell_type": "code",
      "execution_count": null,
      "metadata": {
        "id": "o1iaaDHBb5i0"
      },
      "outputs": [],
      "source": [
        "plot_metric(cnn_3d_model_training_history, 'accuracy', 'val_accuracy', 'Total Accuracy vs Total Validation Accuracy') "
      ]
    }
  ],
  "metadata": {
    "accelerator": "GPU",
    "colab": {
      "collapsed_sections": [],
      "machine_shape": "hm",
      "name": "3D_CNN.ipynb",
      "provenance": [],
      "authorship_tag": "ABX9TyMQ/VS/Qp/CuCTEn8UG5CS+",
      "include_colab_link": true
    },
    "kernelspec": {
      "display_name": "Python 3",
      "name": "python3"
    },
    "language_info": {
      "name": "python"
    }
  },
  "nbformat": 4,
  "nbformat_minor": 0
}