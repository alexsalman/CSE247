{
  "cells": [
    {
      "cell_type": "markdown",
      "metadata": {
        "id": "view-in-github",
        "colab_type": "text"
      },
      "source": [
        "<a href=\"https://colab.research.google.com/github/alexsalman/CSE247/blob/main/3D_CNN_No_Splint.ipynb\" target=\"_parent\"><img src=\"https://colab.research.google.com/assets/colab-badge.svg\" alt=\"Open In Colab\"/></a>"
      ]
    },
    {
      "cell_type": "markdown",
      "metadata": {
        "id": "Kk7I8NauauE3"
      },
      "source": [
        "####**3D Convolutional Neural Network**\n",
        "######*I am using 3D Convolutional Neural Network to extract the temporal and spatial information which are merged slowly throughout the whole network.*"
      ]
    },
    {
      "cell_type": "code",
      "execution_count": 1,
      "metadata": {
        "colab": {
          "base_uri": "https://localhost:8080/"
        },
        "id": "M8ibtd5HKtZk",
        "outputId": "3f536b7f-190e-48d4-aca7-838f6cf4ab85"
      },
      "outputs": [
        {
          "output_type": "stream",
          "name": "stdout",
          "text": [
            "2.8.0\n"
          ]
        }
      ],
      "source": [
        "# required libraries\n",
        "import os\n",
        "import cv2\n",
        "import random\n",
        "import numpy as np\n",
        "import datetime as dt\n",
        "import matplotlib.pyplot as plt\n",
        "from google.colab import drive\n",
        "from sklearn.model_selection import train_test_split\n",
        "import tensorflow as tf\n",
        "from tensorflow import keras\n",
        "from keras.models import Sequential\n",
        "from keras.layers import Dense, Flatten, Conv3D, MaxPooling3D, Dropout\n",
        "from keras.layers import BatchNormalization, GlobalAveragePooling3D\n",
        "from keras import regularizers\n",
        "%matplotlib inline\n",
        "print(tf.version.VERSION)"
      ]
    },
    {
      "cell_type": "code",
      "execution_count": 2,
      "metadata": {
        "id": "iffdFOf1CEAN"
      },
      "outputs": [],
      "source": [
        "# set Numpy, Python, and Tensorflow seeds to get consistent results on every execution\n",
        "seed_constant = 27\n",
        "np.random.seed(seed_constant)\n",
        "random.seed(seed_constant)\n",
        "tf.random.set_seed(seed_constant)"
      ]
    },
    {
      "cell_type": "code",
      "execution_count": 3,
      "metadata": {
        "colab": {
          "base_uri": "https://localhost:8080/",
          "height": 53
        },
        "id": "mcLh22LiOHyn",
        "outputId": "d94b33cd-66c7-427a-991a-ae6b343f2a9b"
      },
      "outputs": [
        {
          "output_type": "stream",
          "name": "stdout",
          "text": [
            "Mounted at /content/gdrive/\n"
          ]
        },
        {
          "output_type": "execute_result",
          "data": {
            "text/plain": [
              "'/content/gdrive/My Drive/247'"
            ],
            "application/vnd.google.colaboratory.intrinsic+json": {
              "type": "string"
            }
          },
          "metadata": {},
          "execution_count": 3
        }
      ],
      "source": [
        "# mount dataset from google drive\n",
        "drive.mount('/content/gdrive/', force_remount=True)\n",
        "gdrive_path = '/content/gdrive' + '/My Drive/247/'\n",
        "os.chdir(gdrive_path)\n",
        "os.getcwd()"
      ]
    },
    {
      "cell_type": "code",
      "execution_count": 4,
      "metadata": {
        "id": "oeDK8SzumZ1Q"
      },
      "outputs": [],
      "source": [
        "# frame dimention\n",
        "IMAGE_HEIGHT, IMAGE_WIDTH = 96, 96\n",
        "# frame number for each video (depth)\n",
        "SEQUENCE_LENGTH = 16\n",
        "# video dir path\n",
        "DATASET_DIR = gdrive_path + 'Circle_Cropped_videos_labeled'\n",
        "# labels of classes\n",
        "CLASSES_LIST = ['hemostasis', 'inflammatory', 'proliferative', 'maturation']"
      ]
    },
    {
      "cell_type": "code",
      "execution_count": 5,
      "metadata": {
        "id": "HUTeIqzpZc9J"
      },
      "outputs": [],
      "source": [
        "# image cropping\n",
        "def crop_center_square(frame):\n",
        "    y, x = frame.shape[0:2]\n",
        "    min_dim = min(y, x)\n",
        "    start_x = (x // 2) - (min_dim // 2)\n",
        "    start_y = (y // 2) - (min_dim // 2)\n",
        "    return frame[start_y:start_y+min_dim,start_x:start_x+min_dim]"
      ]
    },
    {
      "cell_type": "code",
      "execution_count": 6,
      "metadata": {
        "id": "QRDbHG0TZkYJ"
      },
      "outputs": [],
      "source": [
        "def load_video(path, resize=(96, 96)):\n",
        "    video_reader = cv2.VideoCapture(path)\n",
        "    frames = []\n",
        "    try:\n",
        "        while True:\n",
        "            ret, frame = video_reader.read()\n",
        "            if not ret:\n",
        "                  break\n",
        "            # frame = crop_center_square(frame)\n",
        "            frame = cv2.resize(frame, resize)\n",
        "            frame = frame[:, :, [2, 1, 0]]\n",
        "            black_frame = frame\n",
        "            frames.append(frame)\n",
        "    finally:\n",
        "        video_reader.release()\n",
        "    return np.array(frames) / 255.0"
      ]
    },
    {
      "cell_type": "code",
      "execution_count": 7,
      "metadata": {
        "id": "ljUWHW6Jqzu-"
      },
      "outputs": [],
      "source": [
        "def create_dataset(state):\n",
        "    # Declared Empty Lists to store the features, labels and video file path values.\n",
        "    features = []\n",
        "    labels = []\n",
        "    video_files_paths = []\n",
        "    # Iterating through all the classes mentioned in the classes list\n",
        "    for class_index, class_name in enumerate(CLASSES_LIST):\n",
        "        # Display the name of the class whose data is being extracted.\n",
        "        print(f'Extracting Data of Class: {class_name} {state}')\n",
        "        # Get the list of video files present in the specific class name directory.\n",
        "        files_list = os.listdir(os.path.join(DATASET_DIR, class_name))\n",
        "        # Iterate through all the files present in the files list.\n",
        "        for file_name in files_list:\n",
        "            # Get the complete video path.\n",
        "            video_file_path = os.path.join(DATASET_DIR, class_name, file_name)\n",
        "            # create testing data\n",
        "            if state == 'test':\n",
        "                # get the mouse number\n",
        "                mouse_number = int(video_file_path.split(' ')[2].split('_')[1].split('-')[1])\n",
        "                # get the mouse side (L or R)\n",
        "                mouse_side = video_file_path.split(' ')[2].split('_')[1].split('-')[2]\n",
        "                if mouse_number == 4 and mouse_side == 'L':\n",
        "                    frames = load_video(video_file_path)\n",
        "                    features.append(frames)\n",
        "                    labels.append(class_index)\n",
        "                    video_files_paths.append(video_file_path)\n",
        "            # create validation data\n",
        "            elif state == 'valid':\n",
        "                # get the mouse number\n",
        "                mouse_number = int(video_file_path.split(' ')[2].split('_')[1].split('-')[1])\n",
        "                # get the mouse side (L or R)\n",
        "                mouse_side = video_file_path.split(' ')[2].split('_')[1].split('-')[2]\n",
        "                if mouse_number == 4 and mouse_side == 'R':\n",
        "                    frames = load_video(video_file_path)\n",
        "                    features.append(frames)\n",
        "                    labels.append(class_index)\n",
        "                    video_files_paths.append(video_file_path)\n",
        "            # create training data\n",
        "            else:\n",
        "                # get the mouse number\n",
        "                mouse_number = int(video_file_path.split(' ')[2].split('_')[1].split('-')[1])\n",
        "                if mouse_number != 4:\n",
        "                    frames = load_video(video_file_path)\n",
        "                    features.append(frames)\n",
        "                    labels.append(class_index)\n",
        "                    video_files_paths.append(video_file_path)\n",
        "    # Converting the list to numpy arrays\n",
        "    features = np.asarray(features)\n",
        "    # print(features)\n",
        "    labels = np.array(labels)\n",
        "    # Return the frames, class index, and video file path.\n",
        "    return features, labels, video_files_paths"
      ]
    },
    {
      "cell_type": "code",
      "execution_count": 8,
      "metadata": {
        "colab": {
          "base_uri": "https://localhost:8080/"
        },
        "id": "a8rpanz9rASe",
        "outputId": "7c2682aa-4942-44f8-ec50-3f675a08d2b6"
      },
      "outputs": [
        {
          "output_type": "stream",
          "name": "stdout",
          "text": [
            "Extracting Data of Class: hemostasis train\n",
            "Extracting Data of Class: inflammatory train\n",
            "Extracting Data of Class: proliferative train\n",
            "Extracting Data of Class: maturation train\n",
            "Extracting Data of Class: hemostasis test\n",
            "Extracting Data of Class: inflammatory test\n",
            "Extracting Data of Class: proliferative test\n",
            "Extracting Data of Class: maturation test\n",
            "Extracting Data of Class: hemostasis valid\n",
            "Extracting Data of Class: inflammatory valid\n",
            "Extracting Data of Class: proliferative valid\n",
            "Extracting Data of Class: maturation valid\n"
          ]
        }
      ],
      "source": [
        "# 6 mice for training, 2 mice for test and validation (one wound on each mice for test one for validation)\n",
        "features_train, labels_train, video_files_paths_train = create_dataset('train')\n",
        "features_test, labels_test, video_files_paths_test = create_dataset('test')\n",
        "features_valid, labels_valid, video_files_paths_valid = create_dataset('valid')"
      ]
    },
    {
      "cell_type": "code",
      "execution_count": 9,
      "metadata": {
        "id": "dtJkK4qTAulC"
      },
      "outputs": [],
      "source": [
        "# labels to catogorical\n",
        "labels_train = keras.utils.to_categorical(labels_train)\n",
        "labels_test = keras.utils.to_categorical(labels_test)\n",
        "labels_valid = keras.utils.to_categorical(labels_valid)"
      ]
    },
    {
      "cell_type": "code",
      "execution_count": 10,
      "metadata": {
        "id": "N-9ykP4ig7IW"
      },
      "outputs": [],
      "source": [
        "def create_3D_CNN_model():\n",
        "    sample_shape = (16, 96, 96, 3)\n",
        "    model = Sequential()\n",
        "    \n",
        "    model.add(Conv3D(8, (1,3,3), activation='relu', kernel_initializer='he_uniform',\n",
        "                     kernel_regularizer=regularizers.L2(l2=1e-4),\n",
        "                     input_shape=sample_shape))\n",
        "    model.add(MaxPooling3D(2))\n",
        "    model.add(Dropout(0.35))\n",
        "\n",
        "    model.add(Conv3D(16, (3,3,3), activation='relu', kernel_initializer='he_uniform',\n",
        "                     kernel_regularizer=regularizers.L2(l2=1e-4)))\n",
        "    model.add(MaxPooling3D(2))\n",
        "    model.add(Dropout(0.35))\n",
        "\n",
        "    model.add(GlobalAveragePooling3D())\n",
        "    model.add(Dropout(0.3))\n",
        "\n",
        "    model.add(Dense(16, activation='relu', kernel_initializer='he_uniform',\n",
        "                    kernel_regularizer=regularizers.L2(l2=1e-4)))\n",
        "    model.add(Dropout(0.4))\n",
        "\n",
        "    model.add(Dense(8, activation='relu', kernel_initializer='he_uniform',\n",
        "                    kernel_regularizer=regularizers.L2(l2=1e-4)))\n",
        "\n",
        "    model.add(Dense(len(CLASSES_LIST), activation='softmax'))\n",
        "\n",
        "    model.summary(line_length = 125)\n",
        "\n",
        "    return model"
      ]
    },
    {
      "cell_type": "code",
      "execution_count": 11,
      "metadata": {
        "colab": {
          "base_uri": "https://localhost:8080/"
        },
        "id": "Z4_GxXZBcHlB",
        "outputId": "4f3a5f3b-4514-45f8-adaf-c529c7924d9f"
      },
      "outputs": [
        {
          "output_type": "stream",
          "name": "stdout",
          "text": [
            "Model: \"sequential\"\n",
            "_____________________________________________________________________________________________________________________________\n",
            " Layer (type)                                           Output Shape                                      Param #            \n",
            "=============================================================================================================================\n",
            " conv3d (Conv3D)                                        (None, 16, 94, 94, 8)                             224                \n",
            "                                                                                                                             \n",
            " max_pooling3d (MaxPooling3D)                           (None, 8, 47, 47, 8)                              0                  \n",
            "                                                                                                                             \n",
            " dropout (Dropout)                                      (None, 8, 47, 47, 8)                              0                  \n",
            "                                                                                                                             \n",
            " conv3d_1 (Conv3D)                                      (None, 6, 45, 45, 16)                             3472               \n",
            "                                                                                                                             \n",
            " max_pooling3d_1 (MaxPooling3D)                         (None, 3, 22, 22, 16)                             0                  \n",
            "                                                                                                                             \n",
            " dropout_1 (Dropout)                                    (None, 3, 22, 22, 16)                             0                  \n",
            "                                                                                                                             \n",
            " global_average_pooling3d (GlobalAveragePooling3D)      (None, 16)                                        0                  \n",
            "                                                                                                                             \n",
            " dropout_2 (Dropout)                                    (None, 16)                                        0                  \n",
            "                                                                                                                             \n",
            " dense (Dense)                                          (None, 16)                                        272                \n",
            "                                                                                                                             \n",
            " dropout_3 (Dropout)                                    (None, 16)                                        0                  \n",
            "                                                                                                                             \n",
            " dense_1 (Dense)                                        (None, 8)                                         136                \n",
            "                                                                                                                             \n",
            " dense_2 (Dense)                                        (None, 4)                                         36                 \n",
            "                                                                                                                             \n",
            "=============================================================================================================================\n",
            "Total params: 4,140\n",
            "Trainable params: 4,140\n",
            "Non-trainable params: 0\n",
            "_____________________________________________________________________________________________________________________________\n",
            "Model Created Successfully!\n"
          ]
        }
      ],
      "source": [
        "# Construct the required convlstm model.\n",
        "model = create_3D_CNN_model()\n",
        " \n",
        "# Display the success message. \n",
        "print(\"Model Created Successfully!\")"
      ]
    },
    {
      "cell_type": "code",
      "execution_count": 12,
      "metadata": {
        "colab": {
          "base_uri": "https://localhost:8080/"
        },
        "id": "MwYEkaYLoyb_",
        "outputId": "79b54633-3b7b-4e5a-ae82-6b30faef99ed"
      },
      "outputs": [
        {
          "output_type": "stream",
          "name": "stdout",
          "text": [
            "Epoch 1/120\n",
            "26/26 [==============================] - 5s 108ms/step - loss: 1.6017 - accuracy: 0.2048 - val_loss: 1.3447 - val_accuracy: 0.3971\n",
            "Epoch 2/120\n",
            "26/26 [==============================] - 2s 77ms/step - loss: 1.3440 - accuracy: 0.3758 - val_loss: 1.3106 - val_accuracy: 0.3971\n",
            "Epoch 3/120\n",
            "26/26 [==============================] - 2s 79ms/step - loss: 1.2863 - accuracy: 0.4250 - val_loss: 1.2715 - val_accuracy: 0.3971\n",
            "Epoch 4/120\n",
            "26/26 [==============================] - 2s 79ms/step - loss: 1.2455 - accuracy: 0.4483 - val_loss: 1.2448 - val_accuracy: 0.3971\n",
            "Epoch 5/120\n",
            "26/26 [==============================] - 2s 78ms/step - loss: 1.2377 - accuracy: 0.4465 - val_loss: 1.2330 - val_accuracy: 0.3971\n",
            "Epoch 6/120\n",
            "26/26 [==============================] - 2s 78ms/step - loss: 1.2036 - accuracy: 0.4453 - val_loss: 1.1982 - val_accuracy: 0.3971\n",
            "Epoch 7/120\n",
            "26/26 [==============================] - 2s 79ms/step - loss: 1.1863 - accuracy: 0.4397 - val_loss: 1.1777 - val_accuracy: 0.3971\n",
            "Epoch 8/120\n",
            "26/26 [==============================] - 2s 79ms/step - loss: 1.1569 - accuracy: 0.4502 - val_loss: 1.1476 - val_accuracy: 0.3971\n",
            "Epoch 9/120\n",
            "26/26 [==============================] - 2s 79ms/step - loss: 1.1320 - accuracy: 0.4483 - val_loss: 1.1244 - val_accuracy: 0.3971\n",
            "Epoch 10/120\n",
            "26/26 [==============================] - 2s 78ms/step - loss: 1.1152 - accuracy: 0.4736 - val_loss: 1.0881 - val_accuracy: 0.3971\n",
            "Epoch 11/120\n",
            "26/26 [==============================] - 2s 77ms/step - loss: 1.0884 - accuracy: 0.4871 - val_loss: 1.0602 - val_accuracy: 0.5294\n",
            "Epoch 12/120\n",
            "26/26 [==============================] - 2s 77ms/step - loss: 1.0476 - accuracy: 0.4994 - val_loss: 0.9811 - val_accuracy: 0.5184\n",
            "Epoch 13/120\n",
            "26/26 [==============================] - 2s 77ms/step - loss: 1.0200 - accuracy: 0.4908 - val_loss: 0.9657 - val_accuracy: 0.5294\n",
            "Epoch 14/120\n",
            "26/26 [==============================] - 2s 78ms/step - loss: 1.0059 - accuracy: 0.5092 - val_loss: 0.9864 - val_accuracy: 0.5441\n",
            "Epoch 15/120\n",
            "26/26 [==============================] - 2s 78ms/step - loss: 0.9845 - accuracy: 0.5258 - val_loss: 0.9290 - val_accuracy: 0.5331\n",
            "Epoch 16/120\n",
            "26/26 [==============================] - 2s 77ms/step - loss: 0.9773 - accuracy: 0.5117 - val_loss: 0.9392 - val_accuracy: 0.5331\n",
            "Epoch 17/120\n",
            "26/26 [==============================] - 2s 79ms/step - loss: 0.9629 - accuracy: 0.5338 - val_loss: 0.9188 - val_accuracy: 0.5368\n",
            "Epoch 18/120\n",
            "26/26 [==============================] - 2s 80ms/step - loss: 0.9756 - accuracy: 0.5240 - val_loss: 0.9029 - val_accuracy: 0.6029\n",
            "Epoch 19/120\n",
            "26/26 [==============================] - 2s 80ms/step - loss: 0.9557 - accuracy: 0.5443 - val_loss: 0.9092 - val_accuracy: 0.5699\n",
            "Epoch 20/120\n",
            "26/26 [==============================] - 2s 77ms/step - loss: 0.9544 - accuracy: 0.5412 - val_loss: 0.8902 - val_accuracy: 0.5625\n",
            "Epoch 21/120\n",
            "26/26 [==============================] - 2s 77ms/step - loss: 0.9273 - accuracy: 0.5658 - val_loss: 0.8929 - val_accuracy: 0.5846\n",
            "Epoch 22/120\n",
            "26/26 [==============================] - 2s 78ms/step - loss: 0.9453 - accuracy: 0.5369 - val_loss: 0.9221 - val_accuracy: 0.5404\n",
            "Epoch 23/120\n",
            "26/26 [==============================] - 2s 79ms/step - loss: 0.9436 - accuracy: 0.5480 - val_loss: 0.9199 - val_accuracy: 0.5478\n",
            "Epoch 24/120\n",
            "26/26 [==============================] - 2s 79ms/step - loss: 0.9154 - accuracy: 0.5431 - val_loss: 0.8864 - val_accuracy: 0.5993\n",
            "Epoch 25/120\n",
            "26/26 [==============================] - 2s 78ms/step - loss: 0.9145 - accuracy: 0.5775 - val_loss: 0.8505 - val_accuracy: 0.6140\n",
            "Epoch 26/120\n",
            "26/26 [==============================] - 2s 79ms/step - loss: 0.8942 - accuracy: 0.5750 - val_loss: 0.8475 - val_accuracy: 0.6324\n",
            "Epoch 27/120\n",
            "26/26 [==============================] - 2s 77ms/step - loss: 0.9069 - accuracy: 0.5547 - val_loss: 0.8308 - val_accuracy: 0.6140\n",
            "Epoch 28/120\n",
            "26/26 [==============================] - 2s 78ms/step - loss: 0.9023 - accuracy: 0.5750 - val_loss: 0.8346 - val_accuracy: 0.6213\n",
            "Epoch 29/120\n",
            "26/26 [==============================] - 2s 78ms/step - loss: 0.9010 - accuracy: 0.5689 - val_loss: 0.8479 - val_accuracy: 0.6176\n",
            "Epoch 30/120\n",
            "26/26 [==============================] - 2s 77ms/step - loss: 0.8898 - accuracy: 0.5781 - val_loss: 0.8137 - val_accuracy: 0.5993\n",
            "Epoch 31/120\n",
            "26/26 [==============================] - 2s 78ms/step - loss: 0.9012 - accuracy: 0.5566 - val_loss: 0.8179 - val_accuracy: 0.6103\n",
            "Epoch 32/120\n",
            "26/26 [==============================] - 2s 78ms/step - loss: 0.8747 - accuracy: 0.5787 - val_loss: 0.8009 - val_accuracy: 0.5993\n",
            "Epoch 33/120\n",
            "26/26 [==============================] - 2s 78ms/step - loss: 0.8734 - accuracy: 0.5904 - val_loss: 0.8113 - val_accuracy: 0.6287\n",
            "Epoch 34/120\n",
            "26/26 [==============================] - 2s 78ms/step - loss: 0.8691 - accuracy: 0.5923 - val_loss: 0.8008 - val_accuracy: 0.5993\n",
            "Epoch 35/120\n",
            "26/26 [==============================] - 2s 78ms/step - loss: 0.8512 - accuracy: 0.6076 - val_loss: 0.7974 - val_accuracy: 0.6176\n",
            "Epoch 36/120\n",
            "26/26 [==============================] - 2s 79ms/step - loss: 0.8694 - accuracy: 0.6144 - val_loss: 0.7904 - val_accuracy: 0.5846\n",
            "Epoch 37/120\n",
            "26/26 [==============================] - 2s 78ms/step - loss: 0.8651 - accuracy: 0.6015 - val_loss: 0.7956 - val_accuracy: 0.6103\n",
            "Epoch 38/120\n",
            "26/26 [==============================] - 2s 78ms/step - loss: 0.8502 - accuracy: 0.5892 - val_loss: 0.7997 - val_accuracy: 0.6287\n",
            "Epoch 39/120\n",
            "26/26 [==============================] - 2s 77ms/step - loss: 0.8492 - accuracy: 0.5996 - val_loss: 0.7851 - val_accuracy: 0.6324\n",
            "Epoch 40/120\n",
            "26/26 [==============================] - 2s 78ms/step - loss: 0.8608 - accuracy: 0.6082 - val_loss: 0.7968 - val_accuracy: 0.6250\n",
            "Epoch 41/120\n",
            "26/26 [==============================] - 2s 78ms/step - loss: 0.8467 - accuracy: 0.5996 - val_loss: 0.7836 - val_accuracy: 0.6213\n",
            "Epoch 42/120\n",
            "26/26 [==============================] - 2s 78ms/step - loss: 0.8537 - accuracy: 0.6058 - val_loss: 0.7899 - val_accuracy: 0.6176\n",
            "Epoch 43/120\n",
            "26/26 [==============================] - 2s 80ms/step - loss: 0.8503 - accuracy: 0.5855 - val_loss: 0.7794 - val_accuracy: 0.6213\n",
            "Epoch 44/120\n",
            "26/26 [==============================] - 2s 76ms/step - loss: 0.8336 - accuracy: 0.6138 - val_loss: 0.8017 - val_accuracy: 0.6360\n",
            "Epoch 45/120\n",
            "26/26 [==============================] - 2s 77ms/step - loss: 0.8358 - accuracy: 0.6181 - val_loss: 0.7815 - val_accuracy: 0.6397\n",
            "Epoch 46/120\n",
            "26/26 [==============================] - 2s 78ms/step - loss: 0.8282 - accuracy: 0.6169 - val_loss: 0.7719 - val_accuracy: 0.6397\n",
            "Epoch 47/120\n",
            "26/26 [==============================] - 2s 77ms/step - loss: 0.8460 - accuracy: 0.6224 - val_loss: 0.7653 - val_accuracy: 0.6287\n",
            "Epoch 48/120\n",
            "26/26 [==============================] - 2s 77ms/step - loss: 0.8144 - accuracy: 0.6162 - val_loss: 0.7480 - val_accuracy: 0.6397\n",
            "Epoch 49/120\n",
            "26/26 [==============================] - 2s 78ms/step - loss: 0.8233 - accuracy: 0.6205 - val_loss: 0.7586 - val_accuracy: 0.6397\n",
            "Epoch 50/120\n",
            "26/26 [==============================] - 2s 77ms/step - loss: 0.8277 - accuracy: 0.6236 - val_loss: 0.7592 - val_accuracy: 0.6434\n",
            "Epoch 51/120\n",
            "26/26 [==============================] - 2s 78ms/step - loss: 0.8066 - accuracy: 0.6347 - val_loss: 0.7379 - val_accuracy: 0.6360\n",
            "Epoch 52/120\n",
            "26/26 [==============================] - 2s 78ms/step - loss: 0.7912 - accuracy: 0.6415 - val_loss: 0.7283 - val_accuracy: 0.6324\n",
            "Epoch 53/120\n",
            "26/26 [==============================] - 2s 79ms/step - loss: 0.7951 - accuracy: 0.6218 - val_loss: 0.7379 - val_accuracy: 0.6360\n",
            "Epoch 54/120\n",
            "26/26 [==============================] - 2s 77ms/step - loss: 0.8186 - accuracy: 0.6451 - val_loss: 0.7432 - val_accuracy: 0.6397\n",
            "Epoch 55/120\n",
            "26/26 [==============================] - 2s 78ms/step - loss: 0.7972 - accuracy: 0.6451 - val_loss: 0.7570 - val_accuracy: 0.6471\n",
            "Epoch 56/120\n",
            "26/26 [==============================] - 2s 77ms/step - loss: 0.7976 - accuracy: 0.6347 - val_loss: 0.7583 - val_accuracy: 0.6507\n",
            "Epoch 57/120\n",
            "26/26 [==============================] - 2s 76ms/step - loss: 0.8026 - accuracy: 0.6519 - val_loss: 0.7223 - val_accuracy: 0.6581\n",
            "Epoch 58/120\n",
            "26/26 [==============================] - 2s 77ms/step - loss: 0.7763 - accuracy: 0.6458 - val_loss: 0.7212 - val_accuracy: 0.6691\n",
            "Epoch 59/120\n",
            "26/26 [==============================] - 2s 78ms/step - loss: 0.7906 - accuracy: 0.6476 - val_loss: 0.7122 - val_accuracy: 0.6471\n",
            "Epoch 60/120\n",
            "26/26 [==============================] - 2s 78ms/step - loss: 0.7701 - accuracy: 0.6494 - val_loss: 0.7027 - val_accuracy: 0.6581\n",
            "Epoch 61/120\n",
            "26/26 [==============================] - 2s 79ms/step - loss: 0.7725 - accuracy: 0.6568 - val_loss: 0.7050 - val_accuracy: 0.6471\n",
            "Epoch 62/120\n",
            "26/26 [==============================] - 2s 77ms/step - loss: 0.7731 - accuracy: 0.6476 - val_loss: 0.6887 - val_accuracy: 0.6507\n",
            "Epoch 63/120\n",
            "26/26 [==============================] - 2s 79ms/step - loss: 0.7566 - accuracy: 0.6611 - val_loss: 0.6964 - val_accuracy: 0.7206\n",
            "Epoch 64/120\n",
            "26/26 [==============================] - 2s 80ms/step - loss: 0.7503 - accuracy: 0.6654 - val_loss: 0.6800 - val_accuracy: 0.6765\n",
            "Epoch 65/120\n",
            "26/26 [==============================] - 2s 78ms/step - loss: 0.7532 - accuracy: 0.6722 - val_loss: 0.6892 - val_accuracy: 0.7169\n",
            "Epoch 66/120\n",
            "26/26 [==============================] - 2s 79ms/step - loss: 0.7435 - accuracy: 0.6716 - val_loss: 0.6752 - val_accuracy: 0.7206\n",
            "Epoch 67/120\n",
            "26/26 [==============================] - 2s 79ms/step - loss: 0.7456 - accuracy: 0.6538 - val_loss: 0.6739 - val_accuracy: 0.7279\n",
            "Epoch 68/120\n",
            "26/26 [==============================] - 2s 79ms/step - loss: 0.7543 - accuracy: 0.6704 - val_loss: 0.6715 - val_accuracy: 0.6838\n",
            "Epoch 69/120\n",
            "26/26 [==============================] - 2s 78ms/step - loss: 0.7565 - accuracy: 0.6685 - val_loss: 0.7001 - val_accuracy: 0.6728\n",
            "Epoch 70/120\n",
            "26/26 [==============================] - 2s 78ms/step - loss: 0.7347 - accuracy: 0.6777 - val_loss: 0.6578 - val_accuracy: 0.7059\n",
            "Epoch 71/120\n",
            "26/26 [==============================] - 2s 78ms/step - loss: 0.7308 - accuracy: 0.6808 - val_loss: 0.6510 - val_accuracy: 0.7316\n",
            "Epoch 72/120\n",
            "26/26 [==============================] - 2s 78ms/step - loss: 0.7388 - accuracy: 0.6765 - val_loss: 0.6602 - val_accuracy: 0.7243\n",
            "Epoch 73/120\n",
            "26/26 [==============================] - 2s 78ms/step - loss: 0.7405 - accuracy: 0.6587 - val_loss: 0.6602 - val_accuracy: 0.7169\n",
            "Epoch 74/120\n",
            "26/26 [==============================] - 2s 78ms/step - loss: 0.7535 - accuracy: 0.6685 - val_loss: 0.6623 - val_accuracy: 0.6838\n",
            "Epoch 75/120\n",
            "26/26 [==============================] - 2s 77ms/step - loss: 0.7228 - accuracy: 0.6802 - val_loss: 0.6529 - val_accuracy: 0.6728\n",
            "Epoch 76/120\n",
            "26/26 [==============================] - 2s 78ms/step - loss: 0.7442 - accuracy: 0.6734 - val_loss: 0.6585 - val_accuracy: 0.6654\n",
            "Epoch 77/120\n",
            "26/26 [==============================] - 2s 78ms/step - loss: 0.7259 - accuracy: 0.6802 - val_loss: 0.6387 - val_accuracy: 0.7243\n",
            "Epoch 78/120\n",
            "26/26 [==============================] - 2s 78ms/step - loss: 0.7218 - accuracy: 0.6740 - val_loss: 0.6751 - val_accuracy: 0.6654\n",
            "Epoch 79/120\n",
            "26/26 [==============================] - 2s 77ms/step - loss: 0.7404 - accuracy: 0.6808 - val_loss: 0.6563 - val_accuracy: 0.6949\n",
            "Epoch 80/120\n",
            "26/26 [==============================] - 2s 79ms/step - loss: 0.7218 - accuracy: 0.6796 - val_loss: 0.6425 - val_accuracy: 0.6949\n",
            "Epoch 81/120\n",
            "26/26 [==============================] - 2s 79ms/step - loss: 0.7088 - accuracy: 0.6907 - val_loss: 0.6410 - val_accuracy: 0.6912\n",
            "Epoch 82/120\n",
            "26/26 [==============================] - 2s 77ms/step - loss: 0.7162 - accuracy: 0.6943 - val_loss: 0.6341 - val_accuracy: 0.7426\n",
            "Epoch 83/120\n",
            "26/26 [==============================] - 2s 80ms/step - loss: 0.7241 - accuracy: 0.6777 - val_loss: 0.6365 - val_accuracy: 0.6912\n",
            "Epoch 84/120\n",
            "26/26 [==============================] - 2s 78ms/step - loss: 0.6992 - accuracy: 0.6980 - val_loss: 0.6337 - val_accuracy: 0.6838\n",
            "Epoch 85/120\n",
            "26/26 [==============================] - 2s 77ms/step - loss: 0.7288 - accuracy: 0.6882 - val_loss: 0.6311 - val_accuracy: 0.6985\n",
            "Epoch 86/120\n",
            "26/26 [==============================] - 2s 78ms/step - loss: 0.7128 - accuracy: 0.6931 - val_loss: 0.6471 - val_accuracy: 0.6875\n",
            "Epoch 87/120\n",
            "26/26 [==============================] - 2s 77ms/step - loss: 0.6964 - accuracy: 0.6962 - val_loss: 0.6383 - val_accuracy: 0.7353\n",
            "Epoch 88/120\n",
            "26/26 [==============================] - 2s 77ms/step - loss: 0.6987 - accuracy: 0.7036 - val_loss: 0.6197 - val_accuracy: 0.7169\n",
            "Epoch 89/120\n",
            "26/26 [==============================] - 2s 78ms/step - loss: 0.6918 - accuracy: 0.6943 - val_loss: 0.6339 - val_accuracy: 0.7390\n",
            "Epoch 90/120\n",
            "26/26 [==============================] - 2s 78ms/step - loss: 0.7038 - accuracy: 0.7042 - val_loss: 0.6239 - val_accuracy: 0.7059\n",
            "Epoch 91/120\n",
            "26/26 [==============================] - 2s 78ms/step - loss: 0.7006 - accuracy: 0.7023 - val_loss: 0.6215 - val_accuracy: 0.7132\n",
            "Epoch 92/120\n",
            "26/26 [==============================] - 2s 77ms/step - loss: 0.7013 - accuracy: 0.6931 - val_loss: 0.6243 - val_accuracy: 0.7022\n",
            "Epoch 93/120\n",
            "26/26 [==============================] - 2s 78ms/step - loss: 0.6938 - accuracy: 0.6925 - val_loss: 0.6188 - val_accuracy: 0.6985\n",
            "Epoch 94/120\n",
            "26/26 [==============================] - 2s 79ms/step - loss: 0.6958 - accuracy: 0.7097 - val_loss: 0.6006 - val_accuracy: 0.7426\n",
            "Epoch 95/120\n",
            "26/26 [==============================] - 2s 79ms/step - loss: 0.6823 - accuracy: 0.7091 - val_loss: 0.6205 - val_accuracy: 0.7022\n",
            "Epoch 96/120\n",
            "26/26 [==============================] - 2s 79ms/step - loss: 0.6972 - accuracy: 0.7054 - val_loss: 0.6055 - val_accuracy: 0.7206\n",
            "Epoch 97/120\n",
            "26/26 [==============================] - 2s 78ms/step - loss: 0.6794 - accuracy: 0.7073 - val_loss: 0.6020 - val_accuracy: 0.7500\n",
            "Epoch 98/120\n",
            "26/26 [==============================] - 2s 77ms/step - loss: 0.6633 - accuracy: 0.7177 - val_loss: 0.5931 - val_accuracy: 0.7353\n",
            "Epoch 99/120\n",
            "26/26 [==============================] - 2s 78ms/step - loss: 0.7006 - accuracy: 0.6931 - val_loss: 0.6031 - val_accuracy: 0.7243\n",
            "Epoch 100/120\n",
            "26/26 [==============================] - 2s 77ms/step - loss: 0.6679 - accuracy: 0.6986 - val_loss: 0.5919 - val_accuracy: 0.7316\n",
            "Epoch 101/120\n",
            "26/26 [==============================] - 2s 79ms/step - loss: 0.6778 - accuracy: 0.7042 - val_loss: 0.6059 - val_accuracy: 0.7537\n",
            "Epoch 102/120\n",
            "26/26 [==============================] - 2s 77ms/step - loss: 0.6780 - accuracy: 0.7048 - val_loss: 0.5913 - val_accuracy: 0.7426\n",
            "Epoch 103/120\n",
            "26/26 [==============================] - 2s 78ms/step - loss: 0.6707 - accuracy: 0.7116 - val_loss: 0.5909 - val_accuracy: 0.7279\n",
            "Epoch 104/120\n",
            "26/26 [==============================] - 2s 79ms/step - loss: 0.6525 - accuracy: 0.7091 - val_loss: 0.5887 - val_accuracy: 0.7500\n",
            "Epoch 105/120\n",
            "26/26 [==============================] - 2s 79ms/step - loss: 0.6713 - accuracy: 0.7159 - val_loss: 0.5970 - val_accuracy: 0.7096\n",
            "Epoch 106/120\n",
            "26/26 [==============================] - 2s 77ms/step - loss: 0.6826 - accuracy: 0.7128 - val_loss: 0.6037 - val_accuracy: 0.7390\n",
            "Epoch 107/120\n",
            "26/26 [==============================] - 2s 78ms/step - loss: 0.6585 - accuracy: 0.7202 - val_loss: 0.5862 - val_accuracy: 0.7390\n",
            "Epoch 108/120\n",
            "26/26 [==============================] - 2s 77ms/step - loss: 0.6625 - accuracy: 0.7122 - val_loss: 0.5812 - val_accuracy: 0.7426\n",
            "Epoch 109/120\n",
            "26/26 [==============================] - 2s 78ms/step - loss: 0.6524 - accuracy: 0.7300 - val_loss: 0.6036 - val_accuracy: 0.7279\n",
            "Epoch 110/120\n",
            "26/26 [==============================] - 2s 78ms/step - loss: 0.6627 - accuracy: 0.7226 - val_loss: 0.5785 - val_accuracy: 0.7316\n",
            "Epoch 111/120\n",
            "26/26 [==============================] - 2s 79ms/step - loss: 0.6652 - accuracy: 0.7073 - val_loss: 0.5804 - val_accuracy: 0.7390\n",
            "Epoch 112/120\n",
            "26/26 [==============================] - 2s 79ms/step - loss: 0.6579 - accuracy: 0.7251 - val_loss: 0.5953 - val_accuracy: 0.7426\n",
            "Epoch 113/120\n",
            "26/26 [==============================] - 2s 78ms/step - loss: 0.6607 - accuracy: 0.7153 - val_loss: 0.5969 - val_accuracy: 0.7574\n",
            "Epoch 114/120\n",
            "26/26 [==============================] - 2s 77ms/step - loss: 0.6535 - accuracy: 0.7159 - val_loss: 0.5784 - val_accuracy: 0.7353\n",
            "Epoch 115/120\n",
            "26/26 [==============================] - 2s 77ms/step - loss: 0.6377 - accuracy: 0.7392 - val_loss: 0.5702 - val_accuracy: 0.7500\n",
            "Epoch 116/120\n",
            "26/26 [==============================] - 2s 77ms/step - loss: 0.6499 - accuracy: 0.7171 - val_loss: 0.5829 - val_accuracy: 0.7574\n",
            "Epoch 117/120\n",
            "26/26 [==============================] - 2s 76ms/step - loss: 0.6613 - accuracy: 0.7183 - val_loss: 0.5724 - val_accuracy: 0.7500\n",
            "Epoch 118/120\n",
            "26/26 [==============================] - 2s 77ms/step - loss: 0.6620 - accuracy: 0.7159 - val_loss: 0.5890 - val_accuracy: 0.7574\n",
            "Epoch 119/120\n",
            "26/26 [==============================] - 2s 78ms/step - loss: 0.6564 - accuracy: 0.7189 - val_loss: 0.5973 - val_accuracy: 0.7096\n",
            "Epoch 120/120\n",
            "26/26 [==============================] - 2s 77ms/step - loss: 0.6585 - accuracy: 0.7054 - val_loss: 0.5882 - val_accuracy: 0.7390\n"
          ]
        }
      ],
      "source": [
        "# Compile the model and specify loss function, optimizer and metrics values to the model\n",
        "model.compile(loss = 'categorical_crossentropy',\n",
        "              optimizer= keras.optimizers.Adam(0.001, decay=1e-4),\n",
        "              metrics=['accuracy'])\n",
        "# Start training the model.\n",
        "cnn_3d_model_training_history = model.fit(x = features_train,\n",
        "                                          y = labels_train,\n",
        "                                          epochs=120,\n",
        "                                          batch_size=64,\n",
        "                                          shuffle = True,\n",
        "                                          validation_data = (features_valid, labels_valid))"
      ]
    },
    {
      "cell_type": "code",
      "execution_count": 13,
      "metadata": {
        "id": "3vimsgjjbXvL",
        "colab": {
          "base_uri": "https://localhost:8080/"
        },
        "outputId": "cadbc077-0bf6-4ec2-9d10-f9890dece4e7"
      },
      "outputs": [
        {
          "output_type": "stream",
          "name": "stdout",
          "text": [
            "9/9 [==============================] - 0s 21ms/step - loss: 0.6715 - accuracy: 0.6838\n",
            "\n",
            "\n",
            "Train accuracy: 75.154 % || Test accuracy: 68.382 % || Val accuracy: 73.897 %\n",
            "Train loss: 0.580 || Test loss: 0.672 || Val loss: 0.588\n"
          ]
        }
      ],
      "source": [
        "model_evaluation_history = model.evaluate(features_test, labels_test)\n",
        "print('\\n')\n",
        "train_loss, train_acc = model.evaluate(features_train, labels_train, verbose=0)\n",
        "test_loss, test_acc = model.evaluate(features_test, labels_test, verbose=0)\n",
        "val_loss, val_acc = model.evaluate(features_valid, labels_valid, verbose=0)\n",
        "print(f'Train accuracy: {train_acc*100:.3f} % || Test accuracy: {test_acc*100:.3f} % || Val accuracy: {val_acc*100:.3f} %')\n",
        "print(f'Train loss: {train_loss:.3f} || Test loss: {test_loss:.3f} || Val loss: {val_loss:.3f}')"
      ]
    },
    {
      "cell_type": "code",
      "execution_count": 14,
      "metadata": {
        "id": "ivmaK9BlbnRQ"
      },
      "outputs": [],
      "source": [
        "# Get the loss and accuracy from model_evaluation_history.\n",
        "model_evaluation_loss, model_evaluation_accuracy = model_evaluation_history\n",
        " \n",
        "# Define the string date format.\n",
        "# Get the current Date and Time in a DateTime Object.\n",
        "# Convert the DateTime object to string according to the style mentioned in date_time_format string.\n",
        "date_time_format = '%Y_%m_%d__%H_%M_%S'\n",
        "current_date_time_dt = dt.datetime.now()\n",
        "current_date_time_string = dt.datetime.strftime(current_date_time_dt, date_time_format)\n",
        " \n",
        "# Define a useful name for our model to make it easy for us while navigating through multiple saved models.\n",
        "model_file_name = f'3D_CNN_model___Date_Time_{current_date_time_string}___Loss_{model_evaluation_loss}___Accuracy_{model_evaluation_accuracy}.h5'\n",
        "# Change dir\n",
        "gdrive_path = '/content/gdrive' + '/My Drive/247/Saved_models/'\n",
        "os.chdir(gdrive_path)\n",
        "# Create a floder for the model files\n",
        "!mkdir -p cnn_3d_{current_date_time_string}\n",
        "# Save your Model.\n",
        "model.save('convlstm_' + str(current_date_time_string) + '/' + model_file_name)\n",
        "# Save model weights\n",
        "model.save_weights('convlstm_' + str(current_date_time_string) + '/' + 'weights')"
      ]
    },
    {
      "cell_type": "code",
      "execution_count": 15,
      "metadata": {
        "id": "OwU8TwPrbsKB"
      },
      "outputs": [],
      "source": [
        "def plot_metric(model_training_history, metric_name_1, metric_name_2, plot_name):\n",
        "    '''\n",
        "    This function will plot the metrics passed to it in a graph.\n",
        "    Args:\n",
        "        model_training_history: A history object containing a record of training and validation \n",
        "                                loss values and metrics values at successive epochs\n",
        "        metric_name_1:          The name of the first metric that needs to be plotted in the graph.\n",
        "        metric_name_2:          The name of the second metric that needs to be plotted in the graph.\n",
        "        plot_name:              The title of the graph.\n",
        "    '''\n",
        "    \n",
        "    # Get metric values using metric names as identifiers.\n",
        "    metric_value_1 = model_training_history.history[metric_name_1]\n",
        "    metric_value_2 = model_training_history.history[metric_name_2]\n",
        "    \n",
        "    # Construct a range object which will be used as x-axis (horizontal plane) of the graph.\n",
        "    epochs = range(len(metric_value_1))\n",
        "\n",
        "    # Plot the Graph.\n",
        "    plt.plot(epochs, metric_value_1, 'blue', label = metric_name_1)\n",
        "    plt.plot(epochs, metric_value_2, 'red', label = metric_name_2)\n",
        "\n",
        "    # Add title to the plot.\n",
        "    plt.title(str(plot_name))\n",
        "\n",
        "    # Add legend to the plot.\n",
        "    plt.legend()"
      ]
    },
    {
      "cell_type": "code",
      "execution_count": 16,
      "metadata": {
        "id": "cvKY05ncbwof",
        "colab": {
          "base_uri": "https://localhost:8080/",
          "height": 281
        },
        "outputId": "651af0a8-1f9d-461b-f387-630a8234c845"
      },
      "outputs": [
        {
          "output_type": "display_data",
          "data": {
            "text/plain": [
              "<Figure size 432x288 with 1 Axes>"
            ],
            "image/png": "[encoded data removed]"
          },
          "metadata": {
            "needs_background": "light"
          }
        }
      ],
      "source": [
        "plot_metric(cnn_3d_model_training_history, 'loss', 'val_loss', 'Total Loss vs Total Validation Loss')"
      ]
    },
    {
      "cell_type": "code",
      "execution_count": 17,
      "metadata": {
        "id": "o1iaaDHBb5i0",
        "colab": {
          "base_uri": "https://localhost:8080/",
          "height": 281
        },
        "outputId": "f1782be3-fcfc-4ba3-fbaa-4314d11d2572"
      },
      "outputs": [
        {
          "output_type": "display_data",
          "data": {
            "text/plain": [
              "<Figure size 432x288 with 1 Axes>"
            ],
            "image/png": "[encoded data removed]"
          },
          "metadata": {
            "needs_background": "light"
          }
        }
      ],
      "source": [
        "plot_metric(cnn_3d_model_training_history, 'accuracy', 'val_accuracy', 'Total Accuracy vs Total Validation Accuracy') "
      ]
    }
  ],
  "metadata": {
    "accelerator": "GPU",
    "colab": {
      "background_execution": "on",
      "collapsed_sections": [],
      "machine_shape": "hm",
      "name": "3D_CNN_No_Splint.ipynb",
      "provenance": [],
      "authorship_tag": "ABX9TyOBJ/8dX3A7YC2AmukHdnro",
      "include_colab_link": true
    },
    "kernelspec": {
      "display_name": "Python 3",
      "name": "python3"
    },
    "language_info": {
      "name": "python"
    }
  },
  "nbformat": 4,
  "nbformat_minor": 0
}