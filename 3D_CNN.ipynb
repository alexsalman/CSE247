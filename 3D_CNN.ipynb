{
  "cells": [
    {
      "cell_type": "markdown",
      "metadata": {
        "id": "view-in-github",
        "colab_type": "text"
      },
      "source": [
        "<a href=\"https://colab.research.google.com/github/alexsalman/CSE247/blob/main/3D_CNN.ipynb\" target=\"_parent\"><img src=\"https://colab.research.google.com/assets/colab-badge.svg\" alt=\"Open In Colab\"/></a>"
      ]
    },
    {
      "cell_type": "markdown",
      "metadata": {
        "id": "Kk7I8NauauE3"
      },
      "source": [
        "####**3D Convolutional Neural Network**\n",
        "######*I am using 3D Convolutional Neural Network to extract the temporal and spatial information which are merged slowly throughout the whole network.*"
      ]
    },
    {
      "cell_type": "code",
      "execution_count": 1,
      "metadata": {
        "colab": {
          "base_uri": "https://localhost:8080/"
        },
        "id": "M8ibtd5HKtZk",
        "outputId": "273cca1d-fb6d-4623-9a5a-f5a4559da932"
      },
      "outputs": [
        {
          "output_type": "stream",
          "name": "stdout",
          "text": [
            "2.8.0\n"
          ]
        }
      ],
      "source": [
        "# required libraries\n",
        "import os\n",
        "import cv2\n",
        "import math\n",
        "import random\n",
        "import numpy as np\n",
        "import datetime as dt\n",
        "from collections import deque\n",
        "import matplotlib.pyplot as plt\n",
        "from google.colab import drive\n",
        "from sklearn.model_selection import train_test_split\n",
        "import tensorflow as tf\n",
        "from tensorflow import keras\n",
        "from keras.models import Sequential\n",
        "from keras.layers import Dense, Flatten, Conv3D, MaxPooling3D, Dropout, BatchNormalization, GlobalAveragePooling3D\n",
        "from keras import regularizers\n",
        "from PIL import Image\n",
        "%matplotlib inline\n",
        "print(tf.version.VERSION)\n",
        "# https://bleedai.com/human-activity-recognition-using-tensorflow-cnn-lstm/"
      ]
    },
    {
      "cell_type": "code",
      "execution_count": 2,
      "metadata": {
        "id": "iffdFOf1CEAN"
      },
      "outputs": [],
      "source": [
        "# set Numpy, Python, and Tensorflow seeds to get consistent results on every execution\n",
        "seed_constant = 27\n",
        "np.random.seed(seed_constant)\n",
        "random.seed(seed_constant)\n",
        "tf.random.set_seed(seed_constant)"
      ]
    },
    {
      "cell_type": "code",
      "execution_count": 3,
      "metadata": {
        "colab": {
          "base_uri": "https://localhost:8080/",
          "height": 53
        },
        "id": "mcLh22LiOHyn",
        "outputId": "63086270-0ec7-4049-e56d-27df99ba477f"
      },
      "outputs": [
        {
          "output_type": "stream",
          "name": "stdout",
          "text": [
            "Mounted at /content/gdrive/\n"
          ]
        },
        {
          "output_type": "execute_result",
          "data": {
            "text/plain": [
              "'/content/gdrive/My Drive/247'"
            ],
            "application/vnd.google.colaboratory.intrinsic+json": {
              "type": "string"
            }
          },
          "metadata": {},
          "execution_count": 3
        }
      ],
      "source": [
        "# mount dataset from google drive\n",
        "drive.mount('/content/gdrive/', force_remount=True)\n",
        "gdrive_path = '/content/gdrive' + '/My Drive/247/'\n",
        "os.chdir(gdrive_path)\n",
        "os.getcwd()"
      ]
    },
    {
      "cell_type": "code",
      "execution_count": 4,
      "metadata": {
        "id": "oeDK8SzumZ1Q"
      },
      "outputs": [],
      "source": [
        "# frame dimention\n",
        "IMAGE_HEIGHT, IMAGE_WIDTH = 128, 128\n",
        "# frame number for each video (depth)\n",
        "SEQUENCE_LENGTH = 16\n",
        "# video dir path\n",
        "DATASET_DIR = gdrive_path + 'Cropped_videos'\n",
        "# labels of classes\n",
        "CLASSES_LIST = ['hemostasis', 'inflammatory', 'proliferative', 'maturation']"
      ]
    },
    {
      "cell_type": "code",
      "execution_count": 5,
      "metadata": {
        "id": "HUTeIqzpZc9J"
      },
      "outputs": [],
      "source": [
        "# image cropping\n",
        "def crop_center_square(frame):\n",
        "    y, x = frame.shape[0:2]\n",
        "    min_dim = min(y, x)\n",
        "    start_x = (x // 2) - (min_dim // 2)\n",
        "    start_y = (y // 2) - (min_dim // 2)\n",
        "    return frame[start_y:start_y+min_dim,start_x:start_x+min_dim]"
      ]
    },
    {
      "cell_type": "code",
      "execution_count": 6,
      "metadata": {
        "id": "QRDbHG0TZkYJ"
      },
      "outputs": [],
      "source": [
        "# https://medium.com/analytics-vidhya/video-preprocessor-and-augmentation-for-deep-learning-tasks-12dd3fcce868\n",
        "def load_video(path, resize=(128, 128)):\n",
        "    video_reader = cv2.VideoCapture(path)\n",
        "    frames = []\n",
        "    try:\n",
        "        while True:\n",
        "            ret, frame = video_reader.read()\n",
        "            if not ret:\n",
        "                  break\n",
        "            # frame = crop_center_square(frame)\n",
        "            frame = cv2.resize(frame, resize)\n",
        "            frame = frame[:, :, [2, 1, 0]]\n",
        "            black_frame = frame\n",
        "            frames.append(frame)\n",
        "    finally:\n",
        "        video_reader.release()\n",
        "    return np.array(frames) / 255.0"
      ]
    },
    {
      "cell_type": "code",
      "execution_count": 7,
      "metadata": {
        "id": "ljUWHW6Jqzu-"
      },
      "outputs": [],
      "source": [
        "def create_dataset(state):\n",
        "    # Declared Empty Lists to store the features, labels and video file path values.\n",
        "    features = []\n",
        "    labels = []\n",
        "    video_files_paths = []\n",
        "    # Iterating through all the classes mentioned in the classes list\n",
        "    for class_index, class_name in enumerate(CLASSES_LIST):\n",
        "        # Display the name of the class whose data is being extracted.\n",
        "        print(f'Extracting Data of Class: {class_name} {state}')\n",
        "        # Get the list of video files present in the specific class name directory.\n",
        "        files_list = os.listdir(os.path.join(DATASET_DIR, class_name))\n",
        "        # Iterate through all the files present in the files list.\n",
        "        for file_name in files_list:\n",
        "            # Get the complete video path.\n",
        "            video_file_path = os.path.join(DATASET_DIR, class_name, file_name)\n",
        "            # create testing data\n",
        "            if state == 'test':\n",
        "                # get the mouse number\n",
        "                mouse_number = int(video_file_path.split(' ')[2].split('_')[1].split('-')[1])\n",
        "                # get the mouse side (L or R)\n",
        "                mouse_side = video_file_path.split(' ')[2].split('_')[1].split('-')[2]\n",
        "                if mouse_number == 4 and mouse_side == 'L':\n",
        "                    frames = load_video(video_file_path)\n",
        "                    features.append(frames)\n",
        "                    labels.append(class_index)\n",
        "                    video_files_paths.append(video_file_path)\n",
        "            # create validation data\n",
        "            elif state == 'valid':\n",
        "                # get the mouse number\n",
        "                mouse_number = int(video_file_path.split(' ')[2].split('_')[1].split('-')[1])\n",
        "                # get the mouse side (L or R)\n",
        "                mouse_side = video_file_path.split(' ')[2].split('_')[1].split('-')[2]\n",
        "                if mouse_number == 4 and mouse_side == 'R':\n",
        "                    frames = load_video(video_file_path)\n",
        "                    features.append(frames)\n",
        "                    labels.append(class_index)\n",
        "                    video_files_paths.append(video_file_path)\n",
        "            # create training data\n",
        "            else:\n",
        "                # get the mouse number\n",
        "                mouse_number = int(video_file_path.split(' ')[2].split('_')[1].split('-')[1])\n",
        "                if mouse_number != 4:\n",
        "                    frames = load_video(video_file_path)\n",
        "                    features.append(frames)\n",
        "                    labels.append(class_index)\n",
        "                    video_files_paths.append(video_file_path)\n",
        "    # Converting the list to numpy arrays\n",
        "    features = np.asarray(features)\n",
        "    # print(features)\n",
        "    labels = np.array(labels)\n",
        "    # Return the frames, class index, and video file path.\n",
        "    return features, labels, video_files_paths"
      ]
    },
    {
      "cell_type": "code",
      "execution_count": 8,
      "metadata": {
        "colab": {
          "base_uri": "https://localhost:8080/"
        },
        "id": "a8rpanz9rASe",
        "outputId": "edd3f0c1-bb5f-41d0-9db8-6c92ec865800"
      },
      "outputs": [
        {
          "output_type": "stream",
          "name": "stdout",
          "text": [
            "Extracting Data of Class: hemostasis train\n",
            "Extracting Data of Class: inflammatory train\n",
            "Extracting Data of Class: proliferative train\n",
            "Extracting Data of Class: maturation train\n",
            "Extracting Data of Class: hemostasis test\n",
            "Extracting Data of Class: inflammatory test\n",
            "Extracting Data of Class: proliferative test\n",
            "Extracting Data of Class: maturation test\n",
            "Extracting Data of Class: hemostasis valid\n",
            "Extracting Data of Class: inflammatory valid\n",
            "Extracting Data of Class: proliferative valid\n",
            "Extracting Data of Class: maturation valid\n"
          ]
        }
      ],
      "source": [
        "# 6 mice for training, 2 mice for test and validation (one wound on each mice for test one for validation)\n",
        "features_train, labels_train, video_files_paths_train = create_dataset('train')\n",
        "features_test, labels_test, video_files_paths_test = create_dataset('test')\n",
        "features_valid, labels_valid, video_files_paths_valid = create_dataset('valid')"
      ]
    },
    {
      "cell_type": "code",
      "execution_count": 9,
      "metadata": {
        "id": "dtJkK4qTAulC"
      },
      "outputs": [],
      "source": [
        "# one_hot_encoded_labels\n",
        "labels_train = keras.utils.to_categorical(labels_train)\n",
        "labels_test = keras.utils.to_categorical(labels_test)\n",
        "labels_valid = keras.utils.to_categorical(labels_valid)"
      ]
    },
    {
      "cell_type": "code",
      "execution_count": 10,
      "metadata": {
        "id": "N-9ykP4ig7IW"
      },
      "outputs": [],
      "source": [
        "def create_3D_CNN_model():\n",
        "    sample_shape = (16, 128, 128, 3)\n",
        "    model = Sequential()\n",
        "\n",
        "    model.add(Conv3D(32, 3, activation='relu', kernel_initializer='he_uniform',\n",
        "                     kernel_regularizer=regularizers.L2(l2=1e-4),\n",
        "                     input_shape=sample_shape))\n",
        "    # model.add(BatchNormalization())\n",
        "    model.add(MaxPooling3D(2))\n",
        "    model.add(Dropout(0.5))\n",
        "\n",
        "    model.add(Conv3D(32, 3, activation='relu', kernel_initializer='he_uniform',\n",
        "                     kernel_regularizer=regularizers.L2(l2=1e-4)))\n",
        "    # model.add(BatchNormalization())\n",
        "    model.add(MaxPooling3D(2))\n",
        "    model.add(Dropout(0.5))\n",
        "\n",
        "    model.add(GlobalAveragePooling3D())\n",
        "    # model.add(Dropout(0.5))\n",
        "\n",
        "    model.add(Dense(32, activation='relu', kernel_initializer='he_uniform',\n",
        "                    kernel_regularizer=regularizers.L2(l2=1e-4)))\n",
        "    model.add(Dropout(0.5))\n",
        "\n",
        "    model.add(Dense(16, activation='relu', kernel_initializer='he_uniform',\n",
        "                    kernel_regularizer=regularizers.L2(l2=1e-4)))\n",
        "    model.add(Dropout(0.6))\n",
        "    model.add(Dense(8, activation='relu', kernel_initializer='he_uniform'))\n",
        "    # model.add(Dense(4, activation='relu', kernel_initializer='he_uniform'))\n",
        "    # model.add(Dropout(0.3))\n",
        "    # model.add(Dense(8, activation='relu', kernel_initializer='he_uniform'))\n",
        "    # model.add(Dropout(0.3))\n",
        "    model.add(Dense(len(CLASSES_LIST), activation='softmax'))\n",
        "\n",
        "    # Display the models summary.\n",
        "    model.summary(line_length = 125)\n",
        "    # Return the constructed 3D_CNN model.\n",
        "    return model"
      ]
    },
    {
      "cell_type": "code",
      "execution_count": 11,
      "metadata": {
        "colab": {
          "base_uri": "https://localhost:8080/"
        },
        "id": "Z4_GxXZBcHlB",
        "outputId": "1cd9bf0c-3e0c-45a5-a53a-3f0e68ac97e1"
      },
      "outputs": [
        {
          "output_type": "stream",
          "name": "stdout",
          "text": [
            "Model: \"sequential\"\n",
            "_____________________________________________________________________________________________________________________________\n",
            " Layer (type)                                           Output Shape                                      Param #            \n",
            "=============================================================================================================================\n",
            " conv3d (Conv3D)                                        (None, 14, 126, 126, 32)                          2624               \n",
            "                                                                                                                             \n",
            " max_pooling3d (MaxPooling3D)                           (None, 7, 63, 63, 32)                             0                  \n",
            "                                                                                                                             \n",
            " dropout (Dropout)                                      (None, 7, 63, 63, 32)                             0                  \n",
            "                                                                                                                             \n",
            " conv3d_1 (Conv3D)                                      (None, 5, 61, 61, 32)                             27680              \n",
            "                                                                                                                             \n",
            " max_pooling3d_1 (MaxPooling3D)                         (None, 2, 30, 30, 32)                             0                  \n",
            "                                                                                                                             \n",
            " dropout_1 (Dropout)                                    (None, 2, 30, 30, 32)                             0                  \n",
            "                                                                                                                             \n",
            " global_average_pooling3d (GlobalAveragePooling3D)      (None, 32)                                        0                  \n",
            "                                                                                                                             \n",
            " dense (Dense)                                          (None, 32)                                        1056               \n",
            "                                                                                                                             \n",
            " dropout_2 (Dropout)                                    (None, 32)                                        0                  \n",
            "                                                                                                                             \n",
            " dense_1 (Dense)                                        (None, 16)                                        528                \n",
            "                                                                                                                             \n",
            " dropout_3 (Dropout)                                    (None, 16)                                        0                  \n",
            "                                                                                                                             \n",
            " dense_2 (Dense)                                        (None, 8)                                         136                \n",
            "                                                                                                                             \n",
            " dense_3 (Dense)                                        (None, 4)                                         36                 \n",
            "                                                                                                                             \n",
            "=============================================================================================================================\n",
            "Total params: 32,060\n",
            "Trainable params: 32,060\n",
            "Non-trainable params: 0\n",
            "_____________________________________________________________________________________________________________________________\n",
            "Model Created Successfully!\n"
          ]
        }
      ],
      "source": [
        "# Construct the required convlstm model.\n",
        "model = create_3D_CNN_model()\n",
        " \n",
        "# Display the success message. \n",
        "print(\"Model Created Successfully!\")"
      ]
    },
    {
      "cell_type": "code",
      "execution_count": 12,
      "metadata": {
        "colab": {
          "base_uri": "https://localhost:8080/"
        },
        "id": "MwYEkaYLoyb_",
        "outputId": "dae75d22-23f7-4f0a-d51e-57a19396975d"
      },
      "outputs": [
        {
          "output_type": "stream",
          "name": "stdout",
          "text": [
            "Epoch 1/100\n",
            "68/68 [==============================] - 12s 155ms/step - loss: 1.3214 - accuracy: 0.4121 - val_loss: 1.2115 - val_accuracy: 0.2684\n",
            "Epoch 2/100\n",
            "68/68 [==============================] - 10s 140ms/step - loss: 1.1826 - accuracy: 0.4047 - val_loss: 1.1114 - val_accuracy: 0.3897\n",
            "Epoch 3/100\n",
            "68/68 [==============================] - 10s 141ms/step - loss: 1.1199 - accuracy: 0.4264 - val_loss: 1.0205 - val_accuracy: 0.4007\n",
            "Epoch 4/100\n",
            "68/68 [==============================] - 10s 140ms/step - loss: 1.0763 - accuracy: 0.4493 - val_loss: 1.0099 - val_accuracy: 0.4706\n",
            "Epoch 5/100\n",
            "68/68 [==============================] - 10s 141ms/step - loss: 1.0297 - accuracy: 0.4629 - val_loss: 0.9461 - val_accuracy: 0.4963\n",
            "Epoch 6/100\n",
            "68/68 [==============================] - 10s 140ms/step - loss: 1.0038 - accuracy: 0.4932 - val_loss: 0.9264 - val_accuracy: 0.5294\n",
            "Epoch 7/100\n",
            "68/68 [==============================] - 10s 141ms/step - loss: 0.9706 - accuracy: 0.5074 - val_loss: 0.8612 - val_accuracy: 0.5956\n",
            "Epoch 8/100\n",
            "68/68 [==============================] - 10s 141ms/step - loss: 0.9351 - accuracy: 0.5371 - val_loss: 0.8590 - val_accuracy: 0.5662\n",
            "Epoch 9/100\n",
            "68/68 [==============================] - 10s 141ms/step - loss: 0.9225 - accuracy: 0.5353 - val_loss: 0.8425 - val_accuracy: 0.5846\n",
            "Epoch 10/100\n",
            "68/68 [==============================] - 10s 140ms/step - loss: 0.9212 - accuracy: 0.5365 - val_loss: 0.8472 - val_accuracy: 0.5662\n",
            "Epoch 11/100\n",
            "68/68 [==============================] - 10s 140ms/step - loss: 0.9043 - accuracy: 0.5588 - val_loss: 0.8489 - val_accuracy: 0.5846\n",
            "Epoch 12/100\n",
            "68/68 [==============================] - 10s 140ms/step - loss: 0.8780 - accuracy: 0.5743 - val_loss: 0.8133 - val_accuracy: 0.5699\n",
            "Epoch 13/100\n",
            "68/68 [==============================] - 9s 139ms/step - loss: 0.8686 - accuracy: 0.5718 - val_loss: 0.8124 - val_accuracy: 0.6066\n",
            "Epoch 14/100\n",
            "68/68 [==============================] - 10s 141ms/step - loss: 0.8797 - accuracy: 0.5724 - val_loss: 0.8260 - val_accuracy: 0.6066\n",
            "Epoch 15/100\n",
            "68/68 [==============================] - 10s 141ms/step - loss: 0.8681 - accuracy: 0.5538 - val_loss: 0.8276 - val_accuracy: 0.5735\n",
            "Epoch 16/100\n",
            "68/68 [==============================] - 10s 140ms/step - loss: 0.8549 - accuracy: 0.5736 - val_loss: 0.8242 - val_accuracy: 0.5404\n",
            "Epoch 17/100\n",
            "68/68 [==============================] - 10s 140ms/step - loss: 0.8424 - accuracy: 0.5848 - val_loss: 0.8442 - val_accuracy: 0.6066\n",
            "Epoch 18/100\n",
            "68/68 [==============================] - 10s 140ms/step - loss: 0.8463 - accuracy: 0.5798 - val_loss: 0.8094 - val_accuracy: 0.6066\n",
            "Epoch 19/100\n",
            "68/68 [==============================] - 10s 141ms/step - loss: 0.8474 - accuracy: 0.5903 - val_loss: 0.8061 - val_accuracy: 0.5919\n",
            "Epoch 20/100\n",
            "68/68 [==============================] - 10s 140ms/step - loss: 0.8315 - accuracy: 0.5953 - val_loss: 0.8068 - val_accuracy: 0.6029\n",
            "Epoch 21/100\n",
            "68/68 [==============================] - 10s 140ms/step - loss: 0.8138 - accuracy: 0.6058 - val_loss: 0.7983 - val_accuracy: 0.5993\n",
            "Epoch 22/100\n",
            "68/68 [==============================] - 10s 140ms/step - loss: 0.8093 - accuracy: 0.6089 - val_loss: 0.7786 - val_accuracy: 0.6176\n",
            "Epoch 23/100\n",
            "68/68 [==============================] - 9s 140ms/step - loss: 0.7942 - accuracy: 0.6219 - val_loss: 0.7961 - val_accuracy: 0.5956\n",
            "Epoch 24/100\n",
            "68/68 [==============================] - 10s 141ms/step - loss: 0.8023 - accuracy: 0.6071 - val_loss: 0.8106 - val_accuracy: 0.5956\n",
            "Epoch 25/100\n",
            "68/68 [==============================] - 10s 140ms/step - loss: 0.8018 - accuracy: 0.5972 - val_loss: 0.7924 - val_accuracy: 0.6287\n",
            "Epoch 26/100\n",
            "68/68 [==============================] - 10s 140ms/step - loss: 0.7912 - accuracy: 0.6114 - val_loss: 0.7889 - val_accuracy: 0.5809\n",
            "Epoch 27/100\n",
            "68/68 [==============================] - 10s 141ms/step - loss: 0.7808 - accuracy: 0.6163 - val_loss: 0.7883 - val_accuracy: 0.5551\n",
            "Epoch 28/100\n",
            "68/68 [==============================] - 10s 140ms/step - loss: 0.7987 - accuracy: 0.6095 - val_loss: 0.7914 - val_accuracy: 0.6066\n",
            "Epoch 29/100\n",
            "68/68 [==============================] - 9s 140ms/step - loss: 0.7810 - accuracy: 0.6368 - val_loss: 0.7773 - val_accuracy: 0.6066\n",
            "Epoch 30/100\n",
            "68/68 [==============================] - 10s 141ms/step - loss: 0.7710 - accuracy: 0.6207 - val_loss: 0.8029 - val_accuracy: 0.5404\n",
            "Epoch 31/100\n",
            "68/68 [==============================] - 10s 140ms/step - loss: 0.7900 - accuracy: 0.6219 - val_loss: 0.7968 - val_accuracy: 0.5993\n",
            "Epoch 32/100\n",
            "68/68 [==============================] - 10s 140ms/step - loss: 0.7957 - accuracy: 0.6108 - val_loss: 0.8229 - val_accuracy: 0.5699\n",
            "Epoch 33/100\n",
            "68/68 [==============================] - 10s 141ms/step - loss: 0.7680 - accuracy: 0.6349 - val_loss: 0.7814 - val_accuracy: 0.6103\n",
            "Epoch 34/100\n",
            "68/68 [==============================] - 10s 140ms/step - loss: 0.7575 - accuracy: 0.6361 - val_loss: 0.7779 - val_accuracy: 0.6103\n",
            "Epoch 35/100\n",
            "68/68 [==============================] - 10s 141ms/step - loss: 0.7329 - accuracy: 0.6584 - val_loss: 0.7685 - val_accuracy: 0.6176\n",
            "Epoch 36/100\n",
            "68/68 [==============================] - 10s 140ms/step - loss: 0.7399 - accuracy: 0.6553 - val_loss: 0.7751 - val_accuracy: 0.6250\n",
            "Epoch 37/100\n",
            "68/68 [==============================] - 10s 140ms/step - loss: 0.7424 - accuracy: 0.6510 - val_loss: 0.7687 - val_accuracy: 0.6176\n",
            "Epoch 38/100\n",
            "68/68 [==============================] - 10s 141ms/step - loss: 0.7593 - accuracy: 0.6429 - val_loss: 0.7564 - val_accuracy: 0.6360\n",
            "Epoch 39/100\n",
            "68/68 [==============================] - 10s 140ms/step - loss: 0.7403 - accuracy: 0.6652 - val_loss: 0.7869 - val_accuracy: 0.6140\n",
            "Epoch 40/100\n",
            "68/68 [==============================] - 10s 140ms/step - loss: 0.7325 - accuracy: 0.6597 - val_loss: 0.7716 - val_accuracy: 0.6103\n",
            "Epoch 41/100\n",
            "68/68 [==============================] - 10s 141ms/step - loss: 0.7486 - accuracy: 0.6460 - val_loss: 0.7895 - val_accuracy: 0.5662\n",
            "Epoch 42/100\n",
            "68/68 [==============================] - 9s 140ms/step - loss: 0.7509 - accuracy: 0.6504 - val_loss: 0.7629 - val_accuracy: 0.6287\n",
            "Epoch 43/100\n",
            "68/68 [==============================] - 10s 140ms/step - loss: 0.7026 - accuracy: 0.6720 - val_loss: 0.7845 - val_accuracy: 0.5882\n",
            "Epoch 44/100\n",
            "68/68 [==============================] - 10s 140ms/step - loss: 0.7100 - accuracy: 0.6770 - val_loss: 0.7566 - val_accuracy: 0.6029\n",
            "Epoch 45/100\n",
            "68/68 [==============================] - 10s 140ms/step - loss: 0.6950 - accuracy: 0.6856 - val_loss: 0.7487 - val_accuracy: 0.6434\n",
            "Epoch 46/100\n",
            "68/68 [==============================] - 10s 140ms/step - loss: 0.6977 - accuracy: 0.6739 - val_loss: 0.7378 - val_accuracy: 0.6434\n",
            "Epoch 47/100\n",
            "68/68 [==============================] - 10s 140ms/step - loss: 0.7142 - accuracy: 0.6726 - val_loss: 0.7522 - val_accuracy: 0.6213\n",
            "Epoch 48/100\n",
            "68/68 [==============================] - 9s 139ms/step - loss: 0.6924 - accuracy: 0.6832 - val_loss: 0.7478 - val_accuracy: 0.6471\n",
            "Epoch 49/100\n",
            "68/68 [==============================] - 10s 140ms/step - loss: 0.6984 - accuracy: 0.6813 - val_loss: 0.7190 - val_accuracy: 0.6875\n",
            "Epoch 50/100\n",
            "68/68 [==============================] - 10s 141ms/step - loss: 0.6888 - accuracy: 0.6925 - val_loss: 0.7257 - val_accuracy: 0.6581\n",
            "Epoch 51/100\n",
            "68/68 [==============================] - 10s 140ms/step - loss: 0.7045 - accuracy: 0.6832 - val_loss: 0.7545 - val_accuracy: 0.6471\n",
            "Epoch 52/100\n",
            "68/68 [==============================] - 10s 140ms/step - loss: 0.6727 - accuracy: 0.6918 - val_loss: 0.7708 - val_accuracy: 0.5919\n",
            "Epoch 53/100\n",
            "68/68 [==============================] - 9s 140ms/step - loss: 0.6827 - accuracy: 0.6900 - val_loss: 0.6862 - val_accuracy: 0.6875\n",
            "Epoch 54/100\n",
            "68/68 [==============================] - 10s 140ms/step - loss: 0.7052 - accuracy: 0.6819 - val_loss: 0.7196 - val_accuracy: 0.6618\n",
            "Epoch 55/100\n",
            "68/68 [==============================] - 9s 140ms/step - loss: 0.6554 - accuracy: 0.7178 - val_loss: 0.7143 - val_accuracy: 0.6801\n",
            "Epoch 56/100\n",
            "68/68 [==============================] - 9s 139ms/step - loss: 0.6634 - accuracy: 0.7147 - val_loss: 0.6986 - val_accuracy: 0.6912\n",
            "Epoch 57/100\n",
            "68/68 [==============================] - 10s 140ms/step - loss: 0.6664 - accuracy: 0.6918 - val_loss: 0.6934 - val_accuracy: 0.6949\n",
            "Epoch 58/100\n",
            "68/68 [==============================] - 9s 139ms/step - loss: 0.6690 - accuracy: 0.6918 - val_loss: 0.7127 - val_accuracy: 0.6838\n",
            "Epoch 59/100\n",
            "68/68 [==============================] - 9s 139ms/step - loss: 0.6662 - accuracy: 0.7110 - val_loss: 0.6986 - val_accuracy: 0.6985\n",
            "Epoch 60/100\n",
            "68/68 [==============================] - 10s 140ms/step - loss: 0.6545 - accuracy: 0.7141 - val_loss: 0.7049 - val_accuracy: 0.6838\n",
            "Epoch 61/100\n",
            "68/68 [==============================] - 10s 141ms/step - loss: 0.6397 - accuracy: 0.7166 - val_loss: 0.7007 - val_accuracy: 0.6838\n",
            "Epoch 62/100\n",
            "68/68 [==============================] - 9s 140ms/step - loss: 0.6356 - accuracy: 0.7184 - val_loss: 0.7018 - val_accuracy: 0.6765\n",
            "Epoch 63/100\n",
            "68/68 [==============================] - 10s 140ms/step - loss: 0.6821 - accuracy: 0.7092 - val_loss: 0.7485 - val_accuracy: 0.6471\n",
            "Epoch 64/100\n",
            "68/68 [==============================] - 9s 140ms/step - loss: 0.6480 - accuracy: 0.7191 - val_loss: 0.7085 - val_accuracy: 0.6985\n",
            "Epoch 65/100\n",
            "68/68 [==============================] - 10s 140ms/step - loss: 0.6421 - accuracy: 0.7116 - val_loss: 0.7259 - val_accuracy: 0.6397\n",
            "Epoch 66/100\n",
            "68/68 [==============================] - 10s 140ms/step - loss: 0.6444 - accuracy: 0.7054 - val_loss: 0.7653 - val_accuracy: 0.5993\n",
            "Epoch 67/100\n",
            "68/68 [==============================] - 10s 141ms/step - loss: 0.6302 - accuracy: 0.7197 - val_loss: 0.7025 - val_accuracy: 0.6691\n",
            "Epoch 68/100\n",
            "68/68 [==============================] - 10s 141ms/step - loss: 0.6141 - accuracy: 0.7432 - val_loss: 0.6752 - val_accuracy: 0.6912\n",
            "Epoch 69/100\n",
            "68/68 [==============================] - 10s 141ms/step - loss: 0.6025 - accuracy: 0.7345 - val_loss: 0.6975 - val_accuracy: 0.6654\n",
            "Epoch 70/100\n",
            "68/68 [==============================] - 10s 140ms/step - loss: 0.6170 - accuracy: 0.7222 - val_loss: 0.7129 - val_accuracy: 0.6581\n",
            "Epoch 71/100\n",
            "68/68 [==============================] - 10s 141ms/step - loss: 0.6126 - accuracy: 0.7314 - val_loss: 0.6725 - val_accuracy: 0.6985\n",
            "Epoch 72/100\n",
            "68/68 [==============================] - 9s 140ms/step - loss: 0.6002 - accuracy: 0.7296 - val_loss: 0.6951 - val_accuracy: 0.6728\n",
            "Epoch 73/100\n",
            "68/68 [==============================] - 10s 140ms/step - loss: 0.5862 - accuracy: 0.7488 - val_loss: 0.6806 - val_accuracy: 0.6765\n",
            "Epoch 74/100\n",
            "68/68 [==============================] - 10s 141ms/step - loss: 0.6317 - accuracy: 0.7395 - val_loss: 0.6617 - val_accuracy: 0.6801\n",
            "Epoch 75/100\n",
            "68/68 [==============================] - 10s 141ms/step - loss: 0.5822 - accuracy: 0.7580 - val_loss: 0.7376 - val_accuracy: 0.6801\n",
            "Epoch 76/100\n",
            "68/68 [==============================] - 10s 140ms/step - loss: 0.5898 - accuracy: 0.7512 - val_loss: 0.6721 - val_accuracy: 0.7059\n",
            "Epoch 77/100\n",
            "68/68 [==============================] - 10s 140ms/step - loss: 0.5795 - accuracy: 0.7395 - val_loss: 0.7012 - val_accuracy: 0.6875\n",
            "Epoch 78/100\n",
            "68/68 [==============================] - 9s 139ms/step - loss: 0.5946 - accuracy: 0.7494 - val_loss: 0.7103 - val_accuracy: 0.6728\n",
            "Epoch 79/100\n",
            "68/68 [==============================] - 10s 140ms/step - loss: 0.5918 - accuracy: 0.7426 - val_loss: 0.7032 - val_accuracy: 0.6838\n",
            "Epoch 80/100\n",
            "68/68 [==============================] - 10s 140ms/step - loss: 0.5822 - accuracy: 0.7401 - val_loss: 0.7651 - val_accuracy: 0.6618\n",
            "Epoch 81/100\n",
            "68/68 [==============================] - 9s 140ms/step - loss: 0.5830 - accuracy: 0.7512 - val_loss: 0.6956 - val_accuracy: 0.6801\n",
            "Epoch 82/100\n",
            "68/68 [==============================] - 10s 141ms/step - loss: 0.5580 - accuracy: 0.7599 - val_loss: 0.7043 - val_accuracy: 0.7096\n",
            "Epoch 83/100\n",
            "68/68 [==============================] - 10s 140ms/step - loss: 0.5458 - accuracy: 0.7587 - val_loss: 0.6785 - val_accuracy: 0.6838\n",
            "Epoch 84/100\n",
            "68/68 [==============================] - 10s 141ms/step - loss: 0.5910 - accuracy: 0.7432 - val_loss: 0.6809 - val_accuracy: 0.6912\n",
            "Epoch 85/100\n",
            "68/68 [==============================] - 9s 139ms/step - loss: 0.5897 - accuracy: 0.7351 - val_loss: 0.7497 - val_accuracy: 0.6287\n",
            "Epoch 86/100\n",
            "68/68 [==============================] - 10s 140ms/step - loss: 0.5658 - accuracy: 0.7611 - val_loss: 0.6519 - val_accuracy: 0.7022\n",
            "Epoch 87/100\n",
            "68/68 [==============================] - 10s 140ms/step - loss: 0.5645 - accuracy: 0.7525 - val_loss: 0.7197 - val_accuracy: 0.6875\n",
            "Epoch 88/100\n",
            "68/68 [==============================] - 10s 140ms/step - loss: 0.5717 - accuracy: 0.7550 - val_loss: 0.6595 - val_accuracy: 0.7096\n",
            "Epoch 89/100\n",
            "68/68 [==============================] - 10s 140ms/step - loss: 0.5448 - accuracy: 0.7624 - val_loss: 0.6687 - val_accuracy: 0.6949\n",
            "Epoch 90/100\n",
            "68/68 [==============================] - 10s 140ms/step - loss: 0.5363 - accuracy: 0.7828 - val_loss: 0.6066 - val_accuracy: 0.7316\n",
            "Epoch 91/100\n",
            "68/68 [==============================] - 10s 140ms/step - loss: 0.5462 - accuracy: 0.7574 - val_loss: 0.6994 - val_accuracy: 0.7132\n",
            "Epoch 92/100\n",
            "68/68 [==============================] - 9s 139ms/step - loss: 0.5649 - accuracy: 0.7587 - val_loss: 0.6933 - val_accuracy: 0.6912\n",
            "Epoch 93/100\n",
            "68/68 [==============================] - 10s 140ms/step - loss: 0.5299 - accuracy: 0.7822 - val_loss: 0.6406 - val_accuracy: 0.7022\n",
            "Epoch 94/100\n",
            "68/68 [==============================] - 10s 140ms/step - loss: 0.5405 - accuracy: 0.7568 - val_loss: 0.6090 - val_accuracy: 0.7353\n",
            "Epoch 95/100\n",
            "68/68 [==============================] - 9s 139ms/step - loss: 0.5107 - accuracy: 0.7834 - val_loss: 0.6605 - val_accuracy: 0.6801\n",
            "Epoch 96/100\n",
            "68/68 [==============================] - 9s 140ms/step - loss: 0.5165 - accuracy: 0.7754 - val_loss: 0.6681 - val_accuracy: 0.7059\n",
            "Epoch 97/100\n",
            "68/68 [==============================] - 9s 140ms/step - loss: 0.5098 - accuracy: 0.7896 - val_loss: 0.7017 - val_accuracy: 0.6949\n",
            "Epoch 98/100\n",
            "68/68 [==============================] - 9s 140ms/step - loss: 0.5139 - accuracy: 0.7853 - val_loss: 0.6283 - val_accuracy: 0.7279\n",
            "Epoch 99/100\n",
            "68/68 [==============================] - 10s 140ms/step - loss: 0.5190 - accuracy: 0.7741 - val_loss: 0.6014 - val_accuracy: 0.7500\n",
            "Epoch 100/100\n",
            "68/68 [==============================] - 9s 140ms/step - loss: 0.5081 - accuracy: 0.7816 - val_loss: 0.6610 - val_accuracy: 0.7022\n"
          ]
        }
      ],
      "source": [
        "# Create an Instance of Early Stopping Callback\n",
        "early_stopping_callback = keras.callbacks.EarlyStopping(monitor = 'val_loss',\n",
        "                                                        patience = 20,\n",
        "                                                        mode = 'min',\n",
        "                                                        restore_best_weights = True)\n",
        "# Compile the model and specify loss function, optimizer and metrics values to the model\n",
        "model.compile(loss = 'categorical_crossentropy',\n",
        "              optimizer= keras.optimizers.Adam(0.001, decay=1e-4),\n",
        "              metrics=['accuracy'])\n",
        "# Start training the model.\n",
        "cnn_3d_model_training_history = model.fit(x = features_train,\n",
        "                                          y = labels_train,\n",
        "                                          epochs=100,\n",
        "                                          batch_size=24,\n",
        "                                          shuffle = True,\n",
        "                                          validation_data = (features_valid, labels_valid)),\n",
        "                                          # callbacks = [early_stopping_callback])"
      ]
    },
    {
      "cell_type": "code",
      "execution_count": 13,
      "metadata": {
        "colab": {
          "base_uri": "https://localhost:8080/"
        },
        "id": "3vimsgjjbXvL",
        "outputId": "e4982b87-42ac-4aab-b86c-c7914af69568"
      },
      "outputs": [
        {
          "output_type": "stream",
          "name": "stdout",
          "text": [
            "9/9 [==============================] - 1s 78ms/step - loss: 1.0916 - accuracy: 0.7279\n",
            "\n",
            "\n",
            "Train accuracy: 86.572 % || Test accuracy: 72.794 % || Val accuracy: 70.221 %\n",
            "Train loss: 0.363 || Test loss: 1.092 || Val loss: 0.661\n"
          ]
        }
      ],
      "source": [
        "model_evaluation_history = model.evaluate(features_test, labels_test)\n",
        "print('\\n')\n",
        "train_loss, train_acc = model.evaluate(features_train, labels_train, verbose=0)\n",
        "test_loss, test_acc = model.evaluate(features_test, labels_test, verbose=0)\n",
        "val_loss, val_acc = model.evaluate(features_valid, labels_valid, verbose=0)\n",
        "print(f'Train accuracy: {train_acc*100:.3f} % || Test accuracy: {test_acc*100:.3f} % || Val accuracy: {val_acc*100:.3f} %')\n",
        "print(f'Train loss: {train_loss:.3f} || Test loss: {test_loss:.3f} || Val loss: {val_loss:.3f}')"
      ]
    },
    {
      "cell_type": "code",
      "execution_count": 14,
      "metadata": {
        "id": "ivmaK9BlbnRQ"
      },
      "outputs": [],
      "source": [
        "# Get the loss and accuracy from model_evaluation_history.\n",
        "model_evaluation_loss, model_evaluation_accuracy = model_evaluation_history\n",
        " \n",
        "# Define the string date format.\n",
        "# Get the current Date and Time in a DateTime Object.\n",
        "# Convert the DateTime object to string according to the style mentioned in date_time_format string.\n",
        "date_time_format = '%Y_%m_%d__%H_%M_%S'\n",
        "current_date_time_dt = dt.datetime.now()\n",
        "current_date_time_string = dt.datetime.strftime(current_date_time_dt, date_time_format)\n",
        " \n",
        "# Define a useful name for our model to make it easy for us while navigating through multiple saved models.\n",
        "model_file_name = f'3D_CNN_model___Date_Time_{current_date_time_string}___Loss_{model_evaluation_loss}___Accuracy_{model_evaluation_accuracy}.h5'\n",
        "# Change dir\n",
        "gdrive_path = '/content/gdrive' + '/My Drive/247/Saved_models/'\n",
        "os.chdir(gdrive_path)\n",
        "# Create a floder for the model files\n",
        "!mkdir -p cnn_3d_{current_date_time_string}\n",
        "# Save your Model.\n",
        "model.save('convlstm_' + str(current_date_time_string) + '/' + model_file_name)\n",
        "# Save model weights\n",
        "model.save_weights('convlstm_' + str(current_date_time_string) + '/' + 'weights')"
      ]
    },
    {
      "cell_type": "code",
      "execution_count": 15,
      "metadata": {
        "id": "OwU8TwPrbsKB"
      },
      "outputs": [],
      "source": [
        "def plot_metric(model_training_history, metric_name_1, metric_name_2, plot_name):\n",
        "    '''\n",
        "    This function will plot the metrics passed to it in a graph.\n",
        "    Args:\n",
        "        model_training_history: A history object containing a record of training and validation \n",
        "                                loss values and metrics values at successive epochs\n",
        "        metric_name_1:          The name of the first metric that needs to be plotted in the graph.\n",
        "        metric_name_2:          The name of the second metric that needs to be plotted in the graph.\n",
        "        plot_name:              The title of the graph.\n",
        "    '''\n",
        "    \n",
        "    # Get metric values using metric names as identifiers.\n",
        "    metric_value_1 = model_training_history[0].history[metric_name_1]\n",
        "    metric_value_2 = model_training_history[0].history[metric_name_2]\n",
        "    \n",
        "    # Construct a range object which will be used as x-axis (horizontal plane) of the graph.\n",
        "    epochs = range(len(metric_value_1))\n",
        "\n",
        "    # Plot the Graph.\n",
        "    plt.plot(epochs, metric_value_1, 'blue', label = metric_name_1)\n",
        "    plt.plot(epochs, metric_value_2, 'red', label = metric_name_2)\n",
        "\n",
        "    # Add title to the plot.\n",
        "    plt.title(str(plot_name))\n",
        "\n",
        "    # Add legend to the plot.\n",
        "    plt.legend()"
      ]
    },
    {
      "cell_type": "code",
      "execution_count": 16,
      "metadata": {
        "colab": {
          "base_uri": "https://localhost:8080/",
          "height": 281
        },
        "id": "cvKY05ncbwof",
        "outputId": "2c1fc4a5-f66d-42a6-fcc8-713b2a6f5f3a"
      },
      "outputs": [
        {
          "output_type": "display_data",
          "data": {
            "text/plain": [
              "<Figure size 432x288 with 1 Axes>"
            ],
            "image/png": "[encoded data removed]"
          },
          "metadata": {
            "needs_background": "light"
          }
        }
      ],
      "source": [
        "plot_metric(cnn_3d_model_training_history, 'loss', 'val_loss', 'Total Loss vs Total Validation Loss')"
      ]
    },
    {
      "cell_type": "code",
      "execution_count": 17,
      "metadata": {
        "colab": {
          "base_uri": "https://localhost:8080/",
          "height": 281
        },
        "id": "o1iaaDHBb5i0",
        "outputId": "0887131c-9d41-41ef-a528-0057a7e3e5f7"
      },
      "outputs": [
        {
          "output_type": "display_data",
          "data": {
            "text/plain": [
              "<Figure size 432x288 with 1 Axes>"
            ],
            "image/png": "[encoded data removed]"
          },
          "metadata": {
            "needs_background": "light"
          }
        }
      ],
      "source": [
        "plot_metric(cnn_3d_model_training_history, 'accuracy', 'val_accuracy', 'Total Accuracy vs Total Validation Accuracy') "
      ]
    }
  ],
  "metadata": {
    "accelerator": "GPU",
    "colab": {
      "collapsed_sections": [],
      "machine_shape": "hm",
      "name": "3D_CNN.ipynb",
      "provenance": [],
      "authorship_tag": "ABX9TyNj+ytZFsb20/eOsSxFgpMx",
      "include_colab_link": true
    },
    "kernelspec": {
      "display_name": "Python 3",
      "name": "python3"
    },
    "language_info": {
      "name": "python"
    }
  },
  "nbformat": 4,
  "nbformat_minor": 0
}