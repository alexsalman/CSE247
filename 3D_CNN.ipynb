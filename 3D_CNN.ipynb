{
  "cells": [
    {
      "cell_type": "markdown",
      "metadata": {
        "id": "view-in-github",
        "colab_type": "text"
      },
      "source": [
        "<a href=\"https://colab.research.google.com/github/alexsalman/CSE247/blob/main/3D_CNN.ipynb\" target=\"_parent\"><img src=\"https://colab.research.google.com/assets/colab-badge.svg\" alt=\"Open In Colab\"/></a>"
      ]
    },
    {
      "cell_type": "markdown",
      "metadata": {
        "id": "Kk7I8NauauE3"
      },
      "source": [
        "####**3D Convolutional Neural Network**\n",
        "######*I am using 3D Convolutional Neural Network to extract the temporal and spatial information which are merged slowly throughout the whole network.*"
      ]
    },
    {
      "cell_type": "code",
      "execution_count": 1,
      "metadata": {
        "colab": {
          "base_uri": "https://localhost:8080/"
        },
        "id": "M8ibtd5HKtZk",
        "outputId": "5cceea2c-62b7-475f-886a-9c4b783b4a3d"
      },
      "outputs": [
        {
          "output_type": "stream",
          "name": "stdout",
          "text": [
            "2.8.0\n"
          ]
        }
      ],
      "source": [
        "# required libraries\n",
        "import os\n",
        "import cv2\n",
        "import math\n",
        "import random\n",
        "import numpy as np\n",
        "import datetime as dt\n",
        "from collections import deque\n",
        "import matplotlib.pyplot as plt\n",
        "from google.colab import drive\n",
        "from sklearn.model_selection import train_test_split\n",
        "import tensorflow as tf\n",
        "from tensorflow import keras\n",
        "from keras.models import Sequential\n",
        "from keras.layers import Dense, Flatten, Conv3D, MaxPooling3D, Dropout, BatchNormalization, GlobalAveragePooling3D\n",
        "from keras import regularizers\n",
        "from PIL import Image\n",
        "%matplotlib inline\n",
        "print(tf.version.VERSION)\n",
        "# https://bleedai.com/human-activity-recognition-using-tensorflow-cnn-lstm/"
      ]
    },
    {
      "cell_type": "code",
      "execution_count": 2,
      "metadata": {
        "id": "iffdFOf1CEAN"
      },
      "outputs": [],
      "source": [
        "# set Numpy, Python, and Tensorflow seeds to get consistent results on every execution\n",
        "seed_constant = 27\n",
        "np.random.seed(seed_constant)\n",
        "random.seed(seed_constant)\n",
        "tf.random.set_seed(seed_constant)"
      ]
    },
    {
      "cell_type": "code",
      "execution_count": 3,
      "metadata": {
        "colab": {
          "base_uri": "https://localhost:8080/",
          "height": 53
        },
        "id": "mcLh22LiOHyn",
        "outputId": "0575adce-ace5-4f1b-9379-00d42cde6ebe"
      },
      "outputs": [
        {
          "output_type": "stream",
          "name": "stdout",
          "text": [
            "Mounted at /content/gdrive/\n"
          ]
        },
        {
          "output_type": "execute_result",
          "data": {
            "text/plain": [
              "'/content/gdrive/My Drive/247'"
            ],
            "application/vnd.google.colaboratory.intrinsic+json": {
              "type": "string"
            }
          },
          "metadata": {},
          "execution_count": 3
        }
      ],
      "source": [
        "# mount dataset from google drive\n",
        "drive.mount('/content/gdrive/', force_remount=True)\n",
        "gdrive_path = '/content/gdrive' + '/My Drive/247/'\n",
        "os.chdir(gdrive_path)\n",
        "os.getcwd()"
      ]
    },
    {
      "cell_type": "code",
      "execution_count": 4,
      "metadata": {
        "id": "oeDK8SzumZ1Q"
      },
      "outputs": [],
      "source": [
        "# frame dimention\n",
        "IMAGE_HEIGHT, IMAGE_WIDTH = 128, 128\n",
        "# frame number for each video (depth)\n",
        "SEQUENCE_LENGTH = 16\n",
        "# video dir path\n",
        "DATASET_DIR = gdrive_path + 'Cropped_videos'\n",
        "# labels of classes\n",
        "CLASSES_LIST = ['hemostasis', 'inflammatory', 'proliferative', 'maturation']"
      ]
    },
    {
      "cell_type": "code",
      "execution_count": 5,
      "metadata": {
        "id": "HUTeIqzpZc9J"
      },
      "outputs": [],
      "source": [
        "# image cropping\n",
        "def crop_center_square(frame):\n",
        "    y, x = frame.shape[0:2]\n",
        "    min_dim = min(y, x)\n",
        "    start_x = (x // 2) - (min_dim // 2)\n",
        "    start_y = (y // 2) - (min_dim // 2)\n",
        "    return frame[start_y:start_y+min_dim,start_x:start_x+min_dim]"
      ]
    },
    {
      "cell_type": "code",
      "execution_count": 6,
      "metadata": {
        "id": "QRDbHG0TZkYJ"
      },
      "outputs": [],
      "source": [
        "# https://medium.com/analytics-vidhya/video-preprocessor-and-augmentation-for-deep-learning-tasks-12dd3fcce868\n",
        "def load_video(path, resize=(128, 128)):\n",
        "    video_reader = cv2.VideoCapture(path)\n",
        "    frames = []\n",
        "    try:\n",
        "        while True:\n",
        "            ret, frame = video_reader.read()\n",
        "            if not ret:\n",
        "                  break\n",
        "            # frame = crop_center_square(frame)\n",
        "            frame = cv2.resize(frame, resize)\n",
        "            frame = frame[:, :, [2, 1, 0]]\n",
        "            black_frame = frame\n",
        "            frames.append(frame)\n",
        "    finally:\n",
        "        video_reader.release()\n",
        "    return np.array(frames) / 255.0"
      ]
    },
    {
      "cell_type": "code",
      "execution_count": 7,
      "metadata": {
        "id": "ljUWHW6Jqzu-"
      },
      "outputs": [],
      "source": [
        "def create_dataset(state):\n",
        "    # Declared Empty Lists to store the features, labels and video file path values.\n",
        "    features = []\n",
        "    labels = []\n",
        "    video_files_paths = []\n",
        "    # Iterating through all the classes mentioned in the classes list\n",
        "    for class_index, class_name in enumerate(CLASSES_LIST):\n",
        "        # Display the name of the class whose data is being extracted.\n",
        "        print(f'Extracting Data of Class: {class_name} {state}')\n",
        "        # Get the list of video files present in the specific class name directory.\n",
        "        files_list = os.listdir(os.path.join(DATASET_DIR, class_name))\n",
        "        # Iterate through all the files present in the files list.\n",
        "        for file_name in files_list:\n",
        "            # Get the complete video path.\n",
        "            video_file_path = os.path.join(DATASET_DIR, class_name, file_name)\n",
        "            # create testing data\n",
        "            if state == 'test':\n",
        "                # get the mouse number\n",
        "                mouse_number = int(video_file_path.split(' ')[2].split('_')[1].split('-')[1])\n",
        "                # get the mouse side (L or R)\n",
        "                mouse_side = video_file_path.split(' ')[2].split('_')[1].split('-')[2]\n",
        "                if mouse_number == 4 and mouse_side == 'L':\n",
        "                    frames = load_video(video_file_path)\n",
        "                    features.append(frames)\n",
        "                    labels.append(class_index)\n",
        "                    video_files_paths.append(video_file_path)\n",
        "            # create validation data\n",
        "            elif state == 'valid':\n",
        "                # get the mouse number\n",
        "                mouse_number = int(video_file_path.split(' ')[2].split('_')[1].split('-')[1])\n",
        "                # get the mouse side (L or R)\n",
        "                mouse_side = video_file_path.split(' ')[2].split('_')[1].split('-')[2]\n",
        "                if mouse_number == 4 and mouse_side == 'R':\n",
        "                    frames = load_video(video_file_path)\n",
        "                    features.append(frames)\n",
        "                    labels.append(class_index)\n",
        "                    video_files_paths.append(video_file_path)\n",
        "            # create training data\n",
        "            else:\n",
        "                # get the mouse number\n",
        "                mouse_number = int(video_file_path.split(' ')[2].split('_')[1].split('-')[1])\n",
        "                if mouse_number != 4:\n",
        "                    frames = load_video(video_file_path)\n",
        "                    features.append(frames)\n",
        "                    labels.append(class_index)\n",
        "                    video_files_paths.append(video_file_path)\n",
        "    # Converting the list to numpy arrays\n",
        "    features = np.asarray(features)\n",
        "    # print(features)\n",
        "    labels = np.array(labels)\n",
        "    # Return the frames, class index, and video file path.\n",
        "    return features, labels, video_files_paths"
      ]
    },
    {
      "cell_type": "code",
      "execution_count": 8,
      "metadata": {
        "colab": {
          "base_uri": "https://localhost:8080/"
        },
        "id": "a8rpanz9rASe",
        "outputId": "3bdbe341-2709-4657-a01b-7c15994cc4d7"
      },
      "outputs": [
        {
          "output_type": "stream",
          "name": "stdout",
          "text": [
            "Extracting Data of Class: hemostasis train\n",
            "Extracting Data of Class: inflammatory train\n",
            "Extracting Data of Class: proliferative train\n",
            "Extracting Data of Class: maturation train\n",
            "Extracting Data of Class: hemostasis test\n",
            "Extracting Data of Class: inflammatory test\n",
            "Extracting Data of Class: proliferative test\n",
            "Extracting Data of Class: maturation test\n",
            "Extracting Data of Class: hemostasis valid\n",
            "Extracting Data of Class: inflammatory valid\n",
            "Extracting Data of Class: proliferative valid\n",
            "Extracting Data of Class: maturation valid\n"
          ]
        }
      ],
      "source": [
        "# 6 mice for training, 2 mice for test and validation (one wound on each mice for test one for validation)\n",
        "features_train, labels_train, video_files_paths_train = create_dataset('train')\n",
        "features_test, labels_test, video_files_paths_test = create_dataset('test')\n",
        "features_valid, labels_valid, video_files_paths_valid = create_dataset('valid')"
      ]
    },
    {
      "cell_type": "code",
      "execution_count": 9,
      "metadata": {
        "id": "dtJkK4qTAulC"
      },
      "outputs": [],
      "source": [
        "# one_hot_encoded_labels\n",
        "labels_train = keras.utils.to_categorical(labels_train)\n",
        "labels_test = keras.utils.to_categorical(labels_test)\n",
        "labels_valid = keras.utils.to_categorical(labels_valid)"
      ]
    },
    {
      "cell_type": "code",
      "execution_count": 10,
      "metadata": {
        "id": "N-9ykP4ig7IW"
      },
      "outputs": [],
      "source": [
        "def create_3D_CNN_model():\n",
        "    sample_shape = (16, 128, 128, 3)\n",
        "    model = Sequential()\n",
        "\n",
        "    model.add(Conv3D(32, 3, activation='relu', kernel_initializer='he_uniform',\n",
        "                     kernel_regularizer=regularizers.L2(l2=1e-4),\n",
        "                     input_shape=sample_shape))\n",
        "    # model.add(BatchNormalization())\n",
        "    model.add(MaxPooling3D(2))\n",
        "    model.add(Dropout(0.5))\n",
        "\n",
        "    model.add(Conv3D(32, 3, activation='relu', kernel_initializer='he_uniform',\n",
        "                     kernel_regularizer=regularizers.L2(l2=1e-4)))\n",
        "    # model.add(BatchNormalization())\n",
        "    model.add(MaxPooling3D(2))\n",
        "    model.add(Dropout(0.5))\n",
        "\n",
        "    model.add(GlobalAveragePooling3D())\n",
        "\n",
        "    model.add(Dense(32, activation='relu', kernel_initializer='he_uniform',\n",
        "                    kernel_regularizer=regularizers.L2(l2=1e-4)))\n",
        "    model.add(Dropout(0.5))\n",
        "\n",
        "    model.add(Dense(16, activation='relu', kernel_initializer='he_uniform',\n",
        "                    kernel_regularizer=regularizers.L2(l2=1e-4)))\n",
        "    model.add(Dropout(0.6))\n",
        "    model.add(Dense(8, activation='relu', kernel_initializer='he_uniform'))\n",
        "    # model.add(Dense(4, activation='relu', kernel_initializer='he_uniform'))\n",
        "    # model.add(Dropout(0.3))\n",
        "    # model.add(Dense(8, activation='relu', kernel_initializer='he_uniform'))\n",
        "    # model.add(Dropout(0.3))\n",
        "    model.add(Dense(len(CLASSES_LIST), activation='softmax'))\n",
        "\n",
        "    # Display the models summary.\n",
        "    model.summary(line_length = 125)\n",
        "    # Return the constructed 3D_CNN model.\n",
        "    return model"
      ]
    },
    {
      "cell_type": "code",
      "execution_count": 11,
      "metadata": {
        "colab": {
          "base_uri": "https://localhost:8080/"
        },
        "id": "Z4_GxXZBcHlB",
        "outputId": "e608f50e-26af-46b0-a8f5-63328d90b627"
      },
      "outputs": [
        {
          "output_type": "stream",
          "name": "stdout",
          "text": [
            "Model: \"sequential\"\n",
            "_____________________________________________________________________________________________________________________________\n",
            " Layer (type)                                           Output Shape                                      Param #            \n",
            "=============================================================================================================================\n",
            " conv3d (Conv3D)                                        (None, 14, 126, 126, 32)                          2624               \n",
            "                                                                                                                             \n",
            " max_pooling3d (MaxPooling3D)                           (None, 7, 63, 63, 32)                             0                  \n",
            "                                                                                                                             \n",
            " dropout (Dropout)                                      (None, 7, 63, 63, 32)                             0                  \n",
            "                                                                                                                             \n",
            " conv3d_1 (Conv3D)                                      (None, 5, 61, 61, 32)                             27680              \n",
            "                                                                                                                             \n",
            " max_pooling3d_1 (MaxPooling3D)                         (None, 2, 30, 30, 32)                             0                  \n",
            "                                                                                                                             \n",
            " dropout_1 (Dropout)                                    (None, 2, 30, 30, 32)                             0                  \n",
            "                                                                                                                             \n",
            " global_average_pooling3d (GlobalAveragePooling3D)      (None, 32)                                        0                  \n",
            "                                                                                                                             \n",
            " dense (Dense)                                          (None, 32)                                        1056               \n",
            "                                                                                                                             \n",
            " dropout_2 (Dropout)                                    (None, 32)                                        0                  \n",
            "                                                                                                                             \n",
            " dense_1 (Dense)                                        (None, 16)                                        528                \n",
            "                                                                                                                             \n",
            " dropout_3 (Dropout)                                    (None, 16)                                        0                  \n",
            "                                                                                                                             \n",
            " dense_2 (Dense)                                        (None, 8)                                         136                \n",
            "                                                                                                                             \n",
            " dense_3 (Dense)                                        (None, 4)                                         36                 \n",
            "                                                                                                                             \n",
            "=============================================================================================================================\n",
            "Total params: 32,060\n",
            "Trainable params: 32,060\n",
            "Non-trainable params: 0\n",
            "_____________________________________________________________________________________________________________________________\n",
            "Model Created Successfully!\n"
          ]
        }
      ],
      "source": [
        "# Construct the required convlstm model.\n",
        "model = create_3D_CNN_model()\n",
        " \n",
        "# Display the success message. \n",
        "print(\"Model Created Successfully!\")"
      ]
    },
    {
      "cell_type": "code",
      "execution_count": 12,
      "metadata": {
        "colab": {
          "base_uri": "https://localhost:8080/"
        },
        "id": "MwYEkaYLoyb_",
        "outputId": "9c1b8761-b509-49a7-cd78-2dc7552ad671"
      },
      "outputs": [
        {
          "output_type": "stream",
          "name": "stdout",
          "text": [
            "Epoch 1/100\n",
            "202/202 [==============================] - 13s 56ms/step - loss: 1.2728 - accuracy: 0.4202 - val_loss: 1.1337 - val_accuracy: 0.3235\n",
            "Epoch 2/100\n",
            "202/202 [==============================] - 11s 52ms/step - loss: 1.1214 - accuracy: 0.4245 - val_loss: 1.0360 - val_accuracy: 0.3897\n",
            "Epoch 3/100\n",
            "202/202 [==============================] - 11s 52ms/step - loss: 1.0671 - accuracy: 0.4356 - val_loss: 0.9564 - val_accuracy: 0.5625\n",
            "Epoch 4/100\n",
            "202/202 [==============================] - 11s 52ms/step - loss: 0.9980 - accuracy: 0.4932 - val_loss: 0.8739 - val_accuracy: 0.5956\n",
            "Epoch 5/100\n",
            "202/202 [==============================] - 11s 52ms/step - loss: 0.9413 - accuracy: 0.5161 - val_loss: 0.8340 - val_accuracy: 0.6176\n",
            "Epoch 6/100\n",
            "202/202 [==============================] - 11s 52ms/step - loss: 0.9274 - accuracy: 0.5204 - val_loss: 0.8413 - val_accuracy: 0.5956\n",
            "Epoch 7/100\n",
            "202/202 [==============================] - 11s 52ms/step - loss: 0.9254 - accuracy: 0.5297 - val_loss: 0.8361 - val_accuracy: 0.5956\n",
            "Epoch 8/100\n",
            "202/202 [==============================] - 11s 52ms/step - loss: 0.8991 - accuracy: 0.5476 - val_loss: 0.8448 - val_accuracy: 0.6066\n",
            "Epoch 9/100\n",
            "202/202 [==============================] - 11s 52ms/step - loss: 0.8823 - accuracy: 0.5644 - val_loss: 0.8275 - val_accuracy: 0.5956\n",
            "Epoch 10/100\n",
            "202/202 [==============================] - 11s 52ms/step - loss: 0.8720 - accuracy: 0.5619 - val_loss: 0.8196 - val_accuracy: 0.5478\n",
            "Epoch 11/100\n",
            "202/202 [==============================] - 10s 52ms/step - loss: 0.8667 - accuracy: 0.5569 - val_loss: 0.8013 - val_accuracy: 0.5956\n",
            "Epoch 12/100\n",
            "202/202 [==============================] - 11s 52ms/step - loss: 0.8450 - accuracy: 0.5681 - val_loss: 0.7877 - val_accuracy: 0.5735\n",
            "Epoch 13/100\n",
            "202/202 [==============================] - 11s 52ms/step - loss: 0.8318 - accuracy: 0.5897 - val_loss: 0.7924 - val_accuracy: 0.5662\n",
            "Epoch 14/100\n",
            "202/202 [==============================] - 11s 52ms/step - loss: 0.8367 - accuracy: 0.5860 - val_loss: 0.7797 - val_accuracy: 0.5846\n",
            "Epoch 15/100\n",
            "202/202 [==============================] - 11s 52ms/step - loss: 0.8179 - accuracy: 0.5928 - val_loss: 0.8084 - val_accuracy: 0.5368\n",
            "Epoch 16/100\n",
            "202/202 [==============================] - 11s 52ms/step - loss: 0.8136 - accuracy: 0.6083 - val_loss: 0.8189 - val_accuracy: 0.5294\n",
            "Epoch 17/100\n",
            "202/202 [==============================] - 11s 52ms/step - loss: 0.8111 - accuracy: 0.6132 - val_loss: 0.7644 - val_accuracy: 0.6140\n",
            "Epoch 18/100\n",
            "202/202 [==============================] - 11s 52ms/step - loss: 0.8017 - accuracy: 0.6126 - val_loss: 0.7947 - val_accuracy: 0.5551\n",
            "Epoch 19/100\n",
            "202/202 [==============================] - 11s 52ms/step - loss: 0.7916 - accuracy: 0.6033 - val_loss: 0.7603 - val_accuracy: 0.6287\n",
            "Epoch 20/100\n",
            "202/202 [==============================] - 10s 52ms/step - loss: 0.7869 - accuracy: 0.6188 - val_loss: 0.7792 - val_accuracy: 0.5699\n",
            "Epoch 21/100\n",
            "202/202 [==============================] - 11s 52ms/step - loss: 0.7628 - accuracy: 0.6355 - val_loss: 0.8238 - val_accuracy: 0.5184\n",
            "Epoch 22/100\n",
            "202/202 [==============================] - 10s 52ms/step - loss: 0.7832 - accuracy: 0.6361 - val_loss: 0.7337 - val_accuracy: 0.6213\n",
            "Epoch 23/100\n",
            "202/202 [==============================] - 11s 52ms/step - loss: 0.7617 - accuracy: 0.6287 - val_loss: 0.7711 - val_accuracy: 0.5772\n",
            "Epoch 24/100\n",
            "202/202 [==============================] - 10s 52ms/step - loss: 0.7483 - accuracy: 0.6405 - val_loss: 0.7347 - val_accuracy: 0.6140\n",
            "Epoch 25/100\n",
            "202/202 [==============================] - 11s 52ms/step - loss: 0.7360 - accuracy: 0.6572 - val_loss: 0.7357 - val_accuracy: 0.6581\n",
            "Epoch 26/100\n",
            "202/202 [==============================] - 11s 52ms/step - loss: 0.7275 - accuracy: 0.6714 - val_loss: 0.7333 - val_accuracy: 0.6213\n",
            "Epoch 27/100\n",
            "202/202 [==============================] - 11s 52ms/step - loss: 0.7197 - accuracy: 0.6733 - val_loss: 0.7349 - val_accuracy: 0.5809\n",
            "Epoch 28/100\n",
            "202/202 [==============================] - 10s 52ms/step - loss: 0.7248 - accuracy: 0.6720 - val_loss: 0.7010 - val_accuracy: 0.6507\n",
            "Epoch 29/100\n",
            "202/202 [==============================] - 11s 52ms/step - loss: 0.7193 - accuracy: 0.6757 - val_loss: 0.7375 - val_accuracy: 0.6029\n",
            "Epoch 30/100\n",
            "202/202 [==============================] - 10s 52ms/step - loss: 0.6822 - accuracy: 0.6795 - val_loss: 0.6419 - val_accuracy: 0.6801\n",
            "Epoch 31/100\n",
            "202/202 [==============================] - 10s 52ms/step - loss: 0.6987 - accuracy: 0.6949 - val_loss: 0.6968 - val_accuracy: 0.6507\n",
            "Epoch 32/100\n",
            "202/202 [==============================] - 11s 52ms/step - loss: 0.6843 - accuracy: 0.6925 - val_loss: 0.6904 - val_accuracy: 0.6507\n",
            "Epoch 33/100\n",
            "202/202 [==============================] - 10s 52ms/step - loss: 0.6631 - accuracy: 0.6993 - val_loss: 0.6569 - val_accuracy: 0.6728\n",
            "Epoch 34/100\n",
            "202/202 [==============================] - 11s 52ms/step - loss: 0.6544 - accuracy: 0.7092 - val_loss: 0.6481 - val_accuracy: 0.6765\n",
            "Epoch 35/100\n",
            "202/202 [==============================] - 11s 52ms/step - loss: 0.6395 - accuracy: 0.7061 - val_loss: 0.6616 - val_accuracy: 0.6801\n",
            "Epoch 36/100\n",
            "202/202 [==============================] - 11s 52ms/step - loss: 0.6451 - accuracy: 0.7079 - val_loss: 0.6500 - val_accuracy: 0.6912\n",
            "Epoch 37/100\n",
            "202/202 [==============================] - 11s 52ms/step - loss: 0.6302 - accuracy: 0.7246 - val_loss: 0.6366 - val_accuracy: 0.6912\n",
            "Epoch 38/100\n",
            "202/202 [==============================] - 11s 52ms/step - loss: 0.6517 - accuracy: 0.7030 - val_loss: 0.6529 - val_accuracy: 0.6765\n",
            "Epoch 39/100\n",
            "202/202 [==============================] - 11s 52ms/step - loss: 0.6109 - accuracy: 0.7184 - val_loss: 0.6341 - val_accuracy: 0.7022\n",
            "Epoch 40/100\n",
            "202/202 [==============================] - 11s 52ms/step - loss: 0.6105 - accuracy: 0.7234 - val_loss: 0.6311 - val_accuracy: 0.6949\n",
            "Epoch 41/100\n",
            "202/202 [==============================] - 11s 52ms/step - loss: 0.6071 - accuracy: 0.7296 - val_loss: 0.6392 - val_accuracy: 0.6765\n",
            "Epoch 42/100\n",
            "202/202 [==============================] - 11s 52ms/step - loss: 0.6185 - accuracy: 0.7327 - val_loss: 0.6508 - val_accuracy: 0.6728\n",
            "Epoch 43/100\n",
            "202/202 [==============================] - 11s 52ms/step - loss: 0.5993 - accuracy: 0.7222 - val_loss: 0.6454 - val_accuracy: 0.6875\n",
            "Epoch 44/100\n",
            "202/202 [==============================] - 11s 52ms/step - loss: 0.6174 - accuracy: 0.7271 - val_loss: 0.6441 - val_accuracy: 0.6912\n",
            "Epoch 45/100\n",
            "202/202 [==============================] - 11s 52ms/step - loss: 0.5862 - accuracy: 0.7512 - val_loss: 0.6228 - val_accuracy: 0.6838\n",
            "Epoch 46/100\n",
            "202/202 [==============================] - 10s 52ms/step - loss: 0.5867 - accuracy: 0.7290 - val_loss: 0.6266 - val_accuracy: 0.6875\n",
            "Epoch 47/100\n",
            "202/202 [==============================] - 11s 52ms/step - loss: 0.5699 - accuracy: 0.7420 - val_loss: 0.6705 - val_accuracy: 0.6728\n",
            "Epoch 48/100\n",
            "202/202 [==============================] - 11s 52ms/step - loss: 0.5897 - accuracy: 0.7457 - val_loss: 0.6448 - val_accuracy: 0.7096\n",
            "Epoch 49/100\n",
            "202/202 [==============================] - 11s 52ms/step - loss: 0.5666 - accuracy: 0.7444 - val_loss: 0.6157 - val_accuracy: 0.6875\n",
            "Epoch 50/100\n",
            "202/202 [==============================] - 11s 52ms/step - loss: 0.5512 - accuracy: 0.7543 - val_loss: 0.6102 - val_accuracy: 0.6985\n",
            "Epoch 51/100\n",
            "202/202 [==============================] - 11s 52ms/step - loss: 0.5322 - accuracy: 0.7605 - val_loss: 0.6431 - val_accuracy: 0.6875\n",
            "Epoch 52/100\n",
            "202/202 [==============================] - 10s 52ms/step - loss: 0.5284 - accuracy: 0.7797 - val_loss: 0.6225 - val_accuracy: 0.7096\n",
            "Epoch 53/100\n",
            "202/202 [==============================] - 11s 52ms/step - loss: 0.5252 - accuracy: 0.7469 - val_loss: 0.5921 - val_accuracy: 0.6949\n",
            "Epoch 54/100\n",
            "202/202 [==============================] - 11s 52ms/step - loss: 0.5632 - accuracy: 0.7444 - val_loss: 0.6042 - val_accuracy: 0.6949\n",
            "Epoch 55/100\n",
            "202/202 [==============================] - 11s 52ms/step - loss: 0.5178 - accuracy: 0.7710 - val_loss: 0.6384 - val_accuracy: 0.6912\n",
            "Epoch 56/100\n",
            "202/202 [==============================] - 10s 52ms/step - loss: 0.5439 - accuracy: 0.7605 - val_loss: 0.6506 - val_accuracy: 0.6985\n",
            "Epoch 57/100\n",
            "202/202 [==============================] - 10s 52ms/step - loss: 0.5069 - accuracy: 0.7890 - val_loss: 0.6318 - val_accuracy: 0.6912\n",
            "Epoch 58/100\n",
            "202/202 [==============================] - 11s 52ms/step - loss: 0.5334 - accuracy: 0.7525 - val_loss: 0.6245 - val_accuracy: 0.7096\n",
            "Epoch 59/100\n",
            "202/202 [==============================] - 11s 52ms/step - loss: 0.5384 - accuracy: 0.7673 - val_loss: 0.6343 - val_accuracy: 0.7316\n",
            "Epoch 60/100\n",
            "202/202 [==============================] - 11s 52ms/step - loss: 0.5205 - accuracy: 0.7809 - val_loss: 0.6301 - val_accuracy: 0.7022\n",
            "Epoch 61/100\n",
            "202/202 [==============================] - 11s 52ms/step - loss: 0.5304 - accuracy: 0.7710 - val_loss: 0.6186 - val_accuracy: 0.7169\n",
            "Epoch 62/100\n",
            "202/202 [==============================] - 10s 52ms/step - loss: 0.5223 - accuracy: 0.7698 - val_loss: 0.5907 - val_accuracy: 0.7059\n",
            "Epoch 63/100\n",
            "202/202 [==============================] - 11s 52ms/step - loss: 0.5214 - accuracy: 0.7760 - val_loss: 0.6418 - val_accuracy: 0.7243\n",
            "Epoch 64/100\n",
            "202/202 [==============================] - 11s 52ms/step - loss: 0.5175 - accuracy: 0.7593 - val_loss: 0.6416 - val_accuracy: 0.7243\n",
            "Epoch 65/100\n",
            "202/202 [==============================] - 11s 52ms/step - loss: 0.4927 - accuracy: 0.7871 - val_loss: 0.6901 - val_accuracy: 0.6985\n",
            "Epoch 66/100\n",
            "202/202 [==============================] - 11s 52ms/step - loss: 0.4988 - accuracy: 0.7717 - val_loss: 0.6617 - val_accuracy: 0.7096\n",
            "Epoch 67/100\n",
            "202/202 [==============================] - 11s 52ms/step - loss: 0.4883 - accuracy: 0.7915 - val_loss: 0.8612 - val_accuracy: 0.6471\n",
            "Epoch 68/100\n",
            "202/202 [==============================] - 10s 52ms/step - loss: 0.4917 - accuracy: 0.7853 - val_loss: 0.6698 - val_accuracy: 0.7169\n",
            "Epoch 69/100\n",
            "202/202 [==============================] - 11s 52ms/step - loss: 0.5086 - accuracy: 0.7834 - val_loss: 0.6305 - val_accuracy: 0.7022\n",
            "Epoch 70/100\n",
            "202/202 [==============================] - 11s 52ms/step - loss: 0.4981 - accuracy: 0.7797 - val_loss: 0.6670 - val_accuracy: 0.6912\n",
            "Epoch 71/100\n",
            "202/202 [==============================] - 11s 52ms/step - loss: 0.4818 - accuracy: 0.7896 - val_loss: 0.7196 - val_accuracy: 0.6912\n",
            "Epoch 72/100\n",
            "202/202 [==============================] - 11s 52ms/step - loss: 0.4869 - accuracy: 0.7809 - val_loss: 0.6902 - val_accuracy: 0.7059\n",
            "Epoch 73/100\n",
            "202/202 [==============================] - 11s 52ms/step - loss: 0.4873 - accuracy: 0.7828 - val_loss: 0.6061 - val_accuracy: 0.7316\n",
            "Epoch 74/100\n",
            "202/202 [==============================] - 11s 52ms/step - loss: 0.4749 - accuracy: 0.7877 - val_loss: 0.6263 - val_accuracy: 0.7390\n",
            "Epoch 75/100\n",
            "202/202 [==============================] - 11s 52ms/step - loss: 0.4595 - accuracy: 0.8119 - val_loss: 0.6187 - val_accuracy: 0.7169\n",
            "Epoch 76/100\n",
            "202/202 [==============================] - 11s 52ms/step - loss: 0.4798 - accuracy: 0.7939 - val_loss: 0.6884 - val_accuracy: 0.7206\n",
            "Epoch 77/100\n",
            "202/202 [==============================] - 11s 52ms/step - loss: 0.4607 - accuracy: 0.7921 - val_loss: 0.6239 - val_accuracy: 0.7463\n",
            "Epoch 78/100\n",
            "202/202 [==============================] - 11s 52ms/step - loss: 0.4653 - accuracy: 0.7995 - val_loss: 0.6347 - val_accuracy: 0.7022\n",
            "Epoch 79/100\n",
            "202/202 [==============================] - 11s 52ms/step - loss: 0.4641 - accuracy: 0.8032 - val_loss: 0.5854 - val_accuracy: 0.7684\n",
            "Epoch 80/100\n",
            "202/202 [==============================] - 11s 52ms/step - loss: 0.4651 - accuracy: 0.7915 - val_loss: 0.7353 - val_accuracy: 0.6801\n",
            "Epoch 81/100\n",
            "202/202 [==============================] - 11s 52ms/step - loss: 0.4589 - accuracy: 0.7970 - val_loss: 0.6854 - val_accuracy: 0.7096\n",
            "Epoch 82/100\n",
            "202/202 [==============================] - 11s 52ms/step - loss: 0.4738 - accuracy: 0.7952 - val_loss: 0.7041 - val_accuracy: 0.7537\n",
            "Epoch 83/100\n",
            "202/202 [==============================] - 11s 52ms/step - loss: 0.4670 - accuracy: 0.7989 - val_loss: 0.6265 - val_accuracy: 0.7279\n",
            "Epoch 84/100\n",
            "202/202 [==============================] - 11s 52ms/step - loss: 0.4778 - accuracy: 0.7927 - val_loss: 0.7770 - val_accuracy: 0.6618\n",
            "Epoch 85/100\n",
            "202/202 [==============================] - 11s 52ms/step - loss: 0.4715 - accuracy: 0.8082 - val_loss: 0.6235 - val_accuracy: 0.7537\n",
            "Epoch 86/100\n",
            "202/202 [==============================] - 11s 52ms/step - loss: 0.4335 - accuracy: 0.8181 - val_loss: 0.6845 - val_accuracy: 0.7206\n",
            "Epoch 87/100\n",
            "202/202 [==============================] - 11s 52ms/step - loss: 0.4542 - accuracy: 0.8063 - val_loss: 0.7057 - val_accuracy: 0.7132\n",
            "Epoch 88/100\n",
            "202/202 [==============================] - 10s 52ms/step - loss: 0.4773 - accuracy: 0.8020 - val_loss: 0.5759 - val_accuracy: 0.7390\n",
            "Epoch 89/100\n",
            "202/202 [==============================] - 11s 52ms/step - loss: 0.4504 - accuracy: 0.8100 - val_loss: 0.6043 - val_accuracy: 0.7353\n",
            "Epoch 90/100\n",
            "202/202 [==============================] - 11s 52ms/step - loss: 0.4414 - accuracy: 0.8181 - val_loss: 0.6304 - val_accuracy: 0.7353\n",
            "Epoch 91/100\n",
            "202/202 [==============================] - 11s 52ms/step - loss: 0.4684 - accuracy: 0.8045 - val_loss: 0.6090 - val_accuracy: 0.7794\n",
            "Epoch 92/100\n",
            "202/202 [==============================] - 10s 52ms/step - loss: 0.4544 - accuracy: 0.8075 - val_loss: 0.5531 - val_accuracy: 0.7684\n",
            "Epoch 93/100\n",
            "202/202 [==============================] - 11s 52ms/step - loss: 0.4748 - accuracy: 0.8045 - val_loss: 0.6483 - val_accuracy: 0.7096\n",
            "Epoch 94/100\n",
            "202/202 [==============================] - 10s 52ms/step - loss: 0.4386 - accuracy: 0.8181 - val_loss: 0.7188 - val_accuracy: 0.7390\n",
            "Epoch 95/100\n",
            "202/202 [==============================] - 11s 52ms/step - loss: 0.4485 - accuracy: 0.8069 - val_loss: 0.6220 - val_accuracy: 0.7500\n",
            "Epoch 96/100\n",
            "202/202 [==============================] - 10s 52ms/step - loss: 0.4360 - accuracy: 0.8255 - val_loss: 0.6390 - val_accuracy: 0.7390\n",
            "Epoch 97/100\n",
            "202/202 [==============================] - 11s 52ms/step - loss: 0.4212 - accuracy: 0.8224 - val_loss: 0.6321 - val_accuracy: 0.7390\n",
            "Epoch 98/100\n",
            "202/202 [==============================] - 11s 52ms/step - loss: 0.4440 - accuracy: 0.8020 - val_loss: 0.6427 - val_accuracy: 0.7463\n",
            "Epoch 99/100\n",
            "202/202 [==============================] - 11s 52ms/step - loss: 0.4367 - accuracy: 0.8014 - val_loss: 0.6224 - val_accuracy: 0.7353\n",
            "Epoch 100/100\n",
            "202/202 [==============================] - 10s 52ms/step - loss: 0.4484 - accuracy: 0.8057 - val_loss: 0.6191 - val_accuracy: 0.7684\n"
          ]
        }
      ],
      "source": [
        "# Create an Instance of Early Stopping Callback\n",
        "early_stopping_callback = keras.callbacks.EarlyStopping(monitor = 'val_loss',\n",
        "                                                        patience = 20,\n",
        "                                                        mode = 'min',\n",
        "                                                        restore_best_weights = True)\n",
        "# Compile the model and specify loss function, optimizer and metrics values to the model\n",
        "model.compile(loss = 'categorical_crossentropy',\n",
        "              optimizer= keras.optimizers.Adam(0.001, decay=1e-4),\n",
        "              metrics=['accuracy'])\n",
        "# Start training the model.\n",
        "cnn_3d_model_training_history = model.fit(x = features_train,\n",
        "                                          y = labels_train,\n",
        "                                          epochs=100,\n",
        "                                          batch_size=8,\n",
        "                                          shuffle = True,\n",
        "                                          validation_data = (features_valid, labels_valid)),\n",
        "                                          # callbacks = [early_stopping_callback])"
      ]
    },
    {
      "cell_type": "code",
      "execution_count": 13,
      "metadata": {
        "colab": {
          "base_uri": "https://localhost:8080/"
        },
        "id": "3vimsgjjbXvL",
        "outputId": "4543701b-59d0-451e-b82a-6772a303262c"
      },
      "outputs": [
        {
          "output_type": "stream",
          "name": "stdout",
          "text": [
            "9/9 [==============================] - 1s 78ms/step - loss: 0.8930 - accuracy: 0.6875\n",
            "\n",
            "\n",
            "Train accuracy: 87.871 % || Test accuracy: 68.750 % || Val accuracy: 76.838 %\n",
            "Train loss: 0.330 || Test loss: 0.893 || Val loss: 0.619\n"
          ]
        }
      ],
      "source": [
        "model_evaluation_history = model.evaluate(features_test, labels_test)\n",
        "print('\\n')\n",
        "train_loss, train_acc = model.evaluate(features_train, labels_train, verbose=0)\n",
        "test_loss, test_acc = model.evaluate(features_test, labels_test, verbose=0)\n",
        "val_loss, val_acc = model.evaluate(features_valid, labels_valid, verbose=0)\n",
        "print(f'Train accuracy: {train_acc*100:.3f} % || Test accuracy: {test_acc*100:.3f} % || Val accuracy: {val_acc*100:.3f} %')\n",
        "print(f'Train loss: {train_loss:.3f} || Test loss: {test_loss:.3f} || Val loss: {val_loss:.3f}')"
      ]
    },
    {
      "cell_type": "code",
      "execution_count": 14,
      "metadata": {
        "id": "ivmaK9BlbnRQ"
      },
      "outputs": [],
      "source": [
        "# Get the loss and accuracy from model_evaluation_history.\n",
        "model_evaluation_loss, model_evaluation_accuracy = model_evaluation_history\n",
        " \n",
        "# Define the string date format.\n",
        "# Get the current Date and Time in a DateTime Object.\n",
        "# Convert the DateTime object to string according to the style mentioned in date_time_format string.\n",
        "date_time_format = '%Y_%m_%d__%H_%M_%S'\n",
        "current_date_time_dt = dt.datetime.now()\n",
        "current_date_time_string = dt.datetime.strftime(current_date_time_dt, date_time_format)\n",
        " \n",
        "# Define a useful name for our model to make it easy for us while navigating through multiple saved models.\n",
        "model_file_name = f'3D_CNN_model___Date_Time_{current_date_time_string}___Loss_{model_evaluation_loss}___Accuracy_{model_evaluation_accuracy}.h5'\n",
        "# Change dir\n",
        "gdrive_path = '/content/gdrive' + '/My Drive/247/Saved_models/'\n",
        "os.chdir(gdrive_path)\n",
        "# Create a floder for the model files\n",
        "!mkdir -p cnn_3d_{current_date_time_string}\n",
        "# Save your Model.\n",
        "model.save('convlstm_' + str(current_date_time_string) + '/' + model_file_name)\n",
        "# Save model weights\n",
        "model.save_weights('convlstm_' + str(current_date_time_string) + '/' + 'weights')"
      ]
    },
    {
      "cell_type": "code",
      "execution_count": 15,
      "metadata": {
        "id": "OwU8TwPrbsKB"
      },
      "outputs": [],
      "source": [
        "def plot_metric(model_training_history, metric_name_1, metric_name_2, plot_name):\n",
        "    '''\n",
        "    This function will plot the metrics passed to it in a graph.\n",
        "    Args:\n",
        "        model_training_history: A history object containing a record of training and validation \n",
        "                                loss values and metrics values at successive epochs\n",
        "        metric_name_1:          The name of the first metric that needs to be plotted in the graph.\n",
        "        metric_name_2:          The name of the second metric that needs to be plotted in the graph.\n",
        "        plot_name:              The title of the graph.\n",
        "    '''\n",
        "    \n",
        "    # Get metric values using metric names as identifiers.\n",
        "    metric_value_1 = model_training_history[0].history[metric_name_1]\n",
        "    metric_value_2 = model_training_history[0].history[metric_name_2]\n",
        "    \n",
        "    # Construct a range object which will be used as x-axis (horizontal plane) of the graph.\n",
        "    epochs = range(len(metric_value_1))\n",
        "\n",
        "    # Plot the Graph.\n",
        "    plt.plot(epochs, metric_value_1, 'blue', label = metric_name_1)\n",
        "    plt.plot(epochs, metric_value_2, 'red', label = metric_name_2)\n",
        "\n",
        "    # Add title to the plot.\n",
        "    plt.title(str(plot_name))\n",
        "\n",
        "    # Add legend to the plot.\n",
        "    plt.legend()"
      ]
    },
    {
      "cell_type": "code",
      "execution_count": 16,
      "metadata": {
        "colab": {
          "base_uri": "https://localhost:8080/",
          "height": 281
        },
        "id": "cvKY05ncbwof",
        "outputId": "5585034d-819c-43cd-c8a9-6cdf2abcf5b9"
      },
      "outputs": [
        {
          "output_type": "display_data",
          "data": {
            "text/plain": [
              "<Figure size 432x288 with 1 Axes>"
            ],
            "image/png": "[encoded data removed]"
          },
          "metadata": {
            "needs_background": "light"
          }
        }
      ],
      "source": [
        "plot_metric(cnn_3d_model_training_history, 'loss', 'val_loss', 'Total Loss vs Total Validation Loss')"
      ]
    },
    {
      "cell_type": "code",
      "execution_count": 17,
      "metadata": {
        "colab": {
          "base_uri": "https://localhost:8080/",
          "height": 281
        },
        "id": "o1iaaDHBb5i0",
        "outputId": "f3616ae9-656e-4a45-b47f-e2ce2c53a595"
      },
      "outputs": [
        {
          "output_type": "display_data",
          "data": {
            "text/plain": [
              "<Figure size 432x288 with 1 Axes>"
            ],
            "image/png": "[encoded data removed]"
          },
          "metadata": {
            "needs_background": "light"
          }
        }
      ],
      "source": [
        "plot_metric(cnn_3d_model_training_history, 'accuracy', 'val_accuracy', 'Total Accuracy vs Total Validation Accuracy') "
      ]
    }
  ],
  "metadata": {
    "accelerator": "GPU",
    "colab": {
      "collapsed_sections": [],
      "machine_shape": "hm",
      "name": "3D_CNN.ipynb",
      "provenance": [],
      "authorship_tag": "ABX9TyPUnq/eFxgq2tUdpgS+DbtF",
      "include_colab_link": true
    },
    "kernelspec": {
      "display_name": "Python 3",
      "name": "python3"
    },
    "language_info": {
      "name": "python"
    }
  },
  "nbformat": 4,
  "nbformat_minor": 0
}