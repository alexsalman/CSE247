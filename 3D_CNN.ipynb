{
  "nbformat": 4,
  "nbformat_minor": 0,
  "metadata": {
    "colab": {
      "name": "3D_CNN.ipynb",
      "provenance": [],
      "collapsed_sections": [],
      "machine_shape": "hm",
      "authorship_tag": "ABX9TyNeualm35zACsKigCvAPTj+",
      "include_colab_link": true
    },
    "kernelspec": {
      "name": "python3",
      "display_name": "Python 3"
    },
    "language_info": {
      "name": "python"
    },
    "accelerator": "GPU"
  },
  "cells": [
    {
      "cell_type": "markdown",
      "metadata": {
        "id": "view-in-github",
        "colab_type": "text"
      },
      "source": [
        "<a href=\"https://colab.research.google.com/github/alexsalman/CSE247/blob/main/3D_CNN.ipynb\" target=\"_parent\"><img src=\"https://colab.research.google.com/assets/colab-badge.svg\" alt=\"Open In Colab\"/></a>"
      ]
    },
    {
      "cell_type": "markdown",
      "source": [
        "####**3D Convolutional Neural Network**\n",
        "######*I am using 3D Convolutional Neural Network to extract the temporal and spatial information which are merged slowly throughout the whole network.*"
      ],
      "metadata": {
        "id": "Kk7I8NauauE3"
      }
    },
    {
      "cell_type": "code",
      "execution_count": 1,
      "metadata": {
        "id": "M8ibtd5HKtZk",
        "colab": {
          "base_uri": "https://localhost:8080/"
        },
        "outputId": "b1a3d91a-cb6b-4125-a2df-377d957b6d20"
      },
      "outputs": [
        {
          "output_type": "stream",
          "name": "stdout",
          "text": [
            "2.8.0\n"
          ]
        }
      ],
      "source": [
        "# required libraries\n",
        "import os\n",
        "import cv2\n",
        "import math\n",
        "import random\n",
        "import numpy as np\n",
        "import datetime as dt\n",
        "from collections import deque\n",
        "import matplotlib.pyplot as plt\n",
        "from google.colab import drive\n",
        "from sklearn.model_selection import train_test_split\n",
        "import tensorflow as tf\n",
        "from tensorflow import keras\n",
        "from PIL import Image\n",
        "%matplotlib inline\n",
        "print(tf.version.VERSION)\n",
        "# https://bleedai.com/human-activity-recognition-using-tensorflow-cnn-lstm/"
      ]
    },
    {
      "cell_type": "code",
      "source": [
        "# set Numpy, Python, and Tensorflow seeds to get consistent results on every execution\n",
        "seed_constant = 27\n",
        "np.random.seed(seed_constant)\n",
        "random.seed(seed_constant)\n",
        "tf.random.set_seed(seed_constant)"
      ],
      "metadata": {
        "id": "iffdFOf1CEAN"
      },
      "execution_count": 2,
      "outputs": []
    },
    {
      "cell_type": "code",
      "source": [
        "# mount dataset from google drive\n",
        "drive.mount('/content/gdrive/', force_remount=True)\n",
        "gdrive_path = '/content/gdrive' + '/My Drive/247/'\n",
        "os.chdir(gdrive_path)\n",
        "os.getcwd()"
      ],
      "metadata": {
        "colab": {
          "base_uri": "https://localhost:8080/",
          "height": 53
        },
        "id": "mcLh22LiOHyn",
        "outputId": "9343ffde-cd3d-4e0e-85ce-8e947878743b"
      },
      "execution_count": 3,
      "outputs": [
        {
          "output_type": "stream",
          "name": "stdout",
          "text": [
            "Mounted at /content/gdrive/\n"
          ]
        },
        {
          "output_type": "execute_result",
          "data": {
            "text/plain": [
              "'/content/gdrive/My Drive/247'"
            ],
            "application/vnd.google.colaboratory.intrinsic+json": {
              "type": "string"
            }
          },
          "metadata": {},
          "execution_count": 3
        }
      ]
    },
    {
      "cell_type": "code",
      "source": [
        "# frame dimention\n",
        "IMAGE_HEIGHT, IMAGE_WIDTH = 16, 16\n",
        "# frame number for each video (depth)\n",
        "SEQUENCE_LENGTH = 16\n",
        "# video dir path\n",
        "DATASET_DIR = gdrive_path + 'Cropped_videos'\n",
        "# labels of classes\n",
        "CLASSES_LIST = ['hemostasis', 'inflammatory', 'proliferative', 'maturation']"
      ],
      "metadata": {
        "id": "oeDK8SzumZ1Q"
      },
      "execution_count": 4,
      "outputs": []
    },
    {
      "cell_type": "code",
      "source": [
        "# image cropping\n",
        "def crop_center_square(frame):\n",
        "    y, x = frame.shape[0:2]\n",
        "    min_dim = min(y, x)\n",
        "    start_x = (x // 2) - (min_dim // 2)\n",
        "    start_y = (y // 2) - (min_dim // 2)\n",
        "    return frame[start_y:start_y+min_dim,start_x:start_x+min_dim]"
      ],
      "metadata": {
        "id": "HUTeIqzpZc9J"
      },
      "execution_count": 5,
      "outputs": []
    },
    {
      "cell_type": "code",
      "source": [
        "# https://medium.com/analytics-vidhya/video-preprocessor-and-augmentation-for-deep-learning-tasks-12dd3fcce868\n",
        "def load_video(path, resize=(16, 16)):\n",
        "    video_reader = cv2.VideoCapture(path)\n",
        "    frames = []\n",
        "    try:\n",
        "        while True:\n",
        "            ret, frame = video_reader.read()\n",
        "            if not ret:\n",
        "                  break\n",
        "            frame = crop_center_square(frame)\n",
        "            frame = cv2.resize(frame, resize)\n",
        "            frame = frame[:, :, [2, 1, 0]]\n",
        "            black_frame = frame\n",
        "            frames.append(frame)\n",
        "    finally:\n",
        "        video_reader.release()\n",
        "    return np.array(frames) / 255.0"
      ],
      "metadata": {
        "id": "QRDbHG0TZkYJ"
      },
      "execution_count": 6,
      "outputs": []
    },
    {
      "cell_type": "code",
      "source": [
        "def create_dataset(state):\n",
        "    # Declared Empty Lists to store the features, labels and video file path values.\n",
        "    features = []\n",
        "    labels = []\n",
        "    video_files_paths = []\n",
        "    # Iterating through all the classes mentioned in the classes list\n",
        "    for class_index, class_name in enumerate(CLASSES_LIST):\n",
        "        # Display the name of the class whose data is being extracted.\n",
        "        print(f'Extracting Data of Class: {class_name} {state}')\n",
        "        # Get the list of video files present in the specific class name directory.\n",
        "        files_list = os.listdir(os.path.join(DATASET_DIR, class_name))\n",
        "        # Iterate through all the files present in the files list.\n",
        "        for file_name in files_list:\n",
        "            # Get the complete video path.\n",
        "            video_file_path = os.path.join(DATASET_DIR, class_name, file_name)\n",
        "            # create testing data\n",
        "            if state == 'test':\n",
        "                # get the mouse number\n",
        "                mouse_number = int(video_file_path.split(' ')[2].split('_')[1].split('-')[1])\n",
        "                # get the mouse side (L or R)\n",
        "                mouse_side = video_file_path.split(' ')[2].split('_')[1].split('-')[2]\n",
        "                if mouse_number == 4 and mouse_side == 'L':\n",
        "                    frames = load_video(video_file_path)\n",
        "                    features.append(frames)\n",
        "                    labels.append(class_index)\n",
        "                    video_files_paths.append(video_file_path)\n",
        "            # create validation data\n",
        "            elif state == 'valid':\n",
        "                # get the mouse number\n",
        "                mouse_number = int(video_file_path.split(' ')[2].split('_')[1].split('-')[1])\n",
        "                # get the mouse side (L or R)\n",
        "                mouse_side = video_file_path.split(' ')[2].split('_')[1].split('-')[2]\n",
        "                if mouse_number == 4 and mouse_side == 'R':\n",
        "                    frames = load_video(video_file_path)\n",
        "                    features.append(frames)\n",
        "                    labels.append(class_index)\n",
        "                    video_files_paths.append(video_file_path)\n",
        "            # create training data\n",
        "            else:\n",
        "                # get the mouse number\n",
        "                mouse_number = int(video_file_path.split(' ')[2].split('_')[1].split('-')[1])\n",
        "                if mouse_number != 4:\n",
        "                    frames = load_video(video_file_path)\n",
        "                    features.append(frames)\n",
        "                    labels.append(class_index)\n",
        "                    video_files_paths.append(video_file_path)\n",
        "    # Converting the list to numpy arrays\n",
        "    features = np.asarray(features)\n",
        "    # print(features)\n",
        "    labels = np.array(labels)\n",
        "    # Return the frames, class index, and video file path.\n",
        "    return features, labels, video_files_paths"
      ],
      "metadata": {
        "id": "ljUWHW6Jqzu-"
      },
      "execution_count": 7,
      "outputs": []
    },
    {
      "cell_type": "code",
      "source": [
        "# 6 mice for training, 2 mice for test and validation (one wound on each mice for test one for validation)\n",
        "features_train, labels_train, video_files_paths_train = create_dataset('train')\n",
        "features_test, labels_test, video_files_paths_test = create_dataset('test')\n",
        "features_valid, labels_valid, video_files_paths_valid = create_dataset('valid')"
      ],
      "metadata": {
        "colab": {
          "base_uri": "https://localhost:8080/"
        },
        "id": "a8rpanz9rASe",
        "outputId": "7c416cc1-95b3-419d-9b5c-101dbbd41ebd"
      },
      "execution_count": 8,
      "outputs": [
        {
          "output_type": "stream",
          "name": "stdout",
          "text": [
            "Extracting Data of Class: hemostasis train\n",
            "Extracting Data of Class: inflammatory train\n",
            "Extracting Data of Class: proliferative train\n",
            "Extracting Data of Class: maturation train\n",
            "Extracting Data of Class: hemostasis test\n",
            "Extracting Data of Class: inflammatory test\n",
            "Extracting Data of Class: proliferative test\n",
            "Extracting Data of Class: maturation test\n",
            "Extracting Data of Class: hemostasis valid\n",
            "Extracting Data of Class: inflammatory valid\n",
            "Extracting Data of Class: proliferative valid\n",
            "Extracting Data of Class: maturation valid\n"
          ]
        }
      ]
    },
    {
      "cell_type": "code",
      "source": [
        "# one_hot_encoded_labels\n",
        "labels_train = keras.utils.to_categorical(labels_train)\n",
        "labels_test = keras.utils.to_categorical(labels_test)\n",
        "labels_valid = keras.utils.to_categorical(labels_valid)"
      ],
      "metadata": {
        "id": "dtJkK4qTAulC"
      },
      "execution_count": 9,
      "outputs": []
    },
    {
      "cell_type": "code",
      "source": [
        "def create_3D_CNN_model():\n",
        "    ## input layer\n",
        "    input_layer = keras.layers.Input((16, 16, 16, 3))\n",
        "\n",
        "    ## convolutional layers\n",
        "    conv_layer1 = keras.layers.Conv3D(filters=8, kernel_size=(3, 3, 3), activation='relu')(input_layer)\n",
        "    conv_layer2 = keras.layers.Conv3D(filters=16, kernel_size=(3, 3, 3), activation='relu')(conv_layer1)\n",
        "\n",
        "    ## add max pooling to obtain the most imformatic features\n",
        "    pooling_layer1 = keras.layers.MaxPool3D(pool_size=(2, 2, 2))(conv_layer2)\n",
        "\n",
        "    conv_layer3 = keras.layers.Conv3D(filters=32, kernel_size=(3, 3, 3), activation='relu')(pooling_layer1)\n",
        "    conv_layer4 = keras.layers.Conv3D(filters=64, kernel_size=(3, 3, 3), activation='relu')(conv_layer3)\n",
        "    pooling_layer2 = keras.layers.MaxPool3D(pool_size=(2, 2, 2))(conv_layer4)\n",
        "\n",
        "    ## perform batch normalization on the convolution outputs before feeding it to MLP architecture\n",
        "    pooling_layer2 = keras.layers.BatchNormalization()(pooling_layer2)\n",
        "    flatten_layer = keras.layers.Flatten()(pooling_layer2)\n",
        "\n",
        "    ## create an MLP architecture with dense layers : 4096 -> 512 -> 10\n",
        "    ## add dropouts to avoid overfitting / perform regularization\n",
        "    # dense_layer1 = keras.layers.Dense(units=2048, activation='relu')(flatten_layer)\n",
        "    # dense_layer1 = keras.layers.Dropout(0.4)(dense_layer1)\n",
        "    dense_layer2 = keras.layers.Dense(units=512, activation='relu')(flatten_layer)\n",
        "    dense_layer2 = keras.layers.Dropout(0.4)(dense_layer2)\n",
        "    output_layer = keras.layers.Dense(units=4, activation='softmax')(dense_layer2)\n",
        "\n",
        "    ## define the model with input layer and output layer\n",
        "    model = keras.models.Model(inputs=input_layer, outputs=output_layer)\n",
        "    # Display the models summary.\n",
        "    model.summary()\n",
        "    # Return the constructed 3D_CNN model.\n",
        "    return model"
      ],
      "metadata": {
        "id": "N-9ykP4ig7IW"
      },
      "execution_count": 10,
      "outputs": []
    },
    {
      "cell_type": "code",
      "source": [
        "# Construct the required convlstm model.\n",
        "model = create_3D_CNN_model()\n",
        " \n",
        "# Display the success message. \n",
        "print(\"Model Created Successfully!\")"
      ],
      "metadata": {
        "colab": {
          "base_uri": "https://localhost:8080/"
        },
        "id": "Z4_GxXZBcHlB",
        "outputId": "97001168-0402-41f3-bed9-4e14a619fd57"
      },
      "execution_count": 11,
      "outputs": [
        {
          "output_type": "stream",
          "name": "stdout",
          "text": [
            "Model: \"model\"\n",
            "_________________________________________________________________\n",
            " Layer (type)                Output Shape              Param #   \n",
            "=================================================================\n",
            " input_1 (InputLayer)        [(None, 16, 16, 16, 3)]   0         \n",
            "                                                                 \n",
            " conv3d (Conv3D)             (None, 14, 14, 14, 8)     656       \n",
            "                                                                 \n",
            " conv3d_1 (Conv3D)           (None, 12, 12, 12, 16)    3472      \n",
            "                                                                 \n",
            " max_pooling3d (MaxPooling3D  (None, 6, 6, 6, 16)      0         \n",
            " )                                                               \n",
            "                                                                 \n",
            " conv3d_2 (Conv3D)           (None, 4, 4, 4, 32)       13856     \n",
            "                                                                 \n",
            " conv3d_3 (Conv3D)           (None, 2, 2, 2, 64)       55360     \n",
            "                                                                 \n",
            " max_pooling3d_1 (MaxPooling  (None, 1, 1, 1, 64)      0         \n",
            " 3D)                                                             \n",
            "                                                                 \n",
            " batch_normalization (BatchN  (None, 1, 1, 1, 64)      256       \n",
            " ormalization)                                                   \n",
            "                                                                 \n",
            " flatten (Flatten)           (None, 64)                0         \n",
            "                                                                 \n",
            " dense (Dense)               (None, 512)               33280     \n",
            "                                                                 \n",
            " dropout (Dropout)           (None, 512)               0         \n",
            "                                                                 \n",
            " dense_1 (Dense)             (None, 4)                 2052      \n",
            "                                                                 \n",
            "=================================================================\n",
            "Total params: 108,932\n",
            "Trainable params: 108,804\n",
            "Non-trainable params: 128\n",
            "_________________________________________________________________\n",
            "Model Created Successfully!\n"
          ]
        }
      ]
    },
    {
      "cell_type": "code",
      "source": [
        "# Create an Instance of Early Stopping Callback\n",
        "early_stopping_callback = keras.callbacks.EarlyStopping(monitor = 'val_loss',\n",
        "                                                        patience = 10,\n",
        "                                                        mode = 'min',\n",
        "                                                        restore_best_weights = True)\n",
        "# Compile the model and specify loss function, optimizer and metrics values to the model\n",
        "model.compile(loss = 'categorical_crossentropy',\n",
        "              optimizer = 'Adam',\n",
        "              metrics=['accuracy'])\n",
        "# Start training the model.\n",
        "cnn_3d_model_training_history = model.fit(x = features_train,\n",
        "                                          y = labels_train,\n",
        "                                          epochs=50,\n",
        "                                          batch_size=4,\n",
        "                                          shuffle = True,\n",
        "                                          validation_data = (features_valid, labels_valid),\n",
        "                                          callbacks = [early_stopping_callback])"
      ],
      "metadata": {
        "colab": {
          "base_uri": "https://localhost:8080/"
        },
        "id": "MwYEkaYLoyb_",
        "outputId": "f7b2c63d-a3e3-4594-83e2-9885b11e105a"
      },
      "execution_count": 12,
      "outputs": [
        {
          "output_type": "stream",
          "name": "stdout",
          "text": [
            "Epoch 1/50\n",
            "404/404 [==============================] - 12s 6ms/step - loss: 0.9209 - accuracy: 0.5569 - val_loss: 1.4156 - val_accuracy: 0.5294\n",
            "Epoch 2/50\n",
            "404/404 [==============================] - 2s 5ms/step - loss: 0.8053 - accuracy: 0.6256 - val_loss: 0.9592 - val_accuracy: 0.5846\n",
            "Epoch 3/50\n",
            "404/404 [==============================] - 2s 5ms/step - loss: 0.7532 - accuracy: 0.6454 - val_loss: 0.8545 - val_accuracy: 0.6066\n",
            "Epoch 4/50\n",
            "404/404 [==============================] - 2s 5ms/step - loss: 0.7367 - accuracy: 0.6702 - val_loss: 0.8776 - val_accuracy: 0.6250\n",
            "Epoch 5/50\n",
            "404/404 [==============================] - 2s 5ms/step - loss: 0.6790 - accuracy: 0.6986 - val_loss: 1.0026 - val_accuracy: 0.6103\n",
            "Epoch 6/50\n",
            "404/404 [==============================] - 2s 5ms/step - loss: 0.6397 - accuracy: 0.7265 - val_loss: 0.7979 - val_accuracy: 0.7059\n",
            "Epoch 7/50\n",
            "404/404 [==============================] - 2s 5ms/step - loss: 0.6133 - accuracy: 0.7215 - val_loss: 0.9715 - val_accuracy: 0.6250\n",
            "Epoch 8/50\n",
            "404/404 [==============================] - 2s 5ms/step - loss: 0.6384 - accuracy: 0.7277 - val_loss: 0.8462 - val_accuracy: 0.6691\n",
            "Epoch 9/50\n",
            "404/404 [==============================] - 2s 5ms/step - loss: 0.6112 - accuracy: 0.7296 - val_loss: 0.8285 - val_accuracy: 0.6287\n",
            "Epoch 10/50\n",
            "404/404 [==============================] - 2s 5ms/step - loss: 0.5605 - accuracy: 0.7649 - val_loss: 0.8434 - val_accuracy: 0.7096\n",
            "Epoch 11/50\n",
            "404/404 [==============================] - 2s 5ms/step - loss: 0.6037 - accuracy: 0.7389 - val_loss: 0.7805 - val_accuracy: 0.6654\n",
            "Epoch 12/50\n",
            "404/404 [==============================] - 2s 5ms/step - loss: 0.5475 - accuracy: 0.7698 - val_loss: 0.8562 - val_accuracy: 0.6765\n",
            "Epoch 13/50\n",
            "404/404 [==============================] - 2s 5ms/step - loss: 0.5225 - accuracy: 0.7735 - val_loss: 0.7703 - val_accuracy: 0.6801\n",
            "Epoch 14/50\n",
            "404/404 [==============================] - 2s 5ms/step - loss: 0.5283 - accuracy: 0.7766 - val_loss: 1.0674 - val_accuracy: 0.7132\n",
            "Epoch 15/50\n",
            "404/404 [==============================] - 2s 5ms/step - loss: 0.5498 - accuracy: 0.7611 - val_loss: 1.1456 - val_accuracy: 0.6471\n",
            "Epoch 16/50\n",
            "404/404 [==============================] - 2s 5ms/step - loss: 0.5167 - accuracy: 0.7785 - val_loss: 0.8050 - val_accuracy: 0.7316\n",
            "Epoch 17/50\n",
            "404/404 [==============================] - 2s 5ms/step - loss: 0.5039 - accuracy: 0.7778 - val_loss: 0.8233 - val_accuracy: 0.7463\n",
            "Epoch 18/50\n",
            "404/404 [==============================] - 2s 5ms/step - loss: 0.5160 - accuracy: 0.7847 - val_loss: 0.7655 - val_accuracy: 0.7096\n",
            "Epoch 19/50\n",
            "404/404 [==============================] - 2s 5ms/step - loss: 0.4943 - accuracy: 0.7927 - val_loss: 1.0291 - val_accuracy: 0.7169\n",
            "Epoch 20/50\n",
            "404/404 [==============================] - 2s 5ms/step - loss: 0.4435 - accuracy: 0.8113 - val_loss: 0.8981 - val_accuracy: 0.6581\n",
            "Epoch 21/50\n",
            "404/404 [==============================] - 2s 5ms/step - loss: 0.4849 - accuracy: 0.7871 - val_loss: 0.8317 - val_accuracy: 0.7132\n",
            "Epoch 22/50\n",
            "404/404 [==============================] - 2s 5ms/step - loss: 0.4450 - accuracy: 0.7995 - val_loss: 0.7951 - val_accuracy: 0.7647\n",
            "Epoch 23/50\n",
            "404/404 [==============================] - 2s 5ms/step - loss: 0.4080 - accuracy: 0.8162 - val_loss: 1.0272 - val_accuracy: 0.6654\n",
            "Epoch 24/50\n",
            "404/404 [==============================] - 2s 5ms/step - loss: 0.4417 - accuracy: 0.8057 - val_loss: 0.7157 - val_accuracy: 0.7500\n",
            "Epoch 25/50\n",
            "404/404 [==============================] - 2s 5ms/step - loss: 0.4164 - accuracy: 0.8168 - val_loss: 0.7619 - val_accuracy: 0.7868\n",
            "Epoch 26/50\n",
            "404/404 [==============================] - 2s 5ms/step - loss: 0.4425 - accuracy: 0.8038 - val_loss: 0.8478 - val_accuracy: 0.7279\n",
            "Epoch 27/50\n",
            "404/404 [==============================] - 2s 5ms/step - loss: 0.4084 - accuracy: 0.8137 - val_loss: 0.7939 - val_accuracy: 0.6691\n",
            "Epoch 28/50\n",
            "404/404 [==============================] - 2s 5ms/step - loss: 0.4521 - accuracy: 0.8150 - val_loss: 0.8180 - val_accuracy: 0.6985\n",
            "Epoch 29/50\n",
            "404/404 [==============================] - 2s 5ms/step - loss: 0.4216 - accuracy: 0.8057 - val_loss: 0.9097 - val_accuracy: 0.7243\n",
            "Epoch 30/50\n",
            "404/404 [==============================] - 2s 5ms/step - loss: 0.4412 - accuracy: 0.8014 - val_loss: 0.9196 - val_accuracy: 0.7169\n",
            "Epoch 31/50\n",
            "404/404 [==============================] - 2s 5ms/step - loss: 0.3952 - accuracy: 0.8218 - val_loss: 0.8456 - val_accuracy: 0.7610\n",
            "Epoch 32/50\n",
            "404/404 [==============================] - 2s 5ms/step - loss: 0.4890 - accuracy: 0.7933 - val_loss: 0.8690 - val_accuracy: 0.7132\n",
            "Epoch 33/50\n",
            "404/404 [==============================] - 2s 5ms/step - loss: 0.4325 - accuracy: 0.8162 - val_loss: 0.8219 - val_accuracy: 0.7500\n",
            "Epoch 34/50\n",
            "404/404 [==============================] - 2s 5ms/step - loss: 0.4059 - accuracy: 0.8286 - val_loss: 0.8758 - val_accuracy: 0.7353\n"
          ]
        }
      ]
    },
    {
      "cell_type": "code",
      "source": [
        "model_evaluation_history = model.evaluate(features_test, labels_test)"
      ],
      "metadata": {
        "colab": {
          "base_uri": "https://localhost:8080/"
        },
        "id": "3vimsgjjbXvL",
        "outputId": "8dc81c04-290d-445d-857d-e07a426eb181"
      },
      "execution_count": 13,
      "outputs": [
        {
          "output_type": "stream",
          "name": "stdout",
          "text": [
            "9/9 [==============================] - 0s 5ms/step - loss: 1.4454 - accuracy: 0.6471\n"
          ]
        }
      ]
    },
    {
      "cell_type": "code",
      "source": [
        "# Get the loss and accuracy from model_evaluation_history.\n",
        "model_evaluation_loss, model_evaluation_accuracy = model_evaluation_history\n",
        " \n",
        "# Define the string date format.\n",
        "# Get the current Date and Time in a DateTime Object.\n",
        "# Convert the DateTime object to string according to the style mentioned in date_time_format string.\n",
        "date_time_format = '%Y_%m_%d__%H_%M_%S'\n",
        "current_date_time_dt = dt.datetime.now()\n",
        "current_date_time_string = dt.datetime.strftime(current_date_time_dt, date_time_format)\n",
        " \n",
        "# Define a useful name for our model to make it easy for us while navigating through multiple saved models.\n",
        "model_file_name = f'3D_CNN_model___Date_Time_{current_date_time_string}___Loss_{model_evaluation_loss}___Accuracy_{model_evaluation_accuracy}.h5'\n",
        " \n",
        "# Change dir\n",
        "gdrive_path = '/content/gdrive' + '/My Drive/247/Saved_models/'\n",
        "os.chdir(gdrive_path)\n",
        "# Create a floder for the model files\n",
        "!mkdir -p convlstm_{current_date_time_string}\n",
        "# Save your Model.\n",
        "model.save('3D_CNN' + str(current_date_time_string) + '/' + model_file_name)\n",
        "# Save model weights\n",
        "model.save_weights('3D_CNN' + str(current_date_time_string) + '/' + 'weights')"
      ],
      "metadata": {
        "id": "ivmaK9BlbnRQ"
      },
      "execution_count": 15,
      "outputs": []
    },
    {
      "cell_type": "code",
      "source": [
        "def plot_metric(model_training_history, metric_name_1, metric_name_2, plot_name):\n",
        "    '''\n",
        "    This function will plot the metrics passed to it in a graph.\n",
        "    Args:\n",
        "        model_training_history: A history object containing a record of training and validation \n",
        "                                loss values and metrics values at successive epochs\n",
        "        metric_name_1:          The name of the first metric that needs to be plotted in the graph.\n",
        "        metric_name_2:          The name of the second metric that needs to be plotted in the graph.\n",
        "        plot_name:              The title of the graph.\n",
        "    '''\n",
        "    \n",
        "    # Get metric values using metric names as identifiers.\n",
        "    metric_value_1 = model_training_history.history[metric_name_1]\n",
        "    metric_value_2 = model_training_history.history[metric_name_2]\n",
        "    \n",
        "    # Construct a range object which will be used as x-axis (horizontal plane) of the graph.\n",
        "    epochs = range(len(metric_value_1))\n",
        "\n",
        "    # Plot the Graph.\n",
        "    plt.plot(epochs, metric_value_1, 'blue', label = metric_name_1)\n",
        "    plt.plot(epochs, metric_value_2, 'red', label = metric_name_2)\n",
        "\n",
        "    # Add title to the plot.\n",
        "    plt.title(str(plot_name))\n",
        "\n",
        "    # Add legend to the plot.\n",
        "    plt.legend()"
      ],
      "metadata": {
        "id": "OwU8TwPrbsKB"
      },
      "execution_count": 16,
      "outputs": []
    },
    {
      "cell_type": "code",
      "source": [
        "plot_metric(cnn_3d_model_training_history, 'loss', 'val_loss', 'Total Loss vs Total Validation Loss')"
      ],
      "metadata": {
        "colab": {
          "base_uri": "https://localhost:8080/",
          "height": 281
        },
        "id": "cvKY05ncbwof",
        "outputId": "80f8d102-92a0-47c9-dd52-bcbfbac2137a"
      },
      "execution_count": 17,
      "outputs": [
        {
          "output_type": "display_data",
          "data": {
            "text/plain": [
              "<Figure size 432x288 with 1 Axes>"
            ],
            "image/png": "[encoded data removed]"
          },
          "metadata": {
            "needs_background": "light"
          }
        }
      ]
    },
    {
      "cell_type": "code",
      "source": [
        "plot_metric(cnn_3d_model_training_history, 'accuracy', 'val_accuracy', 'Total Accuracy vs Total Validation Accuracy') "
      ],
      "metadata": {
        "colab": {
          "base_uri": "https://localhost:8080/",
          "height": 281
        },
        "id": "o1iaaDHBb5i0",
        "outputId": "2baf2e47-338f-4064-aabb-6b783061031e"
      },
      "execution_count": 18,
      "outputs": [
        {
          "output_type": "display_data",
          "data": {
            "text/plain": [
              "<Figure size 432x288 with 1 Axes>"
            ],
            "image/png": "[encoded data removed]"
          },
          "metadata": {
            "needs_background": "light"
          }
        }
      ]
    }
  ]
}