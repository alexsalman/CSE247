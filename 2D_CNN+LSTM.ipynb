{
  "cells": [
    {
      "cell_type": "markdown",
      "metadata": {
        "id": "view-in-github",
        "colab_type": "text"
      },
      "source": [
        "<a href=\"https://colab.research.google.com/github/alexsalman/CSE247/blob/main/2D_CNN%2BLSTM.ipynb\" target=\"_parent\"><img src=\"https://colab.research.google.com/assets/colab-badge.svg\" alt=\"Open In Colab\"/></a>"
      ]
    },
    {
      "cell_type": "markdown",
      "metadata": {
        "id": "Fk8TLrPiv-ab"
      },
      "source": [
        "####**Convolutional Neural Network + Long Short Term Memory**\n",
        "######*I am using a Convolution Neural Network (CNN) + Long Short Term Memory (LSTM) Network to extract general representation while utilizing the Spatial-temporal aspect of the videos.*"
      ]
    },
    {
      "cell_type": "code",
      "execution_count": 1,
      "metadata": {
        "colab": {
          "base_uri": "https://localhost:8080/"
        },
        "id": "M8ibtd5HKtZk",
        "outputId": "aca40df5-fe61-461e-e3fc-412906013b21"
      },
      "outputs": [
        {
          "output_type": "stream",
          "name": "stdout",
          "text": [
            "2.8.0\n"
          ]
        }
      ],
      "source": [
        "# required libraries\n",
        "import os\n",
        "import cv2\n",
        "import math\n",
        "import random\n",
        "import numpy as np\n",
        "import datetime as dt\n",
        "from collections import deque\n",
        "import matplotlib.pyplot as plt\n",
        "from google.colab import drive\n",
        "from sklearn.model_selection import train_test_split\n",
        "import tensorflow as tf\n",
        "from tensorflow import keras\n",
        "from keras.models import Sequential\n",
        "from keras.layers import Dense, Flatten, Conv3D, MaxPooling3D, Dropout, BatchNormalization, ConvLSTM2D\n",
        "from keras.layers import Reshape, Conv2D, TimeDistributed, MaxPooling2D, Activation, GlobalAveragePooling2D\n",
        "from keras.layers.recurrent import LSTM\n",
        "from keras import regularizers\n",
        "from PIL import Image\n",
        "%matplotlib inline\n",
        "print(tf.version.VERSION)\n",
        "# https://bleedai.com/human-activity-recognition-using-tensorflow-cnn-lstm/"
      ]
    },
    {
      "cell_type": "code",
      "execution_count": 2,
      "metadata": {
        "id": "iffdFOf1CEAN"
      },
      "outputs": [],
      "source": [
        "# set Numpy, Python, and Tensorflow seeds to get consistent results on every execution\n",
        "seed_constant = 27\n",
        "np.random.seed(seed_constant)\n",
        "random.seed(seed_constant)\n",
        "tf.random.set_seed(seed_constant)"
      ]
    },
    {
      "cell_type": "code",
      "execution_count": 3,
      "metadata": {
        "colab": {
          "base_uri": "https://localhost:8080/",
          "height": 53
        },
        "id": "mcLh22LiOHyn",
        "outputId": "86ede1a4-b7ab-4de3-a066-389f878e4e4e"
      },
      "outputs": [
        {
          "output_type": "stream",
          "name": "stdout",
          "text": [
            "Mounted at /content/gdrive/\n"
          ]
        },
        {
          "output_type": "execute_result",
          "data": {
            "text/plain": [
              "'/content/gdrive/My Drive/247'"
            ],
            "application/vnd.google.colaboratory.intrinsic+json": {
              "type": "string"
            }
          },
          "metadata": {},
          "execution_count": 3
        }
      ],
      "source": [
        "# mount dataset from google drive\n",
        "drive.mount('/content/gdrive/', force_remount=True)\n",
        "gdrive_path = '/content/gdrive' + '/My Drive/247/'\n",
        "os.chdir(gdrive_path)\n",
        "os.getcwd()"
      ]
    },
    {
      "cell_type": "code",
      "execution_count": 4,
      "metadata": {
        "id": "oeDK8SzumZ1Q"
      },
      "outputs": [],
      "source": [
        "# frame dimention\n",
        "IMAGE_HEIGHT, IMAGE_WIDTH = 128, 128\n",
        "# frame number for each video (depth)\n",
        "SEQUENCE_LENGTH = 16\n",
        "# video dir path\n",
        "DATASET_DIR = gdrive_path + 'Cropped_videos'\n",
        "# labels of classes\n",
        "CLASSES_LIST = ['hemostasis', 'inflammatory', 'proliferative', 'maturation']"
      ]
    },
    {
      "cell_type": "code",
      "execution_count": 5,
      "metadata": {
        "id": "3mFB5qD6b3Kd"
      },
      "outputs": [],
      "source": [
        "# image cropping\n",
        "def crop_center_square(frame):\n",
        "    y, x = frame.shape[0:2]\n",
        "    min_dim = min(y, x)\n",
        "    start_x = (x // 2) - (min_dim // 2)\n",
        "    start_y = (y // 2) - (min_dim // 2)\n",
        "    return frame[start_y:start_y+min_dim,start_x:start_x+min_dim]"
      ]
    },
    {
      "cell_type": "code",
      "execution_count": 6,
      "metadata": {
        "id": "sqeexMUjaLzJ"
      },
      "outputs": [],
      "source": [
        "# https://medium.com/analytics-vidhya/video-preprocessor-and-augmentation-for-deep-learning-tasks-12dd3fcce868\n",
        "def load_video(path, resize=(128, 128)):\n",
        "    video_reader = cv2.VideoCapture(path)\n",
        "    frames = []\n",
        "    try:\n",
        "        while True:\n",
        "            ret, frame = video_reader.read()\n",
        "            if not ret:\n",
        "                  break\n",
        "            frame = crop_center_square(frame)\n",
        "            frame = cv2.resize(frame, resize)\n",
        "            frame = frame[:, :, [2, 1, 0]]\n",
        "            frames.append(frame)\n",
        "    finally:\n",
        "        video_reader.release()\n",
        "    return np.array(frames) / 255.0"
      ]
    },
    {
      "cell_type": "code",
      "execution_count": 7,
      "metadata": {
        "id": "ljUWHW6Jqzu-"
      },
      "outputs": [],
      "source": [
        "def create_dataset(state):\n",
        "    # Declared Empty Lists to store the features, labels and video file path values.\n",
        "    features = []\n",
        "    labels = []\n",
        "    video_files_paths = []\n",
        "    # Iterating through all the classes mentioned in the classes list\n",
        "    for class_index, class_name in enumerate(CLASSES_LIST):\n",
        "        # Display the name of the class whose data is being extracted.\n",
        "        print(f'Extracting Data of Class: {class_name} {state}')\n",
        "        # Get the list of video files present in the specific class name directory.\n",
        "        files_list = os.listdir(os.path.join(DATASET_DIR, class_name))\n",
        "        # Iterate through all the files present in the files list.\n",
        "        for file_name in files_list:\n",
        "            # Get the complete video path.\n",
        "            video_file_path = os.path.join(DATASET_DIR, class_name, file_name)\n",
        "            # create testing data\n",
        "            if state == 'test':\n",
        "                # get the mouse number\n",
        "                mouse_number = int(video_file_path.split(' ')[2].split('_')[1].split('-')[1])\n",
        "                # get the mouse side (L or R)\n",
        "                mouse_side = video_file_path.split(' ')[2].split('_')[1].split('-')[2]\n",
        "                if mouse_number == 4 and mouse_side == 'L':\n",
        "                    frames = load_video(video_file_path)\n",
        "                    features.append(frames)\n",
        "                    labels.append(class_index)\n",
        "                    video_files_paths.append(video_file_path)\n",
        "            # create validation data\n",
        "            elif state == 'valid':\n",
        "                # get the mouse number\n",
        "                mouse_number = int(video_file_path.split(' ')[2].split('_')[1].split('-')[1])\n",
        "                # get the mouse side (L or R)\n",
        "                mouse_side = video_file_path.split(' ')[2].split('_')[1].split('-')[2]\n",
        "                if mouse_number == 4 and mouse_side == 'R':\n",
        "                    frames = load_video(video_file_path)\n",
        "                    features.append(frames)\n",
        "                    labels.append(class_index)\n",
        "                    video_files_paths.append(video_file_path)\n",
        "            # create training data\n",
        "            else:\n",
        "                # get the mouse number\n",
        "                mouse_number = int(video_file_path.split(' ')[2].split('_')[1].split('-')[1])\n",
        "                if mouse_number != 4:\n",
        "                    frames = load_video(video_file_path)\n",
        "                    features.append(frames)\n",
        "                    labels.append(class_index)\n",
        "                    video_files_paths.append(video_file_path)\n",
        "    # Converting the list to numpy arrays\n",
        "    features = np.asarray(features)\n",
        "    # print(features)\n",
        "    labels = np.array(labels)\n",
        "    # Return the frames, class index, and video file path.\n",
        "    return features, labels, video_files_paths"
      ]
    },
    {
      "cell_type": "code",
      "execution_count": 8,
      "metadata": {
        "colab": {
          "base_uri": "https://localhost:8080/"
        },
        "id": "a8rpanz9rASe",
        "outputId": "1dc447d5-96f1-4f14-cf99-b08fc0809419"
      },
      "outputs": [
        {
          "output_type": "stream",
          "name": "stdout",
          "text": [
            "Extracting Data of Class: hemostasis train\n",
            "Extracting Data of Class: inflammatory train\n",
            "Extracting Data of Class: proliferative train\n",
            "Extracting Data of Class: maturation train\n",
            "Extracting Data of Class: hemostasis test\n",
            "Extracting Data of Class: inflammatory test\n",
            "Extracting Data of Class: proliferative test\n",
            "Extracting Data of Class: maturation test\n",
            "Extracting Data of Class: hemostasis valid\n",
            "Extracting Data of Class: inflammatory valid\n",
            "Extracting Data of Class: proliferative valid\n",
            "Extracting Data of Class: maturation valid\n"
          ]
        }
      ],
      "source": [
        "# 6 mice for training, 2 mice for test and validation (one wound on each mice for test one for validation)\n",
        "features_train, labels_train, video_files_paths_train = create_dataset('train')\n",
        "features_test, labels_test, video_files_paths_test = create_dataset('test')\n",
        "features_valid, labels_valid, video_files_paths_valid = create_dataset('valid')"
      ]
    },
    {
      "cell_type": "code",
      "execution_count": 9,
      "metadata": {
        "id": "dtJkK4qTAulC"
      },
      "outputs": [],
      "source": [
        "# one_hot_encoded_labels\n",
        "labels_train = keras.utils.to_categorical(labels_train)\n",
        "labels_test = keras.utils.to_categorical(labels_test)\n",
        "labels_valid = keras.utils.to_categorical(labels_valid)"
      ]
    },
    {
      "cell_type": "code",
      "execution_count": 10,
      "metadata": {
        "id": "Bi-NDol3DHRV"
      },
      "outputs": [],
      "source": [
        "def create_convlstm_model():\n",
        "    # TimeDistributed is a wrapper to handle input of size five to maintain frames number for LSTM\n",
        "    # A Conv2D layer requires four dimensions: (batch_size, height, width, channels)\n",
        "    # TimeDistributed will require an additional dimension: (batch_size, frames, height, width, channels)\n",
        "\n",
        "    model = Sequential()\n",
        "\n",
        "    model.add(TimeDistributed(Conv2D(16, (3,3), activation='relu',\n",
        "                                     kernel_regularizer=regularizers.L2(l2=1e-4)),\n",
        "                              input_shape=(16, 128, 128, 3)))\n",
        "    # model.add(TimeDistributed(BatchNormalization()))\n",
        "    model.add(TimeDistributed(MaxPooling2D((2,2), strides=(2,2))))\n",
        "    model.add(Dropout(0.4))\n",
        "\n",
        "    model.add(TimeDistributed(Conv2D(32, (3,3), activation='relu',\n",
        "                                     kernel_regularizer=regularizers.L2(l2=1e-4))))\n",
        "    # model.add(TimeDistributed(BatchNormalization()))\n",
        "    model.add(TimeDistributed(MaxPooling2D((2,2), strides=(2,2))))\n",
        "    model.add(Dropout(0.4))\n",
        "\n",
        "    model.add(TimeDistributed(Conv2D(32, (3,3), activation='relu',\n",
        "                                     kernel_regularizer=regularizers.L2(l2=1e-4))))\n",
        "    # model.add(TimeDistributed(BatchNormalization()))\n",
        "    model.add(TimeDistributed(MaxPooling2D((2,2), strides=(2,2))))\n",
        "    model.add(Dropout(0.4))\n",
        "  \n",
        "    # model.add(TimeDistributed(GlobalAveragePooling2D()))\n",
        "    # Another approach of using model.add(TimeDistributed(Flatten())) instead of the reshape.\n",
        "    model.add(TimeDistributed(Flatten()))\n",
        "    \n",
        "    model.add(LSTM(4, activation='relu', return_sequences=False))\n",
        "    model.add(Dropout(0.4))\n",
        "    model.add(Dense(32, activation='relu', kernel_initializer='he_uniform',\n",
        "                    kernel_regularizer=regularizers.L2(l2=1e-4)))\n",
        "    model.add(Dropout(0.5))\n",
        "    model.add(Dense(8, activation='relu', kernel_initializer='he_uniform'))\n",
        "    # model.add(Dense(16, activation='relu'))\n",
        "    # model.add(Dropout(0.3))\n",
        "    # model.add(Dense(8, activation='relu'))\n",
        "    # model.add(Dropout(0.3))\n",
        "    # model.add(Dense(4, activation='relu'))\n",
        "    # model.add(Dropout(0.3))\n",
        "    model.add(Dense(len(CLASSES_LIST), activation='softmax'))\n",
        "    model.summary(line_length = 100)\n",
        "    return model"
      ]
    },
    {
      "cell_type": "code",
      "execution_count": 11,
      "metadata": {
        "colab": {
          "base_uri": "https://localhost:8080/"
        },
        "id": "FbjNYI-0DY_v",
        "outputId": "614ba1d5-41e9-4965-8e1e-65b9f0c35b32"
      },
      "outputs": [
        {
          "output_type": "stream",
          "name": "stdout",
          "text": [
            "Model: \"sequential\"\n",
            "____________________________________________________________________________________________________\n",
            " Layer (type)                                Output Shape                            Param #        \n",
            "====================================================================================================\n",
            " time_distributed (TimeDistributed)          (None, 16, 126, 126, 16)                448            \n",
            "                                                                                                    \n",
            " time_distributed_1 (TimeDistributed)        (None, 16, 63, 63, 16)                  0              \n",
            "                                                                                                    \n",
            " dropout (Dropout)                           (None, 16, 63, 63, 16)                  0              \n",
            "                                                                                                    \n",
            " time_distributed_2 (TimeDistributed)        (None, 16, 61, 61, 32)                  4640           \n",
            "                                                                                                    \n",
            " time_distributed_3 (TimeDistributed)        (None, 16, 30, 30, 32)                  0              \n",
            "                                                                                                    \n",
            " dropout_1 (Dropout)                         (None, 16, 30, 30, 32)                  0              \n",
            "                                                                                                    \n",
            " time_distributed_4 (TimeDistributed)        (None, 16, 28, 28, 32)                  9248           \n",
            "                                                                                                    \n",
            " time_distributed_5 (TimeDistributed)        (None, 16, 14, 14, 32)                  0              \n",
            "                                                                                                    \n",
            " dropout_2 (Dropout)                         (None, 16, 14, 14, 32)                  0              \n",
            "                                                                                                    \n",
            " time_distributed_6 (TimeDistributed)        (None, 16, 6272)                        0              \n",
            "                                                                                                    \n",
            " lstm (LSTM)                                 (None, 4)                               100432         \n",
            "                                                                                                    \n",
            " dropout_3 (Dropout)                         (None, 4)                               0              \n",
            "                                                                                                    \n",
            " dense (Dense)                               (None, 32)                              160            \n",
            "                                                                                                    \n",
            " dropout_4 (Dropout)                         (None, 32)                              0              \n",
            "                                                                                                    \n",
            " dense_1 (Dense)                             (None, 8)                               264            \n",
            "                                                                                                    \n",
            " dense_2 (Dense)                             (None, 4)                               36             \n",
            "                                                                                                    \n",
            "====================================================================================================\n",
            "Total params: 115,228\n",
            "Trainable params: 115,228\n",
            "Non-trainable params: 0\n",
            "____________________________________________________________________________________________________\n",
            "Model Created Successfully!\n"
          ]
        }
      ],
      "source": [
        "# Construct the required convlstm model.\n",
        "convlstm_model = create_convlstm_model()\n",
        " \n",
        "# Display the success message. \n",
        "print(\"Model Created Successfully!\")"
      ]
    },
    {
      "cell_type": "code",
      "execution_count": 12,
      "metadata": {
        "id": "SCB3R7so-wHz"
      },
      "outputs": [],
      "source": [
        "# keras.utils.plot_model(convlstm_model, to_file = 'convlstm_model_structure_plot.png', show_shapes = True, show_layer_names = True)"
      ]
    },
    {
      "cell_type": "code",
      "execution_count": 13,
      "metadata": {
        "id": "nMYwQOwyF3bd"
      },
      "outputs": [],
      "source": [
        "# keras.utils.plot_model(convlstm_model,\n",
        "#                          to_file = 'convlstm_model_structure_plot.png',\n",
        "#                          show_shapes = True,\n",
        "#                          show_layer_names = True)"
      ]
    },
    {
      "cell_type": "code",
      "execution_count": 14,
      "metadata": {
        "colab": {
          "base_uri": "https://localhost:8080/"
        },
        "id": "vYC_6H0uGqW9",
        "outputId": "fc080a2f-e700-49c7-c245-57f9c554b177"
      },
      "outputs": [
        {
          "output_type": "stream",
          "name": "stdout",
          "text": [
            "Epoch 1/100\n",
            "101/101 [==============================] - 12s 84ms/step - loss: 1.3583 - accuracy: 0.3954 - val_loss: 1.2398 - val_accuracy: 0.4816\n",
            "Epoch 2/100\n",
            "101/101 [==============================] - 7s 72ms/step - loss: 1.1706 - accuracy: 0.4375 - val_loss: 1.0728 - val_accuracy: 0.5919\n",
            "Epoch 3/100\n",
            "101/101 [==============================] - 7s 71ms/step - loss: 1.1069 - accuracy: 0.4697 - val_loss: 1.0788 - val_accuracy: 0.5404\n",
            "Epoch 4/100\n",
            "101/101 [==============================] - 7s 71ms/step - loss: 1.0691 - accuracy: 0.5068 - val_loss: 0.9639 - val_accuracy: 0.6507\n",
            "Epoch 5/100\n",
            "101/101 [==============================] - 7s 72ms/step - loss: 1.0198 - accuracy: 0.5316 - val_loss: 0.8973 - val_accuracy: 0.6875\n",
            "Epoch 6/100\n",
            "101/101 [==============================] - 7s 72ms/step - loss: 0.9861 - accuracy: 0.5786 - val_loss: 0.8973 - val_accuracy: 0.6434\n",
            "Epoch 7/100\n",
            "101/101 [==============================] - 7s 71ms/step - loss: 0.9069 - accuracy: 0.6300 - val_loss: 0.7904 - val_accuracy: 0.8199\n",
            "Epoch 8/100\n",
            "101/101 [==============================] - 7s 72ms/step - loss: 0.9003 - accuracy: 0.6368 - val_loss: 0.7589 - val_accuracy: 0.7684\n",
            "Epoch 9/100\n",
            "101/101 [==============================] - 7s 71ms/step - loss: 0.8346 - accuracy: 0.6627 - val_loss: 0.6923 - val_accuracy: 0.8199\n",
            "Epoch 10/100\n",
            "101/101 [==============================] - 7s 71ms/step - loss: 0.8197 - accuracy: 0.6745 - val_loss: 0.6801 - val_accuracy: 0.8051\n",
            "Epoch 11/100\n",
            "101/101 [==============================] - 7s 71ms/step - loss: 0.8344 - accuracy: 0.6553 - val_loss: 0.7908 - val_accuracy: 0.6507\n",
            "Epoch 12/100\n",
            "101/101 [==============================] - 7s 72ms/step - loss: 0.8273 - accuracy: 0.6640 - val_loss: 0.6558 - val_accuracy: 0.7978\n",
            "Epoch 13/100\n",
            "101/101 [==============================] - 7s 72ms/step - loss: 0.8608 - accuracy: 0.6473 - val_loss: 0.6089 - val_accuracy: 0.7941\n",
            "Epoch 14/100\n",
            "101/101 [==============================] - 7s 71ms/step - loss: 0.7909 - accuracy: 0.6720 - val_loss: 0.5968 - val_accuracy: 0.8272\n",
            "Epoch 15/100\n",
            "101/101 [==============================] - 7s 71ms/step - loss: 0.7883 - accuracy: 0.6764 - val_loss: 0.5986 - val_accuracy: 0.8199\n",
            "Epoch 16/100\n",
            "101/101 [==============================] - 7s 72ms/step - loss: 0.7502 - accuracy: 0.6968 - val_loss: 0.5926 - val_accuracy: 0.7904\n",
            "Epoch 17/100\n",
            "101/101 [==============================] - 7s 71ms/step - loss: 0.7170 - accuracy: 0.6974 - val_loss: 0.7789 - val_accuracy: 0.6875\n",
            "Epoch 18/100\n",
            "101/101 [==============================] - 7s 71ms/step - loss: 0.7018 - accuracy: 0.7104 - val_loss: 0.5560 - val_accuracy: 0.8199\n",
            "Epoch 19/100\n",
            "101/101 [==============================] - 7s 71ms/step - loss: 0.6977 - accuracy: 0.7054 - val_loss: 0.5621 - val_accuracy: 0.8162\n",
            "Epoch 20/100\n",
            "101/101 [==============================] - 7s 71ms/step - loss: 0.6624 - accuracy: 0.7160 - val_loss: 0.5201 - val_accuracy: 0.8199\n",
            "Epoch 21/100\n",
            "101/101 [==============================] - 7s 71ms/step - loss: 0.6419 - accuracy: 0.7209 - val_loss: 0.5237 - val_accuracy: 0.8162\n",
            "Epoch 22/100\n",
            "101/101 [==============================] - 7s 72ms/step - loss: 0.6829 - accuracy: 0.7085 - val_loss: 0.5559 - val_accuracy: 0.8125\n",
            "Epoch 23/100\n",
            "101/101 [==============================] - 7s 71ms/step - loss: 0.6586 - accuracy: 0.7215 - val_loss: 0.5064 - val_accuracy: 0.8199\n",
            "Epoch 24/100\n",
            "101/101 [==============================] - 7s 71ms/step - loss: 0.6200 - accuracy: 0.7296 - val_loss: 0.5168 - val_accuracy: 0.7721\n",
            "Epoch 25/100\n",
            "101/101 [==============================] - 7s 72ms/step - loss: 0.6240 - accuracy: 0.7234 - val_loss: 0.4882 - val_accuracy: 0.8199\n",
            "Epoch 26/100\n",
            "101/101 [==============================] - 7s 71ms/step - loss: 0.6314 - accuracy: 0.7166 - val_loss: 0.5174 - val_accuracy: 0.7794\n",
            "Epoch 27/100\n",
            "101/101 [==============================] - 7s 71ms/step - loss: 0.6180 - accuracy: 0.7259 - val_loss: 0.5100 - val_accuracy: 0.8199\n",
            "Epoch 28/100\n",
            "101/101 [==============================] - 7s 72ms/step - loss: 0.5770 - accuracy: 0.7364 - val_loss: 0.4943 - val_accuracy: 0.8162\n",
            "Epoch 29/100\n",
            "101/101 [==============================] - 7s 71ms/step - loss: 0.5792 - accuracy: 0.7364 - val_loss: 0.4719 - val_accuracy: 0.8235\n",
            "Epoch 30/100\n",
            "101/101 [==============================] - 7s 71ms/step - loss: 0.5835 - accuracy: 0.7314 - val_loss: 0.4948 - val_accuracy: 0.8199\n",
            "Epoch 31/100\n",
            "101/101 [==============================] - 7s 71ms/step - loss: 0.5473 - accuracy: 0.7432 - val_loss: 0.4642 - val_accuracy: 0.8235\n",
            "Epoch 32/100\n",
            "101/101 [==============================] - 7s 72ms/step - loss: 0.5846 - accuracy: 0.7327 - val_loss: 0.4627 - val_accuracy: 0.7978\n",
            "Epoch 33/100\n",
            "101/101 [==============================] - 7s 71ms/step - loss: 0.5274 - accuracy: 0.7704 - val_loss: 0.4425 - val_accuracy: 0.8419\n",
            "Epoch 34/100\n",
            "101/101 [==============================] - 7s 71ms/step - loss: 0.5179 - accuracy: 0.7760 - val_loss: 0.4588 - val_accuracy: 0.8235\n",
            "Epoch 35/100\n",
            "101/101 [==============================] - 7s 71ms/step - loss: 0.5220 - accuracy: 0.7859 - val_loss: 0.4405 - val_accuracy: 0.8272\n",
            "Epoch 36/100\n",
            "101/101 [==============================] - 7s 71ms/step - loss: 0.5460 - accuracy: 0.7698 - val_loss: 0.6172 - val_accuracy: 0.6801\n",
            "Epoch 37/100\n",
            "101/101 [==============================] - 7s 71ms/step - loss: 0.5463 - accuracy: 0.7679 - val_loss: 0.4539 - val_accuracy: 0.7904\n",
            "Epoch 38/100\n",
            "101/101 [==============================] - 7s 71ms/step - loss: 0.4969 - accuracy: 0.8032 - val_loss: 0.4336 - val_accuracy: 0.8015\n",
            "Epoch 39/100\n",
            "101/101 [==============================] - 7s 71ms/step - loss: 0.4912 - accuracy: 0.7995 - val_loss: 0.4131 - val_accuracy: 0.8456\n",
            "Epoch 40/100\n",
            "101/101 [==============================] - 7s 71ms/step - loss: 0.5036 - accuracy: 0.7939 - val_loss: 0.4187 - val_accuracy: 0.8125\n",
            "Epoch 41/100\n",
            "101/101 [==============================] - 7s 71ms/step - loss: 0.5083 - accuracy: 0.7884 - val_loss: 0.4127 - val_accuracy: 0.8235\n",
            "Epoch 42/100\n",
            "101/101 [==============================] - 7s 71ms/step - loss: 0.5310 - accuracy: 0.7809 - val_loss: 0.4344 - val_accuracy: 0.7831\n",
            "Epoch 43/100\n",
            "101/101 [==============================] - 7s 72ms/step - loss: 0.4835 - accuracy: 0.8057 - val_loss: 0.4257 - val_accuracy: 0.8015\n",
            "Epoch 44/100\n",
            "101/101 [==============================] - 7s 71ms/step - loss: 0.4642 - accuracy: 0.8162 - val_loss: 0.4371 - val_accuracy: 0.7537\n",
            "Epoch 45/100\n",
            "101/101 [==============================] - 7s 71ms/step - loss: 0.4558 - accuracy: 0.8199 - val_loss: 0.4384 - val_accuracy: 0.7721\n",
            "Epoch 46/100\n",
            "101/101 [==============================] - 7s 72ms/step - loss: 0.4913 - accuracy: 0.7964 - val_loss: 0.4541 - val_accuracy: 0.8235\n",
            "Epoch 47/100\n",
            "101/101 [==============================] - 7s 71ms/step - loss: 0.4898 - accuracy: 0.8069 - val_loss: 0.6910 - val_accuracy: 0.6985\n",
            "Epoch 48/100\n",
            "101/101 [==============================] - 7s 71ms/step - loss: 0.4707 - accuracy: 0.8181 - val_loss: 0.4005 - val_accuracy: 0.8125\n",
            "Epoch 49/100\n",
            "101/101 [==============================] - 7s 71ms/step - loss: 0.4491 - accuracy: 0.8156 - val_loss: 0.3907 - val_accuracy: 0.8199\n",
            "Epoch 50/100\n",
            "101/101 [==============================] - 7s 72ms/step - loss: 0.4717 - accuracy: 0.8075 - val_loss: 0.4656 - val_accuracy: 0.7390\n",
            "Epoch 51/100\n",
            "101/101 [==============================] - 7s 70ms/step - loss: 0.4741 - accuracy: 0.8082 - val_loss: 0.4568 - val_accuracy: 0.7757\n",
            "Epoch 52/100\n",
            "101/101 [==============================] - 7s 71ms/step - loss: 0.4317 - accuracy: 0.8317 - val_loss: 0.4358 - val_accuracy: 0.8125\n",
            "Epoch 53/100\n",
            "101/101 [==============================] - 7s 72ms/step - loss: 0.4136 - accuracy: 0.8360 - val_loss: 0.5669 - val_accuracy: 0.7279\n",
            "Epoch 54/100\n",
            "101/101 [==============================] - 7s 71ms/step - loss: 0.4280 - accuracy: 0.8373 - val_loss: 0.3724 - val_accuracy: 0.8346\n",
            "Epoch 55/100\n",
            "101/101 [==============================] - 7s 72ms/step - loss: 0.4146 - accuracy: 0.8428 - val_loss: 0.3946 - val_accuracy: 0.8162\n",
            "Epoch 56/100\n",
            "101/101 [==============================] - 7s 72ms/step - loss: 0.4264 - accuracy: 0.8366 - val_loss: 0.6731 - val_accuracy: 0.7610\n",
            "Epoch 57/100\n",
            "101/101 [==============================] - 7s 72ms/step - loss: 0.4177 - accuracy: 0.8360 - val_loss: 0.6886 - val_accuracy: 0.7022\n",
            "Epoch 58/100\n",
            "101/101 [==============================] - 7s 72ms/step - loss: 0.4668 - accuracy: 0.8119 - val_loss: 0.8826 - val_accuracy: 0.7059\n",
            "Epoch 59/100\n",
            "101/101 [==============================] - 7s 71ms/step - loss: 0.4644 - accuracy: 0.8113 - val_loss: 0.4434 - val_accuracy: 0.8125\n",
            "Epoch 60/100\n",
            "101/101 [==============================] - 7s 71ms/step - loss: 0.4527 - accuracy: 0.8156 - val_loss: 0.3935 - val_accuracy: 0.8162\n",
            "Epoch 61/100\n",
            "101/101 [==============================] - 7s 71ms/step - loss: 0.4234 - accuracy: 0.8348 - val_loss: 0.4940 - val_accuracy: 0.7941\n",
            "Epoch 62/100\n",
            "101/101 [==============================] - 7s 71ms/step - loss: 0.4247 - accuracy: 0.8329 - val_loss: 0.4918 - val_accuracy: 0.7831\n",
            "Epoch 63/100\n",
            "101/101 [==============================] - 7s 72ms/step - loss: 0.4266 - accuracy: 0.8348 - val_loss: 0.6173 - val_accuracy: 0.7757\n",
            "Epoch 64/100\n",
            "101/101 [==============================] - 7s 72ms/step - loss: 0.4136 - accuracy: 0.8428 - val_loss: 0.4025 - val_accuracy: 0.8346\n",
            "Epoch 65/100\n",
            "101/101 [==============================] - 7s 72ms/step - loss: 0.4149 - accuracy: 0.8447 - val_loss: 0.5066 - val_accuracy: 0.7941\n",
            "Epoch 66/100\n",
            "101/101 [==============================] - 7s 72ms/step - loss: 0.4200 - accuracy: 0.8428 - val_loss: 0.5069 - val_accuracy: 0.8051\n",
            "Epoch 67/100\n",
            "101/101 [==============================] - 7s 71ms/step - loss: 0.4170 - accuracy: 0.8385 - val_loss: 0.4206 - val_accuracy: 0.8088\n",
            "Epoch 68/100\n",
            "101/101 [==============================] - 7s 71ms/step - loss: 0.4138 - accuracy: 0.8428 - val_loss: 0.3937 - val_accuracy: 0.8309\n",
            "Epoch 69/100\n",
            "101/101 [==============================] - 7s 71ms/step - loss: 0.4007 - accuracy: 0.8496 - val_loss: 0.4015 - val_accuracy: 0.8272\n",
            "Epoch 70/100\n",
            "101/101 [==============================] - 7s 71ms/step - loss: 0.4026 - accuracy: 0.8484 - val_loss: 0.5393 - val_accuracy: 0.8088\n",
            "Epoch 71/100\n",
            "101/101 [==============================] - 7s 71ms/step - loss: 0.4072 - accuracy: 0.8403 - val_loss: 0.4225 - val_accuracy: 0.8272\n",
            "Epoch 72/100\n",
            "101/101 [==============================] - 7s 71ms/step - loss: 0.5502 - accuracy: 0.7797 - val_loss: 0.4515 - val_accuracy: 0.8199\n",
            "Epoch 73/100\n",
            "101/101 [==============================] - 7s 72ms/step - loss: 0.4503 - accuracy: 0.8304 - val_loss: 0.4215 - val_accuracy: 0.8162\n",
            "Epoch 74/100\n",
            "101/101 [==============================] - 7s 71ms/step - loss: 0.3762 - accuracy: 0.8620 - val_loss: 0.4838 - val_accuracy: 0.8162\n",
            "Epoch 75/100\n",
            "101/101 [==============================] - 7s 71ms/step - loss: 0.3881 - accuracy: 0.8558 - val_loss: 0.5701 - val_accuracy: 0.8088\n",
            "Epoch 76/100\n",
            "101/101 [==============================] - 7s 72ms/step - loss: 0.3987 - accuracy: 0.8515 - val_loss: 0.6440 - val_accuracy: 0.7978\n",
            "Epoch 77/100\n",
            "101/101 [==============================] - 7s 72ms/step - loss: 0.3854 - accuracy: 0.8533 - val_loss: 0.5546 - val_accuracy: 0.7794\n",
            "Epoch 78/100\n",
            "101/101 [==============================] - 7s 71ms/step - loss: 0.3633 - accuracy: 0.8694 - val_loss: 0.6538 - val_accuracy: 0.8051\n",
            "Epoch 79/100\n",
            "101/101 [==============================] - 7s 71ms/step - loss: 0.3630 - accuracy: 0.8645 - val_loss: 0.5233 - val_accuracy: 0.8088\n",
            "Epoch 80/100\n",
            "101/101 [==============================] - 7s 72ms/step - loss: 0.3708 - accuracy: 0.8626 - val_loss: 0.6900 - val_accuracy: 0.8125\n",
            "Epoch 81/100\n",
            "101/101 [==============================] - 7s 71ms/step - loss: 0.3552 - accuracy: 0.8688 - val_loss: 0.6530 - val_accuracy: 0.8125\n",
            "Epoch 82/100\n",
            "101/101 [==============================] - 7s 72ms/step - loss: 0.3486 - accuracy: 0.8750 - val_loss: 0.7212 - val_accuracy: 0.8162\n",
            "Epoch 83/100\n",
            "101/101 [==============================] - 7s 71ms/step - loss: 0.3428 - accuracy: 0.8781 - val_loss: 0.4050 - val_accuracy: 0.8566\n",
            "Epoch 84/100\n",
            "101/101 [==============================] - 7s 72ms/step - loss: 0.3316 - accuracy: 0.8843 - val_loss: 0.6894 - val_accuracy: 0.8346\n",
            "Epoch 85/100\n",
            "101/101 [==============================] - 7s 71ms/step - loss: 0.3798 - accuracy: 0.8620 - val_loss: 0.9009 - val_accuracy: 0.7169\n",
            "Epoch 86/100\n",
            "101/101 [==============================] - 7s 71ms/step - loss: 0.3682 - accuracy: 0.8682 - val_loss: 0.4241 - val_accuracy: 0.8272\n",
            "Epoch 87/100\n",
            "101/101 [==============================] - 7s 71ms/step - loss: 0.3506 - accuracy: 0.8707 - val_loss: 0.6223 - val_accuracy: 0.8162\n",
            "Epoch 88/100\n",
            "101/101 [==============================] - 7s 71ms/step - loss: 0.3399 - accuracy: 0.8744 - val_loss: 0.6095 - val_accuracy: 0.8346\n",
            "Epoch 89/100\n",
            "101/101 [==============================] - 7s 71ms/step - loss: 0.3862 - accuracy: 0.8583 - val_loss: 0.5180 - val_accuracy: 0.8309\n",
            "Epoch 90/100\n",
            "101/101 [==============================] - 7s 71ms/step - loss: 0.3650 - accuracy: 0.8670 - val_loss: 0.5753 - val_accuracy: 0.8309\n",
            "Epoch 91/100\n",
            "101/101 [==============================] - 7s 71ms/step - loss: 0.3379 - accuracy: 0.8806 - val_loss: 0.5292 - val_accuracy: 0.8088\n",
            "Epoch 92/100\n",
            "101/101 [==============================] - 7s 71ms/step - loss: 0.3560 - accuracy: 0.8713 - val_loss: 0.4341 - val_accuracy: 0.8088\n",
            "Epoch 93/100\n",
            "101/101 [==============================] - 7s 72ms/step - loss: 0.3506 - accuracy: 0.8769 - val_loss: 0.6924 - val_accuracy: 0.8162\n",
            "Epoch 94/100\n",
            "101/101 [==============================] - 7s 71ms/step - loss: 0.3427 - accuracy: 0.8744 - val_loss: 0.4180 - val_accuracy: 0.8125\n",
            "Epoch 95/100\n",
            "101/101 [==============================] - 7s 71ms/step - loss: 0.3639 - accuracy: 0.8657 - val_loss: 0.4218 - val_accuracy: 0.8125\n",
            "Epoch 96/100\n",
            "101/101 [==============================] - 7s 72ms/step - loss: 0.3433 - accuracy: 0.8793 - val_loss: 0.4764 - val_accuracy: 0.8051\n",
            "Epoch 97/100\n",
            "101/101 [==============================] - 7s 72ms/step - loss: 0.3151 - accuracy: 0.8868 - val_loss: 0.5984 - val_accuracy: 0.8346\n",
            "Epoch 98/100\n",
            "101/101 [==============================] - 7s 71ms/step - loss: 0.3308 - accuracy: 0.8812 - val_loss: 0.5207 - val_accuracy: 0.8051\n",
            "Epoch 99/100\n",
            "101/101 [==============================] - 7s 71ms/step - loss: 0.3483 - accuracy: 0.8731 - val_loss: 0.7001 - val_accuracy: 0.8088\n",
            "Epoch 100/100\n",
            "101/101 [==============================] - 7s 71ms/step - loss: 0.3381 - accuracy: 0.8762 - val_loss: 0.5215 - val_accuracy: 0.8125\n"
          ]
        }
      ],
      "source": [
        "# Create an Instance of Early Stopping Callback\n",
        "\n",
        "# https://stackoverflow.com/questions/53479007/how-to-setup-adaptive-learning-rate-in-keras\n",
        "# def adapt_learning_rate(epoch):\n",
        "#     print(0.0001 * epoch)\n",
        "#     return 0.0001 * epoch\n",
        "# my_lr_scheduler = keras.callbacks.LearningRateScheduler(adapt_learning_rate)\n",
        "\n",
        "early_stopping_callback = keras.callbacks.EarlyStopping(monitor = 'val_loss',\n",
        "                                                        patience = 10,\n",
        "                                                        mode = 'min',\n",
        "                                                        restore_best_weights = True)\n",
        "# Compile the model and specify loss function, optimizer and metrics values to the model\n",
        "convlstm_model.compile(loss = 'categorical_crossentropy',\n",
        "                       optimizer= keras.optimizers.Adam(0.001, decay=1e-4),\n",
        "                       metrics = [\"accuracy\"])\n",
        "# Start training the model.\n",
        "convlstm_model_training_history = convlstm_model.fit(x = features_train,\n",
        "                                                     y = labels_train,\n",
        "                                                     epochs = 100,\n",
        "                                                     batch_size = 16,\n",
        "                                                     shuffle = True,\n",
        "                                                     validation_data = (features_valid, labels_valid)),\n",
        "                                                    #  callbacks = [early_stopping_callback])\n"
      ]
    },
    {
      "cell_type": "code",
      "execution_count": 15,
      "metadata": {
        "colab": {
          "base_uri": "https://localhost:8080/"
        },
        "id": "LcpKhGqvIenv",
        "outputId": "3f7e167f-1228-4b35-c792-2cf9e41a807d"
      },
      "outputs": [
        {
          "output_type": "stream",
          "name": "stdout",
          "text": [
            "9/9 [==============================] - 1s 43ms/step - loss: 1.3829 - accuracy: 0.5993\n",
            "\n",
            "\n",
            "Train accuracy: 85.396 % || Test accuracy: 59.926 % || Val accuracy: 81.250 %\n",
            "Train loss: 0.413 || Test loss: 1.383 || Val loss: 0.522\n"
          ]
        }
      ],
      "source": [
        "model_evaluation_history = convlstm_model.evaluate(features_test, labels_test)\n",
        "\n",
        "print('\\n')\n",
        "\n",
        "train_loss, train_acc = convlstm_model.evaluate(features_train, labels_train, verbose=0)\n",
        "test_loss, test_acc = convlstm_model.evaluate(features_test, labels_test, verbose=0)\n",
        "val_loss, val_acc = convlstm_model.evaluate(features_valid, labels_valid, verbose=0)\n",
        "\n",
        "print(f'Train accuracy: {train_acc*100:.3f} % || Test accuracy: {test_acc*100:.3f} % || Val accuracy: {val_acc*100:.3f} %')\n",
        "print(f'Train loss: {train_loss:.3f} || Test loss: {test_loss:.3f} || Val loss: {val_loss:.3f}')"
      ]
    },
    {
      "cell_type": "code",
      "execution_count": 16,
      "metadata": {
        "id": "qsFw5KIzIum9"
      },
      "outputs": [],
      "source": [
        "# Get the loss and accuracy from model_evaluation_history.\n",
        "model_evaluation_loss, model_evaluation_accuracy = model_evaluation_history\n",
        " \n",
        "# Define the string date format.\n",
        "# Get the current Date and Time in a DateTime Object.\n",
        "# Convert the DateTime object to string according to the style mentioned in date_time_format string.\n",
        "date_time_format = '%Y_%m_%d__%H_%M_%S'\n",
        "current_date_time_dt = dt.datetime.now()\n",
        "current_date_time_string = dt.datetime.strftime(current_date_time_dt, date_time_format)\n",
        " \n",
        "# Define a useful name for our model to make it easy for us while navigating through multiple saved models.\n",
        "model_file_name = f'convlstm_model___Date_Time_{current_date_time_string}___Loss_{model_evaluation_loss}___Accuracy_{model_evaluation_accuracy}.h5'\n",
        " \n",
        "# Change dir\n",
        "gdrive_path = '/content/gdrive' + '/My Drive/247/Saved_models/'\n",
        "os.chdir(gdrive_path)\n",
        "# Create a floder for the model files\n",
        "!mkdir -p convlstm_{current_date_time_string}\n",
        "# Save your Model.\n",
        "convlstm_model.save('convlstm_' + str(current_date_time_string) + '/' + model_file_name)\n",
        "# Save model weights\n",
        "convlstm_model.save_weights('convlstm_' + str(current_date_time_string) + '/' + 'weights')"
      ]
    },
    {
      "cell_type": "code",
      "execution_count": 17,
      "metadata": {
        "id": "Z0eAobhSIz_P"
      },
      "outputs": [],
      "source": [
        "def plot_metric(model_training_history, metric_name_1, metric_name_2, plot_name):\n",
        "    '''\n",
        "    This function will plot the metrics passed to it in a graph.\n",
        "    Args:\n",
        "        model_training_history: A history object containing a record of training and validation \n",
        "                                loss values and metrics values at successive epochs\n",
        "        metric_name_1:          The name of the first metric that needs to be plotted in the graph.\n",
        "        metric_name_2:          The name of the second metric that needs to be plotted in the graph.\n",
        "        plot_name:              The title of the graph.\n",
        "    '''\n",
        "    \n",
        "    # Get metric values using metric names as identifiers.\n",
        "    metric_value_1 = model_training_history[0].history[metric_name_1]\n",
        "    metric_value_2 = model_training_history[0].history[metric_name_2]\n",
        "    \n",
        "    # Construct a range object which will be used as x-axis (horizontal plane) of the graph.\n",
        "    epochs = range(len(metric_value_1))\n",
        "\n",
        "    # Plot the Graph.\n",
        "    plt.plot(epochs, metric_value_1, 'blue', label = metric_name_1)\n",
        "    plt.plot(epochs, metric_value_2, 'red', label = metric_name_2)\n",
        "\n",
        "    # Add title to the plot.\n",
        "    plt.title(str(plot_name))\n",
        "\n",
        "    # Add legend to the plot.\n",
        "    plt.legend()"
      ]
    },
    {
      "cell_type": "code",
      "execution_count": 18,
      "metadata": {
        "colab": {
          "base_uri": "https://localhost:8080/",
          "height": 281
        },
        "id": "18RtBjI9I5lE",
        "outputId": "9e5fa327-9488-405d-c2ed-d0d6b58d39e6"
      },
      "outputs": [
        {
          "output_type": "display_data",
          "data": {
            "text/plain": [
              "<Figure size 432x288 with 1 Axes>"
            ],
            "image/png": "[encoded data removed]"
          },
          "metadata": {
            "needs_background": "light"
          }
        }
      ],
      "source": [
        "plot_metric(convlstm_model_training_history, 'loss', 'val_loss', 'Total Loss vs Total Validation Loss')"
      ]
    },
    {
      "cell_type": "code",
      "execution_count": 19,
      "metadata": {
        "colab": {
          "base_uri": "https://localhost:8080/",
          "height": 281
        },
        "id": "02amk7TXI_OS",
        "outputId": "62c5e692-1f42-456b-a969-f0f756678913"
      },
      "outputs": [
        {
          "output_type": "display_data",
          "data": {
            "text/plain": [
              "<Figure size 432x288 with 1 Axes>"
            ],
            "image/png": "[encoded data removed]"
          },
          "metadata": {
            "needs_background": "light"
          }
        }
      ],
      "source": [
        "plot_metric(convlstm_model_training_history, 'accuracy', 'val_accuracy', 'Total Accuracy vs Total Validation Accuracy') "
      ]
    }
  ],
  "metadata": {
    "accelerator": "GPU",
    "colab": {
      "background_execution": "on",
      "collapsed_sections": [],
      "machine_shape": "hm",
      "name": "2D_CNN+LSTM.ipynb",
      "provenance": [],
      "authorship_tag": "ABX9TyMGXPP7LUnuQXkoqVhTgH96",
      "include_colab_link": true
    },
    "kernelspec": {
      "display_name": "Python 3",
      "name": "python3"
    },
    "language_info": {
      "name": "python"
    }
  },
  "nbformat": 4,
  "nbformat_minor": 0
}