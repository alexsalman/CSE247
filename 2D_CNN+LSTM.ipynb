{
  "cells": [
    {
      "cell_type": "markdown",
      "metadata": {
        "id": "view-in-github",
        "colab_type": "text"
      },
      "source": [
        "<a href=\"https://colab.research.google.com/github/alexsalman/CSE247/blob/main/2D_CNN%2BLSTM.ipynb\" target=\"_parent\"><img src=\"https://colab.research.google.com/assets/colab-badge.svg\" alt=\"Open In Colab\"/></a>"
      ]
    },
    {
      "cell_type": "markdown",
      "metadata": {
        "id": "Fk8TLrPiv-ab"
      },
      "source": [
        "####**Convolutional Neural Network + Long Short Term Memory**\n",
        "######*I am using a Convolution Neural Network (CNN) + Long Short Term Memory (LSTM) Network to extract general representation while utilizing the Spatial-temporal aspect of the videos.*"
      ]
    },
    {
      "cell_type": "code",
      "execution_count": 1,
      "metadata": {
        "colab": {
          "base_uri": "https://localhost:8080/"
        },
        "id": "M8ibtd5HKtZk",
        "outputId": "f4220bb0-93ec-4e48-a17d-127f7a8bc26c"
      },
      "outputs": [
        {
          "output_type": "stream",
          "name": "stdout",
          "text": [
            "2.8.0\n"
          ]
        }
      ],
      "source": [
        "# required libraries\n",
        "import os\n",
        "import cv2\n",
        "import math\n",
        "import random\n",
        "import numpy as np\n",
        "import datetime as dt\n",
        "from collections import deque\n",
        "import matplotlib.pyplot as plt\n",
        "from google.colab import drive\n",
        "from sklearn.model_selection import train_test_split\n",
        "import tensorflow as tf\n",
        "from tensorflow import keras\n",
        "from keras.models import Sequential\n",
        "from keras.layers import Dense, Flatten, Conv3D, MaxPooling3D, Dropout, BatchNormalization, ConvLSTM2D\n",
        "from keras.layers import Reshape, Conv2D, TimeDistributed, MaxPooling2D, Activation, GlobalAveragePooling2D\n",
        "from keras.layers.recurrent import LSTM\n",
        "from keras import regularizers\n",
        "from PIL import Image\n",
        "%matplotlib inline\n",
        "print(tf.version.VERSION)\n",
        "# https://bleedai.com/human-activity-recognition-using-tensorflow-cnn-lstm/"
      ]
    },
    {
      "cell_type": "code",
      "execution_count": 2,
      "metadata": {
        "id": "iffdFOf1CEAN"
      },
      "outputs": [],
      "source": [
        "# set Numpy, Python, and Tensorflow seeds to get consistent results on every execution\n",
        "seed_constant = 27\n",
        "np.random.seed(seed_constant)\n",
        "random.seed(seed_constant)\n",
        "tf.random.set_seed(seed_constant)"
      ]
    },
    {
      "cell_type": "code",
      "execution_count": 3,
      "metadata": {
        "colab": {
          "base_uri": "https://localhost:8080/",
          "height": 53
        },
        "id": "mcLh22LiOHyn",
        "outputId": "a31d3643-166a-47b3-f0f4-31333e9b5715"
      },
      "outputs": [
        {
          "output_type": "stream",
          "name": "stdout",
          "text": [
            "Mounted at /content/gdrive/\n"
          ]
        },
        {
          "output_type": "execute_result",
          "data": {
            "text/plain": [
              "'/content/gdrive/My Drive/247'"
            ],
            "application/vnd.google.colaboratory.intrinsic+json": {
              "type": "string"
            }
          },
          "metadata": {},
          "execution_count": 3
        }
      ],
      "source": [
        "# mount dataset from google drive\n",
        "drive.mount('/content/gdrive/', force_remount=True)\n",
        "gdrive_path = '/content/gdrive' + '/My Drive/247/'\n",
        "os.chdir(gdrive_path)\n",
        "os.getcwd()"
      ]
    },
    {
      "cell_type": "code",
      "execution_count": 4,
      "metadata": {
        "id": "oeDK8SzumZ1Q"
      },
      "outputs": [],
      "source": [
        "# frame dimention\n",
        "IMAGE_HEIGHT, IMAGE_WIDTH = 128, 128\n",
        "# frame number for each video (depth)\n",
        "SEQUENCE_LENGTH = 16\n",
        "# video dir path\n",
        "DATASET_DIR = gdrive_path + 'Cropped_videos'\n",
        "# labels of classes\n",
        "CLASSES_LIST = ['hemostasis', 'inflammatory', 'proliferative', 'maturation']"
      ]
    },
    {
      "cell_type": "code",
      "execution_count": 5,
      "metadata": {
        "id": "3mFB5qD6b3Kd"
      },
      "outputs": [],
      "source": [
        "# image cropping\n",
        "def crop_center_square(frame):\n",
        "    y, x = frame.shape[0:2]\n",
        "    min_dim = min(y, x)\n",
        "    start_x = (x // 2) - (min_dim // 2)\n",
        "    start_y = (y // 2) - (min_dim // 2)\n",
        "    return frame[start_y:start_y+min_dim,start_x:start_x+min_dim]"
      ]
    },
    {
      "cell_type": "code",
      "execution_count": 6,
      "metadata": {
        "id": "sqeexMUjaLzJ"
      },
      "outputs": [],
      "source": [
        "# https://medium.com/analytics-vidhya/video-preprocessor-and-augmentation-for-deep-learning-tasks-12dd3fcce868\n",
        "def load_video(path, resize=(128, 128)):\n",
        "    video_reader = cv2.VideoCapture(path)\n",
        "    frames = []\n",
        "    try:\n",
        "        while True:\n",
        "            ret, frame = video_reader.read()\n",
        "            if not ret:\n",
        "                  break\n",
        "            frame = crop_center_square(frame)\n",
        "            frame = cv2.resize(frame, resize)\n",
        "            frame = frame[:, :, [2, 1, 0]]\n",
        "            frames.append(frame)\n",
        "    finally:\n",
        "        video_reader.release()\n",
        "    return np.array(frames) / 255.0"
      ]
    },
    {
      "cell_type": "code",
      "execution_count": 7,
      "metadata": {
        "id": "ljUWHW6Jqzu-"
      },
      "outputs": [],
      "source": [
        "def create_dataset(state):\n",
        "    # Declared Empty Lists to store the features, labels and video file path values.\n",
        "    features = []\n",
        "    labels = []\n",
        "    video_files_paths = []\n",
        "    # Iterating through all the classes mentioned in the classes list\n",
        "    for class_index, class_name in enumerate(CLASSES_LIST):\n",
        "        # Display the name of the class whose data is being extracted.\n",
        "        print(f'Extracting Data of Class: {class_name} {state}')\n",
        "        # Get the list of video files present in the specific class name directory.\n",
        "        files_list = os.listdir(os.path.join(DATASET_DIR, class_name))\n",
        "        # Iterate through all the files present in the files list.\n",
        "        for file_name in files_list:\n",
        "            # Get the complete video path.\n",
        "            video_file_path = os.path.join(DATASET_DIR, class_name, file_name)\n",
        "            # create testing data\n",
        "            if state == 'test':\n",
        "                # get the mouse number\n",
        "                mouse_number = int(video_file_path.split(' ')[2].split('_')[1].split('-')[1])\n",
        "                # get the mouse side (L or R)\n",
        "                mouse_side = video_file_path.split(' ')[2].split('_')[1].split('-')[2]\n",
        "                if mouse_number == 4 and mouse_side == 'L':\n",
        "                    frames = load_video(video_file_path)\n",
        "                    features.append(frames)\n",
        "                    labels.append(class_index)\n",
        "                    video_files_paths.append(video_file_path)\n",
        "            # create validation data\n",
        "            elif state == 'valid':\n",
        "                # get the mouse number\n",
        "                mouse_number = int(video_file_path.split(' ')[2].split('_')[1].split('-')[1])\n",
        "                # get the mouse side (L or R)\n",
        "                mouse_side = video_file_path.split(' ')[2].split('_')[1].split('-')[2]\n",
        "                if mouse_number == 4 and mouse_side == 'R':\n",
        "                    frames = load_video(video_file_path)\n",
        "                    features.append(frames)\n",
        "                    labels.append(class_index)\n",
        "                    video_files_paths.append(video_file_path)\n",
        "            # create training data\n",
        "            else:\n",
        "                # get the mouse number\n",
        "                mouse_number = int(video_file_path.split(' ')[2].split('_')[1].split('-')[1])\n",
        "                if mouse_number != 4:\n",
        "                    frames = load_video(video_file_path)\n",
        "                    features.append(frames)\n",
        "                    labels.append(class_index)\n",
        "                    video_files_paths.append(video_file_path)\n",
        "    # Converting the list to numpy arrays\n",
        "    features = np.asarray(features)\n",
        "    # print(features)\n",
        "    labels = np.array(labels)\n",
        "    # Return the frames, class index, and video file path.\n",
        "    return features, labels, video_files_paths"
      ]
    },
    {
      "cell_type": "code",
      "execution_count": 8,
      "metadata": {
        "colab": {
          "base_uri": "https://localhost:8080/"
        },
        "id": "a8rpanz9rASe",
        "outputId": "e7ce770c-f3ff-47ba-c7f2-7d6c54691d2e"
      },
      "outputs": [
        {
          "output_type": "stream",
          "name": "stdout",
          "text": [
            "Extracting Data of Class: hemostasis train\n",
            "Extracting Data of Class: inflammatory train\n",
            "Extracting Data of Class: proliferative train\n",
            "Extracting Data of Class: maturation train\n",
            "Extracting Data of Class: hemostasis test\n",
            "Extracting Data of Class: inflammatory test\n",
            "Extracting Data of Class: proliferative test\n",
            "Extracting Data of Class: maturation test\n",
            "Extracting Data of Class: hemostasis valid\n",
            "Extracting Data of Class: inflammatory valid\n",
            "Extracting Data of Class: proliferative valid\n",
            "Extracting Data of Class: maturation valid\n"
          ]
        }
      ],
      "source": [
        "# 6 mice for training, 2 mice for test and validation (one wound on each mice for test one for validation)\n",
        "features_train, labels_train, video_files_paths_train = create_dataset('train')\n",
        "features_test, labels_test, video_files_paths_test = create_dataset('test')\n",
        "features_valid, labels_valid, video_files_paths_valid = create_dataset('valid')"
      ]
    },
    {
      "cell_type": "code",
      "execution_count": 9,
      "metadata": {
        "id": "dtJkK4qTAulC"
      },
      "outputs": [],
      "source": [
        "# one_hot_encoded_labels\n",
        "labels_train = keras.utils.to_categorical(labels_train)\n",
        "labels_test = keras.utils.to_categorical(labels_test)\n",
        "labels_valid = keras.utils.to_categorical(labels_valid)"
      ]
    },
    {
      "cell_type": "code",
      "execution_count": 10,
      "metadata": {
        "id": "Bi-NDol3DHRV"
      },
      "outputs": [],
      "source": [
        "def create_convlstm_model():\n",
        "    # TimeDistributed is a wrapper to handle input of size five to maintain frames number for LSTM\n",
        "    # A Conv2D layer requires four dimensions: (batch_size, height, width, channels)\n",
        "    # TimeDistributed will require an additional dimension: (batch_size, frames, height, width, channels)\n",
        "\n",
        "    model = Sequential()\n",
        "\n",
        "    model.add(TimeDistributed(Conv2D(32, (3,3), activation='relu',\n",
        "                                     kernel_regularizer=regularizers.L2(l2=1e-4)),\n",
        "                              input_shape=(16, 128, 128, 3)))\n",
        "    # model.add(TimeDistributed(BatchNormalization()))\n",
        "    model.add(TimeDistributed(MaxPooling2D((2,2), strides=(2,2))))\n",
        "    model.add(Dropout(0.25))\n",
        "\n",
        "    model.add(TimeDistributed(Conv2D(32, (3,3), activation='relu',\n",
        "                                     kernel_regularizer=regularizers.L2(l2=1e-4))))\n",
        "    # model.add(TimeDistributed(BatchNormalization()))\n",
        "    model.add(TimeDistributed(MaxPooling2D((2,2), strides=(2,2))))\n",
        "    model.add(Dropout(0.25))\n",
        "\n",
        "    model.add(TimeDistributed(Conv2D(64, (3,3), activation='relu',\n",
        "                                     kernel_regularizer=regularizers.L2(l2=1e-4))))\n",
        "    # model.add(TimeDistributed(BatchNormalization()))\n",
        "    model.add(TimeDistributed(MaxPooling2D((2,2), strides=(2,2))))\n",
        "    model.add(Dropout(0.25))\n",
        "\n",
        "    model.add(TimeDistributed(Conv2D(64, (3,3), activation='relu',\n",
        "                                     kernel_regularizer=regularizers.L2(l2=1e-4))))\n",
        "    # model.add(TimeDistributed(BatchNormalization()))\n",
        "    model.add(TimeDistributed(MaxPooling2D((2,2), strides=(2,2))))\n",
        "    model.add(Dropout(0.25))\n",
        "  \n",
        "    # model.add(TimeDistributed(GlobalAveragePooling2D()))\n",
        "    # Another approach of using model.add(TimeDistributed(Flatten())) instead of the reshape.\n",
        "    model.add(TimeDistributed(Flatten()))\n",
        "    \n",
        "    model.add(LSTM(4, activation='relu', return_sequences=False))\n",
        "    model.add(Dropout(0.25))\n",
        "    model.add(Dense(32, activation='relu', kernel_initializer='he_uniform',\n",
        "                    kernel_regularizer=regularizers.L2(l2=1e-4)))\n",
        "    model.add(Dropout(0.25))\n",
        "    model.add(Dense(8, activation='relu', kernel_initializer='he_uniform'))\n",
        "    # model.add(Dense(16, activation='relu'))\n",
        "    # model.add(Dropout(0.3))\n",
        "    # model.add(Dense(8, activation='relu'))\n",
        "    # model.add(Dropout(0.3))\n",
        "    # model.add(Dense(4, activation='relu'))\n",
        "    # model.add(Dropout(0.3))\n",
        "    model.add(Dense(len(CLASSES_LIST), activation='softmax'))\n",
        "    model.summary(line_length = 100)\n",
        "    return model"
      ]
    },
    {
      "cell_type": "code",
      "execution_count": 11,
      "metadata": {
        "colab": {
          "base_uri": "https://localhost:8080/"
        },
        "id": "FbjNYI-0DY_v",
        "outputId": "4ad63bb0-c2ca-495c-ebcc-03092fbcab37"
      },
      "outputs": [
        {
          "output_type": "stream",
          "name": "stdout",
          "text": [
            "Model: \"sequential\"\n",
            "____________________________________________________________________________________________________\n",
            " Layer (type)                                Output Shape                            Param #        \n",
            "====================================================================================================\n",
            " time_distributed (TimeDistributed)          (None, 16, 126, 126, 32)                896            \n",
            "                                                                                                    \n",
            " time_distributed_1 (TimeDistributed)        (None, 16, 63, 63, 32)                  0              \n",
            "                                                                                                    \n",
            " dropout (Dropout)                           (None, 16, 63, 63, 32)                  0              \n",
            "                                                                                                    \n",
            " time_distributed_2 (TimeDistributed)        (None, 16, 61, 61, 32)                  9248           \n",
            "                                                                                                    \n",
            " time_distributed_3 (TimeDistributed)        (None, 16, 30, 30, 32)                  0              \n",
            "                                                                                                    \n",
            " dropout_1 (Dropout)                         (None, 16, 30, 30, 32)                  0              \n",
            "                                                                                                    \n",
            " time_distributed_4 (TimeDistributed)        (None, 16, 28, 28, 64)                  18496          \n",
            "                                                                                                    \n",
            " time_distributed_5 (TimeDistributed)        (None, 16, 14, 14, 64)                  0              \n",
            "                                                                                                    \n",
            " dropout_2 (Dropout)                         (None, 16, 14, 14, 64)                  0              \n",
            "                                                                                                    \n",
            " time_distributed_6 (TimeDistributed)        (None, 16, 12, 12, 64)                  36928          \n",
            "                                                                                                    \n",
            " time_distributed_7 (TimeDistributed)        (None, 16, 6, 6, 64)                    0              \n",
            "                                                                                                    \n",
            " dropout_3 (Dropout)                         (None, 16, 6, 6, 64)                    0              \n",
            "                                                                                                    \n",
            " time_distributed_8 (TimeDistributed)        (None, 16, 2304)                        0              \n",
            "                                                                                                    \n",
            " lstm (LSTM)                                 (None, 4)                               36944          \n",
            "                                                                                                    \n",
            " dropout_4 (Dropout)                         (None, 4)                               0              \n",
            "                                                                                                    \n",
            " dense (Dense)                               (None, 32)                              160            \n",
            "                                                                                                    \n",
            " dropout_5 (Dropout)                         (None, 32)                              0              \n",
            "                                                                                                    \n",
            " dense_1 (Dense)                             (None, 8)                               264            \n",
            "                                                                                                    \n",
            " dense_2 (Dense)                             (None, 4)                               36             \n",
            "                                                                                                    \n",
            "====================================================================================================\n",
            "Total params: 102,972\n",
            "Trainable params: 102,972\n",
            "Non-trainable params: 0\n",
            "____________________________________________________________________________________________________\n",
            "Model Created Successfully!\n"
          ]
        }
      ],
      "source": [
        "# Construct the required convlstm model.\n",
        "convlstm_model = create_convlstm_model()\n",
        " \n",
        "# Display the success message. \n",
        "print(\"Model Created Successfully!\")"
      ]
    },
    {
      "cell_type": "code",
      "execution_count": 12,
      "metadata": {
        "id": "SCB3R7so-wHz"
      },
      "outputs": [],
      "source": [
        "# keras.utils.plot_model(convlstm_model, to_file = 'convlstm_model_structure_plot.png', show_shapes = True, show_layer_names = True)"
      ]
    },
    {
      "cell_type": "code",
      "execution_count": 13,
      "metadata": {
        "id": "nMYwQOwyF3bd"
      },
      "outputs": [],
      "source": [
        "# keras.utils.plot_model(convlstm_model,\n",
        "#                          to_file = 'convlstm_model_structure_plot.png',\n",
        "#                          show_shapes = True,\n",
        "#                          show_layer_names = True)"
      ]
    },
    {
      "cell_type": "code",
      "execution_count": 14,
      "metadata": {
        "colab": {
          "base_uri": "https://localhost:8080/"
        },
        "id": "vYC_6H0uGqW9",
        "outputId": "59c9b9e6-577c-432b-e418-e65f9d95ac99"
      },
      "outputs": [
        {
          "output_type": "stream",
          "name": "stdout",
          "text": [
            "Epoch 1/100\n",
            "101/101 [==============================] - 13s 93ms/step - loss: 1.1647 - accuracy: 0.3967 - val_loss: 1.0234 - val_accuracy: 0.4265\n",
            "Epoch 2/100\n",
            "101/101 [==============================] - 8s 82ms/step - loss: 1.0607 - accuracy: 0.4542 - val_loss: 0.9969 - val_accuracy: 0.5956\n",
            "Epoch 3/100\n",
            "101/101 [==============================] - 8s 81ms/step - loss: 1.0228 - accuracy: 0.4920 - val_loss: 0.8683 - val_accuracy: 0.6507\n",
            "Epoch 4/100\n",
            "101/101 [==============================] - 8s 82ms/step - loss: 0.9523 - accuracy: 0.5538 - val_loss: 0.8565 - val_accuracy: 0.6949\n",
            "Epoch 5/100\n",
            "101/101 [==============================] - 8s 82ms/step - loss: 0.9019 - accuracy: 0.5823 - val_loss: 0.7759 - val_accuracy: 0.6250\n",
            "Epoch 6/100\n",
            "101/101 [==============================] - 8s 82ms/step - loss: 0.8937 - accuracy: 0.5947 - val_loss: 0.7818 - val_accuracy: 0.5919\n",
            "Epoch 7/100\n",
            "101/101 [==============================] - 8s 81ms/step - loss: 0.8550 - accuracy: 0.6071 - val_loss: 0.6910 - val_accuracy: 0.7757\n",
            "Epoch 8/100\n",
            "101/101 [==============================] - 8s 81ms/step - loss: 0.7783 - accuracy: 0.6417 - val_loss: 1.1676 - val_accuracy: 0.7169\n",
            "Epoch 9/100\n",
            "101/101 [==============================] - 8s 81ms/step - loss: 0.9141 - accuracy: 0.5551 - val_loss: 0.7045 - val_accuracy: 0.7757\n",
            "Epoch 10/100\n",
            "101/101 [==============================] - 8s 82ms/step - loss: 0.8597 - accuracy: 0.5823 - val_loss: 0.7340 - val_accuracy: 0.6618\n",
            "Epoch 11/100\n",
            "101/101 [==============================] - 8s 81ms/step - loss: 0.8400 - accuracy: 0.6244 - val_loss: 0.7553 - val_accuracy: 0.7647\n",
            "Epoch 12/100\n",
            "101/101 [==============================] - 8s 80ms/step - loss: 0.7233 - accuracy: 0.6937 - val_loss: 0.6984 - val_accuracy: 0.7647\n",
            "Epoch 13/100\n",
            "101/101 [==============================] - 8s 81ms/step - loss: 0.6713 - accuracy: 0.7252 - val_loss: 0.6187 - val_accuracy: 0.7868\n",
            "Epoch 14/100\n",
            "101/101 [==============================] - 8s 81ms/step - loss: 0.6237 - accuracy: 0.7537 - val_loss: 0.5815 - val_accuracy: 0.7831\n",
            "Epoch 15/100\n",
            "101/101 [==============================] - 8s 81ms/step - loss: 0.6207 - accuracy: 0.7413 - val_loss: 0.7567 - val_accuracy: 0.6360\n",
            "Epoch 16/100\n",
            "101/101 [==============================] - 8s 81ms/step - loss: 0.5854 - accuracy: 0.7618 - val_loss: 0.5099 - val_accuracy: 0.7978\n",
            "Epoch 17/100\n",
            "101/101 [==============================] - 8s 81ms/step - loss: 0.5789 - accuracy: 0.7679 - val_loss: 0.6362 - val_accuracy: 0.7500\n",
            "Epoch 18/100\n",
            "101/101 [==============================] - 8s 81ms/step - loss: 0.5228 - accuracy: 0.7896 - val_loss: 0.6875 - val_accuracy: 0.7279\n",
            "Epoch 19/100\n",
            "101/101 [==============================] - 8s 81ms/step - loss: 0.5198 - accuracy: 0.7908 - val_loss: 0.7904 - val_accuracy: 0.8125\n",
            "Epoch 20/100\n",
            "101/101 [==============================] - 8s 81ms/step - loss: 0.9012 - accuracy: 0.6083 - val_loss: 0.6595 - val_accuracy: 0.6949\n",
            "Epoch 21/100\n",
            "101/101 [==============================] - 8s 81ms/step - loss: 0.6268 - accuracy: 0.7215 - val_loss: 0.5264 - val_accuracy: 0.7941\n",
            "Epoch 22/100\n",
            "101/101 [==============================] - 8s 80ms/step - loss: 0.5995 - accuracy: 0.7407 - val_loss: 0.5998 - val_accuracy: 0.7096\n",
            "Epoch 23/100\n",
            "101/101 [==============================] - 8s 81ms/step - loss: 0.5440 - accuracy: 0.7673 - val_loss: 0.5704 - val_accuracy: 0.7721\n",
            "Epoch 24/100\n",
            "101/101 [==============================] - 8s 81ms/step - loss: 0.4856 - accuracy: 0.7921 - val_loss: 0.6471 - val_accuracy: 0.6838\n",
            "Epoch 25/100\n",
            "101/101 [==============================] - 8s 81ms/step - loss: 0.5520 - accuracy: 0.7642 - val_loss: 0.5973 - val_accuracy: 0.7243\n",
            "Epoch 26/100\n",
            "101/101 [==============================] - 8s 81ms/step - loss: 0.4791 - accuracy: 0.7946 - val_loss: 0.4630 - val_accuracy: 0.7941\n",
            "Epoch 27/100\n",
            "101/101 [==============================] - 8s 82ms/step - loss: 0.5163 - accuracy: 0.7760 - val_loss: 0.4975 - val_accuracy: 0.8272\n",
            "Epoch 28/100\n",
            "101/101 [==============================] - 8s 81ms/step - loss: 0.4752 - accuracy: 0.7921 - val_loss: 0.6059 - val_accuracy: 0.7426\n",
            "Epoch 29/100\n",
            "101/101 [==============================] - 8s 81ms/step - loss: 0.4612 - accuracy: 0.8100 - val_loss: 0.5283 - val_accuracy: 0.7831\n",
            "Epoch 30/100\n",
            "101/101 [==============================] - 8s 82ms/step - loss: 0.4590 - accuracy: 0.8007 - val_loss: 0.5245 - val_accuracy: 0.7794\n",
            "Epoch 31/100\n",
            "101/101 [==============================] - 8s 82ms/step - loss: 0.4553 - accuracy: 0.8057 - val_loss: 0.5503 - val_accuracy: 0.7316\n",
            "Epoch 32/100\n",
            "101/101 [==============================] - 8s 82ms/step - loss: 0.4603 - accuracy: 0.8051 - val_loss: 0.5117 - val_accuracy: 0.7279\n",
            "Epoch 33/100\n",
            "101/101 [==============================] - 8s 81ms/step - loss: 0.4160 - accuracy: 0.8063 - val_loss: 0.4832 - val_accuracy: 0.7574\n",
            "Epoch 34/100\n",
            "101/101 [==============================] - 8s 81ms/step - loss: 0.4099 - accuracy: 0.8100 - val_loss: 0.5142 - val_accuracy: 0.7610\n",
            "Epoch 35/100\n",
            "101/101 [==============================] - 8s 82ms/step - loss: 0.3992 - accuracy: 0.8218 - val_loss: 0.4954 - val_accuracy: 0.7574\n",
            "Epoch 36/100\n",
            "101/101 [==============================] - 8s 81ms/step - loss: 0.3941 - accuracy: 0.8298 - val_loss: 0.6045 - val_accuracy: 0.6985\n",
            "Epoch 37/100\n",
            "101/101 [==============================] - 8s 81ms/step - loss: 0.4177 - accuracy: 0.8181 - val_loss: 0.5581 - val_accuracy: 0.7574\n",
            "Epoch 38/100\n",
            "101/101 [==============================] - 8s 81ms/step - loss: 0.3959 - accuracy: 0.8323 - val_loss: 0.5675 - val_accuracy: 0.7610\n",
            "Epoch 39/100\n",
            "101/101 [==============================] - 8s 81ms/step - loss: 0.3627 - accuracy: 0.8366 - val_loss: 0.5883 - val_accuracy: 0.7096\n",
            "Epoch 40/100\n",
            "101/101 [==============================] - 8s 82ms/step - loss: 0.3627 - accuracy: 0.8360 - val_loss: 0.8865 - val_accuracy: 0.6029\n",
            "Epoch 41/100\n",
            "101/101 [==============================] - 8s 82ms/step - loss: 0.4341 - accuracy: 0.8057 - val_loss: 0.5114 - val_accuracy: 0.7426\n",
            "Epoch 42/100\n",
            "101/101 [==============================] - 8s 81ms/step - loss: 0.3738 - accuracy: 0.8385 - val_loss: 0.4676 - val_accuracy: 0.7647\n",
            "Epoch 43/100\n",
            "101/101 [==============================] - 8s 82ms/step - loss: 0.3417 - accuracy: 0.8410 - val_loss: 0.6719 - val_accuracy: 0.6985\n",
            "Epoch 44/100\n",
            "101/101 [==============================] - 8s 81ms/step - loss: 0.3484 - accuracy: 0.8540 - val_loss: 0.5981 - val_accuracy: 0.7096\n",
            "Epoch 45/100\n",
            "101/101 [==============================] - 8s 82ms/step - loss: 0.3303 - accuracy: 0.8577 - val_loss: 0.6640 - val_accuracy: 0.6949\n",
            "Epoch 46/100\n",
            "101/101 [==============================] - 8s 82ms/step - loss: 0.3498 - accuracy: 0.8490 - val_loss: 1.1042 - val_accuracy: 0.7316\n",
            "Epoch 47/100\n",
            "101/101 [==============================] - 8s 82ms/step - loss: 0.3993 - accuracy: 0.8230 - val_loss: 0.5046 - val_accuracy: 0.7353\n",
            "Epoch 48/100\n",
            "101/101 [==============================] - 8s 81ms/step - loss: 0.3554 - accuracy: 0.8447 - val_loss: 0.5718 - val_accuracy: 0.7574\n",
            "Epoch 49/100\n",
            "101/101 [==============================] - 8s 82ms/step - loss: 0.3409 - accuracy: 0.8601 - val_loss: 0.5830 - val_accuracy: 0.7206\n",
            "Epoch 50/100\n",
            "101/101 [==============================] - 8s 81ms/step - loss: 0.3466 - accuracy: 0.8540 - val_loss: 0.6637 - val_accuracy: 0.6985\n",
            "Epoch 51/100\n",
            "101/101 [==============================] - 8s 82ms/step - loss: 0.3492 - accuracy: 0.8533 - val_loss: 0.4886 - val_accuracy: 0.7610\n",
            "Epoch 52/100\n",
            "101/101 [==============================] - 8s 81ms/step - loss: 0.3239 - accuracy: 0.8614 - val_loss: 0.4797 - val_accuracy: 0.7463\n",
            "Epoch 53/100\n",
            "101/101 [==============================] - 8s 81ms/step - loss: 0.3063 - accuracy: 0.8756 - val_loss: 0.4678 - val_accuracy: 0.7022\n",
            "Epoch 54/100\n",
            "101/101 [==============================] - 8s 81ms/step - loss: 0.3041 - accuracy: 0.8731 - val_loss: 0.5027 - val_accuracy: 0.7390\n",
            "Epoch 55/100\n",
            "101/101 [==============================] - 8s 82ms/step - loss: 0.3378 - accuracy: 0.8564 - val_loss: 0.5601 - val_accuracy: 0.6985\n",
            "Epoch 56/100\n",
            "101/101 [==============================] - 8s 82ms/step - loss: 0.3171 - accuracy: 0.8663 - val_loss: 0.5301 - val_accuracy: 0.7279\n",
            "Epoch 57/100\n",
            "101/101 [==============================] - 8s 81ms/step - loss: 0.3229 - accuracy: 0.8632 - val_loss: 0.7521 - val_accuracy: 0.7500\n",
            "Epoch 58/100\n",
            "101/101 [==============================] - 8s 81ms/step - loss: 0.3481 - accuracy: 0.8583 - val_loss: 0.5548 - val_accuracy: 0.7169\n",
            "Epoch 59/100\n",
            "101/101 [==============================] - 8s 81ms/step - loss: 0.3104 - accuracy: 0.8731 - val_loss: 0.4654 - val_accuracy: 0.7500\n",
            "Epoch 60/100\n",
            "101/101 [==============================] - 8s 81ms/step - loss: 0.2953 - accuracy: 0.8837 - val_loss: 0.5253 - val_accuracy: 0.7169\n",
            "Epoch 61/100\n",
            "101/101 [==============================] - 8s 82ms/step - loss: 0.2860 - accuracy: 0.8979 - val_loss: 0.5603 - val_accuracy: 0.6654\n",
            "Epoch 62/100\n",
            "101/101 [==============================] - 8s 81ms/step - loss: 0.3508 - accuracy: 0.8601 - val_loss: 0.5390 - val_accuracy: 0.7022\n",
            "Epoch 63/100\n",
            "101/101 [==============================] - 8s 81ms/step - loss: 0.2803 - accuracy: 0.8880 - val_loss: 0.5786 - val_accuracy: 0.6691\n",
            "Epoch 64/100\n",
            "101/101 [==============================] - 8s 82ms/step - loss: 0.2775 - accuracy: 0.8929 - val_loss: 0.5422 - val_accuracy: 0.6875\n",
            "Epoch 65/100\n",
            "101/101 [==============================] - 8s 81ms/step - loss: 0.2914 - accuracy: 0.8812 - val_loss: 0.4028 - val_accuracy: 0.7757\n",
            "Epoch 66/100\n",
            "101/101 [==============================] - 8s 80ms/step - loss: 0.2611 - accuracy: 0.9041 - val_loss: 0.5061 - val_accuracy: 0.6618\n",
            "Epoch 67/100\n",
            "101/101 [==============================] - 8s 82ms/step - loss: 0.2736 - accuracy: 0.9028 - val_loss: 0.5254 - val_accuracy: 0.6250\n",
            "Epoch 68/100\n",
            "101/101 [==============================] - 8s 81ms/step - loss: 0.2623 - accuracy: 0.9053 - val_loss: 0.5314 - val_accuracy: 0.7537\n",
            "Epoch 69/100\n",
            "101/101 [==============================] - 8s 81ms/step - loss: 0.2541 - accuracy: 0.9202 - val_loss: 0.5071 - val_accuracy: 0.7132\n",
            "Epoch 70/100\n",
            "101/101 [==============================] - 8s 81ms/step - loss: 0.2572 - accuracy: 0.9134 - val_loss: 0.8374 - val_accuracy: 0.6691\n",
            "Epoch 71/100\n",
            "101/101 [==============================] - 8s 81ms/step - loss: 0.2721 - accuracy: 0.9078 - val_loss: 0.4984 - val_accuracy: 0.7426\n",
            "Epoch 72/100\n",
            "101/101 [==============================] - 8s 81ms/step - loss: 0.2370 - accuracy: 0.9226 - val_loss: 0.7102 - val_accuracy: 0.7684\n",
            "Epoch 73/100\n",
            "101/101 [==============================] - 8s 81ms/step - loss: 0.2296 - accuracy: 0.9295 - val_loss: 0.5522 - val_accuracy: 0.6324\n",
            "Epoch 74/100\n",
            "101/101 [==============================] - 8s 82ms/step - loss: 0.2223 - accuracy: 0.9295 - val_loss: 0.5455 - val_accuracy: 0.7390\n",
            "Epoch 75/100\n",
            "101/101 [==============================] - 8s 82ms/step - loss: 0.2745 - accuracy: 0.8973 - val_loss: 0.5180 - val_accuracy: 0.7279\n",
            "Epoch 76/100\n",
            "101/101 [==============================] - 8s 81ms/step - loss: 0.2181 - accuracy: 0.9332 - val_loss: 0.5799 - val_accuracy: 0.6912\n",
            "Epoch 77/100\n",
            "101/101 [==============================] - 8s 82ms/step - loss: 0.2367 - accuracy: 0.9264 - val_loss: 0.6170 - val_accuracy: 0.7574\n",
            "Epoch 78/100\n",
            "101/101 [==============================] - 8s 81ms/step - loss: 0.2552 - accuracy: 0.9152 - val_loss: 0.6632 - val_accuracy: 0.6985\n",
            "Epoch 79/100\n",
            "101/101 [==============================] - 8s 81ms/step - loss: 0.2340 - accuracy: 0.9233 - val_loss: 0.5517 - val_accuracy: 0.6507\n",
            "Epoch 80/100\n",
            "101/101 [==============================] - 8s 81ms/step - loss: 0.2358 - accuracy: 0.9257 - val_loss: 0.7178 - val_accuracy: 0.6654\n",
            "Epoch 81/100\n",
            "101/101 [==============================] - 8s 81ms/step - loss: 0.2311 - accuracy: 0.9270 - val_loss: 0.6029 - val_accuracy: 0.6360\n",
            "Epoch 82/100\n",
            "101/101 [==============================] - 8s 81ms/step - loss: 0.2251 - accuracy: 0.9319 - val_loss: 0.5039 - val_accuracy: 0.6875\n",
            "Epoch 83/100\n",
            "101/101 [==============================] - 8s 81ms/step - loss: 0.2382 - accuracy: 0.9214 - val_loss: 0.4056 - val_accuracy: 0.8088\n",
            "Epoch 84/100\n",
            "101/101 [==============================] - 8s 81ms/step - loss: 0.2265 - accuracy: 0.9344 - val_loss: 0.5912 - val_accuracy: 0.7316\n",
            "Epoch 85/100\n",
            "101/101 [==============================] - 8s 82ms/step - loss: 0.2070 - accuracy: 0.9431 - val_loss: 0.5590 - val_accuracy: 0.6875\n",
            "Epoch 86/100\n",
            "101/101 [==============================] - 8s 81ms/step - loss: 0.2152 - accuracy: 0.9319 - val_loss: 0.6929 - val_accuracy: 0.7022\n",
            "Epoch 87/100\n",
            "101/101 [==============================] - 8s 82ms/step - loss: 0.2310 - accuracy: 0.9307 - val_loss: 0.4078 - val_accuracy: 0.7574\n",
            "Epoch 88/100\n",
            "101/101 [==============================] - 8s 81ms/step - loss: 0.2099 - accuracy: 0.9375 - val_loss: 0.5224 - val_accuracy: 0.7684\n",
            "Epoch 89/100\n",
            "101/101 [==============================] - 8s 81ms/step - loss: 0.2195 - accuracy: 0.9313 - val_loss: 0.5224 - val_accuracy: 0.7721\n",
            "Epoch 90/100\n",
            "101/101 [==============================] - 8s 81ms/step - loss: 0.2040 - accuracy: 0.9406 - val_loss: 0.6040 - val_accuracy: 0.7169\n",
            "Epoch 91/100\n",
            "101/101 [==============================] - 8s 81ms/step - loss: 0.2240 - accuracy: 0.9400 - val_loss: 0.5619 - val_accuracy: 0.6912\n",
            "Epoch 92/100\n",
            "101/101 [==============================] - 8s 81ms/step - loss: 0.2606 - accuracy: 0.9140 - val_loss: 0.5626 - val_accuracy: 0.7022\n",
            "Epoch 93/100\n",
            "101/101 [==============================] - 8s 82ms/step - loss: 0.2009 - accuracy: 0.9400 - val_loss: 0.5353 - val_accuracy: 0.7132\n",
            "Epoch 94/100\n",
            "101/101 [==============================] - 8s 82ms/step - loss: 0.2012 - accuracy: 0.9437 - val_loss: 0.5172 - val_accuracy: 0.7059\n",
            "Epoch 95/100\n",
            "101/101 [==============================] - 8s 82ms/step - loss: 0.2504 - accuracy: 0.9220 - val_loss: 0.5698 - val_accuracy: 0.7169\n",
            "Epoch 96/100\n",
            "101/101 [==============================] - 8s 81ms/step - loss: 0.2102 - accuracy: 0.9375 - val_loss: 0.4722 - val_accuracy: 0.7426\n",
            "Epoch 97/100\n",
            "101/101 [==============================] - 8s 81ms/step - loss: 0.1920 - accuracy: 0.9468 - val_loss: 0.5299 - val_accuracy: 0.7243\n",
            "Epoch 98/100\n",
            "101/101 [==============================] - 8s 82ms/step - loss: 0.2002 - accuracy: 0.9344 - val_loss: 0.5879 - val_accuracy: 0.7426\n",
            "Epoch 99/100\n",
            "101/101 [==============================] - 8s 82ms/step - loss: 0.1880 - accuracy: 0.9511 - val_loss: 0.6414 - val_accuracy: 0.7426\n",
            "Epoch 100/100\n",
            "101/101 [==============================] - 8s 81ms/step - loss: 0.2148 - accuracy: 0.9394 - val_loss: 0.5453 - val_accuracy: 0.7684\n"
          ]
        }
      ],
      "source": [
        "# Create an Instance of Early Stopping Callback\n",
        "\n",
        "# https://stackoverflow.com/questions/53479007/how-to-setup-adaptive-learning-rate-in-keras\n",
        "# def adapt_learning_rate(epoch):\n",
        "#     print(0.0001 * epoch)\n",
        "#     return 0.0001 * epoch\n",
        "# my_lr_scheduler = keras.callbacks.LearningRateScheduler(adapt_learning_rate)\n",
        "\n",
        "early_stopping_callback = keras.callbacks.EarlyStopping(monitor = 'val_loss',\n",
        "                                                        patience = 10,\n",
        "                                                        mode = 'min',\n",
        "                                                        restore_best_weights = True)\n",
        "# Compile the model and specify loss function, optimizer and metrics values to the model\n",
        "convlstm_model.compile(loss = 'categorical_crossentropy',\n",
        "                       optimizer= keras.optimizers.Adam(0.001, decay=1e-4),\n",
        "                       metrics = [\"accuracy\"])\n",
        "# Start training the model.\n",
        "convlstm_model_training_history = convlstm_model.fit(x = features_train,\n",
        "                                                     y = labels_train,\n",
        "                                                     epochs = 100,\n",
        "                                                     batch_size = 16,\n",
        "                                                     shuffle = True,\n",
        "                                                     validation_data = (features_valid, labels_valid)),\n",
        "                                                    #  callbacks = [early_stopping_callback])\n"
      ]
    },
    {
      "cell_type": "code",
      "execution_count": 15,
      "metadata": {
        "colab": {
          "base_uri": "https://localhost:8080/"
        },
        "id": "LcpKhGqvIenv",
        "outputId": "9931c764-4c93-4476-ef8f-f41abb2ac801"
      },
      "outputs": [
        {
          "output_type": "stream",
          "name": "stdout",
          "text": [
            "9/9 [==============================] - 1s 51ms/step - loss: 1.0519 - accuracy: 0.6838\n",
            "\n",
            "\n",
            "Train accuracy: 90.718 % || Test accuracy: 68.382 % || Val accuracy: 76.838 %\n",
            "Train loss: 0.231 || Test loss: 1.052 || Val loss: 0.545\n"
          ]
        }
      ],
      "source": [
        "model_evaluation_history = convlstm_model.evaluate(features_test, labels_test)\n",
        "\n",
        "print('\\n')\n",
        "\n",
        "train_loss, train_acc = convlstm_model.evaluate(features_train, labels_train, verbose=0)\n",
        "test_loss, test_acc = convlstm_model.evaluate(features_test, labels_test, verbose=0)\n",
        "val_loss, val_acc = convlstm_model.evaluate(features_valid, labels_valid, verbose=0)\n",
        "\n",
        "print(f'Train accuracy: {train_acc*100:.3f} % || Test accuracy: {test_acc*100:.3f} % || Val accuracy: {val_acc*100:.3f} %')\n",
        "print(f'Train loss: {train_loss:.3f} || Test loss: {test_loss:.3f} || Val loss: {val_loss:.3f}')"
      ]
    },
    {
      "cell_type": "code",
      "execution_count": 16,
      "metadata": {
        "id": "qsFw5KIzIum9"
      },
      "outputs": [],
      "source": [
        "# Get the loss and accuracy from model_evaluation_history.\n",
        "model_evaluation_loss, model_evaluation_accuracy = model_evaluation_history\n",
        " \n",
        "# Define the string date format.\n",
        "# Get the current Date and Time in a DateTime Object.\n",
        "# Convert the DateTime object to string according to the style mentioned in date_time_format string.\n",
        "date_time_format = '%Y_%m_%d__%H_%M_%S'\n",
        "current_date_time_dt = dt.datetime.now()\n",
        "current_date_time_string = dt.datetime.strftime(current_date_time_dt, date_time_format)\n",
        " \n",
        "# Define a useful name for our model to make it easy for us while navigating through multiple saved models.\n",
        "model_file_name = f'convlstm_model___Date_Time_{current_date_time_string}___Loss_{model_evaluation_loss}___Accuracy_{model_evaluation_accuracy}.h5'\n",
        " \n",
        "# Change dir\n",
        "gdrive_path = '/content/gdrive' + '/My Drive/247/Saved_models/'\n",
        "os.chdir(gdrive_path)\n",
        "# Create a floder for the model files\n",
        "!mkdir -p convlstm_{current_date_time_string}\n",
        "# Save your Model.\n",
        "convlstm_model.save('convlstm_' + str(current_date_time_string) + '/' + model_file_name)\n",
        "# Save model weights\n",
        "convlstm_model.save_weights('convlstm_' + str(current_date_time_string) + '/' + 'weights')"
      ]
    },
    {
      "cell_type": "code",
      "execution_count": 17,
      "metadata": {
        "id": "Z0eAobhSIz_P"
      },
      "outputs": [],
      "source": [
        "def plot_metric(model_training_history, metric_name_1, metric_name_2, plot_name):\n",
        "    '''\n",
        "    This function will plot the metrics passed to it in a graph.\n",
        "    Args:\n",
        "        model_training_history: A history object containing a record of training and validation \n",
        "                                loss values and metrics values at successive epochs\n",
        "        metric_name_1:          The name of the first metric that needs to be plotted in the graph.\n",
        "        metric_name_2:          The name of the second metric that needs to be plotted in the graph.\n",
        "        plot_name:              The title of the graph.\n",
        "    '''\n",
        "    \n",
        "    # Get metric values using metric names as identifiers.\n",
        "    metric_value_1 = model_training_history[0].history[metric_name_1]\n",
        "    metric_value_2 = model_training_history[0].history[metric_name_2]\n",
        "    \n",
        "    # Construct a range object which will be used as x-axis (horizontal plane) of the graph.\n",
        "    epochs = range(len(metric_value_1))\n",
        "\n",
        "    # Plot the Graph.\n",
        "    plt.plot(epochs, metric_value_1, 'blue', label = metric_name_1)\n",
        "    plt.plot(epochs, metric_value_2, 'red', label = metric_name_2)\n",
        "\n",
        "    # Add title to the plot.\n",
        "    plt.title(str(plot_name))\n",
        "\n",
        "    # Add legend to the plot.\n",
        "    plt.legend()"
      ]
    },
    {
      "cell_type": "code",
      "execution_count": 18,
      "metadata": {
        "colab": {
          "base_uri": "https://localhost:8080/",
          "height": 281
        },
        "id": "18RtBjI9I5lE",
        "outputId": "dbfdedd5-b787-4f79-ba9c-0f8b083fd5b8"
      },
      "outputs": [
        {
          "output_type": "display_data",
          "data": {
            "text/plain": [
              "<Figure size 432x288 with 1 Axes>"
            ],
            "image/png": "[encoded data removed]"
          },
          "metadata": {
            "needs_background": "light"
          }
        }
      ],
      "source": [
        "plot_metric(convlstm_model_training_history, 'loss', 'val_loss', 'Total Loss vs Total Validation Loss')"
      ]
    },
    {
      "cell_type": "code",
      "execution_count": 19,
      "metadata": {
        "colab": {
          "base_uri": "https://localhost:8080/",
          "height": 281
        },
        "id": "02amk7TXI_OS",
        "outputId": "31fd05c1-8945-4d0b-cdfa-6856e99ca5d3"
      },
      "outputs": [
        {
          "output_type": "display_data",
          "data": {
            "text/plain": [
              "<Figure size 432x288 with 1 Axes>"
            ],
            "image/png": "[encoded data removed]"
          },
          "metadata": {
            "needs_background": "light"
          }
        }
      ],
      "source": [
        "plot_metric(convlstm_model_training_history, 'accuracy', 'val_accuracy', 'Total Accuracy vs Total Validation Accuracy') "
      ]
    }
  ],
  "metadata": {
    "accelerator": "GPU",
    "colab": {
      "background_execution": "on",
      "collapsed_sections": [],
      "machine_shape": "hm",
      "name": "2D_CNN+LSTM.ipynb",
      "provenance": [],
      "authorship_tag": "ABX9TyPw/46BX9cVARDdU7t9KIwG",
      "include_colab_link": true
    },
    "kernelspec": {
      "display_name": "Python 3",
      "name": "python3"
    },
    "language_info": {
      "name": "python"
    }
  },
  "nbformat": 4,
  "nbformat_minor": 0
}