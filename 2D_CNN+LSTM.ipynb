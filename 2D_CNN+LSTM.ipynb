{
  "cells": [
    {
      "cell_type": "markdown",
      "metadata": {
        "id": "view-in-github",
        "colab_type": "text"
      },
      "source": [
        "<a href=\"https://colab.research.google.com/github/alexsalman/CSE247/blob/main/2D_CNN%2BLSTM.ipynb\" target=\"_parent\"><img src=\"https://colab.research.google.com/assets/colab-badge.svg\" alt=\"Open In Colab\"/></a>"
      ]
    },
    {
      "cell_type": "markdown",
      "metadata": {
        "id": "Fk8TLrPiv-ab"
      },
      "source": [
        "####**Convolutional Neural Network + Long Short Term Memory**\n",
        "######*I am using a Convolution Neural Network (CNN) + Long Short Term Memory (LSTM) Network to extract general representation while utilizing the Spatial-temporal aspect of the videos.*"
      ]
    },
    {
      "cell_type": "code",
      "execution_count": 1,
      "metadata": {
        "colab": {
          "base_uri": "https://localhost:8080/"
        },
        "id": "M8ibtd5HKtZk",
        "outputId": "05bdd375-37c4-4800-92ff-11eae38729fb"
      },
      "outputs": [
        {
          "output_type": "stream",
          "name": "stdout",
          "text": [
            "2.8.0\n"
          ]
        }
      ],
      "source": [
        "# required libraries\n",
        "import os\n",
        "import cv2\n",
        "import math\n",
        "import random\n",
        "import numpy as np\n",
        "import datetime as dt\n",
        "from collections import deque\n",
        "import matplotlib.pyplot as plt\n",
        "from google.colab import drive\n",
        "from sklearn.model_selection import train_test_split\n",
        "import tensorflow as tf\n",
        "from tensorflow import keras\n",
        "from keras.models import Sequential\n",
        "from keras.layers import Dense, Flatten, Conv3D, MaxPooling3D, Dropout, BatchNormalization, ConvLSTM2D\n",
        "from keras.layers import Reshape, Conv2D, TimeDistributed, MaxPooling2D, Activation, GlobalAveragePooling2D\n",
        "from keras.layers.recurrent import LSTM\n",
        "from keras import regularizers\n",
        "from PIL import Image\n",
        "%matplotlib inline\n",
        "print(tf.version.VERSION)\n",
        "# https://bleedai.com/human-activity-recognition-using-tensorflow-cnn-lstm/"
      ]
    },
    {
      "cell_type": "code",
      "execution_count": 2,
      "metadata": {
        "id": "iffdFOf1CEAN"
      },
      "outputs": [],
      "source": [
        "# set Numpy, Python, and Tensorflow seeds to get consistent results on every execution\n",
        "seed_constant = 27\n",
        "np.random.seed(seed_constant)\n",
        "random.seed(seed_constant)\n",
        "tf.random.set_seed(seed_constant)"
      ]
    },
    {
      "cell_type": "code",
      "execution_count": 3,
      "metadata": {
        "colab": {
          "base_uri": "https://localhost:8080/",
          "height": 53
        },
        "id": "mcLh22LiOHyn",
        "outputId": "507602d4-4fa7-4ee9-f124-b52ec7904bf6"
      },
      "outputs": [
        {
          "output_type": "stream",
          "name": "stdout",
          "text": [
            "Mounted at /content/gdrive/\n"
          ]
        },
        {
          "output_type": "execute_result",
          "data": {
            "text/plain": [
              "'/content/gdrive/My Drive/247'"
            ],
            "application/vnd.google.colaboratory.intrinsic+json": {
              "type": "string"
            }
          },
          "metadata": {},
          "execution_count": 3
        }
      ],
      "source": [
        "# mount dataset from google drive\n",
        "drive.mount('/content/gdrive/', force_remount=True)\n",
        "gdrive_path = '/content/gdrive' + '/My Drive/247/'\n",
        "os.chdir(gdrive_path)\n",
        "os.getcwd()"
      ]
    },
    {
      "cell_type": "code",
      "execution_count": 4,
      "metadata": {
        "id": "oeDK8SzumZ1Q"
      },
      "outputs": [],
      "source": [
        "# frame dimention\n",
        "IMAGE_HEIGHT, IMAGE_WIDTH = 128, 128\n",
        "# frame number for each video (depth)\n",
        "SEQUENCE_LENGTH = 16\n",
        "# video dir path\n",
        "DATASET_DIR = gdrive_path + 'Cropped_videos'\n",
        "# labels of classes\n",
        "CLASSES_LIST = ['hemostasis', 'inflammatory', 'proliferative', 'maturation']"
      ]
    },
    {
      "cell_type": "code",
      "execution_count": 5,
      "metadata": {
        "id": "3mFB5qD6b3Kd"
      },
      "outputs": [],
      "source": [
        "# image cropping\n",
        "def crop_center_square(frame):\n",
        "    y, x = frame.shape[0:2]\n",
        "    min_dim = min(y, x)\n",
        "    start_x = (x // 2) - (min_dim // 2)\n",
        "    start_y = (y // 2) - (min_dim // 2)\n",
        "    return frame[start_y:start_y+min_dim,start_x:start_x+min_dim]"
      ]
    },
    {
      "cell_type": "code",
      "execution_count": 6,
      "metadata": {
        "id": "sqeexMUjaLzJ"
      },
      "outputs": [],
      "source": [
        "# https://medium.com/analytics-vidhya/video-preprocessor-and-augmentation-for-deep-learning-tasks-12dd3fcce868\n",
        "def load_video(path, resize=(128, 128)):\n",
        "    video_reader = cv2.VideoCapture(path)\n",
        "    frames = []\n",
        "    try:\n",
        "        while True:\n",
        "            ret, frame = video_reader.read()\n",
        "            if not ret:\n",
        "                  break\n",
        "            frame = crop_center_square(frame)\n",
        "            frame = cv2.resize(frame, resize)\n",
        "            frame = frame[:, :, [2, 1, 0]]\n",
        "            frames.append(frame)\n",
        "    finally:\n",
        "        video_reader.release()\n",
        "    return np.array(frames) / 255.0"
      ]
    },
    {
      "cell_type": "code",
      "execution_count": 7,
      "metadata": {
        "id": "ljUWHW6Jqzu-"
      },
      "outputs": [],
      "source": [
        "def create_dataset(state):\n",
        "    # Declared Empty Lists to store the features, labels and video file path values.\n",
        "    features = []\n",
        "    labels = []\n",
        "    video_files_paths = []\n",
        "    # Iterating through all the classes mentioned in the classes list\n",
        "    for class_index, class_name in enumerate(CLASSES_LIST):\n",
        "        # Display the name of the class whose data is being extracted.\n",
        "        print(f'Extracting Data of Class: {class_name} {state}')\n",
        "        # Get the list of video files present in the specific class name directory.\n",
        "        files_list = os.listdir(os.path.join(DATASET_DIR, class_name))\n",
        "        # Iterate through all the files present in the files list.\n",
        "        for file_name in files_list:\n",
        "            # Get the complete video path.\n",
        "            video_file_path = os.path.join(DATASET_DIR, class_name, file_name)\n",
        "            # create testing data\n",
        "            if state == 'test':\n",
        "                # get the mouse number\n",
        "                mouse_number = int(video_file_path.split(' ')[2].split('_')[1].split('-')[1])\n",
        "                # get the mouse side (L or R)\n",
        "                mouse_side = video_file_path.split(' ')[2].split('_')[1].split('-')[2]\n",
        "                if mouse_number == 4 and mouse_side == 'L':\n",
        "                    frames = load_video(video_file_path)\n",
        "                    features.append(frames)\n",
        "                    labels.append(class_index)\n",
        "                    video_files_paths.append(video_file_path)\n",
        "            # create validation data\n",
        "            elif state == 'valid':\n",
        "                # get the mouse number\n",
        "                mouse_number = int(video_file_path.split(' ')[2].split('_')[1].split('-')[1])\n",
        "                # get the mouse side (L or R)\n",
        "                mouse_side = video_file_path.split(' ')[2].split('_')[1].split('-')[2]\n",
        "                if mouse_number == 4 and mouse_side == 'R':\n",
        "                    frames = load_video(video_file_path)\n",
        "                    features.append(frames)\n",
        "                    labels.append(class_index)\n",
        "                    video_files_paths.append(video_file_path)\n",
        "            # create training data\n",
        "            else:\n",
        "                # get the mouse number\n",
        "                mouse_number = int(video_file_path.split(' ')[2].split('_')[1].split('-')[1])\n",
        "                if mouse_number != 4:\n",
        "                    frames = load_video(video_file_path)\n",
        "                    features.append(frames)\n",
        "                    labels.append(class_index)\n",
        "                    video_files_paths.append(video_file_path)\n",
        "    # Converting the list to numpy arrays\n",
        "    features = np.asarray(features)\n",
        "    # print(features)\n",
        "    labels = np.array(labels)\n",
        "    # Return the frames, class index, and video file path.\n",
        "    return features, labels, video_files_paths"
      ]
    },
    {
      "cell_type": "code",
      "execution_count": 8,
      "metadata": {
        "colab": {
          "base_uri": "https://localhost:8080/"
        },
        "id": "a8rpanz9rASe",
        "outputId": "2ab171e4-b108-4f59-b2ee-393ca91ad454"
      },
      "outputs": [
        {
          "output_type": "stream",
          "name": "stdout",
          "text": [
            "Extracting Data of Class: hemostasis train\n",
            "Extracting Data of Class: inflammatory train\n",
            "Extracting Data of Class: proliferative train\n",
            "Extracting Data of Class: maturation train\n",
            "Extracting Data of Class: hemostasis test\n",
            "Extracting Data of Class: inflammatory test\n",
            "Extracting Data of Class: proliferative test\n",
            "Extracting Data of Class: maturation test\n",
            "Extracting Data of Class: hemostasis valid\n",
            "Extracting Data of Class: inflammatory valid\n",
            "Extracting Data of Class: proliferative valid\n",
            "Extracting Data of Class: maturation valid\n"
          ]
        }
      ],
      "source": [
        "# 6 mice for training, 2 mice for test and validation (one wound on each mice for test one for validation)\n",
        "features_train, labels_train, video_files_paths_train = create_dataset('train')\n",
        "features_test, labels_test, video_files_paths_test = create_dataset('test')\n",
        "features_valid, labels_valid, video_files_paths_valid = create_dataset('valid')"
      ]
    },
    {
      "cell_type": "code",
      "execution_count": 9,
      "metadata": {
        "id": "dtJkK4qTAulC"
      },
      "outputs": [],
      "source": [
        "# one_hot_encoded_labels\n",
        "labels_train = keras.utils.to_categorical(labels_train)\n",
        "labels_test = keras.utils.to_categorical(labels_test)\n",
        "labels_valid = keras.utils.to_categorical(labels_valid)"
      ]
    },
    {
      "cell_type": "code",
      "execution_count": 10,
      "metadata": {
        "id": "Bi-NDol3DHRV"
      },
      "outputs": [],
      "source": [
        "def create_convlstm_model():\n",
        "    # TimeDistributed is a wrapper to handle input of size five to maintain frames number for LSTM\n",
        "    # A Conv2D layer requires four dimensions: (batch_size, height, width, channels)\n",
        "    # TimeDistributed will require an additional dimension: (batch_size, frames, height, width, channels)\n",
        "\n",
        "    model = Sequential()\n",
        "\n",
        "    model.add(TimeDistributed(Conv2D(32, (3,3), activation='relu',\n",
        "                                     kernel_regularizer=regularizers.L2(l2=1e-4)),\n",
        "                              input_shape=(16, 128, 128, 3)))\n",
        "    # model.add(TimeDistributed(BatchNormalization()))\n",
        "    model.add(TimeDistributed(MaxPooling2D((2,2), strides=(2,2))))\n",
        "    model.add(Dropout(0.25))\n",
        "\n",
        "    model.add(TimeDistributed(Conv2D(32, (3,3), activation='relu',\n",
        "                                     kernel_regularizer=regularizers.L2(l2=1e-4))))\n",
        "    # model.add(TimeDistributed(BatchNormalization()))\n",
        "    model.add(TimeDistributed(MaxPooling2D((2,2), strides=(2,2))))\n",
        "    model.add(Dropout(0.25))\n",
        "\n",
        "    model.add(TimeDistributed(Conv2D(64, (3,3), activation='relu',\n",
        "                                     kernel_regularizer=regularizers.L2(l2=1e-4))))\n",
        "    # model.add(TimeDistributed(BatchNormalization()))\n",
        "    model.add(TimeDistributed(MaxPooling2D((2,2), strides=(2,2))))\n",
        "    model.add(Dropout(0.25))\n",
        "\n",
        "    model.add(TimeDistributed(Conv2D(64, (3,3), activation='relu',\n",
        "                                     kernel_regularizer=regularizers.L2(l2=1e-4))))\n",
        "    # model.add(TimeDistributed(BatchNormalization()))\n",
        "    model.add(TimeDistributed(MaxPooling2D((2,2), strides=(2,2))))\n",
        "    model.add(Dropout(0.25))\n",
        "\n",
        "    model.add(TimeDistributed(Conv2D(64, (3,3), activation='relu',\n",
        "                                     kernel_regularizer=regularizers.L2(l2=1e-4))))\n",
        "    # model.add(TimeDistributed(BatchNormalization()))\n",
        "    model.add(TimeDistributed(MaxPooling2D((2,2), strides=(2,2))))\n",
        "    model.add(Dropout(0.25))\n",
        "  \n",
        "    # model.add(TimeDistributed(GlobalAveragePooling2D()))\n",
        "    # Another approach of using model.add(TimeDistributed(Flatten())) instead of the reshape.\n",
        "    model.add(TimeDistributed(Flatten()))\n",
        "    \n",
        "    model.add(LSTM(4, activation='relu', return_sequences=False))\n",
        "    model.add(Dropout(0.25))\n",
        "    model.add(Dense(32, activation='relu', kernel_initializer='he_uniform',\n",
        "                    kernel_regularizer=regularizers.L2(l2=1e-4)))\n",
        "    model.add(Dropout(0.25))\n",
        "    model.add(Dense(8, activation='relu', kernel_initializer='he_uniform'))\n",
        "    # model.add(Dense(16, activation='relu'))\n",
        "    # model.add(Dropout(0.3))\n",
        "    # model.add(Dense(8, activation='relu'))\n",
        "    # model.add(Dropout(0.3))\n",
        "    # model.add(Dense(4, activation='relu'))\n",
        "    # model.add(Dropout(0.3))\n",
        "    model.add(Dense(len(CLASSES_LIST), activation='softmax'))\n",
        "    model.summary(line_length = 100)\n",
        "    return model"
      ]
    },
    {
      "cell_type": "code",
      "execution_count": 11,
      "metadata": {
        "colab": {
          "base_uri": "https://localhost:8080/"
        },
        "id": "FbjNYI-0DY_v",
        "outputId": "43316b1b-605d-4737-beb1-5b5d9124cd52"
      },
      "outputs": [
        {
          "output_type": "stream",
          "name": "stdout",
          "text": [
            "Model: \"sequential\"\n",
            "____________________________________________________________________________________________________\n",
            " Layer (type)                                Output Shape                            Param #        \n",
            "====================================================================================================\n",
            " time_distributed (TimeDistributed)          (None, 16, 126, 126, 32)                896            \n",
            "                                                                                                    \n",
            " time_distributed_1 (TimeDistributed)        (None, 16, 63, 63, 32)                  0              \n",
            "                                                                                                    \n",
            " dropout (Dropout)                           (None, 16, 63, 63, 32)                  0              \n",
            "                                                                                                    \n",
            " time_distributed_2 (TimeDistributed)        (None, 16, 61, 61, 32)                  9248           \n",
            "                                                                                                    \n",
            " time_distributed_3 (TimeDistributed)        (None, 16, 30, 30, 32)                  0              \n",
            "                                                                                                    \n",
            " dropout_1 (Dropout)                         (None, 16, 30, 30, 32)                  0              \n",
            "                                                                                                    \n",
            " time_distributed_4 (TimeDistributed)        (None, 16, 28, 28, 64)                  18496          \n",
            "                                                                                                    \n",
            " time_distributed_5 (TimeDistributed)        (None, 16, 14, 14, 64)                  0              \n",
            "                                                                                                    \n",
            " dropout_2 (Dropout)                         (None, 16, 14, 14, 64)                  0              \n",
            "                                                                                                    \n",
            " time_distributed_6 (TimeDistributed)        (None, 16, 12, 12, 64)                  36928          \n",
            "                                                                                                    \n",
            " time_distributed_7 (TimeDistributed)        (None, 16, 6, 6, 64)                    0              \n",
            "                                                                                                    \n",
            " dropout_3 (Dropout)                         (None, 16, 6, 6, 64)                    0              \n",
            "                                                                                                    \n",
            " time_distributed_8 (TimeDistributed)        (None, 16, 4, 4, 64)                    36928          \n",
            "                                                                                                    \n",
            " time_distributed_9 (TimeDistributed)        (None, 16, 2, 2, 64)                    0              \n",
            "                                                                                                    \n",
            " dropout_4 (Dropout)                         (None, 16, 2, 2, 64)                    0              \n",
            "                                                                                                    \n",
            " time_distributed_10 (TimeDistributed)       (None, 16, 256)                         0              \n",
            "                                                                                                    \n",
            " lstm (LSTM)                                 (None, 4)                               4176           \n",
            "                                                                                                    \n",
            " dropout_5 (Dropout)                         (None, 4)                               0              \n",
            "                                                                                                    \n",
            " dense (Dense)                               (None, 32)                              160            \n",
            "                                                                                                    \n",
            " dropout_6 (Dropout)                         (None, 32)                              0              \n",
            "                                                                                                    \n",
            " dense_1 (Dense)                             (None, 8)                               264            \n",
            "                                                                                                    \n",
            " dense_2 (Dense)                             (None, 4)                               36             \n",
            "                                                                                                    \n",
            "====================================================================================================\n",
            "Total params: 107,132\n",
            "Trainable params: 107,132\n",
            "Non-trainable params: 0\n",
            "____________________________________________________________________________________________________\n",
            "Model Created Successfully!\n"
          ]
        }
      ],
      "source": [
        "# Construct the required convlstm model.\n",
        "convlstm_model = create_convlstm_model()\n",
        " \n",
        "# Display the success message. \n",
        "print(\"Model Created Successfully!\")"
      ]
    },
    {
      "cell_type": "code",
      "execution_count": 12,
      "metadata": {
        "id": "SCB3R7so-wHz"
      },
      "outputs": [],
      "source": [
        "# keras.utils.plot_model(convlstm_model, to_file = 'convlstm_model_structure_plot.png', show_shapes = True, show_layer_names = True)"
      ]
    },
    {
      "cell_type": "code",
      "execution_count": 13,
      "metadata": {
        "id": "nMYwQOwyF3bd"
      },
      "outputs": [],
      "source": [
        "# keras.utils.plot_model(convlstm_model,\n",
        "#                          to_file = 'convlstm_model_structure_plot.png',\n",
        "#                          show_shapes = True,\n",
        "#                          show_layer_names = True)"
      ]
    },
    {
      "cell_type": "code",
      "execution_count": 14,
      "metadata": {
        "colab": {
          "base_uri": "https://localhost:8080/"
        },
        "id": "vYC_6H0uGqW9",
        "outputId": "cd243344-9e5d-4a2d-b46e-9e122caec47e"
      },
      "outputs": [
        {
          "output_type": "stream",
          "name": "stdout",
          "text": [
            "Epoch 1/100\n",
            "101/101 [==============================] - 13s 91ms/step - loss: 1.2343 - accuracy: 0.4146 - val_loss: 1.0930 - val_accuracy: 0.6140\n",
            "Epoch 2/100\n",
            "101/101 [==============================] - 8s 79ms/step - loss: 1.0854 - accuracy: 0.4771 - val_loss: 1.0491 - val_accuracy: 0.5882\n",
            "Epoch 3/100\n",
            "101/101 [==============================] - 8s 79ms/step - loss: 1.0172 - accuracy: 0.5167 - val_loss: 0.8947 - val_accuracy: 0.7206\n",
            "Epoch 4/100\n",
            "101/101 [==============================] - 8s 79ms/step - loss: 0.8858 - accuracy: 0.6176 - val_loss: 0.8322 - val_accuracy: 0.7132\n",
            "Epoch 5/100\n",
            "101/101 [==============================] - 8s 79ms/step - loss: 0.8450 - accuracy: 0.6330 - val_loss: 0.7148 - val_accuracy: 0.7353\n",
            "Epoch 6/100\n",
            "101/101 [==============================] - 8s 79ms/step - loss: 0.7710 - accuracy: 0.6764 - val_loss: 0.7405 - val_accuracy: 0.7059\n",
            "Epoch 7/100\n",
            "101/101 [==============================] - 8s 79ms/step - loss: 0.7205 - accuracy: 0.6894 - val_loss: 0.6947 - val_accuracy: 0.8015\n",
            "Epoch 8/100\n",
            "101/101 [==============================] - 8s 78ms/step - loss: 0.7004 - accuracy: 0.7036 - val_loss: 0.6636 - val_accuracy: 0.7390\n",
            "Epoch 9/100\n",
            "101/101 [==============================] - 8s 78ms/step - loss: 0.6829 - accuracy: 0.7030 - val_loss: 0.5970 - val_accuracy: 0.7132\n",
            "Epoch 10/100\n",
            "101/101 [==============================] - 8s 79ms/step - loss: 0.6515 - accuracy: 0.7141 - val_loss: 0.5704 - val_accuracy: 0.7279\n",
            "Epoch 11/100\n",
            "101/101 [==============================] - 8s 79ms/step - loss: 0.6253 - accuracy: 0.7296 - val_loss: 0.6127 - val_accuracy: 0.7537\n",
            "Epoch 12/100\n",
            "101/101 [==============================] - 8s 79ms/step - loss: 0.6384 - accuracy: 0.7209 - val_loss: 0.5563 - val_accuracy: 0.8162\n",
            "Epoch 13/100\n",
            "101/101 [==============================] - 8s 78ms/step - loss: 0.6182 - accuracy: 0.7166 - val_loss: 0.5604 - val_accuracy: 0.8125\n",
            "Epoch 14/100\n",
            "101/101 [==============================] - 8s 79ms/step - loss: 0.5838 - accuracy: 0.7351 - val_loss: 0.8549 - val_accuracy: 0.6287\n",
            "Epoch 15/100\n",
            "101/101 [==============================] - 8s 78ms/step - loss: 0.5748 - accuracy: 0.7488 - val_loss: 0.5167 - val_accuracy: 0.8162\n",
            "Epoch 16/100\n",
            "101/101 [==============================] - 8s 78ms/step - loss: 0.5599 - accuracy: 0.7389 - val_loss: 0.4858 - val_accuracy: 0.8015\n",
            "Epoch 17/100\n",
            "101/101 [==============================] - 8s 79ms/step - loss: 0.5640 - accuracy: 0.7457 - val_loss: 0.4936 - val_accuracy: 0.8566\n",
            "Epoch 18/100\n",
            "101/101 [==============================] - 8s 78ms/step - loss: 0.5566 - accuracy: 0.7599 - val_loss: 0.5350 - val_accuracy: 0.8051\n",
            "Epoch 19/100\n",
            "101/101 [==============================] - 8s 78ms/step - loss: 0.4993 - accuracy: 0.7778 - val_loss: 0.4964 - val_accuracy: 0.8235\n",
            "Epoch 20/100\n",
            "101/101 [==============================] - 8s 78ms/step - loss: 0.5254 - accuracy: 0.7803 - val_loss: 0.6608 - val_accuracy: 0.6838\n",
            "Epoch 21/100\n",
            "101/101 [==============================] - 8s 78ms/step - loss: 0.5089 - accuracy: 0.7896 - val_loss: 0.4930 - val_accuracy: 0.8235\n",
            "Epoch 22/100\n",
            "101/101 [==============================] - 8s 78ms/step - loss: 0.4964 - accuracy: 0.7946 - val_loss: 0.5912 - val_accuracy: 0.7390\n",
            "Epoch 23/100\n",
            "101/101 [==============================] - 8s 79ms/step - loss: 0.4943 - accuracy: 0.7853 - val_loss: 0.5249 - val_accuracy: 0.7757\n",
            "Epoch 24/100\n",
            "101/101 [==============================] - 8s 78ms/step - loss: 0.4979 - accuracy: 0.7915 - val_loss: 0.4969 - val_accuracy: 0.7721\n",
            "Epoch 25/100\n",
            "101/101 [==============================] - 8s 78ms/step - loss: 0.4973 - accuracy: 0.7890 - val_loss: 0.5803 - val_accuracy: 0.7426\n",
            "Epoch 26/100\n",
            "101/101 [==============================] - 8s 78ms/step - loss: 0.5224 - accuracy: 0.7797 - val_loss: 0.8204 - val_accuracy: 0.5772\n",
            "Epoch 27/100\n",
            "101/101 [==============================] - 8s 78ms/step - loss: 0.5064 - accuracy: 0.7828 - val_loss: 0.5108 - val_accuracy: 0.7757\n",
            "Epoch 28/100\n",
            "101/101 [==============================] - 8s 78ms/step - loss: 0.4712 - accuracy: 0.7859 - val_loss: 0.4802 - val_accuracy: 0.7721\n",
            "Epoch 29/100\n",
            "101/101 [==============================] - 8s 79ms/step - loss: 0.4505 - accuracy: 0.8175 - val_loss: 0.5014 - val_accuracy: 0.7610\n",
            "Epoch 30/100\n",
            "101/101 [==============================] - 8s 80ms/step - loss: 0.4845 - accuracy: 0.7983 - val_loss: 0.4536 - val_accuracy: 0.7721\n",
            "Epoch 31/100\n",
            "101/101 [==============================] - 8s 78ms/step - loss: 0.4527 - accuracy: 0.8045 - val_loss: 0.4840 - val_accuracy: 0.7610\n",
            "Epoch 32/100\n",
            "101/101 [==============================] - 8s 78ms/step - loss: 0.4406 - accuracy: 0.8199 - val_loss: 0.5164 - val_accuracy: 0.7132\n",
            "Epoch 33/100\n",
            "101/101 [==============================] - 8s 79ms/step - loss: 0.4428 - accuracy: 0.8069 - val_loss: 0.4796 - val_accuracy: 0.7904\n",
            "Epoch 34/100\n",
            "101/101 [==============================] - 8s 79ms/step - loss: 0.4192 - accuracy: 0.8373 - val_loss: 0.5744 - val_accuracy: 0.7096\n",
            "Epoch 35/100\n",
            "101/101 [==============================] - 8s 79ms/step - loss: 0.4168 - accuracy: 0.8274 - val_loss: 0.4176 - val_accuracy: 0.8051\n",
            "Epoch 36/100\n",
            "101/101 [==============================] - 8s 78ms/step - loss: 0.4076 - accuracy: 0.8286 - val_loss: 0.4966 - val_accuracy: 0.7353\n",
            "Epoch 37/100\n",
            "101/101 [==============================] - 8s 79ms/step - loss: 0.3894 - accuracy: 0.8441 - val_loss: 0.4669 - val_accuracy: 0.8051\n",
            "Epoch 38/100\n",
            "101/101 [==============================] - 8s 78ms/step - loss: 0.3911 - accuracy: 0.8298 - val_loss: 0.4323 - val_accuracy: 0.8015\n",
            "Epoch 39/100\n",
            "101/101 [==============================] - 8s 79ms/step - loss: 0.4136 - accuracy: 0.8236 - val_loss: 0.4223 - val_accuracy: 0.8015\n",
            "Epoch 40/100\n",
            "101/101 [==============================] - 8s 78ms/step - loss: 0.4496 - accuracy: 0.8125 - val_loss: 0.5385 - val_accuracy: 0.7537\n",
            "Epoch 41/100\n",
            "101/101 [==============================] - 8s 79ms/step - loss: 0.7181 - accuracy: 0.7599 - val_loss: 0.5359 - val_accuracy: 0.7647\n",
            "Epoch 42/100\n",
            "101/101 [==============================] - 8s 79ms/step - loss: 0.4974 - accuracy: 0.8051 - val_loss: 0.4919 - val_accuracy: 0.7941\n",
            "Epoch 43/100\n",
            "101/101 [==============================] - 8s 79ms/step - loss: 0.4411 - accuracy: 0.8193 - val_loss: 0.4616 - val_accuracy: 0.7868\n",
            "Epoch 44/100\n",
            "101/101 [==============================] - 8s 79ms/step - loss: 0.4914 - accuracy: 0.7995 - val_loss: 0.4831 - val_accuracy: 0.6949\n",
            "Epoch 45/100\n",
            "101/101 [==============================] - 8s 78ms/step - loss: 0.4191 - accuracy: 0.8205 - val_loss: 0.4537 - val_accuracy: 0.7831\n",
            "Epoch 46/100\n",
            "101/101 [==============================] - 8s 79ms/step - loss: 0.4091 - accuracy: 0.8181 - val_loss: 0.4508 - val_accuracy: 0.7831\n",
            "Epoch 47/100\n",
            "101/101 [==============================] - 8s 78ms/step - loss: 0.4008 - accuracy: 0.8354 - val_loss: 0.5000 - val_accuracy: 0.7426\n",
            "Epoch 48/100\n",
            "101/101 [==============================] - 8s 79ms/step - loss: 0.3803 - accuracy: 0.8360 - val_loss: 0.4146 - val_accuracy: 0.8015\n",
            "Epoch 49/100\n",
            "101/101 [==============================] - 8s 79ms/step - loss: 0.3967 - accuracy: 0.8348 - val_loss: 0.4549 - val_accuracy: 0.7831\n",
            "Epoch 50/100\n",
            "101/101 [==============================] - 8s 79ms/step - loss: 0.3891 - accuracy: 0.8490 - val_loss: 0.4132 - val_accuracy: 0.7757\n",
            "Epoch 51/100\n",
            "101/101 [==============================] - 8s 79ms/step - loss: 0.3659 - accuracy: 0.8583 - val_loss: 0.4031 - val_accuracy: 0.8015\n",
            "Epoch 52/100\n",
            "101/101 [==============================] - 8s 78ms/step - loss: 0.3811 - accuracy: 0.8397 - val_loss: 0.4338 - val_accuracy: 0.7978\n",
            "Epoch 53/100\n",
            "101/101 [==============================] - 8s 78ms/step - loss: 0.3556 - accuracy: 0.8564 - val_loss: 0.4997 - val_accuracy: 0.7463\n",
            "Epoch 54/100\n",
            "101/101 [==============================] - 8s 78ms/step - loss: 0.3632 - accuracy: 0.8502 - val_loss: 0.4450 - val_accuracy: 0.7831\n",
            "Epoch 55/100\n",
            "101/101 [==============================] - 8s 78ms/step - loss: 0.3505 - accuracy: 0.8552 - val_loss: 0.4260 - val_accuracy: 0.7941\n",
            "Epoch 56/100\n",
            "101/101 [==============================] - 8s 79ms/step - loss: 0.3350 - accuracy: 0.8626 - val_loss: 0.5112 - val_accuracy: 0.7500\n",
            "Epoch 57/100\n",
            "101/101 [==============================] - 8s 78ms/step - loss: 0.3563 - accuracy: 0.8527 - val_loss: 0.4826 - val_accuracy: 0.7757\n",
            "Epoch 58/100\n",
            "101/101 [==============================] - 8s 79ms/step - loss: 0.3508 - accuracy: 0.8583 - val_loss: 0.4110 - val_accuracy: 0.8162\n",
            "Epoch 59/100\n",
            "101/101 [==============================] - 8s 78ms/step - loss: 0.3761 - accuracy: 0.8484 - val_loss: 0.4816 - val_accuracy: 0.7426\n",
            "Epoch 60/100\n",
            "101/101 [==============================] - 8s 79ms/step - loss: 0.3431 - accuracy: 0.8564 - val_loss: 0.5601 - val_accuracy: 0.7353\n",
            "Epoch 61/100\n",
            "101/101 [==============================] - 8s 78ms/step - loss: 0.3713 - accuracy: 0.8558 - val_loss: 0.4761 - val_accuracy: 0.7316\n",
            "Epoch 62/100\n",
            "101/101 [==============================] - 8s 78ms/step - loss: 0.3287 - accuracy: 0.8639 - val_loss: 0.4805 - val_accuracy: 0.7353\n",
            "Epoch 63/100\n",
            "101/101 [==============================] - 8s 78ms/step - loss: 0.3251 - accuracy: 0.8700 - val_loss: 0.5761 - val_accuracy: 0.7426\n",
            "Epoch 64/100\n",
            "101/101 [==============================] - 8s 79ms/step - loss: 0.3434 - accuracy: 0.8571 - val_loss: 0.8499 - val_accuracy: 0.5882\n",
            "Epoch 65/100\n",
            "101/101 [==============================] - 8s 79ms/step - loss: 0.4306 - accuracy: 0.8373 - val_loss: 0.5450 - val_accuracy: 0.7537\n",
            "Epoch 66/100\n",
            "101/101 [==============================] - 8s 79ms/step - loss: 0.3387 - accuracy: 0.8564 - val_loss: 0.4005 - val_accuracy: 0.8199\n",
            "Epoch 67/100\n",
            "101/101 [==============================] - 8s 78ms/step - loss: 0.3453 - accuracy: 0.8632 - val_loss: 0.4265 - val_accuracy: 0.7978\n",
            "Epoch 68/100\n",
            "101/101 [==============================] - 8s 78ms/step - loss: 0.3196 - accuracy: 0.8707 - val_loss: 0.4239 - val_accuracy: 0.8051\n",
            "Epoch 69/100\n",
            "101/101 [==============================] - 8s 78ms/step - loss: 0.2982 - accuracy: 0.8874 - val_loss: 0.4113 - val_accuracy: 0.8272\n",
            "Epoch 70/100\n",
            "101/101 [==============================] - 8s 79ms/step - loss: 0.3123 - accuracy: 0.8756 - val_loss: 0.5634 - val_accuracy: 0.6875\n",
            "Epoch 71/100\n",
            "101/101 [==============================] - 8s 79ms/step - loss: 0.3243 - accuracy: 0.8700 - val_loss: 0.4433 - val_accuracy: 0.7684\n",
            "Epoch 72/100\n",
            "101/101 [==============================] - 8s 79ms/step - loss: 0.3295 - accuracy: 0.8769 - val_loss: 0.4818 - val_accuracy: 0.7096\n",
            "Epoch 73/100\n",
            "101/101 [==============================] - 8s 78ms/step - loss: 0.3514 - accuracy: 0.8645 - val_loss: 0.5125 - val_accuracy: 0.7390\n",
            "Epoch 74/100\n",
            "101/101 [==============================] - 8s 79ms/step - loss: 0.3259 - accuracy: 0.8725 - val_loss: 0.5616 - val_accuracy: 0.6949\n",
            "Epoch 75/100\n",
            "101/101 [==============================] - 8s 78ms/step - loss: 0.3201 - accuracy: 0.8818 - val_loss: 0.5622 - val_accuracy: 0.7353\n",
            "Epoch 76/100\n",
            "101/101 [==============================] - 8s 78ms/step - loss: 0.3078 - accuracy: 0.8787 - val_loss: 0.4494 - val_accuracy: 0.8125\n",
            "Epoch 77/100\n",
            "101/101 [==============================] - 8s 79ms/step - loss: 0.2947 - accuracy: 0.8849 - val_loss: 0.4458 - val_accuracy: 0.7574\n",
            "Epoch 78/100\n",
            "101/101 [==============================] - 8s 79ms/step - loss: 0.2839 - accuracy: 0.8929 - val_loss: 0.5315 - val_accuracy: 0.7537\n",
            "Epoch 79/100\n",
            "101/101 [==============================] - 8s 77ms/step - loss: 0.2797 - accuracy: 0.8936 - val_loss: 0.4998 - val_accuracy: 0.7463\n",
            "Epoch 80/100\n",
            "101/101 [==============================] - 8s 79ms/step - loss: 0.3004 - accuracy: 0.8843 - val_loss: 0.5210 - val_accuracy: 0.7868\n",
            "Epoch 81/100\n",
            "101/101 [==============================] - 8s 78ms/step - loss: 0.2884 - accuracy: 0.8843 - val_loss: 0.7004 - val_accuracy: 0.7279\n",
            "Epoch 82/100\n",
            "101/101 [==============================] - 8s 78ms/step - loss: 0.2720 - accuracy: 0.8998 - val_loss: 0.4955 - val_accuracy: 0.7426\n",
            "Epoch 83/100\n",
            "101/101 [==============================] - 8s 79ms/step - loss: 0.4688 - accuracy: 0.8088 - val_loss: 0.5727 - val_accuracy: 0.7426\n",
            "Epoch 84/100\n",
            "101/101 [==============================] - 8s 78ms/step - loss: 0.2891 - accuracy: 0.8843 - val_loss: 0.4870 - val_accuracy: 0.8125\n",
            "Epoch 85/100\n",
            "101/101 [==============================] - 8s 78ms/step - loss: 0.2785 - accuracy: 0.8911 - val_loss: 0.4613 - val_accuracy: 0.8088\n",
            "Epoch 86/100\n",
            "101/101 [==============================] - 8s 79ms/step - loss: 0.2728 - accuracy: 0.8948 - val_loss: 0.5040 - val_accuracy: 0.7390\n",
            "Epoch 87/100\n",
            "101/101 [==============================] - 8s 78ms/step - loss: 0.2690 - accuracy: 0.9010 - val_loss: 0.4843 - val_accuracy: 0.8199\n",
            "Epoch 88/100\n",
            "101/101 [==============================] - 8s 78ms/step - loss: 0.2648 - accuracy: 0.8998 - val_loss: 0.4784 - val_accuracy: 0.8015\n",
            "Epoch 89/100\n",
            "101/101 [==============================] - 8s 79ms/step - loss: 0.2616 - accuracy: 0.9047 - val_loss: 0.5751 - val_accuracy: 0.8015\n",
            "Epoch 90/100\n",
            "101/101 [==============================] - 8s 79ms/step - loss: 0.2936 - accuracy: 0.8855 - val_loss: 0.4644 - val_accuracy: 0.7831\n",
            "Epoch 91/100\n",
            "101/101 [==============================] - 8s 78ms/step - loss: 0.2511 - accuracy: 0.9097 - val_loss: 0.4830 - val_accuracy: 0.7390\n",
            "Epoch 92/100\n",
            "101/101 [==============================] - 8s 78ms/step - loss: 0.2688 - accuracy: 0.9035 - val_loss: 0.4678 - val_accuracy: 0.7610\n",
            "Epoch 93/100\n",
            "101/101 [==============================] - 8s 79ms/step - loss: 0.2520 - accuracy: 0.9022 - val_loss: 0.7589 - val_accuracy: 0.6949\n",
            "Epoch 94/100\n",
            "101/101 [==============================] - 8s 78ms/step - loss: 0.2708 - accuracy: 0.9035 - val_loss: 0.5566 - val_accuracy: 0.7574\n",
            "Epoch 95/100\n",
            "101/101 [==============================] - 8s 79ms/step - loss: 0.2622 - accuracy: 0.9053 - val_loss: 0.5576 - val_accuracy: 0.7353\n",
            "Epoch 96/100\n",
            "101/101 [==============================] - 8s 79ms/step - loss: 0.2415 - accuracy: 0.9134 - val_loss: 0.4734 - val_accuracy: 0.7684\n",
            "Epoch 97/100\n",
            "101/101 [==============================] - 8s 78ms/step - loss: 0.2519 - accuracy: 0.9134 - val_loss: 0.5649 - val_accuracy: 0.7574\n",
            "Epoch 98/100\n",
            "101/101 [==============================] - 8s 79ms/step - loss: 0.2459 - accuracy: 0.9177 - val_loss: 0.4780 - val_accuracy: 0.7868\n",
            "Epoch 99/100\n",
            "101/101 [==============================] - 8s 79ms/step - loss: 0.2838 - accuracy: 0.9066 - val_loss: 0.5299 - val_accuracy: 0.7390\n",
            "Epoch 100/100\n",
            "101/101 [==============================] - 8s 78ms/step - loss: 0.2760 - accuracy: 0.9016 - val_loss: 0.5318 - val_accuracy: 0.7757\n"
          ]
        }
      ],
      "source": [
        "# Create an Instance of Early Stopping Callback\n",
        "\n",
        "# https://stackoverflow.com/questions/53479007/how-to-setup-adaptive-learning-rate-in-keras\n",
        "# def adapt_learning_rate(epoch):\n",
        "#     print(0.0001 * epoch)\n",
        "#     return 0.0001 * epoch\n",
        "# my_lr_scheduler = keras.callbacks.LearningRateScheduler(adapt_learning_rate)\n",
        "\n",
        "early_stopping_callback = keras.callbacks.EarlyStopping(monitor = 'val_loss',\n",
        "                                                        patience = 10,\n",
        "                                                        mode = 'min',\n",
        "                                                        restore_best_weights = True)\n",
        "# Compile the model and specify loss function, optimizer and metrics values to the model\n",
        "convlstm_model.compile(loss = 'categorical_crossentropy',\n",
        "                       optimizer= keras.optimizers.Adam(0.001, decay=1e-4),\n",
        "                       metrics = [\"accuracy\"])\n",
        "# Start training the model.\n",
        "convlstm_model_training_history = convlstm_model.fit(x = features_train,\n",
        "                                                     y = labels_train,\n",
        "                                                     epochs = 100,\n",
        "                                                     batch_size = 16,\n",
        "                                                     shuffle = True,\n",
        "                                                     validation_data = (features_valid, labels_valid)),\n",
        "                                                    #  callbacks = [early_stopping_callback])\n"
      ]
    },
    {
      "cell_type": "code",
      "execution_count": 15,
      "metadata": {
        "colab": {
          "base_uri": "https://localhost:8080/"
        },
        "id": "LcpKhGqvIenv",
        "outputId": "5faced8a-fb67-43b5-bde0-873c3ced517f"
      },
      "outputs": [
        {
          "output_type": "stream",
          "name": "stdout",
          "text": [
            "9/9 [==============================] - 1s 48ms/step - loss: 1.0066 - accuracy: 0.6875\n",
            "\n",
            "\n",
            "Train accuracy: 93.874 % || Test accuracy: 68.750 % || Val accuracy: 77.574 %\n",
            "Train loss: 0.226 || Test loss: 1.007 || Val loss: 0.532\n"
          ]
        }
      ],
      "source": [
        "model_evaluation_history = convlstm_model.evaluate(features_test, labels_test)\n",
        "\n",
        "print('\\n')\n",
        "\n",
        "train_loss, train_acc = convlstm_model.evaluate(features_train, labels_train, verbose=0)\n",
        "test_loss, test_acc = convlstm_model.evaluate(features_test, labels_test, verbose=0)\n",
        "val_loss, val_acc = convlstm_model.evaluate(features_valid, labels_valid, verbose=0)\n",
        "\n",
        "print(f'Train accuracy: {train_acc*100:.3f} % || Test accuracy: {test_acc*100:.3f} % || Val accuracy: {val_acc*100:.3f} %')\n",
        "print(f'Train loss: {train_loss:.3f} || Test loss: {test_loss:.3f} || Val loss: {val_loss:.3f}')"
      ]
    },
    {
      "cell_type": "code",
      "execution_count": 16,
      "metadata": {
        "id": "qsFw5KIzIum9"
      },
      "outputs": [],
      "source": [
        "# Get the loss and accuracy from model_evaluation_history.\n",
        "model_evaluation_loss, model_evaluation_accuracy = model_evaluation_history\n",
        " \n",
        "# Define the string date format.\n",
        "# Get the current Date and Time in a DateTime Object.\n",
        "# Convert the DateTime object to string according to the style mentioned in date_time_format string.\n",
        "date_time_format = '%Y_%m_%d__%H_%M_%S'\n",
        "current_date_time_dt = dt.datetime.now()\n",
        "current_date_time_string = dt.datetime.strftime(current_date_time_dt, date_time_format)\n",
        " \n",
        "# Define a useful name for our model to make it easy for us while navigating through multiple saved models.\n",
        "model_file_name = f'convlstm_model___Date_Time_{current_date_time_string}___Loss_{model_evaluation_loss}___Accuracy_{model_evaluation_accuracy}.h5'\n",
        " \n",
        "# Change dir\n",
        "gdrive_path = '/content/gdrive' + '/My Drive/247/Saved_models/'\n",
        "os.chdir(gdrive_path)\n",
        "# Create a floder for the model files\n",
        "!mkdir -p convlstm_{current_date_time_string}\n",
        "# Save your Model.\n",
        "convlstm_model.save('convlstm_' + str(current_date_time_string) + '/' + model_file_name)\n",
        "# Save model weights\n",
        "convlstm_model.save_weights('convlstm_' + str(current_date_time_string) + '/' + 'weights')"
      ]
    },
    {
      "cell_type": "code",
      "execution_count": 17,
      "metadata": {
        "id": "Z0eAobhSIz_P"
      },
      "outputs": [],
      "source": [
        "def plot_metric(model_training_history, metric_name_1, metric_name_2, plot_name):\n",
        "    '''\n",
        "    This function will plot the metrics passed to it in a graph.\n",
        "    Args:\n",
        "        model_training_history: A history object containing a record of training and validation \n",
        "                                loss values and metrics values at successive epochs\n",
        "        metric_name_1:          The name of the first metric that needs to be plotted in the graph.\n",
        "        metric_name_2:          The name of the second metric that needs to be plotted in the graph.\n",
        "        plot_name:              The title of the graph.\n",
        "    '''\n",
        "    \n",
        "    # Get metric values using metric names as identifiers.\n",
        "    metric_value_1 = model_training_history[0].history[metric_name_1]\n",
        "    metric_value_2 = model_training_history[0].history[metric_name_2]\n",
        "    \n",
        "    # Construct a range object which will be used as x-axis (horizontal plane) of the graph.\n",
        "    epochs = range(len(metric_value_1))\n",
        "\n",
        "    # Plot the Graph.\n",
        "    plt.plot(epochs, metric_value_1, 'blue', label = metric_name_1)\n",
        "    plt.plot(epochs, metric_value_2, 'red', label = metric_name_2)\n",
        "\n",
        "    # Add title to the plot.\n",
        "    plt.title(str(plot_name))\n",
        "\n",
        "    # Add legend to the plot.\n",
        "    plt.legend()"
      ]
    },
    {
      "cell_type": "code",
      "execution_count": 18,
      "metadata": {
        "colab": {
          "base_uri": "https://localhost:8080/",
          "height": 281
        },
        "id": "18RtBjI9I5lE",
        "outputId": "54d2db32-3954-4730-b443-d4adad3e11bd"
      },
      "outputs": [
        {
          "output_type": "display_data",
          "data": {
            "text/plain": [
              "<Figure size 432x288 with 1 Axes>"
            ],
            "image/png": "[encoded data removed]"
          },
          "metadata": {
            "needs_background": "light"
          }
        }
      ],
      "source": [
        "plot_metric(convlstm_model_training_history, 'loss', 'val_loss', 'Total Loss vs Total Validation Loss')"
      ]
    },
    {
      "cell_type": "code",
      "execution_count": 19,
      "metadata": {
        "colab": {
          "base_uri": "https://localhost:8080/",
          "height": 281
        },
        "id": "02amk7TXI_OS",
        "outputId": "eaf62883-7ba7-4085-9c19-ec629b3ed85b"
      },
      "outputs": [
        {
          "output_type": "display_data",
          "data": {
            "text/plain": [
              "<Figure size 432x288 with 1 Axes>"
            ],
            "image/png": "[encoded data removed]"
          },
          "metadata": {
            "needs_background": "light"
          }
        }
      ],
      "source": [
        "plot_metric(convlstm_model_training_history, 'accuracy', 'val_accuracy', 'Total Accuracy vs Total Validation Accuracy') "
      ]
    }
  ],
  "metadata": {
    "accelerator": "GPU",
    "colab": {
      "background_execution": "on",
      "collapsed_sections": [],
      "machine_shape": "hm",
      "name": "2D_CNN+LSTM.ipynb",
      "provenance": [],
      "authorship_tag": "ABX9TyNOJmiLcyiq4E7xYW6rgdix",
      "include_colab_link": true
    },
    "kernelspec": {
      "display_name": "Python 3",
      "name": "python3"
    },
    "language_info": {
      "name": "python"
    }
  },
  "nbformat": 4,
  "nbformat_minor": 0
}