{
  "cells": [
    {
      "cell_type": "markdown",
      "metadata": {
        "id": "view-in-github",
        "colab_type": "text"
      },
      "source": [
        "<a href=\"https://colab.research.google.com/github/alexsalman/CSE247/blob/main/3D_CNN.ipynb\" target=\"_parent\"><img src=\"https://colab.research.google.com/assets/colab-badge.svg\" alt=\"Open In Colab\"/></a>"
      ]
    },
    {
      "cell_type": "markdown",
      "metadata": {
        "id": "Kk7I8NauauE3"
      },
      "source": [
        "####**3D Convolutional Neural Network**\n",
        "######*I am using 3D Convolutional Neural Network to extract the temporal and spatial information which are merged slowly throughout the whole network.*"
      ]
    },
    {
      "cell_type": "code",
      "execution_count": 1,
      "metadata": {
        "colab": {
          "base_uri": "https://localhost:8080/"
        },
        "id": "M8ibtd5HKtZk",
        "outputId": "c9832012-22ca-4a94-f711-14dba85eae34"
      },
      "outputs": [
        {
          "output_type": "stream",
          "name": "stdout",
          "text": [
            "2.8.0\n"
          ]
        }
      ],
      "source": [
        "# required libraries\n",
        "import os\n",
        "import cv2\n",
        "import random\n",
        "import numpy as np\n",
        "import datetime as dt\n",
        "import matplotlib.pyplot as plt\n",
        "from google.colab import drive\n",
        "from sklearn.model_selection import train_test_split\n",
        "import tensorflow as tf\n",
        "from tensorflow import keras\n",
        "from keras.models import Sequential\n",
        "from keras.layers import Dense, Flatten, Conv3D, MaxPooling3D, Dropout\n",
        "from keras.layers import BatchNormalization, GlobalAveragePooling3D\n",
        "from keras import regularizers\n",
        "%matplotlib inline\n",
        "print(tf.version.VERSION)"
      ]
    },
    {
      "cell_type": "code",
      "execution_count": 2,
      "metadata": {
        "id": "iffdFOf1CEAN"
      },
      "outputs": [],
      "source": [
        "# set Numpy, Python, and Tensorflow seeds to get consistent results on every execution\n",
        "seed_constant = 27\n",
        "np.random.seed(seed_constant)\n",
        "random.seed(seed_constant)\n",
        "tf.random.set_seed(seed_constant)"
      ]
    },
    {
      "cell_type": "code",
      "execution_count": 3,
      "metadata": {
        "colab": {
          "base_uri": "https://localhost:8080/",
          "height": 53
        },
        "id": "mcLh22LiOHyn",
        "outputId": "d5dd4ac7-9bda-4703-88eb-c42d00eab638"
      },
      "outputs": [
        {
          "output_type": "stream",
          "name": "stdout",
          "text": [
            "Mounted at /content/gdrive/\n"
          ]
        },
        {
          "output_type": "execute_result",
          "data": {
            "text/plain": [
              "'/content/gdrive/My Drive/247'"
            ],
            "application/vnd.google.colaboratory.intrinsic+json": {
              "type": "string"
            }
          },
          "metadata": {},
          "execution_count": 3
        }
      ],
      "source": [
        "# mount dataset from google drive\n",
        "drive.mount('/content/gdrive/', force_remount=True)\n",
        "gdrive_path = '/content/gdrive' + '/My Drive/247/'\n",
        "os.chdir(gdrive_path)\n",
        "os.getcwd()"
      ]
    },
    {
      "cell_type": "code",
      "execution_count": 4,
      "metadata": {
        "id": "oeDK8SzumZ1Q"
      },
      "outputs": [],
      "source": [
        "# frame dimention\n",
        "IMAGE_HEIGHT, IMAGE_WIDTH = 128, 128\n",
        "# frame number for each video (depth)\n",
        "SEQUENCE_LENGTH = 16\n",
        "# video dir path\n",
        "DATASET_DIR = gdrive_path + 'Cropped_videos'\n",
        "# labels of classes\n",
        "CLASSES_LIST = ['hemostasis', 'inflammatory', 'proliferative', 'maturation']"
      ]
    },
    {
      "cell_type": "code",
      "execution_count": 5,
      "metadata": {
        "id": "HUTeIqzpZc9J"
      },
      "outputs": [],
      "source": [
        "# image cropping\n",
        "def crop_center_square(frame):\n",
        "    y, x = frame.shape[0:2]\n",
        "    min_dim = min(y, x)\n",
        "    start_x = (x // 2) - (min_dim // 2)\n",
        "    start_y = (y // 2) - (min_dim // 2)\n",
        "    return frame[start_y:start_y+min_dim,start_x:start_x+min_dim]"
      ]
    },
    {
      "cell_type": "code",
      "execution_count": 6,
      "metadata": {
        "id": "QRDbHG0TZkYJ"
      },
      "outputs": [],
      "source": [
        "def load_video(path, resize=(128, 128)):\n",
        "    video_reader = cv2.VideoCapture(path)\n",
        "    frames = []\n",
        "    try:\n",
        "        while True:\n",
        "            ret, frame = video_reader.read()\n",
        "            if not ret:\n",
        "                  break\n",
        "            # frame = crop_center_square(frame)\n",
        "            frame = cv2.resize(frame, resize)\n",
        "            frame = frame[:, :, [2, 1, 0]]\n",
        "            black_frame = frame\n",
        "            frames.append(frame)\n",
        "    finally:\n",
        "        video_reader.release()\n",
        "    return np.array(frames) / 255.0"
      ]
    },
    {
      "cell_type": "code",
      "execution_count": 7,
      "metadata": {
        "id": "ljUWHW6Jqzu-"
      },
      "outputs": [],
      "source": [
        "def create_dataset(state):\n",
        "    # Declared Empty Lists to store the features, labels and video file path values.\n",
        "    features = []\n",
        "    labels = []\n",
        "    video_files_paths = []\n",
        "    # Iterating through all the classes mentioned in the classes list\n",
        "    for class_index, class_name in enumerate(CLASSES_LIST):\n",
        "        # Display the name of the class whose data is being extracted.\n",
        "        print(f'Extracting Data of Class: {class_name} {state}')\n",
        "        # Get the list of video files present in the specific class name directory.\n",
        "        files_list = os.listdir(os.path.join(DATASET_DIR, class_name))\n",
        "        # Iterate through all the files present in the files list.\n",
        "        for file_name in files_list:\n",
        "            # Get the complete video path.\n",
        "            video_file_path = os.path.join(DATASET_DIR, class_name, file_name)\n",
        "            # create testing data\n",
        "            if state == 'test':\n",
        "                # get the mouse number\n",
        "                mouse_number = int(video_file_path.split(' ')[2].split('_')[1].split('-')[1])\n",
        "                # get the mouse side (L or R)\n",
        "                mouse_side = video_file_path.split(' ')[2].split('_')[1].split('-')[2]\n",
        "                if mouse_number == 4 and mouse_side == 'L':\n",
        "                    frames = load_video(video_file_path)\n",
        "                    features.append(frames)\n",
        "                    labels.append(class_index)\n",
        "                    video_files_paths.append(video_file_path)\n",
        "            # create validation data\n",
        "            elif state == 'valid':\n",
        "                # get the mouse number\n",
        "                mouse_number = int(video_file_path.split(' ')[2].split('_')[1].split('-')[1])\n",
        "                # get the mouse side (L or R)\n",
        "                mouse_side = video_file_path.split(' ')[2].split('_')[1].split('-')[2]\n",
        "                if mouse_number == 4 and mouse_side == 'R':\n",
        "                    frames = load_video(video_file_path)\n",
        "                    features.append(frames)\n",
        "                    labels.append(class_index)\n",
        "                    video_files_paths.append(video_file_path)\n",
        "            # create training data\n",
        "            else:\n",
        "                # get the mouse number\n",
        "                mouse_number = int(video_file_path.split(' ')[2].split('_')[1].split('-')[1])\n",
        "                if mouse_number != 4:\n",
        "                    frames = load_video(video_file_path)\n",
        "                    features.append(frames)\n",
        "                    labels.append(class_index)\n",
        "                    video_files_paths.append(video_file_path)\n",
        "    # Converting the list to numpy arrays\n",
        "    features = np.asarray(features)\n",
        "    # print(features)\n",
        "    labels = np.array(labels)\n",
        "    # Return the frames, class index, and video file path.\n",
        "    return features, labels, video_files_paths"
      ]
    },
    {
      "cell_type": "code",
      "execution_count": 8,
      "metadata": {
        "colab": {
          "base_uri": "https://localhost:8080/"
        },
        "id": "a8rpanz9rASe",
        "outputId": "0f8340b9-ea85-4754-ba3b-e484b74b5b12"
      },
      "outputs": [
        {
          "output_type": "stream",
          "name": "stdout",
          "text": [
            "Extracting Data of Class: hemostasis train\n",
            "Extracting Data of Class: inflammatory train\n",
            "Extracting Data of Class: proliferative train\n",
            "Extracting Data of Class: maturation train\n",
            "Extracting Data of Class: hemostasis test\n",
            "Extracting Data of Class: inflammatory test\n",
            "Extracting Data of Class: proliferative test\n",
            "Extracting Data of Class: maturation test\n",
            "Extracting Data of Class: hemostasis valid\n",
            "Extracting Data of Class: inflammatory valid\n",
            "Extracting Data of Class: proliferative valid\n",
            "Extracting Data of Class: maturation valid\n"
          ]
        }
      ],
      "source": [
        "# 6 mice for training, 2 mice for test and validation (one wound on each mice for test one for validation)\n",
        "features_train, labels_train, video_files_paths_train = create_dataset('train')\n",
        "features_test, labels_test, video_files_paths_test = create_dataset('test')\n",
        "features_valid, labels_valid, video_files_paths_valid = create_dataset('valid')"
      ]
    },
    {
      "cell_type": "code",
      "execution_count": 9,
      "metadata": {
        "id": "dtJkK4qTAulC"
      },
      "outputs": [],
      "source": [
        "# labels to catogorical\n",
        "labels_train = keras.utils.to_categorical(labels_train)\n",
        "labels_test = keras.utils.to_categorical(labels_test)\n",
        "labels_valid = keras.utils.to_categorical(labels_valid)"
      ]
    },
    {
      "cell_type": "code",
      "execution_count": 10,
      "metadata": {
        "id": "N-9ykP4ig7IW"
      },
      "outputs": [],
      "source": [
        "def create_3D_CNN_model():\n",
        "    sample_shape = (16, 128, 128, 3)\n",
        "    model = Sequential()\n",
        "\n",
        "    ### 1\n",
        "    model.add(Conv3D(16, (3,3,3), activation='relu', kernel_initializer='he_uniform',\n",
        "                     kernel_regularizer=regularizers.L2(l2=1e-4),\n",
        "                     input_shape=sample_shape))\n",
        "    model.add(MaxPooling3D(2))\n",
        "    model.add(Dropout(0.3))\n",
        "\n",
        "    ### 2\n",
        "    model.add(Conv3D(32, (3,3,3), activation='relu', kernel_initializer='he_uniform',\n",
        "                     kernel_regularizer=regularizers.L2(l2=1e-4)))\n",
        "    model.add(MaxPooling3D(2))\n",
        "    model.add(Dropout(0.3))\n",
        "\n",
        "    model.add(GlobalAveragePooling3D())\n",
        "    model.add(Dropout(0.3))\n",
        "\n",
        "    model.add(Dense(16, activation='relu', kernel_initializer='he_uniform',\n",
        "                    kernel_regularizer=regularizers.L2(l2=1e-4)))\n",
        "    model.add(Dropout(0.4))\n",
        "\n",
        "    model.add(Dense(8, activation='relu', kernel_initializer='he_uniform',\n",
        "                    kernel_regularizer=regularizers.L2(l2=1e-4)))\n",
        "    model.add(Dropout(0.4))\n",
        "\n",
        "    model.add(Dense(4, activation='relu', kernel_initializer='he_uniform',\n",
        "                    kernel_regularizer=regularizers.L2(l2=1e-4)))\n",
        "\n",
        "    model.add(Dense(len(CLASSES_LIST), activation='softmax'))\n",
        "\n",
        "    model.summary(line_length = 125)\n",
        "\n",
        "    return model"
      ]
    },
    {
      "cell_type": "code",
      "execution_count": 11,
      "metadata": {
        "colab": {
          "base_uri": "https://localhost:8080/"
        },
        "id": "Z4_GxXZBcHlB",
        "outputId": "460542cd-bffc-47d5-d6a6-21e4a0caeb1f"
      },
      "outputs": [
        {
          "output_type": "stream",
          "name": "stdout",
          "text": [
            "Model: \"sequential\"\n",
            "_____________________________________________________________________________________________________________________________\n",
            " Layer (type)                                           Output Shape                                      Param #            \n",
            "=============================================================================================================================\n",
            " conv3d (Conv3D)                                        (None, 14, 126, 126, 16)                          1312               \n",
            "                                                                                                                             \n",
            " max_pooling3d (MaxPooling3D)                           (None, 7, 63, 63, 16)                             0                  \n",
            "                                                                                                                             \n",
            " dropout (Dropout)                                      (None, 7, 63, 63, 16)                             0                  \n",
            "                                                                                                                             \n",
            " conv3d_1 (Conv3D)                                      (None, 5, 61, 61, 32)                             13856              \n",
            "                                                                                                                             \n",
            " max_pooling3d_1 (MaxPooling3D)                         (None, 2, 30, 30, 32)                             0                  \n",
            "                                                                                                                             \n",
            " dropout_1 (Dropout)                                    (None, 2, 30, 30, 32)                             0                  \n",
            "                                                                                                                             \n",
            " global_average_pooling3d (GlobalAveragePooling3D)      (None, 32)                                        0                  \n",
            "                                                                                                                             \n",
            " dropout_2 (Dropout)                                    (None, 32)                                        0                  \n",
            "                                                                                                                             \n",
            " dense (Dense)                                          (None, 16)                                        528                \n",
            "                                                                                                                             \n",
            " dropout_3 (Dropout)                                    (None, 16)                                        0                  \n",
            "                                                                                                                             \n",
            " dense_1 (Dense)                                        (None, 8)                                         136                \n",
            "                                                                                                                             \n",
            " dropout_4 (Dropout)                                    (None, 8)                                         0                  \n",
            "                                                                                                                             \n",
            " dense_2 (Dense)                                        (None, 4)                                         36                 \n",
            "                                                                                                                             \n",
            " dense_3 (Dense)                                        (None, 4)                                         20                 \n",
            "                                                                                                                             \n",
            "=============================================================================================================================\n",
            "Total params: 15,888\n",
            "Trainable params: 15,888\n",
            "Non-trainable params: 0\n",
            "_____________________________________________________________________________________________________________________________\n",
            "Model Created Successfully!\n"
          ]
        }
      ],
      "source": [
        "# Construct the required convlstm model.\n",
        "model = create_3D_CNN_model()\n",
        " \n",
        "# Display the success message. \n",
        "print(\"Model Created Successfully!\")"
      ]
    },
    {
      "cell_type": "code",
      "execution_count": 12,
      "metadata": {
        "colab": {
          "base_uri": "https://localhost:8080/"
        },
        "id": "MwYEkaYLoyb_",
        "outputId": "437882ba-d42b-433c-f907-ec2fe8e30fed"
      },
      "outputs": [
        {
          "output_type": "stream",
          "name": "stdout",
          "text": [
            "Epoch 1/200\n",
            "30/30 [==============================] - 8s 188ms/step - loss: 1.3895 - accuracy: 0.4115 - val_loss: 1.3535 - val_accuracy: 0.4044\n",
            "Epoch 2/200\n",
            "30/30 [==============================] - 4s 146ms/step - loss: 1.3073 - accuracy: 0.4375 - val_loss: 1.2598 - val_accuracy: 0.5037\n",
            "Epoch 3/200\n",
            "30/30 [==============================] - 4s 146ms/step - loss: 1.2618 - accuracy: 0.4264 - val_loss: 1.2546 - val_accuracy: 0.4743\n",
            "Epoch 4/200\n",
            "30/30 [==============================] - 4s 148ms/step - loss: 1.2299 - accuracy: 0.4276 - val_loss: 1.2081 - val_accuracy: 0.5846\n",
            "Epoch 5/200\n",
            "30/30 [==============================] - 4s 146ms/step - loss: 1.1969 - accuracy: 0.4554 - val_loss: 1.1643 - val_accuracy: 0.5551\n",
            "Epoch 6/200\n",
            "30/30 [==============================] - 4s 144ms/step - loss: 1.1659 - accuracy: 0.4666 - val_loss: 1.1483 - val_accuracy: 0.5515\n",
            "Epoch 7/200\n",
            "30/30 [==============================] - 4s 145ms/step - loss: 1.1446 - accuracy: 0.4728 - val_loss: 1.1035 - val_accuracy: 0.5846\n",
            "Epoch 8/200\n",
            "30/30 [==============================] - 4s 145ms/step - loss: 1.1194 - accuracy: 0.4765 - val_loss: 1.0466 - val_accuracy: 0.5772\n",
            "Epoch 9/200\n",
            "30/30 [==============================] - 4s 147ms/step - loss: 1.1170 - accuracy: 0.4635 - val_loss: 1.0659 - val_accuracy: 0.5588\n",
            "Epoch 10/200\n",
            "30/30 [==============================] - 4s 144ms/step - loss: 1.1010 - accuracy: 0.4777 - val_loss: 1.0454 - val_accuracy: 0.5882\n",
            "Epoch 11/200\n",
            "30/30 [==============================] - 4s 144ms/step - loss: 1.0642 - accuracy: 0.4790 - val_loss: 0.9940 - val_accuracy: 0.5956\n",
            "Epoch 12/200\n",
            "30/30 [==============================] - 4s 144ms/step - loss: 1.0617 - accuracy: 0.4963 - val_loss: 1.0078 - val_accuracy: 0.5993\n",
            "Epoch 13/200\n",
            "30/30 [==============================] - 4s 148ms/step - loss: 1.0482 - accuracy: 0.5099 - val_loss: 0.9823 - val_accuracy: 0.5919\n",
            "Epoch 14/200\n",
            "30/30 [==============================] - 4s 145ms/step - loss: 1.0448 - accuracy: 0.5037 - val_loss: 0.9795 - val_accuracy: 0.5993\n",
            "Epoch 15/200\n",
            "30/30 [==============================] - 4s 146ms/step - loss: 1.0360 - accuracy: 0.5012 - val_loss: 0.9658 - val_accuracy: 0.5882\n",
            "Epoch 16/200\n",
            "30/30 [==============================] - 4s 144ms/step - loss: 1.0242 - accuracy: 0.5155 - val_loss: 0.9584 - val_accuracy: 0.5993\n",
            "Epoch 17/200\n",
            "30/30 [==============================] - 4s 146ms/step - loss: 1.0254 - accuracy: 0.5019 - val_loss: 0.9431 - val_accuracy: 0.6029\n",
            "Epoch 18/200\n",
            "30/30 [==============================] - 4s 145ms/step - loss: 1.0038 - accuracy: 0.5155 - val_loss: 0.9548 - val_accuracy: 0.5919\n",
            "Epoch 19/200\n",
            "30/30 [==============================] - 4s 145ms/step - loss: 1.0010 - accuracy: 0.5192 - val_loss: 0.9357 - val_accuracy: 0.5956\n",
            "Epoch 20/200\n",
            "30/30 [==============================] - 4s 144ms/step - loss: 1.0162 - accuracy: 0.5080 - val_loss: 0.9683 - val_accuracy: 0.5919\n",
            "Epoch 21/200\n",
            "30/30 [==============================] - 4s 145ms/step - loss: 0.9792 - accuracy: 0.5260 - val_loss: 0.9181 - val_accuracy: 0.5993\n",
            "Epoch 22/200\n",
            "30/30 [==============================] - 4s 145ms/step - loss: 0.9870 - accuracy: 0.5241 - val_loss: 0.9358 - val_accuracy: 0.5993\n",
            "Epoch 23/200\n",
            "30/30 [==============================] - 4s 145ms/step - loss: 0.9900 - accuracy: 0.5229 - val_loss: 0.9146 - val_accuracy: 0.6029\n",
            "Epoch 24/200\n",
            "30/30 [==============================] - 4s 145ms/step - loss: 0.9825 - accuracy: 0.5371 - val_loss: 0.8944 - val_accuracy: 0.5993\n",
            "Epoch 25/200\n",
            "30/30 [==============================] - 4s 144ms/step - loss: 0.9763 - accuracy: 0.5322 - val_loss: 0.8973 - val_accuracy: 0.5919\n",
            "Epoch 26/200\n",
            "30/30 [==============================] - 4s 146ms/step - loss: 0.9739 - accuracy: 0.5316 - val_loss: 0.9016 - val_accuracy: 0.5993\n",
            "Epoch 27/200\n",
            "30/30 [==============================] - 4s 146ms/step - loss: 0.9526 - accuracy: 0.5427 - val_loss: 0.8881 - val_accuracy: 0.6029\n",
            "Epoch 28/200\n",
            "30/30 [==============================] - 4s 146ms/step - loss: 0.9574 - accuracy: 0.5303 - val_loss: 0.8931 - val_accuracy: 0.6103\n",
            "Epoch 29/200\n",
            "30/30 [==============================] - 4s 145ms/step - loss: 0.9469 - accuracy: 0.5557 - val_loss: 0.9035 - val_accuracy: 0.5846\n",
            "Epoch 30/200\n",
            "30/30 [==============================] - 4s 144ms/step - loss: 0.9426 - accuracy: 0.5464 - val_loss: 0.9029 - val_accuracy: 0.5993\n",
            "Epoch 31/200\n",
            "30/30 [==============================] - 4s 145ms/step - loss: 0.9496 - accuracy: 0.5384 - val_loss: 0.8731 - val_accuracy: 0.5993\n",
            "Epoch 32/200\n",
            "30/30 [==============================] - 4s 144ms/step - loss: 0.9440 - accuracy: 0.5501 - val_loss: 0.8711 - val_accuracy: 0.5882\n",
            "Epoch 33/200\n",
            "30/30 [==============================] - 4s 147ms/step - loss: 0.9311 - accuracy: 0.5415 - val_loss: 0.8764 - val_accuracy: 0.5956\n",
            "Epoch 34/200\n",
            "30/30 [==============================] - 4s 145ms/step - loss: 0.9153 - accuracy: 0.5569 - val_loss: 0.8586 - val_accuracy: 0.6103\n",
            "Epoch 35/200\n",
            "30/30 [==============================] - 4s 147ms/step - loss: 0.9288 - accuracy: 0.5489 - val_loss: 0.8800 - val_accuracy: 0.5515\n",
            "Epoch 36/200\n",
            "30/30 [==============================] - 4s 146ms/step - loss: 0.9317 - accuracy: 0.5353 - val_loss: 0.8806 - val_accuracy: 0.5882\n",
            "Epoch 37/200\n",
            "30/30 [==============================] - 4s 146ms/step - loss: 0.9103 - accuracy: 0.5631 - val_loss: 0.8645 - val_accuracy: 0.5735\n",
            "Epoch 38/200\n",
            "30/30 [==============================] - 4s 145ms/step - loss: 0.9120 - accuracy: 0.5619 - val_loss: 0.8534 - val_accuracy: 0.5956\n",
            "Epoch 39/200\n",
            "30/30 [==============================] - 4s 145ms/step - loss: 0.8943 - accuracy: 0.5693 - val_loss: 0.8508 - val_accuracy: 0.5846\n",
            "Epoch 40/200\n",
            "30/30 [==============================] - 4s 145ms/step - loss: 0.8863 - accuracy: 0.5761 - val_loss: 0.8592 - val_accuracy: 0.5515\n",
            "Epoch 41/200\n",
            "30/30 [==============================] - 4s 145ms/step - loss: 0.9100 - accuracy: 0.5730 - val_loss: 0.8782 - val_accuracy: 0.5735\n",
            "Epoch 42/200\n",
            "30/30 [==============================] - 4s 147ms/step - loss: 0.9027 - accuracy: 0.5774 - val_loss: 0.8527 - val_accuracy: 0.6140\n",
            "Epoch 43/200\n",
            "30/30 [==============================] - 4s 146ms/step - loss: 0.9075 - accuracy: 0.5551 - val_loss: 0.8532 - val_accuracy: 0.5772\n",
            "Epoch 44/200\n",
            "30/30 [==============================] - 4s 148ms/step - loss: 0.8897 - accuracy: 0.5767 - val_loss: 0.8520 - val_accuracy: 0.6029\n",
            "Epoch 45/200\n",
            "30/30 [==============================] - 4s 144ms/step - loss: 0.8809 - accuracy: 0.5761 - val_loss: 0.8369 - val_accuracy: 0.6140\n",
            "Epoch 46/200\n",
            "30/30 [==============================] - 4s 146ms/step - loss: 0.8884 - accuracy: 0.5829 - val_loss: 0.8369 - val_accuracy: 0.6250\n",
            "Epoch 47/200\n",
            "30/30 [==============================] - 4s 148ms/step - loss: 0.8981 - accuracy: 0.5699 - val_loss: 0.8313 - val_accuracy: 0.6103\n",
            "Epoch 48/200\n",
            "30/30 [==============================] - 4s 146ms/step - loss: 0.8702 - accuracy: 0.5842 - val_loss: 0.8224 - val_accuracy: 0.6140\n",
            "Epoch 49/200\n",
            "30/30 [==============================] - 4s 145ms/step - loss: 0.8698 - accuracy: 0.6002 - val_loss: 0.8492 - val_accuracy: 0.5625\n",
            "Epoch 50/200\n",
            "30/30 [==============================] - 4s 145ms/step - loss: 0.8737 - accuracy: 0.5848 - val_loss: 0.8144 - val_accuracy: 0.6066\n",
            "Epoch 51/200\n",
            "30/30 [==============================] - 4s 146ms/step - loss: 0.8634 - accuracy: 0.5978 - val_loss: 0.8199 - val_accuracy: 0.6140\n",
            "Epoch 52/200\n",
            "30/30 [==============================] - 4s 145ms/step - loss: 0.8616 - accuracy: 0.5873 - val_loss: 0.8074 - val_accuracy: 0.6103\n",
            "Epoch 53/200\n",
            "30/30 [==============================] - 4s 145ms/step - loss: 0.8654 - accuracy: 0.5681 - val_loss: 0.8016 - val_accuracy: 0.6250\n",
            "Epoch 54/200\n",
            "30/30 [==============================] - 4s 146ms/step - loss: 0.8647 - accuracy: 0.6002 - val_loss: 0.8062 - val_accuracy: 0.6397\n",
            "Epoch 55/200\n",
            "30/30 [==============================] - 4s 146ms/step - loss: 0.8574 - accuracy: 0.5897 - val_loss: 0.7917 - val_accuracy: 0.6434\n",
            "Epoch 56/200\n",
            "30/30 [==============================] - 4s 146ms/step - loss: 0.8362 - accuracy: 0.6015 - val_loss: 0.8328 - val_accuracy: 0.5625\n",
            "Epoch 57/200\n",
            "30/30 [==============================] - 4s 146ms/step - loss: 0.8392 - accuracy: 0.6145 - val_loss: 0.8604 - val_accuracy: 0.5184\n",
            "Epoch 58/200\n",
            "30/30 [==============================] - 4s 146ms/step - loss: 0.8415 - accuracy: 0.6058 - val_loss: 0.8172 - val_accuracy: 0.5699\n",
            "Epoch 59/200\n",
            "30/30 [==============================] - 4s 146ms/step - loss: 0.8292 - accuracy: 0.6071 - val_loss: 0.8062 - val_accuracy: 0.5919\n",
            "Epoch 60/200\n",
            "30/30 [==============================] - 4s 146ms/step - loss: 0.8284 - accuracy: 0.6126 - val_loss: 0.8041 - val_accuracy: 0.5882\n",
            "Epoch 61/200\n",
            "30/30 [==============================] - 4s 147ms/step - loss: 0.8363 - accuracy: 0.6132 - val_loss: 0.7789 - val_accuracy: 0.6397\n",
            "Epoch 62/200\n",
            "30/30 [==============================] - 4s 144ms/step - loss: 0.8222 - accuracy: 0.6219 - val_loss: 0.7557 - val_accuracy: 0.6471\n",
            "Epoch 63/200\n",
            "30/30 [==============================] - 4s 144ms/step - loss: 0.8229 - accuracy: 0.6077 - val_loss: 0.8081 - val_accuracy: 0.5331\n",
            "Epoch 64/200\n",
            "30/30 [==============================] - 4s 147ms/step - loss: 0.8453 - accuracy: 0.6114 - val_loss: 0.8247 - val_accuracy: 0.5441\n",
            "Epoch 65/200\n",
            "30/30 [==============================] - 4s 145ms/step - loss: 0.8227 - accuracy: 0.6244 - val_loss: 0.8073 - val_accuracy: 0.5625\n",
            "Epoch 66/200\n",
            "30/30 [==============================] - 4s 145ms/step - loss: 0.8256 - accuracy: 0.6182 - val_loss: 0.8014 - val_accuracy: 0.5662\n",
            "Epoch 67/200\n",
            "30/30 [==============================] - 4s 146ms/step - loss: 0.8133 - accuracy: 0.6170 - val_loss: 0.7998 - val_accuracy: 0.5772\n",
            "Epoch 68/200\n",
            "30/30 [==============================] - 4s 145ms/step - loss: 0.8028 - accuracy: 0.6225 - val_loss: 0.7769 - val_accuracy: 0.6397\n",
            "Epoch 69/200\n",
            "30/30 [==============================] - 4s 146ms/step - loss: 0.7946 - accuracy: 0.6269 - val_loss: 0.7886 - val_accuracy: 0.6029\n",
            "Epoch 70/200\n",
            "30/30 [==============================] - 4s 145ms/step - loss: 0.8121 - accuracy: 0.6139 - val_loss: 0.7490 - val_accuracy: 0.6912\n",
            "Epoch 71/200\n",
            "30/30 [==============================] - 4s 145ms/step - loss: 0.7846 - accuracy: 0.6368 - val_loss: 0.7343 - val_accuracy: 0.6985\n",
            "Epoch 72/200\n",
            "30/30 [==============================] - 4s 146ms/step - loss: 0.8228 - accuracy: 0.6269 - val_loss: 0.8205 - val_accuracy: 0.5588\n",
            "Epoch 73/200\n",
            "30/30 [==============================] - 4s 145ms/step - loss: 0.8048 - accuracy: 0.6213 - val_loss: 0.7718 - val_accuracy: 0.6434\n",
            "Epoch 74/200\n",
            "30/30 [==============================] - 4s 145ms/step - loss: 0.7897 - accuracy: 0.6355 - val_loss: 0.7911 - val_accuracy: 0.5809\n",
            "Epoch 75/200\n",
            "30/30 [==============================] - 4s 144ms/step - loss: 0.7822 - accuracy: 0.6324 - val_loss: 0.8208 - val_accuracy: 0.5404\n",
            "Epoch 76/200\n",
            "30/30 [==============================] - 4s 145ms/step - loss: 0.7848 - accuracy: 0.6343 - val_loss: 0.7900 - val_accuracy: 0.5993\n",
            "Epoch 77/200\n",
            "30/30 [==============================] - 4s 146ms/step - loss: 0.7790 - accuracy: 0.6460 - val_loss: 0.7860 - val_accuracy: 0.5956\n",
            "Epoch 78/200\n",
            "30/30 [==============================] - 4s 146ms/step - loss: 0.7879 - accuracy: 0.6417 - val_loss: 0.7588 - val_accuracy: 0.6176\n",
            "Epoch 79/200\n",
            "30/30 [==============================] - 4s 145ms/step - loss: 0.7654 - accuracy: 0.6281 - val_loss: 0.7492 - val_accuracy: 0.6434\n",
            "Epoch 80/200\n",
            "30/30 [==============================] - 4s 146ms/step - loss: 0.7781 - accuracy: 0.6436 - val_loss: 0.7485 - val_accuracy: 0.6618\n",
            "Epoch 81/200\n",
            "30/30 [==============================] - 4s 147ms/step - loss: 0.7629 - accuracy: 0.6504 - val_loss: 0.8065 - val_accuracy: 0.5772\n",
            "Epoch 82/200\n",
            "30/30 [==============================] - 4s 145ms/step - loss: 0.7745 - accuracy: 0.6361 - val_loss: 0.7777 - val_accuracy: 0.6140\n",
            "Epoch 83/200\n",
            "30/30 [==============================] - 4s 145ms/step - loss: 0.7711 - accuracy: 0.6355 - val_loss: 0.8161 - val_accuracy: 0.5699\n",
            "Epoch 84/200\n",
            "30/30 [==============================] - 4s 146ms/step - loss: 0.7797 - accuracy: 0.6442 - val_loss: 0.7865 - val_accuracy: 0.5809\n",
            "Epoch 85/200\n",
            "30/30 [==============================] - 4s 148ms/step - loss: 0.7642 - accuracy: 0.6460 - val_loss: 0.7613 - val_accuracy: 0.5882\n",
            "Epoch 86/200\n",
            "30/30 [==============================] - 4s 146ms/step - loss: 0.7535 - accuracy: 0.6479 - val_loss: 0.7812 - val_accuracy: 0.5846\n",
            "Epoch 87/200\n",
            "30/30 [==============================] - 4s 146ms/step - loss: 0.7362 - accuracy: 0.6584 - val_loss: 0.7986 - val_accuracy: 0.5919\n",
            "Epoch 88/200\n",
            "30/30 [==============================] - 4s 147ms/step - loss: 0.7781 - accuracy: 0.6429 - val_loss: 0.7693 - val_accuracy: 0.5919\n",
            "Epoch 89/200\n",
            "30/30 [==============================] - 4s 147ms/step - loss: 0.7483 - accuracy: 0.6621 - val_loss: 0.7809 - val_accuracy: 0.5919\n",
            "Epoch 90/200\n",
            "30/30 [==============================] - 4s 146ms/step - loss: 0.7571 - accuracy: 0.6609 - val_loss: 0.7339 - val_accuracy: 0.6397\n",
            "Epoch 91/200\n",
            "30/30 [==============================] - 4s 147ms/step - loss: 0.7370 - accuracy: 0.6646 - val_loss: 0.7368 - val_accuracy: 0.6324\n",
            "Epoch 92/200\n",
            "30/30 [==============================] - 4s 146ms/step - loss: 0.7440 - accuracy: 0.6597 - val_loss: 0.7472 - val_accuracy: 0.6066\n",
            "Epoch 93/200\n",
            "30/30 [==============================] - 4s 147ms/step - loss: 0.7574 - accuracy: 0.6454 - val_loss: 0.7469 - val_accuracy: 0.5882\n",
            "Epoch 94/200\n",
            "30/30 [==============================] - 4s 145ms/step - loss: 0.7392 - accuracy: 0.6776 - val_loss: 0.7301 - val_accuracy: 0.6360\n",
            "Epoch 95/200\n",
            "30/30 [==============================] - 4s 146ms/step - loss: 0.7332 - accuracy: 0.6677 - val_loss: 0.7621 - val_accuracy: 0.5588\n",
            "Epoch 96/200\n",
            "30/30 [==============================] - 4s 146ms/step - loss: 0.7552 - accuracy: 0.6559 - val_loss: 0.7366 - val_accuracy: 0.6140\n",
            "Epoch 97/200\n",
            "30/30 [==============================] - 4s 145ms/step - loss: 0.7556 - accuracy: 0.6603 - val_loss: 0.7674 - val_accuracy: 0.5662\n",
            "Epoch 98/200\n",
            "30/30 [==============================] - 4s 145ms/step - loss: 0.7381 - accuracy: 0.6597 - val_loss: 0.7575 - val_accuracy: 0.5919\n",
            "Epoch 99/200\n",
            "30/30 [==============================] - 4s 145ms/step - loss: 0.7208 - accuracy: 0.6720 - val_loss: 0.7337 - val_accuracy: 0.6140\n",
            "Epoch 100/200\n",
            "30/30 [==============================] - 4s 146ms/step - loss: 0.7327 - accuracy: 0.6658 - val_loss: 0.7537 - val_accuracy: 0.5735\n",
            "Epoch 101/200\n",
            "30/30 [==============================] - 4s 148ms/step - loss: 0.7405 - accuracy: 0.6795 - val_loss: 0.7908 - val_accuracy: 0.5110\n",
            "Epoch 102/200\n",
            "30/30 [==============================] - 4s 147ms/step - loss: 0.7291 - accuracy: 0.6665 - val_loss: 0.7324 - val_accuracy: 0.5993\n",
            "Epoch 103/200\n",
            "30/30 [==============================] - 4s 147ms/step - loss: 0.7289 - accuracy: 0.6782 - val_loss: 0.7845 - val_accuracy: 0.5331\n",
            "Epoch 104/200\n",
            "30/30 [==============================] - 4s 145ms/step - loss: 0.7340 - accuracy: 0.6714 - val_loss: 0.7400 - val_accuracy: 0.5993\n",
            "Epoch 105/200\n",
            "30/30 [==============================] - 4s 145ms/step - loss: 0.7266 - accuracy: 0.6764 - val_loss: 0.7810 - val_accuracy: 0.5110\n",
            "Epoch 106/200\n",
            "30/30 [==============================] - 4s 145ms/step - loss: 0.7204 - accuracy: 0.6745 - val_loss: 0.7378 - val_accuracy: 0.5735\n",
            "Epoch 107/200\n",
            "30/30 [==============================] - 4s 146ms/step - loss: 0.7326 - accuracy: 0.6968 - val_loss: 0.7966 - val_accuracy: 0.5110\n",
            "Epoch 108/200\n",
            "30/30 [==============================] - 4s 146ms/step - loss: 0.6921 - accuracy: 0.6819 - val_loss: 0.7391 - val_accuracy: 0.5735\n",
            "Epoch 109/200\n",
            "30/30 [==============================] - 4s 145ms/step - loss: 0.7309 - accuracy: 0.6838 - val_loss: 0.7123 - val_accuracy: 0.6213\n",
            "Epoch 110/200\n",
            "30/30 [==============================] - 4s 146ms/step - loss: 0.7076 - accuracy: 0.6881 - val_loss: 0.7529 - val_accuracy: 0.5809\n",
            "Epoch 111/200\n",
            "30/30 [==============================] - 4s 146ms/step - loss: 0.7106 - accuracy: 0.6825 - val_loss: 0.7441 - val_accuracy: 0.5772\n",
            "Epoch 112/200\n",
            "30/30 [==============================] - 4s 146ms/step - loss: 0.7067 - accuracy: 0.6968 - val_loss: 0.7520 - val_accuracy: 0.5662\n",
            "Epoch 113/200\n",
            "30/30 [==============================] - 4s 145ms/step - loss: 0.7036 - accuracy: 0.6912 - val_loss: 0.7134 - val_accuracy: 0.6324\n",
            "Epoch 114/200\n",
            "30/30 [==============================] - 4s 146ms/step - loss: 0.7204 - accuracy: 0.6887 - val_loss: 0.7406 - val_accuracy: 0.5662\n",
            "Epoch 115/200\n",
            "30/30 [==============================] - 4s 148ms/step - loss: 0.7171 - accuracy: 0.6925 - val_loss: 0.7389 - val_accuracy: 0.5846\n",
            "Epoch 116/200\n",
            "30/30 [==============================] - 4s 145ms/step - loss: 0.6750 - accuracy: 0.7030 - val_loss: 0.7283 - val_accuracy: 0.5993\n",
            "Epoch 117/200\n",
            "30/30 [==============================] - 4s 148ms/step - loss: 0.6895 - accuracy: 0.7191 - val_loss: 0.7395 - val_accuracy: 0.5809\n",
            "Epoch 118/200\n",
            "30/30 [==============================] - 4s 146ms/step - loss: 0.6998 - accuracy: 0.6980 - val_loss: 0.7656 - val_accuracy: 0.5110\n",
            "Epoch 119/200\n",
            "30/30 [==============================] - 4s 145ms/step - loss: 0.7064 - accuracy: 0.7079 - val_loss: 0.7606 - val_accuracy: 0.5294\n",
            "Epoch 120/200\n",
            "30/30 [==============================] - 4s 145ms/step - loss: 0.6953 - accuracy: 0.7030 - val_loss: 0.7570 - val_accuracy: 0.5662\n",
            "Epoch 121/200\n",
            "30/30 [==============================] - 4s 147ms/step - loss: 0.6969 - accuracy: 0.7116 - val_loss: 0.7229 - val_accuracy: 0.5846\n",
            "Epoch 122/200\n",
            "30/30 [==============================] - 4s 145ms/step - loss: 0.6803 - accuracy: 0.6986 - val_loss: 0.7261 - val_accuracy: 0.5993\n",
            "Epoch 123/200\n",
            "30/30 [==============================] - 4s 144ms/step - loss: 0.6785 - accuracy: 0.7153 - val_loss: 0.7053 - val_accuracy: 0.6103\n",
            "Epoch 124/200\n",
            "30/30 [==============================] - 4s 147ms/step - loss: 0.6829 - accuracy: 0.7123 - val_loss: 0.6975 - val_accuracy: 0.6176\n",
            "Epoch 125/200\n",
            "30/30 [==============================] - 4s 147ms/step - loss: 0.6868 - accuracy: 0.7017 - val_loss: 0.7293 - val_accuracy: 0.5846\n",
            "Epoch 126/200\n",
            "30/30 [==============================] - 4s 146ms/step - loss: 0.6744 - accuracy: 0.7123 - val_loss: 0.7366 - val_accuracy: 0.5919\n",
            "Epoch 127/200\n",
            "30/30 [==============================] - 4s 146ms/step - loss: 0.6604 - accuracy: 0.7184 - val_loss: 0.7328 - val_accuracy: 0.5993\n",
            "Epoch 128/200\n",
            "30/30 [==============================] - 4s 146ms/step - loss: 0.6771 - accuracy: 0.7209 - val_loss: 0.7369 - val_accuracy: 0.5956\n",
            "Epoch 129/200\n",
            "30/30 [==============================] - 4s 145ms/step - loss: 0.6624 - accuracy: 0.7283 - val_loss: 0.7567 - val_accuracy: 0.5809\n",
            "Epoch 130/200\n",
            "30/30 [==============================] - 4s 145ms/step - loss: 0.6657 - accuracy: 0.7123 - val_loss: 0.7099 - val_accuracy: 0.6103\n",
            "Epoch 131/200\n",
            "30/30 [==============================] - 4s 145ms/step - loss: 0.6909 - accuracy: 0.7098 - val_loss: 0.7994 - val_accuracy: 0.5368\n",
            "Epoch 132/200\n",
            "30/30 [==============================] - 4s 146ms/step - loss: 0.6733 - accuracy: 0.7172 - val_loss: 0.7362 - val_accuracy: 0.5993\n",
            "Epoch 133/200\n",
            "30/30 [==============================] - 4s 147ms/step - loss: 0.6564 - accuracy: 0.7271 - val_loss: 0.7679 - val_accuracy: 0.5772\n",
            "Epoch 134/200\n",
            "30/30 [==============================] - 4s 146ms/step - loss: 0.6807 - accuracy: 0.7098 - val_loss: 0.7340 - val_accuracy: 0.6140\n",
            "Epoch 135/200\n",
            "30/30 [==============================] - 4s 146ms/step - loss: 0.6529 - accuracy: 0.7240 - val_loss: 0.7540 - val_accuracy: 0.5809\n",
            "Epoch 136/200\n",
            "30/30 [==============================] - 4s 145ms/step - loss: 0.6521 - accuracy: 0.7240 - val_loss: 0.8009 - val_accuracy: 0.5478\n",
            "Epoch 137/200\n",
            "30/30 [==============================] - 4s 146ms/step - loss: 0.6738 - accuracy: 0.7246 - val_loss: 0.6953 - val_accuracy: 0.6397\n",
            "Epoch 138/200\n",
            "30/30 [==============================] - 4s 145ms/step - loss: 0.6605 - accuracy: 0.7252 - val_loss: 0.7274 - val_accuracy: 0.6324\n",
            "Epoch 139/200\n",
            "30/30 [==============================] - 4s 147ms/step - loss: 0.6722 - accuracy: 0.7166 - val_loss: 0.7988 - val_accuracy: 0.5074\n",
            "Epoch 140/200\n",
            "30/30 [==============================] - 4s 145ms/step - loss: 0.6521 - accuracy: 0.7252 - val_loss: 0.6999 - val_accuracy: 0.6250\n",
            "Epoch 141/200\n",
            "30/30 [==============================] - 4s 146ms/step - loss: 0.6597 - accuracy: 0.7308 - val_loss: 0.8295 - val_accuracy: 0.5257\n",
            "Epoch 142/200\n",
            "30/30 [==============================] - 4s 146ms/step - loss: 0.6420 - accuracy: 0.7351 - val_loss: 0.6838 - val_accuracy: 0.6250\n",
            "Epoch 143/200\n",
            "30/30 [==============================] - 4s 145ms/step - loss: 0.6573 - accuracy: 0.7252 - val_loss: 0.7186 - val_accuracy: 0.6103\n",
            "Epoch 144/200\n",
            "30/30 [==============================] - 4s 147ms/step - loss: 0.6586 - accuracy: 0.7104 - val_loss: 0.7116 - val_accuracy: 0.6066\n",
            "Epoch 145/200\n",
            "30/30 [==============================] - 4s 145ms/step - loss: 0.6638 - accuracy: 0.7135 - val_loss: 0.7400 - val_accuracy: 0.5993\n",
            "Epoch 146/200\n",
            "30/30 [==============================] - 4s 147ms/step - loss: 0.6386 - accuracy: 0.7395 - val_loss: 0.7305 - val_accuracy: 0.6029\n",
            "Epoch 147/200\n",
            "30/30 [==============================] - 4s 147ms/step - loss: 0.6491 - accuracy: 0.7184 - val_loss: 0.7300 - val_accuracy: 0.6029\n",
            "Epoch 148/200\n",
            "30/30 [==============================] - 4s 146ms/step - loss: 0.6405 - accuracy: 0.7290 - val_loss: 0.6778 - val_accuracy: 0.6471\n",
            "Epoch 149/200\n",
            "30/30 [==============================] - 4s 146ms/step - loss: 0.6651 - accuracy: 0.7184 - val_loss: 0.7575 - val_accuracy: 0.5882\n",
            "Epoch 150/200\n",
            "30/30 [==============================] - 4s 145ms/step - loss: 0.6373 - accuracy: 0.7252 - val_loss: 0.7269 - val_accuracy: 0.6029\n",
            "Epoch 151/200\n",
            "30/30 [==============================] - 4s 146ms/step - loss: 0.6313 - accuracy: 0.7469 - val_loss: 0.7209 - val_accuracy: 0.6213\n",
            "Epoch 152/200\n",
            "30/30 [==============================] - 4s 146ms/step - loss: 0.6432 - accuracy: 0.7252 - val_loss: 0.7050 - val_accuracy: 0.6176\n",
            "Epoch 153/200\n",
            "30/30 [==============================] - 4s 145ms/step - loss: 0.6623 - accuracy: 0.7290 - val_loss: 0.7242 - val_accuracy: 0.6066\n",
            "Epoch 154/200\n",
            "30/30 [==============================] - 4s 145ms/step - loss: 0.6484 - accuracy: 0.7271 - val_loss: 0.7121 - val_accuracy: 0.6213\n",
            "Epoch 155/200\n",
            "30/30 [==============================] - 4s 146ms/step - loss: 0.6449 - accuracy: 0.7370 - val_loss: 0.7085 - val_accuracy: 0.6176\n",
            "Epoch 156/200\n",
            "30/30 [==============================] - 4s 147ms/step - loss: 0.6403 - accuracy: 0.7302 - val_loss: 0.7442 - val_accuracy: 0.5515\n",
            "Epoch 157/200\n",
            "30/30 [==============================] - 4s 144ms/step - loss: 0.6361 - accuracy: 0.7327 - val_loss: 0.6775 - val_accuracy: 0.6324\n",
            "Epoch 158/200\n",
            "30/30 [==============================] - 4s 145ms/step - loss: 0.6612 - accuracy: 0.7203 - val_loss: 0.7415 - val_accuracy: 0.5699\n",
            "Epoch 159/200\n",
            "30/30 [==============================] - 4s 145ms/step - loss: 0.6414 - accuracy: 0.7395 - val_loss: 0.7218 - val_accuracy: 0.6029\n",
            "Epoch 160/200\n",
            "30/30 [==============================] - 4s 148ms/step - loss: 0.6366 - accuracy: 0.7364 - val_loss: 0.7494 - val_accuracy: 0.5625\n",
            "Epoch 161/200\n",
            "30/30 [==============================] - 4s 146ms/step - loss: 0.6626 - accuracy: 0.7203 - val_loss: 0.7193 - val_accuracy: 0.6029\n",
            "Epoch 162/200\n",
            "30/30 [==============================] - 4s 144ms/step - loss: 0.6299 - accuracy: 0.7537 - val_loss: 0.7061 - val_accuracy: 0.6140\n",
            "Epoch 163/200\n",
            "30/30 [==============================] - 4s 147ms/step - loss: 0.6322 - accuracy: 0.7382 - val_loss: 0.7350 - val_accuracy: 0.5772\n",
            "Epoch 164/200\n",
            "30/30 [==============================] - 4s 145ms/step - loss: 0.6325 - accuracy: 0.7382 - val_loss: 0.6725 - val_accuracy: 0.6471\n",
            "Epoch 165/200\n",
            "30/30 [==============================] - 4s 145ms/step - loss: 0.6151 - accuracy: 0.7593 - val_loss: 0.7352 - val_accuracy: 0.5956\n",
            "Epoch 166/200\n",
            "30/30 [==============================] - 4s 146ms/step - loss: 0.6298 - accuracy: 0.7444 - val_loss: 0.7626 - val_accuracy: 0.5551\n",
            "Epoch 167/200\n",
            "30/30 [==============================] - 4s 144ms/step - loss: 0.6386 - accuracy: 0.7296 - val_loss: 0.7019 - val_accuracy: 0.6176\n",
            "Epoch 168/200\n",
            "30/30 [==============================] - 4s 146ms/step - loss: 0.6129 - accuracy: 0.7500 - val_loss: 0.7237 - val_accuracy: 0.6066\n",
            "Epoch 169/200\n",
            "30/30 [==============================] - 4s 145ms/step - loss: 0.6132 - accuracy: 0.7463 - val_loss: 0.7230 - val_accuracy: 0.5956\n",
            "Epoch 170/200\n",
            "30/30 [==============================] - 4s 146ms/step - loss: 0.6063 - accuracy: 0.7525 - val_loss: 0.6998 - val_accuracy: 0.6287\n",
            "Epoch 171/200\n",
            "30/30 [==============================] - 4s 147ms/step - loss: 0.6113 - accuracy: 0.7432 - val_loss: 0.7323 - val_accuracy: 0.5993\n",
            "Epoch 172/200\n",
            "30/30 [==============================] - 4s 145ms/step - loss: 0.6216 - accuracy: 0.7519 - val_loss: 0.7720 - val_accuracy: 0.5478\n",
            "Epoch 173/200\n",
            "30/30 [==============================] - 4s 144ms/step - loss: 0.6201 - accuracy: 0.7450 - val_loss: 0.6881 - val_accuracy: 0.6287\n",
            "Epoch 174/200\n",
            "30/30 [==============================] - 4s 146ms/step - loss: 0.6249 - accuracy: 0.7240 - val_loss: 0.7166 - val_accuracy: 0.5809\n",
            "Epoch 175/200\n",
            "30/30 [==============================] - 4s 145ms/step - loss: 0.5847 - accuracy: 0.7593 - val_loss: 0.8403 - val_accuracy: 0.5331\n",
            "Epoch 176/200\n",
            "30/30 [==============================] - 4s 146ms/step - loss: 0.6194 - accuracy: 0.7339 - val_loss: 0.6924 - val_accuracy: 0.6287\n",
            "Epoch 177/200\n",
            "30/30 [==============================] - 4s 147ms/step - loss: 0.6102 - accuracy: 0.7519 - val_loss: 0.7517 - val_accuracy: 0.5699\n",
            "Epoch 178/200\n",
            "30/30 [==============================] - 4s 145ms/step - loss: 0.6190 - accuracy: 0.7450 - val_loss: 0.7657 - val_accuracy: 0.5625\n",
            "Epoch 179/200\n",
            "30/30 [==============================] - 4s 146ms/step - loss: 0.6178 - accuracy: 0.7494 - val_loss: 0.7609 - val_accuracy: 0.5772\n",
            "Epoch 180/200\n",
            "30/30 [==============================] - 4s 147ms/step - loss: 0.6340 - accuracy: 0.7321 - val_loss: 0.6995 - val_accuracy: 0.6397\n",
            "Epoch 181/200\n",
            "30/30 [==============================] - 4s 144ms/step - loss: 0.6218 - accuracy: 0.7370 - val_loss: 0.7624 - val_accuracy: 0.5404\n",
            "Epoch 182/200\n",
            "30/30 [==============================] - 4s 146ms/step - loss: 0.6420 - accuracy: 0.7327 - val_loss: 0.7294 - val_accuracy: 0.5735\n",
            "Epoch 183/200\n",
            "30/30 [==============================] - 4s 146ms/step - loss: 0.5835 - accuracy: 0.7642 - val_loss: 0.7324 - val_accuracy: 0.5956\n",
            "Epoch 184/200\n",
            "30/30 [==============================] - 4s 146ms/step - loss: 0.6148 - accuracy: 0.7345 - val_loss: 0.6894 - val_accuracy: 0.6176\n",
            "Epoch 185/200\n",
            "30/30 [==============================] - 4s 146ms/step - loss: 0.5987 - accuracy: 0.7562 - val_loss: 0.7144 - val_accuracy: 0.6029\n",
            "Epoch 186/200\n",
            "30/30 [==============================] - 4s 145ms/step - loss: 0.6126 - accuracy: 0.7611 - val_loss: 0.7388 - val_accuracy: 0.5662\n",
            "Epoch 187/200\n",
            "30/30 [==============================] - 4s 146ms/step - loss: 0.6341 - accuracy: 0.7321 - val_loss: 0.7393 - val_accuracy: 0.5809\n",
            "Epoch 188/200\n",
            "30/30 [==============================] - 4s 146ms/step - loss: 0.5930 - accuracy: 0.7587 - val_loss: 0.6827 - val_accuracy: 0.6213\n",
            "Epoch 189/200\n",
            "30/30 [==============================] - 4s 146ms/step - loss: 0.6101 - accuracy: 0.7469 - val_loss: 0.7171 - val_accuracy: 0.6066\n",
            "Epoch 190/200\n",
            "30/30 [==============================] - 4s 144ms/step - loss: 0.6085 - accuracy: 0.7506 - val_loss: 0.6963 - val_accuracy: 0.6213\n",
            "Epoch 191/200\n",
            "30/30 [==============================] - 4s 146ms/step - loss: 0.6229 - accuracy: 0.7438 - val_loss: 0.7356 - val_accuracy: 0.5809\n",
            "Epoch 192/200\n",
            "30/30 [==============================] - 4s 144ms/step - loss: 0.6053 - accuracy: 0.7556 - val_loss: 0.7694 - val_accuracy: 0.5515\n",
            "Epoch 193/200\n",
            "30/30 [==============================] - 4s 147ms/step - loss: 0.6206 - accuracy: 0.7488 - val_loss: 0.7764 - val_accuracy: 0.5551\n",
            "Epoch 194/200\n",
            "30/30 [==============================] - 4s 145ms/step - loss: 0.6119 - accuracy: 0.7512 - val_loss: 0.7174 - val_accuracy: 0.6029\n",
            "Epoch 195/200\n",
            "30/30 [==============================] - 4s 147ms/step - loss: 0.6376 - accuracy: 0.7302 - val_loss: 0.6988 - val_accuracy: 0.6250\n",
            "Epoch 196/200\n",
            "30/30 [==============================] - 4s 146ms/step - loss: 0.6156 - accuracy: 0.7525 - val_loss: 0.7558 - val_accuracy: 0.5368\n",
            "Epoch 197/200\n",
            "30/30 [==============================] - 4s 147ms/step - loss: 0.6175 - accuracy: 0.7488 - val_loss: 0.7173 - val_accuracy: 0.6066\n",
            "Epoch 198/200\n",
            "30/30 [==============================] - 4s 146ms/step - loss: 0.5929 - accuracy: 0.7519 - val_loss: 0.6999 - val_accuracy: 0.6103\n",
            "Epoch 199/200\n",
            "30/30 [==============================] - 4s 146ms/step - loss: 0.5999 - accuracy: 0.7618 - val_loss: 0.6628 - val_accuracy: 0.6324\n",
            "Epoch 200/200\n",
            "30/30 [==============================] - 4s 144ms/step - loss: 0.6128 - accuracy: 0.7593 - val_loss: 0.6787 - val_accuracy: 0.6287\n"
          ]
        }
      ],
      "source": [
        "# Create an Instance of Early Stopping Callback\n",
        "early_stopping_callback = keras.callbacks.EarlyStopping(monitor = 'accuracy',\n",
        "                                                        patience = 20,\n",
        "                                                        mode = 'min',\n",
        "                                                        restore_best_weights = True)\n",
        "# Compile the model and specify loss function, optimizer and metrics values to the model\n",
        "model.compile(loss = 'categorical_crossentropy',\n",
        "              optimizer= keras.optimizers.Adam(0.0005, decay=1e-4),\n",
        "              metrics=['accuracy'])\n",
        "# Start training the model.\n",
        "cnn_3d_model_training_history = model.fit(x = features_train,\n",
        "                                          y = labels_train,\n",
        "                                          epochs=200,\n",
        "                                          batch_size=54,\n",
        "                                          shuffle = True,\n",
        "                                          validation_data = (features_valid, labels_valid))\n",
        "                                          # callbacks = [early_stopping_callback])"
      ]
    },
    {
      "cell_type": "code",
      "execution_count": 13,
      "metadata": {
        "id": "3vimsgjjbXvL",
        "colab": {
          "base_uri": "https://localhost:8080/"
        },
        "outputId": "a8b56dba-961c-4a9e-bc07-29e6857035a1"
      },
      "outputs": [
        {
          "output_type": "stream",
          "name": "stdout",
          "text": [
            "9/9 [==============================] - 1s 44ms/step - loss: 0.8372 - accuracy: 0.7269\n",
            "\n",
            "\n",
            "Train accuracy: 81.002 % || Test accuracy: 72.694 % || Val accuracy: 62.868 %\n",
            "Train loss: 0.485 || Test loss: 0.837 || Val loss: 0.679\n"
          ]
        }
      ],
      "source": [
        "model_evaluation_history = model.evaluate(features_test, labels_test)\n",
        "print('\\n')\n",
        "train_loss, train_acc = model.evaluate(features_train, labels_train, verbose=0)\n",
        "test_loss, test_acc = model.evaluate(features_test, labels_test, verbose=0)\n",
        "val_loss, val_acc = model.evaluate(features_valid, labels_valid, verbose=0)\n",
        "print(f'Train accuracy: {train_acc*100:.3f} % || Test accuracy: {test_acc*100:.3f} % || Val accuracy: {val_acc*100:.3f} %')\n",
        "print(f'Train loss: {train_loss:.3f} || Test loss: {test_loss:.3f} || Val loss: {val_loss:.3f}')"
      ]
    },
    {
      "cell_type": "code",
      "execution_count": 14,
      "metadata": {
        "id": "ivmaK9BlbnRQ"
      },
      "outputs": [],
      "source": [
        "# Get the loss and accuracy from model_evaluation_history.\n",
        "model_evaluation_loss, model_evaluation_accuracy = model_evaluation_history\n",
        " \n",
        "# Define the string date format.\n",
        "# Get the current Date and Time in a DateTime Object.\n",
        "# Convert the DateTime object to string according to the style mentioned in date_time_format string.\n",
        "date_time_format = '%Y_%m_%d__%H_%M_%S'\n",
        "current_date_time_dt = dt.datetime.now()\n",
        "current_date_time_string = dt.datetime.strftime(current_date_time_dt, date_time_format)\n",
        " \n",
        "# Define a useful name for our model to make it easy for us while navigating through multiple saved models.\n",
        "model_file_name = f'3D_CNN_model___Date_Time_{current_date_time_string}___Loss_{model_evaluation_loss}___Accuracy_{model_evaluation_accuracy}.h5'\n",
        "# Change dir\n",
        "gdrive_path = '/content/gdrive' + '/My Drive/247/Saved_models/'\n",
        "os.chdir(gdrive_path)\n",
        "# Create a floder for the model files\n",
        "!mkdir -p cnn_3d_{current_date_time_string}\n",
        "# Save your Model.\n",
        "model.save('convlstm_' + str(current_date_time_string) + '/' + model_file_name)\n",
        "# Save model weights\n",
        "model.save_weights('convlstm_' + str(current_date_time_string) + '/' + 'weights')"
      ]
    },
    {
      "cell_type": "code",
      "execution_count": 15,
      "metadata": {
        "id": "OwU8TwPrbsKB"
      },
      "outputs": [],
      "source": [
        "def plot_metric(model_training_history, metric_name_1, metric_name_2, plot_name):\n",
        "    '''\n",
        "    This function will plot the metrics passed to it in a graph.\n",
        "    Args:\n",
        "        model_training_history: A history object containing a record of training and validation \n",
        "                                loss values and metrics values at successive epochs\n",
        "        metric_name_1:          The name of the first metric that needs to be plotted in the graph.\n",
        "        metric_name_2:          The name of the second metric that needs to be plotted in the graph.\n",
        "        plot_name:              The title of the graph.\n",
        "    '''\n",
        "    \n",
        "    # Get metric values using metric names as identifiers.\n",
        "    metric_value_1 = model_training_history.history[metric_name_1]\n",
        "    metric_value_2 = model_training_history.history[metric_name_2]\n",
        "    \n",
        "    # Construct a range object which will be used as x-axis (horizontal plane) of the graph.\n",
        "    epochs = range(len(metric_value_1))\n",
        "\n",
        "    # Plot the Graph.\n",
        "    plt.plot(epochs, metric_value_1, 'blue', label = metric_name_1)\n",
        "    plt.plot(epochs, metric_value_2, 'red', label = metric_name_2)\n",
        "\n",
        "    # Add title to the plot.\n",
        "    plt.title(str(plot_name))\n",
        "\n",
        "    # Add legend to the plot.\n",
        "    plt.legend()"
      ]
    },
    {
      "cell_type": "code",
      "execution_count": 16,
      "metadata": {
        "id": "cvKY05ncbwof",
        "colab": {
          "base_uri": "https://localhost:8080/",
          "height": 281
        },
        "outputId": "6215ab96-4bc1-443c-9fc0-84e5b41dd54a"
      },
      "outputs": [
        {
          "output_type": "display_data",
          "data": {
            "text/plain": [
              "<Figure size 432x288 with 1 Axes>"
            ],
            "image/png": "[encoded data removed]"
          },
          "metadata": {
            "needs_background": "light"
          }
        }
      ],
      "source": [
        "plot_metric(cnn_3d_model_training_history, 'loss', 'val_loss', 'Total Loss vs Total Validation Loss')"
      ]
    },
    {
      "cell_type": "code",
      "execution_count": 17,
      "metadata": {
        "id": "o1iaaDHBb5i0",
        "colab": {
          "base_uri": "https://localhost:8080/",
          "height": 281
        },
        "outputId": "621172cd-6deb-467e-b49e-0c150b7fda2e"
      },
      "outputs": [
        {
          "output_type": "display_data",
          "data": {
            "text/plain": [
              "<Figure size 432x288 with 1 Axes>"
            ],
            "image/png": "[encoded data removed]"
          },
          "metadata": {
            "needs_background": "light"
          }
        }
      ],
      "source": [
        "plot_metric(cnn_3d_model_training_history, 'accuracy', 'val_accuracy', 'Total Accuracy vs Total Validation Accuracy') "
      ]
    }
  ],
  "metadata": {
    "accelerator": "GPU",
    "colab": {
      "background_execution": "on",
      "collapsed_sections": [],
      "machine_shape": "hm",
      "name": "3D_CNN.ipynb",
      "provenance": [],
      "authorship_tag": "ABX9TyNhXgtCe9rUyjVr7vCbPnqh",
      "include_colab_link": true
    },
    "kernelspec": {
      "display_name": "Python 3",
      "name": "python3"
    },
    "language_info": {
      "name": "python"
    }
  },
  "nbformat": 4,
  "nbformat_minor": 0
}