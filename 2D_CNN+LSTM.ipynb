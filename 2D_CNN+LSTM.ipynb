{
  "cells": [
    {
      "cell_type": "markdown",
      "metadata": {
        "id": "view-in-github",
        "colab_type": "text"
      },
      "source": [
        "<a href=\"https://colab.research.google.com/github/alexsalman/CSE247/blob/main/2D_CNN%2BLSTM.ipynb\" target=\"_parent\"><img src=\"https://colab.research.google.com/assets/colab-badge.svg\" alt=\"Open In Colab\"/></a>"
      ]
    },
    {
      "cell_type": "markdown",
      "metadata": {
        "id": "Fk8TLrPiv-ab"
      },
      "source": [
        "####**Convolutional Neural Network + Long Short Term Memory**\n",
        "######*I am using a Convolution Neural Network (CNN) + Long Short Term Memory (LSTM) Network to extract general representation while utilizing the Spatial-temporal aspect of the videos.*"
      ]
    },
    {
      "cell_type": "code",
      "execution_count": 1,
      "metadata": {
        "colab": {
          "base_uri": "https://localhost:8080/"
        },
        "id": "M8ibtd5HKtZk",
        "outputId": "772fe6c1-13d9-4ee8-be67-885c9699716e"
      },
      "outputs": [
        {
          "output_type": "stream",
          "name": "stdout",
          "text": [
            "2.8.0\n"
          ]
        }
      ],
      "source": [
        "# required libraries\n",
        "import os\n",
        "import cv2\n",
        "import math\n",
        "import random\n",
        "import numpy as np\n",
        "import datetime as dt\n",
        "from collections import deque\n",
        "import matplotlib.pyplot as plt\n",
        "from google.colab import drive\n",
        "from sklearn.model_selection import train_test_split\n",
        "import tensorflow as tf\n",
        "from tensorflow import keras\n",
        "from keras.models import Sequential\n",
        "from keras.layers import Dense, Flatten, Conv3D, MaxPooling3D, Dropout, BatchNormalization, ConvLSTM2D, Reshape\n",
        "from keras.layers.recurrent import LSTM\n",
        "from PIL import Image\n",
        "%matplotlib inline\n",
        "print(tf.version.VERSION)\n",
        "# https://bleedai.com/human-activity-recognition-using-tensorflow-cnn-lstm/"
      ]
    },
    {
      "cell_type": "code",
      "execution_count": 2,
      "metadata": {
        "id": "iffdFOf1CEAN"
      },
      "outputs": [],
      "source": [
        "# set Numpy, Python, and Tensorflow seeds to get consistent results on every execution\n",
        "seed_constant = 27\n",
        "np.random.seed(seed_constant)\n",
        "random.seed(seed_constant)\n",
        "tf.random.set_seed(seed_constant)"
      ]
    },
    {
      "cell_type": "code",
      "execution_count": 3,
      "metadata": {
        "colab": {
          "base_uri": "https://localhost:8080/",
          "height": 53
        },
        "id": "mcLh22LiOHyn",
        "outputId": "d7e351d0-ee73-4f54-bbf6-3dc7f7f57e9c"
      },
      "outputs": [
        {
          "output_type": "stream",
          "name": "stdout",
          "text": [
            "Mounted at /content/gdrive/\n"
          ]
        },
        {
          "output_type": "execute_result",
          "data": {
            "text/plain": [
              "'/content/gdrive/My Drive/247'"
            ],
            "application/vnd.google.colaboratory.intrinsic+json": {
              "type": "string"
            }
          },
          "metadata": {},
          "execution_count": 3
        }
      ],
      "source": [
        "# mount dataset from google drive\n",
        "drive.mount('/content/gdrive/', force_remount=True)\n",
        "gdrive_path = '/content/gdrive' + '/My Drive/247/'\n",
        "os.chdir(gdrive_path)\n",
        "os.getcwd()"
      ]
    },
    {
      "cell_type": "code",
      "execution_count": 4,
      "metadata": {
        "id": "oeDK8SzumZ1Q"
      },
      "outputs": [],
      "source": [
        "# frame dimention\n",
        "IMAGE_HEIGHT, IMAGE_WIDTH = 128, 128\n",
        "# frame number for each video (depth)\n",
        "SEQUENCE_LENGTH = 16\n",
        "# video dir path\n",
        "DATASET_DIR = gdrive_path + 'Cropped_videos'\n",
        "# labels of classes\n",
        "CLASSES_LIST = ['hemostasis', 'inflammatory', 'proliferative', 'maturation']"
      ]
    },
    {
      "cell_type": "code",
      "execution_count": 5,
      "metadata": {
        "id": "3mFB5qD6b3Kd"
      },
      "outputs": [],
      "source": [
        "# image cropping\n",
        "def crop_center_square(frame):\n",
        "    y, x = frame.shape[0:2]\n",
        "    min_dim = min(y, x)\n",
        "    start_x = (x // 2) - (min_dim // 2)\n",
        "    start_y = (y // 2) - (min_dim // 2)\n",
        "    return frame[start_y:start_y+min_dim,start_x:start_x+min_dim]"
      ]
    },
    {
      "cell_type": "code",
      "execution_count": 6,
      "metadata": {
        "id": "sqeexMUjaLzJ"
      },
      "outputs": [],
      "source": [
        "# https://medium.com/analytics-vidhya/video-preprocessor-and-augmentation-for-deep-learning-tasks-12dd3fcce868\n",
        "def load_video(path, resize=(128, 128)):\n",
        "    video_reader = cv2.VideoCapture(path)\n",
        "    frames = []\n",
        "    try:\n",
        "        while True:\n",
        "            ret, frame = video_reader.read()\n",
        "            if not ret:\n",
        "                  break\n",
        "            frame = crop_center_square(frame)\n",
        "            frame = cv2.resize(frame, resize)\n",
        "            frame = frame[:, :, [2, 1, 0]]\n",
        "            frames.append(frame)\n",
        "    finally:\n",
        "        video_reader.release()\n",
        "    return np.array(frames) / 255.0"
      ]
    },
    {
      "cell_type": "code",
      "execution_count": 7,
      "metadata": {
        "id": "ljUWHW6Jqzu-"
      },
      "outputs": [],
      "source": [
        "def create_dataset(state):\n",
        "    # Declared Empty Lists to store the features, labels and video file path values.\n",
        "    features = []\n",
        "    labels = []\n",
        "    video_files_paths = []\n",
        "    # Iterating through all the classes mentioned in the classes list\n",
        "    for class_index, class_name in enumerate(CLASSES_LIST):\n",
        "        # Display the name of the class whose data is being extracted.\n",
        "        print(f'Extracting Data of Class: {class_name} {state}')\n",
        "        # Get the list of video files present in the specific class name directory.\n",
        "        files_list = os.listdir(os.path.join(DATASET_DIR, class_name))\n",
        "        # Iterate through all the files present in the files list.\n",
        "        for file_name in files_list:\n",
        "            # Get the complete video path.\n",
        "            video_file_path = os.path.join(DATASET_DIR, class_name, file_name)\n",
        "            # create testing data\n",
        "            if state == 'test':\n",
        "                # get the mouse number\n",
        "                mouse_number = int(video_file_path.split(' ')[2].split('_')[1].split('-')[1])\n",
        "                # get the mouse side (L or R)\n",
        "                mouse_side = video_file_path.split(' ')[2].split('_')[1].split('-')[2]\n",
        "                if mouse_number == 4 and mouse_side == 'L':\n",
        "                    frames = load_video(video_file_path)\n",
        "                    features.append(frames)\n",
        "                    labels.append(class_index)\n",
        "                    video_files_paths.append(video_file_path)\n",
        "            # create validation data\n",
        "            elif state == 'valid':\n",
        "                # get the mouse number\n",
        "                mouse_number = int(video_file_path.split(' ')[2].split('_')[1].split('-')[1])\n",
        "                # get the mouse side (L or R)\n",
        "                mouse_side = video_file_path.split(' ')[2].split('_')[1].split('-')[2]\n",
        "                if mouse_number == 4 and mouse_side == 'R':\n",
        "                    frames = load_video(video_file_path)\n",
        "                    features.append(frames)\n",
        "                    labels.append(class_index)\n",
        "                    video_files_paths.append(video_file_path)\n",
        "            # create training data\n",
        "            else:\n",
        "                # get the mouse number\n",
        "                mouse_number = int(video_file_path.split(' ')[2].split('_')[1].split('-')[1])\n",
        "                if mouse_number != 4:\n",
        "                    frames = load_video(video_file_path)\n",
        "                    features.append(frames)\n",
        "                    labels.append(class_index)\n",
        "                    video_files_paths.append(video_file_path)\n",
        "    # Converting the list to numpy arrays\n",
        "    features = np.asarray(features)\n",
        "    # print(features)\n",
        "    labels = np.array(labels)\n",
        "    # Return the frames, class index, and video file path.\n",
        "    return features, labels, video_files_paths"
      ]
    },
    {
      "cell_type": "code",
      "execution_count": 8,
      "metadata": {
        "colab": {
          "base_uri": "https://localhost:8080/"
        },
        "id": "a8rpanz9rASe",
        "outputId": "180cdc17-642f-4d83-a919-1b6cf1cd4304"
      },
      "outputs": [
        {
          "output_type": "stream",
          "name": "stdout",
          "text": [
            "Extracting Data of Class: hemostasis train\n",
            "Extracting Data of Class: inflammatory train\n",
            "Extracting Data of Class: proliferative train\n",
            "Extracting Data of Class: maturation train\n",
            "Extracting Data of Class: hemostasis test\n",
            "Extracting Data of Class: inflammatory test\n",
            "Extracting Data of Class: proliferative test\n",
            "Extracting Data of Class: maturation test\n",
            "Extracting Data of Class: hemostasis valid\n",
            "Extracting Data of Class: inflammatory valid\n",
            "Extracting Data of Class: proliferative valid\n",
            "Extracting Data of Class: maturation valid\n"
          ]
        }
      ],
      "source": [
        "# 6 mice for training, 2 mice for test and validation (one wound on each mice for test one for validation)\n",
        "features_train, labels_train, video_files_paths_train = create_dataset('train')\n",
        "features_test, labels_test, video_files_paths_test = create_dataset('test')\n",
        "features_valid, labels_valid, video_files_paths_valid = create_dataset('valid')"
      ]
    },
    {
      "cell_type": "code",
      "execution_count": 9,
      "metadata": {
        "id": "dtJkK4qTAulC"
      },
      "outputs": [],
      "source": [
        "# one_hot_encoded_labels\n",
        "labels_train = keras.utils.to_categorical(labels_train)\n",
        "labels_test = keras.utils.to_categorical(labels_test)\n",
        "labels_valid = keras.utils.to_categorical(labels_valid)"
      ]
    },
    {
      "cell_type": "code",
      "execution_count": 10,
      "metadata": {
        "id": "Bi-NDol3DHRV"
      },
      "outputs": [],
      "source": [
        "# def create_convlstm_model():\n",
        "#     CLASSES_LIST = ['hemostasis', 'inflammatory', 'proliferative', 'maturation']\n",
        "#     # input_shape = (SEQUENCE_LENGTH, 3, IMAGE_HEIGHT, IMAGE_WIDTH)\n",
        "#     # A Sequential model for model construction\n",
        "#     # model = tf.keras.Sequential()\n",
        "#     # Model Architecture.\n",
        "#     ############################################################################\n",
        "#     trailer_input = tf.keras.Input(shape=(16, 128, 128, 3), name='trailer_input')\n",
        "    \n",
        "#     first_ConvLSTM = tf.keras.layers.ConvLSTM2D(filters=20, kernel_size=(3, 3)\n",
        "#                        , data_format='channels_first'\n",
        "#                        , recurrent_activation='hard_sigmoid'\n",
        "#                        , activation='tanh'\n",
        "#                        , padding='same', return_sequences=True)(trailer_input)\n",
        "#     first_BatchNormalization = tf.keras.layers.BatchNormalization()(first_ConvLSTM)\n",
        "#     first_Pooling = tf.keras.layers.MaxPooling3D(pool_size=(1, 2, 2), padding='same', data_format='channels_first')(first_BatchNormalization)\n",
        "    \n",
        "#     second_ConvLSTM = tf.keras.layers.ConvLSTM2D(filters=10, kernel_size=(3, 3)\n",
        "#                         , data_format='channels_first'\n",
        "#                         , padding='same', return_sequences=True)(first_Pooling)\n",
        "#     second_BatchNormalization = tf.keras.layers.BatchNormalization()(second_ConvLSTM)\n",
        "#     second_Pooling = tf.keras.layers.MaxPooling3D(pool_size=(1, 3, 3), padding='same', data_format='channels_first')(second_BatchNormalization)\n",
        "    \n",
        "#     outputs = [branch(second_Pooling, 'wound_{}'.format(CLASS)) for CLASS in CLASSES_LIST]\n",
        "    \n",
        "#     model = tf.keras.Model(inputs=trailer_input, outputs=outputs, name='Model')\n",
        "    \n",
        "#     ############################################################################\n",
        "#     # Display the models summary.\n",
        "#     model.summary()\n",
        "#     # Return the constructed convlstm model.\n",
        "#     return model\n",
        "\n",
        "# def branch(last_convlstm_layer, name):\n",
        "  \n",
        "#     branch_ConvLSTM = tf.keras.layers.ConvLSTM2D(filters=5, kernel_size=(3, 3)\n",
        "#                         , data_format='channels_first'\n",
        "#                         , stateful = False\n",
        "#                         , kernel_initializer='random_uniform'\n",
        "#                         , padding='same', return_sequences=True)(last_convlstm_layer)\n",
        "#     branch_Pooling = tf.keras.layers.MaxPooling3D(pool_size=(1, 2, 2), padding='same', data_format='channels_first')(branch_ConvLSTM)\n",
        "#     flat_layer = tf.keras.layers.TimeDistributed(tf.keras.layers.Flatten())(branch_Pooling)\n",
        "    \n",
        "#     first_Dense = tf.keras.layers.TimeDistributed(tf.keras.layers.Dense(512,))(flat_layer)\n",
        "#     second_Dense = tf.keras.layers.TimeDistributed(tf.keras.layers.Dense(32,))(first_Dense)\n",
        "    \n",
        "#     target = tf.keras.layers.TimeDistributed(tf.keras.layers.Dense(1), name=name)(second_Dense)\n",
        "    \n",
        "#     return target\n",
        "def create_convlstm_model():\n",
        "    imgSize = (128, 128)\n",
        "    in_shape = (16, imgSize[0], imgSize[1], 3)\n",
        "    model = Sequential()\n",
        "    model.add(keras.layers.ConvLSTM2D(32, kernel_size=(3, 3), padding='valid', return_sequences=True, input_shape=in_shape))\n",
        "    model.add(keras.layers.Activation('relu'))\n",
        "    model.add(MaxPooling3D(pool_size=(1, 2, 2)))\n",
        "    model.add(keras.layers.ConvLSTM2D(16, kernel_size=(3, 3), padding='valid', return_sequences=True))\n",
        "    model.add(MaxPooling3D(pool_size=(1, 2, 2)))\n",
        "    model.add(keras.layers.ConvLSTM2D(16, kernel_size=(3, 3), padding='valid', return_sequences=True))\n",
        "    model.add(keras.layers.Activation('relu'))\n",
        "    model.add(keras.layers.ConvLSTM2D(16, kernel_size=(3, 3), padding='valid', return_sequences=True))\n",
        "    model.add(keras.layers.Activation('relu'))\n",
        "    model.add(keras.layers.ConvLSTM2D(16, kernel_size=(3, 3), padding='valid', return_sequences=True))\n",
        "    model.add(MaxPooling3D(pool_size=(1, 2, 2)))\n",
        "    model.add(Dense(16))\n",
        "    model.add(keras.layers.Activation('relu'))\n",
        "    model.add(Dropout(0.2))\n",
        "\n",
        "    out_shape = model.output_shape\n",
        "    print('====Model shape: ', out_shape)\n",
        "    model.add(Reshape((16, out_shape[2] * out_shape[3] * out_shape[4])))\n",
        "    model.add(LSTM(32, return_sequences=False))\n",
        "    model.add(Dropout(0.2))\n",
        "    model.add(Dense(len(CLASSES_LIST), activation='softmax'))\n",
        "    # model.compile(loss='categorical_crossentropy', optimizer='sgd', metrics=['accuracy'])\n",
        "\n",
        "    # model structure summary\n",
        "    print(model.summary())\n",
        "\n",
        "    return model"
      ]
    },
    {
      "cell_type": "code",
      "execution_count": 11,
      "metadata": {
        "colab": {
          "base_uri": "https://localhost:8080/"
        },
        "id": "FbjNYI-0DY_v",
        "outputId": "26537655-d463-4e8f-cfb2-785130341433"
      },
      "outputs": [
        {
          "output_type": "stream",
          "name": "stdout",
          "text": [
            "====Model shape:  (None, 16, 12, 12, 16)\n",
            "Model: \"sequential\"\n",
            "_________________________________________________________________\n",
            " Layer (type)                Output Shape              Param #   \n",
            "=================================================================\n",
            " conv_lstm2d (ConvLSTM2D)    (None, 16, 126, 126, 32)  40448     \n",
            "                                                                 \n",
            " activation (Activation)     (None, 16, 126, 126, 32)  0         \n",
            "                                                                 \n",
            " max_pooling3d (MaxPooling3D  (None, 16, 63, 63, 32)   0         \n",
            " )                                                               \n",
            "                                                                 \n",
            " conv_lstm2d_1 (ConvLSTM2D)  (None, 16, 61, 61, 16)    27712     \n",
            "                                                                 \n",
            " max_pooling3d_1 (MaxPooling  (None, 16, 30, 30, 16)   0         \n",
            " 3D)                                                             \n",
            "                                                                 \n",
            " conv_lstm2d_2 (ConvLSTM2D)  (None, 16, 28, 28, 16)    18496     \n",
            "                                                                 \n",
            " activation_1 (Activation)   (None, 16, 28, 28, 16)    0         \n",
            "                                                                 \n",
            " conv_lstm2d_3 (ConvLSTM2D)  (None, 16, 26, 26, 16)    18496     \n",
            "                                                                 \n",
            " activation_2 (Activation)   (None, 16, 26, 26, 16)    0         \n",
            "                                                                 \n",
            " conv_lstm2d_4 (ConvLSTM2D)  (None, 16, 24, 24, 16)    18496     \n",
            "                                                                 \n",
            " max_pooling3d_2 (MaxPooling  (None, 16, 12, 12, 16)   0         \n",
            " 3D)                                                             \n",
            "                                                                 \n",
            " dense (Dense)               (None, 16, 12, 12, 16)    272       \n",
            "                                                                 \n",
            " activation_3 (Activation)   (None, 16, 12, 12, 16)    0         \n",
            "                                                                 \n",
            " dropout (Dropout)           (None, 16, 12, 12, 16)    0         \n",
            "                                                                 \n",
            " reshape (Reshape)           (None, 16, 2304)          0         \n",
            "                                                                 \n",
            " lstm (LSTM)                 (None, 32)                299136    \n",
            "                                                                 \n",
            " dropout_1 (Dropout)         (None, 32)                0         \n",
            "                                                                 \n",
            " dense_1 (Dense)             (None, 4)                 132       \n",
            "                                                                 \n",
            "=================================================================\n",
            "Total params: 423,188\n",
            "Trainable params: 423,188\n",
            "Non-trainable params: 0\n",
            "_________________________________________________________________\n",
            "None\n",
            "Model Created Successfully!\n"
          ]
        }
      ],
      "source": [
        "# Construct the required convlstm model.\n",
        "convlstm_model = create_convlstm_model()\n",
        " \n",
        "# Display the success message. \n",
        "print(\"Model Created Successfully!\")"
      ]
    },
    {
      "cell_type": "code",
      "execution_count": 12,
      "metadata": {
        "id": "nMYwQOwyF3bd"
      },
      "outputs": [],
      "source": [
        "# keras.utils.plot_model(convlstm_model,\n",
        "#                          to_file = 'convlstm_model_structure_plot.png',\n",
        "#                          show_shapes = True,\n",
        "#                          show_layer_names = True)"
      ]
    },
    {
      "cell_type": "code",
      "execution_count": 13,
      "metadata": {
        "colab": {
          "base_uri": "https://localhost:8080/"
        },
        "id": "vYC_6H0uGqW9",
        "outputId": "c21ca299-9043-4f7d-932a-2932f04a8f96"
      },
      "outputs": [
        {
          "output_type": "stream",
          "name": "stdout",
          "text": [
            "Epoch 1/10\n",
            "162/162 [==============================] - 168s 850ms/step - loss: 0.9256 - accuracy: 0.5340 - val_loss: 0.7531 - val_accuracy: 0.6176\n",
            "Epoch 2/10\n",
            "162/162 [==============================] - 135s 835ms/step - loss: 0.7292 - accuracy: 0.6417 - val_loss: 0.7322 - val_accuracy: 0.6471\n",
            "Epoch 3/10\n",
            "162/162 [==============================] - 136s 837ms/step - loss: 0.6221 - accuracy: 0.7234 - val_loss: 0.7063 - val_accuracy: 0.6838\n",
            "Epoch 4/10\n",
            "162/162 [==============================] - 135s 833ms/step - loss: 0.5130 - accuracy: 0.7729 - val_loss: 0.5224 - val_accuracy: 0.8015\n",
            "Epoch 5/10\n",
            "162/162 [==============================] - 135s 836ms/step - loss: 0.4466 - accuracy: 0.8088 - val_loss: 0.5229 - val_accuracy: 0.7941\n",
            "Epoch 6/10\n",
            "162/162 [==============================] - 135s 831ms/step - loss: 0.3855 - accuracy: 0.8348 - val_loss: 0.5594 - val_accuracy: 0.7684\n",
            "Epoch 7/10\n",
            "162/162 [==============================] - 135s 832ms/step - loss: 0.3218 - accuracy: 0.8583 - val_loss: 0.4856 - val_accuracy: 0.8051\n",
            "Epoch 8/10\n",
            "162/162 [==============================] - 136s 837ms/step - loss: 0.2988 - accuracy: 0.8731 - val_loss: 0.5154 - val_accuracy: 0.7647\n",
            "Epoch 9/10\n",
            "162/162 [==============================] - 135s 835ms/step - loss: 0.2335 - accuracy: 0.9084 - val_loss: 0.7625 - val_accuracy: 0.7537\n",
            "Epoch 10/10\n",
            "162/162 [==============================] - 135s 836ms/step - loss: 0.2039 - accuracy: 0.9196 - val_loss: 0.8148 - val_accuracy: 0.7390\n"
          ]
        }
      ],
      "source": [
        "# Create an Instance of Early Stopping Callback\n",
        "early_stopping_callback = keras.callbacks.EarlyStopping(monitor = 'val_loss',\n",
        "                                                        patience = 10,\n",
        "                                                        mode = 'min',\n",
        "                                                        restore_best_weights = True)\n",
        "# Compile the model and specify loss function, optimizer and metrics values to the model\n",
        "convlstm_model.compile(loss = 'categorical_crossentropy',\n",
        "                       optimizer = 'Adam',\n",
        "                       metrics = [\"accuracy\"])\n",
        "# Start training the model.\n",
        "convlstm_model_training_history = convlstm_model.fit(x = features_train,\n",
        "                                                     y = labels_train,\n",
        "                                                     epochs = 10,\n",
        "                                                     batch_size = 10,\n",
        "                                                     shuffle = True,\n",
        "                                                     validation_data = (features_valid, labels_valid),\n",
        "                                                     callbacks = [early_stopping_callback])"
      ]
    },
    {
      "cell_type": "code",
      "execution_count": 14,
      "metadata": {
        "id": "LcpKhGqvIenv",
        "colab": {
          "base_uri": "https://localhost:8080/"
        },
        "outputId": "9f936cb1-a6b4-4f50-ad6a-d412b237f53a"
      },
      "outputs": [
        {
          "output_type": "stream",
          "name": "stdout",
          "text": [
            "9/9 [==============================] - 3s 370ms/step - loss: 1.3252 - accuracy: 0.6912\n"
          ]
        }
      ],
      "source": [
        "model_evaluation_history = convlstm_model.evaluate(features_test, labels_test)"
      ]
    },
    {
      "cell_type": "code",
      "execution_count": 15,
      "metadata": {
        "id": "qsFw5KIzIum9"
      },
      "outputs": [],
      "source": [
        "# Get the loss and accuracy from model_evaluation_history.\n",
        "model_evaluation_loss, model_evaluation_accuracy = model_evaluation_history\n",
        " \n",
        "# Define the string date format.\n",
        "# Get the current Date and Time in a DateTime Object.\n",
        "# Convert the DateTime object to string according to the style mentioned in date_time_format string.\n",
        "date_time_format = '%Y_%m_%d__%H_%M_%S'\n",
        "current_date_time_dt = dt.datetime.now()\n",
        "current_date_time_string = dt.datetime.strftime(current_date_time_dt, date_time_format)\n",
        " \n",
        "# Define a useful name for our model to make it easy for us while navigating through multiple saved models.\n",
        "model_file_name = f'convlstm_model___Date_Time_{current_date_time_string}___Loss_{model_evaluation_loss}___Accuracy_{model_evaluation_accuracy}.h5'\n",
        " \n",
        "# Change dir\n",
        "gdrive_path = '/content/gdrive' + '/My Drive/247/Saved_models/'\n",
        "os.chdir(gdrive_path)\n",
        "# Create a floder for the model files\n",
        "!mkdir -p convlstm_{current_date_time_string}\n",
        "# Save your Model.\n",
        "convlstm_model.save('convlstm_' + str(current_date_time_string) + '/' + model_file_name)\n",
        "# Save model weights\n",
        "convlstm_model.save_weights('convlstm_' + str(current_date_time_string) + '/' + 'weights')"
      ]
    },
    {
      "cell_type": "code",
      "execution_count": 16,
      "metadata": {
        "id": "Z0eAobhSIz_P"
      },
      "outputs": [],
      "source": [
        "def plot_metric(model_training_history, metric_name_1, metric_name_2, plot_name):\n",
        "    '''\n",
        "    This function will plot the metrics passed to it in a graph.\n",
        "    Args:\n",
        "        model_training_history: A history object containing a record of training and validation \n",
        "                                loss values and metrics values at successive epochs\n",
        "        metric_name_1:          The name of the first metric that needs to be plotted in the graph.\n",
        "        metric_name_2:          The name of the second metric that needs to be plotted in the graph.\n",
        "        plot_name:              The title of the graph.\n",
        "    '''\n",
        "    \n",
        "    # Get metric values using metric names as identifiers.\n",
        "    metric_value_1 = model_training_history.history[metric_name_1]\n",
        "    metric_value_2 = model_training_history.history[metric_name_2]\n",
        "    \n",
        "    # Construct a range object which will be used as x-axis (horizontal plane) of the graph.\n",
        "    epochs = range(len(metric_value_1))\n",
        "\n",
        "    # Plot the Graph.\n",
        "    plt.plot(epochs, metric_value_1, 'blue', label = metric_name_1)\n",
        "    plt.plot(epochs, metric_value_2, 'red', label = metric_name_2)\n",
        "\n",
        "    # Add title to the plot.\n",
        "    plt.title(str(plot_name))\n",
        "\n",
        "    # Add legend to the plot.\n",
        "    plt.legend()"
      ]
    },
    {
      "cell_type": "code",
      "execution_count": 17,
      "metadata": {
        "id": "18RtBjI9I5lE",
        "colab": {
          "base_uri": "https://localhost:8080/",
          "height": 281
        },
        "outputId": "7903b82e-a72a-4e4f-9055-cc47796e42e5"
      },
      "outputs": [
        {
          "output_type": "display_data",
          "data": {
            "text/plain": [
              "<Figure size 432x288 with 1 Axes>"
            ],
            "image/png": "[encoded data removed]"
          },
          "metadata": {
            "needs_background": "light"
          }
        }
      ],
      "source": [
        "plot_metric(convlstm_model_training_history, 'loss', 'val_loss', 'Total Loss vs Total Validation Loss')"
      ]
    },
    {
      "cell_type": "code",
      "execution_count": 18,
      "metadata": {
        "id": "02amk7TXI_OS",
        "colab": {
          "base_uri": "https://localhost:8080/",
          "height": 281
        },
        "outputId": "9c6a6097-22e2-4c2d-f9c9-d7d299a8d4d3"
      },
      "outputs": [
        {
          "output_type": "display_data",
          "data": {
            "text/plain": [
              "<Figure size 432x288 with 1 Axes>"
            ],
            "image/png": "[encoded data removed]"
          },
          "metadata": {
            "needs_background": "light"
          }
        }
      ],
      "source": [
        "plot_metric(convlstm_model_training_history, 'accuracy', 'val_accuracy', 'Total Accuracy vs Total Validation Accuracy') "
      ]
    }
  ],
  "metadata": {
    "accelerator": "GPU",
    "colab": {
      "collapsed_sections": [],
      "machine_shape": "hm",
      "name": "2D_CNN+LSTM.ipynb",
      "provenance": [],
      "background_execution": "on",
      "authorship_tag": "ABX9TyNuquKxiL/ojSDlwP/QBTg2",
      "include_colab_link": true
    },
    "kernelspec": {
      "display_name": "Python 3",
      "name": "python3"
    },
    "language_info": {
      "name": "python"
    }
  },
  "nbformat": 4,
  "nbformat_minor": 0
}