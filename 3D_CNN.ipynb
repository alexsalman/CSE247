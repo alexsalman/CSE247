{
  "cells": [
    {
      "cell_type": "markdown",
      "metadata": {
        "id": "view-in-github",
        "colab_type": "text"
      },
      "source": [
        "<a href=\"https://colab.research.google.com/github/alexsalman/CSE247/blob/main/3D_CNN.ipynb\" target=\"_parent\"><img src=\"https://colab.research.google.com/assets/colab-badge.svg\" alt=\"Open In Colab\"/></a>"
      ]
    },
    {
      "cell_type": "markdown",
      "metadata": {
        "id": "Kk7I8NauauE3"
      },
      "source": [
        "####**3D Convolutional Neural Network**\n",
        "######*I am using 3D Convolutional Neural Network to extract the temporal and spatial information which are merged slowly throughout the whole network.*"
      ]
    },
    {
      "cell_type": "code",
      "execution_count": 1,
      "metadata": {
        "colab": {
          "base_uri": "https://localhost:8080/"
        },
        "id": "M8ibtd5HKtZk",
        "outputId": "140e7c21-ccf4-4e04-c733-e5661dd12e92"
      },
      "outputs": [
        {
          "output_type": "stream",
          "name": "stdout",
          "text": [
            "2.8.0\n"
          ]
        }
      ],
      "source": [
        "# required libraries\n",
        "import os\n",
        "import cv2\n",
        "import random\n",
        "import numpy as np\n",
        "import datetime as dt\n",
        "import matplotlib.pyplot as plt\n",
        "from google.colab import drive\n",
        "from sklearn.model_selection import train_test_split\n",
        "import tensorflow as tf\n",
        "from tensorflow import keras\n",
        "from keras.models import Sequential\n",
        "from keras.layers import Dense, Flatten, Conv3D, MaxPooling3D, Dropout\n",
        "from keras.layers import BatchNormalization, GlobalAveragePooling3D\n",
        "from keras import regularizers\n",
        "%matplotlib inline\n",
        "print(tf.version.VERSION)"
      ]
    },
    {
      "cell_type": "code",
      "execution_count": 2,
      "metadata": {
        "id": "iffdFOf1CEAN"
      },
      "outputs": [],
      "source": [
        "# set Numpy, Python, and Tensorflow seeds to get consistent results on every execution\n",
        "seed_constant = 27\n",
        "np.random.seed(seed_constant)\n",
        "random.seed(seed_constant)\n",
        "tf.random.set_seed(seed_constant)"
      ]
    },
    {
      "cell_type": "code",
      "execution_count": 3,
      "metadata": {
        "colab": {
          "base_uri": "https://localhost:8080/",
          "height": 53
        },
        "id": "mcLh22LiOHyn",
        "outputId": "3c149f98-393e-4f2a-8efc-3bdf10cebbf8"
      },
      "outputs": [
        {
          "output_type": "stream",
          "name": "stdout",
          "text": [
            "Mounted at /content/gdrive/\n"
          ]
        },
        {
          "output_type": "execute_result",
          "data": {
            "text/plain": [
              "'/content/gdrive/My Drive/247'"
            ],
            "application/vnd.google.colaboratory.intrinsic+json": {
              "type": "string"
            }
          },
          "metadata": {},
          "execution_count": 3
        }
      ],
      "source": [
        "# mount dataset from google drive\n",
        "drive.mount('/content/gdrive/', force_remount=True)\n",
        "gdrive_path = '/content/gdrive' + '/My Drive/247/'\n",
        "os.chdir(gdrive_path)\n",
        "os.getcwd()"
      ]
    },
    {
      "cell_type": "code",
      "execution_count": 4,
      "metadata": {
        "id": "oeDK8SzumZ1Q"
      },
      "outputs": [],
      "source": [
        "# frame dimention\n",
        "IMAGE_HEIGHT, IMAGE_WIDTH = 128, 128\n",
        "# frame number for each video (depth)\n",
        "SEQUENCE_LENGTH = 16\n",
        "# video dir path\n",
        "DATASET_DIR = gdrive_path + 'Cropped_videos'\n",
        "# labels of classes\n",
        "CLASSES_LIST = ['hemostasis', 'inflammatory', 'proliferative', 'maturation']"
      ]
    },
    {
      "cell_type": "code",
      "execution_count": 5,
      "metadata": {
        "id": "HUTeIqzpZc9J"
      },
      "outputs": [],
      "source": [
        "# image cropping\n",
        "def crop_center_square(frame):\n",
        "    y, x = frame.shape[0:2]\n",
        "    min_dim = min(y, x)\n",
        "    start_x = (x // 2) - (min_dim // 2)\n",
        "    start_y = (y // 2) - (min_dim // 2)\n",
        "    return frame[start_y:start_y+min_dim,start_x:start_x+min_dim]"
      ]
    },
    {
      "cell_type": "code",
      "execution_count": 6,
      "metadata": {
        "id": "QRDbHG0TZkYJ"
      },
      "outputs": [],
      "source": [
        "def load_video(path, resize=(128, 128)):\n",
        "    video_reader = cv2.VideoCapture(path)\n",
        "    frames = []\n",
        "    try:\n",
        "        while True:\n",
        "            ret, frame = video_reader.read()\n",
        "            if not ret:\n",
        "                  break\n",
        "            # frame = crop_center_square(frame)\n",
        "            frame = cv2.resize(frame, resize)\n",
        "            frame = frame[:, :, [2, 1, 0]]\n",
        "            black_frame = frame\n",
        "            frames.append(frame)\n",
        "    finally:\n",
        "        video_reader.release()\n",
        "    return np.array(frames) / 255.0"
      ]
    },
    {
      "cell_type": "code",
      "execution_count": 7,
      "metadata": {
        "id": "ljUWHW6Jqzu-"
      },
      "outputs": [],
      "source": [
        "def create_dataset(state):\n",
        "    # Declared Empty Lists to store the features, labels and video file path values.\n",
        "    features = []\n",
        "    labels = []\n",
        "    video_files_paths = []\n",
        "    # Iterating through all the classes mentioned in the classes list\n",
        "    for class_index, class_name in enumerate(CLASSES_LIST):\n",
        "        # Display the name of the class whose data is being extracted.\n",
        "        print(f'Extracting Data of Class: {class_name} {state}')\n",
        "        # Get the list of video files present in the specific class name directory.\n",
        "        files_list = os.listdir(os.path.join(DATASET_DIR, class_name))\n",
        "        # Iterate through all the files present in the files list.\n",
        "        for file_name in files_list:\n",
        "            # Get the complete video path.\n",
        "            video_file_path = os.path.join(DATASET_DIR, class_name, file_name)\n",
        "            # create testing data\n",
        "            if state == 'test':\n",
        "                # get the mouse number\n",
        "                mouse_number = int(video_file_path.split(' ')[2].split('_')[1].split('-')[1])\n",
        "                # get the mouse side (L or R)\n",
        "                mouse_side = video_file_path.split(' ')[2].split('_')[1].split('-')[2]\n",
        "                if mouse_number == 4 and mouse_side == 'L':\n",
        "                    frames = load_video(video_file_path)\n",
        "                    features.append(frames)\n",
        "                    labels.append(class_index)\n",
        "                    video_files_paths.append(video_file_path)\n",
        "            # create validation data\n",
        "            elif state == 'valid':\n",
        "                # get the mouse number\n",
        "                mouse_number = int(video_file_path.split(' ')[2].split('_')[1].split('-')[1])\n",
        "                # get the mouse side (L or R)\n",
        "                mouse_side = video_file_path.split(' ')[2].split('_')[1].split('-')[2]\n",
        "                if mouse_number == 4 and mouse_side == 'R':\n",
        "                    frames = load_video(video_file_path)\n",
        "                    features.append(frames)\n",
        "                    labels.append(class_index)\n",
        "                    video_files_paths.append(video_file_path)\n",
        "            # create training data\n",
        "            else:\n",
        "                # get the mouse number\n",
        "                mouse_number = int(video_file_path.split(' ')[2].split('_')[1].split('-')[1])\n",
        "                if mouse_number != 4:\n",
        "                    frames = load_video(video_file_path)\n",
        "                    features.append(frames)\n",
        "                    labels.append(class_index)\n",
        "                    video_files_paths.append(video_file_path)\n",
        "    # Converting the list to numpy arrays\n",
        "    features = np.asarray(features)\n",
        "    # print(features)\n",
        "    labels = np.array(labels)\n",
        "    # Return the frames, class index, and video file path.\n",
        "    return features, labels, video_files_paths"
      ]
    },
    {
      "cell_type": "code",
      "execution_count": 8,
      "metadata": {
        "colab": {
          "base_uri": "https://localhost:8080/"
        },
        "id": "a8rpanz9rASe",
        "outputId": "97cce4e1-ffc2-4dc7-bca9-5ed2db5b199f"
      },
      "outputs": [
        {
          "output_type": "stream",
          "name": "stdout",
          "text": [
            "Extracting Data of Class: hemostasis train\n",
            "Extracting Data of Class: inflammatory train\n",
            "Extracting Data of Class: proliferative train\n",
            "Extracting Data of Class: maturation train\n",
            "Extracting Data of Class: hemostasis test\n",
            "Extracting Data of Class: inflammatory test\n",
            "Extracting Data of Class: proliferative test\n",
            "Extracting Data of Class: maturation test\n",
            "Extracting Data of Class: hemostasis valid\n",
            "Extracting Data of Class: inflammatory valid\n",
            "Extracting Data of Class: proliferative valid\n",
            "Extracting Data of Class: maturation valid\n"
          ]
        }
      ],
      "source": [
        "# 6 mice for training, 2 mice for test and validation (one wound on each mice for test one for validation)\n",
        "features_train, labels_train, video_files_paths_train = create_dataset('train')\n",
        "features_test, labels_test, video_files_paths_test = create_dataset('test')\n",
        "features_valid, labels_valid, video_files_paths_valid = create_dataset('valid')"
      ]
    },
    {
      "cell_type": "code",
      "execution_count": 9,
      "metadata": {
        "id": "dtJkK4qTAulC"
      },
      "outputs": [],
      "source": [
        "# labels to catogorical\n",
        "labels_train = keras.utils.to_categorical(labels_train)\n",
        "labels_test = keras.utils.to_categorical(labels_test)\n",
        "labels_valid = keras.utils.to_categorical(labels_valid)"
      ]
    },
    {
      "cell_type": "code",
      "execution_count": 10,
      "metadata": {
        "id": "N-9ykP4ig7IW"
      },
      "outputs": [],
      "source": [
        "def create_3D_CNN_model():\n",
        "    sample_shape = (16, 128, 128, 3)\n",
        "    model = Sequential()\n",
        "\n",
        "    ### 1\n",
        "    model.add(Conv3D(16, (3,3,3), activation='relu', kernel_initializer='he_uniform',\n",
        "                     kernel_regularizer=regularizers.L2(l2=1e-4),\n",
        "                     input_shape=sample_shape))\n",
        "    model.add(MaxPooling3D(2))\n",
        "    model.add(Dropout(0.3))\n",
        "\n",
        "    ### 2\n",
        "    model.add(Conv3D(32, (3,3,3), activation='relu', kernel_initializer='he_uniform',\n",
        "                     kernel_regularizer=regularizers.L2(l2=1e-4)))\n",
        "    model.add(MaxPooling3D(2))\n",
        "    model.add(Dropout(0.3))\n",
        "\n",
        "    # ### 3\n",
        "    # model.add(Conv3D(24, (1,3,3), activation='relu', kernel_initializer='he_uniform',\n",
        "    #                  kernel_regularizer=regularizers.L2(l2=1e-4)))\n",
        "    # model.add(MaxPooling3D(2))\n",
        "    # model.add(Dropout(0.3))\n",
        "\n",
        "    # ### 4\n",
        "    # model.add(Conv3D(32, (1,3,3), activation='relu', kernel_initializer='he_uniform',\n",
        "    #                  kernel_regularizer=regularizers.L2(l2=1e-4)))\n",
        "    # model.add(MaxPooling3D(2))\n",
        "    # model.add(Dropout(0.3))\n",
        "\n",
        "    # ### 5\n",
        "    # model.add(Conv3D(32, (1,3,3), activation='relu', kernel_initializer='he_uniform',\n",
        "    #                  kernel_regularizer=regularizers.L2(l2=1e-4)))\n",
        "    # model.add(MaxPooling3D(2))\n",
        "    # model.add(Dropout(0.3))\n",
        "\n",
        "    model.add(GlobalAveragePooling3D())\n",
        "    model.add(Dropout(0.3))\n",
        "\n",
        "    # model.add(Dense(32, activation='relu', kernel_initializer='he_uniform',\n",
        "    #                 kernel_regularizer=regularizers.L2(l2=1e-4)))\n",
        "    # model.add(Dropout(0.3))\n",
        "\n",
        "    model.add(Dense(16, activation='relu', kernel_initializer='he_uniform',\n",
        "                    kernel_regularizer=regularizers.L2(l2=1e-4)))\n",
        "    model.add(Dropout(0.4))\n",
        "\n",
        "    model.add(Dense(8, activation='relu', kernel_initializer='he_uniform',\n",
        "                    kernel_regularizer=regularizers.L2(l2=1e-4)))\n",
        "\n",
        "    model.add(Dense(len(CLASSES_LIST), activation='softmax'))\n",
        "\n",
        "    model.summary(line_length = 125)\n",
        "\n",
        "    return model"
      ]
    },
    {
      "cell_type": "code",
      "execution_count": 11,
      "metadata": {
        "colab": {
          "base_uri": "https://localhost:8080/"
        },
        "id": "Z4_GxXZBcHlB",
        "outputId": "8b7a9aaa-4c44-46cd-8ea5-80bdd82b1f09"
      },
      "outputs": [
        {
          "output_type": "stream",
          "name": "stdout",
          "text": [
            "Model: \"sequential\"\n",
            "_____________________________________________________________________________________________________________________________\n",
            " Layer (type)                                           Output Shape                                      Param #            \n",
            "=============================================================================================================================\n",
            " conv3d (Conv3D)                                        (None, 14, 126, 126, 16)                          1312               \n",
            "                                                                                                                             \n",
            " max_pooling3d (MaxPooling3D)                           (None, 7, 63, 63, 16)                             0                  \n",
            "                                                                                                                             \n",
            " dropout (Dropout)                                      (None, 7, 63, 63, 16)                             0                  \n",
            "                                                                                                                             \n",
            " conv3d_1 (Conv3D)                                      (None, 5, 61, 61, 32)                             13856              \n",
            "                                                                                                                             \n",
            " max_pooling3d_1 (MaxPooling3D)                         (None, 2, 30, 30, 32)                             0                  \n",
            "                                                                                                                             \n",
            " dropout_1 (Dropout)                                    (None, 2, 30, 30, 32)                             0                  \n",
            "                                                                                                                             \n",
            " global_average_pooling3d (GlobalAveragePooling3D)      (None, 32)                                        0                  \n",
            "                                                                                                                             \n",
            " dropout_2 (Dropout)                                    (None, 32)                                        0                  \n",
            "                                                                                                                             \n",
            " dense (Dense)                                          (None, 16)                                        528                \n",
            "                                                                                                                             \n",
            " dropout_3 (Dropout)                                    (None, 16)                                        0                  \n",
            "                                                                                                                             \n",
            " dense_1 (Dense)                                        (None, 8)                                         136                \n",
            "                                                                                                                             \n",
            " dense_2 (Dense)                                        (None, 4)                                         36                 \n",
            "                                                                                                                             \n",
            "=============================================================================================================================\n",
            "Total params: 15,868\n",
            "Trainable params: 15,868\n",
            "Non-trainable params: 0\n",
            "_____________________________________________________________________________________________________________________________\n",
            "Model Created Successfully!\n"
          ]
        }
      ],
      "source": [
        "# Construct the required convlstm model.\n",
        "model = create_3D_CNN_model()\n",
        " \n",
        "# Display the success message. \n",
        "print(\"Model Created Successfully!\")"
      ]
    },
    {
      "cell_type": "code",
      "execution_count": 12,
      "metadata": {
        "colab": {
          "base_uri": "https://localhost:8080/"
        },
        "id": "MwYEkaYLoyb_",
        "outputId": "191ec25c-195f-4c0b-a7e4-8e64c239113e"
      },
      "outputs": [
        {
          "output_type": "stream",
          "name": "stdout",
          "text": [
            "Epoch 1/200\n",
            "30/30 [==============================] - 8s 184ms/step - loss: 1.6532 - accuracy: 0.1894 - val_loss: 1.3188 - val_accuracy: 0.4816\n",
            "Epoch 2/200\n",
            "30/30 [==============================] - 4s 145ms/step - loss: 1.3540 - accuracy: 0.3441 - val_loss: 1.3073 - val_accuracy: 0.4816\n",
            "Epoch 3/200\n",
            "30/30 [==============================] - 4s 144ms/step - loss: 1.3102 - accuracy: 0.3954 - val_loss: 1.2657 - val_accuracy: 0.4816\n",
            "Epoch 4/200\n",
            "30/30 [==============================] - 4s 144ms/step - loss: 1.2646 - accuracy: 0.4171 - val_loss: 1.2118 - val_accuracy: 0.4816\n",
            "Epoch 5/200\n",
            "30/30 [==============================] - 4s 145ms/step - loss: 1.2424 - accuracy: 0.4146 - val_loss: 1.1960 - val_accuracy: 0.4632\n",
            "Epoch 6/200\n",
            "30/30 [==============================] - 4s 144ms/step - loss: 1.1942 - accuracy: 0.4530 - val_loss: 1.1573 - val_accuracy: 0.4449\n",
            "Epoch 7/200\n",
            "30/30 [==============================] - 4s 145ms/step - loss: 1.1532 - accuracy: 0.4913 - val_loss: 1.1284 - val_accuracy: 0.4816\n",
            "Epoch 8/200\n",
            "30/30 [==============================] - 4s 145ms/step - loss: 1.1228 - accuracy: 0.5050 - val_loss: 1.0729 - val_accuracy: 0.4853\n",
            "Epoch 9/200\n",
            "30/30 [==============================] - 4s 144ms/step - loss: 1.0837 - accuracy: 0.5210 - val_loss: 1.0465 - val_accuracy: 0.5772\n",
            "Epoch 10/200\n",
            "30/30 [==============================] - 4s 146ms/step - loss: 1.0567 - accuracy: 0.5520 - val_loss: 1.0033 - val_accuracy: 0.5809\n",
            "Epoch 11/200\n",
            "30/30 [==============================] - 4s 144ms/step - loss: 1.0343 - accuracy: 0.5408 - val_loss: 0.9893 - val_accuracy: 0.5919\n",
            "Epoch 12/200\n",
            "30/30 [==============================] - 4s 145ms/step - loss: 1.0256 - accuracy: 0.5421 - val_loss: 0.9754 - val_accuracy: 0.5919\n",
            "Epoch 13/200\n",
            "30/30 [==============================] - 4s 144ms/step - loss: 1.0029 - accuracy: 0.5377 - val_loss: 0.9320 - val_accuracy: 0.6140\n",
            "Epoch 14/200\n",
            "30/30 [==============================] - 4s 145ms/step - loss: 0.9444 - accuracy: 0.5817 - val_loss: 0.9046 - val_accuracy: 0.5956\n",
            "Epoch 15/200\n",
            "30/30 [==============================] - 4s 146ms/step - loss: 0.9263 - accuracy: 0.5699 - val_loss: 0.8876 - val_accuracy: 0.6140\n",
            "Epoch 16/200\n",
            "30/30 [==============================] - 4s 145ms/step - loss: 0.9145 - accuracy: 0.5922 - val_loss: 0.8841 - val_accuracy: 0.5919\n",
            "Epoch 17/200\n",
            "30/30 [==============================] - 4s 144ms/step - loss: 0.9139 - accuracy: 0.5668 - val_loss: 0.8627 - val_accuracy: 0.6029\n",
            "Epoch 18/200\n",
            "30/30 [==============================] - 4s 144ms/step - loss: 0.8845 - accuracy: 0.5860 - val_loss: 0.8285 - val_accuracy: 0.6287\n",
            "Epoch 19/200\n",
            "30/30 [==============================] - 4s 145ms/step - loss: 0.8580 - accuracy: 0.5860 - val_loss: 0.8408 - val_accuracy: 0.5809\n",
            "Epoch 20/200\n",
            "30/30 [==============================] - 4s 146ms/step - loss: 0.8616 - accuracy: 0.6089 - val_loss: 0.8303 - val_accuracy: 0.5956\n",
            "Epoch 21/200\n",
            "30/30 [==============================] - 4s 147ms/step - loss: 0.8343 - accuracy: 0.6114 - val_loss: 0.8143 - val_accuracy: 0.5993\n",
            "Epoch 22/200\n",
            "30/30 [==============================] - 4s 146ms/step - loss: 0.8366 - accuracy: 0.6188 - val_loss: 0.8026 - val_accuracy: 0.6029\n",
            "Epoch 23/200\n",
            "30/30 [==============================] - 4s 144ms/step - loss: 0.8244 - accuracy: 0.6213 - val_loss: 0.7973 - val_accuracy: 0.6140\n",
            "Epoch 24/200\n",
            "30/30 [==============================] - 4s 145ms/step - loss: 0.8170 - accuracy: 0.6324 - val_loss: 0.8130 - val_accuracy: 0.5882\n",
            "Epoch 25/200\n",
            "30/30 [==============================] - 4s 145ms/step - loss: 0.8336 - accuracy: 0.6083 - val_loss: 0.7955 - val_accuracy: 0.5993\n",
            "Epoch 26/200\n",
            "30/30 [==============================] - 4s 145ms/step - loss: 0.8159 - accuracy: 0.6380 - val_loss: 0.7902 - val_accuracy: 0.6397\n",
            "Epoch 27/200\n",
            "30/30 [==============================] - 4s 144ms/step - loss: 0.7922 - accuracy: 0.6405 - val_loss: 0.7736 - val_accuracy: 0.6176\n",
            "Epoch 28/200\n",
            "30/30 [==============================] - 4s 144ms/step - loss: 0.7911 - accuracy: 0.6287 - val_loss: 0.7848 - val_accuracy: 0.6140\n",
            "Epoch 29/200\n",
            "30/30 [==============================] - 4s 144ms/step - loss: 0.7754 - accuracy: 0.6491 - val_loss: 0.7670 - val_accuracy: 0.6250\n",
            "Epoch 30/200\n",
            "30/30 [==============================] - 4s 144ms/step - loss: 0.7835 - accuracy: 0.6429 - val_loss: 0.7834 - val_accuracy: 0.6360\n",
            "Epoch 31/200\n",
            "30/30 [==============================] - 4s 147ms/step - loss: 0.7978 - accuracy: 0.6436 - val_loss: 0.7847 - val_accuracy: 0.6801\n",
            "Epoch 32/200\n",
            "30/30 [==============================] - 4s 143ms/step - loss: 0.7668 - accuracy: 0.6615 - val_loss: 0.7613 - val_accuracy: 0.6360\n",
            "Epoch 33/200\n",
            "30/30 [==============================] - 4s 146ms/step - loss: 0.7598 - accuracy: 0.6603 - val_loss: 0.7647 - val_accuracy: 0.6912\n",
            "Epoch 34/200\n",
            "30/30 [==============================] - 4s 146ms/step - loss: 0.7594 - accuracy: 0.6535 - val_loss: 0.7456 - val_accuracy: 0.6618\n",
            "Epoch 35/200\n",
            "30/30 [==============================] - 4s 145ms/step - loss: 0.7620 - accuracy: 0.6522 - val_loss: 0.7496 - val_accuracy: 0.6360\n",
            "Epoch 36/200\n",
            "30/30 [==============================] - 4s 145ms/step - loss: 0.7329 - accuracy: 0.6776 - val_loss: 0.7399 - val_accuracy: 0.6691\n",
            "Epoch 37/200\n",
            "30/30 [==============================] - 4s 144ms/step - loss: 0.7560 - accuracy: 0.6572 - val_loss: 0.7452 - val_accuracy: 0.6838\n",
            "Epoch 38/200\n",
            "30/30 [==============================] - 4s 144ms/step - loss: 0.7229 - accuracy: 0.6850 - val_loss: 0.7425 - val_accuracy: 0.6360\n",
            "Epoch 39/200\n",
            "30/30 [==============================] - 4s 146ms/step - loss: 0.7421 - accuracy: 0.6553 - val_loss: 0.7281 - val_accuracy: 0.6801\n",
            "Epoch 40/200\n",
            "30/30 [==============================] - 4s 145ms/step - loss: 0.7245 - accuracy: 0.6788 - val_loss: 0.7228 - val_accuracy: 0.6985\n",
            "Epoch 41/200\n",
            "30/30 [==============================] - 4s 146ms/step - loss: 0.7159 - accuracy: 0.6850 - val_loss: 0.7174 - val_accuracy: 0.6838\n",
            "Epoch 42/200\n",
            "30/30 [==============================] - 4s 145ms/step - loss: 0.7085 - accuracy: 0.6782 - val_loss: 0.7143 - val_accuracy: 0.7169\n",
            "Epoch 43/200\n",
            "30/30 [==============================] - 4s 145ms/step - loss: 0.7147 - accuracy: 0.6832 - val_loss: 0.7137 - val_accuracy: 0.7132\n",
            "Epoch 44/200\n",
            "30/30 [==============================] - 4s 144ms/step - loss: 0.6996 - accuracy: 0.6813 - val_loss: 0.7105 - val_accuracy: 0.7132\n",
            "Epoch 45/200\n",
            "30/30 [==============================] - 4s 144ms/step - loss: 0.6953 - accuracy: 0.6869 - val_loss: 0.7146 - val_accuracy: 0.7059\n",
            "Epoch 46/200\n",
            "30/30 [==============================] - 4s 146ms/step - loss: 0.7119 - accuracy: 0.6887 - val_loss: 0.7046 - val_accuracy: 0.7096\n",
            "Epoch 47/200\n",
            "30/30 [==============================] - 4s 145ms/step - loss: 0.7000 - accuracy: 0.6764 - val_loss: 0.7110 - val_accuracy: 0.6912\n",
            "Epoch 48/200\n",
            "30/30 [==============================] - 4s 146ms/step - loss: 0.6826 - accuracy: 0.7042 - val_loss: 0.6978 - val_accuracy: 0.7132\n",
            "Epoch 49/200\n",
            "30/30 [==============================] - 4s 144ms/step - loss: 0.6851 - accuracy: 0.6986 - val_loss: 0.6955 - val_accuracy: 0.7096\n",
            "Epoch 50/200\n",
            "30/30 [==============================] - 4s 146ms/step - loss: 0.7058 - accuracy: 0.6832 - val_loss: 0.6868 - val_accuracy: 0.7132\n",
            "Epoch 51/200\n",
            "30/30 [==============================] - 4s 144ms/step - loss: 0.6891 - accuracy: 0.7036 - val_loss: 0.6911 - val_accuracy: 0.7169\n",
            "Epoch 52/200\n",
            "30/30 [==============================] - 4s 144ms/step - loss: 0.6802 - accuracy: 0.6968 - val_loss: 0.6811 - val_accuracy: 0.7206\n",
            "Epoch 53/200\n",
            "30/30 [==============================] - 4s 144ms/step - loss: 0.6569 - accuracy: 0.6881 - val_loss: 0.6753 - val_accuracy: 0.7279\n",
            "Epoch 54/200\n",
            "30/30 [==============================] - 4s 145ms/step - loss: 0.6754 - accuracy: 0.6993 - val_loss: 0.6772 - val_accuracy: 0.7169\n",
            "Epoch 55/200\n",
            "30/30 [==============================] - 4s 147ms/step - loss: 0.6782 - accuracy: 0.7092 - val_loss: 0.6757 - val_accuracy: 0.7500\n",
            "Epoch 56/200\n",
            "30/30 [==============================] - 4s 146ms/step - loss: 0.6739 - accuracy: 0.6906 - val_loss: 0.6595 - val_accuracy: 0.7059\n",
            "Epoch 57/200\n",
            "30/30 [==============================] - 4s 146ms/step - loss: 0.6466 - accuracy: 0.7079 - val_loss: 0.6626 - val_accuracy: 0.7022\n",
            "Epoch 58/200\n",
            "30/30 [==============================] - 4s 144ms/step - loss: 0.6383 - accuracy: 0.7116 - val_loss: 0.6527 - val_accuracy: 0.6985\n",
            "Epoch 59/200\n",
            "30/30 [==============================] - 4s 144ms/step - loss: 0.6467 - accuracy: 0.7178 - val_loss: 0.6600 - val_accuracy: 0.7206\n",
            "Epoch 60/200\n",
            "30/30 [==============================] - 4s 144ms/step - loss: 0.6288 - accuracy: 0.7197 - val_loss: 0.6487 - val_accuracy: 0.7426\n",
            "Epoch 61/200\n",
            "30/30 [==============================] - 4s 145ms/step - loss: 0.6188 - accuracy: 0.7339 - val_loss: 0.6405 - val_accuracy: 0.7132\n",
            "Epoch 62/200\n",
            "30/30 [==============================] - 4s 144ms/step - loss: 0.6575 - accuracy: 0.7036 - val_loss: 0.6547 - val_accuracy: 0.7169\n",
            "Epoch 63/200\n",
            "30/30 [==============================] - 4s 146ms/step - loss: 0.6428 - accuracy: 0.7178 - val_loss: 0.6494 - val_accuracy: 0.6875\n",
            "Epoch 64/200\n",
            "30/30 [==============================] - 4s 144ms/step - loss: 0.6402 - accuracy: 0.7209 - val_loss: 0.6516 - val_accuracy: 0.7132\n",
            "Epoch 65/200\n",
            "30/30 [==============================] - 4s 144ms/step - loss: 0.6345 - accuracy: 0.7277 - val_loss: 0.6623 - val_accuracy: 0.6949\n",
            "Epoch 66/200\n",
            "30/30 [==============================] - 4s 145ms/step - loss: 0.6144 - accuracy: 0.7382 - val_loss: 0.6442 - val_accuracy: 0.7132\n",
            "Epoch 67/200\n",
            "30/30 [==============================] - 4s 145ms/step - loss: 0.5942 - accuracy: 0.7376 - val_loss: 0.6295 - val_accuracy: 0.7206\n",
            "Epoch 68/200\n",
            "30/30 [==============================] - 4s 146ms/step - loss: 0.6077 - accuracy: 0.7290 - val_loss: 0.6212 - val_accuracy: 0.7537\n",
            "Epoch 69/200\n",
            "30/30 [==============================] - 4s 145ms/step - loss: 0.6069 - accuracy: 0.7351 - val_loss: 0.6429 - val_accuracy: 0.6838\n",
            "Epoch 70/200\n",
            "30/30 [==============================] - 4s 146ms/step - loss: 0.6101 - accuracy: 0.7395 - val_loss: 0.6562 - val_accuracy: 0.7096\n",
            "Epoch 71/200\n",
            "30/30 [==============================] - 4s 144ms/step - loss: 0.6193 - accuracy: 0.7333 - val_loss: 0.6325 - val_accuracy: 0.7353\n",
            "Epoch 72/200\n",
            "30/30 [==============================] - 4s 146ms/step - loss: 0.6061 - accuracy: 0.7302 - val_loss: 0.6267 - val_accuracy: 0.7059\n",
            "Epoch 73/200\n",
            "30/30 [==============================] - 4s 143ms/step - loss: 0.6004 - accuracy: 0.7475 - val_loss: 0.6261 - val_accuracy: 0.6985\n",
            "Epoch 74/200\n",
            "30/30 [==============================] - 4s 143ms/step - loss: 0.6049 - accuracy: 0.7382 - val_loss: 0.6232 - val_accuracy: 0.7574\n",
            "Epoch 75/200\n",
            "30/30 [==============================] - 4s 143ms/step - loss: 0.5809 - accuracy: 0.7450 - val_loss: 0.6201 - val_accuracy: 0.7169\n",
            "Epoch 76/200\n",
            "30/30 [==============================] - 4s 145ms/step - loss: 0.5708 - accuracy: 0.7655 - val_loss: 0.6164 - val_accuracy: 0.7243\n",
            "Epoch 77/200\n",
            "30/30 [==============================] - 4s 144ms/step - loss: 0.5884 - accuracy: 0.7463 - val_loss: 0.6223 - val_accuracy: 0.7132\n",
            "Epoch 78/200\n",
            "30/30 [==============================] - 4s 144ms/step - loss: 0.5882 - accuracy: 0.7506 - val_loss: 0.6204 - val_accuracy: 0.7169\n",
            "Epoch 79/200\n",
            "30/30 [==============================] - 4s 146ms/step - loss: 0.5765 - accuracy: 0.7661 - val_loss: 0.6072 - val_accuracy: 0.7243\n",
            "Epoch 80/200\n",
            "30/30 [==============================] - 4s 144ms/step - loss: 0.5822 - accuracy: 0.7370 - val_loss: 0.6216 - val_accuracy: 0.7206\n",
            "Epoch 81/200\n",
            "30/30 [==============================] - 4s 145ms/step - loss: 0.5732 - accuracy: 0.7630 - val_loss: 0.6092 - val_accuracy: 0.7390\n",
            "Epoch 82/200\n",
            "30/30 [==============================] - 4s 144ms/step - loss: 0.5644 - accuracy: 0.7624 - val_loss: 0.6075 - val_accuracy: 0.7316\n",
            "Epoch 83/200\n",
            "30/30 [==============================] - 4s 143ms/step - loss: 0.5640 - accuracy: 0.7543 - val_loss: 0.6344 - val_accuracy: 0.6875\n",
            "Epoch 84/200\n",
            "30/30 [==============================] - 4s 143ms/step - loss: 0.5711 - accuracy: 0.7618 - val_loss: 0.5983 - val_accuracy: 0.7353\n",
            "Epoch 85/200\n",
            "30/30 [==============================] - 4s 145ms/step - loss: 0.5825 - accuracy: 0.7327 - val_loss: 0.6210 - val_accuracy: 0.7243\n",
            "Epoch 86/200\n",
            "30/30 [==============================] - 4s 144ms/step - loss: 0.5769 - accuracy: 0.7562 - val_loss: 0.6121 - val_accuracy: 0.7169\n",
            "Epoch 87/200\n",
            "30/30 [==============================] - 4s 146ms/step - loss: 0.5600 - accuracy: 0.7562 - val_loss: 0.6137 - val_accuracy: 0.7096\n",
            "Epoch 88/200\n",
            "30/30 [==============================] - 4s 147ms/step - loss: 0.5433 - accuracy: 0.7673 - val_loss: 0.6076 - val_accuracy: 0.7390\n",
            "Epoch 89/200\n",
            "30/30 [==============================] - 4s 144ms/step - loss: 0.5604 - accuracy: 0.7649 - val_loss: 0.5966 - val_accuracy: 0.7537\n",
            "Epoch 90/200\n",
            "30/30 [==============================] - 4s 146ms/step - loss: 0.5680 - accuracy: 0.7587 - val_loss: 0.6140 - val_accuracy: 0.7390\n",
            "Epoch 91/200\n",
            "30/30 [==============================] - 4s 144ms/step - loss: 0.5697 - accuracy: 0.7531 - val_loss: 0.6237 - val_accuracy: 0.7353\n",
            "Epoch 92/200\n",
            "30/30 [==============================] - 4s 143ms/step - loss: 0.5468 - accuracy: 0.7748 - val_loss: 0.5957 - val_accuracy: 0.7353\n",
            "Epoch 93/200\n",
            "30/30 [==============================] - 4s 144ms/step - loss: 0.5498 - accuracy: 0.7525 - val_loss: 0.6045 - val_accuracy: 0.7316\n",
            "Epoch 94/200\n",
            "30/30 [==============================] - 4s 145ms/step - loss: 0.5524 - accuracy: 0.7649 - val_loss: 0.6283 - val_accuracy: 0.7096\n",
            "Epoch 95/200\n",
            "30/30 [==============================] - 4s 147ms/step - loss: 0.5320 - accuracy: 0.7754 - val_loss: 0.5996 - val_accuracy: 0.7316\n",
            "Epoch 96/200\n",
            "30/30 [==============================] - 4s 144ms/step - loss: 0.5475 - accuracy: 0.7704 - val_loss: 0.6083 - val_accuracy: 0.7463\n",
            "Epoch 97/200\n",
            "30/30 [==============================] - 4s 144ms/step - loss: 0.5561 - accuracy: 0.7642 - val_loss: 0.6127 - val_accuracy: 0.7426\n",
            "Epoch 98/200\n",
            "30/30 [==============================] - 4s 144ms/step - loss: 0.5531 - accuracy: 0.7550 - val_loss: 0.6120 - val_accuracy: 0.7316\n",
            "Epoch 99/200\n",
            "30/30 [==============================] - 4s 144ms/step - loss: 0.5459 - accuracy: 0.7580 - val_loss: 0.5962 - val_accuracy: 0.7500\n",
            "Epoch 100/200\n",
            "30/30 [==============================] - 4s 144ms/step - loss: 0.5308 - accuracy: 0.7748 - val_loss: 0.6006 - val_accuracy: 0.7316\n",
            "Epoch 101/200\n",
            "30/30 [==============================] - 4s 145ms/step - loss: 0.5470 - accuracy: 0.7692 - val_loss: 0.6364 - val_accuracy: 0.7169\n",
            "Epoch 102/200\n",
            "30/30 [==============================] - 4s 145ms/step - loss: 0.5396 - accuracy: 0.7766 - val_loss: 0.6220 - val_accuracy: 0.7132\n",
            "Epoch 103/200\n",
            "30/30 [==============================] - 4s 143ms/step - loss: 0.5530 - accuracy: 0.7735 - val_loss: 0.6068 - val_accuracy: 0.7243\n",
            "Epoch 104/200\n",
            "30/30 [==============================] - 4s 146ms/step - loss: 0.5402 - accuracy: 0.7698 - val_loss: 0.5996 - val_accuracy: 0.7279\n",
            "Epoch 105/200\n",
            "30/30 [==============================] - 4s 144ms/step - loss: 0.5350 - accuracy: 0.7778 - val_loss: 0.6200 - val_accuracy: 0.7169\n",
            "Epoch 106/200\n",
            "30/30 [==============================] - 4s 145ms/step - loss: 0.5359 - accuracy: 0.7698 - val_loss: 0.6102 - val_accuracy: 0.7243\n",
            "Epoch 107/200\n",
            "30/30 [==============================] - 4s 144ms/step - loss: 0.5339 - accuracy: 0.7649 - val_loss: 0.6383 - val_accuracy: 0.6949\n",
            "Epoch 108/200\n",
            "30/30 [==============================] - 4s 144ms/step - loss: 0.5437 - accuracy: 0.7704 - val_loss: 0.6422 - val_accuracy: 0.7096\n",
            "Epoch 109/200\n",
            "30/30 [==============================] - 4s 145ms/step - loss: 0.5160 - accuracy: 0.7791 - val_loss: 0.6083 - val_accuracy: 0.7390\n",
            "Epoch 110/200\n",
            "30/30 [==============================] - 4s 144ms/step - loss: 0.5168 - accuracy: 0.7785 - val_loss: 0.6062 - val_accuracy: 0.7353\n",
            "Epoch 111/200\n",
            "30/30 [==============================] - 4s 143ms/step - loss: 0.5436 - accuracy: 0.7580 - val_loss: 0.6015 - val_accuracy: 0.7390\n",
            "Epoch 112/200\n",
            "30/30 [==============================] - 4s 145ms/step - loss: 0.5268 - accuracy: 0.7847 - val_loss: 0.5905 - val_accuracy: 0.7500\n",
            "Epoch 113/200\n",
            "30/30 [==============================] - 4s 146ms/step - loss: 0.5319 - accuracy: 0.7816 - val_loss: 0.5897 - val_accuracy: 0.7353\n",
            "Epoch 114/200\n",
            "30/30 [==============================] - 4s 144ms/step - loss: 0.5237 - accuracy: 0.7816 - val_loss: 0.6003 - val_accuracy: 0.7316\n",
            "Epoch 115/200\n",
            "30/30 [==============================] - 4s 145ms/step - loss: 0.5042 - accuracy: 0.7865 - val_loss: 0.5926 - val_accuracy: 0.7463\n",
            "Epoch 116/200\n",
            "30/30 [==============================] - 4s 147ms/step - loss: 0.5182 - accuracy: 0.7828 - val_loss: 0.5900 - val_accuracy: 0.7353\n",
            "Epoch 117/200\n",
            "30/30 [==============================] - 4s 144ms/step - loss: 0.5378 - accuracy: 0.7710 - val_loss: 0.6460 - val_accuracy: 0.7206\n",
            "Epoch 118/200\n",
            "30/30 [==============================] - 4s 145ms/step - loss: 0.5266 - accuracy: 0.7624 - val_loss: 0.6227 - val_accuracy: 0.7316\n",
            "Epoch 119/200\n",
            "30/30 [==============================] - 4s 144ms/step - loss: 0.5229 - accuracy: 0.7871 - val_loss: 0.6087 - val_accuracy: 0.7316\n",
            "Epoch 120/200\n",
            "30/30 [==============================] - 4s 146ms/step - loss: 0.5093 - accuracy: 0.7840 - val_loss: 0.6152 - val_accuracy: 0.7279\n",
            "Epoch 121/200\n",
            "30/30 [==============================] - 4s 143ms/step - loss: 0.5251 - accuracy: 0.7723 - val_loss: 0.6056 - val_accuracy: 0.7500\n",
            "Epoch 122/200\n",
            "30/30 [==============================] - 4s 145ms/step - loss: 0.5092 - accuracy: 0.7803 - val_loss: 0.6267 - val_accuracy: 0.7096\n",
            "Epoch 123/200\n",
            "30/30 [==============================] - 4s 147ms/step - loss: 0.5159 - accuracy: 0.7809 - val_loss: 0.6249 - val_accuracy: 0.7096\n",
            "Epoch 124/200\n",
            "30/30 [==============================] - 4s 146ms/step - loss: 0.5116 - accuracy: 0.7865 - val_loss: 0.6105 - val_accuracy: 0.7316\n",
            "Epoch 125/200\n",
            "30/30 [==============================] - 4s 144ms/step - loss: 0.4984 - accuracy: 0.7964 - val_loss: 0.6224 - val_accuracy: 0.7169\n",
            "Epoch 126/200\n",
            "30/30 [==============================] - 4s 146ms/step - loss: 0.5048 - accuracy: 0.7816 - val_loss: 0.6314 - val_accuracy: 0.7243\n",
            "Epoch 127/200\n",
            "30/30 [==============================] - 4s 146ms/step - loss: 0.5162 - accuracy: 0.7871 - val_loss: 0.6031 - val_accuracy: 0.7353\n",
            "Epoch 128/200\n",
            "30/30 [==============================] - 4s 145ms/step - loss: 0.5181 - accuracy: 0.7890 - val_loss: 0.6169 - val_accuracy: 0.7353\n",
            "Epoch 129/200\n",
            "30/30 [==============================] - 4s 146ms/step - loss: 0.5023 - accuracy: 0.7921 - val_loss: 0.6110 - val_accuracy: 0.7500\n",
            "Epoch 130/200\n",
            "30/30 [==============================] - 4s 145ms/step - loss: 0.5062 - accuracy: 0.7989 - val_loss: 0.6509 - val_accuracy: 0.7132\n",
            "Epoch 131/200\n",
            "30/30 [==============================] - 4s 146ms/step - loss: 0.4982 - accuracy: 0.7964 - val_loss: 0.6094 - val_accuracy: 0.7463\n",
            "Epoch 132/200\n",
            "30/30 [==============================] - 4s 146ms/step - loss: 0.4980 - accuracy: 0.7915 - val_loss: 0.6315 - val_accuracy: 0.7316\n",
            "Epoch 133/200\n",
            "30/30 [==============================] - 4s 145ms/step - loss: 0.4973 - accuracy: 0.7890 - val_loss: 0.6576 - val_accuracy: 0.7206\n",
            "Epoch 134/200\n",
            "30/30 [==============================] - 4s 145ms/step - loss: 0.5023 - accuracy: 0.7946 - val_loss: 0.6109 - val_accuracy: 0.7206\n",
            "Epoch 135/200\n",
            "30/30 [==============================] - 4s 144ms/step - loss: 0.5059 - accuracy: 0.7933 - val_loss: 0.6223 - val_accuracy: 0.7390\n",
            "Epoch 136/200\n",
            "30/30 [==============================] - 4s 143ms/step - loss: 0.5008 - accuracy: 0.7884 - val_loss: 0.5943 - val_accuracy: 0.7500\n",
            "Epoch 137/200\n",
            "30/30 [==============================] - 4s 146ms/step - loss: 0.4972 - accuracy: 0.8007 - val_loss: 0.6222 - val_accuracy: 0.7243\n",
            "Epoch 138/200\n",
            "30/30 [==============================] - 4s 144ms/step - loss: 0.4909 - accuracy: 0.7902 - val_loss: 0.6171 - val_accuracy: 0.7316\n",
            "Epoch 139/200\n",
            "30/30 [==============================] - 4s 145ms/step - loss: 0.4848 - accuracy: 0.7958 - val_loss: 0.6121 - val_accuracy: 0.7316\n",
            "Epoch 140/200\n",
            "30/30 [==============================] - 4s 146ms/step - loss: 0.4878 - accuracy: 0.8007 - val_loss: 0.6035 - val_accuracy: 0.7353\n",
            "Epoch 141/200\n",
            "30/30 [==============================] - 4s 144ms/step - loss: 0.5085 - accuracy: 0.7791 - val_loss: 0.6839 - val_accuracy: 0.6985\n",
            "Epoch 142/200\n",
            "30/30 [==============================] - 4s 144ms/step - loss: 0.5269 - accuracy: 0.7822 - val_loss: 0.6293 - val_accuracy: 0.7426\n",
            "Epoch 143/200\n",
            "30/30 [==============================] - 4s 145ms/step - loss: 0.5049 - accuracy: 0.7958 - val_loss: 0.6413 - val_accuracy: 0.7059\n",
            "Epoch 144/200\n",
            "30/30 [==============================] - 4s 144ms/step - loss: 0.5214 - accuracy: 0.7723 - val_loss: 0.5881 - val_accuracy: 0.7390\n",
            "Epoch 145/200\n",
            "30/30 [==============================] - 4s 144ms/step - loss: 0.5005 - accuracy: 0.7915 - val_loss: 0.6229 - val_accuracy: 0.7426\n",
            "Epoch 146/200\n",
            "30/30 [==============================] - 4s 143ms/step - loss: 0.4866 - accuracy: 0.7952 - val_loss: 0.6233 - val_accuracy: 0.7390\n",
            "Epoch 147/200\n",
            "30/30 [==============================] - 4s 144ms/step - loss: 0.4955 - accuracy: 0.7853 - val_loss: 0.6131 - val_accuracy: 0.7353\n",
            "Epoch 148/200\n",
            "30/30 [==============================] - 4s 144ms/step - loss: 0.5015 - accuracy: 0.8038 - val_loss: 0.6969 - val_accuracy: 0.6912\n",
            "Epoch 149/200\n",
            "30/30 [==============================] - 4s 143ms/step - loss: 0.4780 - accuracy: 0.7946 - val_loss: 0.5874 - val_accuracy: 0.7463\n",
            "Epoch 150/200\n",
            "30/30 [==============================] - 4s 144ms/step - loss: 0.4898 - accuracy: 0.8051 - val_loss: 0.6170 - val_accuracy: 0.7426\n",
            "Epoch 151/200\n",
            "30/30 [==============================] - 4s 145ms/step - loss: 0.4861 - accuracy: 0.7939 - val_loss: 0.6727 - val_accuracy: 0.6985\n",
            "Epoch 152/200\n",
            "30/30 [==============================] - 4s 145ms/step - loss: 0.4783 - accuracy: 0.8051 - val_loss: 0.6729 - val_accuracy: 0.7316\n",
            "Epoch 153/200\n",
            "30/30 [==============================] - 4s 144ms/step - loss: 0.5010 - accuracy: 0.7952 - val_loss: 0.6292 - val_accuracy: 0.7243\n",
            "Epoch 154/200\n",
            "30/30 [==============================] - 4s 145ms/step - loss: 0.4771 - accuracy: 0.8038 - val_loss: 0.6573 - val_accuracy: 0.7206\n",
            "Epoch 155/200\n",
            "30/30 [==============================] - 4s 144ms/step - loss: 0.4960 - accuracy: 0.7983 - val_loss: 0.6051 - val_accuracy: 0.7353\n",
            "Epoch 156/200\n",
            "30/30 [==============================] - 4s 144ms/step - loss: 0.4747 - accuracy: 0.7921 - val_loss: 0.6201 - val_accuracy: 0.7500\n",
            "Epoch 157/200\n",
            "30/30 [==============================] - 4s 145ms/step - loss: 0.4596 - accuracy: 0.8119 - val_loss: 0.5954 - val_accuracy: 0.7574\n",
            "Epoch 158/200\n",
            "30/30 [==============================] - 4s 143ms/step - loss: 0.4792 - accuracy: 0.8032 - val_loss: 0.6434 - val_accuracy: 0.7206\n",
            "Epoch 159/200\n",
            "30/30 [==============================] - 4s 145ms/step - loss: 0.4962 - accuracy: 0.8007 - val_loss: 0.6525 - val_accuracy: 0.7316\n",
            "Epoch 160/200\n",
            "30/30 [==============================] - 4s 143ms/step - loss: 0.5018 - accuracy: 0.7939 - val_loss: 0.6389 - val_accuracy: 0.7316\n",
            "Epoch 161/200\n",
            "30/30 [==============================] - 4s 144ms/step - loss: 0.4826 - accuracy: 0.7970 - val_loss: 0.6639 - val_accuracy: 0.7206\n",
            "Epoch 162/200\n",
            "30/30 [==============================] - 4s 146ms/step - loss: 0.4810 - accuracy: 0.7995 - val_loss: 0.6400 - val_accuracy: 0.7279\n",
            "Epoch 163/200\n",
            "30/30 [==============================] - 4s 144ms/step - loss: 0.4684 - accuracy: 0.8094 - val_loss: 0.6106 - val_accuracy: 0.7610\n",
            "Epoch 164/200\n",
            "30/30 [==============================] - 4s 146ms/step - loss: 0.4717 - accuracy: 0.8131 - val_loss: 0.5715 - val_accuracy: 0.7610\n",
            "Epoch 165/200\n",
            "30/30 [==============================] - 4s 145ms/step - loss: 0.4862 - accuracy: 0.7915 - val_loss: 0.6515 - val_accuracy: 0.7096\n",
            "Epoch 166/200\n",
            "30/30 [==============================] - 4s 143ms/step - loss: 0.4839 - accuracy: 0.7995 - val_loss: 0.6210 - val_accuracy: 0.7243\n",
            "Epoch 167/200\n",
            "30/30 [==============================] - 4s 143ms/step - loss: 0.4773 - accuracy: 0.8026 - val_loss: 0.7007 - val_accuracy: 0.6949\n",
            "Epoch 168/200\n",
            "30/30 [==============================] - 4s 146ms/step - loss: 0.4899 - accuracy: 0.7921 - val_loss: 0.6220 - val_accuracy: 0.7316\n",
            "Epoch 169/200\n",
            "30/30 [==============================] - 4s 147ms/step - loss: 0.4739 - accuracy: 0.7958 - val_loss: 0.6066 - val_accuracy: 0.7463\n",
            "Epoch 170/200\n",
            "30/30 [==============================] - 4s 143ms/step - loss: 0.4622 - accuracy: 0.8144 - val_loss: 0.6297 - val_accuracy: 0.7096\n",
            "Epoch 171/200\n",
            "30/30 [==============================] - 4s 146ms/step - loss: 0.4745 - accuracy: 0.8100 - val_loss: 0.6501 - val_accuracy: 0.7316\n",
            "Epoch 172/200\n",
            "30/30 [==============================] - 4s 145ms/step - loss: 0.4761 - accuracy: 0.8051 - val_loss: 0.6936 - val_accuracy: 0.7279\n",
            "Epoch 173/200\n",
            "30/30 [==============================] - 4s 145ms/step - loss: 0.4680 - accuracy: 0.8051 - val_loss: 0.6441 - val_accuracy: 0.7206\n",
            "Epoch 174/200\n",
            "30/30 [==============================] - 4s 145ms/step - loss: 0.4748 - accuracy: 0.8057 - val_loss: 0.6341 - val_accuracy: 0.7390\n",
            "Epoch 175/200\n",
            "30/30 [==============================] - 4s 143ms/step - loss: 0.4548 - accuracy: 0.8156 - val_loss: 0.6475 - val_accuracy: 0.7279\n",
            "Epoch 176/200\n",
            "30/30 [==============================] - 4s 144ms/step - loss: 0.4507 - accuracy: 0.8156 - val_loss: 0.6299 - val_accuracy: 0.7426\n",
            "Epoch 177/200\n",
            "30/30 [==============================] - 4s 144ms/step - loss: 0.4731 - accuracy: 0.8069 - val_loss: 0.6849 - val_accuracy: 0.7022\n",
            "Epoch 178/200\n",
            "30/30 [==============================] - 4s 146ms/step - loss: 0.4750 - accuracy: 0.7976 - val_loss: 0.6539 - val_accuracy: 0.7096\n",
            "Epoch 179/200\n",
            "30/30 [==============================] - 4s 145ms/step - loss: 0.4748 - accuracy: 0.8075 - val_loss: 0.7349 - val_accuracy: 0.6691\n",
            "Epoch 180/200\n",
            "30/30 [==============================] - 4s 144ms/step - loss: 0.4795 - accuracy: 0.8063 - val_loss: 0.5951 - val_accuracy: 0.7463\n",
            "Epoch 181/200\n",
            "30/30 [==============================] - 4s 146ms/step - loss: 0.4635 - accuracy: 0.7989 - val_loss: 0.6370 - val_accuracy: 0.7206\n",
            "Epoch 182/200\n",
            "30/30 [==============================] - 4s 145ms/step - loss: 0.4458 - accuracy: 0.8069 - val_loss: 0.6510 - val_accuracy: 0.7206\n",
            "Epoch 183/200\n",
            "30/30 [==============================] - 4s 143ms/step - loss: 0.4631 - accuracy: 0.8119 - val_loss: 0.6810 - val_accuracy: 0.7059\n",
            "Epoch 184/200\n",
            "30/30 [==============================] - 4s 143ms/step - loss: 0.4558 - accuracy: 0.8113 - val_loss: 0.6719 - val_accuracy: 0.7096\n",
            "Epoch 185/200\n",
            "30/30 [==============================] - 4s 146ms/step - loss: 0.4673 - accuracy: 0.7933 - val_loss: 0.6512 - val_accuracy: 0.7353\n",
            "Epoch 186/200\n",
            "30/30 [==============================] - 4s 145ms/step - loss: 0.4847 - accuracy: 0.7865 - val_loss: 0.6295 - val_accuracy: 0.7390\n",
            "Epoch 187/200\n",
            "30/30 [==============================] - 4s 143ms/step - loss: 0.4634 - accuracy: 0.7995 - val_loss: 0.6430 - val_accuracy: 0.7279\n",
            "Epoch 188/200\n",
            "30/30 [==============================] - 4s 144ms/step - loss: 0.4588 - accuracy: 0.8094 - val_loss: 0.6059 - val_accuracy: 0.7353\n",
            "Epoch 189/200\n",
            "30/30 [==============================] - 4s 145ms/step - loss: 0.4585 - accuracy: 0.8045 - val_loss: 0.6244 - val_accuracy: 0.7243\n",
            "Epoch 190/200\n",
            "30/30 [==============================] - 4s 145ms/step - loss: 0.4573 - accuracy: 0.8100 - val_loss: 0.6582 - val_accuracy: 0.7132\n",
            "Epoch 191/200\n",
            "30/30 [==============================] - 4s 147ms/step - loss: 0.4672 - accuracy: 0.8038 - val_loss: 0.6263 - val_accuracy: 0.7353\n",
            "Epoch 192/200\n",
            "30/30 [==============================] - 4s 143ms/step - loss: 0.4508 - accuracy: 0.8113 - val_loss: 0.6876 - val_accuracy: 0.7206\n",
            "Epoch 193/200\n",
            "30/30 [==============================] - 4s 145ms/step - loss: 0.4537 - accuracy: 0.8020 - val_loss: 0.6185 - val_accuracy: 0.7426\n",
            "Epoch 194/200\n",
            "30/30 [==============================] - 4s 144ms/step - loss: 0.4575 - accuracy: 0.8131 - val_loss: 0.7091 - val_accuracy: 0.7243\n",
            "Epoch 195/200\n",
            "30/30 [==============================] - 4s 144ms/step - loss: 0.4510 - accuracy: 0.8106 - val_loss: 0.6698 - val_accuracy: 0.7169\n",
            "Epoch 196/200\n",
            "30/30 [==============================] - 4s 145ms/step - loss: 0.4721 - accuracy: 0.8007 - val_loss: 0.6502 - val_accuracy: 0.7353\n",
            "Epoch 197/200\n",
            "30/30 [==============================] - 4s 145ms/step - loss: 0.4595 - accuracy: 0.8057 - val_loss: 0.7062 - val_accuracy: 0.7059\n",
            "Epoch 198/200\n",
            "30/30 [==============================] - 4s 145ms/step - loss: 0.4496 - accuracy: 0.8057 - val_loss: 0.6041 - val_accuracy: 0.7426\n",
            "Epoch 199/200\n",
            "30/30 [==============================] - 4s 145ms/step - loss: 0.4771 - accuracy: 0.8162 - val_loss: 0.6071 - val_accuracy: 0.7537\n",
            "Epoch 200/200\n",
            "30/30 [==============================] - 4s 145ms/step - loss: 0.4369 - accuracy: 0.8069 - val_loss: 0.6304 - val_accuracy: 0.7463\n"
          ]
        }
      ],
      "source": [
        "# Create an Instance of Early Stopping Callback\n",
        "early_stopping_callback = keras.callbacks.EarlyStopping(monitor = 'accuracy',\n",
        "                                                        patience = 20,\n",
        "                                                        mode = 'min',\n",
        "                                                        restore_best_weights = True)\n",
        "# Compile the model and specify loss function, optimizer and metrics values to the model\n",
        "model.compile(loss = 'categorical_crossentropy',\n",
        "              optimizer= keras.optimizers.Adam(0.0005, decay=1e-4),\n",
        "              metrics=['accuracy'])\n",
        "# Start training the model.\n",
        "cnn_3d_model_training_history = model.fit(x = features_train,\n",
        "                                          y = labels_train,\n",
        "                                          epochs=200,\n",
        "                                          batch_size=54,\n",
        "                                          shuffle = True,\n",
        "                                          validation_data = (features_valid, labels_valid))\n",
        "                                          # callbacks = [early_stopping_callback])"
      ]
    },
    {
      "cell_type": "code",
      "execution_count": 13,
      "metadata": {
        "id": "3vimsgjjbXvL",
        "colab": {
          "base_uri": "https://localhost:8080/"
        },
        "outputId": "13d746cc-1ec5-461b-ec73-5c65e4a9f7b5"
      },
      "outputs": [
        {
          "output_type": "stream",
          "name": "stdout",
          "text": [
            "9/9 [==============================] - 1s 43ms/step - loss: 0.7900 - accuracy: 0.6421\n",
            "\n",
            "\n",
            "Train accuracy: 82.240 % || Test accuracy: 64.207 % || Val accuracy: 74.632 %\n",
            "Train loss: 0.405 || Test loss: 0.790 || Val loss: 0.630\n"
          ]
        }
      ],
      "source": [
        "model_evaluation_history = model.evaluate(features_test, labels_test)\n",
        "print('\\n')\n",
        "train_loss, train_acc = model.evaluate(features_train, labels_train, verbose=0)\n",
        "test_loss, test_acc = model.evaluate(features_test, labels_test, verbose=0)\n",
        "val_loss, val_acc = model.evaluate(features_valid, labels_valid, verbose=0)\n",
        "print(f'Train accuracy: {train_acc*100:.3f} % || Test accuracy: {test_acc*100:.3f} % || Val accuracy: {val_acc*100:.3f} %')\n",
        "print(f'Train loss: {train_loss:.3f} || Test loss: {test_loss:.3f} || Val loss: {val_loss:.3f}')"
      ]
    },
    {
      "cell_type": "code",
      "execution_count": 14,
      "metadata": {
        "id": "ivmaK9BlbnRQ"
      },
      "outputs": [],
      "source": [
        "# Get the loss and accuracy from model_evaluation_history.\n",
        "model_evaluation_loss, model_evaluation_accuracy = model_evaluation_history\n",
        " \n",
        "# Define the string date format.\n",
        "# Get the current Date and Time in a DateTime Object.\n",
        "# Convert the DateTime object to string according to the style mentioned in date_time_format string.\n",
        "date_time_format = '%Y_%m_%d__%H_%M_%S'\n",
        "current_date_time_dt = dt.datetime.now()\n",
        "current_date_time_string = dt.datetime.strftime(current_date_time_dt, date_time_format)\n",
        " \n",
        "# Define a useful name for our model to make it easy for us while navigating through multiple saved models.\n",
        "model_file_name = f'3D_CNN_model___Date_Time_{current_date_time_string}___Loss_{model_evaluation_loss}___Accuracy_{model_evaluation_accuracy}.h5'\n",
        "# Change dir\n",
        "gdrive_path = '/content/gdrive' + '/My Drive/247/Saved_models/'\n",
        "os.chdir(gdrive_path)\n",
        "# Create a floder for the model files\n",
        "!mkdir -p cnn_3d_{current_date_time_string}\n",
        "# Save your Model.\n",
        "model.save('convlstm_' + str(current_date_time_string) + '/' + model_file_name)\n",
        "# Save model weights\n",
        "model.save_weights('convlstm_' + str(current_date_time_string) + '/' + 'weights')"
      ]
    },
    {
      "cell_type": "code",
      "execution_count": 15,
      "metadata": {
        "id": "OwU8TwPrbsKB"
      },
      "outputs": [],
      "source": [
        "def plot_metric(model_training_history, metric_name_1, metric_name_2, plot_name):\n",
        "    '''\n",
        "    This function will plot the metrics passed to it in a graph.\n",
        "    Args:\n",
        "        model_training_history: A history object containing a record of training and validation \n",
        "                                loss values and metrics values at successive epochs\n",
        "        metric_name_1:          The name of the first metric that needs to be plotted in the graph.\n",
        "        metric_name_2:          The name of the second metric that needs to be plotted in the graph.\n",
        "        plot_name:              The title of the graph.\n",
        "    '''\n",
        "    \n",
        "    # Get metric values using metric names as identifiers.\n",
        "    metric_value_1 = model_training_history.history[metric_name_1]\n",
        "    metric_value_2 = model_training_history.history[metric_name_2]\n",
        "    \n",
        "    # Construct a range object which will be used as x-axis (horizontal plane) of the graph.\n",
        "    epochs = range(len(metric_value_1))\n",
        "\n",
        "    # Plot the Graph.\n",
        "    plt.plot(epochs, metric_value_1, 'blue', label = metric_name_1)\n",
        "    plt.plot(epochs, metric_value_2, 'red', label = metric_name_2)\n",
        "\n",
        "    # Add title to the plot.\n",
        "    plt.title(str(plot_name))\n",
        "\n",
        "    # Add legend to the plot.\n",
        "    plt.legend()"
      ]
    },
    {
      "cell_type": "code",
      "execution_count": 16,
      "metadata": {
        "id": "cvKY05ncbwof",
        "colab": {
          "base_uri": "https://localhost:8080/",
          "height": 281
        },
        "outputId": "12bbf341-f584-43a8-b290-4e12b7ec69a1"
      },
      "outputs": [
        {
          "output_type": "display_data",
          "data": {
            "text/plain": [
              "<Figure size 432x288 with 1 Axes>"
            ],
            "image/png": "[encoded data removed]"
          },
          "metadata": {
            "needs_background": "light"
          }
        }
      ],
      "source": [
        "plot_metric(cnn_3d_model_training_history, 'loss', 'val_loss', 'Total Loss vs Total Validation Loss')"
      ]
    },
    {
      "cell_type": "code",
      "execution_count": 17,
      "metadata": {
        "id": "o1iaaDHBb5i0",
        "colab": {
          "base_uri": "https://localhost:8080/",
          "height": 281
        },
        "outputId": "5f2dd5cb-a5bb-44cb-cbe0-482c338081e0"
      },
      "outputs": [
        {
          "output_type": "display_data",
          "data": {
            "text/plain": [
              "<Figure size 432x288 with 1 Axes>"
            ],
            "image/png": "[encoded data removed]"
          },
          "metadata": {
            "needs_background": "light"
          }
        }
      ],
      "source": [
        "plot_metric(cnn_3d_model_training_history, 'accuracy', 'val_accuracy', 'Total Accuracy vs Total Validation Accuracy') "
      ]
    }
  ],
  "metadata": {
    "accelerator": "GPU",
    "colab": {
      "background_execution": "on",
      "collapsed_sections": [],
      "machine_shape": "hm",
      "name": "3D_CNN.ipynb",
      "provenance": [],
      "authorship_tag": "ABX9TyPk9eGhnKlsL6iIY7ZVygpm",
      "include_colab_link": true
    },
    "kernelspec": {
      "display_name": "Python 3",
      "name": "python3"
    },
    "language_info": {
      "name": "python"
    }
  },
  "nbformat": 4,
  "nbformat_minor": 0
}